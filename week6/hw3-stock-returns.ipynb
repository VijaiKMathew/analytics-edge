{
 "cells": [
  {
   "cell_type": "code",
   "execution_count": 1,
   "metadata": {
    "collapsed": false
   },
   "outputs": [
    {
     "data": {
      "text/html": [
       "'LC_CTYPE=C;LC_NUMERIC=C;LC_TIME=C;LC_COLLATE=C;LC_MONETARY=C;LC_MESSAGES=en_US.UTF-8;LC_PAPER=en_US.UTF-8;LC_NAME=C;LC_ADDRESS=C;LC_TELEPHONE=C;LC_MEASUREMENT=en_US.UTF-8;LC_IDENTIFICATION=C'"
      ],
      "text/latex": [
       "'LC\\_CTYPE=C;LC\\_NUMERIC=C;LC\\_TIME=C;LC\\_COLLATE=C;LC\\_MONETARY=C;LC\\_MESSAGES=en\\_US.UTF-8;LC\\_PAPER=en\\_US.UTF-8;LC\\_NAME=C;LC\\_ADDRESS=C;LC\\_TELEPHONE=C;LC\\_MEASUREMENT=en\\_US.UTF-8;LC\\_IDENTIFICATION=C'"
      ],
      "text/markdown": [
       "'LC_CTYPE=C;LC_NUMERIC=C;LC_TIME=C;LC_COLLATE=C;LC_MONETARY=C;LC_MESSAGES=en_US.UTF-8;LC_PAPER=en_US.UTF-8;LC_NAME=C;LC_ADDRESS=C;LC_TELEPHONE=C;LC_MEASUREMENT=en_US.UTF-8;LC_IDENTIFICATION=C'"
      ],
      "text/plain": [
       "[1] \"LC_CTYPE=C;LC_NUMERIC=C;LC_TIME=C;LC_COLLATE=C;LC_MONETARY=C;LC_MESSAGES=en_US.UTF-8;LC_PAPER=en_US.UTF-8;LC_NAME=C;LC_ADDRESS=C;LC_TELEPHONE=C;LC_MEASUREMENT=en_US.UTF-8;LC_IDENTIFICATION=C\""
      ]
     },
     "metadata": {},
     "output_type": "display_data"
    }
   ],
   "source": [
    "options(device=pdf) # turn off flashy window on each block execution\n",
    "# options(repr.plot.width=6, repr.plot.height=4)\n",
    "Sys.setlocale(\"LC_ALL\", \"C\")\n",
    "initialWidth = getOption('width')\n",
    "options(width=80) # for old folks like me who can't see shit and set font large"
   ]
  },
  {
   "cell_type": "code",
   "execution_count": 3,
   "metadata": {
    "collapsed": false
   },
   "outputs": [
    {
     "name": "stdout",
     "output_type": "stream",
     "text": [
      "'data.frame':\t11580 obs. of  12 variables:\n",
      " $ ReturnJan  : num  0.0807 -0.0107 0.0477 -0.074 -0.031 ...\n",
      " $ ReturnFeb  : num  0.0663 0.1021 0.036 -0.0482 -0.2127 ...\n",
      " $ ReturnMar  : num  0.0329 0.1455 0.0397 0.0182 0.0915 ...\n",
      " $ ReturnApr  : num  0.1831 -0.0844 -0.1624 -0.0247 0.1893 ...\n",
      " $ ReturnMay  : num  0.13033 -0.3273 -0.14743 -0.00604 -0.15385 ...\n",
      " $ ReturnJune : num  -0.0176 -0.3593 0.0486 -0.0253 -0.1061 ...\n",
      " $ ReturnJuly : num  -0.0205 -0.0253 -0.1354 -0.094 0.3553 ...\n",
      " $ ReturnAug  : num  0.0247 0.2113 0.0334 0.0953 0.0568 ...\n",
      " $ ReturnSep  : num  -0.0204 -0.58 0 0.0567 0.0336 ...\n",
      " $ ReturnOct  : num  -0.1733 -0.2671 0.0917 -0.0963 0.0363 ...\n",
      " $ ReturnNov  : num  -0.0254 -0.1512 -0.0596 -0.0405 -0.0853 ...\n",
      " $ PositiveDec: int  0 0 0 1 1 1 1 0 0 0 ...\n"
     ]
    }
   ],
   "source": [
    "stocks = read.csv('data/StocksCluster.csv.xz')\n",
    "str(stocks)"
   ]
  },
  {
   "cell_type": "code",
   "execution_count": 4,
   "metadata": {
    "collapsed": false
   },
   "outputs": [
    {
     "data": {
      "text/plain": [
       "\n",
       "   0    1 \n",
       "5256 6324 "
      ]
     },
     "metadata": {},
     "output_type": "display_data"
    }
   ],
   "source": [
    "table(stocks$PositiveDec)"
   ]
  },
  {
   "cell_type": "code",
   "execution_count": 6,
   "metadata": {
    "collapsed": false
   },
   "outputs": [
    {
     "data": {
      "text/html": [
       "0.546113989637306"
      ],
      "text/latex": [
       "0.546113989637306"
      ],
      "text/markdown": [
       "0.546113989637306"
      ],
      "text/plain": [
       "[1] 0.546114"
      ]
     },
     "metadata": {},
     "output_type": "display_data"
    },
    {
     "data": {
      "text/html": [
       "0.546113989637306"
      ],
      "text/latex": [
       "0.546113989637306"
      ],
      "text/markdown": [
       "0.546113989637306"
      ],
      "text/plain": [
       "[1] 0.546114"
      ]
     },
     "metadata": {},
     "output_type": "display_data"
    }
   ],
   "source": [
    "6324/(6324+5256)\n",
    "mean(stocks$PositiveDec)"
   ]
  },
  {
   "cell_type": "code",
   "execution_count": 9,
   "metadata": {
    "collapsed": false
   },
   "outputs": [
    {
     "data": {
      "text/html": [
       "<ol class=list-inline>\n",
       "\t<li>0.000713755829037745</li>\n",
       "\t<li>0.000713755829037745</li>\n",
       "\t<li>0.000740713888793172</li>\n",
       "\t<li>0.000740713888793172</li>\n",
       "\t<li>0.00337415970672835</li>\n",
       "\t<li>0.00337415970672835</li>\n",
       "\t<li>0.00389278936721106</li>\n",
       "\t<li>0.00389278936721106</li>\n",
       "\t<li>0.0041669657255641</li>\n",
       "\t<li>0.0041669657255641</li>\n",
       "\t<li>0.00472851816210438</li>\n",
       "\t<li>0.00472851816210438</li>\n",
       "\t<li>0.00972628763899142</li>\n",
       "\t<li>0.00972628763899142</li>\n",
       "\t<li>0.0107105260352835</li>\n",
       "\t<li>0.0107105260352835</li>\n",
       "\t<li>0.0110277521891467</li>\n",
       "\t<li>0.0110277521891467</li>\n",
       "\t<li>0.0119237577353289</li>\n",
       "\t<li>0.0119237577353289</li>\n",
       "\t<li>0.0171667279196336</li>\n",
       "\t<li>0.0171667279196336</li>\n",
       "\t<li>0.0197197997571471</li>\n",
       "\t<li>0.0197197997571471</li>\n",
       "\t<li>0.0210745388011446</li>\n",
       "\t<li>0.0210745388011446</li>\n",
       "\t<li>0.021962862273366</li>\n",
       "\t<li>0.021962862273366</li>\n",
       "\t<li>0.0220053995350278</li>\n",
       "\t<li>0.0220053995350278</li>\n",
       "\t<li>0.0224086612225876</li>\n",
       "\t<li>0.0224086612225876</li>\n",
       "\t<li>0.0226359936356001</li>\n",
       "\t<li>0.0226359936356001</li>\n",
       "\t<li>0.0227920187246281</li>\n",
       "\t<li>0.0227920187246281</li>\n",
       "\t<li>0.0234097450840245</li>\n",
       "\t<li>0.0234097450840245</li>\n",
       "\t<li>0.0264371526294706</li>\n",
       "\t<li>0.0264371526294706</li>\n",
       "\t<li>0.0289209718220434</li>\n",
       "\t<li>0.0289209718220434</li>\n",
       "\t<li>0.0291525995563477</li>\n",
       "\t<li>0.0291525995563477</li>\n",
       "\t<li>0.0317618366115435</li>\n",
       "\t<li>0.0317618366115435</li>\n",
       "\t<li>0.0331256580042424</li>\n",
       "\t<li>0.0331256580042424</li>\n",
       "\t<li>0.0373235348774903</li>\n",
       "\t<li>0.0373235348774903</li>\n",
       "\t<li>0.0376780059738025</li>\n",
       "\t<li>0.0376780059738025</li>\n",
       "\t<li>0.038173183907419</li>\n",
       "\t<li>0.038173183907419</li>\n",
       "\t<li>0.0416302863147643</li>\n",
       "\t<li>0.0416302863147643</li>\n",
       "\t<li>0.0435017706470365</li>\n",
       "\t<li>0.0435017706470365</li>\n",
       "\t<li>0.0444114168206573</li>\n",
       "\t<li>0.0444114168206573</li>\n",
       "\t<li>0.0447472692158743</li>\n",
       "\t<li>0.0447472692158743</li>\n",
       "\t<li>0.0480465902082418</li>\n",
       "\t<li>0.0480465902082418</li>\n",
       "\t<li>0.0483738369012076</li>\n",
       "\t<li>0.0483738369012076</li>\n",
       "\t<li>0.0485400253647801</li>\n",
       "\t<li>0.0485400253647801</li>\n",
       "\t<li>0.0517560510181903</li>\n",
       "\t<li>0.0517560510181903</li>\n",
       "\t<li>0.0525749562816702</li>\n",
       "\t<li>0.0525749562816702</li>\n",
       "\t<li>0.0547089087613605</li>\n",
       "\t<li>0.0547089087613605</li>\n",
       "\t<li>0.0580792362175669</li>\n",
       "\t<li>0.0580792362175669</li>\n",
       "\t<li>0.0582019336365801</li>\n",
       "\t<li>0.0582019336365801</li>\n",
       "\t<li>0.0617785093728109</li>\n",
       "\t<li>0.0617785093728109</li>\n",
       "\t<li>0.0623465558789451</li>\n",
       "\t<li>0.0623465558789451</li>\n",
       "\t<li>0.0638225039221518</li>\n",
       "\t<li>0.0638225039221518</li>\n",
       "\t<li>0.0652705412973485</li>\n",
       "\t<li>0.0652705412973485</li>\n",
       "\t<li>0.066774583067731</li>\n",
       "\t<li>0.066774583067731</li>\n",
       "\t<li>0.0676323332733198</li>\n",
       "\t<li>0.0676323332733198</li>\n",
       "\t<li>0.0689478037162552</li>\n",
       "\t<li>0.0689478037162552</li>\n",
       "\t<li>0.0743642096708865</li>\n",
       "\t<li>0.0743642096708865</li>\n",
       "\t<li>0.0755945614104149</li>\n",
       "\t<li>0.0755945614104149</li>\n",
       "\t<li>0.0765183266866572</li>\n",
       "\t<li>0.0765183266866572</li>\n",
       "\t<li>0.0806319317301162</li>\n",
       "\t<li>0.0806319317301162</li>\n",
       "\t<li>0.0814297649789913</li>\n",
       "\t<li>0.0814297649789913</li>\n",
       "\t<li>0.0859054861675458</li>\n",
       "\t<li>0.0859054861675458</li>\n",
       "\t<li>0.0873242671628062</li>\n",
       "\t<li>0.0873242671628062</li>\n",
       "\t<li>0.0904967978082892</li>\n",
       "\t<li>0.0904967978082892</li>\n",
       "\t<li>0.0908502641893604</li>\n",
       "\t<li>0.0908502641893604</li>\n",
       "\t<li>0.0922383068359878</li>\n",
       "\t<li>0.0922383068359878</li>\n",
       "\t<li>0.0943535281161153</li>\n",
       "\t<li>0.0943535281161153</li>\n",
       "\t<li>0.0955209197412307</li>\n",
       "\t<li>0.0955209197412307</li>\n",
       "\t<li>0.116489034470395</li>\n",
       "\t<li>0.116489034470395</li>\n",
       "\t<li>0.131559786257804</li>\n",
       "\t<li>0.131559786257804</li>\n",
       "\t<li>0.142977228620078</li>\n",
       "\t<li>0.142977228620078</li>\n",
       "\t<li>0.154658281491813</li>\n",
       "\t<li>0.154658281491813</li>\n",
       "\t<li>0.155983263045423</li>\n",
       "\t<li>0.155983263045423</li>\n",
       "\t<li>0.169994483267404</li>\n",
       "\t<li>0.169994483267404</li>\n",
       "\t<li>0.191351923912839</li>\n",
       "\t<li>0.191351923912839</li>\n",
       "\t<li>0.191672785553102</li>\n",
       "\t<li>0.191672785553102</li>\n",
       "\t<li>1</li>\n",
       "\t<li>1</li>\n",
       "\t<li>1</li>\n",
       "\t<li>1</li>\n",
       "\t<li>1</li>\n",
       "\t<li>1</li>\n",
       "\t<li>1</li>\n",
       "\t<li>1</li>\n",
       "\t<li>1</li>\n",
       "\t<li>1</li>\n",
       "\t<li>1</li>\n",
       "\t<li>1</li>\n",
       "</ol>\n"
      ],
      "text/latex": [
       "\\begin{enumerate*}\n",
       "\\item 0.000713755829037745\n",
       "\\item 0.000713755829037745\n",
       "\\item 0.000740713888793172\n",
       "\\item 0.000740713888793172\n",
       "\\item 0.00337415970672835\n",
       "\\item 0.00337415970672835\n",
       "\\item 0.00389278936721106\n",
       "\\item 0.00389278936721106\n",
       "\\item 0.0041669657255641\n",
       "\\item 0.0041669657255641\n",
       "\\item 0.00472851816210438\n",
       "\\item 0.00472851816210438\n",
       "\\item 0.00972628763899142\n",
       "\\item 0.00972628763899142\n",
       "\\item 0.0107105260352835\n",
       "\\item 0.0107105260352835\n",
       "\\item 0.0110277521891467\n",
       "\\item 0.0110277521891467\n",
       "\\item 0.0119237577353289\n",
       "\\item 0.0119237577353289\n",
       "\\item 0.0171667279196336\n",
       "\\item 0.0171667279196336\n",
       "\\item 0.0197197997571471\n",
       "\\item 0.0197197997571471\n",
       "\\item 0.0210745388011446\n",
       "\\item 0.0210745388011446\n",
       "\\item 0.021962862273366\n",
       "\\item 0.021962862273366\n",
       "\\item 0.0220053995350278\n",
       "\\item 0.0220053995350278\n",
       "\\item 0.0224086612225876\n",
       "\\item 0.0224086612225876\n",
       "\\item 0.0226359936356001\n",
       "\\item 0.0226359936356001\n",
       "\\item 0.0227920187246281\n",
       "\\item 0.0227920187246281\n",
       "\\item 0.0234097450840245\n",
       "\\item 0.0234097450840245\n",
       "\\item 0.0264371526294706\n",
       "\\item 0.0264371526294706\n",
       "\\item 0.0289209718220434\n",
       "\\item 0.0289209718220434\n",
       "\\item 0.0291525995563477\n",
       "\\item 0.0291525995563477\n",
       "\\item 0.0317618366115435\n",
       "\\item 0.0317618366115435\n",
       "\\item 0.0331256580042424\n",
       "\\item 0.0331256580042424\n",
       "\\item 0.0373235348774903\n",
       "\\item 0.0373235348774903\n",
       "\\item 0.0376780059738025\n",
       "\\item 0.0376780059738025\n",
       "\\item 0.038173183907419\n",
       "\\item 0.038173183907419\n",
       "\\item 0.0416302863147643\n",
       "\\item 0.0416302863147643\n",
       "\\item 0.0435017706470365\n",
       "\\item 0.0435017706470365\n",
       "\\item 0.0444114168206573\n",
       "\\item 0.0444114168206573\n",
       "\\item 0.0447472692158743\n",
       "\\item 0.0447472692158743\n",
       "\\item 0.0480465902082418\n",
       "\\item 0.0480465902082418\n",
       "\\item 0.0483738369012076\n",
       "\\item 0.0483738369012076\n",
       "\\item 0.0485400253647801\n",
       "\\item 0.0485400253647801\n",
       "\\item 0.0517560510181903\n",
       "\\item 0.0517560510181903\n",
       "\\item 0.0525749562816702\n",
       "\\item 0.0525749562816702\n",
       "\\item 0.0547089087613605\n",
       "\\item 0.0547089087613605\n",
       "\\item 0.0580792362175669\n",
       "\\item 0.0580792362175669\n",
       "\\item 0.0582019336365801\n",
       "\\item 0.0582019336365801\n",
       "\\item 0.0617785093728109\n",
       "\\item 0.0617785093728109\n",
       "\\item 0.0623465558789451\n",
       "\\item 0.0623465558789451\n",
       "\\item 0.0638225039221518\n",
       "\\item 0.0638225039221518\n",
       "\\item 0.0652705412973485\n",
       "\\item 0.0652705412973485\n",
       "\\item 0.066774583067731\n",
       "\\item 0.066774583067731\n",
       "\\item 0.0676323332733198\n",
       "\\item 0.0676323332733198\n",
       "\\item 0.0689478037162552\n",
       "\\item 0.0689478037162552\n",
       "\\item 0.0743642096708865\n",
       "\\item 0.0743642096708865\n",
       "\\item 0.0755945614104149\n",
       "\\item 0.0755945614104149\n",
       "\\item 0.0765183266866572\n",
       "\\item 0.0765183266866572\n",
       "\\item 0.0806319317301162\n",
       "\\item 0.0806319317301162\n",
       "\\item 0.0814297649789913\n",
       "\\item 0.0814297649789913\n",
       "\\item 0.0859054861675458\n",
       "\\item 0.0859054861675458\n",
       "\\item 0.0873242671628062\n",
       "\\item 0.0873242671628062\n",
       "\\item 0.0904967978082892\n",
       "\\item 0.0904967978082892\n",
       "\\item 0.0908502641893604\n",
       "\\item 0.0908502641893604\n",
       "\\item 0.0922383068359878\n",
       "\\item 0.0922383068359878\n",
       "\\item 0.0943535281161153\n",
       "\\item 0.0943535281161153\n",
       "\\item 0.0955209197412307\n",
       "\\item 0.0955209197412307\n",
       "\\item 0.116489034470395\n",
       "\\item 0.116489034470395\n",
       "\\item 0.131559786257804\n",
       "\\item 0.131559786257804\n",
       "\\item 0.142977228620078\n",
       "\\item 0.142977228620078\n",
       "\\item 0.154658281491813\n",
       "\\item 0.154658281491813\n",
       "\\item 0.155983263045423\n",
       "\\item 0.155983263045423\n",
       "\\item 0.169994483267404\n",
       "\\item 0.169994483267404\n",
       "\\item 0.191351923912839\n",
       "\\item 0.191351923912839\n",
       "\\item 0.191672785553102\n",
       "\\item 0.191672785553102\n",
       "\\item 1\n",
       "\\item 1\n",
       "\\item 1\n",
       "\\item 1\n",
       "\\item 1\n",
       "\\item 1\n",
       "\\item 1\n",
       "\\item 1\n",
       "\\item 1\n",
       "\\item 1\n",
       "\\item 1\n",
       "\\item 1\n",
       "\\end{enumerate*}\n"
      ],
      "text/markdown": [
       "1. 0.000713755829037745\n",
       "2. 0.000713755829037745\n",
       "3. 0.000740713888793172\n",
       "4. 0.000740713888793172\n",
       "5. 0.00337415970672835\n",
       "6. 0.00337415970672835\n",
       "7. 0.00389278936721106\n",
       "8. 0.00389278936721106\n",
       "9. 0.0041669657255641\n",
       "10. 0.0041669657255641\n",
       "11. 0.00472851816210438\n",
       "12. 0.00472851816210438\n",
       "13. 0.00972628763899142\n",
       "14. 0.00972628763899142\n",
       "15. 0.0107105260352835\n",
       "16. 0.0107105260352835\n",
       "17. 0.0110277521891467\n",
       "18. 0.0110277521891467\n",
       "19. 0.0119237577353289\n",
       "20. 0.0119237577353289\n",
       "21. 0.0171667279196336\n",
       "22. 0.0171667279196336\n",
       "23. 0.0197197997571471\n",
       "24. 0.0197197997571471\n",
       "25. 0.0210745388011446\n",
       "26. 0.0210745388011446\n",
       "27. 0.021962862273366\n",
       "28. 0.021962862273366\n",
       "29. 0.0220053995350278\n",
       "30. 0.0220053995350278\n",
       "31. 0.0224086612225876\n",
       "32. 0.0224086612225876\n",
       "33. 0.0226359936356001\n",
       "34. 0.0226359936356001\n",
       "35. 0.0227920187246281\n",
       "36. 0.0227920187246281\n",
       "37. 0.0234097450840245\n",
       "38. 0.0234097450840245\n",
       "39. 0.0264371526294706\n",
       "40. 0.0264371526294706\n",
       "41. 0.0289209718220434\n",
       "42. 0.0289209718220434\n",
       "43. 0.0291525995563477\n",
       "44. 0.0291525995563477\n",
       "45. 0.0317618366115435\n",
       "46. 0.0317618366115435\n",
       "47. 0.0331256580042424\n",
       "48. 0.0331256580042424\n",
       "49. 0.0373235348774903\n",
       "50. 0.0373235348774903\n",
       "51. 0.0376780059738025\n",
       "52. 0.0376780059738025\n",
       "53. 0.038173183907419\n",
       "54. 0.038173183907419\n",
       "55. 0.0416302863147643\n",
       "56. 0.0416302863147643\n",
       "57. 0.0435017706470365\n",
       "58. 0.0435017706470365\n",
       "59. 0.0444114168206573\n",
       "60. 0.0444114168206573\n",
       "61. 0.0447472692158743\n",
       "62. 0.0447472692158743\n",
       "63. 0.0480465902082418\n",
       "64. 0.0480465902082418\n",
       "65. 0.0483738369012076\n",
       "66. 0.0483738369012076\n",
       "67. 0.0485400253647801\n",
       "68. 0.0485400253647801\n",
       "69. 0.0517560510181903\n",
       "70. 0.0517560510181903\n",
       "71. 0.0525749562816702\n",
       "72. 0.0525749562816702\n",
       "73. 0.0547089087613605\n",
       "74. 0.0547089087613605\n",
       "75. 0.0580792362175669\n",
       "76. 0.0580792362175669\n",
       "77. 0.0582019336365801\n",
       "78. 0.0582019336365801\n",
       "79. 0.0617785093728109\n",
       "80. 0.0617785093728109\n",
       "81. 0.0623465558789451\n",
       "82. 0.0623465558789451\n",
       "83. 0.0638225039221518\n",
       "84. 0.0638225039221518\n",
       "85. 0.0652705412973485\n",
       "86. 0.0652705412973485\n",
       "87. 0.066774583067731\n",
       "88. 0.066774583067731\n",
       "89. 0.0676323332733198\n",
       "90. 0.0676323332733198\n",
       "91. 0.0689478037162552\n",
       "92. 0.0689478037162552\n",
       "93. 0.0743642096708865\n",
       "94. 0.0743642096708865\n",
       "95. 0.0755945614104149\n",
       "96. 0.0755945614104149\n",
       "97. 0.0765183266866572\n",
       "98. 0.0765183266866572\n",
       "99. 0.0806319317301162\n",
       "100. 0.0806319317301162\n",
       "101. 0.0814297649789913\n",
       "102. 0.0814297649789913\n",
       "103. 0.0859054861675458\n",
       "104. 0.0859054861675458\n",
       "105. 0.0873242671628062\n",
       "106. 0.0873242671628062\n",
       "107. 0.0904967978082892\n",
       "108. 0.0904967978082892\n",
       "109. 0.0908502641893604\n",
       "110. 0.0908502641893604\n",
       "111. 0.0922383068359878\n",
       "112. 0.0922383068359878\n",
       "113. 0.0943535281161153\n",
       "114. 0.0943535281161153\n",
       "115. 0.0955209197412307\n",
       "116. 0.0955209197412307\n",
       "117. 0.116489034470395\n",
       "118. 0.116489034470395\n",
       "119. 0.131559786257804\n",
       "120. 0.131559786257804\n",
       "121. 0.142977228620078\n",
       "122. 0.142977228620078\n",
       "123. 0.154658281491813\n",
       "124. 0.154658281491813\n",
       "125. 0.155983263045423\n",
       "126. 0.155983263045423\n",
       "127. 0.169994483267404\n",
       "128. 0.169994483267404\n",
       "129. 0.191351923912839\n",
       "130. 0.191351923912839\n",
       "131. 0.191672785553102\n",
       "132. 0.191672785553102\n",
       "133. 1\n",
       "134. 1\n",
       "135. 1\n",
       "136. 1\n",
       "137. 1\n",
       "138. 1\n",
       "139. 1\n",
       "140. 1\n",
       "141. 1\n",
       "142. 1\n",
       "143. 1\n",
       "144. 1\n",
       "\n",
       "\n"
      ],
      "text/plain": [
       "  [1] 0.0007137558 0.0007137558 0.0007407139 0.0007407139 0.0033741597\n",
       "  [6] 0.0033741597 0.0038927894 0.0038927894 0.0041669657 0.0041669657\n",
       " [11] 0.0047285182 0.0047285182 0.0097262876 0.0097262876 0.0107105260\n",
       " [16] 0.0107105260 0.0110277522 0.0110277522 0.0119237577 0.0119237577\n",
       " [21] 0.0171667279 0.0171667279 0.0197197998 0.0197197998 0.0210745388\n",
       " [26] 0.0210745388 0.0219628623 0.0219628623 0.0220053995 0.0220053995\n",
       " [31] 0.0224086612 0.0224086612 0.0226359936 0.0226359936 0.0227920187\n",
       " [36] 0.0227920187 0.0234097451 0.0234097451 0.0264371526 0.0264371526\n",
       " [41] 0.0289209718 0.0289209718 0.0291525996 0.0291525996 0.0317618366\n",
       " [46] 0.0317618366 0.0331256580 0.0331256580 0.0373235349 0.0373235349\n",
       " [51] 0.0376780060 0.0376780060 0.0381731839 0.0381731839 0.0416302863\n",
       " [56] 0.0416302863 0.0435017706 0.0435017706 0.0444114168 0.0444114168\n",
       " [61] 0.0447472692 0.0447472692 0.0480465902 0.0480465902 0.0483738369\n",
       " [66] 0.0483738369 0.0485400254 0.0485400254 0.0517560510 0.0517560510\n",
       " [71] 0.0525749563 0.0525749563 0.0547089088 0.0547089088 0.0580792362\n",
       " [76] 0.0580792362 0.0582019336 0.0582019336 0.0617785094 0.0617785094\n",
       " [81] 0.0623465559 0.0623465559 0.0638225039 0.0638225039 0.0652705413\n",
       " [86] 0.0652705413 0.0667745831 0.0667745831 0.0676323333 0.0676323333\n",
       " [91] 0.0689478037 0.0689478037 0.0743642097 0.0743642097 0.0755945614\n",
       " [96] 0.0755945614 0.0765183267 0.0765183267 0.0806319317 0.0806319317\n",
       "[101] 0.0814297650 0.0814297650 0.0859054862 0.0859054862 0.0873242672\n",
       "[106] 0.0873242672 0.0904967978 0.0904967978 0.0908502642 0.0908502642\n",
       "[111] 0.0922383068 0.0922383068 0.0943535281 0.0943535281 0.0955209197\n",
       "[116] 0.0955209197 0.1164890345 0.1164890345 0.1315597863 0.1315597863\n",
       "[121] 0.1429772286 0.1429772286 0.1546582815 0.1546582815 0.1559832630\n",
       "[126] 0.1559832630 0.1699944833 0.1699944833 0.1913519239 0.1913519239\n",
       "[131] 0.1916727856 0.1916727856 1.0000000000 1.0000000000 1.0000000000\n",
       "[136] 1.0000000000 1.0000000000 1.0000000000 1.0000000000 1.0000000000\n",
       "[141] 1.0000000000 1.0000000000 1.0000000000 1.0000000000"
      ]
     },
     "metadata": {},
     "output_type": "display_data"
    }
   ],
   "source": [
    "sort(abs(cor(stocks)))"
   ]
  },
  {
   "cell_type": "code",
   "execution_count": 11,
   "metadata": {
    "collapsed": false
   },
   "outputs": [
    {
     "data": {
      "text/html": [
       "<dl class=dl-horizontal>\n",
       "\t<dt>ReturnSep</dt>\n",
       "\t\t<dd>-0.0147207680320706</dd>\n",
       "\t<dt>ReturnFeb</dt>\n",
       "\t\t<dd>-0.00760478374652837</dd>\n",
       "\t<dt>ReturnJuly</dt>\n",
       "\t\t<dd>0.0030508630465198</dd>\n",
       "\t<dt>ReturnOct</dt>\n",
       "\t\t<dd>0.005650844223958</dd>\n",
       "\t<dt>ReturnJune</dt>\n",
       "\t\t<dd>0.005937902151085</dd>\n",
       "\t<dt>ReturnNov</dt>\n",
       "\t\t<dd>0.0113874403181846</dd>\n",
       "\t<dt>ReturnJan</dt>\n",
       "\t\t<dd>0.0126316020628346</dd>\n",
       "\t<dt>ReturnAug</dt>\n",
       "\t\t<dd>0.0161982647881778</dd>\n",
       "\t<dt>ReturnMar</dt>\n",
       "\t\t<dd>0.0194023361995022</dd>\n",
       "\t<dt>ReturnMay</dt>\n",
       "\t\t<dd>0.0247365913897302</dd>\n",
       "\t<dt>ReturnApr</dt>\n",
       "\t\t<dd>0.0263081470836858</dd>\n",
       "\t<dt>PositiveDec</dt>\n",
       "\t\t<dd>0.546113989637306</dd>\n",
       "</dl>\n"
      ],
      "text/latex": [
       "\\begin{description*}\n",
       "\\item[ReturnSep] -0.0147207680320706\n",
       "\\item[ReturnFeb] -0.00760478374652837\n",
       "\\item[ReturnJuly] 0.0030508630465198\n",
       "\\item[ReturnOct] 0.005650844223958\n",
       "\\item[ReturnJune] 0.005937902151085\n",
       "\\item[ReturnNov] 0.0113874403181846\n",
       "\\item[ReturnJan] 0.0126316020628346\n",
       "\\item[ReturnAug] 0.0161982647881778\n",
       "\\item[ReturnMar] 0.0194023361995022\n",
       "\\item[ReturnMay] 0.0247365913897302\n",
       "\\item[ReturnApr] 0.0263081470836858\n",
       "\\item[PositiveDec] 0.546113989637306\n",
       "\\end{description*}\n"
      ],
      "text/markdown": [
       "ReturnSep\n",
       ":   -0.0147207680320706ReturnFeb\n",
       ":   -0.00760478374652837ReturnJuly\n",
       ":   0.0030508630465198ReturnOct\n",
       ":   0.005650844223958ReturnJune\n",
       ":   0.005937902151085ReturnNov\n",
       ":   0.0113874403181846ReturnJan\n",
       ":   0.0126316020628346ReturnAug\n",
       ":   0.0161982647881778ReturnMar\n",
       ":   0.0194023361995022ReturnMay\n",
       ":   0.0247365913897302ReturnApr\n",
       ":   0.0263081470836858PositiveDec\n",
       ":   0.546113989637306\n",
       "\n"
      ],
      "text/plain": [
       "   ReturnSep    ReturnFeb   ReturnJuly    ReturnOct   ReturnJune    ReturnNov \n",
       "-0.014720768 -0.007604784  0.003050863  0.005650844  0.005937902  0.011387440 \n",
       "   ReturnJan    ReturnAug    ReturnMar    ReturnMay    ReturnApr  PositiveDec \n",
       " 0.012631602  0.016198265  0.019402336  0.024736591  0.026308147  0.546113990 "
      ]
     },
     "metadata": {},
     "output_type": "display_data"
    }
   ],
   "source": [
    "sort(colMeans(stocks))"
   ]
  },
  {
   "cell_type": "code",
   "execution_count": 30,
   "metadata": {
    "collapsed": false
   },
   "outputs": [
    {
     "data": {
      "text/plain": [
       "   \n",
       "    FALSE TRUE\n",
       "  0   990 2689\n",
       "  1   787 3640"
      ]
     },
     "metadata": {},
     "output_type": "display_data"
    },
    {
     "data": {
      "text/html": [
       "0.571181840611892"
      ],
      "text/latex": [
       "0.571181840611892"
      ],
      "text/markdown": [
       "0.571181840611892"
      ],
      "text/plain": [
       "[1] 0.5711818"
      ]
     },
     "metadata": {},
     "output_type": "display_data"
    }
   ],
   "source": [
    "library(caTools)\n",
    "set.seed(144)\n",
    "spl = sample.split(stocks$PositiveDec, SplitRatio=0.7)\n",
    "train = subset(stocks, spl==T)\n",
    "test = subset(stocks, spl==F)\n",
    "\n",
    "StocksModel = glm(PositiveDec ~ ., data=train,\n",
    "                  family='binomial')\n",
    "pred = predict(StocksModel, type='response')\n",
    "t = table(train$PositiveDec, pred > 0.5)\n",
    "t\n",
    "sum(diag(t))/sum(t)"
   ]
  },
  {
   "cell_type": "code",
   "execution_count": 31,
   "metadata": {
    "collapsed": false
   },
   "outputs": [
    {
     "data": {
      "text/plain": [
       "   \n",
       "    FALSE TRUE\n",
       "  0   417 1160\n",
       "  1   344 1553"
      ]
     },
     "metadata": {},
     "output_type": "display_data"
    },
    {
     "data": {
      "text/html": [
       "0.567069660333909"
      ],
      "text/latex": [
       "0.567069660333909"
      ],
      "text/markdown": [
       "0.567069660333909"
      ],
      "text/plain": [
       "[1] 0.5670697"
      ]
     },
     "metadata": {},
     "output_type": "display_data"
    }
   ],
   "source": [
    "pred2 = predict(StocksModel, newdata=test, type='response')\n",
    "t = table(test$PositiveDec, pred2 > 0.5)\n",
    "t\n",
    "sum(diag(t))/sum(t)"
   ]
  },
  {
   "cell_type": "code",
   "execution_count": 33,
   "metadata": {
    "collapsed": false
   },
   "outputs": [
    {
     "data": {
      "text/plain": [
       "\n",
       "   0    1 \n",
       "1577 1897 "
      ]
     },
     "metadata": {},
     "output_type": "display_data"
    },
    {
     "data": {
      "text/html": [
       "0.546056419113414"
      ],
      "text/latex": [
       "0.546056419113414"
      ],
      "text/markdown": [
       "0.546056419113414"
      ],
      "text/plain": [
       "[1] 0.5460564"
      ]
     },
     "metadata": {},
     "output_type": "display_data"
    }
   ],
   "source": [
    "t = table(test$PositiveDec)\n",
    "t\n",
    "max(t)/sum(t)"
   ]
  },
  {
   "cell_type": "code",
   "execution_count": 34,
   "metadata": {
    "collapsed": true
   },
   "outputs": [],
   "source": [
    "limitedTrain = train\n",
    "limitedTrain$PositiveDec = NULL\n",
    "limitedTest = test\n",
    "limitedTest$PositiveDec = NULL"
   ]
  },
  {
   "cell_type": "code",
   "execution_count": 35,
   "metadata": {
    "collapsed": false,
    "scrolled": false
   },
   "outputs": [
    {
     "name": "stderr",
     "output_type": "stream",
     "text": [
      "Loading required package: lattice\n"
     ]
    },
    {
     "data": {
      "text/plain": [
       "   ReturnJan          ReturnFeb          ReturnMar          ReturnApr      \n",
       " Min.   :-4.57682   Min.   :-3.43004   Min.   :-4.54609   Min.   :-5.0227  \n",
       " 1st Qu.:-0.48271   1st Qu.:-0.35589   1st Qu.:-0.40758   1st Qu.:-0.4757  \n",
       " Median :-0.07055   Median :-0.01875   Median :-0.05778   Median :-0.1104  \n",
       " Mean   : 0.00000   Mean   : 0.00000   Mean   : 0.00000   Mean   : 0.0000  \n",
       " 3rd Qu.: 0.35898   3rd Qu.: 0.25337   3rd Qu.: 0.36106   3rd Qu.: 0.3400  \n",
       " Max.   :18.06234   Max.   :34.92751   Max.   :24.77296   Max.   :14.6959  \n",
       "   ReturnMay          ReturnJune         ReturnJuly         ReturnAug       \n",
       " Min.   :-4.96759   Min.   :-4.82957   Min.   :-5.19139   Min.   :-5.60378  \n",
       " 1st Qu.:-0.43045   1st Qu.:-0.45602   1st Qu.:-0.51832   1st Qu.:-0.47163  \n",
       " Median :-0.06983   Median :-0.04354   Median :-0.02372   Median :-0.07393  \n",
       " Mean   : 0.00000   Mean   : 0.00000   Mean   : 0.00000   Mean   : 0.00000  \n",
       " 3rd Qu.: 0.35906   3rd Qu.: 0.37273   3rd Qu.: 0.47735   3rd Qu.: 0.39967  \n",
       " Max.   :42.69158   Max.   :10.84515   Max.   :17.33975   Max.   :27.14273  \n",
       "   ReturnSep          ReturnOct          ReturnNov       \n",
       " Min.   :-5.47078   Min.   :-3.53719   Min.   :-4.31684  \n",
       " 1st Qu.:-0.39604   1st Qu.:-0.42176   1st Qu.:-0.43564  \n",
       " Median : 0.04767   Median :-0.01891   Median :-0.01878  \n",
       " Mean   : 0.00000   Mean   : 0.00000   Mean   : 0.00000  \n",
       " 3rd Qu.: 0.42287   3rd Qu.: 0.37451   3rd Qu.: 0.42560  \n",
       " Max.   :39.05435   Max.   :31.25996   Max.   :17.18255  "
      ]
     },
     "metadata": {},
     "output_type": "display_data"
    },
    {
     "data": {
      "text/plain": [
       "   ReturnJan           ReturnFeb           ReturnMar          ReturnApr       \n",
       " Min.   :-3.743836   Min.   :-3.251044   Min.   :-4.07731   Min.   :-4.47865  \n",
       " 1st Qu.:-0.485690   1st Qu.:-0.348951   1st Qu.:-0.40662   1st Qu.:-0.51121  \n",
       " Median :-0.066856   Median :-0.006860   Median :-0.05674   Median :-0.11414  \n",
       " Mean   :-0.000419   Mean   :-0.003862   Mean   : 0.00583   Mean   :-0.03638  \n",
       " 3rd Qu.: 0.357729   3rd Qu.: 0.264647   3rd Qu.: 0.35653   3rd Qu.: 0.32742  \n",
       " Max.   : 8.412973   Max.   : 9.552365   Max.   : 9.00982   Max.   : 6.84589  \n",
       "   ReturnMay          ReturnJune         ReturnJuly          ReturnAug       \n",
       " Min.   :-5.84445   Min.   :-4.73628   Min.   :-5.201454   Min.   :-4.62097  \n",
       " 1st Qu.:-0.43819   1st Qu.:-0.44968   1st Qu.:-0.512039   1st Qu.:-0.51546  \n",
       " Median :-0.05346   Median :-0.02678   Median :-0.026576   Median :-0.10277  \n",
       " Mean   : 0.02651   Mean   : 0.04315   Mean   : 0.006016   Mean   :-0.04973  \n",
       " 3rd Qu.: 0.42290   3rd Qu.: 0.43010   3rd Qu.: 0.457193   3rd Qu.: 0.38781  \n",
       " Max.   : 7.21362   Max.   :29.00534   Max.   :12.790901   Max.   : 6.66889  \n",
       "   ReturnSep          ReturnOct           ReturnNov        \n",
       " Min.   :-3.57222   Min.   :-3.807577   Min.   :-4.881463  \n",
       " 1st Qu.:-0.38067   1st Qu.:-0.393856   1st Qu.:-0.396764  \n",
       " Median : 0.08215   Median : 0.006783   Median :-0.002337  \n",
       " Mean   : 0.02939   Mean   : 0.029672   Mean   : 0.017128  \n",
       " 3rd Qu.: 0.45847   3rd Qu.: 0.419005   3rd Qu.: 0.424617  \n",
       " Max.   : 7.09106   Max.   : 7.428466   Max.   :21.007786  "
      ]
     },
     "metadata": {},
     "output_type": "display_data"
    }
   ],
   "source": [
    "library(caret)\n",
    "preproc = preProcess(limitedTrain)\n",
    "normTrain = predict(preproc, limitedTrain)\n",
    "normTest = predict(preproc, limitedTest)\n",
    "summary(normTrain)\n",
    "summary(normTest)"
   ]
  },
  {
   "cell_type": "code",
   "execution_count": 36,
   "metadata": {
    "collapsed": true
   },
   "outputs": [],
   "source": [
    "k=3\n",
    "set.seed(144)\n",
    "km = kmeans(normTrain, centers = k)"
   ]
  },
  {
   "cell_type": "code",
   "execution_count": 37,
   "metadata": {
    "collapsed": false
   },
   "outputs": [
    {
     "data": {
      "text/plain": [
       "\n",
       "   1    2    3 \n",
       "3157 4696  253 "
      ]
     },
     "metadata": {},
     "output_type": "display_data"
    }
   ],
   "source": [
    "table(km$cluster)"
   ]
  },
  {
   "cell_type": "code",
   "execution_count": 38,
   "metadata": {
    "collapsed": false
   },
   "outputs": [
    {
     "data": {
      "text/html": [
       "<ol class=list-inline>\n",
       "\t<li>3157</li>\n",
       "\t<li>4696</li>\n",
       "\t<li>253</li>\n",
       "</ol>\n"
      ],
      "text/latex": [
       "\\begin{enumerate*}\n",
       "\\item 3157\n",
       "\\item 4696\n",
       "\\item 253\n",
       "\\end{enumerate*}\n"
      ],
      "text/markdown": [
       "1. 3157\n",
       "2. 4696\n",
       "3. 253\n",
       "\n",
       "\n"
      ],
      "text/plain": [
       "[1] 3157 4696  253"
      ]
     },
     "metadata": {},
     "output_type": "display_data"
    }
   ],
   "source": [
    "km$size"
   ]
  },
  {
   "cell_type": "code",
   "execution_count": 39,
   "metadata": {
    "collapsed": false
   },
   "outputs": [
    {
     "name": "stderr",
     "output_type": "stream",
     "text": [
      "Loading required package: modeltools\n",
      "Loading required package: stats4\n",
      "\n",
      "Attaching package: 'modeltools'\n",
      "\n",
      "The following object is masked from 'package:plyr':\n",
      "\n",
      "    empty\n",
      "\n"
     ]
    }
   ],
   "source": [
    "library(flexclust)\n",
    "km.kcca = as.kcca(km, normTrain)\n",
    "clusterTrain = predict(km.kcca)\n",
    "clusterTest = predict(km.kcca, newdata=normTest)"
   ]
  },
  {
   "cell_type": "code",
   "execution_count": 48,
   "metadata": {
    "collapsed": false
   },
   "outputs": [
    {
     "data": {
      "text/plain": [
       "clusterTest\n",
       "   1    2    3 \n",
       "1298 2080   96 "
      ]
     },
     "metadata": {},
     "output_type": "display_data"
    }
   ],
   "source": [
    "table(clusterTest)"
   ]
  },
  {
   "cell_type": "code",
   "execution_count": 51,
   "metadata": {
    "collapsed": true
   },
   "outputs": [],
   "source": [
    "stocksTrain1 = subset(train, clusterTrain == 1)\n",
    "stocksTrain2 = subset(train, clusterTrain == 2)\n",
    "stocksTrain3 = subset(train, clusterTrain == 3)\n",
    "stocksTest1 = subset(test, clusterTest == 1)\n",
    "stocksTest2 = subset(test, clusterTest == 2)\n",
    "stocksTest3 = subset(test, clusterTest == 3)"
   ]
  },
  {
   "cell_type": "code",
   "execution_count": 54,
   "metadata": {
    "collapsed": false
   },
   "outputs": [
    {
     "data": {
      "text/html": [
       "0.602470700031676"
      ],
      "text/latex": [
       "0.602470700031676"
      ],
      "text/markdown": [
       "0.602470700031676"
      ],
      "text/plain": [
       "[1] 0.6024707"
      ]
     },
     "metadata": {},
     "output_type": "display_data"
    },
    {
     "data": {
      "text/html": [
       "0.514054514480409"
      ],
      "text/latex": [
       "0.514054514480409"
      ],
      "text/markdown": [
       "0.514054514480409"
      ],
      "text/plain": [
       "[1] 0.5140545"
      ]
     },
     "metadata": {},
     "output_type": "display_data"
    },
    {
     "data": {
      "text/html": [
       "0.438735177865613"
      ],
      "text/latex": [
       "0.438735177865613"
      ],
      "text/markdown": [
       "0.438735177865613"
      ],
      "text/plain": [
       "[1] 0.4387352"
      ]
     },
     "metadata": {},
     "output_type": "display_data"
    }
   ],
   "source": [
    "mean(stocksTrain1$PositiveDec)\n",
    "mean(stocksTrain2$PositiveDec)\n",
    "mean(stocksTrain3$PositiveDec)"
   ]
  },
  {
   "cell_type": "code",
   "execution_count": 55,
   "metadata": {
    "collapsed": true
   },
   "outputs": [],
   "source": [
    "StocksModel1 = glm(PositiveDec ~ ., data=stocksTrain1,\n",
    "                   family='binomial')\n",
    "StocksModel2 = glm(PositiveDec ~ ., data=stocksTrain2,\n",
    "                   family='binomial')\n",
    "StocksModel3 = glm(PositiveDec ~ ., data=stocksTrain3,\n",
    "                   family='binomial')\n",
    "#pred = predict(StocksModel, type='response')\n",
    "#t = table(train$PositiveDec, pred > 0.5)\n",
    "#t\n",
    "#sum(diag(t))/sum(t)"
   ]
  },
  {
   "cell_type": "code",
   "execution_count": 56,
   "metadata": {
    "collapsed": false
   },
   "outputs": [
    {
     "data": {
      "text/plain": [
       "\n",
       "Call:\n",
       "glm(formula = PositiveDec ~ ., family = \"binomial\", data = stocksTrain1)\n",
       "\n",
       "Deviance Residuals: \n",
       "    Min       1Q   Median       3Q      Max  \n",
       "-2.7307  -1.2910   0.8878   1.0280   1.5023  \n",
       "\n",
       "Coefficients:\n",
       "            Estimate Std. Error z value Pr(>|z|)    \n",
       "(Intercept)  0.17224    0.06302   2.733  0.00628 ** \n",
       "ReturnJan    0.02498    0.29306   0.085  0.93206    \n",
       "ReturnFeb   -0.37207    0.29123  -1.278  0.20139    \n",
       "ReturnMar    0.59555    0.23325   2.553  0.01067 *  \n",
       "ReturnApr    1.19048    0.22439   5.305 1.12e-07 ***\n",
       "ReturnMay    0.30421    0.22845   1.332  0.18298    \n",
       "ReturnJune  -0.01165    0.29993  -0.039  0.96901    \n",
       "ReturnJuly   0.19769    0.27790   0.711  0.47685    \n",
       "ReturnAug    0.51273    0.30858   1.662  0.09660 .  \n",
       "ReturnSep    0.58833    0.28133   2.091  0.03651 *  \n",
       "ReturnOct   -1.02254    0.26007  -3.932 8.43e-05 ***\n",
       "ReturnNov   -0.74847    0.28280  -2.647  0.00813 ** \n",
       "---\n",
       "Signif. codes:  0 '***' 0.001 '**' 0.01 '*' 0.05 '.' 0.1 ' ' 1\n",
       "\n",
       "(Dispersion parameter for binomial family taken to be 1)\n",
       "\n",
       "    Null deviance: 4243.0  on 3156  degrees of freedom\n",
       "Residual deviance: 4172.9  on 3145  degrees of freedom\n",
       "AIC: 4196.9\n",
       "\n",
       "Number of Fisher Scoring iterations: 4\n"
      ]
     },
     "metadata": {},
     "output_type": "display_data"
    },
    {
     "data": {
      "text/plain": [
       "\n",
       "Call:\n",
       "glm(formula = PositiveDec ~ ., family = \"binomial\", data = stocksTrain2)\n",
       "\n",
       "Deviance Residuals: \n",
       "    Min       1Q   Median       3Q      Max  \n",
       "-2.2012  -1.1941   0.8583   1.1334   1.9424  \n",
       "\n",
       "Coefficients:\n",
       "            Estimate Std. Error z value Pr(>|z|)    \n",
       "(Intercept)  0.10293    0.03785   2.719 0.006540 ** \n",
       "ReturnJan    0.88451    0.20276   4.362 1.29e-05 ***\n",
       "ReturnFeb    0.31762    0.26624   1.193 0.232878    \n",
       "ReturnMar   -0.37978    0.24045  -1.579 0.114231    \n",
       "ReturnApr    0.49291    0.22460   2.195 0.028189 *  \n",
       "ReturnMay    0.89655    0.25492   3.517 0.000436 ***\n",
       "ReturnJune   1.50088    0.26014   5.770 7.95e-09 ***\n",
       "ReturnJuly   0.78315    0.26864   2.915 0.003554 ** \n",
       "ReturnAug   -0.24486    0.27080  -0.904 0.365876    \n",
       "ReturnSep    0.73685    0.24820   2.969 0.002989 ** \n",
       "ReturnOct   -0.27756    0.18400  -1.509 0.131419    \n",
       "ReturnNov   -0.78747    0.22458  -3.506 0.000454 ***\n",
       "---\n",
       "Signif. codes:  0 '***' 0.001 '**' 0.01 '*' 0.05 '.' 0.1 ' ' 1\n",
       "\n",
       "(Dispersion parameter for binomial family taken to be 1)\n",
       "\n",
       "    Null deviance: 6506.3  on 4695  degrees of freedom\n",
       "Residual deviance: 6362.2  on 4684  degrees of freedom\n",
       "AIC: 6386.2\n",
       "\n",
       "Number of Fisher Scoring iterations: 4\n"
      ]
     },
     "metadata": {},
     "output_type": "display_data"
    },
    {
     "data": {
      "text/plain": [
       "\n",
       "Call:\n",
       "glm(formula = PositiveDec ~ ., family = \"binomial\", data = stocksTrain3)\n",
       "\n",
       "Deviance Residuals: \n",
       "    Min       1Q   Median       3Q      Max  \n",
       "-1.9146  -1.0393  -0.7689   1.1921   1.6939  \n",
       "\n",
       "Coefficients:\n",
       "             Estimate Std. Error z value Pr(>|z|)  \n",
       "(Intercept) -0.181896   0.325182  -0.559   0.5759  \n",
       "ReturnJan   -0.009789   0.448943  -0.022   0.9826  \n",
       "ReturnFeb   -0.046883   0.213432  -0.220   0.8261  \n",
       "ReturnMar    0.674179   0.564790   1.194   0.2326  \n",
       "ReturnApr    1.281466   0.602672   2.126   0.0335 *\n",
       "ReturnMay    0.762512   0.647783   1.177   0.2392  \n",
       "ReturnJune   0.329434   0.408038   0.807   0.4195  \n",
       "ReturnJuly   0.774164   0.729360   1.061   0.2885  \n",
       "ReturnAug    0.982605   0.533158   1.843   0.0653 .\n",
       "ReturnSep    0.363807   0.627774   0.580   0.5622  \n",
       "ReturnOct    0.782242   0.733123   1.067   0.2860  \n",
       "ReturnNov   -0.873752   0.738480  -1.183   0.2367  \n",
       "---\n",
       "Signif. codes:  0 '***' 0.001 '**' 0.01 '*' 0.05 '.' 0.1 ' ' 1\n",
       "\n",
       "(Dispersion parameter for binomial family taken to be 1)\n",
       "\n",
       "    Null deviance: 346.92  on 252  degrees of freedom\n",
       "Residual deviance: 328.29  on 241  degrees of freedom\n",
       "AIC: 352.29\n",
       "\n",
       "Number of Fisher Scoring iterations: 4\n"
      ]
     },
     "metadata": {},
     "output_type": "display_data"
    }
   ],
   "source": [
    "summary(StocksModel1)\n",
    "summary(StocksModel2)\n",
    "summary(StocksModel3)"
   ]
  },
  {
   "cell_type": "code",
   "execution_count": 60,
   "metadata": {
    "collapsed": true
   },
   "outputs": [],
   "source": [
    "PredictTest1 = predict(StocksModel1, newdata=stocksTest1, type='response')\n",
    "PredictTest2 = predict(StocksModel2, newdata=stocksTest2, type='response')\n",
    "PredictTest3 = predict(StocksModel3, newdata=stocksTest3, type='response')"
   ]
  },
  {
   "cell_type": "code",
   "execution_count": 61,
   "metadata": {
    "collapsed": false
   },
   "outputs": [
    {
     "data": {
      "text/plain": [
       "   \n",
       "    FALSE TRUE\n",
       "  0    30  471\n",
       "  1    23  774"
      ]
     },
     "metadata": {},
     "output_type": "display_data"
    },
    {
     "data": {
      "text/html": [
       "0.619414483821264"
      ],
      "text/latex": [
       "0.619414483821264"
      ],
      "text/markdown": [
       "0.619414483821264"
      ],
      "text/plain": [
       "[1] 0.6194145"
      ]
     },
     "metadata": {},
     "output_type": "display_data"
    },
    {
     "data": {
      "text/plain": [
       "   \n",
       "    FALSE TRUE\n",
       "  0   388  626\n",
       "  1   309  757"
      ]
     },
     "metadata": {},
     "output_type": "display_data"
    },
    {
     "data": {
      "text/html": [
       "0.550480769230769"
      ],
      "text/latex": [
       "0.550480769230769"
      ],
      "text/markdown": [
       "0.550480769230769"
      ],
      "text/plain": [
       "[1] 0.5504808"
      ]
     },
     "metadata": {},
     "output_type": "display_data"
    },
    {
     "data": {
      "text/plain": [
       "   \n",
       "    FALSE TRUE\n",
       "  0    49   13\n",
       "  1    21   13"
      ]
     },
     "metadata": {},
     "output_type": "display_data"
    },
    {
     "data": {
      "text/html": [
       "0.645833333333333"
      ],
      "text/latex": [
       "0.645833333333333"
      ],
      "text/markdown": [
       "0.645833333333333"
      ],
      "text/plain": [
       "[1] 0.6458333"
      ]
     },
     "metadata": {},
     "output_type": "display_data"
    }
   ],
   "source": [
    "t = table(stocksTest1$PositiveDec, PredictTest1 > 0.5)\n",
    "t\n",
    "sum(diag(t))/sum(t)\n",
    "t = table(stocksTest2$PositiveDec, PredictTest2 > 0.5)\n",
    "t\n",
    "sum(diag(t))/sum(t)\n",
    "t = table(stocksTest3$PositiveDec, PredictTest3 > 0.5)\n",
    "t\n",
    "sum(diag(t))/sum(t)"
   ]
  },
  {
   "cell_type": "code",
   "execution_count": 62,
   "metadata": {
    "collapsed": false
   },
   "outputs": [
    {
     "data": {
      "text/plain": [
       "           \n",
       "AllOutcomes FALSE TRUE\n",
       "          0   467 1110\n",
       "          1   353 1544"
      ]
     },
     "metadata": {},
     "output_type": "display_data"
    },
    {
     "data": {
      "text/html": [
       "0.578871617731721"
      ],
      "text/latex": [
       "0.578871617731721"
      ],
      "text/markdown": [
       "0.578871617731721"
      ],
      "text/plain": [
       "[1] 0.5788716"
      ]
     },
     "metadata": {},
     "output_type": "display_data"
    }
   ],
   "source": [
    "AllPredictions = c(PredictTest1, PredictTest2, PredictTest3)\n",
    "AllOutcomes = c(stocksTest1$PositiveDec,\n",
    "                stocksTest2$PositiveDec,\n",
    "                stocksTest3$PositiveDec)\n",
    "t = table(AllOutcomes, AllPredictions > 0.5)\n",
    "t\n",
    "sum(diag(t))/sum(t)"
   ]
  },
  {
   "cell_type": "code",
   "execution_count": null,
   "metadata": {
    "collapsed": true
   },
   "outputs": [],
   "source": []
  }
 ],
 "metadata": {
  "kernelspec": {
   "display_name": "R",
   "language": "R",
   "name": "ir"
  },
  "language_info": {
   "codemirror_mode": "r",
   "file_extension": ".r",
   "mimetype": "text/x-r-source",
   "name": "R",
   "pygments_lexer": "r",
   "version": "3.3.0"
  }
 },
 "nbformat": 4,
 "nbformat_minor": 0
}
