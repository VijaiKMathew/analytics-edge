{
 "cells": [
  {
   "cell_type": "code",
   "execution_count": 1,
   "metadata": {
    "collapsed": false
   },
   "outputs": [
    {
     "data": {
      "text/html": [
       "'LC_CTYPE=C;LC_NUMERIC=C;LC_TIME=C;LC_COLLATE=C;LC_MONETARY=C;LC_MESSAGES=en_US.UTF-8;LC_PAPER=en_US.UTF-8;LC_NAME=C;LC_ADDRESS=C;LC_TELEPHONE=C;LC_MEASUREMENT=en_US.UTF-8;LC_IDENTIFICATION=C'"
      ],
      "text/latex": [
       "'LC\\_CTYPE=C;LC\\_NUMERIC=C;LC\\_TIME=C;LC\\_COLLATE=C;LC\\_MONETARY=C;LC\\_MESSAGES=en\\_US.UTF-8;LC\\_PAPER=en\\_US.UTF-8;LC\\_NAME=C;LC\\_ADDRESS=C;LC\\_TELEPHONE=C;LC\\_MEASUREMENT=en\\_US.UTF-8;LC\\_IDENTIFICATION=C'"
      ],
      "text/markdown": [
       "'LC_CTYPE=C;LC_NUMERIC=C;LC_TIME=C;LC_COLLATE=C;LC_MONETARY=C;LC_MESSAGES=en_US.UTF-8;LC_PAPER=en_US.UTF-8;LC_NAME=C;LC_ADDRESS=C;LC_TELEPHONE=C;LC_MEASUREMENT=en_US.UTF-8;LC_IDENTIFICATION=C'"
      ],
      "text/plain": [
       "[1] \"LC_CTYPE=C;LC_NUMERIC=C;LC_TIME=C;LC_COLLATE=C;LC_MONETARY=C;LC_MESSAGES=en_US.UTF-8;LC_PAPER=en_US.UTF-8;LC_NAME=C;LC_ADDRESS=C;LC_TELEPHONE=C;LC_MEASUREMENT=en_US.UTF-8;LC_IDENTIFICATION=C\""
      ]
     },
     "metadata": {},
     "output_type": "display_data"
    }
   ],
   "source": [
    "options(device=pdf) # turn off flashy window on each block execution\n",
    "# options(repr.plot.width=6, repr.plot.height=4)\n",
    "Sys.setlocale(\"LC_ALL\", \"C\")\n",
    "initialWidth = getOption('width')\n",
    "options(width=80) # for old folks like me who can't see shit and set font large"
   ]
  },
  {
   "cell_type": "code",
   "execution_count": 2,
   "metadata": {
    "collapsed": true
   },
   "outputs": [],
   "source": [
    "energy = read.csv('data/energy.csv.xz')"
   ]
  },
  {
   "cell_type": "code",
   "execution_count": 4,
   "metadata": {
    "collapsed": false
   },
   "outputs": [
    {
     "name": "stdout",
     "output_type": "stream",
     "text": [
      "'data.frame':\t699 obs. of  27 variables:\n",
      " $ STATE                  : Factor w/ 50 levels \"AK\",\"AL\",\"AR\",..: 1 1 1 1 1 1 1 1 1 1 ...\n",
      " $ YEAR                   : int  2000 2001 2002 2003 2004 2005 2006 2007 2008 2009 ...\n",
      " $ GenTotal               : num  9.81 10.64 10.54 9.79 9.9 ...\n",
      " $ GenHydro               : num  0.163 0.2 0.213 0.25 0.23 ...\n",
      " $ GenSolar               : num  0 0 0 0 0 0 0 0 0 0 ...\n",
      " $ GenTotalRenewable      : num  0.163 0.2 0.214 0.25 0.231 ...\n",
      " $ GenSolarBinary         : int  0 0 0 0 0 0 0 0 0 0 ...\n",
      " $ GenTotalRenewableBinary: int  1 1 1 0 0 0 1 0 1 1 ...\n",
      " $ AllSourcesCO2          : num  7.26 7.31 6.94 6.15 7.25 ...\n",
      " $ AllSourcesSO2          : num  0.0224 0.01193 0.01148 0.00675 0.00659 ...\n",
      " $ AllSourcesNOx          : num  0.0289 0.0277 0.0294 0.0242 0.0377 ...\n",
      " $ EPriceResidential      : num  11.4 12.1 12.1 12 12.4 ...\n",
      " $ EPriceCommercial       : num  9.77 10.29 10.13 10.49 10.99 ...\n",
      " $ EPriceIndustrial       : num  7.56 7.61 7.65 7.86 8.33 ...\n",
      " $ EPriceTransportation   : num  0 0 0 0 0 0 0 0 0 0 ...\n",
      " $ EPriceTotal            : num  10.1 10.5 10.5 10.5 11 ...\n",
      " $ EsalesResidential      : num  0.349 0.347 0.354 0.357 0.356 ...\n",
      " $ EsalesCommercial       : num  0.421 0.42 0.41 0.444 0.449 ...\n",
      " $ EsalesIndustrial       : num  0.195 0.198 0.199 0.198 0.195 ...\n",
      " $ EsalesTransportation   : num  0 0 0 0 0 0 0 0 0 0 ...\n",
      " $ EsalesOther            : num  0.0343 0.0356 0.0379 0 0 ...\n",
      " $ EsalesTotal            : num  8.46 8.61 8.51 8.59 8.78 ...\n",
      " $ CumlFinancial          : int  1 1 1 1 1 2 7 7 10 10 ...\n",
      " $ CumlRegulatory         : int  1 1 1 1 1 1 2 2 2 3 ...\n",
      " $ Total.salary           : num  17.6 18.7 19.6 20.4 21.4 ...\n",
      " $ presidential.results   : int  0 0 0 0 0 0 0 0 0 0 ...\n",
      " $ Import                 : int  0 0 0 0 0 0 0 0 0 0 ...\n"
     ]
    },
    {
     "data": {
      "text/plain": [
       "     STATE          YEAR         GenTotal         GenHydro      \n",
       " AK     : 14   Min.   :2000   Min.   : 4.591   Min.   :0.00000  \n",
       " AL     : 14   1st Qu.:2003   1st Qu.:10.037   1st Qu.:0.00888  \n",
       " AR     : 14   Median :2006   Median :14.647   Median :0.02291  \n",
       " AZ     : 14   Mean   :2006   Mean   :16.956   Mean   :0.09853  \n",
       " CA     : 14   3rd Qu.:2010   3rd Qu.:18.018   3rd Qu.:0.07041  \n",
       " CO     : 14   Max.   :2013   Max.   :92.097   Max.   :0.92076  \n",
       " (Other):615                                                    \n",
       "    GenSolar          GenTotalRenewable GenSolarBinary  \n",
       " Min.   :-1.300e-08   Min.   :0.00000   Min.   :0.0000  \n",
       " 1st Qu.: 0.000e+00   1st Qu.:0.02027   1st Qu.:0.0000  \n",
       " Median : 0.000e+00   Median :0.04475   Median :0.0000  \n",
       " Mean   : 3.344e-04   Mean   :0.12245   Mean   :0.2318  \n",
       " 3rd Qu.: 0.000e+00   3rd Qu.:0.10771   3rd Qu.:0.0000  \n",
       " Max.   : 2.045e-02   Max.   :0.92076   Max.   :1.0000  \n",
       "                                                        \n",
       " GenTotalRenewableBinary AllSourcesCO2      AllSourcesSO2     AllSourcesNOx    \n",
       " Min.   :0.0000          Min.   : 0.01059   Min.   :0.00003   Min.   :0.00067  \n",
       " 1st Qu.:0.0000          1st Qu.: 4.84645   1st Qu.:0.00925   1st Qu.:0.00604  \n",
       " Median :1.0000          Median : 8.34005   Median :0.02375   Median :0.01428  \n",
       " Mean   :0.5923          Mean   :11.61430   Mean   :0.03687   Mean   :0.02058  \n",
       " 3rd Qu.:1.0000          3rd Qu.:12.99889   3rd Qu.:0.04197   3rd Qu.:0.02288  \n",
       " Max.   :1.0000          Max.   :93.96429   Max.   :0.34568   Max.   :0.35610  \n",
       "                         NA's   :50         NA's   :50        NA's   :50       \n",
       " EPriceResidential EPriceCommercial EPriceIndustrial EPriceTransportation\n",
       " Min.   : 5.130    Min.   : 4.240   Min.   : 3.010   Min.   : 0.000      \n",
       " 1st Qu.: 7.965    1st Qu.: 6.760   1st Qu.: 4.695   1st Qu.: 0.000      \n",
       " Median : 9.490    Median : 8.100   Median : 5.820   Median : 1.615      \n",
       " Mean   :10.424    Mean   : 8.969   Mean   : 6.660   Mean   : 4.131      \n",
       " 3rd Qu.:11.825    3rd Qu.:10.065   3rd Qu.: 7.500   3rd Qu.: 7.940      \n",
       " Max.   :37.340    Max.   :34.880   Max.   :30.820   Max.   :15.440      \n",
       "                                                     NA's   :1           \n",
       "  EPriceTotal     EsalesResidential EsalesCommercial EsalesIndustrial \n",
       " Min.   : 4.170   Min.   :0.1594    Min.   :0.1690   Min.   :0.06372  \n",
       " 1st Qu.: 6.515   1st Qu.:0.3297    1st Qu.:0.2816   1st Qu.:0.21331  \n",
       " Median : 7.860   Median :0.3563    Median :0.3385   Median :0.29978  \n",
       " Mean   : 8.809   Mean   :0.3595    Mean   :0.3411   Mean   :0.29232  \n",
       " 3rd Qu.:10.095   3rd Qu.:0.3926    3rd Qu.:0.3877   3rd Qu.:0.35791  \n",
       " Max.   :34.040   Max.   :0.5287    Max.   :0.5381   Max.   :0.59561  \n",
       "                                                                      \n",
       " EsalesTransportation  EsalesOther      EsalesTotal     CumlFinancial   \n",
       " Min.   :0.0000000    Min.   :0.0000   Min.   : 6.745   Min.   :  0.00  \n",
       " 1st Qu.:0.0000000    1st Qu.:0.0000   1st Qu.:10.336   1st Qu.:  2.00  \n",
       " Median :0.0000000    Median :0.0092   Median :13.153   Median :  8.00  \n",
       " Mean   :0.0010349    Mean   :0.0170   Mean   :13.145   Mean   : 17.58  \n",
       " 3rd Qu.:0.0002786    3rd Qu.:0.0216   3rd Qu.:15.353   3rd Qu.: 23.50  \n",
       " Max.   :0.0229279    Max.   :0.1074   Max.   :31.336   Max.   :154.00  \n",
       "                      NA's   :449                                       \n",
       " CumlRegulatory    Total.salary   presidential.results     Import      \n",
       " Min.   : 0.000   Min.   :10.65   Min.   :0.0000       Min.   :0.0000  \n",
       " 1st Qu.: 3.000   1st Qu.:16.84   1st Qu.:0.0000       1st Qu.:0.0000  \n",
       " Median : 6.000   Median :19.51   Median :0.0000       Median :0.0000  \n",
       " Mean   : 6.838   Mean   :20.01   Mean   :0.4578       Mean   :0.3433  \n",
       " 3rd Qu.:10.000   3rd Qu.:22.83   3rd Qu.:1.0000       3rd Qu.:1.0000  \n",
       " Max.   :42.000   Max.   :33.85   Max.   :1.0000       Max.   :1.0000  \n",
       "                                                                       "
      ]
     },
     "metadata": {},
     "output_type": "display_data"
    }
   ],
   "source": [
    "str(energy)\n",
    "summary(energy)"
   ]
  },
  {
   "cell_type": "code",
   "execution_count": 5,
   "metadata": {
    "collapsed": false
   },
   "outputs": [
    {
     "data": {
      "text/html": [
       "<table>\n",
       "<thead><tr><th></th><th scope=col>STATE</th><th scope=col>YEAR</th><th scope=col>GenTotal</th><th scope=col>GenHydro</th><th scope=col>GenSolar</th><th scope=col>GenTotalRenewable</th><th scope=col>GenSolarBinary</th><th scope=col>GenTotalRenewableBinary</th><th scope=col>AllSourcesCO2</th><th scope=col>AllSourcesSO2</th><th scope=col>⋯</th><th scope=col>EsalesCommercial</th><th scope=col>EsalesIndustrial</th><th scope=col>EsalesTransportation</th><th scope=col>EsalesOther</th><th scope=col>EsalesTotal</th><th scope=col>CumlFinancial</th><th scope=col>CumlRegulatory</th><th scope=col>Total.salary</th><th scope=col>presidential.results</th><th scope=col>Import</th></tr></thead>\n",
       "<tbody>\n",
       "\t<tr><th scope=row>1</th><td>AK         </td><td>2000       </td><td>9.807319179</td><td>0.162724751</td><td>0          </td><td>0.162724751</td><td>0          </td><td>1          </td><td>7.260626876</td><td>0.02239593 </td><td><U+22EF>   </td><td>0.421184489</td><td>0.19522276 </td><td>0          </td><td>0.034255937</td><td>8.458760522</td><td>1          </td><td>1          </td><td>17.64608569</td><td>0          </td><td>0          </td></tr>\n",
       "\t<tr><th scope=row>2</th><td>AK         </td><td>2001       </td><td>10.64461169</td><td>0.199542066</td><td>0          </td><td>0.199682937</td><td>0          </td><td>1          </td><td>7.311766619</td><td>0.011925094</td><td><U+22EF>   </td><td>0.41968783 </td><td>0.197911105</td><td>0          </td><td>0.035602338</td><td>8.608923222</td><td>1          </td><td>1          </td><td>18.69197034</td><td>0          </td><td>0          </td></tr>\n",
       "\t<tr><th scope=row>3</th><td>AK         </td><td>2002       </td><td>10.54143158</td><td>0.212691278</td><td>0          </td><td>0.214335059</td><td>0          </td><td>1          </td><td>6.93834174 </td><td>0.0114771  </td><td><U+22EF>   </td><td>0.409521637</td><td>0.199040745</td><td>0          </td><td>0.03790713 </td><td>8.513567528</td><td>1          </td><td>1          </td><td>19.64402117</td><td>0          </td><td>0          </td></tr>\n",
       "\t<tr><th scope=row>4</th><td>AK         </td><td>2003       </td><td>9.786962825</td><td>0.249661289</td><td>0          </td><td>0.250453087</td><td>0          </td><td>0          </td><td>6.153593414</td><td>0.006750341</td><td><U+22EF>   </td><td>0.444494851</td><td>0.198365938</td><td>0          </td><td>0          </td><td>8.590290441</td><td>1          </td><td>1          </td><td>20.39238357</td><td>0          </td><td>0          </td></tr>\n",
       "\t<tr><th scope=row>5</th><td>AK         </td><td>2004       </td><td>9.899389509</td><td>0.229521213</td><td>0          </td><td>0.230873807</td><td>0          </td><td>0          </td><td>7.246256285</td><td>0.00659179 </td><td><U+22EF>   </td><td>0.449272728</td><td>0.194519152</td><td>0          </td><td>0          </td><td>8.779675567</td><td>1          </td><td>1          </td><td>21.44678279</td><td>0          </td><td>0          </td></tr>\n",
       "\t<tr><th scope=row>6</th><td>AK         </td><td>2005       </td><td>9.858373531</td><td>0.22259661 </td><td>0          </td><td>0.223427123</td><td>0          </td><td>0          </td><td>6.541565609</td><td>0.006048441</td><td><U+22EF>   </td><td>0.455793427</td><td>0.195516976</td><td>0          </td><td>NA         </td><td>8.862909488</td><td>2          </td><td>1          </td><td>22.71281629</td><td>0          </td><td>0          </td></tr>\n",
       "</tbody>\n",
       "</table>\n"
      ],
      "text/latex": [
       "\\begin{tabular}{r|lllllllllllllllllllllllllll}\n",
       "  & STATE & YEAR & GenTotal & GenHydro & GenSolar & GenTotalRenewable & GenSolarBinary & GenTotalRenewableBinary & AllSourcesCO2 & AllSourcesSO2 & ⋯ & EsalesCommercial & EsalesIndustrial & EsalesTransportation & EsalesOther & EsalesTotal & CumlFinancial & CumlRegulatory & Total.salary & presidential.results & Import\\\\\n",
       "\\hline\n",
       "\t1 & AK          & 2000        & 9.807319179 & 0.162724751 & 0           & 0.162724751 & 0           & 1           & 7.260626876 & 0.02239593  & <U+22EF>    & 0.421184489 & 0.19522276  & 0           & 0.034255937 & 8.458760522 & 1           & 1           & 17.64608569 & 0           & 0          \\\\\n",
       "\t2 & AK          & 2001        & 10.64461169 & 0.199542066 & 0           & 0.199682937 & 0           & 1           & 7.311766619 & 0.011925094 & <U+22EF>    & 0.41968783  & 0.197911105 & 0           & 0.035602338 & 8.608923222 & 1           & 1           & 18.69197034 & 0           & 0          \\\\\n",
       "\t3 & AK          & 2002        & 10.54143158 & 0.212691278 & 0           & 0.214335059 & 0           & 1           & 6.93834174  & 0.0114771   & <U+22EF>    & 0.409521637 & 0.199040745 & 0           & 0.03790713  & 8.513567528 & 1           & 1           & 19.64402117 & 0           & 0          \\\\\n",
       "\t4 & AK          & 2003        & 9.786962825 & 0.249661289 & 0           & 0.250453087 & 0           & 0           & 6.153593414 & 0.006750341 & <U+22EF>    & 0.444494851 & 0.198365938 & 0           & 0           & 8.590290441 & 1           & 1           & 20.39238357 & 0           & 0          \\\\\n",
       "\t5 & AK          & 2004        & 9.899389509 & 0.229521213 & 0           & 0.230873807 & 0           & 0           & 7.246256285 & 0.00659179  & <U+22EF>    & 0.449272728 & 0.194519152 & 0           & 0           & 8.779675567 & 1           & 1           & 21.44678279 & 0           & 0          \\\\\n",
       "\t6 & AK          & 2005        & 9.858373531 & 0.22259661  & 0           & 0.223427123 & 0           & 0           & 6.541565609 & 0.006048441 & <U+22EF>    & 0.455793427 & 0.195516976 & 0           & NA          & 8.862909488 & 2           & 1           & 22.71281629 & 0           & 0          \\\\\n",
       "\\end{tabular}\n"
      ],
      "text/plain": [
       "  STATE YEAR  GenTotal  GenHydro GenSolar GenTotalRenewable GenSolarBinary\n",
       "1    AK 2000  9.807319 0.1627248        0         0.1627248              0\n",
       "2    AK 2001 10.644612 0.1995421        0         0.1996829              0\n",
       "3    AK 2002 10.541432 0.2126913        0         0.2143351              0\n",
       "4    AK 2003  9.786963 0.2496613        0         0.2504531              0\n",
       "5    AK 2004  9.899390 0.2295212        0         0.2308738              0\n",
       "6    AK 2005  9.858374 0.2225966        0         0.2234271              0\n",
       "  GenTotalRenewableBinary AllSourcesCO2 AllSourcesSO2 <U+22EF> EsalesCommercial\n",
       "1                       1      7.260627   0.022395930 <U+22EF>        0.4211845\n",
       "2                       1      7.311767   0.011925094 <U+22EF>        0.4196878\n",
       "3                       1      6.938342   0.011477100 <U+22EF>        0.4095216\n",
       "4                       0      6.153593   0.006750341 <U+22EF>        0.4444949\n",
       "5                       0      7.246256   0.006591790 <U+22EF>        0.4492727\n",
       "6                       0      6.541566   0.006048441 <U+22EF>        0.4557934\n",
       "  EsalesIndustrial EsalesTransportation EsalesOther EsalesTotal CumlFinancial\n",
       "1        0.1952228                    0  0.03425594    8.458761             1\n",
       "2        0.1979111                    0  0.03560234    8.608923             1\n",
       "3        0.1990407                    0  0.03790713    8.513568             1\n",
       "4        0.1983659                    0  0.00000000    8.590290             1\n",
       "5        0.1945192                    0  0.00000000    8.779676             1\n",
       "6        0.1955170                    0          NA    8.862909             2\n",
       "  CumlRegulatory Total.salary presidential.results Import\n",
       "1              1     17.64609                    0      0\n",
       "2              1     18.69197                    0      0\n",
       "3              1     19.64402                    0      0\n",
       "4              1     20.39238                    0      0\n",
       "5              1     21.44678                    0      0\n",
       "6              1     22.71282                    0      0"
      ]
     },
     "metadata": {},
     "output_type": "display_data"
    }
   ],
   "source": [
    "head(energy)"
   ]
  },
  {
   "cell_type": "code",
   "execution_count": 10,
   "metadata": {
    "collapsed": false
   },
   "outputs": [
    {
     "data": {
      "text/html": [
       "<table>\n",
       "<thead><tr><th></th><th scope=col>STATE</th><th scope=col>YEAR</th><th scope=col>GenTotal</th><th scope=col>GenHydro</th><th scope=col>GenSolar</th><th scope=col>GenTotalRenewable</th><th scope=col>GenSolarBinary</th><th scope=col>GenTotalRenewableBinary</th><th scope=col>AllSourcesCO2</th><th scope=col>AllSourcesSO2</th><th scope=col>⋯</th><th scope=col>EsalesCommercial</th><th scope=col>EsalesIndustrial</th><th scope=col>EsalesTransportation</th><th scope=col>EsalesOther</th><th scope=col>EsalesTotal</th><th scope=col>CumlFinancial</th><th scope=col>CumlRegulatory</th><th scope=col>Total.salary</th><th scope=col>presidential.results</th><th scope=col>Import</th></tr></thead>\n",
       "<tbody>\n",
       "\t<tr><th scope=row>169</th><td>ID         </td><td>2000       </td><td>9.165015717</td><td>0.920763058</td><td>0          </td><td>0.920763058</td><td>0          </td><td>0          </td><td>0.636865696</td><td>0.004590802</td><td><U+22EF>   </td><td>0.309530672</td><td>0.36820796 </td><td>0          </td><td>0.015418038</td><td>17.57070613</td><td>2          </td><td>2          </td><td>12.81242656</td><td>0          </td><td>1          </td></tr>\n",
       "\t<tr><th scope=row>171</th><td>ID         </td><td>2002       </td><td>7.294405472</td><td>0.896023402</td><td>0          </td><td>0.896023402</td><td>0          </td><td>0          </td><td>0.57639688 </td><td>0.004229696</td><td><U+22EF>   </td><td>0.336359389</td><td>0.306872729</td><td>0          </td><td>0.015897068</td><td>15.42789319</td><td>2          </td><td>2          </td><td>13.42663989</td><td>0          </td><td>1          </td></tr>\n",
       "\t<tr><th scope=row>180</th><td>ID         </td><td>2011       </td><td>10.46154516</td><td>0.809039298</td><td>0          </td><td>0.894609237</td><td>0          </td><td>0          </td><td>0.520782558</td><td>0.002983369</td><td><U+22EF>   </td><td>0.256511378</td><td>0.382971025</td><td>0          </td><td>NA         </td><td>14.69378575</td><td>29         </td><td>5          </td><td>18.08008357</td><td>0          </td><td>1          </td></tr>\n",
       "\t<tr><th scope=row>175</th><td>ID         </td><td>2006       </td><td>9.145805876</td><td>0.839855118</td><td>0          </td><td>0.852526261</td><td>0          </td><td>0          </td><td>0.602357425</td><td>0.003101875</td><td><U+22EF>   </td><td>0.255394346</td><td>0.390613744</td><td>0          </td><td>NA         </td><td>15.55156252</td><td>12         </td><td>5          </td><td>17.47959956</td><td>0          </td><td>1          </td></tr>\n",
       "\t<tr><th scope=row>656</th><td>WA         </td><td>2011       </td><td>16.8954425 </td><td>0.796595784</td><td>7.29e-06   </td><td>0.852399591</td><td>0          </td><td>0          </td><td>1.206210188</td><td>0.002634521</td><td><U+22EF>   </td><td>0.313778928</td><td>0.298029466</td><td>7.56e-05   </td><td>NA         </td><td>13.73840198</td><td>90         </td><td>14         </td><td>26.21118259</td><td>1          </td><td>0          </td></tr>\n",
       "\t<tr><th scope=row>181</th><td>ID         </td><td>2012       </td><td>9.713704022</td><td>0.705874068</td><td>0          </td><td>0.838457409</td><td>0          </td><td>0          </td><td>0.734483796</td><td>0.003314135</td><td><U+22EF>   </td><td>0.252115113</td><td>0.403780741</td><td>0          </td><td>NA         </td><td>14.86087215</td><td>29         </td><td>5          </td><td>18.60291869</td><td>0          </td><td>1          </td></tr>\n",
       "</tbody>\n",
       "</table>\n"
      ],
      "text/latex": [
       "\\begin{tabular}{r|lllllllllllllllllllllllllll}\n",
       "  & STATE & YEAR & GenTotal & GenHydro & GenSolar & GenTotalRenewable & GenSolarBinary & GenTotalRenewableBinary & AllSourcesCO2 & AllSourcesSO2 & ⋯ & EsalesCommercial & EsalesIndustrial & EsalesTransportation & EsalesOther & EsalesTotal & CumlFinancial & CumlRegulatory & Total.salary & presidential.results & Import\\\\\n",
       "\\hline\n",
       "\t169 & ID          & 2000        & 9.165015717 & 0.920763058 & 0           & 0.920763058 & 0           & 0           & 0.636865696 & 0.004590802 & <U+22EF>    & 0.309530672 & 0.36820796  & 0           & 0.015418038 & 17.57070613 & 2           & 2           & 12.81242656 & 0           & 1          \\\\\n",
       "\t171 & ID          & 2002        & 7.294405472 & 0.896023402 & 0           & 0.896023402 & 0           & 0           & 0.57639688  & 0.004229696 & <U+22EF>    & 0.336359389 & 0.306872729 & 0           & 0.015897068 & 15.42789319 & 2           & 2           & 13.42663989 & 0           & 1          \\\\\n",
       "\t180 & ID          & 2011        & 10.46154516 & 0.809039298 & 0           & 0.894609237 & 0           & 0           & 0.520782558 & 0.002983369 & <U+22EF>    & 0.256511378 & 0.382971025 & 0           & NA          & 14.69378575 & 29          & 5           & 18.08008357 & 0           & 1          \\\\\n",
       "\t175 & ID          & 2006        & 9.145805876 & 0.839855118 & 0           & 0.852526261 & 0           & 0           & 0.602357425 & 0.003101875 & <U+22EF>    & 0.255394346 & 0.390613744 & 0           & NA          & 15.55156252 & 12          & 5           & 17.47959956 & 0           & 1          \\\\\n",
       "\t656 & WA          & 2011        & 16.8954425  & 0.796595784 & 7.29e-06    & 0.852399591 & 0           & 0           & 1.206210188 & 0.002634521 & <U+22EF>    & 0.313778928 & 0.298029466 & 7.56e-05    & NA          & 13.73840198 & 90          & 14          & 26.21118259 & 1           & 0          \\\\\n",
       "\t181 & ID          & 2012        & 9.713704022 & 0.705874068 & 0           & 0.838457409 & 0           & 0           & 0.734483796 & 0.003314135 & <U+22EF>    & 0.252115113 & 0.403780741 & 0           & NA          & 14.86087215 & 29          & 5           & 18.60291869 & 0           & 1          \\\\\n",
       "\\end{tabular}\n"
      ],
      "text/plain": [
       "    STATE YEAR  GenTotal  GenHydro GenSolar GenTotalRenewable GenSolarBinary\n",
       "169    ID 2000  9.165016 0.9207631 0.00e+00         0.9207631              0\n",
       "171    ID 2002  7.294405 0.8960234 0.00e+00         0.8960234              0\n",
       "180    ID 2011 10.461545 0.8090393 0.00e+00         0.8946092              0\n",
       "175    ID 2006  9.145806 0.8398551 0.00e+00         0.8525263              0\n",
       "656    WA 2011 16.895443 0.7965958 7.29e-06         0.8523996              0\n",
       "181    ID 2012  9.713704 0.7058741 0.00e+00         0.8384574              0\n",
       "    GenTotalRenewableBinary AllSourcesCO2 AllSourcesSO2 <U+22EF>\n",
       "169                       0     0.6368657   0.004590802 <U+22EF>\n",
       "171                       0     0.5763969   0.004229696 <U+22EF>\n",
       "180                       0     0.5207826   0.002983369 <U+22EF>\n",
       "175                       0     0.6023574   0.003101875 <U+22EF>\n",
       "656                       0     1.2062102   0.002634521 <U+22EF>\n",
       "181                       0     0.7344838   0.003314135 <U+22EF>\n",
       "    EsalesCommercial EsalesIndustrial EsalesTransportation EsalesOther\n",
       "169        0.3095307        0.3682080             0.00e+00  0.01541804\n",
       "171        0.3363594        0.3068727             0.00e+00  0.01589707\n",
       "180        0.2565114        0.3829710             0.00e+00          NA\n",
       "175        0.2553943        0.3906137             0.00e+00          NA\n",
       "656        0.3137789        0.2980295             7.56e-05          NA\n",
       "181        0.2521151        0.4037807             0.00e+00          NA\n",
       "    EsalesTotal CumlFinancial CumlRegulatory Total.salary presidential.results\n",
       "169    17.57071             2              2     12.81243                    0\n",
       "171    15.42789             2              2     13.42664                    0\n",
       "180    14.69379            29              5     18.08008                    0\n",
       "175    15.55156            12              5     17.47960                    0\n",
       "656    13.73840            90             14     26.21118                    1\n",
       "181    14.86087            29              5     18.60292                    0\n",
       "    Import\n",
       "169      1\n",
       "171      1\n",
       "180      1\n",
       "175      1\n",
       "656      0\n",
       "181      1"
      ]
     },
     "metadata": {},
     "output_type": "display_data"
    }
   ],
   "source": [
    "head(energy[with(energy, order(-GenTotalRenewable)),])"
   ]
  },
  {
   "cell_type": "code",
   "execution_count": 11,
   "metadata": {
    "collapsed": false
   },
   "outputs": [
    {
     "data": {
      "text/html": [
       "<table>\n",
       "<thead><tr><th></th><th scope=col>STATE</th><th scope=col>YEAR</th><th scope=col>GenTotal</th><th scope=col>GenHydro</th><th scope=col>GenSolar</th><th scope=col>GenTotalRenewable</th><th scope=col>GenSolarBinary</th><th scope=col>GenTotalRenewableBinary</th><th scope=col>AllSourcesCO2</th><th scope=col>AllSourcesSO2</th><th scope=col>⋯</th><th scope=col>EsalesCommercial</th><th scope=col>EsalesIndustrial</th><th scope=col>EsalesTransportation</th><th scope=col>EsalesOther</th><th scope=col>EsalesTotal</th><th scope=col>CumlFinancial</th><th scope=col>CumlRegulatory</th><th scope=col>Total.salary</th><th scope=col>presidential.results</th><th scope=col>Import</th></tr></thead>\n",
       "<tbody>\n",
       "\t<tr><th scope=row>169</th><td>ID         </td><td>2000       </td><td>9.165015717</td><td>0.920763058</td><td>0          </td><td>0.920763058</td><td>0          </td><td>0          </td><td>0.636865696</td><td>0.004590802</td><td><U+22EF>   </td><td>0.309530672</td><td>0.36820796 </td><td>0          </td><td>0.015418038</td><td>17.57070613</td><td>2          </td><td>2          </td><td>12.81242656</td><td>0          </td><td>1          </td></tr>\n",
       "\t<tr><th scope=row>170</th><td>ID         </td><td>2001       </td><td>7.076775205</td><td>0.772779672</td><td>0          </td><td>0.772779672</td><td>0          </td><td>1          </td><td>0.83355883 </td><td>0.00284375 </td><td><U+22EF>   </td><td>0.310169877</td><td>0.346293426</td><td>0          </td><td>0.016197844</td><td>15.9722598 </td><td>2          </td><td>2          </td><td>13.07948028</td><td>0          </td><td>1          </td></tr>\n",
       "\t<tr><th scope=row>171</th><td>ID         </td><td>2002       </td><td>7.294405472</td><td>0.896023402</td><td>0          </td><td>0.896023402</td><td>0          </td><td>0          </td><td>0.57639688 </td><td>0.004229696</td><td><U+22EF>   </td><td>0.336359389</td><td>0.306872729</td><td>0          </td><td>0.015897068</td><td>15.42789319</td><td>2          </td><td>2          </td><td>13.42663989</td><td>0          </td><td>1          </td></tr>\n",
       "\t<tr><th scope=row>172</th><td>ID         </td><td>2003       </td><td>7.643285922</td><td>0.80150495 </td><td>0          </td><td>0.80150495 </td><td>0          </td><td>0          </td><td>0.816895852</td><td>0.00472841 </td><td><U+22EF>   </td><td>0.257619546</td><td>0.408253056</td><td>0          </td><td>0          </td><td>15.55996237</td><td>3          </td><td>3          </td><td>13.84388887</td><td>0          </td><td>1          </td></tr>\n",
       "\t<tr><th scope=row>173</th><td>ID         </td><td>2004       </td><td>7.80880466 </td><td>0.778939945</td><td>0          </td><td>0.778939945</td><td>0          </td><td>1          </td><td>0.9407732  </td><td>0.005072147</td><td><U+22EF>   </td><td>0.251460268</td><td>0.413171842</td><td>0          </td><td>0          </td><td>15.67698276</td><td>3          </td><td>3          </td><td>14.80993648</td><td>0          </td><td>1          </td></tr>\n",
       "\t<tr><th scope=row>174</th><td>ID         </td><td>2005       </td><td>7.595275416</td><td>0.789111651</td><td>0          </td><td>0.789111651</td><td>0          </td><td>1          </td><td>0.943754184</td><td>0.003469625</td><td><U+22EF>   </td><td>0.256969431</td><td>0.395212102</td><td>0          </td><td>NA         </td><td>15.33278301</td><td>5          </td><td>3          </td><td>15.89418147</td><td>0          </td><td>1          </td></tr>\n",
       "\t<tr><th scope=row>175</th><td>ID         </td><td>2006       </td><td>9.145805876</td><td>0.839855118</td><td>0          </td><td>0.852526261</td><td>0          </td><td>0          </td><td>0.602357425</td><td>0.003101875</td><td><U+22EF>   </td><td>0.255394346</td><td>0.390613744</td><td>0          </td><td>NA         </td><td>15.55156252</td><td>12         </td><td>5          </td><td>17.47959956</td><td>0          </td><td>1          </td></tr>\n",
       "\t<tr><th scope=row>176</th><td>ID         </td><td>2007       </td><td>7.664287001</td><td>0.785581549</td><td>0          </td><td>0.80058204 </td><td>0          </td><td>1          </td><td>0.856999179</td><td>0.004485481</td><td><U+22EF>   </td><td>0.25318943 </td><td>0.395753205</td><td>0          </td><td>NA         </td><td>15.85380709</td><td>20         </td><td>5          </td><td>18.47753731</td><td>0          </td><td>1          </td></tr>\n",
       "\t<tr><th scope=row>177</th><td>ID         </td><td>2008       </td><td>7.842882929</td><td>0.782127693</td><td>0          </td><td>0.806606011</td><td>0          </td><td>1          </td><td>0.666101245</td><td>0.004125022</td><td><U+22EF>   </td><td>0.253062843</td><td>0.389648009</td><td>0          </td><td>NA         </td><td>15.65981019</td><td>21         </td><td>5          </td><td>18.43713733</td><td>0          </td><td>1          </td></tr>\n",
       "\t<tr><th scope=row>178</th><td>ID         </td><td>2009       </td><td>8.481999916</td><td>0.79649946 </td><td>0          </td><td>0.826221864</td><td>0          </td><td>0          </td><td>0.663131246</td><td>0.002992622</td><td><U+22EF>   </td><td>0.263931235</td><td>0.360148352</td><td>0          </td><td>NA         </td><td>14.73246658</td><td>25         </td><td>5          </td><td>17.56408386</td><td>0          </td><td>1          </td></tr>\n",
       "\t<tr><th scope=row>179</th><td>ID         </td><td>2010       </td><td>7.709061954</td><td>0.761295295</td><td>0          </td><td>0.805884771</td><td>0          </td><td>1          </td><td>0.777802995</td><td>0.004258249</td><td><U+22EF>   </td><td>0.257258111</td><td>0.385830998</td><td>0          </td><td>NA         </td><td>14.61580104</td><td>29         </td><td>5          </td><td>17.6817072 </td><td>0          </td><td>1          </td></tr>\n",
       "\t<tr><th scope=row>180</th><td>ID         </td><td>2011       </td><td>10.46154516</td><td>0.809039298</td><td>0          </td><td>0.894609237</td><td>0          </td><td>0          </td><td>0.520782558</td><td>0.002983369</td><td><U+22EF>   </td><td>0.256511378</td><td>0.382971025</td><td>0          </td><td>NA         </td><td>14.69378575</td><td>29         </td><td>5          </td><td>18.08008357</td><td>0          </td><td>1          </td></tr>\n",
       "\t<tr><th scope=row>181</th><td>ID         </td><td>2012       </td><td>9.713704022</td><td>0.705874068</td><td>0          </td><td>0.838457409</td><td>0          </td><td>0          </td><td>0.734483796</td><td>0.003314135</td><td><U+22EF>   </td><td>0.252115113</td><td>0.403780741</td><td>0          </td><td>NA         </td><td>14.86087215</td><td>29         </td><td>5          </td><td>18.60291869</td><td>0          </td><td>1          </td></tr>\n",
       "\t<tr><th scope=row>182</th><td>ID         </td><td>2013       </td><td>9.415750944</td><td>0.557973105</td><td>0          </td><td>0.735650325</td><td>1          </td><td>1          </td><td>NA         </td><td>NA         </td><td><U+22EF>   </td><td>0.258367121</td><td>0.385340384</td><td>0          </td><td>NA         </td><td>14.99931115</td><td>29         </td><td>5          </td><td>19.514393  </td><td>0          </td><td>1          </td></tr>\n",
       "</tbody>\n",
       "</table>\n"
      ],
      "text/latex": [
       "\\begin{tabular}{r|lllllllllllllllllllllllllll}\n",
       "  & STATE & YEAR & GenTotal & GenHydro & GenSolar & GenTotalRenewable & GenSolarBinary & GenTotalRenewableBinary & AllSourcesCO2 & AllSourcesSO2 & ⋯ & EsalesCommercial & EsalesIndustrial & EsalesTransportation & EsalesOther & EsalesTotal & CumlFinancial & CumlRegulatory & Total.salary & presidential.results & Import\\\\\n",
       "\\hline\n",
       "\t169 & ID          & 2000        & 9.165015717 & 0.920763058 & 0           & 0.920763058 & 0           & 0           & 0.636865696 & 0.004590802 & <U+22EF>    & 0.309530672 & 0.36820796  & 0           & 0.015418038 & 17.57070613 & 2           & 2           & 12.81242656 & 0           & 1          \\\\\n",
       "\t170 & ID          & 2001        & 7.076775205 & 0.772779672 & 0           & 0.772779672 & 0           & 1           & 0.83355883  & 0.00284375  & <U+22EF>    & 0.310169877 & 0.346293426 & 0           & 0.016197844 & 15.9722598  & 2           & 2           & 13.07948028 & 0           & 1          \\\\\n",
       "\t171 & ID          & 2002        & 7.294405472 & 0.896023402 & 0           & 0.896023402 & 0           & 0           & 0.57639688  & 0.004229696 & <U+22EF>    & 0.336359389 & 0.306872729 & 0           & 0.015897068 & 15.42789319 & 2           & 2           & 13.42663989 & 0           & 1          \\\\\n",
       "\t172 & ID          & 2003        & 7.643285922 & 0.80150495  & 0           & 0.80150495  & 0           & 0           & 0.816895852 & 0.00472841  & <U+22EF>    & 0.257619546 & 0.408253056 & 0           & 0           & 15.55996237 & 3           & 3           & 13.84388887 & 0           & 1          \\\\\n",
       "\t173 & ID          & 2004        & 7.80880466  & 0.778939945 & 0           & 0.778939945 & 0           & 1           & 0.9407732   & 0.005072147 & <U+22EF>    & 0.251460268 & 0.413171842 & 0           & 0           & 15.67698276 & 3           & 3           & 14.80993648 & 0           & 1          \\\\\n",
       "\t174 & ID          & 2005        & 7.595275416 & 0.789111651 & 0           & 0.789111651 & 0           & 1           & 0.943754184 & 0.003469625 & <U+22EF>    & 0.256969431 & 0.395212102 & 0           & NA          & 15.33278301 & 5           & 3           & 15.89418147 & 0           & 1          \\\\\n",
       "\t175 & ID          & 2006        & 9.145805876 & 0.839855118 & 0           & 0.852526261 & 0           & 0           & 0.602357425 & 0.003101875 & <U+22EF>    & 0.255394346 & 0.390613744 & 0           & NA          & 15.55156252 & 12          & 5           & 17.47959956 & 0           & 1          \\\\\n",
       "\t176 & ID          & 2007        & 7.664287001 & 0.785581549 & 0           & 0.80058204  & 0           & 1           & 0.856999179 & 0.004485481 & <U+22EF>    & 0.25318943  & 0.395753205 & 0           & NA          & 15.85380709 & 20          & 5           & 18.47753731 & 0           & 1          \\\\\n",
       "\t177 & ID          & 2008        & 7.842882929 & 0.782127693 & 0           & 0.806606011 & 0           & 1           & 0.666101245 & 0.004125022 & <U+22EF>    & 0.253062843 & 0.389648009 & 0           & NA          & 15.65981019 & 21          & 5           & 18.43713733 & 0           & 1          \\\\\n",
       "\t178 & ID          & 2009        & 8.481999916 & 0.79649946  & 0           & 0.826221864 & 0           & 0           & 0.663131246 & 0.002992622 & <U+22EF>    & 0.263931235 & 0.360148352 & 0           & NA          & 14.73246658 & 25          & 5           & 17.56408386 & 0           & 1          \\\\\n",
       "\t179 & ID          & 2010        & 7.709061954 & 0.761295295 & 0           & 0.805884771 & 0           & 1           & 0.777802995 & 0.004258249 & <U+22EF>    & 0.257258111 & 0.385830998 & 0           & NA          & 14.61580104 & 29          & 5           & 17.6817072  & 0           & 1          \\\\\n",
       "\t180 & ID          & 2011        & 10.46154516 & 0.809039298 & 0           & 0.894609237 & 0           & 0           & 0.520782558 & 0.002983369 & <U+22EF>    & 0.256511378 & 0.382971025 & 0           & NA          & 14.69378575 & 29          & 5           & 18.08008357 & 0           & 1          \\\\\n",
       "\t181 & ID          & 2012        & 9.713704022 & 0.705874068 & 0           & 0.838457409 & 0           & 0           & 0.734483796 & 0.003314135 & <U+22EF>    & 0.252115113 & 0.403780741 & 0           & NA          & 14.86087215 & 29          & 5           & 18.60291869 & 0           & 1          \\\\\n",
       "\t182 & ID          & 2013        & 9.415750944 & 0.557973105 & 0           & 0.735650325 & 1           & 1           & NA          & NA          & <U+22EF>    & 0.258367121 & 0.385340384 & 0           & NA          & 14.99931115 & 29          & 5           & 19.514393   & 0           & 1          \\\\\n",
       "\\end{tabular}\n"
      ],
      "text/plain": [
       "    STATE YEAR  GenTotal  GenHydro GenSolar GenTotalRenewable GenSolarBinary\n",
       "169    ID 2000  9.165016 0.9207631        0         0.9207631              0\n",
       "170    ID 2001  7.076775 0.7727797        0         0.7727797              0\n",
       "171    ID 2002  7.294405 0.8960234        0         0.8960234              0\n",
       "172    ID 2003  7.643286 0.8015049        0         0.8015049              0\n",
       "173    ID 2004  7.808805 0.7789399        0         0.7789399              0\n",
       "174    ID 2005  7.595275 0.7891117        0         0.7891117              0\n",
       "175    ID 2006  9.145806 0.8398551        0         0.8525263              0\n",
       "176    ID 2007  7.664287 0.7855815        0         0.8005820              0\n",
       "177    ID 2008  7.842883 0.7821277        0         0.8066060              0\n",
       "178    ID 2009  8.482000 0.7964995        0         0.8262219              0\n",
       "179    ID 2010  7.709062 0.7612953        0         0.8058848              0\n",
       "180    ID 2011 10.461545 0.8090393        0         0.8946092              0\n",
       "181    ID 2012  9.713704 0.7058741        0         0.8384574              0\n",
       "182    ID 2013  9.415751 0.5579731        0         0.7356503              1\n",
       "    GenTotalRenewableBinary AllSourcesCO2 AllSourcesSO2 <U+22EF>\n",
       "169                       0     0.6368657   0.004590802 <U+22EF>\n",
       "170                       1     0.8335588   0.002843750 <U+22EF>\n",
       "171                       0     0.5763969   0.004229696 <U+22EF>\n",
       "172                       0     0.8168959   0.004728410 <U+22EF>\n",
       "173                       1     0.9407732   0.005072147 <U+22EF>\n",
       "174                       1     0.9437542   0.003469625 <U+22EF>\n",
       "175                       0     0.6023574   0.003101875 <U+22EF>\n",
       "176                       1     0.8569992   0.004485481 <U+22EF>\n",
       "177                       1     0.6661012   0.004125022 <U+22EF>\n",
       "178                       0     0.6631312   0.002992622 <U+22EF>\n",
       "179                       1     0.7778030   0.004258249 <U+22EF>\n",
       "180                       0     0.5207826   0.002983369 <U+22EF>\n",
       "181                       0     0.7344838   0.003314135 <U+22EF>\n",
       "182                       1            NA            NA <U+22EF>\n",
       "    EsalesCommercial EsalesIndustrial EsalesTransportation EsalesOther\n",
       "169        0.3095307        0.3682080                    0  0.01541804\n",
       "170        0.3101699        0.3462934                    0  0.01619784\n",
       "171        0.3363594        0.3068727                    0  0.01589707\n",
       "172        0.2576195        0.4082531                    0  0.00000000\n",
       "173        0.2514603        0.4131718                    0  0.00000000\n",
       "174        0.2569694        0.3952121                    0          NA\n",
       "175        0.2553943        0.3906137                    0          NA\n",
       "176        0.2531894        0.3957532                    0          NA\n",
       "177        0.2530628        0.3896480                    0          NA\n",
       "178        0.2639312        0.3601484                    0          NA\n",
       "179        0.2572581        0.3858310                    0          NA\n",
       "180        0.2565114        0.3829710                    0          NA\n",
       "181        0.2521151        0.4037807                    0          NA\n",
       "182        0.2583671        0.3853404                    0          NA\n",
       "    EsalesTotal CumlFinancial CumlRegulatory Total.salary presidential.results\n",
       "169    17.57071             2              2     12.81243                    0\n",
       "170    15.97226             2              2     13.07948                    0\n",
       "171    15.42789             2              2     13.42664                    0\n",
       "172    15.55996             3              3     13.84389                    0\n",
       "173    15.67698             3              3     14.80994                    0\n",
       "174    15.33278             5              3     15.89418                    0\n",
       "175    15.55156            12              5     17.47960                    0\n",
       "176    15.85381            20              5     18.47754                    0\n",
       "177    15.65981            21              5     18.43714                    0\n",
       "178    14.73247            25              5     17.56408                    0\n",
       "179    14.61580            29              5     17.68171                    0\n",
       "180    14.69379            29              5     18.08008                    0\n",
       "181    14.86087            29              5     18.60292                    0\n",
       "182    14.99931            29              5     19.51439                    0\n",
       "    Import\n",
       "169      1\n",
       "170      1\n",
       "171      1\n",
       "172      1\n",
       "173      1\n",
       "174      1\n",
       "175      1\n",
       "176      1\n",
       "177      1\n",
       "178      1\n",
       "179      1\n",
       "180      1\n",
       "181      1\n",
       "182      1"
      ]
     },
     "metadata": {},
     "output_type": "display_data"
    }
   ],
   "source": [
    "subset(energy, STATE=='ID')"
   ]
  },
  {
   "cell_type": "code",
   "execution_count": 12,
   "metadata": {
    "collapsed": true
   },
   "outputs": [],
   "source": [
    "nona = na.omit(energy)"
   ]
  },
  {
   "cell_type": "raw",
   "metadata": {},
   "source": [
    "head(nona)"
   ]
  },
  {
   "cell_type": "code",
   "execution_count": 19,
   "metadata": {
    "collapsed": false
   },
   "outputs": [
    {
     "data": {
      "text/html": [
       "16.3624301578146"
      ],
      "text/latex": [
       "16.3624301578146"
      ],
      "text/markdown": [
       "16.3624301578146"
      ],
      "text/plain": [
       "[1] 16.36243"
      ]
     },
     "metadata": {},
     "output_type": "display_data"
    },
    {
     "data": {
      "text/html": [
       "5.93769796353061"
      ],
      "text/latex": [
       "5.93769796353061"
      ],
      "text/markdown": [
       "5.93769796353061"
      ],
      "text/plain": [
       "[1] 5.937698"
      ]
     },
     "metadata": {},
     "output_type": "display_data"
    },
    {
     "data": {
      "text/html": [
       "0.0367780632317881"
      ],
      "text/latex": [
       "0.0367780632317881"
      ],
      "text/markdown": [
       "0.0367780632317881"
      ],
      "text/plain": [
       "[1] 0.03677806"
      ]
     },
     "metadata": {},
     "output_type": "display_data"
    },
    {
     "data": {
      "text/html": [
       "0.0124455210306122"
      ],
      "text/latex": [
       "0.0124455210306122"
      ],
      "text/markdown": [
       "0.0124455210306122"
      ],
      "text/plain": [
       "[1] 0.01244552"
      ]
     },
     "metadata": {},
     "output_type": "display_data"
    }
   ],
   "source": [
    "mean(subset(nona, presidential.results==0)$AllSourcesCO2)\n",
    "mean(subset(nona, presidential.results==1)$AllSourcesCO2)\n",
    "mean(subset(nona, presidential.results==0)$AllSourcesNOx)\n",
    "mean(subset(nona, presidential.results==1)$AllSourcesNOx)"
   ]
  },
  {
   "cell_type": "code",
   "execution_count": 21,
   "metadata": {
    "collapsed": false
   },
   "outputs": [
    {
     "data": {
      "text/html": [
       "0.538586699122344"
      ],
      "text/latex": [
       "0.538586699122344"
      ],
      "text/markdown": [
       "0.538586699122344"
      ],
      "text/plain": [
       "[1] 0.5385867"
      ]
     },
     "metadata": {},
     "output_type": "display_data"
    },
    {
     "data": {
      "text/html": [
       "-0.518269185122051"
      ],
      "text/latex": [
       "-0.518269185122051"
      ],
      "text/markdown": [
       "-0.518269185122051"
      ],
      "text/plain": [
       "[1] -0.5182692"
      ]
     },
     "metadata": {},
     "output_type": "display_data"
    },
    {
     "data": {
      "text/html": [
       "-0.373383020293378"
      ],
      "text/latex": [
       "-0.373383020293378"
      ],
      "text/markdown": [
       "-0.373383020293378"
      ],
      "text/plain": [
       "[1] -0.373383"
      ]
     },
     "metadata": {},
     "output_type": "display_data"
    }
   ],
   "source": [
    "cor(energy$AllSourcesCO2, energy$EsalesIndustrial, use='complete')\n",
    "cor(energy$AllSourcesCO2, energy$EsalesResidential, use='complete')\n",
    "cor(energy$AllSourcesCO2, energy$EsalesCommercial, use='complete')"
   ]
  },
  {
   "cell_type": "code",
   "execution_count": 22,
   "metadata": {
    "collapsed": false
   },
   "outputs": [
    {
     "data": {
      "image/png": "[encoded data removed]",
      "image/svg+xml": [
       "<?xml version=\"1.0\" encoding=\"UTF-8\"?>\n",
       "<svg xmlns=\"http://www.w3.org/2000/svg\" xmlns:xlink=\"http://www.w3.org/1999/xlink\" width=\"504pt\" height=\"504pt\" viewBox=\"0 0 504 504\" version=\"1.1\">\n",
       "<defs>\n",
       "<g>\n",
       "<symbol overflow=\"visible\" id=\"glyph0-0\">\n",
       "<path style=\"stroke:none;\" d=\"\"/>\n",
       "</symbol>\n",
       "<symbol overflow=\"visible\" id=\"glyph0-1\">\n",
       "<path style=\"stroke:none;\" d=\"M 7.84375 0 L 4.765625 -8.75 L 3.328125 -8.75 L 0.203125 0 L 1.390625 0 L 2.3125 -2.625 L 5.6875 -2.625 L 6.59375 0 Z M 5.375 -3.5625 L 2.59375 -3.5625 L 4.03125 -7.546875 Z M 5.375 -3.5625 \"/>\n",
       "</symbol>\n",
       "<symbol overflow=\"visible\" id=\"glyph0-2\">\n",
       "<path style=\"stroke:none;\" d=\"M 7.890625 0 L 4.296875 -5.1875 L 7.859375 -8.75 L 6.421875 -8.75 L 2.0625 -4.3125 L 2.0625 -8.75 L 0.953125 -8.75 L 0.953125 0 L 2.0625 0 L 2.0625 -3.0625 L 3.484375 -4.484375 L 6.578125 0 Z M 7.890625 0 \"/>\n",
       "</symbol>\n",
       "<symbol overflow=\"visible\" id=\"glyph0-3\">\n",
       "<path style=\"stroke:none;\" d=\"M 8.125 -3.1875 L 6.96875 -3.1875 C 6.703125 -1.53125 6.015625 -0.765625 4.53125 -0.765625 C 2.796875 -0.765625 1.6875 -2.09375 1.6875 -4.28125 C 1.6875 -6.53125 2.75 -7.984375 4.4375 -7.984375 C 5.8125 -7.984375 6.53125 -7.375 6.796875 -6.03125 L 7.9375 -6.03125 C 7.59375 -7.953125 6.484375 -8.96875 4.578125 -8.96875 C 1.921875 -8.96875 0.578125 -6.828125 0.578125 -4.265625 C 0.578125 -1.71875 1.953125 0.21875 4.53125 0.21875 C 6.65625 0.21875 7.859375 -0.90625 8.125 -3.1875 Z M 8.125 -3.1875 \"/>\n",
       "</symbol>\n",
       "<symbol overflow=\"visible\" id=\"glyph0-4\">\n",
       "<path style=\"stroke:none;\" d=\"M 6.953125 -7.765625 L 6.953125 -8.75 L 1.078125 -8.75 L 1.078125 0 L 2.203125 0 L 2.203125 -3.984375 L 6.375 -3.984375 L 6.375 -4.96875 L 2.203125 -4.96875 L 2.203125 -7.765625 Z M 6.953125 -7.765625 \"/>\n",
       "</symbol>\n",
       "<symbol overflow=\"visible\" id=\"glyph0-5\">\n",
       "<path style=\"stroke:none;\" d=\"M 6.390625 0 L 6.390625 -0.984375 L 2.078125 -0.984375 L 2.078125 -8.75 L 0.953125 -8.75 L 0.953125 0 Z M 6.390625 0 \"/>\n",
       "</symbol>\n",
       "<symbol overflow=\"visible\" id=\"glyph0-6\">\n",
       "<path style=\"stroke:none;\" d=\"M 2.3125 0 L 2.3125 -8.75 L 1.203125 -8.75 L 1.203125 0 Z M 2.3125 0 \"/>\n",
       "</symbol>\n",
       "<symbol overflow=\"visible\" id=\"glyph0-7\">\n",
       "<path style=\"stroke:none;\" d=\"M 8 -4.375 C 8 -7.09375 6.65625 -8.75 4.4375 -8.75 L 1.0625 -8.75 L 1.0625 0 L 4.4375 0 C 6.640625 0 8 -1.65625 8 -4.375 Z M 6.890625 -4.375 C 6.890625 -2.15625 5.96875 -0.984375 4.25 -0.984375 L 2.1875 -0.984375 L 2.1875 -7.765625 L 4.25 -7.765625 C 5.96875 -7.765625 6.890625 -6.59375 6.890625 -4.375 Z M 6.890625 -4.375 \"/>\n",
       "</symbol>\n",
       "<symbol overflow=\"visible\" id=\"glyph0-8\">\n",
       "<path style=\"stroke:none;\" d=\"M 7.9375 -8.75 L 6.59375 -8.75 L 4.109375 -4.484375 L 1.53125 -8.75 L 0.15625 -8.75 L 3.53125 -3.4375 L 3.53125 0 L 4.640625 0 L 4.640625 -3.4375 Z M 7.9375 -8.75 \"/>\n",
       "</symbol>\n",
       "<symbol overflow=\"visible\" id=\"glyph0-9\">\n",
       "<path style=\"stroke:none;\" d=\"M 9.125 0 L 9.125 -8.75 L 7.578125 -8.75 L 5.046875 -1.125 L 2.453125 -8.75 L 0.90625 -8.75 L 0.90625 0 L 1.953125 0 L 1.953125 -7.328125 L 4.4375 0 L 5.609375 0 L 8.078125 -7.328125 L 8.078125 0 Z M 9.125 0 \"/>\n",
       "</symbol>\n",
       "<symbol overflow=\"visible\" id=\"glyph0-10\">\n",
       "<path style=\"stroke:none;\" d=\"M 7.359375 0 L 7.359375 -0.984375 L 2.203125 -0.984375 L 2.203125 -3.984375 L 6.953125 -3.984375 L 6.953125 -4.96875 L 2.203125 -4.96875 L 2.203125 -7.765625 L 7.140625 -7.765625 L 7.140625 -8.75 L 1.078125 -8.75 L 1.078125 0 Z M 7.359375 0 \"/>\n",
       "</symbol>\n",
       "<symbol overflow=\"visible\" id=\"glyph0-11\">\n",
       "<path style=\"stroke:none;\" d=\"M 7.453125 -2.40625 C 7.453125 -3.484375 6.78125 -4.265625 5.59375 -4.59375 L 3.390625 -5.1875 C 2.34375 -5.453125 1.953125 -5.8125 1.953125 -6.484375 C 1.953125 -7.375 2.734375 -8.03125 3.90625 -8.03125 C 5.296875 -8.03125 6.09375 -7.390625 6.09375 -6.25 L 7.15625 -6.25 C 7.15625 -7.96875 5.96875 -8.96875 3.953125 -8.96875 C 2.03125 -8.96875 0.84375 -7.90625 0.84375 -6.328125 C 0.84375 -5.25 1.40625 -4.578125 2.5625 -4.28125 L 4.734375 -3.703125 C 5.828125 -3.421875 6.34375 -2.96875 6.34375 -2.296875 C 6.34375 -1.328125 5.609375 -0.765625 4.109375 -0.765625 C 2.453125 -0.765625 1.625 -1.59375 1.625 -2.84375 L 0.578125 -2.84375 C 0.578125 -0.78125 1.96875 0.21875 4.03125 0.21875 C 6.25 0.21875 7.453125 -0.84375 7.453125 -2.40625 Z M 7.453125 -2.40625 \"/>\n",
       "</symbol>\n",
       "<symbol overflow=\"visible\" id=\"glyph0-12\">\n",
       "<path style=\"stroke:none;\" d=\"M 7.75 0 L 7.75 -8.75 L 6.703125 -8.75 L 6.703125 -1.59375 L 2.125 -8.75 L 0.90625 -8.75 L 0.90625 0 L 1.96875 0 L 1.96875 -7.09375 L 6.484375 0 Z M 7.75 0 \"/>\n",
       "</symbol>\n",
       "<symbol overflow=\"visible\" id=\"glyph0-13\">\n",
       "<path style=\"stroke:none;\" d=\"M 7.734375 -8.75 L 6.546875 -8.75 L 4.125 -1.34375 L 1.5625 -8.75 L 0.359375 -8.75 L 3.5 0 L 4.703125 0 Z M 7.734375 -8.75 \"/>\n",
       "</symbol>\n",
       "<symbol overflow=\"visible\" id=\"glyph0-14\">\n",
       "<path style=\"stroke:none;\" d=\"M 8.90625 -4.234375 C 8.90625 -7.0625 7.234375 -8.96875 4.671875 -8.96875 C 2.15625 -8.96875 0.453125 -7.046875 0.453125 -4.3125 C 0.453125 -1.578125 2.15625 0.21875 4.6875 0.21875 C 7.25 0.21875 8.90625 -1.671875 8.90625 -4.234375 Z M 7.78125 -4.265625 C 7.78125 -2.140625 6.53125 -0.765625 4.6875 -0.765625 C 2.8125 -0.765625 1.578125 -2.140625 1.578125 -4.3125 C 1.578125 -6.46875 2.8125 -7.984375 4.671875 -7.984375 C 6.5625 -7.984375 7.78125 -6.46875 7.78125 -4.265625 Z M 7.78125 -4.265625 \"/>\n",
       "</symbol>\n",
       "<symbol overflow=\"visible\" id=\"glyph0-15\">\n",
       "<path style=\"stroke:none;\" d=\"M 8.140625 0 L 8.140625 -0.28125 C 7.734375 -0.5625 7.625 -0.875 7.625 -2.046875 C 7.59375 -3.484375 7.375 -3.90625 6.4375 -4.3125 C 7.421875 -4.796875 7.8125 -5.40625 7.8125 -6.40625 C 7.8125 -7.921875 6.859375 -8.75 5.140625 -8.75 L 1.109375 -8.75 L 1.109375 0 L 2.234375 0 L 2.234375 -3.765625 L 5.109375 -3.765625 C 6.09375 -3.765625 6.5625 -3.28125 6.546875 -2.203125 L 6.546875 -1.421875 C 6.53125 -0.890625 6.640625 -0.359375 6.796875 0 Z M 6.640625 -6.25 C 6.640625 -5.21875 6.125 -4.75 4.9375 -4.75 L 2.234375 -4.75 L 2.234375 -7.765625 L 4.9375 -7.765625 C 6.1875 -7.765625 6.640625 -7.234375 6.640625 -6.25 Z M 6.640625 -6.25 \"/>\n",
       "</symbol>\n",
       "<symbol overflow=\"visible\" id=\"glyph0-16\">\n",
       "<path style=\"stroke:none;\" d=\"M 11.140625 -8.75 L 9.90625 -8.75 L 8.296875 -1.640625 L 6.296875 -8.75 L 5.09375 -8.75 L 3.15625 -1.640625 L 1.515625 -8.75 L 0.265625 -8.75 L 2.515625 0 L 3.734375 0 L 5.6875 -7.1875 L 7.703125 0 L 8.921875 0 Z M 11.140625 -8.75 \"/>\n",
       "</symbol>\n",
       "<symbol overflow=\"visible\" id=\"glyph1-0\">\n",
       "<path style=\"stroke:none;\" d=\"\"/>\n",
       "</symbol>\n",
       "<symbol overflow=\"visible\" id=\"glyph1-1\">\n",
       "<path style=\"stroke:none;\" d=\"M -2.8125 -6.15625 C -4.5 -6.15625 -5.609375 -5.046875 -5.609375 -3.40625 C -5.609375 -2.8125 -5.453125 -2.328125 -5.09375 -1.84375 L -7.28125 -2.171875 L -7.28125 -5.71875 L -8.328125 -5.71875 L -8.328125 -1.3125 L -3.875 -0.6875 L -3.875 -1.65625 C -4.46875 -2.140625 -4.671875 -2.5625 -4.671875 -3.21875 C -4.671875 -4.359375 -3.9375 -5.078125 -2.671875 -5.078125 C -1.453125 -5.078125 -0.75 -4.375 -0.75 -3.21875 C -0.75 -2.296875 -1.21875 -1.734375 -2.1875 -1.46875 L -2.1875 -0.421875 C -0.484375 -0.765625 0.1875 -1.734375 0.1875 -3.234375 C 0.1875 -4.953125 -1.015625 -6.15625 -2.8125 -6.15625 Z M -2.8125 -6.15625 \"/>\n",
       "</symbol>\n",
       "<symbol overflow=\"visible\" id=\"glyph1-2\">\n",
       "<path style=\"stroke:none;\" d=\"M 0 -4.15625 L -8.515625 -4.15625 L -8.515625 -3.46875 C -7.203125 -3.09375 -7.015625 -2.859375 -6.8125 -1.21875 L -6.0625 -1.21875 L -6.0625 -3.109375 L 0 -3.109375 Z M 0 -4.15625 \"/>\n",
       "</symbol>\n",
       "<symbol overflow=\"visible\" id=\"glyph1-3\">\n",
       "<path style=\"stroke:none;\" d=\"M -4.09375 -6.078125 C -7.046875 -6.078125 -8.515625 -5.140625 -8.515625 -3.296875 C -8.515625 -1.46875 -7.015625 -0.515625 -4.15625 -0.515625 C -1.296875 -0.515625 0.1875 -1.46875 0.1875 -3.296875 C 0.1875 -5.09375 -1.296875 -6.078125 -4.09375 -6.078125 Z M -4.1875 -5 C -1.78125 -5 -0.703125 -4.453125 -0.703125 -3.28125 C -0.703125 -2.15625 -1.828125 -1.59375 -4.15625 -1.59375 C -6.484375 -1.59375 -7.578125 -2.15625 -7.578125 -3.296875 C -7.578125 -4.4375 -6.46875 -5 -4.1875 -5 Z M -4.1875 -5 \"/>\n",
       "</symbol>\n",
       "<symbol overflow=\"visible\" id=\"glyph1-4\">\n",
       "<path style=\"stroke:none;\" d=\"M -6.015625 -6.125 C -7.453125 -6.125 -8.515625 -5.015625 -8.515625 -3.40625 C -8.515625 -1.671875 -7.625 -0.65625 -5.5625 -0.59375 L -5.5625 -1.65625 C -6.984375 -1.734375 -7.578125 -2.328125 -7.578125 -3.375 C -7.578125 -4.328125 -6.90625 -5.046875 -5.984375 -5.046875 C -5.3125 -5.046875 -4.734375 -4.65625 -4.3125 -3.90625 L -3.6875 -2.796875 C -2.671875 -1.015625 -1.875 -0.5 0 -0.40625 L 0 -6.078125 L -1.046875 -6.078125 L -1.046875 -1.59375 C -1.734375 -1.703125 -2.1875 -2.09375 -2.796875 -3.125 L -3.4375 -4.328125 C -4.078125 -5.515625 -4.96875 -6.125 -6.015625 -6.125 Z M -6.015625 -6.125 \"/>\n",
       "</symbol>\n",
       "<symbol overflow=\"visible\" id=\"glyph1-5\">\n",
       "<path style=\"stroke:none;\" d=\"M -2.46875 -6.078125 C -3.5 -6.078125 -4.109375 -5.65625 -4.453125 -4.625 C -4.765625 -5.421875 -5.3125 -5.8125 -6.171875 -5.8125 C -7.625 -5.8125 -8.515625 -4.84375 -8.515625 -3.234375 C -8.515625 -1.515625 -7.578125 -0.59375 -5.765625 -0.5625 L -5.765625 -1.625 C -7.015625 -1.640625 -7.578125 -2.15625 -7.578125 -3.234375 C -7.578125 -4.171875 -7.03125 -4.734375 -6.125 -4.734375 C -5.21875 -4.734375 -4.84375 -4.34375 -4.84375 -2.65625 L -3.953125 -2.65625 L -3.953125 -3.234375 C -3.953125 -4.390625 -3.40625 -4.984375 -2.453125 -4.984375 C -1.390625 -4.984375 -0.75 -4.328125 -0.75 -3.234375 C -0.75 -2.078125 -1.328125 -1.515625 -2.5625 -1.4375 L -2.5625 -0.390625 C -0.671875 -0.515625 0.1875 -1.453125 0.1875 -3.1875 C 0.1875 -4.9375 -0.859375 -6.078125 -2.46875 -6.078125 Z M -2.46875 -6.078125 \"/>\n",
       "</symbol>\n",
       "</g>\n",
       "</defs>\n",
       "<g id=\"surface44\">\n",
       "<rect x=\"0\" y=\"0\" width=\"504\" height=\"504\" style=\"fill:rgb(100%,100%,100%);fill-opacity:1;stroke:none;\"/>\n",
       "<path style=\"fill:none;stroke-width:2.25;stroke-linecap:butt;stroke-linejoin:round;stroke:rgb(0%,0%,0%);stroke-opacity:1;stroke-miterlimit:10;\" d=\"M 75.167969 314.417969 L 81.3125 314.417969 \"/>\n",
       "<path style=\"fill:none;stroke-width:0.75;stroke-linecap:round;stroke-linejoin:round;stroke:rgb(0%,0%,0%);stroke-opacity:1;stroke-dasharray:3,3;stroke-miterlimit:10;\" d=\"M 78.238281 348.738281 L 78.238281 343.4375 \"/>\n",
       "<path style=\"fill:none;stroke-width:0.75;stroke-linecap:round;stroke-linejoin:round;stroke:rgb(0%,0%,0%);stroke-opacity:1;stroke-dasharray:3,3;stroke-miterlimit:10;\" d=\"M 78.238281 274.914062 L 78.238281 291.039062 \"/>\n",
       "<path style=\"fill:none;stroke-width:0.75;stroke-linecap:round;stroke-linejoin:round;stroke:rgb(0%,0%,0%);stroke-opacity:1;stroke-miterlimit:10;\" d=\"M 76.703125 348.738281 L 79.777344 348.738281 \"/>\n",
       "<path style=\"fill:none;stroke-width:0.75;stroke-linecap:round;stroke-linejoin:round;stroke:rgb(0%,0%,0%);stroke-opacity:1;stroke-miterlimit:10;\" d=\"M 76.703125 274.914062 L 79.777344 274.914062 \"/>\n",
       "<path style=\"fill:none;stroke-width:0.75;stroke-linecap:round;stroke-linejoin:round;stroke:rgb(0%,0%,0%);stroke-opacity:1;stroke-miterlimit:10;\" d=\"M 75.167969 343.4375 L 81.3125 343.4375 L 81.3125 291.039062 L 75.167969 291.039062 L 75.167969 343.4375 \"/>\n",
       "<path style=\"fill:none;stroke-width:2.25;stroke-linecap:butt;stroke-linejoin:round;stroke:rgb(0%,0%,0%);stroke-opacity:1;stroke-miterlimit:10;\" d=\"M 82.847656 380.523438 L 88.992188 380.523438 \"/>\n",
       "<path style=\"fill:none;stroke-width:0.75;stroke-linecap:round;stroke-linejoin:round;stroke:rgb(0%,0%,0%);stroke-opacity:1;stroke-dasharray:3,3;stroke-miterlimit:10;\" d=\"M 85.921875 400.332031 L 85.921875 397.105469 \"/>\n",
       "<path style=\"fill:none;stroke-width:0.75;stroke-linecap:round;stroke-linejoin:round;stroke:rgb(0%,0%,0%);stroke-opacity:1;stroke-dasharray:3,3;stroke-miterlimit:10;\" d=\"M 85.921875 359.101562 L 85.921875 362.441406 \"/>\n",
       "<path style=\"fill:none;stroke-width:0.75;stroke-linecap:round;stroke-linejoin:round;stroke:rgb(0%,0%,0%);stroke-opacity:1;stroke-miterlimit:10;\" d=\"M 84.382812 400.332031 L 87.457031 400.332031 \"/>\n",
       "<path style=\"fill:none;stroke-width:0.75;stroke-linecap:round;stroke-linejoin:round;stroke:rgb(0%,0%,0%);stroke-opacity:1;stroke-miterlimit:10;\" d=\"M 84.382812 359.101562 L 87.457031 359.101562 \"/>\n",
       "<path style=\"fill:none;stroke-width:0.75;stroke-linecap:round;stroke-linejoin:round;stroke:rgb(0%,0%,0%);stroke-opacity:1;stroke-miterlimit:10;\" d=\"M 82.847656 397.105469 L 88.992188 397.105469 L 88.992188 362.441406 L 82.847656 362.441406 L 82.847656 397.105469 \"/>\n",
       "<path style=\"fill:none;stroke-width:2.25;stroke-linecap:butt;stroke-linejoin:round;stroke:rgb(0%,0%,0%);stroke-opacity:1;stroke-miterlimit:10;\" d=\"M 90.527344 384.496094 L 96.671875 384.496094 \"/>\n",
       "<path style=\"fill:none;stroke-width:0.75;stroke-linecap:round;stroke-linejoin:round;stroke:rgb(0%,0%,0%);stroke-opacity:1;stroke-dasharray:3,3;stroke-miterlimit:10;\" d=\"M 93.601562 400.675781 L 93.601562 398.375 \"/>\n",
       "<path style=\"fill:none;stroke-width:0.75;stroke-linecap:round;stroke-linejoin:round;stroke:rgb(0%,0%,0%);stroke-opacity:1;stroke-dasharray:3,3;stroke-miterlimit:10;\" d=\"M 93.601562 373.496094 L 93.601562 377.644531 \"/>\n",
       "<path style=\"fill:none;stroke-width:0.75;stroke-linecap:round;stroke-linejoin:round;stroke:rgb(0%,0%,0%);stroke-opacity:1;stroke-miterlimit:10;\" d=\"M 92.0625 400.675781 L 95.136719 400.675781 \"/>\n",
       "<path style=\"fill:none;stroke-width:0.75;stroke-linecap:round;stroke-linejoin:round;stroke:rgb(0%,0%,0%);stroke-opacity:1;stroke-miterlimit:10;\" d=\"M 92.0625 373.496094 L 95.136719 373.496094 \"/>\n",
       "<path style=\"fill:none;stroke-width:0.75;stroke-linecap:round;stroke-linejoin:round;stroke:rgb(0%,0%,0%);stroke-opacity:1;stroke-miterlimit:10;\" d=\"M 90.527344 398.375 L 96.671875 398.375 L 96.671875 377.644531 L 90.527344 377.644531 L 90.527344 398.375 \"/>\n",
       "<path style=\"fill:none;stroke-width:2.25;stroke-linecap:butt;stroke-linejoin:round;stroke:rgb(0%,0%,0%);stroke-opacity:1;stroke-miterlimit:10;\" d=\"M 98.207031 368.199219 L 104.351562 368.199219 \"/>\n",
       "<path style=\"fill:none;stroke-width:0.75;stroke-linecap:round;stroke-linejoin:round;stroke:rgb(0%,0%,0%);stroke-opacity:1;stroke-dasharray:3,3;stroke-miterlimit:10;\" d=\"M 101.28125 381.789062 L 101.28125 380.292969 \"/>\n",
       "<path style=\"fill:none;stroke-width:0.75;stroke-linecap:round;stroke-linejoin:round;stroke:rgb(0%,0%,0%);stroke-opacity:1;stroke-dasharray:3,3;stroke-miterlimit:10;\" d=\"M 101.28125 348.046875 L 101.28125 353.230469 \"/>\n",
       "<path style=\"fill:none;stroke-width:0.75;stroke-linecap:round;stroke-linejoin:round;stroke:rgb(0%,0%,0%);stroke-opacity:1;stroke-miterlimit:10;\" d=\"M 99.742188 381.789062 L 102.816406 381.789062 \"/>\n",
       "<path style=\"fill:none;stroke-width:0.75;stroke-linecap:round;stroke-linejoin:round;stroke:rgb(0%,0%,0%);stroke-opacity:1;stroke-miterlimit:10;\" d=\"M 99.742188 348.046875 L 102.816406 348.046875 \"/>\n",
       "<path style=\"fill:none;stroke-width:0.75;stroke-linecap:round;stroke-linejoin:round;stroke:rgb(0%,0%,0%);stroke-opacity:1;stroke-miterlimit:10;\" d=\"M 98.207031 380.292969 L 104.351562 380.292969 L 104.351562 353.230469 L 98.207031 353.230469 L 98.207031 380.292969 \"/>\n",
       "<path style=\"fill:none;stroke-width:2.25;stroke-linecap:butt;stroke-linejoin:round;stroke:rgb(0%,0%,0%);stroke-opacity:1;stroke-miterlimit:10;\" d=\"M 105.886719 319.195312 L 112.03125 319.195312 \"/>\n",
       "<path style=\"fill:none;stroke-width:0.75;stroke-linecap:round;stroke-linejoin:round;stroke:rgb(0%,0%,0%);stroke-opacity:1;stroke-dasharray:3,3;stroke-miterlimit:10;\" d=\"M 108.960938 335.609375 L 108.960938 330.886719 \"/>\n",
       "<path style=\"fill:none;stroke-width:0.75;stroke-linecap:round;stroke-linejoin:round;stroke:rgb(0%,0%,0%);stroke-opacity:1;stroke-dasharray:3,3;stroke-miterlimit:10;\" d=\"M 108.960938 300.367188 L 108.960938 314.53125 \"/>\n",
       "<path style=\"fill:none;stroke-width:0.75;stroke-linecap:round;stroke-linejoin:round;stroke:rgb(0%,0%,0%);stroke-opacity:1;stroke-miterlimit:10;\" d=\"M 107.425781 335.609375 L 110.496094 335.609375 \"/>\n",
       "<path style=\"fill:none;stroke-width:0.75;stroke-linecap:round;stroke-linejoin:round;stroke:rgb(0%,0%,0%);stroke-opacity:1;stroke-miterlimit:10;\" d=\"M 107.425781 300.367188 L 110.496094 300.367188 \"/>\n",
       "<path style=\"fill:none;stroke-width:0.75;stroke-linecap:round;stroke-linejoin:round;stroke:rgb(0%,0%,0%);stroke-opacity:1;stroke-miterlimit:10;\" d=\"M 105.886719 330.886719 L 112.03125 330.886719 L 112.03125 314.53125 L 105.886719 314.53125 L 105.886719 330.886719 \"/>\n",
       "<path style=\"fill:none;stroke-width:0.75;stroke-linecap:round;stroke-linejoin:round;stroke:rgb(0%,0%,0%);stroke-opacity:1;stroke-miterlimit:10;\" d=\"M 111.660156 355.761719 C 111.660156 359.363281 106.261719 359.363281 106.261719 355.761719 C 106.261719 352.164062 111.660156 352.164062 111.660156 355.761719 \"/>\n",
       "<path style=\"fill:none;stroke-width:2.25;stroke-linecap:butt;stroke-linejoin:round;stroke:rgb(0%,0%,0%);stroke-opacity:1;stroke-miterlimit:10;\" d=\"M 113.566406 376.148438 L 119.710938 376.148438 \"/>\n",
       "<path style=\"fill:none;stroke-width:0.75;stroke-linecap:round;stroke-linejoin:round;stroke:rgb(0%,0%,0%);stroke-opacity:1;stroke-dasharray:3,3;stroke-miterlimit:10;\" d=\"M 116.640625 397.105469 L 116.640625 386.855469 \"/>\n",
       "<path style=\"fill:none;stroke-width:0.75;stroke-linecap:round;stroke-linejoin:round;stroke:rgb(0%,0%,0%);stroke-opacity:1;stroke-dasharray:3,3;stroke-miterlimit:10;\" d=\"M 116.640625 351.039062 L 116.640625 359.449219 \"/>\n",
       "<path style=\"fill:none;stroke-width:0.75;stroke-linecap:round;stroke-linejoin:round;stroke:rgb(0%,0%,0%);stroke-opacity:1;stroke-miterlimit:10;\" d=\"M 115.105469 397.105469 L 118.175781 397.105469 \"/>\n",
       "<path style=\"fill:none;stroke-width:0.75;stroke-linecap:round;stroke-linejoin:round;stroke:rgb(0%,0%,0%);stroke-opacity:1;stroke-miterlimit:10;\" d=\"M 115.105469 351.039062 L 118.175781 351.039062 \"/>\n",
       "<path style=\"fill:none;stroke-width:0.75;stroke-linecap:round;stroke-linejoin:round;stroke:rgb(0%,0%,0%);stroke-opacity:1;stroke-miterlimit:10;\" d=\"M 113.566406 386.855469 L 119.710938 386.855469 L 119.710938 359.449219 L 113.566406 359.449219 L 113.566406 386.855469 \"/>\n",
       "<path style=\"fill:none;stroke-width:2.25;stroke-linecap:butt;stroke-linejoin:round;stroke:rgb(0%,0%,0%);stroke-opacity:1;stroke-miterlimit:10;\" d=\"M 121.246094 289.945312 L 127.390625 289.945312 \"/>\n",
       "<path style=\"fill:none;stroke-width:0.75;stroke-linecap:round;stroke-linejoin:round;stroke:rgb(0%,0%,0%);stroke-opacity:1;stroke-dasharray:3,3;stroke-miterlimit:10;\" d=\"M 124.320312 355.1875 L 124.320312 347.816406 \"/>\n",
       "<path style=\"fill:none;stroke-width:0.75;stroke-linecap:round;stroke-linejoin:round;stroke:rgb(0%,0%,0%);stroke-opacity:1;stroke-dasharray:3,3;stroke-miterlimit:10;\" d=\"M 124.320312 256.71875 L 124.320312 275.375 \"/>\n",
       "<path style=\"fill:none;stroke-width:0.75;stroke-linecap:round;stroke-linejoin:round;stroke:rgb(0%,0%,0%);stroke-opacity:1;stroke-miterlimit:10;\" d=\"M 122.785156 355.1875 L 125.855469 355.1875 \"/>\n",
       "<path style=\"fill:none;stroke-width:0.75;stroke-linecap:round;stroke-linejoin:round;stroke:rgb(0%,0%,0%);stroke-opacity:1;stroke-miterlimit:10;\" d=\"M 122.785156 256.71875 L 125.855469 256.71875 \"/>\n",
       "<path style=\"fill:none;stroke-width:0.75;stroke-linecap:round;stroke-linejoin:round;stroke:rgb(0%,0%,0%);stroke-opacity:1;stroke-miterlimit:10;\" d=\"M 121.246094 347.816406 L 127.390625 347.816406 L 127.390625 275.375 L 121.246094 275.375 L 121.246094 347.816406 \"/>\n",
       "<path style=\"fill:none;stroke-width:2.25;stroke-linecap:butt;stroke-linejoin:round;stroke:rgb(0%,0%,0%);stroke-opacity:1;stroke-miterlimit:10;\" d=\"M 128.929688 343.726562 L 135.070312 343.726562 \"/>\n",
       "<path style=\"fill:none;stroke-width:0.75;stroke-linecap:round;stroke-linejoin:round;stroke:rgb(0%,0%,0%);stroke-opacity:1;stroke-dasharray:3,3;stroke-miterlimit:10;\" d=\"M 132 394.804688 L 132 384.667969 \"/>\n",
       "<path style=\"fill:none;stroke-width:0.75;stroke-linecap:round;stroke-linejoin:round;stroke:rgb(0%,0%,0%);stroke-opacity:1;stroke-dasharray:3,3;stroke-miterlimit:10;\" d=\"M 132 322.25 L 132 332.613281 \"/>\n",
       "<path style=\"fill:none;stroke-width:0.75;stroke-linecap:round;stroke-linejoin:round;stroke:rgb(0%,0%,0%);stroke-opacity:1;stroke-miterlimit:10;\" d=\"M 130.464844 394.804688 L 133.535156 394.804688 \"/>\n",
       "<path style=\"fill:none;stroke-width:0.75;stroke-linecap:round;stroke-linejoin:round;stroke:rgb(0%,0%,0%);stroke-opacity:1;stroke-miterlimit:10;\" d=\"M 130.464844 322.25 L 133.535156 322.25 \"/>\n",
       "<path style=\"fill:none;stroke-width:0.75;stroke-linecap:round;stroke-linejoin:round;stroke:rgb(0%,0%,0%);stroke-opacity:1;stroke-miterlimit:10;\" d=\"M 128.929688 384.667969 L 135.070312 384.667969 L 135.070312 332.613281 L 128.929688 332.613281 L 128.929688 384.667969 \"/>\n",
       "<path style=\"fill:none;stroke-width:2.25;stroke-linecap:butt;stroke-linejoin:round;stroke:rgb(0%,0%,0%);stroke-opacity:1;stroke-miterlimit:10;\" d=\"M 136.609375 346.492188 L 142.753906 346.492188 \"/>\n",
       "<path style=\"fill:none;stroke-width:0.75;stroke-linecap:round;stroke-linejoin:round;stroke:rgb(0%,0%,0%);stroke-opacity:1;stroke-dasharray:3,3;stroke-miterlimit:10;\" d=\"M 139.679688 385.246094 L 139.679688 375.917969 \"/>\n",
       "<path style=\"fill:none;stroke-width:0.75;stroke-linecap:round;stroke-linejoin:round;stroke:rgb(0%,0%,0%);stroke-opacity:1;stroke-dasharray:3,3;stroke-miterlimit:10;\" d=\"M 139.679688 332.5 L 139.679688 342.980469 \"/>\n",
       "<path style=\"fill:none;stroke-width:0.75;stroke-linecap:round;stroke-linejoin:round;stroke:rgb(0%,0%,0%);stroke-opacity:1;stroke-miterlimit:10;\" d=\"M 138.144531 385.246094 L 141.214844 385.246094 \"/>\n",
       "<path style=\"fill:none;stroke-width:0.75;stroke-linecap:round;stroke-linejoin:round;stroke:rgb(0%,0%,0%);stroke-opacity:1;stroke-miterlimit:10;\" d=\"M 138.144531 332.5 L 141.214844 332.5 \"/>\n",
       "<path style=\"fill:none;stroke-width:0.75;stroke-linecap:round;stroke-linejoin:round;stroke:rgb(0%,0%,0%);stroke-opacity:1;stroke-miterlimit:10;\" d=\"M 136.609375 375.917969 L 142.753906 375.917969 L 142.753906 342.980469 L 136.609375 342.980469 L 136.609375 375.917969 \"/>\n",
       "<path style=\"fill:none;stroke-width:2.25;stroke-linecap:butt;stroke-linejoin:round;stroke:rgb(0%,0%,0%);stroke-opacity:1;stroke-miterlimit:10;\" d=\"M 144.289062 375.628906 L 150.433594 375.628906 \"/>\n",
       "<path style=\"fill:none;stroke-width:0.75;stroke-linecap:round;stroke-linejoin:round;stroke:rgb(0%,0%,0%);stroke-opacity:1;stroke-dasharray:3,3;stroke-miterlimit:10;\" d=\"M 147.359375 393.304688 L 147.359375 391.234375 \"/>\n",
       "<path style=\"fill:none;stroke-width:0.75;stroke-linecap:round;stroke-linejoin:round;stroke:rgb(0%,0%,0%);stroke-opacity:1;stroke-dasharray:3,3;stroke-miterlimit:10;\" d=\"M 147.359375 353.230469 L 147.359375 362.671875 \"/>\n",
       "<path style=\"fill:none;stroke-width:0.75;stroke-linecap:round;stroke-linejoin:round;stroke:rgb(0%,0%,0%);stroke-opacity:1;stroke-miterlimit:10;\" d=\"M 145.824219 393.304688 L 148.894531 393.304688 \"/>\n",
       "<path style=\"fill:none;stroke-width:0.75;stroke-linecap:round;stroke-linejoin:round;stroke:rgb(0%,0%,0%);stroke-opacity:1;stroke-miterlimit:10;\" d=\"M 145.824219 353.230469 L 148.894531 353.230469 \"/>\n",
       "<path style=\"fill:none;stroke-width:0.75;stroke-linecap:round;stroke-linejoin:round;stroke:rgb(0%,0%,0%);stroke-opacity:1;stroke-miterlimit:10;\" d=\"M 144.289062 391.234375 L 150.433594 391.234375 L 150.433594 362.671875 L 144.289062 362.671875 L 144.289062 391.234375 \"/>\n",
       "<path style=\"fill:none;stroke-width:2.25;stroke-linecap:butt;stroke-linejoin:round;stroke:rgb(0%,0%,0%);stroke-opacity:1;stroke-miterlimit:10;\" d=\"M 151.96875 223.378906 L 158.113281 223.378906 \"/>\n",
       "<path style=\"fill:none;stroke-width:0.75;stroke-linecap:round;stroke-linejoin:round;stroke:rgb(0%,0%,0%);stroke-opacity:1;stroke-dasharray:3,3;stroke-miterlimit:10;\" d=\"M 155.039062 310.617188 L 155.039062 298.179688 \"/>\n",
       "<path style=\"fill:none;stroke-width:0.75;stroke-linecap:round;stroke-linejoin:round;stroke:rgb(0%,0%,0%);stroke-opacity:1;stroke-dasharray:3,3;stroke-miterlimit:10;\" d=\"M 155.039062 72.800781 L 155.039062 128.539062 \"/>\n",
       "<path style=\"fill:none;stroke-width:0.75;stroke-linecap:round;stroke-linejoin:round;stroke:rgb(0%,0%,0%);stroke-opacity:1;stroke-miterlimit:10;\" d=\"M 153.503906 310.617188 L 156.574219 310.617188 \"/>\n",
       "<path style=\"fill:none;stroke-width:0.75;stroke-linecap:round;stroke-linejoin:round;stroke:rgb(0%,0%,0%);stroke-opacity:1;stroke-miterlimit:10;\" d=\"M 153.503906 72.800781 L 156.574219 72.800781 \"/>\n",
       "<path style=\"fill:none;stroke-width:0.75;stroke-linecap:round;stroke-linejoin:round;stroke:rgb(0%,0%,0%);stroke-opacity:1;stroke-miterlimit:10;\" d=\"M 151.96875 298.179688 L 158.113281 298.179688 L 158.113281 128.539062 L 151.96875 128.539062 L 151.96875 298.179688 \"/>\n",
       "<path style=\"fill:none;stroke-width:2.25;stroke-linecap:butt;stroke-linejoin:round;stroke:rgb(0%,0%,0%);stroke-opacity:1;stroke-miterlimit:10;\" d=\"M 159.648438 385.820312 L 165.792969 385.820312 \"/>\n",
       "<path style=\"fill:none;stroke-width:0.75;stroke-linecap:round;stroke-linejoin:round;stroke:rgb(0%,0%,0%);stroke-opacity:1;stroke-dasharray:3,3;stroke-miterlimit:10;\" d=\"M 162.71875 396.53125 L 162.71875 394.113281 \"/>\n",
       "<path style=\"fill:none;stroke-width:0.75;stroke-linecap:round;stroke-linejoin:round;stroke:rgb(0%,0%,0%);stroke-opacity:1;stroke-dasharray:3,3;stroke-miterlimit:10;\" d=\"M 162.71875 371.886719 L 162.71875 377.757812 \"/>\n",
       "<path style=\"fill:none;stroke-width:0.75;stroke-linecap:round;stroke-linejoin:round;stroke:rgb(0%,0%,0%);stroke-opacity:1;stroke-miterlimit:10;\" d=\"M 161.183594 396.53125 L 164.257812 396.53125 \"/>\n",
       "<path style=\"fill:none;stroke-width:0.75;stroke-linecap:round;stroke-linejoin:round;stroke:rgb(0%,0%,0%);stroke-opacity:1;stroke-miterlimit:10;\" d=\"M 161.183594 371.886719 L 164.257812 371.886719 \"/>\n",
       "<path style=\"fill:none;stroke-width:0.75;stroke-linecap:round;stroke-linejoin:round;stroke:rgb(0%,0%,0%);stroke-opacity:1;stroke-miterlimit:10;\" d=\"M 159.648438 394.113281 L 165.792969 394.113281 L 165.792969 377.757812 L 159.648438 377.757812 L 159.648438 394.113281 \"/>\n",
       "<path style=\"fill:none;stroke-width:2.25;stroke-linecap:butt;stroke-linejoin:round;stroke:rgb(0%,0%,0%);stroke-opacity:1;stroke-miterlimit:10;\" d=\"M 167.328125 402.632812 L 173.472656 402.632812 \"/>\n",
       "<path style=\"fill:none;stroke-width:0.75;stroke-linecap:round;stroke-linejoin:round;stroke:rgb(0%,0%,0%);stroke-opacity:1;stroke-dasharray:3,3;stroke-miterlimit:10;\" d=\"M 170.398438 416.800781 L 170.398438 407.585938 \"/>\n",
       "<path style=\"fill:none;stroke-width:0.75;stroke-linecap:round;stroke-linejoin:round;stroke:rgb(0%,0%,0%);stroke-opacity:1;stroke-dasharray:3,3;stroke-miterlimit:10;\" d=\"M 170.398438 377.527344 L 170.398438 389.851562 \"/>\n",
       "<path style=\"fill:none;stroke-width:0.75;stroke-linecap:round;stroke-linejoin:round;stroke:rgb(0%,0%,0%);stroke-opacity:1;stroke-miterlimit:10;\" d=\"M 168.863281 416.800781 L 171.9375 416.800781 \"/>\n",
       "<path style=\"fill:none;stroke-width:0.75;stroke-linecap:round;stroke-linejoin:round;stroke:rgb(0%,0%,0%);stroke-opacity:1;stroke-miterlimit:10;\" d=\"M 168.863281 377.527344 L 171.9375 377.527344 \"/>\n",
       "<path style=\"fill:none;stroke-width:0.75;stroke-linecap:round;stroke-linejoin:round;stroke:rgb(0%,0%,0%);stroke-opacity:1;stroke-miterlimit:10;\" d=\"M 167.328125 407.585938 L 173.472656 407.585938 L 173.472656 389.851562 L 167.328125 389.851562 L 167.328125 407.585938 \"/>\n",
       "<path style=\"fill:none;stroke-width:2.25;stroke-linecap:butt;stroke-linejoin:round;stroke:rgb(0%,0%,0%);stroke-opacity:1;stroke-miterlimit:10;\" d=\"M 175.007812 376.550781 L 181.152344 376.550781 \"/>\n",
       "<path style=\"fill:none;stroke-width:0.75;stroke-linecap:round;stroke-linejoin:round;stroke:rgb(0%,0%,0%);stroke-opacity:1;stroke-dasharray:3,3;stroke-miterlimit:10;\" d=\"M 178.078125 386.511719 L 178.078125 384.898438 \"/>\n",
       "<path style=\"fill:none;stroke-width:0.75;stroke-linecap:round;stroke-linejoin:round;stroke:rgb(0%,0%,0%);stroke-opacity:1;stroke-dasharray:3,3;stroke-miterlimit:10;\" d=\"M 178.078125 358.527344 L 178.078125 361.519531 \"/>\n",
       "<path style=\"fill:none;stroke-width:0.75;stroke-linecap:round;stroke-linejoin:round;stroke:rgb(0%,0%,0%);stroke-opacity:1;stroke-miterlimit:10;\" d=\"M 176.542969 386.511719 L 179.617188 386.511719 \"/>\n",
       "<path style=\"fill:none;stroke-width:0.75;stroke-linecap:round;stroke-linejoin:round;stroke:rgb(0%,0%,0%);stroke-opacity:1;stroke-miterlimit:10;\" d=\"M 176.542969 358.527344 L 179.617188 358.527344 \"/>\n",
       "<path style=\"fill:none;stroke-width:0.75;stroke-linecap:round;stroke-linejoin:round;stroke:rgb(0%,0%,0%);stroke-opacity:1;stroke-miterlimit:10;\" d=\"M 175.007812 384.898438 L 181.152344 384.898438 L 181.152344 361.519531 L 175.007812 361.519531 L 175.007812 384.898438 \"/>\n",
       "<path style=\"fill:none;stroke-width:2.25;stroke-linecap:butt;stroke-linejoin:round;stroke:rgb(0%,0%,0%);stroke-opacity:1;stroke-miterlimit:10;\" d=\"M 182.6875 390.195312 L 188.832031 390.195312 \"/>\n",
       "<path style=\"fill:none;stroke-width:0.75;stroke-linecap:round;stroke-linejoin:round;stroke:rgb(0%,0%,0%);stroke-opacity:1;stroke-dasharray:3,3;stroke-miterlimit:10;\" d=\"M 185.761719 405.167969 L 185.761719 402.980469 \"/>\n",
       "<path style=\"fill:none;stroke-width:0.75;stroke-linecap:round;stroke-linejoin:round;stroke:rgb(0%,0%,0%);stroke-opacity:1;stroke-dasharray:3,3;stroke-miterlimit:10;\" d=\"M 185.761719 364.285156 L 185.761719 376.492188 \"/>\n",
       "<path style=\"fill:none;stroke-width:0.75;stroke-linecap:round;stroke-linejoin:round;stroke:rgb(0%,0%,0%);stroke-opacity:1;stroke-miterlimit:10;\" d=\"M 184.222656 405.167969 L 187.296875 405.167969 \"/>\n",
       "<path style=\"fill:none;stroke-width:0.75;stroke-linecap:round;stroke-linejoin:round;stroke:rgb(0%,0%,0%);stroke-opacity:1;stroke-miterlimit:10;\" d=\"M 184.222656 364.285156 L 187.296875 364.285156 \"/>\n",
       "<path style=\"fill:none;stroke-width:0.75;stroke-linecap:round;stroke-linejoin:round;stroke:rgb(0%,0%,0%);stroke-opacity:1;stroke-miterlimit:10;\" d=\"M 182.6875 402.980469 L 188.832031 402.980469 L 188.832031 376.492188 L 182.6875 376.492188 L 182.6875 402.980469 \"/>\n",
       "<path style=\"fill:none;stroke-width:2.25;stroke-linecap:butt;stroke-linejoin:round;stroke:rgb(0%,0%,0%);stroke-opacity:1;stroke-miterlimit:10;\" d=\"M 190.367188 385.761719 L 196.511719 385.761719 \"/>\n",
       "<path style=\"fill:none;stroke-width:0.75;stroke-linecap:round;stroke-linejoin:round;stroke:rgb(0%,0%,0%);stroke-opacity:1;stroke-dasharray:3,3;stroke-miterlimit:10;\" d=\"M 193.441406 392.960938 L 193.441406 391.695312 \"/>\n",
       "<path style=\"fill:none;stroke-width:0.75;stroke-linecap:round;stroke-linejoin:round;stroke:rgb(0%,0%,0%);stroke-opacity:1;stroke-dasharray:3,3;stroke-miterlimit:10;\" d=\"M 193.441406 352.882812 L 193.441406 368.660156 \"/>\n",
       "<path style=\"fill:none;stroke-width:0.75;stroke-linecap:round;stroke-linejoin:round;stroke:rgb(0%,0%,0%);stroke-opacity:1;stroke-miterlimit:10;\" d=\"M 191.902344 392.960938 L 194.976562 392.960938 \"/>\n",
       "<path style=\"fill:none;stroke-width:0.75;stroke-linecap:round;stroke-linejoin:round;stroke:rgb(0%,0%,0%);stroke-opacity:1;stroke-miterlimit:10;\" d=\"M 191.902344 352.882812 L 194.976562 352.882812 \"/>\n",
       "<path style=\"fill:none;stroke-width:0.75;stroke-linecap:round;stroke-linejoin:round;stroke:rgb(0%,0%,0%);stroke-opacity:1;stroke-miterlimit:10;\" d=\"M 190.367188 391.695312 L 196.511719 391.695312 L 196.511719 368.660156 L 190.367188 368.660156 L 190.367188 391.695312 \"/>\n",
       "<path style=\"fill:none;stroke-width:2.25;stroke-linecap:butt;stroke-linejoin:round;stroke:rgb(0%,0%,0%);stroke-opacity:1;stroke-miterlimit:10;\" d=\"M 198.046875 399.929688 L 204.191406 399.929688 \"/>\n",
       "<path style=\"fill:none;stroke-width:0.75;stroke-linecap:round;stroke-linejoin:round;stroke:rgb(0%,0%,0%);stroke-opacity:1;stroke-dasharray:3,3;stroke-miterlimit:10;\" d=\"M 201.121094 416.683594 L 201.121094 413.921875 \"/>\n",
       "<path style=\"fill:none;stroke-width:0.75;stroke-linecap:round;stroke-linejoin:round;stroke:rgb(0%,0%,0%);stroke-opacity:1;stroke-dasharray:3,3;stroke-miterlimit:10;\" d=\"M 201.121094 376.261719 L 201.121094 387.316406 \"/>\n",
       "<path style=\"fill:none;stroke-width:0.75;stroke-linecap:round;stroke-linejoin:round;stroke:rgb(0%,0%,0%);stroke-opacity:1;stroke-miterlimit:10;\" d=\"M 199.585938 416.683594 L 202.65625 416.683594 \"/>\n",
       "<path style=\"fill:none;stroke-width:0.75;stroke-linecap:round;stroke-linejoin:round;stroke:rgb(0%,0%,0%);stroke-opacity:1;stroke-miterlimit:10;\" d=\"M 199.585938 376.261719 L 202.65625 376.261719 \"/>\n",
       "<path style=\"fill:none;stroke-width:0.75;stroke-linecap:round;stroke-linejoin:round;stroke:rgb(0%,0%,0%);stroke-opacity:1;stroke-miterlimit:10;\" d=\"M 198.046875 413.921875 L 204.191406 413.921875 L 204.191406 387.316406 L 198.046875 387.316406 L 198.046875 413.921875 \"/>\n",
       "<path style=\"fill:none;stroke-width:2.25;stroke-linecap:butt;stroke-linejoin:round;stroke:rgb(0%,0%,0%);stroke-opacity:1;stroke-miterlimit:10;\" d=\"M 205.726562 379.542969 L 211.871094 379.542969 \"/>\n",
       "<path style=\"fill:none;stroke-width:0.75;stroke-linecap:round;stroke-linejoin:round;stroke:rgb(0%,0%,0%);stroke-opacity:1;stroke-dasharray:3,3;stroke-miterlimit:10;\" d=\"M 208.800781 395.839844 L 208.800781 385.015625 \"/>\n",
       "<path style=\"fill:none;stroke-width:0.75;stroke-linecap:round;stroke-linejoin:round;stroke:rgb(0%,0%,0%);stroke-opacity:1;stroke-dasharray:3,3;stroke-miterlimit:10;\" d=\"M 208.800781 356.109375 L 208.800781 372.230469 \"/>\n",
       "<path style=\"fill:none;stroke-width:0.75;stroke-linecap:round;stroke-linejoin:round;stroke:rgb(0%,0%,0%);stroke-opacity:1;stroke-miterlimit:10;\" d=\"M 207.265625 395.839844 L 210.335938 395.839844 \"/>\n",
       "<path style=\"fill:none;stroke-width:0.75;stroke-linecap:round;stroke-linejoin:round;stroke:rgb(0%,0%,0%);stroke-opacity:1;stroke-miterlimit:10;\" d=\"M 207.265625 356.109375 L 210.335938 356.109375 \"/>\n",
       "<path style=\"fill:none;stroke-width:0.75;stroke-linecap:round;stroke-linejoin:round;stroke:rgb(0%,0%,0%);stroke-opacity:1;stroke-miterlimit:10;\" d=\"M 205.726562 385.015625 L 211.871094 385.015625 L 211.871094 372.230469 L 205.726562 372.230469 L 205.726562 385.015625 \"/>\n",
       "<path style=\"fill:none;stroke-width:2.25;stroke-linecap:butt;stroke-linejoin:round;stroke:rgb(0%,0%,0%);stroke-opacity:1;stroke-miterlimit:10;\" d=\"M 213.40625 304.167969 L 219.550781 304.167969 \"/>\n",
       "<path style=\"fill:none;stroke-width:0.75;stroke-linecap:round;stroke-linejoin:round;stroke:rgb(0%,0%,0%);stroke-opacity:1;stroke-dasharray:3,3;stroke-miterlimit:10;\" d=\"M 216.480469 355.53125 L 216.480469 340.789062 \"/>\n",
       "<path style=\"fill:none;stroke-width:0.75;stroke-linecap:round;stroke-linejoin:round;stroke:rgb(0%,0%,0%);stroke-opacity:1;stroke-dasharray:3,3;stroke-miterlimit:10;\" d=\"M 216.480469 277.910156 L 216.480469 290.234375 \"/>\n",
       "<path style=\"fill:none;stroke-width:0.75;stroke-linecap:round;stroke-linejoin:round;stroke:rgb(0%,0%,0%);stroke-opacity:1;stroke-miterlimit:10;\" d=\"M 214.945312 355.53125 L 218.015625 355.53125 \"/>\n",
       "<path style=\"fill:none;stroke-width:0.75;stroke-linecap:round;stroke-linejoin:round;stroke:rgb(0%,0%,0%);stroke-opacity:1;stroke-miterlimit:10;\" d=\"M 214.945312 277.910156 L 218.015625 277.910156 \"/>\n",
       "<path style=\"fill:none;stroke-width:0.75;stroke-linecap:round;stroke-linejoin:round;stroke:rgb(0%,0%,0%);stroke-opacity:1;stroke-miterlimit:10;\" d=\"M 213.40625 340.789062 L 219.550781 340.789062 L 219.550781 290.234375 L 213.40625 290.234375 L 213.40625 340.789062 \"/>\n",
       "<path style=\"fill:none;stroke-width:2.25;stroke-linecap:butt;stroke-linejoin:round;stroke:rgb(0%,0%,0%);stroke-opacity:1;stroke-miterlimit:10;\" d=\"M 221.089844 342.574219 L 227.230469 342.574219 \"/>\n",
       "<path style=\"fill:none;stroke-width:0.75;stroke-linecap:round;stroke-linejoin:round;stroke:rgb(0%,0%,0%);stroke-opacity:1;stroke-dasharray:3,3;stroke-miterlimit:10;\" d=\"M 224.160156 393.652344 L 224.160156 387.203125 \"/>\n",
       "<path style=\"fill:none;stroke-width:0.75;stroke-linecap:round;stroke-linejoin:round;stroke:rgb(0%,0%,0%);stroke-opacity:1;stroke-dasharray:3,3;stroke-miterlimit:10;\" d=\"M 224.160156 314.070312 L 224.160156 327.429688 \"/>\n",
       "<path style=\"fill:none;stroke-width:0.75;stroke-linecap:round;stroke-linejoin:round;stroke:rgb(0%,0%,0%);stroke-opacity:1;stroke-miterlimit:10;\" d=\"M 222.625 393.652344 L 225.695312 393.652344 \"/>\n",
       "<path style=\"fill:none;stroke-width:0.75;stroke-linecap:round;stroke-linejoin:round;stroke:rgb(0%,0%,0%);stroke-opacity:1;stroke-miterlimit:10;\" d=\"M 222.625 314.070312 L 225.695312 314.070312 \"/>\n",
       "<path style=\"fill:none;stroke-width:0.75;stroke-linecap:round;stroke-linejoin:round;stroke:rgb(0%,0%,0%);stroke-opacity:1;stroke-miterlimit:10;\" d=\"M 221.089844 387.203125 L 227.230469 387.203125 L 227.230469 327.429688 L 221.089844 327.429688 L 221.089844 387.203125 \"/>\n",
       "<path style=\"fill:none;stroke-width:2.25;stroke-linecap:butt;stroke-linejoin:round;stroke:rgb(0%,0%,0%);stroke-opacity:1;stroke-miterlimit:10;\" d=\"M 228.769531 328.871094 L 234.910156 328.871094 \"/>\n",
       "<path style=\"fill:none;stroke-width:0.75;stroke-linecap:round;stroke-linejoin:round;stroke:rgb(0%,0%,0%);stroke-opacity:1;stroke-dasharray:3,3;stroke-miterlimit:10;\" d=\"M 231.839844 353.230469 L 231.839844 345.628906 \"/>\n",
       "<path style=\"fill:none;stroke-width:0.75;stroke-linecap:round;stroke-linejoin:round;stroke:rgb(0%,0%,0%);stroke-opacity:1;stroke-dasharray:3,3;stroke-miterlimit:10;\" d=\"M 231.839844 296.796875 L 231.839844 316.953125 \"/>\n",
       "<path style=\"fill:none;stroke-width:0.75;stroke-linecap:round;stroke-linejoin:round;stroke:rgb(0%,0%,0%);stroke-opacity:1;stroke-miterlimit:10;\" d=\"M 230.304688 353.230469 L 233.375 353.230469 \"/>\n",
       "<path style=\"fill:none;stroke-width:0.75;stroke-linecap:round;stroke-linejoin:round;stroke:rgb(0%,0%,0%);stroke-opacity:1;stroke-miterlimit:10;\" d=\"M 230.304688 296.796875 L 233.375 296.796875 \"/>\n",
       "<path style=\"fill:none;stroke-width:0.75;stroke-linecap:round;stroke-linejoin:round;stroke:rgb(0%,0%,0%);stroke-opacity:1;stroke-miterlimit:10;\" d=\"M 228.769531 345.628906 L 234.910156 345.628906 L 234.910156 316.953125 L 228.769531 316.953125 L 228.769531 345.628906 \"/>\n",
       "<path style=\"fill:none;stroke-width:2.25;stroke-linecap:butt;stroke-linejoin:round;stroke:rgb(0%,0%,0%);stroke-opacity:1;stroke-miterlimit:10;\" d=\"M 236.449219 368.832031 L 242.59375 368.832031 \"/>\n",
       "<path style=\"fill:none;stroke-width:0.75;stroke-linecap:round;stroke-linejoin:round;stroke:rgb(0%,0%,0%);stroke-opacity:1;stroke-dasharray:3,3;stroke-miterlimit:10;\" d=\"M 239.519531 385.9375 L 239.519531 383.171875 \"/>\n",
       "<path style=\"fill:none;stroke-width:0.75;stroke-linecap:round;stroke-linejoin:round;stroke:rgb(0%,0%,0%);stroke-opacity:1;stroke-dasharray:3,3;stroke-miterlimit:10;\" d=\"M 239.519531 335.722656 L 239.519531 351.039062 \"/>\n",
       "<path style=\"fill:none;stroke-width:0.75;stroke-linecap:round;stroke-linejoin:round;stroke:rgb(0%,0%,0%);stroke-opacity:1;stroke-miterlimit:10;\" d=\"M 237.984375 385.9375 L 241.054688 385.9375 \"/>\n",
       "<path style=\"fill:none;stroke-width:0.75;stroke-linecap:round;stroke-linejoin:round;stroke:rgb(0%,0%,0%);stroke-opacity:1;stroke-miterlimit:10;\" d=\"M 237.984375 335.722656 L 241.054688 335.722656 \"/>\n",
       "<path style=\"fill:none;stroke-width:0.75;stroke-linecap:round;stroke-linejoin:round;stroke:rgb(0%,0%,0%);stroke-opacity:1;stroke-miterlimit:10;\" d=\"M 236.449219 383.171875 L 242.59375 383.171875 L 242.59375 351.039062 L 236.449219 351.039062 L 236.449219 383.171875 \"/>\n",
       "<path style=\"fill:none;stroke-width:2.25;stroke-linecap:butt;stroke-linejoin:round;stroke:rgb(0%,0%,0%);stroke-opacity:1;stroke-miterlimit:10;\" d=\"M 244.128906 381.789062 L 250.273438 381.789062 \"/>\n",
       "<path style=\"fill:none;stroke-width:0.75;stroke-linecap:round;stroke-linejoin:round;stroke:rgb(0%,0%,0%);stroke-opacity:1;stroke-dasharray:3,3;stroke-miterlimit:10;\" d=\"M 247.199219 398.027344 L 247.199219 395.609375 \"/>\n",
       "<path style=\"fill:none;stroke-width:0.75;stroke-linecap:round;stroke-linejoin:round;stroke:rgb(0%,0%,0%);stroke-opacity:1;stroke-dasharray:3,3;stroke-miterlimit:10;\" d=\"M 247.199219 356.453125 L 247.199219 367.96875 \"/>\n",
       "<path style=\"fill:none;stroke-width:0.75;stroke-linecap:round;stroke-linejoin:round;stroke:rgb(0%,0%,0%);stroke-opacity:1;stroke-miterlimit:10;\" d=\"M 245.664062 398.027344 L 248.734375 398.027344 \"/>\n",
       "<path style=\"fill:none;stroke-width:0.75;stroke-linecap:round;stroke-linejoin:round;stroke:rgb(0%,0%,0%);stroke-opacity:1;stroke-miterlimit:10;\" d=\"M 245.664062 356.453125 L 248.734375 356.453125 \"/>\n",
       "<path style=\"fill:none;stroke-width:0.75;stroke-linecap:round;stroke-linejoin:round;stroke:rgb(0%,0%,0%);stroke-opacity:1;stroke-miterlimit:10;\" d=\"M 244.128906 395.609375 L 250.273438 395.609375 L 250.273438 367.96875 L 244.128906 367.96875 L 244.128906 395.609375 \"/>\n",
       "<path style=\"fill:none;stroke-width:2.25;stroke-linecap:butt;stroke-linejoin:round;stroke:rgb(0%,0%,0%);stroke-opacity:1;stroke-miterlimit:10;\" d=\"M 251.808594 390.773438 L 257.953125 390.773438 \"/>\n",
       "<path style=\"fill:none;stroke-width:0.75;stroke-linecap:round;stroke-linejoin:round;stroke:rgb(0%,0%,0%);stroke-opacity:1;stroke-dasharray:3,3;stroke-miterlimit:10;\" d=\"M 254.878906 395.496094 L 254.878906 394.917969 \"/>\n",
       "<path style=\"fill:none;stroke-width:0.75;stroke-linecap:round;stroke-linejoin:round;stroke:rgb(0%,0%,0%);stroke-opacity:1;stroke-dasharray:3,3;stroke-miterlimit:10;\" d=\"M 254.878906 360.714844 L 254.878906 375.226562 \"/>\n",
       "<path style=\"fill:none;stroke-width:0.75;stroke-linecap:round;stroke-linejoin:round;stroke:rgb(0%,0%,0%);stroke-opacity:1;stroke-miterlimit:10;\" d=\"M 253.34375 395.496094 L 256.414062 395.496094 \"/>\n",
       "<path style=\"fill:none;stroke-width:0.75;stroke-linecap:round;stroke-linejoin:round;stroke:rgb(0%,0%,0%);stroke-opacity:1;stroke-miterlimit:10;\" d=\"M 253.34375 360.714844 L 256.414062 360.714844 \"/>\n",
       "<path style=\"fill:none;stroke-width:0.75;stroke-linecap:round;stroke-linejoin:round;stroke:rgb(0%,0%,0%);stroke-opacity:1;stroke-miterlimit:10;\" d=\"M 251.808594 394.917969 L 257.953125 394.917969 L 257.953125 375.226562 L 251.808594 375.226562 L 251.808594 394.917969 \"/>\n",
       "<path style=\"fill:none;stroke-width:2.25;stroke-linecap:butt;stroke-linejoin:round;stroke:rgb(0%,0%,0%);stroke-opacity:1;stroke-miterlimit:10;\" d=\"M 259.488281 370.617188 L 265.632812 370.617188 \"/>\n",
       "<path style=\"fill:none;stroke-width:0.75;stroke-linecap:round;stroke-linejoin:round;stroke:rgb(0%,0%,0%);stroke-opacity:1;stroke-dasharray:3,3;stroke-miterlimit:10;\" d=\"M 262.558594 397.453125 L 262.558594 390.425781 \"/>\n",
       "<path style=\"fill:none;stroke-width:0.75;stroke-linecap:round;stroke-linejoin:round;stroke:rgb(0%,0%,0%);stroke-opacity:1;stroke-dasharray:3,3;stroke-miterlimit:10;\" d=\"M 262.558594 359.90625 L 262.558594 363.707031 \"/>\n",
       "<path style=\"fill:none;stroke-width:0.75;stroke-linecap:round;stroke-linejoin:round;stroke:rgb(0%,0%,0%);stroke-opacity:1;stroke-miterlimit:10;\" d=\"M 261.023438 397.453125 L 264.097656 397.453125 \"/>\n",
       "<path style=\"fill:none;stroke-width:0.75;stroke-linecap:round;stroke-linejoin:round;stroke:rgb(0%,0%,0%);stroke-opacity:1;stroke-miterlimit:10;\" d=\"M 261.023438 359.90625 L 264.097656 359.90625 \"/>\n",
       "<path style=\"fill:none;stroke-width:0.75;stroke-linecap:round;stroke-linejoin:round;stroke:rgb(0%,0%,0%);stroke-opacity:1;stroke-miterlimit:10;\" d=\"M 259.488281 390.425781 L 265.632812 390.425781 L 265.632812 363.707031 L 259.488281 363.707031 L 259.488281 390.425781 \"/>\n",
       "<path style=\"fill:none;stroke-width:2.25;stroke-linecap:butt;stroke-linejoin:round;stroke:rgb(0%,0%,0%);stroke-opacity:1;stroke-miterlimit:10;\" d=\"M 267.167969 383.976562 L 273.3125 383.976562 \"/>\n",
       "<path style=\"fill:none;stroke-width:0.75;stroke-linecap:round;stroke-linejoin:round;stroke:rgb(0%,0%,0%);stroke-opacity:1;stroke-dasharray:3,3;stroke-miterlimit:10;\" d=\"M 270.238281 407.242188 L 270.238281 391.117188 \"/>\n",
       "<path style=\"fill:none;stroke-width:0.75;stroke-linecap:round;stroke-linejoin:round;stroke:rgb(0%,0%,0%);stroke-opacity:1;stroke-dasharray:3,3;stroke-miterlimit:10;\" d=\"M 270.238281 366.011719 L 270.238281 374.535156 \"/>\n",
       "<path style=\"fill:none;stroke-width:0.75;stroke-linecap:round;stroke-linejoin:round;stroke:rgb(0%,0%,0%);stroke-opacity:1;stroke-miterlimit:10;\" d=\"M 268.703125 407.242188 L 271.777344 407.242188 \"/>\n",
       "<path style=\"fill:none;stroke-width:0.75;stroke-linecap:round;stroke-linejoin:round;stroke:rgb(0%,0%,0%);stroke-opacity:1;stroke-miterlimit:10;\" d=\"M 268.703125 366.011719 L 271.777344 366.011719 \"/>\n",
       "<path style=\"fill:none;stroke-width:0.75;stroke-linecap:round;stroke-linejoin:round;stroke:rgb(0%,0%,0%);stroke-opacity:1;stroke-miterlimit:10;\" d=\"M 267.167969 391.117188 L 273.3125 391.117188 L 273.3125 374.535156 L 267.167969 374.535156 L 267.167969 391.117188 \"/>\n",
       "<path style=\"fill:none;stroke-width:2.25;stroke-linecap:butt;stroke-linejoin:round;stroke:rgb(0%,0%,0%);stroke-opacity:1;stroke-miterlimit:10;\" d=\"M 274.847656 376.375 L 280.992188 376.375 \"/>\n",
       "<path style=\"fill:none;stroke-width:0.75;stroke-linecap:round;stroke-linejoin:round;stroke:rgb(0%,0%,0%);stroke-opacity:1;stroke-dasharray:3,3;stroke-miterlimit:10;\" d=\"M 277.921875 390.195312 L 277.921875 385.820312 \"/>\n",
       "<path style=\"fill:none;stroke-width:0.75;stroke-linecap:round;stroke-linejoin:round;stroke:rgb(0%,0%,0%);stroke-opacity:1;stroke-dasharray:3,3;stroke-miterlimit:10;\" d=\"M 277.921875 358.410156 L 277.921875 365.207031 \"/>\n",
       "<path style=\"fill:none;stroke-width:0.75;stroke-linecap:round;stroke-linejoin:round;stroke:rgb(0%,0%,0%);stroke-opacity:1;stroke-miterlimit:10;\" d=\"M 276.382812 390.195312 L 279.457031 390.195312 \"/>\n",
       "<path style=\"fill:none;stroke-width:0.75;stroke-linecap:round;stroke-linejoin:round;stroke:rgb(0%,0%,0%);stroke-opacity:1;stroke-miterlimit:10;\" d=\"M 276.382812 358.410156 L 279.457031 358.410156 \"/>\n",
       "<path style=\"fill:none;stroke-width:0.75;stroke-linecap:round;stroke-linejoin:round;stroke:rgb(0%,0%,0%);stroke-opacity:1;stroke-miterlimit:10;\" d=\"M 274.847656 385.820312 L 280.992188 385.820312 L 280.992188 365.207031 L 274.847656 365.207031 L 274.847656 385.820312 \"/>\n",
       "<path style=\"fill:none;stroke-width:2.25;stroke-linecap:butt;stroke-linejoin:round;stroke:rgb(0%,0%,0%);stroke-opacity:1;stroke-miterlimit:10;\" d=\"M 282.527344 392.097656 L 288.671875 392.097656 \"/>\n",
       "<path style=\"fill:none;stroke-width:0.75;stroke-linecap:round;stroke-linejoin:round;stroke:rgb(0%,0%,0%);stroke-opacity:1;stroke-dasharray:3,3;stroke-miterlimit:10;\" d=\"M 285.601562 402.175781 L 285.601562 401.714844 \"/>\n",
       "<path style=\"fill:none;stroke-width:0.75;stroke-linecap:round;stroke-linejoin:round;stroke:rgb(0%,0%,0%);stroke-opacity:1;stroke-dasharray:3,3;stroke-miterlimit:10;\" d=\"M 285.601562 370.386719 L 285.601562 382.941406 \"/>\n",
       "<path style=\"fill:none;stroke-width:0.75;stroke-linecap:round;stroke-linejoin:round;stroke:rgb(0%,0%,0%);stroke-opacity:1;stroke-miterlimit:10;\" d=\"M 284.0625 402.175781 L 287.136719 402.175781 \"/>\n",
       "<path style=\"fill:none;stroke-width:0.75;stroke-linecap:round;stroke-linejoin:round;stroke:rgb(0%,0%,0%);stroke-opacity:1;stroke-miterlimit:10;\" d=\"M 284.0625 370.386719 L 287.136719 370.386719 \"/>\n",
       "<path style=\"fill:none;stroke-width:0.75;stroke-linecap:round;stroke-linejoin:round;stroke:rgb(0%,0%,0%);stroke-opacity:1;stroke-miterlimit:10;\" d=\"M 282.527344 401.714844 L 288.671875 401.714844 L 288.671875 382.941406 L 282.527344 382.941406 L 282.527344 401.714844 \"/>\n",
       "<path style=\"fill:none;stroke-width:2.25;stroke-linecap:butt;stroke-linejoin:round;stroke:rgb(0%,0%,0%);stroke-opacity:1;stroke-miterlimit:10;\" d=\"M 290.207031 393.710938 L 296.351562 393.710938 \"/>\n",
       "<path style=\"fill:none;stroke-width:0.75;stroke-linecap:round;stroke-linejoin:round;stroke:rgb(0%,0%,0%);stroke-opacity:1;stroke-dasharray:3,3;stroke-miterlimit:10;\" d=\"M 293.28125 403.671875 L 293.28125 399.871094 \"/>\n",
       "<path style=\"fill:none;stroke-width:0.75;stroke-linecap:round;stroke-linejoin:round;stroke:rgb(0%,0%,0%);stroke-opacity:1;stroke-dasharray:3,3;stroke-miterlimit:10;\" d=\"M 293.28125 364.167969 L 293.28125 378.21875 \"/>\n",
       "<path style=\"fill:none;stroke-width:0.75;stroke-linecap:round;stroke-linejoin:round;stroke:rgb(0%,0%,0%);stroke-opacity:1;stroke-miterlimit:10;\" d=\"M 291.742188 403.671875 L 294.816406 403.671875 \"/>\n",
       "<path style=\"fill:none;stroke-width:0.75;stroke-linecap:round;stroke-linejoin:round;stroke:rgb(0%,0%,0%);stroke-opacity:1;stroke-miterlimit:10;\" d=\"M 291.742188 364.167969 L 294.816406 364.167969 \"/>\n",
       "<path style=\"fill:none;stroke-width:0.75;stroke-linecap:round;stroke-linejoin:round;stroke:rgb(0%,0%,0%);stroke-opacity:1;stroke-miterlimit:10;\" d=\"M 290.207031 399.871094 L 296.351562 399.871094 L 296.351562 378.21875 L 290.207031 378.21875 L 290.207031 399.871094 \"/>\n",
       "<path style=\"fill:none;stroke-width:2.25;stroke-linecap:butt;stroke-linejoin:round;stroke:rgb(0%,0%,0%);stroke-opacity:1;stroke-miterlimit:10;\" d=\"M 297.886719 304.628906 L 304.03125 304.628906 \"/>\n",
       "<path style=\"fill:none;stroke-width:0.75;stroke-linecap:round;stroke-linejoin:round;stroke:rgb(0%,0%,0%);stroke-opacity:1;stroke-dasharray:3,3;stroke-miterlimit:10;\" d=\"M 300.960938 342.75 L 300.960938 335.261719 \"/>\n",
       "<path style=\"fill:none;stroke-width:0.75;stroke-linecap:round;stroke-linejoin:round;stroke:rgb(0%,0%,0%);stroke-opacity:1;stroke-dasharray:3,3;stroke-miterlimit:10;\" d=\"M 300.960938 291.039062 L 300.960938 296.335938 \"/>\n",
       "<path style=\"fill:none;stroke-width:0.75;stroke-linecap:round;stroke-linejoin:round;stroke:rgb(0%,0%,0%);stroke-opacity:1;stroke-miterlimit:10;\" d=\"M 299.425781 342.75 L 302.496094 342.75 \"/>\n",
       "<path style=\"fill:none;stroke-width:0.75;stroke-linecap:round;stroke-linejoin:round;stroke:rgb(0%,0%,0%);stroke-opacity:1;stroke-miterlimit:10;\" d=\"M 299.425781 291.039062 L 302.496094 291.039062 \"/>\n",
       "<path style=\"fill:none;stroke-width:0.75;stroke-linecap:round;stroke-linejoin:round;stroke:rgb(0%,0%,0%);stroke-opacity:1;stroke-miterlimit:10;\" d=\"M 297.886719 335.261719 L 304.03125 335.261719 L 304.03125 296.335938 L 297.886719 296.335938 L 297.886719 335.261719 \"/>\n",
       "<path style=\"fill:none;stroke-width:2.25;stroke-linecap:butt;stroke-linejoin:round;stroke:rgb(0%,0%,0%);stroke-opacity:1;stroke-miterlimit:10;\" d=\"M 305.566406 321.5 L 311.710938 321.5 \"/>\n",
       "<path style=\"fill:none;stroke-width:0.75;stroke-linecap:round;stroke-linejoin:round;stroke:rgb(0%,0%,0%);stroke-opacity:1;stroke-dasharray:3,3;stroke-miterlimit:10;\" d=\"M 308.640625 357.71875 L 308.640625 355.648438 \"/>\n",
       "<path style=\"fill:none;stroke-width:0.75;stroke-linecap:round;stroke-linejoin:round;stroke:rgb(0%,0%,0%);stroke-opacity:1;stroke-dasharray:3,3;stroke-miterlimit:10;\" d=\"M 308.640625 295.761719 L 308.640625 300.136719 \"/>\n",
       "<path style=\"fill:none;stroke-width:0.75;stroke-linecap:round;stroke-linejoin:round;stroke:rgb(0%,0%,0%);stroke-opacity:1;stroke-miterlimit:10;\" d=\"M 307.105469 357.71875 L 310.175781 357.71875 \"/>\n",
       "<path style=\"fill:none;stroke-width:0.75;stroke-linecap:round;stroke-linejoin:round;stroke:rgb(0%,0%,0%);stroke-opacity:1;stroke-miterlimit:10;\" d=\"M 307.105469 295.761719 L 310.175781 295.761719 \"/>\n",
       "<path style=\"fill:none;stroke-width:0.75;stroke-linecap:round;stroke-linejoin:round;stroke:rgb(0%,0%,0%);stroke-opacity:1;stroke-miterlimit:10;\" d=\"M 305.566406 355.648438 L 311.710938 355.648438 L 311.710938 300.136719 L 305.566406 300.136719 L 305.566406 355.648438 \"/>\n",
       "<path style=\"fill:none;stroke-width:2.25;stroke-linecap:butt;stroke-linejoin:round;stroke:rgb(0%,0%,0%);stroke-opacity:1;stroke-miterlimit:10;\" d=\"M 313.246094 378.738281 L 319.390625 378.738281 \"/>\n",
       "<path style=\"fill:none;stroke-width:0.75;stroke-linecap:round;stroke-linejoin:round;stroke:rgb(0%,0%,0%);stroke-opacity:1;stroke-dasharray:3,3;stroke-miterlimit:10;\" d=\"M 316.320312 389.046875 L 316.320312 383.054688 \"/>\n",
       "<path style=\"fill:none;stroke-width:0.75;stroke-linecap:round;stroke-linejoin:round;stroke:rgb(0%,0%,0%);stroke-opacity:1;stroke-dasharray:3,3;stroke-miterlimit:10;\" d=\"M 316.320312 358.296875 L 316.320312 368.085938 \"/>\n",
       "<path style=\"fill:none;stroke-width:0.75;stroke-linecap:round;stroke-linejoin:round;stroke:rgb(0%,0%,0%);stroke-opacity:1;stroke-miterlimit:10;\" d=\"M 314.785156 389.046875 L 317.855469 389.046875 \"/>\n",
       "<path style=\"fill:none;stroke-width:0.75;stroke-linecap:round;stroke-linejoin:round;stroke:rgb(0%,0%,0%);stroke-opacity:1;stroke-miterlimit:10;\" d=\"M 314.785156 358.296875 L 317.855469 358.296875 \"/>\n",
       "<path style=\"fill:none;stroke-width:0.75;stroke-linecap:round;stroke-linejoin:round;stroke:rgb(0%,0%,0%);stroke-opacity:1;stroke-miterlimit:10;\" d=\"M 313.246094 383.054688 L 319.390625 383.054688 L 319.390625 368.085938 L 313.246094 368.085938 L 313.246094 383.054688 \"/>\n",
       "<path style=\"fill:none;stroke-width:2.25;stroke-linecap:butt;stroke-linejoin:round;stroke:rgb(0%,0%,0%);stroke-opacity:1;stroke-miterlimit:10;\" d=\"M 320.929688 361.234375 L 327.070312 361.234375 \"/>\n",
       "<path style=\"fill:none;stroke-width:0.75;stroke-linecap:round;stroke-linejoin:round;stroke:rgb(0%,0%,0%);stroke-opacity:1;stroke-dasharray:3,3;stroke-miterlimit:10;\" d=\"M 324 374.304688 L 324 367.855469 \"/>\n",
       "<path style=\"fill:none;stroke-width:0.75;stroke-linecap:round;stroke-linejoin:round;stroke:rgb(0%,0%,0%);stroke-opacity:1;stroke-dasharray:3,3;stroke-miterlimit:10;\" d=\"M 324 345.511719 L 324 352.769531 \"/>\n",
       "<path style=\"fill:none;stroke-width:0.75;stroke-linecap:round;stroke-linejoin:round;stroke:rgb(0%,0%,0%);stroke-opacity:1;stroke-miterlimit:10;\" d=\"M 322.464844 374.304688 L 325.535156 374.304688 \"/>\n",
       "<path style=\"fill:none;stroke-width:0.75;stroke-linecap:round;stroke-linejoin:round;stroke:rgb(0%,0%,0%);stroke-opacity:1;stroke-miterlimit:10;\" d=\"M 322.464844 345.511719 L 325.535156 345.511719 \"/>\n",
       "<path style=\"fill:none;stroke-width:0.75;stroke-linecap:round;stroke-linejoin:round;stroke:rgb(0%,0%,0%);stroke-opacity:1;stroke-miterlimit:10;\" d=\"M 320.929688 367.855469 L 327.070312 367.855469 L 327.070312 352.769531 L 320.929688 352.769531 L 320.929688 367.855469 \"/>\n",
       "<path style=\"fill:none;stroke-width:0.75;stroke-linecap:round;stroke-linejoin:round;stroke:rgb(0%,0%,0%);stroke-opacity:1;stroke-miterlimit:10;\" d=\"M 326.699219 393.765625 C 326.699219 397.367188 321.300781 397.367188 321.300781 393.765625 C 321.300781 390.167969 326.699219 390.167969 326.699219 393.765625 \"/>\n",
       "<path style=\"fill:none;stroke-width:2.25;stroke-linecap:butt;stroke-linejoin:round;stroke:rgb(0%,0%,0%);stroke-opacity:1;stroke-miterlimit:10;\" d=\"M 328.609375 289.945312 L 334.753906 289.945312 \"/>\n",
       "<path style=\"fill:none;stroke-width:0.75;stroke-linecap:round;stroke-linejoin:round;stroke:rgb(0%,0%,0%);stroke-opacity:1;stroke-dasharray:3,3;stroke-miterlimit:10;\" d=\"M 331.679688 336.300781 L 331.679688 321.558594 \"/>\n",
       "<path style=\"fill:none;stroke-width:0.75;stroke-linecap:round;stroke-linejoin:round;stroke:rgb(0%,0%,0%);stroke-opacity:1;stroke-dasharray:3,3;stroke-miterlimit:10;\" d=\"M 331.679688 275.144531 L 331.679688 287.007812 \"/>\n",
       "<path style=\"fill:none;stroke-width:0.75;stroke-linecap:round;stroke-linejoin:round;stroke:rgb(0%,0%,0%);stroke-opacity:1;stroke-miterlimit:10;\" d=\"M 330.144531 336.300781 L 333.214844 336.300781 \"/>\n",
       "<path style=\"fill:none;stroke-width:0.75;stroke-linecap:round;stroke-linejoin:round;stroke:rgb(0%,0%,0%);stroke-opacity:1;stroke-miterlimit:10;\" d=\"M 330.144531 275.144531 L 333.214844 275.144531 \"/>\n",
       "<path style=\"fill:none;stroke-width:0.75;stroke-linecap:round;stroke-linejoin:round;stroke:rgb(0%,0%,0%);stroke-opacity:1;stroke-miterlimit:10;\" d=\"M 328.609375 321.558594 L 334.753906 321.558594 L 334.753906 287.007812 L 328.609375 287.007812 L 328.609375 321.558594 \"/>\n",
       "<path style=\"fill:none;stroke-width:2.25;stroke-linecap:butt;stroke-linejoin:round;stroke:rgb(0%,0%,0%);stroke-opacity:1;stroke-miterlimit:10;\" d=\"M 336.289062 374.878906 L 342.433594 374.878906 \"/>\n",
       "<path style=\"fill:none;stroke-width:0.75;stroke-linecap:round;stroke-linejoin:round;stroke:rgb(0%,0%,0%);stroke-opacity:1;stroke-dasharray:3,3;stroke-miterlimit:10;\" d=\"M 339.359375 391.003906 L 339.359375 386.855469 \"/>\n",
       "<path style=\"fill:none;stroke-width:0.75;stroke-linecap:round;stroke-linejoin:round;stroke:rgb(0%,0%,0%);stroke-opacity:1;stroke-dasharray:3,3;stroke-miterlimit:10;\" d=\"M 339.359375 358.871094 L 339.359375 360.828125 \"/>\n",
       "<path style=\"fill:none;stroke-width:0.75;stroke-linecap:round;stroke-linejoin:round;stroke:rgb(0%,0%,0%);stroke-opacity:1;stroke-miterlimit:10;\" d=\"M 337.824219 391.003906 L 340.894531 391.003906 \"/>\n",
       "<path style=\"fill:none;stroke-width:0.75;stroke-linecap:round;stroke-linejoin:round;stroke:rgb(0%,0%,0%);stroke-opacity:1;stroke-miterlimit:10;\" d=\"M 337.824219 358.871094 L 340.894531 358.871094 \"/>\n",
       "<path style=\"fill:none;stroke-width:0.75;stroke-linecap:round;stroke-linejoin:round;stroke:rgb(0%,0%,0%);stroke-opacity:1;stroke-miterlimit:10;\" d=\"M 336.289062 386.855469 L 342.433594 386.855469 L 342.433594 360.828125 L 336.289062 360.828125 L 336.289062 386.855469 \"/>\n",
       "<path style=\"fill:none;stroke-width:2.25;stroke-linecap:butt;stroke-linejoin:round;stroke:rgb(0%,0%,0%);stroke-opacity:1;stroke-miterlimit:10;\" d=\"M 343.96875 382.882812 L 350.113281 382.882812 \"/>\n",
       "<path style=\"fill:none;stroke-width:0.75;stroke-linecap:round;stroke-linejoin:round;stroke:rgb(0%,0%,0%);stroke-opacity:1;stroke-dasharray:3,3;stroke-miterlimit:10;\" d=\"M 347.039062 400.445312 L 347.039062 391.695312 \"/>\n",
       "<path style=\"fill:none;stroke-width:0.75;stroke-linecap:round;stroke-linejoin:round;stroke:rgb(0%,0%,0%);stroke-opacity:1;stroke-dasharray:3,3;stroke-miterlimit:10;\" d=\"M 347.039062 374.304688 L 347.039062 377.414062 \"/>\n",
       "<path style=\"fill:none;stroke-width:0.75;stroke-linecap:round;stroke-linejoin:round;stroke:rgb(0%,0%,0%);stroke-opacity:1;stroke-miterlimit:10;\" d=\"M 345.503906 400.445312 L 348.574219 400.445312 \"/>\n",
       "<path style=\"fill:none;stroke-width:0.75;stroke-linecap:round;stroke-linejoin:round;stroke:rgb(0%,0%,0%);stroke-opacity:1;stroke-miterlimit:10;\" d=\"M 345.503906 374.304688 L 348.574219 374.304688 \"/>\n",
       "<path style=\"fill:none;stroke-width:0.75;stroke-linecap:round;stroke-linejoin:round;stroke:rgb(0%,0%,0%);stroke-opacity:1;stroke-miterlimit:10;\" d=\"M 343.96875 391.695312 L 350.113281 391.695312 L 350.113281 377.414062 L 343.96875 377.414062 L 343.96875 391.695312 \"/>\n",
       "<path style=\"fill:none;stroke-width:2.25;stroke-linecap:butt;stroke-linejoin:round;stroke:rgb(0%,0%,0%);stroke-opacity:1;stroke-miterlimit:10;\" d=\"M 351.648438 386.800781 L 357.792969 386.800781 \"/>\n",
       "<path style=\"fill:none;stroke-width:0.75;stroke-linecap:round;stroke-linejoin:round;stroke:rgb(0%,0%,0%);stroke-opacity:1;stroke-dasharray:3,3;stroke-miterlimit:10;\" d=\"M 354.71875 408.507812 L 354.71875 393.304688 \"/>\n",
       "<path style=\"fill:none;stroke-width:0.75;stroke-linecap:round;stroke-linejoin:round;stroke:rgb(0%,0%,0%);stroke-opacity:1;stroke-dasharray:3,3;stroke-miterlimit:10;\" d=\"M 354.71875 367.625 L 354.71875 377.757812 \"/>\n",
       "<path style=\"fill:none;stroke-width:0.75;stroke-linecap:round;stroke-linejoin:round;stroke:rgb(0%,0%,0%);stroke-opacity:1;stroke-miterlimit:10;\" d=\"M 353.183594 408.507812 L 356.257812 408.507812 \"/>\n",
       "<path style=\"fill:none;stroke-width:0.75;stroke-linecap:round;stroke-linejoin:round;stroke:rgb(0%,0%,0%);stroke-opacity:1;stroke-miterlimit:10;\" d=\"M 353.183594 367.625 L 356.257812 367.625 \"/>\n",
       "<path style=\"fill:none;stroke-width:0.75;stroke-linecap:round;stroke-linejoin:round;stroke:rgb(0%,0%,0%);stroke-opacity:1;stroke-miterlimit:10;\" d=\"M 351.648438 393.304688 L 357.792969 393.304688 L 357.792969 377.757812 L 351.648438 377.757812 L 351.648438 393.304688 \"/>\n",
       "<path style=\"fill:none;stroke-width:2.25;stroke-linecap:butt;stroke-linejoin:round;stroke:rgb(0%,0%,0%);stroke-opacity:1;stroke-miterlimit:10;\" d=\"M 359.328125 362.558594 L 365.472656 362.558594 \"/>\n",
       "<path style=\"fill:none;stroke-width:0.75;stroke-linecap:round;stroke-linejoin:round;stroke:rgb(0%,0%,0%);stroke-opacity:1;stroke-dasharray:3,3;stroke-miterlimit:10;\" d=\"M 362.398438 376.722656 L 362.398438 372.460938 \"/>\n",
       "<path style=\"fill:none;stroke-width:0.75;stroke-linecap:round;stroke-linejoin:round;stroke:rgb(0%,0%,0%);stroke-opacity:1;stroke-dasharray:3,3;stroke-miterlimit:10;\" d=\"M 362.398438 344.476562 L 362.398438 351.847656 \"/>\n",
       "<path style=\"fill:none;stroke-width:0.75;stroke-linecap:round;stroke-linejoin:round;stroke:rgb(0%,0%,0%);stroke-opacity:1;stroke-miterlimit:10;\" d=\"M 360.863281 376.722656 L 363.9375 376.722656 \"/>\n",
       "<path style=\"fill:none;stroke-width:0.75;stroke-linecap:round;stroke-linejoin:round;stroke:rgb(0%,0%,0%);stroke-opacity:1;stroke-miterlimit:10;\" d=\"M 360.863281 344.476562 L 363.9375 344.476562 \"/>\n",
       "<path style=\"fill:none;stroke-width:0.75;stroke-linecap:round;stroke-linejoin:round;stroke:rgb(0%,0%,0%);stroke-opacity:1;stroke-miterlimit:10;\" d=\"M 359.328125 372.460938 L 365.472656 372.460938 L 365.472656 351.847656 L 359.328125 351.847656 L 359.328125 372.460938 \"/>\n",
       "<path style=\"fill:none;stroke-width:2.25;stroke-linecap:butt;stroke-linejoin:round;stroke:rgb(0%,0%,0%);stroke-opacity:1;stroke-miterlimit:10;\" d=\"M 367.007812 316.375 L 373.152344 316.375 \"/>\n",
       "<path style=\"fill:none;stroke-width:0.75;stroke-linecap:round;stroke-linejoin:round;stroke:rgb(0%,0%,0%);stroke-opacity:1;stroke-dasharray:3,3;stroke-miterlimit:10;\" d=\"M 370.078125 358.871094 L 370.078125 338.601562 \"/>\n",
       "<path style=\"fill:none;stroke-width:0.75;stroke-linecap:round;stroke-linejoin:round;stroke:rgb(0%,0%,0%);stroke-opacity:1;stroke-dasharray:3,3;stroke-miterlimit:10;\" d=\"M 370.078125 280.097656 L 370.078125 303.824219 \"/>\n",
       "<path style=\"fill:none;stroke-width:0.75;stroke-linecap:round;stroke-linejoin:round;stroke:rgb(0%,0%,0%);stroke-opacity:1;stroke-miterlimit:10;\" d=\"M 368.542969 358.871094 L 371.617188 358.871094 \"/>\n",
       "<path style=\"fill:none;stroke-width:0.75;stroke-linecap:round;stroke-linejoin:round;stroke:rgb(0%,0%,0%);stroke-opacity:1;stroke-miterlimit:10;\" d=\"M 368.542969 280.097656 L 371.617188 280.097656 \"/>\n",
       "<path style=\"fill:none;stroke-width:0.75;stroke-linecap:round;stroke-linejoin:round;stroke:rgb(0%,0%,0%);stroke-opacity:1;stroke-miterlimit:10;\" d=\"M 367.007812 338.601562 L 373.152344 338.601562 L 373.152344 303.824219 L 367.007812 303.824219 L 367.007812 338.601562 \"/>\n",
       "<path style=\"fill:none;stroke-width:2.25;stroke-linecap:butt;stroke-linejoin:round;stroke:rgb(0%,0%,0%);stroke-opacity:1;stroke-miterlimit:10;\" d=\"M 374.6875 383.285156 L 380.832031 383.285156 \"/>\n",
       "<path style=\"fill:none;stroke-width:0.75;stroke-linecap:round;stroke-linejoin:round;stroke:rgb(0%,0%,0%);stroke-opacity:1;stroke-dasharray:3,3;stroke-miterlimit:10;\" d=\"M 377.761719 400.101562 L 377.761719 394.804688 \"/>\n",
       "<path style=\"fill:none;stroke-width:0.75;stroke-linecap:round;stroke-linejoin:round;stroke:rgb(0%,0%,0%);stroke-opacity:1;stroke-dasharray:3,3;stroke-miterlimit:10;\" d=\"M 377.761719 358.410156 L 377.761719 367.046875 \"/>\n",
       "<path style=\"fill:none;stroke-width:0.75;stroke-linecap:round;stroke-linejoin:round;stroke:rgb(0%,0%,0%);stroke-opacity:1;stroke-miterlimit:10;\" d=\"M 376.222656 400.101562 L 379.296875 400.101562 \"/>\n",
       "<path style=\"fill:none;stroke-width:0.75;stroke-linecap:round;stroke-linejoin:round;stroke:rgb(0%,0%,0%);stroke-opacity:1;stroke-miterlimit:10;\" d=\"M 376.222656 358.410156 L 379.296875 358.410156 \"/>\n",
       "<path style=\"fill:none;stroke-width:0.75;stroke-linecap:round;stroke-linejoin:round;stroke:rgb(0%,0%,0%);stroke-opacity:1;stroke-miterlimit:10;\" d=\"M 374.6875 394.804688 L 380.832031 394.804688 L 380.832031 367.046875 L 374.6875 367.046875 L 374.6875 394.804688 \"/>\n",
       "<path style=\"fill:none;stroke-width:2.25;stroke-linecap:butt;stroke-linejoin:round;stroke:rgb(0%,0%,0%);stroke-opacity:1;stroke-miterlimit:10;\" d=\"M 382.367188 386.570312 L 388.511719 386.570312 \"/>\n",
       "<path style=\"fill:none;stroke-width:0.75;stroke-linecap:round;stroke-linejoin:round;stroke:rgb(0%,0%,0%);stroke-opacity:1;stroke-dasharray:3,3;stroke-miterlimit:10;\" d=\"M 385.441406 392.730469 L 385.441406 391.695312 \"/>\n",
       "<path style=\"fill:none;stroke-width:0.75;stroke-linecap:round;stroke-linejoin:round;stroke:rgb(0%,0%,0%);stroke-opacity:1;stroke-dasharray:3,3;stroke-miterlimit:10;\" d=\"M 385.441406 362.789062 L 385.441406 374.765625 \"/>\n",
       "<path style=\"fill:none;stroke-width:0.75;stroke-linecap:round;stroke-linejoin:round;stroke:rgb(0%,0%,0%);stroke-opacity:1;stroke-miterlimit:10;\" d=\"M 383.902344 392.730469 L 386.976562 392.730469 \"/>\n",
       "<path style=\"fill:none;stroke-width:0.75;stroke-linecap:round;stroke-linejoin:round;stroke:rgb(0%,0%,0%);stroke-opacity:1;stroke-miterlimit:10;\" d=\"M 383.902344 362.789062 L 386.976562 362.789062 \"/>\n",
       "<path style=\"fill:none;stroke-width:0.75;stroke-linecap:round;stroke-linejoin:round;stroke:rgb(0%,0%,0%);stroke-opacity:1;stroke-miterlimit:10;\" d=\"M 382.367188 391.695312 L 388.511719 391.695312 L 388.511719 374.765625 L 382.367188 374.765625 L 382.367188 391.695312 \"/>\n",
       "<path style=\"fill:none;stroke-width:2.25;stroke-linecap:butt;stroke-linejoin:round;stroke:rgb(0%,0%,0%);stroke-opacity:1;stroke-miterlimit:10;\" d=\"M 390.046875 383.976562 L 396.191406 383.976562 \"/>\n",
       "<path style=\"fill:none;stroke-width:0.75;stroke-linecap:round;stroke-linejoin:round;stroke:rgb(0%,0%,0%);stroke-opacity:1;stroke-dasharray:3,3;stroke-miterlimit:10;\" d=\"M 393.121094 400.5625 L 393.121094 397.566406 \"/>\n",
       "<path style=\"fill:none;stroke-width:0.75;stroke-linecap:round;stroke-linejoin:round;stroke:rgb(0%,0%,0%);stroke-opacity:1;stroke-dasharray:3,3;stroke-miterlimit:10;\" d=\"M 393.121094 357.949219 L 393.121094 364.746094 \"/>\n",
       "<path style=\"fill:none;stroke-width:0.75;stroke-linecap:round;stroke-linejoin:round;stroke:rgb(0%,0%,0%);stroke-opacity:1;stroke-miterlimit:10;\" d=\"M 391.585938 400.5625 L 394.65625 400.5625 \"/>\n",
       "<path style=\"fill:none;stroke-width:0.75;stroke-linecap:round;stroke-linejoin:round;stroke:rgb(0%,0%,0%);stroke-opacity:1;stroke-miterlimit:10;\" d=\"M 391.585938 357.949219 L 394.65625 357.949219 \"/>\n",
       "<path style=\"fill:none;stroke-width:0.75;stroke-linecap:round;stroke-linejoin:round;stroke:rgb(0%,0%,0%);stroke-opacity:1;stroke-miterlimit:10;\" d=\"M 390.046875 397.566406 L 396.191406 397.566406 L 396.191406 364.746094 L 390.046875 364.746094 L 390.046875 397.566406 \"/>\n",
       "<path style=\"fill:none;stroke-width:2.25;stroke-linecap:butt;stroke-linejoin:round;stroke:rgb(0%,0%,0%);stroke-opacity:1;stroke-miterlimit:10;\" d=\"M 397.726562 363.132812 L 403.871094 363.132812 \"/>\n",
       "<path style=\"fill:none;stroke-width:0.75;stroke-linecap:round;stroke-linejoin:round;stroke:rgb(0%,0%,0%);stroke-opacity:1;stroke-dasharray:3,3;stroke-miterlimit:10;\" d=\"M 400.800781 390.082031 L 400.800781 378.449219 \"/>\n",
       "<path style=\"fill:none;stroke-width:0.75;stroke-linecap:round;stroke-linejoin:round;stroke:rgb(0%,0%,0%);stroke-opacity:1;stroke-dasharray:3,3;stroke-miterlimit:10;\" d=\"M 400.800781 338.257812 L 400.800781 351.269531 \"/>\n",
       "<path style=\"fill:none;stroke-width:0.75;stroke-linecap:round;stroke-linejoin:round;stroke:rgb(0%,0%,0%);stroke-opacity:1;stroke-miterlimit:10;\" d=\"M 399.265625 390.082031 L 402.335938 390.082031 \"/>\n",
       "<path style=\"fill:none;stroke-width:0.75;stroke-linecap:round;stroke-linejoin:round;stroke:rgb(0%,0%,0%);stroke-opacity:1;stroke-miterlimit:10;\" d=\"M 399.265625 338.257812 L 402.335938 338.257812 \"/>\n",
       "<path style=\"fill:none;stroke-width:0.75;stroke-linecap:round;stroke-linejoin:round;stroke:rgb(0%,0%,0%);stroke-opacity:1;stroke-miterlimit:10;\" d=\"M 397.726562 378.449219 L 403.871094 378.449219 L 403.871094 351.269531 L 397.726562 351.269531 L 397.726562 378.449219 \"/>\n",
       "<path style=\"fill:none;stroke-width:2.25;stroke-linecap:butt;stroke-linejoin:round;stroke:rgb(0%,0%,0%);stroke-opacity:1;stroke-miterlimit:10;\" d=\"M 405.40625 393.421875 L 411.550781 393.421875 \"/>\n",
       "<path style=\"fill:none;stroke-width:0.75;stroke-linecap:round;stroke-linejoin:round;stroke:rgb(0%,0%,0%);stroke-opacity:1;stroke-dasharray:3,3;stroke-miterlimit:10;\" d=\"M 408.480469 409.082031 L 408.480469 402.519531 \"/>\n",
       "<path style=\"fill:none;stroke-width:0.75;stroke-linecap:round;stroke-linejoin:round;stroke:rgb(0%,0%,0%);stroke-opacity:1;stroke-dasharray:3,3;stroke-miterlimit:10;\" d=\"M 408.480469 370.964844 L 408.480469 384.898438 \"/>\n",
       "<path style=\"fill:none;stroke-width:0.75;stroke-linecap:round;stroke-linejoin:round;stroke:rgb(0%,0%,0%);stroke-opacity:1;stroke-miterlimit:10;\" d=\"M 406.945312 409.082031 L 410.015625 409.082031 \"/>\n",
       "<path style=\"fill:none;stroke-width:0.75;stroke-linecap:round;stroke-linejoin:round;stroke:rgb(0%,0%,0%);stroke-opacity:1;stroke-miterlimit:10;\" d=\"M 406.945312 370.964844 L 410.015625 370.964844 \"/>\n",
       "<path style=\"fill:none;stroke-width:0.75;stroke-linecap:round;stroke-linejoin:round;stroke:rgb(0%,0%,0%);stroke-opacity:1;stroke-miterlimit:10;\" d=\"M 405.40625 402.519531 L 411.550781 402.519531 L 411.550781 384.898438 L 405.40625 384.898438 L 405.40625 402.519531 \"/>\n",
       "<path style=\"fill:none;stroke-width:2.25;stroke-linecap:butt;stroke-linejoin:round;stroke:rgb(0%,0%,0%);stroke-opacity:1;stroke-miterlimit:10;\" d=\"M 413.089844 384.324219 L 419.230469 384.324219 \"/>\n",
       "<path style=\"fill:none;stroke-width:0.75;stroke-linecap:round;stroke-linejoin:round;stroke:rgb(0%,0%,0%);stroke-opacity:1;stroke-dasharray:3,3;stroke-miterlimit:10;\" d=\"M 416.160156 396.414062 L 416.160156 392.613281 \"/>\n",
       "<path style=\"fill:none;stroke-width:0.75;stroke-linecap:round;stroke-linejoin:round;stroke:rgb(0%,0%,0%);stroke-opacity:1;stroke-dasharray:3,3;stroke-miterlimit:10;\" d=\"M 416.160156 360.367188 L 416.160156 363.019531 \"/>\n",
       "<path style=\"fill:none;stroke-width:0.75;stroke-linecap:round;stroke-linejoin:round;stroke:rgb(0%,0%,0%);stroke-opacity:1;stroke-miterlimit:10;\" d=\"M 414.625 396.414062 L 417.695312 396.414062 \"/>\n",
       "<path style=\"fill:none;stroke-width:0.75;stroke-linecap:round;stroke-linejoin:round;stroke:rgb(0%,0%,0%);stroke-opacity:1;stroke-miterlimit:10;\" d=\"M 414.625 360.367188 L 417.695312 360.367188 \"/>\n",
       "<path style=\"fill:none;stroke-width:0.75;stroke-linecap:round;stroke-linejoin:round;stroke:rgb(0%,0%,0%);stroke-opacity:1;stroke-miterlimit:10;\" d=\"M 413.089844 392.613281 L 419.230469 392.613281 L 419.230469 363.019531 L 413.089844 363.019531 L 413.089844 392.613281 \"/>\n",
       "<path style=\"fill:none;stroke-width:2.25;stroke-linecap:butt;stroke-linejoin:round;stroke:rgb(0%,0%,0%);stroke-opacity:1;stroke-miterlimit:10;\" d=\"M 420.769531 330.023438 L 426.910156 330.023438 \"/>\n",
       "<path style=\"fill:none;stroke-width:0.75;stroke-linecap:round;stroke-linejoin:round;stroke:rgb(0%,0%,0%);stroke-opacity:1;stroke-dasharray:3,3;stroke-miterlimit:10;\" d=\"M 423.839844 346.550781 L 423.839844 338.71875 \"/>\n",
       "<path style=\"fill:none;stroke-width:0.75;stroke-linecap:round;stroke-linejoin:round;stroke:rgb(0%,0%,0%);stroke-opacity:1;stroke-dasharray:3,3;stroke-miterlimit:10;\" d=\"M 423.839844 296.453125 L 423.839844 312.34375 \"/>\n",
       "<path style=\"fill:none;stroke-width:0.75;stroke-linecap:round;stroke-linejoin:round;stroke:rgb(0%,0%,0%);stroke-opacity:1;stroke-miterlimit:10;\" d=\"M 422.304688 346.550781 L 425.375 346.550781 \"/>\n",
       "<path style=\"fill:none;stroke-width:0.75;stroke-linecap:round;stroke-linejoin:round;stroke:rgb(0%,0%,0%);stroke-opacity:1;stroke-miterlimit:10;\" d=\"M 422.304688 296.453125 L 425.375 296.453125 \"/>\n",
       "<path style=\"fill:none;stroke-width:0.75;stroke-linecap:round;stroke-linejoin:round;stroke:rgb(0%,0%,0%);stroke-opacity:1;stroke-miterlimit:10;\" d=\"M 420.769531 338.71875 L 426.910156 338.71875 L 426.910156 312.34375 L 420.769531 312.34375 L 420.769531 338.71875 \"/>\n",
       "<path style=\"fill:none;stroke-width:2.25;stroke-linecap:butt;stroke-linejoin:round;stroke:rgb(0%,0%,0%);stroke-opacity:1;stroke-miterlimit:10;\" d=\"M 428.449219 392.789062 L 434.59375 392.789062 \"/>\n",
       "<path style=\"fill:none;stroke-width:0.75;stroke-linecap:round;stroke-linejoin:round;stroke:rgb(0%,0%,0%);stroke-opacity:1;stroke-dasharray:3,3;stroke-miterlimit:10;\" d=\"M 431.519531 403.324219 L 431.519531 397.335938 \"/>\n",
       "<path style=\"fill:none;stroke-width:0.75;stroke-linecap:round;stroke-linejoin:round;stroke:rgb(0%,0%,0%);stroke-opacity:1;stroke-dasharray:3,3;stroke-miterlimit:10;\" d=\"M 431.519531 383.171875 L 431.519531 388.125 \"/>\n",
       "<path style=\"fill:none;stroke-width:0.75;stroke-linecap:round;stroke-linejoin:round;stroke:rgb(0%,0%,0%);stroke-opacity:1;stroke-miterlimit:10;\" d=\"M 429.984375 403.324219 L 433.054688 403.324219 \"/>\n",
       "<path style=\"fill:none;stroke-width:0.75;stroke-linecap:round;stroke-linejoin:round;stroke:rgb(0%,0%,0%);stroke-opacity:1;stroke-miterlimit:10;\" d=\"M 429.984375 383.171875 L 433.054688 383.171875 \"/>\n",
       "<path style=\"fill:none;stroke-width:0.75;stroke-linecap:round;stroke-linejoin:round;stroke:rgb(0%,0%,0%);stroke-opacity:1;stroke-miterlimit:10;\" d=\"M 428.449219 397.335938 L 434.59375 397.335938 L 434.59375 388.125 L 428.449219 388.125 L 428.449219 397.335938 \"/>\n",
       "<path style=\"fill:none;stroke-width:0.75;stroke-linecap:round;stroke-linejoin:round;stroke:rgb(0%,0%,0%);stroke-opacity:1;stroke-miterlimit:10;\" d=\"M 434.21875 414.957031 C 434.21875 418.558594 428.820312 418.558594 428.820312 414.957031 C 428.820312 411.355469 434.21875 411.355469 434.21875 414.957031 \"/>\n",
       "<path style=\"fill:none;stroke-width:2.25;stroke-linecap:butt;stroke-linejoin:round;stroke:rgb(0%,0%,0%);stroke-opacity:1;stroke-miterlimit:10;\" d=\"M 436.128906 369.179688 L 442.273438 369.179688 \"/>\n",
       "<path style=\"fill:none;stroke-width:0.75;stroke-linecap:round;stroke-linejoin:round;stroke:rgb(0%,0%,0%);stroke-opacity:1;stroke-dasharray:3,3;stroke-miterlimit:10;\" d=\"M 439.199219 399.066406 L 439.199219 388.355469 \"/>\n",
       "<path style=\"fill:none;stroke-width:0.75;stroke-linecap:round;stroke-linejoin:round;stroke:rgb(0%,0%,0%);stroke-opacity:1;stroke-dasharray:3,3;stroke-miterlimit:10;\" d=\"M 439.199219 343.785156 L 439.199219 352.191406 \"/>\n",
       "<path style=\"fill:none;stroke-width:0.75;stroke-linecap:round;stroke-linejoin:round;stroke:rgb(0%,0%,0%);stroke-opacity:1;stroke-miterlimit:10;\" d=\"M 437.664062 399.066406 L 440.734375 399.066406 \"/>\n",
       "<path style=\"fill:none;stroke-width:0.75;stroke-linecap:round;stroke-linejoin:round;stroke:rgb(0%,0%,0%);stroke-opacity:1;stroke-miterlimit:10;\" d=\"M 437.664062 343.785156 L 440.734375 343.785156 \"/>\n",
       "<path style=\"fill:none;stroke-width:0.75;stroke-linecap:round;stroke-linejoin:round;stroke:rgb(0%,0%,0%);stroke-opacity:1;stroke-miterlimit:10;\" d=\"M 436.128906 388.355469 L 442.273438 388.355469 L 442.273438 352.191406 L 436.128906 352.191406 L 436.128906 388.355469 \"/>\n",
       "<path style=\"fill:none;stroke-width:2.25;stroke-linecap:butt;stroke-linejoin:round;stroke:rgb(0%,0%,0%);stroke-opacity:1;stroke-miterlimit:10;\" d=\"M 443.808594 404.417969 L 449.953125 404.417969 \"/>\n",
       "<path style=\"fill:none;stroke-width:0.75;stroke-linecap:round;stroke-linejoin:round;stroke:rgb(0%,0%,0%);stroke-opacity:1;stroke-dasharray:3,3;stroke-miterlimit:10;\" d=\"M 446.878906 406.78125 L 446.878906 405.972656 \"/>\n",
       "<path style=\"fill:none;stroke-width:0.75;stroke-linecap:round;stroke-linejoin:round;stroke:rgb(0%,0%,0%);stroke-opacity:1;stroke-dasharray:3,3;stroke-miterlimit:10;\" d=\"M 446.878906 371.078125 L 446.878906 379.027344 \"/>\n",
       "<path style=\"fill:none;stroke-width:0.75;stroke-linecap:round;stroke-linejoin:round;stroke:rgb(0%,0%,0%);stroke-opacity:1;stroke-miterlimit:10;\" d=\"M 445.34375 406.78125 L 448.414062 406.78125 \"/>\n",
       "<path style=\"fill:none;stroke-width:0.75;stroke-linecap:round;stroke-linejoin:round;stroke:rgb(0%,0%,0%);stroke-opacity:1;stroke-miterlimit:10;\" d=\"M 445.34375 371.078125 L 448.414062 371.078125 \"/>\n",
       "<path style=\"fill:none;stroke-width:0.75;stroke-linecap:round;stroke-linejoin:round;stroke:rgb(0%,0%,0%);stroke-opacity:1;stroke-miterlimit:10;\" d=\"M 443.808594 405.972656 L 449.953125 405.972656 L 449.953125 379.027344 L 443.808594 379.027344 L 443.808594 405.972656 \"/>\n",
       "<path style=\"fill:none;stroke-width:2.25;stroke-linecap:butt;stroke-linejoin:round;stroke:rgb(0%,0%,0%);stroke-opacity:1;stroke-miterlimit:10;\" d=\"M 451.488281 404.132812 L 457.632812 404.132812 \"/>\n",
       "<path style=\"fill:none;stroke-width:0.75;stroke-linecap:round;stroke-linejoin:round;stroke:rgb(0%,0%,0%);stroke-opacity:1;stroke-dasharray:3,3;stroke-miterlimit:10;\" d=\"M 454.558594 414.84375 L 454.558594 410.003906 \"/>\n",
       "<path style=\"fill:none;stroke-width:0.75;stroke-linecap:round;stroke-linejoin:round;stroke:rgb(0%,0%,0%);stroke-opacity:1;stroke-dasharray:3,3;stroke-miterlimit:10;\" d=\"M 454.558594 377.875 L 454.558594 394.804688 \"/>\n",
       "<path style=\"fill:none;stroke-width:0.75;stroke-linecap:round;stroke-linejoin:round;stroke:rgb(0%,0%,0%);stroke-opacity:1;stroke-miterlimit:10;\" d=\"M 453.023438 414.84375 L 456.097656 414.84375 \"/>\n",
       "<path style=\"fill:none;stroke-width:0.75;stroke-linecap:round;stroke-linejoin:round;stroke:rgb(0%,0%,0%);stroke-opacity:1;stroke-miterlimit:10;\" d=\"M 453.023438 377.875 L 456.097656 377.875 \"/>\n",
       "<path style=\"fill:none;stroke-width:0.75;stroke-linecap:round;stroke-linejoin:round;stroke:rgb(0%,0%,0%);stroke-opacity:1;stroke-miterlimit:10;\" d=\"M 451.488281 410.003906 L 457.632812 410.003906 L 457.632812 394.804688 L 451.488281 394.804688 L 451.488281 410.003906 \"/>\n",
       "<path style=\"fill:none;stroke-width:0.75;stroke-linecap:round;stroke-linejoin:round;stroke:rgb(0%,0%,0%);stroke-opacity:1;stroke-miterlimit:10;\" d=\"M 78.238281 430.558594 L 454.558594 430.558594 \"/>\n",
       "<path style=\"fill:none;stroke-width:0.75;stroke-linecap:round;stroke-linejoin:round;stroke:rgb(0%,0%,0%);stroke-opacity:1;stroke-miterlimit:10;\" d=\"M 78.238281 430.558594 L 78.238281 437.761719 \"/>\n",
       "<path style=\"fill:none;stroke-width:0.75;stroke-linecap:round;stroke-linejoin:round;stroke:rgb(0%,0%,0%);stroke-opacity:1;stroke-miterlimit:10;\" d=\"M 85.921875 430.558594 L 85.921875 437.761719 \"/>\n",
       "<path style=\"fill:none;stroke-width:0.75;stroke-linecap:round;stroke-linejoin:round;stroke:rgb(0%,0%,0%);stroke-opacity:1;stroke-miterlimit:10;\" d=\"M 93.601562 430.558594 L 93.601562 437.761719 \"/>\n",
       "<path style=\"fill:none;stroke-width:0.75;stroke-linecap:round;stroke-linejoin:round;stroke:rgb(0%,0%,0%);stroke-opacity:1;stroke-miterlimit:10;\" d=\"M 101.28125 430.558594 L 101.28125 437.761719 \"/>\n",
       "<path style=\"fill:none;stroke-width:0.75;stroke-linecap:round;stroke-linejoin:round;stroke:rgb(0%,0%,0%);stroke-opacity:1;stroke-miterlimit:10;\" d=\"M 108.960938 430.558594 L 108.960938 437.761719 \"/>\n",
       "<path style=\"fill:none;stroke-width:0.75;stroke-linecap:round;stroke-linejoin:round;stroke:rgb(0%,0%,0%);stroke-opacity:1;stroke-miterlimit:10;\" d=\"M 116.640625 430.558594 L 116.640625 437.761719 \"/>\n",
       "<path style=\"fill:none;stroke-width:0.75;stroke-linecap:round;stroke-linejoin:round;stroke:rgb(0%,0%,0%);stroke-opacity:1;stroke-miterlimit:10;\" d=\"M 124.320312 430.558594 L 124.320312 437.761719 \"/>\n",
       "<path style=\"fill:none;stroke-width:0.75;stroke-linecap:round;stroke-linejoin:round;stroke:rgb(0%,0%,0%);stroke-opacity:1;stroke-miterlimit:10;\" d=\"M 132 430.558594 L 132 437.761719 \"/>\n",
       "<path style=\"fill:none;stroke-width:0.75;stroke-linecap:round;stroke-linejoin:round;stroke:rgb(0%,0%,0%);stroke-opacity:1;stroke-miterlimit:10;\" d=\"M 139.679688 430.558594 L 139.679688 437.761719 \"/>\n",
       "<path style=\"fill:none;stroke-width:0.75;stroke-linecap:round;stroke-linejoin:round;stroke:rgb(0%,0%,0%);stroke-opacity:1;stroke-miterlimit:10;\" d=\"M 147.359375 430.558594 L 147.359375 437.761719 \"/>\n",
       "<path style=\"fill:none;stroke-width:0.75;stroke-linecap:round;stroke-linejoin:round;stroke:rgb(0%,0%,0%);stroke-opacity:1;stroke-miterlimit:10;\" d=\"M 155.039062 430.558594 L 155.039062 437.761719 \"/>\n",
       "<path style=\"fill:none;stroke-width:0.75;stroke-linecap:round;stroke-linejoin:round;stroke:rgb(0%,0%,0%);stroke-opacity:1;stroke-miterlimit:10;\" d=\"M 162.71875 430.558594 L 162.71875 437.761719 \"/>\n",
       "<path style=\"fill:none;stroke-width:0.75;stroke-linecap:round;stroke-linejoin:round;stroke:rgb(0%,0%,0%);stroke-opacity:1;stroke-miterlimit:10;\" d=\"M 170.398438 430.558594 L 170.398438 437.761719 \"/>\n",
       "<path style=\"fill:none;stroke-width:0.75;stroke-linecap:round;stroke-linejoin:round;stroke:rgb(0%,0%,0%);stroke-opacity:1;stroke-miterlimit:10;\" d=\"M 178.078125 430.558594 L 178.078125 437.761719 \"/>\n",
       "<path style=\"fill:none;stroke-width:0.75;stroke-linecap:round;stroke-linejoin:round;stroke:rgb(0%,0%,0%);stroke-opacity:1;stroke-miterlimit:10;\" d=\"M 185.761719 430.558594 L 185.761719 437.761719 \"/>\n",
       "<path style=\"fill:none;stroke-width:0.75;stroke-linecap:round;stroke-linejoin:round;stroke:rgb(0%,0%,0%);stroke-opacity:1;stroke-miterlimit:10;\" d=\"M 193.441406 430.558594 L 193.441406 437.761719 \"/>\n",
       "<path style=\"fill:none;stroke-width:0.75;stroke-linecap:round;stroke-linejoin:round;stroke:rgb(0%,0%,0%);stroke-opacity:1;stroke-miterlimit:10;\" d=\"M 201.121094 430.558594 L 201.121094 437.761719 \"/>\n",
       "<path style=\"fill:none;stroke-width:0.75;stroke-linecap:round;stroke-linejoin:round;stroke:rgb(0%,0%,0%);stroke-opacity:1;stroke-miterlimit:10;\" d=\"M 208.800781 430.558594 L 208.800781 437.761719 \"/>\n",
       "<path style=\"fill:none;stroke-width:0.75;stroke-linecap:round;stroke-linejoin:round;stroke:rgb(0%,0%,0%);stroke-opacity:1;stroke-miterlimit:10;\" d=\"M 216.480469 430.558594 L 216.480469 437.761719 \"/>\n",
       "<path style=\"fill:none;stroke-width:0.75;stroke-linecap:round;stroke-linejoin:round;stroke:rgb(0%,0%,0%);stroke-opacity:1;stroke-miterlimit:10;\" d=\"M 224.160156 430.558594 L 224.160156 437.761719 \"/>\n",
       "<path style=\"fill:none;stroke-width:0.75;stroke-linecap:round;stroke-linejoin:round;stroke:rgb(0%,0%,0%);stroke-opacity:1;stroke-miterlimit:10;\" d=\"M 231.839844 430.558594 L 231.839844 437.761719 \"/>\n",
       "<path style=\"fill:none;stroke-width:0.75;stroke-linecap:round;stroke-linejoin:round;stroke:rgb(0%,0%,0%);stroke-opacity:1;stroke-miterlimit:10;\" d=\"M 239.519531 430.558594 L 239.519531 437.761719 \"/>\n",
       "<path style=\"fill:none;stroke-width:0.75;stroke-linecap:round;stroke-linejoin:round;stroke:rgb(0%,0%,0%);stroke-opacity:1;stroke-miterlimit:10;\" d=\"M 247.199219 430.558594 L 247.199219 437.761719 \"/>\n",
       "<path style=\"fill:none;stroke-width:0.75;stroke-linecap:round;stroke-linejoin:round;stroke:rgb(0%,0%,0%);stroke-opacity:1;stroke-miterlimit:10;\" d=\"M 254.878906 430.558594 L 254.878906 437.761719 \"/>\n",
       "<path style=\"fill:none;stroke-width:0.75;stroke-linecap:round;stroke-linejoin:round;stroke:rgb(0%,0%,0%);stroke-opacity:1;stroke-miterlimit:10;\" d=\"M 262.558594 430.558594 L 262.558594 437.761719 \"/>\n",
       "<path style=\"fill:none;stroke-width:0.75;stroke-linecap:round;stroke-linejoin:round;stroke:rgb(0%,0%,0%);stroke-opacity:1;stroke-miterlimit:10;\" d=\"M 270.238281 430.558594 L 270.238281 437.761719 \"/>\n",
       "<path style=\"fill:none;stroke-width:0.75;stroke-linecap:round;stroke-linejoin:round;stroke:rgb(0%,0%,0%);stroke-opacity:1;stroke-miterlimit:10;\" d=\"M 277.921875 430.558594 L 277.921875 437.761719 \"/>\n",
       "<path style=\"fill:none;stroke-width:0.75;stroke-linecap:round;stroke-linejoin:round;stroke:rgb(0%,0%,0%);stroke-opacity:1;stroke-miterlimit:10;\" d=\"M 285.601562 430.558594 L 285.601562 437.761719 \"/>\n",
       "<path style=\"fill:none;stroke-width:0.75;stroke-linecap:round;stroke-linejoin:round;stroke:rgb(0%,0%,0%);stroke-opacity:1;stroke-miterlimit:10;\" d=\"M 293.28125 430.558594 L 293.28125 437.761719 \"/>\n",
       "<path style=\"fill:none;stroke-width:0.75;stroke-linecap:round;stroke-linejoin:round;stroke:rgb(0%,0%,0%);stroke-opacity:1;stroke-miterlimit:10;\" d=\"M 300.960938 430.558594 L 300.960938 437.761719 \"/>\n",
       "<path style=\"fill:none;stroke-width:0.75;stroke-linecap:round;stroke-linejoin:round;stroke:rgb(0%,0%,0%);stroke-opacity:1;stroke-miterlimit:10;\" d=\"M 308.640625 430.558594 L 308.640625 437.761719 \"/>\n",
       "<path style=\"fill:none;stroke-width:0.75;stroke-linecap:round;stroke-linejoin:round;stroke:rgb(0%,0%,0%);stroke-opacity:1;stroke-miterlimit:10;\" d=\"M 316.320312 430.558594 L 316.320312 437.761719 \"/>\n",
       "<path style=\"fill:none;stroke-width:0.75;stroke-linecap:round;stroke-linejoin:round;stroke:rgb(0%,0%,0%);stroke-opacity:1;stroke-miterlimit:10;\" d=\"M 324 430.558594 L 324 437.761719 \"/>\n",
       "<path style=\"fill:none;stroke-width:0.75;stroke-linecap:round;stroke-linejoin:round;stroke:rgb(0%,0%,0%);stroke-opacity:1;stroke-miterlimit:10;\" d=\"M 331.679688 430.558594 L 331.679688 437.761719 \"/>\n",
       "<path style=\"fill:none;stroke-width:0.75;stroke-linecap:round;stroke-linejoin:round;stroke:rgb(0%,0%,0%);stroke-opacity:1;stroke-miterlimit:10;\" d=\"M 339.359375 430.558594 L 339.359375 437.761719 \"/>\n",
       "<path style=\"fill:none;stroke-width:0.75;stroke-linecap:round;stroke-linejoin:round;stroke:rgb(0%,0%,0%);stroke-opacity:1;stroke-miterlimit:10;\" d=\"M 347.039062 430.558594 L 347.039062 437.761719 \"/>\n",
       "<path style=\"fill:none;stroke-width:0.75;stroke-linecap:round;stroke-linejoin:round;stroke:rgb(0%,0%,0%);stroke-opacity:1;stroke-miterlimit:10;\" d=\"M 354.71875 430.558594 L 354.71875 437.761719 \"/>\n",
       "<path style=\"fill:none;stroke-width:0.75;stroke-linecap:round;stroke-linejoin:round;stroke:rgb(0%,0%,0%);stroke-opacity:1;stroke-miterlimit:10;\" d=\"M 362.398438 430.558594 L 362.398438 437.761719 \"/>\n",
       "<path style=\"fill:none;stroke-width:0.75;stroke-linecap:round;stroke-linejoin:round;stroke:rgb(0%,0%,0%);stroke-opacity:1;stroke-miterlimit:10;\" d=\"M 370.078125 430.558594 L 370.078125 437.761719 \"/>\n",
       "<path style=\"fill:none;stroke-width:0.75;stroke-linecap:round;stroke-linejoin:round;stroke:rgb(0%,0%,0%);stroke-opacity:1;stroke-miterlimit:10;\" d=\"M 377.761719 430.558594 L 377.761719 437.761719 \"/>\n",
       "<path style=\"fill:none;stroke-width:0.75;stroke-linecap:round;stroke-linejoin:round;stroke:rgb(0%,0%,0%);stroke-opacity:1;stroke-miterlimit:10;\" d=\"M 385.441406 430.558594 L 385.441406 437.761719 \"/>\n",
       "<path style=\"fill:none;stroke-width:0.75;stroke-linecap:round;stroke-linejoin:round;stroke:rgb(0%,0%,0%);stroke-opacity:1;stroke-miterlimit:10;\" d=\"M 393.121094 430.558594 L 393.121094 437.761719 \"/>\n",
       "<path style=\"fill:none;stroke-width:0.75;stroke-linecap:round;stroke-linejoin:round;stroke:rgb(0%,0%,0%);stroke-opacity:1;stroke-miterlimit:10;\" d=\"M 400.800781 430.558594 L 400.800781 437.761719 \"/>\n",
       "<path style=\"fill:none;stroke-width:0.75;stroke-linecap:round;stroke-linejoin:round;stroke:rgb(0%,0%,0%);stroke-opacity:1;stroke-miterlimit:10;\" d=\"M 408.480469 430.558594 L 408.480469 437.761719 \"/>\n",
       "<path style=\"fill:none;stroke-width:0.75;stroke-linecap:round;stroke-linejoin:round;stroke:rgb(0%,0%,0%);stroke-opacity:1;stroke-miterlimit:10;\" d=\"M 416.160156 430.558594 L 416.160156 437.761719 \"/>\n",
       "<path style=\"fill:none;stroke-width:0.75;stroke-linecap:round;stroke-linejoin:round;stroke:rgb(0%,0%,0%);stroke-opacity:1;stroke-miterlimit:10;\" d=\"M 423.839844 430.558594 L 423.839844 437.761719 \"/>\n",
       "<path style=\"fill:none;stroke-width:0.75;stroke-linecap:round;stroke-linejoin:round;stroke:rgb(0%,0%,0%);stroke-opacity:1;stroke-miterlimit:10;\" d=\"M 431.519531 430.558594 L 431.519531 437.761719 \"/>\n",
       "<path style=\"fill:none;stroke-width:0.75;stroke-linecap:round;stroke-linejoin:round;stroke:rgb(0%,0%,0%);stroke-opacity:1;stroke-miterlimit:10;\" d=\"M 439.199219 430.558594 L 439.199219 437.761719 \"/>\n",
       "<path style=\"fill:none;stroke-width:0.75;stroke-linecap:round;stroke-linejoin:round;stroke:rgb(0%,0%,0%);stroke-opacity:1;stroke-miterlimit:10;\" d=\"M 446.878906 430.558594 L 446.878906 437.761719 \"/>\n",
       "<path style=\"fill:none;stroke-width:0.75;stroke-linecap:round;stroke-linejoin:round;stroke:rgb(0%,0%,0%);stroke-opacity:1;stroke-miterlimit:10;\" d=\"M 454.558594 430.558594 L 454.558594 437.761719 \"/>\n",
       "<g style=\"fill:rgb(0%,0%,0%);fill-opacity:1;\">\n",
       "  <use xlink:href=\"#glyph0-1\" x=\"69.738281\" y=\"456.256836\"/>\n",
       "  <use xlink:href=\"#glyph0-2\" x=\"77.742188\" y=\"456.256836\"/>\n",
       "</g>\n",
       "<g style=\"fill:rgb(0%,0%,0%);fill-opacity:1;\">\n",
       "  <use xlink:href=\"#glyph0-3\" x=\"100.460938\" y=\"456.256836\"/>\n",
       "  <use xlink:href=\"#glyph0-1\" x=\"108.765625\" y=\"456.256836\"/>\n",
       "</g>\n",
       "<g style=\"fill:rgb(0%,0%,0%);fill-opacity:1;\">\n",
       "  <use xlink:href=\"#glyph0-4\" x=\"132.179688\" y=\"456.256836\"/>\n",
       "  <use xlink:href=\"#glyph0-5\" x=\"139.511719\" y=\"456.256836\"/>\n",
       "</g>\n",
       "<g style=\"fill:rgb(0%,0%,0%);fill-opacity:1;\">\n",
       "  <use xlink:href=\"#glyph0-6\" x=\"164.398438\" y=\"456.256836\"/>\n",
       "  <use xlink:href=\"#glyph0-7\" x=\"167.734375\" y=\"456.256836\"/>\n",
       "</g>\n",
       "<g style=\"fill:rgb(0%,0%,0%);fill-opacity:1;\">\n",
       "  <use xlink:href=\"#glyph0-2\" x=\"192.621094\" y=\"456.256836\"/>\n",
       "  <use xlink:href=\"#glyph0-8\" x=\"200.625\" y=\"456.256836\"/>\n",
       "</g>\n",
       "<g style=\"fill:rgb(0%,0%,0%);fill-opacity:1;\">\n",
       "  <use xlink:href=\"#glyph0-9\" x=\"222.839844\" y=\"456.256836\"/>\n",
       "  <use xlink:href=\"#glyph0-10\" x=\"232.835938\" y=\"456.256836\"/>\n",
       "</g>\n",
       "<g style=\"fill:rgb(0%,0%,0%);fill-opacity:1;\">\n",
       "  <use xlink:href=\"#glyph0-9\" x=\"253.558594\" y=\"456.256836\"/>\n",
       "  <use xlink:href=\"#glyph0-11\" x=\"263.554688\" y=\"456.256836\"/>\n",
       "</g>\n",
       "<g style=\"fill:rgb(0%,0%,0%);fill-opacity:1;\">\n",
       "  <use xlink:href=\"#glyph0-12\" x=\"284.78125\" y=\"456.256836\"/>\n",
       "  <use xlink:href=\"#glyph0-10\" x=\"293.445312\" y=\"456.256836\"/>\n",
       "</g>\n",
       "<g style=\"fill:rgb(0%,0%,0%);fill-opacity:1;\">\n",
       "  <use xlink:href=\"#glyph0-12\" x=\"315.5\" y=\"456.256836\"/>\n",
       "  <use xlink:href=\"#glyph0-13\" x=\"324.164062\" y=\"456.256836\"/>\n",
       "</g>\n",
       "<g style=\"fill:rgb(0%,0%,0%);fill-opacity:1;\">\n",
       "  <use xlink:href=\"#glyph0-14\" x=\"345.71875\" y=\"456.256836\"/>\n",
       "  <use xlink:href=\"#glyph0-15\" x=\"355.054688\" y=\"456.256836\"/>\n",
       "</g>\n",
       "<g style=\"fill:rgb(0%,0%,0%);fill-opacity:1;\">\n",
       "  <use xlink:href=\"#glyph0-11\" x=\"376.941406\" y=\"456.256836\"/>\n",
       "  <use xlink:href=\"#glyph0-7\" x=\"384.945312\" y=\"456.256836\"/>\n",
       "</g>\n",
       "<g style=\"fill:rgb(0%,0%,0%);fill-opacity:1;\">\n",
       "  <use xlink:href=\"#glyph0-13\" x=\"408.160156\" y=\"456.256836\"/>\n",
       "  <use xlink:href=\"#glyph0-1\" x=\"415.324219\" y=\"456.256836\"/>\n",
       "</g>\n",
       "<g style=\"fill:rgb(0%,0%,0%);fill-opacity:1;\">\n",
       "  <use xlink:href=\"#glyph0-16\" x=\"436.878906\" y=\"456.256836\"/>\n",
       "  <use xlink:href=\"#glyph0-13\" x=\"448.207031\" y=\"456.256836\"/>\n",
       "</g>\n",
       "<path style=\"fill:none;stroke-width:0.75;stroke-linecap:round;stroke-linejoin:round;stroke:rgb(0%,0%,0%);stroke-opacity:1;stroke-miterlimit:10;\" d=\"M 59.039062 407.242188 L 59.039062 61.742188 \"/>\n",
       "<path style=\"fill:none;stroke-width:0.75;stroke-linecap:round;stroke-linejoin:round;stroke:rgb(0%,0%,0%);stroke-opacity:1;stroke-miterlimit:10;\" d=\"M 59.039062 407.242188 L 51.839844 407.242188 \"/>\n",
       "<path style=\"fill:none;stroke-width:0.75;stroke-linecap:round;stroke-linejoin:round;stroke:rgb(0%,0%,0%);stroke-opacity:1;stroke-miterlimit:10;\" d=\"M 59.039062 349.660156 L 51.839844 349.660156 \"/>\n",
       "<path style=\"fill:none;stroke-width:0.75;stroke-linecap:round;stroke-linejoin:round;stroke:rgb(0%,0%,0%);stroke-opacity:1;stroke-miterlimit:10;\" d=\"M 59.039062 292.074219 L 51.839844 292.074219 \"/>\n",
       "<path style=\"fill:none;stroke-width:0.75;stroke-linecap:round;stroke-linejoin:round;stroke:rgb(0%,0%,0%);stroke-opacity:1;stroke-miterlimit:10;\" d=\"M 59.039062 234.492188 L 51.839844 234.492188 \"/>\n",
       "<path style=\"fill:none;stroke-width:0.75;stroke-linecap:round;stroke-linejoin:round;stroke:rgb(0%,0%,0%);stroke-opacity:1;stroke-miterlimit:10;\" d=\"M 59.039062 176.910156 L 51.839844 176.910156 \"/>\n",
       "<path style=\"fill:none;stroke-width:0.75;stroke-linecap:round;stroke-linejoin:round;stroke:rgb(0%,0%,0%);stroke-opacity:1;stroke-miterlimit:10;\" d=\"M 59.039062 119.328125 L 51.839844 119.328125 \"/>\n",
       "<path style=\"fill:none;stroke-width:0.75;stroke-linecap:round;stroke-linejoin:round;stroke:rgb(0%,0%,0%);stroke-opacity:1;stroke-miterlimit:10;\" d=\"M 59.039062 61.742188 L 51.839844 61.742188 \"/>\n",
       "<g style=\"fill:rgb(0%,0%,0%);fill-opacity:1;\">\n",
       "  <use xlink:href=\"#glyph1-1\" x=\"41.538086\" y=\"410.742188\"/>\n",
       "</g>\n",
       "<g style=\"fill:rgb(0%,0%,0%);fill-opacity:1;\">\n",
       "  <use xlink:href=\"#glyph1-2\" x=\"41.538086\" y=\"356.660156\"/>\n",
       "  <use xlink:href=\"#glyph1-3\" x=\"41.538086\" y=\"349.988281\"/>\n",
       "</g>\n",
       "<g style=\"fill:rgb(0%,0%,0%);fill-opacity:1;\">\n",
       "  <use xlink:href=\"#glyph1-2\" x=\"41.538086\" y=\"299.074219\"/>\n",
       "  <use xlink:href=\"#glyph1-1\" x=\"41.538086\" y=\"292.402344\"/>\n",
       "</g>\n",
       "<g style=\"fill:rgb(0%,0%,0%);fill-opacity:1;\">\n",
       "  <use xlink:href=\"#glyph1-4\" x=\"41.538086\" y=\"241.492188\"/>\n",
       "  <use xlink:href=\"#glyph1-3\" x=\"41.538086\" y=\"234.820312\"/>\n",
       "</g>\n",
       "<g style=\"fill:rgb(0%,0%,0%);fill-opacity:1;\">\n",
       "  <use xlink:href=\"#glyph1-4\" x=\"41.538086\" y=\"183.910156\"/>\n",
       "  <use xlink:href=\"#glyph1-1\" x=\"41.538086\" y=\"177.238281\"/>\n",
       "</g>\n",
       "<g style=\"fill:rgb(0%,0%,0%);fill-opacity:1;\">\n",
       "  <use xlink:href=\"#glyph1-5\" x=\"41.538086\" y=\"126.328125\"/>\n",
       "  <use xlink:href=\"#glyph1-3\" x=\"41.538086\" y=\"119.65625\"/>\n",
       "</g>\n",
       "<g style=\"fill:rgb(0%,0%,0%);fill-opacity:1;\">\n",
       "  <use xlink:href=\"#glyph1-5\" x=\"41.538086\" y=\"68.742188\"/>\n",
       "  <use xlink:href=\"#glyph1-1\" x=\"41.538086\" y=\"62.070312\"/>\n",
       "</g>\n",
       "<path style=\"fill:none;stroke-width:0.75;stroke-linecap:round;stroke-linejoin:round;stroke:rgb(0%,0%,0%);stroke-opacity:1;stroke-miterlimit:10;\" d=\"M 59.039062 430.558594 L 473.761719 430.558594 L 473.761719 59.039062 L 59.039062 59.039062 L 59.039062 430.558594 \"/>\n",
       "</g>\n",
       "</svg>\n"
      ],
      "text/plain": [
       "plot without title"
      ]
     },
     "metadata": {
      "image/svg+xml": {
       "isolated": true
      }
     },
     "output_type": "display_data"
    }
   ],
   "source": [
    "boxplot(energy$EPriceTotal ~ energy$STATE)"
   ]
  },
  {
   "cell_type": "code",
   "execution_count": 29,
   "metadata": {
    "collapsed": false
   },
   "outputs": [
    {
     "data": {
      "text/html": [
       "<dl class=dl-horizontal>\n",
       "\t<dt>WY</dt>\n",
       "\t\t<dd>5.51</dd>\n",
       "\t<dt>KY</dt>\n",
       "\t\t<dd>5.68857142857143</dd>\n",
       "\t<dt>ID</dt>\n",
       "\t\t<dd>5.68928571428571</dd>\n",
       "\t<dt>WV</dt>\n",
       "\t\t<dd>6.04857142857143</dd>\n",
       "\t<dt>WA</dt>\n",
       "\t\t<dd>6.15714285714286</dd>\n",
       "\t<dt>UT</dt>\n",
       "\t\t<dd>6.29857142857143</dd>\n",
       "\t<dt>ND</dt>\n",
       "\t\t<dd>6.43142857142857</dd>\n",
       "\t<dt>NE</dt>\n",
       "\t\t<dd>6.57928571428571</dd>\n",
       "\t<dt>IN</dt>\n",
       "\t\t<dd>6.64428571428571</dd>\n",
       "\t<dt>AR</dt>\n",
       "\t\t<dd>6.73928571428571</dd>\n",
       "\t<dt>OR</dt>\n",
       "\t\t<dd>6.84928571428571</dd>\n",
       "\t<dt>IA</dt>\n",
       "\t\t<dd>6.88428571428571</dd>\n",
       "\t<dt>MO</dt>\n",
       "\t\t<dd>6.93428571428571</dd>\n",
       "\t<dt>OK</dt>\n",
       "\t\t<dd>6.95714285714286</dd>\n",
       "\t<dt>MT</dt>\n",
       "\t\t<dd>7.04857142857143</dd>\n",
       "\t<dt>SD</dt>\n",
       "\t\t<dd>7.11857142857143</dd>\n",
       "\t<dt>MN</dt>\n",
       "\t\t<dd>7.29857142857143</dd>\n",
       "\t<dt>SC</dt>\n",
       "\t\t<dd>7.30714285714286</dd>\n",
       "\t<dt>TN</dt>\n",
       "\t\t<dd>7.31285714285714</dd>\n",
       "\t<dt>KS</dt>\n",
       "\t\t<dd>7.39571428571429</dd>\n",
       "\t<dt>AL</dt>\n",
       "\t\t<dd>7.39928571428571</dd>\n",
       "\t<dt>VA</dt>\n",
       "\t\t<dd>7.44</dd>\n",
       "\t<dt>LA</dt>\n",
       "\t\t<dd>7.50928571428571</dd>\n",
       "\t<dt>NC</dt>\n",
       "\t\t<dd>7.73785714285714</dd>\n",
       "\t<dt>NM</dt>\n",
       "\t\t<dd>7.75357142857143</dd>\n",
       "\t<dt>MS</dt>\n",
       "\t\t<dd>7.75928571428571</dd>\n",
       "\t<dt>CO</dt>\n",
       "\t\t<dd>7.81</dd>\n",
       "\t<dt>GA</dt>\n",
       "\t\t<dd>7.84642857142857</dd>\n",
       "\t<dt>OH</dt>\n",
       "\t\t<dd>7.85857142857143</dd>\n",
       "\t<dt>IL</dt>\n",
       "\t\t<dd>7.86142857142857</dd>\n",
       "\t<dt>WI</dt>\n",
       "\t\t<dd>8.20285714285714</dd>\n",
       "\t<dt>AZ</dt>\n",
       "\t\t<dd>8.50785714285714</dd>\n",
       "\t<dt>MI</dt>\n",
       "\t\t<dd>8.54714285714286</dd>\n",
       "\t<dt>TX</dt>\n",
       "\t\t<dd>8.70928571428571</dd>\n",
       "\t<dt>NV</dt>\n",
       "\t\t<dd>8.91928571428571</dd>\n",
       "\t<dt>PA</dt>\n",
       "\t\t<dd>8.94142857142857</dd>\n",
       "\t<dt>FL</dt>\n",
       "\t\t<dd>9.385</dd>\n",
       "\t<dt>DE</dt>\n",
       "\t\t<dd>9.53642857142857</dd>\n",
       "\t<dt>MD</dt>\n",
       "\t\t<dd>9.74142857142857</dd>\n",
       "\t<dt>ME</dt>\n",
       "\t\t<dd>11.6457142857143</dd>\n",
       "\t<dt>NJ</dt>\n",
       "\t\t<dd>12.0714285714286</dd>\n",
       "\t<dt>VT</dt>\n",
       "\t\t<dd>12.0942857142857</dd>\n",
       "\t<dt>CA</dt>\n",
       "\t\t<dd>12.3471428571429</dd>\n",
       "\t<dt>RI</dt>\n",
       "\t\t<dd>12.5114285714286</dd>\n",
       "\t<dt>NH</dt>\n",
       "\t\t<dd>13.0814285714286</dd>\n",
       "\t<dt>MA</dt>\n",
       "\t\t<dd>13.1121428571429</dd>\n",
       "\t<dt>AK</dt>\n",
       "\t\t<dd>13.1357142857143</dd>\n",
       "\t<dt>CT</dt>\n",
       "\t\t<dd>13.815</dd>\n",
       "\t<dt>NY</dt>\n",
       "\t\t<dd>14.1657142857143</dd>\n",
       "\t<dt>HI</dt>\n",
       "\t\t<dd>21.8857142857143</dd>\n",
       "</dl>\n"
      ],
      "text/markdown": [
       "WY\n",
       ":   5.51KY\n",
       ":   5.68857142857143ID\n",
       ":   5.68928571428571WV\n",
       ":   6.04857142857143WA\n",
       ":   6.15714285714286UT\n",
       ":   6.29857142857143ND\n",
       ":   6.43142857142857NE\n",
       ":   6.57928571428571IN\n",
       ":   6.64428571428571AR\n",
       ":   6.73928571428571OR\n",
       ":   6.84928571428571IA\n",
       ":   6.88428571428571MO\n",
       ":   6.93428571428571OK\n",
       ":   6.95714285714286MT\n",
       ":   7.04857142857143SD\n",
       ":   7.11857142857143MN\n",
       ":   7.29857142857143SC\n",
       ":   7.30714285714286TN\n",
       ":   7.31285714285714KS\n",
       ":   7.39571428571429AL\n",
       ":   7.39928571428571VA\n",
       ":   7.44LA\n",
       ":   7.50928571428571NC\n",
       ":   7.73785714285714NM\n",
       ":   7.75357142857143MS\n",
       ":   7.75928571428571CO\n",
       ":   7.81GA\n",
       ":   7.84642857142857OH\n",
       ":   7.85857142857143IL\n",
       ":   7.86142857142857WI\n",
       ":   8.20285714285714AZ\n",
       ":   8.50785714285714MI\n",
       ":   8.54714285714286TX\n",
       ":   8.70928571428571NV\n",
       ":   8.91928571428571PA\n",
       ":   8.94142857142857FL\n",
       ":   9.385DE\n",
       ":   9.53642857142857MD\n",
       ":   9.74142857142857ME\n",
       ":   11.6457142857143NJ\n",
       ":   12.0714285714286VT\n",
       ":   12.0942857142857CA\n",
       ":   12.3471428571429RI\n",
       ":   12.5114285714286NH\n",
       ":   13.0814285714286MA\n",
       ":   13.1121428571429AK\n",
       ":   13.1357142857143CT\n",
       ":   13.815NY\n",
       ":   14.1657142857143HI\n",
       ":   21.8857142857143\n",
       "\n"
      ],
      "text/plain": [
       "       WY        KY        ID        WV        WA        UT        ND        NE \n",
       " 5.510000  5.688571  5.689286  6.048571  6.157143  6.298571  6.431429  6.579286 \n",
       "       IN        AR        OR        IA        MO        OK        MT        SD \n",
       " 6.644286  6.739286  6.849286  6.884286  6.934286  6.957143  7.048571  7.118571 \n",
       "       MN        SC        TN        KS        AL        VA        LA        NC \n",
       " 7.298571  7.307143  7.312857  7.395714  7.399286  7.440000  7.509286  7.737857 \n",
       "       NM        MS        CO        GA        OH        IL        WI        AZ \n",
       " 7.753571  7.759286  7.810000  7.846429  7.858571  7.861429  8.202857  8.507857 \n",
       "       MI        TX        NV        PA        FL        DE        MD        ME \n",
       " 8.547143  8.709286  8.919286  8.941429  9.385000  9.536429  9.741429 11.645714 \n",
       "       NJ        VT        CA        RI        NH        MA        AK        CT \n",
       "12.071429 12.094286 12.347143 12.511429 13.081429 13.112143 13.135714 13.815000 \n",
       "       NY        HI \n",
       "14.165714 21.885714 "
      ]
     },
     "metadata": {},
     "output_type": "display_data"
    }
   ],
   "source": [
    "sort(tapply(energy$EPriceTotal, energy$STATE, mean))"
   ]
  },
  {
   "cell_type": "code",
   "execution_count": 30,
   "metadata": {
    "collapsed": false
   },
   "outputs": [
    {
     "data": {
      "text/html": [
       "<dl class=dl-horizontal>\n",
       "\t<dt>CA</dt>\n",
       "\t\t<dd>5.57628529978571</dd>\n",
       "\t<dt>MA</dt>\n",
       "\t\t<dd>6.43429463192857</dd>\n",
       "\t<dt>RI</dt>\n",
       "\t\t<dd>6.48862803392857</dd>\n",
       "\t<dt>NJ</dt>\n",
       "\t\t<dd>7.1087000365</dd>\n",
       "\t<dt>NY</dt>\n",
       "\t\t<dd>7.19738297621429</dd>\n",
       "\t<dt>DE</dt>\n",
       "\t\t<dd>8.25676093878571</dd>\n",
       "\t<dt>MD</dt>\n",
       "\t\t<dd>8.35253046321429</dd>\n",
       "\t<dt>ID</dt>\n",
       "\t\t<dd>8.35847144242857</dd>\n",
       "\t<dt>HI</dt>\n",
       "\t\t<dd>8.62356251442857</dd>\n",
       "\t<dt>CT</dt>\n",
       "\t\t<dd>9.35840936864286</dd>\n",
       "\t<dt>VA</dt>\n",
       "\t\t<dd>9.72036665964286</dd>\n",
       "\t<dt>AK</dt>\n",
       "\t\t<dd>9.81021785707143</dd>\n",
       "\t<dt>VT</dt>\n",
       "\t\t<dd>10.1770050477857</dd>\n",
       "\t<dt>MN</dt>\n",
       "\t\t<dd>10.1992825556429</dd>\n",
       "\t<dt>CO</dt>\n",
       "\t\t<dd>10.367633712</dd>\n",
       "\t<dt>SD</dt>\n",
       "\t\t<dd>10.7198634078571</dd>\n",
       "\t<dt>WI</dt>\n",
       "\t\t<dd>11.0793024935714</dd>\n",
       "\t<dt>MI</dt>\n",
       "\t\t<dd>11.2010833792857</dd>\n",
       "\t<dt>FL</dt>\n",
       "\t\t<dd>12.0270889092857</dd>\n",
       "\t<dt>OH</dt>\n",
       "\t\t<dd>12.6644612892857</dd>\n",
       "\t<dt>ME</dt>\n",
       "\t\t<dd>13.1487922307143</dd>\n",
       "\t<dt>NC</dt>\n",
       "\t\t<dd>13.9154436607143</dd>\n",
       "\t<dt>GA</dt>\n",
       "\t\t<dd>13.9691867157143</dd>\n",
       "\t<dt>NV</dt>\n",
       "\t\t<dd>14.3116246307143</dd>\n",
       "\t<dt>OR</dt>\n",
       "\t\t<dd>14.5372625457143</dd>\n",
       "\t<dt>TN</dt>\n",
       "\t\t<dd>14.7511320535714</dd>\n",
       "\t<dt>MO</dt>\n",
       "\t\t<dd>15.0627599764286</dd>\n",
       "\t<dt>IL</dt>\n",
       "\t\t<dd>15.1938577485714</dd>\n",
       "\t<dt>UT</dt>\n",
       "\t\t<dd>15.5876299071429</dd>\n",
       "\t<dt>NH</dt>\n",
       "\t\t<dd>15.6710558321429</dd>\n",
       "\t<dt>IA</dt>\n",
       "\t\t<dd>16.2701490992857</dd>\n",
       "\t<dt>MS</dt>\n",
       "\t\t<dd>16.3774092992857</dd>\n",
       "\t<dt>WA</dt>\n",
       "\t\t<dd>16.4263941621429</dd>\n",
       "\t<dt>KS</dt>\n",
       "\t\t<dd>16.732968485</dd>\n",
       "\t<dt>TX</dt>\n",
       "\t\t<dd>17.0200817285714</dd>\n",
       "\t<dt>AZ</dt>\n",
       "\t\t<dd>17.2116043807143</dd>\n",
       "\t<dt>PA</dt>\n",
       "\t\t<dd>17.3260796735714</dd>\n",
       "\t<dt>NM</dt>\n",
       "\t\t<dd>18.1305633942857</dd>\n",
       "\t<dt>NE</dt>\n",
       "\t\t<dd>18.4703521071429</dd>\n",
       "\t<dt>OK</dt>\n",
       "\t\t<dd>18.7871459471429</dd>\n",
       "\t<dt>AR</dt>\n",
       "\t\t<dd>19.0901325292857</dd>\n",
       "\t<dt>IN</dt>\n",
       "\t\t<dd>19.6641502007143</dd>\n",
       "\t<dt>LA</dt>\n",
       "\t\t<dd>21.3845158942857</dd>\n",
       "\t<dt>KY</dt>\n",
       "\t\t<dd>22.399998885</dd>\n",
       "\t<dt>SC</dt>\n",
       "\t\t<dd>22.4765698914286</dd>\n",
       "\t<dt>MT</dt>\n",
       "\t\t<dd>28.94235057</dd>\n",
       "\t<dt>AL</dt>\n",
       "\t\t<dd>30.5819996692857</dd>\n",
       "\t<dt>WV</dt>\n",
       "\t\t<dd>47.4171413371429</dd>\n",
       "\t<dt>ND</dt>\n",
       "\t\t<dd>49.9094624607143</dd>\n",
       "\t<dt>WY</dt>\n",
       "\t\t<dd>88.3930826515385</dd>\n",
       "</dl>\n"
      ],
      "text/markdown": [
       "CA\n",
       ":   5.57628529978571MA\n",
       ":   6.43429463192857RI\n",
       ":   6.48862803392857NJ\n",
       ":   7.1087000365NY\n",
       ":   7.19738297621429DE\n",
       ":   8.25676093878571MD\n",
       ":   8.35253046321429ID\n",
       ":   8.35847144242857HI\n",
       ":   8.62356251442857CT\n",
       ":   9.35840936864286VA\n",
       ":   9.72036665964286AK\n",
       ":   9.81021785707143VT\n",
       ":   10.1770050477857MN\n",
       ":   10.1992825556429CO\n",
       ":   10.367633712SD\n",
       ":   10.7198634078571WI\n",
       ":   11.0793024935714MI\n",
       ":   11.2010833792857FL\n",
       ":   12.0270889092857OH\n",
       ":   12.6644612892857ME\n",
       ":   13.1487922307143NC\n",
       ":   13.9154436607143GA\n",
       ":   13.9691867157143NV\n",
       ":   14.3116246307143OR\n",
       ":   14.5372625457143TN\n",
       ":   14.7511320535714MO\n",
       ":   15.0627599764286IL\n",
       ":   15.1938577485714UT\n",
       ":   15.5876299071429NH\n",
       ":   15.6710558321429IA\n",
       ":   16.2701490992857MS\n",
       ":   16.3774092992857WA\n",
       ":   16.4263941621429KS\n",
       ":   16.732968485TX\n",
       ":   17.0200817285714AZ\n",
       ":   17.2116043807143PA\n",
       ":   17.3260796735714NM\n",
       ":   18.1305633942857NE\n",
       ":   18.4703521071429OK\n",
       ":   18.7871459471429AR\n",
       ":   19.0901325292857IN\n",
       ":   19.6641502007143LA\n",
       ":   21.3845158942857KY\n",
       ":   22.399998885SC\n",
       ":   22.4765698914286MT\n",
       ":   28.94235057AL\n",
       ":   30.5819996692857WV\n",
       ":   47.4171413371429ND\n",
       ":   49.9094624607143WY\n",
       ":   88.3930826515385\n",
       "\n"
      ],
      "text/plain": [
       "       CA        MA        RI        NJ        NY        DE        MD        ID \n",
       " 5.576285  6.434295  6.488628  7.108700  7.197383  8.256761  8.352530  8.358471 \n",
       "       HI        CT        VA        AK        VT        MN        CO        SD \n",
       " 8.623563  9.358409  9.720367  9.810218 10.177005 10.199283 10.367634 10.719863 \n",
       "       WI        MI        FL        OH        ME        NC        GA        NV \n",
       "11.079302 11.201083 12.027089 12.664461 13.148792 13.915444 13.969187 14.311625 \n",
       "       OR        TN        MO        IL        UT        NH        IA        MS \n",
       "14.537263 14.751132 15.062760 15.193858 15.587630 15.671056 16.270149 16.377409 \n",
       "       WA        KS        TX        AZ        PA        NM        NE        OK \n",
       "16.426394 16.732968 17.020082 17.211604 17.326080 18.130563 18.470352 18.787146 \n",
       "       AR        IN        LA        KY        SC        MT        AL        WV \n",
       "19.090133 19.664150 21.384516 22.399999 22.476570 28.942351 30.582000 47.417141 \n",
       "       ND        WY \n",
       "49.909462 88.393083 "
      ]
     },
     "metadata": {},
     "output_type": "display_data"
    }
   ],
   "source": [
    "sort(tapply(energy$GenTotal, energy$STATE, mean))"
   ]
  },
  {
   "cell_type": "code",
   "execution_count": 32,
   "metadata": {
    "collapsed": true
   },
   "outputs": [],
   "source": [
    "library(caTools)\n",
    "set.seed(144)\n",
    "spl = sample(1:nrow(energy), size=0.7 * nrow(energy))\n",
    "train = energy[spl,]\n",
    "test = energy[-spl,]"
   ]
  },
  {
   "cell_type": "code",
   "execution_count": 35,
   "metadata": {
    "collapsed": false,
    "scrolled": false
   },
   "outputs": [
    {
     "data": {
      "text/plain": [
       "\n",
       "Call:\n",
       "glm(formula = GenSolarBinary ~ GenHydro + GenSolar + CumlFinancial + \n",
       "    CumlRegulatory + Total.salary + Import, family = \"binomial\", \n",
       "    data = train)\n",
       "\n",
       "Deviance Residuals: \n",
       "    Min       1Q   Median       3Q      Max  \n",
       "-4.0165  -0.4374  -0.2398  -0.0719   2.6342  \n",
       "\n",
       "Coefficients:\n",
       "                 Estimate Std. Error z value Pr(>|z|)    \n",
       "(Intercept)    -6.345e+00  9.148e-01  -6.935 4.05e-12 ***\n",
       "GenHydro       -3.652e+00  1.114e+00  -3.279  0.00104 ** \n",
       "GenSolar        1.076e+03  3.322e+02   3.238  0.00121 ** \n",
       "CumlFinancial   2.814e-02  9.563e-03   2.943  0.00325 ** \n",
       "CumlRegulatory  1.996e-01  5.045e-02   3.955 7.65e-05 ***\n",
       "Total.salary    1.393e-01  4.465e-02   3.119  0.00181 ** \n",
       "Import         -3.142e-01  3.447e-01  -0.912  0.36190    \n",
       "---\n",
       "Signif. codes:  0 '***' 0.001 '**' 0.01 '*' 0.05 '.' 0.1 ' ' 1\n",
       "\n",
       "(Dispersion parameter for binomial family taken to be 1)\n",
       "\n",
       "    Null deviance: 528.69  on 488  degrees of freedom\n",
       "Residual deviance: 282.82  on 482  degrees of freedom\n",
       "AIC: 296.82\n",
       "\n",
       "Number of Fisher Scoring iterations: 7\n"
      ]
     },
     "metadata": {},
     "output_type": "display_data"
    }
   ],
   "source": [
    "mod = glm(GenSolarBinary ~ GenHydro + GenSolar + CumlFinancial +\n",
    "          CumlRegulatory + Total.salary + Import, data=train,\n",
    "          family='binomial')\n",
    "summary(mod)"
   ]
  },
  {
   "cell_type": "code",
   "execution_count": 38,
   "metadata": {
    "collapsed": false
   },
   "outputs": [
    {
     "data": {
      "text/plain": [
       "   thres\n",
       "    FALSE TRUE\n",
       "  0   154    7\n",
       "  1    31   18"
      ]
     },
     "metadata": {},
     "output_type": "display_data"
    },
    {
     "data": {
      "text/html": [
       "0.819047619047619"
      ],
      "text/latex": [
       "0.819047619047619"
      ],
      "text/markdown": [
       "0.819047619047619"
      ],
      "text/plain": [
       "[1] 0.8190476"
      ]
     },
     "metadata": {},
     "output_type": "display_data"
    }
   ],
   "source": [
    "pred = predict(mod, newdata = test, type='response')\n",
    "thres = pred > 0.5\n",
    "t = table(test$GenSolarBinary, thres)\n",
    "t\n",
    "sum(diag(t))/sum(t)"
   ]
  },
  {
   "cell_type": "code",
   "execution_count": 39,
   "metadata": {
    "collapsed": false
   },
   "outputs": [
    {
     "data": {
      "text/plain": [
       "   thres\n",
       "    FALSE TRUE\n",
       "  0    64    7\n",
       "  1    13   16"
      ]
     },
     "metadata": {},
     "output_type": "display_data"
    },
    {
     "data": {
      "text/html": [
       "0.8"
      ],
      "text/latex": [
       "0.8"
      ],
      "text/markdown": [
       "0.8"
      ],
      "text/plain": [
       "[1] 0.8"
      ]
     },
     "metadata": {},
     "output_type": "display_data"
    }
   ],
   "source": [
    "sub = subset(test, presidential.results==1)\n",
    "pred = predict(mod, newdata = sub, type='response')\n",
    "thres = pred > 0.5\n",
    "t = table(sub$GenSolarBinary, thres)\n",
    "t\n",
    "sum(diag(t))/sum(t)"
   ]
  },
  {
   "cell_type": "code",
   "execution_count": 40,
   "metadata": {
    "collapsed": false
   },
   "outputs": [
    {
     "data": {
      "text/plain": [
       "   thres\n",
       "    FALSE TRUE\n",
       "  0    90    0\n",
       "  1    18    2"
      ]
     },
     "metadata": {},
     "output_type": "display_data"
    },
    {
     "data": {
      "text/html": [
       "0.836363636363636"
      ],
      "text/latex": [
       "0.836363636363636"
      ],
      "text/markdown": [
       "0.836363636363636"
      ],
      "text/plain": [
       "[1] 0.8363636"
      ]
     },
     "metadata": {},
     "output_type": "display_data"
    }
   ],
   "source": [
    "sub = subset(test, presidential.results==0)\n",
    "pred = predict(mod, newdata = sub, type='response')\n",
    "thres = pred > 0.5\n",
    "t = table(sub$GenSolarBinary, thres)\n",
    "t\n",
    "sum(diag(t))/sum(t)"
   ]
  },
  {
   "cell_type": "code",
   "execution_count": 91,
   "metadata": {
    "collapsed": false
   },
   "outputs": [],
   "source": [
    "train.limited = train[,c('CumlRegulatory', 'CumlFinancial',\n",
    "                         'presidential.results', 'Total.salary', 'Import')]\n",
    "test.limited = test[,c('CumlRegulatory', 'CumlFinancial',\n",
    "                       'presidential.results', 'Total.salary', 'Import')]"
   ]
  },
  {
   "cell_type": "code",
   "execution_count": 92,
   "metadata": {
    "collapsed": false
   },
   "outputs": [],
   "source": [
    "library(caret)\n",
    "preproc = preProcess(train.limited)\n",
    "train.norm = predict(preproc, train.limited)\n",
    "test.norm = predict(preproc, test.limited)"
   ]
  },
  {
   "cell_type": "code",
   "execution_count": 127,
   "metadata": {
    "collapsed": true
   },
   "outputs": [],
   "source": [
    "set.seed(144)\n",
    "kmc = kmeans(train.norm, centers = 2, iter.max = 1000)\n",
    "#train.norm$cluster = kmc$cluster\n",
    "\n",
    "library(flexclust)\n",
    "kmc.kcca = as.kcca(kmc, train.norm)\n",
    "cluster.train = predict(kmc.kcca)\n",
    "#cluster.test = predict(as.kcca(kmc, test.norm), newdata = test.norm)\n",
    "#cluster.train"
   ]
  },
  {
   "cell_type": "code",
   "execution_count": 132,
   "metadata": {
    "collapsed": false
   },
   "outputs": [],
   "source": [
    "set.seed(144)\n",
    "kmc = kmeans(test.norm, centers = 2, iter.max = 1000)\n",
    "\n",
    "library(flexclust)\n",
    "kmc.kcca = as.kcca(kmc, test.norm)\n",
    "cluster.test = predict(kmc.kcca)\n",
    "#cluster.test = predict(as.kcca(kmc, test.norm), newdata = test.norm)\n",
    "#cluster.train"
   ]
  },
  {
   "cell_type": "code",
   "execution_count": 133,
   "metadata": {
    "collapsed": false
   },
   "outputs": [],
   "source": [
    "train1 = train[cluster.train == 1,]\n",
    "train2 = train[cluster.train == 2,]\n",
    "test1 = test[cluster.test == 1,]\n",
    "test2 = test[cluster.test == 2,]"
   ]
  },
  {
   "cell_type": "code",
   "execution_count": 134,
   "metadata": {
    "collapsed": false
   },
   "outputs": [
    {
     "data": {
      "text/html": [
       "0.194805194805195"
      ],
      "text/latex": [
       "0.194805194805195"
      ],
      "text/markdown": [
       "0.194805194805195"
      ],
      "text/plain": [
       "[1] 0.1948052"
      ]
     },
     "metadata": {},
     "output_type": "display_data"
    },
    {
     "data": {
      "text/html": [
       "0.883977900552486"
      ],
      "text/latex": [
       "0.883977900552486"
      ],
      "text/markdown": [
       "0.883977900552486"
      ],
      "text/plain": [
       "[1] 0.8839779"
      ]
     },
     "metadata": {},
     "output_type": "display_data"
    }
   ],
   "source": [
    "mean(train1$presidential.results)\n",
    "mean(train2$presidential.results)"
   ]
  },
  {
   "cell_type": "code",
   "execution_count": 135,
   "metadata": {
    "collapsed": false
   },
   "outputs": [
    {
     "data": {
      "text/html": [
       "3.98376623376623"
      ],
      "text/latex": [
       "3.98376623376623"
      ],
      "text/markdown": [
       "3.98376623376623"
      ],
      "text/plain": [
       "[1] 3.983766"
      ]
     },
     "metadata": {},
     "output_type": "display_data"
    },
    {
     "data": {
      "text/html": [
       "7.76623376623377"
      ],
      "text/latex": [
       "7.76623376623377"
      ],
      "text/markdown": [
       "7.76623376623377"
      ],
      "text/plain": [
       "[1] 7.766234"
      ]
     },
     "metadata": {},
     "output_type": "display_data"
    },
    {
     "data": {
      "text/html": [
       "12.2872928176796"
      ],
      "text/latex": [
       "12.2872928176796"
      ],
      "text/markdown": [
       "12.2872928176796"
      ],
      "text/plain": [
       "[1] 12.28729"
      ]
     },
     "metadata": {},
     "output_type": "display_data"
    },
    {
     "data": {
      "text/html": [
       "34.878453038674"
      ],
      "text/latex": [
       "34.878453038674"
      ],
      "text/markdown": [
       "34.878453038674"
      ],
      "text/plain": [
       "[1] 34.87845"
      ]
     },
     "metadata": {},
     "output_type": "display_data"
    }
   ],
   "source": [
    "mean(train1$CumlRegulatory)\n",
    "mean(train1$CumlFinancial)\n",
    "mean(train2$CumlRegulatory)\n",
    "mean(train2$CumlFinancial)"
   ]
  },
  {
   "cell_type": "code",
   "execution_count": 136,
   "metadata": {
    "collapsed": false
   },
   "outputs": [
    {
     "data": {
      "text/plain": [
       "\n",
       "Call:\n",
       "glm(formula = GenSolarBinary ~ GenHydro + GenSolar + CumlFinancial + \n",
       "    CumlRegulatory + Total.salary + Import, family = \"binomial\", \n",
       "    data = train1)\n",
       "\n",
       "Deviance Residuals: \n",
       "    Min       1Q   Median       3Q      Max  \n",
       "-1.8654  -0.2715  -0.1692  -0.1194   2.8802  \n",
       "\n",
       "Coefficients:\n",
       "                 Estimate Std. Error z value Pr(>|z|)    \n",
       "(Intercept)    -7.574e+00  1.945e+00  -3.893 9.89e-05 ***\n",
       "GenHydro       -1.201e+00  2.082e+00  -0.577  0.56398    \n",
       "GenSolar        2.324e+04  1.104e+04   2.106  0.03524 *  \n",
       "CumlFinancial   6.836e-02  2.159e-02   3.166  0.00154 ** \n",
       "CumlRegulatory  1.589e-01  1.145e-01   1.388  0.16521    \n",
       "Total.salary    1.549e-01  9.190e-02   1.686  0.09188 .  \n",
       "Import         -3.323e-01  9.628e-01  -0.345  0.72995    \n",
       "---\n",
       "Signif. codes:  0 '***' 0.001 '**' 0.01 '*' 0.05 '.' 0.1 ' ' 1\n",
       "\n",
       "(Dispersion parameter for binomial family taken to be 1)\n",
       "\n",
       "    Null deviance: 131.538  on 307  degrees of freedom\n",
       "Residual deviance:  90.376  on 301  degrees of freedom\n",
       "AIC: 104.38\n",
       "\n",
       "Number of Fisher Scoring iterations: 7\n"
      ]
     },
     "metadata": {},
     "output_type": "display_data"
    }
   ],
   "source": [
    "mod1 = glm(GenSolarBinary ~ GenHydro + GenSolar + CumlFinancial +\n",
    "          CumlRegulatory + Total.salary + Import, data=train1,\n",
    "          family='binomial')\n",
    "summary(mod1)"
   ]
  },
  {
   "cell_type": "code",
   "execution_count": 143,
   "metadata": {
    "collapsed": false
   },
   "outputs": [
    {
     "data": {
      "text/plain": [
       "   \n",
       "    FALSE TRUE\n",
       "  0   111    1\n",
       "  1    11    4"
      ]
     },
     "metadata": {},
     "output_type": "display_data"
    },
    {
     "data": {
      "text/html": [
       "0.905511811023622"
      ],
      "text/latex": [
       "0.905511811023622"
      ],
      "text/markdown": [
       "0.905511811023622"
      ],
      "text/plain": [
       "[1] 0.9055118"
      ]
     },
     "metadata": {},
     "output_type": "display_data"
    }
   ],
   "source": [
    "pred1 = predict(mod1, type='response', newdata = test1)\n",
    "t = table(test1$GenSolarBinary, pred1 > 0.5)\n",
    "t\n",
    "sum(diag(t))/sum(t)"
   ]
  },
  {
   "cell_type": "code",
   "execution_count": 138,
   "metadata": {
    "collapsed": false
   },
   "outputs": [
    {
     "data": {
      "text/plain": [
       "   \n",
       "    FALSE\n",
       "  0   112\n",
       "  1    15"
      ]
     },
     "metadata": {},
     "output_type": "display_data"
    },
    {
     "data": {
      "text/html": [
       "0.881889763779528"
      ],
      "text/latex": [
       "0.881889763779528"
      ],
      "text/markdown": [
       "0.881889763779528"
      ],
      "text/plain": [
       "[1] 0.8818898"
      ]
     },
     "metadata": {},
     "output_type": "display_data"
    }
   ],
   "source": [
    "pred = predict(mod, type='response', newdata = test1)\n",
    "t = table(test1$GenSolarBinary, pred > 0.5)\n",
    "t\n",
    "sum(diag(t))/sum(t)"
   ]
  },
  {
   "cell_type": "code",
   "execution_count": 139,
   "metadata": {
    "collapsed": false
   },
   "outputs": [
    {
     "data": {
      "text/plain": [
       "\n",
       "Call:\n",
       "glm(formula = GenSolarBinary ~ GenHydro + GenSolar + CumlFinancial + \n",
       "    CumlRegulatory + Total.salary + Import, family = \"binomial\", \n",
       "    data = train2)\n",
       "\n",
       "Deviance Residuals: \n",
       "    Min       1Q   Median       3Q      Max  \n",
       "-3.6321  -0.7964   0.0083   0.8536   1.7143  \n",
       "\n",
       "Coefficients:\n",
       "                Estimate Std. Error z value Pr(>|z|)   \n",
       "(Intercept)     -4.14627    1.43969  -2.880  0.00398 **\n",
       "GenHydro        -3.88698    1.23196  -3.155  0.00160 **\n",
       "GenSolar       951.59397  322.86360   2.947  0.00321 **\n",
       "CumlFinancial    0.02077    0.01008   2.060  0.03939 * \n",
       "CumlRegulatory   0.17315    0.06541   2.647  0.00812 **\n",
       "Total.salary     0.08472    0.05576   1.519  0.12869   \n",
       "Import          -0.72189    0.40427  -1.786  0.07416 . \n",
       "---\n",
       "Signif. codes:  0 '***' 0.001 '**' 0.01 '*' 0.05 '.' 0.1 ' ' 1\n",
       "\n",
       "(Dispersion parameter for binomial family taken to be 1)\n",
       "\n",
       "    Null deviance: 250.25  on 180  degrees of freedom\n",
       "Residual deviance: 173.65  on 174  degrees of freedom\n",
       "AIC: 187.65\n",
       "\n",
       "Number of Fisher Scoring iterations: 7\n"
      ]
     },
     "metadata": {},
     "output_type": "display_data"
    }
   ],
   "source": [
    "mod2 = glm(GenSolarBinary ~ GenHydro + GenSolar + CumlFinancial +\n",
    "          CumlRegulatory + Total.salary + Import, data=train2,\n",
    "          family='binomial')\n",
    "summary(mod2)"
   ]
  },
  {
   "cell_type": "code",
   "execution_count": 144,
   "metadata": {
    "collapsed": false
   },
   "outputs": [
    {
     "data": {
      "text/plain": [
       "   \n",
       "    FALSE TRUE\n",
       "  0    43    6\n",
       "  1    14   20"
      ]
     },
     "metadata": {},
     "output_type": "display_data"
    },
    {
     "data": {
      "text/html": [
       "0.759036144578313"
      ],
      "text/latex": [
       "0.759036144578313"
      ],
      "text/markdown": [
       "0.759036144578313"
      ],
      "text/plain": [
       "[1] 0.7590361"
      ]
     },
     "metadata": {},
     "output_type": "display_data"
    }
   ],
   "source": [
    "pred2 = predict(mod2, type='response', newdata = test2)\n",
    "t = table(test2$GenSolarBinary, pred2 > 0.5)\n",
    "t\n",
    "sum(diag(t))/sum(t)"
   ]
  },
  {
   "cell_type": "code",
   "execution_count": 142,
   "metadata": {
    "collapsed": false
   },
   "outputs": [
    {
     "data": {
      "text/plain": [
       "   \n",
       "    FALSE TRUE\n",
       "  0    42    7\n",
       "  1    16   18"
      ]
     },
     "metadata": {},
     "output_type": "display_data"
    },
    {
     "data": {
      "text/html": [
       "0.72289156626506"
      ],
      "text/latex": [
       "0.72289156626506"
      ],
      "text/markdown": [
       "0.72289156626506"
      ],
      "text/plain": [
       "[1] 0.7228916"
      ]
     },
     "metadata": {},
     "output_type": "display_data"
    }
   ],
   "source": [
    "pred = predict(mod, type='response', newdata = test2)\n",
    "t = table(test2$GenSolarBinary, pred > 0.5)\n",
    "t\n",
    "sum(diag(t))/sum(t)"
   ]
  },
  {
   "cell_type": "code",
   "execution_count": 155,
   "metadata": {
    "collapsed": false
   },
   "outputs": [
    {
     "data": {
      "text/plain": [
       "       \n",
       "outcome FALSE TRUE\n",
       "      0   154    7\n",
       "      1    25   24"
      ]
     },
     "metadata": {},
     "output_type": "display_data"
    },
    {
     "data": {
      "text/html": [
       "0.847619047619048"
      ],
      "text/latex": [
       "0.847619047619048"
      ],
      "text/markdown": [
       "0.847619047619048"
      ],
      "text/plain": [
       "[1] 0.847619"
      ]
     },
     "metadata": {},
     "output_type": "display_data"
    }
   ],
   "source": [
    "#predall = \n",
    "#cbind(pred1, pred2)\n",
    "predall = c(as.vector(pred1), as.vector(pred2))\n",
    "outcome = c(test1$GenSolarBinary, test2$GenSolarBinary)\n",
    "t = table(outcome, predall > 0.5)\n",
    "t\n",
    "sum(diag(t))/sum(t)"
   ]
  },
  {
   "cell_type": "code",
   "execution_count": null,
   "metadata": {
    "collapsed": true
   },
   "outputs": [],
   "source": []
  }
 ],
 "metadata": {
  "kernelspec": {
   "display_name": "R",
   "language": "R",
   "name": "ir"
  },
  "language_info": {
   "codemirror_mode": "r",
   "file_extension": ".r",
   "mimetype": "text/x-r-source",
   "name": "R",
   "pygments_lexer": "r",
   "version": "3.3.1"
  }
 },
 "nbformat": 4,
 "nbformat_minor": 0
}
