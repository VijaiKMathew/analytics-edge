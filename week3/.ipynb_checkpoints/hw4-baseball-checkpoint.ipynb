{
 "cells": [
  {
   "cell_type": "code",
   "execution_count": 1,
   "metadata": {
    "collapsed": false
   },
   "outputs": [
    {
     "data": {
      "text/html": [
       "'LC_CTYPE=C;LC_NUMERIC=C;LC_TIME=C;LC_COLLATE=C;LC_MONETARY=C;LC_MESSAGES=en_US.UTF-8;LC_PAPER=en_US.UTF-8;LC_NAME=C;LC_ADDRESS=C;LC_TELEPHONE=C;LC_MEASUREMENT=en_US.UTF-8;LC_IDENTIFICATION=C'"
      ],
      "text/latex": [
       "'LC_CTYPE=C;LC_NUMERIC=C;LC_TIME=C;LC_COLLATE=C;LC_MONETARY=C;LC_MESSAGES=en_US.UTF-8;LC_PAPER=en_US.UTF-8;LC_NAME=C;LC_ADDRESS=C;LC_TELEPHONE=C;LC_MEASUREMENT=en_US.UTF-8;LC_IDENTIFICATION=C'"
      ],
      "text/markdown": [
       "'LC_CTYPE=C;LC_NUMERIC=C;LC_TIME=C;LC_COLLATE=C;LC_MONETARY=C;LC_MESSAGES=en_US.UTF-8;LC_PAPER=en_US.UTF-8;LC_NAME=C;LC_ADDRESS=C;LC_TELEPHONE=C;LC_MEASUREMENT=en_US.UTF-8;LC_IDENTIFICATION=C'"
      ],
      "text/plain": [
       "[1] \"LC_CTYPE=C;LC_NUMERIC=C;LC_TIME=C;LC_COLLATE=C;LC_MONETARY=C;LC_MESSAGES=en_US.UTF-8;LC_PAPER=en_US.UTF-8;LC_NAME=C;LC_ADDRESS=C;LC_TELEPHONE=C;LC_MEASUREMENT=en_US.UTF-8;LC_IDENTIFICATION=C\""
      ]
     },
     "execution_count": 1,
     "metadata": {},
     "output_type": "execute_result"
    }
   ],
   "source": [
    "options(device=pdf) # turn off flashy window on each block execution\n",
    "# options(repr.plot.width=6, repr.plot.height=4)\n",
    "Sys.setlocale(\"LC_ALL\", \"C\")\n",
    "initialWidth = getOption('width')\n",
    "options(width=80) # for old folks like me who can't see shit and set font large"
   ]
  },
  {
   "cell_type": "code",
   "execution_count": 4,
   "metadata": {
    "collapsed": false,
    "scrolled": false
   },
   "outputs": [
    {
     "data": {
      "text/plain": [
       "      Team     League        Year            RS               RA        \n",
       " BAL    : 47   AL:616   Min.   :1962   Min.   : 463.0   Min.   : 472.0  \n",
       " BOS    : 47   NL:616   1st Qu.:1977   1st Qu.: 652.0   1st Qu.: 649.8  \n",
       " CHC    : 47            Median :1989   Median : 711.0   Median : 709.0  \n",
       " CHW    : 47            Mean   :1989   Mean   : 715.1   Mean   : 715.1  \n",
       " CIN    : 47            3rd Qu.:2002   3rd Qu.: 775.0   3rd Qu.: 774.2  \n",
       " CLE    : 47            Max.   :2012   Max.   :1009.0   Max.   :1103.0  \n",
       " (Other):950                                                            \n",
       "       W              OBP              SLG               BA        \n",
       " Min.   : 40.0   Min.   :0.2770   Min.   :0.3010   Min.   :0.2140  \n",
       " 1st Qu.: 73.0   1st Qu.:0.3170   1st Qu.:0.3750   1st Qu.:0.2510  \n",
       " Median : 81.0   Median :0.3260   Median :0.3960   Median :0.2600  \n",
       " Mean   : 80.9   Mean   :0.3263   Mean   :0.3973   Mean   :0.2593  \n",
       " 3rd Qu.: 89.0   3rd Qu.:0.3370   3rd Qu.:0.4210   3rd Qu.:0.2680  \n",
       " Max.   :116.0   Max.   :0.3730   Max.   :0.4910   Max.   :0.2940  \n",
       "                                                                   \n",
       "    Playoffs        RankSeason     RankPlayoffs         G        \n",
       " Min.   :0.0000   Min.   :1.000   Min.   :1.000   Min.   :158.0  \n",
       " 1st Qu.:0.0000   1st Qu.:2.000   1st Qu.:2.000   1st Qu.:162.0  \n",
       " Median :0.0000   Median :3.000   Median :3.000   Median :162.0  \n",
       " Mean   :0.1981   Mean   :3.123   Mean   :2.717   Mean   :161.9  \n",
       " 3rd Qu.:0.0000   3rd Qu.:4.000   3rd Qu.:4.000   3rd Qu.:162.0  \n",
       " Max.   :1.0000   Max.   :8.000   Max.   :5.000   Max.   :165.0  \n",
       "                  NA's   :988     NA's   :988                    \n",
       "      OOBP             OSLG       \n",
       " Min.   :0.2940   Min.   :0.3460  \n",
       " 1st Qu.:0.3210   1st Qu.:0.4010  \n",
       " Median :0.3310   Median :0.4190  \n",
       " Mean   :0.3323   Mean   :0.4197  \n",
       " 3rd Qu.:0.3430   3rd Qu.:0.4380  \n",
       " Max.   :0.3840   Max.   :0.4990  \n",
       " NA's   :812      NA's   :812     "
      ]
     },
     "execution_count": 4,
     "metadata": {},
     "output_type": "execute_result"
    },
    {
     "name": "stdout",
     "output_type": "stream",
     "text": [
      "'data.frame':\t1232 obs. of  15 variables:\n",
      " $ Team        : Factor w/ 39 levels \"ANA\",\"ARI\",\"ATL\",..: 2 3 4 5 7 8 9 10 11 12 ...\n",
      " $ League      : Factor w/ 2 levels \"AL\",\"NL\": 2 2 1 1 2 1 2 1 2 1 ...\n",
      " $ Year        : int  2012 2012 2012 2012 2012 2012 2012 2012 2012 2012 ...\n",
      " $ RS          : int  734 700 712 734 613 748 669 667 758 726 ...\n",
      " $ RA          : int  688 600 705 806 759 676 588 845 890 670 ...\n",
      " $ W           : int  81 94 93 69 61 85 97 68 64 88 ...\n",
      " $ OBP         : num  0.328 0.32 0.311 0.315 0.302 0.318 0.315 0.324 0.33 0.335 ...\n",
      " $ SLG         : num  0.418 0.389 0.417 0.415 0.378 0.422 0.411 0.381 0.436 0.422 ...\n",
      " $ BA          : num  0.259 0.247 0.247 0.26 0.24 0.255 0.251 0.251 0.274 0.268 ...\n",
      " $ Playoffs    : int  0 1 1 0 0 0 1 0 0 1 ...\n",
      " $ RankSeason  : int  NA 4 5 NA NA NA 2 NA NA 6 ...\n",
      " $ RankPlayoffs: int  NA 5 4 NA NA NA 4 NA NA 2 ...\n",
      " $ G           : int  162 162 162 162 162 162 162 162 162 162 ...\n",
      " $ OOBP        : num  0.317 0.306 0.315 0.331 0.335 0.319 0.305 0.336 0.357 0.314 ...\n",
      " $ OSLG        : num  0.415 0.378 0.403 0.428 0.424 0.405 0.39 0.43 0.47 0.402 ...\n"
     ]
    }
   ],
   "source": [
    "data = read.csv('data/baseball.csv.xz')\n",
    "summary(data)\n",
    "str(data)"
   ]
  },
  {
   "cell_type": "code",
   "execution_count": 5,
   "metadata": {
    "collapsed": false
   },
   "outputs": [
    {
     "data": {
      "text/plain": [
       "\n",
       "1962 1963 1964 1965 1966 1967 1968 1969 1970 1971 1973 1974 1975 1976 1977 1978 \n",
       "  20   20   20   20   20   20   20   24   24   24   24   24   24   24   26   26 \n",
       "1979 1980 1982 1983 1984 1985 1986 1987 1988 1989 1990 1991 1992 1993 1996 1997 \n",
       "  26   26   26   26   26   26   26   26   26   26   26   26   26   28   28   28 \n",
       "1998 1999 2000 2001 2002 2003 2004 2005 2006 2007 2008 2009 2010 2011 2012 \n",
       "  30   30   30   30   30   30   30   30   30   30   30   30   30   30   30 "
      ]
     },
     "execution_count": 5,
     "metadata": {},
     "output_type": "execute_result"
    }
   ],
   "source": [
    "table(data$Year)"
   ]
  },
  {
   "cell_type": "code",
   "execution_count": 15,
   "metadata": {
    "collapsed": false
   },
   "outputs": [
    {
     "data": {
      "text/html": [
       "47"
      ],
      "text/latex": [
       "47"
      ],
      "text/markdown": [
       "47"
      ],
      "text/plain": [
       "[1] 47"
      ]
     },
     "execution_count": 15,
     "metadata": {},
     "output_type": "execute_result"
    },
    {
     "data": {
      "text/html": [
       "47"
      ],
      "text/latex": [
       "47"
      ],
      "text/markdown": [
       "47"
      ],
      "text/plain": [
       "[1] 47"
      ]
     },
     "execution_count": 15,
     "metadata": {},
     "output_type": "execute_result"
    }
   ],
   "source": [
    "nrow(as.data.frame(table(data$Year)))\n",
    "length(table(data$Year))"
   ]
  },
  {
   "cell_type": "code",
   "execution_count": 17,
   "metadata": {
    "collapsed": false
   },
   "outputs": [],
   "source": [
    "playoffs = subset(data, Playoffs == 1)"
   ]
  },
  {
   "cell_type": "code",
   "execution_count": 19,
   "metadata": {
    "collapsed": false
   },
   "outputs": [
    {
     "name": "stdout",
     "output_type": "stream",
     "text": [
      "'data.frame':\t244 obs. of  15 variables:\n",
      " $ Team        : Factor w/ 39 levels \"ANA\",\"ARI\",\"ATL\",..: 3 4 9 12 25 26 32 33 36 39 ...\n",
      " $ League      : Factor w/ 2 levels \"AL\",\"NL\": 2 1 2 1 1 1 2 2 1 2 ...\n",
      " $ Year        : int  2012 2012 2012 2012 2012 2012 2012 2012 2012 2012 ...\n",
      " $ RS          : int  700 712 669 726 804 713 718 765 808 731 ...\n",
      " $ RA          : int  600 705 588 670 668 614 649 648 707 594 ...\n",
      " $ W           : int  94 93 97 88 95 94 94 88 93 98 ...\n",
      " $ OBP         : num  0.32 0.311 0.315 0.335 0.337 0.31 0.327 0.338 0.334 0.322 ...\n",
      " $ SLG         : num  0.389 0.417 0.411 0.422 0.453 0.404 0.397 0.421 0.446 0.428 ...\n",
      " $ BA          : num  0.247 0.247 0.251 0.268 0.265 0.238 0.269 0.271 0.273 0.261 ...\n",
      " $ Playoffs    : int  1 1 1 1 1 1 1 1 1 1 ...\n",
      " $ RankSeason  : int  4 5 2 6 3 4 4 6 5 1 ...\n",
      " $ RankPlayoffs: int  5 4 4 2 3 4 1 3 5 4 ...\n",
      " $ G           : int  162 162 162 162 162 162 162 162 162 162 ...\n",
      " $ OOBP        : num  0.306 0.315 0.305 0.314 0.311 0.306 0.313 0.313 0.309 0.303 ...\n",
      " $ OSLG        : num  0.378 0.403 0.39 0.402 0.419 0.378 0.393 0.387 0.408 0.373 ...\n"
     ]
    }
   ],
   "source": [
    "str(playoffs)"
   ]
  },
  {
   "cell_type": "code",
   "execution_count": 20,
   "metadata": {
    "collapsed": false
   },
   "outputs": [
    {
     "data": {
      "text/plain": [
       "      Team     League        Year            RS               RA       \n",
       " NYY    : 23   AL:122   Min.   :1962   Min.   : 583.0   Min.   :472.0  \n",
       " ATL    : 17   NL:122   1st Qu.:1982   1st Qu.: 730.0   1st Qu.:614.0  \n",
       " STL    : 16            Median :1998   Median : 780.5   Median :661.5  \n",
       " LAD    : 14            Mean   :1993   Mean   : 786.3   Mean   :666.1  \n",
       " OAK    : 14            3rd Qu.:2005   3rd Qu.: 836.0   3rd Qu.:711.0  \n",
       " BOS    : 13            Max.   :2012   Max.   :1009.0   Max.   :903.0  \n",
       " (Other):147                                                           \n",
       "       W               OBP              SLG               BA        \n",
       " Min.   : 82.00   Min.   :0.2980   Min.   :0.3350   Min.   :0.2350  \n",
       " 1st Qu.: 91.00   1st Qu.:0.3280   1st Qu.:0.3990   1st Qu.:0.2597  \n",
       " Median : 95.00   Median :0.3380   Median :0.4200   Median :0.2670  \n",
       " Mean   : 95.12   Mean   :0.3373   Mean   :0.4191   Mean   :0.2668  \n",
       " 3rd Qu.: 98.00   3rd Qu.:0.3460   3rd Qu.:0.4373   3rd Qu.:0.2740  \n",
       " Max.   :116.00   Max.   :0.3730   Max.   :0.4910   Max.   :0.2930  \n",
       "                                                                    \n",
       "    Playoffs   RankSeason     RankPlayoffs         G              OOBP       \n",
       " Min.   :1   Min.   :1.000   Min.   :1.000   Min.   :158.0   Min.   :0.2960  \n",
       " 1st Qu.:1   1st Qu.:2.000   1st Qu.:2.000   1st Qu.:162.0   1st Qu.:0.3140  \n",
       " Median :1   Median :3.000   Median :3.000   Median :162.0   Median :0.3210  \n",
       " Mean   :1   Mean   :3.123   Mean   :2.717   Mean   :161.9   Mean   :0.3214  \n",
       " 3rd Qu.:1   3rd Qu.:4.000   3rd Qu.:4.000   3rd Qu.:162.0   3rd Qu.:0.3280  \n",
       " Max.   :1   Max.   :8.000   Max.   :5.000   Max.   :165.0   Max.   :0.3480  \n",
       "                                                             NA's   :130     \n",
       "      OSLG       \n",
       " Min.   :0.3610  \n",
       " 1st Qu.:0.3920  \n",
       " Median :0.4035  \n",
       " Mean   :0.4038  \n",
       " 3rd Qu.:0.4170  \n",
       " Max.   :0.4590  \n",
       " NA's   :130     "
      ]
     },
     "execution_count": 20,
     "metadata": {},
     "output_type": "execute_result"
    }
   ],
   "source": [
    "summary(playoffs)"
   ]
  },
  {
   "cell_type": "code",
   "execution_count": 23,
   "metadata": {
    "collapsed": false
   },
   "outputs": [
    {
     "data": {
      "text/plain": [
       "\n",
       "1962 1963 1964 1965 1966 1967 1968 1969 1970 1971 1973 1974 1975 1976 1977 1978 \n",
       "   2    2    2    2    2    2    2    4    4    4    4    4    4    4    4    4 \n",
       "1979 1980 1982 1983 1984 1985 1986 1987 1988 1989 1990 1991 1992 1993 1996 1997 \n",
       "   4    4    4    4    4    4    4    4    4    4    4    4    4    4    8    8 \n",
       "1998 1999 2000 2001 2002 2003 2004 2005 2006 2007 2008 2009 2010 2011 2012 \n",
       "   8    8    8    8    8    8    8    8    8    8    8    8    8    8   10 "
      ]
     },
     "execution_count": 23,
     "metadata": {},
     "output_type": "execute_result"
    },
    {
     "data": {
      "text/html": [
       "<ol class=list-inline>\n",
       "\t<li>2</li>\n",
       "\t<li>4</li>\n",
       "\t<li>8</li>\n",
       "\t<li>10</li>\n",
       "</ol>\n"
      ],
      "text/latex": [
       "\\begin{enumerate*}\n",
       "\\item 2\n",
       "\\item 4\n",
       "\\item 8\n",
       "\\item 10\n",
       "\\end{enumerate*}\n"
      ],
      "text/markdown": [
       "1. 2\n",
       "2. 4\n",
       "3. 8\n",
       "4. 10\n",
       "\n",
       "\n"
      ],
      "text/plain": [
       "[1]  2  4  8 10"
      ]
     },
     "execution_count": 23,
     "metadata": {},
     "output_type": "execute_result"
    },
    {
     "data": {
      "text/plain": [
       "\n",
       " 2  4  8 10 \n",
       " 7 23 16  1 "
      ]
     },
     "execution_count": 23,
     "metadata": {},
     "output_type": "execute_result"
    }
   ],
   "source": [
    "table(playoffs$Year)\n",
    "unique(table(playoffs$Year))\n",
    "table(table(playoffs$Year))"
   ]
  },
  {
   "cell_type": "code",
   "execution_count": 26,
   "metadata": {
    "collapsed": false
   },
   "outputs": [
    {
     "data": {
      "text/plain": [
       "\n",
       "1962 1963 1964 1965 1966 1967 1968 1969 1970 1971 1973 1974 1975 1976 1977 1978 \n",
       "   2    2    2    2    2    2    2    4    4    4    4    4    4    4    4    4 \n",
       "1979 1980 1982 1983 1984 1985 1986 1987 1988 1989 1990 1991 1992 1993 1996 1997 \n",
       "   4    4    4    4    4    4    4    4    4    4    4    4    4    4    8    8 \n",
       "1998 1999 2000 2001 2002 2003 2004 2005 2006 2007 2008 2009 2010 2011 2012 \n",
       "   8    8    8    8    8    8    8    8    8    8    8    8    8    8   10 "
      ]
     },
     "execution_count": 26,
     "metadata": {},
     "output_type": "execute_result"
    },
    {
     "data": {
      "text/html": [
       "<ol class=list-inline>\n",
       "\t<li>'1962'</li>\n",
       "\t<li>'1963'</li>\n",
       "\t<li>'1964'</li>\n",
       "\t<li>'1965'</li>\n",
       "\t<li>'1966'</li>\n",
       "\t<li>'1967'</li>\n",
       "\t<li>'1968'</li>\n",
       "\t<li>'1969'</li>\n",
       "\t<li>'1970'</li>\n",
       "\t<li>'1971'</li>\n",
       "\t<li>'1973'</li>\n",
       "\t<li>'1974'</li>\n",
       "\t<li>'1975'</li>\n",
       "\t<li>'1976'</li>\n",
       "\t<li>'1977'</li>\n",
       "\t<li>'1978'</li>\n",
       "\t<li>'1979'</li>\n",
       "\t<li>'1980'</li>\n",
       "\t<li>'1982'</li>\n",
       "\t<li>'1983'</li>\n",
       "\t<li>'1984'</li>\n",
       "\t<li>'1985'</li>\n",
       "\t<li>'1986'</li>\n",
       "\t<li>'1987'</li>\n",
       "\t<li>'1988'</li>\n",
       "\t<li>'1989'</li>\n",
       "\t<li>'1990'</li>\n",
       "\t<li>'1991'</li>\n",
       "\t<li>'1992'</li>\n",
       "\t<li>'1993'</li>\n",
       "\t<li>'1996'</li>\n",
       "\t<li>'1997'</li>\n",
       "\t<li>'1998'</li>\n",
       "\t<li>'1999'</li>\n",
       "\t<li>'2000'</li>\n",
       "\t<li>'2001'</li>\n",
       "\t<li>'2002'</li>\n",
       "\t<li>'2003'</li>\n",
       "\t<li>'2004'</li>\n",
       "\t<li>'2005'</li>\n",
       "\t<li>'2006'</li>\n",
       "\t<li>'2007'</li>\n",
       "\t<li>'2008'</li>\n",
       "\t<li>'2009'</li>\n",
       "\t<li>'2010'</li>\n",
       "\t<li>'2011'</li>\n",
       "\t<li>'2012'</li>\n",
       "</ol>\n"
      ],
      "text/latex": [
       "\\begin{enumerate*}\n",
       "\\item '1962'\n",
       "\\item '1963'\n",
       "\\item '1964'\n",
       "\\item '1965'\n",
       "\\item '1966'\n",
       "\\item '1967'\n",
       "\\item '1968'\n",
       "\\item '1969'\n",
       "\\item '1970'\n",
       "\\item '1971'\n",
       "\\item '1973'\n",
       "\\item '1974'\n",
       "\\item '1975'\n",
       "\\item '1976'\n",
       "\\item '1977'\n",
       "\\item '1978'\n",
       "\\item '1979'\n",
       "\\item '1980'\n",
       "\\item '1982'\n",
       "\\item '1983'\n",
       "\\item '1984'\n",
       "\\item '1985'\n",
       "\\item '1986'\n",
       "\\item '1987'\n",
       "\\item '1988'\n",
       "\\item '1989'\n",
       "\\item '1990'\n",
       "\\item '1991'\n",
       "\\item '1992'\n",
       "\\item '1993'\n",
       "\\item '1996'\n",
       "\\item '1997'\n",
       "\\item '1998'\n",
       "\\item '1999'\n",
       "\\item '2000'\n",
       "\\item '2001'\n",
       "\\item '2002'\n",
       "\\item '2003'\n",
       "\\item '2004'\n",
       "\\item '2005'\n",
       "\\item '2006'\n",
       "\\item '2007'\n",
       "\\item '2008'\n",
       "\\item '2009'\n",
       "\\item '2010'\n",
       "\\item '2011'\n",
       "\\item '2012'\n",
       "\\end{enumerate*}\n"
      ],
      "text/markdown": [
       "1. '1962'\n",
       "2. '1963'\n",
       "3. '1964'\n",
       "4. '1965'\n",
       "5. '1966'\n",
       "6. '1967'\n",
       "7. '1968'\n",
       "8. '1969'\n",
       "9. '1970'\n",
       "10. '1971'\n",
       "11. '1973'\n",
       "12. '1974'\n",
       "13. '1975'\n",
       "14. '1976'\n",
       "15. '1977'\n",
       "16. '1978'\n",
       "17. '1979'\n",
       "18. '1980'\n",
       "19. '1982'\n",
       "20. '1983'\n",
       "21. '1984'\n",
       "22. '1985'\n",
       "23. '1986'\n",
       "24. '1987'\n",
       "25. '1988'\n",
       "26. '1989'\n",
       "27. '1990'\n",
       "28. '1991'\n",
       "29. '1992'\n",
       "30. '1993'\n",
       "31. '1996'\n",
       "32. '1997'\n",
       "33. '1998'\n",
       "34. '1999'\n",
       "35. '2000'\n",
       "36. '2001'\n",
       "37. '2002'\n",
       "38. '2003'\n",
       "39. '2004'\n",
       "40. '2005'\n",
       "41. '2006'\n",
       "42. '2007'\n",
       "43. '2008'\n",
       "44. '2009'\n",
       "45. '2010'\n",
       "46. '2011'\n",
       "47. '2012'\n",
       "\n",
       "\n"
      ],
      "text/plain": [
       " [1] \"1962\" \"1963\" \"1964\" \"1965\" \"1966\" \"1967\" \"1968\" \"1969\" \"1970\" \"1971\"\n",
       "[11] \"1973\" \"1974\" \"1975\" \"1976\" \"1977\" \"1978\" \"1979\" \"1980\" \"1982\" \"1983\"\n",
       "[21] \"1984\" \"1985\" \"1986\" \"1987\" \"1988\" \"1989\" \"1990\" \"1991\" \"1992\" \"1993\"\n",
       "[31] \"1996\" \"1997\" \"1998\" \"1999\" \"2000\" \"2001\" \"2002\" \"2003\" \"2004\" \"2005\"\n",
       "[41] \"2006\" \"2007\" \"2008\" \"2009\" \"2010\" \"2011\" \"2012\""
      ]
     },
     "execution_count": 26,
     "metadata": {},
     "output_type": "execute_result"
    },
    {
     "name": "stdout",
     "output_type": "stream",
     "text": [
      " chr [1:47] \"1962\" \"1963\" \"1964\" \"1965\" \"1966\" \"1967\" \"1968\" ...\n"
     ]
    }
   ],
   "source": [
    "PlayoffTable = table(playoffs$Year)\n",
    "PlayoffTable\n",
    "names(PlayoffTable)\n",
    "str(names(PlayoffTable))"
   ]
  },
  {
   "cell_type": "code",
   "execution_count": 27,
   "metadata": {
    "collapsed": false
   },
   "outputs": [
    {
     "data": {
      "text/html": [
       "<dl class=dl-horizontal>\n",
       "\t<dt>1990</dt>\n",
       "\t\t<dd>4</dd>\n",
       "\t<dt>2001</dt>\n",
       "\t\t<dd>8</dd>\n",
       "</dl>\n"
      ],
      "text/latex": [
       "\\begin{description*}\n",
       "\\item[1990] 4\n",
       "\\item[2001] 8\n",
       "\\end{description*}\n"
      ],
      "text/markdown": [
       "1990\n",
       ":   42001\n",
       ":   8\n",
       "\n"
      ],
      "text/plain": [
       "\n",
       "1990 2001 \n",
       "   4    8 "
      ]
     },
     "execution_count": 27,
     "metadata": {},
     "output_type": "execute_result"
    }
   ],
   "source": [
    "PlayoffTable[c('1990', '2001')]"
   ]
  },
  {
   "cell_type": "code",
   "execution_count": null,
   "metadata": {
    "collapsed": true
   },
   "outputs": [],
   "source": []
  }
 ],
 "metadata": {
  "kernelspec": {
   "display_name": "R",
   "language": "R",
   "name": "ir"
  },
  "language_info": {
   "codemirror_mode": "r",
   "file_extension": ".r",
   "mimetype": "text/x-r-source",
   "name": "R",
   "pygments_lexer": "r",
   "version": "3.2.4"
  }
 },
 "nbformat": 4,
 "nbformat_minor": 0
}
