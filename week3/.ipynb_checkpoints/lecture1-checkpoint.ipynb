{
 "cells": [
  {
   "cell_type": "code",
   "execution_count": 1,
   "metadata": {
    "collapsed": false
   },
   "outputs": [
    {
     "data": {
      "text/html": [
       "'LC_CTYPE=C;LC_NUMERIC=C;LC_TIME=C;LC_COLLATE=C;LC_MONETARY=C;LC_MESSAGES=en_US.UTF-8;LC_PAPER=en_US.UTF-8;LC_NAME=C;LC_ADDRESS=C;LC_TELEPHONE=C;LC_MEASUREMENT=en_US.UTF-8;LC_IDENTIFICATION=C'"
      ],
      "text/latex": [
       "'LC_CTYPE=C;LC_NUMERIC=C;LC_TIME=C;LC_COLLATE=C;LC_MONETARY=C;LC_MESSAGES=en_US.UTF-8;LC_PAPER=en_US.UTF-8;LC_NAME=C;LC_ADDRESS=C;LC_TELEPHONE=C;LC_MEASUREMENT=en_US.UTF-8;LC_IDENTIFICATION=C'"
      ],
      "text/markdown": [
       "'LC_CTYPE=C;LC_NUMERIC=C;LC_TIME=C;LC_COLLATE=C;LC_MONETARY=C;LC_MESSAGES=en_US.UTF-8;LC_PAPER=en_US.UTF-8;LC_NAME=C;LC_ADDRESS=C;LC_TELEPHONE=C;LC_MEASUREMENT=en_US.UTF-8;LC_IDENTIFICATION=C'"
      ],
      "text/plain": [
       "[1] \"LC_CTYPE=C;LC_NUMERIC=C;LC_TIME=C;LC_COLLATE=C;LC_MONETARY=C;LC_MESSAGES=en_US.UTF-8;LC_PAPER=en_US.UTF-8;LC_NAME=C;LC_ADDRESS=C;LC_TELEPHONE=C;LC_MEASUREMENT=en_US.UTF-8;LC_IDENTIFICATION=C\""
      ]
     },
     "execution_count": 1,
     "metadata": {},
     "output_type": "execute_result"
    }
   ],
   "source": [
    "options(device=pdf) # turn off flashy window on each block execution\n",
    "# options(repr.plot.width=6, repr.plot.height=4)\n",
    "Sys.setlocale(\"LC_ALL\", \"C\")\n",
    "initialWidth = getOption('width')\n",
    "options(width=80) # for old folks like me who can't see shit and set font large"
   ]
  },
  {
   "cell_type": "code",
   "execution_count": 2,
   "metadata": {
    "collapsed": true
   },
   "outputs": [],
   "source": [
    "quality = read.csv('data/quality.csv.xz')"
   ]
  },
  {
   "cell_type": "code",
   "execution_count": 3,
   "metadata": {
    "collapsed": false
   },
   "outputs": [
    {
     "name": "stdout",
     "output_type": "stream",
     "text": [
      "'data.frame':\t131 obs. of  14 variables:\n",
      " $ MemberID            : int  1 2 3 4 5 6 7 8 9 10 ...\n",
      " $ InpatientDays       : int  0 1 0 0 8 2 16 2 2 4 ...\n",
      " $ ERVisits            : int  0 1 0 1 2 0 1 0 1 2 ...\n",
      " $ OfficeVisits        : int  18 6 5 19 19 9 8 8 4 0 ...\n",
      " $ Narcotics           : int  1 1 3 0 3 2 1 0 3 2 ...\n",
      " $ DaysSinceLastERVisit: num  731 411 731 158 449 ...\n",
      " $ Pain                : int  10 0 10 34 10 6 4 5 5 2 ...\n",
      " $ TotalVisits         : int  18 8 5 20 29 11 25 10 7 6 ...\n",
      " $ ProviderCount       : int  21 27 16 14 24 40 19 11 28 21 ...\n",
      " $ MedicalClaims       : int  93 19 27 59 51 53 40 28 20 17 ...\n",
      " $ ClaimLines          : int  222 115 148 242 204 156 261 87 98 66 ...\n",
      " $ StartedOnCombination: logi  FALSE FALSE FALSE FALSE FALSE FALSE ...\n",
      " $ AcuteDrugGapSmall   : int  0 1 5 0 0 4 0 0 0 0 ...\n",
      " $ PoorCare            : int  0 0 0 0 0 1 0 0 1 0 ...\n"
     ]
    }
   ],
   "source": [
    "str(quality)"
   ]
  },
  {
   "cell_type": "code",
   "execution_count": 4,
   "metadata": {
    "collapsed": false
   },
   "outputs": [
    {
     "data": {
      "text/plain": [
       "\n",
       " 0  1 \n",
       "98 33 "
      ]
     },
     "execution_count": 4,
     "metadata": {},
     "output_type": "execute_result"
    }
   ],
   "source": [
    "table(quality$PoorCare)"
   ]
  },
  {
   "cell_type": "code",
   "execution_count": 5,
   "metadata": {
    "collapsed": false
   },
   "outputs": [
    {
     "data": {
      "text/html": [
       "0.748091603053435"
      ],
      "text/latex": [
       "0.748091603053435"
      ],
      "text/markdown": [
       "0.748091603053435"
      ],
      "text/plain": [
       "[1] 0.7480916"
      ]
     },
     "execution_count": 5,
     "metadata": {},
     "output_type": "execute_result"
    }
   ],
   "source": [
    "98/131"
   ]
  },
  {
   "cell_type": "code",
   "execution_count": 6,
   "metadata": {
    "collapsed": true
   },
   "outputs": [],
   "source": [
    "library(caTools)"
   ]
  },
  {
   "cell_type": "code",
   "execution_count": 7,
   "metadata": {
    "collapsed": true
   },
   "outputs": [],
   "source": [
    "set.seed(88)"
   ]
  },
  {
   "cell_type": "code",
   "execution_count": 8,
   "metadata": {
    "collapsed": true
   },
   "outputs": [],
   "source": [
    "split = sample.split(quality$PoorCare, SplitRatio = 0.75)"
   ]
  },
  {
   "cell_type": "code",
   "execution_count": 11,
   "metadata": {
    "collapsed": false
   },
   "outputs": [
    {
     "data": {
      "text/html": [
       "<ol class=list-inline>\n",
       "\t<li>TRUE</li>\n",
       "\t<li>TRUE</li>\n",
       "\t<li>TRUE</li>\n",
       "\t<li>TRUE</li>\n",
       "\t<li>FALSE</li>\n",
       "\t<li>TRUE</li>\n",
       "\t<li>FALSE</li>\n",
       "\t<li>TRUE</li>\n",
       "\t<li>FALSE</li>\n",
       "\t<li>FALSE</li>\n",
       "\t<li>TRUE</li>\n",
       "\t<li>FALSE</li>\n",
       "\t<li>TRUE</li>\n",
       "\t<li>TRUE</li>\n",
       "\t<li>TRUE</li>\n",
       "\t<li>TRUE</li>\n",
       "\t<li>TRUE</li>\n",
       "\t<li>TRUE</li>\n",
       "\t<li>TRUE</li>\n",
       "\t<li>TRUE</li>\n",
       "\t<li>TRUE</li>\n",
       "\t<li>TRUE</li>\n",
       "\t<li>TRUE</li>\n",
       "\t<li>TRUE</li>\n",
       "\t<li>FALSE</li>\n",
       "\t<li>TRUE</li>\n",
       "\t<li>TRUE</li>\n",
       "\t<li>TRUE</li>\n",
       "\t<li>TRUE</li>\n",
       "\t<li>FALSE</li>\n",
       "\t<li>FALSE</li>\n",
       "\t<li>FALSE</li>\n",
       "\t<li>FALSE</li>\n",
       "\t<li>TRUE</li>\n",
       "\t<li>TRUE</li>\n",
       "\t<li>TRUE</li>\n",
       "\t<li>FALSE</li>\n",
       "\t<li>TRUE</li>\n",
       "\t<li>TRUE</li>\n",
       "\t<li>TRUE</li>\n",
       "\t<li>FALSE</li>\n",
       "\t<li>FALSE</li>\n",
       "\t<li>TRUE</li>\n",
       "\t<li>TRUE</li>\n",
       "\t<li>FALSE</li>\n",
       "\t<li>TRUE</li>\n",
       "\t<li>FALSE</li>\n",
       "\t<li>TRUE</li>\n",
       "\t<li>FALSE</li>\n",
       "\t<li>TRUE</li>\n",
       "\t<li>TRUE</li>\n",
       "\t<li>FALSE</li>\n",
       "\t<li>FALSE</li>\n",
       "\t<li>TRUE</li>\n",
       "\t<li>TRUE</li>\n",
       "\t<li>TRUE</li>\n",
       "\t<li>TRUE</li>\n",
       "\t<li>TRUE</li>\n",
       "\t<li>TRUE</li>\n",
       "\t<li>TRUE</li>\n",
       "\t<li>TRUE</li>\n",
       "\t<li>TRUE</li>\n",
       "\t<li>TRUE</li>\n",
       "\t<li>TRUE</li>\n",
       "\t<li>TRUE</li>\n",
       "\t<li>FALSE</li>\n",
       "\t<li>TRUE</li>\n",
       "\t<li>TRUE</li>\n",
       "\t<li>TRUE</li>\n",
       "\t<li>TRUE</li>\n",
       "\t<li>FALSE</li>\n",
       "\t<li>TRUE</li>\n",
       "\t<li>TRUE</li>\n",
       "\t<li>TRUE</li>\n",
       "\t<li>TRUE</li>\n",
       "\t<li>TRUE</li>\n",
       "\t<li>TRUE</li>\n",
       "\t<li>TRUE</li>\n",
       "\t<li>TRUE</li>\n",
       "\t<li>TRUE</li>\n",
       "\t<li>TRUE</li>\n",
       "\t<li>TRUE</li>\n",
       "\t<li>TRUE</li>\n",
       "\t<li>FALSE</li>\n",
       "\t<li>TRUE</li>\n",
       "\t<li>TRUE</li>\n",
       "\t<li>TRUE</li>\n",
       "\t<li>TRUE</li>\n",
       "\t<li>TRUE</li>\n",
       "\t<li>TRUE</li>\n",
       "\t<li>TRUE</li>\n",
       "\t<li>TRUE</li>\n",
       "\t<li>TRUE</li>\n",
       "\t<li>FALSE</li>\n",
       "\t<li>TRUE</li>\n",
       "\t<li>TRUE</li>\n",
       "\t<li>TRUE</li>\n",
       "\t<li>TRUE</li>\n",
       "\t<li>TRUE</li>\n",
       "\t<li>TRUE</li>\n",
       "\t<li>TRUE</li>\n",
       "\t<li>TRUE</li>\n",
       "\t<li>TRUE</li>\n",
       "\t<li>FALSE</li>\n",
       "\t<li>TRUE</li>\n",
       "\t<li>TRUE</li>\n",
       "\t<li>TRUE</li>\n",
       "\t<li>FALSE</li>\n",
       "\t<li>TRUE</li>\n",
       "\t<li>FALSE</li>\n",
       "\t<li>FALSE</li>\n",
       "\t<li>TRUE</li>\n",
       "\t<li>TRUE</li>\n",
       "\t<li>FALSE</li>\n",
       "\t<li>TRUE</li>\n",
       "\t<li>TRUE</li>\n",
       "\t<li>TRUE</li>\n",
       "\t<li>FALSE</li>\n",
       "\t<li>TRUE</li>\n",
       "\t<li>TRUE</li>\n",
       "\t<li>FALSE</li>\n",
       "\t<li>TRUE</li>\n",
       "\t<li>TRUE</li>\n",
       "\t<li>FALSE</li>\n",
       "\t<li>TRUE</li>\n",
       "\t<li>TRUE</li>\n",
       "\t<li>FALSE</li>\n",
       "\t<li>TRUE</li>\n",
       "\t<li>TRUE</li>\n",
       "\t<li>TRUE</li>\n",
       "\t<li>FALSE</li>\n",
       "</ol>\n"
      ],
      "text/latex": [
       "\\begin{enumerate*}\n",
       "\\item TRUE\n",
       "\\item TRUE\n",
       "\\item TRUE\n",
       "\\item TRUE\n",
       "\\item FALSE\n",
       "\\item TRUE\n",
       "\\item FALSE\n",
       "\\item TRUE\n",
       "\\item FALSE\n",
       "\\item FALSE\n",
       "\\item TRUE\n",
       "\\item FALSE\n",
       "\\item TRUE\n",
       "\\item TRUE\n",
       "\\item TRUE\n",
       "\\item TRUE\n",
       "\\item TRUE\n",
       "\\item TRUE\n",
       "\\item TRUE\n",
       "\\item TRUE\n",
       "\\item TRUE\n",
       "\\item TRUE\n",
       "\\item TRUE\n",
       "\\item TRUE\n",
       "\\item FALSE\n",
       "\\item TRUE\n",
       "\\item TRUE\n",
       "\\item TRUE\n",
       "\\item TRUE\n",
       "\\item FALSE\n",
       "\\item FALSE\n",
       "\\item FALSE\n",
       "\\item FALSE\n",
       "\\item TRUE\n",
       "\\item TRUE\n",
       "\\item TRUE\n",
       "\\item FALSE\n",
       "\\item TRUE\n",
       "\\item TRUE\n",
       "\\item TRUE\n",
       "\\item FALSE\n",
       "\\item FALSE\n",
       "\\item TRUE\n",
       "\\item TRUE\n",
       "\\item FALSE\n",
       "\\item TRUE\n",
       "\\item FALSE\n",
       "\\item TRUE\n",
       "\\item FALSE\n",
       "\\item TRUE\n",
       "\\item TRUE\n",
       "\\item FALSE\n",
       "\\item FALSE\n",
       "\\item TRUE\n",
       "\\item TRUE\n",
       "\\item TRUE\n",
       "\\item TRUE\n",
       "\\item TRUE\n",
       "\\item TRUE\n",
       "\\item TRUE\n",
       "\\item TRUE\n",
       "\\item TRUE\n",
       "\\item TRUE\n",
       "\\item TRUE\n",
       "\\item TRUE\n",
       "\\item FALSE\n",
       "\\item TRUE\n",
       "\\item TRUE\n",
       "\\item TRUE\n",
       "\\item TRUE\n",
       "\\item FALSE\n",
       "\\item TRUE\n",
       "\\item TRUE\n",
       "\\item TRUE\n",
       "\\item TRUE\n",
       "\\item TRUE\n",
       "\\item TRUE\n",
       "\\item TRUE\n",
       "\\item TRUE\n",
       "\\item TRUE\n",
       "\\item TRUE\n",
       "\\item TRUE\n",
       "\\item TRUE\n",
       "\\item FALSE\n",
       "\\item TRUE\n",
       "\\item TRUE\n",
       "\\item TRUE\n",
       "\\item TRUE\n",
       "\\item TRUE\n",
       "\\item TRUE\n",
       "\\item TRUE\n",
       "\\item TRUE\n",
       "\\item TRUE\n",
       "\\item FALSE\n",
       "\\item TRUE\n",
       "\\item TRUE\n",
       "\\item TRUE\n",
       "\\item TRUE\n",
       "\\item TRUE\n",
       "\\item TRUE\n",
       "\\item TRUE\n",
       "\\item TRUE\n",
       "\\item TRUE\n",
       "\\item FALSE\n",
       "\\item TRUE\n",
       "\\item TRUE\n",
       "\\item TRUE\n",
       "\\item FALSE\n",
       "\\item TRUE\n",
       "\\item FALSE\n",
       "\\item FALSE\n",
       "\\item TRUE\n",
       "\\item TRUE\n",
       "\\item FALSE\n",
       "\\item TRUE\n",
       "\\item TRUE\n",
       "\\item TRUE\n",
       "\\item FALSE\n",
       "\\item TRUE\n",
       "\\item TRUE\n",
       "\\item FALSE\n",
       "\\item TRUE\n",
       "\\item TRUE\n",
       "\\item FALSE\n",
       "\\item TRUE\n",
       "\\item TRUE\n",
       "\\item FALSE\n",
       "\\item TRUE\n",
       "\\item TRUE\n",
       "\\item TRUE\n",
       "\\item FALSE\n",
       "\\end{enumerate*}\n"
      ],
      "text/markdown": [
       "1. TRUE\n",
       "2. TRUE\n",
       "3. TRUE\n",
       "4. TRUE\n",
       "5. FALSE\n",
       "6. TRUE\n",
       "7. FALSE\n",
       "8. TRUE\n",
       "9. FALSE\n",
       "10. FALSE\n",
       "11. TRUE\n",
       "12. FALSE\n",
       "13. TRUE\n",
       "14. TRUE\n",
       "15. TRUE\n",
       "16. TRUE\n",
       "17. TRUE\n",
       "18. TRUE\n",
       "19. TRUE\n",
       "20. TRUE\n",
       "21. TRUE\n",
       "22. TRUE\n",
       "23. TRUE\n",
       "24. TRUE\n",
       "25. FALSE\n",
       "26. TRUE\n",
       "27. TRUE\n",
       "28. TRUE\n",
       "29. TRUE\n",
       "30. FALSE\n",
       "31. FALSE\n",
       "32. FALSE\n",
       "33. FALSE\n",
       "34. TRUE\n",
       "35. TRUE\n",
       "36. TRUE\n",
       "37. FALSE\n",
       "38. TRUE\n",
       "39. TRUE\n",
       "40. TRUE\n",
       "41. FALSE\n",
       "42. FALSE\n",
       "43. TRUE\n",
       "44. TRUE\n",
       "45. FALSE\n",
       "46. TRUE\n",
       "47. FALSE\n",
       "48. TRUE\n",
       "49. FALSE\n",
       "50. TRUE\n",
       "51. TRUE\n",
       "52. FALSE\n",
       "53. FALSE\n",
       "54. TRUE\n",
       "55. TRUE\n",
       "56. TRUE\n",
       "57. TRUE\n",
       "58. TRUE\n",
       "59. TRUE\n",
       "60. TRUE\n",
       "61. TRUE\n",
       "62. TRUE\n",
       "63. TRUE\n",
       "64. TRUE\n",
       "65. TRUE\n",
       "66. FALSE\n",
       "67. TRUE\n",
       "68. TRUE\n",
       "69. TRUE\n",
       "70. TRUE\n",
       "71. FALSE\n",
       "72. TRUE\n",
       "73. TRUE\n",
       "74. TRUE\n",
       "75. TRUE\n",
       "76. TRUE\n",
       "77. TRUE\n",
       "78. TRUE\n",
       "79. TRUE\n",
       "80. TRUE\n",
       "81. TRUE\n",
       "82. TRUE\n",
       "83. TRUE\n",
       "84. FALSE\n",
       "85. TRUE\n",
       "86. TRUE\n",
       "87. TRUE\n",
       "88. TRUE\n",
       "89. TRUE\n",
       "90. TRUE\n",
       "91. TRUE\n",
       "92. TRUE\n",
       "93. TRUE\n",
       "94. FALSE\n",
       "95. TRUE\n",
       "96. TRUE\n",
       "97. TRUE\n",
       "98. TRUE\n",
       "99. TRUE\n",
       "100. TRUE\n",
       "101. TRUE\n",
       "102. TRUE\n",
       "103. TRUE\n",
       "104. FALSE\n",
       "105. TRUE\n",
       "106. TRUE\n",
       "107. TRUE\n",
       "108. FALSE\n",
       "109. TRUE\n",
       "110. FALSE\n",
       "111. FALSE\n",
       "112. TRUE\n",
       "113. TRUE\n",
       "114. FALSE\n",
       "115. TRUE\n",
       "116. TRUE\n",
       "117. TRUE\n",
       "118. FALSE\n",
       "119. TRUE\n",
       "120. TRUE\n",
       "121. FALSE\n",
       "122. TRUE\n",
       "123. TRUE\n",
       "124. FALSE\n",
       "125. TRUE\n",
       "126. TRUE\n",
       "127. FALSE\n",
       "128. TRUE\n",
       "129. TRUE\n",
       "130. TRUE\n",
       "131. FALSE\n",
       "\n",
       "\n"
      ],
      "text/plain": [
       "  [1]  TRUE  TRUE  TRUE  TRUE FALSE  TRUE FALSE  TRUE FALSE FALSE  TRUE FALSE\n",
       " [13]  TRUE  TRUE  TRUE  TRUE  TRUE  TRUE  TRUE  TRUE  TRUE  TRUE  TRUE  TRUE\n",
       " [25] FALSE  TRUE  TRUE  TRUE  TRUE FALSE FALSE FALSE FALSE  TRUE  TRUE  TRUE\n",
       " [37] FALSE  TRUE  TRUE  TRUE FALSE FALSE  TRUE  TRUE FALSE  TRUE FALSE  TRUE\n",
       " [49] FALSE  TRUE  TRUE FALSE FALSE  TRUE  TRUE  TRUE  TRUE  TRUE  TRUE  TRUE\n",
       " [61]  TRUE  TRUE  TRUE  TRUE  TRUE FALSE  TRUE  TRUE  TRUE  TRUE FALSE  TRUE\n",
       " [73]  TRUE  TRUE  TRUE  TRUE  TRUE  TRUE  TRUE  TRUE  TRUE  TRUE  TRUE FALSE\n",
       " [85]  TRUE  TRUE  TRUE  TRUE  TRUE  TRUE  TRUE  TRUE  TRUE FALSE  TRUE  TRUE\n",
       " [97]  TRUE  TRUE  TRUE  TRUE  TRUE  TRUE  TRUE FALSE  TRUE  TRUE  TRUE FALSE\n",
       "[109]  TRUE FALSE FALSE  TRUE  TRUE FALSE  TRUE  TRUE  TRUE FALSE  TRUE  TRUE\n",
       "[121] FALSE  TRUE  TRUE FALSE  TRUE  TRUE FALSE  TRUE  TRUE  TRUE FALSE"
      ]
     },
     "execution_count": 11,
     "metadata": {},
     "output_type": "execute_result"
    }
   ],
   "source": [
    "split"
   ]
  },
  {
   "cell_type": "code",
   "execution_count": 13,
   "metadata": {
    "collapsed": false
   },
   "outputs": [
    {
     "data": {
      "text/html": [
       "99"
      ],
      "text/latex": [
       "99"
      ],
      "text/markdown": [
       "99"
      ],
      "text/plain": [
       "[1] 99"
      ]
     },
     "execution_count": 13,
     "metadata": {},
     "output_type": "execute_result"
    },
    {
     "data": {
      "text/html": [
       "32"
      ],
      "text/latex": [
       "32"
      ],
      "text/markdown": [
       "32"
      ],
      "text/plain": [
       "[1] 32"
      ]
     },
     "execution_count": 13,
     "metadata": {},
     "output_type": "execute_result"
    }
   ],
   "source": [
    "qualityTrain = subset(quality, split==T)\n",
    "qualityTest = subset(quality, split==F)\n",
    "nrow(qualityTrain)\n",
    "nrow(qualityTest)"
   ]
  },
  {
   "cell_type": "code",
   "execution_count": 14,
   "metadata": {
    "collapsed": false
   },
   "outputs": [
    {
     "data": {
      "text/plain": [
       "\n",
       "Call:\n",
       "glm(formula = PoorCare ~ OfficeVisits + Narcotics, family = binomial, \n",
       "    data = qualityTrain)\n",
       "\n",
       "Deviance Residuals: \n",
       "     Min        1Q    Median        3Q       Max  \n",
       "-2.06303  -0.63155  -0.50503  -0.09689   2.16686  \n",
       "\n",
       "Coefficients:\n",
       "             Estimate Std. Error z value Pr(>|z|)    \n",
       "(Intercept)  -2.64613    0.52357  -5.054 4.33e-07 ***\n",
       "OfficeVisits  0.08212    0.03055   2.688  0.00718 ** \n",
       "Narcotics     0.07630    0.03205   2.381  0.01728 *  \n",
       "---\n",
       "Signif. codes:  0 '***' 0.001 '**' 0.01 '*' 0.05 '.' 0.1 ' ' 1\n",
       "\n",
       "(Dispersion parameter for binomial family taken to be 1)\n",
       "\n",
       "    Null deviance: 111.888  on 98  degrees of freedom\n",
       "Residual deviance:  89.127  on 96  degrees of freedom\n",
       "AIC: 95.127\n",
       "\n",
       "Number of Fisher Scoring iterations: 4\n"
      ]
     },
     "execution_count": 14,
     "metadata": {},
     "output_type": "execute_result"
    }
   ],
   "source": [
    "QualityLog = glm(PoorCare ~ OfficeVisits + Narcotics, data=qualityTrain, family=binomial)\n",
    "summary(QualityLog)"
   ]
  },
  {
   "cell_type": "code",
   "execution_count": 15,
   "metadata": {
    "collapsed": false
   },
   "outputs": [
    {
     "data": {
      "text/plain": [
       "   Min. 1st Qu.  Median    Mean 3rd Qu.    Max. \n",
       "0.06623 0.11910 0.15970 0.25250 0.26760 0.98460 "
      ]
     },
     "execution_count": 15,
     "metadata": {},
     "output_type": "execute_result"
    }
   ],
   "source": [
    "predictTrain = predict(QualityLog, type=\"response\")\n",
    "summary(predictTrain)"
   ]
  },
  {
   "cell_type": "code",
   "execution_count": 16,
   "metadata": {
    "collapsed": false
   },
   "outputs": [
    {
     "data": {
      "text/html": [
       "<dl class=dl-horizontal>\n",
       "\t<dt>0</dt>\n",
       "\t\t<dd>0.189451161247545</dd>\n",
       "\t<dt>1</dt>\n",
       "\t\t<dd>0.439224562194163</dd>\n",
       "</dl>\n"
      ],
      "text/latex": [
       "\\begin{description*}\n",
       "\\item[0] 0.189451161247545\n",
       "\\item[1] 0.439224562194163\n",
       "\\end{description*}\n"
      ],
      "text/markdown": [
       "0\n",
       ":   0.1894511612475451\n",
       ":   0.439224562194163\n",
       "\n"
      ],
      "text/plain": [
       "        0         1 \n",
       "0.1894512 0.4392246 "
      ]
     },
     "execution_count": 16,
     "metadata": {},
     "output_type": "execute_result"
    }
   ],
   "source": [
    "tapply(predictTrain, qualityTrain$PoorCare, mean)"
   ]
  },
  {
   "cell_type": "code",
   "execution_count": 18,
   "metadata": {
    "collapsed": false
   },
   "outputs": [
    {
     "data": {
      "text/plain": [
       "\n",
       "Call:\n",
       "glm(formula = PoorCare ~ StartedOnCombination + ProviderCount, \n",
       "    family = binomial, data = qualityTrain)\n",
       "\n",
       "Deviance Residuals: \n",
       "     Min        1Q    Median        3Q       Max  \n",
       "-1.61826  -0.72782  -0.64555  -0.08407   1.94662  \n",
       "\n",
       "Coefficients:\n",
       "                         Estimate Std. Error z value Pr(>|z|)    \n",
       "(Intercept)              -2.00097    0.55097  -3.632 0.000282 ***\n",
       "StartedOnCombinationTRUE  1.95230    1.22342   1.596 0.110541    \n",
       "ProviderCount             0.03366    0.01983   1.697 0.089706 .  \n",
       "---\n",
       "Signif. codes:  0 '***' 0.001 '**' 0.01 '*' 0.05 '.' 0.1 ' ' 1\n",
       "\n",
       "(Dispersion parameter for binomial family taken to be 1)\n",
       "\n",
       "    Null deviance: 111.89  on 98  degrees of freedom\n",
       "Residual deviance: 104.37  on 96  degrees of freedom\n",
       "AIC: 110.37\n",
       "\n",
       "Number of Fisher Scoring iterations: 4\n"
      ]
     },
     "execution_count": 18,
     "metadata": {},
     "output_type": "execute_result"
    }
   ],
   "source": [
    "model = glm(PoorCare ~ StartedOnCombination + ProviderCount,\n",
    "            data=qualityTrain, family = binomial)\n",
    "summary(model)"
   ]
  },
  {
   "cell_type": "code",
   "execution_count": 19,
   "metadata": {
    "collapsed": false
   },
   "outputs": [
    {
     "data": {
      "text/plain": [
       "   \n",
       "    FALSE TRUE\n",
       "  0    70    4\n",
       "  1    15   10"
      ]
     },
     "execution_count": 19,
     "metadata": {},
     "output_type": "execute_result"
    }
   ],
   "source": [
    "table(qualityTrain$PoorCare, predictTrain > 0.5)"
   ]
  },
  {
   "cell_type": "code",
   "execution_count": 20,
   "metadata": {
    "collapsed": false
   },
   "outputs": [
    {
     "data": {
      "text/html": [
       "0.4"
      ],
      "text/latex": [
       "0.4"
      ],
      "text/markdown": [
       "0.4"
      ],
      "text/plain": [
       "[1] 0.4"
      ]
     },
     "execution_count": 20,
     "metadata": {},
     "output_type": "execute_result"
    }
   ],
   "source": [
    "10/25"
   ]
  },
  {
   "cell_type": "code",
   "execution_count": 21,
   "metadata": {
    "collapsed": false
   },
   "outputs": [
    {
     "data": {
      "text/html": [
       "0.945945945945946"
      ],
      "text/latex": [
       "0.945945945945946"
      ],
      "text/markdown": [
       "0.945945945945946"
      ],
      "text/plain": [
       "[1] 0.9459459"
      ]
     },
     "execution_count": 21,
     "metadata": {},
     "output_type": "execute_result"
    }
   ],
   "source": [
    "70/74"
   ]
  },
  {
   "cell_type": "code",
   "execution_count": 22,
   "metadata": {
    "collapsed": false
   },
   "outputs": [
    {
     "data": {
      "text/plain": [
       "   \n",
       "    FALSE TRUE\n",
       "  0    73    1\n",
       "  1    17    8"
      ]
     },
     "execution_count": 22,
     "metadata": {},
     "output_type": "execute_result"
    }
   ],
   "source": [
    "table(qualityTrain$PoorCare, predictTrain > 0.7)"
   ]
  },
  {
   "cell_type": "code",
   "execution_count": 23,
   "metadata": {
    "collapsed": false
   },
   "outputs": [
    {
     "data": {
      "text/html": [
       "0.32"
      ],
      "text/latex": [
       "0.32"
      ],
      "text/markdown": [
       "0.32"
      ],
      "text/plain": [
       "[1] 0.32"
      ]
     },
     "execution_count": 23,
     "metadata": {},
     "output_type": "execute_result"
    }
   ],
   "source": [
    "8/25"
   ]
  },
  {
   "cell_type": "code",
   "execution_count": 24,
   "metadata": {
    "collapsed": false
   },
   "outputs": [
    {
     "data": {
      "text/html": [
       "0.986486486486487"
      ],
      "text/latex": [
       "0.986486486486487"
      ],
      "text/markdown": [
       "0.986486486486487"
      ],
      "text/plain": [
       "[1] 0.9864865"
      ]
     },
     "execution_count": 24,
     "metadata": {},
     "output_type": "execute_result"
    }
   ],
   "source": [
    "73/74"
   ]
  },
  {
   "cell_type": "code",
   "execution_count": 25,
   "metadata": {
    "collapsed": false
   },
   "outputs": [
    {
     "data": {
      "text/plain": [
       "   \n",
       "    FALSE TRUE\n",
       "  0    54   20\n",
       "  1     9   16"
      ]
     },
     "execution_count": 25,
     "metadata": {},
     "output_type": "execute_result"
    }
   ],
   "source": [
    "table(qualityTrain$PoorCare, predictTrain > 0.2)"
   ]
  },
  {
   "cell_type": "code",
   "execution_count": 26,
   "metadata": {
    "collapsed": false
   },
   "outputs": [
    {
     "data": {
      "text/html": [
       "0.64"
      ],
      "text/latex": [
       "0.64"
      ],
      "text/markdown": [
       "0.64"
      ],
      "text/plain": [
       "[1] 0.64"
      ]
     },
     "execution_count": 26,
     "metadata": {},
     "output_type": "execute_result"
    }
   ],
   "source": [
    "16/25"
   ]
  },
  {
   "cell_type": "code",
   "execution_count": 27,
   "metadata": {
    "collapsed": false
   },
   "outputs": [
    {
     "data": {
      "text/html": [
       "0.72972972972973"
      ],
      "text/latex": [
       "0.72972972972973"
      ],
      "text/markdown": [
       "0.72972972972973"
      ],
      "text/plain": [
       "[1] 0.7297297"
      ]
     },
     "execution_count": 27,
     "metadata": {},
     "output_type": "execute_result"
    }
   ],
   "source": [
    "54/74"
   ]
  },
  {
   "cell_type": "code",
   "execution_count": 28,
   "metadata": {
    "collapsed": false
   },
   "outputs": [
    {
     "data": {
      "text/html": [
       "0.8"
      ],
      "text/latex": [
       "0.8"
      ],
      "text/markdown": [
       "0.8"
      ],
      "text/plain": [
       "[1] 0.8"
      ]
     },
     "execution_count": 28,
     "metadata": {},
     "output_type": "execute_result"
    },
    {
     "data": {
      "text/html": [
       "0.6"
      ],
      "text/latex": [
       "0.6"
      ],
      "text/markdown": [
       "0.6"
      ],
      "text/plain": [
       "[1] 0.6"
      ]
     },
     "execution_count": 28,
     "metadata": {},
     "output_type": "execute_result"
    }
   ],
   "source": [
    "20/25\n",
    "15/25"
   ]
  },
  {
   "cell_type": "code",
   "execution_count": 29,
   "metadata": {
    "collapsed": false
   },
   "outputs": [
    {
     "name": "stderr",
     "output_type": "stream",
     "text": [
      "Loading required package: gplots\n",
      "\n",
      "Attaching package: 'gplots'\n",
      "\n",
      "The following object is masked from 'package:stats':\n",
      "\n",
      "    lowess\n",
      "\n"
     ]
    }
   ],
   "source": [
    "library(ROCR)"
   ]
  },
  {
   "cell_type": "code",
   "execution_count": 34,
   "metadata": {
    "collapsed": false
   },
   "outputs": [
    {
     "data": {
      "image/png": "[encoded data removed]",
      "image/svg+xml": [
       "<?xml version=\"1.0\" encoding=\"UTF-8\"?>\n",
       "<svg xmlns=\"http://www.w3.org/2000/svg\" xmlns:xlink=\"http://www.w3.org/1999/xlink\" width=\"432pt\" height=\"432pt\" viewBox=\"0 0 432 432\" version=\"1.1\">\n",
       "<defs>\n",
       "<g>\n",
       "<symbol overflow=\"visible\" id=\"glyph0-0\">\n",
       "<path style=\"stroke:none;\" d=\"\"/>\n",
       "</symbol>\n",
       "<symbol overflow=\"visible\" id=\"glyph0-1\">\n",
       "<path style=\"stroke:none;\" d=\"M 6.953125 -7.765625 L 6.953125 -8.75 L 1.078125 -8.75 L 1.078125 0 L 2.203125 0 L 2.203125 -3.984375 L 6.375 -3.984375 L 6.375 -4.96875 L 2.203125 -4.96875 L 2.203125 -7.765625 Z M 6.953125 -7.765625 \"/>\n",
       "</symbol>\n",
       "<symbol overflow=\"visible\" id=\"glyph0-2\">\n",
       "<path style=\"stroke:none;\" d=\"M 6.421875 -0.03125 L 6.421875 -0.78125 C 6.3125 -0.75 6.265625 -0.75 6.203125 -0.75 C 5.859375 -0.75 5.65625 -0.9375 5.65625 -1.25 L 5.65625 -4.75 C 5.65625 -5.875 4.84375 -6.46875 3.296875 -6.46875 C 1.78125 -6.46875 0.84375 -5.875 0.78125 -4.421875 L 1.78125 -4.421875 C 1.875 -5.203125 2.328125 -5.546875 3.265625 -5.546875 C 4.15625 -5.546875 4.671875 -5.203125 4.671875 -4.609375 L 4.671875 -4.34375 C 4.671875 -3.921875 4.421875 -3.75 3.625 -3.640625 C 2.203125 -3.46875 1.984375 -3.421875 1.609375 -3.265625 C 0.875 -2.96875 0.5 -2.40625 0.5 -1.625 C 0.5 -0.484375 1.296875 0.1875 2.5625 0.1875 C 3.375 0.1875 4.15625 -0.15625 4.703125 -0.75 C 4.8125 -0.265625 5.25 0.078125 5.734375 0.078125 C 5.9375 0.078125 6.09375 0.0625 6.421875 -0.03125 Z M 4.671875 -2.171875 C 4.671875 -1.265625 3.75 -0.703125 2.78125 -0.703125 C 2 -0.703125 1.546875 -0.96875 1.546875 -1.65625 C 1.546875 -2.3125 1.984375 -2.609375 3.0625 -2.765625 C 4.109375 -2.90625 4.328125 -2.953125 4.671875 -3.109375 Z M 4.671875 -2.171875 \"/>\n",
       "</symbol>\n",
       "<symbol overflow=\"visible\" id=\"glyph0-3\">\n",
       "<path style=\"stroke:none;\" d=\"M 1.8125 0 L 1.8125 -8.75 L 0.8125 -8.75 L 0.8125 0 Z M 1.8125 0 \"/>\n",
       "</symbol>\n",
       "<symbol overflow=\"visible\" id=\"glyph0-4\">\n",
       "<path style=\"stroke:none;\" d=\"M 5.515625 -1.765625 C 5.515625 -2.703125 4.984375 -3.171875 3.734375 -3.46875 L 2.765625 -3.703125 C 1.953125 -3.890625 1.609375 -4.15625 1.609375 -4.59375 C 1.609375 -5.171875 2.125 -5.546875 2.9375 -5.546875 C 3.75 -5.546875 4.171875 -5.203125 4.203125 -4.53125 L 5.25 -4.53125 C 5.25 -5.765625 4.421875 -6.46875 2.96875 -6.46875 C 1.515625 -6.46875 0.5625 -5.71875 0.5625 -4.546875 C 0.5625 -3.5625 1.0625 -3.09375 2.5625 -2.734375 L 3.484375 -2.515625 C 4.1875 -2.34375 4.46875 -2.140625 4.46875 -1.6875 C 4.46875 -1.09375 3.875 -0.75 3 -0.75 C 2.09375 -0.75 1.59375 -0.953125 1.46875 -1.921875 L 0.40625 -1.921875 C 0.453125 -0.46875 1.265625 0.1875 2.921875 0.1875 C 4.5 0.1875 5.515625 -0.546875 5.515625 -1.765625 Z M 5.515625 -1.765625 \"/>\n",
       "</symbol>\n",
       "<symbol overflow=\"visible\" id=\"glyph0-5\">\n",
       "<path style=\"stroke:none;\" d=\"M 6.15625 -2.859375 C 6.15625 -3.765625 6.078125 -4.34375 5.90625 -4.8125 C 5.5 -5.84375 4.53125 -6.46875 3.359375 -6.46875 C 1.609375 -6.46875 0.484375 -5.171875 0.484375 -3.109375 C 0.484375 -1.046875 1.578125 0.1875 3.34375 0.1875 C 4.78125 0.1875 5.765625 -0.640625 6.03125 -1.90625 L 5.015625 -1.90625 C 4.734375 -1.078125 4.171875 -0.75 3.375 -0.75 C 2.328125 -0.75 1.546875 -1.421875 1.53125 -2.859375 Z M 5.09375 -3.75 C 5.09375 -3.75 5.09375 -3.703125 5.078125 -3.671875 L 1.546875 -3.671875 C 1.625 -4.78125 2.34375 -5.546875 3.34375 -5.546875 C 4.328125 -5.546875 5.09375 -4.734375 5.09375 -3.75 Z M 5.09375 -3.75 \"/>\n",
       "</symbol>\n",
       "<symbol overflow=\"visible\" id=\"glyph0-6\">\n",
       "<path style=\"stroke:none;\" d=\"\"/>\n",
       "</symbol>\n",
       "<symbol overflow=\"visible\" id=\"glyph0-7\">\n",
       "<path style=\"stroke:none;\" d=\"M 6.28125 -3.078125 C 6.28125 -5.203125 5.25 -6.46875 3.578125 -6.46875 C 2.71875 -6.46875 2.046875 -6.078125 1.578125 -5.34375 L 1.578125 -6.28125 L 0.65625 -6.28125 L 0.65625 2.609375 L 1.65625 2.609375 L 1.65625 -0.75 C 2.1875 -0.109375 2.765625 0.1875 3.59375 0.1875 C 5.203125 0.1875 6.28125 -1.078125 6.28125 -3.078125 Z M 5.234375 -3.109375 C 5.234375 -1.6875 4.5 -0.75 3.40625 -0.75 C 2.359375 -0.75 1.65625 -1.625 1.65625 -3.09375 C 1.65625 -4.578125 2.359375 -5.53125 3.40625 -5.53125 C 4.515625 -5.53125 5.234375 -4.609375 5.234375 -3.109375 Z M 5.234375 -3.109375 \"/>\n",
       "</symbol>\n",
       "<symbol overflow=\"visible\" id=\"glyph0-8\">\n",
       "<path style=\"stroke:none;\" d=\"M 6.125 -3.09375 C 6.125 -5.265625 5.078125 -6.46875 3.265625 -6.46875 C 1.5 -6.46875 0.4375 -5.25 0.4375 -3.140625 C 0.4375 -1.03125 1.484375 0.1875 3.28125 0.1875 C 5.046875 0.1875 6.125 -1.03125 6.125 -3.09375 Z M 5.078125 -3.109375 C 5.078125 -1.625 4.375 -0.75 3.28125 -0.75 C 2.15625 -0.75 1.46875 -1.625 1.46875 -3.140625 C 1.46875 -4.65625 2.15625 -5.546875 3.28125 -5.546875 C 4.40625 -5.546875 5.078125 -4.671875 5.078125 -3.109375 Z M 5.078125 -3.109375 \"/>\n",
       "</symbol>\n",
       "<symbol overflow=\"visible\" id=\"glyph0-9\">\n",
       "<path style=\"stroke:none;\" d=\"M 1.84375 0 L 1.84375 -6.28125 L 0.84375 -6.28125 L 0.84375 0 Z M 1.96875 -7.234375 L 1.96875 -8.484375 L 0.71875 -8.484375 L 0.71875 -7.234375 Z M 1.96875 -7.234375 \"/>\n",
       "</symbol>\n",
       "<symbol overflow=\"visible\" id=\"glyph0-10\">\n",
       "<path style=\"stroke:none;\" d=\"M 3.046875 0 L 3.046875 -0.84375 C 2.921875 -0.796875 2.765625 -0.796875 2.5625 -0.796875 C 2.140625 -0.796875 2.015625 -0.90625 2.015625 -1.359375 L 2.015625 -5.46875 L 3.046875 -5.46875 L 3.046875 -6.28125 L 2.015625 -6.28125 L 2.015625 -8.015625 L 1.015625 -8.015625 L 1.015625 -6.28125 L 0.171875 -6.28125 L 0.171875 -5.46875 L 1.015625 -5.46875 L 1.015625 -0.90625 C 1.015625 -0.28125 1.453125 0.078125 2.234375 0.078125 C 2.46875 0.078125 2.71875 0.0625 3.046875 0 Z M 3.046875 0 \"/>\n",
       "</symbol>\n",
       "<symbol overflow=\"visible\" id=\"glyph0-11\">\n",
       "<path style=\"stroke:none;\" d=\"M 5.828125 -6.28125 L 4.703125 -6.28125 L 2.921875 -1.1875 L 1.25 -6.28125 L 0.125 -6.28125 L 2.328125 0 L 3.421875 0 Z M 5.828125 -6.28125 \"/>\n",
       "</symbol>\n",
       "<symbol overflow=\"visible\" id=\"glyph0-12\">\n",
       "<path style=\"stroke:none;\" d=\"M 3.859375 -5.40625 L 3.859375 -6.4375 C 3.6875 -6.453125 3.59375 -6.46875 3.46875 -6.46875 C 2.8125 -6.46875 2.328125 -6.078125 1.75 -5.140625 L 1.75 -6.28125 L 0.84375 -6.28125 L 0.84375 0 L 1.84375 0 L 1.84375 -3.265625 C 1.84375 -4.6875 2.296875 -5.390625 3.859375 -5.40625 Z M 3.859375 -5.40625 \"/>\n",
       "</symbol>\n",
       "<symbol overflow=\"visible\" id=\"glyph0-13\">\n",
       "<path style=\"stroke:none;\" d=\"M 6.078125 -4.09375 C 6.078125 -7.046875 5.140625 -8.515625 3.296875 -8.515625 C 1.46875 -8.515625 0.515625 -7.015625 0.515625 -4.15625 C 0.515625 -1.296875 1.46875 0.1875 3.296875 0.1875 C 5.09375 0.1875 6.078125 -1.296875 6.078125 -4.09375 Z M 5 -4.1875 C 5 -1.78125 4.453125 -0.703125 3.28125 -0.703125 C 2.15625 -0.703125 1.59375 -1.828125 1.59375 -4.15625 C 1.59375 -6.484375 2.15625 -7.578125 3.296875 -7.578125 C 4.4375 -7.578125 5 -6.46875 5 -4.1875 Z M 5 -4.1875 \"/>\n",
       "</symbol>\n",
       "<symbol overflow=\"visible\" id=\"glyph0-14\">\n",
       "<path style=\"stroke:none;\" d=\"M 2.296875 0 L 2.296875 -1.25 L 1.046875 -1.25 L 1.046875 0 Z M 2.296875 0 \"/>\n",
       "</symbol>\n",
       "<symbol overflow=\"visible\" id=\"glyph0-15\">\n",
       "<path style=\"stroke:none;\" d=\"M 6.125 -6.015625 C 6.125 -7.453125 5.015625 -8.515625 3.40625 -8.515625 C 1.671875 -8.515625 0.65625 -7.625 0.59375 -5.5625 L 1.65625 -5.5625 C 1.734375 -6.984375 2.328125 -7.578125 3.375 -7.578125 C 4.328125 -7.578125 5.046875 -6.90625 5.046875 -5.984375 C 5.046875 -5.3125 4.65625 -4.734375 3.90625 -4.3125 L 2.796875 -3.6875 C 1.015625 -2.671875 0.5 -1.875 0.40625 0 L 6.078125 0 L 6.078125 -1.046875 L 1.59375 -1.046875 C 1.703125 -1.734375 2.09375 -2.1875 3.125 -2.796875 L 4.328125 -3.4375 C 5.515625 -4.078125 6.125 -4.96875 6.125 -6.015625 Z M 6.125 -6.015625 \"/>\n",
       "</symbol>\n",
       "<symbol overflow=\"visible\" id=\"glyph0-16\">\n",
       "<path style=\"stroke:none;\" d=\"M 6.234375 -2.046875 L 6.234375 -2.984375 L 4.984375 -2.984375 L 4.984375 -8.515625 L 4.203125 -8.515625 L 0.34375 -3.15625 L 0.34375 -2.046875 L 3.921875 -2.046875 L 3.921875 0 L 4.984375 0 L 4.984375 -2.046875 Z M 3.921875 -2.984375 L 1.265625 -2.984375 L 3.921875 -6.703125 Z M 3.921875 -2.984375 \"/>\n",
       "</symbol>\n",
       "<symbol overflow=\"visible\" id=\"glyph0-17\">\n",
       "<path style=\"stroke:none;\" d=\"M 6.15625 -2.640625 C 6.15625 -4.21875 5.078125 -5.296875 3.546875 -5.296875 C 2.71875 -5.296875 2.046875 -4.96875 1.59375 -4.34375 C 1.609375 -6.421875 2.28125 -7.578125 3.484375 -7.578125 C 4.234375 -7.578125 4.75 -7.109375 4.921875 -6.28125 L 5.96875 -6.28125 C 5.765625 -7.6875 4.859375 -8.515625 3.5625 -8.515625 C 1.578125 -8.515625 0.515625 -6.84375 0.515625 -3.875 C 0.515625 -1.21875 1.421875 0.1875 3.375 0.1875 C 4.984375 0.1875 6.15625 -0.96875 6.15625 -2.640625 Z M 5.078125 -2.5625 C 5.078125 -1.484375 4.359375 -0.75 3.390625 -0.75 C 2.40625 -0.75 1.65625 -1.53125 1.65625 -2.609375 C 1.65625 -3.671875 2.375 -4.359375 3.421875 -4.359375 C 4.4375 -4.359375 5.078125 -3.703125 5.078125 -2.5625 Z M 5.078125 -2.5625 \"/>\n",
       "</symbol>\n",
       "<symbol overflow=\"visible\" id=\"glyph0-18\">\n",
       "<path style=\"stroke:none;\" d=\"M 6.15625 -2.40625 C 6.15625 -3.34375 5.671875 -4.015625 4.6875 -4.46875 C 5.5625 -5 5.859375 -5.4375 5.859375 -6.234375 C 5.859375 -7.578125 4.8125 -8.515625 3.296875 -8.515625 C 1.796875 -8.515625 0.75 -7.578125 0.75 -6.234375 C 0.75 -5.453125 1.03125 -5.015625 1.890625 -4.46875 C 0.921875 -4.015625 0.4375 -3.34375 0.4375 -2.40625 C 0.4375 -0.859375 1.625 0.1875 3.296875 0.1875 C 4.984375 0.1875 6.15625 -0.859375 6.15625 -2.40625 Z M 4.78125 -6.21875 C 4.78125 -5.421875 4.1875 -4.890625 3.296875 -4.890625 C 2.40625 -4.890625 1.828125 -5.421875 1.828125 -6.234375 C 1.828125 -7.046875 2.40625 -7.578125 3.296875 -7.578125 C 4.203125 -7.578125 4.78125 -7.046875 4.78125 -6.21875 Z M 5.078125 -2.390625 C 5.078125 -1.375 4.359375 -0.75 3.28125 -0.75 C 2.25 -0.75 1.53125 -1.390625 1.53125 -2.390625 C 1.53125 -3.390625 2.25 -4.015625 3.296875 -4.015625 C 4.359375 -4.015625 5.078125 -3.390625 5.078125 -2.390625 Z M 5.078125 -2.390625 \"/>\n",
       "</symbol>\n",
       "<symbol overflow=\"visible\" id=\"glyph0-19\">\n",
       "<path style=\"stroke:none;\" d=\"M 4.15625 0 L 4.15625 -8.515625 L 3.46875 -8.515625 C 3.09375 -7.203125 2.859375 -7.015625 1.21875 -6.8125 L 1.21875 -6.0625 L 3.109375 -6.0625 L 3.109375 0 Z M 4.15625 0 \"/>\n",
       "</symbol>\n",
       "<symbol overflow=\"visible\" id=\"glyph0-20\">\n",
       "<path style=\"stroke:none;\" d=\"M 6.078125 -2.46875 C 6.078125 -3.5 5.65625 -4.109375 4.625 -4.453125 C 5.421875 -4.765625 5.8125 -5.3125 5.8125 -6.171875 C 5.8125 -7.625 4.84375 -8.515625 3.234375 -8.515625 C 1.515625 -8.515625 0.59375 -7.578125 0.5625 -5.765625 L 1.625 -5.765625 C 1.640625 -7.015625 2.15625 -7.578125 3.234375 -7.578125 C 4.171875 -7.578125 4.734375 -7.03125 4.734375 -6.125 C 4.734375 -5.21875 4.34375 -4.84375 2.65625 -4.84375 L 2.65625 -3.953125 L 3.234375 -3.953125 C 4.390625 -3.953125 4.984375 -3.40625 4.984375 -2.453125 C 4.984375 -1.390625 4.328125 -0.75 3.234375 -0.75 C 2.078125 -0.75 1.515625 -1.328125 1.4375 -2.5625 L 0.390625 -2.5625 C 0.515625 -0.671875 1.453125 0.1875 3.1875 0.1875 C 4.9375 0.1875 6.078125 -0.859375 6.078125 -2.46875 Z M 6.078125 -2.46875 \"/>\n",
       "</symbol>\n",
       "<symbol overflow=\"visible\" id=\"glyph0-21\">\n",
       "<path style=\"stroke:none;\" d=\"M 6.15625 -2.8125 C 6.15625 -4.5 5.046875 -5.609375 3.40625 -5.609375 C 2.8125 -5.609375 2.328125 -5.453125 1.84375 -5.09375 L 2.171875 -7.28125 L 5.71875 -7.28125 L 5.71875 -8.328125 L 1.3125 -8.328125 L 0.6875 -3.875 L 1.65625 -3.875 C 2.140625 -4.46875 2.5625 -4.671875 3.21875 -4.671875 C 4.359375 -4.671875 5.078125 -3.9375 5.078125 -2.671875 C 5.078125 -1.453125 4.375 -0.75 3.21875 -0.75 C 2.296875 -0.75 1.734375 -1.21875 1.46875 -2.1875 L 0.421875 -2.1875 C 0.765625 -0.484375 1.734375 0.1875 3.234375 0.1875 C 4.953125 0.1875 6.15625 -1.015625 6.15625 -2.8125 Z M 6.15625 -2.8125 \"/>\n",
       "</symbol>\n",
       "<symbol overflow=\"visible\" id=\"glyph0-22\">\n",
       "<path style=\"stroke:none;\" d=\"M 6.234375 -7.4375 L 6.234375 -8.328125 L 0.546875 -8.328125 L 0.546875 -7.28125 L 5.140625 -7.28125 C 3.453125 -5.140625 2.25 -2.65625 1.65625 0 L 2.78125 0 C 3.25 -2.75 4.453125 -5.3125 6.234375 -7.4375 Z M 6.234375 -7.4375 \"/>\n",
       "</symbol>\n",
       "<symbol overflow=\"visible\" id=\"glyph0-23\">\n",
       "<path style=\"stroke:none;\" d=\"M 6.109375 -4.453125 C 6.109375 -7.109375 5.1875 -8.515625 3.234375 -8.515625 C 1.625 -8.515625 0.453125 -7.359375 0.453125 -5.6875 C 0.453125 -4.109375 1.53125 -3.03125 3.078125 -3.03125 C 3.875 -3.03125 4.46875 -3.328125 5.015625 -3.984375 C 5 -1.90625 4.328125 -0.75 3.125 -0.75 C 2.375 -0.75 1.859375 -1.21875 1.6875 -2.046875 L 0.640625 -2.046875 C 0.84375 -0.640625 1.75 0.1875 3.046875 0.1875 C 5.046875 0.1875 6.109375 -1.515625 6.109375 -4.453125 Z M 4.953125 -5.71875 C 4.953125 -4.671875 4.21875 -3.96875 3.1875 -3.96875 C 2.171875 -3.96875 1.53125 -4.625 1.53125 -5.765625 C 1.53125 -6.859375 2.25 -7.578125 3.234375 -7.578125 C 4.21875 -7.578125 4.953125 -6.8125 4.953125 -5.71875 Z M 4.953125 -5.71875 \"/>\n",
       "</symbol>\n",
       "<symbol overflow=\"visible\" id=\"glyph1-0\">\n",
       "<path style=\"stroke:none;\" d=\"\"/>\n",
       "</symbol>\n",
       "<symbol overflow=\"visible\" id=\"glyph1-1\">\n",
       "<path style=\"stroke:none;\" d=\"M -7.765625 -7.109375 L -8.75 -7.109375 L -8.75 -0.25 L -7.765625 -0.25 L -7.765625 -3.125 L 0 -3.125 L 0 -4.25 L -7.765625 -4.25 Z M -7.765625 -7.109375 \"/>\n",
       "</symbol>\n",
       "<symbol overflow=\"visible\" id=\"glyph1-2\">\n",
       "<path style=\"stroke:none;\" d=\"M -5.40625 -3.859375 L -6.4375 -3.859375 C -6.453125 -3.6875 -6.46875 -3.59375 -6.46875 -3.46875 C -6.46875 -2.8125 -6.078125 -2.328125 -5.140625 -1.75 L -6.28125 -1.75 L -6.28125 -0.84375 L 0 -0.84375 L 0 -1.84375 L -3.265625 -1.84375 C -4.6875 -1.84375 -5.390625 -2.296875 -5.40625 -3.859375 Z M -5.40625 -3.859375 \"/>\n",
       "</symbol>\n",
       "<symbol overflow=\"visible\" id=\"glyph1-3\">\n",
       "<path style=\"stroke:none;\" d=\"M 0 -5.78125 L -6.28125 -5.78125 L -6.28125 -4.78125 L -2.8125 -4.78125 C -1.53125 -4.78125 -0.703125 -4.109375 -0.703125 -3.078125 C -0.703125 -2.28125 -1.171875 -1.78125 -1.9375 -1.78125 L -6.28125 -1.78125 L -6.28125 -0.78125 L -1.53125 -0.78125 C -0.484375 -0.78125 0.1875 -1.5625 0.1875 -2.78125 C 0.1875 -3.703125 -0.140625 -4.296875 -0.96875 -4.890625 L 0 -4.890625 Z M 0 -5.78125 \"/>\n",
       "</symbol>\n",
       "<symbol overflow=\"visible\" id=\"glyph1-4\">\n",
       "<path style=\"stroke:none;\" d=\"M -2.859375 -6.15625 C -3.765625 -6.15625 -4.34375 -6.078125 -4.8125 -5.90625 C -5.84375 -5.5 -6.46875 -4.53125 -6.46875 -3.359375 C -6.46875 -1.609375 -5.171875 -0.484375 -3.109375 -0.484375 C -1.046875 -0.484375 0.1875 -1.578125 0.1875 -3.34375 C 0.1875 -4.78125 -0.640625 -5.765625 -1.90625 -6.03125 L -1.90625 -5.015625 C -1.078125 -4.734375 -0.75 -4.171875 -0.75 -3.375 C -0.75 -2.328125 -1.421875 -1.546875 -2.859375 -1.53125 Z M -3.75 -5.09375 C -3.75 -5.09375 -3.703125 -5.09375 -3.671875 -5.078125 L -3.671875 -1.546875 C -4.78125 -1.625 -5.546875 -2.34375 -5.546875 -3.34375 C -5.546875 -4.328125 -4.734375 -5.09375 -3.75 -5.09375 Z M -3.75 -5.09375 \"/>\n",
       "</symbol>\n",
       "<symbol overflow=\"visible\" id=\"glyph1-5\">\n",
       "<path style=\"stroke:none;\" d=\"\"/>\n",
       "</symbol>\n",
       "<symbol overflow=\"visible\" id=\"glyph1-6\">\n",
       "<path style=\"stroke:none;\" d=\"M -3.078125 -6.28125 C -5.203125 -6.28125 -6.46875 -5.25 -6.46875 -3.578125 C -6.46875 -2.71875 -6.078125 -2.046875 -5.34375 -1.578125 L -6.28125 -1.578125 L -6.28125 -0.65625 L 2.609375 -0.65625 L 2.609375 -1.65625 L -0.75 -1.65625 C -0.109375 -2.1875 0.1875 -2.765625 0.1875 -3.59375 C 0.1875 -5.203125 -1.078125 -6.28125 -3.078125 -6.28125 Z M -3.109375 -5.234375 C -1.6875 -5.234375 -0.75 -4.5 -0.75 -3.40625 C -0.75 -2.359375 -1.625 -1.65625 -3.09375 -1.65625 C -4.578125 -1.65625 -5.53125 -2.359375 -5.53125 -3.40625 C -5.53125 -4.515625 -4.609375 -5.234375 -3.109375 -5.234375 Z M -3.109375 -5.234375 \"/>\n",
       "</symbol>\n",
       "<symbol overflow=\"visible\" id=\"glyph1-7\">\n",
       "<path style=\"stroke:none;\" d=\"M -3.09375 -6.125 C -5.265625 -6.125 -6.46875 -5.078125 -6.46875 -3.265625 C -6.46875 -1.5 -5.25 -0.4375 -3.140625 -0.4375 C -1.03125 -0.4375 0.1875 -1.484375 0.1875 -3.28125 C 0.1875 -5.046875 -1.03125 -6.125 -3.09375 -6.125 Z M -3.109375 -5.078125 C -1.625 -5.078125 -0.75 -4.375 -0.75 -3.28125 C -0.75 -2.15625 -1.625 -1.46875 -3.140625 -1.46875 C -4.65625 -1.46875 -5.546875 -2.15625 -5.546875 -3.28125 C -5.546875 -4.40625 -4.671875 -5.078125 -3.109375 -5.078125 Z M -3.109375 -5.078125 \"/>\n",
       "</symbol>\n",
       "<symbol overflow=\"visible\" id=\"glyph1-8\">\n",
       "<path style=\"stroke:none;\" d=\"M -1.765625 -5.515625 C -2.703125 -5.515625 -3.171875 -4.984375 -3.46875 -3.734375 L -3.703125 -2.765625 C -3.890625 -1.953125 -4.15625 -1.609375 -4.59375 -1.609375 C -5.171875 -1.609375 -5.546875 -2.125 -5.546875 -2.9375 C -5.546875 -3.75 -5.203125 -4.171875 -4.53125 -4.203125 L -4.53125 -5.25 C -5.765625 -5.25 -6.46875 -4.421875 -6.46875 -2.96875 C -6.46875 -1.515625 -5.71875 -0.5625 -4.546875 -0.5625 C -3.5625 -0.5625 -3.09375 -1.0625 -2.734375 -2.5625 L -2.515625 -3.484375 C -2.34375 -4.1875 -2.140625 -4.46875 -1.6875 -4.46875 C -1.09375 -4.46875 -0.75 -3.875 -0.75 -3 C -0.75 -2.09375 -0.953125 -1.59375 -1.921875 -1.46875 L -1.921875 -0.40625 C -0.46875 -0.453125 0.1875 -1.265625 0.1875 -2.921875 C 0.1875 -4.5 -0.546875 -5.515625 -1.765625 -5.515625 Z M -1.765625 -5.515625 \"/>\n",
       "</symbol>\n",
       "<symbol overflow=\"visible\" id=\"glyph1-9\">\n",
       "<path style=\"stroke:none;\" d=\"M 0 -1.84375 L -6.28125 -1.84375 L -6.28125 -0.84375 L 0 -0.84375 Z M -7.234375 -1.96875 L -8.484375 -1.96875 L -8.484375 -0.71875 L -7.234375 -0.71875 Z M -7.234375 -1.96875 \"/>\n",
       "</symbol>\n",
       "<symbol overflow=\"visible\" id=\"glyph1-10\">\n",
       "<path style=\"stroke:none;\" d=\"M 0 -3.046875 L -0.84375 -3.046875 C -0.796875 -2.921875 -0.796875 -2.765625 -0.796875 -2.5625 C -0.796875 -2.140625 -0.90625 -2.015625 -1.359375 -2.015625 L -5.46875 -2.015625 L -5.46875 -3.046875 L -6.28125 -3.046875 L -6.28125 -2.015625 L -8.015625 -2.015625 L -8.015625 -1.015625 L -6.28125 -1.015625 L -6.28125 -0.171875 L -5.46875 -0.171875 L -5.46875 -1.015625 L -0.90625 -1.015625 C -0.28125 -1.015625 0.078125 -1.453125 0.078125 -2.234375 C 0.078125 -2.46875 0.0625 -2.71875 0 -3.046875 Z M 0 -3.046875 \"/>\n",
       "</symbol>\n",
       "<symbol overflow=\"visible\" id=\"glyph1-11\">\n",
       "<path style=\"stroke:none;\" d=\"M -6.28125 -5.828125 L -6.28125 -4.703125 L -1.1875 -2.921875 L -6.28125 -1.25 L -6.28125 -0.125 L 0 -2.328125 L 0 -3.421875 Z M -6.28125 -5.828125 \"/>\n",
       "</symbol>\n",
       "<symbol overflow=\"visible\" id=\"glyph1-12\">\n",
       "<path style=\"stroke:none;\" d=\"M -0.03125 -6.421875 L -0.78125 -6.421875 C -0.75 -6.3125 -0.75 -6.265625 -0.75 -6.203125 C -0.75 -5.859375 -0.9375 -5.65625 -1.25 -5.65625 L -4.75 -5.65625 C -5.875 -5.65625 -6.46875 -4.84375 -6.46875 -3.296875 C -6.46875 -1.78125 -5.875 -0.84375 -4.421875 -0.78125 L -4.421875 -1.78125 C -5.203125 -1.875 -5.546875 -2.328125 -5.546875 -3.265625 C -5.546875 -4.15625 -5.203125 -4.671875 -4.609375 -4.671875 L -4.34375 -4.671875 C -3.921875 -4.671875 -3.75 -4.421875 -3.640625 -3.625 C -3.46875 -2.203125 -3.421875 -1.984375 -3.265625 -1.609375 C -2.96875 -0.875 -2.40625 -0.5 -1.625 -0.5 C -0.484375 -0.5 0.1875 -1.296875 0.1875 -2.5625 C 0.1875 -3.375 -0.15625 -4.15625 -0.75 -4.703125 C -0.265625 -4.8125 0.078125 -5.25 0.078125 -5.734375 C 0.078125 -5.9375 0.0625 -6.09375 -0.03125 -6.421875 Z M -2.171875 -4.671875 C -1.265625 -4.671875 -0.703125 -3.75 -0.703125 -2.78125 C -0.703125 -2 -0.96875 -1.546875 -1.65625 -1.546875 C -2.3125 -1.546875 -2.609375 -1.984375 -2.765625 -3.0625 C -2.90625 -4.109375 -2.953125 -4.328125 -3.109375 -4.671875 Z M -2.171875 -4.671875 \"/>\n",
       "</symbol>\n",
       "<symbol overflow=\"visible\" id=\"glyph1-13\">\n",
       "<path style=\"stroke:none;\" d=\"M -4.09375 -6.078125 C -7.046875 -6.078125 -8.515625 -5.140625 -8.515625 -3.296875 C -8.515625 -1.46875 -7.015625 -0.515625 -4.15625 -0.515625 C -1.296875 -0.515625 0.1875 -1.46875 0.1875 -3.296875 C 0.1875 -5.09375 -1.296875 -6.078125 -4.09375 -6.078125 Z M -4.1875 -5 C -1.78125 -5 -0.703125 -4.453125 -0.703125 -3.28125 C -0.703125 -2.15625 -1.828125 -1.59375 -4.15625 -1.59375 C -6.484375 -1.59375 -7.578125 -2.15625 -7.578125 -3.296875 C -7.578125 -4.4375 -6.46875 -5 -4.1875 -5 Z M -4.1875 -5 \"/>\n",
       "</symbol>\n",
       "<symbol overflow=\"visible\" id=\"glyph1-14\">\n",
       "<path style=\"stroke:none;\" d=\"M 0 -2.296875 L -1.25 -2.296875 L -1.25 -1.046875 L 0 -1.046875 Z M 0 -2.296875 \"/>\n",
       "</symbol>\n",
       "<symbol overflow=\"visible\" id=\"glyph1-15\">\n",
       "<path style=\"stroke:none;\" d=\"M -6.015625 -6.125 C -7.453125 -6.125 -8.515625 -5.015625 -8.515625 -3.40625 C -8.515625 -1.671875 -7.625 -0.65625 -5.5625 -0.59375 L -5.5625 -1.65625 C -6.984375 -1.734375 -7.578125 -2.328125 -7.578125 -3.375 C -7.578125 -4.328125 -6.90625 -5.046875 -5.984375 -5.046875 C -5.3125 -5.046875 -4.734375 -4.65625 -4.3125 -3.90625 L -3.6875 -2.796875 C -2.671875 -1.015625 -1.875 -0.5 0 -0.40625 L 0 -6.078125 L -1.046875 -6.078125 L -1.046875 -1.59375 C -1.734375 -1.703125 -2.1875 -2.09375 -2.796875 -3.125 L -3.4375 -4.328125 C -4.078125 -5.515625 -4.96875 -6.125 -6.015625 -6.125 Z M -6.015625 -6.125 \"/>\n",
       "</symbol>\n",
       "<symbol overflow=\"visible\" id=\"glyph1-16\">\n",
       "<path style=\"stroke:none;\" d=\"M -2.046875 -6.234375 L -2.984375 -6.234375 L -2.984375 -4.984375 L -8.515625 -4.984375 L -8.515625 -4.203125 L -3.15625 -0.34375 L -2.046875 -0.34375 L -2.046875 -3.921875 L 0 -3.921875 L 0 -4.984375 L -2.046875 -4.984375 Z M -2.984375 -3.921875 L -2.984375 -1.265625 L -6.703125 -3.921875 Z M -2.984375 -3.921875 \"/>\n",
       "</symbol>\n",
       "<symbol overflow=\"visible\" id=\"glyph1-17\">\n",
       "<path style=\"stroke:none;\" d=\"M -2.640625 -6.15625 C -4.21875 -6.15625 -5.296875 -5.078125 -5.296875 -3.546875 C -5.296875 -2.71875 -4.96875 -2.046875 -4.34375 -1.59375 C -6.421875 -1.609375 -7.578125 -2.28125 -7.578125 -3.484375 C -7.578125 -4.234375 -7.109375 -4.75 -6.28125 -4.921875 L -6.28125 -5.96875 C -7.6875 -5.765625 -8.515625 -4.859375 -8.515625 -3.5625 C -8.515625 -1.578125 -6.84375 -0.515625 -3.875 -0.515625 C -1.21875 -0.515625 0.1875 -1.421875 0.1875 -3.375 C 0.1875 -4.984375 -0.96875 -6.15625 -2.640625 -6.15625 Z M -2.5625 -5.078125 C -1.484375 -5.078125 -0.75 -4.359375 -0.75 -3.390625 C -0.75 -2.40625 -1.53125 -1.65625 -2.609375 -1.65625 C -3.671875 -1.65625 -4.359375 -2.375 -4.359375 -3.421875 C -4.359375 -4.4375 -3.703125 -5.078125 -2.5625 -5.078125 Z M -2.5625 -5.078125 \"/>\n",
       "</symbol>\n",
       "<symbol overflow=\"visible\" id=\"glyph1-18\">\n",
       "<path style=\"stroke:none;\" d=\"M -2.40625 -6.15625 C -3.34375 -6.15625 -4.015625 -5.671875 -4.46875 -4.6875 C -5 -5.5625 -5.4375 -5.859375 -6.234375 -5.859375 C -7.578125 -5.859375 -8.515625 -4.8125 -8.515625 -3.296875 C -8.515625 -1.796875 -7.578125 -0.75 -6.234375 -0.75 C -5.453125 -0.75 -5.015625 -1.03125 -4.46875 -1.890625 C -4.015625 -0.921875 -3.34375 -0.4375 -2.40625 -0.4375 C -0.859375 -0.4375 0.1875 -1.625 0.1875 -3.296875 C 0.1875 -4.984375 -0.859375 -6.15625 -2.40625 -6.15625 Z M -6.21875 -4.78125 C -5.421875 -4.78125 -4.890625 -4.1875 -4.890625 -3.296875 C -4.890625 -2.40625 -5.421875 -1.828125 -6.234375 -1.828125 C -7.046875 -1.828125 -7.578125 -2.40625 -7.578125 -3.296875 C -7.578125 -4.203125 -7.046875 -4.78125 -6.21875 -4.78125 Z M -2.390625 -5.078125 C -1.375 -5.078125 -0.75 -4.359375 -0.75 -3.28125 C -0.75 -2.25 -1.390625 -1.53125 -2.390625 -1.53125 C -3.390625 -1.53125 -4.015625 -2.25 -4.015625 -3.296875 C -4.015625 -4.359375 -3.390625 -5.078125 -2.390625 -5.078125 Z M -2.390625 -5.078125 \"/>\n",
       "</symbol>\n",
       "<symbol overflow=\"visible\" id=\"glyph1-19\">\n",
       "<path style=\"stroke:none;\" d=\"M 0 -4.15625 L -8.515625 -4.15625 L -8.515625 -3.46875 C -7.203125 -3.09375 -7.015625 -2.859375 -6.8125 -1.21875 L -6.0625 -1.21875 L -6.0625 -3.109375 L 0 -3.109375 Z M 0 -4.15625 \"/>\n",
       "</symbol>\n",
       "<symbol overflow=\"visible\" id=\"glyph1-20\">\n",
       "<path style=\"stroke:none;\" d=\"M -7.4375 -6.234375 L -8.328125 -6.234375 L -8.328125 -0.546875 L -7.28125 -0.546875 L -7.28125 -5.140625 C -5.140625 -3.453125 -2.65625 -2.25 0 -1.65625 L 0 -2.78125 C -2.75 -3.25 -5.3125 -4.453125 -7.4375 -6.234375 Z M -7.4375 -6.234375 \"/>\n",
       "</symbol>\n",
       "<symbol overflow=\"visible\" id=\"glyph1-21\">\n",
       "<path style=\"stroke:none;\" d=\"M -2.8125 -6.15625 C -4.5 -6.15625 -5.609375 -5.046875 -5.609375 -3.40625 C -5.609375 -2.8125 -5.453125 -2.328125 -5.09375 -1.84375 L -7.28125 -2.171875 L -7.28125 -5.71875 L -8.328125 -5.71875 L -8.328125 -1.3125 L -3.875 -0.6875 L -3.875 -1.65625 C -4.46875 -2.140625 -4.671875 -2.5625 -4.671875 -3.21875 C -4.671875 -4.359375 -3.9375 -5.078125 -2.671875 -5.078125 C -1.453125 -5.078125 -0.75 -4.375 -0.75 -3.21875 C -0.75 -2.296875 -1.21875 -1.734375 -2.1875 -1.46875 L -2.1875 -0.421875 C -0.484375 -0.765625 0.1875 -1.734375 0.1875 -3.234375 C 0.1875 -4.953125 -1.015625 -6.15625 -2.8125 -6.15625 Z M -2.8125 -6.15625 \"/>\n",
       "</symbol>\n",
       "<symbol overflow=\"visible\" id=\"glyph1-22\">\n",
       "<path style=\"stroke:none;\" d=\"M -2.46875 -6.078125 C -3.5 -6.078125 -4.109375 -5.65625 -4.453125 -4.625 C -4.765625 -5.421875 -5.3125 -5.8125 -6.171875 -5.8125 C -7.625 -5.8125 -8.515625 -4.84375 -8.515625 -3.234375 C -8.515625 -1.515625 -7.578125 -0.59375 -5.765625 -0.5625 L -5.765625 -1.625 C -7.015625 -1.640625 -7.578125 -2.15625 -7.578125 -3.234375 C -7.578125 -4.171875 -7.03125 -4.734375 -6.125 -4.734375 C -5.21875 -4.734375 -4.84375 -4.34375 -4.84375 -2.65625 L -3.953125 -2.65625 L -3.953125 -3.234375 C -3.953125 -4.390625 -3.40625 -4.984375 -2.453125 -4.984375 C -1.390625 -4.984375 -0.75 -4.328125 -0.75 -3.234375 C -0.75 -2.078125 -1.328125 -1.515625 -2.5625 -1.4375 L -2.5625 -0.390625 C -0.671875 -0.515625 0.1875 -1.453125 0.1875 -3.1875 C 0.1875 -4.9375 -0.859375 -6.078125 -2.46875 -6.078125 Z M -2.46875 -6.078125 \"/>\n",
       "</symbol>\n",
       "</g>\n",
       "<clipPath id=\"clip1\">\n",
       "  <path d=\"M 74 354 L 78 354 L 78 359.558594 L 74 359.558594 Z M 74 354 \"/>\n",
       "</clipPath>\n",
       "</defs>\n",
       "<g id=\"surface184\">\n",
       "<rect x=\"0\" y=\"0\" width=\"432\" height=\"432\" style=\"fill:rgb(100%,100%,100%);fill-opacity:1;stroke:none;\"/>\n",
       "<g style=\"fill:rgb(0%,0%,0%);fill-opacity:1;\">\n",
       "  <use xlink:href=\"#glyph0-1\" x=\"181.898438\" y=\"413.057617\"/>\n",
       "  <use xlink:href=\"#glyph0-2\" x=\"188.810547\" y=\"413.057617\"/>\n",
       "  <use xlink:href=\"#glyph0-3\" x=\"195.482422\" y=\"413.057617\"/>\n",
       "  <use xlink:href=\"#glyph0-4\" x=\"198.146484\" y=\"413.057617\"/>\n",
       "  <use xlink:href=\"#glyph0-5\" x=\"204.146484\" y=\"413.057617\"/>\n",
       "  <use xlink:href=\"#glyph0-6\" x=\"210.818359\" y=\"413.057617\"/>\n",
       "  <use xlink:href=\"#glyph0-7\" x=\"214.154297\" y=\"413.057617\"/>\n",
       "  <use xlink:href=\"#glyph0-8\" x=\"220.826172\" y=\"413.057617\"/>\n",
       "  <use xlink:href=\"#glyph0-4\" x=\"227.498047\" y=\"413.057617\"/>\n",
       "  <use xlink:href=\"#glyph0-9\" x=\"233.498047\" y=\"413.057617\"/>\n",
       "  <use xlink:href=\"#glyph0-10\" x=\"236.162109\" y=\"413.057617\"/>\n",
       "  <use xlink:href=\"#glyph0-9\" x=\"239.498047\" y=\"413.057617\"/>\n",
       "  <use xlink:href=\"#glyph0-11\" x=\"242.162109\" y=\"413.057617\"/>\n",
       "  <use xlink:href=\"#glyph0-5\" x=\"247.922852\" y=\"413.057617\"/>\n",
       "  <use xlink:href=\"#glyph0-6\" x=\"254.594727\" y=\"413.057617\"/>\n",
       "  <use xlink:href=\"#glyph0-12\" x=\"257.930664\" y=\"413.057617\"/>\n",
       "  <use xlink:href=\"#glyph0-2\" x=\"261.867188\" y=\"413.057617\"/>\n",
       "  <use xlink:href=\"#glyph0-10\" x=\"268.539062\" y=\"413.057617\"/>\n",
       "  <use xlink:href=\"#glyph0-5\" x=\"271.695312\" y=\"413.057617\"/>\n",
       "</g>\n",
       "<g style=\"fill:rgb(0%,0%,0%);fill-opacity:1;\">\n",
       "  <use xlink:href=\"#glyph1-1\" x=\"12.737305\" y=\"254.800781\"/>\n",
       "  <use xlink:href=\"#glyph1-2\" x=\"12.737305\" y=\"248.547852\"/>\n",
       "  <use xlink:href=\"#glyph1-3\" x=\"12.737305\" y=\"244.551758\"/>\n",
       "  <use xlink:href=\"#glyph1-4\" x=\"12.737305\" y=\"237.879883\"/>\n",
       "  <use xlink:href=\"#glyph1-5\" x=\"12.737305\" y=\"231.208008\"/>\n",
       "  <use xlink:href=\"#glyph1-6\" x=\"12.737305\" y=\"227.87207\"/>\n",
       "  <use xlink:href=\"#glyph1-7\" x=\"12.737305\" y=\"221.200195\"/>\n",
       "  <use xlink:href=\"#glyph1-8\" x=\"12.737305\" y=\"214.52832\"/>\n",
       "  <use xlink:href=\"#glyph1-9\" x=\"12.737305\" y=\"208.52832\"/>\n",
       "  <use xlink:href=\"#glyph1-10\" x=\"12.737305\" y=\"205.864258\"/>\n",
       "  <use xlink:href=\"#glyph1-9\" x=\"12.737305\" y=\"202.52832\"/>\n",
       "  <use xlink:href=\"#glyph1-11\" x=\"12.737305\" y=\"199.864258\"/>\n",
       "  <use xlink:href=\"#glyph1-4\" x=\"12.737305\" y=\"194.103516\"/>\n",
       "  <use xlink:href=\"#glyph1-5\" x=\"12.737305\" y=\"187.431641\"/>\n",
       "  <use xlink:href=\"#glyph1-2\" x=\"12.737305\" y=\"184.095703\"/>\n",
       "  <use xlink:href=\"#glyph1-12\" x=\"12.737305\" y=\"180.15918\"/>\n",
       "  <use xlink:href=\"#glyph1-10\" x=\"12.737305\" y=\"173.487305\"/>\n",
       "  <use xlink:href=\"#glyph1-4\" x=\"12.737305\" y=\"170.331055\"/>\n",
       "</g>\n",
       "<path style=\"fill:none;stroke-width:0.75;stroke-linecap:round;stroke-linejoin:round;stroke:rgb(0%,0%,0%);stroke-opacity:1;stroke-miterlimit:10;\" d=\"M 71.734375 358.558594 L 389.066406 358.558594 \"/>\n",
       "<path style=\"fill:none;stroke-width:0.75;stroke-linecap:round;stroke-linejoin:round;stroke:rgb(0%,0%,0%);stroke-opacity:1;stroke-miterlimit:10;\" d=\"M 71.734375 358.558594 L 71.734375 365.761719 \"/>\n",
       "<path style=\"fill:none;stroke-width:0.75;stroke-linecap:round;stroke-linejoin:round;stroke:rgb(0%,0%,0%);stroke-opacity:1;stroke-miterlimit:10;\" d=\"M 135.199219 358.558594 L 135.199219 365.761719 \"/>\n",
       "<path style=\"fill:none;stroke-width:0.75;stroke-linecap:round;stroke-linejoin:round;stroke:rgb(0%,0%,0%);stroke-opacity:1;stroke-miterlimit:10;\" d=\"M 198.667969 358.558594 L 198.667969 365.761719 \"/>\n",
       "<path style=\"fill:none;stroke-width:0.75;stroke-linecap:round;stroke-linejoin:round;stroke:rgb(0%,0%,0%);stroke-opacity:1;stroke-miterlimit:10;\" d=\"M 262.132812 358.558594 L 262.132812 365.761719 \"/>\n",
       "<path style=\"fill:none;stroke-width:0.75;stroke-linecap:round;stroke-linejoin:round;stroke:rgb(0%,0%,0%);stroke-opacity:1;stroke-miterlimit:10;\" d=\"M 325.601562 358.558594 L 325.601562 365.761719 \"/>\n",
       "<path style=\"fill:none;stroke-width:0.75;stroke-linecap:round;stroke-linejoin:round;stroke:rgb(0%,0%,0%);stroke-opacity:1;stroke-miterlimit:10;\" d=\"M 389.066406 358.558594 L 389.066406 365.761719 \"/>\n",
       "<g style=\"fill:rgb(0%,0%,0%);fill-opacity:1;\">\n",
       "  <use xlink:href=\"#glyph0-13\" x=\"63.234375\" y=\"384.256836\"/>\n",
       "  <use xlink:href=\"#glyph0-14\" x=\"69.90625\" y=\"384.256836\"/>\n",
       "  <use xlink:href=\"#glyph0-13\" x=\"73.242188\" y=\"384.256836\"/>\n",
       "</g>\n",
       "<g style=\"fill:rgb(0%,0%,0%);fill-opacity:1;\">\n",
       "  <use xlink:href=\"#glyph0-13\" x=\"126.699219\" y=\"384.256836\"/>\n",
       "  <use xlink:href=\"#glyph0-14\" x=\"133.371094\" y=\"384.256836\"/>\n",
       "  <use xlink:href=\"#glyph0-15\" x=\"136.707031\" y=\"384.256836\"/>\n",
       "</g>\n",
       "<g style=\"fill:rgb(0%,0%,0%);fill-opacity:1;\">\n",
       "  <use xlink:href=\"#glyph0-13\" x=\"190.167969\" y=\"384.256836\"/>\n",
       "  <use xlink:href=\"#glyph0-14\" x=\"196.839844\" y=\"384.256836\"/>\n",
       "  <use xlink:href=\"#glyph0-16\" x=\"200.175781\" y=\"384.256836\"/>\n",
       "</g>\n",
       "<g style=\"fill:rgb(0%,0%,0%);fill-opacity:1;\">\n",
       "  <use xlink:href=\"#glyph0-13\" x=\"253.632812\" y=\"384.256836\"/>\n",
       "  <use xlink:href=\"#glyph0-14\" x=\"260.304688\" y=\"384.256836\"/>\n",
       "  <use xlink:href=\"#glyph0-17\" x=\"263.640625\" y=\"384.256836\"/>\n",
       "</g>\n",
       "<g style=\"fill:rgb(0%,0%,0%);fill-opacity:1;\">\n",
       "  <use xlink:href=\"#glyph0-13\" x=\"317.101562\" y=\"384.256836\"/>\n",
       "  <use xlink:href=\"#glyph0-14\" x=\"323.773438\" y=\"384.256836\"/>\n",
       "  <use xlink:href=\"#glyph0-18\" x=\"327.109375\" y=\"384.256836\"/>\n",
       "</g>\n",
       "<g style=\"fill:rgb(0%,0%,0%);fill-opacity:1;\">\n",
       "  <use xlink:href=\"#glyph0-19\" x=\"380.566406\" y=\"384.256836\"/>\n",
       "  <use xlink:href=\"#glyph0-14\" x=\"387.238281\" y=\"384.256836\"/>\n",
       "  <use xlink:href=\"#glyph0-13\" x=\"390.574219\" y=\"384.256836\"/>\n",
       "</g>\n",
       "<path style=\"fill:none;stroke-width:0.75;stroke-linecap:round;stroke-linejoin:round;stroke:rgb(0%,0%,0%);stroke-opacity:1;stroke-miterlimit:10;\" d=\"M 59.039062 347.464844 L 59.039062 70.132812 \"/>\n",
       "<path style=\"fill:none;stroke-width:0.75;stroke-linecap:round;stroke-linejoin:round;stroke:rgb(0%,0%,0%);stroke-opacity:1;stroke-miterlimit:10;\" d=\"M 59.039062 347.464844 L 51.839844 347.464844 \"/>\n",
       "<path style=\"fill:none;stroke-width:0.75;stroke-linecap:round;stroke-linejoin:round;stroke:rgb(0%,0%,0%);stroke-opacity:1;stroke-miterlimit:10;\" d=\"M 59.039062 292 L 51.839844 292 \"/>\n",
       "<path style=\"fill:none;stroke-width:0.75;stroke-linecap:round;stroke-linejoin:round;stroke:rgb(0%,0%,0%);stroke-opacity:1;stroke-miterlimit:10;\" d=\"M 59.039062 236.535156 L 51.839844 236.535156 \"/>\n",
       "<path style=\"fill:none;stroke-width:0.75;stroke-linecap:round;stroke-linejoin:round;stroke:rgb(0%,0%,0%);stroke-opacity:1;stroke-miterlimit:10;\" d=\"M 59.039062 181.066406 L 51.839844 181.066406 \"/>\n",
       "<path style=\"fill:none;stroke-width:0.75;stroke-linecap:round;stroke-linejoin:round;stroke:rgb(0%,0%,0%);stroke-opacity:1;stroke-miterlimit:10;\" d=\"M 59.039062 125.601562 L 51.839844 125.601562 \"/>\n",
       "<path style=\"fill:none;stroke-width:0.75;stroke-linecap:round;stroke-linejoin:round;stroke:rgb(0%,0%,0%);stroke-opacity:1;stroke-miterlimit:10;\" d=\"M 59.039062 70.132812 L 51.839844 70.132812 \"/>\n",
       "<g style=\"fill:rgb(0%,0%,0%);fill-opacity:1;\">\n",
       "  <use xlink:href=\"#glyph1-13\" x=\"41.538086\" y=\"355.964844\"/>\n",
       "  <use xlink:href=\"#glyph1-14\" x=\"41.538086\" y=\"349.292969\"/>\n",
       "  <use xlink:href=\"#glyph1-13\" x=\"41.538086\" y=\"345.957031\"/>\n",
       "</g>\n",
       "<g style=\"fill:rgb(0%,0%,0%);fill-opacity:1;\">\n",
       "  <use xlink:href=\"#glyph1-13\" x=\"41.538086\" y=\"300.5\"/>\n",
       "  <use xlink:href=\"#glyph1-14\" x=\"41.538086\" y=\"293.828125\"/>\n",
       "  <use xlink:href=\"#glyph1-15\" x=\"41.538086\" y=\"290.492188\"/>\n",
       "</g>\n",
       "<g style=\"fill:rgb(0%,0%,0%);fill-opacity:1;\">\n",
       "  <use xlink:href=\"#glyph1-13\" x=\"41.538086\" y=\"245.035156\"/>\n",
       "  <use xlink:href=\"#glyph1-14\" x=\"41.538086\" y=\"238.363281\"/>\n",
       "  <use xlink:href=\"#glyph1-16\" x=\"41.538086\" y=\"235.027344\"/>\n",
       "</g>\n",
       "<g style=\"fill:rgb(0%,0%,0%);fill-opacity:1;\">\n",
       "  <use xlink:href=\"#glyph1-13\" x=\"41.538086\" y=\"189.566406\"/>\n",
       "  <use xlink:href=\"#glyph1-14\" x=\"41.538086\" y=\"182.894531\"/>\n",
       "  <use xlink:href=\"#glyph1-17\" x=\"41.538086\" y=\"179.558594\"/>\n",
       "</g>\n",
       "<g style=\"fill:rgb(0%,0%,0%);fill-opacity:1;\">\n",
       "  <use xlink:href=\"#glyph1-13\" x=\"41.538086\" y=\"134.101562\"/>\n",
       "  <use xlink:href=\"#glyph1-14\" x=\"41.538086\" y=\"127.429688\"/>\n",
       "  <use xlink:href=\"#glyph1-18\" x=\"41.538086\" y=\"124.09375\"/>\n",
       "</g>\n",
       "<g style=\"fill:rgb(0%,0%,0%);fill-opacity:1;\">\n",
       "  <use xlink:href=\"#glyph1-19\" x=\"41.538086\" y=\"78.632812\"/>\n",
       "  <use xlink:href=\"#glyph1-14\" x=\"41.538086\" y=\"71.960938\"/>\n",
       "  <use xlink:href=\"#glyph1-13\" x=\"41.538086\" y=\"68.625\"/>\n",
       "</g>\n",
       "<path style=\"fill:none;stroke-width:0.75;stroke-linecap:round;stroke-linejoin:round;stroke:rgb(0%,0%,0%);stroke-opacity:1;stroke-miterlimit:10;\" d=\"M 401.761719 347.464844 L 401.761719 70.132812 \"/>\n",
       "<path style=\"fill:none;stroke-width:0.75;stroke-linecap:round;stroke-linejoin:round;stroke:rgb(0%,0%,0%);stroke-opacity:1;stroke-miterlimit:10;\" d=\"M 401.761719 347.464844 L 408.960938 347.464844 \"/>\n",
       "<path style=\"fill:none;stroke-width:0.75;stroke-linecap:round;stroke-linejoin:round;stroke:rgb(0%,0%,0%);stroke-opacity:1;stroke-miterlimit:10;\" d=\"M 401.761719 292 L 408.960938 292 \"/>\n",
       "<path style=\"fill:none;stroke-width:0.75;stroke-linecap:round;stroke-linejoin:round;stroke:rgb(0%,0%,0%);stroke-opacity:1;stroke-miterlimit:10;\" d=\"M 401.761719 236.535156 L 408.960938 236.535156 \"/>\n",
       "<path style=\"fill:none;stroke-width:0.75;stroke-linecap:round;stroke-linejoin:round;stroke:rgb(0%,0%,0%);stroke-opacity:1;stroke-miterlimit:10;\" d=\"M 401.761719 181.066406 L 408.960938 181.066406 \"/>\n",
       "<path style=\"fill:none;stroke-width:0.75;stroke-linecap:round;stroke-linejoin:round;stroke:rgb(0%,0%,0%);stroke-opacity:1;stroke-miterlimit:10;\" d=\"M 401.761719 125.601562 L 408.960938 125.601562 \"/>\n",
       "<path style=\"fill:none;stroke-width:0.75;stroke-linecap:round;stroke-linejoin:round;stroke:rgb(0%,0%,0%);stroke-opacity:1;stroke-miterlimit:10;\" d=\"M 401.761719 70.132812 L 408.960938 70.132812 \"/>\n",
       "<g style=\"fill:rgb(0%,0%,0%);fill-opacity:1;\">\n",
       "  <use xlink:href=\"#glyph1-13\" x=\"427.456055\" y=\"359.464844\"/>\n",
       "  <use xlink:href=\"#glyph1-14\" x=\"427.456055\" y=\"352.792969\"/>\n",
       "  <use xlink:href=\"#glyph1-13\" x=\"427.456055\" y=\"349.457031\"/>\n",
       "  <use xlink:href=\"#glyph1-20\" x=\"427.456055\" y=\"342.785156\"/>\n",
       "</g>\n",
       "<g style=\"fill:rgb(0%,0%,0%);fill-opacity:1;\">\n",
       "  <use xlink:href=\"#glyph1-13\" x=\"427.456055\" y=\"304\"/>\n",
       "  <use xlink:href=\"#glyph1-14\" x=\"427.456055\" y=\"297.328125\"/>\n",
       "  <use xlink:href=\"#glyph1-15\" x=\"427.456055\" y=\"293.992188\"/>\n",
       "  <use xlink:href=\"#glyph1-21\" x=\"427.456055\" y=\"287.320312\"/>\n",
       "</g>\n",
       "<g style=\"fill:rgb(0%,0%,0%);fill-opacity:1;\">\n",
       "  <use xlink:href=\"#glyph1-13\" x=\"427.456055\" y=\"248.535156\"/>\n",
       "  <use xlink:href=\"#glyph1-14\" x=\"427.456055\" y=\"241.863281\"/>\n",
       "  <use xlink:href=\"#glyph1-16\" x=\"427.456055\" y=\"238.527344\"/>\n",
       "  <use xlink:href=\"#glyph1-16\" x=\"427.456055\" y=\"231.855469\"/>\n",
       "</g>\n",
       "<g style=\"fill:rgb(0%,0%,0%);fill-opacity:1;\">\n",
       "  <use xlink:href=\"#glyph1-13\" x=\"427.456055\" y=\"193.066406\"/>\n",
       "  <use xlink:href=\"#glyph1-14\" x=\"427.456055\" y=\"186.394531\"/>\n",
       "  <use xlink:href=\"#glyph1-17\" x=\"427.456055\" y=\"183.058594\"/>\n",
       "  <use xlink:href=\"#glyph1-22\" x=\"427.456055\" y=\"176.386719\"/>\n",
       "</g>\n",
       "<g style=\"fill:rgb(0%,0%,0%);fill-opacity:1;\">\n",
       "  <use xlink:href=\"#glyph1-13\" x=\"427.456055\" y=\"137.601562\"/>\n",
       "  <use xlink:href=\"#glyph1-14\" x=\"427.456055\" y=\"130.929688\"/>\n",
       "  <use xlink:href=\"#glyph1-18\" x=\"427.456055\" y=\"127.59375\"/>\n",
       "  <use xlink:href=\"#glyph1-19\" x=\"427.456055\" y=\"120.921875\"/>\n",
       "</g>\n",
       "<g style=\"fill:rgb(0%,0%,0%);fill-opacity:1;\">\n",
       "  <use xlink:href=\"#glyph1-19\" x=\"427.456055\" y=\"73.632812\"/>\n",
       "</g>\n",
       "<path style=\"fill-rule:nonzero;fill:rgb(100%,1.568627%,0%);fill-opacity:1;stroke-width:0.75;stroke-linecap:round;stroke-linejoin:round;stroke:rgb(100%,1.568627%,0%);stroke-opacity:1;stroke-miterlimit:10;\" d=\"M 398.585938 71.222656 L 401.757812 71.222656 L 401.757812 72.308594 L 398.585938 72.308594 Z M 398.585938 71.222656 \"/>\n",
       "<path style=\"fill-rule:nonzero;fill:rgb(100%,3.137255%,0%);fill-opacity:1;stroke-width:0.75;stroke-linecap:round;stroke-linejoin:round;stroke:rgb(100%,3.137255%,0%);stroke-opacity:1;stroke-miterlimit:10;\" d=\"M 398.585938 72.308594 L 401.757812 72.308594 L 401.757812 73.394531 L 398.585938 73.394531 Z M 398.585938 72.308594 \"/>\n",
       "<path style=\"fill-rule:nonzero;fill:rgb(100%,4.705882%,0%);fill-opacity:1;stroke-width:0.75;stroke-linecap:round;stroke-linejoin:round;stroke:rgb(100%,4.705882%,0%);stroke-opacity:1;stroke-miterlimit:10;\" d=\"M 398.585938 73.394531 L 401.757812 73.394531 L 401.757812 74.480469 L 398.585938 74.480469 Z M 398.585938 73.394531 \"/>\n",
       "<path style=\"fill-rule:nonzero;fill:rgb(100%,6.27451%,0%);fill-opacity:1;stroke-width:0.75;stroke-linecap:round;stroke-linejoin:round;stroke:rgb(100%,6.27451%,0%);stroke-opacity:1;stroke-miterlimit:10;\" d=\"M 398.585938 74.484375 L 401.757812 74.484375 L 401.757812 75.570312 L 398.585938 75.570312 Z M 398.585938 74.484375 \"/>\n",
       "<path style=\"fill-rule:nonzero;fill:rgb(100%,7.843137%,0%);fill-opacity:1;stroke-width:0.75;stroke-linecap:round;stroke-linejoin:round;stroke:rgb(100%,7.843137%,0%);stroke-opacity:1;stroke-miterlimit:10;\" d=\"M 398.585938 75.570312 L 401.757812 75.570312 L 401.757812 76.65625 L 398.585938 76.65625 Z M 398.585938 75.570312 \"/>\n",
       "<path style=\"fill-rule:nonzero;fill:rgb(100%,9.411765%,0%);fill-opacity:1;stroke-width:0.75;stroke-linecap:round;stroke-linejoin:round;stroke:rgb(100%,9.411765%,0%);stroke-opacity:1;stroke-miterlimit:10;\" d=\"M 398.585938 76.660156 L 401.757812 76.660156 L 401.757812 77.746094 L 398.585938 77.746094 Z M 398.585938 76.660156 \"/>\n",
       "<path style=\"fill-rule:nonzero;fill:rgb(100%,10.980392%,0%);fill-opacity:1;stroke-width:0.75;stroke-linecap:round;stroke-linejoin:round;stroke:rgb(100%,10.980392%,0%);stroke-opacity:1;stroke-miterlimit:10;\" d=\"M 398.585938 77.746094 L 401.757812 77.746094 L 401.757812 78.832031 L 398.585938 78.832031 Z M 398.585938 77.746094 \"/>\n",
       "<path style=\"fill-rule:nonzero;fill:rgb(100%,12.54902%,0%);fill-opacity:1;stroke-width:0.75;stroke-linecap:round;stroke-linejoin:round;stroke:rgb(100%,12.54902%,0%);stroke-opacity:1;stroke-miterlimit:10;\" d=\"M 398.585938 78.835938 L 401.757812 78.835938 L 401.757812 79.921875 L 398.585938 79.921875 Z M 398.585938 78.835938 \"/>\n",
       "<path style=\"fill-rule:nonzero;fill:rgb(100%,14.117647%,0%);fill-opacity:1;stroke-width:0.75;stroke-linecap:round;stroke-linejoin:round;stroke:rgb(100%,14.117647%,0%);stroke-opacity:1;stroke-miterlimit:10;\" d=\"M 398.585938 79.921875 L 401.757812 79.921875 L 401.757812 81.007812 L 398.585938 81.007812 Z M 398.585938 79.921875 \"/>\n",
       "<path style=\"fill-rule:nonzero;fill:rgb(100%,15.686275%,0%);fill-opacity:1;stroke-width:0.75;stroke-linecap:round;stroke-linejoin:round;stroke:rgb(100%,15.686275%,0%);stroke-opacity:1;stroke-miterlimit:10;\" d=\"M 398.585938 81.007812 L 401.757812 81.007812 L 401.757812 82.09375 L 398.585938 82.09375 Z M 398.585938 81.007812 \"/>\n",
       "<path style=\"fill-rule:nonzero;fill:rgb(100%,17.254902%,0%);fill-opacity:1;stroke-width:0.75;stroke-linecap:round;stroke-linejoin:round;stroke:rgb(100%,17.254902%,0%);stroke-opacity:1;stroke-miterlimit:10;\" d=\"M 398.585938 82.097656 L 401.757812 82.097656 L 401.757812 83.183594 L 398.585938 83.183594 Z M 398.585938 82.097656 \"/>\n",
       "<path style=\"fill-rule:nonzero;fill:rgb(100%,18.823529%,0%);fill-opacity:1;stroke-width:0.75;stroke-linecap:round;stroke-linejoin:round;stroke:rgb(100%,18.823529%,0%);stroke-opacity:1;stroke-miterlimit:10;\" d=\"M 398.585938 83.183594 L 401.757812 83.183594 L 401.757812 84.269531 L 398.585938 84.269531 Z M 398.585938 83.183594 \"/>\n",
       "<path style=\"fill-rule:nonzero;fill:rgb(100%,20.392157%,0%);fill-opacity:1;stroke-width:0.75;stroke-linecap:round;stroke-linejoin:round;stroke:rgb(100%,20.392157%,0%);stroke-opacity:1;stroke-miterlimit:10;\" d=\"M 398.585938 84.273438 L 401.757812 84.273438 L 401.757812 85.359375 L 398.585938 85.359375 Z M 398.585938 84.273438 \"/>\n",
       "<path style=\"fill-rule:nonzero;fill:rgb(100%,21.960784%,0%);fill-opacity:1;stroke-width:0.75;stroke-linecap:round;stroke-linejoin:round;stroke:rgb(100%,21.960784%,0%);stroke-opacity:1;stroke-miterlimit:10;\" d=\"M 398.585938 85.359375 L 401.757812 85.359375 L 401.757812 86.445312 L 398.585938 86.445312 Z M 398.585938 85.359375 \"/>\n",
       "<path style=\"fill-rule:nonzero;fill:rgb(100%,23.529412%,0%);fill-opacity:1;stroke-width:0.75;stroke-linecap:round;stroke-linejoin:round;stroke:rgb(100%,23.529412%,0%);stroke-opacity:1;stroke-miterlimit:10;\" d=\"M 398.585938 86.445312 L 401.757812 86.445312 L 401.757812 87.53125 L 398.585938 87.53125 Z M 398.585938 86.445312 \"/>\n",
       "<path style=\"fill-rule:nonzero;fill:rgb(100%,25.098039%,0%);fill-opacity:1;stroke-width:0.75;stroke-linecap:round;stroke-linejoin:round;stroke:rgb(100%,25.098039%,0%);stroke-opacity:1;stroke-miterlimit:10;\" d=\"M 398.585938 87.535156 L 401.757812 87.535156 L 401.757812 88.621094 L 398.585938 88.621094 Z M 398.585938 87.535156 \"/>\n",
       "<path style=\"fill-rule:nonzero;fill:rgb(100%,26.666667%,0%);fill-opacity:1;stroke-width:0.75;stroke-linecap:round;stroke-linejoin:round;stroke:rgb(100%,26.666667%,0%);stroke-opacity:1;stroke-miterlimit:10;\" d=\"M 398.585938 88.621094 L 401.757812 88.621094 L 401.757812 89.707031 L 398.585938 89.707031 Z M 398.585938 88.621094 \"/>\n",
       "<path style=\"fill-rule:nonzero;fill:rgb(100%,28.235294%,0%);fill-opacity:1;stroke-width:0.75;stroke-linecap:round;stroke-linejoin:round;stroke:rgb(100%,28.235294%,0%);stroke-opacity:1;stroke-miterlimit:10;\" d=\"M 398.585938 89.710938 L 401.757812 89.710938 L 401.757812 90.796875 L 398.585938 90.796875 Z M 398.585938 89.710938 \"/>\n",
       "<path style=\"fill-rule:nonzero;fill:rgb(100%,29.803922%,0%);fill-opacity:1;stroke-width:0.75;stroke-linecap:round;stroke-linejoin:round;stroke:rgb(100%,29.803922%,0%);stroke-opacity:1;stroke-miterlimit:10;\" d=\"M 398.585938 90.796875 L 401.757812 90.796875 L 401.757812 91.882812 L 398.585938 91.882812 Z M 398.585938 90.796875 \"/>\n",
       "<path style=\"fill-rule:nonzero;fill:rgb(100%,31.372549%,0%);fill-opacity:1;stroke-width:0.75;stroke-linecap:round;stroke-linejoin:round;stroke:rgb(100%,31.372549%,0%);stroke-opacity:1;stroke-miterlimit:10;\" d=\"M 398.585938 91.886719 L 401.757812 91.886719 L 401.757812 92.972656 L 398.585938 92.972656 Z M 398.585938 91.886719 \"/>\n",
       "<path style=\"fill-rule:nonzero;fill:rgb(100%,32.941176%,0%);fill-opacity:1;stroke-width:0.75;stroke-linecap:round;stroke-linejoin:round;stroke:rgb(100%,32.941176%,0%);stroke-opacity:1;stroke-miterlimit:10;\" d=\"M 398.585938 92.972656 L 401.757812 92.972656 L 401.757812 94.058594 L 398.585938 94.058594 Z M 398.585938 92.972656 \"/>\n",
       "<path style=\"fill-rule:nonzero;fill:rgb(100%,34.509804%,0%);fill-opacity:1;stroke-width:0.75;stroke-linecap:round;stroke-linejoin:round;stroke:rgb(100%,34.509804%,0%);stroke-opacity:1;stroke-miterlimit:10;\" d=\"M 398.585938 94.058594 L 401.757812 94.058594 L 401.757812 95.144531 L 398.585938 95.144531 Z M 398.585938 94.058594 \"/>\n",
       "<path style=\"fill-rule:nonzero;fill:rgb(100%,36.078431%,0%);fill-opacity:1;stroke-width:0.75;stroke-linecap:round;stroke-linejoin:round;stroke:rgb(100%,36.078431%,0%);stroke-opacity:1;stroke-miterlimit:10;\" d=\"M 398.585938 95.148438 L 401.757812 95.148438 L 401.757812 96.234375 L 398.585938 96.234375 Z M 398.585938 95.148438 \"/>\n",
       "<path style=\"fill-rule:nonzero;fill:rgb(100%,37.647059%,0%);fill-opacity:1;stroke-width:0.75;stroke-linecap:round;stroke-linejoin:round;stroke:rgb(100%,37.647059%,0%);stroke-opacity:1;stroke-miterlimit:10;\" d=\"M 398.585938 96.234375 L 401.757812 96.234375 L 401.757812 97.320312 L 398.585938 97.320312 Z M 398.585938 96.234375 \"/>\n",
       "<path style=\"fill-rule:nonzero;fill:rgb(100%,39.215686%,0%);fill-opacity:1;stroke-width:0.75;stroke-linecap:round;stroke-linejoin:round;stroke:rgb(100%,39.215686%,0%);stroke-opacity:1;stroke-miterlimit:10;\" d=\"M 398.585938 97.324219 L 401.757812 97.324219 L 401.757812 98.410156 L 398.585938 98.410156 Z M 398.585938 97.324219 \"/>\n",
       "<path style=\"fill-rule:nonzero;fill:rgb(100%,40.784314%,0%);fill-opacity:1;stroke-width:0.75;stroke-linecap:round;stroke-linejoin:round;stroke:rgb(100%,40.784314%,0%);stroke-opacity:1;stroke-miterlimit:10;\" d=\"M 398.585938 98.410156 L 401.757812 98.410156 L 401.757812 99.496094 L 398.585938 99.496094 Z M 398.585938 98.410156 \"/>\n",
       "<path style=\"fill-rule:nonzero;fill:rgb(100%,42.352941%,0%);fill-opacity:1;stroke-width:0.75;stroke-linecap:round;stroke-linejoin:round;stroke:rgb(100%,42.352941%,0%);stroke-opacity:1;stroke-miterlimit:10;\" d=\"M 398.585938 99.496094 L 401.757812 99.496094 L 401.757812 100.582031 L 398.585938 100.582031 Z M 398.585938 99.496094 \"/>\n",
       "<path style=\"fill-rule:nonzero;fill:rgb(100%,43.921569%,0%);fill-opacity:1;stroke-width:0.75;stroke-linecap:round;stroke-linejoin:round;stroke:rgb(100%,43.921569%,0%);stroke-opacity:1;stroke-miterlimit:10;\" d=\"M 398.585938 100.585938 L 401.757812 100.585938 L 401.757812 101.671875 L 398.585938 101.671875 Z M 398.585938 100.585938 \"/>\n",
       "<path style=\"fill-rule:nonzero;fill:rgb(100%,45.490196%,0%);fill-opacity:1;stroke-width:0.75;stroke-linecap:round;stroke-linejoin:round;stroke:rgb(100%,45.490196%,0%);stroke-opacity:1;stroke-miterlimit:10;\" d=\"M 398.585938 101.671875 L 401.757812 101.671875 L 401.757812 102.757812 L 398.585938 102.757812 Z M 398.585938 101.671875 \"/>\n",
       "<path style=\"fill-rule:nonzero;fill:rgb(100%,47.058824%,0%);fill-opacity:1;stroke-width:0.75;stroke-linecap:round;stroke-linejoin:round;stroke:rgb(100%,47.058824%,0%);stroke-opacity:1;stroke-miterlimit:10;\" d=\"M 398.585938 102.761719 L 401.757812 102.761719 L 401.757812 103.847656 L 398.585938 103.847656 Z M 398.585938 102.761719 \"/>\n",
       "<path style=\"fill-rule:nonzero;fill:rgb(100%,48.627451%,0%);fill-opacity:1;stroke-width:0.75;stroke-linecap:round;stroke-linejoin:round;stroke:rgb(100%,48.627451%,0%);stroke-opacity:1;stroke-miterlimit:10;\" d=\"M 398.585938 103.847656 L 401.757812 103.847656 L 401.757812 104.933594 L 398.585938 104.933594 Z M 398.585938 103.847656 \"/>\n",
       "<path style=\"fill-rule:nonzero;fill:rgb(100%,50.196078%,0%);fill-opacity:1;stroke-width:0.75;stroke-linecap:round;stroke-linejoin:round;stroke:rgb(100%,50.196078%,0%);stroke-opacity:1;stroke-miterlimit:10;\" d=\"M 398.585938 104.9375 L 401.757812 104.9375 L 401.757812 106.023438 L 398.585938 106.023438 Z M 398.585938 104.9375 \"/>\n",
       "<path style=\"fill-rule:nonzero;fill:rgb(100%,51.764706%,0%);fill-opacity:1;stroke-width:0.75;stroke-linecap:round;stroke-linejoin:round;stroke:rgb(100%,51.764706%,0%);stroke-opacity:1;stroke-miterlimit:10;\" d=\"M 398.585938 106.023438 L 401.757812 106.023438 L 401.757812 107.109375 L 398.585938 107.109375 Z M 398.585938 106.023438 \"/>\n",
       "<path style=\"fill-rule:nonzero;fill:rgb(100%,53.333333%,0%);fill-opacity:1;stroke-width:0.75;stroke-linecap:round;stroke-linejoin:round;stroke:rgb(100%,53.333333%,0%);stroke-opacity:1;stroke-miterlimit:10;\" d=\"M 398.585938 107.109375 L 401.757812 107.109375 L 401.757812 108.195312 L 398.585938 108.195312 Z M 398.585938 107.109375 \"/>\n",
       "<path style=\"fill-rule:nonzero;fill:rgb(100%,54.901961%,0%);fill-opacity:1;stroke-width:0.75;stroke-linecap:round;stroke-linejoin:round;stroke:rgb(100%,54.901961%,0%);stroke-opacity:1;stroke-miterlimit:10;\" d=\"M 398.585938 108.199219 L 401.757812 108.199219 L 401.757812 109.285156 L 398.585938 109.285156 Z M 398.585938 108.199219 \"/>\n",
       "<path style=\"fill-rule:nonzero;fill:rgb(100%,56.470588%,0%);fill-opacity:1;stroke-width:0.75;stroke-linecap:round;stroke-linejoin:round;stroke:rgb(100%,56.470588%,0%);stroke-opacity:1;stroke-miterlimit:10;\" d=\"M 398.585938 109.285156 L 401.757812 109.285156 L 401.757812 110.371094 L 398.585938 110.371094 Z M 398.585938 109.285156 \"/>\n",
       "<path style=\"fill-rule:nonzero;fill:rgb(100%,58.039216%,0%);fill-opacity:1;stroke-width:0.75;stroke-linecap:round;stroke-linejoin:round;stroke:rgb(100%,58.039216%,0%);stroke-opacity:1;stroke-miterlimit:10;\" d=\"M 398.585938 110.375 L 401.757812 110.375 L 401.757812 111.460938 L 398.585938 111.460938 Z M 398.585938 110.375 \"/>\n",
       "<path style=\"fill-rule:nonzero;fill:rgb(100%,59.607843%,0%);fill-opacity:1;stroke-width:0.75;stroke-linecap:round;stroke-linejoin:round;stroke:rgb(100%,59.607843%,0%);stroke-opacity:1;stroke-miterlimit:10;\" d=\"M 398.585938 111.460938 L 401.757812 111.460938 L 401.757812 112.546875 L 398.585938 112.546875 Z M 398.585938 111.460938 \"/>\n",
       "<path style=\"fill-rule:nonzero;fill:rgb(100%,61.176471%,0%);fill-opacity:1;stroke-width:0.75;stroke-linecap:round;stroke-linejoin:round;stroke:rgb(100%,61.176471%,0%);stroke-opacity:1;stroke-miterlimit:10;\" d=\"M 398.585938 112.550781 L 401.757812 112.550781 L 401.757812 113.636719 L 398.585938 113.636719 Z M 398.585938 112.550781 \"/>\n",
       "<path style=\"fill-rule:nonzero;fill:rgb(100%,62.745098%,0%);fill-opacity:1;stroke-width:0.75;stroke-linecap:round;stroke-linejoin:round;stroke:rgb(100%,62.745098%,0%);stroke-opacity:1;stroke-miterlimit:10;\" d=\"M 398.585938 113.636719 L 401.757812 113.636719 L 401.757812 114.722656 L 398.585938 114.722656 Z M 398.585938 113.636719 \"/>\n",
       "<path style=\"fill-rule:nonzero;fill:rgb(100%,64.313725%,0%);fill-opacity:1;stroke-width:0.75;stroke-linecap:round;stroke-linejoin:round;stroke:rgb(100%,64.313725%,0%);stroke-opacity:1;stroke-miterlimit:10;\" d=\"M 398.585938 114.722656 L 401.757812 114.722656 L 401.757812 115.808594 L 398.585938 115.808594 Z M 398.585938 114.722656 \"/>\n",
       "<path style=\"fill-rule:nonzero;fill:rgb(100%,65.882353%,0%);fill-opacity:1;stroke-width:0.75;stroke-linecap:round;stroke-linejoin:round;stroke:rgb(100%,65.882353%,0%);stroke-opacity:1;stroke-miterlimit:10;\" d=\"M 398.585938 115.8125 L 401.757812 115.8125 L 401.757812 116.898438 L 398.585938 116.898438 Z M 398.585938 115.8125 \"/>\n",
       "<path style=\"fill-rule:nonzero;fill:rgb(100%,67.45098%,0%);fill-opacity:1;stroke-width:0.75;stroke-linecap:round;stroke-linejoin:round;stroke:rgb(100%,67.45098%,0%);stroke-opacity:1;stroke-miterlimit:10;\" d=\"M 398.585938 116.898438 L 401.757812 116.898438 L 401.757812 117.984375 L 398.585938 117.984375 Z M 398.585938 116.898438 \"/>\n",
       "<path style=\"fill-rule:nonzero;fill:rgb(100%,69.019608%,0%);fill-opacity:1;stroke-width:0.75;stroke-linecap:round;stroke-linejoin:round;stroke:rgb(100%,69.019608%,0%);stroke-opacity:1;stroke-miterlimit:10;\" d=\"M 398.585938 117.988281 L 401.757812 117.988281 L 401.757812 119.074219 L 398.585938 119.074219 Z M 398.585938 117.988281 \"/>\n",
       "<path style=\"fill-rule:nonzero;fill:rgb(100%,70.588235%,0%);fill-opacity:1;stroke-width:0.75;stroke-linecap:round;stroke-linejoin:round;stroke:rgb(100%,70.588235%,0%);stroke-opacity:1;stroke-miterlimit:10;\" d=\"M 398.585938 119.074219 L 401.757812 119.074219 L 401.757812 120.160156 L 398.585938 120.160156 Z M 398.585938 119.074219 \"/>\n",
       "<path style=\"fill-rule:nonzero;fill:rgb(100%,72.156863%,0%);fill-opacity:1;stroke-width:0.75;stroke-linecap:round;stroke-linejoin:round;stroke:rgb(100%,72.156863%,0%);stroke-opacity:1;stroke-miterlimit:10;\" d=\"M 398.585938 120.160156 L 401.757812 120.160156 L 401.757812 121.246094 L 398.585938 121.246094 Z M 398.585938 120.160156 \"/>\n",
       "<path style=\"fill-rule:nonzero;fill:rgb(100%,73.72549%,0%);fill-opacity:1;stroke-width:0.75;stroke-linecap:round;stroke-linejoin:round;stroke:rgb(100%,73.72549%,0%);stroke-opacity:1;stroke-miterlimit:10;\" d=\"M 398.585938 121.25 L 401.757812 121.25 L 401.757812 122.335938 L 398.585938 122.335938 Z M 398.585938 121.25 \"/>\n",
       "<path style=\"fill-rule:nonzero;fill:rgb(100%,75.294118%,0%);fill-opacity:1;stroke-width:0.75;stroke-linecap:round;stroke-linejoin:round;stroke:rgb(100%,75.294118%,0%);stroke-opacity:1;stroke-miterlimit:10;\" d=\"M 398.585938 122.335938 L 401.757812 122.335938 L 401.757812 123.421875 L 398.585938 123.421875 Z M 398.585938 122.335938 \"/>\n",
       "<path style=\"fill-rule:nonzero;fill:rgb(100%,76.862745%,0%);fill-opacity:1;stroke-width:0.75;stroke-linecap:round;stroke-linejoin:round;stroke:rgb(100%,76.862745%,0%);stroke-opacity:1;stroke-miterlimit:10;\" d=\"M 398.585938 123.425781 L 401.757812 123.425781 L 401.757812 124.511719 L 398.585938 124.511719 Z M 398.585938 123.425781 \"/>\n",
       "<path style=\"fill-rule:nonzero;fill:rgb(100%,78.431373%,0%);fill-opacity:1;stroke-width:0.75;stroke-linecap:round;stroke-linejoin:round;stroke:rgb(100%,78.431373%,0%);stroke-opacity:1;stroke-miterlimit:10;\" d=\"M 398.585938 124.511719 L 401.757812 124.511719 L 401.757812 125.597656 L 398.585938 125.597656 Z M 398.585938 124.511719 \"/>\n",
       "<path style=\"fill-rule:nonzero;fill:rgb(100%,80%,0%);fill-opacity:1;stroke-width:0.75;stroke-linecap:round;stroke-linejoin:round;stroke:rgb(100%,80%,0%);stroke-opacity:1;stroke-miterlimit:10;\" d=\"M 398.585938 125.601562 L 401.757812 125.601562 L 401.757812 126.6875 L 398.585938 126.6875 Z M 398.585938 125.601562 \"/>\n",
       "<path style=\"fill-rule:nonzero;fill:rgb(100%,81.568627%,0%);fill-opacity:1;stroke-width:0.75;stroke-linecap:round;stroke-linejoin:round;stroke:rgb(100%,81.568627%,0%);stroke-opacity:1;stroke-miterlimit:10;\" d=\"M 398.585938 126.6875 L 401.757812 126.6875 L 401.757812 127.773438 L 398.585938 127.773438 Z M 398.585938 126.6875 \"/>\n",
       "<path style=\"fill-rule:nonzero;fill:rgb(100%,83.137255%,0%);fill-opacity:1;stroke-width:0.75;stroke-linecap:round;stroke-linejoin:round;stroke:rgb(100%,83.137255%,0%);stroke-opacity:1;stroke-miterlimit:10;\" d=\"M 398.585938 127.773438 L 401.757812 127.773438 L 401.757812 128.859375 L 398.585938 128.859375 Z M 398.585938 127.773438 \"/>\n",
       "<path style=\"fill-rule:nonzero;fill:rgb(100%,84.705882%,0%);fill-opacity:1;stroke-width:0.75;stroke-linecap:round;stroke-linejoin:round;stroke:rgb(100%,84.705882%,0%);stroke-opacity:1;stroke-miterlimit:10;\" d=\"M 398.585938 128.863281 L 401.757812 128.863281 L 401.757812 129.949219 L 398.585938 129.949219 Z M 398.585938 128.863281 \"/>\n",
       "<path style=\"fill-rule:nonzero;fill:rgb(100%,86.27451%,0%);fill-opacity:1;stroke-width:0.75;stroke-linecap:round;stroke-linejoin:round;stroke:rgb(100%,86.27451%,0%);stroke-opacity:1;stroke-miterlimit:10;\" d=\"M 398.585938 129.949219 L 401.757812 129.949219 L 401.757812 131.035156 L 398.585938 131.035156 Z M 398.585938 129.949219 \"/>\n",
       "<path style=\"fill-rule:nonzero;fill:rgb(100%,87.843137%,0%);fill-opacity:1;stroke-width:0.75;stroke-linecap:round;stroke-linejoin:round;stroke:rgb(100%,87.843137%,0%);stroke-opacity:1;stroke-miterlimit:10;\" d=\"M 398.585938 131.039062 L 401.757812 131.039062 L 401.757812 132.125 L 398.585938 132.125 Z M 398.585938 131.039062 \"/>\n",
       "<path style=\"fill-rule:nonzero;fill:rgb(100%,89.411765%,0%);fill-opacity:1;stroke-width:0.75;stroke-linecap:round;stroke-linejoin:round;stroke:rgb(100%,89.411765%,0%);stroke-opacity:1;stroke-miterlimit:10;\" d=\"M 398.585938 132.125 L 401.757812 132.125 L 401.757812 133.210938 L 398.585938 133.210938 Z M 398.585938 132.125 \"/>\n",
       "<path style=\"fill-rule:nonzero;fill:rgb(100%,90.980392%,0%);fill-opacity:1;stroke-width:0.75;stroke-linecap:round;stroke-linejoin:round;stroke:rgb(100%,90.980392%,0%);stroke-opacity:1;stroke-miterlimit:10;\" d=\"M 398.585938 133.214844 L 401.757812 133.214844 L 401.757812 134.300781 L 398.585938 134.300781 Z M 398.585938 133.214844 \"/>\n",
       "<path style=\"fill-rule:nonzero;fill:rgb(100%,92.54902%,0%);fill-opacity:1;stroke-width:0.75;stroke-linecap:round;stroke-linejoin:round;stroke:rgb(100%,92.54902%,0%);stroke-opacity:1;stroke-miterlimit:10;\" d=\"M 398.585938 134.300781 L 401.757812 134.300781 L 401.757812 135.386719 L 398.585938 135.386719 Z M 398.585938 134.300781 \"/>\n",
       "<path style=\"fill-rule:nonzero;fill:rgb(100%,94.117647%,0%);fill-opacity:1;stroke-width:0.75;stroke-linecap:round;stroke-linejoin:round;stroke:rgb(100%,94.117647%,0%);stroke-opacity:1;stroke-miterlimit:10;\" d=\"M 398.585938 135.386719 L 401.757812 135.386719 L 401.757812 136.472656 L 398.585938 136.472656 Z M 398.585938 135.386719 \"/>\n",
       "<path style=\"fill-rule:nonzero;fill:rgb(100%,95.686275%,0%);fill-opacity:1;stroke-width:0.75;stroke-linecap:round;stroke-linejoin:round;stroke:rgb(100%,95.686275%,0%);stroke-opacity:1;stroke-miterlimit:10;\" d=\"M 398.585938 136.476562 L 401.757812 136.476562 L 401.757812 137.5625 L 398.585938 137.5625 Z M 398.585938 136.476562 \"/>\n",
       "<path style=\"fill-rule:nonzero;fill:rgb(100%,97.254902%,0%);fill-opacity:1;stroke-width:0.75;stroke-linecap:round;stroke-linejoin:round;stroke:rgb(100%,97.254902%,0%);stroke-opacity:1;stroke-miterlimit:10;\" d=\"M 398.585938 137.5625 L 401.757812 137.5625 L 401.757812 138.648438 L 398.585938 138.648438 Z M 398.585938 137.5625 \"/>\n",
       "<path style=\"fill-rule:nonzero;fill:rgb(100%,98.823529%,0%);fill-opacity:1;stroke-width:0.75;stroke-linecap:round;stroke-linejoin:round;stroke:rgb(100%,98.823529%,0%);stroke-opacity:1;stroke-miterlimit:10;\" d=\"M 398.585938 138.652344 L 401.757812 138.652344 L 401.757812 139.738281 L 398.585938 139.738281 Z M 398.585938 138.652344 \"/>\n",
       "<path style=\"fill-rule:nonzero;fill:rgb(99.607843%,100%,0%);fill-opacity:1;stroke-width:0.75;stroke-linecap:round;stroke-linejoin:round;stroke:rgb(99.607843%,100%,0%);stroke-opacity:1;stroke-miterlimit:10;\" d=\"M 398.585938 139.738281 L 401.757812 139.738281 L 401.757812 140.824219 L 398.585938 140.824219 Z M 398.585938 139.738281 \"/>\n",
       "<path style=\"fill-rule:nonzero;fill:rgb(98.039216%,100%,0%);fill-opacity:1;stroke-width:0.75;stroke-linecap:round;stroke-linejoin:round;stroke:rgb(98.039216%,100%,0%);stroke-opacity:1;stroke-miterlimit:10;\" d=\"M 398.585938 140.824219 L 401.757812 140.824219 L 401.757812 141.910156 L 398.585938 141.910156 Z M 398.585938 140.824219 \"/>\n",
       "<path style=\"fill-rule:nonzero;fill:rgb(96.470588%,100%,0%);fill-opacity:1;stroke-width:0.75;stroke-linecap:round;stroke-linejoin:round;stroke:rgb(96.470588%,100%,0%);stroke-opacity:1;stroke-miterlimit:10;\" d=\"M 398.585938 141.914062 L 401.757812 141.914062 L 401.757812 143 L 398.585938 143 Z M 398.585938 141.914062 \"/>\n",
       "<path style=\"fill-rule:nonzero;fill:rgb(94.901961%,100%,0%);fill-opacity:1;stroke-width:0.75;stroke-linecap:round;stroke-linejoin:round;stroke:rgb(94.901961%,100%,0%);stroke-opacity:1;stroke-miterlimit:10;\" d=\"M 398.585938 143 L 401.757812 143 L 401.757812 144.085938 L 398.585938 144.085938 Z M 398.585938 143 \"/>\n",
       "<path style=\"fill-rule:nonzero;fill:rgb(93.333333%,100%,0%);fill-opacity:1;stroke-width:0.75;stroke-linecap:round;stroke-linejoin:round;stroke:rgb(93.333333%,100%,0%);stroke-opacity:1;stroke-miterlimit:10;\" d=\"M 398.585938 144.089844 L 401.757812 144.089844 L 401.757812 145.175781 L 398.585938 145.175781 Z M 398.585938 144.089844 \"/>\n",
       "<path style=\"fill-rule:nonzero;fill:rgb(91.764706%,100%,0%);fill-opacity:1;stroke-width:0.75;stroke-linecap:round;stroke-linejoin:round;stroke:rgb(91.764706%,100%,0%);stroke-opacity:1;stroke-miterlimit:10;\" d=\"M 398.585938 145.175781 L 401.757812 145.175781 L 401.757812 146.261719 L 398.585938 146.261719 Z M 398.585938 145.175781 \"/>\n",
       "<path style=\"fill-rule:nonzero;fill:rgb(90.196078%,100%,0%);fill-opacity:1;stroke-width:0.75;stroke-linecap:round;stroke-linejoin:round;stroke:rgb(90.196078%,100%,0%);stroke-opacity:1;stroke-miterlimit:10;\" d=\"M 398.585938 146.265625 L 401.757812 146.265625 L 401.757812 147.351562 L 398.585938 147.351562 Z M 398.585938 146.265625 \"/>\n",
       "<path style=\"fill-rule:nonzero;fill:rgb(88.627451%,100%,0%);fill-opacity:1;stroke-width:0.75;stroke-linecap:round;stroke-linejoin:round;stroke:rgb(88.627451%,100%,0%);stroke-opacity:1;stroke-miterlimit:10;\" d=\"M 398.585938 147.351562 L 401.757812 147.351562 L 401.757812 148.4375 L 398.585938 148.4375 Z M 398.585938 147.351562 \"/>\n",
       "<path style=\"fill-rule:nonzero;fill:rgb(87.058824%,100%,0%);fill-opacity:1;stroke-width:0.75;stroke-linecap:round;stroke-linejoin:round;stroke:rgb(87.058824%,100%,0%);stroke-opacity:1;stroke-miterlimit:10;\" d=\"M 398.585938 148.4375 L 401.757812 148.4375 L 401.757812 149.523438 L 398.585938 149.523438 Z M 398.585938 148.4375 \"/>\n",
       "<path style=\"fill-rule:nonzero;fill:rgb(85.490196%,100%,0%);fill-opacity:1;stroke-width:0.75;stroke-linecap:round;stroke-linejoin:round;stroke:rgb(85.490196%,100%,0%);stroke-opacity:1;stroke-miterlimit:10;\" d=\"M 398.585938 149.527344 L 401.757812 149.527344 L 401.757812 150.613281 L 398.585938 150.613281 Z M 398.585938 149.527344 \"/>\n",
       "<path style=\"fill-rule:nonzero;fill:rgb(83.921569%,100%,0%);fill-opacity:1;stroke-width:0.75;stroke-linecap:round;stroke-linejoin:round;stroke:rgb(83.921569%,100%,0%);stroke-opacity:1;stroke-miterlimit:10;\" d=\"M 398.585938 150.613281 L 401.757812 150.613281 L 401.757812 151.699219 L 398.585938 151.699219 Z M 398.585938 150.613281 \"/>\n",
       "<path style=\"fill-rule:nonzero;fill:rgb(82.352941%,100%,0%);fill-opacity:1;stroke-width:0.75;stroke-linecap:round;stroke-linejoin:round;stroke:rgb(82.352941%,100%,0%);stroke-opacity:1;stroke-miterlimit:10;\" d=\"M 398.585938 151.703125 L 401.757812 151.703125 L 401.757812 152.789062 L 398.585938 152.789062 Z M 398.585938 151.703125 \"/>\n",
       "<path style=\"fill-rule:nonzero;fill:rgb(80.784314%,100%,0%);fill-opacity:1;stroke-width:0.75;stroke-linecap:round;stroke-linejoin:round;stroke:rgb(80.784314%,100%,0%);stroke-opacity:1;stroke-miterlimit:10;\" d=\"M 398.585938 152.789062 L 401.757812 152.789062 L 401.757812 153.875 L 398.585938 153.875 Z M 398.585938 152.789062 \"/>\n",
       "<path style=\"fill-rule:nonzero;fill:rgb(79.215686%,100%,0%);fill-opacity:1;stroke-width:0.75;stroke-linecap:round;stroke-linejoin:round;stroke:rgb(79.215686%,100%,0%);stroke-opacity:1;stroke-miterlimit:10;\" d=\"M 398.585938 153.878906 L 401.757812 153.878906 L 401.757812 154.964844 L 398.585938 154.964844 Z M 398.585938 153.878906 \"/>\n",
       "<path style=\"fill-rule:nonzero;fill:rgb(77.647059%,100%,0%);fill-opacity:1;stroke-width:0.75;stroke-linecap:round;stroke-linejoin:round;stroke:rgb(77.647059%,100%,0%);stroke-opacity:1;stroke-miterlimit:10;\" d=\"M 398.585938 154.964844 L 401.757812 154.964844 L 401.757812 156.050781 L 398.585938 156.050781 Z M 398.585938 154.964844 \"/>\n",
       "<path style=\"fill-rule:nonzero;fill:rgb(76.078431%,100%,0%);fill-opacity:1;stroke-width:0.75;stroke-linecap:round;stroke-linejoin:round;stroke:rgb(76.078431%,100%,0%);stroke-opacity:1;stroke-miterlimit:10;\" d=\"M 398.585938 156.050781 L 401.757812 156.050781 L 401.757812 157.136719 L 398.585938 157.136719 Z M 398.585938 156.050781 \"/>\n",
       "<path style=\"fill-rule:nonzero;fill:rgb(74.509804%,100%,0%);fill-opacity:1;stroke-width:0.75;stroke-linecap:round;stroke-linejoin:round;stroke:rgb(74.509804%,100%,0%);stroke-opacity:1;stroke-miterlimit:10;\" d=\"M 398.585938 157.140625 L 401.757812 157.140625 L 401.757812 158.226562 L 398.585938 158.226562 Z M 398.585938 157.140625 \"/>\n",
       "<path style=\"fill-rule:nonzero;fill:rgb(72.941176%,100%,0%);fill-opacity:1;stroke-width:0.75;stroke-linecap:round;stroke-linejoin:round;stroke:rgb(72.941176%,100%,0%);stroke-opacity:1;stroke-miterlimit:10;\" d=\"M 398.585938 158.226562 L 401.757812 158.226562 L 401.757812 159.3125 L 398.585938 159.3125 Z M 398.585938 158.226562 \"/>\n",
       "<path style=\"fill-rule:nonzero;fill:rgb(71.372549%,100%,0%);fill-opacity:1;stroke-width:0.75;stroke-linecap:round;stroke-linejoin:round;stroke:rgb(71.372549%,100%,0%);stroke-opacity:1;stroke-miterlimit:10;\" d=\"M 398.585938 159.316406 L 401.757812 159.316406 L 401.757812 160.402344 L 398.585938 160.402344 Z M 398.585938 159.316406 \"/>\n",
       "<path style=\"fill-rule:nonzero;fill:rgb(69.803922%,100%,0%);fill-opacity:1;stroke-width:0.75;stroke-linecap:round;stroke-linejoin:round;stroke:rgb(69.803922%,100%,0%);stroke-opacity:1;stroke-miterlimit:10;\" d=\"M 398.585938 160.402344 L 401.757812 160.402344 L 401.757812 161.488281 L 398.585938 161.488281 Z M 398.585938 160.402344 \"/>\n",
       "<path style=\"fill-rule:nonzero;fill:rgb(68.235294%,100%,0%);fill-opacity:1;stroke-width:0.75;stroke-linecap:round;stroke-linejoin:round;stroke:rgb(68.235294%,100%,0%);stroke-opacity:1;stroke-miterlimit:10;\" d=\"M 398.585938 161.488281 L 401.757812 161.488281 L 401.757812 162.574219 L 398.585938 162.574219 Z M 398.585938 161.488281 \"/>\n",
       "<path style=\"fill-rule:nonzero;fill:rgb(66.666667%,100%,0%);fill-opacity:1;stroke-width:0.75;stroke-linecap:round;stroke-linejoin:round;stroke:rgb(66.666667%,100%,0%);stroke-opacity:1;stroke-miterlimit:10;\" d=\"M 398.585938 162.578125 L 401.757812 162.578125 L 401.757812 163.664062 L 398.585938 163.664062 Z M 398.585938 162.578125 \"/>\n",
       "<path style=\"fill-rule:nonzero;fill:rgb(65.098039%,100%,0%);fill-opacity:1;stroke-width:0.75;stroke-linecap:round;stroke-linejoin:round;stroke:rgb(65.098039%,100%,0%);stroke-opacity:1;stroke-miterlimit:10;\" d=\"M 398.585938 163.664062 L 401.757812 163.664062 L 401.757812 164.75 L 398.585938 164.75 Z M 398.585938 163.664062 \"/>\n",
       "<path style=\"fill-rule:nonzero;fill:rgb(63.529412%,100%,0%);fill-opacity:1;stroke-width:0.75;stroke-linecap:round;stroke-linejoin:round;stroke:rgb(63.529412%,100%,0%);stroke-opacity:1;stroke-miterlimit:10;\" d=\"M 398.585938 164.753906 L 401.757812 164.753906 L 401.757812 165.839844 L 398.585938 165.839844 Z M 398.585938 164.753906 \"/>\n",
       "<path style=\"fill-rule:nonzero;fill:rgb(61.960784%,100%,0%);fill-opacity:1;stroke-width:0.75;stroke-linecap:round;stroke-linejoin:round;stroke:rgb(61.960784%,100%,0%);stroke-opacity:1;stroke-miterlimit:10;\" d=\"M 398.585938 165.839844 L 401.757812 165.839844 L 401.757812 166.925781 L 398.585938 166.925781 Z M 398.585938 165.839844 \"/>\n",
       "<path style=\"fill-rule:nonzero;fill:rgb(60.392157%,100%,0%);fill-opacity:1;stroke-width:0.75;stroke-linecap:round;stroke-linejoin:round;stroke:rgb(60.392157%,100%,0%);stroke-opacity:1;stroke-miterlimit:10;\" d=\"M 398.585938 166.929688 L 401.757812 166.929688 L 401.757812 168.015625 L 398.585938 168.015625 Z M 398.585938 166.929688 \"/>\n",
       "<path style=\"fill-rule:nonzero;fill:rgb(58.823529%,100%,0%);fill-opacity:1;stroke-width:0.75;stroke-linecap:round;stroke-linejoin:round;stroke:rgb(58.823529%,100%,0%);stroke-opacity:1;stroke-miterlimit:10;\" d=\"M 398.585938 168.015625 L 401.757812 168.015625 L 401.757812 169.101562 L 398.585938 169.101562 Z M 398.585938 168.015625 \"/>\n",
       "<path style=\"fill-rule:nonzero;fill:rgb(57.254902%,100%,0%);fill-opacity:1;stroke-width:0.75;stroke-linecap:round;stroke-linejoin:round;stroke:rgb(57.254902%,100%,0%);stroke-opacity:1;stroke-miterlimit:10;\" d=\"M 398.585938 169.101562 L 401.757812 169.101562 L 401.757812 170.1875 L 398.585938 170.1875 Z M 398.585938 169.101562 \"/>\n",
       "<path style=\"fill-rule:nonzero;fill:rgb(55.686275%,100%,0%);fill-opacity:1;stroke-width:0.75;stroke-linecap:round;stroke-linejoin:round;stroke:rgb(55.686275%,100%,0%);stroke-opacity:1;stroke-miterlimit:10;\" d=\"M 398.585938 170.191406 L 401.757812 170.191406 L 401.757812 171.277344 L 398.585938 171.277344 Z M 398.585938 170.191406 \"/>\n",
       "<path style=\"fill-rule:nonzero;fill:rgb(54.117647%,100%,0%);fill-opacity:1;stroke-width:0.75;stroke-linecap:round;stroke-linejoin:round;stroke:rgb(54.117647%,100%,0%);stroke-opacity:1;stroke-miterlimit:10;\" d=\"M 398.585938 171.277344 L 401.757812 171.277344 L 401.757812 172.363281 L 398.585938 172.363281 Z M 398.585938 171.277344 \"/>\n",
       "<path style=\"fill-rule:nonzero;fill:rgb(52.54902%,100%,0%);fill-opacity:1;stroke-width:0.75;stroke-linecap:round;stroke-linejoin:round;stroke:rgb(52.54902%,100%,0%);stroke-opacity:1;stroke-miterlimit:10;\" d=\"M 398.585938 172.367188 L 401.757812 172.367188 L 401.757812 173.453125 L 398.585938 173.453125 Z M 398.585938 172.367188 \"/>\n",
       "<path style=\"fill-rule:nonzero;fill:rgb(50.980392%,100%,0%);fill-opacity:1;stroke-width:0.75;stroke-linecap:round;stroke-linejoin:round;stroke:rgb(50.980392%,100%,0%);stroke-opacity:1;stroke-miterlimit:10;\" d=\"M 398.585938 173.453125 L 401.757812 173.453125 L 401.757812 174.539062 L 398.585938 174.539062 Z M 398.585938 173.453125 \"/>\n",
       "<path style=\"fill-rule:nonzero;fill:rgb(49.411765%,100%,0%);fill-opacity:1;stroke-width:0.75;stroke-linecap:round;stroke-linejoin:round;stroke:rgb(49.411765%,100%,0%);stroke-opacity:1;stroke-miterlimit:10;\" d=\"M 398.585938 174.542969 L 401.757812 174.542969 L 401.757812 175.628906 L 398.585938 175.628906 Z M 398.585938 174.542969 \"/>\n",
       "<path style=\"fill-rule:nonzero;fill:rgb(47.843137%,100%,0%);fill-opacity:1;stroke-width:0.75;stroke-linecap:round;stroke-linejoin:round;stroke:rgb(47.843137%,100%,0%);stroke-opacity:1;stroke-miterlimit:10;\" d=\"M 398.585938 175.628906 L 401.757812 175.628906 L 401.757812 176.714844 L 398.585938 176.714844 Z M 398.585938 175.628906 \"/>\n",
       "<path style=\"fill-rule:nonzero;fill:rgb(46.27451%,100%,0%);fill-opacity:1;stroke-width:0.75;stroke-linecap:round;stroke-linejoin:round;stroke:rgb(46.27451%,100%,0%);stroke-opacity:1;stroke-miterlimit:10;\" d=\"M 398.585938 176.714844 L 401.757812 176.714844 L 401.757812 177.800781 L 398.585938 177.800781 Z M 398.585938 176.714844 \"/>\n",
       "<path style=\"fill-rule:nonzero;fill:rgb(44.705882%,100%,0%);fill-opacity:1;stroke-width:0.75;stroke-linecap:round;stroke-linejoin:round;stroke:rgb(44.705882%,100%,0%);stroke-opacity:1;stroke-miterlimit:10;\" d=\"M 398.585938 177.804688 L 401.757812 177.804688 L 401.757812 178.890625 L 398.585938 178.890625 Z M 398.585938 177.804688 \"/>\n",
       "<path style=\"fill-rule:nonzero;fill:rgb(43.137255%,100%,0%);fill-opacity:1;stroke-width:0.75;stroke-linecap:round;stroke-linejoin:round;stroke:rgb(43.137255%,100%,0%);stroke-opacity:1;stroke-miterlimit:10;\" d=\"M 398.585938 178.890625 L 401.757812 178.890625 L 401.757812 179.976562 L 398.585938 179.976562 Z M 398.585938 178.890625 \"/>\n",
       "<path style=\"fill-rule:nonzero;fill:rgb(41.568627%,100%,0%);fill-opacity:1;stroke-width:0.75;stroke-linecap:round;stroke-linejoin:round;stroke:rgb(41.568627%,100%,0%);stroke-opacity:1;stroke-miterlimit:10;\" d=\"M 398.585938 179.980469 L 401.757812 179.980469 L 401.757812 181.066406 L 398.585938 181.066406 Z M 398.585938 179.980469 \"/>\n",
       "<path style=\"fill-rule:nonzero;fill:rgb(40%,100%,0%);fill-opacity:1;stroke-width:0.75;stroke-linecap:round;stroke-linejoin:round;stroke:rgb(40%,100%,0%);stroke-opacity:1;stroke-miterlimit:10;\" d=\"M 398.585938 181.066406 L 401.757812 181.066406 L 401.757812 182.152344 L 398.585938 182.152344 Z M 398.585938 181.066406 \"/>\n",
       "<path style=\"fill-rule:nonzero;fill:rgb(38.431373%,100%,0%);fill-opacity:1;stroke-width:0.75;stroke-linecap:round;stroke-linejoin:round;stroke:rgb(38.431373%,100%,0%);stroke-opacity:1;stroke-miterlimit:10;\" d=\"M 398.585938 182.152344 L 401.757812 182.152344 L 401.757812 183.238281 L 398.585938 183.238281 Z M 398.585938 182.152344 \"/>\n",
       "<path style=\"fill-rule:nonzero;fill:rgb(36.862745%,100%,0%);fill-opacity:1;stroke-width:0.75;stroke-linecap:round;stroke-linejoin:round;stroke:rgb(36.862745%,100%,0%);stroke-opacity:1;stroke-miterlimit:10;\" d=\"M 398.585938 183.242188 L 401.757812 183.242188 L 401.757812 184.328125 L 398.585938 184.328125 Z M 398.585938 183.242188 \"/>\n",
       "<path style=\"fill-rule:nonzero;fill:rgb(35.294118%,100%,0%);fill-opacity:1;stroke-width:0.75;stroke-linecap:round;stroke-linejoin:round;stroke:rgb(35.294118%,100%,0%);stroke-opacity:1;stroke-miterlimit:10;\" d=\"M 398.585938 184.328125 L 401.757812 184.328125 L 401.757812 185.414062 L 398.585938 185.414062 Z M 398.585938 184.328125 \"/>\n",
       "<path style=\"fill-rule:nonzero;fill:rgb(33.72549%,100%,0%);fill-opacity:1;stroke-width:0.75;stroke-linecap:round;stroke-linejoin:round;stroke:rgb(33.72549%,100%,0%);stroke-opacity:1;stroke-miterlimit:10;\" d=\"M 398.585938 185.417969 L 401.757812 185.417969 L 401.757812 186.503906 L 398.585938 186.503906 Z M 398.585938 185.417969 \"/>\n",
       "<path style=\"fill-rule:nonzero;fill:rgb(32.156863%,100%,0%);fill-opacity:1;stroke-width:0.75;stroke-linecap:round;stroke-linejoin:round;stroke:rgb(32.156863%,100%,0%);stroke-opacity:1;stroke-miterlimit:10;\" d=\"M 398.585938 186.503906 L 401.757812 186.503906 L 401.757812 187.589844 L 398.585938 187.589844 Z M 398.585938 186.503906 \"/>\n",
       "<path style=\"fill-rule:nonzero;fill:rgb(30.588235%,100%,0%);fill-opacity:1;stroke-width:0.75;stroke-linecap:round;stroke-linejoin:round;stroke:rgb(30.588235%,100%,0%);stroke-opacity:1;stroke-miterlimit:10;\" d=\"M 398.585938 187.59375 L 401.757812 187.59375 L 401.757812 188.679688 L 398.585938 188.679688 Z M 398.585938 187.59375 \"/>\n",
       "<path style=\"fill-rule:nonzero;fill:rgb(29.019608%,100%,0%);fill-opacity:1;stroke-width:0.75;stroke-linecap:round;stroke-linejoin:round;stroke:rgb(29.019608%,100%,0%);stroke-opacity:1;stroke-miterlimit:10;\" d=\"M 398.585938 188.679688 L 401.757812 188.679688 L 401.757812 189.765625 L 398.585938 189.765625 Z M 398.585938 188.679688 \"/>\n",
       "<path style=\"fill-rule:nonzero;fill:rgb(27.45098%,100%,0%);fill-opacity:1;stroke-width:0.75;stroke-linecap:round;stroke-linejoin:round;stroke:rgb(27.45098%,100%,0%);stroke-opacity:1;stroke-miterlimit:10;\" d=\"M 398.585938 189.765625 L 401.757812 189.765625 L 401.757812 190.851562 L 398.585938 190.851562 Z M 398.585938 189.765625 \"/>\n",
       "<path style=\"fill-rule:nonzero;fill:rgb(25.882353%,100%,0%);fill-opacity:1;stroke-width:0.75;stroke-linecap:round;stroke-linejoin:round;stroke:rgb(25.882353%,100%,0%);stroke-opacity:1;stroke-miterlimit:10;\" d=\"M 398.585938 190.855469 L 401.757812 190.855469 L 401.757812 191.941406 L 398.585938 191.941406 Z M 398.585938 190.855469 \"/>\n",
       "<path style=\"fill-rule:nonzero;fill:rgb(24.313725%,100%,0%);fill-opacity:1;stroke-width:0.75;stroke-linecap:round;stroke-linejoin:round;stroke:rgb(24.313725%,100%,0%);stroke-opacity:1;stroke-miterlimit:10;\" d=\"M 398.585938 191.941406 L 401.757812 191.941406 L 401.757812 193.027344 L 398.585938 193.027344 Z M 398.585938 191.941406 \"/>\n",
       "<path style=\"fill-rule:nonzero;fill:rgb(22.745098%,100%,0%);fill-opacity:1;stroke-width:0.75;stroke-linecap:round;stroke-linejoin:round;stroke:rgb(22.745098%,100%,0%);stroke-opacity:1;stroke-miterlimit:10;\" d=\"M 398.585938 193.03125 L 401.757812 193.03125 L 401.757812 194.117188 L 398.585938 194.117188 Z M 398.585938 193.03125 \"/>\n",
       "<path style=\"fill-rule:nonzero;fill:rgb(21.176471%,100%,0%);fill-opacity:1;stroke-width:0.75;stroke-linecap:round;stroke-linejoin:round;stroke:rgb(21.176471%,100%,0%);stroke-opacity:1;stroke-miterlimit:10;\" d=\"M 398.585938 194.117188 L 401.757812 194.117188 L 401.757812 195.203125 L 398.585938 195.203125 Z M 398.585938 194.117188 \"/>\n",
       "<path style=\"fill-rule:nonzero;fill:rgb(19.607843%,100%,0%);fill-opacity:1;stroke-width:0.75;stroke-linecap:round;stroke-linejoin:round;stroke:rgb(19.607843%,100%,0%);stroke-opacity:1;stroke-miterlimit:10;\" d=\"M 398.585938 195.207031 L 401.757812 195.207031 L 401.757812 196.292969 L 398.585938 196.292969 Z M 398.585938 195.207031 \"/>\n",
       "<path style=\"fill-rule:nonzero;fill:rgb(18.039216%,100%,0%);fill-opacity:1;stroke-width:0.75;stroke-linecap:round;stroke-linejoin:round;stroke:rgb(18.039216%,100%,0%);stroke-opacity:1;stroke-miterlimit:10;\" d=\"M 398.585938 196.292969 L 401.757812 196.292969 L 401.757812 197.378906 L 398.585938 197.378906 Z M 398.585938 196.292969 \"/>\n",
       "<path style=\"fill-rule:nonzero;fill:rgb(16.470588%,100%,0%);fill-opacity:1;stroke-width:0.75;stroke-linecap:round;stroke-linejoin:round;stroke:rgb(16.470588%,100%,0%);stroke-opacity:1;stroke-miterlimit:10;\" d=\"M 398.585938 197.378906 L 401.757812 197.378906 L 401.757812 198.464844 L 398.585938 198.464844 Z M 398.585938 197.378906 \"/>\n",
       "<path style=\"fill-rule:nonzero;fill:rgb(14.901961%,100%,0%);fill-opacity:1;stroke-width:0.75;stroke-linecap:round;stroke-linejoin:round;stroke:rgb(14.901961%,100%,0%);stroke-opacity:1;stroke-miterlimit:10;\" d=\"M 398.585938 198.46875 L 401.757812 198.46875 L 401.757812 199.554688 L 398.585938 199.554688 Z M 398.585938 198.46875 \"/>\n",
       "<path style=\"fill-rule:nonzero;fill:rgb(13.333333%,100%,0%);fill-opacity:1;stroke-width:0.75;stroke-linecap:round;stroke-linejoin:round;stroke:rgb(13.333333%,100%,0%);stroke-opacity:1;stroke-miterlimit:10;\" d=\"M 398.585938 199.554688 L 401.757812 199.554688 L 401.757812 200.640625 L 398.585938 200.640625 Z M 398.585938 199.554688 \"/>\n",
       "<path style=\"fill-rule:nonzero;fill:rgb(11.764706%,100%,0%);fill-opacity:1;stroke-width:0.75;stroke-linecap:round;stroke-linejoin:round;stroke:rgb(11.764706%,100%,0%);stroke-opacity:1;stroke-miterlimit:10;\" d=\"M 398.585938 200.644531 L 401.757812 200.644531 L 401.757812 201.730469 L 398.585938 201.730469 Z M 398.585938 200.644531 \"/>\n",
       "<path style=\"fill-rule:nonzero;fill:rgb(10.196078%,100%,0%);fill-opacity:1;stroke-width:0.75;stroke-linecap:round;stroke-linejoin:round;stroke:rgb(10.196078%,100%,0%);stroke-opacity:1;stroke-miterlimit:10;\" d=\"M 398.585938 201.730469 L 401.757812 201.730469 L 401.757812 202.816406 L 398.585938 202.816406 Z M 398.585938 201.730469 \"/>\n",
       "<path style=\"fill-rule:nonzero;fill:rgb(8.627451%,100%,0%);fill-opacity:1;stroke-width:0.75;stroke-linecap:round;stroke-linejoin:round;stroke:rgb(8.627451%,100%,0%);stroke-opacity:1;stroke-miterlimit:10;\" d=\"M 398.585938 202.816406 L 401.757812 202.816406 L 401.757812 203.902344 L 398.585938 203.902344 Z M 398.585938 202.816406 \"/>\n",
       "<path style=\"fill-rule:nonzero;fill:rgb(7.058824%,100%,0%);fill-opacity:1;stroke-width:0.75;stroke-linecap:round;stroke-linejoin:round;stroke:rgb(7.058824%,100%,0%);stroke-opacity:1;stroke-miterlimit:10;\" d=\"M 398.585938 203.90625 L 401.757812 203.90625 L 401.757812 204.992188 L 398.585938 204.992188 Z M 398.585938 203.90625 \"/>\n",
       "<path style=\"fill-rule:nonzero;fill:rgb(5.490196%,100%,0%);fill-opacity:1;stroke-width:0.75;stroke-linecap:round;stroke-linejoin:round;stroke:rgb(5.490196%,100%,0%);stroke-opacity:1;stroke-miterlimit:10;\" d=\"M 398.585938 204.992188 L 401.757812 204.992188 L 401.757812 206.078125 L 398.585938 206.078125 Z M 398.585938 204.992188 \"/>\n",
       "<path style=\"fill-rule:nonzero;fill:rgb(3.921569%,100%,0%);fill-opacity:1;stroke-width:0.75;stroke-linecap:round;stroke-linejoin:round;stroke:rgb(3.921569%,100%,0%);stroke-opacity:1;stroke-miterlimit:10;\" d=\"M 398.585938 206.082031 L 401.757812 206.082031 L 401.757812 207.167969 L 398.585938 207.167969 Z M 398.585938 206.082031 \"/>\n",
       "<path style=\"fill-rule:nonzero;fill:rgb(2.352941%,100%,0%);fill-opacity:1;stroke-width:0.75;stroke-linecap:round;stroke-linejoin:round;stroke:rgb(2.352941%,100%,0%);stroke-opacity:1;stroke-miterlimit:10;\" d=\"M 398.585938 207.167969 L 401.757812 207.167969 L 401.757812 208.253906 L 398.585938 208.253906 Z M 398.585938 207.167969 \"/>\n",
       "<path style=\"fill-rule:nonzero;fill:rgb(0.784314%,100%,0%);fill-opacity:1;stroke-width:0.75;stroke-linecap:round;stroke-linejoin:round;stroke:rgb(0.784314%,100%,0%);stroke-opacity:1;stroke-miterlimit:10;\" d=\"M 398.585938 208.257812 L 401.757812 208.257812 L 401.757812 209.34375 L 398.585938 209.34375 Z M 398.585938 208.257812 \"/>\n",
       "<path style=\"fill-rule:nonzero;fill:rgb(0%,100%,0.784314%);fill-opacity:1;stroke-width:0.75;stroke-linecap:round;stroke-linejoin:round;stroke:rgb(0%,100%,0.784314%);stroke-opacity:1;stroke-miterlimit:10;\" d=\"M 398.585938 209.34375 L 401.757812 209.34375 L 401.757812 210.429688 L 398.585938 210.429688 Z M 398.585938 209.34375 \"/>\n",
       "<path style=\"fill-rule:nonzero;fill:rgb(0%,100%,2.352941%);fill-opacity:1;stroke-width:0.75;stroke-linecap:round;stroke-linejoin:round;stroke:rgb(0%,100%,2.352941%);stroke-opacity:1;stroke-miterlimit:10;\" d=\"M 398.585938 210.429688 L 401.757812 210.429688 L 401.757812 211.515625 L 398.585938 211.515625 Z M 398.585938 210.429688 \"/>\n",
       "<path style=\"fill-rule:nonzero;fill:rgb(0%,100%,3.921569%);fill-opacity:1;stroke-width:0.75;stroke-linecap:round;stroke-linejoin:round;stroke:rgb(0%,100%,3.921569%);stroke-opacity:1;stroke-miterlimit:10;\" d=\"M 398.585938 211.519531 L 401.757812 211.519531 L 401.757812 212.605469 L 398.585938 212.605469 Z M 398.585938 211.519531 \"/>\n",
       "<path style=\"fill-rule:nonzero;fill:rgb(0%,100%,5.490196%);fill-opacity:1;stroke-width:0.75;stroke-linecap:round;stroke-linejoin:round;stroke:rgb(0%,100%,5.490196%);stroke-opacity:1;stroke-miterlimit:10;\" d=\"M 398.585938 212.605469 L 401.757812 212.605469 L 401.757812 213.691406 L 398.585938 213.691406 Z M 398.585938 212.605469 \"/>\n",
       "<path style=\"fill-rule:nonzero;fill:rgb(0%,100%,7.058824%);fill-opacity:1;stroke-width:0.75;stroke-linecap:round;stroke-linejoin:round;stroke:rgb(0%,100%,7.058824%);stroke-opacity:1;stroke-miterlimit:10;\" d=\"M 398.585938 213.695312 L 401.757812 213.695312 L 401.757812 214.78125 L 398.585938 214.78125 Z M 398.585938 213.695312 \"/>\n",
       "<path style=\"fill-rule:nonzero;fill:rgb(0%,100%,8.627451%);fill-opacity:1;stroke-width:0.75;stroke-linecap:round;stroke-linejoin:round;stroke:rgb(0%,100%,8.627451%);stroke-opacity:1;stroke-miterlimit:10;\" d=\"M 398.585938 214.78125 L 401.757812 214.78125 L 401.757812 215.867188 L 398.585938 215.867188 Z M 398.585938 214.78125 \"/>\n",
       "<path style=\"fill-rule:nonzero;fill:rgb(0%,100%,10.196078%);fill-opacity:1;stroke-width:0.75;stroke-linecap:round;stroke-linejoin:round;stroke:rgb(0%,100%,10.196078%);stroke-opacity:1;stroke-miterlimit:10;\" d=\"M 398.585938 215.871094 L 401.757812 215.871094 L 401.757812 216.957031 L 398.585938 216.957031 Z M 398.585938 215.871094 \"/>\n",
       "<path style=\"fill-rule:nonzero;fill:rgb(0%,100%,11.764706%);fill-opacity:1;stroke-width:0.75;stroke-linecap:round;stroke-linejoin:round;stroke:rgb(0%,100%,11.764706%);stroke-opacity:1;stroke-miterlimit:10;\" d=\"M 398.585938 216.957031 L 401.757812 216.957031 L 401.757812 218.042969 L 398.585938 218.042969 Z M 398.585938 216.957031 \"/>\n",
       "<path style=\"fill-rule:nonzero;fill:rgb(0%,100%,13.333333%);fill-opacity:1;stroke-width:0.75;stroke-linecap:round;stroke-linejoin:round;stroke:rgb(0%,100%,13.333333%);stroke-opacity:1;stroke-miterlimit:10;\" d=\"M 398.585938 218.042969 L 401.757812 218.042969 L 401.757812 219.128906 L 398.585938 219.128906 Z M 398.585938 218.042969 \"/>\n",
       "<path style=\"fill-rule:nonzero;fill:rgb(0%,100%,14.901961%);fill-opacity:1;stroke-width:0.75;stroke-linecap:round;stroke-linejoin:round;stroke:rgb(0%,100%,14.901961%);stroke-opacity:1;stroke-miterlimit:10;\" d=\"M 398.585938 219.132812 L 401.757812 219.132812 L 401.757812 220.21875 L 398.585938 220.21875 Z M 398.585938 219.132812 \"/>\n",
       "<path style=\"fill-rule:nonzero;fill:rgb(0%,100%,16.470588%);fill-opacity:1;stroke-width:0.75;stroke-linecap:round;stroke-linejoin:round;stroke:rgb(0%,100%,16.470588%);stroke-opacity:1;stroke-miterlimit:10;\" d=\"M 398.585938 220.21875 L 401.757812 220.21875 L 401.757812 221.304688 L 398.585938 221.304688 Z M 398.585938 220.21875 \"/>\n",
       "<path style=\"fill-rule:nonzero;fill:rgb(0%,100%,18.039216%);fill-opacity:1;stroke-width:0.75;stroke-linecap:round;stroke-linejoin:round;stroke:rgb(0%,100%,18.039216%);stroke-opacity:1;stroke-miterlimit:10;\" d=\"M 398.585938 221.308594 L 401.757812 221.308594 L 401.757812 222.394531 L 398.585938 222.394531 Z M 398.585938 221.308594 \"/>\n",
       "<path style=\"fill-rule:nonzero;fill:rgb(0%,100%,19.607843%);fill-opacity:1;stroke-width:0.75;stroke-linecap:round;stroke-linejoin:round;stroke:rgb(0%,100%,19.607843%);stroke-opacity:1;stroke-miterlimit:10;\" d=\"M 398.585938 222.394531 L 401.757812 222.394531 L 401.757812 223.480469 L 398.585938 223.480469 Z M 398.585938 222.394531 \"/>\n",
       "<path style=\"fill-rule:nonzero;fill:rgb(0%,100%,21.176471%);fill-opacity:1;stroke-width:0.75;stroke-linecap:round;stroke-linejoin:round;stroke:rgb(0%,100%,21.176471%);stroke-opacity:1;stroke-miterlimit:10;\" d=\"M 398.585938 223.480469 L 401.757812 223.480469 L 401.757812 224.566406 L 398.585938 224.566406 Z M 398.585938 223.480469 \"/>\n",
       "<path style=\"fill-rule:nonzero;fill:rgb(0%,100%,22.745098%);fill-opacity:1;stroke-width:0.75;stroke-linecap:round;stroke-linejoin:round;stroke:rgb(0%,100%,22.745098%);stroke-opacity:1;stroke-miterlimit:10;\" d=\"M 398.585938 224.570312 L 401.757812 224.570312 L 401.757812 225.65625 L 398.585938 225.65625 Z M 398.585938 224.570312 \"/>\n",
       "<path style=\"fill-rule:nonzero;fill:rgb(0%,100%,24.313725%);fill-opacity:1;stroke-width:0.75;stroke-linecap:round;stroke-linejoin:round;stroke:rgb(0%,100%,24.313725%);stroke-opacity:1;stroke-miterlimit:10;\" d=\"M 398.585938 225.65625 L 401.757812 225.65625 L 401.757812 226.742188 L 398.585938 226.742188 Z M 398.585938 225.65625 \"/>\n",
       "<path style=\"fill-rule:nonzero;fill:rgb(0%,100%,25.882353%);fill-opacity:1;stroke-width:0.75;stroke-linecap:round;stroke-linejoin:round;stroke:rgb(0%,100%,25.882353%);stroke-opacity:1;stroke-miterlimit:10;\" d=\"M 398.585938 226.746094 L 401.757812 226.746094 L 401.757812 227.832031 L 398.585938 227.832031 Z M 398.585938 226.746094 \"/>\n",
       "<path style=\"fill-rule:nonzero;fill:rgb(0%,100%,27.45098%);fill-opacity:1;stroke-width:0.75;stroke-linecap:round;stroke-linejoin:round;stroke:rgb(0%,100%,27.45098%);stroke-opacity:1;stroke-miterlimit:10;\" d=\"M 398.585938 227.832031 L 401.757812 227.832031 L 401.757812 228.917969 L 398.585938 228.917969 Z M 398.585938 227.832031 \"/>\n",
       "<path style=\"fill-rule:nonzero;fill:rgb(0%,100%,29.019608%);fill-opacity:1;stroke-width:0.75;stroke-linecap:round;stroke-linejoin:round;stroke:rgb(0%,100%,29.019608%);stroke-opacity:1;stroke-miterlimit:10;\" d=\"M 398.585938 228.921875 L 401.757812 228.921875 L 401.757812 230.007812 L 398.585938 230.007812 Z M 398.585938 228.921875 \"/>\n",
       "<path style=\"fill-rule:nonzero;fill:rgb(0%,100%,30.588235%);fill-opacity:1;stroke-width:0.75;stroke-linecap:round;stroke-linejoin:round;stroke:rgb(0%,100%,30.588235%);stroke-opacity:1;stroke-miterlimit:10;\" d=\"M 398.585938 230.007812 L 401.757812 230.007812 L 401.757812 231.09375 L 398.585938 231.09375 Z M 398.585938 230.007812 \"/>\n",
       "<path style=\"fill-rule:nonzero;fill:rgb(0%,100%,32.156863%);fill-opacity:1;stroke-width:0.75;stroke-linecap:round;stroke-linejoin:round;stroke:rgb(0%,100%,32.156863%);stroke-opacity:1;stroke-miterlimit:10;\" d=\"M 398.585938 231.09375 L 401.757812 231.09375 L 401.757812 232.179688 L 398.585938 232.179688 Z M 398.585938 231.09375 \"/>\n",
       "<path style=\"fill-rule:nonzero;fill:rgb(0%,100%,33.72549%);fill-opacity:1;stroke-width:0.75;stroke-linecap:round;stroke-linejoin:round;stroke:rgb(0%,100%,33.72549%);stroke-opacity:1;stroke-miterlimit:10;\" d=\"M 398.585938 232.183594 L 401.757812 232.183594 L 401.757812 233.269531 L 398.585938 233.269531 Z M 398.585938 232.183594 \"/>\n",
       "<path style=\"fill-rule:nonzero;fill:rgb(0%,100%,35.294118%);fill-opacity:1;stroke-width:0.75;stroke-linecap:round;stroke-linejoin:round;stroke:rgb(0%,100%,35.294118%);stroke-opacity:1;stroke-miterlimit:10;\" d=\"M 398.585938 233.269531 L 401.757812 233.269531 L 401.757812 234.355469 L 398.585938 234.355469 Z M 398.585938 233.269531 \"/>\n",
       "<path style=\"fill-rule:nonzero;fill:rgb(0%,100%,36.862745%);fill-opacity:1;stroke-width:0.75;stroke-linecap:round;stroke-linejoin:round;stroke:rgb(0%,100%,36.862745%);stroke-opacity:1;stroke-miterlimit:10;\" d=\"M 398.585938 234.359375 L 401.757812 234.359375 L 401.757812 235.445312 L 398.585938 235.445312 Z M 398.585938 234.359375 \"/>\n",
       "<path style=\"fill-rule:nonzero;fill:rgb(0%,100%,38.431373%);fill-opacity:1;stroke-width:0.75;stroke-linecap:round;stroke-linejoin:round;stroke:rgb(0%,100%,38.431373%);stroke-opacity:1;stroke-miterlimit:10;\" d=\"M 398.585938 235.445312 L 401.757812 235.445312 L 401.757812 236.53125 L 398.585938 236.53125 Z M 398.585938 235.445312 \"/>\n",
       "<path style=\"fill-rule:nonzero;fill:rgb(0%,100%,40%);fill-opacity:1;stroke-width:0.75;stroke-linecap:round;stroke-linejoin:round;stroke:rgb(0%,100%,40%);stroke-opacity:1;stroke-miterlimit:10;\" d=\"M 398.585938 236.535156 L 401.757812 236.535156 L 401.757812 237.621094 L 398.585938 237.621094 Z M 398.585938 236.535156 \"/>\n",
       "<path style=\"fill-rule:nonzero;fill:rgb(0%,100%,41.568627%);fill-opacity:1;stroke-width:0.75;stroke-linecap:round;stroke-linejoin:round;stroke:rgb(0%,100%,41.568627%);stroke-opacity:1;stroke-miterlimit:10;\" d=\"M 398.585938 237.621094 L 401.757812 237.621094 L 401.757812 238.707031 L 398.585938 238.707031 Z M 398.585938 237.621094 \"/>\n",
       "<path style=\"fill-rule:nonzero;fill:rgb(0%,100%,43.137255%);fill-opacity:1;stroke-width:0.75;stroke-linecap:round;stroke-linejoin:round;stroke:rgb(0%,100%,43.137255%);stroke-opacity:1;stroke-miterlimit:10;\" d=\"M 398.585938 238.707031 L 401.757812 238.707031 L 401.757812 239.792969 L 398.585938 239.792969 Z M 398.585938 238.707031 \"/>\n",
       "<path style=\"fill-rule:nonzero;fill:rgb(0%,100%,44.705882%);fill-opacity:1;stroke-width:0.75;stroke-linecap:round;stroke-linejoin:round;stroke:rgb(0%,100%,44.705882%);stroke-opacity:1;stroke-miterlimit:10;\" d=\"M 398.585938 239.796875 L 401.757812 239.796875 L 401.757812 240.882812 L 398.585938 240.882812 Z M 398.585938 239.796875 \"/>\n",
       "<path style=\"fill-rule:nonzero;fill:rgb(0%,100%,46.27451%);fill-opacity:1;stroke-width:0.75;stroke-linecap:round;stroke-linejoin:round;stroke:rgb(0%,100%,46.27451%);stroke-opacity:1;stroke-miterlimit:10;\" d=\"M 398.585938 240.882812 L 401.757812 240.882812 L 401.757812 241.96875 L 398.585938 241.96875 Z M 398.585938 240.882812 \"/>\n",
       "<path style=\"fill-rule:nonzero;fill:rgb(0%,100%,47.843137%);fill-opacity:1;stroke-width:0.75;stroke-linecap:round;stroke-linejoin:round;stroke:rgb(0%,100%,47.843137%);stroke-opacity:1;stroke-miterlimit:10;\" d=\"M 398.585938 241.972656 L 401.757812 241.972656 L 401.757812 243.058594 L 398.585938 243.058594 Z M 398.585938 241.972656 \"/>\n",
       "<path style=\"fill-rule:nonzero;fill:rgb(0%,100%,49.411765%);fill-opacity:1;stroke-width:0.75;stroke-linecap:round;stroke-linejoin:round;stroke:rgb(0%,100%,49.411765%);stroke-opacity:1;stroke-miterlimit:10;\" d=\"M 398.585938 243.058594 L 401.757812 243.058594 L 401.757812 244.144531 L 398.585938 244.144531 Z M 398.585938 243.058594 \"/>\n",
       "<path style=\"fill-rule:nonzero;fill:rgb(0%,100%,50.980392%);fill-opacity:1;stroke-width:0.75;stroke-linecap:round;stroke-linejoin:round;stroke:rgb(0%,100%,50.980392%);stroke-opacity:1;stroke-miterlimit:10;\" d=\"M 398.585938 244.144531 L 401.757812 244.144531 L 401.757812 245.230469 L 398.585938 245.230469 Z M 398.585938 244.144531 \"/>\n",
       "<path style=\"fill-rule:nonzero;fill:rgb(0%,100%,52.54902%);fill-opacity:1;stroke-width:0.75;stroke-linecap:round;stroke-linejoin:round;stroke:rgb(0%,100%,52.54902%);stroke-opacity:1;stroke-miterlimit:10;\" d=\"M 398.585938 245.234375 L 401.757812 245.234375 L 401.757812 246.320312 L 398.585938 246.320312 Z M 398.585938 245.234375 \"/>\n",
       "<path style=\"fill-rule:nonzero;fill:rgb(0%,100%,54.117647%);fill-opacity:1;stroke-width:0.75;stroke-linecap:round;stroke-linejoin:round;stroke:rgb(0%,100%,54.117647%);stroke-opacity:1;stroke-miterlimit:10;\" d=\"M 398.585938 246.320312 L 401.757812 246.320312 L 401.757812 247.40625 L 398.585938 247.40625 Z M 398.585938 246.320312 \"/>\n",
       "<path style=\"fill-rule:nonzero;fill:rgb(0%,100%,55.686275%);fill-opacity:1;stroke-width:0.75;stroke-linecap:round;stroke-linejoin:round;stroke:rgb(0%,100%,55.686275%);stroke-opacity:1;stroke-miterlimit:10;\" d=\"M 398.585938 247.410156 L 401.757812 247.410156 L 401.757812 248.496094 L 398.585938 248.496094 Z M 398.585938 247.410156 \"/>\n",
       "<path style=\"fill-rule:nonzero;fill:rgb(0%,100%,57.254902%);fill-opacity:1;stroke-width:0.75;stroke-linecap:round;stroke-linejoin:round;stroke:rgb(0%,100%,57.254902%);stroke-opacity:1;stroke-miterlimit:10;\" d=\"M 398.585938 248.496094 L 401.757812 248.496094 L 401.757812 249.582031 L 398.585938 249.582031 Z M 398.585938 248.496094 \"/>\n",
       "<path style=\"fill-rule:nonzero;fill:rgb(0%,100%,58.823529%);fill-opacity:1;stroke-width:0.75;stroke-linecap:round;stroke-linejoin:round;stroke:rgb(0%,100%,58.823529%);stroke-opacity:1;stroke-miterlimit:10;\" d=\"M 398.585938 249.585938 L 401.757812 249.585938 L 401.757812 250.671875 L 398.585938 250.671875 Z M 398.585938 249.585938 \"/>\n",
       "<path style=\"fill-rule:nonzero;fill:rgb(0%,100%,60.392157%);fill-opacity:1;stroke-width:0.75;stroke-linecap:round;stroke-linejoin:round;stroke:rgb(0%,100%,60.392157%);stroke-opacity:1;stroke-miterlimit:10;\" d=\"M 398.585938 250.671875 L 401.757812 250.671875 L 401.757812 251.757812 L 398.585938 251.757812 Z M 398.585938 250.671875 \"/>\n",
       "<path style=\"fill-rule:nonzero;fill:rgb(0%,100%,61.960784%);fill-opacity:1;stroke-width:0.75;stroke-linecap:round;stroke-linejoin:round;stroke:rgb(0%,100%,61.960784%);stroke-opacity:1;stroke-miterlimit:10;\" d=\"M 398.585938 251.757812 L 401.757812 251.757812 L 401.757812 252.84375 L 398.585938 252.84375 Z M 398.585938 251.757812 \"/>\n",
       "<path style=\"fill-rule:nonzero;fill:rgb(0%,100%,63.529412%);fill-opacity:1;stroke-width:0.75;stroke-linecap:round;stroke-linejoin:round;stroke:rgb(0%,100%,63.529412%);stroke-opacity:1;stroke-miterlimit:10;\" d=\"M 398.585938 252.847656 L 401.757812 252.847656 L 401.757812 253.933594 L 398.585938 253.933594 Z M 398.585938 252.847656 \"/>\n",
       "<path style=\"fill-rule:nonzero;fill:rgb(0%,100%,65.098039%);fill-opacity:1;stroke-width:0.75;stroke-linecap:round;stroke-linejoin:round;stroke:rgb(0%,100%,65.098039%);stroke-opacity:1;stroke-miterlimit:10;\" d=\"M 398.585938 253.933594 L 401.757812 253.933594 L 401.757812 255.019531 L 398.585938 255.019531 Z M 398.585938 253.933594 \"/>\n",
       "<path style=\"fill-rule:nonzero;fill:rgb(0%,100%,66.666667%);fill-opacity:1;stroke-width:0.75;stroke-linecap:round;stroke-linejoin:round;stroke:rgb(0%,100%,66.666667%);stroke-opacity:1;stroke-miterlimit:10;\" d=\"M 398.585938 255.023438 L 401.757812 255.023438 L 401.757812 256.109375 L 398.585938 256.109375 Z M 398.585938 255.023438 \"/>\n",
       "<path style=\"fill-rule:nonzero;fill:rgb(0%,100%,68.235294%);fill-opacity:1;stroke-width:0.75;stroke-linecap:round;stroke-linejoin:round;stroke:rgb(0%,100%,68.235294%);stroke-opacity:1;stroke-miterlimit:10;\" d=\"M 398.585938 256.109375 L 401.757812 256.109375 L 401.757812 257.195312 L 398.585938 257.195312 Z M 398.585938 256.109375 \"/>\n",
       "<path style=\"fill-rule:nonzero;fill:rgb(0%,100%,69.803922%);fill-opacity:1;stroke-width:0.75;stroke-linecap:round;stroke-linejoin:round;stroke:rgb(0%,100%,69.803922%);stroke-opacity:1;stroke-miterlimit:10;\" d=\"M 398.585938 257.199219 L 401.757812 257.199219 L 401.757812 258.285156 L 398.585938 258.285156 Z M 398.585938 257.199219 \"/>\n",
       "<path style=\"fill-rule:nonzero;fill:rgb(0%,100%,71.372549%);fill-opacity:1;stroke-width:0.75;stroke-linecap:round;stroke-linejoin:round;stroke:rgb(0%,100%,71.372549%);stroke-opacity:1;stroke-miterlimit:10;\" d=\"M 398.585938 258.285156 L 401.757812 258.285156 L 401.757812 259.371094 L 398.585938 259.371094 Z M 398.585938 258.285156 \"/>\n",
       "<path style=\"fill-rule:nonzero;fill:rgb(0%,100%,72.941176%);fill-opacity:1;stroke-width:0.75;stroke-linecap:round;stroke-linejoin:round;stroke:rgb(0%,100%,72.941176%);stroke-opacity:1;stroke-miterlimit:10;\" d=\"M 398.585938 259.371094 L 401.757812 259.371094 L 401.757812 260.457031 L 398.585938 260.457031 Z M 398.585938 259.371094 \"/>\n",
       "<path style=\"fill-rule:nonzero;fill:rgb(0%,100%,74.509804%);fill-opacity:1;stroke-width:0.75;stroke-linecap:round;stroke-linejoin:round;stroke:rgb(0%,100%,74.509804%);stroke-opacity:1;stroke-miterlimit:10;\" d=\"M 398.585938 260.460938 L 401.757812 260.460938 L 401.757812 261.546875 L 398.585938 261.546875 Z M 398.585938 260.460938 \"/>\n",
       "<path style=\"fill-rule:nonzero;fill:rgb(0%,100%,76.078431%);fill-opacity:1;stroke-width:0.75;stroke-linecap:round;stroke-linejoin:round;stroke:rgb(0%,100%,76.078431%);stroke-opacity:1;stroke-miterlimit:10;\" d=\"M 398.585938 261.546875 L 401.757812 261.546875 L 401.757812 262.632812 L 398.585938 262.632812 Z M 398.585938 261.546875 \"/>\n",
       "<path style=\"fill-rule:nonzero;fill:rgb(0%,100%,77.647059%);fill-opacity:1;stroke-width:0.75;stroke-linecap:round;stroke-linejoin:round;stroke:rgb(0%,100%,77.647059%);stroke-opacity:1;stroke-miterlimit:10;\" d=\"M 398.585938 262.636719 L 401.757812 262.636719 L 401.757812 263.722656 L 398.585938 263.722656 Z M 398.585938 262.636719 \"/>\n",
       "<path style=\"fill-rule:nonzero;fill:rgb(0%,100%,79.215686%);fill-opacity:1;stroke-width:0.75;stroke-linecap:round;stroke-linejoin:round;stroke:rgb(0%,100%,79.215686%);stroke-opacity:1;stroke-miterlimit:10;\" d=\"M 398.585938 263.722656 L 401.757812 263.722656 L 401.757812 264.808594 L 398.585938 264.808594 Z M 398.585938 263.722656 \"/>\n",
       "<path style=\"fill-rule:nonzero;fill:rgb(0%,100%,80.784314%);fill-opacity:1;stroke-width:0.75;stroke-linecap:round;stroke-linejoin:round;stroke:rgb(0%,100%,80.784314%);stroke-opacity:1;stroke-miterlimit:10;\" d=\"M 398.585938 264.808594 L 401.757812 264.808594 L 401.757812 265.894531 L 398.585938 265.894531 Z M 398.585938 264.808594 \"/>\n",
       "<path style=\"fill-rule:nonzero;fill:rgb(0%,100%,82.352941%);fill-opacity:1;stroke-width:0.75;stroke-linecap:round;stroke-linejoin:round;stroke:rgb(0%,100%,82.352941%);stroke-opacity:1;stroke-miterlimit:10;\" d=\"M 398.585938 265.898438 L 401.757812 265.898438 L 401.757812 266.984375 L 398.585938 266.984375 Z M 398.585938 265.898438 \"/>\n",
       "<path style=\"fill-rule:nonzero;fill:rgb(0%,100%,83.921569%);fill-opacity:1;stroke-width:0.75;stroke-linecap:round;stroke-linejoin:round;stroke:rgb(0%,100%,83.921569%);stroke-opacity:1;stroke-miterlimit:10;\" d=\"M 398.585938 266.984375 L 401.757812 266.984375 L 401.757812 268.070312 L 398.585938 268.070312 Z M 398.585938 266.984375 \"/>\n",
       "<path style=\"fill-rule:nonzero;fill:rgb(0%,100%,85.490196%);fill-opacity:1;stroke-width:0.75;stroke-linecap:round;stroke-linejoin:round;stroke:rgb(0%,100%,85.490196%);stroke-opacity:1;stroke-miterlimit:10;\" d=\"M 398.585938 268.074219 L 401.757812 268.074219 L 401.757812 269.160156 L 398.585938 269.160156 Z M 398.585938 268.074219 \"/>\n",
       "<path style=\"fill-rule:nonzero;fill:rgb(0%,100%,87.058824%);fill-opacity:1;stroke-width:0.75;stroke-linecap:round;stroke-linejoin:round;stroke:rgb(0%,100%,87.058824%);stroke-opacity:1;stroke-miterlimit:10;\" d=\"M 398.585938 269.160156 L 401.757812 269.160156 L 401.757812 270.246094 L 398.585938 270.246094 Z M 398.585938 269.160156 \"/>\n",
       "<path style=\"fill-rule:nonzero;fill:rgb(0%,100%,88.627451%);fill-opacity:1;stroke-width:0.75;stroke-linecap:round;stroke-linejoin:round;stroke:rgb(0%,100%,88.627451%);stroke-opacity:1;stroke-miterlimit:10;\" d=\"M 398.585938 270.25 L 401.757812 270.25 L 401.757812 271.335938 L 398.585938 271.335938 Z M 398.585938 270.25 \"/>\n",
       "<path style=\"fill-rule:nonzero;fill:rgb(0%,100%,90.196078%);fill-opacity:1;stroke-width:0.75;stroke-linecap:round;stroke-linejoin:round;stroke:rgb(0%,100%,90.196078%);stroke-opacity:1;stroke-miterlimit:10;\" d=\"M 398.585938 271.335938 L 401.757812 271.335938 L 401.757812 272.421875 L 398.585938 272.421875 Z M 398.585938 271.335938 \"/>\n",
       "<path style=\"fill-rule:nonzero;fill:rgb(0%,100%,91.764706%);fill-opacity:1;stroke-width:0.75;stroke-linecap:round;stroke-linejoin:round;stroke:rgb(0%,100%,91.764706%);stroke-opacity:1;stroke-miterlimit:10;\" d=\"M 398.585938 272.421875 L 401.757812 272.421875 L 401.757812 273.507812 L 398.585938 273.507812 Z M 398.585938 272.421875 \"/>\n",
       "<path style=\"fill-rule:nonzero;fill:rgb(0%,100%,93.333333%);fill-opacity:1;stroke-width:0.75;stroke-linecap:round;stroke-linejoin:round;stroke:rgb(0%,100%,93.333333%);stroke-opacity:1;stroke-miterlimit:10;\" d=\"M 398.585938 273.511719 L 401.757812 273.511719 L 401.757812 274.597656 L 398.585938 274.597656 Z M 398.585938 273.511719 \"/>\n",
       "<path style=\"fill-rule:nonzero;fill:rgb(0%,100%,94.901961%);fill-opacity:1;stroke-width:0.75;stroke-linecap:round;stroke-linejoin:round;stroke:rgb(0%,100%,94.901961%);stroke-opacity:1;stroke-miterlimit:10;\" d=\"M 398.585938 274.597656 L 401.757812 274.597656 L 401.757812 275.683594 L 398.585938 275.683594 Z M 398.585938 274.597656 \"/>\n",
       "<path style=\"fill-rule:nonzero;fill:rgb(0%,100%,96.470588%);fill-opacity:1;stroke-width:0.75;stroke-linecap:round;stroke-linejoin:round;stroke:rgb(0%,100%,96.470588%);stroke-opacity:1;stroke-miterlimit:10;\" d=\"M 398.585938 275.6875 L 401.757812 275.6875 L 401.757812 276.773438 L 398.585938 276.773438 Z M 398.585938 275.6875 \"/>\n",
       "<path style=\"fill-rule:nonzero;fill:rgb(0%,100%,98.039216%);fill-opacity:1;stroke-width:0.75;stroke-linecap:round;stroke-linejoin:round;stroke:rgb(0%,100%,98.039216%);stroke-opacity:1;stroke-miterlimit:10;\" d=\"M 398.585938 276.773438 L 401.757812 276.773438 L 401.757812 277.859375 L 398.585938 277.859375 Z M 398.585938 276.773438 \"/>\n",
       "<path style=\"fill-rule:nonzero;fill:rgb(0%,100%,99.607843%);fill-opacity:1;stroke-width:0.75;stroke-linecap:round;stroke-linejoin:round;stroke:rgb(0%,100%,99.607843%);stroke-opacity:1;stroke-miterlimit:10;\" d=\"M 398.585938 277.863281 L 401.757812 277.863281 L 401.757812 278.949219 L 398.585938 278.949219 Z M 398.585938 277.863281 \"/>\n",
       "<path style=\"fill-rule:nonzero;fill:rgb(0%,98.823529%,100%);fill-opacity:1;stroke-width:0.75;stroke-linecap:round;stroke-linejoin:round;stroke:rgb(0%,98.823529%,100%);stroke-opacity:1;stroke-miterlimit:10;\" d=\"M 398.585938 278.949219 L 401.757812 278.949219 L 401.757812 280.035156 L 398.585938 280.035156 Z M 398.585938 278.949219 \"/>\n",
       "<path style=\"fill-rule:nonzero;fill:rgb(0%,97.254902%,100%);fill-opacity:1;stroke-width:0.75;stroke-linecap:round;stroke-linejoin:round;stroke:rgb(0%,97.254902%,100%);stroke-opacity:1;stroke-miterlimit:10;\" d=\"M 398.585938 280.035156 L 401.757812 280.035156 L 401.757812 281.121094 L 398.585938 281.121094 Z M 398.585938 280.035156 \"/>\n",
       "<path style=\"fill-rule:nonzero;fill:rgb(0%,95.686275%,100%);fill-opacity:1;stroke-width:0.75;stroke-linecap:round;stroke-linejoin:round;stroke:rgb(0%,95.686275%,100%);stroke-opacity:1;stroke-miterlimit:10;\" d=\"M 398.585938 281.125 L 401.757812 281.125 L 401.757812 282.210938 L 398.585938 282.210938 Z M 398.585938 281.125 \"/>\n",
       "<path style=\"fill-rule:nonzero;fill:rgb(0%,94.117647%,100%);fill-opacity:1;stroke-width:0.75;stroke-linecap:round;stroke-linejoin:round;stroke:rgb(0%,94.117647%,100%);stroke-opacity:1;stroke-miterlimit:10;\" d=\"M 398.585938 282.210938 L 401.757812 282.210938 L 401.757812 283.296875 L 398.585938 283.296875 Z M 398.585938 282.210938 \"/>\n",
       "<path style=\"fill-rule:nonzero;fill:rgb(0%,92.54902%,100%);fill-opacity:1;stroke-width:0.75;stroke-linecap:round;stroke-linejoin:round;stroke:rgb(0%,92.54902%,100%);stroke-opacity:1;stroke-miterlimit:10;\" d=\"M 398.585938 283.300781 L 401.757812 283.300781 L 401.757812 284.386719 L 398.585938 284.386719 Z M 398.585938 283.300781 \"/>\n",
       "<path style=\"fill-rule:nonzero;fill:rgb(0%,90.980392%,100%);fill-opacity:1;stroke-width:0.75;stroke-linecap:round;stroke-linejoin:round;stroke:rgb(0%,90.980392%,100%);stroke-opacity:1;stroke-miterlimit:10;\" d=\"M 398.585938 284.386719 L 401.757812 284.386719 L 401.757812 285.472656 L 398.585938 285.472656 Z M 398.585938 284.386719 \"/>\n",
       "<path style=\"fill-rule:nonzero;fill:rgb(0%,89.411765%,100%);fill-opacity:1;stroke-width:0.75;stroke-linecap:round;stroke-linejoin:round;stroke:rgb(0%,89.411765%,100%);stroke-opacity:1;stroke-miterlimit:10;\" d=\"M 398.585938 285.472656 L 401.757812 285.472656 L 401.757812 286.558594 L 398.585938 286.558594 Z M 398.585938 285.472656 \"/>\n",
       "<path style=\"fill-rule:nonzero;fill:rgb(0%,87.843137%,100%);fill-opacity:1;stroke-width:0.75;stroke-linecap:round;stroke-linejoin:round;stroke:rgb(0%,87.843137%,100%);stroke-opacity:1;stroke-miterlimit:10;\" d=\"M 398.585938 286.5625 L 401.757812 286.5625 L 401.757812 287.648438 L 398.585938 287.648438 Z M 398.585938 286.5625 \"/>\n",
       "<path style=\"fill-rule:nonzero;fill:rgb(0%,86.27451%,100%);fill-opacity:1;stroke-width:0.75;stroke-linecap:round;stroke-linejoin:round;stroke:rgb(0%,86.27451%,100%);stroke-opacity:1;stroke-miterlimit:10;\" d=\"M 398.585938 287.648438 L 401.757812 287.648438 L 401.757812 288.734375 L 398.585938 288.734375 Z M 398.585938 287.648438 \"/>\n",
       "<path style=\"fill-rule:nonzero;fill:rgb(0%,84.705882%,100%);fill-opacity:1;stroke-width:0.75;stroke-linecap:round;stroke-linejoin:round;stroke:rgb(0%,84.705882%,100%);stroke-opacity:1;stroke-miterlimit:10;\" d=\"M 398.585938 288.738281 L 401.757812 288.738281 L 401.757812 289.824219 L 398.585938 289.824219 Z M 398.585938 288.738281 \"/>\n",
       "<path style=\"fill-rule:nonzero;fill:rgb(0%,83.137255%,100%);fill-opacity:1;stroke-width:0.75;stroke-linecap:round;stroke-linejoin:round;stroke:rgb(0%,83.137255%,100%);stroke-opacity:1;stroke-miterlimit:10;\" d=\"M 398.585938 289.824219 L 401.757812 289.824219 L 401.757812 290.910156 L 398.585938 290.910156 Z M 398.585938 289.824219 \"/>\n",
       "<path style=\"fill-rule:nonzero;fill:rgb(0%,81.568627%,100%);fill-opacity:1;stroke-width:0.75;stroke-linecap:round;stroke-linejoin:round;stroke:rgb(0%,81.568627%,100%);stroke-opacity:1;stroke-miterlimit:10;\" d=\"M 398.585938 290.914062 L 401.757812 290.914062 L 401.757812 292 L 398.585938 292 Z M 398.585938 290.914062 \"/>\n",
       "<path style=\"fill-rule:nonzero;fill:rgb(0%,80%,100%);fill-opacity:1;stroke-width:0.75;stroke-linecap:round;stroke-linejoin:round;stroke:rgb(0%,80%,100%);stroke-opacity:1;stroke-miterlimit:10;\" d=\"M 398.585938 292 L 401.757812 292 L 401.757812 293.085938 L 398.585938 293.085938 Z M 398.585938 292 \"/>\n",
       "<path style=\"fill-rule:nonzero;fill:rgb(0%,78.431373%,100%);fill-opacity:1;stroke-width:0.75;stroke-linecap:round;stroke-linejoin:round;stroke:rgb(0%,78.431373%,100%);stroke-opacity:1;stroke-miterlimit:10;\" d=\"M 398.585938 293.085938 L 401.757812 293.085938 L 401.757812 294.171875 L 398.585938 294.171875 Z M 398.585938 293.085938 \"/>\n",
       "<path style=\"fill-rule:nonzero;fill:rgb(0%,76.862745%,100%);fill-opacity:1;stroke-width:0.75;stroke-linecap:round;stroke-linejoin:round;stroke:rgb(0%,76.862745%,100%);stroke-opacity:1;stroke-miterlimit:10;\" d=\"M 398.585938 294.175781 L 401.757812 294.175781 L 401.757812 295.261719 L 398.585938 295.261719 Z M 398.585938 294.175781 \"/>\n",
       "<path style=\"fill-rule:nonzero;fill:rgb(0%,75.294118%,100%);fill-opacity:1;stroke-width:0.75;stroke-linecap:round;stroke-linejoin:round;stroke:rgb(0%,75.294118%,100%);stroke-opacity:1;stroke-miterlimit:10;\" d=\"M 398.585938 295.261719 L 401.757812 295.261719 L 401.757812 296.347656 L 398.585938 296.347656 Z M 398.585938 295.261719 \"/>\n",
       "<path style=\"fill-rule:nonzero;fill:rgb(0%,73.72549%,100%);fill-opacity:1;stroke-width:0.75;stroke-linecap:round;stroke-linejoin:round;stroke:rgb(0%,73.72549%,100%);stroke-opacity:1;stroke-miterlimit:10;\" d=\"M 398.585938 296.351562 L 401.757812 296.351562 L 401.757812 297.4375 L 398.585938 297.4375 Z M 398.585938 296.351562 \"/>\n",
       "<path style=\"fill-rule:nonzero;fill:rgb(0%,72.156863%,100%);fill-opacity:1;stroke-width:0.75;stroke-linecap:round;stroke-linejoin:round;stroke:rgb(0%,72.156863%,100%);stroke-opacity:1;stroke-miterlimit:10;\" d=\"M 398.585938 297.4375 L 401.757812 297.4375 L 401.757812 298.523438 L 398.585938 298.523438 Z M 398.585938 297.4375 \"/>\n",
       "<path style=\"fill-rule:nonzero;fill:rgb(0%,70.588235%,100%);fill-opacity:1;stroke-width:0.75;stroke-linecap:round;stroke-linejoin:round;stroke:rgb(0%,70.588235%,100%);stroke-opacity:1;stroke-miterlimit:10;\" d=\"M 398.585938 298.527344 L 401.757812 298.527344 L 401.757812 299.613281 L 398.585938 299.613281 Z M 398.585938 298.527344 \"/>\n",
       "<path style=\"fill-rule:nonzero;fill:rgb(0%,69.019608%,100%);fill-opacity:1;stroke-width:0.75;stroke-linecap:round;stroke-linejoin:round;stroke:rgb(0%,69.019608%,100%);stroke-opacity:1;stroke-miterlimit:10;\" d=\"M 398.585938 299.613281 L 401.757812 299.613281 L 401.757812 300.699219 L 398.585938 300.699219 Z M 398.585938 299.613281 \"/>\n",
       "<path style=\"fill-rule:nonzero;fill:rgb(0%,67.45098%,100%);fill-opacity:1;stroke-width:0.75;stroke-linecap:round;stroke-linejoin:round;stroke:rgb(0%,67.45098%,100%);stroke-opacity:1;stroke-miterlimit:10;\" d=\"M 398.585938 300.699219 L 401.757812 300.699219 L 401.757812 301.785156 L 398.585938 301.785156 Z M 398.585938 300.699219 \"/>\n",
       "<path style=\"fill-rule:nonzero;fill:rgb(0%,65.882353%,100%);fill-opacity:1;stroke-width:0.75;stroke-linecap:round;stroke-linejoin:round;stroke:rgb(0%,65.882353%,100%);stroke-opacity:1;stroke-miterlimit:10;\" d=\"M 398.585938 301.789062 L 401.757812 301.789062 L 401.757812 302.875 L 398.585938 302.875 Z M 398.585938 301.789062 \"/>\n",
       "<path style=\"fill-rule:nonzero;fill:rgb(0%,64.313725%,100%);fill-opacity:1;stroke-width:0.75;stroke-linecap:round;stroke-linejoin:round;stroke:rgb(0%,64.313725%,100%);stroke-opacity:1;stroke-miterlimit:10;\" d=\"M 398.585938 302.875 L 401.757812 302.875 L 401.757812 303.960938 L 398.585938 303.960938 Z M 398.585938 302.875 \"/>\n",
       "<path style=\"fill-rule:nonzero;fill:rgb(0%,62.745098%,100%);fill-opacity:1;stroke-width:0.75;stroke-linecap:round;stroke-linejoin:round;stroke:rgb(0%,62.745098%,100%);stroke-opacity:1;stroke-miterlimit:10;\" d=\"M 398.585938 303.964844 L 401.757812 303.964844 L 401.757812 305.050781 L 398.585938 305.050781 Z M 398.585938 303.964844 \"/>\n",
       "<path style=\"fill-rule:nonzero;fill:rgb(0%,61.176471%,100%);fill-opacity:1;stroke-width:0.75;stroke-linecap:round;stroke-linejoin:round;stroke:rgb(0%,61.176471%,100%);stroke-opacity:1;stroke-miterlimit:10;\" d=\"M 398.585938 305.050781 L 401.757812 305.050781 L 401.757812 306.136719 L 398.585938 306.136719 Z M 398.585938 305.050781 \"/>\n",
       "<path style=\"fill-rule:nonzero;fill:rgb(0%,59.607843%,100%);fill-opacity:1;stroke-width:0.75;stroke-linecap:round;stroke-linejoin:round;stroke:rgb(0%,59.607843%,100%);stroke-opacity:1;stroke-miterlimit:10;\" d=\"M 398.585938 306.136719 L 401.757812 306.136719 L 401.757812 307.222656 L 398.585938 307.222656 Z M 398.585938 306.136719 \"/>\n",
       "<path style=\"fill-rule:nonzero;fill:rgb(0%,58.039216%,100%);fill-opacity:1;stroke-width:0.75;stroke-linecap:round;stroke-linejoin:round;stroke:rgb(0%,58.039216%,100%);stroke-opacity:1;stroke-miterlimit:10;\" d=\"M 398.585938 307.226562 L 401.757812 307.226562 L 401.757812 308.3125 L 398.585938 308.3125 Z M 398.585938 307.226562 \"/>\n",
       "<path style=\"fill-rule:nonzero;fill:rgb(0%,56.470588%,100%);fill-opacity:1;stroke-width:0.75;stroke-linecap:round;stroke-linejoin:round;stroke:rgb(0%,56.470588%,100%);stroke-opacity:1;stroke-miterlimit:10;\" d=\"M 398.585938 308.3125 L 401.757812 308.3125 L 401.757812 309.398438 L 398.585938 309.398438 Z M 398.585938 308.3125 \"/>\n",
       "<path style=\"fill-rule:nonzero;fill:rgb(0%,54.901961%,100%);fill-opacity:1;stroke-width:0.75;stroke-linecap:round;stroke-linejoin:round;stroke:rgb(0%,54.901961%,100%);stroke-opacity:1;stroke-miterlimit:10;\" d=\"M 398.585938 309.402344 L 401.757812 309.402344 L 401.757812 310.488281 L 398.585938 310.488281 Z M 398.585938 309.402344 \"/>\n",
       "<path style=\"fill-rule:nonzero;fill:rgb(0%,53.333333%,100%);fill-opacity:1;stroke-width:0.75;stroke-linecap:round;stroke-linejoin:round;stroke:rgb(0%,53.333333%,100%);stroke-opacity:1;stroke-miterlimit:10;\" d=\"M 398.585938 310.488281 L 401.757812 310.488281 L 401.757812 311.574219 L 398.585938 311.574219 Z M 398.585938 310.488281 \"/>\n",
       "<path style=\"fill-rule:nonzero;fill:rgb(0%,51.764706%,100%);fill-opacity:1;stroke-width:0.75;stroke-linecap:round;stroke-linejoin:round;stroke:rgb(0%,51.764706%,100%);stroke-opacity:1;stroke-miterlimit:10;\" d=\"M 398.585938 311.578125 L 401.757812 311.578125 L 401.757812 312.664062 L 398.585938 312.664062 Z M 398.585938 311.578125 \"/>\n",
       "<path style=\"fill-rule:nonzero;fill:rgb(0%,50.196078%,100%);fill-opacity:1;stroke-width:0.75;stroke-linecap:round;stroke-linejoin:round;stroke:rgb(0%,50.196078%,100%);stroke-opacity:1;stroke-miterlimit:10;\" d=\"M 398.585938 312.664062 L 401.757812 312.664062 L 401.757812 313.75 L 398.585938 313.75 Z M 398.585938 312.664062 \"/>\n",
       "<path style=\"fill-rule:nonzero;fill:rgb(0%,48.627451%,100%);fill-opacity:1;stroke-width:0.75;stroke-linecap:round;stroke-linejoin:round;stroke:rgb(0%,48.627451%,100%);stroke-opacity:1;stroke-miterlimit:10;\" d=\"M 398.585938 313.75 L 401.757812 313.75 L 401.757812 314.835938 L 398.585938 314.835938 Z M 398.585938 313.75 \"/>\n",
       "<path style=\"fill-rule:nonzero;fill:rgb(0%,47.058824%,100%);fill-opacity:1;stroke-width:0.75;stroke-linecap:round;stroke-linejoin:round;stroke:rgb(0%,47.058824%,100%);stroke-opacity:1;stroke-miterlimit:10;\" d=\"M 398.585938 314.839844 L 401.757812 314.839844 L 401.757812 315.925781 L 398.585938 315.925781 Z M 398.585938 314.839844 \"/>\n",
       "<path style=\"fill-rule:nonzero;fill:rgb(0%,45.490196%,100%);fill-opacity:1;stroke-width:0.75;stroke-linecap:round;stroke-linejoin:round;stroke:rgb(0%,45.490196%,100%);stroke-opacity:1;stroke-miterlimit:10;\" d=\"M 398.585938 315.925781 L 401.757812 315.925781 L 401.757812 317.011719 L 398.585938 317.011719 Z M 398.585938 315.925781 \"/>\n",
       "<path style=\"fill-rule:nonzero;fill:rgb(0%,43.921569%,100%);fill-opacity:1;stroke-width:0.75;stroke-linecap:round;stroke-linejoin:round;stroke:rgb(0%,43.921569%,100%);stroke-opacity:1;stroke-miterlimit:10;\" d=\"M 398.585938 317.015625 L 401.757812 317.015625 L 401.757812 318.101562 L 398.585938 318.101562 Z M 398.585938 317.015625 \"/>\n",
       "<path style=\"fill-rule:nonzero;fill:rgb(0%,42.352941%,100%);fill-opacity:1;stroke-width:0.75;stroke-linecap:round;stroke-linejoin:round;stroke:rgb(0%,42.352941%,100%);stroke-opacity:1;stroke-miterlimit:10;\" d=\"M 398.585938 318.101562 L 401.757812 318.101562 L 401.757812 319.1875 L 398.585938 319.1875 Z M 398.585938 318.101562 \"/>\n",
       "<path style=\"fill-rule:nonzero;fill:rgb(0%,40.784314%,100%);fill-opacity:1;stroke-width:0.75;stroke-linecap:round;stroke-linejoin:round;stroke:rgb(0%,40.784314%,100%);stroke-opacity:1;stroke-miterlimit:10;\" d=\"M 398.585938 319.191406 L 401.757812 319.191406 L 401.757812 320.277344 L 398.585938 320.277344 Z M 398.585938 319.191406 \"/>\n",
       "<path style=\"fill-rule:nonzero;fill:rgb(0%,39.215686%,100%);fill-opacity:1;stroke-width:0.75;stroke-linecap:round;stroke-linejoin:round;stroke:rgb(0%,39.215686%,100%);stroke-opacity:1;stroke-miterlimit:10;\" d=\"M 398.585938 320.277344 L 401.757812 320.277344 L 401.757812 321.363281 L 398.585938 321.363281 Z M 398.585938 320.277344 \"/>\n",
       "<path style=\"fill-rule:nonzero;fill:rgb(0%,37.647059%,100%);fill-opacity:1;stroke-width:0.75;stroke-linecap:round;stroke-linejoin:round;stroke:rgb(0%,37.647059%,100%);stroke-opacity:1;stroke-miterlimit:10;\" d=\"M 398.585938 321.363281 L 401.757812 321.363281 L 401.757812 322.449219 L 398.585938 322.449219 Z M 398.585938 321.363281 \"/>\n",
       "<path style=\"fill-rule:nonzero;fill:rgb(0%,36.078431%,100%);fill-opacity:1;stroke-width:0.75;stroke-linecap:round;stroke-linejoin:round;stroke:rgb(0%,36.078431%,100%);stroke-opacity:1;stroke-miterlimit:10;\" d=\"M 398.585938 322.453125 L 401.757812 322.453125 L 401.757812 323.539062 L 398.585938 323.539062 Z M 398.585938 322.453125 \"/>\n",
       "<path style=\"fill-rule:nonzero;fill:rgb(0%,34.509804%,100%);fill-opacity:1;stroke-width:0.75;stroke-linecap:round;stroke-linejoin:round;stroke:rgb(0%,34.509804%,100%);stroke-opacity:1;stroke-miterlimit:10;\" d=\"M 398.585938 323.539062 L 401.757812 323.539062 L 401.757812 324.625 L 398.585938 324.625 Z M 398.585938 323.539062 \"/>\n",
       "<path style=\"fill-rule:nonzero;fill:rgb(0%,32.941176%,100%);fill-opacity:1;stroke-width:0.75;stroke-linecap:round;stroke-linejoin:round;stroke:rgb(0%,32.941176%,100%);stroke-opacity:1;stroke-miterlimit:10;\" d=\"M 398.585938 324.628906 L 401.757812 324.628906 L 401.757812 325.714844 L 398.585938 325.714844 Z M 398.585938 324.628906 \"/>\n",
       "<path style=\"fill-rule:nonzero;fill:rgb(0%,31.372549%,100%);fill-opacity:1;stroke-width:0.75;stroke-linecap:round;stroke-linejoin:round;stroke:rgb(0%,31.372549%,100%);stroke-opacity:1;stroke-miterlimit:10;\" d=\"M 398.585938 325.714844 L 401.757812 325.714844 L 401.757812 326.800781 L 398.585938 326.800781 Z M 398.585938 325.714844 \"/>\n",
       "<path style=\"fill-rule:nonzero;fill:rgb(0%,29.803922%,100%);fill-opacity:1;stroke-width:0.75;stroke-linecap:round;stroke-linejoin:round;stroke:rgb(0%,29.803922%,100%);stroke-opacity:1;stroke-miterlimit:10;\" d=\"M 398.585938 326.800781 L 401.757812 326.800781 L 401.757812 327.886719 L 398.585938 327.886719 Z M 398.585938 326.800781 \"/>\n",
       "<path style=\"fill-rule:nonzero;fill:rgb(0%,28.235294%,100%);fill-opacity:1;stroke-width:0.75;stroke-linecap:round;stroke-linejoin:round;stroke:rgb(0%,28.235294%,100%);stroke-opacity:1;stroke-miterlimit:10;\" d=\"M 398.585938 327.890625 L 401.757812 327.890625 L 401.757812 328.976562 L 398.585938 328.976562 Z M 398.585938 327.890625 \"/>\n",
       "<path style=\"fill-rule:nonzero;fill:rgb(0%,26.666667%,100%);fill-opacity:1;stroke-width:0.75;stroke-linecap:round;stroke-linejoin:round;stroke:rgb(0%,26.666667%,100%);stroke-opacity:1;stroke-miterlimit:10;\" d=\"M 398.585938 328.976562 L 401.757812 328.976562 L 401.757812 330.0625 L 398.585938 330.0625 Z M 398.585938 328.976562 \"/>\n",
       "<path style=\"fill-rule:nonzero;fill:rgb(0%,25.098039%,100%);fill-opacity:1;stroke-width:0.75;stroke-linecap:round;stroke-linejoin:round;stroke:rgb(0%,25.098039%,100%);stroke-opacity:1;stroke-miterlimit:10;\" d=\"M 398.585938 330.066406 L 401.757812 330.066406 L 401.757812 331.152344 L 398.585938 331.152344 Z M 398.585938 330.066406 \"/>\n",
       "<path style=\"fill-rule:nonzero;fill:rgb(0%,23.529412%,100%);fill-opacity:1;stroke-width:0.75;stroke-linecap:round;stroke-linejoin:round;stroke:rgb(0%,23.529412%,100%);stroke-opacity:1;stroke-miterlimit:10;\" d=\"M 398.585938 331.152344 L 401.757812 331.152344 L 401.757812 332.238281 L 398.585938 332.238281 Z M 398.585938 331.152344 \"/>\n",
       "<path style=\"fill-rule:nonzero;fill:rgb(0%,21.960784%,100%);fill-opacity:1;stroke-width:0.75;stroke-linecap:round;stroke-linejoin:round;stroke:rgb(0%,21.960784%,100%);stroke-opacity:1;stroke-miterlimit:10;\" d=\"M 398.585938 332.242188 L 401.757812 332.242188 L 401.757812 333.328125 L 398.585938 333.328125 Z M 398.585938 332.242188 \"/>\n",
       "<path style=\"fill-rule:nonzero;fill:rgb(0%,20.392157%,100%);fill-opacity:1;stroke-width:0.75;stroke-linecap:round;stroke-linejoin:round;stroke:rgb(0%,20.392157%,100%);stroke-opacity:1;stroke-miterlimit:10;\" d=\"M 398.585938 333.328125 L 401.757812 333.328125 L 401.757812 334.414062 L 398.585938 334.414062 Z M 398.585938 333.328125 \"/>\n",
       "<path style=\"fill-rule:nonzero;fill:rgb(0%,18.823529%,100%);fill-opacity:1;stroke-width:0.75;stroke-linecap:round;stroke-linejoin:round;stroke:rgb(0%,18.823529%,100%);stroke-opacity:1;stroke-miterlimit:10;\" d=\"M 398.585938 334.414062 L 401.757812 334.414062 L 401.757812 335.5 L 398.585938 335.5 Z M 398.585938 334.414062 \"/>\n",
       "<path style=\"fill-rule:nonzero;fill:rgb(0%,17.254902%,100%);fill-opacity:1;stroke-width:0.75;stroke-linecap:round;stroke-linejoin:round;stroke:rgb(0%,17.254902%,100%);stroke-opacity:1;stroke-miterlimit:10;\" d=\"M 398.585938 335.503906 L 401.757812 335.503906 L 401.757812 336.589844 L 398.585938 336.589844 Z M 398.585938 335.503906 \"/>\n",
       "<path style=\"fill-rule:nonzero;fill:rgb(0%,15.686275%,100%);fill-opacity:1;stroke-width:0.75;stroke-linecap:round;stroke-linejoin:round;stroke:rgb(0%,15.686275%,100%);stroke-opacity:1;stroke-miterlimit:10;\" d=\"M 398.585938 336.589844 L 401.757812 336.589844 L 401.757812 337.675781 L 398.585938 337.675781 Z M 398.585938 336.589844 \"/>\n",
       "<path style=\"fill-rule:nonzero;fill:rgb(0%,14.117647%,100%);fill-opacity:1;stroke-width:0.75;stroke-linecap:round;stroke-linejoin:round;stroke:rgb(0%,14.117647%,100%);stroke-opacity:1;stroke-miterlimit:10;\" d=\"M 398.585938 337.679688 L 401.757812 337.679688 L 401.757812 338.765625 L 398.585938 338.765625 Z M 398.585938 337.679688 \"/>\n",
       "<path style=\"fill-rule:nonzero;fill:rgb(0%,12.54902%,100%);fill-opacity:1;stroke-width:0.75;stroke-linecap:round;stroke-linejoin:round;stroke:rgb(0%,12.54902%,100%);stroke-opacity:1;stroke-miterlimit:10;\" d=\"M 398.585938 338.765625 L 401.757812 338.765625 L 401.757812 339.851562 L 398.585938 339.851562 Z M 398.585938 338.765625 \"/>\n",
       "<path style=\"fill-rule:nonzero;fill:rgb(0%,10.980392%,100%);fill-opacity:1;stroke-width:0.75;stroke-linecap:round;stroke-linejoin:round;stroke:rgb(0%,10.980392%,100%);stroke-opacity:1;stroke-miterlimit:10;\" d=\"M 398.585938 339.855469 L 401.757812 339.855469 L 401.757812 340.941406 L 398.585938 340.941406 Z M 398.585938 339.855469 \"/>\n",
       "<path style=\"fill-rule:nonzero;fill:rgb(0%,9.411765%,100%);fill-opacity:1;stroke-width:0.75;stroke-linecap:round;stroke-linejoin:round;stroke:rgb(0%,9.411765%,100%);stroke-opacity:1;stroke-miterlimit:10;\" d=\"M 398.585938 340.941406 L 401.757812 340.941406 L 401.757812 342.027344 L 398.585938 342.027344 Z M 398.585938 340.941406 \"/>\n",
       "<path style=\"fill-rule:nonzero;fill:rgb(0%,7.843137%,100%);fill-opacity:1;stroke-width:0.75;stroke-linecap:round;stroke-linejoin:round;stroke:rgb(0%,7.843137%,100%);stroke-opacity:1;stroke-miterlimit:10;\" d=\"M 398.585938 342.027344 L 401.757812 342.027344 L 401.757812 343.113281 L 398.585938 343.113281 Z M 398.585938 342.027344 \"/>\n",
       "<path style=\"fill-rule:nonzero;fill:rgb(0%,6.27451%,100%);fill-opacity:1;stroke-width:0.75;stroke-linecap:round;stroke-linejoin:round;stroke:rgb(0%,6.27451%,100%);stroke-opacity:1;stroke-miterlimit:10;\" d=\"M 398.585938 343.117188 L 401.757812 343.117188 L 401.757812 344.203125 L 398.585938 344.203125 Z M 398.585938 343.117188 \"/>\n",
       "<path style=\"fill-rule:nonzero;fill:rgb(0%,4.705882%,100%);fill-opacity:1;stroke-width:0.75;stroke-linecap:round;stroke-linejoin:round;stroke:rgb(0%,4.705882%,100%);stroke-opacity:1;stroke-miterlimit:10;\" d=\"M 398.585938 344.203125 L 401.757812 344.203125 L 401.757812 345.289062 L 398.585938 345.289062 Z M 398.585938 344.203125 \"/>\n",
       "<path style=\"fill-rule:nonzero;fill:rgb(0%,3.137255%,100%);fill-opacity:1;stroke-width:0.75;stroke-linecap:round;stroke-linejoin:round;stroke:rgb(0%,3.137255%,100%);stroke-opacity:1;stroke-miterlimit:10;\" d=\"M 398.585938 345.292969 L 401.757812 345.292969 L 401.757812 346.378906 L 398.585938 346.378906 Z M 398.585938 345.292969 \"/>\n",
       "<path style=\"fill-rule:nonzero;fill:rgb(0%,1.568627%,100%);fill-opacity:1;stroke-width:0.75;stroke-linecap:round;stroke-linejoin:round;stroke:rgb(0%,1.568627%,100%);stroke-opacity:1;stroke-miterlimit:10;\" d=\"M 398.585938 346.378906 L 401.757812 346.378906 L 401.757812 347.464844 L 398.585938 347.464844 Z M 398.585938 346.378906 \"/>\n",
       "<path style=\"fill-rule:nonzero;fill:rgb(0%,0%,100%);fill-opacity:1;stroke-width:0.75;stroke-linecap:round;stroke-linejoin:round;stroke:rgb(0%,0%,100%);stroke-opacity:1;stroke-miterlimit:10;\" d=\"M 398.585938 347.464844 L 401.757812 347.464844 L 401.757812 348.550781 L 398.585938 348.550781 Z M 398.585938 347.464844 \"/>\n",
       "<path style=\"fill:none;stroke-width:0.75;stroke-linecap:round;stroke-linejoin:round;stroke:rgb(0%,0%,0%);stroke-opacity:1;stroke-miterlimit:10;\" d=\"M 59.039062 358.558594 L 401.761719 358.558594 L 401.761719 59.039062 L 59.039062 59.039062 L 59.039062 358.558594 \"/>\n",
       "<path style=\"fill:none;stroke-width:0.75;stroke-linecap:round;stroke-linejoin:round;stroke:rgb(100%,0%,0%);stroke-opacity:1;stroke-miterlimit:10;\" d=\"M 71.734375 347.464844 L 71.734375 336.375 \"/>\n",
       "<path style=\"fill:none;stroke-width:0.75;stroke-linecap:round;stroke-linejoin:round;stroke:rgb(100%,6.27451%,0%);stroke-opacity:1;stroke-miterlimit:10;\" d=\"M 71.734375 336.375 L 71.734375 325.28125 \"/>\n",
       "<path style=\"fill:none;stroke-width:0.75;stroke-linecap:round;stroke-linejoin:round;stroke:rgb(100%,23.529412%,0%);stroke-opacity:1;stroke-miterlimit:10;\" d=\"M 71.734375 325.28125 L 76.023438 325.28125 \"/>\n",
       "<path style=\"fill:none;stroke-width:0.75;stroke-linecap:round;stroke-linejoin:round;stroke:rgb(100%,50.196078%,0%);stroke-opacity:1;stroke-miterlimit:10;\" d=\"M 76.023438 325.28125 L 76.023438 314.1875 \"/>\n",
       "<path style=\"fill:none;stroke-width:0.75;stroke-linecap:round;stroke-linejoin:round;stroke:rgb(100%,92.54902%,0%);stroke-opacity:1;stroke-miterlimit:10;\" d=\"M 76.023438 314.1875 L 76.023438 303.09375 \"/>\n",
       "<path style=\"fill:none;stroke-width:0.75;stroke-linecap:round;stroke-linejoin:round;stroke:rgb(100%,92.54902%,0%);stroke-opacity:1;stroke-miterlimit:10;\" d=\"M 76.023438 303.09375 L 76.023438 292 \"/>\n",
       "<path style=\"fill:none;stroke-width:0.75;stroke-linecap:round;stroke-linejoin:round;stroke:rgb(96.470588%,100%,0%);stroke-opacity:1;stroke-miterlimit:10;\" d=\"M 76.023438 292 L 76.023438 269.8125 \"/>\n",
       "<path style=\"fill:none;stroke-width:0.75;stroke-linecap:round;stroke-linejoin:round;stroke:rgb(83.921569%,100%,0%);stroke-opacity:1;stroke-miterlimit:10;\" d=\"M 76.023438 269.8125 L 76.023438 258.71875 \"/>\n",
       "<path style=\"fill:none;stroke-width:0.75;stroke-linecap:round;stroke-linejoin:round;stroke:rgb(79.215686%,100%,0%);stroke-opacity:1;stroke-miterlimit:10;\" d=\"M 76.023438 258.71875 L 76.023438 247.625 \"/>\n",
       "<path style=\"fill:none;stroke-width:0.75;stroke-linecap:round;stroke-linejoin:round;stroke:rgb(58.823529%,100%,0%);stroke-opacity:1;stroke-miterlimit:10;\" d=\"M 76.023438 247.625 L 80.308594 247.625 \"/>\n",
       "<path style=\"fill:none;stroke-width:0.75;stroke-linecap:round;stroke-linejoin:round;stroke:rgb(43.137255%,100%,0%);stroke-opacity:1;stroke-miterlimit:10;\" d=\"M 80.308594 247.625 L 80.308594 236.535156 \"/>\n",
       "<path style=\"fill:none;stroke-width:0.75;stroke-linecap:round;stroke-linejoin:round;stroke:rgb(38.431373%,100%,0%);stroke-opacity:1;stroke-miterlimit:10;\" d=\"M 80.308594 236.535156 L 84.597656 236.535156 \"/>\n",
       "<path style=\"fill:none;stroke-width:0.75;stroke-linecap:round;stroke-linejoin:round;stroke:rgb(24.313725%,100%,0%);stroke-opacity:1;stroke-miterlimit:10;\" d=\"M 84.597656 236.535156 L 88.886719 236.535156 \"/>\n",
       "<path style=\"fill:none;stroke-width:0.75;stroke-linecap:round;stroke-linejoin:round;stroke:rgb(0%,100%,0.784314%);stroke-opacity:1;stroke-miterlimit:10;\" d=\"M 88.886719 236.535156 L 93.175781 225.441406 \"/>\n",
       "<path style=\"fill:none;stroke-width:0.75;stroke-linecap:round;stroke-linejoin:round;stroke:rgb(0%,100%,30.588235%);stroke-opacity:1;stroke-miterlimit:10;\" d=\"M 93.175781 225.441406 L 93.175781 214.347656 \"/>\n",
       "<path style=\"fill:none;stroke-width:0.75;stroke-linecap:round;stroke-linejoin:round;stroke:rgb(0%,100%,68.235294%);stroke-opacity:1;stroke-miterlimit:10;\" d=\"M 93.175781 214.347656 L 93.175781 203.253906 \"/>\n",
       "<path style=\"fill:none;stroke-width:0.75;stroke-linecap:round;stroke-linejoin:round;stroke:rgb(0%,100%,91.764706%);stroke-opacity:1;stroke-miterlimit:10;\" d=\"M 93.175781 203.253906 L 97.464844 203.253906 \"/>\n",
       "<path style=\"fill:none;stroke-width:0.75;stroke-linecap:round;stroke-linejoin:round;stroke:rgb(0%,100%,93.333333%);stroke-opacity:1;stroke-miterlimit:10;\" d=\"M 97.464844 203.253906 L 101.75 203.253906 \"/>\n",
       "<path style=\"fill:none;stroke-width:0.75;stroke-linecap:round;stroke-linejoin:round;stroke:rgb(0%,100%,99.607843%);stroke-opacity:1;stroke-miterlimit:10;\" d=\"M 101.75 203.253906 L 106.039062 203.253906 \"/>\n",
       "<path style=\"fill:none;stroke-width:0.75;stroke-linecap:round;stroke-linejoin:round;stroke:rgb(0%,98.823529%,100%);stroke-opacity:1;stroke-miterlimit:10;\" d=\"M 106.039062 203.253906 L 110.328125 203.253906 \"/>\n",
       "<path style=\"fill:none;stroke-width:0.75;stroke-linecap:round;stroke-linejoin:round;stroke:rgb(0%,98.823529%,100%);stroke-opacity:1;stroke-miterlimit:10;\" d=\"M 110.328125 203.253906 L 114.617188 192.160156 \"/>\n",
       "<path style=\"fill:none;stroke-width:0.75;stroke-linecap:round;stroke-linejoin:round;stroke:rgb(0%,92.54902%,100%);stroke-opacity:1;stroke-miterlimit:10;\" d=\"M 114.617188 192.160156 L 118.90625 192.160156 \"/>\n",
       "<path style=\"fill:none;stroke-width:0.75;stroke-linecap:round;stroke-linejoin:round;stroke:rgb(0%,86.27451%,100%);stroke-opacity:1;stroke-miterlimit:10;\" d=\"M 118.90625 192.160156 L 127.480469 192.160156 \"/>\n",
       "<path style=\"fill:none;stroke-width:0.75;stroke-linecap:round;stroke-linejoin:round;stroke:rgb(0%,86.27451%,100%);stroke-opacity:1;stroke-miterlimit:10;\" d=\"M 127.480469 192.160156 L 131.769531 192.160156 \"/>\n",
       "<path style=\"fill:none;stroke-width:0.75;stroke-linecap:round;stroke-linejoin:round;stroke:rgb(0%,81.568627%,100%);stroke-opacity:1;stroke-miterlimit:10;\" d=\"M 131.769531 192.160156 L 136.058594 192.160156 \"/>\n",
       "<path style=\"fill:none;stroke-width:0.75;stroke-linecap:round;stroke-linejoin:round;stroke:rgb(0%,81.568627%,100%);stroke-opacity:1;stroke-miterlimit:10;\" d=\"M 136.058594 192.160156 L 140.347656 192.160156 \"/>\n",
       "<path style=\"fill:none;stroke-width:0.75;stroke-linecap:round;stroke-linejoin:round;stroke:rgb(0%,80%,100%);stroke-opacity:1;stroke-miterlimit:10;\" d=\"M 140.347656 192.160156 L 148.921875 192.160156 \"/>\n",
       "<path style=\"fill:none;stroke-width:0.75;stroke-linecap:round;stroke-linejoin:round;stroke:rgb(0%,78.431373%,100%);stroke-opacity:1;stroke-miterlimit:10;\" d=\"M 148.921875 192.160156 L 148.921875 181.066406 \"/>\n",
       "<path style=\"fill:none;stroke-width:0.75;stroke-linecap:round;stroke-linejoin:round;stroke:rgb(0%,78.431373%,100%);stroke-opacity:1;stroke-miterlimit:10;\" d=\"M 148.921875 181.066406 L 153.210938 181.066406 \"/>\n",
       "<path style=\"fill:none;stroke-width:0.75;stroke-linecap:round;stroke-linejoin:round;stroke:rgb(0%,76.862745%,100%);stroke-opacity:1;stroke-miterlimit:10;\" d=\"M 153.210938 181.066406 L 153.210938 169.972656 \"/>\n",
       "<path style=\"fill:none;stroke-width:0.75;stroke-linecap:round;stroke-linejoin:round;stroke:rgb(0%,65.882353%,100%);stroke-opacity:1;stroke-miterlimit:10;\" d=\"M 153.210938 169.972656 L 157.5 169.972656 \"/>\n",
       "<path style=\"fill:none;stroke-width:0.75;stroke-linecap:round;stroke-linejoin:round;stroke:rgb(0%,59.607843%,100%);stroke-opacity:1;stroke-miterlimit:10;\" d=\"M 157.5 169.972656 L 166.074219 169.972656 \"/>\n",
       "<path style=\"fill:none;stroke-width:0.75;stroke-linecap:round;stroke-linejoin:round;stroke:rgb(0%,54.901961%,100%);stroke-opacity:1;stroke-miterlimit:10;\" d=\"M 166.074219 169.972656 L 170.363281 136.691406 \"/>\n",
       "<path style=\"fill:none;stroke-width:0.75;stroke-linecap:round;stroke-linejoin:round;stroke:rgb(0%,54.901961%,100%);stroke-opacity:1;stroke-miterlimit:10;\" d=\"M 170.363281 136.691406 L 174.652344 136.691406 \"/>\n",
       "<path style=\"fill:none;stroke-width:0.75;stroke-linecap:round;stroke-linejoin:round;stroke:rgb(0%,53.333333%,100%);stroke-opacity:1;stroke-miterlimit:10;\" d=\"M 174.652344 136.691406 L 178.941406 136.691406 \"/>\n",
       "<path style=\"fill:none;stroke-width:0.75;stroke-linecap:round;stroke-linejoin:round;stroke:rgb(0%,50.196078%,100%);stroke-opacity:1;stroke-miterlimit:10;\" d=\"M 178.941406 136.691406 L 183.230469 136.691406 \"/>\n",
       "<path style=\"fill:none;stroke-width:0.75;stroke-linecap:round;stroke-linejoin:round;stroke:rgb(0%,47.058824%,100%);stroke-opacity:1;stroke-miterlimit:10;\" d=\"M 183.230469 136.691406 L 187.515625 136.691406 \"/>\n",
       "<path style=\"fill:none;stroke-width:0.75;stroke-linecap:round;stroke-linejoin:round;stroke:rgb(0%,45.490196%,100%);stroke-opacity:1;stroke-miterlimit:10;\" d=\"M 187.515625 136.691406 L 187.515625 125.601562 \"/>\n",
       "<path style=\"fill:none;stroke-width:0.75;stroke-linecap:round;stroke-linejoin:round;stroke:rgb(0%,43.921569%,100%);stroke-opacity:1;stroke-miterlimit:10;\" d=\"M 187.515625 125.601562 L 200.382812 125.601562 \"/>\n",
       "<path style=\"fill:none;stroke-width:0.75;stroke-linecap:round;stroke-linejoin:round;stroke:rgb(0%,39.215686%,100%);stroke-opacity:1;stroke-miterlimit:10;\" d=\"M 200.382812 125.601562 L 208.957031 125.601562 \"/>\n",
       "<path style=\"fill:none;stroke-width:0.75;stroke-linecap:round;stroke-linejoin:round;stroke:rgb(0%,39.215686%,100%);stroke-opacity:1;stroke-miterlimit:10;\" d=\"M 208.957031 125.601562 L 213.246094 125.601562 \"/>\n",
       "<path style=\"fill:none;stroke-width:0.75;stroke-linecap:round;stroke-linejoin:round;stroke:rgb(0%,34.509804%,100%);stroke-opacity:1;stroke-miterlimit:10;\" d=\"M 213.246094 125.601562 L 217.535156 114.507812 \"/>\n",
       "<path style=\"fill:none;stroke-width:0.75;stroke-linecap:round;stroke-linejoin:round;stroke:rgb(0%,34.509804%,100%);stroke-opacity:1;stroke-miterlimit:10;\" d=\"M 217.535156 114.507812 L 221.824219 114.507812 \"/>\n",
       "<path style=\"fill:none;stroke-width:0.75;stroke-linecap:round;stroke-linejoin:round;stroke:rgb(0%,32.941176%,100%);stroke-opacity:1;stroke-miterlimit:10;\" d=\"M 221.824219 114.507812 L 226.113281 114.507812 \"/>\n",
       "<path style=\"fill:none;stroke-width:0.75;stroke-linecap:round;stroke-linejoin:round;stroke:rgb(0%,29.803922%,100%);stroke-opacity:1;stroke-miterlimit:10;\" d=\"M 226.113281 114.507812 L 234.6875 114.507812 \"/>\n",
       "<path style=\"fill:none;stroke-width:0.75;stroke-linecap:round;stroke-linejoin:round;stroke:rgb(0%,29.803922%,100%);stroke-opacity:1;stroke-miterlimit:10;\" d=\"M 234.6875 114.507812 L 238.976562 114.507812 \"/>\n",
       "<path style=\"fill:none;stroke-width:0.75;stroke-linecap:round;stroke-linejoin:round;stroke:rgb(0%,29.803922%,100%);stroke-opacity:1;stroke-miterlimit:10;\" d=\"M 238.976562 114.507812 L 247.554688 103.414062 \"/>\n",
       "<path style=\"fill:none;stroke-width:0.75;stroke-linecap:round;stroke-linejoin:round;stroke:rgb(0%,26.666667%,100%);stroke-opacity:1;stroke-miterlimit:10;\" d=\"M 247.554688 103.414062 L 251.839844 103.414062 \"/>\n",
       "<path style=\"fill:none;stroke-width:0.75;stroke-linecap:round;stroke-linejoin:round;stroke:rgb(0%,25.098039%,100%);stroke-opacity:1;stroke-miterlimit:10;\" d=\"M 251.839844 103.414062 L 277.570312 103.414062 \"/>\n",
       "<path style=\"fill:none;stroke-width:0.75;stroke-linecap:round;stroke-linejoin:round;stroke:rgb(0%,21.960784%,100%);stroke-opacity:1;stroke-miterlimit:10;\" d=\"M 277.570312 103.414062 L 286.148438 103.414062 \"/>\n",
       "<path style=\"fill:none;stroke-width:0.75;stroke-linecap:round;stroke-linejoin:round;stroke:rgb(0%,21.960784%,100%);stroke-opacity:1;stroke-miterlimit:10;\" d=\"M 286.148438 103.414062 L 294.722656 92.320312 \"/>\n",
       "<path style=\"fill:none;stroke-width:0.75;stroke-linecap:round;stroke-linejoin:round;stroke:rgb(0%,21.960784%,100%);stroke-opacity:1;stroke-miterlimit:10;\" d=\"M 294.722656 92.320312 L 307.589844 92.320312 \"/>\n",
       "<path style=\"fill:none;stroke-width:0.75;stroke-linecap:round;stroke-linejoin:round;stroke:rgb(0%,21.960784%,100%);stroke-opacity:1;stroke-miterlimit:10;\" d=\"M 307.589844 92.320312 L 329.03125 92.320312 \"/>\n",
       "<path style=\"fill:none;stroke-width:0.75;stroke-linecap:round;stroke-linejoin:round;stroke:rgb(0%,18.823529%,100%);stroke-opacity:1;stroke-miterlimit:10;\" d=\"M 329.03125 92.320312 L 333.320312 92.320312 \"/>\n",
       "<path style=\"fill:none;stroke-width:0.75;stroke-linecap:round;stroke-linejoin:round;stroke:rgb(0%,18.823529%,100%);stroke-opacity:1;stroke-miterlimit:10;\" d=\"M 333.320312 92.320312 L 333.320312 81.226562 \"/>\n",
       "<path style=\"fill:none;stroke-width:0.75;stroke-linecap:round;stroke-linejoin:round;stroke:rgb(0%,18.823529%,100%);stroke-opacity:1;stroke-miterlimit:10;\" d=\"M 333.320312 81.226562 L 337.605469 81.226562 \"/>\n",
       "<path style=\"fill:none;stroke-width:0.75;stroke-linecap:round;stroke-linejoin:round;stroke:rgb(0%,17.254902%,100%);stroke-opacity:1;stroke-miterlimit:10;\" d=\"M 337.605469 81.226562 L 350.472656 81.226562 \"/>\n",
       "<path style=\"fill:none;stroke-width:0.75;stroke-linecap:round;stroke-linejoin:round;stroke:rgb(0%,15.686275%,100%);stroke-opacity:1;stroke-miterlimit:10;\" d=\"M 350.472656 81.226562 L 354.761719 81.226562 \"/>\n",
       "<path style=\"fill:none;stroke-width:0.75;stroke-linecap:round;stroke-linejoin:round;stroke:rgb(0%,12.54902%,100%);stroke-opacity:1;stroke-miterlimit:10;\" d=\"M 354.761719 81.226562 L 363.335938 70.132812 \"/>\n",
       "<path style=\"fill:none;stroke-width:0.75;stroke-linecap:round;stroke-linejoin:round;stroke:rgb(0%,12.54902%,100%);stroke-opacity:1;stroke-miterlimit:10;\" d=\"M 363.335938 70.132812 L 367.625 70.132812 \"/>\n",
       "<path style=\"fill:none;stroke-width:0.75;stroke-linecap:round;stroke-linejoin:round;stroke:rgb(0%,9.411765%,100%);stroke-opacity:1;stroke-miterlimit:10;\" d=\"M 367.625 70.132812 L 371.914062 70.132812 \"/>\n",
       "<path style=\"fill:none;stroke-width:0.75;stroke-linecap:round;stroke-linejoin:round;stroke:rgb(0%,9.411765%,100%);stroke-opacity:1;stroke-miterlimit:10;\" d=\"M 371.914062 70.132812 L 376.203125 70.132812 \"/>\n",
       "<path style=\"fill:none;stroke-width:0.75;stroke-linecap:round;stroke-linejoin:round;stroke:rgb(0%,6.27451%,100%);stroke-opacity:1;stroke-miterlimit:10;\" d=\"M 376.203125 70.132812 L 380.488281 70.132812 \"/>\n",
       "<path style=\"fill:none;stroke-width:0.75;stroke-linecap:round;stroke-linejoin:round;stroke:rgb(0%,3.137255%,100%);stroke-opacity:1;stroke-miterlimit:10;\" d=\"M 380.488281 70.132812 L 389.066406 70.132812 \"/>\n",
       "<path style=\"fill:none;stroke-width:0.75;stroke-linecap:round;stroke-linejoin:round;stroke:rgb(0%,0%,0%);stroke-opacity:1;stroke-miterlimit:10;\" d=\"M 391.765625 70.132812 C 391.765625 73.734375 386.367188 73.734375 386.367188 70.132812 C 386.367188 66.535156 391.765625 66.535156 391.765625 70.132812 \"/>\n",
       "<path style=\"fill:none;stroke-width:0.75;stroke-linecap:round;stroke-linejoin:round;stroke:rgb(0%,0%,0%);stroke-opacity:1;stroke-miterlimit:10;\" d=\"M 355.496094 81.226562 C 355.496094 84.828125 350.09375 84.828125 350.09375 81.226562 C 350.09375 77.625 355.496094 77.625 355.496094 81.226562 \"/>\n",
       "<path style=\"fill:none;stroke-width:0.75;stroke-linecap:round;stroke-linejoin:round;stroke:rgb(0%,0%,0%);stroke-opacity:1;stroke-miterlimit:10;\" d=\"M 165.671875 169.972656 C 165.671875 173.574219 160.273438 173.574219 160.273438 169.972656 C 160.273438 166.375 165.671875 166.375 165.671875 169.972656 \"/>\n",
       "<path style=\"fill:none;stroke-width:0.75;stroke-linecap:round;stroke-linejoin:round;stroke:rgb(0%,0%,0%);stroke-opacity:1;stroke-miterlimit:10;\" d=\"M 107.351562 203.253906 C 107.351562 206.851562 101.949219 206.851562 101.949219 203.253906 C 101.949219 199.652344 107.351562 199.652344 107.351562 203.253906 \"/>\n",
       "<path style=\"fill:none;stroke-width:0.75;stroke-linecap:round;stroke-linejoin:round;stroke:rgb(0%,0%,0%);stroke-opacity:1;stroke-miterlimit:10;\" d=\"M 95.875 217.539062 C 95.875 221.140625 90.476562 221.140625 90.476562 217.539062 C 90.476562 213.941406 95.875 213.941406 95.875 217.539062 \"/>\n",
       "<path style=\"fill:none;stroke-width:0.75;stroke-linecap:round;stroke-linejoin:round;stroke:rgb(0%,0%,0%);stroke-opacity:1;stroke-miterlimit:10;\" d=\"M 93.546875 231.460938 C 93.546875 235.0625 88.148438 235.0625 88.148438 231.460938 C 88.148438 227.859375 93.546875 227.859375 93.546875 231.460938 \"/>\n",
       "<path style=\"fill:none;stroke-width:0.75;stroke-linecap:round;stroke-linejoin:round;stroke:rgb(0%,0%,0%);stroke-opacity:1;stroke-miterlimit:10;\" d=\"M 85.910156 236.535156 C 85.910156 240.132812 80.511719 240.132812 80.511719 236.535156 C 80.511719 232.933594 85.910156 232.933594 85.910156 236.535156 \"/>\n",
       "<path style=\"fill:none;stroke-width:0.75;stroke-linecap:round;stroke-linejoin:round;stroke:rgb(0%,0%,0%);stroke-opacity:1;stroke-miterlimit:10;\" d=\"M 78.722656 254.558594 C 78.722656 258.160156 73.320312 258.160156 73.320312 254.558594 C 73.320312 250.960938 78.722656 250.960938 78.722656 254.558594 \"/>\n",
       "<path style=\"fill:none;stroke-width:0.75;stroke-linecap:round;stroke-linejoin:round;stroke:rgb(0%,0%,0%);stroke-opacity:1;stroke-miterlimit:10;\" d=\"M 78.722656 316.097656 C 78.722656 319.699219 73.320312 319.699219 73.320312 316.097656 C 73.320312 312.5 78.722656 312.5 78.722656 316.097656 \"/>\n",
       "<path style=\"fill:none;stroke-width:0.75;stroke-linecap:round;stroke-linejoin:round;stroke:rgb(0%,0%,0%);stroke-opacity:1;stroke-miterlimit:10;\" d=\"M 77.382812 325.28125 C 77.382812 328.878906 71.984375 328.878906 71.984375 325.28125 C 71.984375 321.679688 77.382812 321.679688 77.382812 325.28125 \"/>\n",
       "<path style=\"fill:none;stroke-width:0.75;stroke-linecap:round;stroke-linejoin:round;stroke:rgb(0%,0%,0%);stroke-opacity:1;stroke-miterlimit:10;\" d=\"M 74.433594 347.464844 C 74.433594 351.066406 69.035156 351.066406 69.035156 347.464844 C 69.035156 343.867188 74.433594 343.867188 74.433594 347.464844 \"/>\n",
       "<g style=\"fill:rgb(0%,0%,0%);fill-opacity:1;\">\n",
       "  <use xlink:href=\"#glyph0-13\" x=\"390.464844\" y=\"85.209961\"/>\n",
       "</g>\n",
       "<g style=\"fill:rgb(0%,0%,0%);fill-opacity:1;\">\n",
       "  <use xlink:href=\"#glyph0-13\" x=\"356.195312\" y=\"96.303711\"/>\n",
       "  <use xlink:href=\"#glyph0-14\" x=\"362.867188\" y=\"96.303711\"/>\n",
       "  <use xlink:href=\"#glyph0-19\" x=\"366.203125\" y=\"96.303711\"/>\n",
       "</g>\n",
       "<g style=\"fill:rgb(0%,0%,0%);fill-opacity:1;\">\n",
       "  <use xlink:href=\"#glyph0-13\" x=\"166.371094\" y=\"185.049805\"/>\n",
       "  <use xlink:href=\"#glyph0-14\" x=\"173.042969\" y=\"185.049805\"/>\n",
       "  <use xlink:href=\"#glyph0-15\" x=\"176.378906\" y=\"185.049805\"/>\n",
       "</g>\n",
       "<g style=\"fill:rgb(0%,0%,0%);fill-opacity:1;\">\n",
       "  <use xlink:href=\"#glyph0-13\" x=\"108.046875\" y=\"218.331055\"/>\n",
       "  <use xlink:href=\"#glyph0-14\" x=\"114.71875\" y=\"218.331055\"/>\n",
       "  <use xlink:href=\"#glyph0-20\" x=\"118.054688\" y=\"218.331055\"/>\n",
       "</g>\n",
       "<g style=\"fill:rgb(0%,0%,0%);fill-opacity:1;\">\n",
       "  <use xlink:href=\"#glyph0-13\" x=\"96.574219\" y=\"232.616211\"/>\n",
       "  <use xlink:href=\"#glyph0-14\" x=\"103.246094\" y=\"232.616211\"/>\n",
       "  <use xlink:href=\"#glyph0-16\" x=\"106.582031\" y=\"232.616211\"/>\n",
       "</g>\n",
       "<g style=\"fill:rgb(0%,0%,0%);fill-opacity:1;\">\n",
       "  <use xlink:href=\"#glyph0-13\" x=\"94.246094\" y=\"246.538086\"/>\n",
       "  <use xlink:href=\"#glyph0-14\" x=\"100.917969\" y=\"246.538086\"/>\n",
       "  <use xlink:href=\"#glyph0-21\" x=\"104.253906\" y=\"246.538086\"/>\n",
       "</g>\n",
       "<g style=\"fill:rgb(0%,0%,0%);fill-opacity:1;\">\n",
       "  <use xlink:href=\"#glyph0-13\" x=\"86.609375\" y=\"251.608398\"/>\n",
       "  <use xlink:href=\"#glyph0-14\" x=\"93.28125\" y=\"251.608398\"/>\n",
       "  <use xlink:href=\"#glyph0-17\" x=\"96.617188\" y=\"251.608398\"/>\n",
       "</g>\n",
       "<g style=\"fill:rgb(0%,0%,0%);fill-opacity:1;\">\n",
       "  <use xlink:href=\"#glyph0-13\" x=\"79.421875\" y=\"269.635742\"/>\n",
       "  <use xlink:href=\"#glyph0-14\" x=\"86.09375\" y=\"269.635742\"/>\n",
       "  <use xlink:href=\"#glyph0-22\" x=\"89.429688\" y=\"269.635742\"/>\n",
       "</g>\n",
       "<g style=\"fill:rgb(0%,0%,0%);fill-opacity:1;\">\n",
       "  <use xlink:href=\"#glyph0-13\" x=\"79.421875\" y=\"331.174805\"/>\n",
       "  <use xlink:href=\"#glyph0-14\" x=\"86.09375\" y=\"331.174805\"/>\n",
       "  <use xlink:href=\"#glyph0-18\" x=\"89.429688\" y=\"331.174805\"/>\n",
       "</g>\n",
       "<g style=\"fill:rgb(0%,0%,0%);fill-opacity:1;\">\n",
       "  <use xlink:href=\"#glyph0-13\" x=\"78.082031\" y=\"340.354492\"/>\n",
       "  <use xlink:href=\"#glyph0-14\" x=\"84.753906\" y=\"340.354492\"/>\n",
       "  <use xlink:href=\"#glyph0-23\" x=\"88.089844\" y=\"340.354492\"/>\n",
       "</g>\n",
       "<g clip-path=\"url(#clip1)\" clip-rule=\"nonzero\">\n",
       "<g style=\"fill:rgb(0%,0%,0%);fill-opacity:1;\">\n",
       "  <use xlink:href=\"#glyph0-19\" x=\"73.132812\" y=\"362.541992\"/>\n",
       "</g>\n",
       "</g>\n",
       "</g>\n",
       "</svg>\n"
      ],
      "text/plain": [
       "plot without title"
      ]
     },
     "metadata": {
      "image/svg+xml": {
       "isolated": true
      }
     },
     "output_type": "display_data"
    }
   ],
   "source": [
    "ROCRpred = prediction(predictTrain, qualityTrain$PoorCare)\n",
    "ROCRperf = performance(ROCRpred, 'tpr', 'fpr')\n",
    "options(repr.plot.width=6, repr.plot.height=6)\n",
    "plot(ROCRperf, colorize=T, print.cutoffs.at=seq(0,1,0.1), text.adj=c(-0.2, 1.7))"
   ]
  },
  {
   "cell_type": "code",
   "execution_count": 35,
   "metadata": {
    "collapsed": false
   },
   "outputs": [
    {
     "data": {
      "text/html": [
       "0.799479166666667"
      ],
      "text/latex": [
       "0.799479166666667"
      ],
      "text/markdown": [
       "0.799479166666667"
      ],
      "text/plain": [
       "[1] 0.7994792"
      ]
     },
     "execution_count": 35,
     "metadata": {},
     "output_type": "execute_result"
    }
   ],
   "source": [
    "predictTest = predict(QualityLog, type='response', newdata=qualityTest)\n",
    "ROCRpredTest = prediction(predictTest, qualityTest$PoorCare)\n",
    "auc = as.numeric(performance(ROCRpredTest, 'auc')@y.values)\n",
    "auc"
   ]
  },
  {
   "cell_type": "code",
   "execution_count": null,
   "metadata": {
    "collapsed": true
   },
   "outputs": [],
   "source": []
  }
 ],
 "metadata": {
  "kernelspec": {
   "display_name": "R",
   "language": "R",
   "name": "ir"
  },
  "language_info": {
   "codemirror_mode": "r",
   "file_extension": ".r",
   "mimetype": "text/x-r-source",
   "name": "R",
   "pygments_lexer": "r",
   "version": "3.2.4"
  }
 },
 "nbformat": 4,
 "nbformat_minor": 0
}
