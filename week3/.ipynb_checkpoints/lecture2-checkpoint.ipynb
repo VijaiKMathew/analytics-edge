{
 "cells": [
  {
   "cell_type": "code",
   "execution_count": 1,
   "metadata": {
    "collapsed": false
   },
   "outputs": [
    {
     "data": {
      "text/html": [
       "'LC_CTYPE=C;LC_NUMERIC=C;LC_TIME=C;LC_COLLATE=C;LC_MONETARY=C;LC_MESSAGES=en_US.UTF-8;LC_PAPER=en_US.UTF-8;LC_NAME=C;LC_ADDRESS=C;LC_TELEPHONE=C;LC_MEASUREMENT=en_US.UTF-8;LC_IDENTIFICATION=C'"
      ],
      "text/latex": [
       "'LC_CTYPE=C;LC_NUMERIC=C;LC_TIME=C;LC_COLLATE=C;LC_MONETARY=C;LC_MESSAGES=en_US.UTF-8;LC_PAPER=en_US.UTF-8;LC_NAME=C;LC_ADDRESS=C;LC_TELEPHONE=C;LC_MEASUREMENT=en_US.UTF-8;LC_IDENTIFICATION=C'"
      ],
      "text/markdown": [
       "'LC_CTYPE=C;LC_NUMERIC=C;LC_TIME=C;LC_COLLATE=C;LC_MONETARY=C;LC_MESSAGES=en_US.UTF-8;LC_PAPER=en_US.UTF-8;LC_NAME=C;LC_ADDRESS=C;LC_TELEPHONE=C;LC_MEASUREMENT=en_US.UTF-8;LC_IDENTIFICATION=C'"
      ],
      "text/plain": [
       "[1] \"LC_CTYPE=C;LC_NUMERIC=C;LC_TIME=C;LC_COLLATE=C;LC_MONETARY=C;LC_MESSAGES=en_US.UTF-8;LC_PAPER=en_US.UTF-8;LC_NAME=C;LC_ADDRESS=C;LC_TELEPHONE=C;LC_MEASUREMENT=en_US.UTF-8;LC_IDENTIFICATION=C\""
      ]
     },
     "execution_count": 1,
     "metadata": {},
     "output_type": "execute_result"
    }
   ],
   "source": [
    "options(device=pdf) # turn off flashy window on each block execution\n",
    "# options(repr.plot.width=6, repr.plot.height=4)\n",
    "Sys.setlocale(\"LC_ALL\", \"C\")\n",
    "initialWidth = getOption('width')\n",
    "options(width=80) # for old folks like me who can't see shit and set font large"
   ]
  },
  {
   "cell_type": "code",
   "execution_count": 2,
   "metadata": {
    "collapsed": false
   },
   "outputs": [
    {
     "name": "stdout",
     "output_type": "stream",
     "text": [
      "'data.frame':\t4240 obs. of  16 variables:\n",
      " $ male           : int  1 0 1 0 0 0 0 0 1 1 ...\n",
      " $ age            : int  39 46 48 61 46 43 63 45 52 43 ...\n",
      " $ education      : int  4 2 1 3 3 2 1 2 1 1 ...\n",
      " $ currentSmoker  : int  0 0 1 1 1 0 0 1 0 1 ...\n",
      " $ cigsPerDay     : int  0 0 20 30 23 0 0 20 0 30 ...\n",
      " $ BPMeds         : int  0 0 0 0 0 0 0 0 0 0 ...\n",
      " $ prevalentStroke: int  0 0 0 0 0 0 0 0 0 0 ...\n",
      " $ prevalentHyp   : int  0 0 0 1 0 1 0 0 1 1 ...\n",
      " $ diabetes       : int  0 0 0 0 0 0 0 0 0 0 ...\n",
      " $ totChol        : int  195 250 245 225 285 228 205 313 260 225 ...\n",
      " $ sysBP          : num  106 121 128 150 130 ...\n",
      " $ diaBP          : num  70 81 80 95 84 110 71 71 89 107 ...\n",
      " $ BMI            : num  27 28.7 25.3 28.6 23.1 ...\n",
      " $ heartRate      : int  80 95 75 65 85 77 60 79 76 93 ...\n",
      " $ glucose        : int  77 76 70 103 85 99 85 78 79 88 ...\n",
      " $ TenYearCHD     : int  0 0 0 1 0 0 1 0 0 0 ...\n"
     ]
    }
   ],
   "source": [
    "framinham = read.csv('data/framingham.csv.xz')\n",
    "str(framinham)"
   ]
  },
  {
   "cell_type": "code",
   "execution_count": 3,
   "metadata": {
    "collapsed": true
   },
   "outputs": [],
   "source": [
    "library(caTools)"
   ]
  },
  {
   "cell_type": "code",
   "execution_count": 5,
   "metadata": {
    "collapsed": true
   },
   "outputs": [],
   "source": [
    "set.seed(1000)\n",
    "split = sample.split(framinham$TenYearCHD, SplitRatio = 0.65)\n",
    "train = subset(framinham, split=T)\n",
    "test = subset(framinham, split=F)"
   ]
  },
  {
   "cell_type": "code",
   "execution_count": 6,
   "metadata": {
    "collapsed": false
   },
   "outputs": [
    {
     "data": {
      "text/plain": [
       "\n",
       "Call:\n",
       "glm(formula = TenYearCHD ~ ., family = binomial, data = train)\n",
       "\n",
       "Deviance Residuals: \n",
       "    Min       1Q   Median       3Q      Max  \n",
       "-1.9582  -0.5939  -0.4264  -0.2829   2.8409  \n",
       "\n",
       "Coefficients:\n",
       "                 Estimate Std. Error z value Pr(>|z|)    \n",
       "(Intercept)     -8.328186   0.715449 -11.641  < 2e-16 ***\n",
       "male             0.555279   0.109033   5.093 3.53e-07 ***\n",
       "age              0.063515   0.006679   9.509  < 2e-16 ***\n",
       "education       -0.047767   0.049395  -0.967  0.33353    \n",
       "currentSmoker    0.071601   0.156752   0.457  0.64783    \n",
       "cigsPerDay       0.017914   0.006238   2.872  0.00408 ** \n",
       "BPMeds           0.162496   0.234326   0.693  0.48802    \n",
       "prevalentStroke  0.693660   0.489569   1.417  0.15652    \n",
       "prevalentHyp     0.234208   0.138026   1.697  0.08973 .  \n",
       "diabetes         0.039167   0.315506   0.124  0.90120    \n",
       "totChol          0.002332   0.001127   2.070  0.03850 *  \n",
       "sysBP            0.015403   0.003808   4.044 5.24e-05 ***\n",
       "diaBP           -0.004159   0.006438  -0.646  0.51831    \n",
       "BMI              0.006672   0.012758   0.523  0.60097    \n",
       "heartRate       -0.003246   0.004211  -0.771  0.44082    \n",
       "glucose          0.007127   0.002234   3.190  0.00142 ** \n",
       "---\n",
       "Signif. codes:  0 '***' 0.001 '**' 0.01 '*' 0.05 '.' 0.1 ' ' 1\n",
       "\n",
       "(Dispersion parameter for binomial family taken to be 1)\n",
       "\n",
       "    Null deviance: 3121.2  on 3657  degrees of freedom\n",
       "Residual deviance: 2754.5  on 3642  degrees of freedom\n",
       "  (582 observations deleted due to missingness)\n",
       "AIC: 2786.5\n",
       "\n",
       "Number of Fisher Scoring iterations: 5\n"
      ]
     },
     "execution_count": 6,
     "metadata": {},
     "output_type": "execute_result"
    }
   ],
   "source": [
    "framinhamLog = glm(TenYearCHD ~ ., data=train, family = binomial)\n",
    "summary(framinhamLog)"
   ]
  },
  {
   "cell_type": "code",
   "execution_count": 7,
   "metadata": {
    "collapsed": false
   },
   "outputs": [
    {
     "data": {
      "text/plain": [
       "   \n",
       "    FALSE TRUE\n",
       "  0  3082   19\n",
       "  1   506   51"
      ]
     },
     "execution_count": 7,
     "metadata": {},
     "output_type": "execute_result"
    }
   ],
   "source": [
    "predictTest = predict(framinhamLog, type='response', newdata = test)\n",
    "table(test$TenYearCHD, predictTest > 0.5)"
   ]
  },
  {
   "cell_type": "code",
   "execution_count": 8,
   "metadata": {
    "collapsed": false
   },
   "outputs": [
    {
     "data": {
      "text/html": [
       "0.856478950246036"
      ],
      "text/latex": [
       "0.856478950246036"
      ],
      "text/markdown": [
       "0.856478950246036"
      ],
      "text/plain": [
       "[1] 0.856479"
      ]
     },
     "execution_count": 8,
     "metadata": {},
     "output_type": "execute_result"
    }
   ],
   "source": [
    "(3082+51)/(3082+19+506+51)"
   ]
  },
  {
   "cell_type": "code",
   "execution_count": 9,
   "metadata": {
    "collapsed": false
   },
   "outputs": [
    {
     "data": {
      "text/html": [
       "0.847731000546747"
      ],
      "text/latex": [
       "0.847731000546747"
      ],
      "text/markdown": [
       "0.847731000546747"
      ],
      "text/plain": [
       "[1] 0.847731"
      ]
     },
     "execution_count": 9,
     "metadata": {},
     "output_type": "execute_result"
    }
   ],
   "source": [
    "(3082+19)/(3082+19+506+51)"
   ]
  },
  {
   "cell_type": "code",
   "execution_count": 10,
   "metadata": {
    "collapsed": false
   },
   "outputs": [
    {
     "name": "stderr",
     "output_type": "stream",
     "text": [
      "Loading required package: gplots\n",
      "\n",
      "Attaching package: 'gplots'\n",
      "\n",
      "The following object is masked from 'package:stats':\n",
      "\n",
      "    lowess\n",
      "\n"
     ]
    }
   ],
   "source": [
    "library(ROCR)"
   ]
  },
  {
   "cell_type": "code",
   "execution_count": 11,
   "metadata": {
    "collapsed": false
   },
   "outputs": [
    {
     "data": {
      "text/html": [
       "0.739295889378361"
      ],
      "text/latex": [
       "0.739295889378361"
      ],
      "text/markdown": [
       "0.739295889378361"
      ],
      "text/plain": [
       "[1] 0.7392959"
      ]
     },
     "execution_count": 11,
     "metadata": {},
     "output_type": "execute_result"
    }
   ],
   "source": [
    "ROCRpred = prediction(predictTest, test$TenYearCHD)\n",
    "as.numeric(performance(ROCRpred, 'auc')@y.values)"
   ]
  },
  {
   "cell_type": "code",
   "execution_count": 13,
   "metadata": {
    "collapsed": false
   },
   "outputs": [
    {
     "data": {
      "text/html": [
       "0.0555555555555556"
      ],
      "text/latex": [
       "0.0555555555555556"
      ],
      "text/markdown": [
       "0.0555555555555556"
      ],
      "text/plain": [
       "[1] 0.05555556"
      ]
     },
     "execution_count": 13,
     "metadata": {},
     "output_type": "execute_result"
    },
    {
     "data": {
      "text/html": [
       "0.994418604651163"
      ],
      "text/latex": [
       "0.994418604651163"
      ],
      "text/markdown": [
       "0.994418604651163"
      ],
      "text/plain": [
       "[1] 0.9944186"
      ]
     },
     "execution_count": 13,
     "metadata": {},
     "output_type": "execute_result"
    }
   ],
   "source": [
    "11/(11+187)\n",
    "1069/(1069+6)"
   ]
  },
  {
   "cell_type": "code",
   "execution_count": null,
   "metadata": {
    "collapsed": true
   },
   "outputs": [],
   "source": []
  }
 ],
 "metadata": {
  "kernelspec": {
   "display_name": "R",
   "language": "R",
   "name": "ir"
  },
  "language_info": {
   "codemirror_mode": "r",
   "file_extension": ".r",
   "mimetype": "text/x-r-source",
   "name": "R",
   "pygments_lexer": "r",
   "version": "3.2.4"
  }
 },
 "nbformat": 4,
 "nbformat_minor": 0
}
