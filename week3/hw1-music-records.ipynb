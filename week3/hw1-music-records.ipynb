{
 "cells": [
  {
   "cell_type": "code",
   "execution_count": 1,
   "metadata": {
    "collapsed": false
   },
   "outputs": [
    {
     "data": {
      "text/html": [
       "'LC_CTYPE=C;LC_NUMERIC=C;LC_TIME=C;LC_COLLATE=C;LC_MONETARY=C;LC_MESSAGES=en_US.UTF-8;LC_PAPER=en_US.UTF-8;LC_NAME=C;LC_ADDRESS=C;LC_TELEPHONE=C;LC_MEASUREMENT=en_US.UTF-8;LC_IDENTIFICATION=C'"
      ],
      "text/latex": [
       "'LC_CTYPE=C;LC_NUMERIC=C;LC_TIME=C;LC_COLLATE=C;LC_MONETARY=C;LC_MESSAGES=en_US.UTF-8;LC_PAPER=en_US.UTF-8;LC_NAME=C;LC_ADDRESS=C;LC_TELEPHONE=C;LC_MEASUREMENT=en_US.UTF-8;LC_IDENTIFICATION=C'"
      ],
      "text/markdown": [
       "'LC_CTYPE=C;LC_NUMERIC=C;LC_TIME=C;LC_COLLATE=C;LC_MONETARY=C;LC_MESSAGES=en_US.UTF-8;LC_PAPER=en_US.UTF-8;LC_NAME=C;LC_ADDRESS=C;LC_TELEPHONE=C;LC_MEASUREMENT=en_US.UTF-8;LC_IDENTIFICATION=C'"
      ],
      "text/plain": [
       "[1] \"LC_CTYPE=C;LC_NUMERIC=C;LC_TIME=C;LC_COLLATE=C;LC_MONETARY=C;LC_MESSAGES=en_US.UTF-8;LC_PAPER=en_US.UTF-8;LC_NAME=C;LC_ADDRESS=C;LC_TELEPHONE=C;LC_MEASUREMENT=en_US.UTF-8;LC_IDENTIFICATION=C\""
      ]
     },
     "execution_count": 1,
     "metadata": {},
     "output_type": "execute_result"
    }
   ],
   "source": [
    "options(device=pdf) # turn off flashy window on each block execution\n",
    "# options(repr.plot.width=6, repr.plot.height=4)\n",
    "Sys.setlocale(\"LC_ALL\", \"C\")\n",
    "initialWidth = getOption('width')\n",
    "options(width=80) # for old folks like me who can't see shit and set font large"
   ]
  },
  {
   "cell_type": "code",
   "execution_count": 4,
   "metadata": {
    "collapsed": false
   },
   "outputs": [
    {
     "data": {
      "text/plain": [
       "      year          songtitle              artistname  \n",
       " Min.   :1990   Intro    :  15   Various artists: 162  \n",
       " 1st Qu.:1997   Forever  :   8   Anal Cunt      :  49  \n",
       " Median :2002   Home     :   7   Various Artists:  44  \n",
       " Mean   :2001   Goodbye  :   6   Tori Amos      :  41  \n",
       " 3rd Qu.:2006   Again    :   5   Eels           :  37  \n",
       " Max.   :2010   Beautiful:   5   Napalm Death   :  37  \n",
       "                (Other)  :7528   (Other)        :7204  \n",
       "                songID                   artistID    timesignature  \n",
       " SOALSZJ1370F1A7C75:   2   ARAGWS81187FB3F768: 222   Min.   :0.000  \n",
       " SOANPAC13936E0B640:   2   ARL14X91187FB4CF14:  49   1st Qu.:4.000  \n",
       " SOBDGMX12B0B80808E:   2   AR4KS8C1187FB4CF3D:  41   Median :4.000  \n",
       " SOBUDCZ12A58A80013:   2   AR0JZZ01187B9B2C99:  37   Mean   :3.894  \n",
       " SODFRLK13134387FB5:   2   ARZGTK71187B9AC7F5:  37   3rd Qu.:4.000  \n",
       " SOEJPOK12A6D4FAFE4:   2   AR95XYH1187FB53951:  31   Max.   :7.000  \n",
       " (Other)           :7562   (Other)           :7157                  \n",
       " timesignature_confidence    loudness           tempo        tempo_confidence\n",
       " Min.   :0.0000           Min.   :-42.451   Min.   :  0.00   Min.   :0.0000  \n",
       " 1st Qu.:0.8193           1st Qu.:-10.847   1st Qu.: 88.86   1st Qu.:0.3720  \n",
       " Median :0.9790           Median : -7.649   Median :103.27   Median :0.7015  \n",
       " Mean   :0.8533           Mean   : -8.817   Mean   :107.35   Mean   :0.6229  \n",
       " 3rd Qu.:1.0000           3rd Qu.: -5.640   3rd Qu.:124.80   3rd Qu.:0.8920  \n",
       " Max.   :1.0000           Max.   :  1.305   Max.   :244.31   Max.   :1.0000  \n",
       "                                                                             \n",
       "      key         key_confidence       energy            pitch        \n",
       " Min.   : 0.000   Min.   :0.0000   Min.   :0.00002   Min.   :0.00000  \n",
       " 1st Qu.: 2.000   1st Qu.:0.2040   1st Qu.:0.50014   1st Qu.:0.00300  \n",
       " Median : 6.000   Median :0.4515   Median :0.71816   Median :0.00700  \n",
       " Mean   : 5.385   Mean   :0.4338   Mean   :0.67547   Mean   :0.01082  \n",
       " 3rd Qu.: 9.000   3rd Qu.:0.6460   3rd Qu.:0.88740   3rd Qu.:0.01400  \n",
       " Max.   :11.000   Max.   :1.0000   Max.   :0.99849   Max.   :0.54100  \n",
       "                                                                      \n",
       "  timbre_0_min     timbre_0_max    timbre_1_min      timbre_1_max   \n",
       " Min.   : 0.000   Min.   :12.58   Min.   :-333.72   Min.   :-74.37  \n",
       " 1st Qu.: 0.000   1st Qu.:53.12   1st Qu.:-160.12   1st Qu.:171.13  \n",
       " Median : 0.027   Median :55.53   Median :-107.75   Median :194.40  \n",
       " Mean   : 4.123   Mean   :54.46   Mean   :-110.79   Mean   :212.34  \n",
       " 3rd Qu.: 2.772   3rd Qu.:57.08   3rd Qu.: -59.71   3rd Qu.:239.24  \n",
       " Max.   :48.353   Max.   :64.01   Max.   : 123.73   Max.   :549.97  \n",
       "                                                                    \n",
       "  timbre_2_min      timbre_2_max      timbre_3_min      timbre_3_max   \n",
       " Min.   :-324.86   Min.   : -0.832   Min.   :-495.36   Min.   : 12.85  \n",
       " 1st Qu.:-167.64   1st Qu.:100.519   1st Qu.:-226.87   1st Qu.:127.14  \n",
       " Median :-136.60   Median :129.908   Median :-170.61   Median :189.50  \n",
       " Mean   :-136.89   Mean   :136.673   Mean   :-186.11   Mean   :211.81  \n",
       " 3rd Qu.:-106.51   3rd Qu.:166.121   3rd Qu.:-131.56   3rd Qu.:290.72  \n",
       " Max.   :  34.57   Max.   :397.095   Max.   : -21.55   Max.   :499.62  \n",
       "                                                                       \n",
       "  timbre_4_min      timbre_4_max      timbre_5_min      timbre_5_max   \n",
       " Min.   :-207.07   Min.   : -0.651   Min.   :-262.48   Min.   :-22.41  \n",
       " 1st Qu.: -77.69   1st Qu.: 83.966   1st Qu.:-113.58   1st Qu.: 84.64  \n",
       " Median : -63.83   Median :107.422   Median : -95.47   Median :119.90  \n",
       " Mean   : -65.28   Mean   :108.227   Mean   :-104.00   Mean   :127.04  \n",
       " 3rd Qu.: -51.34   3rd Qu.:130.286   3rd Qu.: -81.02   3rd Qu.:162.34  \n",
       " Max.   :  51.43   Max.   :257.801   Max.   : -42.17   Max.   :350.94  \n",
       "                                                                       \n",
       "  timbre_6_min       timbre_6_max     timbre_7_min       timbre_7_max   \n",
       " Min.   :-152.170   Min.   : 12.70   Min.   :-214.791   Min.   : 15.70  \n",
       " 1st Qu.: -94.792   1st Qu.: 59.04   1st Qu.:-101.171   1st Qu.: 76.50  \n",
       " Median : -80.418   Median : 70.47   Median : -81.797   Median : 94.63  \n",
       " Mean   : -80.944   Mean   : 72.17   Mean   : -84.313   Mean   : 95.65  \n",
       " 3rd Qu.: -66.521   3rd Qu.: 83.19   3rd Qu.: -64.301   3rd Qu.:112.71  \n",
       " Max.   :   4.503   Max.   :208.39   Max.   :   5.153   Max.   :214.82  \n",
       "                                                                        \n",
       "  timbre_8_min       timbre_8_max     timbre_9_min      timbre_9_max    \n",
       " Min.   :-158.756   Min.   :-25.95   Min.   :-149.51   Min.   :  8.415  \n",
       " 1st Qu.: -73.051   1st Qu.: 40.58   1st Qu.: -70.28   1st Qu.: 53.037  \n",
       " Median : -62.661   Median : 49.22   Median : -58.65   Median : 65.935  \n",
       " Mean   : -63.704   Mean   : 50.06   Mean   : -59.52   Mean   : 68.028  \n",
       " 3rd Qu.: -52.983   3rd Qu.: 58.46   3rd Qu.: -47.70   3rd Qu.: 81.267  \n",
       " Max.   :  -2.382   Max.   :144.99   Max.   :   1.14   Max.   :161.518  \n",
       "                                                                        \n",
       " timbre_10_min     timbre_10_max     timbre_11_min      timbre_11_max   \n",
       " Min.   :-208.82   Min.   : -6.359   Min.   :-145.599   Min.   :  7.20  \n",
       " 1st Qu.:-105.13   1st Qu.: 39.196   1st Qu.: -58.058   1st Qu.: 38.98  \n",
       " Median : -83.07   Median : 50.895   Median : -50.892   Median : 46.44  \n",
       " Mean   : -87.34   Mean   : 55.521   Mean   : -50.868   Mean   : 47.49  \n",
       " 3rd Qu.: -64.52   3rd Qu.: 66.593   3rd Qu.: -43.292   3rd Qu.: 55.03  \n",
       " Max.   : -10.64   Max.   :192.417   Max.   :  -6.497   Max.   :110.27  \n",
       "                                                                        \n",
       "     Top10       \n",
       " Min.   :0.0000  \n",
       " 1st Qu.:0.0000  \n",
       " Median :0.0000  \n",
       " Mean   :0.1477  \n",
       " 3rd Qu.:0.0000  \n",
       " Max.   :1.0000  \n",
       "                 "
      ]
     },
     "execution_count": 4,
     "metadata": {},
     "output_type": "execute_result"
    }
   ],
   "source": [
    "data = read.csv('data/songs.csv.xz')\n",
    "summary(data)"
   ]
  },
  {
   "cell_type": "code",
   "execution_count": 5,
   "metadata": {
    "collapsed": false
   },
   "outputs": [
    {
     "name": "stdout",
     "output_type": "stream",
     "text": [
      "'data.frame':\t7574 obs. of  39 variables:\n",
      " $ year                    : int  2010 2010 2010 2010 2010 2010 2010 2010 2010 2010 ...\n",
      " $ songtitle               : Factor w/ 7141 levels \"#1\",\"'03 Bonnie & Clyde\",..: 6207 5515 234 3103 43 603 247 4413 2880 6749 ...\n",
      " $ artistname              : Factor w/ 1032 levels \"50 Cent\",\"98 Degrees\",..: 3 3 3 3 3 3 3 3 3 12 ...\n",
      " $ songID                  : Factor w/ 7549 levels \"SOAACNI1315CD4AC42\",..: 595 5439 5252 1716 3431 1020 1831 3964 6904 2473 ...\n",
      " $ artistID                : Factor w/ 1047 levels \"AR00B1I1187FB433EB\",..: 671 671 671 671 671 671 671 671 671 507 ...\n",
      " $ timesignature           : int  3 4 4 4 4 4 4 4 4 4 ...\n",
      " $ timesignature_confidence: num  0.853 1 1 1 0.788 1 0.968 0.861 0.622 0.938 ...\n",
      " $ loudness                : num  -4.26 -4.05 -3.57 -3.81 -4.71 ...\n",
      " $ tempo                   : num  91.5 140 160.5 97.5 140.1 ...\n",
      " $ tempo_confidence        : num  0.953 0.921 0.489 0.794 0.286 0.347 0.273 0.83 0.018 0.929 ...\n",
      " $ key                     : int  11 10 2 1 6 4 10 5 9 11 ...\n",
      " $ key_confidence          : num  0.453 0.469 0.209 0.632 0.483 0.627 0.715 0.423 0.751 0.602 ...\n",
      " $ energy                  : num  0.967 0.985 0.99 0.939 0.988 ...\n",
      " $ pitch                   : num  0.024 0.025 0.026 0.013 0.063 0.038 0.026 0.033 0.027 0.004 ...\n",
      " $ timbre_0_min            : num  0.002 0 0.003 0 0 ...\n",
      " $ timbre_0_max            : num  57.3 57.4 57.4 57.8 56.9 ...\n",
      " $ timbre_1_min            : num  -6.5 -37.4 -17.2 -32.1 -223.9 ...\n",
      " $ timbre_1_max            : num  171 171 171 221 171 ...\n",
      " $ timbre_2_min            : num  -81.7 -149.6 -72.9 -138.6 -147.2 ...\n",
      " $ timbre_2_max            : num  95.1 180.3 157.9 173.4 166 ...\n",
      " $ timbre_3_min            : num  -285 -380.1 -204 -73.5 -128.1 ...\n",
      " $ timbre_3_max            : num  259 384 251 373 389 ...\n",
      " $ timbre_4_min            : num  -40.4 -48.7 -66 -55.6 -43.9 ...\n",
      " $ timbre_4_max            : num  73.6 100.4 152.1 119.2 99.3 ...\n",
      " $ timbre_5_min            : num  -104.7 -87.3 -98.7 -77.5 -96.1 ...\n",
      " $ timbre_5_max            : num  183.1 42.8 141.4 141.2 38.3 ...\n",
      " $ timbre_6_min            : num  -88.8 -86.9 -88.9 -70.8 -110.8 ...\n",
      " $ timbre_6_max            : num  73.5 75.5 66.5 64.5 72.4 ...\n",
      " $ timbre_7_min            : num  -71.1 -65.8 -67.4 -63.7 -55.9 ...\n",
      " $ timbre_7_max            : num  82.5 106.9 80.6 96.7 110.3 ...\n",
      " $ timbre_8_min            : num  -52 -61.3 -59.8 -78.7 -56.5 ...\n",
      " $ timbre_8_max            : num  39.1 35.4 46 41.1 37.6 ...\n",
      " $ timbre_9_min            : num  -35.4 -81.9 -46.3 -49.2 -48.6 ...\n",
      " $ timbre_9_max            : num  71.6 74.6 59.9 95.4 67.6 ...\n",
      " $ timbre_10_min           : num  -126.4 -103.8 -108.3 -102.7 -52.8 ...\n",
      " $ timbre_10_max           : num  18.7 121.9 33.3 46.4 22.9 ...\n",
      " $ timbre_11_min           : num  -44.8 -38.9 -43.7 -59.4 -50.4 ...\n",
      " $ timbre_11_max           : num  26 22.5 25.7 37.1 32.8 ...\n",
      " $ Top10                   : int  0 0 0 0 0 0 0 0 0 1 ...\n"
     ]
    }
   ],
   "source": [
    "str(data)"
   ]
  },
  {
   "cell_type": "code",
   "execution_count": 6,
   "metadata": {
    "collapsed": false
   },
   "outputs": [
    {
     "data": {
      "text/plain": [
       "\n",
       "1990 1991 1992 1993 1994 1995 1996 1997 1998 1999 2000 2001 2002 2003 2004 2005 \n",
       " 328  196  186  324  198  258  178  329  380  357  363  282  518  434  479  392 \n",
       "2006 2007 2008 2009 2010 \n",
       " 479  622  415  483  373 "
      ]
     },
     "execution_count": 6,
     "metadata": {},
     "output_type": "execute_result"
    }
   ],
   "source": [
    "table(data$year)"
   ]
  },
  {
   "cell_type": "code",
   "execution_count": 8,
   "metadata": {
    "collapsed": false
   },
   "outputs": [
    {
     "data": {
      "text/html": [
       "18"
      ],
      "text/latex": [
       "18"
      ],
      "text/markdown": [
       "18"
      ],
      "text/plain": [
       "[1] 18"
      ]
     },
     "execution_count": 8,
     "metadata": {},
     "output_type": "execute_result"
    }
   ],
   "source": [
    "nrow(subset(data, artistname == 'Michael Jackson'))"
   ]
  },
  {
   "cell_type": "code",
   "execution_count": 12,
   "metadata": {
    "collapsed": false
   },
   "outputs": [
    {
     "data": {
      "text/html": [
       "<table>\n",
       "<thead><tr><th></th><th scope=col>year</th><th scope=col>songtitle</th><th scope=col>artistname</th><th scope=col>songID</th><th scope=col>artistID</th><th scope=col>timesignature</th><th scope=col>timesignature_confidence</th><th scope=col>loudness</th><th scope=col>tempo</th><th scope=col>tempo_confidence</th><th scope=col>ellip.h</th><th scope=col>timbre_7_max</th><th scope=col>timbre_8_min</th><th scope=col>timbre_8_max</th><th scope=col>timbre_9_min</th><th scope=col>timbre_9_max</th><th scope=col>timbre_10_min</th><th scope=col>timbre_10_max</th><th scope=col>timbre_11_min</th><th scope=col>timbre_11_max</th><th scope=col>Top10</th></tr></thead>\n",
       "<tbody>\n",
       "\t<tr><th scope=row>4329</th><td>2001</td><td>You Rock My World</td><td>Michael Jackson</td><td>SOBLCOF13134393021</td><td>ARXPPEY1187FB51DF4</td><td>4</td><td>1</td><td>-2.768</td><td>95.003</td><td>0.892</td><td><e2><8b><af></td><td>120.076</td><td>-53.839</td><td>63.576</td><td>-85.169</td><td>84.84</td><td>-102.185</td><td>55.266</td><td>-48.107</td><td>56.116</td><td>1</td></tr>\n",
       "\t<tr><th scope=row>6207</th><td>1995</td><td>You Are Not Alone</td><td>Michael Jackson</td><td>SOJKNNO13737CEB162</td><td>ARXPPEY1187FB51DF4</td><td>4</td><td>1</td><td>-9.408</td><td>120.566</td><td>0.805</td><td><e2><8b><af></td><td>90.735</td><td>-61.583</td><td>60.92</td><td>-55.904</td><td>76.632</td><td>-69.799</td><td>46.173</td><td>-67.281</td><td>47.128</td><td>1</td></tr>\n",
       "\t<tr><th scope=row>6210</th><td>1995</td><td>Black or White</td><td>Michael Jackson</td><td>SOBBRFO137756C9CB7</td><td>ARXPPEY1187FB51DF4</td><td>4</td><td>1</td><td>-4.017</td><td>115.027</td><td>0.535</td><td><e2><8b><af></td><td>107.974</td><td>-55.063</td><td>52.505</td><td>-110.999</td><td>71.477</td><td>-133.939</td><td>60.442</td><td>-55.008</td><td>43.473</td><td>1</td></tr>\n",
       "\t<tr><th scope=row>6218</th><td>1995</td><td>Remember the Time</td><td>Michael Jackson</td><td>SOIQZMT136C9704DA5</td><td>ARXPPEY1187FB51DF4</td><td>4</td><td>1</td><td>-3.633</td><td>107.921</td><td>1</td><td><e2><8b><af></td><td>146.587</td><td>-58.117</td><td>62.157</td><td>-54.44</td><td>94.501</td><td>-112.348</td><td>90.437</td><td>-53.634</td><td>51.681</td><td>1</td></tr>\n",
       "\t<tr><th scope=row>6915</th><td>1992</td><td>In The Closet</td><td>Michael Jackson</td><td>SOKIOOC12AF729ED9E</td><td>ARXPPEY1187FB51DF4</td><td>4</td><td>0.991</td><td>-4.315</td><td>110.501</td><td>0.949</td><td><e2><8b><af></td><td>124.354</td><td>-78.303</td><td>41.322</td><td>-83.184</td><td>106.263</td><td>-136.109</td><td>102.829</td><td>-48.192</td><td>74.575</td><td>1</td></tr>\n",
       "</tbody>\n",
       "</table>\n"
      ],
      "text/latex": [
       "\\begin{tabular}{r|lllllllllllllllllllllllllllllllllllllll}\n",
       "  & year & songtitle & artistname & songID & artistID & timesignature & timesignature_confidence & loudness & tempo & tempo_confidence & ellip.h & timbre_7_max & timbre_8_min & timbre_8_max & timbre_9_min & timbre_9_max & timbre_10_min & timbre_10_max & timbre_11_min & timbre_11_max & Top10\\\\\n",
       "\\hline\n",
       "\t4329 & 2001 & You Rock My World & Michael Jackson & SOBLCOF13134393021 & ARXPPEY1187FB51DF4 & 4 & 1 & -2.768 & 95.003 & 0.892 & <e2><8b><af> & 120.076 & -53.839 & 63.576 & -85.169 & 84.84 & -102.185 & 55.266 & -48.107 & 56.116 & 1\\\\\n",
       "\t6207 & 1995 & You Are Not Alone & Michael Jackson & SOJKNNO13737CEB162 & ARXPPEY1187FB51DF4 & 4 & 1 & -9.408 & 120.566 & 0.805 & <e2><8b><af> & 90.735 & -61.583 & 60.92 & -55.904 & 76.632 & -69.799 & 46.173 & -67.281 & 47.128 & 1\\\\\n",
       "\t6210 & 1995 & Black or White & Michael Jackson & SOBBRFO137756C9CB7 & ARXPPEY1187FB51DF4 & 4 & 1 & -4.017 & 115.027 & 0.535 & <e2><8b><af> & 107.974 & -55.063 & 52.505 & -110.999 & 71.477 & -133.939 & 60.442 & -55.008 & 43.473 & 1\\\\\n",
       "\t6218 & 1995 & Remember the Time & Michael Jackson & SOIQZMT136C9704DA5 & ARXPPEY1187FB51DF4 & 4 & 1 & -3.633 & 107.921 & 1 & <e2><8b><af> & 146.587 & -58.117 & 62.157 & -54.44 & 94.501 & -112.348 & 90.437 & -53.634 & 51.681 & 1\\\\\n",
       "\t6915 & 1992 & In The Closet & Michael Jackson & SOKIOOC12AF729ED9E & ARXPPEY1187FB51DF4 & 4 & 0.991 & -4.315 & 110.501 & 0.949 & <e2><8b><af> & 124.354 & -78.303 & 41.322 & -83.184 & 106.263 & -136.109 & 102.829 & -48.192 & 74.575 & 1\\\\\n",
       "\\end{tabular}\n"
      ],
      "text/plain": [
       "     year         songtitle      artistname             songID\n",
       "4329 2001 You Rock My World Michael Jackson SOBLCOF13134393021\n",
       "6207 1995 You Are Not Alone Michael Jackson SOJKNNO13737CEB162\n",
       "6210 1995    Black or White Michael Jackson SOBBRFO137756C9CB7\n",
       "6218 1995 Remember the Time Michael Jackson SOIQZMT136C9704DA5\n",
       "6915 1992     In The Closet Michael Jackson SOKIOOC12AF729ED9E\n",
       "               artistID timesignature timesignature_confidence loudness   tempo\n",
       "4329 ARXPPEY1187FB51DF4             4                    1.000   -2.768  95.003\n",
       "6207 ARXPPEY1187FB51DF4             4                    1.000   -9.408 120.566\n",
       "6210 ARXPPEY1187FB51DF4             4                    1.000   -4.017 115.027\n",
       "6218 ARXPPEY1187FB51DF4             4                    1.000   -3.633 107.921\n",
       "6915 ARXPPEY1187FB51DF4             4                    0.991   -4.315 110.501\n",
       "     tempo_confidence key key_confidence    energy pitch timbre_0_min\n",
       "4329            0.892  11          0.134 0.7262479 0.004        0.500\n",
       "6207            0.805  11          0.661 0.4375286 0.002        0.000\n",
       "6210            0.535   9          0.494 0.9037198 0.015        0.007\n",
       "6218            1.000   5          0.620 0.9038237 0.003        0.000\n",
       "6915            0.949  11          0.720 0.7602297 0.008        0.000\n",
       "     timbre_0_max timbre_1_min timbre_1_max timbre_2_min timbre_2_max\n",
       "4329       59.662      -44.825      304.609     -246.769      115.353\n",
       "6207       58.673      -98.062      171.130     -194.199      103.390\n",
       "6210       57.756     -170.413      223.079     -159.855      221.169\n",
       "6218       56.621      -95.012      198.624     -180.254      135.532\n",
       "6915       58.705     -106.832      349.619     -162.832      145.596\n",
       "     timbre_3_min timbre_3_max timbre_4_min timbre_4_max timbre_5_min\n",
       "4329     -196.928      493.186      -48.145      130.931     -146.243\n",
       "6207     -204.004      163.420      -30.201      128.268     -108.666\n",
       "6210     -130.112      313.571      -46.880      136.343     -127.658\n",
       "6218     -229.012      181.773      -50.449      118.126     -112.359\n",
       "6915     -306.947      302.134      -52.034      124.492     -129.339\n",
       "     timbre_5_max timbre_6_min timbre_6_max timbre_7_min timbre_7_max\n",
       "4329      180.716     -106.361       65.637     -109.166      120.076\n",
       "6207       89.808      -79.784       67.505     -131.455       90.735\n",
       "6210      148.704     -105.303       85.290      -97.571      107.974\n",
       "6218      187.657     -103.364       72.257     -133.092      146.587\n",
       "6915      237.563     -109.739       71.140     -106.173      124.354\n",
       "     timbre_8_min timbre_8_max timbre_9_min timbre_9_max timbre_10_min\n",
       "4329      -53.839       63.576      -85.169       84.840      -102.185\n",
       "6207      -61.583       60.920      -55.904       76.632       -69.799\n",
       "6210      -55.063       52.505     -110.999       71.477      -133.939\n",
       "6218      -58.117       62.157      -54.440       94.501      -112.348\n",
       "6915      -78.303       41.322      -83.184      106.263      -136.109\n",
       "     timbre_10_max timbre_11_min timbre_11_max Top10\n",
       "4329        55.266       -48.107        56.116     1\n",
       "6207        46.173       -67.281        47.128     1\n",
       "6210        60.442       -55.008        43.473     1\n",
       "6218        90.437       -53.634        51.681     1\n",
       "6915       102.829       -48.192        74.575     1"
      ]
     },
     "execution_count": 12,
     "metadata": {},
     "output_type": "execute_result"
    }
   ],
   "source": [
    "subset(data, artistname == 'Michael Jackson' & Top10 == T)"
   ]
  },
  {
   "cell_type": "code",
   "execution_count": 13,
   "metadata": {
    "collapsed": false
   },
   "outputs": [
    {
     "data": {
      "text/plain": [
       "\n",
       "   0    1    3    4    5    7 \n",
       "  10  143  503 6787  112   19 "
      ]
     },
     "execution_count": 13,
     "metadata": {},
     "output_type": "execute_result"
    }
   ],
   "source": [
    "table(data$timesignature)"
   ]
  },
  {
   "cell_type": "code",
   "execution_count": 17,
   "metadata": {
    "collapsed": false
   },
   "outputs": [
    {
     "data": {
      "text/html": [
       "<table>\n",
       "<thead><tr><th></th><th scope=col>year</th><th scope=col>songtitle</th><th scope=col>artistname</th><th scope=col>songID</th><th scope=col>artistID</th><th scope=col>timesignature</th><th scope=col>timesignature_confidence</th><th scope=col>loudness</th><th scope=col>tempo</th><th scope=col>tempo_confidence</th><th scope=col>ellip.h</th><th scope=col>timbre_7_max</th><th scope=col>timbre_8_min</th><th scope=col>timbre_8_max</th><th scope=col>timbre_9_min</th><th scope=col>timbre_9_max</th><th scope=col>timbre_10_min</th><th scope=col>timbre_10_max</th><th scope=col>timbre_11_min</th><th scope=col>timbre_11_max</th><th scope=col>Top10</th></tr></thead>\n",
       "<tbody>\n",
       "\t<tr><th scope=row>6206</th><td>1995</td><td>Wanna Be Startin' Somethin'</td><td>Michael Jackson</td><td>SONHIQM13738B7BE80</td><td>ARXPPEY1187FB51DF4</td><td>3</td><td>1</td><td>-14.528</td><td>244.307</td><td>0.566</td><td><e2><8b><af></td><td>93.6</td><td>-52.012</td><td>95.827</td><td>-63.554</td><td>84.129</td><td>-53.492</td><td>67.001</td><td>-73.421</td><td>67.308</td><td>0</td></tr>\n",
       "\t<tr><th scope=row>5946</th><td>1996</td><td>Zodijackyl Light</td><td>Dark Tranquillity</td><td>SOSMMKR1373EF49777</td><td>AR27M2F1187B9B1C50</td><td>4</td><td>0.526</td><td>-11.418</td><td>237.457</td><td>0.21</td><td><e2><8b><af></td><td>58.098</td><td>-66.722</td><td>42.489</td><td>-28.941</td><td>54.068</td><td>-46.201</td><td>28.347</td><td>-37.549</td><td>32.705</td><td>0</td></tr>\n",
       "\t<tr><th scope=row>4091</th><td>2002</td><td>You're a Fucking Bastard</td><td>The Exploited</td><td>SOCKWLO12D85320AB2</td><td>AR39QZK1187B9B1846</td><td>1</td><td>0</td><td>-5.677</td><td>233.982</td><td>0.338</td><td><e2><8b><af></td><td>60.9</td><td>-49.601</td><td>46.883</td><td>-26.752</td><td>55.947</td><td>-108.579</td><td>40.632</td><td>-37.253</td><td>37.228</td><td>0</td></tr>\n",
       "\t<tr><th scope=row>1186</th><td>2008</td><td>Relentless</td><td>Strapping Young Lad</td><td>SODQTAK1377A1A8EB1</td><td>AR4IE571187FB4ECE1</td><td>4</td><td>0</td><td>-5.635</td><td>232.134</td><td>0.273</td><td><e2><8b><af></td><td>33.87</td><td>-28.485</td><td>31.267</td><td>-19.105</td><td>26.089</td><td>-71.759</td><td>35.007</td><td>-34.933</td><td>46.1</td><td>0</td></tr>\n",
       "\t<tr><th scope=row>4760</th><td>2000</td><td>The Chainheart Machine</td><td>Soilwork</td><td>SOSZFZT13775661184</td><td>ARUF32D1187B9B157E</td><td>4</td><td>0.327</td><td>-7.148</td><td>218.403</td><td>0</td><td><e2><8b><af></td><td>78.386</td><td>-46.363</td><td>18.003</td><td>-53.302</td><td>49.581</td><td>-174.787</td><td>22.26</td><td>-39.892</td><td>30.76</td><td>0</td></tr>\n",
       "\t<tr><th scope=row>1201</th><td>2008</td><td>Take It</td><td>Taproot</td><td>SOIEMEH131634A6F0D</td><td>ARB9VHL1187B9AEC3F</td><td>3</td><td>1</td><td>-4.229</td><td>218.207</td><td>0.177</td><td><e2><8b><af></td><td>68.613</td><td>-52.242</td><td>49.196</td><td>-33.076</td><td>57.878</td><td>-119.559</td><td>33.956</td><td>-33.002</td><td>39.616</td><td>0</td></tr>\n",
       "</tbody>\n",
       "</table>\n"
      ],
      "text/latex": [
       "\\begin{tabular}{r|lllllllllllllllllllllllllllllllllllllll}\n",
       "  & year & songtitle & artistname & songID & artistID & timesignature & timesignature_confidence & loudness & tempo & tempo_confidence & ellip.h & timbre_7_max & timbre_8_min & timbre_8_max & timbre_9_min & timbre_9_max & timbre_10_min & timbre_10_max & timbre_11_min & timbre_11_max & Top10\\\\\n",
       "\\hline\n",
       "\t6206 & 1995 & Wanna Be Startin' Somethin' & Michael Jackson & SONHIQM13738B7BE80 & ARXPPEY1187FB51DF4 & 3 & 1 & -14.528 & 244.307 & 0.566 & <e2><8b><af> & 93.6 & -52.012 & 95.827 & -63.554 & 84.129 & -53.492 & 67.001 & -73.421 & 67.308 & 0\\\\\n",
       "\t5946 & 1996 & Zodijackyl Light & Dark Tranquillity & SOSMMKR1373EF49777 & AR27M2F1187B9B1C50 & 4 & 0.526 & -11.418 & 237.457 & 0.21 & <e2><8b><af> & 58.098 & -66.722 & 42.489 & -28.941 & 54.068 & -46.201 & 28.347 & -37.549 & 32.705 & 0\\\\\n",
       "\t4091 & 2002 & You're a Fucking Bastard & The Exploited & SOCKWLO12D85320AB2 & AR39QZK1187B9B1846 & 1 & 0 & -5.677 & 233.982 & 0.338 & <e2><8b><af> & 60.9 & -49.601 & 46.883 & -26.752 & 55.947 & -108.579 & 40.632 & -37.253 & 37.228 & 0\\\\\n",
       "\t1186 & 2008 & Relentless & Strapping Young Lad & SODQTAK1377A1A8EB1 & AR4IE571187FB4ECE1 & 4 & 0 & -5.635 & 232.134 & 0.273 & <e2><8b><af> & 33.87 & -28.485 & 31.267 & -19.105 & 26.089 & -71.759 & 35.007 & -34.933 & 46.1 & 0\\\\\n",
       "\t4760 & 2000 & The Chainheart Machine & Soilwork & SOSZFZT13775661184 & ARUF32D1187B9B157E & 4 & 0.327 & -7.148 & 218.403 & 0 & <e2><8b><af> & 78.386 & -46.363 & 18.003 & -53.302 & 49.581 & -174.787 & 22.26 & -39.892 & 30.76 & 0\\\\\n",
       "\t1201 & 2008 & Take It & Taproot & SOIEMEH131634A6F0D & ARB9VHL1187B9AEC3F & 3 & 1 & -4.229 & 218.207 & 0.177 & <e2><8b><af> & 68.613 & -52.242 & 49.196 & -33.076 & 57.878 & -119.559 & 33.956 & -33.002 & 39.616 & 0\\\\\n",
       "\\end{tabular}\n"
      ],
      "text/plain": [
       "     year                   songtitle          artistname             songID\n",
       "6206 1995 Wanna Be Startin' Somethin'     Michael Jackson SONHIQM13738B7BE80\n",
       "5946 1996            Zodijackyl Light   Dark Tranquillity SOSMMKR1373EF49777\n",
       "4091 2002    You're a Fucking Bastard       The Exploited SOCKWLO12D85320AB2\n",
       "1186 2008                  Relentless Strapping Young Lad SODQTAK1377A1A8EB1\n",
       "4760 2000      The Chainheart Machine            Soilwork SOSZFZT13775661184\n",
       "1201 2008                     Take It             Taproot SOIEMEH131634A6F0D\n",
       "               artistID timesignature timesignature_confidence loudness   tempo\n",
       "6206 ARXPPEY1187FB51DF4             3                    1.000  -14.528 244.307\n",
       "5946 AR27M2F1187B9B1C50             4                    0.526  -11.418 237.457\n",
       "4091 AR39QZK1187B9B1846             1                    0.000   -5.677 233.982\n",
       "1186 AR4IE571187FB4ECE1             4                    0.000   -5.635 232.134\n",
       "4760 ARUF32D1187B9B157E             4                    0.327   -7.148 218.403\n",
       "1201 ARB9VHL1187B9AEC3F             3                    1.000   -4.229 218.207\n",
       "     tempo_confidence key key_confidence    energy pitch timbre_0_min\n",
       "6206            0.566   6          0.440 0.6379941 0.009       11.840\n",
       "5946            0.210   1          0.735 0.9758928 0.020        0.277\n",
       "4091            0.338   1          0.681 0.9816851 0.015        5.293\n",
       "1186            0.273   1          0.255 0.9853972 0.021        0.004\n",
       "4760            0.000  11          0.880 0.9889967 0.029        0.000\n",
       "1201            0.177   2          0.367 0.9762455 0.020       15.227\n",
       "     timbre_0_max timbre_1_min timbre_1_max timbre_2_min timbre_2_max\n",
       "6206       44.378      -80.400      187.038     -106.470      220.751\n",
       "5946       51.265      -73.364      233.287     -126.014      200.966\n",
       "4091       54.336     -202.536      143.015     -168.773       86.208\n",
       "1186       56.715       32.727      171.054      -58.185       52.008\n",
       "4760       55.314        7.696      179.298     -157.358      167.659\n",
       "1201       56.667       -5.680      181.148      -86.388      154.166\n",
       "     timbre_3_min timbre_3_max timbre_4_min timbre_4_max timbre_5_min\n",
       "6206      -79.722      199.699      -77.158      147.564      -68.229\n",
       "5946      -77.986      109.513      -74.279      128.201      -83.059\n",
       "4091     -104.094      224.025     -118.557       34.375      -74.913\n",
       "1186     -101.999      128.657      -62.474       57.575      -69.647\n",
       "4760     -291.696      406.137      -50.365       91.023      -99.459\n",
       "1201     -327.447      185.665      -68.249       58.018      -79.600\n",
       "     timbre_5_max timbre_6_min timbre_6_max timbre_7_min timbre_7_max\n",
       "6206      186.391     -110.029       63.148      -58.978       93.600\n",
       "5946      107.924      -81.226       51.369      -41.260       58.098\n",
       "4091       45.120      -26.064       91.916      -79.658       60.900\n",
       "1186      117.034      -40.123       57.142      -31.888       33.870\n",
       "4760      175.362      -73.252       67.408      -42.432       78.386\n",
       "1201       81.716      -68.978       72.663      -41.392       68.613\n",
       "     timbre_8_min timbre_8_max timbre_9_min timbre_9_max timbre_10_min\n",
       "6206      -52.012       95.827      -63.554       84.129       -53.492\n",
       "5946      -66.722       42.489      -28.941       54.068       -46.201\n",
       "4091      -49.601       46.883      -26.752       55.947      -108.579\n",
       "1186      -28.485       31.267      -19.105       26.089       -71.759\n",
       "4760      -46.363       18.003      -53.302       49.581      -174.787\n",
       "1201      -52.242       49.196      -33.076       57.878      -119.559\n",
       "     timbre_10_max timbre_11_min timbre_11_max Top10\n",
       "6206        67.001       -73.421        67.308     0\n",
       "5946        28.347       -37.549        32.705     0\n",
       "4091        40.632       -37.253        37.228     0\n",
       "1186        35.007       -34.933        46.100     0\n",
       "4760        22.260       -39.892        30.760     0\n",
       "1201        33.956       -33.002        39.616     0"
      ]
     },
     "execution_count": 17,
     "metadata": {},
     "output_type": "execute_result"
    }
   ],
   "source": [
    "head(data[with(data, order(-tempo)),])"
   ]
  },
  {
   "cell_type": "code",
   "execution_count": 19,
   "metadata": {
    "collapsed": false
   },
   "outputs": [
    {
     "name": "stdout",
     "output_type": "stream",
     "text": [
      "'data.frame':\t7201 obs. of  39 variables:\n",
      " $ year                    : int  2009 2009 2009 2009 2009 2009 2009 2009 2009 2009 ...\n",
      " $ songtitle               : Factor w/ 7141 levels \"#1\",\"'03 Bonnie & Clyde\",..: 5788 4924 5621 5898 680 1534 3623 3484 6111 3717 ...\n",
      " $ artistname              : Factor w/ 1032 levels \"50 Cent\",\"98 Degrees\",..: 56 56 56 56 56 56 56 56 56 56 ...\n",
      " $ songID                  : Factor w/ 7549 levels \"SOAACNI1315CD4AC42\",..: 6523 2870 724 3107 7228 5195 3690 5818 3631 3023 ...\n",
      " $ artistID                : Factor w/ 1047 levels \"AR00B1I1187FB433EB\",..: 371 371 371 371 371 371 371 371 371 371 ...\n",
      " $ timesignature           : int  3 3 4 4 4 4 4 4 4 4 ...\n",
      " $ timesignature_confidence: num  0.732 0.906 0.987 0.822 0.983 1 0.821 0.997 0.816 1 ...\n",
      " $ loudness                : num  -6.32 -9.54 -4.84 -5.27 -6.23 ...\n",
      " $ tempo                   : num  89.6 117.7 119 71.5 77.5 ...\n",
      " $ tempo_confidence        : num  0.652 0.542 0.838 0.613 0.74 0.821 0.912 0.609 0.786 0.27 ...\n",
      " $ key                     : int  1 0 6 4 8 9 6 9 0 9 ...\n",
      " $ key_confidence          : num  0.773 0.722 0.106 0.781 0.552 0.218 0.275 0.333 0.634 0.578 ...\n",
      " $ energy                  : num  0.599 0.363 0.76 0.755 0.524 ...\n",
      " $ pitch                   : num  0.004 0.006 0.003 0.014 0.008 0.012 0.002 0.003 0.001 0.006 ...\n",
      " $ timbre_0_min            : num  0 0.739 0 0 0 ...\n",
      " $ timbre_0_max            : num  57.8 57.1 57.8 58.3 57.6 ...\n",
      " $ timbre_1_min            : num  -62.3 -220.2 -189.7 -113.9 -160.6 ...\n",
      " $ timbre_1_max            : num  286 241 187 171 217 ...\n",
      " $ timbre_2_min            : num  -81.8 -96.8 -139.1 -71.6 -79.5 ...\n",
      " $ timbre_2_max            : num  211 215 135 195 114 ...\n",
      " $ timbre_3_min            : num  -217 -202 -116 -276 -184 ...\n",
      " $ timbre_3_max            : num  203.2 124.2 94.7 146.3 108.7 ...\n",
      " $ timbre_4_min            : num  -55.9 -52.4 -55.6 -59.4 -31.9 ...\n",
      " $ timbre_4_max            : num  97.6 131.9 79.3 121.7 169.7 ...\n",
      " $ timbre_5_min            : num  -62.5 -73.9 -73.5 -71.1 -73 ...\n",
      " $ timbre_5_max            : num  82.2 73.6 41 39.6 233.9 ...\n",
      " $ timbre_6_min            : num  -82.1 -63.5 -41.5 -77.8 -76 ...\n",
      " $ timbre_6_max            : num  59.2 70.1 62.8 94.5 58 ...\n",
      " $ timbre_7_min            : num  -109.4 -90.1 -69.3 -69.1 -78.8 ...\n",
      " $ timbre_7_max            : num  71 112.9 90.4 93.4 100.8 ...\n",
      " $ timbre_8_min            : num  -71.8 -64.5 -52.5 -55.8 -61.4 ...\n",
      " $ timbre_8_max            : num  58.4 58.1 40.7 79 50.3 ...\n",
      " $ timbre_9_min            : num  -53.8 -76.9 -50.4 -51.5 -63 ...\n",
      " $ timbre_9_max            : num  88.6 74.4 58.8 70.5 96.8 ...\n",
      " $ timbre_10_min           : num  -89.8 -88.2 -78.2 -74.9 -90.4 ...\n",
      " $ timbre_10_max           : num  38 42.2 35.3 30.8 60.5 ...\n",
      " $ timbre_11_min           : num  -52.1 -66.8 -54.2 -51.4 -52.1 ...\n",
      " $ timbre_11_max           : num  52.8 40.7 46.5 27.8 48.1 ...\n",
      " $ Top10                   : int  0 0 0 0 0 0 0 0 0 0 ...\n"
     ]
    }
   ],
   "source": [
    "Train = subset(data, year<=2009)\n",
    "Test = subset(data, year>=2010)\n",
    "str(Train)"
   ]
  },
  {
   "cell_type": "code",
   "execution_count": 24,
   "metadata": {
    "collapsed": false
   },
   "outputs": [],
   "source": [
    "nonvars = c('year', 'songtitle', 'artistname', 'songID', 'artistID')\n",
    "Train = Train[, !(names(Train) %in% nonvars)]\n",
    "Test = Test[, !(names(Test) %in% nonvars)]"
   ]
  },
  {
   "cell_type": "code",
   "execution_count": 26,
   "metadata": {
    "collapsed": false
   },
   "outputs": [
    {
     "data": {
      "text/plain": [
       "\n",
       "Call:\n",
       "glm(formula = Top10 ~ ., family = binomial, data = Train)\n",
       "\n",
       "Deviance Residuals: \n",
       "    Min       1Q   Median       3Q      Max  \n",
       "-1.9220  -0.5399  -0.3459  -0.1845   3.0770  \n",
       "\n",
       "Coefficients:\n",
       "                           Estimate Std. Error z value Pr(>|z|)    \n",
       "(Intercept)               1.470e+01  1.806e+00   8.138 4.03e-16 ***\n",
       "timesignature             1.264e-01  8.674e-02   1.457 0.145050    \n",
       "timesignature_confidence  7.450e-01  1.953e-01   3.815 0.000136 ***\n",
       "loudness                  2.999e-01  2.917e-02  10.282  < 2e-16 ***\n",
       "tempo                     3.634e-04  1.691e-03   0.215 0.829889    \n",
       "tempo_confidence          4.732e-01  1.422e-01   3.329 0.000873 ***\n",
       "key                       1.588e-02  1.039e-02   1.529 0.126349    \n",
       "key_confidence            3.087e-01  1.412e-01   2.187 0.028760 *  \n",
       "energy                   -1.502e+00  3.099e-01  -4.847 1.25e-06 ***\n",
       "pitch                    -4.491e+01  6.835e+00  -6.570 5.02e-11 ***\n",
       "timbre_0_min              2.316e-02  4.256e-03   5.441 5.29e-08 ***\n",
       "timbre_0_max             -3.310e-01  2.569e-02 -12.882  < 2e-16 ***\n",
       "timbre_1_min              5.881e-03  7.798e-04   7.542 4.64e-14 ***\n",
       "timbre_1_max             -2.449e-04  7.152e-04  -0.342 0.732087    \n",
       "timbre_2_min             -2.127e-03  1.126e-03  -1.889 0.058843 .  \n",
       "timbre_2_max              6.586e-04  9.066e-04   0.726 0.467571    \n",
       "timbre_3_min              6.920e-04  5.985e-04   1.156 0.247583    \n",
       "timbre_3_max             -2.967e-03  5.815e-04  -5.103 3.34e-07 ***\n",
       "timbre_4_min              1.040e-02  1.985e-03   5.237 1.63e-07 ***\n",
       "timbre_4_max              6.110e-03  1.550e-03   3.942 8.10e-05 ***\n",
       "timbre_5_min             -5.598e-03  1.277e-03  -4.385 1.16e-05 ***\n",
       "timbre_5_max              7.736e-05  7.935e-04   0.097 0.922337    \n",
       "timbre_6_min             -1.686e-02  2.264e-03  -7.445 9.66e-14 ***\n",
       "timbre_6_max              3.668e-03  2.190e-03   1.675 0.093875 .  \n",
       "timbre_7_min             -4.549e-03  1.781e-03  -2.554 0.010661 *  \n",
       "timbre_7_max             -3.774e-03  1.832e-03  -2.060 0.039408 *  \n",
       "timbre_8_min              3.911e-03  2.851e-03   1.372 0.170123    \n",
       "timbre_8_max              4.011e-03  3.003e-03   1.336 0.181620    \n",
       "timbre_9_min              1.367e-03  2.998e-03   0.456 0.648356    \n",
       "timbre_9_max              1.603e-03  2.434e-03   0.659 0.510188    \n",
       "timbre_10_min             4.126e-03  1.839e-03   2.244 0.024852 *  \n",
       "timbre_10_max             5.825e-03  1.769e-03   3.292 0.000995 ***\n",
       "timbre_11_min            -2.625e-02  3.693e-03  -7.108 1.18e-12 ***\n",
       "timbre_11_max             1.967e-02  3.385e-03   5.811 6.21e-09 ***\n",
       "---\n",
       "Signif. codes:  0 '***' 0.001 '**' 0.01 '*' 0.05 '.' 0.1 ' ' 1\n",
       "\n",
       "(Dispersion parameter for binomial family taken to be 1)\n",
       "\n",
       "    Null deviance: 6017.5  on 7200  degrees of freedom\n",
       "Residual deviance: 4759.2  on 7167  degrees of freedom\n",
       "AIC: 4827.2\n",
       "\n",
       "Number of Fisher Scoring iterations: 6\n"
      ]
     },
     "execution_count": 26,
     "metadata": {},
     "output_type": "execute_result"
    }
   ],
   "source": [
    "model1 = glm(Top10 ~ ., data=Train, family = binomial)\n",
    "summary(model1)"
   ]
  },
  {
   "cell_type": "code",
   "execution_count": 27,
   "metadata": {
    "collapsed": false
   },
   "outputs": [
    {
     "data": {
      "text/html": [
       "0.739906708455806"
      ],
      "text/latex": [
       "0.739906708455806"
      ],
      "text/markdown": [
       "0.739906708455806"
      ],
      "text/plain": [
       "[1] 0.7399067"
      ]
     },
     "execution_count": 27,
     "metadata": {},
     "output_type": "execute_result"
    }
   ],
   "source": [
    "cor(Train$loudness, Train$energy)"
   ]
  },
  {
   "cell_type": "code",
   "execution_count": 28,
   "metadata": {
    "collapsed": false
   },
   "outputs": [
    {
     "data": {
      "text/plain": [
       "\n",
       "Call:\n",
       "glm(formula = Top10 ~ . - loudness, family = binomial, data = Train)\n",
       "\n",
       "Deviance Residuals: \n",
       "    Min       1Q   Median       3Q      Max  \n",
       "-2.0983  -0.5607  -0.3602  -0.1902   3.3107  \n",
       "\n",
       "Coefficients:\n",
       "                           Estimate Std. Error z value Pr(>|z|)    \n",
       "(Intercept)              -2.241e+00  7.465e-01  -3.002 0.002686 ** \n",
       "timesignature             1.625e-01  8.734e-02   1.860 0.062873 .  \n",
       "timesignature_confidence  6.885e-01  1.924e-01   3.578 0.000346 ***\n",
       "tempo                     5.521e-04  1.665e-03   0.332 0.740226    \n",
       "tempo_confidence          5.497e-01  1.407e-01   3.906 9.40e-05 ***\n",
       "key                       1.740e-02  1.026e-02   1.697 0.089740 .  \n",
       "key_confidence            2.954e-01  1.394e-01   2.118 0.034163 *  \n",
       "energy                    1.813e-01  2.608e-01   0.695 0.486991    \n",
       "pitch                    -5.150e+01  6.857e+00  -7.511 5.87e-14 ***\n",
       "timbre_0_min              2.479e-02  4.240e-03   5.847 5.01e-09 ***\n",
       "timbre_0_max             -1.007e-01  1.178e-02  -8.551  < 2e-16 ***\n",
       "timbre_1_min              7.143e-03  7.710e-04   9.265  < 2e-16 ***\n",
       "timbre_1_max             -7.830e-04  7.064e-04  -1.108 0.267650    \n",
       "timbre_2_min             -1.579e-03  1.109e-03  -1.424 0.154531    \n",
       "timbre_2_max              3.889e-04  8.964e-04   0.434 0.664427    \n",
       "timbre_3_min              6.500e-04  5.949e-04   1.093 0.274524    \n",
       "timbre_3_max             -2.462e-03  5.674e-04  -4.339 1.43e-05 ***\n",
       "timbre_4_min              9.115e-03  1.952e-03   4.670 3.02e-06 ***\n",
       "timbre_4_max              6.306e-03  1.532e-03   4.115 3.87e-05 ***\n",
       "timbre_5_min             -5.641e-03  1.255e-03  -4.495 6.95e-06 ***\n",
       "timbre_5_max              6.937e-04  7.807e-04   0.889 0.374256    \n",
       "timbre_6_min             -1.612e-02  2.235e-03  -7.214 5.45e-13 ***\n",
       "timbre_6_max              3.814e-03  2.157e-03   1.768 0.076982 .  \n",
       "timbre_7_min             -5.102e-03  1.755e-03  -2.907 0.003644 ** \n",
       "timbre_7_max             -3.158e-03  1.811e-03  -1.744 0.081090 .  \n",
       "timbre_8_min              4.488e-03  2.810e-03   1.597 0.110254    \n",
       "timbre_8_max              6.423e-03  2.950e-03   2.177 0.029497 *  \n",
       "timbre_9_min             -4.282e-04  2.955e-03  -0.145 0.884792    \n",
       "timbre_9_max              3.525e-03  2.377e-03   1.483 0.138017    \n",
       "timbre_10_min             2.993e-03  1.804e-03   1.660 0.097004 .  \n",
       "timbre_10_max             7.367e-03  1.731e-03   4.255 2.09e-05 ***\n",
       "timbre_11_min            -2.837e-02  3.630e-03  -7.815 5.48e-15 ***\n",
       "timbre_11_max             1.829e-02  3.341e-03   5.476 4.34e-08 ***\n",
       "---\n",
       "Signif. codes:  0 '***' 0.001 '**' 0.01 '*' 0.05 '.' 0.1 ' ' 1\n",
       "\n",
       "(Dispersion parameter for binomial family taken to be 1)\n",
       "\n",
       "    Null deviance: 6017.5  on 7200  degrees of freedom\n",
       "Residual deviance: 4871.8  on 7168  degrees of freedom\n",
       "AIC: 4937.8\n",
       "\n",
       "Number of Fisher Scoring iterations: 6\n"
      ]
     },
     "execution_count": 28,
     "metadata": {},
     "output_type": "execute_result"
    }
   ],
   "source": [
    "model2 = glm(Top10 ~ . - loudness, data=Train, family = binomial)\n",
    "summary(model2)"
   ]
  },
  {
   "cell_type": "code",
   "execution_count": 30,
   "metadata": {
    "collapsed": false
   },
   "outputs": [
    {
     "data": {
      "text/plain": [
       "\n",
       "Call:\n",
       "glm(formula = Top10 ~ . - energy, family = binomial, data = Train)\n",
       "\n",
       "Deviance Residuals: \n",
       "    Min       1Q   Median       3Q      Max  \n",
       "-1.9182  -0.5417  -0.3481  -0.1874   3.4171  \n",
       "\n",
       "Coefficients:\n",
       "                           Estimate Std. Error z value Pr(>|z|)    \n",
       "(Intercept)               1.196e+01  1.714e+00   6.977 3.01e-12 ***\n",
       "timesignature             1.151e-01  8.726e-02   1.319 0.187183    \n",
       "timesignature_confidence  7.143e-01  1.946e-01   3.670 0.000242 ***\n",
       "loudness                  2.306e-01  2.528e-02   9.120  < 2e-16 ***\n",
       "tempo                    -6.460e-04  1.665e-03  -0.388 0.698107    \n",
       "tempo_confidence          3.841e-01  1.398e-01   2.747 0.006019 ** \n",
       "key                       1.649e-02  1.035e-02   1.593 0.111056    \n",
       "key_confidence            3.394e-01  1.409e-01   2.409 0.015984 *  \n",
       "pitch                    -5.328e+01  6.733e+00  -7.914 2.49e-15 ***\n",
       "timbre_0_min              2.205e-02  4.239e-03   5.200 1.99e-07 ***\n",
       "timbre_0_max             -3.105e-01  2.537e-02 -12.240  < 2e-16 ***\n",
       "timbre_1_min              5.416e-03  7.643e-04   7.086 1.38e-12 ***\n",
       "timbre_1_max             -5.115e-04  7.110e-04  -0.719 0.471928    \n",
       "timbre_2_min             -2.254e-03  1.120e-03  -2.012 0.044190 *  \n",
       "timbre_2_max              4.119e-04  9.020e-04   0.457 0.647915    \n",
       "timbre_3_min              3.179e-04  5.869e-04   0.542 0.588083    \n",
       "timbre_3_max             -2.964e-03  5.758e-04  -5.147 2.64e-07 ***\n",
       "timbre_4_min              1.105e-02  1.978e-03   5.585 2.34e-08 ***\n",
       "timbre_4_max              6.467e-03  1.541e-03   4.196 2.72e-05 ***\n",
       "timbre_5_min             -5.135e-03  1.269e-03  -4.046 5.21e-05 ***\n",
       "timbre_5_max              2.979e-04  7.855e-04   0.379 0.704526    \n",
       "timbre_6_min             -1.784e-02  2.246e-03  -7.945 1.94e-15 ***\n",
       "timbre_6_max              3.447e-03  2.182e-03   1.580 0.114203    \n",
       "timbre_7_min             -5.128e-03  1.768e-03  -2.900 0.003733 ** \n",
       "timbre_7_max             -3.394e-03  1.820e-03  -1.865 0.062208 .  \n",
       "timbre_8_min              3.686e-03  2.833e-03   1.301 0.193229    \n",
       "timbre_8_max              4.658e-03  2.988e-03   1.559 0.119022    \n",
       "timbre_9_min             -9.318e-05  2.957e-03  -0.032 0.974859    \n",
       "timbre_9_max              1.342e-03  2.424e-03   0.554 0.579900    \n",
       "timbre_10_min             4.050e-03  1.827e-03   2.217 0.026637 *  \n",
       "timbre_10_max             5.793e-03  1.759e-03   3.294 0.000988 ***\n",
       "timbre_11_min            -2.638e-02  3.683e-03  -7.162 7.96e-13 ***\n",
       "timbre_11_max             1.984e-02  3.365e-03   5.896 3.74e-09 ***\n",
       "---\n",
       "Signif. codes:  0 '***' 0.001 '**' 0.01 '*' 0.05 '.' 0.1 ' ' 1\n",
       "\n",
       "(Dispersion parameter for binomial family taken to be 1)\n",
       "\n",
       "    Null deviance: 6017.5  on 7200  degrees of freedom\n",
       "Residual deviance: 4782.7  on 7168  degrees of freedom\n",
       "AIC: 4848.7\n",
       "\n",
       "Number of Fisher Scoring iterations: 6\n"
      ]
     },
     "execution_count": 30,
     "metadata": {},
     "output_type": "execute_result"
    }
   ],
   "source": [
    "model3 = glm(Top10 ~ . - energy, data=Train, family = binomial)\n",
    "summary(model3)"
   ]
  },
  {
   "cell_type": "code",
   "execution_count": 33,
   "metadata": {
    "collapsed": false
   },
   "outputs": [],
   "source": [
    "pred = predict(model3, newdata = Test, type = 'response')"
   ]
  },
  {
   "cell_type": "code",
   "execution_count": 36,
   "metadata": {
    "collapsed": false
   },
   "outputs": [
    {
     "data": {
      "text/plain": [
       "   \n",
       "    FALSE TRUE\n",
       "  0   309    5\n",
       "  1    40   19"
      ]
     },
     "execution_count": 36,
     "metadata": {},
     "output_type": "execute_result"
    }
   ],
   "source": [
    "table(Test$Top10, pred > 0.45)"
   ]
  },
  {
   "cell_type": "code",
   "execution_count": 37,
   "metadata": {
    "collapsed": false
   },
   "outputs": [
    {
     "data": {
      "text/html": [
       "0.879356568364611"
      ],
      "text/latex": [
       "0.879356568364611"
      ],
      "text/markdown": [
       "0.879356568364611"
      ],
      "text/plain": [
       "[1] 0.8793566"
      ]
     },
     "execution_count": 37,
     "metadata": {},
     "output_type": "execute_result"
    }
   ],
   "source": [
    "(19+309)/(309+5+40+19)"
   ]
  },
  {
   "cell_type": "code",
   "execution_count": 40,
   "metadata": {
    "collapsed": false
   },
   "outputs": [
    {
     "data": {
      "text/html": [
       "0.841823056300268"
      ],
      "text/latex": [
       "0.841823056300268"
      ],
      "text/markdown": [
       "0.841823056300268"
      ],
      "text/plain": [
       "[1] 0.8418231"
      ]
     },
     "execution_count": 40,
     "metadata": {},
     "output_type": "execute_result"
    }
   ],
   "source": [
    "nrow(subset(Test, Top10==F)) / nrow(Test)"
   ]
  },
  {
   "cell_type": "code",
   "execution_count": 41,
   "metadata": {
    "collapsed": false
   },
   "outputs": [
    {
     "data": {
      "text/plain": [
       "\n",
       "  0   1 \n",
       "314  59 "
      ]
     },
     "execution_count": 41,
     "metadata": {},
     "output_type": "execute_result"
    }
   ],
   "source": [
    "table(Test$Top10)"
   ]
  },
  {
   "cell_type": "code",
   "execution_count": 42,
   "metadata": {
    "collapsed": false
   },
   "outputs": [
    {
     "data": {
      "text/html": [
       "0.322033898305085"
      ],
      "text/latex": [
       "0.322033898305085"
      ],
      "text/markdown": [
       "0.322033898305085"
      ],
      "text/plain": [
       "[1] 0.3220339"
      ]
     },
     "execution_count": 42,
     "metadata": {},
     "output_type": "execute_result"
    },
    {
     "data": {
      "text/html": [
       "0.984076433121019"
      ],
      "text/latex": [
       "0.984076433121019"
      ],
      "text/markdown": [
       "0.984076433121019"
      ],
      "text/plain": [
       "[1] 0.9840764"
      ]
     },
     "execution_count": 42,
     "metadata": {},
     "output_type": "execute_result"
    }
   ],
   "source": [
    "19/(19+40)\n",
    "309/(309+5)"
   ]
  },
  {
   "cell_type": "code",
   "execution_count": null,
   "metadata": {
    "collapsed": true
   },
   "outputs": [],
   "source": []
  }
 ],
 "metadata": {
  "kernelspec": {
   "display_name": "R",
   "language": "R",
   "name": "ir"
  },
  "language_info": {
   "codemirror_mode": "r",
   "file_extension": ".r",
   "mimetype": "text/x-r-source",
   "name": "R",
   "pygments_lexer": "r",
   "version": "3.2.4"
  }
 },
 "nbformat": 4,
 "nbformat_minor": 0
}
