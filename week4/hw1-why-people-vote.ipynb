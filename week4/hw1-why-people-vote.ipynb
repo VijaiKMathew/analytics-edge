{
 "cells": [
  {
   "cell_type": "code",
   "execution_count": 24,
   "metadata": {
    "collapsed": false
   },
   "outputs": [
    {
     "data": {
      "text/html": [
       "'LC_CTYPE=C;LC_NUMERIC=C;LC_TIME=C;LC_COLLATE=C;LC_MONETARY=C;LC_MESSAGES=en_US.UTF-8;LC_PAPER=en_US.UTF-8;LC_NAME=C;LC_ADDRESS=C;LC_TELEPHONE=C;LC_MEASUREMENT=en_US.UTF-8;LC_IDENTIFICATION=C'"
      ],
      "text/latex": [
       "'LC_CTYPE=C;LC_NUMERIC=C;LC_TIME=C;LC_COLLATE=C;LC_MONETARY=C;LC_MESSAGES=en_US.UTF-8;LC_PAPER=en_US.UTF-8;LC_NAME=C;LC_ADDRESS=C;LC_TELEPHONE=C;LC_MEASUREMENT=en_US.UTF-8;LC_IDENTIFICATION=C'"
      ],
      "text/markdown": [
       "'LC_CTYPE=C;LC_NUMERIC=C;LC_TIME=C;LC_COLLATE=C;LC_MONETARY=C;LC_MESSAGES=en_US.UTF-8;LC_PAPER=en_US.UTF-8;LC_NAME=C;LC_ADDRESS=C;LC_TELEPHONE=C;LC_MEASUREMENT=en_US.UTF-8;LC_IDENTIFICATION=C'"
      ],
      "text/plain": [
       "[1] \"LC_CTYPE=C;LC_NUMERIC=C;LC_TIME=C;LC_COLLATE=C;LC_MONETARY=C;LC_MESSAGES=en_US.UTF-8;LC_PAPER=en_US.UTF-8;LC_NAME=C;LC_ADDRESS=C;LC_TELEPHONE=C;LC_MEASUREMENT=en_US.UTF-8;LC_IDENTIFICATION=C\""
      ]
     },
     "execution_count": 24,
     "metadata": {},
     "output_type": "execute_result"
    }
   ],
   "source": [
    "options(device=pdf) # turn off flashy window on each block execution\n",
    "# par(mar=c(4,4,0,1)+0.1)\n",
    "# options(repr.plot.width=6, repr.plot.height=4)\n",
    "Sys.setlocale(\"LC_ALL\", \"C\")\n",
    "initialWidth = getOption('width')\n",
    "options(width=80) # for old folks like me who can't see shit and set font large"
   ]
  },
  {
   "cell_type": "code",
   "execution_count": 25,
   "metadata": {
    "collapsed": false
   },
   "outputs": [
    {
     "data": {
      "text/plain": [
       "      sex              yob           voting         hawthorne    \n",
       " Min.   :0.0000   Min.   :1900   Min.   :0.0000   Min.   :0.000  \n",
       " 1st Qu.:0.0000   1st Qu.:1947   1st Qu.:0.0000   1st Qu.:0.000  \n",
       " Median :0.0000   Median :1956   Median :0.0000   Median :0.000  \n",
       " Mean   :0.4993   Mean   :1956   Mean   :0.3159   Mean   :0.111  \n",
       " 3rd Qu.:1.0000   3rd Qu.:1965   3rd Qu.:1.0000   3rd Qu.:0.000  \n",
       " Max.   :1.0000   Max.   :1986   Max.   :1.0000   Max.   :1.000  \n",
       "   civicduty        neighbors          self           control      \n",
       " Min.   :0.0000   Min.   :0.000   Min.   :0.0000   Min.   :0.0000  \n",
       " 1st Qu.:0.0000   1st Qu.:0.000   1st Qu.:0.0000   1st Qu.:0.0000  \n",
       " Median :0.0000   Median :0.000   Median :0.0000   Median :1.0000  \n",
       " Mean   :0.1111   Mean   :0.111   Mean   :0.1111   Mean   :0.5558  \n",
       " 3rd Qu.:0.0000   3rd Qu.:0.000   3rd Qu.:0.0000   3rd Qu.:1.0000  \n",
       " Max.   :1.0000   Max.   :1.000   Max.   :1.0000   Max.   :1.0000  "
      ]
     },
     "execution_count": 25,
     "metadata": {},
     "output_type": "execute_result"
    }
   ],
   "source": [
    "data = read.csv('data/gerber.csv.xz')\n",
    "summary(data)"
   ]
  },
  {
   "cell_type": "code",
   "execution_count": 26,
   "metadata": {
    "collapsed": false
   },
   "outputs": [
    {
     "data": {
      "text/plain": [
       "\n",
       "        0         1 \n",
       "0.6854623 0.3145377 "
      ]
     },
     "execution_count": 26,
     "metadata": {},
     "output_type": "execute_result"
    },
    {
     "data": {
      "text/plain": [
       "\n",
       "        0         1 \n",
       "0.6776254 0.3223746 "
      ]
     },
     "execution_count": 26,
     "metadata": {},
     "output_type": "execute_result"
    },
    {
     "data": {
      "text/plain": [
       "\n",
       "        0         1 \n",
       "0.6548485 0.3451515 "
      ]
     },
     "execution_count": 26,
     "metadata": {},
     "output_type": "execute_result"
    },
    {
     "data": {
      "text/plain": [
       "\n",
       "        0         1 \n",
       "0.6220518 0.3779482 "
      ]
     },
     "execution_count": 26,
     "metadata": {},
     "output_type": "execute_result"
    }
   ],
   "source": [
    "#prop.table(table(data$voting))\n",
    "prop.table(table(subset(data, civicduty==1)$voting))\n",
    "prop.table(table(subset(data, hawthorne==1)$voting))\n",
    "prop.table(table(subset(data, self==1)$voting))\n",
    "prop.table(table(subset(data, neighbors==1)$voting))"
   ]
  },
  {
   "cell_type": "code",
   "execution_count": 27,
   "metadata": {
    "collapsed": false
   },
   "outputs": [
    {
     "data": {
      "text/html": [
       "<dl class=dl-horizontal>\n",
       "\t<dt>0</dt>\n",
       "\t\t<dd>0.316069782192202</dd>\n",
       "\t<dt>1</dt>\n",
       "\t\t<dd>0.314537652415092</dd>\n",
       "</dl>\n"
      ],
      "text/latex": [
       "\\begin{description*}\n",
       "\\item[0] 0.316069782192202\n",
       "\\item[1] 0.314537652415092\n",
       "\\end{description*}\n"
      ],
      "text/markdown": [
       "0\n",
       ":   0.3160697821922021\n",
       ":   0.314537652415092\n",
       "\n"
      ],
      "text/plain": [
       "        0         1 \n",
       "0.3160698 0.3145377 "
      ]
     },
     "execution_count": 27,
     "metadata": {},
     "output_type": "execute_result"
    }
   ],
   "source": [
    "tapply(data$voting, data$civicduty, mean)"
   ]
  },
  {
   "cell_type": "code",
   "execution_count": 28,
   "metadata": {
    "collapsed": false
   },
   "outputs": [
    {
     "data": {
      "text/plain": [
       "\n",
       "Call:\n",
       "glm(formula = voting ~ civicduty + hawthorne + self + neighbors, \n",
       "    family = \"binomial\", data = data)\n",
       "\n",
       "Deviance Residuals: \n",
       "    Min       1Q   Median       3Q      Max  \n",
       "-0.9744  -0.8691  -0.8389   1.4586   1.5590  \n",
       "\n",
       "Coefficients:\n",
       "             Estimate Std. Error  z value Pr(>|z|)    \n",
       "(Intercept) -0.863358   0.005006 -172.459  < 2e-16 ***\n",
       "civicduty    0.084368   0.012100    6.972 3.12e-12 ***\n",
       "hawthorne    0.120477   0.012037   10.009  < 2e-16 ***\n",
       "self         0.222937   0.011867   18.786  < 2e-16 ***\n",
       "neighbors    0.365092   0.011679   31.260  < 2e-16 ***\n",
       "---\n",
       "Signif. codes:  0 '***' 0.001 '**' 0.01 '*' 0.05 '.' 0.1 ' ' 1\n",
       "\n",
       "(Dispersion parameter for binomial family taken to be 1)\n",
       "\n",
       "    Null deviance: 429238  on 344083  degrees of freedom\n",
       "Residual deviance: 428090  on 344079  degrees of freedom\n",
       "AIC: 428100\n",
       "\n",
       "Number of Fisher Scoring iterations: 4\n"
      ]
     },
     "execution_count": 28,
     "metadata": {},
     "output_type": "execute_result"
    }
   ],
   "source": [
    "linreg = glm(voting ~ civicduty + hawthorne +\n",
    "             self + neighbors, data=data,\n",
    "             family='binomial')\n",
    "summary(linreg)"
   ]
  },
  {
   "cell_type": "code",
   "execution_count": 40,
   "metadata": {
    "collapsed": false
   },
   "outputs": [
    {
     "data": {
      "text/plain": [
       "   \n",
       "     FALSE   TRUE\n",
       "  0 134513 100875\n",
       "  1  56730  51966"
      ]
     },
     "execution_count": 40,
     "metadata": {},
     "output_type": "execute_result"
    }
   ],
   "source": [
    "pred = predict(linreg, type='response')\n",
    "t = table(data$voting, pred >= 0.3)\n",
    "accuracy <- function(x) {\n",
    "    sum(diag(x)) / sum(x);\n",
    "}\n",
    "t"
   ]
  },
  {
   "cell_type": "code",
   "execution_count": 41,
   "metadata": {
    "collapsed": false
   },
   "outputs": [
    {
     "data": {
      "text/html": [
       "0.541957777751944"
      ],
      "text/latex": [
       "0.541957777751944"
      ],
      "text/markdown": [
       "0.541957777751944"
      ],
      "text/plain": [
       "[1] 0.5419578"
      ]
     },
     "execution_count": 41,
     "metadata": {},
     "output_type": "execute_result"
    },
    {
     "data": {
      "text/html": [
       "0.541957777751944"
      ],
      "text/latex": [
       "0.541957777751944"
      ],
      "text/markdown": [
       "0.541957777751944"
      ],
      "text/plain": [
       "[1] 0.5419578"
      ]
     },
     "execution_count": 41,
     "metadata": {},
     "output_type": "execute_result"
    },
    {
     "data": {
      "text/html": [
       "0.541957777751944"
      ],
      "text/latex": [
       "0.541957777751944"
      ],
      "text/markdown": [
       "0.541957777751944"
      ],
      "text/plain": [
       "[1] 0.5419578"
      ]
     },
     "execution_count": 41,
     "metadata": {},
     "output_type": "execute_result"
    }
   ],
   "source": [
    "(134513+51966)/nrow(data)\n",
    "sum(diag(t)) / sum(t)\n",
    "accuracy(t)"
   ]
  },
  {
   "cell_type": "code",
   "execution_count": 42,
   "metadata": {
    "collapsed": false
   },
   "outputs": [
    {
     "data": {
      "text/html": [
       "0.684100394089815"
      ],
      "text/latex": [
       "0.684100394089815"
      ],
      "text/markdown": [
       "0.684100394089815"
      ],
      "text/plain": [
       "[1] 0.6841004"
      ]
     },
     "execution_count": 42,
     "metadata": {},
     "output_type": "execute_result"
    }
   ],
   "source": [
    "pred = predict(linreg, type='response')\n",
    "t = table(data$voting, pred >= 0.5)\n",
    "accuracy(t)"
   ]
  },
  {
   "cell_type": "code",
   "execution_count": 43,
   "metadata": {
    "collapsed": false
   },
   "outputs": [
    {
     "data": {
      "text/html": [
       "0.684100394089815"
      ],
      "text/latex": [
       "0.684100394089815"
      ],
      "text/markdown": [
       "0.684100394089815"
      ],
      "text/plain": [
       "[1] 0.6841004"
      ]
     },
     "execution_count": 43,
     "metadata": {},
     "output_type": "execute_result"
    }
   ],
   "source": [
    "1-mean(data$voting)"
   ]
  },
  {
   "cell_type": "code",
   "execution_count": 45,
   "metadata": {
    "collapsed": false
   },
   "outputs": [
    {
     "data": {
      "text/html": [
       "0.530846149206405"
      ],
      "text/latex": [
       "0.530846149206405"
      ],
      "text/markdown": [
       "0.530846149206405"
      ],
      "text/plain": [
       "[1] 0.5308461"
      ]
     },
     "execution_count": 45,
     "metadata": {},
     "output_type": "execute_result"
    }
   ],
   "source": [
    "library(ROCR)\n",
    "ROCRpred = prediction(pred, data$voting)\n",
    "as.numeric(performance(ROCRpred, 'auc')@y.values)"
   ]
  },
  {
   "cell_type": "code",
   "execution_count": 46,
   "metadata": {
    "collapsed": true
   },
   "outputs": [],
   "source": [
    "library(rpart)\n",
    "library(rpart.plot)"
   ]
  },
  {
   "cell_type": "code",
   "execution_count": 48,
   "metadata": {
    "collapsed": false
   },
   "outputs": [
    {
     "data": {
      "image/png": "[encoded data removed]",
      "image/svg+xml": [
       "<?xml version=\"1.0\" encoding=\"UTF-8\"?>\n",
       "<svg xmlns=\"http://www.w3.org/2000/svg\" xmlns:xlink=\"http://www.w3.org/1999/xlink\" width=\"288pt\" height=\"288pt\" viewBox=\"0 0 288 288\" version=\"1.1\">\n",
       "<defs>\n",
       "<g>\n",
       "<symbol overflow=\"visible\" id=\"glyph0-0\">\n",
       "<path style=\"stroke:none;\" d=\"\"/>\n",
       "</symbol>\n",
       "<symbol overflow=\"visible\" id=\"glyph0-1\">\n",
       "<path style=\"stroke:none;\" d=\"M 6.078125 -4.09375 C 6.078125 -7.046875 5.140625 -8.515625 3.296875 -8.515625 C 1.46875 -8.515625 0.515625 -7.015625 0.515625 -4.15625 C 0.515625 -1.296875 1.46875 0.1875 3.296875 0.1875 C 5.09375 0.1875 6.078125 -1.296875 6.078125 -4.09375 Z M 5 -4.1875 C 5 -1.78125 4.453125 -0.703125 3.28125 -0.703125 C 2.15625 -0.703125 1.59375 -1.828125 1.59375 -4.15625 C 1.59375 -6.484375 2.15625 -7.578125 3.296875 -7.578125 C 4.4375 -7.578125 5 -6.46875 5 -4.1875 Z M 5 -4.1875 \"/>\n",
       "</symbol>\n",
       "<symbol overflow=\"visible\" id=\"glyph0-2\">\n",
       "<path style=\"stroke:none;\" d=\"M 2.296875 0 L 2.296875 -1.25 L 1.046875 -1.25 L 1.046875 0 Z M 2.296875 0 \"/>\n",
       "</symbol>\n",
       "<symbol overflow=\"visible\" id=\"glyph0-3\">\n",
       "<path style=\"stroke:none;\" d=\"M 6.078125 -2.46875 C 6.078125 -3.5 5.65625 -4.109375 4.625 -4.453125 C 5.421875 -4.765625 5.8125 -5.3125 5.8125 -6.171875 C 5.8125 -7.625 4.84375 -8.515625 3.234375 -8.515625 C 1.515625 -8.515625 0.59375 -7.578125 0.5625 -5.765625 L 1.625 -5.765625 C 1.640625 -7.015625 2.15625 -7.578125 3.234375 -7.578125 C 4.171875 -7.578125 4.734375 -7.03125 4.734375 -6.125 C 4.734375 -5.21875 4.34375 -4.84375 2.65625 -4.84375 L 2.65625 -3.953125 L 3.234375 -3.953125 C 4.390625 -3.953125 4.984375 -3.40625 4.984375 -2.453125 C 4.984375 -1.390625 4.328125 -0.75 3.234375 -0.75 C 2.078125 -0.75 1.515625 -1.328125 1.4375 -2.5625 L 0.390625 -2.5625 C 0.515625 -0.671875 1.453125 0.1875 3.1875 0.1875 C 4.9375 0.1875 6.078125 -0.859375 6.078125 -2.46875 Z M 6.078125 -2.46875 \"/>\n",
       "</symbol>\n",
       "<symbol overflow=\"visible\" id=\"glyph0-4\">\n",
       "<path style=\"stroke:none;\" d=\"M 6.125 -6.015625 C 6.125 -7.453125 5.015625 -8.515625 3.40625 -8.515625 C 1.671875 -8.515625 0.65625 -7.625 0.59375 -5.5625 L 1.65625 -5.5625 C 1.734375 -6.984375 2.328125 -7.578125 3.375 -7.578125 C 4.328125 -7.578125 5.046875 -6.90625 5.046875 -5.984375 C 5.046875 -5.3125 4.65625 -4.734375 3.90625 -4.3125 L 2.796875 -3.6875 C 1.015625 -2.671875 0.5 -1.875 0.40625 0 L 6.078125 0 L 6.078125 -1.046875 L 1.59375 -1.046875 C 1.703125 -1.734375 2.09375 -2.1875 3.125 -2.796875 L 4.328125 -3.4375 C 5.515625 -4.078125 6.125 -4.96875 6.125 -6.015625 Z M 6.125 -6.015625 \"/>\n",
       "</symbol>\n",
       "</g>\n",
       "</defs>\n",
       "<g id=\"surface15\">\n",
       "<rect x=\"0\" y=\"0\" width=\"288\" height=\"288\" style=\"fill:rgb(100%,100%,100%);fill-opacity:1;stroke:none;\"/>\n",
       "<path style=\"fill-rule:nonzero;fill:rgb(100%,100%,100%);fill-opacity:1;stroke-width:0.75;stroke-linecap:round;stroke-linejoin:round;stroke:rgb(0%,0%,0%);stroke-opacity:1;stroke-miterlimit:10;\" d=\"M 134.90625 141.648438 L 135.066406 140.433594 L 135.535156 139.300781 L 136.28125 138.328125 L 137.253906 137.582031 L 138.386719 137.109375 L 139.605469 136.949219 L 148.394531 136.949219 L 149.613281 137.109375 L 150.746094 137.582031 L 151.71875 138.328125 L 152.464844 139.300781 L 152.933594 140.433594 L 153.09375 141.648438 L 152.933594 142.867188 L 152.464844 144 L 151.71875 144.972656 L 150.746094 145.71875 L 149.613281 146.191406 L 148.394531 146.351562 L 139.605469 146.351562 L 138.386719 146.191406 L 137.253906 145.71875 L 136.28125 144.972656 L 135.535156 144 L 135.066406 142.867188 Z M 134.90625 141.648438 \"/>\n",
       "<g style=\"fill:rgb(0%,0%,0%);fill-opacity:1;\">\n",
       "  <use xlink:href=\"#glyph0-1\" x=\"132\" y=\"145.424805\"/>\n",
       "  <use xlink:href=\"#glyph0-2\" x=\"138.671875\" y=\"145.424805\"/>\n",
       "  <use xlink:href=\"#glyph0-3\" x=\"142.007812\" y=\"145.424805\"/>\n",
       "  <use xlink:href=\"#glyph0-4\" x=\"148.679688\" y=\"145.424805\"/>\n",
       "</g>\n",
       "</g>\n",
       "</svg>\n"
      ],
      "text/plain": [
       "plot without title"
      ]
     },
     "metadata": {
      "image/svg+xml": {
       "isolated": true
      }
     },
     "output_type": "display_data"
    }
   ],
   "source": [
    "CARTmodel = rpart(voting ~ civicduty + hawthorne +\n",
    "                  self + neighbors,\n",
    "                  data=data)\n",
    "# par(mar=c(4,4,0,1)+0.1)\n",
    "options(repr.plot.width=4, repr.plot.height=4)\n",
    "prp(CARTmodel)"
   ]
  },
  {
   "cell_type": "code",
   "execution_count": 49,
   "metadata": {
    "collapsed": false
   },
   "outputs": [
    {
     "data": {
      "image/png": "[encoded data removed]",
      "image/svg+xml": [
       "<?xml version=\"1.0\" encoding=\"UTF-8\"?>\n",
       "<svg xmlns=\"http://www.w3.org/2000/svg\" xmlns:xlink=\"http://www.w3.org/1999/xlink\" width=\"288pt\" height=\"288pt\" viewBox=\"0 0 288 288\" version=\"1.1\">\n",
       "<defs>\n",
       "<g>\n",
       "<symbol overflow=\"visible\" id=\"glyph0-0\">\n",
       "<path style=\"stroke:none;\" d=\"\"/>\n",
       "</symbol>\n",
       "<symbol overflow=\"visible\" id=\"glyph0-1\">\n",
       "<path style=\"stroke:none;\" d=\"M 6.546875 0 L 6.546875 -4.34375 C 6.546875 -5.765625 5.765625 -6.59375 4.375 -6.59375 C 3.5 -6.59375 2.921875 -6.265625 2.4375 -5.546875 L 2.4375 -6.484375 L 0.75 -6.484375 L 0.75 0 L 2.4375 0 L 2.4375 -3.890625 C 2.4375 -4.65625 2.96875 -5.15625 3.796875 -5.15625 C 4.515625 -5.15625 4.875 -4.765625 4.875 -4 L 4.875 0 Z M 6.546875 0 \"/>\n",
       "</symbol>\n",
       "<symbol overflow=\"visible\" id=\"glyph0-2\">\n",
       "<path style=\"stroke:none;\" d=\"M 6.296875 -3 C 6.296875 -5.234375 5.171875 -6.59375 3.265625 -6.59375 C 1.40625 -6.59375 0.265625 -5.328125 0.265625 -3.15625 C 0.265625 -1.078125 1.390625 0.109375 3.234375 0.109375 C 4.6875 0.109375 5.859375 -0.546875 6.234375 -1.828125 L 4.578125 -1.828125 C 4.421875 -1.359375 3.90625 -1.171875 3.28125 -1.171875 C 2.5 -1.171875 1.984375 -1.53125 1.9375 -2.796875 L 6.28125 -2.796875 Z M 4.546875 -3.90625 L 1.96875 -3.90625 C 2.078125 -4.8125 2.5 -5.296875 3.234375 -5.296875 C 3.953125 -5.296875 4.46875 -4.84375 4.546875 -3.90625 Z M 4.546875 -3.90625 \"/>\n",
       "</symbol>\n",
       "<symbol overflow=\"visible\" id=\"glyph0-3\">\n",
       "<path style=\"stroke:none;\" d=\"M 2.484375 0 L 2.484375 -6.484375 L 0.796875 -6.484375 L 0.796875 0 Z M 2.515625 -7.265625 L 2.515625 -8.9375 L 0.828125 -8.9375 L 0.828125 -7.265625 Z M 2.515625 -7.265625 \"/>\n",
       "</symbol>\n",
       "<symbol overflow=\"visible\" id=\"glyph0-4\">\n",
       "<path style=\"stroke:none;\" d=\"M 6.484375 0.21875 L 6.484375 -6.484375 L 4.890625 -6.484375 L 4.890625 -5.484375 C 4.390625 -6.25 3.84375 -6.59375 3.09375 -6.59375 C 1.5625 -6.59375 0.40625 -5.171875 0.40625 -3.171875 C 0.40625 -1.15625 1.46875 0.109375 3.0625 0.109375 C 3.8125 0.109375 4.265625 -0.125 4.890625 -0.75 L 4.890625 0.21875 C 4.890625 1 4.3125 1.53125 3.46875 1.53125 C 2.828125 1.53125 2.40625 1.265625 2.28125 0.78125 L 0.546875 0.78125 C 0.5625 1.84375 1.625 2.609375 3.40625 2.609375 C 5.359375 2.609375 6.484375 1.734375 6.484375 0.21875 Z M 4.921875 -3.1875 C 4.921875 -2.015625 4.3125 -1.296875 3.4375 -1.296875 C 2.640625 -1.296875 2.09375 -2.015625 2.09375 -3.1875 C 2.09375 -4.421875 2.640625 -5.1875 3.453125 -5.1875 C 4.296875 -5.1875 4.921875 -4.390625 4.921875 -3.1875 Z M 4.921875 -3.1875 \"/>\n",
       "</symbol>\n",
       "<symbol overflow=\"visible\" id=\"glyph0-5\">\n",
       "<path style=\"stroke:none;\" d=\"M 6.484375 0 L 6.484375 -4.34375 C 6.484375 -5.859375 5.609375 -6.59375 4.375 -6.59375 C 3.546875 -6.59375 2.953125 -6.25 2.484375 -5.546875 L 2.484375 -8.75 L 0.796875 -8.75 L 0.796875 0 L 2.484375 0 L 2.484375 -3.890625 C 2.484375 -4.625 3.03125 -5.15625 3.78125 -5.15625 C 4.375 -5.15625 4.8125 -4.84375 4.8125 -3.953125 L 4.8125 0 Z M 6.484375 0 \"/>\n",
       "</symbol>\n",
       "<symbol overflow=\"visible\" id=\"glyph0-6\">\n",
       "<path style=\"stroke:none;\" d=\"M 6.90625 -3.15625 C 6.90625 -4.984375 5.875 -6.59375 4.171875 -6.59375 C 3.375 -6.59375 2.796875 -6.28125 2.390625 -5.640625 L 2.390625 -8.75 L 0.703125 -8.75 L 0.703125 0 L 2.390625 0 L 2.390625 -0.75 C 2.796875 -0.1875 3.359375 0.109375 4.171875 0.109375 C 5.71875 0.109375 6.90625 -1.203125 6.90625 -3.15625 Z M 5.21875 -3.234375 C 5.21875 -2.046875 4.625 -1.296875 3.796875 -1.296875 C 2.953125 -1.296875 2.390625 -2.03125 2.390625 -3.265625 C 2.390625 -4.4375 2.96875 -5.1875 3.796875 -5.1875 C 4.625 -5.1875 5.21875 -4.421875 5.21875 -3.234375 Z M 5.21875 -3.234375 \"/>\n",
       "</symbol>\n",
       "<symbol overflow=\"visible\" id=\"glyph0-7\">\n",
       "<path style=\"stroke:none;\" d=\"M 6.828125 -3.1875 C 6.828125 -5.390625 5.640625 -6.59375 3.609375 -6.59375 C 1.625 -6.59375 0.421875 -5.359375 0.421875 -3.234375 C 0.421875 -1.109375 1.625 0.109375 3.625 0.109375 C 5.59375 0.109375 6.828125 -1.109375 6.828125 -3.1875 Z M 5.140625 -3.21875 C 5.140625 -2 4.53125 -1.25 3.625 -1.25 C 2.71875 -1.25 2.09375 -2 2.09375 -3.234375 C 2.09375 -4.46875 2.71875 -5.234375 3.625 -5.234375 C 4.546875 -5.234375 5.140625 -4.484375 5.140625 -3.21875 Z M 5.140625 -3.21875 \"/>\n",
       "</symbol>\n",
       "<symbol overflow=\"visible\" id=\"glyph0-8\">\n",
       "<path style=\"stroke:none;\" d=\"M 4.4375 -4.875 L 4.4375 -6.578125 C 4.34375 -6.59375 4.28125 -6.59375 4.234375 -6.59375 C 3.46875 -6.59375 2.796875 -6.078125 2.4375 -5.203125 L 2.4375 -6.484375 L 0.75 -6.484375 L 0.75 0 L 2.4375 0 L 2.4375 -3.4375 C 2.4375 -4.421875 2.921875 -4.921875 3.90625 -4.921875 C 4.09375 -4.921875 4.21875 -4.90625 4.4375 -4.875 Z M 4.4375 -4.875 \"/>\n",
       "</symbol>\n",
       "<symbol overflow=\"visible\" id=\"glyph0-9\">\n",
       "<path style=\"stroke:none;\" d=\"\"/>\n",
       "</symbol>\n",
       "<symbol overflow=\"visible\" id=\"glyph0-10\">\n",
       "<path style=\"stroke:none;\" d=\"M 5.5625 1.265625 L 5.5625 -0.296875 L 2.375 -3 L 5.5625 -5.703125 L 5.5625 -7.265625 L 1.0625 -3.453125 L 1.0625 -2.546875 Z M 5.5625 1.265625 \"/>\n",
       "</symbol>\n",
       "<symbol overflow=\"visible\" id=\"glyph0-11\">\n",
       "<path style=\"stroke:none;\" d=\"M 6.203125 -4.234375 C 6.203125 -6.640625 5.765625 -8.6875 3.28125 -8.6875 C 0.84375 -8.6875 0.34375 -6.734375 0.34375 -4.28125 C 0.34375 -1.90625 0.8125 0.109375 3.28125 0.109375 C 5 0.109375 6.203125 -0.875 6.203125 -4.234375 Z M 4.53125 -4.265625 C 4.53125 -1.890625 4.171875 -1.328125 3.28125 -1.328125 C 2.421875 -1.328125 2.03125 -1.765625 2.03125 -4.296875 C 2.03125 -6.765625 2.375 -7.328125 3.28125 -7.328125 C 4.109375 -7.328125 4.53125 -6.90625 4.53125 -4.265625 Z M 4.53125 -4.265625 \"/>\n",
       "</symbol>\n",
       "<symbol overflow=\"visible\" id=\"glyph0-12\">\n",
       "<path style=\"stroke:none;\" d=\"M 2.5625 0 L 2.5625 -1.75 L 0.765625 -1.75 L 0.765625 0 Z M 2.5625 0 \"/>\n",
       "</symbol>\n",
       "<symbol overflow=\"visible\" id=\"glyph0-13\">\n",
       "<path style=\"stroke:none;\" d=\"M 6.203125 -2.890625 C 6.203125 -4.625 5.125 -5.75 3.546875 -5.75 C 2.984375 -5.75 2.5625 -5.609375 2.078125 -5.234375 L 2.359375 -7.015625 L 5.875 -7.015625 L 5.875 -8.515625 L 1.3125 -8.515625 L 0.5625 -3.765625 L 2.078125 -3.765625 C 2.25 -4.1875 2.640625 -4.421875 3.15625 -4.421875 C 4.015625 -4.421875 4.53125 -3.890625 4.53125 -2.859375 C 4.53125 -1.859375 4 -1.328125 3.15625 -1.328125 C 2.421875 -1.328125 1.984375 -1.703125 1.984375 -2.390625 L 0.328125 -2.390625 C 0.328125 -0.90625 1.46875 0.109375 3.125 0.109375 C 4.953125 0.109375 6.203125 -1.0625 6.203125 -2.890625 Z M 6.203125 -2.890625 \"/>\n",
       "</symbol>\n",
       "<symbol overflow=\"visible\" id=\"glyph0-14\">\n",
       "<path style=\"stroke:none;\" d=\"M 6.234375 -1.921875 L 6.234375 -2 C 6.234375 -2.75 5.8125 -3.296875 4.96875 -3.546875 L 2.84375 -4.15625 C 2.375 -4.296875 2.25 -4.40625 2.25 -4.671875 C 2.25 -5.03125 2.640625 -5.265625 3.234375 -5.265625 C 4.03125 -5.265625 4.421875 -4.984375 4.4375 -4.390625 L 6.0625 -4.390625 C 6.03125 -5.765625 4.984375 -6.59375 3.234375 -6.59375 C 1.59375 -6.59375 0.578125 -5.765625 0.578125 -4.421875 C 0.578125 -3.640625 0.796875 -3.203125 1.984375 -2.828125 L 4 -2.203125 C 4.421875 -2.078125 4.5625 -1.9375 4.5625 -1.765625 C 4.5625 -1.375 4.09375 -1.21875 3.3125 -1.21875 C 2.546875 -1.21875 2.140625 -1.359375 1.984375 -2.046875 L 0.34375 -2.046875 C 0.390625 -0.640625 1.4375 0.109375 3.40625 0.109375 C 5.234375 0.109375 6.234375 -0.609375 6.234375 -1.921875 Z M 6.234375 -1.921875 \"/>\n",
       "</symbol>\n",
       "<symbol overflow=\"visible\" id=\"glyph0-15\">\n",
       "<path style=\"stroke:none;\" d=\"M 2.484375 0 L 2.484375 -8.75 L 0.796875 -8.75 L 0.796875 0 Z M 2.484375 0 \"/>\n",
       "</symbol>\n",
       "<symbol overflow=\"visible\" id=\"glyph0-16\">\n",
       "<path style=\"stroke:none;\" d=\"M 3.75 -5.234375 L 3.75 -6.34375 L 2.765625 -6.34375 L 2.765625 -6.984375 C 2.765625 -7.3125 2.90625 -7.484375 3.21875 -7.484375 C 3.359375 -7.484375 3.546875 -7.46875 3.703125 -7.453125 L 3.703125 -8.71875 C 3.390625 -8.734375 2.96875 -8.75 2.734375 -8.75 C 1.625 -8.75 1.078125 -8.21875 1.078125 -7.125 L 1.078125 -6.34375 L 0.171875 -6.34375 L 0.171875 -5.234375 L 1.078125 -5.234375 L 1.078125 0 L 2.765625 0 L 2.765625 -5.234375 Z M 3.75 -5.234375 \"/>\n",
       "</symbol>\n",
       "<symbol overflow=\"visible\" id=\"glyph0-17\">\n",
       "<path style=\"stroke:none;\" d=\"M 6.28125 0 L 6.28125 -0.203125 C 5.984375 -0.484375 5.90625 -0.65625 5.90625 -1 L 5.90625 -4.59375 C 5.90625 -5.921875 5 -6.59375 3.25 -6.59375 C 1.5 -6.59375 0.59375 -5.84375 0.484375 -4.34375 L 2.09375 -4.34375 C 2.1875 -5.015625 2.453125 -5.234375 3.28125 -5.234375 C 3.9375 -5.234375 4.265625 -5.015625 4.265625 -4.578125 C 4.265625 -3.90625 3.75 -3.96875 2.921875 -3.828125 L 2.25 -3.703125 C 0.953125 -3.484375 0.34375 -2.921875 0.34375 -1.75 C 0.34375 -0.484375 1.21875 0.109375 2.296875 0.109375 C 3.03125 0.109375 3.6875 -0.203125 4.265625 -0.8125 C 4.265625 -0.484375 4.3125 -0.1875 4.46875 0 Z M 4.265625 -2.765625 C 4.265625 -1.796875 3.78125 -1.25 2.921875 -1.25 C 2.359375 -1.25 2.015625 -1.46875 2.015625 -1.9375 C 2.015625 -2.4375 2.28125 -2.609375 2.96875 -2.75 L 3.546875 -2.859375 C 4 -2.9375 4.0625 -2.96875 4.265625 -3.0625 Z M 4.265625 -2.765625 \"/>\n",
       "</symbol>\n",
       "<symbol overflow=\"visible\" id=\"glyph0-18\">\n",
       "<path style=\"stroke:none;\" d=\"M 9.1875 -6.484375 L 7.453125 -6.484375 L 6.46875 -1.9375 L 5.5 -6.484375 L 3.8125 -6.484375 L 2.828125 -1.9375 L 1.796875 -6.484375 L 0.0625 -6.484375 L 1.890625 0 L 3.609375 0 L 4.640625 -4.578125 L 5.609375 0 L 7.359375 0 Z M 9.1875 -6.484375 \"/>\n",
       "</symbol>\n",
       "<symbol overflow=\"visible\" id=\"glyph0-19\">\n",
       "<path style=\"stroke:none;\" d=\"M 3.609375 0 L 3.609375 -1.171875 C 3.4375 -1.15625 3.34375 -1.140625 3.234375 -1.140625 C 2.78125 -1.140625 2.671875 -1.265625 2.671875 -1.84375 L 2.671875 -5.234375 L 3.609375 -5.234375 L 3.609375 -6.34375 L 2.671875 -6.34375 L 2.671875 -8.09375 L 1 -8.09375 L 1 -6.34375 L 0.171875 -6.34375 L 0.171875 -5.234375 L 1 -5.234375 L 1 -1.390625 C 1 -0.375 1.53125 0.046875 2.640625 0.046875 C 3.015625 0.046875 3.3125 0.015625 3.609375 0 Z M 3.609375 0 \"/>\n",
       "</symbol>\n",
       "<symbol overflow=\"visible\" id=\"glyph0-20\">\n",
       "<path style=\"stroke:none;\" d=\"M 6.265625 -2.25 L 4.65625 -2.25 C 4.4375 -1.578125 4.109375 -1.25 3.453125 -1.25 C 2.609375 -1.25 2.09375 -1.9375 2.09375 -3.1875 C 2.09375 -4.375 2.40625 -5.234375 3.453125 -5.234375 C 4.140625 -5.234375 4.46875 -4.90625 4.65625 -4.0625 L 6.265625 -4.0625 C 6.140625 -5.640625 5.09375 -6.59375 3.46875 -6.59375 C 1.53125 -6.59375 0.40625 -5.40625 0.40625 -3.1875 C 0.40625 -1.0625 1.53125 0.109375 3.4375 0.109375 C 5.015625 0.109375 6.109375 -0.859375 6.265625 -2.25 Z M 6.265625 -2.25 \"/>\n",
       "</symbol>\n",
       "<symbol overflow=\"visible\" id=\"glyph0-21\">\n",
       "<path style=\"stroke:none;\" d=\"M 6.4375 -6.484375 L 4.65625 -6.484375 L 3.34375 -1.734375 L 1.9375 -6.484375 L 0.171875 -6.484375 L 2.4375 0 L 4.203125 0 Z M 6.4375 -6.484375 \"/>\n",
       "</symbol>\n",
       "<symbol overflow=\"visible\" id=\"glyph0-22\">\n",
       "<path style=\"stroke:none;\" d=\"M 6.546875 0 L 6.546875 -8.75 L 4.859375 -8.75 L 4.859375 -5.640625 C 4.4375 -6.28125 3.875 -6.59375 3.078125 -6.59375 C 1.53125 -6.59375 0.34375 -5.1875 0.34375 -3.234375 C 0.34375 -1.390625 1.359375 0.109375 3.078125 0.109375 C 3.875 0.109375 4.4375 -0.1875 4.859375 -0.75 L 4.859375 0 Z M 4.859375 -3.203125 C 4.859375 -2.03125 4.28125 -1.296875 3.4375 -1.296875 C 2.609375 -1.296875 2.03125 -2.046875 2.03125 -3.234375 C 2.03125 -4.421875 2.609375 -5.1875 3.4375 -5.1875 C 4.296875 -5.1875 4.859375 -4.4375 4.859375 -3.203125 Z M 4.859375 -3.203125 \"/>\n",
       "</symbol>\n",
       "<symbol overflow=\"visible\" id=\"glyph0-23\">\n",
       "<path style=\"stroke:none;\" d=\"M 6.484375 0 L 6.484375 -6.484375 L 4.8125 -6.484375 L 4.8125 -2.59375 C 4.8125 -1.828125 4.265625 -1.3125 3.453125 -1.3125 C 2.734375 -1.3125 2.375 -1.703125 2.375 -2.484375 L 2.375 -6.484375 L 0.703125 -6.484375 L 0.703125 -2.140625 C 0.703125 -0.703125 1.484375 0.109375 2.875 0.109375 C 3.75 0.109375 4.328125 -0.21875 4.8125 -0.859375 L 4.8125 0 Z M 6.484375 0 \"/>\n",
       "</symbol>\n",
       "<symbol overflow=\"visible\" id=\"glyph1-0\">\n",
       "<path style=\"stroke:none;\" d=\"\"/>\n",
       "</symbol>\n",
       "<symbol overflow=\"visible\" id=\"glyph1-1\">\n",
       "<path style=\"stroke:none;\" d=\"M 6.078125 -4.09375 C 6.078125 -7.046875 5.140625 -8.515625 3.296875 -8.515625 C 1.46875 -8.515625 0.515625 -7.015625 0.515625 -4.15625 C 0.515625 -1.296875 1.46875 0.1875 3.296875 0.1875 C 5.09375 0.1875 6.078125 -1.296875 6.078125 -4.09375 Z M 5 -4.1875 C 5 -1.78125 4.453125 -0.703125 3.28125 -0.703125 C 2.15625 -0.703125 1.59375 -1.828125 1.59375 -4.15625 C 1.59375 -6.484375 2.15625 -7.578125 3.296875 -7.578125 C 4.4375 -7.578125 5 -6.46875 5 -4.1875 Z M 5 -4.1875 \"/>\n",
       "</symbol>\n",
       "<symbol overflow=\"visible\" id=\"glyph1-2\">\n",
       "<path style=\"stroke:none;\" d=\"M 2.296875 0 L 2.296875 -1.25 L 1.046875 -1.25 L 1.046875 0 Z M 2.296875 0 \"/>\n",
       "</symbol>\n",
       "<symbol overflow=\"visible\" id=\"glyph1-3\">\n",
       "<path style=\"stroke:none;\" d=\"M 6.078125 -2.46875 C 6.078125 -3.5 5.65625 -4.109375 4.625 -4.453125 C 5.421875 -4.765625 5.8125 -5.3125 5.8125 -6.171875 C 5.8125 -7.625 4.84375 -8.515625 3.234375 -8.515625 C 1.515625 -8.515625 0.59375 -7.578125 0.5625 -5.765625 L 1.625 -5.765625 C 1.640625 -7.015625 2.15625 -7.578125 3.234375 -7.578125 C 4.171875 -7.578125 4.734375 -7.03125 4.734375 -6.125 C 4.734375 -5.21875 4.34375 -4.84375 2.65625 -4.84375 L 2.65625 -3.953125 L 3.234375 -3.953125 C 4.390625 -3.953125 4.984375 -3.40625 4.984375 -2.453125 C 4.984375 -1.390625 4.328125 -0.75 3.234375 -0.75 C 2.078125 -0.75 1.515625 -1.328125 1.4375 -2.5625 L 0.390625 -2.5625 C 0.515625 -0.671875 1.453125 0.1875 3.1875 0.1875 C 4.9375 0.1875 6.078125 -0.859375 6.078125 -2.46875 Z M 6.078125 -2.46875 \"/>\n",
       "</symbol>\n",
       "<symbol overflow=\"visible\" id=\"glyph1-4\">\n",
       "<path style=\"stroke:none;\" d=\"M 4.15625 0 L 4.15625 -8.515625 L 3.46875 -8.515625 C 3.09375 -7.203125 2.859375 -7.015625 1.21875 -6.8125 L 1.21875 -6.0625 L 3.109375 -6.0625 L 3.109375 0 Z M 4.15625 0 \"/>\n",
       "</symbol>\n",
       "<symbol overflow=\"visible\" id=\"glyph1-5\">\n",
       "<path style=\"stroke:none;\" d=\"M 6.125 -6.015625 C 6.125 -7.453125 5.015625 -8.515625 3.40625 -8.515625 C 1.671875 -8.515625 0.65625 -7.625 0.59375 -5.5625 L 1.65625 -5.5625 C 1.734375 -6.984375 2.328125 -7.578125 3.375 -7.578125 C 4.328125 -7.578125 5.046875 -6.90625 5.046875 -5.984375 C 5.046875 -5.3125 4.65625 -4.734375 3.90625 -4.3125 L 2.796875 -3.6875 C 1.015625 -2.671875 0.5 -1.875 0.40625 0 L 6.078125 0 L 6.078125 -1.046875 L 1.59375 -1.046875 C 1.703125 -1.734375 2.09375 -2.1875 3.125 -2.796875 L 4.328125 -3.4375 C 5.515625 -4.078125 6.125 -4.96875 6.125 -6.015625 Z M 6.125 -6.015625 \"/>\n",
       "</symbol>\n",
       "<symbol overflow=\"visible\" id=\"glyph1-6\">\n",
       "<path style=\"stroke:none;\" d=\"M 6.15625 -2.8125 C 6.15625 -4.5 5.046875 -5.609375 3.40625 -5.609375 C 2.8125 -5.609375 2.328125 -5.453125 1.84375 -5.09375 L 2.171875 -7.28125 L 5.71875 -7.28125 L 5.71875 -8.328125 L 1.3125 -8.328125 L 0.6875 -3.875 L 1.65625 -3.875 C 2.140625 -4.46875 2.5625 -4.671875 3.21875 -4.671875 C 4.359375 -4.671875 5.078125 -3.9375 5.078125 -2.671875 C 5.078125 -1.453125 4.375 -0.75 3.21875 -0.75 C 2.296875 -0.75 1.734375 -1.21875 1.46875 -2.1875 L 0.421875 -2.1875 C 0.765625 -0.484375 1.734375 0.1875 3.234375 0.1875 C 4.953125 0.1875 6.15625 -1.015625 6.15625 -2.8125 Z M 6.15625 -2.8125 \"/>\n",
       "</symbol>\n",
       "<symbol overflow=\"visible\" id=\"glyph1-7\">\n",
       "<path style=\"stroke:none;\" d=\"M 6.15625 -2.40625 C 6.15625 -3.34375 5.671875 -4.015625 4.6875 -4.46875 C 5.5625 -5 5.859375 -5.4375 5.859375 -6.234375 C 5.859375 -7.578125 4.8125 -8.515625 3.296875 -8.515625 C 1.796875 -8.515625 0.75 -7.578125 0.75 -6.234375 C 0.75 -5.453125 1.03125 -5.015625 1.890625 -4.46875 C 0.921875 -4.015625 0.4375 -3.34375 0.4375 -2.40625 C 0.4375 -0.859375 1.625 0.1875 3.296875 0.1875 C 4.984375 0.1875 6.15625 -0.859375 6.15625 -2.40625 Z M 4.78125 -6.21875 C 4.78125 -5.421875 4.1875 -4.890625 3.296875 -4.890625 C 2.40625 -4.890625 1.828125 -5.421875 1.828125 -6.234375 C 1.828125 -7.046875 2.40625 -7.578125 3.296875 -7.578125 C 4.203125 -7.578125 4.78125 -7.046875 4.78125 -6.21875 Z M 5.078125 -2.390625 C 5.078125 -1.375 4.359375 -0.75 3.28125 -0.75 C 2.25 -0.75 1.53125 -1.390625 1.53125 -2.390625 C 1.53125 -3.390625 2.25 -4.015625 3.296875 -4.015625 C 4.359375 -4.015625 5.078125 -3.390625 5.078125 -2.390625 Z M 5.078125 -2.390625 \"/>\n",
       "</symbol>\n",
       "<symbol overflow=\"visible\" id=\"glyph2-0\">\n",
       "<path style=\"stroke:none;\" d=\"\"/>\n",
       "</symbol>\n",
       "<symbol overflow=\"visible\" id=\"glyph2-1\">\n",
       "<path style=\"stroke:none;\" d=\"M 5.1875 -5.03125 L 4.328125 -5.03125 L 2.09375 -1.125 L 1.65625 -5.03125 L 0.78125 -5.03125 L 1.4375 0.03125 L 0.9375 0.8125 C 0.6875 1.21875 0.53125 1.3125 0.171875 1.3125 C 0.078125 1.3125 0.015625 1.3125 -0.25 1.28125 L -0.40625 2 C -0.234375 2.078125 -0.109375 2.09375 0.0625 2.09375 C 0.75 2.09375 1.234375 1.765625 1.65625 1.0625 Z M 5.1875 -5.03125 \"/>\n",
       "</symbol>\n",
       "<symbol overflow=\"visible\" id=\"glyph2-2\">\n",
       "<path style=\"stroke:none;\" d=\"M 4.9375 -2.28125 L 4.953125 -2.40625 C 5.03125 -2.875 5.078125 -3.265625 5.078125 -3.53125 C 5.078125 -4.453125 4.28125 -5.171875 3.25 -5.171875 C 2.421875 -5.171875 1.609375 -4.78125 1.125 -4.140625 C 0.6875 -3.53125 0.328125 -2.46875 0.328125 -1.703125 C 0.328125 -0.703125 1.078125 0.140625 2.25 0.140625 C 3.390625 0.140625 4.359375 -0.484375 4.65625 -1.53125 L 3.859375 -1.53125 C 3.53125 -0.9375 3.015625 -0.59375 2.375 -0.59375 C 1.625 -0.59375 1.1875 -1.03125 1.1875 -1.84375 C 1.171875 -2 1.1875 -2.09375 1.234375 -2.28125 Z M 4.21875 -2.96875 L 1.40625 -2.96875 C 1.640625 -3.8125 2.34375 -4.4375 3.125 -4.4375 C 3.8125 -4.4375 4.234375 -3.96875 4.234375 -3.25 C 4.234375 -3.15625 4.234375 -3.09375 4.21875 -2.96875 Z M 4.21875 -2.96875 \"/>\n",
       "</symbol>\n",
       "<symbol overflow=\"visible\" id=\"glyph2-3\">\n",
       "<path style=\"stroke:none;\" d=\"M 4.265625 -1.734375 C 4.265625 -2.328125 3.953125 -2.625 3.109375 -2.84375 L 2.375 -3.015625 C 1.84375 -3.15625 1.5625 -3.34375 1.5625 -3.59375 C 1.5625 -4.09375 2.046875 -4.4375 2.765625 -4.4375 C 3.34375 -4.4375 3.65625 -4.21875 3.65625 -3.84375 C 3.65625 -3.765625 3.65625 -3.703125 3.640625 -3.625 L 4.453125 -3.625 C 4.5 -3.828125 4.515625 -3.921875 4.515625 -4.03125 C 4.515625 -4.703125 3.859375 -5.171875 2.9375 -5.171875 C 1.609375 -5.171875 0.71875 -4.40625 0.71875 -3.390625 C 0.71875 -2.796875 1.0625 -2.515625 2.046875 -2.265625 L 2.75 -2.078125 C 3.359375 -1.921875 3.421875 -1.71875 3.421875 -1.515625 C 3.421875 -0.96875 2.796875 -0.59375 2.046875 -0.59375 C 1.390625 -0.59375 1.015625 -0.859375 1.015625 -1.328125 C 1.015625 -1.390625 1.03125 -1.484375 1.03125 -1.578125 L 0.1875 -1.578125 C 0.140625 -1.359375 0.125 -1.234375 0.125 -1.078125 C 0.125 -0.3125 0.796875 0.140625 1.90625 0.140625 C 3.34375 0.140625 4.265625 -0.59375 4.265625 -1.734375 Z M 4.265625 -1.734375 \"/>\n",
       "</symbol>\n",
       "<symbol overflow=\"visible\" id=\"glyph2-4\">\n",
       "<path style=\"stroke:none;\" d=\"M 4.984375 -3.609375 C 5.015625 -3.734375 5.03125 -3.84375 5.03125 -3.96875 C 5.03125 -4.703125 4.515625 -5.171875 3.71875 -5.171875 C 3 -5.171875 2.359375 -4.90625 1.859375 -4.40625 L 1.984375 -5.03125 L 1.25 -5.03125 L 0.1875 0 L 1 0 L 1.578125 -2.765625 C 1.796875 -3.828125 2.484375 -4.484375 3.34375 -4.484375 C 3.828125 -4.484375 4.1875 -4.140625 4.1875 -3.703125 C 4.1875 -3.640625 4.15625 -3.5 4.125 -3.34375 L 3.421875 0 L 4.21875 0 Z M 4.984375 -3.609375 \"/>\n",
       "</symbol>\n",
       "<symbol overflow=\"visible\" id=\"glyph2-5\">\n",
       "<path style=\"stroke:none;\" d=\"M 5.046875 -3.375 C 5.046875 -4.390625 4.359375 -5.171875 3.203125 -5.171875 C 1.40625 -5.171875 0.296875 -3.515625 0.296875 -1.609375 C 0.296875 -0.546875 1.046875 0.140625 2.125 0.140625 C 3.859375 0.140625 5.046875 -1.375 5.046875 -3.375 Z M 4.203125 -3.1875 C 4.203125 -1.765625 3.390625 -0.59375 2.25 -0.59375 C 1.578125 -0.59375 1.140625 -1.03125 1.140625 -1.796875 C 1.140625 -3.1875 1.953125 -4.4375 3.078125 -4.4375 C 3.796875 -4.4375 4.203125 -3.96875 4.203125 -3.1875 Z M 4.203125 -3.1875 \"/>\n",
       "</symbol>\n",
       "</g>\n",
       "</defs>\n",
       "<g id=\"surface63\">\n",
       "<rect x=\"0\" y=\"0\" width=\"288\" height=\"288\" style=\"fill:rgb(100%,100%,100%);fill-opacity:1;stroke:none;\"/>\n",
       "<path style=\"fill:none;stroke-width:0.75;stroke-linecap:butt;stroke-linejoin:round;stroke:rgb(0%,0%,0%);stroke-opacity:1;stroke-miterlimit:10;\" d=\"M 157.914062 114.453125 L 184.03125 84.988281 L 190.5625 84.988281 \"/>\n",
       "<path style=\"fill:none;stroke-width:0.75;stroke-linecap:butt;stroke-linejoin:round;stroke:rgb(0%,0%,0%);stroke-opacity:1;stroke-miterlimit:10;\" d=\"M 125.292969 144.699219 L 151.386719 115.234375 L 157.914062 115.234375 \"/>\n",
       "<path style=\"fill:none;stroke-width:0.75;stroke-linecap:butt;stroke-linejoin:round;stroke:rgb(0%,0%,0%);stroke-opacity:1;stroke-miterlimit:10;\" d=\"M 92.964844 174.945312 L 118.828125 145.480469 L 125.292969 145.480469 \"/>\n",
       "<path style=\"fill:none;stroke-width:0.75;stroke-linecap:butt;stroke-linejoin:round;stroke:rgb(0%,0%,0%);stroke-opacity:1;stroke-miterlimit:10;\" d=\"M 63.578125 198.925781 L 87.089844 175.726562 L 92.964844 175.726562 \"/>\n",
       "<path style=\"fill:none;stroke-width:0.75;stroke-linecap:butt;stroke-linejoin:round;stroke:rgb(0%,0%,0%);stroke-opacity:1;stroke-miterlimit:10;\" d=\"M 122.351562 198.925781 L 98.84375 175.726562 L 92.964844 175.726562 \"/>\n",
       "<path style=\"fill:none;stroke-width:0.75;stroke-linecap:butt;stroke-linejoin:round;stroke:rgb(0%,0%,0%);stroke-opacity:1;stroke-miterlimit:10;\" d=\"M 157.617188 168.675781 L 131.757812 145.480469 L 125.292969 145.480469 \"/>\n",
       "<path style=\"fill:none;stroke-width:0.75;stroke-linecap:butt;stroke-linejoin:round;stroke:rgb(0%,0%,0%);stroke-opacity:1;stroke-miterlimit:10;\" d=\"M 190.53125 138.429688 L 164.4375 115.234375 L 157.914062 115.234375 \"/>\n",
       "<path style=\"fill:none;stroke-width:0.75;stroke-linecap:butt;stroke-linejoin:round;stroke:rgb(0%,0%,0%);stroke-opacity:1;stroke-miterlimit:10;\" d=\"M 223.210938 108.183594 L 197.09375 84.988281 L 190.5625 84.988281 \"/>\n",
       "<path style=\" stroke:none;fill-rule:nonzero;fill:rgb(100%,100%,100%);fill-opacity:1;\" d=\"M 165.554688 87.335938 L 165.554688 77.9375 L 215.570312 77.9375 L 215.570312 87.335938 Z M 165.554688 87.335938 \"/>\n",
       "<path style=\" stroke:none;fill-rule:nonzero;fill:rgb(100%,100%,100%);fill-opacity:1;\" d=\"M 141.265625 117.585938 L 141.265625 108.183594 L 174.558594 108.183594 L 174.558594 117.585938 Z M 141.265625 117.585938 \"/>\n",
       "<path style=\" stroke:none;fill-rule:nonzero;fill:rgb(100%,100%,100%);fill-opacity:1;\" d=\"M 99.609375 147.832031 L 99.609375 138.429688 L 150.976562 138.429688 L 150.976562 147.832031 Z M 99.609375 147.832031 \"/>\n",
       "<path style=\" stroke:none;fill-rule:nonzero;fill:rgb(100%,100%,100%);fill-opacity:1;\" d=\"M 69.59375 178.078125 L 69.59375 168.675781 L 116.339844 168.675781 L 116.339844 178.078125 Z M 69.59375 178.078125 \"/>\n",
       "<g style=\"fill:rgb(0%,0%,0%);fill-opacity:1;\">\n",
       "  <use xlink:href=\"#glyph0-1\" x=\"149.5625\" y=\"85.136719\"/>\n",
       "  <use xlink:href=\"#glyph0-2\" x=\"156.894531\" y=\"85.136719\"/>\n",
       "  <use xlink:href=\"#glyph0-3\" x=\"163.566406\" y=\"85.136719\"/>\n",
       "  <use xlink:href=\"#glyph0-4\" x=\"166.902344\" y=\"85.136719\"/>\n",
       "  <use xlink:href=\"#glyph0-5\" x=\"174.234375\" y=\"85.136719\"/>\n",
       "  <use xlink:href=\"#glyph0-6\" x=\"181.566406\" y=\"85.136719\"/>\n",
       "  <use xlink:href=\"#glyph0-7\" x=\"188.898438\" y=\"85.136719\"/>\n",
       "  <use xlink:href=\"#glyph0-8\" x=\"196.230469\" y=\"85.136719\"/>\n",
       "  <use xlink:href=\"#glyph0-9\" x=\"200.898438\" y=\"85.136719\"/>\n",
       "  <use xlink:href=\"#glyph0-10\" x=\"204.234375\" y=\"85.136719\"/>\n",
       "  <use xlink:href=\"#glyph0-9\" x=\"211.242188\" y=\"85.136719\"/>\n",
       "  <use xlink:href=\"#glyph0-11\" x=\"214.578125\" y=\"85.136719\"/>\n",
       "  <use xlink:href=\"#glyph0-12\" x=\"221.25\" y=\"85.136719\"/>\n",
       "  <use xlink:href=\"#glyph0-13\" x=\"224.585938\" y=\"85.136719\"/>\n",
       "</g>\n",
       "<g style=\"fill:rgb(0%,0%,0%);fill-opacity:1;\">\n",
       "  <use xlink:href=\"#glyph0-14\" x=\"131.914062\" y=\"115.882812\"/>\n",
       "  <use xlink:href=\"#glyph0-2\" x=\"138.585938\" y=\"115.882812\"/>\n",
       "  <use xlink:href=\"#glyph0-15\" x=\"145.257812\" y=\"115.882812\"/>\n",
       "  <use xlink:href=\"#glyph0-16\" x=\"148.59375\" y=\"115.882812\"/>\n",
       "  <use xlink:href=\"#glyph0-9\" x=\"152.589844\" y=\"115.882812\"/>\n",
       "  <use xlink:href=\"#glyph0-10\" x=\"155.925781\" y=\"115.882812\"/>\n",
       "  <use xlink:href=\"#glyph0-9\" x=\"162.933594\" y=\"115.882812\"/>\n",
       "  <use xlink:href=\"#glyph0-11\" x=\"166.269531\" y=\"115.882812\"/>\n",
       "  <use xlink:href=\"#glyph0-12\" x=\"172.941406\" y=\"115.882812\"/>\n",
       "  <use xlink:href=\"#glyph0-13\" x=\"176.277344\" y=\"115.882812\"/>\n",
       "</g>\n",
       "<g style=\"fill:rgb(0%,0%,0%);fill-opacity:1;\">\n",
       "  <use xlink:href=\"#glyph0-5\" x=\"82.792969\" y=\"146.132812\"/>\n",
       "  <use xlink:href=\"#glyph0-17\" x=\"90.125\" y=\"146.132812\"/>\n",
       "  <use xlink:href=\"#glyph0-18\" x=\"96.737305\" y=\"146.132812\"/>\n",
       "  <use xlink:href=\"#glyph0-19\" x=\"106.073242\" y=\"146.132812\"/>\n",
       "  <use xlink:href=\"#glyph0-5\" x=\"110.069336\" y=\"146.132812\"/>\n",
       "  <use xlink:href=\"#glyph0-7\" x=\"117.401367\" y=\"146.132812\"/>\n",
       "  <use xlink:href=\"#glyph0-8\" x=\"124.733398\" y=\"146.132812\"/>\n",
       "  <use xlink:href=\"#glyph0-1\" x=\"129.401367\" y=\"146.132812\"/>\n",
       "  <use xlink:href=\"#glyph0-9\" x=\"136.733398\" y=\"146.132812\"/>\n",
       "  <use xlink:href=\"#glyph0-10\" x=\"140.069336\" y=\"146.132812\"/>\n",
       "  <use xlink:href=\"#glyph0-9\" x=\"147.077148\" y=\"146.132812\"/>\n",
       "  <use xlink:href=\"#glyph0-11\" x=\"150.413086\" y=\"146.132812\"/>\n",
       "  <use xlink:href=\"#glyph0-12\" x=\"157.084961\" y=\"146.132812\"/>\n",
       "  <use xlink:href=\"#glyph0-13\" x=\"160.420898\" y=\"146.132812\"/>\n",
       "</g>\n",
       "<g style=\"fill:rgb(0%,0%,0%);fill-opacity:1;\">\n",
       "  <use xlink:href=\"#glyph0-20\" x=\"54.964844\" y=\"176.378906\"/>\n",
       "  <use xlink:href=\"#glyph0-3\" x=\"61.636719\" y=\"176.378906\"/>\n",
       "  <use xlink:href=\"#glyph0-21\" x=\"64.972656\" y=\"176.378906\"/>\n",
       "  <use xlink:href=\"#glyph0-3\" x=\"71.644531\" y=\"176.378906\"/>\n",
       "  <use xlink:href=\"#glyph0-20\" x=\"74.980469\" y=\"176.378906\"/>\n",
       "  <use xlink:href=\"#glyph0-22\" x=\"81.652344\" y=\"176.378906\"/>\n",
       "  <use xlink:href=\"#glyph0-23\" x=\"88.984375\" y=\"176.378906\"/>\n",
       "  <use xlink:href=\"#glyph0-19\" x=\"96.316406\" y=\"176.378906\"/>\n",
       "  <use xlink:href=\"#glyph0-9\" x=\"100.3125\" y=\"176.378906\"/>\n",
       "  <use xlink:href=\"#glyph0-10\" x=\"103.648438\" y=\"176.378906\"/>\n",
       "  <use xlink:href=\"#glyph0-9\" x=\"110.65625\" y=\"176.378906\"/>\n",
       "  <use xlink:href=\"#glyph0-11\" x=\"113.992188\" y=\"176.378906\"/>\n",
       "  <use xlink:href=\"#glyph0-12\" x=\"120.664062\" y=\"176.378906\"/>\n",
       "  <use xlink:href=\"#glyph0-13\" x=\"124\" y=\"176.378906\"/>\n",
       "</g>\n",
       "<path style=\"fill-rule:nonzero;fill:rgb(100%,100%,100%);fill-opacity:1;stroke-width:0.75;stroke-linecap:round;stroke-linejoin:round;stroke:rgb(0%,0%,0%);stroke-opacity:1;stroke-miterlimit:10;\" d=\"M 56.304688 203.625 L 56.464844 202.40625 L 56.933594 201.273438 L 57.679688 200.300781 L 58.652344 199.554688 L 59.785156 199.085938 L 61.003906 198.925781 L 66.152344 198.925781 L 67.371094 199.085938 L 68.503906 199.554688 L 69.476562 200.300781 L 70.222656 201.273438 L 70.691406 202.40625 L 70.851562 203.625 L 70.691406 204.839844 L 70.222656 205.972656 L 69.476562 206.945312 L 68.503906 207.695312 L 67.371094 208.164062 L 66.152344 208.324219 L 61.003906 208.324219 L 59.785156 208.164062 L 58.652344 207.695312 L 57.679688 206.945312 L 56.933594 205.972656 L 56.464844 204.839844 Z M 56.304688 203.625 \"/>\n",
       "<path style=\"fill-rule:nonzero;fill:rgb(100%,100%,100%);fill-opacity:1;stroke-width:0.75;stroke-linecap:round;stroke-linejoin:round;stroke:rgb(0%,0%,0%);stroke-opacity:1;stroke-miterlimit:10;\" d=\"M 113.257812 203.625 L 113.417969 202.40625 L 113.886719 201.273438 L 114.636719 200.300781 L 115.609375 199.554688 L 116.742188 199.085938 L 117.957031 198.925781 L 126.75 198.925781 L 127.964844 199.085938 L 129.097656 199.554688 L 130.070312 200.300781 L 130.820312 201.273438 L 131.289062 202.40625 L 131.449219 203.625 L 131.289062 204.839844 L 130.820312 205.972656 L 130.070312 206.945312 L 129.097656 207.695312 L 127.964844 208.164062 L 126.75 208.324219 L 117.957031 208.324219 L 116.742188 208.164062 L 115.609375 207.695312 L 114.636719 206.945312 L 113.886719 205.972656 L 113.417969 204.839844 Z M 113.257812 203.625 \"/>\n",
       "<path style=\"fill-rule:nonzero;fill:rgb(100%,100%,100%);fill-opacity:1;stroke-width:0.75;stroke-linecap:round;stroke-linejoin:round;stroke:rgb(0%,0%,0%);stroke-opacity:1;stroke-miterlimit:10;\" d=\"M 148.523438 173.378906 L 148.683594 172.160156 L 149.152344 171.027344 L 149.898438 170.054688 L 150.875 169.308594 L 152.007812 168.835938 L 153.222656 168.675781 L 162.015625 168.675781 L 163.230469 168.835938 L 164.363281 169.308594 L 165.335938 170.054688 L 166.082031 171.027344 L 166.554688 172.160156 L 166.714844 173.378906 L 166.554688 174.59375 L 166.082031 175.726562 L 165.335938 176.699219 L 164.363281 177.445312 L 163.230469 177.917969 L 162.015625 178.078125 L 153.222656 178.078125 L 152.007812 177.917969 L 150.875 177.445312 L 149.898438 176.699219 L 149.152344 175.726562 L 148.683594 174.59375 Z M 148.523438 173.378906 \"/>\n",
       "<path style=\"fill-rule:nonzero;fill:rgb(100%,100%,100%);fill-opacity:1;stroke-width:0.75;stroke-linecap:round;stroke-linejoin:round;stroke:rgb(0%,0%,0%);stroke-opacity:1;stroke-miterlimit:10;\" d=\"M 181.4375 143.132812 L 181.597656 141.914062 L 182.066406 140.78125 L 182.8125 139.808594 L 183.789062 139.0625 L 184.921875 138.589844 L 186.136719 138.429688 L 194.929688 138.429688 L 196.144531 138.589844 L 197.277344 139.0625 L 198.25 139.808594 L 198.996094 140.78125 L 199.46875 141.914062 L 199.628906 143.132812 L 199.46875 144.347656 L 198.996094 145.480469 L 198.25 146.453125 L 197.277344 147.199219 L 196.144531 147.671875 L 194.929688 147.832031 L 186.136719 147.832031 L 184.921875 147.671875 L 183.789062 147.199219 L 182.8125 146.453125 L 182.066406 145.480469 L 181.597656 144.347656 Z M 181.4375 143.132812 \"/>\n",
       "<path style=\"fill-rule:nonzero;fill:rgb(100%,100%,100%);fill-opacity:1;stroke-width:0.75;stroke-linecap:round;stroke-linejoin:round;stroke:rgb(0%,0%,0%);stroke-opacity:1;stroke-miterlimit:10;\" d=\"M 214.117188 112.882812 L 214.277344 111.667969 L 214.746094 110.535156 L 215.492188 109.5625 L 216.464844 108.816406 L 217.601562 108.34375 L 218.816406 108.183594 L 227.605469 108.183594 L 228.824219 108.34375 L 229.957031 108.816406 L 230.929688 109.5625 L 231.675781 110.535156 L 232.144531 111.667969 L 232.304688 112.882812 L 232.144531 114.101562 L 231.675781 115.234375 L 230.929688 116.207031 L 229.957031 116.953125 L 228.824219 117.425781 L 227.605469 117.585938 L 218.816406 117.585938 L 217.601562 117.425781 L 216.464844 116.953125 L 215.492188 116.207031 L 214.746094 115.234375 L 214.277344 114.101562 Z M 214.117188 112.882812 \"/>\n",
       "<g style=\"fill:rgb(0%,0%,0%);fill-opacity:1;\">\n",
       "  <use xlink:href=\"#glyph1-1\" x=\"55.078125\" y=\"207.401367\"/>\n",
       "  <use xlink:href=\"#glyph1-2\" x=\"61.75\" y=\"207.401367\"/>\n",
       "  <use xlink:href=\"#glyph1-3\" x=\"65.085938\" y=\"207.401367\"/>\n",
       "</g>\n",
       "<g style=\"fill:rgb(0%,0%,0%);fill-opacity:1;\">\n",
       "  <use xlink:href=\"#glyph1-1\" x=\"110.351562\" y=\"207.401367\"/>\n",
       "  <use xlink:href=\"#glyph1-2\" x=\"117.023438\" y=\"207.401367\"/>\n",
       "  <use xlink:href=\"#glyph1-3\" x=\"120.359375\" y=\"207.401367\"/>\n",
       "  <use xlink:href=\"#glyph1-4\" x=\"127.03125\" y=\"207.401367\"/>\n",
       "</g>\n",
       "<g style=\"fill:rgb(0%,0%,0%);fill-opacity:1;\">\n",
       "  <use xlink:href=\"#glyph1-1\" x=\"145.617188\" y=\"177.155273\"/>\n",
       "  <use xlink:href=\"#glyph1-2\" x=\"152.289062\" y=\"177.155273\"/>\n",
       "  <use xlink:href=\"#glyph1-3\" x=\"155.625\" y=\"177.155273\"/>\n",
       "  <use xlink:href=\"#glyph1-5\" x=\"162.296875\" y=\"177.155273\"/>\n",
       "</g>\n",
       "<g style=\"fill:rgb(0%,0%,0%);fill-opacity:1;\">\n",
       "  <use xlink:href=\"#glyph1-1\" x=\"178.53125\" y=\"146.90918\"/>\n",
       "  <use xlink:href=\"#glyph1-2\" x=\"185.203125\" y=\"146.90918\"/>\n",
       "  <use xlink:href=\"#glyph1-3\" x=\"188.539062\" y=\"146.90918\"/>\n",
       "  <use xlink:href=\"#glyph1-6\" x=\"195.210938\" y=\"146.90918\"/>\n",
       "</g>\n",
       "<g style=\"fill:rgb(0%,0%,0%);fill-opacity:1;\">\n",
       "  <use xlink:href=\"#glyph1-1\" x=\"211.210938\" y=\"116.65918\"/>\n",
       "  <use xlink:href=\"#glyph1-2\" x=\"217.882812\" y=\"116.65918\"/>\n",
       "  <use xlink:href=\"#glyph1-3\" x=\"221.21875\" y=\"116.65918\"/>\n",
       "  <use xlink:href=\"#glyph1-7\" x=\"227.890625\" y=\"116.65918\"/>\n",
       "</g>\n",
       "<path style=\"fill-rule:nonzero;fill:rgb(100%,100%,100%);fill-opacity:1;stroke-width:0.75;stroke-linecap:round;stroke-linejoin:round;stroke:rgb(0%,0%,0%);stroke-opacity:1;stroke-miterlimit:10;\" d=\"M 150.472656 82.34375 L 150.503906 82.117188 L 150.59375 81.902344 L 150.730469 81.722656 L 150.914062 81.582031 L 151.128906 81.492188 L 151.355469 81.464844 L 162.160156 81.464844 L 162.386719 81.492188 L 162.601562 81.582031 L 162.785156 81.722656 L 162.921875 81.902344 L 163.011719 82.117188 L 163.042969 82.34375 L 163.042969 87.632812 L 163.011719 87.859375 L 162.921875 88.070312 L 162.785156 88.253906 L 162.601562 88.394531 L 162.386719 88.484375 L 162.160156 88.511719 L 151.355469 88.511719 L 151.128906 88.484375 L 150.914062 88.394531 L 150.730469 88.253906 L 150.59375 88.070312 L 150.503906 87.859375 L 150.472656 87.632812 Z M 150.472656 82.34375 \"/>\n",
       "<path style=\"fill-rule:nonzero;fill:rgb(100%,100%,100%);fill-opacity:1;stroke-width:0.75;stroke-linecap:round;stroke-linejoin:round;stroke:rgb(0%,0%,0%);stroke-opacity:1;stroke-miterlimit:10;\" d=\"M 218.082031 82.34375 L 218.113281 82.117188 L 218.199219 81.902344 L 218.339844 81.722656 L 218.523438 81.582031 L 218.734375 81.492188 L 218.964844 81.464844 L 229.769531 81.464844 L 229.996094 81.492188 L 230.210938 81.582031 L 230.390625 81.722656 L 230.53125 81.902344 L 230.621094 82.117188 L 230.648438 82.34375 L 230.648438 87.632812 L 230.621094 87.859375 L 230.53125 88.070312 L 230.390625 88.253906 L 230.210938 88.394531 L 229.996094 88.484375 L 229.769531 88.511719 L 218.964844 88.511719 L 218.734375 88.484375 L 218.523438 88.394531 L 218.339844 88.253906 L 218.199219 88.070312 L 218.113281 87.859375 L 218.082031 87.632812 Z M 218.082031 82.34375 \"/>\n",
       "<g style=\"fill:rgb(0%,0%,0%);fill-opacity:1;\">\n",
       "  <use xlink:href=\"#glyph2-1\" x=\"149.257812\" y=\"86.881836\"/>\n",
       "  <use xlink:href=\"#glyph2-2\" x=\"153.719727\" y=\"86.881836\"/>\n",
       "  <use xlink:href=\"#glyph2-3\" x=\"159.053711\" y=\"86.881836\"/>\n",
       "</g>\n",
       "<g style=\"fill:rgb(0%,0%,0%);fill-opacity:1;\">\n",
       "  <use xlink:href=\"#glyph2-4\" x=\"218.867188\" y=\"87.295898\"/>\n",
       "  <use xlink:href=\"#glyph2-5\" x=\"224.201172\" y=\"87.295898\"/>\n",
       "</g>\n",
       "</g>\n",
       "</svg>\n"
      ],
      "text/plain": [
       "plot without title"
      ]
     },
     "metadata": {
      "image/svg+xml": {
       "isolated": true
      }
     },
     "output_type": "display_data"
    }
   ],
   "source": [
    "CARTmodel2 = rpart(voting ~ civicduty + hawthorne +\n",
    "                   self + neighbors,\n",
    "                   data=data, cp=0.0)\n",
    "prp(CARTmodel2)"
   ]
  },
  {
   "cell_type": "code",
   "execution_count": 53,
   "metadata": {
    "collapsed": false
   },
   "outputs": [
    {
     "data": {
      "image/png": "[encoded data removed]",
      "image/svg+xml": [
       "<?xml version=\"1.0\" encoding=\"UTF-8\"?>\n",
       "<svg xmlns=\"http://www.w3.org/2000/svg\" xmlns:xlink=\"http://www.w3.org/1999/xlink\" width=\"288pt\" height=\"288pt\" viewBox=\"0 0 288 288\" version=\"1.1\">\n",
       "<defs>\n",
       "<g>\n",
       "<symbol overflow=\"visible\" id=\"glyph0-0\">\n",
       "<path style=\"stroke:none;\" d=\"\"/>\n",
       "</symbol>\n",
       "<symbol overflow=\"visible\" id=\"glyph0-1\">\n",
       "<path style=\"stroke:none;\" d=\"M 6.546875 0 L 6.546875 -4.34375 C 6.546875 -5.765625 5.765625 -6.59375 4.375 -6.59375 C 3.5 -6.59375 2.921875 -6.265625 2.4375 -5.546875 L 2.4375 -6.484375 L 0.75 -6.484375 L 0.75 0 L 2.4375 0 L 2.4375 -3.890625 C 2.4375 -4.65625 2.96875 -5.15625 3.796875 -5.15625 C 4.515625 -5.15625 4.875 -4.765625 4.875 -4 L 4.875 0 Z M 6.546875 0 \"/>\n",
       "</symbol>\n",
       "<symbol overflow=\"visible\" id=\"glyph0-2\">\n",
       "<path style=\"stroke:none;\" d=\"M 6.296875 -3 C 6.296875 -5.234375 5.171875 -6.59375 3.265625 -6.59375 C 1.40625 -6.59375 0.265625 -5.328125 0.265625 -3.15625 C 0.265625 -1.078125 1.390625 0.109375 3.234375 0.109375 C 4.6875 0.109375 5.859375 -0.546875 6.234375 -1.828125 L 4.578125 -1.828125 C 4.421875 -1.359375 3.90625 -1.171875 3.28125 -1.171875 C 2.5 -1.171875 1.984375 -1.53125 1.9375 -2.796875 L 6.28125 -2.796875 Z M 4.546875 -3.90625 L 1.96875 -3.90625 C 2.078125 -4.8125 2.5 -5.296875 3.234375 -5.296875 C 3.953125 -5.296875 4.46875 -4.84375 4.546875 -3.90625 Z M 4.546875 -3.90625 \"/>\n",
       "</symbol>\n",
       "<symbol overflow=\"visible\" id=\"glyph0-3\">\n",
       "<path style=\"stroke:none;\" d=\"M 2.484375 0 L 2.484375 -6.484375 L 0.796875 -6.484375 L 0.796875 0 Z M 2.515625 -7.265625 L 2.515625 -8.9375 L 0.828125 -8.9375 L 0.828125 -7.265625 Z M 2.515625 -7.265625 \"/>\n",
       "</symbol>\n",
       "<symbol overflow=\"visible\" id=\"glyph0-4\">\n",
       "<path style=\"stroke:none;\" d=\"M 6.484375 0.21875 L 6.484375 -6.484375 L 4.890625 -6.484375 L 4.890625 -5.484375 C 4.390625 -6.25 3.84375 -6.59375 3.09375 -6.59375 C 1.5625 -6.59375 0.40625 -5.171875 0.40625 -3.171875 C 0.40625 -1.15625 1.46875 0.109375 3.0625 0.109375 C 3.8125 0.109375 4.265625 -0.125 4.890625 -0.75 L 4.890625 0.21875 C 4.890625 1 4.3125 1.53125 3.46875 1.53125 C 2.828125 1.53125 2.40625 1.265625 2.28125 0.78125 L 0.546875 0.78125 C 0.5625 1.84375 1.625 2.609375 3.40625 2.609375 C 5.359375 2.609375 6.484375 1.734375 6.484375 0.21875 Z M 4.921875 -3.1875 C 4.921875 -2.015625 4.3125 -1.296875 3.4375 -1.296875 C 2.640625 -1.296875 2.09375 -2.015625 2.09375 -3.1875 C 2.09375 -4.421875 2.640625 -5.1875 3.453125 -5.1875 C 4.296875 -5.1875 4.921875 -4.390625 4.921875 -3.1875 Z M 4.921875 -3.1875 \"/>\n",
       "</symbol>\n",
       "<symbol overflow=\"visible\" id=\"glyph0-5\">\n",
       "<path style=\"stroke:none;\" d=\"M 6.484375 0 L 6.484375 -4.34375 C 6.484375 -5.859375 5.609375 -6.59375 4.375 -6.59375 C 3.546875 -6.59375 2.953125 -6.25 2.484375 -5.546875 L 2.484375 -8.75 L 0.796875 -8.75 L 0.796875 0 L 2.484375 0 L 2.484375 -3.890625 C 2.484375 -4.625 3.03125 -5.15625 3.78125 -5.15625 C 4.375 -5.15625 4.8125 -4.84375 4.8125 -3.953125 L 4.8125 0 Z M 6.484375 0 \"/>\n",
       "</symbol>\n",
       "<symbol overflow=\"visible\" id=\"glyph0-6\">\n",
       "<path style=\"stroke:none;\" d=\"M 6.90625 -3.15625 C 6.90625 -4.984375 5.875 -6.59375 4.171875 -6.59375 C 3.375 -6.59375 2.796875 -6.28125 2.390625 -5.640625 L 2.390625 -8.75 L 0.703125 -8.75 L 0.703125 0 L 2.390625 0 L 2.390625 -0.75 C 2.796875 -0.1875 3.359375 0.109375 4.171875 0.109375 C 5.71875 0.109375 6.90625 -1.203125 6.90625 -3.15625 Z M 5.21875 -3.234375 C 5.21875 -2.046875 4.625 -1.296875 3.796875 -1.296875 C 2.953125 -1.296875 2.390625 -2.03125 2.390625 -3.265625 C 2.390625 -4.4375 2.96875 -5.1875 3.796875 -5.1875 C 4.625 -5.1875 5.21875 -4.421875 5.21875 -3.234375 Z M 5.21875 -3.234375 \"/>\n",
       "</symbol>\n",
       "<symbol overflow=\"visible\" id=\"glyph0-7\">\n",
       "<path style=\"stroke:none;\" d=\"M 6.828125 -3.1875 C 6.828125 -5.390625 5.640625 -6.59375 3.609375 -6.59375 C 1.625 -6.59375 0.421875 -5.359375 0.421875 -3.234375 C 0.421875 -1.109375 1.625 0.109375 3.625 0.109375 C 5.59375 0.109375 6.828125 -1.109375 6.828125 -3.1875 Z M 5.140625 -3.21875 C 5.140625 -2 4.53125 -1.25 3.625 -1.25 C 2.71875 -1.25 2.09375 -2 2.09375 -3.234375 C 2.09375 -4.46875 2.71875 -5.234375 3.625 -5.234375 C 4.546875 -5.234375 5.140625 -4.484375 5.140625 -3.21875 Z M 5.140625 -3.21875 \"/>\n",
       "</symbol>\n",
       "<symbol overflow=\"visible\" id=\"glyph0-8\">\n",
       "<path style=\"stroke:none;\" d=\"M 4.4375 -4.875 L 4.4375 -6.578125 C 4.34375 -6.59375 4.28125 -6.59375 4.234375 -6.59375 C 3.46875 -6.59375 2.796875 -6.078125 2.4375 -5.203125 L 2.4375 -6.484375 L 0.75 -6.484375 L 0.75 0 L 2.4375 0 L 2.4375 -3.4375 C 2.4375 -4.421875 2.921875 -4.921875 3.90625 -4.921875 C 4.09375 -4.921875 4.21875 -4.90625 4.4375 -4.875 Z M 4.4375 -4.875 \"/>\n",
       "</symbol>\n",
       "<symbol overflow=\"visible\" id=\"glyph0-9\">\n",
       "<path style=\"stroke:none;\" d=\"\"/>\n",
       "</symbol>\n",
       "<symbol overflow=\"visible\" id=\"glyph0-10\">\n",
       "<path style=\"stroke:none;\" d=\"M 5.5625 1.265625 L 5.5625 -0.296875 L 2.375 -3 L 5.5625 -5.703125 L 5.5625 -7.265625 L 1.0625 -3.453125 L 1.0625 -2.546875 Z M 5.5625 1.265625 \"/>\n",
       "</symbol>\n",
       "<symbol overflow=\"visible\" id=\"glyph0-11\">\n",
       "<path style=\"stroke:none;\" d=\"M 6.203125 -4.234375 C 6.203125 -6.640625 5.765625 -8.6875 3.28125 -8.6875 C 0.84375 -8.6875 0.34375 -6.734375 0.34375 -4.28125 C 0.34375 -1.90625 0.8125 0.109375 3.28125 0.109375 C 5 0.109375 6.203125 -0.875 6.203125 -4.234375 Z M 4.53125 -4.265625 C 4.53125 -1.890625 4.171875 -1.328125 3.28125 -1.328125 C 2.421875 -1.328125 2.03125 -1.765625 2.03125 -4.296875 C 2.03125 -6.765625 2.375 -7.328125 3.28125 -7.328125 C 4.109375 -7.328125 4.53125 -6.90625 4.53125 -4.265625 Z M 4.53125 -4.265625 \"/>\n",
       "</symbol>\n",
       "<symbol overflow=\"visible\" id=\"glyph0-12\">\n",
       "<path style=\"stroke:none;\" d=\"M 2.5625 0 L 2.5625 -1.75 L 0.765625 -1.75 L 0.765625 0 Z M 2.5625 0 \"/>\n",
       "</symbol>\n",
       "<symbol overflow=\"visible\" id=\"glyph0-13\">\n",
       "<path style=\"stroke:none;\" d=\"M 6.203125 -2.890625 C 6.203125 -4.625 5.125 -5.75 3.546875 -5.75 C 2.984375 -5.75 2.5625 -5.609375 2.078125 -5.234375 L 2.359375 -7.015625 L 5.875 -7.015625 L 5.875 -8.515625 L 1.3125 -8.515625 L 0.5625 -3.765625 L 2.078125 -3.765625 C 2.25 -4.1875 2.640625 -4.421875 3.15625 -4.421875 C 4.015625 -4.421875 4.53125 -3.890625 4.53125 -2.859375 C 4.53125 -1.859375 4 -1.328125 3.15625 -1.328125 C 2.421875 -1.328125 1.984375 -1.703125 1.984375 -2.390625 L 0.328125 -2.390625 C 0.328125 -0.90625 1.46875 0.109375 3.125 0.109375 C 4.953125 0.109375 6.203125 -1.0625 6.203125 -2.890625 Z M 6.203125 -2.890625 \"/>\n",
       "</symbol>\n",
       "<symbol overflow=\"visible\" id=\"glyph0-14\">\n",
       "<path style=\"stroke:none;\" d=\"M 6.234375 -1.921875 L 6.234375 -2 C 6.234375 -2.75 5.8125 -3.296875 4.96875 -3.546875 L 2.84375 -4.15625 C 2.375 -4.296875 2.25 -4.40625 2.25 -4.671875 C 2.25 -5.03125 2.640625 -5.265625 3.234375 -5.265625 C 4.03125 -5.265625 4.421875 -4.984375 4.4375 -4.390625 L 6.0625 -4.390625 C 6.03125 -5.765625 4.984375 -6.59375 3.234375 -6.59375 C 1.59375 -6.59375 0.578125 -5.765625 0.578125 -4.421875 C 0.578125 -3.640625 0.796875 -3.203125 1.984375 -2.828125 L 4 -2.203125 C 4.421875 -2.078125 4.5625 -1.9375 4.5625 -1.765625 C 4.5625 -1.375 4.09375 -1.21875 3.3125 -1.21875 C 2.546875 -1.21875 2.140625 -1.359375 1.984375 -2.046875 L 0.34375 -2.046875 C 0.390625 -0.640625 1.4375 0.109375 3.40625 0.109375 C 5.234375 0.109375 6.234375 -0.609375 6.234375 -1.921875 Z M 6.234375 -1.921875 \"/>\n",
       "</symbol>\n",
       "<symbol overflow=\"visible\" id=\"glyph0-15\">\n",
       "<path style=\"stroke:none;\" d=\"M 2.484375 0 L 2.484375 -8.75 L 0.796875 -8.75 L 0.796875 0 Z M 2.484375 0 \"/>\n",
       "</symbol>\n",
       "<symbol overflow=\"visible\" id=\"glyph0-16\">\n",
       "<path style=\"stroke:none;\" d=\"M 3.75 -5.234375 L 3.75 -6.34375 L 2.765625 -6.34375 L 2.765625 -6.984375 C 2.765625 -7.3125 2.90625 -7.484375 3.21875 -7.484375 C 3.359375 -7.484375 3.546875 -7.46875 3.703125 -7.453125 L 3.703125 -8.71875 C 3.390625 -8.734375 2.96875 -8.75 2.734375 -8.75 C 1.625 -8.75 1.078125 -8.21875 1.078125 -7.125 L 1.078125 -6.34375 L 0.171875 -6.34375 L 0.171875 -5.234375 L 1.078125 -5.234375 L 1.078125 0 L 2.765625 0 L 2.765625 -5.234375 Z M 3.75 -5.234375 \"/>\n",
       "</symbol>\n",
       "<symbol overflow=\"visible\" id=\"glyph0-17\">\n",
       "<path style=\"stroke:none;\" d=\"M 6.28125 0 L 6.28125 -0.203125 C 5.984375 -0.484375 5.90625 -0.65625 5.90625 -1 L 5.90625 -4.59375 C 5.90625 -5.921875 5 -6.59375 3.25 -6.59375 C 1.5 -6.59375 0.59375 -5.84375 0.484375 -4.34375 L 2.09375 -4.34375 C 2.1875 -5.015625 2.453125 -5.234375 3.28125 -5.234375 C 3.9375 -5.234375 4.265625 -5.015625 4.265625 -4.578125 C 4.265625 -3.90625 3.75 -3.96875 2.921875 -3.828125 L 2.25 -3.703125 C 0.953125 -3.484375 0.34375 -2.921875 0.34375 -1.75 C 0.34375 -0.484375 1.21875 0.109375 2.296875 0.109375 C 3.03125 0.109375 3.6875 -0.203125 4.265625 -0.8125 C 4.265625 -0.484375 4.3125 -0.1875 4.46875 0 Z M 4.265625 -2.765625 C 4.265625 -1.796875 3.78125 -1.25 2.921875 -1.25 C 2.359375 -1.25 2.015625 -1.46875 2.015625 -1.9375 C 2.015625 -2.4375 2.28125 -2.609375 2.96875 -2.75 L 3.546875 -2.859375 C 4 -2.9375 4.0625 -2.96875 4.265625 -3.0625 Z M 4.265625 -2.765625 \"/>\n",
       "</symbol>\n",
       "<symbol overflow=\"visible\" id=\"glyph0-18\">\n",
       "<path style=\"stroke:none;\" d=\"M 9.1875 -6.484375 L 7.453125 -6.484375 L 6.46875 -1.9375 L 5.5 -6.484375 L 3.8125 -6.484375 L 2.828125 -1.9375 L 1.796875 -6.484375 L 0.0625 -6.484375 L 1.890625 0 L 3.609375 0 L 4.640625 -4.578125 L 5.609375 0 L 7.359375 0 Z M 9.1875 -6.484375 \"/>\n",
       "</symbol>\n",
       "<symbol overflow=\"visible\" id=\"glyph0-19\">\n",
       "<path style=\"stroke:none;\" d=\"M 3.609375 0 L 3.609375 -1.171875 C 3.4375 -1.15625 3.34375 -1.140625 3.234375 -1.140625 C 2.78125 -1.140625 2.671875 -1.265625 2.671875 -1.84375 L 2.671875 -5.234375 L 3.609375 -5.234375 L 3.609375 -6.34375 L 2.671875 -6.34375 L 2.671875 -8.09375 L 1 -8.09375 L 1 -6.34375 L 0.171875 -6.34375 L 0.171875 -5.234375 L 1 -5.234375 L 1 -1.390625 C 1 -0.375 1.53125 0.046875 2.640625 0.046875 C 3.015625 0.046875 3.3125 0.015625 3.609375 0 Z M 3.609375 0 \"/>\n",
       "</symbol>\n",
       "<symbol overflow=\"visible\" id=\"glyph0-20\">\n",
       "<path style=\"stroke:none;\" d=\"M 6.265625 -2.25 L 4.65625 -2.25 C 4.4375 -1.578125 4.109375 -1.25 3.453125 -1.25 C 2.609375 -1.25 2.09375 -1.9375 2.09375 -3.1875 C 2.09375 -4.375 2.40625 -5.234375 3.453125 -5.234375 C 4.140625 -5.234375 4.46875 -4.90625 4.65625 -4.0625 L 6.265625 -4.0625 C 6.140625 -5.640625 5.09375 -6.59375 3.46875 -6.59375 C 1.53125 -6.59375 0.40625 -5.40625 0.40625 -3.1875 C 0.40625 -1.0625 1.53125 0.109375 3.4375 0.109375 C 5.015625 0.109375 6.109375 -0.859375 6.265625 -2.25 Z M 6.265625 -2.25 \"/>\n",
       "</symbol>\n",
       "<symbol overflow=\"visible\" id=\"glyph0-21\">\n",
       "<path style=\"stroke:none;\" d=\"M 6.4375 -6.484375 L 4.65625 -6.484375 L 3.34375 -1.734375 L 1.9375 -6.484375 L 0.171875 -6.484375 L 2.4375 0 L 4.203125 0 Z M 6.4375 -6.484375 \"/>\n",
       "</symbol>\n",
       "<symbol overflow=\"visible\" id=\"glyph0-22\">\n",
       "<path style=\"stroke:none;\" d=\"M 6.546875 0 L 6.546875 -8.75 L 4.859375 -8.75 L 4.859375 -5.640625 C 4.4375 -6.28125 3.875 -6.59375 3.078125 -6.59375 C 1.53125 -6.59375 0.34375 -5.1875 0.34375 -3.234375 C 0.34375 -1.390625 1.359375 0.109375 3.078125 0.109375 C 3.875 0.109375 4.4375 -0.1875 4.859375 -0.75 L 4.859375 0 Z M 4.859375 -3.203125 C 4.859375 -2.03125 4.28125 -1.296875 3.4375 -1.296875 C 2.609375 -1.296875 2.03125 -2.046875 2.03125 -3.234375 C 2.03125 -4.421875 2.609375 -5.1875 3.4375 -5.1875 C 4.296875 -5.1875 4.859375 -4.4375 4.859375 -3.203125 Z M 4.859375 -3.203125 \"/>\n",
       "</symbol>\n",
       "<symbol overflow=\"visible\" id=\"glyph0-23\">\n",
       "<path style=\"stroke:none;\" d=\"M 6.484375 0 L 6.484375 -6.484375 L 4.8125 -6.484375 L 4.8125 -2.59375 C 4.8125 -1.828125 4.265625 -1.3125 3.453125 -1.3125 C 2.734375 -1.3125 2.375 -1.703125 2.375 -2.484375 L 2.375 -6.484375 L 0.703125 -6.484375 L 0.703125 -2.140625 C 0.703125 -0.703125 1.484375 0.109375 2.875 0.109375 C 3.75 0.109375 4.328125 -0.21875 4.8125 -0.859375 L 4.8125 0 Z M 6.484375 0 \"/>\n",
       "</symbol>\n",
       "<symbol overflow=\"visible\" id=\"glyph0-24\">\n",
       "<path style=\"stroke:none;\" d=\"M 6.421875 0 L 4.265625 -3.265625 L 6.375 -6.484375 L 4.359375 -6.484375 L 3.3125 -4.53125 L 2.25 -6.484375 L 0.234375 -6.484375 L 2.359375 -3.265625 L 0.1875 0 L 2.203125 0 L 3.3125 -2.015625 L 4.40625 0 Z M 6.421875 0 \"/>\n",
       "</symbol>\n",
       "<symbol overflow=\"visible\" id=\"glyph0-25\">\n",
       "<path style=\"stroke:none;\" d=\"M 5.5625 -2.546875 L 5.5625 -3.453125 L 1.0625 -7.265625 L 1.0625 -5.703125 L 4.25 -3 L 1.0625 -0.296875 L 1.0625 1.265625 Z M 5.5625 -2.546875 \"/>\n",
       "</symbol>\n",
       "<symbol overflow=\"visible\" id=\"glyph0-26\">\n",
       "<path style=\"stroke:none;\" d=\"M 6.28125 -3.484375 L 6.28125 -4.6875 L 0.71875 -4.6875 L 0.71875 -3.484375 Z M 6.28125 -1.3125 L 6.28125 -2.515625 L 0.71875 -2.515625 L 0.71875 -1.3125 Z M 6.28125 -1.3125 \"/>\n",
       "</symbol>\n",
       "<symbol overflow=\"visible\" id=\"glyph1-0\">\n",
       "<path style=\"stroke:none;\" d=\"\"/>\n",
       "</symbol>\n",
       "<symbol overflow=\"visible\" id=\"glyph1-1\">\n",
       "<path style=\"stroke:none;\" d=\"M 6.078125 -4.09375 C 6.078125 -7.046875 5.140625 -8.515625 3.296875 -8.515625 C 1.46875 -8.515625 0.515625 -7.015625 0.515625 -4.15625 C 0.515625 -1.296875 1.46875 0.1875 3.296875 0.1875 C 5.09375 0.1875 6.078125 -1.296875 6.078125 -4.09375 Z M 5 -4.1875 C 5 -1.78125 4.453125 -0.703125 3.28125 -0.703125 C 2.15625 -0.703125 1.59375 -1.828125 1.59375 -4.15625 C 1.59375 -6.484375 2.15625 -7.578125 3.296875 -7.578125 C 4.4375 -7.578125 5 -6.46875 5 -4.1875 Z M 5 -4.1875 \"/>\n",
       "</symbol>\n",
       "<symbol overflow=\"visible\" id=\"glyph1-2\">\n",
       "<path style=\"stroke:none;\" d=\"M 2.296875 0 L 2.296875 -1.25 L 1.046875 -1.25 L 1.046875 0 Z M 2.296875 0 \"/>\n",
       "</symbol>\n",
       "<symbol overflow=\"visible\" id=\"glyph1-3\">\n",
       "<path style=\"stroke:none;\" d=\"M 6.125 -6.015625 C 6.125 -7.453125 5.015625 -8.515625 3.40625 -8.515625 C 1.671875 -8.515625 0.65625 -7.625 0.59375 -5.5625 L 1.65625 -5.5625 C 1.734375 -6.984375 2.328125 -7.578125 3.375 -7.578125 C 4.328125 -7.578125 5.046875 -6.90625 5.046875 -5.984375 C 5.046875 -5.3125 4.65625 -4.734375 3.90625 -4.3125 L 2.796875 -3.6875 C 1.015625 -2.671875 0.5 -1.875 0.40625 0 L 6.078125 0 L 6.078125 -1.046875 L 1.59375 -1.046875 C 1.703125 -1.734375 2.09375 -2.1875 3.125 -2.796875 L 4.328125 -3.4375 C 5.515625 -4.078125 6.125 -4.96875 6.125 -6.015625 Z M 6.125 -6.015625 \"/>\n",
       "</symbol>\n",
       "<symbol overflow=\"visible\" id=\"glyph1-4\">\n",
       "<path style=\"stroke:none;\" d=\"M 6.109375 -4.453125 C 6.109375 -7.109375 5.1875 -8.515625 3.234375 -8.515625 C 1.625 -8.515625 0.453125 -7.359375 0.453125 -5.6875 C 0.453125 -4.109375 1.53125 -3.03125 3.078125 -3.03125 C 3.875 -3.03125 4.46875 -3.328125 5.015625 -3.984375 C 5 -1.90625 4.328125 -0.75 3.125 -0.75 C 2.375 -0.75 1.859375 -1.21875 1.6875 -2.046875 L 0.640625 -2.046875 C 0.84375 -0.640625 1.75 0.1875 3.046875 0.1875 C 5.046875 0.1875 6.109375 -1.515625 6.109375 -4.453125 Z M 4.953125 -5.71875 C 4.953125 -4.671875 4.21875 -3.96875 3.1875 -3.96875 C 2.171875 -3.96875 1.53125 -4.625 1.53125 -5.765625 C 1.53125 -6.859375 2.25 -7.578125 3.234375 -7.578125 C 4.21875 -7.578125 4.953125 -6.8125 4.953125 -5.71875 Z M 4.953125 -5.71875 \"/>\n",
       "</symbol>\n",
       "<symbol overflow=\"visible\" id=\"glyph1-5\">\n",
       "<path style=\"stroke:none;\" d=\"M 6.078125 -2.46875 C 6.078125 -3.5 5.65625 -4.109375 4.625 -4.453125 C 5.421875 -4.765625 5.8125 -5.3125 5.8125 -6.171875 C 5.8125 -7.625 4.84375 -8.515625 3.234375 -8.515625 C 1.515625 -8.515625 0.59375 -7.578125 0.5625 -5.765625 L 1.625 -5.765625 C 1.640625 -7.015625 2.15625 -7.578125 3.234375 -7.578125 C 4.171875 -7.578125 4.734375 -7.03125 4.734375 -6.125 C 4.734375 -5.21875 4.34375 -4.84375 2.65625 -4.84375 L 2.65625 -3.953125 L 3.234375 -3.953125 C 4.390625 -3.953125 4.984375 -3.40625 4.984375 -2.453125 C 4.984375 -1.390625 4.328125 -0.75 3.234375 -0.75 C 2.078125 -0.75 1.515625 -1.328125 1.4375 -2.5625 L 0.390625 -2.5625 C 0.515625 -0.671875 1.453125 0.1875 3.1875 0.1875 C 4.9375 0.1875 6.078125 -0.859375 6.078125 -2.46875 Z M 6.078125 -2.46875 \"/>\n",
       "</symbol>\n",
       "<symbol overflow=\"visible\" id=\"glyph1-6\">\n",
       "<path style=\"stroke:none;\" d=\"M 4.15625 0 L 4.15625 -8.515625 L 3.46875 -8.515625 C 3.09375 -7.203125 2.859375 -7.015625 1.21875 -6.8125 L 1.21875 -6.0625 L 3.109375 -6.0625 L 3.109375 0 Z M 4.15625 0 \"/>\n",
       "</symbol>\n",
       "<symbol overflow=\"visible\" id=\"glyph1-7\">\n",
       "<path style=\"stroke:none;\" d=\"M 6.234375 -2.046875 L 6.234375 -2.984375 L 4.984375 -2.984375 L 4.984375 -8.515625 L 4.203125 -8.515625 L 0.34375 -3.15625 L 0.34375 -2.046875 L 3.921875 -2.046875 L 3.921875 0 L 4.984375 0 L 4.984375 -2.046875 Z M 3.921875 -2.984375 L 1.265625 -2.984375 L 3.921875 -6.703125 Z M 3.921875 -2.984375 \"/>\n",
       "</symbol>\n",
       "<symbol overflow=\"visible\" id=\"glyph1-8\">\n",
       "<path style=\"stroke:none;\" d=\"M 6.15625 -2.8125 C 6.15625 -4.5 5.046875 -5.609375 3.40625 -5.609375 C 2.8125 -5.609375 2.328125 -5.453125 1.84375 -5.09375 L 2.171875 -7.28125 L 5.71875 -7.28125 L 5.71875 -8.328125 L 1.3125 -8.328125 L 0.6875 -3.875 L 1.65625 -3.875 C 2.140625 -4.46875 2.5625 -4.671875 3.21875 -4.671875 C 4.359375 -4.671875 5.078125 -3.9375 5.078125 -2.671875 C 5.078125 -1.453125 4.375 -0.75 3.21875 -0.75 C 2.296875 -0.75 1.734375 -1.21875 1.46875 -2.1875 L 0.421875 -2.1875 C 0.765625 -0.484375 1.734375 0.1875 3.234375 0.1875 C 4.953125 0.1875 6.15625 -1.015625 6.15625 -2.8125 Z M 6.15625 -2.8125 \"/>\n",
       "</symbol>\n",
       "<symbol overflow=\"visible\" id=\"glyph1-9\">\n",
       "<path style=\"stroke:none;\" d=\"M 6.234375 -7.4375 L 6.234375 -8.328125 L 0.546875 -8.328125 L 0.546875 -7.28125 L 5.140625 -7.28125 C 3.453125 -5.140625 2.25 -2.65625 1.65625 0 L 2.78125 0 C 3.25 -2.75 4.453125 -5.3125 6.234375 -7.4375 Z M 6.234375 -7.4375 \"/>\n",
       "</symbol>\n",
       "<symbol overflow=\"visible\" id=\"glyph1-10\">\n",
       "<path style=\"stroke:none;\" d=\"M 6.15625 -2.40625 C 6.15625 -3.34375 5.671875 -4.015625 4.6875 -4.46875 C 5.5625 -5 5.859375 -5.4375 5.859375 -6.234375 C 5.859375 -7.578125 4.8125 -8.515625 3.296875 -8.515625 C 1.796875 -8.515625 0.75 -7.578125 0.75 -6.234375 C 0.75 -5.453125 1.03125 -5.015625 1.890625 -4.46875 C 0.921875 -4.015625 0.4375 -3.34375 0.4375 -2.40625 C 0.4375 -0.859375 1.625 0.1875 3.296875 0.1875 C 4.984375 0.1875 6.15625 -0.859375 6.15625 -2.40625 Z M 4.78125 -6.21875 C 4.78125 -5.421875 4.1875 -4.890625 3.296875 -4.890625 C 2.40625 -4.890625 1.828125 -5.421875 1.828125 -6.234375 C 1.828125 -7.046875 2.40625 -7.578125 3.296875 -7.578125 C 4.203125 -7.578125 4.78125 -7.046875 4.78125 -6.21875 Z M 5.078125 -2.390625 C 5.078125 -1.375 4.359375 -0.75 3.28125 -0.75 C 2.25 -0.75 1.53125 -1.390625 1.53125 -2.390625 C 1.53125 -3.390625 2.25 -4.015625 3.296875 -4.015625 C 4.359375 -4.015625 5.078125 -3.390625 5.078125 -2.390625 Z M 5.078125 -2.390625 \"/>\n",
       "</symbol>\n",
       "<symbol overflow=\"visible\" id=\"glyph2-0\">\n",
       "<path style=\"stroke:none;\" d=\"\"/>\n",
       "</symbol>\n",
       "<symbol overflow=\"visible\" id=\"glyph2-1\">\n",
       "<path style=\"stroke:none;\" d=\"M 5.1875 -5.03125 L 4.328125 -5.03125 L 2.09375 -1.125 L 1.65625 -5.03125 L 0.78125 -5.03125 L 1.4375 0.03125 L 0.9375 0.8125 C 0.6875 1.21875 0.53125 1.3125 0.171875 1.3125 C 0.078125 1.3125 0.015625 1.3125 -0.25 1.28125 L -0.40625 2 C -0.234375 2.078125 -0.109375 2.09375 0.0625 2.09375 C 0.75 2.09375 1.234375 1.765625 1.65625 1.0625 Z M 5.1875 -5.03125 \"/>\n",
       "</symbol>\n",
       "<symbol overflow=\"visible\" id=\"glyph2-2\">\n",
       "<path style=\"stroke:none;\" d=\"M 4.9375 -2.28125 L 4.953125 -2.40625 C 5.03125 -2.875 5.078125 -3.265625 5.078125 -3.53125 C 5.078125 -4.453125 4.28125 -5.171875 3.25 -5.171875 C 2.421875 -5.171875 1.609375 -4.78125 1.125 -4.140625 C 0.6875 -3.53125 0.328125 -2.46875 0.328125 -1.703125 C 0.328125 -0.703125 1.078125 0.140625 2.25 0.140625 C 3.390625 0.140625 4.359375 -0.484375 4.65625 -1.53125 L 3.859375 -1.53125 C 3.53125 -0.9375 3.015625 -0.59375 2.375 -0.59375 C 1.625 -0.59375 1.1875 -1.03125 1.1875 -1.84375 C 1.171875 -2 1.1875 -2.09375 1.234375 -2.28125 Z M 4.21875 -2.96875 L 1.40625 -2.96875 C 1.640625 -3.8125 2.34375 -4.4375 3.125 -4.4375 C 3.8125 -4.4375 4.234375 -3.96875 4.234375 -3.25 C 4.234375 -3.15625 4.234375 -3.09375 4.21875 -2.96875 Z M 4.21875 -2.96875 \"/>\n",
       "</symbol>\n",
       "<symbol overflow=\"visible\" id=\"glyph2-3\">\n",
       "<path style=\"stroke:none;\" d=\"M 4.265625 -1.734375 C 4.265625 -2.328125 3.953125 -2.625 3.109375 -2.84375 L 2.375 -3.015625 C 1.84375 -3.15625 1.5625 -3.34375 1.5625 -3.59375 C 1.5625 -4.09375 2.046875 -4.4375 2.765625 -4.4375 C 3.34375 -4.4375 3.65625 -4.21875 3.65625 -3.84375 C 3.65625 -3.765625 3.65625 -3.703125 3.640625 -3.625 L 4.453125 -3.625 C 4.5 -3.828125 4.515625 -3.921875 4.515625 -4.03125 C 4.515625 -4.703125 3.859375 -5.171875 2.9375 -5.171875 C 1.609375 -5.171875 0.71875 -4.40625 0.71875 -3.390625 C 0.71875 -2.796875 1.0625 -2.515625 2.046875 -2.265625 L 2.75 -2.078125 C 3.359375 -1.921875 3.421875 -1.71875 3.421875 -1.515625 C 3.421875 -0.96875 2.796875 -0.59375 2.046875 -0.59375 C 1.390625 -0.59375 1.015625 -0.859375 1.015625 -1.328125 C 1.015625 -1.390625 1.03125 -1.484375 1.03125 -1.578125 L 0.1875 -1.578125 C 0.140625 -1.359375 0.125 -1.234375 0.125 -1.078125 C 0.125 -0.3125 0.796875 0.140625 1.90625 0.140625 C 3.34375 0.140625 4.265625 -0.59375 4.265625 -1.734375 Z M 4.265625 -1.734375 \"/>\n",
       "</symbol>\n",
       "<symbol overflow=\"visible\" id=\"glyph2-4\">\n",
       "<path style=\"stroke:none;\" d=\"M 4.984375 -3.609375 C 5.015625 -3.734375 5.03125 -3.84375 5.03125 -3.96875 C 5.03125 -4.703125 4.515625 -5.171875 3.71875 -5.171875 C 3 -5.171875 2.359375 -4.90625 1.859375 -4.40625 L 1.984375 -5.03125 L 1.25 -5.03125 L 0.1875 0 L 1 0 L 1.578125 -2.765625 C 1.796875 -3.828125 2.484375 -4.484375 3.34375 -4.484375 C 3.828125 -4.484375 4.1875 -4.140625 4.1875 -3.703125 C 4.1875 -3.640625 4.15625 -3.5 4.125 -3.34375 L 3.421875 0 L 4.21875 0 Z M 4.984375 -3.609375 \"/>\n",
       "</symbol>\n",
       "<symbol overflow=\"visible\" id=\"glyph2-5\">\n",
       "<path style=\"stroke:none;\" d=\"M 5.046875 -3.375 C 5.046875 -4.390625 4.359375 -5.171875 3.203125 -5.171875 C 1.40625 -5.171875 0.296875 -3.515625 0.296875 -1.609375 C 0.296875 -0.546875 1.046875 0.140625 2.125 0.140625 C 3.859375 0.140625 5.046875 -1.375 5.046875 -3.375 Z M 4.203125 -3.1875 C 4.203125 -1.765625 3.390625 -0.59375 2.25 -0.59375 C 1.578125 -0.59375 1.140625 -1.03125 1.140625 -1.796875 C 1.140625 -3.1875 1.953125 -4.4375 3.078125 -4.4375 C 3.796875 -4.4375 4.203125 -3.96875 4.203125 -3.1875 Z M 4.203125 -3.1875 \"/>\n",
       "</symbol>\n",
       "</g>\n",
       "</defs>\n",
       "<g id=\"surface177\">\n",
       "<rect x=\"0\" y=\"0\" width=\"288\" height=\"288\" style=\"fill:rgb(100%,100%,100%);fill-opacity:1;stroke:none;\"/>\n",
       "<path style=\"fill:none;stroke-width:0.75;stroke-linecap:butt;stroke-linejoin:round;stroke:rgb(0%,0%,0%);stroke-opacity:1;stroke-miterlimit:10;\" d=\"M 153.957031 99.121094 L 188.667969 69.25 L 197.347656 69.25 \"/>\n",
       "<path style=\"fill:none;stroke-width:0.75;stroke-linecap:butt;stroke-linejoin:round;stroke:rgb(0%,0%,0%);stroke-opacity:1;stroke-miterlimit:10;\" d=\"M 112.703125 129.769531 L 145.707031 99.902344 L 153.957031 99.902344 \"/>\n",
       "<path style=\"fill:none;stroke-width:0.75;stroke-linecap:butt;stroke-linejoin:round;stroke:rgb(0%,0%,0%);stroke-opacity:1;stroke-miterlimit:10;\" d=\"M 75.71875 160.421875 L 105.304688 130.550781 L 112.703125 130.550781 \"/>\n",
       "<path style=\"fill:none;stroke-width:0.75;stroke-linecap:butt;stroke-linejoin:round;stroke:rgb(0%,0%,0%);stroke-opacity:1;stroke-miterlimit:10;\" d=\"M 47.265625 191.070312 L 70.027344 161.199219 L 75.71875 161.199219 \"/>\n",
       "<path style=\"fill:none;stroke-width:0.75;stroke-linecap:butt;stroke-linejoin:round;stroke:rgb(0%,0%,0%);stroke-opacity:1;stroke-miterlimit:10;\" d=\"M 33.039062 215.449219 L 44.421875 191.851562 L 47.265625 191.851562 \"/>\n",
       "<path style=\"fill:none;stroke-width:0.75;stroke-linecap:butt;stroke-linejoin:round;stroke:rgb(0%,0%,0%);stroke-opacity:1;stroke-miterlimit:10;\" d=\"M 61.492188 215.449219 L 50.109375 191.851562 L 47.265625 191.851562 \"/>\n",
       "<path style=\"fill:none;stroke-width:0.75;stroke-linecap:butt;stroke-linejoin:round;stroke:rgb(0%,0%,0%);stroke-opacity:1;stroke-miterlimit:10;\" d=\"M 104.167969 191.070312 L 81.40625 161.199219 L 75.71875 161.199219 \"/>\n",
       "<path style=\"fill:none;stroke-width:0.75;stroke-linecap:butt;stroke-linejoin:round;stroke:rgb(0%,0%,0%);stroke-opacity:1;stroke-miterlimit:10;\" d=\"M 89.941406 215.449219 L 101.324219 191.851562 L 104.167969 191.851562 \"/>\n",
       "<path style=\"fill:none;stroke-width:0.75;stroke-linecap:butt;stroke-linejoin:round;stroke:rgb(0%,0%,0%);stroke-opacity:1;stroke-miterlimit:10;\" d=\"M 118.394531 215.449219 L 107.011719 191.851562 L 104.167969 191.851562 \"/>\n",
       "<path style=\"fill:none;stroke-width:0.75;stroke-linecap:butt;stroke-linejoin:round;stroke:rgb(0%,0%,0%);stroke-opacity:1;stroke-miterlimit:10;\" d=\"M 149.691406 160.421875 L 120.101562 130.550781 L 112.703125 130.550781 \"/>\n",
       "<path style=\"fill:none;stroke-width:0.75;stroke-linecap:butt;stroke-linejoin:round;stroke:rgb(0%,0%,0%);stroke-opacity:1;stroke-miterlimit:10;\" d=\"M 135.464844 184.800781 L 146.84375 161.199219 L 149.691406 161.199219 \"/>\n",
       "<path style=\"fill:none;stroke-width:0.75;stroke-linecap:butt;stroke-linejoin:round;stroke:rgb(0%,0%,0%);stroke-opacity:1;stroke-miterlimit:10;\" d=\"M 163.914062 184.800781 L 152.535156 161.199219 L 149.691406 161.199219 \"/>\n",
       "<path style=\"fill:none;stroke-width:0.75;stroke-linecap:butt;stroke-linejoin:round;stroke:rgb(0%,0%,0%);stroke-opacity:1;stroke-miterlimit:10;\" d=\"M 195.210938 129.769531 L 162.207031 99.902344 L 153.957031 99.902344 \"/>\n",
       "<path style=\"fill:none;stroke-width:0.75;stroke-linecap:butt;stroke-linejoin:round;stroke:rgb(0%,0%,0%);stroke-opacity:1;stroke-miterlimit:10;\" d=\"M 180.988281 154.152344 L 192.367188 130.550781 L 195.210938 130.550781 \"/>\n",
       "<path style=\"fill:none;stroke-width:0.75;stroke-linecap:butt;stroke-linejoin:round;stroke:rgb(0%,0%,0%);stroke-opacity:1;stroke-miterlimit:10;\" d=\"M 209.4375 154.152344 L 198.058594 130.550781 L 195.210938 130.550781 \"/>\n",
       "<path style=\"fill:none;stroke-width:0.75;stroke-linecap:butt;stroke-linejoin:round;stroke:rgb(0%,0%,0%);stroke-opacity:1;stroke-miterlimit:10;\" d=\"M 240.734375 99.121094 L 206.023438 69.25 L 197.347656 69.25 \"/>\n",
       "<path style=\"fill:none;stroke-width:0.75;stroke-linecap:butt;stroke-linejoin:round;stroke:rgb(0%,0%,0%);stroke-opacity:1;stroke-miterlimit:10;\" d=\"M 226.507812 123.5 L 237.890625 99.902344 L 240.734375 99.902344 \"/>\n",
       "<path style=\"fill:none;stroke-width:0.75;stroke-linecap:butt;stroke-linejoin:round;stroke:rgb(0%,0%,0%);stroke-opacity:1;stroke-miterlimit:10;\" d=\"M 254.960938 123.5 L 243.578125 99.902344 L 240.734375 99.902344 \"/>\n",
       "<path style=\" stroke:none;fill-rule:nonzero;fill:rgb(100%,100%,100%);fill-opacity:1;\" d=\"M 172.339844 71.601562 L 172.339844 62.203125 L 222.351562 62.203125 L 222.351562 71.601562 Z M 172.339844 71.601562 \"/>\n",
       "<path style=\" stroke:none;fill-rule:nonzero;fill:rgb(100%,100%,100%);fill-opacity:1;\" d=\"M 137.3125 102.25 L 137.3125 92.851562 L 170.601562 92.851562 L 170.601562 102.25 Z M 137.3125 102.25 \"/>\n",
       "<path style=\" stroke:none;fill-rule:nonzero;fill:rgb(100%,100%,100%);fill-opacity:1;\" d=\"M 87.019531 132.902344 L 87.019531 123.5 L 138.386719 123.5 L 138.386719 132.902344 Z M 87.019531 132.902344 \"/>\n",
       "<path style=\" stroke:none;fill-rule:nonzero;fill:rgb(100%,100%,100%);fill-opacity:1;\" d=\"M 52.34375 163.550781 L 52.34375 154.152344 L 99.089844 154.152344 L 99.089844 163.550781 Z M 52.34375 163.550781 \"/>\n",
       "<path style=\" stroke:none;fill-rule:nonzero;fill:rgb(100%,100%,100%);fill-opacity:1;\" d=\"M 28.9375 194.199219 L 28.9375 184.800781 L 65.59375 184.800781 L 65.59375 194.199219 Z M 28.9375 194.199219 \"/>\n",
       "<path style=\" stroke:none;fill-rule:nonzero;fill:rgb(100%,100%,100%);fill-opacity:1;\" d=\"M 85.839844 194.199219 L 85.839844 184.800781 L 122.496094 184.800781 L 122.496094 194.199219 Z M 85.839844 194.199219 \"/>\n",
       "<path style=\" stroke:none;fill-rule:nonzero;fill:rgb(100%,100%,100%);fill-opacity:1;\" d=\"M 131.363281 163.550781 L 131.363281 154.152344 L 168.015625 154.152344 L 168.015625 163.550781 Z M 131.363281 163.550781 \"/>\n",
       "<path style=\" stroke:none;fill-rule:nonzero;fill:rgb(100%,100%,100%);fill-opacity:1;\" d=\"M 176.886719 132.902344 L 176.886719 123.5 L 213.539062 123.5 L 213.539062 132.902344 Z M 176.886719 132.902344 \"/>\n",
       "<path style=\" stroke:none;fill-rule:nonzero;fill:rgb(100%,100%,100%);fill-opacity:1;\" d=\"M 222.40625 102.25 L 222.40625 92.851562 L 259.0625 92.851562 L 259.0625 102.25 Z M 222.40625 102.25 \"/>\n",
       "<g style=\"fill:rgb(0%,0%,0%);fill-opacity:1;\">\n",
       "  <use xlink:href=\"#glyph0-1\" x=\"156.347656\" y=\"69.402344\"/>\n",
       "  <use xlink:href=\"#glyph0-2\" x=\"163.679688\" y=\"69.402344\"/>\n",
       "  <use xlink:href=\"#glyph0-3\" x=\"170.351562\" y=\"69.402344\"/>\n",
       "  <use xlink:href=\"#glyph0-4\" x=\"173.6875\" y=\"69.402344\"/>\n",
       "  <use xlink:href=\"#glyph0-5\" x=\"181.019531\" y=\"69.402344\"/>\n",
       "  <use xlink:href=\"#glyph0-6\" x=\"188.351562\" y=\"69.402344\"/>\n",
       "  <use xlink:href=\"#glyph0-7\" x=\"195.683594\" y=\"69.402344\"/>\n",
       "  <use xlink:href=\"#glyph0-8\" x=\"203.015625\" y=\"69.402344\"/>\n",
       "  <use xlink:href=\"#glyph0-9\" x=\"207.683594\" y=\"69.402344\"/>\n",
       "  <use xlink:href=\"#glyph0-10\" x=\"211.019531\" y=\"69.402344\"/>\n",
       "  <use xlink:href=\"#glyph0-9\" x=\"218.027344\" y=\"69.402344\"/>\n",
       "  <use xlink:href=\"#glyph0-11\" x=\"221.363281\" y=\"69.402344\"/>\n",
       "  <use xlink:href=\"#glyph0-12\" x=\"228.035156\" y=\"69.402344\"/>\n",
       "  <use xlink:href=\"#glyph0-13\" x=\"231.371094\" y=\"69.402344\"/>\n",
       "</g>\n",
       "<g style=\"fill:rgb(0%,0%,0%);fill-opacity:1;\">\n",
       "  <use xlink:href=\"#glyph0-14\" x=\"127.957031\" y=\"100.550781\"/>\n",
       "  <use xlink:href=\"#glyph0-2\" x=\"134.628906\" y=\"100.550781\"/>\n",
       "  <use xlink:href=\"#glyph0-15\" x=\"141.300781\" y=\"100.550781\"/>\n",
       "  <use xlink:href=\"#glyph0-16\" x=\"144.636719\" y=\"100.550781\"/>\n",
       "  <use xlink:href=\"#glyph0-9\" x=\"148.632812\" y=\"100.550781\"/>\n",
       "  <use xlink:href=\"#glyph0-10\" x=\"151.96875\" y=\"100.550781\"/>\n",
       "  <use xlink:href=\"#glyph0-9\" x=\"158.976562\" y=\"100.550781\"/>\n",
       "  <use xlink:href=\"#glyph0-11\" x=\"162.3125\" y=\"100.550781\"/>\n",
       "  <use xlink:href=\"#glyph0-12\" x=\"168.984375\" y=\"100.550781\"/>\n",
       "  <use xlink:href=\"#glyph0-13\" x=\"172.320312\" y=\"100.550781\"/>\n",
       "</g>\n",
       "<g style=\"fill:rgb(0%,0%,0%);fill-opacity:1;\">\n",
       "  <use xlink:href=\"#glyph0-5\" x=\"70.203125\" y=\"131.199219\"/>\n",
       "  <use xlink:href=\"#glyph0-17\" x=\"77.535156\" y=\"131.199219\"/>\n",
       "  <use xlink:href=\"#glyph0-18\" x=\"84.147461\" y=\"131.199219\"/>\n",
       "  <use xlink:href=\"#glyph0-19\" x=\"93.483398\" y=\"131.199219\"/>\n",
       "  <use xlink:href=\"#glyph0-5\" x=\"97.479492\" y=\"131.199219\"/>\n",
       "  <use xlink:href=\"#glyph0-7\" x=\"104.811523\" y=\"131.199219\"/>\n",
       "  <use xlink:href=\"#glyph0-8\" x=\"112.143555\" y=\"131.199219\"/>\n",
       "  <use xlink:href=\"#glyph0-1\" x=\"116.811523\" y=\"131.199219\"/>\n",
       "  <use xlink:href=\"#glyph0-9\" x=\"124.143555\" y=\"131.199219\"/>\n",
       "  <use xlink:href=\"#glyph0-10\" x=\"127.479492\" y=\"131.199219\"/>\n",
       "  <use xlink:href=\"#glyph0-9\" x=\"134.487305\" y=\"131.199219\"/>\n",
       "  <use xlink:href=\"#glyph0-11\" x=\"137.823242\" y=\"131.199219\"/>\n",
       "  <use xlink:href=\"#glyph0-12\" x=\"144.495117\" y=\"131.199219\"/>\n",
       "  <use xlink:href=\"#glyph0-13\" x=\"147.831055\" y=\"131.199219\"/>\n",
       "</g>\n",
       "<g style=\"fill:rgb(0%,0%,0%);fill-opacity:1;\">\n",
       "  <use xlink:href=\"#glyph0-20\" x=\"37.71875\" y=\"161.851562\"/>\n",
       "  <use xlink:href=\"#glyph0-3\" x=\"44.390625\" y=\"161.851562\"/>\n",
       "  <use xlink:href=\"#glyph0-21\" x=\"47.726562\" y=\"161.851562\"/>\n",
       "  <use xlink:href=\"#glyph0-3\" x=\"54.398438\" y=\"161.851562\"/>\n",
       "  <use xlink:href=\"#glyph0-20\" x=\"57.734375\" y=\"161.851562\"/>\n",
       "  <use xlink:href=\"#glyph0-22\" x=\"64.40625\" y=\"161.851562\"/>\n",
       "  <use xlink:href=\"#glyph0-23\" x=\"71.738281\" y=\"161.851562\"/>\n",
       "  <use xlink:href=\"#glyph0-19\" x=\"79.070312\" y=\"161.851562\"/>\n",
       "  <use xlink:href=\"#glyph0-9\" x=\"83.066406\" y=\"161.851562\"/>\n",
       "  <use xlink:href=\"#glyph0-10\" x=\"86.402344\" y=\"161.851562\"/>\n",
       "  <use xlink:href=\"#glyph0-9\" x=\"93.410156\" y=\"161.851562\"/>\n",
       "  <use xlink:href=\"#glyph0-11\" x=\"96.746094\" y=\"161.851562\"/>\n",
       "  <use xlink:href=\"#glyph0-12\" x=\"103.417969\" y=\"161.851562\"/>\n",
       "  <use xlink:href=\"#glyph0-13\" x=\"106.753906\" y=\"161.851562\"/>\n",
       "</g>\n",
       "<g style=\"fill:rgb(0%,0%,0%);fill-opacity:1;\">\n",
       "  <use xlink:href=\"#glyph0-14\" x=\"18.265625\" y=\"192.5\"/>\n",
       "  <use xlink:href=\"#glyph0-2\" x=\"24.9375\" y=\"192.5\"/>\n",
       "  <use xlink:href=\"#glyph0-24\" x=\"31.370117\" y=\"192.5\"/>\n",
       "  <use xlink:href=\"#glyph0-9\" x=\"38.041992\" y=\"192.5\"/>\n",
       "  <use xlink:href=\"#glyph0-25\" x=\"41.37793\" y=\"192.5\"/>\n",
       "  <use xlink:href=\"#glyph0-26\" x=\"48.385742\" y=\"192.5\"/>\n",
       "  <use xlink:href=\"#glyph0-9\" x=\"55.393555\" y=\"192.5\"/>\n",
       "  <use xlink:href=\"#glyph0-11\" x=\"58.729492\" y=\"192.5\"/>\n",
       "  <use xlink:href=\"#glyph0-12\" x=\"65.401367\" y=\"192.5\"/>\n",
       "  <use xlink:href=\"#glyph0-13\" x=\"68.737305\" y=\"192.5\"/>\n",
       "</g>\n",
       "<g style=\"fill:rgb(0%,0%,0%);fill-opacity:1;\">\n",
       "  <use xlink:href=\"#glyph0-14\" x=\"75.167969\" y=\"192.5\"/>\n",
       "  <use xlink:href=\"#glyph0-2\" x=\"81.839844\" y=\"192.5\"/>\n",
       "  <use xlink:href=\"#glyph0-24\" x=\"88.272461\" y=\"192.5\"/>\n",
       "  <use xlink:href=\"#glyph0-9\" x=\"94.944336\" y=\"192.5\"/>\n",
       "  <use xlink:href=\"#glyph0-25\" x=\"98.280273\" y=\"192.5\"/>\n",
       "  <use xlink:href=\"#glyph0-26\" x=\"105.288086\" y=\"192.5\"/>\n",
       "  <use xlink:href=\"#glyph0-9\" x=\"112.295898\" y=\"192.5\"/>\n",
       "  <use xlink:href=\"#glyph0-11\" x=\"115.631836\" y=\"192.5\"/>\n",
       "  <use xlink:href=\"#glyph0-12\" x=\"122.303711\" y=\"192.5\"/>\n",
       "  <use xlink:href=\"#glyph0-13\" x=\"125.639648\" y=\"192.5\"/>\n",
       "</g>\n",
       "<g style=\"fill:rgb(0%,0%,0%);fill-opacity:1;\">\n",
       "  <use xlink:href=\"#glyph0-14\" x=\"120.691406\" y=\"161.851562\"/>\n",
       "  <use xlink:href=\"#glyph0-2\" x=\"127.363281\" y=\"161.851562\"/>\n",
       "  <use xlink:href=\"#glyph0-24\" x=\"133.795898\" y=\"161.851562\"/>\n",
       "  <use xlink:href=\"#glyph0-9\" x=\"140.467773\" y=\"161.851562\"/>\n",
       "  <use xlink:href=\"#glyph0-25\" x=\"143.803711\" y=\"161.851562\"/>\n",
       "  <use xlink:href=\"#glyph0-26\" x=\"150.811523\" y=\"161.851562\"/>\n",
       "  <use xlink:href=\"#glyph0-9\" x=\"157.819336\" y=\"161.851562\"/>\n",
       "  <use xlink:href=\"#glyph0-11\" x=\"161.155273\" y=\"161.851562\"/>\n",
       "  <use xlink:href=\"#glyph0-12\" x=\"167.827148\" y=\"161.851562\"/>\n",
       "  <use xlink:href=\"#glyph0-13\" x=\"171.163086\" y=\"161.851562\"/>\n",
       "</g>\n",
       "<g style=\"fill:rgb(0%,0%,0%);fill-opacity:1;\">\n",
       "  <use xlink:href=\"#glyph0-14\" x=\"166.210938\" y=\"131.199219\"/>\n",
       "  <use xlink:href=\"#glyph0-2\" x=\"172.882812\" y=\"131.199219\"/>\n",
       "  <use xlink:href=\"#glyph0-24\" x=\"179.31543\" y=\"131.199219\"/>\n",
       "  <use xlink:href=\"#glyph0-9\" x=\"185.987305\" y=\"131.199219\"/>\n",
       "  <use xlink:href=\"#glyph0-25\" x=\"189.323242\" y=\"131.199219\"/>\n",
       "  <use xlink:href=\"#glyph0-26\" x=\"196.331055\" y=\"131.199219\"/>\n",
       "  <use xlink:href=\"#glyph0-9\" x=\"203.338867\" y=\"131.199219\"/>\n",
       "  <use xlink:href=\"#glyph0-11\" x=\"206.674805\" y=\"131.199219\"/>\n",
       "  <use xlink:href=\"#glyph0-12\" x=\"213.34668\" y=\"131.199219\"/>\n",
       "  <use xlink:href=\"#glyph0-13\" x=\"216.682617\" y=\"131.199219\"/>\n",
       "</g>\n",
       "<g style=\"fill:rgb(0%,0%,0%);fill-opacity:1;\">\n",
       "  <use xlink:href=\"#glyph0-14\" x=\"211.734375\" y=\"100.550781\"/>\n",
       "  <use xlink:href=\"#glyph0-2\" x=\"218.40625\" y=\"100.550781\"/>\n",
       "  <use xlink:href=\"#glyph0-24\" x=\"224.838867\" y=\"100.550781\"/>\n",
       "  <use xlink:href=\"#glyph0-9\" x=\"231.510742\" y=\"100.550781\"/>\n",
       "  <use xlink:href=\"#glyph0-25\" x=\"234.84668\" y=\"100.550781\"/>\n",
       "  <use xlink:href=\"#glyph0-26\" x=\"241.854492\" y=\"100.550781\"/>\n",
       "  <use xlink:href=\"#glyph0-9\" x=\"248.862305\" y=\"100.550781\"/>\n",
       "  <use xlink:href=\"#glyph0-11\" x=\"252.198242\" y=\"100.550781\"/>\n",
       "  <use xlink:href=\"#glyph0-12\" x=\"258.870117\" y=\"100.550781\"/>\n",
       "  <use xlink:href=\"#glyph0-13\" x=\"262.206055\" y=\"100.550781\"/>\n",
       "</g>\n",
       "<path style=\"fill-rule:nonzero;fill:rgb(100%,100%,100%);fill-opacity:1;stroke-width:0.75;stroke-linecap:round;stroke-linejoin:round;stroke:rgb(0%,0%,0%);stroke-opacity:1;stroke-miterlimit:10;\" d=\"M 23.945312 220.148438 L 24.105469 218.933594 L 24.574219 217.800781 L 25.320312 216.828125 L 26.292969 216.078125 L 27.429688 215.609375 L 28.644531 215.449219 L 37.433594 215.449219 L 38.652344 215.609375 L 39.785156 216.078125 L 40.757812 216.828125 L 41.503906 217.800781 L 41.976562 218.933594 L 42.136719 220.148438 L 41.976562 221.367188 L 41.503906 222.5 L 40.757812 223.472656 L 39.785156 224.21875 L 38.652344 224.6875 L 37.433594 224.847656 L 28.644531 224.847656 L 27.429688 224.6875 L 26.292969 224.21875 L 25.320312 223.472656 L 24.574219 222.5 L 24.105469 221.367188 Z M 23.945312 220.148438 \"/>\n",
       "<path style=\"fill-rule:nonzero;fill:rgb(100%,100%,100%);fill-opacity:1;stroke-width:0.75;stroke-linecap:round;stroke-linejoin:round;stroke:rgb(0%,0%,0%);stroke-opacity:1;stroke-miterlimit:10;\" d=\"M 54.214844 220.148438 L 54.375 218.933594 L 54.84375 217.800781 L 55.59375 216.828125 L 56.566406 216.078125 L 57.699219 215.609375 L 58.914062 215.449219 L 64.066406 215.449219 L 65.285156 215.609375 L 66.417969 216.078125 L 67.390625 216.828125 L 68.136719 217.800781 L 68.605469 218.933594 L 68.765625 220.148438 L 68.605469 221.367188 L 68.136719 222.5 L 67.390625 223.472656 L 66.417969 224.21875 L 65.285156 224.6875 L 64.066406 224.847656 L 58.914062 224.847656 L 57.699219 224.6875 L 56.566406 224.21875 L 55.59375 223.472656 L 54.84375 222.5 L 54.375 221.367188 Z M 54.214844 220.148438 \"/>\n",
       "<path style=\"fill-rule:nonzero;fill:rgb(100%,100%,100%);fill-opacity:1;stroke-width:0.75;stroke-linecap:round;stroke-linejoin:round;stroke:rgb(0%,0%,0%);stroke-opacity:1;stroke-miterlimit:10;\" d=\"M 80.847656 220.148438 L 81.007812 218.933594 L 81.476562 217.800781 L 82.222656 216.828125 L 83.199219 216.078125 L 84.332031 215.609375 L 85.546875 215.449219 L 94.335938 215.449219 L 95.554688 215.609375 L 96.6875 216.078125 L 97.660156 216.828125 L 98.40625 217.800781 L 98.878906 218.933594 L 99.039062 220.148438 L 98.878906 221.367188 L 98.40625 222.5 L 97.660156 223.472656 L 96.6875 224.21875 L 95.554688 224.6875 L 94.335938 224.847656 L 85.546875 224.847656 L 84.332031 224.6875 L 83.199219 224.21875 L 82.222656 223.472656 L 81.476562 222.5 L 81.007812 221.367188 Z M 80.847656 220.148438 \"/>\n",
       "<path style=\"fill-rule:nonzero;fill:rgb(100%,100%,100%);fill-opacity:1;stroke-width:0.75;stroke-linecap:round;stroke-linejoin:round;stroke:rgb(0%,0%,0%);stroke-opacity:1;stroke-miterlimit:10;\" d=\"M 109.300781 220.148438 L 109.460938 218.933594 L 109.929688 217.800781 L 110.675781 216.828125 L 111.648438 216.078125 L 112.78125 215.609375 L 114 215.449219 L 122.789062 215.449219 L 124.003906 215.609375 L 125.140625 216.078125 L 126.113281 216.828125 L 126.859375 217.800781 L 127.328125 218.933594 L 127.488281 220.148438 L 127.328125 221.367188 L 126.859375 222.5 L 126.113281 223.472656 L 125.140625 224.21875 L 124.003906 224.6875 L 122.789062 224.847656 L 114 224.847656 L 112.78125 224.6875 L 111.648438 224.21875 L 110.675781 223.472656 L 109.929688 222.5 L 109.460938 221.367188 Z M 109.300781 220.148438 \"/>\n",
       "<path style=\"fill-rule:nonzero;fill:rgb(100%,100%,100%);fill-opacity:1;stroke-width:0.75;stroke-linecap:round;stroke-linejoin:round;stroke:rgb(0%,0%,0%);stroke-opacity:1;stroke-miterlimit:10;\" d=\"M 126.371094 189.5 L 126.53125 188.285156 L 127 187.148438 L 127.746094 186.175781 L 128.71875 185.429688 L 129.851562 184.960938 L 131.070312 184.800781 L 139.859375 184.800781 L 141.078125 184.960938 L 142.210938 185.429688 L 143.183594 186.175781 L 143.929688 187.148438 L 144.398438 188.285156 L 144.558594 189.5 L 144.398438 190.714844 L 143.929688 191.851562 L 143.183594 192.824219 L 142.210938 193.570312 L 141.078125 194.039062 L 139.859375 194.199219 L 131.070312 194.199219 L 129.851562 194.039062 L 128.71875 193.570312 L 127.746094 192.824219 L 127 191.851562 L 126.53125 190.714844 Z M 126.371094 189.5 \"/>\n",
       "<path style=\"fill-rule:nonzero;fill:rgb(100%,100%,100%);fill-opacity:1;stroke-width:0.75;stroke-linecap:round;stroke-linejoin:round;stroke:rgb(0%,0%,0%);stroke-opacity:1;stroke-miterlimit:10;\" d=\"M 154.820312 189.5 L 154.980469 188.285156 L 155.449219 187.148438 L 156.199219 186.175781 L 157.171875 185.429688 L 158.304688 184.960938 L 159.519531 184.800781 L 168.3125 184.800781 L 169.527344 184.960938 L 170.660156 185.429688 L 171.632812 186.175781 L 172.382812 187.148438 L 172.851562 188.285156 L 173.011719 189.5 L 172.851562 190.714844 L 172.382812 191.851562 L 171.632812 192.824219 L 170.660156 193.570312 L 169.527344 194.039062 L 168.3125 194.199219 L 159.519531 194.199219 L 158.304688 194.039062 L 157.171875 193.570312 L 156.199219 192.824219 L 155.449219 191.851562 L 154.980469 190.714844 Z M 154.820312 189.5 \"/>\n",
       "<path style=\"fill-rule:nonzero;fill:rgb(100%,100%,100%);fill-opacity:1;stroke-width:0.75;stroke-linecap:round;stroke-linejoin:round;stroke:rgb(0%,0%,0%);stroke-opacity:1;stroke-miterlimit:10;\" d=\"M 171.890625 158.851562 L 172.050781 157.632812 L 172.519531 156.5 L 173.269531 155.527344 L 174.242188 154.78125 L 175.375 154.3125 L 176.589844 154.152344 L 185.382812 154.152344 L 186.597656 154.3125 L 187.730469 154.78125 L 188.707031 155.527344 L 189.453125 156.5 L 189.921875 157.632812 L 190.082031 158.851562 L 189.921875 160.066406 L 189.453125 161.199219 L 188.707031 162.171875 L 187.730469 162.921875 L 186.597656 163.390625 L 185.382812 163.550781 L 176.589844 163.550781 L 175.375 163.390625 L 174.242188 162.921875 L 173.269531 162.171875 L 172.519531 161.199219 L 172.050781 160.066406 Z M 171.890625 158.851562 \"/>\n",
       "<path style=\"fill-rule:nonzero;fill:rgb(100%,100%,100%);fill-opacity:1;stroke-width:0.75;stroke-linecap:round;stroke-linejoin:round;stroke:rgb(0%,0%,0%);stroke-opacity:1;stroke-miterlimit:10;\" d=\"M 200.34375 158.851562 L 200.503906 157.632812 L 200.972656 156.5 L 201.71875 155.527344 L 202.691406 154.78125 L 203.828125 154.3125 L 205.042969 154.152344 L 213.832031 154.152344 L 215.050781 154.3125 L 216.183594 154.78125 L 217.15625 155.527344 L 217.902344 156.5 L 218.371094 157.632812 L 218.53125 158.851562 L 218.371094 160.066406 L 217.902344 161.199219 L 217.15625 162.171875 L 216.183594 162.921875 L 215.050781 163.390625 L 213.832031 163.550781 L 205.042969 163.550781 L 203.828125 163.390625 L 202.691406 162.921875 L 201.71875 162.171875 L 200.972656 161.199219 L 200.503906 160.066406 Z M 200.34375 158.851562 \"/>\n",
       "<path style=\"fill-rule:nonzero;fill:rgb(100%,100%,100%);fill-opacity:1;stroke-width:0.75;stroke-linecap:round;stroke-linejoin:round;stroke:rgb(0%,0%,0%);stroke-opacity:1;stroke-miterlimit:10;\" d=\"M 217.414062 128.199219 L 217.574219 126.984375 L 218.042969 125.851562 L 218.789062 124.878906 L 219.761719 124.132812 L 220.898438 123.660156 L 222.113281 123.5 L 230.902344 123.5 L 232.121094 123.660156 L 233.253906 124.132812 L 234.226562 124.878906 L 234.972656 125.851562 L 235.445312 126.984375 L 235.605469 128.199219 L 235.445312 129.417969 L 234.972656 130.550781 L 234.226562 131.523438 L 233.253906 132.269531 L 232.121094 132.742188 L 230.902344 132.902344 L 222.113281 132.902344 L 220.898438 132.742188 L 219.761719 132.269531 L 218.789062 131.523438 L 218.042969 130.550781 L 217.574219 129.417969 Z M 217.414062 128.199219 \"/>\n",
       "<path style=\"fill-rule:nonzero;fill:rgb(100%,100%,100%);fill-opacity:1;stroke-width:0.75;stroke-linecap:round;stroke-linejoin:round;stroke:rgb(0%,0%,0%);stroke-opacity:1;stroke-miterlimit:10;\" d=\"M 245.863281 128.199219 L 246.023438 126.984375 L 246.496094 125.851562 L 247.242188 124.878906 L 248.214844 124.132812 L 249.347656 123.660156 L 250.566406 123.5 L 259.355469 123.5 L 260.570312 123.660156 L 261.707031 124.132812 L 262.679688 124.878906 L 263.425781 125.851562 L 263.894531 126.984375 L 264.054688 128.199219 L 263.894531 129.417969 L 263.425781 130.550781 L 262.679688 131.523438 L 261.707031 132.269531 L 260.570312 132.742188 L 259.355469 132.902344 L 250.566406 132.902344 L 249.347656 132.742188 L 248.214844 132.269531 L 247.242188 131.523438 L 246.496094 130.550781 L 246.023438 129.417969 Z M 245.863281 128.199219 \"/>\n",
       "<g style=\"fill:rgb(0%,0%,0%);fill-opacity:1;\">\n",
       "  <use xlink:href=\"#glyph1-1\" x=\"21.039062\" y=\"223.924805\"/>\n",
       "  <use xlink:href=\"#glyph1-2\" x=\"27.710938\" y=\"223.924805\"/>\n",
       "  <use xlink:href=\"#glyph1-3\" x=\"31.046875\" y=\"223.924805\"/>\n",
       "  <use xlink:href=\"#glyph1-4\" x=\"37.71875\" y=\"223.924805\"/>\n",
       "</g>\n",
       "<g style=\"fill:rgb(0%,0%,0%);fill-opacity:1;\">\n",
       "  <use xlink:href=\"#glyph1-1\" x=\"52.992188\" y=\"223.924805\"/>\n",
       "  <use xlink:href=\"#glyph1-2\" x=\"59.664062\" y=\"223.924805\"/>\n",
       "  <use xlink:href=\"#glyph1-5\" x=\"63\" y=\"223.924805\"/>\n",
       "</g>\n",
       "<g style=\"fill:rgb(0%,0%,0%);fill-opacity:1;\">\n",
       "  <use xlink:href=\"#glyph1-1\" x=\"77.941406\" y=\"223.924805\"/>\n",
       "  <use xlink:href=\"#glyph1-2\" x=\"84.613281\" y=\"223.924805\"/>\n",
       "  <use xlink:href=\"#glyph1-5\" x=\"87.949219\" y=\"223.924805\"/>\n",
       "  <use xlink:href=\"#glyph1-6\" x=\"94.621094\" y=\"223.924805\"/>\n",
       "</g>\n",
       "<g style=\"fill:rgb(0%,0%,0%);fill-opacity:1;\">\n",
       "  <use xlink:href=\"#glyph1-1\" x=\"106.394531\" y=\"223.924805\"/>\n",
       "  <use xlink:href=\"#glyph1-2\" x=\"113.066406\" y=\"223.924805\"/>\n",
       "  <use xlink:href=\"#glyph1-5\" x=\"116.402344\" y=\"223.924805\"/>\n",
       "  <use xlink:href=\"#glyph1-3\" x=\"123.074219\" y=\"223.924805\"/>\n",
       "</g>\n",
       "<g style=\"fill:rgb(0%,0%,0%);fill-opacity:1;\">\n",
       "  <use xlink:href=\"#glyph1-1\" x=\"123.464844\" y=\"193.276367\"/>\n",
       "  <use xlink:href=\"#glyph1-2\" x=\"130.136719\" y=\"193.276367\"/>\n",
       "  <use xlink:href=\"#glyph1-5\" x=\"133.472656\" y=\"193.276367\"/>\n",
       "  <use xlink:href=\"#glyph1-3\" x=\"140.144531\" y=\"193.276367\"/>\n",
       "</g>\n",
       "<g style=\"fill:rgb(0%,0%,0%);fill-opacity:1;\">\n",
       "  <use xlink:href=\"#glyph1-1\" x=\"151.914062\" y=\"193.276367\"/>\n",
       "  <use xlink:href=\"#glyph1-2\" x=\"158.585938\" y=\"193.276367\"/>\n",
       "  <use xlink:href=\"#glyph1-5\" x=\"161.921875\" y=\"193.276367\"/>\n",
       "  <use xlink:href=\"#glyph1-5\" x=\"168.59375\" y=\"193.276367\"/>\n",
       "</g>\n",
       "<g style=\"fill:rgb(0%,0%,0%);fill-opacity:1;\">\n",
       "  <use xlink:href=\"#glyph1-1\" x=\"168.988281\" y=\"162.62793\"/>\n",
       "  <use xlink:href=\"#glyph1-2\" x=\"175.660156\" y=\"162.62793\"/>\n",
       "  <use xlink:href=\"#glyph1-5\" x=\"178.996094\" y=\"162.62793\"/>\n",
       "  <use xlink:href=\"#glyph1-7\" x=\"185.667969\" y=\"162.62793\"/>\n",
       "</g>\n",
       "<g style=\"fill:rgb(0%,0%,0%);fill-opacity:1;\">\n",
       "  <use xlink:href=\"#glyph1-1\" x=\"197.4375\" y=\"162.62793\"/>\n",
       "  <use xlink:href=\"#glyph1-2\" x=\"204.109375\" y=\"162.62793\"/>\n",
       "  <use xlink:href=\"#glyph1-5\" x=\"207.445312\" y=\"162.62793\"/>\n",
       "  <use xlink:href=\"#glyph1-8\" x=\"214.117188\" y=\"162.62793\"/>\n",
       "</g>\n",
       "<g style=\"fill:rgb(0%,0%,0%);fill-opacity:1;\">\n",
       "  <use xlink:href=\"#glyph1-1\" x=\"214.507812\" y=\"131.975586\"/>\n",
       "  <use xlink:href=\"#glyph1-2\" x=\"221.179688\" y=\"131.975586\"/>\n",
       "  <use xlink:href=\"#glyph1-5\" x=\"224.515625\" y=\"131.975586\"/>\n",
       "  <use xlink:href=\"#glyph1-9\" x=\"231.1875\" y=\"131.975586\"/>\n",
       "</g>\n",
       "<g style=\"fill:rgb(0%,0%,0%);fill-opacity:1;\">\n",
       "  <use xlink:href=\"#glyph1-1\" x=\"242.960938\" y=\"131.975586\"/>\n",
       "  <use xlink:href=\"#glyph1-2\" x=\"249.632812\" y=\"131.975586\"/>\n",
       "  <use xlink:href=\"#glyph1-5\" x=\"252.96875\" y=\"131.975586\"/>\n",
       "  <use xlink:href=\"#glyph1-10\" x=\"259.640625\" y=\"131.975586\"/>\n",
       "</g>\n",
       "<path style=\"fill-rule:nonzero;fill:rgb(100%,100%,100%);fill-opacity:1;stroke-width:0.75;stroke-linecap:round;stroke-linejoin:round;stroke:rgb(0%,0%,0%);stroke-opacity:1;stroke-miterlimit:10;\" d=\"M 157.257812 66.609375 L 157.289062 66.378906 L 157.375 66.167969 L 157.515625 65.984375 L 157.699219 65.84375 L 157.910156 65.757812 L 158.140625 65.726562 L 168.945312 65.726562 L 169.171875 65.757812 L 169.386719 65.84375 L 169.566406 65.984375 L 169.707031 66.167969 L 169.796875 66.378906 L 169.824219 66.609375 L 169.824219 71.894531 L 169.796875 72.125 L 169.707031 72.335938 L 169.566406 72.519531 L 169.386719 72.65625 L 169.171875 72.746094 L 168.945312 72.777344 L 158.140625 72.777344 L 157.910156 72.746094 L 157.699219 72.65625 L 157.515625 72.519531 L 157.375 72.335938 L 157.289062 72.125 L 157.257812 71.894531 Z M 157.257812 66.609375 \"/>\n",
       "<path style=\"fill-rule:nonzero;fill:rgb(100%,100%,100%);fill-opacity:1;stroke-width:0.75;stroke-linecap:round;stroke-linejoin:round;stroke:rgb(0%,0%,0%);stroke-opacity:1;stroke-miterlimit:10;\" d=\"M 224.867188 66.609375 L 224.898438 66.378906 L 224.984375 66.167969 L 225.125 65.984375 L 225.308594 65.84375 L 225.519531 65.757812 L 225.746094 65.726562 L 236.550781 65.726562 L 236.78125 65.757812 L 236.992188 65.84375 L 237.175781 65.984375 L 237.316406 66.167969 L 237.402344 66.378906 L 237.433594 66.609375 L 237.433594 71.894531 L 237.402344 72.125 L 237.316406 72.335938 L 237.175781 72.519531 L 236.992188 72.65625 L 236.78125 72.746094 L 236.550781 72.777344 L 225.746094 72.777344 L 225.519531 72.746094 L 225.308594 72.65625 L 225.125 72.519531 L 224.984375 72.335938 L 224.898438 72.125 L 224.867188 71.894531 Z M 224.867188 66.609375 \"/>\n",
       "<g style=\"fill:rgb(0%,0%,0%);fill-opacity:1;\">\n",
       "  <use xlink:href=\"#glyph2-1\" x=\"156.042969\" y=\"71.147461\"/>\n",
       "  <use xlink:href=\"#glyph2-2\" x=\"160.504883\" y=\"71.147461\"/>\n",
       "  <use xlink:href=\"#glyph2-3\" x=\"165.838867\" y=\"71.147461\"/>\n",
       "</g>\n",
       "<g style=\"fill:rgb(0%,0%,0%);fill-opacity:1;\">\n",
       "  <use xlink:href=\"#glyph2-4\" x=\"225.648438\" y=\"71.557617\"/>\n",
       "  <use xlink:href=\"#glyph2-5\" x=\"230.982422\" y=\"71.557617\"/>\n",
       "</g>\n",
       "</g>\n",
       "</svg>\n"
      ],
      "text/plain": [
       "plot without title"
      ]
     },
     "metadata": {
      "image/svg+xml": {
       "isolated": true
      }
     },
     "output_type": "display_data"
    }
   ],
   "source": [
    "CARTmodel3 = rpart(voting ~ civicduty + hawthorne +\n",
    "                   self + neighbors + sex,\n",
    "                   data=data, cp=0.0)\n",
    "options(repr.plot.width=4, repr.plot.height=4)\n",
    "prp(CARTmodel3)"
   ]
  },
  {
   "cell_type": "code",
   "execution_count": 55,
   "metadata": {
    "collapsed": false
   },
   "outputs": [
    {
     "data": {
      "image/png": "[encoded data removed]",
      "image/svg+xml": [
       "<?xml version=\"1.0\" encoding=\"UTF-8\"?>\n",
       "<svg xmlns=\"http://www.w3.org/2000/svg\" xmlns:xlink=\"http://www.w3.org/1999/xlink\" width=\"288pt\" height=\"288pt\" viewBox=\"0 0 288 288\" version=\"1.1\">\n",
       "<defs>\n",
       "<g>\n",
       "<symbol overflow=\"visible\" id=\"glyph0-0\">\n",
       "<path style=\"stroke:none;\" d=\"\"/>\n",
       "</symbol>\n",
       "<symbol overflow=\"visible\" id=\"glyph0-1\">\n",
       "<path style=\"stroke:none;\" d=\"M 6.265625 -2.25 L 4.65625 -2.25 C 4.4375 -1.578125 4.109375 -1.25 3.453125 -1.25 C 2.609375 -1.25 2.09375 -1.9375 2.09375 -3.1875 C 2.09375 -4.375 2.40625 -5.234375 3.453125 -5.234375 C 4.140625 -5.234375 4.46875 -4.90625 4.65625 -4.0625 L 6.265625 -4.0625 C 6.140625 -5.640625 5.09375 -6.59375 3.46875 -6.59375 C 1.53125 -6.59375 0.40625 -5.40625 0.40625 -3.1875 C 0.40625 -1.0625 1.53125 0.109375 3.4375 0.109375 C 5.015625 0.109375 6.109375 -0.859375 6.265625 -2.25 Z M 6.265625 -2.25 \"/>\n",
       "</symbol>\n",
       "<symbol overflow=\"visible\" id=\"glyph0-2\">\n",
       "<path style=\"stroke:none;\" d=\"M 6.828125 -3.1875 C 6.828125 -5.390625 5.640625 -6.59375 3.609375 -6.59375 C 1.625 -6.59375 0.421875 -5.359375 0.421875 -3.234375 C 0.421875 -1.109375 1.625 0.109375 3.625 0.109375 C 5.59375 0.109375 6.828125 -1.109375 6.828125 -3.1875 Z M 5.140625 -3.21875 C 5.140625 -2 4.53125 -1.25 3.625 -1.25 C 2.71875 -1.25 2.09375 -2 2.09375 -3.234375 C 2.09375 -4.46875 2.71875 -5.234375 3.625 -5.234375 C 4.546875 -5.234375 5.140625 -4.484375 5.140625 -3.21875 Z M 5.140625 -3.21875 \"/>\n",
       "</symbol>\n",
       "<symbol overflow=\"visible\" id=\"glyph0-3\">\n",
       "<path style=\"stroke:none;\" d=\"M 6.546875 0 L 6.546875 -4.34375 C 6.546875 -5.765625 5.765625 -6.59375 4.375 -6.59375 C 3.5 -6.59375 2.921875 -6.265625 2.4375 -5.546875 L 2.4375 -6.484375 L 0.75 -6.484375 L 0.75 0 L 2.4375 0 L 2.4375 -3.890625 C 2.4375 -4.65625 2.96875 -5.15625 3.796875 -5.15625 C 4.515625 -5.15625 4.875 -4.765625 4.875 -4 L 4.875 0 Z M 6.546875 0 \"/>\n",
       "</symbol>\n",
       "<symbol overflow=\"visible\" id=\"glyph0-4\">\n",
       "<path style=\"stroke:none;\" d=\"M 3.609375 0 L 3.609375 -1.171875 C 3.4375 -1.15625 3.34375 -1.140625 3.234375 -1.140625 C 2.78125 -1.140625 2.671875 -1.265625 2.671875 -1.84375 L 2.671875 -5.234375 L 3.609375 -5.234375 L 3.609375 -6.34375 L 2.671875 -6.34375 L 2.671875 -8.09375 L 1 -8.09375 L 1 -6.34375 L 0.171875 -6.34375 L 0.171875 -5.234375 L 1 -5.234375 L 1 -1.390625 C 1 -0.375 1.53125 0.046875 2.640625 0.046875 C 3.015625 0.046875 3.3125 0.015625 3.609375 0 Z M 3.609375 0 \"/>\n",
       "</symbol>\n",
       "<symbol overflow=\"visible\" id=\"glyph0-5\">\n",
       "<path style=\"stroke:none;\" d=\"M 4.4375 -4.875 L 4.4375 -6.578125 C 4.34375 -6.59375 4.28125 -6.59375 4.234375 -6.59375 C 3.46875 -6.59375 2.796875 -6.078125 2.4375 -5.203125 L 2.4375 -6.484375 L 0.75 -6.484375 L 0.75 0 L 2.4375 0 L 2.4375 -3.4375 C 2.4375 -4.421875 2.921875 -4.921875 3.90625 -4.921875 C 4.09375 -4.921875 4.21875 -4.90625 4.4375 -4.875 Z M 4.4375 -4.875 \"/>\n",
       "</symbol>\n",
       "<symbol overflow=\"visible\" id=\"glyph0-6\">\n",
       "<path style=\"stroke:none;\" d=\"M 2.484375 0 L 2.484375 -8.75 L 0.796875 -8.75 L 0.796875 0 Z M 2.484375 0 \"/>\n",
       "</symbol>\n",
       "<symbol overflow=\"visible\" id=\"glyph0-7\">\n",
       "<path style=\"stroke:none;\" d=\"\"/>\n",
       "</symbol>\n",
       "<symbol overflow=\"visible\" id=\"glyph0-8\">\n",
       "<path style=\"stroke:none;\" d=\"M 5.5625 -2.546875 L 5.5625 -3.453125 L 1.0625 -7.265625 L 1.0625 -5.703125 L 4.25 -3 L 1.0625 -0.296875 L 1.0625 1.265625 Z M 5.5625 -2.546875 \"/>\n",
       "</symbol>\n",
       "<symbol overflow=\"visible\" id=\"glyph0-9\">\n",
       "<path style=\"stroke:none;\" d=\"M 6.28125 -3.484375 L 6.28125 -4.6875 L 0.71875 -4.6875 L 0.71875 -3.484375 Z M 6.28125 -1.3125 L 6.28125 -2.515625 L 0.71875 -2.515625 L 0.71875 -1.3125 Z M 6.28125 -1.3125 \"/>\n",
       "</symbol>\n",
       "<symbol overflow=\"visible\" id=\"glyph0-10\">\n",
       "<path style=\"stroke:none;\" d=\"M 6.203125 -4.234375 C 6.203125 -6.640625 5.765625 -8.6875 3.28125 -8.6875 C 0.84375 -8.6875 0.34375 -6.734375 0.34375 -4.28125 C 0.34375 -1.90625 0.8125 0.109375 3.28125 0.109375 C 5 0.109375 6.203125 -0.875 6.203125 -4.234375 Z M 4.53125 -4.265625 C 4.53125 -1.890625 4.171875 -1.328125 3.28125 -1.328125 C 2.421875 -1.328125 2.03125 -1.765625 2.03125 -4.296875 C 2.03125 -6.765625 2.375 -7.328125 3.28125 -7.328125 C 4.109375 -7.328125 4.53125 -6.90625 4.53125 -4.265625 Z M 4.53125 -4.265625 \"/>\n",
       "</symbol>\n",
       "<symbol overflow=\"visible\" id=\"glyph0-11\">\n",
       "<path style=\"stroke:none;\" d=\"M 2.5625 0 L 2.5625 -1.75 L 0.765625 -1.75 L 0.765625 0 Z M 2.5625 0 \"/>\n",
       "</symbol>\n",
       "<symbol overflow=\"visible\" id=\"glyph0-12\">\n",
       "<path style=\"stroke:none;\" d=\"M 6.203125 -2.890625 C 6.203125 -4.625 5.125 -5.75 3.546875 -5.75 C 2.984375 -5.75 2.5625 -5.609375 2.078125 -5.234375 L 2.359375 -7.015625 L 5.875 -7.015625 L 5.875 -8.515625 L 1.3125 -8.515625 L 0.5625 -3.765625 L 2.078125 -3.765625 C 2.25 -4.1875 2.640625 -4.421875 3.15625 -4.421875 C 4.015625 -4.421875 4.53125 -3.890625 4.53125 -2.859375 C 4.53125 -1.859375 4 -1.328125 3.15625 -1.328125 C 2.421875 -1.328125 1.984375 -1.703125 1.984375 -2.390625 L 0.328125 -2.390625 C 0.328125 -0.90625 1.46875 0.109375 3.125 0.109375 C 4.953125 0.109375 6.203125 -1.0625 6.203125 -2.890625 Z M 6.203125 -2.890625 \"/>\n",
       "</symbol>\n",
       "<symbol overflow=\"visible\" id=\"glyph1-0\">\n",
       "<path style=\"stroke:none;\" d=\"\"/>\n",
       "</symbol>\n",
       "<symbol overflow=\"visible\" id=\"glyph1-1\">\n",
       "<path style=\"stroke:none;\" d=\"M 6.078125 -4.09375 C 6.078125 -7.046875 5.140625 -8.515625 3.296875 -8.515625 C 1.46875 -8.515625 0.515625 -7.015625 0.515625 -4.15625 C 0.515625 -1.296875 1.46875 0.1875 3.296875 0.1875 C 5.09375 0.1875 6.078125 -1.296875 6.078125 -4.09375 Z M 5 -4.1875 C 5 -1.78125 4.453125 -0.703125 3.28125 -0.703125 C 2.15625 -0.703125 1.59375 -1.828125 1.59375 -4.15625 C 1.59375 -6.484375 2.15625 -7.578125 3.296875 -7.578125 C 4.4375 -7.578125 5 -6.46875 5 -4.1875 Z M 5 -4.1875 \"/>\n",
       "</symbol>\n",
       "<symbol overflow=\"visible\" id=\"glyph1-2\">\n",
       "<path style=\"stroke:none;\" d=\"M 2.296875 0 L 2.296875 -1.25 L 1.046875 -1.25 L 1.046875 0 Z M 2.296875 0 \"/>\n",
       "</symbol>\n",
       "<symbol overflow=\"visible\" id=\"glyph1-3\">\n",
       "<path style=\"stroke:none;\" d=\"M 6.125 -6.015625 C 6.125 -7.453125 5.015625 -8.515625 3.40625 -8.515625 C 1.671875 -8.515625 0.65625 -7.625 0.59375 -5.5625 L 1.65625 -5.5625 C 1.734375 -6.984375 2.328125 -7.578125 3.375 -7.578125 C 4.328125 -7.578125 5.046875 -6.90625 5.046875 -5.984375 C 5.046875 -5.3125 4.65625 -4.734375 3.90625 -4.3125 L 2.796875 -3.6875 C 1.015625 -2.671875 0.5 -1.875 0.40625 0 L 6.078125 0 L 6.078125 -1.046875 L 1.59375 -1.046875 C 1.703125 -1.734375 2.09375 -2.1875 3.125 -2.796875 L 4.328125 -3.4375 C 5.515625 -4.078125 6.125 -4.96875 6.125 -6.015625 Z M 6.125 -6.015625 \"/>\n",
       "</symbol>\n",
       "<symbol overflow=\"visible\" id=\"glyph1-4\">\n",
       "<path style=\"stroke:none;\" d=\"M 6.109375 -4.453125 C 6.109375 -7.109375 5.1875 -8.515625 3.234375 -8.515625 C 1.625 -8.515625 0.453125 -7.359375 0.453125 -5.6875 C 0.453125 -4.109375 1.53125 -3.03125 3.078125 -3.03125 C 3.875 -3.03125 4.46875 -3.328125 5.015625 -3.984375 C 5 -1.90625 4.328125 -0.75 3.125 -0.75 C 2.375 -0.75 1.859375 -1.21875 1.6875 -2.046875 L 0.640625 -2.046875 C 0.84375 -0.640625 1.75 0.1875 3.046875 0.1875 C 5.046875 0.1875 6.109375 -1.515625 6.109375 -4.453125 Z M 4.953125 -5.71875 C 4.953125 -4.671875 4.21875 -3.96875 3.1875 -3.96875 C 2.171875 -3.96875 1.53125 -4.625 1.53125 -5.765625 C 1.53125 -6.859375 2.25 -7.578125 3.234375 -7.578125 C 4.21875 -7.578125 4.953125 -6.8125 4.953125 -5.71875 Z M 4.953125 -5.71875 \"/>\n",
       "</symbol>\n",
       "<symbol overflow=\"visible\" id=\"glyph1-5\">\n",
       "<path style=\"stroke:none;\" d=\"M 6.15625 -2.640625 C 6.15625 -4.21875 5.078125 -5.296875 3.546875 -5.296875 C 2.71875 -5.296875 2.046875 -4.96875 1.59375 -4.34375 C 1.609375 -6.421875 2.28125 -7.578125 3.484375 -7.578125 C 4.234375 -7.578125 4.75 -7.109375 4.921875 -6.28125 L 5.96875 -6.28125 C 5.765625 -7.6875 4.859375 -8.515625 3.5625 -8.515625 C 1.578125 -8.515625 0.515625 -6.84375 0.515625 -3.875 C 0.515625 -1.21875 1.421875 0.1875 3.375 0.1875 C 4.984375 0.1875 6.15625 -0.96875 6.15625 -2.640625 Z M 5.078125 -2.5625 C 5.078125 -1.484375 4.359375 -0.75 3.390625 -0.75 C 2.40625 -0.75 1.65625 -1.53125 1.65625 -2.609375 C 1.65625 -3.671875 2.375 -4.359375 3.421875 -4.359375 C 4.4375 -4.359375 5.078125 -3.703125 5.078125 -2.5625 Z M 5.078125 -2.5625 \"/>\n",
       "</symbol>\n",
       "<symbol overflow=\"visible\" id=\"glyph1-6\">\n",
       "<path style=\"stroke:none;\" d=\"M 6.078125 -2.46875 C 6.078125 -3.5 5.65625 -4.109375 4.625 -4.453125 C 5.421875 -4.765625 5.8125 -5.3125 5.8125 -6.171875 C 5.8125 -7.625 4.84375 -8.515625 3.234375 -8.515625 C 1.515625 -8.515625 0.59375 -7.578125 0.5625 -5.765625 L 1.625 -5.765625 C 1.640625 -7.015625 2.15625 -7.578125 3.234375 -7.578125 C 4.171875 -7.578125 4.734375 -7.03125 4.734375 -6.125 C 4.734375 -5.21875 4.34375 -4.84375 2.65625 -4.84375 L 2.65625 -3.953125 L 3.234375 -3.953125 C 4.390625 -3.953125 4.984375 -3.40625 4.984375 -2.453125 C 4.984375 -1.390625 4.328125 -0.75 3.234375 -0.75 C 2.078125 -0.75 1.515625 -1.328125 1.4375 -2.5625 L 0.390625 -2.5625 C 0.515625 -0.671875 1.453125 0.1875 3.1875 0.1875 C 4.9375 0.1875 6.078125 -0.859375 6.078125 -2.46875 Z M 6.078125 -2.46875 \"/>\n",
       "</symbol>\n",
       "<symbol overflow=\"visible\" id=\"glyph1-7\">\n",
       "<path style=\"stroke:none;\" d=\"M 6.15625 -2.40625 C 6.15625 -3.34375 5.671875 -4.015625 4.6875 -4.46875 C 5.5625 -5 5.859375 -5.4375 5.859375 -6.234375 C 5.859375 -7.578125 4.8125 -8.515625 3.296875 -8.515625 C 1.796875 -8.515625 0.75 -7.578125 0.75 -6.234375 C 0.75 -5.453125 1.03125 -5.015625 1.890625 -4.46875 C 0.921875 -4.015625 0.4375 -3.34375 0.4375 -2.40625 C 0.4375 -0.859375 1.625 0.1875 3.296875 0.1875 C 4.984375 0.1875 6.15625 -0.859375 6.15625 -2.40625 Z M 4.78125 -6.21875 C 4.78125 -5.421875 4.1875 -4.890625 3.296875 -4.890625 C 2.40625 -4.890625 1.828125 -5.421875 1.828125 -6.234375 C 1.828125 -7.046875 2.40625 -7.578125 3.296875 -7.578125 C 4.203125 -7.578125 4.78125 -7.046875 4.78125 -6.21875 Z M 5.078125 -2.390625 C 5.078125 -1.375 4.359375 -0.75 3.28125 -0.75 C 2.25 -0.75 1.53125 -1.390625 1.53125 -2.390625 C 1.53125 -3.390625 2.25 -4.015625 3.296875 -4.015625 C 4.359375 -4.015625 5.078125 -3.390625 5.078125 -2.390625 Z M 5.078125 -2.390625 \"/>\n",
       "</symbol>\n",
       "<symbol overflow=\"visible\" id=\"glyph1-8\">\n",
       "<path style=\"stroke:none;\" d=\"M 6.234375 -2.046875 L 6.234375 -2.984375 L 4.984375 -2.984375 L 4.984375 -8.515625 L 4.203125 -8.515625 L 0.34375 -3.15625 L 0.34375 -2.046875 L 3.921875 -2.046875 L 3.921875 0 L 4.984375 0 L 4.984375 -2.046875 Z M 3.921875 -2.984375 L 1.265625 -2.984375 L 3.921875 -6.703125 Z M 3.921875 -2.984375 \"/>\n",
       "</symbol>\n",
       "<symbol overflow=\"visible\" id=\"glyph2-0\">\n",
       "<path style=\"stroke:none;\" d=\"\"/>\n",
       "</symbol>\n",
       "<symbol overflow=\"visible\" id=\"glyph2-1\">\n",
       "<path style=\"stroke:none;\" d=\"M 5.1875 -5.03125 L 4.328125 -5.03125 L 2.09375 -1.125 L 1.65625 -5.03125 L 0.78125 -5.03125 L 1.4375 0.03125 L 0.9375 0.8125 C 0.6875 1.21875 0.53125 1.3125 0.171875 1.3125 C 0.078125 1.3125 0.015625 1.3125 -0.25 1.28125 L -0.40625 2 C -0.234375 2.078125 -0.109375 2.09375 0.0625 2.09375 C 0.75 2.09375 1.234375 1.765625 1.65625 1.0625 Z M 5.1875 -5.03125 \"/>\n",
       "</symbol>\n",
       "<symbol overflow=\"visible\" id=\"glyph2-2\">\n",
       "<path style=\"stroke:none;\" d=\"M 4.9375 -2.28125 L 4.953125 -2.40625 C 5.03125 -2.875 5.078125 -3.265625 5.078125 -3.53125 C 5.078125 -4.453125 4.28125 -5.171875 3.25 -5.171875 C 2.421875 -5.171875 1.609375 -4.78125 1.125 -4.140625 C 0.6875 -3.53125 0.328125 -2.46875 0.328125 -1.703125 C 0.328125 -0.703125 1.078125 0.140625 2.25 0.140625 C 3.390625 0.140625 4.359375 -0.484375 4.65625 -1.53125 L 3.859375 -1.53125 C 3.53125 -0.9375 3.015625 -0.59375 2.375 -0.59375 C 1.625 -0.59375 1.1875 -1.03125 1.1875 -1.84375 C 1.171875 -2 1.1875 -2.09375 1.234375 -2.28125 Z M 4.21875 -2.96875 L 1.40625 -2.96875 C 1.640625 -3.8125 2.34375 -4.4375 3.125 -4.4375 C 3.8125 -4.4375 4.234375 -3.96875 4.234375 -3.25 C 4.234375 -3.15625 4.234375 -3.09375 4.21875 -2.96875 Z M 4.21875 -2.96875 \"/>\n",
       "</symbol>\n",
       "<symbol overflow=\"visible\" id=\"glyph2-3\">\n",
       "<path style=\"stroke:none;\" d=\"M 4.265625 -1.734375 C 4.265625 -2.328125 3.953125 -2.625 3.109375 -2.84375 L 2.375 -3.015625 C 1.84375 -3.15625 1.5625 -3.34375 1.5625 -3.59375 C 1.5625 -4.09375 2.046875 -4.4375 2.765625 -4.4375 C 3.34375 -4.4375 3.65625 -4.21875 3.65625 -3.84375 C 3.65625 -3.765625 3.65625 -3.703125 3.640625 -3.625 L 4.453125 -3.625 C 4.5 -3.828125 4.515625 -3.921875 4.515625 -4.03125 C 4.515625 -4.703125 3.859375 -5.171875 2.9375 -5.171875 C 1.609375 -5.171875 0.71875 -4.40625 0.71875 -3.390625 C 0.71875 -2.796875 1.0625 -2.515625 2.046875 -2.265625 L 2.75 -2.078125 C 3.359375 -1.921875 3.421875 -1.71875 3.421875 -1.515625 C 3.421875 -0.96875 2.796875 -0.59375 2.046875 -0.59375 C 1.390625 -0.59375 1.015625 -0.859375 1.015625 -1.328125 C 1.015625 -1.390625 1.03125 -1.484375 1.03125 -1.578125 L 0.1875 -1.578125 C 0.140625 -1.359375 0.125 -1.234375 0.125 -1.078125 C 0.125 -0.3125 0.796875 0.140625 1.90625 0.140625 C 3.34375 0.140625 4.265625 -0.59375 4.265625 -1.734375 Z M 4.265625 -1.734375 \"/>\n",
       "</symbol>\n",
       "<symbol overflow=\"visible\" id=\"glyph2-4\">\n",
       "<path style=\"stroke:none;\" d=\"M 4.984375 -3.609375 C 5.015625 -3.734375 5.03125 -3.84375 5.03125 -3.96875 C 5.03125 -4.703125 4.515625 -5.171875 3.71875 -5.171875 C 3 -5.171875 2.359375 -4.90625 1.859375 -4.40625 L 1.984375 -5.03125 L 1.25 -5.03125 L 0.1875 0 L 1 0 L 1.578125 -2.765625 C 1.796875 -3.828125 2.484375 -4.484375 3.34375 -4.484375 C 3.828125 -4.484375 4.1875 -4.140625 4.1875 -3.703125 C 4.1875 -3.640625 4.15625 -3.5 4.125 -3.34375 L 3.421875 0 L 4.21875 0 Z M 4.984375 -3.609375 \"/>\n",
       "</symbol>\n",
       "<symbol overflow=\"visible\" id=\"glyph2-5\">\n",
       "<path style=\"stroke:none;\" d=\"M 5.046875 -3.375 C 5.046875 -4.390625 4.359375 -5.171875 3.203125 -5.171875 C 1.40625 -5.171875 0.296875 -3.515625 0.296875 -1.609375 C 0.296875 -0.546875 1.046875 0.140625 2.125 0.140625 C 3.859375 0.140625 5.046875 -1.375 5.046875 -3.375 Z M 4.203125 -3.1875 C 4.203125 -1.765625 3.390625 -0.59375 2.25 -0.59375 C 1.578125 -0.59375 1.140625 -1.03125 1.140625 -1.796875 C 1.140625 -3.1875 1.953125 -4.4375 3.078125 -4.4375 C 3.796875 -4.4375 4.203125 -3.96875 4.203125 -3.1875 Z M 4.203125 -3.1875 \"/>\n",
       "</symbol>\n",
       "</g>\n",
       "</defs>\n",
       "<g id=\"surface200\">\n",
       "<rect x=\"0\" y=\"0\" width=\"288\" height=\"288\" style=\"fill:rgb(100%,100%,100%);fill-opacity:1;stroke:none;\"/>\n",
       "<path style=\"fill:none;stroke-width:0.75;stroke-linecap:butt;stroke-linejoin:round;stroke:rgb(0%,0%,0%);stroke-opacity:1;stroke-miterlimit:10;\" d=\"M 98.496094 160.980469 L 136.039062 121.117188 L 145.421875 121.117188 \"/>\n",
       "<path style=\"fill:none;stroke-width:0.75;stroke-linecap:butt;stroke-linejoin:round;stroke:rgb(0%,0%,0%);stroke-opacity:1;stroke-miterlimit:10;\" d=\"M 192.351562 160.980469 L 154.808594 121.117188 L 145.421875 121.117188 \"/>\n",
       "<path style=\" stroke:none;fill-rule:nonzero;fill:rgb(100%,100%,100%);fill-opacity:1;\" d=\"M 121.480469 123.46875 L 121.480469 114.070312 L 169.367188 114.070312 L 169.367188 123.46875 Z M 121.480469 123.46875 \"/>\n",
       "<g style=\"fill:rgb(0%,0%,0%);fill-opacity:1;\">\n",
       "  <use xlink:href=\"#glyph0-1\" x=\"105.921875\" y=\"121.769531\"/>\n",
       "  <use xlink:href=\"#glyph0-2\" x=\"112.59375\" y=\"121.769531\"/>\n",
       "  <use xlink:href=\"#glyph0-3\" x=\"119.925781\" y=\"121.769531\"/>\n",
       "  <use xlink:href=\"#glyph0-4\" x=\"127.257812\" y=\"121.769531\"/>\n",
       "  <use xlink:href=\"#glyph0-5\" x=\"131.253906\" y=\"121.769531\"/>\n",
       "  <use xlink:href=\"#glyph0-2\" x=\"135.921875\" y=\"121.769531\"/>\n",
       "  <use xlink:href=\"#glyph0-6\" x=\"143.253906\" y=\"121.769531\"/>\n",
       "  <use xlink:href=\"#glyph0-7\" x=\"146.589844\" y=\"121.769531\"/>\n",
       "  <use xlink:href=\"#glyph0-8\" x=\"149.925781\" y=\"121.769531\"/>\n",
       "  <use xlink:href=\"#glyph0-9\" x=\"156.933594\" y=\"121.769531\"/>\n",
       "  <use xlink:href=\"#glyph0-7\" x=\"163.941406\" y=\"121.769531\"/>\n",
       "  <use xlink:href=\"#glyph0-10\" x=\"167.277344\" y=\"121.769531\"/>\n",
       "  <use xlink:href=\"#glyph0-11\" x=\"173.949219\" y=\"121.769531\"/>\n",
       "  <use xlink:href=\"#glyph0-12\" x=\"177.285156\" y=\"121.769531\"/>\n",
       "</g>\n",
       "<path style=\"fill-rule:nonzero;fill:rgb(100%,100%,100%);fill-opacity:1;stroke-width:0.75;stroke-linecap:round;stroke-linejoin:round;stroke:rgb(0%,0%,0%);stroke-opacity:1;stroke-miterlimit:10;\" d=\"M 82.121094 165.679688 L 82.28125 164.464844 L 82.75 163.332031 L 83.5 162.359375 L 84.472656 161.609375 L 85.605469 161.140625 L 86.820312 160.980469 L 110.167969 160.980469 L 111.386719 161.140625 L 112.519531 161.609375 L 113.492188 162.359375 L 114.238281 163.332031 L 114.707031 164.464844 L 114.867188 165.679688 L 114.707031 166.898438 L 114.238281 168.03125 L 113.492188 169.003906 L 112.519531 169.75 L 111.386719 170.21875 L 110.167969 170.378906 L 86.820312 170.378906 L 85.605469 170.21875 L 84.472656 169.75 L 83.5 169.003906 L 82.75 168.03125 L 82.28125 166.898438 Z M 82.121094 165.679688 \"/>\n",
       "<path style=\"fill-rule:nonzero;fill:rgb(100%,100%,100%);fill-opacity:1;stroke-width:0.75;stroke-linecap:round;stroke-linejoin:round;stroke:rgb(0%,0%,0%);stroke-opacity:1;stroke-miterlimit:10;\" d=\"M 183.253906 165.25 L 183.414062 164.144531 L 183.886719 163.117188 L 184.632812 162.230469 L 185.605469 161.554688 L 186.738281 161.125 L 187.957031 160.980469 L 196.746094 160.980469 L 197.960938 161.125 L 199.097656 161.554688 L 200.070312 162.230469 L 200.816406 163.117188 L 201.285156 164.144531 L 201.445312 165.25 L 201.445312 166.109375 L 201.285156 167.214844 L 200.816406 168.246094 L 200.070312 169.128906 L 199.097656 169.808594 L 197.960938 170.234375 L 196.746094 170.378906 L 187.957031 170.378906 L 186.738281 170.234375 L 185.605469 169.808594 L 184.632812 169.128906 L 183.886719 168.246094 L 183.414062 167.214844 L 183.253906 166.109375 Z M 183.253906 165.25 \"/>\n",
       "<g style=\"fill:rgb(0%,0%,0%);fill-opacity:1;\">\n",
       "  <use xlink:href=\"#glyph1-1\" x=\"72.996094\" y=\"169.456055\"/>\n",
       "  <use xlink:href=\"#glyph1-2\" x=\"79.667969\" y=\"169.456055\"/>\n",
       "  <use xlink:href=\"#glyph1-3\" x=\"83.003906\" y=\"169.456055\"/>\n",
       "  <use xlink:href=\"#glyph1-4\" x=\"89.675781\" y=\"169.456055\"/>\n",
       "  <use xlink:href=\"#glyph1-5\" x=\"96.347656\" y=\"169.456055\"/>\n",
       "  <use xlink:href=\"#glyph1-5\" x=\"103.019531\" y=\"169.456055\"/>\n",
       "  <use xlink:href=\"#glyph1-6\" x=\"109.691406\" y=\"169.456055\"/>\n",
       "  <use xlink:href=\"#glyph1-7\" x=\"116.363281\" y=\"169.456055\"/>\n",
       "</g>\n",
       "<g style=\"fill:rgb(0%,0%,0%);fill-opacity:1;\">\n",
       "  <use xlink:href=\"#glyph1-1\" x=\"180.351562\" y=\"169.456055\"/>\n",
       "  <use xlink:href=\"#glyph1-2\" x=\"187.023438\" y=\"169.456055\"/>\n",
       "  <use xlink:href=\"#glyph1-6\" x=\"190.359375\" y=\"169.456055\"/>\n",
       "  <use xlink:href=\"#glyph1-8\" x=\"197.03125\" y=\"169.456055\"/>\n",
       "</g>\n",
       "<path style=\"fill-rule:nonzero;fill:rgb(100%,100%,100%);fill-opacity:1;stroke-width:0.75;stroke-linecap:round;stroke-linejoin:round;stroke:rgb(0%,0%,0%);stroke-opacity:1;stroke-miterlimit:10;\" d=\"M 106.398438 118.472656 L 106.429688 118.246094 L 106.515625 118.035156 L 106.65625 117.851562 L 106.839844 117.710938 L 107.050781 117.625 L 107.28125 117.59375 L 118.085938 117.59375 L 118.3125 117.625 L 118.527344 117.710938 L 118.707031 117.851562 L 118.847656 118.035156 L 118.9375 118.246094 L 118.964844 118.472656 L 118.964844 123.761719 L 118.9375 123.988281 L 118.847656 124.203125 L 118.707031 124.382812 L 118.527344 124.523438 L 118.3125 124.613281 L 118.085938 124.640625 L 107.28125 124.640625 L 107.050781 124.613281 L 106.839844 124.523438 L 106.65625 124.382812 L 106.515625 124.203125 L 106.429688 123.988281 L 106.398438 123.761719 Z M 106.398438 118.472656 \"/>\n",
       "<path style=\"fill-rule:nonzero;fill:rgb(100%,100%,100%);fill-opacity:1;stroke-width:0.75;stroke-linecap:round;stroke-linejoin:round;stroke:rgb(0%,0%,0%);stroke-opacity:1;stroke-miterlimit:10;\" d=\"M 171.878906 118.472656 L 171.910156 118.246094 L 171.996094 118.035156 L 172.136719 117.851562 L 172.320312 117.710938 L 172.53125 117.625 L 172.761719 117.59375 L 183.566406 117.59375 L 183.792969 117.625 L 184.007812 117.710938 L 184.1875 117.851562 L 184.328125 118.035156 L 184.417969 118.246094 L 184.445312 118.472656 L 184.445312 123.761719 L 184.417969 123.988281 L 184.328125 124.203125 L 184.1875 124.382812 L 184.007812 124.523438 L 183.792969 124.613281 L 183.566406 124.640625 L 172.761719 124.640625 L 172.53125 124.613281 L 172.320312 124.523438 L 172.136719 124.382812 L 171.996094 124.203125 L 171.910156 123.988281 L 171.878906 123.761719 Z M 171.878906 118.472656 \"/>\n",
       "<g style=\"fill:rgb(0%,0%,0%);fill-opacity:1;\">\n",
       "  <use xlink:href=\"#glyph2-1\" x=\"105.183594\" y=\"123.014648\"/>\n",
       "  <use xlink:href=\"#glyph2-2\" x=\"109.645508\" y=\"123.014648\"/>\n",
       "  <use xlink:href=\"#glyph2-3\" x=\"114.979492\" y=\"123.014648\"/>\n",
       "</g>\n",
       "<g style=\"fill:rgb(0%,0%,0%);fill-opacity:1;\">\n",
       "  <use xlink:href=\"#glyph2-4\" x=\"172.664062\" y=\"123.424805\"/>\n",
       "  <use xlink:href=\"#glyph2-5\" x=\"177.998047\" y=\"123.424805\"/>\n",
       "</g>\n",
       "</g>\n",
       "</svg>\n"
      ],
      "text/plain": [
       "plot without title"
      ]
     },
     "metadata": {
      "image/svg+xml": {
       "isolated": true
      }
     },
     "output_type": "display_data"
    }
   ],
   "source": [
    "tree1 = rpart(voting ~ control,\n",
    "              data=data, cp=0.0)\n",
    "tree2 = rpart(voting ~ control + sex,\n",
    "              data=data, cp=0.0)\n",
    "prp(tree1, digits=6)"
   ]
  },
  {
   "cell_type": "code",
   "execution_count": 56,
   "metadata": {
    "collapsed": false
   },
   "outputs": [
    {
     "data": {
      "text/html": [
       "0.043362"
      ],
      "text/latex": [
       "0.043362"
      ],
      "text/markdown": [
       "0.043362"
      ],
      "text/plain": [
       "[1] 0.043362"
      ]
     },
     "execution_count": 56,
     "metadata": {},
     "output_type": "execute_result"
    }
   ],
   "source": [
    "abs(0.296638-0.34)"
   ]
  },
  {
   "cell_type": "code",
   "execution_count": 58,
   "metadata": {
    "collapsed": false
   },
   "outputs": [
    {
     "data": {
      "image/png": "[encoded data removed]",
      "image/svg+xml": [
       "<?xml version=\"1.0\" encoding=\"UTF-8\"?>\n",
       "<svg xmlns=\"http://www.w3.org/2000/svg\" xmlns:xlink=\"http://www.w3.org/1999/xlink\" width=\"288pt\" height=\"288pt\" viewBox=\"0 0 288 288\" version=\"1.1\">\n",
       "<defs>\n",
       "<g>\n",
       "<symbol overflow=\"visible\" id=\"glyph0-0\">\n",
       "<path style=\"stroke:none;\" d=\"\"/>\n",
       "</symbol>\n",
       "<symbol overflow=\"visible\" id=\"glyph0-1\">\n",
       "<path style=\"stroke:none;\" d=\"M 6.265625 -2.25 L 4.65625 -2.25 C 4.4375 -1.578125 4.109375 -1.25 3.453125 -1.25 C 2.609375 -1.25 2.09375 -1.9375 2.09375 -3.1875 C 2.09375 -4.375 2.40625 -5.234375 3.453125 -5.234375 C 4.140625 -5.234375 4.46875 -4.90625 4.65625 -4.0625 L 6.265625 -4.0625 C 6.140625 -5.640625 5.09375 -6.59375 3.46875 -6.59375 C 1.53125 -6.59375 0.40625 -5.40625 0.40625 -3.1875 C 0.40625 -1.0625 1.53125 0.109375 3.4375 0.109375 C 5.015625 0.109375 6.109375 -0.859375 6.265625 -2.25 Z M 6.265625 -2.25 \"/>\n",
       "</symbol>\n",
       "<symbol overflow=\"visible\" id=\"glyph0-2\">\n",
       "<path style=\"stroke:none;\" d=\"M 6.828125 -3.1875 C 6.828125 -5.390625 5.640625 -6.59375 3.609375 -6.59375 C 1.625 -6.59375 0.421875 -5.359375 0.421875 -3.234375 C 0.421875 -1.109375 1.625 0.109375 3.625 0.109375 C 5.59375 0.109375 6.828125 -1.109375 6.828125 -3.1875 Z M 5.140625 -3.21875 C 5.140625 -2 4.53125 -1.25 3.625 -1.25 C 2.71875 -1.25 2.09375 -2 2.09375 -3.234375 C 2.09375 -4.46875 2.71875 -5.234375 3.625 -5.234375 C 4.546875 -5.234375 5.140625 -4.484375 5.140625 -3.21875 Z M 5.140625 -3.21875 \"/>\n",
       "</symbol>\n",
       "<symbol overflow=\"visible\" id=\"glyph0-3\">\n",
       "<path style=\"stroke:none;\" d=\"M 6.546875 0 L 6.546875 -4.34375 C 6.546875 -5.765625 5.765625 -6.59375 4.375 -6.59375 C 3.5 -6.59375 2.921875 -6.265625 2.4375 -5.546875 L 2.4375 -6.484375 L 0.75 -6.484375 L 0.75 0 L 2.4375 0 L 2.4375 -3.890625 C 2.4375 -4.65625 2.96875 -5.15625 3.796875 -5.15625 C 4.515625 -5.15625 4.875 -4.765625 4.875 -4 L 4.875 0 Z M 6.546875 0 \"/>\n",
       "</symbol>\n",
       "<symbol overflow=\"visible\" id=\"glyph0-4\">\n",
       "<path style=\"stroke:none;\" d=\"M 3.609375 0 L 3.609375 -1.171875 C 3.4375 -1.15625 3.34375 -1.140625 3.234375 -1.140625 C 2.78125 -1.140625 2.671875 -1.265625 2.671875 -1.84375 L 2.671875 -5.234375 L 3.609375 -5.234375 L 3.609375 -6.34375 L 2.671875 -6.34375 L 2.671875 -8.09375 L 1 -8.09375 L 1 -6.34375 L 0.171875 -6.34375 L 0.171875 -5.234375 L 1 -5.234375 L 1 -1.390625 C 1 -0.375 1.53125 0.046875 2.640625 0.046875 C 3.015625 0.046875 3.3125 0.015625 3.609375 0 Z M 3.609375 0 \"/>\n",
       "</symbol>\n",
       "<symbol overflow=\"visible\" id=\"glyph0-5\">\n",
       "<path style=\"stroke:none;\" d=\"M 4.4375 -4.875 L 4.4375 -6.578125 C 4.34375 -6.59375 4.28125 -6.59375 4.234375 -6.59375 C 3.46875 -6.59375 2.796875 -6.078125 2.4375 -5.203125 L 2.4375 -6.484375 L 0.75 -6.484375 L 0.75 0 L 2.4375 0 L 2.4375 -3.4375 C 2.4375 -4.421875 2.921875 -4.921875 3.90625 -4.921875 C 4.09375 -4.921875 4.21875 -4.90625 4.4375 -4.875 Z M 4.4375 -4.875 \"/>\n",
       "</symbol>\n",
       "<symbol overflow=\"visible\" id=\"glyph0-6\">\n",
       "<path style=\"stroke:none;\" d=\"M 2.484375 0 L 2.484375 -8.75 L 0.796875 -8.75 L 0.796875 0 Z M 2.484375 0 \"/>\n",
       "</symbol>\n",
       "<symbol overflow=\"visible\" id=\"glyph0-7\">\n",
       "<path style=\"stroke:none;\" d=\"\"/>\n",
       "</symbol>\n",
       "<symbol overflow=\"visible\" id=\"glyph0-8\">\n",
       "<path style=\"stroke:none;\" d=\"M 5.5625 -2.546875 L 5.5625 -3.453125 L 1.0625 -7.265625 L 1.0625 -5.703125 L 4.25 -3 L 1.0625 -0.296875 L 1.0625 1.265625 Z M 5.5625 -2.546875 \"/>\n",
       "</symbol>\n",
       "<symbol overflow=\"visible\" id=\"glyph0-9\">\n",
       "<path style=\"stroke:none;\" d=\"M 6.28125 -3.484375 L 6.28125 -4.6875 L 0.71875 -4.6875 L 0.71875 -3.484375 Z M 6.28125 -1.3125 L 6.28125 -2.515625 L 0.71875 -2.515625 L 0.71875 -1.3125 Z M 6.28125 -1.3125 \"/>\n",
       "</symbol>\n",
       "<symbol overflow=\"visible\" id=\"glyph0-10\">\n",
       "<path style=\"stroke:none;\" d=\"M 6.203125 -4.234375 C 6.203125 -6.640625 5.765625 -8.6875 3.28125 -8.6875 C 0.84375 -8.6875 0.34375 -6.734375 0.34375 -4.28125 C 0.34375 -1.90625 0.8125 0.109375 3.28125 0.109375 C 5 0.109375 6.203125 -0.875 6.203125 -4.234375 Z M 4.53125 -4.265625 C 4.53125 -1.890625 4.171875 -1.328125 3.28125 -1.328125 C 2.421875 -1.328125 2.03125 -1.765625 2.03125 -4.296875 C 2.03125 -6.765625 2.375 -7.328125 3.28125 -7.328125 C 4.109375 -7.328125 4.53125 -6.90625 4.53125 -4.265625 Z M 4.53125 -4.265625 \"/>\n",
       "</symbol>\n",
       "<symbol overflow=\"visible\" id=\"glyph0-11\">\n",
       "<path style=\"stroke:none;\" d=\"M 2.5625 0 L 2.5625 -1.75 L 0.765625 -1.75 L 0.765625 0 Z M 2.5625 0 \"/>\n",
       "</symbol>\n",
       "<symbol overflow=\"visible\" id=\"glyph0-12\">\n",
       "<path style=\"stroke:none;\" d=\"M 6.203125 -2.890625 C 6.203125 -4.625 5.125 -5.75 3.546875 -5.75 C 2.984375 -5.75 2.5625 -5.609375 2.078125 -5.234375 L 2.359375 -7.015625 L 5.875 -7.015625 L 5.875 -8.515625 L 1.3125 -8.515625 L 0.5625 -3.765625 L 2.078125 -3.765625 C 2.25 -4.1875 2.640625 -4.421875 3.15625 -4.421875 C 4.015625 -4.421875 4.53125 -3.890625 4.53125 -2.859375 C 4.53125 -1.859375 4 -1.328125 3.15625 -1.328125 C 2.421875 -1.328125 1.984375 -1.703125 1.984375 -2.390625 L 0.328125 -2.390625 C 0.328125 -0.90625 1.46875 0.109375 3.125 0.109375 C 4.953125 0.109375 6.203125 -1.0625 6.203125 -2.890625 Z M 6.203125 -2.890625 \"/>\n",
       "</symbol>\n",
       "<symbol overflow=\"visible\" id=\"glyph0-13\">\n",
       "<path style=\"stroke:none;\" d=\"M 6.234375 -1.921875 L 6.234375 -2 C 6.234375 -2.75 5.8125 -3.296875 4.96875 -3.546875 L 2.84375 -4.15625 C 2.375 -4.296875 2.25 -4.40625 2.25 -4.671875 C 2.25 -5.03125 2.640625 -5.265625 3.234375 -5.265625 C 4.03125 -5.265625 4.421875 -4.984375 4.4375 -4.390625 L 6.0625 -4.390625 C 6.03125 -5.765625 4.984375 -6.59375 3.234375 -6.59375 C 1.59375 -6.59375 0.578125 -5.765625 0.578125 -4.421875 C 0.578125 -3.640625 0.796875 -3.203125 1.984375 -2.828125 L 4 -2.203125 C 4.421875 -2.078125 4.5625 -1.9375 4.5625 -1.765625 C 4.5625 -1.375 4.09375 -1.21875 3.3125 -1.21875 C 2.546875 -1.21875 2.140625 -1.359375 1.984375 -2.046875 L 0.34375 -2.046875 C 0.390625 -0.640625 1.4375 0.109375 3.40625 0.109375 C 5.234375 0.109375 6.234375 -0.609375 6.234375 -1.921875 Z M 6.234375 -1.921875 \"/>\n",
       "</symbol>\n",
       "<symbol overflow=\"visible\" id=\"glyph0-14\">\n",
       "<path style=\"stroke:none;\" d=\"M 6.296875 -3 C 6.296875 -5.234375 5.171875 -6.59375 3.265625 -6.59375 C 1.40625 -6.59375 0.265625 -5.328125 0.265625 -3.15625 C 0.265625 -1.078125 1.390625 0.109375 3.234375 0.109375 C 4.6875 0.109375 5.859375 -0.546875 6.234375 -1.828125 L 4.578125 -1.828125 C 4.421875 -1.359375 3.90625 -1.171875 3.28125 -1.171875 C 2.5 -1.171875 1.984375 -1.53125 1.9375 -2.796875 L 6.28125 -2.796875 Z M 4.546875 -3.90625 L 1.96875 -3.90625 C 2.078125 -4.8125 2.5 -5.296875 3.234375 -5.296875 C 3.953125 -5.296875 4.46875 -4.84375 4.546875 -3.90625 Z M 4.546875 -3.90625 \"/>\n",
       "</symbol>\n",
       "<symbol overflow=\"visible\" id=\"glyph0-15\">\n",
       "<path style=\"stroke:none;\" d=\"M 6.421875 0 L 4.265625 -3.265625 L 6.375 -6.484375 L 4.359375 -6.484375 L 3.3125 -4.53125 L 2.25 -6.484375 L 0.234375 -6.484375 L 2.359375 -3.265625 L 0.1875 0 L 2.203125 0 L 3.3125 -2.015625 L 4.40625 0 Z M 6.421875 0 \"/>\n",
       "</symbol>\n",
       "<symbol overflow=\"visible\" id=\"glyph1-0\">\n",
       "<path style=\"stroke:none;\" d=\"\"/>\n",
       "</symbol>\n",
       "<symbol overflow=\"visible\" id=\"glyph1-1\">\n",
       "<path style=\"stroke:none;\" d=\"M 6.078125 -4.09375 C 6.078125 -7.046875 5.140625 -8.515625 3.296875 -8.515625 C 1.46875 -8.515625 0.515625 -7.015625 0.515625 -4.15625 C 0.515625 -1.296875 1.46875 0.1875 3.296875 0.1875 C 5.09375 0.1875 6.078125 -1.296875 6.078125 -4.09375 Z M 5 -4.1875 C 5 -1.78125 4.453125 -0.703125 3.28125 -0.703125 C 2.15625 -0.703125 1.59375 -1.828125 1.59375 -4.15625 C 1.59375 -6.484375 2.15625 -7.578125 3.296875 -7.578125 C 4.4375 -7.578125 5 -6.46875 5 -4.1875 Z M 5 -4.1875 \"/>\n",
       "</symbol>\n",
       "<symbol overflow=\"visible\" id=\"glyph1-2\">\n",
       "<path style=\"stroke:none;\" d=\"M 2.296875 0 L 2.296875 -1.25 L 1.046875 -1.25 L 1.046875 0 Z M 2.296875 0 \"/>\n",
       "</symbol>\n",
       "<symbol overflow=\"visible\" id=\"glyph1-3\">\n",
       "<path style=\"stroke:none;\" d=\"M 6.125 -6.015625 C 6.125 -7.453125 5.015625 -8.515625 3.40625 -8.515625 C 1.671875 -8.515625 0.65625 -7.625 0.59375 -5.5625 L 1.65625 -5.5625 C 1.734375 -6.984375 2.328125 -7.578125 3.375 -7.578125 C 4.328125 -7.578125 5.046875 -6.90625 5.046875 -5.984375 C 5.046875 -5.3125 4.65625 -4.734375 3.90625 -4.3125 L 2.796875 -3.6875 C 1.015625 -2.671875 0.5 -1.875 0.40625 0 L 6.078125 0 L 6.078125 -1.046875 L 1.59375 -1.046875 C 1.703125 -1.734375 2.09375 -2.1875 3.125 -2.796875 L 4.328125 -3.4375 C 5.515625 -4.078125 6.125 -4.96875 6.125 -6.015625 Z M 6.125 -6.015625 \"/>\n",
       "</symbol>\n",
       "<symbol overflow=\"visible\" id=\"glyph1-4\">\n",
       "<path style=\"stroke:none;\" d=\"M 6.109375 -4.453125 C 6.109375 -7.109375 5.1875 -8.515625 3.234375 -8.515625 C 1.625 -8.515625 0.453125 -7.359375 0.453125 -5.6875 C 0.453125 -4.109375 1.53125 -3.03125 3.078125 -3.03125 C 3.875 -3.03125 4.46875 -3.328125 5.015625 -3.984375 C 5 -1.90625 4.328125 -0.75 3.125 -0.75 C 2.375 -0.75 1.859375 -1.21875 1.6875 -2.046875 L 0.640625 -2.046875 C 0.84375 -0.640625 1.75 0.1875 3.046875 0.1875 C 5.046875 0.1875 6.109375 -1.515625 6.109375 -4.453125 Z M 4.953125 -5.71875 C 4.953125 -4.671875 4.21875 -3.96875 3.1875 -3.96875 C 2.171875 -3.96875 1.53125 -4.625 1.53125 -5.765625 C 1.53125 -6.859375 2.25 -7.578125 3.234375 -7.578125 C 4.21875 -7.578125 4.953125 -6.8125 4.953125 -5.71875 Z M 4.953125 -5.71875 \"/>\n",
       "</symbol>\n",
       "<symbol overflow=\"visible\" id=\"glyph1-5\">\n",
       "<path style=\"stroke:none;\" d=\"M 6.234375 -2.046875 L 6.234375 -2.984375 L 4.984375 -2.984375 L 4.984375 -8.515625 L 4.203125 -8.515625 L 0.34375 -3.15625 L 0.34375 -2.046875 L 3.921875 -2.046875 L 3.921875 0 L 4.984375 0 L 4.984375 -2.046875 Z M 3.921875 -2.984375 L 1.265625 -2.984375 L 3.921875 -6.703125 Z M 3.921875 -2.984375 \"/>\n",
       "</symbol>\n",
       "<symbol overflow=\"visible\" id=\"glyph1-6\">\n",
       "<path style=\"stroke:none;\" d=\"M 6.15625 -2.8125 C 6.15625 -4.5 5.046875 -5.609375 3.40625 -5.609375 C 2.8125 -5.609375 2.328125 -5.453125 1.84375 -5.09375 L 2.171875 -7.28125 L 5.71875 -7.28125 L 5.71875 -8.328125 L 1.3125 -8.328125 L 0.6875 -3.875 L 1.65625 -3.875 C 2.140625 -4.46875 2.5625 -4.671875 3.21875 -4.671875 C 4.359375 -4.671875 5.078125 -3.9375 5.078125 -2.671875 C 5.078125 -1.453125 4.375 -0.75 3.21875 -0.75 C 2.296875 -0.75 1.734375 -1.21875 1.46875 -2.1875 L 0.421875 -2.1875 C 0.765625 -0.484375 1.734375 0.1875 3.234375 0.1875 C 4.953125 0.1875 6.15625 -1.015625 6.15625 -2.8125 Z M 6.15625 -2.8125 \"/>\n",
       "</symbol>\n",
       "<symbol overflow=\"visible\" id=\"glyph1-7\">\n",
       "<path style=\"stroke:none;\" d=\"M 6.15625 -2.640625 C 6.15625 -4.21875 5.078125 -5.296875 3.546875 -5.296875 C 2.71875 -5.296875 2.046875 -4.96875 1.59375 -4.34375 C 1.609375 -6.421875 2.28125 -7.578125 3.484375 -7.578125 C 4.234375 -7.578125 4.75 -7.109375 4.921875 -6.28125 L 5.96875 -6.28125 C 5.765625 -7.6875 4.859375 -8.515625 3.5625 -8.515625 C 1.578125 -8.515625 0.515625 -6.84375 0.515625 -3.875 C 0.515625 -1.21875 1.421875 0.1875 3.375 0.1875 C 4.984375 0.1875 6.15625 -0.96875 6.15625 -2.640625 Z M 5.078125 -2.5625 C 5.078125 -1.484375 4.359375 -0.75 3.390625 -0.75 C 2.40625 -0.75 1.65625 -1.53125 1.65625 -2.609375 C 1.65625 -3.671875 2.375 -4.359375 3.421875 -4.359375 C 4.4375 -4.359375 5.078125 -3.703125 5.078125 -2.5625 Z M 5.078125 -2.5625 \"/>\n",
       "</symbol>\n",
       "<symbol overflow=\"visible\" id=\"glyph1-8\">\n",
       "<path style=\"stroke:none;\" d=\"M 6.078125 -2.46875 C 6.078125 -3.5 5.65625 -4.109375 4.625 -4.453125 C 5.421875 -4.765625 5.8125 -5.3125 5.8125 -6.171875 C 5.8125 -7.625 4.84375 -8.515625 3.234375 -8.515625 C 1.515625 -8.515625 0.59375 -7.578125 0.5625 -5.765625 L 1.625 -5.765625 C 1.640625 -7.015625 2.15625 -7.578125 3.234375 -7.578125 C 4.171875 -7.578125 4.734375 -7.03125 4.734375 -6.125 C 4.734375 -5.21875 4.34375 -4.84375 2.65625 -4.84375 L 2.65625 -3.953125 L 3.234375 -3.953125 C 4.390625 -3.953125 4.984375 -3.40625 4.984375 -2.453125 C 4.984375 -1.390625 4.328125 -0.75 3.234375 -0.75 C 2.078125 -0.75 1.515625 -1.328125 1.4375 -2.5625 L 0.390625 -2.5625 C 0.515625 -0.671875 1.453125 0.1875 3.1875 0.1875 C 4.9375 0.1875 6.078125 -0.859375 6.078125 -2.46875 Z M 6.078125 -2.46875 \"/>\n",
       "</symbol>\n",
       "<symbol overflow=\"visible\" id=\"glyph1-9\">\n",
       "<path style=\"stroke:none;\" d=\"M 6.234375 -7.4375 L 6.234375 -8.328125 L 0.546875 -8.328125 L 0.546875 -7.28125 L 5.140625 -7.28125 C 3.453125 -5.140625 2.25 -2.65625 1.65625 0 L 2.78125 0 C 3.25 -2.75 4.453125 -5.3125 6.234375 -7.4375 Z M 6.234375 -7.4375 \"/>\n",
       "</symbol>\n",
       "<symbol overflow=\"visible\" id=\"glyph1-10\">\n",
       "<path style=\"stroke:none;\" d=\"M 4.15625 0 L 4.15625 -8.515625 L 3.46875 -8.515625 C 3.09375 -7.203125 2.859375 -7.015625 1.21875 -6.8125 L 1.21875 -6.0625 L 3.109375 -6.0625 L 3.109375 0 Z M 4.15625 0 \"/>\n",
       "</symbol>\n",
       "<symbol overflow=\"visible\" id=\"glyph1-11\">\n",
       "<path style=\"stroke:none;\" d=\"M 6.15625 -2.40625 C 6.15625 -3.34375 5.671875 -4.015625 4.6875 -4.46875 C 5.5625 -5 5.859375 -5.4375 5.859375 -6.234375 C 5.859375 -7.578125 4.8125 -8.515625 3.296875 -8.515625 C 1.796875 -8.515625 0.75 -7.578125 0.75 -6.234375 C 0.75 -5.453125 1.03125 -5.015625 1.890625 -4.46875 C 0.921875 -4.015625 0.4375 -3.34375 0.4375 -2.40625 C 0.4375 -0.859375 1.625 0.1875 3.296875 0.1875 C 4.984375 0.1875 6.15625 -0.859375 6.15625 -2.40625 Z M 4.78125 -6.21875 C 4.78125 -5.421875 4.1875 -4.890625 3.296875 -4.890625 C 2.40625 -4.890625 1.828125 -5.421875 1.828125 -6.234375 C 1.828125 -7.046875 2.40625 -7.578125 3.296875 -7.578125 C 4.203125 -7.578125 4.78125 -7.046875 4.78125 -6.21875 Z M 5.078125 -2.390625 C 5.078125 -1.375 4.359375 -0.75 3.28125 -0.75 C 2.25 -0.75 1.53125 -1.390625 1.53125 -2.390625 C 1.53125 -3.390625 2.25 -4.015625 3.296875 -4.015625 C 4.359375 -4.015625 5.078125 -3.390625 5.078125 -2.390625 Z M 5.078125 -2.390625 \"/>\n",
       "</symbol>\n",
       "<symbol overflow=\"visible\" id=\"glyph2-0\">\n",
       "<path style=\"stroke:none;\" d=\"\"/>\n",
       "</symbol>\n",
       "<symbol overflow=\"visible\" id=\"glyph2-1\">\n",
       "<path style=\"stroke:none;\" d=\"M 5.1875 -5.03125 L 4.328125 -5.03125 L 2.09375 -1.125 L 1.65625 -5.03125 L 0.78125 -5.03125 L 1.4375 0.03125 L 0.9375 0.8125 C 0.6875 1.21875 0.53125 1.3125 0.171875 1.3125 C 0.078125 1.3125 0.015625 1.3125 -0.25 1.28125 L -0.40625 2 C -0.234375 2.078125 -0.109375 2.09375 0.0625 2.09375 C 0.75 2.09375 1.234375 1.765625 1.65625 1.0625 Z M 5.1875 -5.03125 \"/>\n",
       "</symbol>\n",
       "<symbol overflow=\"visible\" id=\"glyph2-2\">\n",
       "<path style=\"stroke:none;\" d=\"M 4.9375 -2.28125 L 4.953125 -2.40625 C 5.03125 -2.875 5.078125 -3.265625 5.078125 -3.53125 C 5.078125 -4.453125 4.28125 -5.171875 3.25 -5.171875 C 2.421875 -5.171875 1.609375 -4.78125 1.125 -4.140625 C 0.6875 -3.53125 0.328125 -2.46875 0.328125 -1.703125 C 0.328125 -0.703125 1.078125 0.140625 2.25 0.140625 C 3.390625 0.140625 4.359375 -0.484375 4.65625 -1.53125 L 3.859375 -1.53125 C 3.53125 -0.9375 3.015625 -0.59375 2.375 -0.59375 C 1.625 -0.59375 1.1875 -1.03125 1.1875 -1.84375 C 1.171875 -2 1.1875 -2.09375 1.234375 -2.28125 Z M 4.21875 -2.96875 L 1.40625 -2.96875 C 1.640625 -3.8125 2.34375 -4.4375 3.125 -4.4375 C 3.8125 -4.4375 4.234375 -3.96875 4.234375 -3.25 C 4.234375 -3.15625 4.234375 -3.09375 4.21875 -2.96875 Z M 4.21875 -2.96875 \"/>\n",
       "</symbol>\n",
       "<symbol overflow=\"visible\" id=\"glyph2-3\">\n",
       "<path style=\"stroke:none;\" d=\"M 4.265625 -1.734375 C 4.265625 -2.328125 3.953125 -2.625 3.109375 -2.84375 L 2.375 -3.015625 C 1.84375 -3.15625 1.5625 -3.34375 1.5625 -3.59375 C 1.5625 -4.09375 2.046875 -4.4375 2.765625 -4.4375 C 3.34375 -4.4375 3.65625 -4.21875 3.65625 -3.84375 C 3.65625 -3.765625 3.65625 -3.703125 3.640625 -3.625 L 4.453125 -3.625 C 4.5 -3.828125 4.515625 -3.921875 4.515625 -4.03125 C 4.515625 -4.703125 3.859375 -5.171875 2.9375 -5.171875 C 1.609375 -5.171875 0.71875 -4.40625 0.71875 -3.390625 C 0.71875 -2.796875 1.0625 -2.515625 2.046875 -2.265625 L 2.75 -2.078125 C 3.359375 -1.921875 3.421875 -1.71875 3.421875 -1.515625 C 3.421875 -0.96875 2.796875 -0.59375 2.046875 -0.59375 C 1.390625 -0.59375 1.015625 -0.859375 1.015625 -1.328125 C 1.015625 -1.390625 1.03125 -1.484375 1.03125 -1.578125 L 0.1875 -1.578125 C 0.140625 -1.359375 0.125 -1.234375 0.125 -1.078125 C 0.125 -0.3125 0.796875 0.140625 1.90625 0.140625 C 3.34375 0.140625 4.265625 -0.59375 4.265625 -1.734375 Z M 4.265625 -1.734375 \"/>\n",
       "</symbol>\n",
       "<symbol overflow=\"visible\" id=\"glyph2-4\">\n",
       "<path style=\"stroke:none;\" d=\"M 4.984375 -3.609375 C 5.015625 -3.734375 5.03125 -3.84375 5.03125 -3.96875 C 5.03125 -4.703125 4.515625 -5.171875 3.71875 -5.171875 C 3 -5.171875 2.359375 -4.90625 1.859375 -4.40625 L 1.984375 -5.03125 L 1.25 -5.03125 L 0.1875 0 L 1 0 L 1.578125 -2.765625 C 1.796875 -3.828125 2.484375 -4.484375 3.34375 -4.484375 C 3.828125 -4.484375 4.1875 -4.140625 4.1875 -3.703125 C 4.1875 -3.640625 4.15625 -3.5 4.125 -3.34375 L 3.421875 0 L 4.21875 0 Z M 4.984375 -3.609375 \"/>\n",
       "</symbol>\n",
       "<symbol overflow=\"visible\" id=\"glyph2-5\">\n",
       "<path style=\"stroke:none;\" d=\"M 5.046875 -3.375 C 5.046875 -4.390625 4.359375 -5.171875 3.203125 -5.171875 C 1.40625 -5.171875 0.296875 -3.515625 0.296875 -1.609375 C 0.296875 -0.546875 1.046875 0.140625 2.125 0.140625 C 3.859375 0.140625 5.046875 -1.375 5.046875 -3.375 Z M 4.203125 -3.1875 C 4.203125 -1.765625 3.390625 -0.59375 2.25 -0.59375 C 1.578125 -0.59375 1.140625 -1.03125 1.140625 -1.796875 C 1.140625 -3.1875 1.953125 -4.4375 3.078125 -4.4375 C 3.796875 -4.4375 4.203125 -3.96875 4.203125 -3.1875 Z M 4.203125 -3.1875 \"/>\n",
       "</symbol>\n",
       "</g>\n",
       "</defs>\n",
       "<g id=\"surface230\">\n",
       "<rect x=\"0\" y=\"0\" width=\"288\" height=\"288\" style=\"fill:rgb(100%,100%,100%);fill-opacity:1;stroke:none;\"/>\n",
       "<path style=\"fill:none;stroke-width:0.75;stroke-linecap:butt;stroke-linejoin:round;stroke:rgb(0%,0%,0%);stroke-opacity:1;stroke-miterlimit:10;\" d=\"M 73.957031 144.023438 L 129.992188 111.964844 L 144 111.964844 \"/>\n",
       "<path style=\"fill:none;stroke-width:0.75;stroke-linecap:butt;stroke-linejoin:round;stroke:rgb(0%,0%,0%);stroke-opacity:1;stroke-miterlimit:10;\" d=\"M 38.933594 170.59375 L 66.949219 144.804688 L 73.957031 144.804688 \"/>\n",
       "<path style=\"fill:none;stroke-width:0.75;stroke-linecap:butt;stroke-linejoin:round;stroke:rgb(0%,0%,0%);stroke-opacity:1;stroke-miterlimit:10;\" d=\"M 108.976562 170.59375 L 80.960938 144.804688 L 73.957031 144.804688 \"/>\n",
       "<path style=\"fill:none;stroke-width:0.75;stroke-linecap:butt;stroke-linejoin:round;stroke:rgb(0%,0%,0%);stroke-opacity:1;stroke-miterlimit:10;\" d=\"M 214.042969 144.023438 L 158.007812 111.964844 L 144 111.964844 \"/>\n",
       "<path style=\"fill:none;stroke-width:0.75;stroke-linecap:butt;stroke-linejoin:round;stroke:rgb(0%,0%,0%);stroke-opacity:1;stroke-miterlimit:10;\" d=\"M 179.023438 170.59375 L 207.039062 144.804688 L 214.042969 144.804688 \"/>\n",
       "<path style=\"fill:none;stroke-width:0.75;stroke-linecap:butt;stroke-linejoin:round;stroke:rgb(0%,0%,0%);stroke-opacity:1;stroke-miterlimit:10;\" d=\"M 249.066406 170.59375 L 221.050781 144.804688 L 214.042969 144.804688 \"/>\n",
       "<path style=\" stroke:none;fill-rule:nonzero;fill:rgb(100%,100%,100%);fill-opacity:1;\" d=\"M 120.058594 114.316406 L 120.058594 104.914062 L 167.941406 104.914062 L 167.941406 114.316406 Z M 120.058594 114.316406 \"/>\n",
       "<path style=\" stroke:none;fill-rule:nonzero;fill:rgb(100%,100%,100%);fill-opacity:1;\" d=\"M 55.628906 147.152344 L 55.628906 137.753906 L 92.28125 137.753906 L 92.28125 147.152344 Z M 55.628906 147.152344 \"/>\n",
       "<path style=\" stroke:none;fill-rule:nonzero;fill:rgb(100%,100%,100%);fill-opacity:1;\" d=\"M 195.71875 147.152344 L 195.71875 137.753906 L 232.371094 137.753906 L 232.371094 147.152344 Z M 195.71875 147.152344 \"/>\n",
       "<g style=\"fill:rgb(0%,0%,0%);fill-opacity:1;\">\n",
       "  <use xlink:href=\"#glyph0-1\" x=\"104.5\" y=\"112.613281\"/>\n",
       "  <use xlink:href=\"#glyph0-2\" x=\"111.171875\" y=\"112.613281\"/>\n",
       "  <use xlink:href=\"#glyph0-3\" x=\"118.503906\" y=\"112.613281\"/>\n",
       "  <use xlink:href=\"#glyph0-4\" x=\"125.835938\" y=\"112.613281\"/>\n",
       "  <use xlink:href=\"#glyph0-5\" x=\"129.832031\" y=\"112.613281\"/>\n",
       "  <use xlink:href=\"#glyph0-2\" x=\"134.5\" y=\"112.613281\"/>\n",
       "  <use xlink:href=\"#glyph0-6\" x=\"141.832031\" y=\"112.613281\"/>\n",
       "  <use xlink:href=\"#glyph0-7\" x=\"145.167969\" y=\"112.613281\"/>\n",
       "  <use xlink:href=\"#glyph0-8\" x=\"148.503906\" y=\"112.613281\"/>\n",
       "  <use xlink:href=\"#glyph0-9\" x=\"155.511719\" y=\"112.613281\"/>\n",
       "  <use xlink:href=\"#glyph0-7\" x=\"162.519531\" y=\"112.613281\"/>\n",
       "  <use xlink:href=\"#glyph0-10\" x=\"165.855469\" y=\"112.613281\"/>\n",
       "  <use xlink:href=\"#glyph0-11\" x=\"172.527344\" y=\"112.613281\"/>\n",
       "  <use xlink:href=\"#glyph0-12\" x=\"175.863281\" y=\"112.613281\"/>\n",
       "</g>\n",
       "<g style=\"fill:rgb(0%,0%,0%);fill-opacity:1;\">\n",
       "  <use xlink:href=\"#glyph0-13\" x=\"44.957031\" y=\"145.453125\"/>\n",
       "  <use xlink:href=\"#glyph0-14\" x=\"51.628906\" y=\"145.453125\"/>\n",
       "  <use xlink:href=\"#glyph0-15\" x=\"58.061523\" y=\"145.453125\"/>\n",
       "  <use xlink:href=\"#glyph0-7\" x=\"64.733398\" y=\"145.453125\"/>\n",
       "  <use xlink:href=\"#glyph0-8\" x=\"68.069336\" y=\"145.453125\"/>\n",
       "  <use xlink:href=\"#glyph0-9\" x=\"75.077148\" y=\"145.453125\"/>\n",
       "  <use xlink:href=\"#glyph0-7\" x=\"82.084961\" y=\"145.453125\"/>\n",
       "  <use xlink:href=\"#glyph0-10\" x=\"85.420898\" y=\"145.453125\"/>\n",
       "  <use xlink:href=\"#glyph0-11\" x=\"92.092773\" y=\"145.453125\"/>\n",
       "  <use xlink:href=\"#glyph0-12\" x=\"95.428711\" y=\"145.453125\"/>\n",
       "</g>\n",
       "<g style=\"fill:rgb(0%,0%,0%);fill-opacity:1;\">\n",
       "  <use xlink:href=\"#glyph0-13\" x=\"185.042969\" y=\"145.453125\"/>\n",
       "  <use xlink:href=\"#glyph0-14\" x=\"191.714844\" y=\"145.453125\"/>\n",
       "  <use xlink:href=\"#glyph0-15\" x=\"198.147461\" y=\"145.453125\"/>\n",
       "  <use xlink:href=\"#glyph0-7\" x=\"204.819336\" y=\"145.453125\"/>\n",
       "  <use xlink:href=\"#glyph0-8\" x=\"208.155273\" y=\"145.453125\"/>\n",
       "  <use xlink:href=\"#glyph0-9\" x=\"215.163086\" y=\"145.453125\"/>\n",
       "  <use xlink:href=\"#glyph0-7\" x=\"222.170898\" y=\"145.453125\"/>\n",
       "  <use xlink:href=\"#glyph0-10\" x=\"225.506836\" y=\"145.453125\"/>\n",
       "  <use xlink:href=\"#glyph0-11\" x=\"232.178711\" y=\"145.453125\"/>\n",
       "  <use xlink:href=\"#glyph0-12\" x=\"235.514648\" y=\"145.453125\"/>\n",
       "</g>\n",
       "<path style=\"fill-rule:nonzero;fill:rgb(100%,100%,100%);fill-opacity:1;stroke-width:0.75;stroke-linecap:round;stroke-linejoin:round;stroke:rgb(0%,0%,0%);stroke-opacity:1;stroke-miterlimit:10;\" d=\"M 22.558594 175.269531 L 22.71875 174.0625 L 23.1875 172.933594 L 23.9375 171.964844 L 24.910156 171.21875 L 26.042969 170.753906 L 27.257812 170.59375 L 50.605469 170.59375 L 51.824219 170.753906 L 52.957031 171.21875 L 53.929688 171.964844 L 54.675781 172.933594 L 55.144531 174.0625 L 55.304688 175.269531 L 55.304688 175.3125 L 55.144531 176.523438 L 54.675781 177.652344 L 53.929688 178.621094 L 52.957031 179.367188 L 51.824219 179.832031 L 50.605469 179.992188 L 27.257812 179.992188 L 26.042969 179.832031 L 24.910156 179.367188 L 23.9375 178.621094 L 23.1875 177.652344 L 22.71875 176.523438 L 22.558594 175.3125 Z M 22.558594 175.269531 \"/>\n",
       "<path style=\"fill-rule:nonzero;fill:rgb(100%,100%,100%);fill-opacity:1;stroke-width:0.75;stroke-linecap:round;stroke-linejoin:round;stroke:rgb(0%,0%,0%);stroke-opacity:1;stroke-miterlimit:10;\" d=\"M 92.605469 175.269531 L 92.765625 174.0625 L 93.234375 172.933594 L 93.980469 171.964844 L 94.953125 171.21875 L 96.085938 170.753906 L 97.304688 170.59375 L 120.652344 170.59375 L 121.867188 170.753906 L 123 171.21875 L 123.972656 171.964844 L 124.722656 172.933594 L 125.191406 174.0625 L 125.351562 175.269531 L 125.351562 175.3125 L 125.191406 176.523438 L 124.722656 177.652344 L 123.972656 178.621094 L 123 179.367188 L 121.867188 179.832031 L 120.652344 179.992188 L 97.304688 179.992188 L 96.085938 179.832031 L 94.953125 179.367188 L 93.980469 178.621094 L 93.234375 177.652344 L 92.765625 176.523438 L 92.605469 175.3125 Z M 92.605469 175.269531 \"/>\n",
       "<path style=\"fill-rule:nonzero;fill:rgb(100%,100%,100%);fill-opacity:1;stroke-width:0.75;stroke-linecap:round;stroke-linejoin:round;stroke:rgb(0%,0%,0%);stroke-opacity:1;stroke-miterlimit:10;\" d=\"M 162.648438 175.269531 L 162.808594 174.0625 L 163.277344 172.933594 L 164.027344 171.964844 L 165 171.21875 L 166.132812 170.753906 L 167.347656 170.59375 L 190.695312 170.59375 L 191.914062 170.753906 L 193.046875 171.21875 L 194.019531 171.964844 L 194.765625 172.933594 L 195.234375 174.0625 L 195.394531 175.269531 L 195.394531 175.3125 L 195.234375 176.523438 L 194.765625 177.652344 L 194.019531 178.621094 L 193.046875 179.367188 L 191.914062 179.832031 L 190.695312 179.992188 L 167.347656 179.992188 L 166.132812 179.832031 L 165 179.367188 L 164.027344 178.621094 L 163.277344 177.652344 L 162.808594 176.523438 L 162.648438 175.3125 Z M 162.648438 175.269531 \"/>\n",
       "<path style=\"fill-rule:nonzero;fill:rgb(100%,100%,100%);fill-opacity:1;stroke-width:0.75;stroke-linecap:round;stroke-linejoin:round;stroke:rgb(0%,0%,0%);stroke-opacity:1;stroke-miterlimit:10;\" d=\"M 232.695312 175.269531 L 232.855469 174.0625 L 233.324219 172.933594 L 234.070312 171.964844 L 235.042969 171.21875 L 236.175781 170.753906 L 237.394531 170.59375 L 260.742188 170.59375 L 261.957031 170.753906 L 263.089844 171.21875 L 264.0625 171.964844 L 264.8125 172.933594 L 265.28125 174.0625 L 265.441406 175.269531 L 265.441406 175.3125 L 265.28125 176.523438 L 264.8125 177.652344 L 264.0625 178.621094 L 263.089844 179.367188 L 261.957031 179.832031 L 260.742188 179.992188 L 237.394531 179.992188 L 236.175781 179.832031 L 235.042969 179.367188 L 234.070312 178.621094 L 233.324219 177.652344 L 232.855469 176.523438 L 232.695312 175.3125 Z M 232.695312 175.269531 \"/>\n",
       "<g style=\"fill:rgb(0%,0%,0%);fill-opacity:1;\">\n",
       "  <use xlink:href=\"#glyph1-1\" x=\"13.433594\" y=\"179.069336\"/>\n",
       "  <use xlink:href=\"#glyph1-2\" x=\"20.105469\" y=\"179.069336\"/>\n",
       "  <use xlink:href=\"#glyph1-3\" x=\"23.441406\" y=\"179.069336\"/>\n",
       "  <use xlink:href=\"#glyph1-4\" x=\"30.113281\" y=\"179.069336\"/>\n",
       "  <use xlink:href=\"#glyph1-1\" x=\"36.785156\" y=\"179.069336\"/>\n",
       "  <use xlink:href=\"#glyph1-5\" x=\"43.457031\" y=\"179.069336\"/>\n",
       "  <use xlink:href=\"#glyph1-6\" x=\"50.128906\" y=\"179.069336\"/>\n",
       "  <use xlink:href=\"#glyph1-7\" x=\"56.800781\" y=\"179.069336\"/>\n",
       "</g>\n",
       "<g style=\"fill:rgb(0%,0%,0%);fill-opacity:1;\">\n",
       "  <use xlink:href=\"#glyph1-1\" x=\"83.476562\" y=\"179.069336\"/>\n",
       "  <use xlink:href=\"#glyph1-2\" x=\"90.148438\" y=\"179.069336\"/>\n",
       "  <use xlink:href=\"#glyph1-8\" x=\"93.484375\" y=\"179.069336\"/>\n",
       "  <use xlink:href=\"#glyph1-1\" x=\"100.15625\" y=\"179.069336\"/>\n",
       "  <use xlink:href=\"#glyph1-3\" x=\"106.828125\" y=\"179.069336\"/>\n",
       "  <use xlink:href=\"#glyph1-9\" x=\"113.5\" y=\"179.069336\"/>\n",
       "  <use xlink:href=\"#glyph1-4\" x=\"120.171875\" y=\"179.069336\"/>\n",
       "  <use xlink:href=\"#glyph1-6\" x=\"126.84375\" y=\"179.069336\"/>\n",
       "</g>\n",
       "<g style=\"fill:rgb(0%,0%,0%);fill-opacity:1;\">\n",
       "  <use xlink:href=\"#glyph1-1\" x=\"153.523438\" y=\"179.069336\"/>\n",
       "  <use xlink:href=\"#glyph1-2\" x=\"160.195312\" y=\"179.069336\"/>\n",
       "  <use xlink:href=\"#glyph1-8\" x=\"163.53125\" y=\"179.069336\"/>\n",
       "  <use xlink:href=\"#glyph1-8\" x=\"170.203125\" y=\"179.069336\"/>\n",
       "  <use xlink:href=\"#glyph1-5\" x=\"176.875\" y=\"179.069336\"/>\n",
       "  <use xlink:href=\"#glyph1-10\" x=\"183.546875\" y=\"179.069336\"/>\n",
       "  <use xlink:href=\"#glyph1-9\" x=\"190.21875\" y=\"179.069336\"/>\n",
       "  <use xlink:href=\"#glyph1-7\" x=\"196.890625\" y=\"179.069336\"/>\n",
       "</g>\n",
       "<g style=\"fill:rgb(0%,0%,0%);fill-opacity:1;\">\n",
       "  <use xlink:href=\"#glyph1-1\" x=\"223.566406\" y=\"179.069336\"/>\n",
       "  <use xlink:href=\"#glyph1-2\" x=\"230.238281\" y=\"179.069336\"/>\n",
       "  <use xlink:href=\"#glyph1-8\" x=\"233.574219\" y=\"179.069336\"/>\n",
       "  <use xlink:href=\"#glyph1-5\" x=\"240.246094\" y=\"179.069336\"/>\n",
       "  <use xlink:href=\"#glyph1-6\" x=\"246.917969\" y=\"179.069336\"/>\n",
       "  <use xlink:href=\"#glyph1-11\" x=\"253.589844\" y=\"179.069336\"/>\n",
       "  <use xlink:href=\"#glyph1-10\" x=\"260.261719\" y=\"179.069336\"/>\n",
       "  <use xlink:href=\"#glyph1-11\" x=\"266.933594\" y=\"179.069336\"/>\n",
       "</g>\n",
       "<path style=\"fill-rule:nonzero;fill:rgb(100%,100%,100%);fill-opacity:1;stroke-width:0.75;stroke-linecap:round;stroke-linejoin:round;stroke:rgb(0%,0%,0%);stroke-opacity:1;stroke-miterlimit:10;\" d=\"M 104.976562 109.320312 L 105.007812 109.09375 L 105.09375 108.878906 L 105.234375 108.699219 L 105.417969 108.558594 L 105.628906 108.46875 L 105.855469 108.441406 L 116.660156 108.441406 L 116.890625 108.46875 L 117.101562 108.558594 L 117.285156 108.699219 L 117.425781 108.878906 L 117.511719 109.09375 L 117.542969 109.320312 L 117.542969 114.609375 L 117.511719 114.835938 L 117.425781 115.050781 L 117.285156 115.230469 L 117.101562 115.371094 L 116.890625 115.460938 L 116.660156 115.488281 L 105.855469 115.488281 L 105.628906 115.460938 L 105.417969 115.371094 L 105.234375 115.230469 L 105.09375 115.050781 L 105.007812 114.835938 L 104.976562 114.609375 Z M 104.976562 109.320312 \"/>\n",
       "<path style=\"fill-rule:nonzero;fill:rgb(100%,100%,100%);fill-opacity:1;stroke-width:0.75;stroke-linecap:round;stroke-linejoin:round;stroke:rgb(0%,0%,0%);stroke-opacity:1;stroke-miterlimit:10;\" d=\"M 170.457031 109.320312 L 170.488281 109.09375 L 170.574219 108.878906 L 170.714844 108.699219 L 170.898438 108.558594 L 171.109375 108.46875 L 171.339844 108.441406 L 182.144531 108.441406 L 182.371094 108.46875 L 182.582031 108.558594 L 182.765625 108.699219 L 182.90625 108.878906 L 182.992188 109.09375 L 183.023438 109.320312 L 183.023438 114.609375 L 182.992188 114.835938 L 182.90625 115.050781 L 182.765625 115.230469 L 182.582031 115.371094 L 182.371094 115.460938 L 182.144531 115.488281 L 171.339844 115.488281 L 171.109375 115.460938 L 170.898438 115.371094 L 170.714844 115.230469 L 170.574219 115.050781 L 170.488281 114.835938 L 170.457031 114.609375 Z M 170.457031 109.320312 \"/>\n",
       "<g style=\"fill:rgb(0%,0%,0%);fill-opacity:1;\">\n",
       "  <use xlink:href=\"#glyph2-1\" x=\"103.757812\" y=\"113.858398\"/>\n",
       "  <use xlink:href=\"#glyph2-2\" x=\"108.219727\" y=\"113.858398\"/>\n",
       "  <use xlink:href=\"#glyph2-3\" x=\"113.553711\" y=\"113.858398\"/>\n",
       "</g>\n",
       "<g style=\"fill:rgb(0%,0%,0%);fill-opacity:1;\">\n",
       "  <use xlink:href=\"#glyph2-4\" x=\"171.242188\" y=\"114.272461\"/>\n",
       "  <use xlink:href=\"#glyph2-5\" x=\"176.576172\" y=\"114.272461\"/>\n",
       "</g>\n",
       "</g>\n",
       "</svg>\n"
      ],
      "text/plain": [
       "plot without title"
      ]
     },
     "metadata": {
      "image/svg+xml": {
       "isolated": true
      }
     },
     "output_type": "display_data"
    }
   ],
   "source": [
    "prp(tree2, digits=6)"
   ]
  },
  {
   "cell_type": "code",
   "execution_count": 59,
   "metadata": {
    "collapsed": false
   },
   "outputs": [
    {
     "data": {
      "text/plain": [
       "\n",
       "Call:\n",
       "glm(formula = voting ~ sex + control, family = \"binomial\", data = data)\n",
       "\n",
       "Deviance Residuals: \n",
       "    Min       1Q   Median       3Q      Max  \n",
       "-0.9220  -0.9012  -0.8290   1.4564   1.5717  \n",
       "\n",
       "Coefficients:\n",
       "             Estimate Std. Error z value Pr(>|z|)    \n",
       "(Intercept) -0.635538   0.006511 -97.616  < 2e-16 ***\n",
       "sex         -0.055791   0.007343  -7.597 3.02e-14 ***\n",
       "control     -0.200142   0.007364 -27.179  < 2e-16 ***\n",
       "---\n",
       "Signif. codes:  0 '***' 0.001 '**' 0.01 '*' 0.05 '.' 0.1 ' ' 1\n",
       "\n",
       "(Dispersion parameter for binomial family taken to be 1)\n",
       "\n",
       "    Null deviance: 429238  on 344083  degrees of freedom\n",
       "Residual deviance: 428443  on 344081  degrees of freedom\n",
       "AIC: 428449\n",
       "\n",
       "Number of Fisher Scoring iterations: 4\n"
      ]
     },
     "execution_count": 59,
     "metadata": {},
     "output_type": "execute_result"
    }
   ],
   "source": [
    "lin1 = glm(voting ~ sex + control, data=data,\n",
    "           family='binomial')\n",
    "summary(lin1)"
   ]
  },
  {
   "cell_type": "code",
   "execution_count": 60,
   "metadata": {
    "collapsed": false
   },
   "outputs": [
    {
     "data": {
      "text/html": [
       "<dl class=dl-horizontal>\n",
       "\t<dt>1</dt>\n",
       "\t\t<dd>0.346255945755665</dd>\n",
       "\t<dt>2</dt>\n",
       "\t\t<dd>0.302445515818742</dd>\n",
       "\t<dt>3</dt>\n",
       "\t\t<dd>0.333737549855943</dd>\n",
       "\t<dt>4</dt>\n",
       "\t\t<dd>0.290806452511947</dd>\n",
       "</dl>\n"
      ],
      "text/latex": [
       "\\begin{description*}\n",
       "\\item[1] 0.346255945755665\n",
       "\\item[2] 0.302445515818742\n",
       "\\item[3] 0.333737549855943\n",
       "\\item[4] 0.290806452511947\n",
       "\\end{description*}\n"
      ],
      "text/markdown": [
       "1\n",
       ":   0.3462559457556652\n",
       ":   0.3024455158187423\n",
       ":   0.3337375498559434\n",
       ":   0.290806452511947\n",
       "\n"
      ],
      "text/plain": [
       "        1         2         3         4 \n",
       "0.3462559 0.3024455 0.3337375 0.2908065 "
      ]
     },
     "execution_count": 60,
     "metadata": {},
     "output_type": "execute_result"
    }
   ],
   "source": [
    "possib = data.frame(sex=c(0,0,1,1),\n",
    "                    control=c(0,1,0,1))\n",
    "predict(lin1, newdata=possib, type='response')"
   ]
  },
  {
   "cell_type": "code",
   "execution_count": 61,
   "metadata": {
    "collapsed": false
   },
   "outputs": [
    {
     "data": {
      "text/html": [
       "0.000350452511946986"
      ],
      "text/latex": [
       "0.000350452511946986"
      ],
      "text/markdown": [
       "0.000350452511946986"
      ],
      "text/plain": [
       "[1] 0.0003504525"
      ]
     },
     "execution_count": 61,
     "metadata": {},
     "output_type": "execute_result"
    }
   ],
   "source": [
    "abs(0.290456 - 0.290806452511947)"
   ]
  },
  {
   "cell_type": "code",
   "execution_count": 62,
   "metadata": {
    "collapsed": false
   },
   "outputs": [
    {
     "data": {
      "text/plain": [
       "\n",
       "Call:\n",
       "glm(formula = voting ~ sex + control + sex:control, family = \"binomial\", \n",
       "    data = data)\n",
       "\n",
       "Deviance Residuals: \n",
       "    Min       1Q   Median       3Q      Max  \n",
       "-0.9213  -0.9019  -0.8284   1.4573   1.5724  \n",
       "\n",
       "Coefficients:\n",
       "             Estimate Std. Error z value Pr(>|z|)    \n",
       "(Intercept) -0.637471   0.007603 -83.843  < 2e-16 ***\n",
       "sex         -0.051888   0.010801  -4.804 1.55e-06 ***\n",
       "control     -0.196553   0.010356 -18.980  < 2e-16 ***\n",
       "sex:control -0.007259   0.014729  -0.493    0.622    \n",
       "---\n",
       "Signif. codes:  0 '***' 0.001 '**' 0.01 '*' 0.05 '.' 0.1 ' ' 1\n",
       "\n",
       "(Dispersion parameter for binomial family taken to be 1)\n",
       "\n",
       "    Null deviance: 429238  on 344083  degrees of freedom\n",
       "Residual deviance: 428442  on 344080  degrees of freedom\n",
       "AIC: 428450\n",
       "\n",
       "Number of Fisher Scoring iterations: 4\n"
      ]
     },
     "execution_count": 62,
     "metadata": {},
     "output_type": "execute_result"
    }
   ],
   "source": [
    "lin2 = glm(voting ~ sex + control +\n",
    "           sex:control,\n",
    "           data=data,\n",
    "           family='binomial')\n",
    "summary(lin2)"
   ]
  },
  {
   "cell_type": "code",
   "execution_count": 64,
   "metadata": {
    "collapsed": false
   },
   "outputs": [
    {
     "data": {
      "text/html": [
       "<dl class=dl-horizontal>\n",
       "\t<dt>1</dt>\n",
       "\t\t<dd>0.345818348263972</dd>\n",
       "\t<dt>2</dt>\n",
       "\t\t<dd>0.302794706963031</dd>\n",
       "\t<dt>3</dt>\n",
       "\t\t<dd>0.334175657274619</dd>\n",
       "\t<dt>4</dt>\n",
       "\t\t<dd>0.290455779247702</dd>\n",
       "</dl>\n"
      ],
      "text/latex": [
       "\\begin{description*}\n",
       "\\item[1] 0.345818348263972\n",
       "\\item[2] 0.302794706963031\n",
       "\\item[3] 0.334175657274619\n",
       "\\item[4] 0.290455779247702\n",
       "\\end{description*}\n"
      ],
      "text/markdown": [
       "1\n",
       ":   0.3458183482639722\n",
       ":   0.3027947069630313\n",
       ":   0.3341756572746194\n",
       ":   0.290455779247702\n",
       "\n"
      ],
      "text/plain": [
       "        1         2         3         4 \n",
       "0.3458183 0.3027947 0.3341757 0.2904558 "
      ]
     },
     "execution_count": 64,
     "metadata": {},
     "output_type": "execute_result"
    }
   ],
   "source": [
    "predict(lin2, newdata=possib, type=\"response\")"
   ]
  },
  {
   "cell_type": "code",
   "execution_count": 65,
   "metadata": {
    "collapsed": false
   },
   "outputs": [
    {
     "data": {
      "text/html": [
       "2.20752297996896e-07"
      ],
      "text/latex": [
       "2.20752297996896e-07"
      ],
      "text/markdown": [
       "2.20752297996896e-07"
      ],
      "text/plain": [
       "[1] 2.207523e-07"
      ]
     },
     "execution_count": 65,
     "metadata": {},
     "output_type": "execute_result"
    }
   ],
   "source": [
    "abs(0.290456-0.290455779247702)"
   ]
  },
  {
   "cell_type": "code",
   "execution_count": null,
   "metadata": {
    "collapsed": true
   },
   "outputs": [],
   "source": []
  }
 ],
 "metadata": {
  "kernelspec": {
   "display_name": "R",
   "language": "R",
   "name": "ir"
  },
  "language_info": {
   "codemirror_mode": "r",
   "file_extension": ".r",
   "mimetype": "text/x-r-source",
   "name": "R",
   "pygments_lexer": "r",
   "version": "3.2.4"
  }
 },
 "nbformat": 4,
 "nbformat_minor": 0
}
