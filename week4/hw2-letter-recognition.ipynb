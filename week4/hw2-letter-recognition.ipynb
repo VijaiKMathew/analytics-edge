{
 "cells": [
  {
   "cell_type": "code",
   "execution_count": 1,
   "metadata": {
    "collapsed": false
   },
   "outputs": [
    {
     "data": {
      "text/html": [
       "'LC_CTYPE=C;LC_NUMERIC=C;LC_TIME=C;LC_COLLATE=C;LC_MONETARY=C;LC_MESSAGES=en_US.UTF-8;LC_PAPER=en_US.UTF-8;LC_NAME=C;LC_ADDRESS=C;LC_TELEPHONE=C;LC_MEASUREMENT=en_US.UTF-8;LC_IDENTIFICATION=C'"
      ],
      "text/latex": [
       "'LC_CTYPE=C;LC_NUMERIC=C;LC_TIME=C;LC_COLLATE=C;LC_MONETARY=C;LC_MESSAGES=en_US.UTF-8;LC_PAPER=en_US.UTF-8;LC_NAME=C;LC_ADDRESS=C;LC_TELEPHONE=C;LC_MEASUREMENT=en_US.UTF-8;LC_IDENTIFICATION=C'"
      ],
      "text/markdown": [
       "'LC_CTYPE=C;LC_NUMERIC=C;LC_TIME=C;LC_COLLATE=C;LC_MONETARY=C;LC_MESSAGES=en_US.UTF-8;LC_PAPER=en_US.UTF-8;LC_NAME=C;LC_ADDRESS=C;LC_TELEPHONE=C;LC_MEASUREMENT=en_US.UTF-8;LC_IDENTIFICATION=C'"
      ],
      "text/plain": [
       "[1] \"LC_CTYPE=C;LC_NUMERIC=C;LC_TIME=C;LC_COLLATE=C;LC_MONETARY=C;LC_MESSAGES=en_US.UTF-8;LC_PAPER=en_US.UTF-8;LC_NAME=C;LC_ADDRESS=C;LC_TELEPHONE=C;LC_MEASUREMENT=en_US.UTF-8;LC_IDENTIFICATION=C\""
      ]
     },
     "execution_count": 1,
     "metadata": {},
     "output_type": "execute_result"
    }
   ],
   "source": [
    "options(device=pdf) # turn off flashy window on each block execution\n",
    "# par(mar=c(4,4,0,1)+0.1)\n",
    "# options(repr.plot.width=6, repr.plot.height=4)\n",
    "Sys.setlocale(\"LC_ALL\", \"C\")\n",
    "initialWidth = getOption('width')\n",
    "options(width=80) # for old folks like me who can't see shit and set font large"
   ]
  },
  {
   "cell_type": "code",
   "execution_count": 6,
   "metadata": {
    "collapsed": true
   },
   "outputs": [],
   "source": [
    "library(caTools)\n",
    "letters = read.csv('data/letters_ABPR.csv.xz')\n",
    "letters$isB = as.factor(letters$letter == 'B')"
   ]
  },
  {
   "cell_type": "code",
   "execution_count": 7,
   "metadata": {
    "collapsed": true
   },
   "outputs": [],
   "source": [
    "set.seed(1000)\n",
    "spl = sample.split(letters$isB, SplitRatio = 0.5)\n",
    "train = subset(letters, spl==T)\n",
    "test = subset(letters, spl==F)"
   ]
  },
  {
   "cell_type": "code",
   "execution_count": 8,
   "metadata": {
    "collapsed": false
   },
   "outputs": [
    {
     "data": {
      "text/plain": [
       "\n",
       "FALSE  TRUE \n",
       " 2350   766 "
      ]
     },
     "execution_count": 8,
     "metadata": {},
     "output_type": "execute_result"
    }
   ],
   "source": [
    "table(letters$isB)"
   ]
  },
  {
   "cell_type": "code",
   "execution_count": 9,
   "metadata": {
    "collapsed": false
   },
   "outputs": [
    {
     "data": {
      "text/html": [
       "0.754172015404365"
      ],
      "text/latex": [
       "0.754172015404365"
      ],
      "text/markdown": [
       "0.754172015404365"
      ],
      "text/plain": [
       "[1] 0.754172"
      ]
     },
     "execution_count": 9,
     "metadata": {},
     "output_type": "execute_result"
    }
   ],
   "source": [
    "2350/nrow(letters)"
   ]
  },
  {
   "cell_type": "code",
   "execution_count": 11,
   "metadata": {
    "collapsed": false
   },
   "outputs": [],
   "source": [
    "library(rpart)\n",
    "library(rpart.plot)"
   ]
  },
  {
   "cell_type": "code",
   "execution_count": 37,
   "metadata": {
    "collapsed": false
   },
   "outputs": [
    {
     "data": {
      "text/plain": [
       "       pred\n",
       "        FALSE TRUE\n",
       "  FALSE  1118   57\n",
       "  TRUE     43  340"
      ]
     },
     "execution_count": 37,
     "metadata": {},
     "output_type": "execute_result"
    }
   ],
   "source": [
    "CARTb = rpart(isB ~ . - letter,\n",
    "              data=train, method='class')\n",
    "pred = predict(CARTb, newdata = test,\n",
    "               type='class')\n",
    "#t = table(test$isB, pred[,2] >= 0.5)\n",
    "#t\n",
    "#sum(diag(t)) / sum(t)\n",
    "\n",
    "table(test$isB, pred)"
   ]
  },
  {
   "cell_type": "code",
   "execution_count": 39,
   "metadata": {
    "collapsed": false
   },
   "outputs": [
    {
     "name": "stderr",
     "output_type": "stream",
     "text": [
      "randomForest 4.6-12\n",
      "Type rfNews() to see new features/changes/bug fixes.\n"
     ]
    }
   ],
   "source": [
    "library(randomForest)"
   ]
  },
  {
   "cell_type": "code",
   "execution_count": 40,
   "metadata": {
    "collapsed": false
   },
   "outputs": [
    {
     "data": {
      "text/plain": [
       "       pred\n",
       "        FALSE TRUE\n",
       "  FALSE  1164   11\n",
       "  TRUE     11  372"
      ]
     },
     "execution_count": 40,
     "metadata": {},
     "output_type": "execute_result"
    },
    {
     "data": {
      "text/html": [
       "0.985879332477535"
      ],
      "text/latex": [
       "0.985879332477535"
      ],
      "text/markdown": [
       "0.985879332477535"
      ],
      "text/plain": [
       "[1] 0.9858793"
      ]
     },
     "execution_count": 40,
     "metadata": {},
     "output_type": "execute_result"
    }
   ],
   "source": [
    "forest = randomForest(isB ~ . - letter,\n",
    "                      data=train)\n",
    "pred = predict(forest, newdata = test)\n",
    "t = table(test$isB, pred)\n",
    "t\n",
    "sum(diag(t))/sum(t)"
   ]
  },
  {
   "cell_type": "code",
   "execution_count": 41,
   "metadata": {
    "collapsed": true
   },
   "outputs": [],
   "source": [
    "letters$letter = as.factor(letters$letter)"
   ]
  },
  {
   "cell_type": "code",
   "execution_count": 53,
   "metadata": {
    "collapsed": true
   },
   "outputs": [],
   "source": [
    "set.seed(2000)\n",
    "spl = sample.split(letters$letter,\n",
    "                   SplitRatio = 0.5)\n",
    "train2 = subset(letters, spl==T)\n",
    "test2 = subset(letters, spl==F)"
   ]
  },
  {
   "cell_type": "code",
   "execution_count": 54,
   "metadata": {
    "collapsed": false
   },
   "outputs": [
    {
     "data": {
      "text/plain": [
       "\n",
       "  A   B   P   R \n",
       "789 766 803 758 "
      ]
     },
     "execution_count": 54,
     "metadata": {},
     "output_type": "execute_result"
    }
   ],
   "source": [
    "table(letters$letter)"
   ]
  },
  {
   "cell_type": "code",
   "execution_count": 55,
   "metadata": {
    "collapsed": false
   },
   "outputs": [
    {
     "data": {
      "text/html": [
       "0.257702182284981"
      ],
      "text/latex": [
       "0.257702182284981"
      ],
      "text/markdown": [
       "0.257702182284981"
      ],
      "text/plain": [
       "[1] 0.2577022"
      ]
     },
     "execution_count": 55,
     "metadata": {},
     "output_type": "execute_result"
    }
   ],
   "source": [
    "t = table(letters$letter)\n",
    "max(t)/sum(t)"
   ]
  },
  {
   "cell_type": "code",
   "execution_count": 56,
   "metadata": {
    "collapsed": false
   },
   "outputs": [
    {
     "data": {
      "text/plain": [
       "   pred\n",
       "      A   B   P   R\n",
       "  A 348   4   0  43\n",
       "  B   8 318  12  45\n",
       "  P   2  21 363  15\n",
       "  R  10  24   5 340"
      ]
     },
     "execution_count": 56,
     "metadata": {},
     "output_type": "execute_result"
    },
    {
     "data": {
      "text/html": [
       "0.878690629011553"
      ],
      "text/latex": [
       "0.878690629011553"
      ],
      "text/markdown": [
       "0.878690629011553"
      ],
      "text/plain": [
       "[1] 0.8786906"
      ]
     },
     "execution_count": 56,
     "metadata": {},
     "output_type": "execute_result"
    }
   ],
   "source": [
    "tree = rpart(letter ~ . - isB,\n",
    "             data=train2, method='class')\n",
    "pred = predict(tree, newdata = test2,\n",
    "               type='class')\n",
    "t = table(test2$letter, pred)\n",
    "t\n",
    "sum(diag(t)) / sum(t)"
   ]
  },
  {
   "cell_type": "code",
   "execution_count": 59,
   "metadata": {
    "collapsed": false
   },
   "outputs": [
    {
     "data": {
      "text/plain": [
       "   pred\n",
       "      A   B   P   R\n",
       "  A 390   0   3   2\n",
       "  B   0 380   1   2\n",
       "  P   0   5 393   3\n",
       "  R   3  12   0 364"
      ]
     },
     "execution_count": 59,
     "metadata": {},
     "output_type": "execute_result"
    },
    {
     "data": {
      "text/html": [
       "0.9801026957638"
      ],
      "text/latex": [
       "0.9801026957638"
      ],
      "text/markdown": [
       "0.9801026957638"
      ],
      "text/plain": [
       "[1] 0.9801027"
      ]
     },
     "execution_count": 59,
     "metadata": {},
     "output_type": "execute_result"
    }
   ],
   "source": [
    "set.seed(1000)\n",
    "forest = randomForest(letter ~ . - isB,\n",
    "                      data=train2)\n",
    "pred = predict(forest, newdata = test2)\n",
    "t = table(test2$letter, pred)\n",
    "t\n",
    "sum(diag(t))/sum(t)"
   ]
  },
  {
   "cell_type": "code",
   "execution_count": null,
   "metadata": {
    "collapsed": true
   },
   "outputs": [],
   "source": []
  }
 ],
 "metadata": {
  "kernelspec": {
   "display_name": "R",
   "language": "R",
   "name": "ir"
  },
  "language_info": {
   "codemirror_mode": "r",
   "file_extension": ".r",
   "mimetype": "text/x-r-source",
   "name": "R",
   "pygments_lexer": "r",
   "version": "3.2.4"
  }
 },
 "nbformat": 4,
 "nbformat_minor": 0
}
