{
 "cells": [
  {
   "cell_type": "code",
   "execution_count": 1,
   "metadata": {
    "collapsed": false
   },
   "outputs": [
    {
     "data": {
      "text/html": [
       "'LC_CTYPE=C;LC_NUMERIC=C;LC_TIME=C;LC_COLLATE=C;LC_MONETARY=C;LC_MESSAGES=en_US.UTF-8;LC_PAPER=en_US.UTF-8;LC_NAME=C;LC_ADDRESS=C;LC_TELEPHONE=C;LC_MEASUREMENT=en_US.UTF-8;LC_IDENTIFICATION=C'"
      ],
      "text/latex": [
       "'LC_CTYPE=C;LC_NUMERIC=C;LC_TIME=C;LC_COLLATE=C;LC_MONETARY=C;LC_MESSAGES=en_US.UTF-8;LC_PAPER=en_US.UTF-8;LC_NAME=C;LC_ADDRESS=C;LC_TELEPHONE=C;LC_MEASUREMENT=en_US.UTF-8;LC_IDENTIFICATION=C'"
      ],
      "text/markdown": [
       "'LC_CTYPE=C;LC_NUMERIC=C;LC_TIME=C;LC_COLLATE=C;LC_MONETARY=C;LC_MESSAGES=en_US.UTF-8;LC_PAPER=en_US.UTF-8;LC_NAME=C;LC_ADDRESS=C;LC_TELEPHONE=C;LC_MEASUREMENT=en_US.UTF-8;LC_IDENTIFICATION=C'"
      ],
      "text/plain": [
       "[1] \"LC_CTYPE=C;LC_NUMERIC=C;LC_TIME=C;LC_COLLATE=C;LC_MONETARY=C;LC_MESSAGES=en_US.UTF-8;LC_PAPER=en_US.UTF-8;LC_NAME=C;LC_ADDRESS=C;LC_TELEPHONE=C;LC_MEASUREMENT=en_US.UTF-8;LC_IDENTIFICATION=C\""
      ]
     },
     "execution_count": 1,
     "metadata": {},
     "output_type": "execute_result"
    }
   ],
   "source": [
    "options(device=pdf)\n",
    "Sys.setlocale(\"LC_ALL\", \"C\")"
   ]
  },
  {
   "cell_type": "code",
   "execution_count": 2,
   "metadata": {
    "collapsed": false
   },
   "outputs": [
    {
     "data": {
      "text/html": [
       "3.51188458428425"
      ],
      "text/latex": [
       "3.51188458428425"
      ],
      "text/markdown": [
       "3.51188458428425"
      ],
      "text/plain": [
       "[1] 3.511885"
      ]
     },
     "execution_count": 2,
     "metadata": {},
     "output_type": "execute_result"
    }
   ],
   "source": [
    "sd(c(5,8,12))"
   ]
  },
  {
   "cell_type": "code",
   "execution_count": 3,
   "metadata": {
    "collapsed": false
   },
   "outputs": [
    {
     "data": {
      "text/html": [
       "2"
      ],
      "text/latex": [
       "2"
      ],
      "text/markdown": [
       "2"
      ],
      "text/plain": [
       "[1] 2"
      ]
     },
     "execution_count": 3,
     "metadata": {},
     "output_type": "execute_result"
    }
   ],
   "source": [
    "which.min(c(4,1,6))"
   ]
  },
  {
   "cell_type": "code",
   "execution_count": 4,
   "metadata": {
    "collapsed": false
   },
   "outputs": [
    {
     "data": {
      "text/html": [
       "'LC_CTYPE=C;LC_NUMERIC=C;LC_TIME=C;LC_COLLATE=C;LC_MONETARY=C;LC_MESSAGES=en_US.UTF-8;LC_PAPER=en_US.UTF-8;LC_NAME=C;LC_ADDRESS=C;LC_TELEPHONE=C;LC_MEASUREMENT=en_US.UTF-8;LC_IDENTIFICATION=C'"
      ],
      "text/latex": [
       "'LC_CTYPE=C;LC_NUMERIC=C;LC_TIME=C;LC_COLLATE=C;LC_MONETARY=C;LC_MESSAGES=en_US.UTF-8;LC_PAPER=en_US.UTF-8;LC_NAME=C;LC_ADDRESS=C;LC_TELEPHONE=C;LC_MEASUREMENT=en_US.UTF-8;LC_IDENTIFICATION=C'"
      ],
      "text/markdown": [
       "'LC_CTYPE=C;LC_NUMERIC=C;LC_TIME=C;LC_COLLATE=C;LC_MONETARY=C;LC_MESSAGES=en_US.UTF-8;LC_PAPER=en_US.UTF-8;LC_NAME=C;LC_ADDRESS=C;LC_TELEPHONE=C;LC_MEASUREMENT=en_US.UTF-8;LC_IDENTIFICATION=C'"
      ],
      "text/plain": [
       "[1] \"LC_CTYPE=C;LC_NUMERIC=C;LC_TIME=C;LC_COLLATE=C;LC_MONETARY=C;LC_MESSAGES=en_US.UTF-8;LC_PAPER=en_US.UTF-8;LC_NAME=C;LC_ADDRESS=C;LC_TELEPHONE=C;LC_MEASUREMENT=en_US.UTF-8;LC_IDENTIFICATION=C\""
      ]
     },
     "execution_count": 4,
     "metadata": {},
     "output_type": "execute_result"
    }
   ],
   "source": [
    "Sys.setlocale(\"LC_ALL\", \"C\")"
   ]
  },
  {
   "cell_type": "code",
   "execution_count": 5,
   "metadata": {
    "collapsed": false
   },
   "outputs": [
    {
     "data": {
      "text/html": [
       "<dl class=dl-horizontal>\n",
       "\t<dt>IRkernel</dt>\n",
       "\t\t<dd>'0.5'</dd>\n",
       "\t<dt>IRdisplay</dt>\n",
       "\t\t<dd>'0.3'</dd>\n",
       "\t<dt>repr</dt>\n",
       "\t\t<dd>'0.4'</dd>\n",
       "</dl>\n"
      ],
      "text/latex": [
       "\\begin{description*}\n",
       "\\item[IRkernel] '0.5'\n",
       "\\item[IRdisplay] '0.3'\n",
       "\\item[repr] '0.4'\n",
       "\\end{description*}\n"
      ],
      "text/markdown": [
       "IRkernel\n",
       ":   '0.5'IRdisplay\n",
       ":   '0.3'repr\n",
       ":   '0.4'\n",
       "\n"
      ],
      "text/plain": [
       " IRkernel IRdisplay      repr \n",
       "    \"0.5\"     \"0.3\"     \"0.4\" "
      ]
     },
     "execution_count": 5,
     "metadata": {},
     "output_type": "execute_result"
    }
   ],
   "source": [
    "sapply(c('IRkernel', 'IRdisplay', 'repr'), function(p) as.character(packageVersion(p)))"
   ]
  },
  {
   "cell_type": "code",
   "execution_count": 6,
   "metadata": {
    "collapsed": false
   },
   "outputs": [
    {
     "data": {
      "text/html": [
       "<ol class=list-inline>\n",
       "\t<li>2</li>\n",
       "\t<li>3</li>\n",
       "\t<li>5</li>\n",
       "\t<li>8</li>\n",
       "\t<li>13</li>\n",
       "</ol>\n"
      ],
      "text/latex": [
       "\\begin{enumerate*}\n",
       "\\item 2\n",
       "\\item 3\n",
       "\\item 5\n",
       "\\item 8\n",
       "\\item 13\n",
       "\\end{enumerate*}\n"
      ],
      "text/markdown": [
       "1. 2\n",
       "2. 3\n",
       "3. 5\n",
       "4. 8\n",
       "5. 13\n",
       "\n",
       "\n"
      ],
      "text/plain": [
       "[1]  2  3  5  8 13"
      ]
     },
     "execution_count": 6,
     "metadata": {},
     "output_type": "execute_result"
    }
   ],
   "source": [
    "c(2,3,5,8,13)"
   ]
  },
  {
   "cell_type": "code",
   "execution_count": 7,
   "metadata": {
    "collapsed": false
   },
   "outputs": [
    {
     "data": {
      "text/html": [
       "<ol class=list-inline>\n",
       "\t<li>'Brazil'</li>\n",
       "\t<li>'China'</li>\n",
       "\t<li>'India'</li>\n",
       "\t<li>'Switzerland'</li>\n",
       "\t<li>'USA'</li>\n",
       "</ol>\n"
      ],
      "text/latex": [
       "\\begin{enumerate*}\n",
       "\\item 'Brazil'\n",
       "\\item 'China'\n",
       "\\item 'India'\n",
       "\\item 'Switzerland'\n",
       "\\item 'USA'\n",
       "\\end{enumerate*}\n"
      ],
      "text/markdown": [
       "1. 'Brazil'\n",
       "2. 'China'\n",
       "3. 'India'\n",
       "4. 'Switzerland'\n",
       "5. 'USA'\n",
       "\n",
       "\n"
      ],
      "text/plain": [
       "[1] \"Brazil\"      \"China\"       \"India\"       \"Switzerland\" \"USA\"        "
      ]
     },
     "execution_count": 7,
     "metadata": {},
     "output_type": "execute_result"
    }
   ],
   "source": [
    "Country = c('Brazil', 'China', 'India', 'Switzerland', 'USA')\n",
    "LifeExpectancy = c(74,76,65,83,79)\n",
    "Country"
   ]
  },
  {
   "cell_type": "code",
   "execution_count": 8,
   "metadata": {
    "collapsed": false
   },
   "outputs": [
    {
     "data": {
      "text/html": [
       "<ol class=list-inline>\n",
       "\t<li>74</li>\n",
       "\t<li>76</li>\n",
       "\t<li>65</li>\n",
       "\t<li>83</li>\n",
       "\t<li>79</li>\n",
       "</ol>\n"
      ],
      "text/latex": [
       "\\begin{enumerate*}\n",
       "\\item 74\n",
       "\\item 76\n",
       "\\item 65\n",
       "\\item 83\n",
       "\\item 79\n",
       "\\end{enumerate*}\n"
      ],
      "text/markdown": [
       "1. 74\n",
       "2. 76\n",
       "3. 65\n",
       "4. 83\n",
       "5. 79\n",
       "\n",
       "\n"
      ],
      "text/plain": [
       "[1] 74 76 65 83 79"
      ]
     },
     "execution_count": 8,
     "metadata": {},
     "output_type": "execute_result"
    }
   ],
   "source": [
    "LifeExpectancy"
   ]
  },
  {
   "cell_type": "code",
   "execution_count": 9,
   "metadata": {
    "collapsed": false
   },
   "outputs": [
    {
     "data": {
      "text/html": [
       "'Brazil'"
      ],
      "text/latex": [
       "'Brazil'"
      ],
      "text/markdown": [
       "'Brazil'"
      ],
      "text/plain": [
       "[1] \"Brazil\""
      ]
     },
     "execution_count": 9,
     "metadata": {},
     "output_type": "execute_result"
    }
   ],
   "source": [
    "Country[1]"
   ]
  },
  {
   "cell_type": "code",
   "execution_count": 10,
   "metadata": {
    "collapsed": false
   },
   "outputs": [
    {
     "data": {
      "text/html": [
       "65"
      ],
      "text/latex": [
       "65"
      ],
      "text/markdown": [
       "65"
      ],
      "text/plain": [
       "[1] 65"
      ]
     },
     "execution_count": 10,
     "metadata": {},
     "output_type": "execute_result"
    }
   ],
   "source": [
    "LifeExpectancy[3]"
   ]
  },
  {
   "cell_type": "code",
   "execution_count": 11,
   "metadata": {
    "collapsed": false
   },
   "outputs": [
    {
     "data": {
      "text/html": [
       "<ol class=list-inline>\n",
       "\t<li>0</li>\n",
       "\t<li>2</li>\n",
       "\t<li>4</li>\n",
       "\t<li>6</li>\n",
       "\t<li>8</li>\n",
       "\t<li>10</li>\n",
       "\t<li>12</li>\n",
       "\t<li>14</li>\n",
       "\t<li>16</li>\n",
       "\t<li>18</li>\n",
       "\t<li>20</li>\n",
       "\t<li>22</li>\n",
       "\t<li>24</li>\n",
       "\t<li>26</li>\n",
       "\t<li>28</li>\n",
       "\t<li>30</li>\n",
       "\t<li>32</li>\n",
       "\t<li>34</li>\n",
       "\t<li>36</li>\n",
       "\t<li>38</li>\n",
       "\t<li>40</li>\n",
       "\t<li>42</li>\n",
       "\t<li>44</li>\n",
       "\t<li>46</li>\n",
       "\t<li>48</li>\n",
       "\t<li>50</li>\n",
       "\t<li>52</li>\n",
       "\t<li>54</li>\n",
       "\t<li>56</li>\n",
       "\t<li>58</li>\n",
       "\t<li>60</li>\n",
       "\t<li>62</li>\n",
       "\t<li>64</li>\n",
       "\t<li>66</li>\n",
       "\t<li>68</li>\n",
       "\t<li>70</li>\n",
       "\t<li>72</li>\n",
       "\t<li>74</li>\n",
       "\t<li>76</li>\n",
       "\t<li>78</li>\n",
       "\t<li>80</li>\n",
       "\t<li>82</li>\n",
       "\t<li>84</li>\n",
       "\t<li>86</li>\n",
       "\t<li>88</li>\n",
       "\t<li>90</li>\n",
       "\t<li>92</li>\n",
       "\t<li>94</li>\n",
       "\t<li>96</li>\n",
       "\t<li>98</li>\n",
       "\t<li>100</li>\n",
       "</ol>\n"
      ],
      "text/latex": [
       "\\begin{enumerate*}\n",
       "\\item 0\n",
       "\\item 2\n",
       "\\item 4\n",
       "\\item 6\n",
       "\\item 8\n",
       "\\item 10\n",
       "\\item 12\n",
       "\\item 14\n",
       "\\item 16\n",
       "\\item 18\n",
       "\\item 20\n",
       "\\item 22\n",
       "\\item 24\n",
       "\\item 26\n",
       "\\item 28\n",
       "\\item 30\n",
       "\\item 32\n",
       "\\item 34\n",
       "\\item 36\n",
       "\\item 38\n",
       "\\item 40\n",
       "\\item 42\n",
       "\\item 44\n",
       "\\item 46\n",
       "\\item 48\n",
       "\\item 50\n",
       "\\item 52\n",
       "\\item 54\n",
       "\\item 56\n",
       "\\item 58\n",
       "\\item 60\n",
       "\\item 62\n",
       "\\item 64\n",
       "\\item 66\n",
       "\\item 68\n",
       "\\item 70\n",
       "\\item 72\n",
       "\\item 74\n",
       "\\item 76\n",
       "\\item 78\n",
       "\\item 80\n",
       "\\item 82\n",
       "\\item 84\n",
       "\\item 86\n",
       "\\item 88\n",
       "\\item 90\n",
       "\\item 92\n",
       "\\item 94\n",
       "\\item 96\n",
       "\\item 98\n",
       "\\item 100\n",
       "\\end{enumerate*}\n"
      ],
      "text/markdown": [
       "1. 0\n",
       "2. 2\n",
       "3. 4\n",
       "4. 6\n",
       "5. 8\n",
       "6. 10\n",
       "7. 12\n",
       "8. 14\n",
       "9. 16\n",
       "10. 18\n",
       "11. 20\n",
       "12. 22\n",
       "13. 24\n",
       "14. 26\n",
       "15. 28\n",
       "16. 30\n",
       "17. 32\n",
       "18. 34\n",
       "19. 36\n",
       "20. 38\n",
       "21. 40\n",
       "22. 42\n",
       "23. 44\n",
       "24. 46\n",
       "25. 48\n",
       "26. 50\n",
       "27. 52\n",
       "28. 54\n",
       "29. 56\n",
       "30. 58\n",
       "31. 60\n",
       "32. 62\n",
       "33. 64\n",
       "34. 66\n",
       "35. 68\n",
       "36. 70\n",
       "37. 72\n",
       "38. 74\n",
       "39. 76\n",
       "40. 78\n",
       "41. 80\n",
       "42. 82\n",
       "43. 84\n",
       "44. 86\n",
       "45. 88\n",
       "46. 90\n",
       "47. 92\n",
       "48. 94\n",
       "49. 96\n",
       "50. 98\n",
       "51. 100\n",
       "\n",
       "\n"
      ],
      "text/plain": [
       " [1]   0   2   4   6   8  10  12  14  16  18  20  22  24  26  28  30  32  34  36  38  40  42  44\n",
       "[24]  46  48  50  52  54  56  58  60  62  64  66  68  70  72  74  76  78  80  82  84  86  88  90\n",
       "[47]  92  94  96  98 100"
      ]
     },
     "execution_count": 11,
     "metadata": {},
     "output_type": "execute_result"
    }
   ],
   "source": [
    "seq(0, 100, 2)"
   ]
  },
  {
   "cell_type": "code",
   "execution_count": 12,
   "metadata": {
    "collapsed": true
   },
   "outputs": [],
   "source": [
    "CountryData = data.frame(Country, LifeExpectancy)"
   ]
  },
  {
   "cell_type": "code",
   "execution_count": 13,
   "metadata": {
    "collapsed": false
   },
   "outputs": [
    {
     "data": {
      "text/html": [
       "<table>\n",
       "<thead><tr><th></th><th scope=col>Country</th><th scope=col>LifeExpectancy</th></tr></thead>\n",
       "<tbody>\n",
       "\t<tr><th scope=row>1</th><td>Brazil</td><td>74</td></tr>\n",
       "\t<tr><th scope=row>2</th><td>China</td><td>76</td></tr>\n",
       "\t<tr><th scope=row>3</th><td>India</td><td>65</td></tr>\n",
       "\t<tr><th scope=row>4</th><td>Switzerland</td><td>83</td></tr>\n",
       "\t<tr><th scope=row>5</th><td>USA</td><td>79</td></tr>\n",
       "</tbody>\n",
       "</table>\n"
      ],
      "text/latex": [
       "\\begin{tabular}{r|ll}\n",
       "  & Country & LifeExpectancy\\\\\n",
       "\\hline\n",
       "\t1 & Brazil & 74\\\\\n",
       "\t2 & China & 76\\\\\n",
       "\t3 & India & 65\\\\\n",
       "\t4 & Switzerland & 83\\\\\n",
       "\t5 & USA & 79\\\\\n",
       "\\end{tabular}\n"
      ],
      "text/plain": [
       "      Country LifeExpectancy\n",
       "1      Brazil             74\n",
       "2       China             76\n",
       "3       India             65\n",
       "4 Switzerland             83\n",
       "5         USA             79"
      ]
     },
     "execution_count": 13,
     "metadata": {},
     "output_type": "execute_result"
    }
   ],
   "source": [
    "CountryData"
   ]
  },
  {
   "cell_type": "code",
   "execution_count": 14,
   "metadata": {
    "collapsed": false
   },
   "outputs": [],
   "source": [
    "CountryData$Population = c(199000, 1390000, 1240000, 7997, 318000)"
   ]
  },
  {
   "cell_type": "code",
   "execution_count": 15,
   "metadata": {
    "collapsed": false
   },
   "outputs": [
    {
     "data": {
      "text/html": [
       "<table>\n",
       "<thead><tr><th></th><th scope=col>Country</th><th scope=col>LifeExpectancy</th><th scope=col>Population</th></tr></thead>\n",
       "<tbody>\n",
       "\t<tr><th scope=row>1</th><td>Brazil</td><td>74</td><td>199000</td></tr>\n",
       "\t<tr><th scope=row>2</th><td>China</td><td>76</td><td>1390000</td></tr>\n",
       "\t<tr><th scope=row>3</th><td>India</td><td>65</td><td>1240000</td></tr>\n",
       "\t<tr><th scope=row>4</th><td>Switzerland</td><td>83</td><td>7997</td></tr>\n",
       "\t<tr><th scope=row>5</th><td>USA</td><td>79</td><td>318000</td></tr>\n",
       "</tbody>\n",
       "</table>\n"
      ],
      "text/latex": [
       "\\begin{tabular}{r|lll}\n",
       "  & Country & LifeExpectancy & Population\\\\\n",
       "\\hline\n",
       "\t1 & Brazil & 74 & 199000\\\\\n",
       "\t2 & China & 76 & 1390000\\\\\n",
       "\t3 & India & 65 & 1240000\\\\\n",
       "\t4 & Switzerland & 83 & 7997\\\\\n",
       "\t5 & USA & 79 & 318000\\\\\n",
       "\\end{tabular}\n"
      ],
      "text/plain": [
       "      Country LifeExpectancy Population\n",
       "1      Brazil             74     199000\n",
       "2       China             76    1390000\n",
       "3       India             65    1240000\n",
       "4 Switzerland             83       7997\n",
       "5         USA             79     318000"
      ]
     },
     "execution_count": 15,
     "metadata": {},
     "output_type": "execute_result"
    }
   ],
   "source": [
    "CountryData"
   ]
  },
  {
   "cell_type": "code",
   "execution_count": 16,
   "metadata": {
    "collapsed": true
   },
   "outputs": [],
   "source": [
    "Country = c('Australia', 'Greece')\n",
    "LifeExpectancy = c(82, 81)\n",
    "Population = c(23050, 11125)\n",
    "NewCountryData = data.frame(Country, LifeExpectancy, Population)"
   ]
  },
  {
   "cell_type": "code",
   "execution_count": 17,
   "metadata": {
    "collapsed": false
   },
   "outputs": [
    {
     "data": {
      "text/html": [
       "<table>\n",
       "<thead><tr><th></th><th scope=col>Country</th><th scope=col>LifeExpectancy</th><th scope=col>Population</th></tr></thead>\n",
       "<tbody>\n",
       "\t<tr><th scope=row>1</th><td>Australia</td><td>82</td><td>23050</td></tr>\n",
       "\t<tr><th scope=row>2</th><td>Greece</td><td>81</td><td>11125</td></tr>\n",
       "</tbody>\n",
       "</table>\n"
      ],
      "text/latex": [
       "\\begin{tabular}{r|lll}\n",
       "  & Country & LifeExpectancy & Population\\\\\n",
       "\\hline\n",
       "\t1 & Australia & 82 & 23050\\\\\n",
       "\t2 & Greece & 81 & 11125\\\\\n",
       "\\end{tabular}\n"
      ],
      "text/plain": [
       "    Country LifeExpectancy Population\n",
       "1 Australia             82      23050\n",
       "2    Greece             81      11125"
      ]
     },
     "execution_count": 17,
     "metadata": {},
     "output_type": "execute_result"
    }
   ],
   "source": [
    "NewCountryData"
   ]
  },
  {
   "cell_type": "code",
   "execution_count": 18,
   "metadata": {
    "collapsed": false
   },
   "outputs": [
    {
     "data": {
      "text/html": [
       "<table>\n",
       "<thead><tr><th></th><th scope=col>Country</th><th scope=col>LifeExpectancy</th><th scope=col>Population</th></tr></thead>\n",
       "<tbody>\n",
       "\t<tr><th scope=row>1</th><td>Brazil</td><td>74</td><td>199000</td></tr>\n",
       "\t<tr><th scope=row>2</th><td>China</td><td>76</td><td>1390000</td></tr>\n",
       "\t<tr><th scope=row>3</th><td>India</td><td>65</td><td>1240000</td></tr>\n",
       "\t<tr><th scope=row>4</th><td>Switzerland</td><td>83</td><td>7997</td></tr>\n",
       "\t<tr><th scope=row>5</th><td>USA</td><td>79</td><td>318000</td></tr>\n",
       "\t<tr><th scope=row>6</th><td>Australia</td><td>82</td><td>23050</td></tr>\n",
       "\t<tr><th scope=row>7</th><td>Greece</td><td>81</td><td>11125</td></tr>\n",
       "</tbody>\n",
       "</table>\n"
      ],
      "text/latex": [
       "\\begin{tabular}{r|lll}\n",
       "  & Country & LifeExpectancy & Population\\\\\n",
       "\\hline\n",
       "\t1 & Brazil & 74 & 199000\\\\\n",
       "\t2 & China & 76 & 1390000\\\\\n",
       "\t3 & India & 65 & 1240000\\\\\n",
       "\t4 & Switzerland & 83 & 7997\\\\\n",
       "\t5 & USA & 79 & 318000\\\\\n",
       "\t6 & Australia & 82 & 23050\\\\\n",
       "\t7 & Greece & 81 & 11125\\\\\n",
       "\\end{tabular}\n"
      ],
      "text/plain": [
       "      Country LifeExpectancy Population\n",
       "1      Brazil             74     199000\n",
       "2       China             76    1390000\n",
       "3       India             65    1240000\n",
       "4 Switzerland             83       7997\n",
       "5         USA             79     318000\n",
       "6   Australia             82      23050\n",
       "7      Greece             81      11125"
      ]
     },
     "execution_count": 18,
     "metadata": {},
     "output_type": "execute_result"
    }
   ],
   "source": [
    "AllCountryData = rbind(CountryData, NewCountryData)\n",
    "AllCountryData"
   ]
  },
  {
   "cell_type": "code",
   "execution_count": 19,
   "metadata": {
    "collapsed": false
   },
   "outputs": [
    {
     "data": {
      "text/html": [
       "'/mnt/big_ext4/btsync/prg/analytics-edge/week1'"
      ],
      "text/latex": [
       "'/mnt/big_ext4/btsync/prg/analytics-edge/week1'"
      ],
      "text/markdown": [
       "'/mnt/big_ext4/btsync/prg/analytics-edge/week1'"
      ],
      "text/plain": [
       "[1] \"/mnt/big_ext4/btsync/prg/analytics-edge/week1\""
      ]
     },
     "execution_count": 19,
     "metadata": {},
     "output_type": "execute_result"
    }
   ],
   "source": [
    "getwd()"
   ]
  },
  {
   "cell_type": "code",
   "execution_count": 20,
   "metadata": {
    "collapsed": true
   },
   "outputs": [],
   "source": [
    "WHO = read.csv('data/WHO.csv')"
   ]
  },
  {
   "cell_type": "code",
   "execution_count": 21,
   "metadata": {
    "collapsed": false
   },
   "outputs": [
    {
     "name": "stdout",
     "output_type": "stream",
     "text": [
      "'data.frame':\t194 obs. of  13 variables:\n",
      " $ Country                      : Factor w/ 194 levels \"Afghanistan\",..: 1 2 3 4 5 6 7 8 9 10 ...\n",
      " $ Region                       : Factor w/ 6 levels \"Africa\",\"Americas\",..: 3 4 1 4 1 2 2 4 6 4 ...\n",
      " $ Population                   : int  29825 3162 38482 78 20821 89 41087 2969 23050 8464 ...\n",
      " $ Under15                      : num  47.4 21.3 27.4 15.2 47.6 ...\n",
      " $ Over60                       : num  3.82 14.93 7.17 22.86 3.84 ...\n",
      " $ FertilityRate                : num  5.4 1.75 2.83 NA 6.1 2.12 2.2 1.74 1.89 1.44 ...\n",
      " $ LifeExpectancy               : int  60 74 73 82 51 75 76 71 82 81 ...\n",
      " $ ChildMortality               : num  98.5 16.7 20 3.2 163.5 ...\n",
      " $ CellularSubscribers          : num  54.3 96.4 99 75.5 48.4 ...\n",
      " $ LiteracyRate                 : num  NA NA NA NA 70.1 99 97.8 99.6 NA NA ...\n",
      " $ GNI                          : num  1140 8820 8310 NA 5230 ...\n",
      " $ PrimarySchoolEnrollmentMale  : num  NA NA 98.2 78.4 93.1 91.1 NA NA 96.9 NA ...\n",
      " $ PrimarySchoolEnrollmentFemale: num  NA NA 96.4 79.4 78.2 84.5 NA NA 97.5 NA ...\n"
     ]
    }
   ],
   "source": [
    "str(WHO)"
   ]
  },
  {
   "cell_type": "code",
   "execution_count": 22,
   "metadata": {
    "collapsed": false
   },
   "outputs": [
    {
     "data": {
      "text/plain": [
       "                Country                      Region     Population         Under15     \n",
       " Afghanistan        :  1   Africa               :46   Min.   :      1   Min.   :13.12  \n",
       " Albania            :  1   Americas             :35   1st Qu.:   1696   1st Qu.:18.72  \n",
       " Algeria            :  1   Eastern Mediterranean:22   Median :   7790   Median :28.65  \n",
       " Andorra            :  1   Europe               :53   Mean   :  36360   Mean   :28.73  \n",
       " Angola             :  1   South-East Asia      :11   3rd Qu.:  24535   3rd Qu.:37.75  \n",
       " Antigua and Barbuda:  1   Western Pacific      :27   Max.   :1390000   Max.   :49.99  \n",
       " (Other)            :188                                                               \n",
       "     Over60      FertilityRate   LifeExpectancy  ChildMortality    CellularSubscribers\n",
       " Min.   : 0.81   Min.   :1.260   Min.   :47.00   Min.   :  2.200   Min.   :  2.57     \n",
       " 1st Qu.: 5.20   1st Qu.:1.835   1st Qu.:64.00   1st Qu.:  8.425   1st Qu.: 63.57     \n",
       " Median : 8.53   Median :2.400   Median :72.50   Median : 18.600   Median : 97.75     \n",
       " Mean   :11.16   Mean   :2.941   Mean   :70.01   Mean   : 36.149   Mean   : 93.64     \n",
       " 3rd Qu.:16.69   3rd Qu.:3.905   3rd Qu.:76.00   3rd Qu.: 55.975   3rd Qu.:120.81     \n",
       " Max.   :31.92   Max.   :7.580   Max.   :83.00   Max.   :181.600   Max.   :196.41     \n",
       "                 NA's   :11                                        NA's   :10         \n",
       "  LiteracyRate        GNI        PrimarySchoolEnrollmentMale PrimarySchoolEnrollmentFemale\n",
       " Min.   :31.10   Min.   :  340   Min.   : 37.20              Min.   : 32.50               \n",
       " 1st Qu.:71.60   1st Qu.: 2335   1st Qu.: 87.70              1st Qu.: 87.30               \n",
       " Median :91.80   Median : 7870   Median : 94.70              Median : 95.10               \n",
       " Mean   :83.71   Mean   :13321   Mean   : 90.85              Mean   : 89.63               \n",
       " 3rd Qu.:97.85   3rd Qu.:17558   3rd Qu.: 98.10              3rd Qu.: 97.90               \n",
       " Max.   :99.80   Max.   :86440   Max.   :100.00              Max.   :100.00               \n",
       " NA's   :91      NA's   :32      NA's   :93                  NA's   :93                   "
      ]
     },
     "execution_count": 22,
     "metadata": {},
     "output_type": "execute_result"
    }
   ],
   "source": [
    "summary(WHO)"
   ]
  },
  {
   "cell_type": "code",
   "execution_count": 23,
   "metadata": {
    "collapsed": true
   },
   "outputs": [],
   "source": [
    "WHO_Europe = subset(WHO, Region == \"Europe\")"
   ]
  },
  {
   "cell_type": "code",
   "execution_count": 24,
   "metadata": {
    "collapsed": false
   },
   "outputs": [
    {
     "name": "stdout",
     "output_type": "stream",
     "text": [
      "'data.frame':\t53 obs. of  13 variables:\n",
      " $ Country                      : Factor w/ 194 levels \"Afghanistan\",..: 2 4 8 10 11 16 17 22 26 42 ...\n",
      " $ Region                       : Factor w/ 6 levels \"Africa\",\"Americas\",..: 4 4 4 4 4 4 4 4 4 4 ...\n",
      " $ Population                   : int  3162 78 2969 8464 9309 9405 11060 3834 7278 4307 ...\n",
      " $ Under15                      : num  21.3 15.2 20.3 14.5 22.2 ...\n",
      " $ Over60                       : num  14.93 22.86 14.06 23.52 8.24 ...\n",
      " $ FertilityRate                : num  1.75 NA 1.74 1.44 1.96 1.47 1.85 1.26 1.51 1.48 ...\n",
      " $ LifeExpectancy               : int  74 82 71 81 71 71 80 76 74 77 ...\n",
      " $ ChildMortality               : num  16.7 3.2 16.4 4 35.2 5.2 4.2 6.7 12.1 4.7 ...\n",
      " $ CellularSubscribers          : num  96.4 75.5 103.6 154.8 108.8 ...\n",
      " $ LiteracyRate                 : num  NA NA 99.6 NA NA NA NA 97.9 NA 98.8 ...\n",
      " $ GNI                          : num  8820 NA 6100 42050 8960 ...\n",
      " $ PrimarySchoolEnrollmentMale  : num  NA 78.4 NA NA 85.3 NA 98.9 86.5 99.3 94.8 ...\n",
      " $ PrimarySchoolEnrollmentFemale: num  NA 79.4 NA NA 84.1 NA 99.2 88.4 99.7 97 ...\n"
     ]
    }
   ],
   "source": [
    "str(WHO_Europe)"
   ]
  },
  {
   "cell_type": "code",
   "execution_count": 25,
   "metadata": {
    "collapsed": true
   },
   "outputs": [],
   "source": [
    "write.csv(WHO_Europe, 'data/WHO_Europe.csv')"
   ]
  },
  {
   "cell_type": "code",
   "execution_count": 26,
   "metadata": {
    "collapsed": false
   },
   "outputs": [
    {
     "data": {
      "text/html": [
       "<ol class=list-inline>\n",
       "\t<li>'AllCountryData'</li>\n",
       "\t<li>'Country'</li>\n",
       "\t<li>'CountryData'</li>\n",
       "\t<li>'LifeExpectancy'</li>\n",
       "\t<li>'NewCountryData'</li>\n",
       "\t<li>'Population'</li>\n",
       "\t<li>'WHO'</li>\n",
       "\t<li>'WHO_Europe'</li>\n",
       "\t<li>'extendedEuclid'</li>\n",
       "\t<li>'gcd'</li>\n",
       "\t<li>'loadAll'</li>\n",
       "\t<li>'ord'</li>\n",
       "\t<li>'zstar'</li>\n",
       "\t<li>'zstarv'</li>\n",
       "</ol>\n"
      ],
      "text/latex": [
       "\\begin{enumerate*}\n",
       "\\item 'AllCountryData'\n",
       "\\item 'Country'\n",
       "\\item 'CountryData'\n",
       "\\item 'LifeExpectancy'\n",
       "\\item 'NewCountryData'\n",
       "\\item 'Population'\n",
       "\\item 'WHO'\n",
       "\\item 'WHO_Europe'\n",
       "\\item 'extendedEuclid'\n",
       "\\item 'gcd'\n",
       "\\item 'loadAll'\n",
       "\\item 'ord'\n",
       "\\item 'zstar'\n",
       "\\item 'zstarv'\n",
       "\\end{enumerate*}\n"
      ],
      "text/markdown": [
       "1. 'AllCountryData'\n",
       "2. 'Country'\n",
       "3. 'CountryData'\n",
       "4. 'LifeExpectancy'\n",
       "5. 'NewCountryData'\n",
       "6. 'Population'\n",
       "7. 'WHO'\n",
       "8. 'WHO_Europe'\n",
       "9. 'extendedEuclid'\n",
       "10. 'gcd'\n",
       "11. 'loadAll'\n",
       "12. 'ord'\n",
       "13. 'zstar'\n",
       "14. 'zstarv'\n",
       "\n",
       "\n"
      ],
      "text/plain": [
       " [1] \"AllCountryData\" \"Country\"        \"CountryData\"    \"LifeExpectancy\" \"NewCountryData\"\n",
       " [6] \"Population\"     \"WHO\"            \"WHO_Europe\"     \"extendedEuclid\" \"gcd\"           \n",
       "[11] \"loadAll\"        \"ord\"            \"zstar\"          \"zstarv\"        "
      ]
     },
     "execution_count": 26,
     "metadata": {},
     "output_type": "execute_result"
    }
   ],
   "source": [
    "ls()"
   ]
  },
  {
   "cell_type": "code",
   "execution_count": 27,
   "metadata": {
    "collapsed": true
   },
   "outputs": [],
   "source": [
    "rm(WHO_Europe)"
   ]
  },
  {
   "cell_type": "code",
   "execution_count": 28,
   "metadata": {
    "collapsed": false
   },
   "outputs": [
    {
     "data": {
      "text/html": [
       "<ol class=list-inline>\n",
       "\t<li>'AllCountryData'</li>\n",
       "\t<li>'Country'</li>\n",
       "\t<li>'CountryData'</li>\n",
       "\t<li>'LifeExpectancy'</li>\n",
       "\t<li>'NewCountryData'</li>\n",
       "\t<li>'Population'</li>\n",
       "\t<li>'WHO'</li>\n",
       "\t<li>'extendedEuclid'</li>\n",
       "\t<li>'gcd'</li>\n",
       "\t<li>'loadAll'</li>\n",
       "\t<li>'ord'</li>\n",
       "\t<li>'zstar'</li>\n",
       "\t<li>'zstarv'</li>\n",
       "</ol>\n"
      ],
      "text/latex": [
       "\\begin{enumerate*}\n",
       "\\item 'AllCountryData'\n",
       "\\item 'Country'\n",
       "\\item 'CountryData'\n",
       "\\item 'LifeExpectancy'\n",
       "\\item 'NewCountryData'\n",
       "\\item 'Population'\n",
       "\\item 'WHO'\n",
       "\\item 'extendedEuclid'\n",
       "\\item 'gcd'\n",
       "\\item 'loadAll'\n",
       "\\item 'ord'\n",
       "\\item 'zstar'\n",
       "\\item 'zstarv'\n",
       "\\end{enumerate*}\n"
      ],
      "text/markdown": [
       "1. 'AllCountryData'\n",
       "2. 'Country'\n",
       "3. 'CountryData'\n",
       "4. 'LifeExpectancy'\n",
       "5. 'NewCountryData'\n",
       "6. 'Population'\n",
       "7. 'WHO'\n",
       "8. 'extendedEuclid'\n",
       "9. 'gcd'\n",
       "10. 'loadAll'\n",
       "11. 'ord'\n",
       "12. 'zstar'\n",
       "13. 'zstarv'\n",
       "\n",
       "\n"
      ],
      "text/plain": [
       " [1] \"AllCountryData\" \"Country\"        \"CountryData\"    \"LifeExpectancy\" \"NewCountryData\"\n",
       " [6] \"Population\"     \"WHO\"            \"extendedEuclid\" \"gcd\"            \"loadAll\"       \n",
       "[11] \"ord\"            \"zstar\"          \"zstarv\"        "
      ]
     },
     "execution_count": 28,
     "metadata": {},
     "output_type": "execute_result"
    }
   ],
   "source": [
    "ls()"
   ]
  },
  {
   "cell_type": "code",
   "execution_count": 29,
   "metadata": {
    "collapsed": false
   },
   "outputs": [
    {
     "data": {
      "text/html": [
       "<ol class=list-inline>\n",
       "\t<li>47.42</li>\n",
       "\t<li>21.33</li>\n",
       "\t<li>27.42</li>\n",
       "\t<li>15.2</li>\n",
       "\t<li>47.58</li>\n",
       "\t<li>25.96</li>\n",
       "\t<li>24.42</li>\n",
       "\t<li>20.34</li>\n",
       "\t<li>18.95</li>\n",
       "\t<li>14.51</li>\n",
       "\t<li>22.25</li>\n",
       "\t<li>21.62</li>\n",
       "\t<li>20.16</li>\n",
       "\t<li>30.57</li>\n",
       "\t<li>18.99</li>\n",
       "\t<li>15.1</li>\n",
       "\t<li>16.88</li>\n",
       "\t<li>34.4</li>\n",
       "\t<li>42.95</li>\n",
       "\t<li>28.53</li>\n",
       "\t<li>35.23</li>\n",
       "\t<li>16.35</li>\n",
       "\t<li>33.75</li>\n",
       "\t<li>24.56</li>\n",
       "\t<li>25.75</li>\n",
       "\t<li>13.53</li>\n",
       "\t<li>45.66</li>\n",
       "\t<li>44.2</li>\n",
       "\t<li>31.23</li>\n",
       "\t<li>43.08</li>\n",
       "\t<li>16.37</li>\n",
       "\t<li>30.17</li>\n",
       "\t<li>40.07</li>\n",
       "\t<li>48.52</li>\n",
       "\t<li>21.38</li>\n",
       "\t<li>17.95</li>\n",
       "\t<li>28.03</li>\n",
       "\t<li>42.17</li>\n",
       "\t<li>42.37</li>\n",
       "\t<li>30.61</li>\n",
       "\t<li>23.94</li>\n",
       "\t<li>41.48</li>\n",
       "\t<li>14.98</li>\n",
       "\t<li>16.58</li>\n",
       "\t<li>17.16</li>\n",
       "\t<li>14.56</li>\n",
       "\t<li>21.98</li>\n",
       "\t<li>45.11</li>\n",
       "\t<li>17.66</li>\n",
       "\t<li>33.72</li>\n",
       "\t<li>25.96</li>\n",
       "\t<li>30.53</li>\n",
       "\t<li>30.29</li>\n",
       "\t<li>31.25</li>\n",
       "\t<li>30.62</li>\n",
       "\t<li>38.95</li>\n",
       "\t<li>43.1</li>\n",
       "\t<li>15.69</li>\n",
       "\t<li>43.29</li>\n",
       "\t<li>28.88</li>\n",
       "\t<li>16.42</li>\n",
       "\t<li>18.26</li>\n",
       "\t<li>38.49</li>\n",
       "\t<li>45.9</li>\n",
       "\t<li>17.62</li>\n",
       "\t<li>13.17</li>\n",
       "\t<li>38.59</li>\n",
       "\t<li>14.6</li>\n",
       "\t<li>26.96</li>\n",
       "\t<li>40.8</li>\n",
       "\t<li>42.46</li>\n",
       "\t<li>41.55</li>\n",
       "\t<li>36.77</li>\n",
       "\t<li>35.35</li>\n",
       "\t<li>35.72</li>\n",
       "\t<li>14.62</li>\n",
       "\t<li>20.71</li>\n",
       "\t<li>29.43</li>\n",
       "\t<li>29.27</li>\n",
       "\t<li>23.68</li>\n",
       "\t<li>40.51</li>\n",
       "\t<li>21.54</li>\n",
       "\t<li>27.53</li>\n",
       "\t<li>14.04</li>\n",
       "\t<li>27.78</li>\n",
       "\t<li>13.12</li>\n",
       "\t<li>34.13</li>\n",
       "\t<li>25.46</li>\n",
       "\t<li>42.37</li>\n",
       "\t<li>30.1</li>\n",
       "\t<li>24.9</li>\n",
       "\t<li>30.21</li>\n",
       "\t<li>35.61</li>\n",
       "\t<li>14.57</li>\n",
       "\t<li>21.64</li>\n",
       "\t<li>36.75</li>\n",
       "\t<li>43.06</li>\n",
       "\t<li>29.45</li>\n",
       "\t<li>15.13</li>\n",
       "\t<li>17.46</li>\n",
       "\t<li>42.72</li>\n",
       "\t<li>45.44</li>\n",
       "\t<li>26.65</li>\n",
       "\t<li>29.03</li>\n",
       "\t<li>47.14</li>\n",
       "\t<li>14.98</li>\n",
       "\t<li>30.1</li>\n",
       "\t<li>40.22</li>\n",
       "\t<li>20.17</li>\n",
       "\t<li>29.02</li>\n",
       "\t<li>35.81</li>\n",
       "\t<li>18.26</li>\n",
       "\t<li>27.05</li>\n",
       "\t<li>19.01</li>\n",
       "\t<li>27.85</li>\n",
       "\t<li>45.38</li>\n",
       "\t<li>25.28</li>\n",
       "\t<li>36.59</li>\n",
       "\t<li>30.1</li>\n",
       "\t<li>35.58</li>\n",
       "\t<li>17.21</li>\n",
       "\t<li>20.26</li>\n",
       "\t<li>33.37</li>\n",
       "\t<li>49.99</li>\n",
       "\t<li>44.23</li>\n",
       "\t<li>30.61</li>\n",
       "\t<li>18.64</li>\n",
       "\t<li>24.19</li>\n",
       "\t<li>34.31</li>\n",
       "\t<li>30.1</li>\n",
       "\t<li>28.65</li>\n",
       "\t<li>38.37</li>\n",
       "\t<li>32.78</li>\n",
       "\t<li>29.18</li>\n",
       "\t<li>34.53</li>\n",
       "\t<li>14.91</li>\n",
       "\t<li>14.92</li>\n",
       "\t<li>13.28</li>\n",
       "\t<li>15.25</li>\n",
       "\t<li>16.52</li>\n",
       "\t<li>15.05</li>\n",
       "\t<li>15.45</li>\n",
       "\t<li>43.56</li>\n",
       "\t<li>25.96</li>\n",
       "\t<li>24.31</li>\n",
       "\t<li>25.7</li>\n",
       "\t<li>37.88</li>\n",
       "\t<li>14.04</li>\n",
       "\t<li>41.6</li>\n",
       "\t<li>29.69</li>\n",
       "\t<li>43.54</li>\n",
       "\t<li>16.45</li>\n",
       "\t<li>21.95</li>\n",
       "\t<li>41.74</li>\n",
       "\t<li>16.48</li>\n",
       "\t<li>15</li>\n",
       "\t<li>14.16</li>\n",
       "\t<li>40.37</li>\n",
       "\t<li>47.35</li>\n",
       "\t<li>29.53</li>\n",
       "\t<li>42.28</li>\n",
       "\t<li>15.2</li>\n",
       "\t<li>25.15</li>\n",
       "\t<li>41.48</li>\n",
       "\t<li>27.83</li>\n",
       "\t<li>38.05</li>\n",
       "\t<li>16.71</li>\n",
       "\t<li>14.79</li>\n",
       "\t<li>35.35</li>\n",
       "\t<li>35.75</li>\n",
       "\t<li>18.47</li>\n",
       "\t<li>16.89</li>\n",
       "\t<li>46.33</li>\n",
       "\t<li>41.89</li>\n",
       "\t<li>37.33</li>\n",
       "\t<li>20.73</li>\n",
       "\t<li>23.22</li>\n",
       "\t<li>26</li>\n",
       "\t<li>28.65</li>\n",
       "\t<li>30.61</li>\n",
       "\t<li>48.54</li>\n",
       "\t<li>14.18</li>\n",
       "\t<li>14.41</li>\n",
       "\t<li>17.54</li>\n",
       "\t<li>44.85</li>\n",
       "\t<li>19.63</li>\n",
       "\t<li>22.05</li>\n",
       "\t<li>28.9</li>\n",
       "\t<li>37.37</li>\n",
       "\t<li>28.84</li>\n",
       "\t<li>22.87</li>\n",
       "\t<li>40.72</li>\n",
       "\t<li>46.73</li>\n",
       "\t<li>40.24</li>\n",
       "</ol>\n"
      ],
      "text/latex": [
       "\\begin{enumerate*}\n",
       "\\item 47.42\n",
       "\\item 21.33\n",
       "\\item 27.42\n",
       "\\item 15.2\n",
       "\\item 47.58\n",
       "\\item 25.96\n",
       "\\item 24.42\n",
       "\\item 20.34\n",
       "\\item 18.95\n",
       "\\item 14.51\n",
       "\\item 22.25\n",
       "\\item 21.62\n",
       "\\item 20.16\n",
       "\\item 30.57\n",
       "\\item 18.99\n",
       "\\item 15.1\n",
       "\\item 16.88\n",
       "\\item 34.4\n",
       "\\item 42.95\n",
       "\\item 28.53\n",
       "\\item 35.23\n",
       "\\item 16.35\n",
       "\\item 33.75\n",
       "\\item 24.56\n",
       "\\item 25.75\n",
       "\\item 13.53\n",
       "\\item 45.66\n",
       "\\item 44.2\n",
       "\\item 31.23\n",
       "\\item 43.08\n",
       "\\item 16.37\n",
       "\\item 30.17\n",
       "\\item 40.07\n",
       "\\item 48.52\n",
       "\\item 21.38\n",
       "\\item 17.95\n",
       "\\item 28.03\n",
       "\\item 42.17\n",
       "\\item 42.37\n",
       "\\item 30.61\n",
       "\\item 23.94\n",
       "\\item 41.48\n",
       "\\item 14.98\n",
       "\\item 16.58\n",
       "\\item 17.16\n",
       "\\item 14.56\n",
       "\\item 21.98\n",
       "\\item 45.11\n",
       "\\item 17.66\n",
       "\\item 33.72\n",
       "\\item 25.96\n",
       "\\item 30.53\n",
       "\\item 30.29\n",
       "\\item 31.25\n",
       "\\item 30.62\n",
       "\\item 38.95\n",
       "\\item 43.1\n",
       "\\item 15.69\n",
       "\\item 43.29\n",
       "\\item 28.88\n",
       "\\item 16.42\n",
       "\\item 18.26\n",
       "\\item 38.49\n",
       "\\item 45.9\n",
       "\\item 17.62\n",
       "\\item 13.17\n",
       "\\item 38.59\n",
       "\\item 14.6\n",
       "\\item 26.96\n",
       "\\item 40.8\n",
       "\\item 42.46\n",
       "\\item 41.55\n",
       "\\item 36.77\n",
       "\\item 35.35\n",
       "\\item 35.72\n",
       "\\item 14.62\n",
       "\\item 20.71\n",
       "\\item 29.43\n",
       "\\item 29.27\n",
       "\\item 23.68\n",
       "\\item 40.51\n",
       "\\item 21.54\n",
       "\\item 27.53\n",
       "\\item 14.04\n",
       "\\item 27.78\n",
       "\\item 13.12\n",
       "\\item 34.13\n",
       "\\item 25.46\n",
       "\\item 42.37\n",
       "\\item 30.1\n",
       "\\item 24.9\n",
       "\\item 30.21\n",
       "\\item 35.61\n",
       "\\item 14.57\n",
       "\\item 21.64\n",
       "\\item 36.75\n",
       "\\item 43.06\n",
       "\\item 29.45\n",
       "\\item 15.13\n",
       "\\item 17.46\n",
       "\\item 42.72\n",
       "\\item 45.44\n",
       "\\item 26.65\n",
       "\\item 29.03\n",
       "\\item 47.14\n",
       "\\item 14.98\n",
       "\\item 30.1\n",
       "\\item 40.22\n",
       "\\item 20.17\n",
       "\\item 29.02\n",
       "\\item 35.81\n",
       "\\item 18.26\n",
       "\\item 27.05\n",
       "\\item 19.01\n",
       "\\item 27.85\n",
       "\\item 45.38\n",
       "\\item 25.28\n",
       "\\item 36.59\n",
       "\\item 30.1\n",
       "\\item 35.58\n",
       "\\item 17.21\n",
       "\\item 20.26\n",
       "\\item 33.37\n",
       "\\item 49.99\n",
       "\\item 44.23\n",
       "\\item 30.61\n",
       "\\item 18.64\n",
       "\\item 24.19\n",
       "\\item 34.31\n",
       "\\item 30.1\n",
       "\\item 28.65\n",
       "\\item 38.37\n",
       "\\item 32.78\n",
       "\\item 29.18\n",
       "\\item 34.53\n",
       "\\item 14.91\n",
       "\\item 14.92\n",
       "\\item 13.28\n",
       "\\item 15.25\n",
       "\\item 16.52\n",
       "\\item 15.05\n",
       "\\item 15.45\n",
       "\\item 43.56\n",
       "\\item 25.96\n",
       "\\item 24.31\n",
       "\\item 25.7\n",
       "\\item 37.88\n",
       "\\item 14.04\n",
       "\\item 41.6\n",
       "\\item 29.69\n",
       "\\item 43.54\n",
       "\\item 16.45\n",
       "\\item 21.95\n",
       "\\item 41.74\n",
       "\\item 16.48\n",
       "\\item 15\n",
       "\\item 14.16\n",
       "\\item 40.37\n",
       "\\item 47.35\n",
       "\\item 29.53\n",
       "\\item 42.28\n",
       "\\item 15.2\n",
       "\\item 25.15\n",
       "\\item 41.48\n",
       "\\item 27.83\n",
       "\\item 38.05\n",
       "\\item 16.71\n",
       "\\item 14.79\n",
       "\\item 35.35\n",
       "\\item 35.75\n",
       "\\item 18.47\n",
       "\\item 16.89\n",
       "\\item 46.33\n",
       "\\item 41.89\n",
       "\\item 37.33\n",
       "\\item 20.73\n",
       "\\item 23.22\n",
       "\\item 26\n",
       "\\item 28.65\n",
       "\\item 30.61\n",
       "\\item 48.54\n",
       "\\item 14.18\n",
       "\\item 14.41\n",
       "\\item 17.54\n",
       "\\item 44.85\n",
       "\\item 19.63\n",
       "\\item 22.05\n",
       "\\item 28.9\n",
       "\\item 37.37\n",
       "\\item 28.84\n",
       "\\item 22.87\n",
       "\\item 40.72\n",
       "\\item 46.73\n",
       "\\item 40.24\n",
       "\\end{enumerate*}\n"
      ],
      "text/markdown": [
       "1. 47.42\n",
       "2. 21.33\n",
       "3. 27.42\n",
       "4. 15.2\n",
       "5. 47.58\n",
       "6. 25.96\n",
       "7. 24.42\n",
       "8. 20.34\n",
       "9. 18.95\n",
       "10. 14.51\n",
       "11. 22.25\n",
       "12. 21.62\n",
       "13. 20.16\n",
       "14. 30.57\n",
       "15. 18.99\n",
       "16. 15.1\n",
       "17. 16.88\n",
       "18. 34.4\n",
       "19. 42.95\n",
       "20. 28.53\n",
       "21. 35.23\n",
       "22. 16.35\n",
       "23. 33.75\n",
       "24. 24.56\n",
       "25. 25.75\n",
       "26. 13.53\n",
       "27. 45.66\n",
       "28. 44.2\n",
       "29. 31.23\n",
       "30. 43.08\n",
       "31. 16.37\n",
       "32. 30.17\n",
       "33. 40.07\n",
       "34. 48.52\n",
       "35. 21.38\n",
       "36. 17.95\n",
       "37. 28.03\n",
       "38. 42.17\n",
       "39. 42.37\n",
       "40. 30.61\n",
       "41. 23.94\n",
       "42. 41.48\n",
       "43. 14.98\n",
       "44. 16.58\n",
       "45. 17.16\n",
       "46. 14.56\n",
       "47. 21.98\n",
       "48. 45.11\n",
       "49. 17.66\n",
       "50. 33.72\n",
       "51. 25.96\n",
       "52. 30.53\n",
       "53. 30.29\n",
       "54. 31.25\n",
       "55. 30.62\n",
       "56. 38.95\n",
       "57. 43.1\n",
       "58. 15.69\n",
       "59. 43.29\n",
       "60. 28.88\n",
       "61. 16.42\n",
       "62. 18.26\n",
       "63. 38.49\n",
       "64. 45.9\n",
       "65. 17.62\n",
       "66. 13.17\n",
       "67. 38.59\n",
       "68. 14.6\n",
       "69. 26.96\n",
       "70. 40.8\n",
       "71. 42.46\n",
       "72. 41.55\n",
       "73. 36.77\n",
       "74. 35.35\n",
       "75. 35.72\n",
       "76. 14.62\n",
       "77. 20.71\n",
       "78. 29.43\n",
       "79. 29.27\n",
       "80. 23.68\n",
       "81. 40.51\n",
       "82. 21.54\n",
       "83. 27.53\n",
       "84. 14.04\n",
       "85. 27.78\n",
       "86. 13.12\n",
       "87. 34.13\n",
       "88. 25.46\n",
       "89. 42.37\n",
       "90. 30.1\n",
       "91. 24.9\n",
       "92. 30.21\n",
       "93. 35.61\n",
       "94. 14.57\n",
       "95. 21.64\n",
       "96. 36.75\n",
       "97. 43.06\n",
       "98. 29.45\n",
       "99. 15.13\n",
       "100. 17.46\n",
       "101. 42.72\n",
       "102. 45.44\n",
       "103. 26.65\n",
       "104. 29.03\n",
       "105. 47.14\n",
       "106. 14.98\n",
       "107. 30.1\n",
       "108. 40.22\n",
       "109. 20.17\n",
       "110. 29.02\n",
       "111. 35.81\n",
       "112. 18.26\n",
       "113. 27.05\n",
       "114. 19.01\n",
       "115. 27.85\n",
       "116. 45.38\n",
       "117. 25.28\n",
       "118. 36.59\n",
       "119. 30.1\n",
       "120. 35.58\n",
       "121. 17.21\n",
       "122. 20.26\n",
       "123. 33.37\n",
       "124. 49.99\n",
       "125. 44.23\n",
       "126. 30.61\n",
       "127. 18.64\n",
       "128. 24.19\n",
       "129. 34.31\n",
       "130. 30.1\n",
       "131. 28.65\n",
       "132. 38.37\n",
       "133. 32.78\n",
       "134. 29.18\n",
       "135. 34.53\n",
       "136. 14.91\n",
       "137. 14.92\n",
       "138. 13.28\n",
       "139. 15.25\n",
       "140. 16.52\n",
       "141. 15.05\n",
       "142. 15.45\n",
       "143. 43.56\n",
       "144. 25.96\n",
       "145. 24.31\n",
       "146. 25.7\n",
       "147. 37.88\n",
       "148. 14.04\n",
       "149. 41.6\n",
       "150. 29.69\n",
       "151. 43.54\n",
       "152. 16.45\n",
       "153. 21.95\n",
       "154. 41.74\n",
       "155. 16.48\n",
       "156. 15\n",
       "157. 14.16\n",
       "158. 40.37\n",
       "159. 47.35\n",
       "160. 29.53\n",
       "161. 42.28\n",
       "162. 15.2\n",
       "163. 25.15\n",
       "164. 41.48\n",
       "165. 27.83\n",
       "166. 38.05\n",
       "167. 16.71\n",
       "168. 14.79\n",
       "169. 35.35\n",
       "170. 35.75\n",
       "171. 18.47\n",
       "172. 16.89\n",
       "173. 46.33\n",
       "174. 41.89\n",
       "175. 37.33\n",
       "176. 20.73\n",
       "177. 23.22\n",
       "178. 26\n",
       "179. 28.65\n",
       "180. 30.61\n",
       "181. 48.54\n",
       "182. 14.18\n",
       "183. 14.41\n",
       "184. 17.54\n",
       "185. 44.85\n",
       "186. 19.63\n",
       "187. 22.05\n",
       "188. 28.9\n",
       "189. 37.37\n",
       "190. 28.84\n",
       "191. 22.87\n",
       "192. 40.72\n",
       "193. 46.73\n",
       "194. 40.24\n",
       "\n",
       "\n"
      ],
      "text/plain": [
       "  [1] 47.42 21.33 27.42 15.20 47.58 25.96 24.42 20.34 18.95 14.51 22.25 21.62 20.16 30.57 18.99\n",
       " [16] 15.10 16.88 34.40 42.95 28.53 35.23 16.35 33.75 24.56 25.75 13.53 45.66 44.20 31.23 43.08\n",
       " [31] 16.37 30.17 40.07 48.52 21.38 17.95 28.03 42.17 42.37 30.61 23.94 41.48 14.98 16.58 17.16\n",
       " [46] 14.56 21.98 45.11 17.66 33.72 25.96 30.53 30.29 31.25 30.62 38.95 43.10 15.69 43.29 28.88\n",
       " [61] 16.42 18.26 38.49 45.90 17.62 13.17 38.59 14.60 26.96 40.80 42.46 41.55 36.77 35.35 35.72\n",
       " [76] 14.62 20.71 29.43 29.27 23.68 40.51 21.54 27.53 14.04 27.78 13.12 34.13 25.46 42.37 30.10\n",
       " [91] 24.90 30.21 35.61 14.57 21.64 36.75 43.06 29.45 15.13 17.46 42.72 45.44 26.65 29.03 47.14\n",
       "[106] 14.98 30.10 40.22 20.17 29.02 35.81 18.26 27.05 19.01 27.85 45.38 25.28 36.59 30.10 35.58\n",
       "[121] 17.21 20.26 33.37 49.99 44.23 30.61 18.64 24.19 34.31 30.10 28.65 38.37 32.78 29.18 34.53\n",
       "[136] 14.91 14.92 13.28 15.25 16.52 15.05 15.45 43.56 25.96 24.31 25.70 37.88 14.04 41.60 29.69\n",
       "[151] 43.54 16.45 21.95 41.74 16.48 15.00 14.16 40.37 47.35 29.53 42.28 15.20 25.15 41.48 27.83\n",
       "[166] 38.05 16.71 14.79 35.35 35.75 18.47 16.89 46.33 41.89 37.33 20.73 23.22 26.00 28.65 30.61\n",
       "[181] 48.54 14.18 14.41 17.54 44.85 19.63 22.05 28.90 37.37 28.84 22.87 40.72 46.73 40.24"
      ]
     },
     "execution_count": 29,
     "metadata": {},
     "output_type": "execute_result"
    }
   ],
   "source": [
    "WHO$Under15"
   ]
  },
  {
   "cell_type": "code",
   "execution_count": 30,
   "metadata": {
    "collapsed": false
   },
   "outputs": [
    {
     "data": {
      "text/html": [
       "28.7324226804124"
      ],
      "text/latex": [
       "28.7324226804124"
      ],
      "text/markdown": [
       "28.7324226804124"
      ],
      "text/plain": [
       "[1] 28.73242"
      ]
     },
     "execution_count": 30,
     "metadata": {},
     "output_type": "execute_result"
    }
   ],
   "source": [
    "mean(WHO$Under15)"
   ]
  },
  {
   "cell_type": "code",
   "execution_count": 31,
   "metadata": {
    "collapsed": false
   },
   "outputs": [
    {
     "data": {
      "text/html": [
       "10.5345733199238"
      ],
      "text/latex": [
       "10.5345733199238"
      ],
      "text/markdown": [
       "10.5345733199238"
      ],
      "text/plain": [
       "[1] 10.53457"
      ]
     },
     "execution_count": 31,
     "metadata": {},
     "output_type": "execute_result"
    }
   ],
   "source": [
    "sd(WHO$Under15)"
   ]
  },
  {
   "cell_type": "code",
   "execution_count": 32,
   "metadata": {
    "collapsed": false
   },
   "outputs": [
    {
     "data": {
      "text/plain": [
       "   Min. 1st Qu.  Median    Mean 3rd Qu.    Max. \n",
       "  13.12   18.72   28.65   28.73   37.75   49.99 "
      ]
     },
     "execution_count": 32,
     "metadata": {},
     "output_type": "execute_result"
    }
   ],
   "source": [
    "summary(WHO$Under15)"
   ]
  },
  {
   "cell_type": "code",
   "execution_count": 33,
   "metadata": {
    "collapsed": false
   },
   "outputs": [
    {
     "data": {
      "text/html": [
       "86"
      ],
      "text/latex": [
       "86"
      ],
      "text/markdown": [
       "86"
      ],
      "text/plain": [
       "[1] 86"
      ]
     },
     "execution_count": 33,
     "metadata": {},
     "output_type": "execute_result"
    }
   ],
   "source": [
    "which.min(WHO$Under15)"
   ]
  },
  {
   "cell_type": "code",
   "execution_count": 34,
   "metadata": {
    "collapsed": false
   },
   "outputs": [
    {
     "data": {
      "text/html": [
       "Japan"
      ],
      "text/latex": [
       "Japan"
      ],
      "text/markdown": [
       "Japan"
      ],
      "text/plain": [
       "[1] Japan\n",
       "194 Levels: Afghanistan Albania Algeria Andorra Angola Antigua and Barbuda Argentina ... Zimbabwe"
      ]
     },
     "execution_count": 34,
     "metadata": {},
     "output_type": "execute_result"
    }
   ],
   "source": [
    "WHO$Country[86]"
   ]
  },
  {
   "cell_type": "code",
   "execution_count": 35,
   "metadata": {
    "collapsed": false
   },
   "outputs": [
    {
     "data": {
      "text/html": [
       "124"
      ],
      "text/latex": [
       "124"
      ],
      "text/markdown": [
       "124"
      ],
      "text/plain": [
       "[1] 124"
      ]
     },
     "execution_count": 35,
     "metadata": {},
     "output_type": "execute_result"
    }
   ],
   "source": [
    "which.max(WHO$Under15)"
   ]
  },
  {
   "cell_type": "code",
   "execution_count": 36,
   "metadata": {
    "collapsed": false
   },
   "outputs": [
    {
     "data": {
      "text/html": [
       "Niger"
      ],
      "text/latex": [
       "Niger"
      ],
      "text/markdown": [
       "Niger"
      ],
      "text/plain": [
       "[1] Niger\n",
       "194 Levels: Afghanistan Albania Algeria Andorra Angola Antigua and Barbuda Argentina ... Zimbabwe"
      ]
     },
     "execution_count": 36,
     "metadata": {},
     "output_type": "execute_result"
    }
   ],
   "source": [
    "WHO$Country[124]"
   ]
  },
  {
   "cell_type": "code",
   "execution_count": 46,
   "metadata": {
    "collapsed": false,
    "scrolled": false
   },
   "outputs": [
    {
     "ename": "ERROR",
     "evalue": "Error in replayPlot(obj): invalid graphics state\n",
     "output_type": "error",
     "traceback": [
      "Error in replayPlot(obj): invalid graphics state\n"
     ]
    },
    {
     "ename": "ERROR",
     "evalue": "Error in replayPlot(obj): invalid graphics state\n",
     "output_type": "error",
     "traceback": [
      "Error in replayPlot(obj): invalid graphics state\n"
     ]
    },
    {
     "data": {
      "text/plain": [
       "plot without title"
      ]
     },
     "metadata": {
      "image/svg+xml": {
       "isolated": true
      }
     },
     "output_type": "display_data"
    }
   ],
   "source": [
    "plot(WHO$GNI, WHO$FertilityRate)"
   ]
  },
  {
   "cell_type": "code",
   "execution_count": 38,
   "metadata": {
    "collapsed": true
   },
   "outputs": [],
   "source": [
    "Outliers = subset(WHO, GNI > 10000 & FertilityRate > 2.5)"
   ]
  },
  {
   "cell_type": "code",
   "execution_count": 39,
   "metadata": {
    "collapsed": false
   },
   "outputs": [
    {
     "data": {
      "text/html": [
       "7"
      ],
      "text/latex": [
       "7"
      ],
      "text/markdown": [
       "7"
      ],
      "text/plain": [
       "[1] 7"
      ]
     },
     "execution_count": 39,
     "metadata": {},
     "output_type": "execute_result"
    }
   ],
   "source": [
    "nrow(Outliers)"
   ]
  },
  {
   "cell_type": "code",
   "execution_count": 40,
   "metadata": {
    "collapsed": false
   },
   "outputs": [
    {
     "data": {
      "text/html": [
       "<table>\n",
       "<thead><tr><th></th><th scope=col>Country</th><th scope=col>GNI</th><th scope=col>FertilityRate</th></tr></thead>\n",
       "<tbody>\n",
       "\t<tr><th scope=row>23</th><td>Botswana</td><td>14550</td><td>2.71</td></tr>\n",
       "\t<tr><th scope=row>56</th><td>Equatorial Guinea</td><td>25620</td><td>5.04</td></tr>\n",
       "\t<tr><th scope=row>63</th><td>Gabon</td><td>13740</td><td>4.18</td></tr>\n",
       "\t<tr><th scope=row>83</th><td>Israel</td><td>27110</td><td>2.92</td></tr>\n",
       "\t<tr><th scope=row>88</th><td>Kazakhstan</td><td>11250</td><td>2.52</td></tr>\n",
       "\t<tr><th scope=row>131</th><td>Panama</td><td>14510</td><td>2.52</td></tr>\n",
       "\t<tr><th scope=row>150</th><td>Saudi Arabia</td><td>24700</td><td>2.76</td></tr>\n",
       "</tbody>\n",
       "</table>\n"
      ],
      "text/latex": [
       "\\begin{tabular}{r|lll}\n",
       "  & Country & GNI & FertilityRate\\\\\n",
       "\\hline\n",
       "\t23 & Botswana & 14550 & 2.71\\\\\n",
       "\t56 & Equatorial Guinea & 25620 & 5.04\\\\\n",
       "\t63 & Gabon & 13740 & 4.18\\\\\n",
       "\t83 & Israel & 27110 & 2.92\\\\\n",
       "\t88 & Kazakhstan & 11250 & 2.52\\\\\n",
       "\t131 & Panama & 14510 & 2.52\\\\\n",
       "\t150 & Saudi Arabia & 24700 & 2.76\\\\\n",
       "\\end{tabular}\n"
      ],
      "text/plain": [
       "              Country   GNI FertilityRate\n",
       "23           Botswana 14550          2.71\n",
       "56  Equatorial Guinea 25620          5.04\n",
       "63              Gabon 13740          4.18\n",
       "83             Israel 27110          2.92\n",
       "88         Kazakhstan 11250          2.52\n",
       "131            Panama 14510          2.52\n",
       "150      Saudi Arabia 24700          2.76"
      ]
     },
     "execution_count": 40,
     "metadata": {},
     "output_type": "execute_result"
    }
   ],
   "source": [
    "Outliers[c('Country', 'GNI', 'FertilityRate')]"
   ]
  },
  {
   "cell_type": "code",
   "execution_count": 41,
   "metadata": {
    "collapsed": false
   },
   "outputs": [
    {
     "data": {
      "text/html": [
       "11.1636597938144"
      ],
      "text/latex": [
       "11.1636597938144"
      ],
      "text/markdown": [
       "11.1636597938144"
      ],
      "text/plain": [
       "[1] 11.16366"
      ]
     },
     "execution_count": 41,
     "metadata": {},
     "output_type": "execute_result"
    }
   ],
   "source": [
    "mean(WHO$Over60)"
   ]
  },
  {
   "cell_type": "code",
   "execution_count": 42,
   "metadata": {
    "collapsed": false
   },
   "outputs": [
    {
     "data": {
      "text/html": [
       "183"
      ],
      "text/latex": [
       "183"
      ],
      "text/markdown": [
       "183"
      ],
      "text/plain": [
       "[1] 183"
      ]
     },
     "execution_count": 42,
     "metadata": {},
     "output_type": "execute_result"
    }
   ],
   "source": [
    "which.min(WHO$Over60)"
   ]
  },
  {
   "cell_type": "code",
   "execution_count": 43,
   "metadata": {
    "collapsed": false
   },
   "outputs": [
    {
     "data": {
      "text/html": [
       "United Arab Emirates"
      ],
      "text/latex": [
       "United Arab Emirates"
      ],
      "text/markdown": [
       "United Arab Emirates"
      ],
      "text/plain": [
       "[1] United Arab Emirates\n",
       "194 Levels: Afghanistan Albania Algeria Andorra Angola Antigua and Barbuda Argentina ... Zimbabwe"
      ]
     },
     "execution_count": 43,
     "metadata": {},
     "output_type": "execute_result"
    }
   ],
   "source": [
    "WHO$Country[183]"
   ]
  },
  {
   "cell_type": "code",
   "execution_count": 44,
   "metadata": {
    "collapsed": false
   },
   "outputs": [
    {
     "data": {
      "text/html": [
       "Cuba"
      ],
      "text/latex": [
       "Cuba"
      ],
      "text/markdown": [
       "Cuba"
      ],
      "text/plain": [
       "[1] Cuba\n",
       "194 Levels: Afghanistan Albania Algeria Andorra Angola Antigua and Barbuda Argentina ... Zimbabwe"
      ]
     },
     "execution_count": 44,
     "metadata": {},
     "output_type": "execute_result"
    }
   ],
   "source": [
    "WHO$Country[which.max(WHO$LiteracyRate)]"
   ]
  },
  {
   "cell_type": "code",
   "execution_count": 47,
   "metadata": {
    "collapsed": false
   },
   "outputs": [
    {
     "ename": "ERROR",
     "evalue": "Error in replayPlot(obj): invalid graphics state\n",
     "output_type": "error",
     "traceback": [
      "Error in replayPlot(obj): invalid graphics state\n"
     ]
    },
    {
     "ename": "ERROR",
     "evalue": "Error in replayPlot(obj): invalid graphics state\n",
     "output_type": "error",
     "traceback": [
      "Error in replayPlot(obj): invalid graphics state\n"
     ]
    },
    {
     "data": {
      "text/plain": [
       "Plot with title \"Histogram of 1:10\""
      ]
     },
     "metadata": {
      "image/svg+xml": {
       "isolated": true
      }
     },
     "output_type": "display_data"
    }
   ],
   "source": [
    "#set_plot_size <- function(width = 7, height = 7){\n",
    "#    options(repr.plot.width = width) \n",
    "#    options(repr.plot.height = height)\n",
    "#}\n",
    "set_plot_size(3,1)\n",
    "#hist(WHO$CellularSubscribers)\n",
    "hist(1:10)"
   ]
  },
  {
   "cell_type": "code",
   "execution_count": null,
   "metadata": {
    "collapsed": true
   },
   "outputs": [],
   "source": []
  }
 ],
 "metadata": {
  "kernelspec": {
   "display_name": "R",
   "language": "R",
   "name": "ir"
  },
  "language_info": {
   "codemirror_mode": "r",
   "file_extension": ".r",
   "mimetype": "text/x-r-source",
   "name": "R",
   "pygments_lexer": "r",
   "version": "3.2.4"
  }
 },
 "nbformat": 4,
 "nbformat_minor": 0
}
