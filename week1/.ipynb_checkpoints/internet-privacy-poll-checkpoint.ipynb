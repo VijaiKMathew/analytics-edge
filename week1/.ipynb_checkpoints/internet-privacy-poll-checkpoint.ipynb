{
 "cells": [
  {
   "cell_type": "code",
   "execution_count": 1,
   "metadata": {
    "collapsed": false
   },
   "outputs": [
    {
     "data": {
      "text/html": [
       "'LC_CTYPE=C;LC_NUMERIC=C;LC_TIME=C;LC_COLLATE=C;LC_MONETARY=C;LC_MESSAGES=en_US.UTF-8;LC_PAPER=en_US.UTF-8;LC_NAME=C;LC_ADDRESS=C;LC_TELEPHONE=C;LC_MEASUREMENT=en_US.UTF-8;LC_IDENTIFICATION=C'"
      ],
      "text/latex": [
       "'LC_CTYPE=C;LC_NUMERIC=C;LC_TIME=C;LC_COLLATE=C;LC_MONETARY=C;LC_MESSAGES=en_US.UTF-8;LC_PAPER=en_US.UTF-8;LC_NAME=C;LC_ADDRESS=C;LC_TELEPHONE=C;LC_MEASUREMENT=en_US.UTF-8;LC_IDENTIFICATION=C'"
      ],
      "text/markdown": [
       "'LC_CTYPE=C;LC_NUMERIC=C;LC_TIME=C;LC_COLLATE=C;LC_MONETARY=C;LC_MESSAGES=en_US.UTF-8;LC_PAPER=en_US.UTF-8;LC_NAME=C;LC_ADDRESS=C;LC_TELEPHONE=C;LC_MEASUREMENT=en_US.UTF-8;LC_IDENTIFICATION=C'"
      ],
      "text/plain": [
       "[1] \"LC_CTYPE=C;LC_NUMERIC=C;LC_TIME=C;LC_COLLATE=C;LC_MONETARY=C;LC_MESSAGES=en_US.UTF-8;LC_PAPER=en_US.UTF-8;LC_NAME=C;LC_ADDRESS=C;LC_TELEPHONE=C;LC_MEASUREMENT=en_US.UTF-8;LC_IDENTIFICATION=C\""
      ]
     },
     "execution_count": 1,
     "metadata": {},
     "output_type": "execute_result"
    }
   ],
   "source": [
    "options(device=pdf) # turn off flashy window on each block execution\n",
    "# options(repr.plot.width=6, repr.plot.height=4)\n",
    "Sys.setlocale(\"LC_ALL\", \"C\")\n",
    "initialWidth = getOption('width')\n",
    "options(width=80) # for old folks like me who can't see shit and set font large"
   ]
  },
  {
   "cell_type": "code",
   "execution_count": 2,
   "metadata": {
    "collapsed": false
   },
   "outputs": [
    {
     "data": {
      "text/plain": [
       "  Internet.Use      Smartphone         Sex           Age       \n",
       " Min.   :0.0000   Min.   :0.0000   Female:505   Min.   :18.00  \n",
       " 1st Qu.:1.0000   1st Qu.:0.0000   Male  :497   1st Qu.:37.00  \n",
       " Median :1.0000   Median :1.0000                Median :55.00  \n",
       " Mean   :0.7742   Mean   :0.5078                Mean   :52.37  \n",
       " 3rd Qu.:1.0000   3rd Qu.:1.0000                3rd Qu.:66.00  \n",
       " Max.   :1.0000   Max.   :1.0000                Max.   :96.00  \n",
       " NA's   :1        NA's   :43                    NA's   :27     \n",
       "          State           Region    Conservativeness Info.On.Internet\n",
       " California  :103   Midwest  :239   Min.   :1.000    Min.   : 0.000  \n",
       " Texas       : 72   Northeast:166   1st Qu.:3.000    1st Qu.: 2.000  \n",
       " New York    : 60   South    :359   Median :3.000    Median : 4.000  \n",
       " Pennsylvania: 45   West     :238   Mean   :3.277    Mean   : 3.795  \n",
       " Florida     : 42                   3rd Qu.:4.000    3rd Qu.: 6.000  \n",
       " Ohio        : 38                   Max.   :5.000    Max.   :11.000  \n",
       " (Other)     :642                   NA's   :62       NA's   :210     \n",
       " Worry.About.Info Privacy.Importance Anonymity.Possible Tried.Masking.Identity\n",
       " Min.   :0.0000   Min.   :  0.00     Min.   :0.0000     Min.   :0.0000        \n",
       " 1st Qu.:0.0000   1st Qu.: 41.43     1st Qu.:0.0000     1st Qu.:0.0000        \n",
       " Median :0.0000   Median : 68.75     Median :0.0000     Median :0.0000        \n",
       " Mean   :0.4886   Mean   : 62.85     Mean   :0.3692     Mean   :0.1633        \n",
       " 3rd Qu.:1.0000   3rd Qu.: 88.89     3rd Qu.:1.0000     3rd Qu.:0.0000        \n",
       " Max.   :1.0000   Max.   :100.00     Max.   :1.0000     Max.   :1.0000        \n",
       " NA's   :212      NA's   :215        NA's   :249        NA's   :218           \n",
       " Privacy.Laws.Effective\n",
       " Min.   :0.0000        \n",
       " 1st Qu.:0.0000        \n",
       " Median :0.0000        \n",
       " Mean   :0.2617        \n",
       " 3rd Qu.:1.0000        \n",
       " Max.   :1.0000        \n",
       " NA's   :108           "
      ]
     },
     "execution_count": 2,
     "metadata": {},
     "output_type": "execute_result"
    },
    {
     "name": "stdout",
     "output_type": "stream",
     "text": [
      "'data.frame':\t1002 obs. of  13 variables:\n",
      " $ Internet.Use          : int  1 1 0 1 0 1 1 0 0 1 ...\n",
      " $ Smartphone            : int  0 0 1 0 NA 1 0 0 NA 0 ...\n",
      " $ Sex                   : Factor w/ 2 levels \"Female\",\"Male\": 2 2 1 2 1 2 1 1 2 1 ...\n",
      " $ Age                   : int  62 45 70 70 80 49 52 76 75 76 ...\n",
      " $ State                 : Factor w/ 49 levels \"Alabama\",\"Arizona\",..: 20 39 29 10 10 41 21 31 32 32 ...\n",
      " $ Region                : Factor w/ 4 levels \"Midwest\",\"Northeast\",..: 2 3 2 3 3 3 1 2 3 3 ...\n",
      " $ Conservativeness      : int  4 1 4 4 4 4 3 3 4 4 ...\n",
      " $ Info.On.Internet      : int  0 1 0 3 NA 6 3 NA NA 0 ...\n",
      " $ Worry.About.Info      : int  1 0 0 1 NA 0 1 NA NA 0 ...\n",
      " $ Privacy.Importance    : num  100 0 NA 88.9 NA ...\n",
      " $ Anonymity.Possible    : int  0 1 0 1 NA 1 0 NA NA 1 ...\n",
      " $ Tried.Masking.Identity: int  0 0 0 0 NA 1 0 NA NA 0 ...\n",
      " $ Privacy.Laws.Effective: int  0 1 NA 0 NA 0 1 NA 0 1 ...\n"
     ]
    }
   ],
   "source": [
    "poll = read.csv('data/AnonymityPoll.csv.xz')\n",
    "summary(poll)\n",
    "str(poll)"
   ]
  },
  {
   "cell_type": "code",
   "execution_count": 3,
   "metadata": {
    "collapsed": false
   },
   "outputs": [
    {
     "data": {
      "text/plain": [
       "\n",
       "  0   1 \n",
       "472 487 "
      ]
     },
     "execution_count": 3,
     "metadata": {},
     "output_type": "execute_result"
    }
   ],
   "source": [
    "table(poll$Smartphone)"
   ]
  },
  {
   "cell_type": "code",
   "execution_count": 4,
   "metadata": {
    "collapsed": false
   },
   "outputs": [
    {
     "data": {
      "text/plain": [
       "        \n",
       "         Midwest Northeast South West\n",
       "  Female     123        90   176  116\n",
       "  Male       116        76   183  122"
      ]
     },
     "execution_count": 4,
     "metadata": {},
     "output_type": "execute_result"
    }
   ],
   "source": [
    "table(poll$Sex, poll$Region)"
   ]
  },
  {
   "cell_type": "code",
   "execution_count": 18,
   "metadata": {
    "collapsed": false
   },
   "outputs": [
    {
     "data": {
      "text/html": [
       "<dl class=dl-horizontal>\n",
       "\t<dt>South Dakota</dt>\n",
       "\t\t<dd>3</dd>\n",
       "\t<dt>North Dakota</dt>\n",
       "\t\t<dd>5</dd>\n",
       "\t<dt>Nebraska</dt>\n",
       "\t\t<dd>11</dd>\n",
       "\t<dt>Iowa</dt>\n",
       "\t\t<dd>14</dd>\n",
       "\t<dt>Kansas</dt>\n",
       "\t\t<dd>14</dd>\n",
       "\t<dt>Minnesota</dt>\n",
       "\t\t<dd>15</dd>\n",
       "\t<dt>Wisconsin</dt>\n",
       "\t\t<dd>23</dd>\n",
       "\t<dt>Missouri</dt>\n",
       "\t\t<dd>26</dd>\n",
       "\t<dt>Indiana</dt>\n",
       "\t\t<dd>27</dd>\n",
       "\t<dt>Michigan</dt>\n",
       "\t\t<dd>31</dd>\n",
       "\t<dt>Illinois</dt>\n",
       "\t\t<dd>32</dd>\n",
       "\t<dt>Ohio</dt>\n",
       "\t\t<dd>38</dd>\n",
       "</dl>\n"
      ],
      "text/latex": [
       "\\begin{description*}\n",
       "\\item[South Dakota] 3\n",
       "\\item[North Dakota] 5\n",
       "\\item[Nebraska] 11\n",
       "\\item[Iowa] 14\n",
       "\\item[Kansas] 14\n",
       "\\item[Minnesota] 15\n",
       "\\item[Wisconsin] 23\n",
       "\\item[Missouri] 26\n",
       "\\item[Indiana] 27\n",
       "\\item[Michigan] 31\n",
       "\\item[Illinois] 32\n",
       "\\item[Ohio] 38\n",
       "\\end{description*}\n"
      ],
      "text/markdown": [
       "South Dakota\n",
       ":   3North Dakota\n",
       ":   5Nebraska\n",
       ":   11Iowa\n",
       ":   14Kansas\n",
       ":   14Minnesota\n",
       ":   15Wisconsin\n",
       ":   23Missouri\n",
       ":   26Indiana\n",
       ":   27Michigan\n",
       ":   31Illinois\n",
       ":   32Ohio\n",
       ":   38\n",
       "\n"
      ],
      "text/plain": [
       "\n",
       "South Dakota North Dakota     Nebraska         Iowa       Kansas    Minnesota \n",
       "           3            5           11           14           14           15 \n",
       "   Wisconsin     Missouri      Indiana     Michigan     Illinois         Ohio \n",
       "          23           26           27           31           32           38 "
      ]
     },
     "execution_count": 18,
     "metadata": {},
     "output_type": "execute_result"
    }
   ],
   "source": [
    "t = table(subset(poll, Region == 'Midwest')$State)\n",
    "#t[sort(t) > 0]\n",
    "sort(t[t>0])"
   ]
  },
  {
   "cell_type": "code",
   "execution_count": 12,
   "metadata": {
    "collapsed": false
   },
   "outputs": [
    {
     "data": {
      "text/html": [
       "<dl class=dl-horizontal>\n",
       "\t<dt>Kentucky</dt>\n",
       "\t\t<dd>25</dd>\n",
       "\t<dt>Virginia</dt>\n",
       "\t\t<dd>31</dd>\n",
       "\t<dt>North Carolina</dt>\n",
       "\t\t<dd>32</dd>\n",
       "\t<dt>Georgia</dt>\n",
       "\t\t<dd>34</dd>\n",
       "\t<dt>Florida</dt>\n",
       "\t\t<dd>42</dd>\n",
       "\t<dt>Texas</dt>\n",
       "\t\t<dd>72</dd>\n",
       "</dl>\n"
      ],
      "text/latex": [
       "\\begin{description*}\n",
       "\\item[Kentucky] 25\n",
       "\\item[Virginia] 31\n",
       "\\item[North Carolina] 32\n",
       "\\item[Georgia] 34\n",
       "\\item[Florida] 42\n",
       "\\item[Texas] 72\n",
       "\\end{description*}\n"
      ],
      "text/markdown": [
       "Kentucky\n",
       ":   25Virginia\n",
       ":   31North Carolina\n",
       ":   32Georgia\n",
       ":   34Florida\n",
       ":   42Texas\n",
       ":   72\n",
       "\n"
      ],
      "text/plain": [
       "\n",
       "      Kentucky       Virginia North Carolina        Georgia        Florida \n",
       "            25             31             32             34             42 \n",
       "         Texas \n",
       "            72 "
      ]
     },
     "execution_count": 12,
     "metadata": {},
     "output_type": "execute_result"
    }
   ],
   "source": [
    "tail(sort(table(subset(poll, Region == 'South')$State)))"
   ]
  },
  {
   "cell_type": "code",
   "execution_count": 31,
   "metadata": {
    "collapsed": false
   },
   "outputs": [
    {
     "data": {
      "text/html": [
       "186"
      ],
      "text/latex": [
       "186"
      ],
      "text/markdown": [
       "186"
      ],
      "text/plain": [
       "[1] 186"
      ]
     },
     "execution_count": 31,
     "metadata": {},
     "output_type": "execute_result"
    },
    {
     "data": {
      "text/html": [
       "470"
      ],
      "text/latex": [
       "470"
      ],
      "text/markdown": [
       "470"
      ],
      "text/plain": [
       "[1] 470"
      ]
     },
     "execution_count": 31,
     "metadata": {},
     "output_type": "execute_result"
    },
    {
     "data": {
      "text/html": [
       "285"
      ],
      "text/latex": [
       "285"
      ],
      "text/markdown": [
       "285"
      ],
      "text/plain": [
       "[1] 285"
      ]
     },
     "execution_count": 31,
     "metadata": {},
     "output_type": "execute_result"
    },
    {
     "data": {
      "text/html": [
       "17"
      ],
      "text/latex": [
       "17"
      ],
      "text/markdown": [
       "17"
      ],
      "text/plain": [
       "[1] 17"
      ]
     },
     "execution_count": 31,
     "metadata": {},
     "output_type": "execute_result"
    }
   ],
   "source": [
    "nrow(subset(poll, Internet.Use==F & Smartphone==F))\n",
    "nrow(subset(poll, Internet.Use==T & Smartphone==T))\n",
    "nrow(subset(poll, Internet.Use==T & Smartphone==F))\n",
    "nrow(subset(poll, Internet.Use==F & Smartphone==T))"
   ]
  },
  {
   "cell_type": "code",
   "execution_count": 32,
   "metadata": {
    "collapsed": false
   },
   "outputs": [
    {
     "data": {
      "text/plain": [
       "   \n",
       "      0   1\n",
       "  0 186  17\n",
       "  1 285 470"
      ]
     },
     "execution_count": 32,
     "metadata": {},
     "output_type": "execute_result"
    }
   ],
   "source": [
    "table(poll$Internet.Use, poll$Smartphone)"
   ]
  },
  {
   "cell_type": "code",
   "execution_count": 35,
   "metadata": {
    "collapsed": false
   },
   "outputs": [
    {
     "data": {
      "text/plain": [
       "   Min. 1st Qu.  Median    Mean 3rd Qu.    Max.    NA's \n",
       " 0.0000  1.0000  1.0000  0.7742  1.0000  1.0000       1 "
      ]
     },
     "execution_count": 35,
     "metadata": {},
     "output_type": "execute_result"
    },
    {
     "data": {
      "text/plain": [
       "   Min. 1st Qu.  Median    Mean 3rd Qu.    Max.    NA's \n",
       " 0.0000  0.0000  1.0000  0.5078  1.0000  1.0000      43 "
      ]
     },
     "execution_count": 35,
     "metadata": {},
     "output_type": "execute_result"
    }
   ],
   "source": [
    "summary(poll$Internet.Use)\n",
    "summary(poll$Smartphone)"
   ]
  },
  {
   "cell_type": "code",
   "execution_count": 36,
   "metadata": {
    "collapsed": false
   },
   "outputs": [
    {
     "data": {
      "text/html": [
       "792"
      ],
      "text/latex": [
       "792"
      ],
      "text/markdown": [
       "792"
      ],
      "text/plain": [
       "[1] 792"
      ]
     },
     "execution_count": 36,
     "metadata": {},
     "output_type": "execute_result"
    }
   ],
   "source": [
    "limited = subset(poll, Internet.Use==T | Smartphone==T)\n",
    "nrow(limited)"
   ]
  },
  {
   "cell_type": "code",
   "execution_count": 38,
   "metadata": {
    "collapsed": false
   },
   "outputs": [
    {
     "data": {
      "text/plain": [
       "  Internet.Use      Smartphone         Sex           Age       \n",
       " Min.   :0.0000   Min.   :0.0000   Female:392   Min.   :18.00  \n",
       " 1st Qu.:1.0000   1st Qu.:0.0000   Male  :400   1st Qu.:33.00  \n",
       " Median :1.0000   Median :1.0000                Median :51.00  \n",
       " Mean   :0.9785   Mean   :0.6308                Mean   :48.57  \n",
       " 3rd Qu.:1.0000   3rd Qu.:1.0000                3rd Qu.:62.00  \n",
       " Max.   :1.0000   Max.   :1.0000                Max.   :93.00  \n",
       "                  NA's   :20                    NA's   :22     \n",
       "            State           Region    Conservativeness Info.On.Internet\n",
       " California    : 89   Midwest  :172   Min.   :1.000    Min.   : 0.000  \n",
       " Texas         : 57   Northeast:128   1st Qu.:3.000    1st Qu.: 2.000  \n",
       " New York      : 45   South    :288   Median :3.000    Median : 4.000  \n",
       " Pennsylvania  : 33   West     :204   Mean   :3.237    Mean   : 3.795  \n",
       " Florida       : 32                   3rd Qu.:4.000    3rd Qu.: 6.000  \n",
       " North Carolina: 28                   Max.   :5.000    Max.   :11.000  \n",
       " (Other)       :508                   NA's   :45                       \n",
       " Worry.About.Info Privacy.Importance Anonymity.Possible Tried.Masking.Identity\n",
       " Min.   :0.0000   Min.   :  0.00     Min.   :0.0000     Min.   :0.0000        \n",
       " 1st Qu.:0.0000   1st Qu.: 41.43     1st Qu.:0.0000     1st Qu.:0.0000        \n",
       " Median :0.0000   Median : 68.75     Median :0.0000     Median :0.0000        \n",
       " Mean   :0.4886   Mean   : 62.85     Mean   :0.3692     Mean   :0.1633        \n",
       " 3rd Qu.:1.0000   3rd Qu.: 88.89     3rd Qu.:1.0000     3rd Qu.:0.0000        \n",
       " Max.   :1.0000   Max.   :100.00     Max.   :1.0000     Max.   :1.0000        \n",
       " NA's   :2        NA's   :5          NA's   :39         NA's   :8             \n",
       " Privacy.Laws.Effective\n",
       " Min.   :0.0000        \n",
       " 1st Qu.:0.0000        \n",
       " Median :0.0000        \n",
       " Mean   :0.2559        \n",
       " 3rd Qu.:1.0000        \n",
       " Max.   :1.0000        \n",
       " NA's   :65            "
      ]
     },
     "execution_count": 38,
     "metadata": {},
     "output_type": "execute_result"
    }
   ],
   "source": [
    "summary(limited)"
   ]
  },
  {
   "cell_type": "code",
   "execution_count": 39,
   "metadata": {
    "collapsed": false
   },
   "outputs": [
    {
     "data": {
      "text/plain": [
       "\n",
       "  0   1   2   3   4   5   6   7   8   9  10  11 \n",
       "105  84  95 101 104  94  67  63  40  18  13   8 "
      ]
     },
     "execution_count": 39,
     "metadata": {},
     "output_type": "execute_result"
    }
   ],
   "source": [
    "table(limited$Info.On.Internet)"
   ]
  },
  {
   "cell_type": "code",
   "execution_count": 51,
   "metadata": {
    "collapsed": false
   },
   "outputs": [
    {
     "data": {
      "text/plain": [
       "\n",
       "  0   1 \n",
       "404 386 "
      ]
     },
     "execution_count": 51,
     "metadata": {},
     "output_type": "execute_result"
    }
   ],
   "source": [
    "table(subset(limited, !is.na(Worry.About.Info))$Worry.About.Info)\n"
   ]
  },
  {
   "cell_type": "code",
   "execution_count": 52,
   "metadata": {
    "collapsed": false
   },
   "outputs": [
    {
     "data": {
      "text/html": [
       "0.488607594936709"
      ],
      "text/latex": [
       "0.488607594936709"
      ],
      "text/markdown": [
       "0.488607594936709"
      ],
      "text/plain": [
       "[1] 0.4886076"
      ]
     },
     "execution_count": 52,
     "metadata": {},
     "output_type": "execute_result"
    }
   ],
   "source": [
    "386 / (386 + 404)\n"
   ]
  },
  {
   "cell_type": "code",
   "execution_count": 53,
   "metadata": {
    "collapsed": false
   },
   "outputs": [
    {
     "data": {
      "text/plain": [
       "\n",
       "  0   1 \n",
       "404 386 "
      ]
     },
     "execution_count": 53,
     "metadata": {},
     "output_type": "execute_result"
    }
   ],
   "source": [
    "table(limited$Worry.About.Info)"
   ]
  },
  {
   "cell_type": "code",
   "execution_count": 54,
   "metadata": {
    "collapsed": false
   },
   "outputs": [
    {
     "data": {
      "text/plain": [
       "\n",
       "  0   1 \n",
       "475 278 "
      ]
     },
     "execution_count": 54,
     "metadata": {},
     "output_type": "execute_result"
    }
   ],
   "source": [
    "table(limited$Anonymity.Possible)"
   ]
  },
  {
   "cell_type": "code",
   "execution_count": 55,
   "metadata": {
    "collapsed": false
   },
   "outputs": [
    {
     "data": {
      "text/html": [
       "0.369189907038513"
      ],
      "text/latex": [
       "0.369189907038513"
      ],
      "text/markdown": [
       "0.369189907038513"
      ],
      "text/plain": [
       "[1] 0.3691899"
      ]
     },
     "execution_count": 55,
     "metadata": {},
     "output_type": "execute_result"
    }
   ],
   "source": [
    "278/(278+475)"
   ]
  },
  {
   "cell_type": "code",
   "execution_count": 56,
   "metadata": {
    "collapsed": false
   },
   "outputs": [
    {
     "data": {
      "text/plain": [
       "   Min. 1st Qu.  Median    Mean 3rd Qu.    Max.    NA's \n",
       " 0.0000  0.0000  0.0000  0.3692  1.0000  1.0000      39 "
      ]
     },
     "execution_count": 56,
     "metadata": {},
     "output_type": "execute_result"
    }
   ],
   "source": [
    "summary(limited$Anonymity.Possible)"
   ]
  },
  {
   "cell_type": "code",
   "execution_count": 57,
   "metadata": {
    "collapsed": false
   },
   "outputs": [
    {
     "data": {
      "text/plain": [
       "   Min. 1st Qu.  Median    Mean 3rd Qu.    Max.    NA's \n",
       " 0.0000  0.0000  0.0000  0.1633  0.0000  1.0000       8 "
      ]
     },
     "execution_count": 57,
     "metadata": {},
     "output_type": "execute_result"
    }
   ],
   "source": [
    "summary(limited$Tried.Masking.Identity)"
   ]
  },
  {
   "cell_type": "code",
   "execution_count": 58,
   "metadata": {
    "collapsed": false
   },
   "outputs": [
    {
     "data": {
      "text/plain": [
       "   Min. 1st Qu.  Median    Mean 3rd Qu.    Max.    NA's \n",
       " 0.0000  0.0000  0.0000  0.2558  1.0000  1.0000      65 "
      ]
     },
     "execution_count": 58,
     "metadata": {},
     "output_type": "execute_result"
    }
   ],
   "source": [
    "summary(limited$Privacy.Laws.Effective)"
   ]
  },
  {
   "cell_type": "code",
   "execution_count": 60,
   "metadata": {
    "collapsed": false
   },
   "outputs": [
    {
     "data": {
      "image/png": "[encoded data removed]",
      "image/svg+xml": [
       "<?xml version=\"1.0\" encoding=\"UTF-8\"?>\n",
       "<svg xmlns=\"http://www.w3.org/2000/svg\" xmlns:xlink=\"http://www.w3.org/1999/xlink\" width=\"432pt\" height=\"288pt\" viewBox=\"0 0 432 288\" version=\"1.1\">\n",
       "<defs>\n",
       "<g>\n",
       "<symbol overflow=\"visible\" id=\"glyph0-0\">\n",
       "<path style=\"stroke:none;\" d=\"\"/>\n",
       "</symbol>\n",
       "<symbol overflow=\"visible\" id=\"glyph0-1\">\n",
       "<path style=\"stroke:none;\" d=\"M 9.46875 0 L 9.46875 -10.5 L 7.296875 -10.5 L 7.296875 -6.5625 L 3.140625 -6.5625 L 3.140625 -10.5 L 0.984375 -10.5 L 0.984375 0 L 3.140625 0 L 3.140625 -4.765625 L 7.296875 -4.765625 L 7.296875 0 Z M 9.46875 0 \"/>\n",
       "</symbol>\n",
       "<symbol overflow=\"visible\" id=\"glyph0-2\">\n",
       "<path style=\"stroke:none;\" d=\"M 2.984375 0 L 2.984375 -7.78125 L 0.96875 -7.78125 L 0.96875 0 Z M 3.015625 -8.71875 L 3.015625 -10.734375 L 1 -10.734375 L 1 -8.71875 Z M 3.015625 -8.71875 \"/>\n",
       "</symbol>\n",
       "<symbol overflow=\"visible\" id=\"glyph0-3\">\n",
       "<path style=\"stroke:none;\" d=\"M 7.484375 -2.3125 L 7.484375 -2.40625 C 7.484375 -3.296875 6.984375 -3.96875 5.96875 -4.265625 L 3.421875 -5 C 2.859375 -5.15625 2.703125 -5.28125 2.703125 -5.609375 C 2.703125 -6.03125 3.171875 -6.328125 3.875 -6.328125 C 4.84375 -6.328125 5.3125 -5.984375 5.328125 -5.265625 L 7.28125 -5.265625 C 7.25 -6.921875 5.984375 -7.90625 3.890625 -7.90625 C 1.921875 -7.90625 0.6875 -6.921875 0.6875 -5.3125 C 0.6875 -4.359375 0.953125 -3.84375 2.390625 -3.40625 L 4.796875 -2.65625 C 5.296875 -2.5 5.46875 -2.328125 5.46875 -2.125 C 5.46875 -1.640625 4.90625 -1.453125 3.96875 -1.453125 C 3.046875 -1.453125 2.5625 -1.625 2.390625 -2.46875 L 0.421875 -2.46875 C 0.46875 -0.765625 1.734375 0.125 4.09375 0.125 C 6.28125 0.125 7.484375 -0.734375 7.484375 -2.3125 Z M 7.484375 -2.3125 \"/>\n",
       "</symbol>\n",
       "<symbol overflow=\"visible\" id=\"glyph0-4\">\n",
       "<path style=\"stroke:none;\" d=\"M 4.34375 0 L 4.34375 -1.40625 C 4.140625 -1.390625 4.015625 -1.375 3.875 -1.375 C 3.34375 -1.375 3.21875 -1.53125 3.21875 -2.21875 L 3.21875 -6.28125 L 4.34375 -6.28125 L 4.34375 -7.625 L 3.21875 -7.625 L 3.21875 -9.703125 L 1.203125 -9.703125 L 1.203125 -7.625 L 0.203125 -7.625 L 0.203125 -6.28125 L 1.203125 -6.28125 L 1.203125 -1.671875 C 1.203125 -0.453125 1.84375 0.0625 3.171875 0.0625 C 3.609375 0.0625 3.96875 0.015625 4.34375 0 Z M 4.34375 0 \"/>\n",
       "</symbol>\n",
       "<symbol overflow=\"visible\" id=\"glyph0-5\">\n",
       "<path style=\"stroke:none;\" d=\"M 8.203125 -3.828125 C 8.203125 -6.46875 6.765625 -7.90625 4.34375 -7.90625 C 1.953125 -7.90625 0.5 -6.4375 0.5 -3.890625 C 0.5 -1.328125 1.953125 0.125 4.34375 0.125 C 6.71875 0.125 8.203125 -1.34375 8.203125 -3.828125 Z M 6.1875 -3.859375 C 6.1875 -2.40625 5.4375 -1.5 4.34375 -1.5 C 3.25 -1.5 2.515625 -2.40625 2.515625 -3.890625 C 2.515625 -5.375 3.25 -6.28125 4.34375 -6.28125 C 5.453125 -6.28125 6.1875 -5.390625 6.1875 -3.859375 Z M 6.1875 -3.859375 \"/>\n",
       "</symbol>\n",
       "<symbol overflow=\"visible\" id=\"glyph0-6\">\n",
       "<path style=\"stroke:none;\" d=\"M 7.796875 0.265625 L 7.796875 -7.78125 L 5.875 -7.78125 L 5.875 -6.578125 C 5.265625 -7.5 4.609375 -7.90625 3.71875 -7.90625 C 1.875 -7.90625 0.484375 -6.203125 0.484375 -3.796875 C 0.484375 -1.390625 1.75 0.125 3.671875 0.125 C 4.578125 0.125 5.125 -0.140625 5.875 -0.890625 L 5.875 0.265625 C 5.875 1.203125 5.171875 1.84375 4.15625 1.84375 C 3.40625 1.84375 2.890625 1.53125 2.734375 0.9375 L 0.640625 0.9375 C 0.671875 2.203125 1.953125 3.140625 4.09375 3.140625 C 6.4375 3.140625 7.796875 2.09375 7.796875 0.265625 Z M 5.90625 -3.828125 C 5.90625 -2.421875 5.171875 -1.5625 4.125 -1.5625 C 3.171875 -1.5625 2.5 -2.421875 2.5 -3.828125 C 2.5 -5.296875 3.171875 -6.21875 4.15625 -6.21875 C 5.15625 -6.21875 5.90625 -5.265625 5.90625 -3.828125 Z M 5.90625 -3.828125 \"/>\n",
       "</symbol>\n",
       "<symbol overflow=\"visible\" id=\"glyph0-7\">\n",
       "<path style=\"stroke:none;\" d=\"M 5.328125 -5.84375 L 5.328125 -7.890625 C 5.21875 -7.90625 5.140625 -7.90625 5.078125 -7.90625 C 4.15625 -7.90625 3.359375 -7.296875 2.921875 -6.25 L 2.921875 -7.78125 L 0.90625 -7.78125 L 0.90625 0 L 2.921875 0 L 2.921875 -4.140625 C 2.921875 -5.3125 3.515625 -5.90625 4.703125 -5.90625 C 4.90625 -5.90625 5.0625 -5.890625 5.328125 -5.84375 Z M 5.328125 -5.84375 \"/>\n",
       "</symbol>\n",
       "<symbol overflow=\"visible\" id=\"glyph0-8\">\n",
       "<path style=\"stroke:none;\" d=\"M 7.546875 0 L 7.546875 -0.25 C 7.1875 -0.578125 7.09375 -0.796875 7.09375 -1.203125 L 7.09375 -5.515625 C 7.09375 -7.109375 6 -7.90625 3.90625 -7.90625 C 1.796875 -7.90625 0.703125 -7.015625 0.578125 -5.21875 L 2.515625 -5.21875 C 2.625 -6.015625 2.953125 -6.28125 3.953125 -6.28125 C 4.71875 -6.28125 5.109375 -6.015625 5.109375 -5.5 C 5.109375 -4.6875 4.515625 -4.765625 3.5 -4.59375 L 2.6875 -4.453125 C 1.15625 -4.171875 0.40625 -3.515625 0.40625 -2.109375 C 0.40625 -0.59375 1.46875 0.125 2.765625 0.125 C 3.625 0.125 4.421875 -0.25 5.125 -0.984375 C 5.125 -0.578125 5.171875 -0.234375 5.359375 0 Z M 5.109375 -3.328125 C 5.109375 -2.15625 4.53125 -1.5 3.515625 -1.5 C 2.84375 -1.5 2.421875 -1.75 2.421875 -2.328125 C 2.421875 -2.921875 2.734375 -3.140625 3.578125 -3.296875 L 4.265625 -3.421875 C 4.796875 -3.53125 4.890625 -3.5625 5.109375 -3.671875 Z M 5.109375 -3.328125 \"/>\n",
       "</symbol>\n",
       "<symbol overflow=\"visible\" id=\"glyph0-9\">\n",
       "<path style=\"stroke:none;\" d=\"M 11.875 0 L 11.875 -5.5 C 11.875 -7.015625 10.953125 -7.90625 9.390625 -7.90625 C 8.40625 -7.90625 7.71875 -7.5625 7.109375 -6.75 C 6.734375 -7.484375 5.96875 -7.90625 5 -7.90625 C 4.109375 -7.90625 3.53125 -7.609375 2.859375 -6.8125 L 2.859375 -7.78125 L 0.859375 -7.78125 L 0.859375 0 L 2.875 0 L 2.875 -4.671875 C 2.875 -5.625 3.40625 -6.1875 4.265625 -6.1875 C 4.9375 -6.1875 5.359375 -5.8125 5.359375 -5.1875 L 5.359375 0 L 7.375 0 L 7.375 -4.671875 C 7.375 -5.625 7.890625 -6.1875 8.765625 -6.1875 C 9.4375 -6.1875 9.859375 -5.8125 9.859375 -5.1875 L 9.859375 0 Z M 11.875 0 \"/>\n",
       "</symbol>\n",
       "<symbol overflow=\"visible\" id=\"glyph0-10\">\n",
       "<path style=\"stroke:none;\" d=\"\"/>\n",
       "</symbol>\n",
       "<symbol overflow=\"visible\" id=\"glyph0-11\">\n",
       "<path style=\"stroke:none;\" d=\"M 4.515625 -6.28125 L 4.515625 -7.625 L 3.3125 -7.625 L 3.3125 -8.390625 C 3.3125 -8.78125 3.484375 -8.984375 3.859375 -8.984375 C 4.03125 -8.984375 4.265625 -8.96875 4.4375 -8.953125 L 4.4375 -10.453125 C 4.0625 -10.484375 3.5625 -10.5 3.28125 -10.5 C 1.9375 -10.5 1.296875 -9.875 1.296875 -8.5625 L 1.296875 -7.625 L 0.203125 -7.625 L 0.203125 -6.28125 L 1.296875 -6.28125 L 1.296875 0 L 3.3125 0 L 3.3125 -6.28125 Z M 4.515625 -6.28125 \"/>\n",
       "</symbol>\n",
       "<symbol overflow=\"visible\" id=\"glyph0-12\">\n",
       "<path style=\"stroke:none;\" d=\"M 2.984375 0 L 2.984375 -10.5 L 0.96875 -10.5 L 0.96875 0 Z M 2.984375 0 \"/>\n",
       "</symbol>\n",
       "<symbol overflow=\"visible\" id=\"glyph0-13\">\n",
       "<path style=\"stroke:none;\" d=\"M 7.5625 -3.59375 C 7.5625 -6.28125 6.203125 -7.90625 3.921875 -7.90625 C 1.6875 -7.90625 0.3125 -6.390625 0.3125 -3.78125 C 0.3125 -1.296875 1.671875 0.125 3.875 0.125 C 5.625 0.125 7.03125 -0.65625 7.484375 -2.1875 L 5.484375 -2.1875 C 5.3125 -1.625 4.6875 -1.40625 3.953125 -1.40625 C 3 -1.40625 2.390625 -1.84375 2.328125 -3.359375 L 7.546875 -3.359375 Z M 5.453125 -4.703125 L 2.359375 -4.703125 C 2.5 -5.78125 3 -6.375 3.890625 -6.375 C 4.75 -6.375 5.359375 -5.8125 5.453125 -4.703125 Z M 5.453125 -4.703125 \"/>\n",
       "</symbol>\n",
       "<symbol overflow=\"visible\" id=\"glyph0-14\">\n",
       "<path style=\"stroke:none;\" d=\"M 7.84375 0 L 7.84375 -10.5 L 5.828125 -10.5 L 5.828125 -6.765625 C 5.328125 -7.546875 4.65625 -7.90625 3.6875 -7.90625 C 1.828125 -7.90625 0.421875 -6.21875 0.421875 -3.875 C 0.421875 -1.671875 1.625 0.125 3.6875 0.125 C 4.65625 0.125 5.328125 -0.234375 5.828125 -0.890625 L 5.828125 0 Z M 5.828125 -3.84375 C 5.828125 -2.4375 5.140625 -1.5625 4.140625 -1.5625 C 3.125 -1.5625 2.4375 -2.453125 2.4375 -3.875 C 2.4375 -5.3125 3.125 -6.21875 4.140625 -6.21875 C 5.15625 -6.21875 5.828125 -5.328125 5.828125 -3.84375 Z M 5.828125 -3.84375 \"/>\n",
       "</symbol>\n",
       "<symbol overflow=\"visible\" id=\"glyph0-15\">\n",
       "<path style=\"stroke:none;\" d=\"M 7.59375 -2.8125 C 7.59375 -4.390625 6.71875 -5.25 4.484375 -5.859375 L 4.484375 -8.765625 C 5.21875 -8.65625 5.609375 -8.046875 5.609375 -7.171875 L 7.453125 -7.171875 C 7.453125 -8.96875 6.296875 -10.109375 4.484375 -10.21875 L 4.484375 -10.984375 L 3.5 -10.984375 L 3.5 -10.21875 C 1.640625 -10.046875 0.5625 -8.984375 0.5625 -7.375 C 0.5625 -5.78125 1.5625 -4.75 3.5 -4.3125 L 3.5 -1.234375 C 2.6875 -1.390625 2.25 -1.96875 2.203125 -2.984375 L 0.3125 -2.984375 L 0.3125 -2.859375 C 0.3125 -1.796875 0.75 -0.9375 1.5625 -0.359375 C 2.109375 0.03125 2.640625 0.21875 3.5 0.296875 L 3.5 1.8125 L 4.484375 1.8125 L 4.484375 0.296875 C 5.265625 0.21875 5.875 0.015625 6.359375 -0.28125 C 7.125 -0.796875 7.59375 -1.734375 7.59375 -2.8125 Z M 3.5 -6.15625 C 2.6875 -6.40625 2.328125 -6.796875 2.328125 -7.4375 C 2.328125 -8.171875 2.703125 -8.59375 3.5 -8.765625 Z M 5.6875 -2.640625 C 5.6875 -1.921875 5.28125 -1.4375 4.484375 -1.234375 L 4.484375 -4.0625 C 5.28125 -3.8125 5.6875 -3.328125 5.6875 -2.640625 Z M 5.6875 -2.640625 \"/>\n",
       "</symbol>\n",
       "<symbol overflow=\"visible\" id=\"glyph0-16\">\n",
       "<path style=\"stroke:none;\" d=\"M 10.125 0 L 6.5 -10.5 L 4.109375 -10.5 L 0.375 0 L 2.578125 0 L 3.28125 -2.125 L 7.21875 -2.125 L 7.90625 0 Z M 6.625 -3.921875 L 3.890625 -3.921875 L 5.265625 -8.03125 Z M 6.625 -3.921875 \"/>\n",
       "</symbol>\n",
       "<symbol overflow=\"visible\" id=\"glyph1-0\">\n",
       "<path style=\"stroke:none;\" d=\"\"/>\n",
       "</symbol>\n",
       "<symbol overflow=\"visible\" id=\"glyph1-1\">\n",
       "<path style=\"stroke:none;\" d=\"M 1.8125 0 L 1.8125 -8.75 L 0.8125 -8.75 L 0.8125 0 Z M 1.8125 0 \"/>\n",
       "</symbol>\n",
       "<symbol overflow=\"visible\" id=\"glyph1-2\">\n",
       "<path style=\"stroke:none;\" d=\"M 1.84375 0 L 1.84375 -6.28125 L 0.84375 -6.28125 L 0.84375 0 Z M 1.96875 -7.234375 L 1.96875 -8.484375 L 0.71875 -8.484375 L 0.71875 -7.234375 Z M 1.96875 -7.234375 \"/>\n",
       "</symbol>\n",
       "<symbol overflow=\"visible\" id=\"glyph1-3\">\n",
       "<path style=\"stroke:none;\" d=\"M 9.125 0 L 9.125 -4.71875 C 9.125 -5.84375 8.5 -6.46875 7.3125 -6.46875 C 6.484375 -6.46875 5.96875 -6.21875 5.390625 -5.515625 C 5.015625 -6.1875 4.515625 -6.46875 3.703125 -6.46875 C 2.859375 -6.46875 2.296875 -6.15625 1.765625 -5.40625 L 1.765625 -6.28125 L 0.859375 -6.28125 L 0.859375 0 L 1.84375 0 L 1.84375 -3.953125 C 1.84375 -4.859375 2.515625 -5.59375 3.328125 -5.59375 C 4.0625 -5.59375 4.484375 -5.140625 4.484375 -4.328125 L 4.484375 0 L 5.484375 0 L 5.484375 -3.953125 C 5.484375 -4.859375 6.15625 -5.59375 6.96875 -5.59375 C 7.703125 -5.59375 8.125 -5.125 8.125 -4.328125 L 8.125 0 Z M 9.125 0 \"/>\n",
       "</symbol>\n",
       "<symbol overflow=\"visible\" id=\"glyph1-4\">\n",
       "<path style=\"stroke:none;\" d=\"M 3.046875 0 L 3.046875 -0.84375 C 2.921875 -0.796875 2.765625 -0.796875 2.5625 -0.796875 C 2.140625 -0.796875 2.015625 -0.90625 2.015625 -1.359375 L 2.015625 -5.46875 L 3.046875 -5.46875 L 3.046875 -6.28125 L 2.015625 -6.28125 L 2.015625 -8.015625 L 1.015625 -8.015625 L 1.015625 -6.28125 L 0.171875 -6.28125 L 0.171875 -5.46875 L 1.015625 -5.46875 L 1.015625 -0.90625 C 1.015625 -0.28125 1.453125 0.078125 2.234375 0.078125 C 2.46875 0.078125 2.71875 0.0625 3.046875 0 Z M 3.046875 0 \"/>\n",
       "</symbol>\n",
       "<symbol overflow=\"visible\" id=\"glyph1-5\">\n",
       "<path style=\"stroke:none;\" d=\"M 6.15625 -2.859375 C 6.15625 -3.765625 6.078125 -4.34375 5.90625 -4.8125 C 5.5 -5.84375 4.53125 -6.46875 3.359375 -6.46875 C 1.609375 -6.46875 0.484375 -5.171875 0.484375 -3.109375 C 0.484375 -1.046875 1.578125 0.1875 3.34375 0.1875 C 4.78125 0.1875 5.765625 -0.640625 6.03125 -1.90625 L 5.015625 -1.90625 C 4.734375 -1.078125 4.171875 -0.75 3.375 -0.75 C 2.328125 -0.75 1.546875 -1.421875 1.53125 -2.859375 Z M 5.09375 -3.75 C 5.09375 -3.75 5.09375 -3.703125 5.078125 -3.671875 L 1.546875 -3.671875 C 1.625 -4.78125 2.34375 -5.546875 3.34375 -5.546875 C 4.328125 -5.546875 5.09375 -4.734375 5.09375 -3.75 Z M 5.09375 -3.75 \"/>\n",
       "</symbol>\n",
       "<symbol overflow=\"visible\" id=\"glyph1-6\">\n",
       "<path style=\"stroke:none;\" d=\"M 5.9375 0 L 5.9375 -8.75 L 4.9375 -8.75 L 4.9375 -5.5 C 4.53125 -6.125 3.859375 -6.46875 3.015625 -6.46875 C 1.375 -6.46875 0.3125 -5.203125 0.3125 -3.203125 C 0.3125 -1.078125 1.359375 0.1875 3.046875 0.1875 C 3.90625 0.1875 4.515625 -0.140625 5.046875 -0.921875 L 5.046875 0 Z M 4.9375 -3.125 C 4.9375 -1.671875 4.25 -0.75 3.1875 -0.75 C 2.09375 -0.75 1.359375 -1.6875 1.359375 -3.140625 C 1.359375 -4.609375 2.09375 -5.53125 3.1875 -5.53125 C 4.265625 -5.53125 4.9375 -4.578125 4.9375 -3.125 Z M 4.9375 -3.125 \"/>\n",
       "</symbol>\n",
       "<symbol overflow=\"visible\" id=\"glyph1-7\">\n",
       "<path style=\"stroke:none;\" d=\"M 6.21875 -2.34375 C 6.21875 -3.1875 5.890625 -3.796875 5.203125 -4.1875 C 4.890625 -4.375 4.734375 -4.421875 3.625 -4.765625 L 3.625 -7.75 C 4.421875 -7.71875 4.984375 -7.109375 5 -6.234375 L 5.953125 -6.234375 C 5.953125 -7.59375 5.078125 -8.484375 3.625 -8.59375 L 3.625 -9.234375 L 2.921875 -9.234375 L 2.921875 -8.59375 C 1.375 -8.40625 0.546875 -7.5625 0.546875 -6.1875 C 0.546875 -5.4375 0.84375 -4.84375 1.40625 -4.4375 C 1.71875 -4.21875 2.046875 -4.078125 2.921875 -3.8125 L 2.921875 -0.546875 C 2.390625 -0.625 1.90625 -0.859375 1.640625 -1.234375 C 1.453125 -1.5 1.421875 -1.71875 1.34375 -2.5 L 0.390625 -2.5 C 0.390625 -2.421875 0.390625 -2.359375 0.390625 -2.296875 C 0.390625 -0.75 1.296875 0.1875 2.921875 0.28125 L 2.921875 1.515625 L 3.625 1.515625 L 3.625 0.28125 C 5.3125 0.15625 6.21875 -0.828125 6.21875 -2.34375 Z M 2.921875 -4.859375 C 1.96875 -5.109375 1.53125 -5.578125 1.53125 -6.3125 C 1.53125 -7.109375 2.03125 -7.625 2.921875 -7.734375 Z M 5.234375 -2.203125 C 5.234375 -1.34375 4.6875 -0.671875 3.625 -0.546875 L 3.625 -3.703125 C 4.84375 -3.34375 5.234375 -2.984375 5.234375 -2.203125 Z M 5.234375 -2.203125 \"/>\n",
       "</symbol>\n",
       "<symbol overflow=\"visible\" id=\"glyph1-8\">\n",
       "<path style=\"stroke:none;\" d=\"M 7.84375 0 L 4.765625 -8.75 L 3.328125 -8.75 L 0.203125 0 L 1.390625 0 L 2.3125 -2.625 L 5.6875 -2.625 L 6.59375 0 Z M 5.375 -3.5625 L 2.59375 -3.5625 L 4.03125 -7.546875 Z M 5.375 -3.5625 \"/>\n",
       "</symbol>\n",
       "<symbol overflow=\"visible\" id=\"glyph1-9\">\n",
       "<path style=\"stroke:none;\" d=\"M 5.875 -1.03125 L 5.875 -6.28125 L 4.9375 -6.28125 L 4.9375 -5.375 C 4.4375 -6.125 3.828125 -6.46875 3.03125 -6.46875 C 1.421875 -6.46875 0.34375 -5.125 0.34375 -3.078125 C 0.34375 -1.109375 1.46875 0.1875 2.9375 0.1875 C 3.734375 0.1875 4.28125 -0.15625 4.9375 -0.953125 L 4.9375 -0.53125 C 4.9375 1.140625 4.265625 1.78125 3.09375 1.78125 C 2.296875 1.78125 1.6875 1.484375 1.578125 0.71875 L 0.546875 0.71875 C 0.65625 1.90625 1.578125 2.609375 3.0625 2.609375 C 5.03125 2.609375 5.875 1.734375 5.875 -1.03125 Z M 4.84375 -3.109375 C 4.84375 -1.609375 4.203125 -0.75 3.140625 -0.75 C 2.046875 -0.75 1.390625 -1.625 1.390625 -3.140625 C 1.390625 -4.65625 2.0625 -5.546875 3.125 -5.546875 C 4.21875 -5.546875 4.84375 -4.625 4.84375 -3.109375 Z M 4.84375 -3.109375 \"/>\n",
       "</symbol>\n",
       "<symbol overflow=\"visible\" id=\"glyph1-10\">\n",
       "<path style=\"stroke:none;\" d=\"M 6.125 -6.015625 C 6.125 -7.453125 5.015625 -8.515625 3.40625 -8.515625 C 1.671875 -8.515625 0.65625 -7.625 0.59375 -5.5625 L 1.65625 -5.5625 C 1.734375 -6.984375 2.328125 -7.578125 3.375 -7.578125 C 4.328125 -7.578125 5.046875 -6.90625 5.046875 -5.984375 C 5.046875 -5.3125 4.65625 -4.734375 3.90625 -4.3125 L 2.796875 -3.6875 C 1.015625 -2.671875 0.5 -1.875 0.40625 0 L 6.078125 0 L 6.078125 -1.046875 L 1.59375 -1.046875 C 1.703125 -1.734375 2.09375 -2.1875 3.125 -2.796875 L 4.328125 -3.4375 C 5.515625 -4.078125 6.125 -4.96875 6.125 -6.015625 Z M 6.125 -6.015625 \"/>\n",
       "</symbol>\n",
       "<symbol overflow=\"visible\" id=\"glyph1-11\">\n",
       "<path style=\"stroke:none;\" d=\"M 6.078125 -4.09375 C 6.078125 -7.046875 5.140625 -8.515625 3.296875 -8.515625 C 1.46875 -8.515625 0.515625 -7.015625 0.515625 -4.15625 C 0.515625 -1.296875 1.46875 0.1875 3.296875 0.1875 C 5.09375 0.1875 6.078125 -1.296875 6.078125 -4.09375 Z M 5 -4.1875 C 5 -1.78125 4.453125 -0.703125 3.28125 -0.703125 C 2.15625 -0.703125 1.59375 -1.828125 1.59375 -4.15625 C 1.59375 -6.484375 2.15625 -7.578125 3.296875 -7.578125 C 4.4375 -7.578125 5 -6.46875 5 -4.1875 Z M 5 -4.1875 \"/>\n",
       "</symbol>\n",
       "<symbol overflow=\"visible\" id=\"glyph1-12\">\n",
       "<path style=\"stroke:none;\" d=\"M 6.234375 -2.046875 L 6.234375 -2.984375 L 4.984375 -2.984375 L 4.984375 -8.515625 L 4.203125 -8.515625 L 0.34375 -3.15625 L 0.34375 -2.046875 L 3.921875 -2.046875 L 3.921875 0 L 4.984375 0 L 4.984375 -2.046875 Z M 3.921875 -2.984375 L 1.265625 -2.984375 L 3.921875 -6.703125 Z M 3.921875 -2.984375 \"/>\n",
       "</symbol>\n",
       "<symbol overflow=\"visible\" id=\"glyph1-13\">\n",
       "<path style=\"stroke:none;\" d=\"M 6.15625 -2.640625 C 6.15625 -4.21875 5.078125 -5.296875 3.546875 -5.296875 C 2.71875 -5.296875 2.046875 -4.96875 1.59375 -4.34375 C 1.609375 -6.421875 2.28125 -7.578125 3.484375 -7.578125 C 4.234375 -7.578125 4.75 -7.109375 4.921875 -6.28125 L 5.96875 -6.28125 C 5.765625 -7.6875 4.859375 -8.515625 3.5625 -8.515625 C 1.578125 -8.515625 0.515625 -6.84375 0.515625 -3.875 C 0.515625 -1.21875 1.421875 0.1875 3.375 0.1875 C 4.984375 0.1875 6.15625 -0.96875 6.15625 -2.640625 Z M 5.078125 -2.5625 C 5.078125 -1.484375 4.359375 -0.75 3.390625 -0.75 C 2.40625 -0.75 1.65625 -1.53125 1.65625 -2.609375 C 1.65625 -3.671875 2.375 -4.359375 3.421875 -4.359375 C 4.4375 -4.359375 5.078125 -3.703125 5.078125 -2.5625 Z M 5.078125 -2.5625 \"/>\n",
       "</symbol>\n",
       "<symbol overflow=\"visible\" id=\"glyph1-14\">\n",
       "<path style=\"stroke:none;\" d=\"M 6.15625 -2.40625 C 6.15625 -3.34375 5.671875 -4.015625 4.6875 -4.46875 C 5.5625 -5 5.859375 -5.4375 5.859375 -6.234375 C 5.859375 -7.578125 4.8125 -8.515625 3.296875 -8.515625 C 1.796875 -8.515625 0.75 -7.578125 0.75 -6.234375 C 0.75 -5.453125 1.03125 -5.015625 1.890625 -4.46875 C 0.921875 -4.015625 0.4375 -3.34375 0.4375 -2.40625 C 0.4375 -0.859375 1.625 0.1875 3.296875 0.1875 C 4.984375 0.1875 6.15625 -0.859375 6.15625 -2.40625 Z M 4.78125 -6.21875 C 4.78125 -5.421875 4.1875 -4.890625 3.296875 -4.890625 C 2.40625 -4.890625 1.828125 -5.421875 1.828125 -6.234375 C 1.828125 -7.046875 2.40625 -7.578125 3.296875 -7.578125 C 4.203125 -7.578125 4.78125 -7.046875 4.78125 -6.21875 Z M 5.078125 -2.390625 C 5.078125 -1.375 4.359375 -0.75 3.28125 -0.75 C 2.25 -0.75 1.53125 -1.390625 1.53125 -2.390625 C 1.53125 -3.390625 2.25 -4.015625 3.296875 -4.015625 C 4.359375 -4.015625 5.078125 -3.390625 5.078125 -2.390625 Z M 5.078125 -2.390625 \"/>\n",
       "</symbol>\n",
       "<symbol overflow=\"visible\" id=\"glyph2-0\">\n",
       "<path style=\"stroke:none;\" d=\"\"/>\n",
       "</symbol>\n",
       "<symbol overflow=\"visible\" id=\"glyph2-1\">\n",
       "<path style=\"stroke:none;\" d=\"M -7.765625 -6.953125 L -8.75 -6.953125 L -8.75 -1.078125 L 0 -1.078125 L 0 -2.203125 L -3.984375 -2.203125 L -3.984375 -6.375 L -4.96875 -6.375 L -4.96875 -2.203125 L -7.765625 -2.203125 Z M -7.765625 -6.953125 \"/>\n",
       "</symbol>\n",
       "<symbol overflow=\"visible\" id=\"glyph2-2\">\n",
       "<path style=\"stroke:none;\" d=\"M -5.40625 -3.859375 L -6.4375 -3.859375 C -6.453125 -3.6875 -6.46875 -3.59375 -6.46875 -3.46875 C -6.46875 -2.8125 -6.078125 -2.328125 -5.140625 -1.75 L -6.28125 -1.75 L -6.28125 -0.84375 L 0 -0.84375 L 0 -1.84375 L -3.265625 -1.84375 C -4.6875 -1.84375 -5.390625 -2.296875 -5.40625 -3.859375 Z M -5.40625 -3.859375 \"/>\n",
       "</symbol>\n",
       "<symbol overflow=\"visible\" id=\"glyph2-3\">\n",
       "<path style=\"stroke:none;\" d=\"M -2.859375 -6.15625 C -3.765625 -6.15625 -4.34375 -6.078125 -4.8125 -5.90625 C -5.84375 -5.5 -6.46875 -4.53125 -6.46875 -3.359375 C -6.46875 -1.609375 -5.171875 -0.484375 -3.109375 -0.484375 C -1.046875 -0.484375 0.1875 -1.578125 0.1875 -3.34375 C 0.1875 -4.78125 -0.640625 -5.765625 -1.90625 -6.03125 L -1.90625 -5.015625 C -1.078125 -4.734375 -0.75 -4.171875 -0.75 -3.375 C -0.75 -2.328125 -1.421875 -1.546875 -2.859375 -1.53125 Z M -3.75 -5.09375 C -3.75 -5.09375 -3.703125 -5.09375 -3.671875 -5.078125 L -3.671875 -1.546875 C -4.78125 -1.625 -5.546875 -2.34375 -5.546875 -3.34375 C -5.546875 -4.328125 -4.734375 -5.09375 -3.75 -5.09375 Z M -3.75 -5.09375 \"/>\n",
       "</symbol>\n",
       "<symbol overflow=\"visible\" id=\"glyph2-4\">\n",
       "<path style=\"stroke:none;\" d=\"M 2.609375 -5.9375 L -6.28125 -5.9375 L -6.28125 -5.046875 L -5.453125 -5.046875 C -6.109375 -4.578125 -6.46875 -3.875 -6.46875 -3.046875 C -6.46875 -1.390625 -5.15625 -0.3125 -3.078125 -0.3125 C -1.03125 -0.3125 0.1875 -1.34375 0.1875 -3 C 0.1875 -3.875 -0.125 -4.46875 -0.8125 -4.9375 L 2.609375 -4.9375 Z M -3.109375 -4.9375 C -1.671875 -4.9375 -0.75 -4.25 -0.75 -3.1875 C -0.75 -2.09375 -1.6875 -1.359375 -3.140625 -1.359375 C -4.59375 -1.359375 -5.53125 -2.09375 -5.53125 -3.1875 C -5.53125 -4.265625 -4.578125 -4.9375 -3.109375 -4.9375 Z M -3.109375 -4.9375 \"/>\n",
       "</symbol>\n",
       "<symbol overflow=\"visible\" id=\"glyph2-5\">\n",
       "<path style=\"stroke:none;\" d=\"M 0 -5.78125 L -6.28125 -5.78125 L -6.28125 -4.78125 L -2.8125 -4.78125 C -1.53125 -4.78125 -0.703125 -4.109375 -0.703125 -3.078125 C -0.703125 -2.28125 -1.171875 -1.78125 -1.9375 -1.78125 L -6.28125 -1.78125 L -6.28125 -0.78125 L -1.53125 -0.78125 C -0.484375 -0.78125 0.1875 -1.5625 0.1875 -2.78125 C 0.1875 -3.703125 -0.140625 -4.296875 -0.96875 -4.890625 L 0 -4.890625 Z M 0 -5.78125 \"/>\n",
       "</symbol>\n",
       "<symbol overflow=\"visible\" id=\"glyph2-6\">\n",
       "<path style=\"stroke:none;\" d=\"M 0 -5.84375 L -4.75 -5.84375 C -5.796875 -5.84375 -6.46875 -5.0625 -6.46875 -3.859375 C -6.46875 -2.921875 -6.109375 -2.3125 -5.234375 -1.765625 L -6.28125 -1.765625 L -6.28125 -0.84375 L 0 -0.84375 L 0 -1.84375 L -3.46875 -1.84375 C -4.75 -1.84375 -5.59375 -2.53125 -5.59375 -3.546875 C -5.59375 -4.34375 -5.109375 -4.84375 -4.359375 -4.84375 L 0 -4.84375 Z M 0 -5.84375 \"/>\n",
       "</symbol>\n",
       "<symbol overflow=\"visible\" id=\"glyph2-7\">\n",
       "<path style=\"stroke:none;\" d=\"M -2.15625 -5.71875 L -2.15625 -4.71875 C -1.15625 -4.546875 -0.75 -4.03125 -0.75 -3.1875 C -0.75 -2.078125 -1.59375 -1.421875 -3.078125 -1.421875 C -4.65625 -1.421875 -5.546875 -2.0625 -5.546875 -3.15625 C -5.546875 -4 -5.046875 -4.53125 -4.171875 -4.640625 L -4.171875 -5.65625 C -5.71875 -5.53125 -6.46875 -4.578125 -6.46875 -3.171875 C -6.46875 -1.46875 -5.171875 -0.375 -3.078125 -0.375 C -1.0625 -0.375 0.1875 -1.453125 0.1875 -3.15625 C 0.1875 -4.65625 -0.71875 -5.609375 -2.15625 -5.71875 Z M -2.15625 -5.71875 \"/>\n",
       "</symbol>\n",
       "<symbol overflow=\"visible\" id=\"glyph2-8\">\n",
       "<path style=\"stroke:none;\" d=\"M -6.28125 -5.734375 L -6.28125 -4.65625 L -1.390625 -2.921875 L -6.28125 -1.3125 L -6.28125 -0.234375 L 0.03125 -2.359375 L 1.015625 -1.984375 C 1.46875 -1.8125 1.625 -1.609375 1.625 -1.171875 C 1.625 -1.03125 1.609375 -0.859375 1.5625 -0.640625 L 2.453125 -0.640625 C 2.5625 -0.859375 2.609375 -1.0625 2.609375 -1.3125 C 2.609375 -2.03125 2.21875 -2.609375 1.3125 -2.9375 Z M -6.28125 -5.734375 \"/>\n",
       "</symbol>\n",
       "<symbol overflow=\"visible\" id=\"glyph2-9\">\n",
       "<path style=\"stroke:none;\" d=\"M -4.09375 -6.078125 C -7.046875 -6.078125 -8.515625 -5.140625 -8.515625 -3.296875 C -8.515625 -1.46875 -7.015625 -0.515625 -4.15625 -0.515625 C -1.296875 -0.515625 0.1875 -1.46875 0.1875 -3.296875 C 0.1875 -5.09375 -1.296875 -6.078125 -4.09375 -6.078125 Z M -4.1875 -5 C -1.78125 -5 -0.703125 -4.453125 -0.703125 -3.28125 C -0.703125 -2.15625 -1.828125 -1.59375 -4.15625 -1.59375 C -6.484375 -1.59375 -7.578125 -2.15625 -7.578125 -3.296875 C -7.578125 -4.4375 -6.46875 -5 -4.1875 -5 Z M -4.1875 -5 \"/>\n",
       "</symbol>\n",
       "<symbol overflow=\"visible\" id=\"glyph2-10\">\n",
       "<path style=\"stroke:none;\" d=\"M -6.015625 -6.125 C -7.453125 -6.125 -8.515625 -5.015625 -8.515625 -3.40625 C -8.515625 -1.671875 -7.625 -0.65625 -5.5625 -0.59375 L -5.5625 -1.65625 C -6.984375 -1.734375 -7.578125 -2.328125 -7.578125 -3.375 C -7.578125 -4.328125 -6.90625 -5.046875 -5.984375 -5.046875 C -5.3125 -5.046875 -4.734375 -4.65625 -4.3125 -3.90625 L -3.6875 -2.796875 C -2.671875 -1.015625 -1.875 -0.5 0 -0.40625 L 0 -6.078125 L -1.046875 -6.078125 L -1.046875 -1.59375 C -1.734375 -1.703125 -2.1875 -2.09375 -2.796875 -3.125 L -3.4375 -4.328125 C -4.078125 -5.515625 -4.96875 -6.125 -6.015625 -6.125 Z M -6.015625 -6.125 \"/>\n",
       "</symbol>\n",
       "<symbol overflow=\"visible\" id=\"glyph2-11\">\n",
       "<path style=\"stroke:none;\" d=\"M -2.046875 -6.234375 L -2.984375 -6.234375 L -2.984375 -4.984375 L -8.515625 -4.984375 L -8.515625 -4.203125 L -3.15625 -0.34375 L -2.046875 -0.34375 L -2.046875 -3.921875 L 0 -3.921875 L 0 -4.984375 L -2.046875 -4.984375 Z M -2.984375 -3.921875 L -2.984375 -1.265625 L -6.703125 -3.921875 Z M -2.984375 -3.921875 \"/>\n",
       "</symbol>\n",
       "<symbol overflow=\"visible\" id=\"glyph2-12\">\n",
       "<path style=\"stroke:none;\" d=\"M -2.640625 -6.15625 C -4.21875 -6.15625 -5.296875 -5.078125 -5.296875 -3.546875 C -5.296875 -2.71875 -4.96875 -2.046875 -4.34375 -1.59375 C -6.421875 -1.609375 -7.578125 -2.28125 -7.578125 -3.484375 C -7.578125 -4.234375 -7.109375 -4.75 -6.28125 -4.921875 L -6.28125 -5.96875 C -7.6875 -5.765625 -8.515625 -4.859375 -8.515625 -3.5625 C -8.515625 -1.578125 -6.84375 -0.515625 -3.875 -0.515625 C -1.21875 -0.515625 0.1875 -1.421875 0.1875 -3.375 C 0.1875 -4.984375 -0.96875 -6.15625 -2.640625 -6.15625 Z M -2.5625 -5.078125 C -1.484375 -5.078125 -0.75 -4.359375 -0.75 -3.390625 C -0.75 -2.40625 -1.53125 -1.65625 -2.609375 -1.65625 C -3.671875 -1.65625 -4.359375 -2.375 -4.359375 -3.421875 C -4.359375 -4.4375 -3.703125 -5.078125 -2.5625 -5.078125 Z M -2.5625 -5.078125 \"/>\n",
       "</symbol>\n",
       "<symbol overflow=\"visible\" id=\"glyph2-13\">\n",
       "<path style=\"stroke:none;\" d=\"M -2.40625 -6.15625 C -3.34375 -6.15625 -4.015625 -5.671875 -4.46875 -4.6875 C -5 -5.5625 -5.4375 -5.859375 -6.234375 -5.859375 C -7.578125 -5.859375 -8.515625 -4.8125 -8.515625 -3.296875 C -8.515625 -1.796875 -7.578125 -0.75 -6.234375 -0.75 C -5.453125 -0.75 -5.015625 -1.03125 -4.46875 -1.890625 C -4.015625 -0.921875 -3.34375 -0.4375 -2.40625 -0.4375 C -0.859375 -0.4375 0.1875 -1.625 0.1875 -3.296875 C 0.1875 -4.984375 -0.859375 -6.15625 -2.40625 -6.15625 Z M -6.21875 -4.78125 C -5.421875 -4.78125 -4.890625 -4.1875 -4.890625 -3.296875 C -4.890625 -2.40625 -5.421875 -1.828125 -6.234375 -1.828125 C -7.046875 -1.828125 -7.578125 -2.40625 -7.578125 -3.296875 C -7.578125 -4.203125 -7.046875 -4.78125 -6.21875 -4.78125 Z M -2.390625 -5.078125 C -1.375 -5.078125 -0.75 -4.359375 -0.75 -3.28125 C -0.75 -2.25 -1.390625 -1.53125 -2.390625 -1.53125 C -3.390625 -1.53125 -4.015625 -2.25 -4.015625 -3.296875 C -4.015625 -4.359375 -3.390625 -5.078125 -2.390625 -5.078125 Z M -2.390625 -5.078125 \"/>\n",
       "</symbol>\n",
       "<symbol overflow=\"visible\" id=\"glyph2-14\">\n",
       "<path style=\"stroke:none;\" d=\"M 0 -4.15625 L -8.515625 -4.15625 L -8.515625 -3.46875 C -7.203125 -3.09375 -7.015625 -2.859375 -6.8125 -1.21875 L -6.0625 -1.21875 L -6.0625 -3.109375 L 0 -3.109375 Z M 0 -4.15625 \"/>\n",
       "</symbol>\n",
       "</g>\n",
       "</defs>\n",
       "<g id=\"surface79\">\n",
       "<rect x=\"0\" y=\"0\" width=\"432\" height=\"288\" style=\"fill:rgb(100%,100%,100%);fill-opacity:1;stroke:none;\"/>\n",
       "<g style=\"fill:rgb(0%,0%,0%);fill-opacity:1;\">\n",
       "  <use xlink:href=\"#glyph0-1\" x=\"142.898438\" y=\"34.21875\"/>\n",
       "  <use xlink:href=\"#glyph0-2\" x=\"153.299805\" y=\"34.21875\"/>\n",
       "  <use xlink:href=\"#glyph0-3\" x=\"157.304688\" y=\"34.21875\"/>\n",
       "  <use xlink:href=\"#glyph0-4\" x=\"165.314453\" y=\"34.21875\"/>\n",
       "  <use xlink:href=\"#glyph0-5\" x=\"169.967773\" y=\"34.21875\"/>\n",
       "  <use xlink:href=\"#glyph0-6\" x=\"178.769531\" y=\"34.21875\"/>\n",
       "  <use xlink:href=\"#glyph0-7\" x=\"187.571289\" y=\"34.21875\"/>\n",
       "  <use xlink:href=\"#glyph0-8\" x=\"193.24707\" y=\"34.21875\"/>\n",
       "  <use xlink:href=\"#glyph0-9\" x=\"201.256836\" y=\"34.21875\"/>\n",
       "  <use xlink:href=\"#glyph0-10\" x=\"214.063477\" y=\"34.21875\"/>\n",
       "  <use xlink:href=\"#glyph0-5\" x=\"218.068359\" y=\"34.21875\"/>\n",
       "  <use xlink:href=\"#glyph0-11\" x=\"226.870117\" y=\"34.21875\"/>\n",
       "  <use xlink:href=\"#glyph0-10\" x=\"231.666992\" y=\"34.21875\"/>\n",
       "  <use xlink:href=\"#glyph0-12\" x=\"235.671875\" y=\"34.21875\"/>\n",
       "  <use xlink:href=\"#glyph0-2\" x=\"239.676758\" y=\"34.21875\"/>\n",
       "  <use xlink:href=\"#glyph0-9\" x=\"243.681641\" y=\"34.21875\"/>\n",
       "  <use xlink:href=\"#glyph0-2\" x=\"256.488281\" y=\"34.21875\"/>\n",
       "  <use xlink:href=\"#glyph0-4\" x=\"260.493164\" y=\"34.21875\"/>\n",
       "  <use xlink:href=\"#glyph0-13\" x=\"265.21875\" y=\"34.21875\"/>\n",
       "  <use xlink:href=\"#glyph0-14\" x=\"273.228516\" y=\"34.21875\"/>\n",
       "  <use xlink:href=\"#glyph0-15\" x=\"282.030273\" y=\"34.21875\"/>\n",
       "  <use xlink:href=\"#glyph0-16\" x=\"290.040039\" y=\"34.21875\"/>\n",
       "  <use xlink:href=\"#glyph0-6\" x=\"300.225586\" y=\"34.21875\"/>\n",
       "  <use xlink:href=\"#glyph0-13\" x=\"309.170898\" y=\"34.21875\"/>\n",
       "</g>\n",
       "<g style=\"fill:rgb(0%,0%,0%);fill-opacity:1;\">\n",
       "  <use xlink:href=\"#glyph1-1\" x=\"198.898438\" y=\"269.057617\"/>\n",
       "  <use xlink:href=\"#glyph1-2\" x=\"201.5625\" y=\"269.057617\"/>\n",
       "  <use xlink:href=\"#glyph1-3\" x=\"204.226562\" y=\"269.057617\"/>\n",
       "  <use xlink:href=\"#glyph1-2\" x=\"214.222656\" y=\"269.057617\"/>\n",
       "  <use xlink:href=\"#glyph1-4\" x=\"216.886719\" y=\"269.057617\"/>\n",
       "  <use xlink:href=\"#glyph1-5\" x=\"220.042969\" y=\"269.057617\"/>\n",
       "  <use xlink:href=\"#glyph1-6\" x=\"226.714844\" y=\"269.057617\"/>\n",
       "  <use xlink:href=\"#glyph1-7\" x=\"233.386719\" y=\"269.057617\"/>\n",
       "  <use xlink:href=\"#glyph1-8\" x=\"240.058594\" y=\"269.057617\"/>\n",
       "  <use xlink:href=\"#glyph1-9\" x=\"247.943359\" y=\"269.057617\"/>\n",
       "  <use xlink:href=\"#glyph1-5\" x=\"254.615234\" y=\"269.057617\"/>\n",
       "</g>\n",
       "<g style=\"fill:rgb(0%,0%,0%);fill-opacity:1;\">\n",
       "  <use xlink:href=\"#glyph2-1\" x=\"12.737305\" y=\"165.300781\"/>\n",
       "  <use xlink:href=\"#glyph2-2\" x=\"12.737305\" y=\"158.388672\"/>\n",
       "  <use xlink:href=\"#glyph2-3\" x=\"12.737305\" y=\"154.511719\"/>\n",
       "  <use xlink:href=\"#glyph2-4\" x=\"12.737305\" y=\"147.839844\"/>\n",
       "  <use xlink:href=\"#glyph2-5\" x=\"12.737305\" y=\"141.108398\"/>\n",
       "  <use xlink:href=\"#glyph2-3\" x=\"12.737305\" y=\"134.436523\"/>\n",
       "  <use xlink:href=\"#glyph2-6\" x=\"12.737305\" y=\"127.764648\"/>\n",
       "  <use xlink:href=\"#glyph2-7\" x=\"12.737305\" y=\"121.092773\"/>\n",
       "  <use xlink:href=\"#glyph2-8\" x=\"12.737305\" y=\"115.092773\"/>\n",
       "</g>\n",
       "<path style=\"fill:none;stroke-width:0.75;stroke-linecap:round;stroke-linejoin:round;stroke:rgb(0%,0%,0%);stroke-opacity:1;stroke-miterlimit:10;\" d=\"M 91.566406 214.558594 L 329.566406 214.558594 \"/>\n",
       "<path style=\"fill:none;stroke-width:0.75;stroke-linecap:round;stroke-linejoin:round;stroke:rgb(0%,0%,0%);stroke-opacity:1;stroke-miterlimit:10;\" d=\"M 91.566406 214.558594 L 91.566406 221.761719 \"/>\n",
       "<path style=\"fill:none;stroke-width:0.75;stroke-linecap:round;stroke-linejoin:round;stroke:rgb(0%,0%,0%);stroke-opacity:1;stroke-miterlimit:10;\" d=\"M 170.898438 214.558594 L 170.898438 221.761719 \"/>\n",
       "<path style=\"fill:none;stroke-width:0.75;stroke-linecap:round;stroke-linejoin:round;stroke:rgb(0%,0%,0%);stroke-opacity:1;stroke-miterlimit:10;\" d=\"M 250.234375 214.558594 L 250.234375 221.761719 \"/>\n",
       "<path style=\"fill:none;stroke-width:0.75;stroke-linecap:round;stroke-linejoin:round;stroke:rgb(0%,0%,0%);stroke-opacity:1;stroke-miterlimit:10;\" d=\"M 329.566406 214.558594 L 329.566406 221.761719 \"/>\n",
       "<g style=\"fill:rgb(0%,0%,0%);fill-opacity:1;\">\n",
       "  <use xlink:href=\"#glyph1-10\" x=\"84.566406\" y=\"240.256836\"/>\n",
       "  <use xlink:href=\"#glyph1-11\" x=\"91.238281\" y=\"240.256836\"/>\n",
       "</g>\n",
       "<g style=\"fill:rgb(0%,0%,0%);fill-opacity:1;\">\n",
       "  <use xlink:href=\"#glyph1-12\" x=\"163.898438\" y=\"240.256836\"/>\n",
       "  <use xlink:href=\"#glyph1-11\" x=\"170.570312\" y=\"240.256836\"/>\n",
       "</g>\n",
       "<g style=\"fill:rgb(0%,0%,0%);fill-opacity:1;\">\n",
       "  <use xlink:href=\"#glyph1-13\" x=\"243.234375\" y=\"240.256836\"/>\n",
       "  <use xlink:href=\"#glyph1-11\" x=\"249.90625\" y=\"240.256836\"/>\n",
       "</g>\n",
       "<g style=\"fill:rgb(0%,0%,0%);fill-opacity:1;\">\n",
       "  <use xlink:href=\"#glyph1-14\" x=\"322.566406\" y=\"240.256836\"/>\n",
       "  <use xlink:href=\"#glyph1-11\" x=\"329.238281\" y=\"240.256836\"/>\n",
       "</g>\n",
       "<path style=\"fill:none;stroke-width:0.75;stroke-linecap:round;stroke-linejoin:round;stroke:rgb(0%,0%,0%);stroke-opacity:1;stroke-miterlimit:10;\" d=\"M 59.039062 208.800781 L 59.039062 67.625 \"/>\n",
       "<path style=\"fill:none;stroke-width:0.75;stroke-linecap:round;stroke-linejoin:round;stroke:rgb(0%,0%,0%);stroke-opacity:1;stroke-miterlimit:10;\" d=\"M 59.039062 208.800781 L 51.839844 208.800781 \"/>\n",
       "<path style=\"fill:none;stroke-width:0.75;stroke-linecap:round;stroke-linejoin:round;stroke:rgb(0%,0%,0%);stroke-opacity:1;stroke-miterlimit:10;\" d=\"M 59.039062 180.566406 L 51.839844 180.566406 \"/>\n",
       "<path style=\"fill:none;stroke-width:0.75;stroke-linecap:round;stroke-linejoin:round;stroke:rgb(0%,0%,0%);stroke-opacity:1;stroke-miterlimit:10;\" d=\"M 59.039062 152.328125 L 51.839844 152.328125 \"/>\n",
       "<path style=\"fill:none;stroke-width:0.75;stroke-linecap:round;stroke-linejoin:round;stroke:rgb(0%,0%,0%);stroke-opacity:1;stroke-miterlimit:10;\" d=\"M 59.039062 124.09375 L 51.839844 124.09375 \"/>\n",
       "<path style=\"fill:none;stroke-width:0.75;stroke-linecap:round;stroke-linejoin:round;stroke:rgb(0%,0%,0%);stroke-opacity:1;stroke-miterlimit:10;\" d=\"M 59.039062 95.859375 L 51.839844 95.859375 \"/>\n",
       "<path style=\"fill:none;stroke-width:0.75;stroke-linecap:round;stroke-linejoin:round;stroke:rgb(0%,0%,0%);stroke-opacity:1;stroke-miterlimit:10;\" d=\"M 59.039062 67.625 L 51.839844 67.625 \"/>\n",
       "<g style=\"fill:rgb(0%,0%,0%);fill-opacity:1;\">\n",
       "  <use xlink:href=\"#glyph2-9\" x=\"41.538086\" y=\"212.300781\"/>\n",
       "</g>\n",
       "<g style=\"fill:rgb(0%,0%,0%);fill-opacity:1;\">\n",
       "  <use xlink:href=\"#glyph2-10\" x=\"41.538086\" y=\"187.566406\"/>\n",
       "  <use xlink:href=\"#glyph2-9\" x=\"41.538086\" y=\"180.894531\"/>\n",
       "</g>\n",
       "<g style=\"fill:rgb(0%,0%,0%);fill-opacity:1;\">\n",
       "  <use xlink:href=\"#glyph2-11\" x=\"41.538086\" y=\"159.328125\"/>\n",
       "  <use xlink:href=\"#glyph2-9\" x=\"41.538086\" y=\"152.65625\"/>\n",
       "</g>\n",
       "<g style=\"fill:rgb(0%,0%,0%);fill-opacity:1;\">\n",
       "  <use xlink:href=\"#glyph2-12\" x=\"41.538086\" y=\"131.09375\"/>\n",
       "  <use xlink:href=\"#glyph2-9\" x=\"41.538086\" y=\"124.421875\"/>\n",
       "</g>\n",
       "<g style=\"fill:rgb(0%,0%,0%);fill-opacity:1;\">\n",
       "  <use xlink:href=\"#glyph2-13\" x=\"41.538086\" y=\"102.859375\"/>\n",
       "  <use xlink:href=\"#glyph2-9\" x=\"41.538086\" y=\"96.1875\"/>\n",
       "</g>\n",
       "<g style=\"fill:rgb(0%,0%,0%);fill-opacity:1;\">\n",
       "  <use xlink:href=\"#glyph2-14\" x=\"41.538086\" y=\"78.125\"/>\n",
       "  <use xlink:href=\"#glyph2-9\" x=\"41.538086\" y=\"71.453125\"/>\n",
       "  <use xlink:href=\"#glyph2-9\" x=\"41.538086\" y=\"64.78125\"/>\n",
       "</g>\n",
       "<path style=\"fill:none;stroke-width:0.75;stroke-linecap:round;stroke-linejoin:round;stroke:rgb(0%,0%,0%);stroke-opacity:1;stroke-miterlimit:10;\" d=\"M 71.734375 208.800781 L 91.566406 208.800781 L 91.566406 152.332031 L 71.734375 152.332031 Z M 71.734375 208.800781 \"/>\n",
       "<path style=\"fill:none;stroke-width:0.75;stroke-linecap:round;stroke-linejoin:round;stroke:rgb(0%,0%,0%);stroke-opacity:1;stroke-miterlimit:10;\" d=\"M 91.566406 208.800781 L 111.398438 208.800781 L 111.398438 121.269531 L 91.566406 121.269531 Z M 91.566406 208.800781 \"/>\n",
       "<path style=\"fill:none;stroke-width:0.75;stroke-linecap:round;stroke-linejoin:round;stroke:rgb(0%,0%,0%);stroke-opacity:1;stroke-miterlimit:10;\" d=\"M 111.398438 208.800781 L 131.230469 208.800781 L 131.230469 118.449219 L 111.398438 118.449219 Z M 111.398438 208.800781 \"/>\n",
       "<path style=\"fill:none;stroke-width:0.75;stroke-linecap:round;stroke-linejoin:round;stroke:rgb(0%,0%,0%);stroke-opacity:1;stroke-miterlimit:10;\" d=\"M 131.234375 208.800781 L 151.066406 208.800781 L 151.066406 136.800781 L 131.234375 136.800781 Z M 131.234375 208.800781 \"/>\n",
       "<path style=\"fill:none;stroke-width:0.75;stroke-linecap:round;stroke-linejoin:round;stroke:rgb(0%,0%,0%);stroke-opacity:1;stroke-miterlimit:10;\" d=\"M 151.066406 208.800781 L 170.898438 208.800781 L 170.898438 142.449219 L 151.066406 142.449219 Z M 151.066406 208.800781 \"/>\n",
       "<path style=\"fill:none;stroke-width:0.75;stroke-linecap:round;stroke-linejoin:round;stroke:rgb(0%,0%,0%);stroke-opacity:1;stroke-miterlimit:10;\" d=\"M 170.898438 208.800781 L 190.730469 208.800781 L 190.730469 133.976562 L 170.898438 133.976562 Z M 170.898438 208.800781 \"/>\n",
       "<path style=\"fill:none;stroke-width:0.75;stroke-linecap:round;stroke-linejoin:round;stroke:rgb(0%,0%,0%);stroke-opacity:1;stroke-miterlimit:10;\" d=\"M 190.734375 208.800781 L 210.566406 208.800781 L 210.566406 117.035156 L 190.734375 117.035156 Z M 190.734375 208.800781 \"/>\n",
       "<path style=\"fill:none;stroke-width:0.75;stroke-linecap:round;stroke-linejoin:round;stroke:rgb(0%,0%,0%);stroke-opacity:1;stroke-miterlimit:10;\" d=\"M 210.566406 208.800781 L 230.398438 208.800781 L 230.398438 100.09375 L 210.566406 100.09375 Z M 210.566406 208.800781 \"/>\n",
       "<path style=\"fill:none;stroke-width:0.75;stroke-linecap:round;stroke-linejoin:round;stroke:rgb(0%,0%,0%);stroke-opacity:1;stroke-miterlimit:10;\" d=\"M 230.398438 208.800781 L 250.230469 208.800781 L 250.230469 64.800781 L 230.398438 64.800781 Z M 230.398438 208.800781 \"/>\n",
       "<path style=\"fill:none;stroke-width:0.75;stroke-linecap:round;stroke-linejoin:round;stroke:rgb(0%,0%,0%);stroke-opacity:1;stroke-miterlimit:10;\" d=\"M 250.234375 208.800781 L 270.066406 208.800781 L 270.066406 98.683594 L 250.234375 98.683594 Z M 250.234375 208.800781 \"/>\n",
       "<path style=\"fill:none;stroke-width:0.75;stroke-linecap:round;stroke-linejoin:round;stroke:rgb(0%,0%,0%);stroke-opacity:1;stroke-miterlimit:10;\" d=\"M 270.066406 208.800781 L 289.898438 208.800781 L 289.898438 133.976562 L 270.066406 133.976562 Z M 270.066406 208.800781 \"/>\n",
       "<path style=\"fill:none;stroke-width:0.75;stroke-linecap:round;stroke-linejoin:round;stroke:rgb(0%,0%,0%);stroke-opacity:1;stroke-miterlimit:10;\" d=\"M 289.898438 208.800781 L 309.730469 208.800781 L 309.730469 156.566406 L 289.898438 156.566406 Z M 289.898438 208.800781 \"/>\n",
       "<path style=\"fill:none;stroke-width:0.75;stroke-linecap:round;stroke-linejoin:round;stroke:rgb(0%,0%,0%);stroke-opacity:1;stroke-miterlimit:10;\" d=\"M 309.734375 208.800781 L 329.566406 208.800781 L 329.566406 174.917969 L 309.734375 174.917969 Z M 309.734375 208.800781 \"/>\n",
       "<path style=\"fill:none;stroke-width:0.75;stroke-linecap:round;stroke-linejoin:round;stroke:rgb(0%,0%,0%);stroke-opacity:1;stroke-miterlimit:10;\" d=\"M 329.566406 208.800781 L 349.398438 208.800781 L 349.398438 193.269531 L 329.566406 193.269531 Z M 329.566406 208.800781 \"/>\n",
       "<path style=\"fill:none;stroke-width:0.75;stroke-linecap:round;stroke-linejoin:round;stroke:rgb(0%,0%,0%);stroke-opacity:1;stroke-miterlimit:10;\" d=\"M 349.398438 208.800781 L 369.230469 208.800781 L 369.230469 205.976562 L 349.398438 205.976562 Z M 349.398438 208.800781 \"/>\n",
       "<path style=\"fill:none;stroke-width:0.75;stroke-linecap:round;stroke-linejoin:round;stroke:rgb(0%,0%,0%);stroke-opacity:1;stroke-miterlimit:10;\" d=\"M 369.234375 208.800781 L 389.066406 208.800781 L 389.066406 203.152344 L 369.234375 203.152344 Z M 369.234375 208.800781 \"/>\n",
       "</g>\n",
       "</svg>\n"
      ],
      "text/plain": [
       "Plot with title \"Histogram of limited$Age\""
      ]
     },
     "metadata": {
      "image/svg+xml": {
       "isolated": true
      }
     },
     "output_type": "display_data"
    }
   ],
   "source": [
    "options(repr.plot.width=6, repr.plot.height=4)\n",
    "hist(limited$Age)"
   ]
  },
  {
   "cell_type": "code",
   "execution_count": 61,
   "metadata": {
    "collapsed": false
   },
   "outputs": [
    {
     "data": {
      "image/png": "[encoded data removed]",
      "image/svg+xml": [
       "<?xml version=\"1.0\" encoding=\"UTF-8\"?>\n",
       "<svg xmlns=\"http://www.w3.org/2000/svg\" xmlns:xlink=\"http://www.w3.org/1999/xlink\" width=\"432pt\" height=\"288pt\" viewBox=\"0 0 432 288\" version=\"1.1\">\n",
       "<defs>\n",
       "<g>\n",
       "<symbol overflow=\"visible\" id=\"glyph0-0\">\n",
       "<path style=\"stroke:none;\" d=\"\"/>\n",
       "</symbol>\n",
       "<symbol overflow=\"visible\" id=\"glyph0-1\">\n",
       "<path style=\"stroke:none;\" d=\"M 6.125 -6.015625 C 6.125 -7.453125 5.015625 -8.515625 3.40625 -8.515625 C 1.671875 -8.515625 0.65625 -7.625 0.59375 -5.5625 L 1.65625 -5.5625 C 1.734375 -6.984375 2.328125 -7.578125 3.375 -7.578125 C 4.328125 -7.578125 5.046875 -6.90625 5.046875 -5.984375 C 5.046875 -5.3125 4.65625 -4.734375 3.90625 -4.3125 L 2.796875 -3.6875 C 1.015625 -2.671875 0.5 -1.875 0.40625 0 L 6.078125 0 L 6.078125 -1.046875 L 1.59375 -1.046875 C 1.703125 -1.734375 2.09375 -2.1875 3.125 -2.796875 L 4.328125 -3.4375 C 5.515625 -4.078125 6.125 -4.96875 6.125 -6.015625 Z M 6.125 -6.015625 \"/>\n",
       "</symbol>\n",
       "<symbol overflow=\"visible\" id=\"glyph0-2\">\n",
       "<path style=\"stroke:none;\" d=\"M 6.078125 -4.09375 C 6.078125 -7.046875 5.140625 -8.515625 3.296875 -8.515625 C 1.46875 -8.515625 0.515625 -7.015625 0.515625 -4.15625 C 0.515625 -1.296875 1.46875 0.1875 3.296875 0.1875 C 5.09375 0.1875 6.078125 -1.296875 6.078125 -4.09375 Z M 5 -4.1875 C 5 -1.78125 4.453125 -0.703125 3.28125 -0.703125 C 2.15625 -0.703125 1.59375 -1.828125 1.59375 -4.15625 C 1.59375 -6.484375 2.15625 -7.578125 3.296875 -7.578125 C 4.4375 -7.578125 5 -6.46875 5 -4.1875 Z M 5 -4.1875 \"/>\n",
       "</symbol>\n",
       "<symbol overflow=\"visible\" id=\"glyph0-3\">\n",
       "<path style=\"stroke:none;\" d=\"M 6.234375 -2.046875 L 6.234375 -2.984375 L 4.984375 -2.984375 L 4.984375 -8.515625 L 4.203125 -8.515625 L 0.34375 -3.15625 L 0.34375 -2.046875 L 3.921875 -2.046875 L 3.921875 0 L 4.984375 0 L 4.984375 -2.046875 Z M 3.921875 -2.984375 L 1.265625 -2.984375 L 3.921875 -6.703125 Z M 3.921875 -2.984375 \"/>\n",
       "</symbol>\n",
       "<symbol overflow=\"visible\" id=\"glyph0-4\">\n",
       "<path style=\"stroke:none;\" d=\"M 6.15625 -2.640625 C 6.15625 -4.21875 5.078125 -5.296875 3.546875 -5.296875 C 2.71875 -5.296875 2.046875 -4.96875 1.59375 -4.34375 C 1.609375 -6.421875 2.28125 -7.578125 3.484375 -7.578125 C 4.234375 -7.578125 4.75 -7.109375 4.921875 -6.28125 L 5.96875 -6.28125 C 5.765625 -7.6875 4.859375 -8.515625 3.5625 -8.515625 C 1.578125 -8.515625 0.515625 -6.84375 0.515625 -3.875 C 0.515625 -1.21875 1.421875 0.1875 3.375 0.1875 C 4.984375 0.1875 6.15625 -0.96875 6.15625 -2.640625 Z M 5.078125 -2.5625 C 5.078125 -1.484375 4.359375 -0.75 3.390625 -0.75 C 2.40625 -0.75 1.65625 -1.53125 1.65625 -2.609375 C 1.65625 -3.671875 2.375 -4.359375 3.421875 -4.359375 C 4.4375 -4.359375 5.078125 -3.703125 5.078125 -2.5625 Z M 5.078125 -2.5625 \"/>\n",
       "</symbol>\n",
       "<symbol overflow=\"visible\" id=\"glyph0-5\">\n",
       "<path style=\"stroke:none;\" d=\"M 6.15625 -2.40625 C 6.15625 -3.34375 5.671875 -4.015625 4.6875 -4.46875 C 5.5625 -5 5.859375 -5.4375 5.859375 -6.234375 C 5.859375 -7.578125 4.8125 -8.515625 3.296875 -8.515625 C 1.796875 -8.515625 0.75 -7.578125 0.75 -6.234375 C 0.75 -5.453125 1.03125 -5.015625 1.890625 -4.46875 C 0.921875 -4.015625 0.4375 -3.34375 0.4375 -2.40625 C 0.4375 -0.859375 1.625 0.1875 3.296875 0.1875 C 4.984375 0.1875 6.15625 -0.859375 6.15625 -2.40625 Z M 4.78125 -6.21875 C 4.78125 -5.421875 4.1875 -4.890625 3.296875 -4.890625 C 2.40625 -4.890625 1.828125 -5.421875 1.828125 -6.234375 C 1.828125 -7.046875 2.40625 -7.578125 3.296875 -7.578125 C 4.203125 -7.578125 4.78125 -7.046875 4.78125 -6.21875 Z M 5.078125 -2.390625 C 5.078125 -1.375 4.359375 -0.75 3.28125 -0.75 C 2.25 -0.75 1.53125 -1.390625 1.53125 -2.390625 C 1.53125 -3.390625 2.25 -4.015625 3.296875 -4.015625 C 4.359375 -4.015625 5.078125 -3.390625 5.078125 -2.390625 Z M 5.078125 -2.390625 \"/>\n",
       "</symbol>\n",
       "<symbol overflow=\"visible\" id=\"glyph0-6\">\n",
       "<path style=\"stroke:none;\" d=\"M 1.8125 0 L 1.8125 -8.75 L 0.8125 -8.75 L 0.8125 0 Z M 1.8125 0 \"/>\n",
       "</symbol>\n",
       "<symbol overflow=\"visible\" id=\"glyph0-7\">\n",
       "<path style=\"stroke:none;\" d=\"M 1.84375 0 L 1.84375 -6.28125 L 0.84375 -6.28125 L 0.84375 0 Z M 1.96875 -7.234375 L 1.96875 -8.484375 L 0.71875 -8.484375 L 0.71875 -7.234375 Z M 1.96875 -7.234375 \"/>\n",
       "</symbol>\n",
       "<symbol overflow=\"visible\" id=\"glyph0-8\">\n",
       "<path style=\"stroke:none;\" d=\"M 9.125 0 L 9.125 -4.71875 C 9.125 -5.84375 8.5 -6.46875 7.3125 -6.46875 C 6.484375 -6.46875 5.96875 -6.21875 5.390625 -5.515625 C 5.015625 -6.1875 4.515625 -6.46875 3.703125 -6.46875 C 2.859375 -6.46875 2.296875 -6.15625 1.765625 -5.40625 L 1.765625 -6.28125 L 0.859375 -6.28125 L 0.859375 0 L 1.84375 0 L 1.84375 -3.953125 C 1.84375 -4.859375 2.515625 -5.59375 3.328125 -5.59375 C 4.0625 -5.59375 4.484375 -5.140625 4.484375 -4.328125 L 4.484375 0 L 5.484375 0 L 5.484375 -3.953125 C 5.484375 -4.859375 6.15625 -5.59375 6.96875 -5.59375 C 7.703125 -5.59375 8.125 -5.125 8.125 -4.328125 L 8.125 0 Z M 9.125 0 \"/>\n",
       "</symbol>\n",
       "<symbol overflow=\"visible\" id=\"glyph0-9\">\n",
       "<path style=\"stroke:none;\" d=\"M 3.046875 0 L 3.046875 -0.84375 C 2.921875 -0.796875 2.765625 -0.796875 2.5625 -0.796875 C 2.140625 -0.796875 2.015625 -0.90625 2.015625 -1.359375 L 2.015625 -5.46875 L 3.046875 -5.46875 L 3.046875 -6.28125 L 2.015625 -6.28125 L 2.015625 -8.015625 L 1.015625 -8.015625 L 1.015625 -6.28125 L 0.171875 -6.28125 L 0.171875 -5.46875 L 1.015625 -5.46875 L 1.015625 -0.90625 C 1.015625 -0.28125 1.453125 0.078125 2.234375 0.078125 C 2.46875 0.078125 2.71875 0.0625 3.046875 0 Z M 3.046875 0 \"/>\n",
       "</symbol>\n",
       "<symbol overflow=\"visible\" id=\"glyph0-10\">\n",
       "<path style=\"stroke:none;\" d=\"M 6.15625 -2.859375 C 6.15625 -3.765625 6.078125 -4.34375 5.90625 -4.8125 C 5.5 -5.84375 4.53125 -6.46875 3.359375 -6.46875 C 1.609375 -6.46875 0.484375 -5.171875 0.484375 -3.109375 C 0.484375 -1.046875 1.578125 0.1875 3.34375 0.1875 C 4.78125 0.1875 5.765625 -0.640625 6.03125 -1.90625 L 5.015625 -1.90625 C 4.734375 -1.078125 4.171875 -0.75 3.375 -0.75 C 2.328125 -0.75 1.546875 -1.421875 1.53125 -2.859375 Z M 5.09375 -3.75 C 5.09375 -3.75 5.09375 -3.703125 5.078125 -3.671875 L 1.546875 -3.671875 C 1.625 -4.78125 2.34375 -5.546875 3.34375 -5.546875 C 4.328125 -5.546875 5.09375 -4.734375 5.09375 -3.75 Z M 5.09375 -3.75 \"/>\n",
       "</symbol>\n",
       "<symbol overflow=\"visible\" id=\"glyph0-11\">\n",
       "<path style=\"stroke:none;\" d=\"M 5.9375 0 L 5.9375 -8.75 L 4.9375 -8.75 L 4.9375 -5.5 C 4.53125 -6.125 3.859375 -6.46875 3.015625 -6.46875 C 1.375 -6.46875 0.3125 -5.203125 0.3125 -3.203125 C 0.3125 -1.078125 1.359375 0.1875 3.046875 0.1875 C 3.90625 0.1875 4.515625 -0.140625 5.046875 -0.921875 L 5.046875 0 Z M 4.9375 -3.125 C 4.9375 -1.671875 4.25 -0.75 3.1875 -0.75 C 2.09375 -0.75 1.359375 -1.6875 1.359375 -3.140625 C 1.359375 -4.609375 2.09375 -5.53125 3.1875 -5.53125 C 4.265625 -5.53125 4.9375 -4.578125 4.9375 -3.125 Z M 4.9375 -3.125 \"/>\n",
       "</symbol>\n",
       "<symbol overflow=\"visible\" id=\"glyph0-12\">\n",
       "<path style=\"stroke:none;\" d=\"M 6.21875 -2.34375 C 6.21875 -3.1875 5.890625 -3.796875 5.203125 -4.1875 C 4.890625 -4.375 4.734375 -4.421875 3.625 -4.765625 L 3.625 -7.75 C 4.421875 -7.71875 4.984375 -7.109375 5 -6.234375 L 5.953125 -6.234375 C 5.953125 -7.59375 5.078125 -8.484375 3.625 -8.59375 L 3.625 -9.234375 L 2.921875 -9.234375 L 2.921875 -8.59375 C 1.375 -8.40625 0.546875 -7.5625 0.546875 -6.1875 C 0.546875 -5.4375 0.84375 -4.84375 1.40625 -4.4375 C 1.71875 -4.21875 2.046875 -4.078125 2.921875 -3.8125 L 2.921875 -0.546875 C 2.390625 -0.625 1.90625 -0.859375 1.640625 -1.234375 C 1.453125 -1.5 1.421875 -1.71875 1.34375 -2.5 L 0.390625 -2.5 C 0.390625 -2.421875 0.390625 -2.359375 0.390625 -2.296875 C 0.390625 -0.75 1.296875 0.1875 2.921875 0.28125 L 2.921875 1.515625 L 3.625 1.515625 L 3.625 0.28125 C 5.3125 0.15625 6.21875 -0.828125 6.21875 -2.34375 Z M 2.921875 -4.859375 C 1.96875 -5.109375 1.53125 -5.578125 1.53125 -6.3125 C 1.53125 -7.109375 2.03125 -7.625 2.921875 -7.734375 Z M 5.234375 -2.203125 C 5.234375 -1.34375 4.6875 -0.671875 3.625 -0.546875 L 3.625 -3.703125 C 4.84375 -3.34375 5.234375 -2.984375 5.234375 -2.203125 Z M 5.234375 -2.203125 \"/>\n",
       "</symbol>\n",
       "<symbol overflow=\"visible\" id=\"glyph0-13\">\n",
       "<path style=\"stroke:none;\" d=\"M 7.84375 0 L 4.765625 -8.75 L 3.328125 -8.75 L 0.203125 0 L 1.390625 0 L 2.3125 -2.625 L 5.6875 -2.625 L 6.59375 0 Z M 5.375 -3.5625 L 2.59375 -3.5625 L 4.03125 -7.546875 Z M 5.375 -3.5625 \"/>\n",
       "</symbol>\n",
       "<symbol overflow=\"visible\" id=\"glyph0-14\">\n",
       "<path style=\"stroke:none;\" d=\"M 5.875 -1.03125 L 5.875 -6.28125 L 4.9375 -6.28125 L 4.9375 -5.375 C 4.4375 -6.125 3.828125 -6.46875 3.03125 -6.46875 C 1.421875 -6.46875 0.34375 -5.125 0.34375 -3.078125 C 0.34375 -1.109375 1.46875 0.1875 2.9375 0.1875 C 3.734375 0.1875 4.28125 -0.15625 4.9375 -0.953125 L 4.9375 -0.53125 C 4.9375 1.140625 4.265625 1.78125 3.09375 1.78125 C 2.296875 1.78125 1.6875 1.484375 1.578125 0.71875 L 0.546875 0.71875 C 0.65625 1.90625 1.578125 2.609375 3.0625 2.609375 C 5.03125 2.609375 5.875 1.734375 5.875 -1.03125 Z M 4.84375 -3.109375 C 4.84375 -1.609375 4.203125 -0.75 3.140625 -0.75 C 2.046875 -0.75 1.390625 -1.625 1.390625 -3.140625 C 1.390625 -4.65625 2.0625 -5.546875 3.125 -5.546875 C 4.21875 -5.546875 4.84375 -4.625 4.84375 -3.109375 Z M 4.84375 -3.109375 \"/>\n",
       "</symbol>\n",
       "<symbol overflow=\"visible\" id=\"glyph1-0\">\n",
       "<path style=\"stroke:none;\" d=\"\"/>\n",
       "</symbol>\n",
       "<symbol overflow=\"visible\" id=\"glyph1-1\">\n",
       "<path style=\"stroke:none;\" d=\"M -4.09375 -6.078125 C -7.046875 -6.078125 -8.515625 -5.140625 -8.515625 -3.296875 C -8.515625 -1.46875 -7.015625 -0.515625 -4.15625 -0.515625 C -1.296875 -0.515625 0.1875 -1.46875 0.1875 -3.296875 C 0.1875 -5.09375 -1.296875 -6.078125 -4.09375 -6.078125 Z M -4.1875 -5 C -1.78125 -5 -0.703125 -4.453125 -0.703125 -3.28125 C -0.703125 -2.15625 -1.828125 -1.59375 -4.15625 -1.59375 C -6.484375 -1.59375 -7.578125 -2.15625 -7.578125 -3.296875 C -7.578125 -4.4375 -6.46875 -5 -4.1875 -5 Z M -4.1875 -5 \"/>\n",
       "</symbol>\n",
       "<symbol overflow=\"visible\" id=\"glyph1-2\">\n",
       "<path style=\"stroke:none;\" d=\"M -6.015625 -6.125 C -7.453125 -6.125 -8.515625 -5.015625 -8.515625 -3.40625 C -8.515625 -1.671875 -7.625 -0.65625 -5.5625 -0.59375 L -5.5625 -1.65625 C -6.984375 -1.734375 -7.578125 -2.328125 -7.578125 -3.375 C -7.578125 -4.328125 -6.90625 -5.046875 -5.984375 -5.046875 C -5.3125 -5.046875 -4.734375 -4.65625 -4.3125 -3.90625 L -3.6875 -2.796875 C -2.671875 -1.015625 -1.875 -0.5 0 -0.40625 L 0 -6.078125 L -1.046875 -6.078125 L -1.046875 -1.59375 C -1.734375 -1.703125 -2.1875 -2.09375 -2.796875 -3.125 L -3.4375 -4.328125 C -4.078125 -5.515625 -4.96875 -6.125 -6.015625 -6.125 Z M -6.015625 -6.125 \"/>\n",
       "</symbol>\n",
       "<symbol overflow=\"visible\" id=\"glyph1-3\">\n",
       "<path style=\"stroke:none;\" d=\"M -2.046875 -6.234375 L -2.984375 -6.234375 L -2.984375 -4.984375 L -8.515625 -4.984375 L -8.515625 -4.203125 L -3.15625 -0.34375 L -2.046875 -0.34375 L -2.046875 -3.921875 L 0 -3.921875 L 0 -4.984375 L -2.046875 -4.984375 Z M -2.984375 -3.921875 L -2.984375 -1.265625 L -6.703125 -3.921875 Z M -2.984375 -3.921875 \"/>\n",
       "</symbol>\n",
       "<symbol overflow=\"visible\" id=\"glyph1-4\">\n",
       "<path style=\"stroke:none;\" d=\"M -2.640625 -6.15625 C -4.21875 -6.15625 -5.296875 -5.078125 -5.296875 -3.546875 C -5.296875 -2.71875 -4.96875 -2.046875 -4.34375 -1.59375 C -6.421875 -1.609375 -7.578125 -2.28125 -7.578125 -3.484375 C -7.578125 -4.234375 -7.109375 -4.75 -6.28125 -4.921875 L -6.28125 -5.96875 C -7.6875 -5.765625 -8.515625 -4.859375 -8.515625 -3.5625 C -8.515625 -1.578125 -6.84375 -0.515625 -3.875 -0.515625 C -1.21875 -0.515625 0.1875 -1.421875 0.1875 -3.375 C 0.1875 -4.984375 -0.96875 -6.15625 -2.640625 -6.15625 Z M -2.5625 -5.078125 C -1.484375 -5.078125 -0.75 -4.359375 -0.75 -3.390625 C -0.75 -2.40625 -1.53125 -1.65625 -2.609375 -1.65625 C -3.671875 -1.65625 -4.359375 -2.375 -4.359375 -3.421875 C -4.359375 -4.4375 -3.703125 -5.078125 -2.5625 -5.078125 Z M -2.5625 -5.078125 \"/>\n",
       "</symbol>\n",
       "<symbol overflow=\"visible\" id=\"glyph1-5\">\n",
       "<path style=\"stroke:none;\" d=\"M -2.40625 -6.15625 C -3.34375 -6.15625 -4.015625 -5.671875 -4.46875 -4.6875 C -5 -5.5625 -5.4375 -5.859375 -6.234375 -5.859375 C -7.578125 -5.859375 -8.515625 -4.8125 -8.515625 -3.296875 C -8.515625 -1.796875 -7.578125 -0.75 -6.234375 -0.75 C -5.453125 -0.75 -5.015625 -1.03125 -4.46875 -1.890625 C -4.015625 -0.921875 -3.34375 -0.4375 -2.40625 -0.4375 C -0.859375 -0.4375 0.1875 -1.625 0.1875 -3.296875 C 0.1875 -4.984375 -0.859375 -6.15625 -2.40625 -6.15625 Z M -6.21875 -4.78125 C -5.421875 -4.78125 -4.890625 -4.1875 -4.890625 -3.296875 C -4.890625 -2.40625 -5.421875 -1.828125 -6.234375 -1.828125 C -7.046875 -1.828125 -7.578125 -2.40625 -7.578125 -3.296875 C -7.578125 -4.203125 -7.046875 -4.78125 -6.21875 -4.78125 Z M -2.390625 -5.078125 C -1.375 -5.078125 -0.75 -4.359375 -0.75 -3.28125 C -0.75 -2.25 -1.390625 -1.53125 -2.390625 -1.53125 C -3.390625 -1.53125 -4.015625 -2.25 -4.015625 -3.296875 C -4.015625 -4.359375 -3.390625 -5.078125 -2.390625 -5.078125 Z M -2.390625 -5.078125 \"/>\n",
       "</symbol>\n",
       "<symbol overflow=\"visible\" id=\"glyph1-6\">\n",
       "<path style=\"stroke:none;\" d=\"M 0 -4.15625 L -8.515625 -4.15625 L -8.515625 -3.46875 C -7.203125 -3.09375 -7.015625 -2.859375 -6.8125 -1.21875 L -6.0625 -1.21875 L -6.0625 -3.109375 L 0 -3.109375 Z M 0 -4.15625 \"/>\n",
       "</symbol>\n",
       "<symbol overflow=\"visible\" id=\"glyph1-7\">\n",
       "<path style=\"stroke:none;\" d=\"M 0 -1.8125 L -8.75 -1.8125 L -8.75 -0.8125 L 0 -0.8125 Z M 0 -1.8125 \"/>\n",
       "</symbol>\n",
       "<symbol overflow=\"visible\" id=\"glyph1-8\">\n",
       "<path style=\"stroke:none;\" d=\"M 0 -1.84375 L -6.28125 -1.84375 L -6.28125 -0.84375 L 0 -0.84375 Z M -7.234375 -1.96875 L -8.484375 -1.96875 L -8.484375 -0.71875 L -7.234375 -0.71875 Z M -7.234375 -1.96875 \"/>\n",
       "</symbol>\n",
       "<symbol overflow=\"visible\" id=\"glyph1-9\">\n",
       "<path style=\"stroke:none;\" d=\"M 0 -9.125 L -4.71875 -9.125 C -5.84375 -9.125 -6.46875 -8.5 -6.46875 -7.3125 C -6.46875 -6.484375 -6.21875 -5.96875 -5.515625 -5.390625 C -6.1875 -5.015625 -6.46875 -4.515625 -6.46875 -3.703125 C -6.46875 -2.859375 -6.15625 -2.296875 -5.40625 -1.765625 L -6.28125 -1.765625 L -6.28125 -0.859375 L 0 -0.859375 L 0 -1.84375 L -3.953125 -1.84375 C -4.859375 -1.84375 -5.59375 -2.515625 -5.59375 -3.328125 C -5.59375 -4.0625 -5.140625 -4.484375 -4.328125 -4.484375 L 0 -4.484375 L 0 -5.484375 L -3.953125 -5.484375 C -4.859375 -5.484375 -5.59375 -6.15625 -5.59375 -6.96875 C -5.59375 -7.703125 -5.125 -8.125 -4.328125 -8.125 L 0 -8.125 Z M 0 -9.125 \"/>\n",
       "</symbol>\n",
       "<symbol overflow=\"visible\" id=\"glyph1-10\">\n",
       "<path style=\"stroke:none;\" d=\"M 0 -3.046875 L -0.84375 -3.046875 C -0.796875 -2.921875 -0.796875 -2.765625 -0.796875 -2.5625 C -0.796875 -2.140625 -0.90625 -2.015625 -1.359375 -2.015625 L -5.46875 -2.015625 L -5.46875 -3.046875 L -6.28125 -3.046875 L -6.28125 -2.015625 L -8.015625 -2.015625 L -8.015625 -1.015625 L -6.28125 -1.015625 L -6.28125 -0.171875 L -5.46875 -0.171875 L -5.46875 -1.015625 L -0.90625 -1.015625 C -0.28125 -1.015625 0.078125 -1.453125 0.078125 -2.234375 C 0.078125 -2.46875 0.0625 -2.71875 0 -3.046875 Z M 0 -3.046875 \"/>\n",
       "</symbol>\n",
       "<symbol overflow=\"visible\" id=\"glyph1-11\">\n",
       "<path style=\"stroke:none;\" d=\"M -2.859375 -6.15625 C -3.765625 -6.15625 -4.34375 -6.078125 -4.8125 -5.90625 C -5.84375 -5.5 -6.46875 -4.53125 -6.46875 -3.359375 C -6.46875 -1.609375 -5.171875 -0.484375 -3.109375 -0.484375 C -1.046875 -0.484375 0.1875 -1.578125 0.1875 -3.34375 C 0.1875 -4.78125 -0.640625 -5.765625 -1.90625 -6.03125 L -1.90625 -5.015625 C -1.078125 -4.734375 -0.75 -4.171875 -0.75 -3.375 C -0.75 -2.328125 -1.421875 -1.546875 -2.859375 -1.53125 Z M -3.75 -5.09375 C -3.75 -5.09375 -3.703125 -5.09375 -3.671875 -5.078125 L -3.671875 -1.546875 C -4.78125 -1.625 -5.546875 -2.34375 -5.546875 -3.34375 C -5.546875 -4.328125 -4.734375 -5.09375 -3.75 -5.09375 Z M -3.75 -5.09375 \"/>\n",
       "</symbol>\n",
       "<symbol overflow=\"visible\" id=\"glyph1-12\">\n",
       "<path style=\"stroke:none;\" d=\"M 0 -5.9375 L -8.75 -5.9375 L -8.75 -4.9375 L -5.5 -4.9375 C -6.125 -4.53125 -6.46875 -3.859375 -6.46875 -3.015625 C -6.46875 -1.375 -5.203125 -0.3125 -3.203125 -0.3125 C -1.078125 -0.3125 0.1875 -1.359375 0.1875 -3.046875 C 0.1875 -3.90625 -0.140625 -4.515625 -0.921875 -5.046875 L 0 -5.046875 Z M -3.125 -4.9375 C -1.671875 -4.9375 -0.75 -4.25 -0.75 -3.1875 C -0.75 -2.09375 -1.6875 -1.359375 -3.140625 -1.359375 C -4.609375 -1.359375 -5.53125 -2.09375 -5.53125 -3.1875 C -5.53125 -4.265625 -4.578125 -4.9375 -3.125 -4.9375 Z M -3.125 -4.9375 \"/>\n",
       "</symbol>\n",
       "<symbol overflow=\"visible\" id=\"glyph1-13\">\n",
       "<path style=\"stroke:none;\" d=\"M -2.34375 -6.21875 C -3.1875 -6.21875 -3.796875 -5.890625 -4.1875 -5.203125 C -4.375 -4.890625 -4.421875 -4.734375 -4.765625 -3.625 L -7.75 -3.625 C -7.71875 -4.421875 -7.109375 -4.984375 -6.234375 -5 L -6.234375 -5.953125 C -7.59375 -5.953125 -8.484375 -5.078125 -8.59375 -3.625 L -9.234375 -3.625 L -9.234375 -2.921875 L -8.59375 -2.921875 C -8.40625 -1.375 -7.5625 -0.546875 -6.1875 -0.546875 C -5.4375 -0.546875 -4.84375 -0.84375 -4.4375 -1.40625 C -4.21875 -1.71875 -4.078125 -2.046875 -3.8125 -2.921875 L -0.546875 -2.921875 C -0.625 -2.390625 -0.859375 -1.90625 -1.234375 -1.640625 C -1.5 -1.453125 -1.71875 -1.421875 -2.5 -1.34375 L -2.5 -0.390625 C -2.421875 -0.390625 -2.359375 -0.390625 -2.296875 -0.390625 C -0.75 -0.390625 0.1875 -1.296875 0.28125 -2.921875 L 1.515625 -2.921875 L 1.515625 -3.625 L 0.28125 -3.625 C 0.15625 -5.3125 -0.828125 -6.21875 -2.34375 -6.21875 Z M -4.859375 -2.921875 C -5.109375 -1.96875 -5.578125 -1.53125 -6.3125 -1.53125 C -7.109375 -1.53125 -7.625 -2.03125 -7.734375 -2.921875 Z M -2.203125 -5.234375 C -1.34375 -5.234375 -0.671875 -4.6875 -0.546875 -3.625 L -3.703125 -3.625 C -3.34375 -4.84375 -2.984375 -5.234375 -2.203125 -5.234375 Z M -2.203125 -5.234375 \"/>\n",
       "</symbol>\n",
       "<symbol overflow=\"visible\" id=\"glyph1-14\">\n",
       "<path style=\"stroke:none;\" d=\"M 0 -2.3125 L -8.75 -2.3125 L -8.75 -1.203125 L 0 -1.203125 Z M 0 -2.3125 \"/>\n",
       "</symbol>\n",
       "<symbol overflow=\"visible\" id=\"glyph1-15\">\n",
       "<path style=\"stroke:none;\" d=\"M 0 -5.84375 L -4.75 -5.84375 C -5.796875 -5.84375 -6.46875 -5.0625 -6.46875 -3.859375 C -6.46875 -2.921875 -6.109375 -2.3125 -5.234375 -1.765625 L -6.28125 -1.765625 L -6.28125 -0.84375 L 0 -0.84375 L 0 -1.84375 L -3.46875 -1.84375 C -4.75 -1.84375 -5.59375 -2.53125 -5.59375 -3.546875 C -5.59375 -4.34375 -5.109375 -4.84375 -4.359375 -4.84375 L 0 -4.84375 Z M 0 -5.84375 \"/>\n",
       "</symbol>\n",
       "<symbol overflow=\"visible\" id=\"glyph1-16\">\n",
       "<path style=\"stroke:none;\" d=\"M -5.46875 -3.09375 L -6.28125 -3.09375 L -6.28125 -2.046875 L -7.265625 -2.046875 C -7.6875 -2.046875 -7.90625 -2.296875 -7.90625 -2.75 C -7.90625 -2.828125 -7.90625 -2.875 -7.890625 -3.09375 L -8.71875 -3.09375 C -8.765625 -2.875 -8.78125 -2.734375 -8.78125 -2.53125 C -8.78125 -1.609375 -8.25 -1.0625 -7.359375 -1.0625 L -6.28125 -1.0625 L -6.28125 -0.21875 L -5.46875 -0.21875 L -5.46875 -1.0625 L 0 -1.0625 L 0 -2.046875 L -5.46875 -2.046875 Z M -5.46875 -3.09375 \"/>\n",
       "</symbol>\n",
       "<symbol overflow=\"visible\" id=\"glyph1-17\">\n",
       "<path style=\"stroke:none;\" d=\"M -3.09375 -6.125 C -5.265625 -6.125 -6.46875 -5.078125 -6.46875 -3.265625 C -6.46875 -1.5 -5.25 -0.4375 -3.140625 -0.4375 C -1.03125 -0.4375 0.1875 -1.484375 0.1875 -3.28125 C 0.1875 -5.046875 -1.03125 -6.125 -3.09375 -6.125 Z M -3.109375 -5.078125 C -1.625 -5.078125 -0.75 -4.375 -0.75 -3.28125 C -0.75 -2.15625 -1.625 -1.46875 -3.140625 -1.46875 C -4.65625 -1.46875 -5.546875 -2.15625 -5.546875 -3.28125 C -5.546875 -4.40625 -4.671875 -5.078125 -3.109375 -5.078125 Z M -3.109375 -5.078125 \"/>\n",
       "</symbol>\n",
       "<symbol overflow=\"visible\" id=\"glyph1-18\">\n",
       "<path style=\"stroke:none;\" d=\"M 0 -2.296875 L -1.25 -2.296875 L -1.25 -1.046875 L 0 -1.046875 Z M 0 -2.296875 \"/>\n",
       "</symbol>\n",
       "<symbol overflow=\"visible\" id=\"glyph1-19\">\n",
       "<path style=\"stroke:none;\" d=\"M -4.234375 -8.90625 C -7.0625 -8.90625 -8.96875 -7.234375 -8.96875 -4.671875 C -8.96875 -2.15625 -7.046875 -0.453125 -4.3125 -0.453125 C -1.578125 -0.453125 0.21875 -2.15625 0.21875 -4.6875 C 0.21875 -7.25 -1.671875 -8.90625 -4.234375 -8.90625 Z M -4.265625 -7.78125 C -2.140625 -7.78125 -0.765625 -6.53125 -0.765625 -4.6875 C -0.765625 -2.8125 -2.140625 -1.578125 -4.3125 -1.578125 C -6.46875 -1.578125 -7.984375 -2.8125 -7.984375 -4.671875 C -7.984375 -6.5625 -6.46875 -7.78125 -4.265625 -7.78125 Z M -4.265625 -7.78125 \"/>\n",
       "</symbol>\n",
       "<symbol overflow=\"visible\" id=\"glyph1-20\">\n",
       "<path style=\"stroke:none;\" d=\"M -5.40625 -3.859375 L -6.4375 -3.859375 C -6.453125 -3.6875 -6.46875 -3.59375 -6.46875 -3.46875 C -6.46875 -2.8125 -6.078125 -2.328125 -5.140625 -1.75 L -6.28125 -1.75 L -6.28125 -0.84375 L 0 -0.84375 L 0 -1.84375 L -3.265625 -1.84375 C -4.6875 -1.84375 -5.390625 -2.296875 -5.40625 -3.859375 Z M -5.40625 -3.859375 \"/>\n",
       "</symbol>\n",
       "</g>\n",
       "</defs>\n",
       "<g id=\"surface108\">\n",
       "<rect x=\"0\" y=\"0\" width=\"432\" height=\"288\" style=\"fill:rgb(100%,100%,100%);fill-opacity:1;stroke:none;\"/>\n",
       "<path style=\"fill:none;stroke-width:0.75;stroke-linecap:round;stroke-linejoin:round;stroke:rgb(0%,0%,0%);stroke-opacity:1;stroke-miterlimit:10;\" d=\"M 260.601562 208.800781 C 260.601562 212.398438 255.203125 212.398438 255.203125 208.800781 C 255.203125 205.199219 260.601562 205.199219 260.601562 208.800781 \"/>\n",
       "<path style=\"fill:none;stroke-width:0.75;stroke-linecap:round;stroke-linejoin:round;stroke:rgb(0%,0%,0%);stroke-opacity:1;stroke-miterlimit:10;\" d=\"M 188.671875 195.710938 C 188.671875 199.308594 183.273438 199.308594 183.273438 195.710938 C 183.273438 192.109375 188.671875 192.109375 188.671875 195.710938 \"/>\n",
       "<path style=\"fill:none;stroke-width:0.75;stroke-linecap:round;stroke-linejoin:round;stroke:rgb(0%,0%,0%);stroke-opacity:1;stroke-miterlimit:10;\" d=\"M 294.449219 208.800781 C 294.449219 212.398438 289.050781 212.398438 289.050781 208.800781 C 289.050781 205.199219 294.449219 205.199219 294.449219 208.800781 \"/>\n",
       "<path style=\"fill:none;stroke-width:0.75;stroke-linecap:round;stroke-linejoin:round;stroke:rgb(0%,0%,0%);stroke-opacity:1;stroke-miterlimit:10;\" d=\"M 294.449219 169.527344 C 294.449219 173.128906 289.050781 173.128906 289.050781 169.527344 C 289.050781 165.925781 294.449219 165.925781 294.449219 169.527344 \"/>\n",
       "<path style=\"fill:none;stroke-width:0.75;stroke-linecap:round;stroke-linejoin:round;stroke:rgb(0%,0%,0%);stroke-opacity:1;stroke-miterlimit:10;\" d=\"M 205.597656 130.253906 C 205.597656 133.855469 200.199219 133.855469 200.199219 130.253906 C 200.199219 126.65625 205.597656 126.65625 205.597656 130.253906 \"/>\n",
       "<path style=\"fill:none;stroke-width:0.75;stroke-linecap:round;stroke-linejoin:round;stroke:rgb(0%,0%,0%);stroke-opacity:1;stroke-miterlimit:10;\" d=\"M 218.292969 169.527344 C 218.292969 173.128906 212.890625 173.128906 212.890625 169.527344 C 212.890625 165.925781 218.292969 165.925781 218.292969 169.527344 \"/>\n",
       "<path style=\"fill:none;stroke-width:0.75;stroke-linecap:round;stroke-linejoin:round;stroke:rgb(0%,0%,0%);stroke-opacity:1;stroke-miterlimit:10;\" d=\"M 319.835938 208.800781 C 319.835938 212.398438 314.4375 212.398438 314.4375 208.800781 C 314.4375 205.199219 319.835938 205.199219 319.835938 208.800781 \"/>\n",
       "<path style=\"fill:none;stroke-width:0.75;stroke-linecap:round;stroke-linejoin:round;stroke:rgb(0%,0%,0%);stroke-opacity:1;stroke-miterlimit:10;\" d=\"M 209.828125 195.710938 C 209.828125 199.308594 204.429688 199.308594 204.429688 195.710938 C 204.429688 192.109375 209.828125 192.109375 209.828125 195.710938 \"/>\n",
       "<path style=\"fill:none;stroke-width:0.75;stroke-linecap:round;stroke-linejoin:round;stroke:rgb(0%,0%,0%);stroke-opacity:1;stroke-miterlimit:10;\" d=\"M 197.136719 208.800781 C 197.136719 212.398438 191.734375 212.398438 191.734375 208.800781 C 191.734375 205.199219 197.136719 205.199219 197.136719 208.800781 \"/>\n",
       "<path style=\"fill:none;stroke-width:0.75;stroke-linecap:round;stroke-linejoin:round;stroke:rgb(0%,0%,0%);stroke-opacity:1;stroke-miterlimit:10;\" d=\"M 290.21875 90.980469 C 290.21875 94.582031 284.820312 94.582031 284.820312 90.980469 C 284.820312 87.382812 290.21875 87.382812 290.21875 90.980469 \"/>\n",
       "<path style=\"fill:none;stroke-width:0.75;stroke-linecap:round;stroke-linejoin:round;stroke:rgb(0%,0%,0%);stroke-opacity:1;stroke-miterlimit:10;\" d=\"M 171.75 208.800781 C 171.75 212.398438 166.347656 212.398438 166.347656 208.800781 C 166.347656 205.199219 171.75 205.199219 171.75 208.800781 \"/>\n",
       "<path style=\"fill:none;stroke-width:0.75;stroke-linecap:round;stroke-linejoin:round;stroke:rgb(0%,0%,0%);stroke-opacity:1;stroke-miterlimit:10;\" d=\"M 383.304688 143.34375 C 383.304688 146.945312 377.90625 146.945312 377.90625 143.34375 C 377.90625 139.746094 383.304688 139.746094 383.304688 143.34375 \"/>\n",
       "<path style=\"fill:none;stroke-width:0.75;stroke-linecap:round;stroke-linejoin:round;stroke:rgb(0%,0%,0%);stroke-opacity:1;stroke-miterlimit:10;\" d=\"M 235.214844 208.800781 C 235.214844 212.398438 229.816406 212.398438 229.816406 208.800781 C 229.816406 205.199219 235.214844 205.199219 235.214844 208.800781 \"/>\n",
       "<path style=\"fill:none;stroke-width:0.75;stroke-linecap:round;stroke-linejoin:round;stroke:rgb(0%,0%,0%);stroke-opacity:1;stroke-miterlimit:10;\" d=\"M 277.527344 182.617188 C 277.527344 186.21875 272.125 186.21875 272.125 182.617188 C 272.125 179.019531 277.527344 179.019531 277.527344 182.617188 \"/>\n",
       "<path style=\"fill:none;stroke-width:0.75;stroke-linecap:round;stroke-linejoin:round;stroke:rgb(0%,0%,0%);stroke-opacity:1;stroke-miterlimit:10;\" d=\"M 256.371094 195.710938 C 256.371094 199.308594 250.972656 199.308594 250.972656 195.710938 C 250.972656 192.109375 256.371094 192.109375 256.371094 195.710938 \"/>\n",
       "<path style=\"fill:none;stroke-width:0.75;stroke-linecap:round;stroke-linejoin:round;stroke:rgb(0%,0%,0%);stroke-opacity:1;stroke-miterlimit:10;\" d=\"M 150.59375 208.800781 C 150.59375 212.398438 145.191406 212.398438 145.191406 208.800781 C 145.191406 205.199219 150.59375 205.199219 150.59375 208.800781 \"/>\n",
       "<path style=\"fill:none;stroke-width:0.75;stroke-linecap:round;stroke-linejoin:round;stroke:rgb(0%,0%,0%);stroke-opacity:1;stroke-miterlimit:10;\" d=\"M 243.679688 195.710938 C 243.679688 199.308594 238.277344 199.308594 238.277344 195.710938 C 238.277344 192.109375 243.679688 192.109375 243.679688 195.710938 \"/>\n",
       "<path style=\"fill:none;stroke-width:0.75;stroke-linecap:round;stroke-linejoin:round;stroke:rgb(0%,0%,0%);stroke-opacity:1;stroke-miterlimit:10;\" d=\"M 222.523438 208.800781 C 222.523438 212.398438 217.121094 212.398438 217.121094 208.800781 C 217.121094 205.199219 222.523438 205.199219 222.523438 208.800781 \"/>\n",
       "<path style=\"fill:none;stroke-width:0.75;stroke-linecap:round;stroke-linejoin:round;stroke:rgb(0%,0%,0%);stroke-opacity:1;stroke-miterlimit:10;\" d=\"M 201.367188 195.710938 C 201.367188 199.308594 195.964844 199.308594 195.964844 195.710938 C 195.964844 192.109375 201.367188 192.109375 201.367188 195.710938 \"/>\n",
       "<path style=\"fill:none;stroke-width:0.75;stroke-linecap:round;stroke-linejoin:round;stroke:rgb(0%,0%,0%);stroke-opacity:1;stroke-miterlimit:10;\" d=\"M 328.300781 143.34375 C 328.300781 146.945312 322.898438 146.945312 322.898438 143.34375 C 322.898438 139.746094 328.300781 139.746094 328.300781 143.34375 \"/>\n",
       "<path style=\"fill:none;stroke-width:0.75;stroke-linecap:round;stroke-linejoin:round;stroke:rgb(0%,0%,0%);stroke-opacity:1;stroke-miterlimit:10;\" d=\"M 171.75 208.800781 C 171.75 212.398438 166.347656 212.398438 166.347656 208.800781 C 166.347656 205.199219 171.75 205.199219 171.75 208.800781 \"/>\n",
       "<path style=\"fill:none;stroke-width:0.75;stroke-linecap:round;stroke-linejoin:round;stroke:rgb(0%,0%,0%);stroke-opacity:1;stroke-miterlimit:10;\" d=\"M 311.375 208.800781 C 311.375 212.398438 305.976562 212.398438 305.976562 208.800781 C 305.976562 205.199219 311.375 205.199219 311.375 208.800781 \"/>\n",
       "<path style=\"fill:none;stroke-width:0.75;stroke-linecap:round;stroke-linejoin:round;stroke:rgb(0%,0%,0%);stroke-opacity:1;stroke-miterlimit:10;\" d=\"M 252.140625 90.980469 C 252.140625 94.582031 246.738281 94.582031 246.738281 90.980469 C 246.738281 87.382812 252.140625 87.382812 252.140625 90.980469 \"/>\n",
       "<path style=\"fill:none;stroke-width:0.75;stroke-linecap:round;stroke-linejoin:round;stroke:rgb(0%,0%,0%);stroke-opacity:1;stroke-miterlimit:10;\" d=\"M 184.441406 208.800781 C 184.441406 212.398438 179.042969 212.398438 179.042969 208.800781 C 179.042969 205.199219 184.441406 205.199219 184.441406 208.800781 \"/>\n",
       "<path style=\"fill:none;stroke-width:0.75;stroke-linecap:round;stroke-linejoin:round;stroke:rgb(0%,0%,0%);stroke-opacity:1;stroke-miterlimit:10;\" d=\"M 277.527344 143.34375 C 277.527344 146.945312 272.125 146.945312 272.125 143.34375 C 272.125 139.746094 277.527344 139.746094 277.527344 143.34375 \"/>\n",
       "<path style=\"fill:none;stroke-width:0.75;stroke-linecap:round;stroke-linejoin:round;stroke:rgb(0%,0%,0%);stroke-opacity:1;stroke-miterlimit:10;\" d=\"M 273.296875 143.34375 C 273.296875 146.945312 267.894531 146.945312 267.894531 143.34375 C 267.894531 139.746094 273.296875 139.746094 273.296875 143.34375 \"/>\n",
       "<path style=\"fill:none;stroke-width:0.75;stroke-linecap:round;stroke-linejoin:round;stroke:rgb(0%,0%,0%);stroke-opacity:1;stroke-miterlimit:10;\" d=\"M 362.148438 195.710938 C 362.148438 199.308594 356.75 199.308594 356.75 195.710938 C 356.75 192.109375 362.148438 192.109375 362.148438 195.710938 \"/>\n",
       "<path style=\"fill:none;stroke-width:0.75;stroke-linecap:round;stroke-linejoin:round;stroke:rgb(0%,0%,0%);stroke-opacity:1;stroke-miterlimit:10;\" d=\"M 214.058594 104.074219 C 214.058594 107.671875 208.660156 107.671875 208.660156 104.074219 C 208.660156 100.472656 214.058594 100.472656 214.058594 104.074219 \"/>\n",
       "<path style=\"fill:none;stroke-width:0.75;stroke-linecap:round;stroke-linejoin:round;stroke:rgb(0%,0%,0%);stroke-opacity:1;stroke-miterlimit:10;\" d=\"M 285.988281 208.800781 C 285.988281 212.398438 280.589844 212.398438 280.589844 208.800781 C 280.589844 205.199219 285.988281 205.199219 285.988281 208.800781 \"/>\n",
       "<path style=\"fill:none;stroke-width:0.75;stroke-linecap:round;stroke-linejoin:round;stroke:rgb(0%,0%,0%);stroke-opacity:1;stroke-miterlimit:10;\" d=\"M 235.214844 156.4375 C 235.214844 160.035156 229.816406 160.035156 229.816406 156.4375 C 229.816406 152.835938 235.214844 152.835938 235.214844 156.4375 \"/>\n",
       "<path style=\"fill:none;stroke-width:0.75;stroke-linecap:round;stroke-linejoin:round;stroke:rgb(0%,0%,0%);stroke-opacity:1;stroke-miterlimit:10;\" d=\"M 328.300781 195.710938 C 328.300781 199.308594 322.898438 199.308594 322.898438 195.710938 C 322.898438 192.109375 328.300781 192.109375 328.300781 195.710938 \"/>\n",
       "<path style=\"fill:none;stroke-width:0.75;stroke-linecap:round;stroke-linejoin:round;stroke:rgb(0%,0%,0%);stroke-opacity:1;stroke-miterlimit:10;\" d=\"M 150.59375 169.527344 C 150.59375 173.128906 145.191406 173.128906 145.191406 169.527344 C 145.191406 165.925781 150.59375 165.925781 150.59375 169.527344 \"/>\n",
       "<path style=\"fill:none;stroke-width:0.75;stroke-linecap:round;stroke-linejoin:round;stroke:rgb(0%,0%,0%);stroke-opacity:1;stroke-miterlimit:10;\" d=\"M 137.898438 156.4375 C 137.898438 160.035156 132.5 160.035156 132.5 156.4375 C 132.5 152.835938 137.898438 152.835938 137.898438 156.4375 \"/>\n",
       "<path style=\"fill:none;stroke-width:0.75;stroke-linecap:round;stroke-linejoin:round;stroke:rgb(0%,0%,0%);stroke-opacity:1;stroke-miterlimit:10;\" d=\"M 239.445312 117.164062 C 239.445312 120.761719 234.046875 120.761719 234.046875 117.164062 C 234.046875 113.5625 239.445312 113.5625 239.445312 117.164062 \"/>\n",
       "<path style=\"fill:none;stroke-width:0.75;stroke-linecap:round;stroke-linejoin:round;stroke:rgb(0%,0%,0%);stroke-opacity:1;stroke-miterlimit:10;\" d=\"M 175.980469 130.253906 C 175.980469 133.855469 170.578125 133.855469 170.578125 130.253906 C 170.578125 126.65625 175.980469 126.65625 175.980469 130.253906 \"/>\n",
       "<path style=\"fill:none;stroke-width:0.75;stroke-linecap:round;stroke-linejoin:round;stroke:rgb(0%,0%,0%);stroke-opacity:1;stroke-miterlimit:10;\" d=\"M 319.835938 169.527344 C 319.835938 173.128906 314.4375 173.128906 314.4375 169.527344 C 314.4375 165.925781 319.835938 165.925781 319.835938 169.527344 \"/>\n",
       "<path style=\"fill:none;stroke-width:0.75;stroke-linecap:round;stroke-linejoin:round;stroke:rgb(0%,0%,0%);stroke-opacity:1;stroke-miterlimit:10;\" d=\"M 205.597656 182.617188 C 205.597656 186.21875 200.199219 186.21875 200.199219 182.617188 C 200.199219 179.019531 205.597656 179.019531 205.597656 182.617188 \"/>\n",
       "<path style=\"fill:none;stroke-width:0.75;stroke-linecap:round;stroke-linejoin:round;stroke:rgb(0%,0%,0%);stroke-opacity:1;stroke-miterlimit:10;\" d=\"M 294.449219 156.4375 C 294.449219 160.035156 289.050781 160.035156 289.050781 156.4375 C 289.050781 152.835938 294.449219 152.835938 294.449219 156.4375 \"/>\n",
       "<path style=\"fill:none;stroke-width:0.75;stroke-linecap:round;stroke-linejoin:round;stroke:rgb(0%,0%,0%);stroke-opacity:1;stroke-miterlimit:10;\" d=\"M 269.0625 143.34375 C 269.0625 146.945312 263.664062 146.945312 263.664062 143.34375 C 263.664062 139.746094 269.0625 139.746094 269.0625 143.34375 \"/>\n",
       "<path style=\"fill:none;stroke-width:0.75;stroke-linecap:round;stroke-linejoin:round;stroke:rgb(0%,0%,0%);stroke-opacity:1;stroke-miterlimit:10;\" d=\"M 159.054688 195.710938 C 159.054688 199.308594 153.65625 199.308594 153.65625 195.710938 C 153.65625 192.109375 159.054688 192.109375 159.054688 195.710938 \"/>\n",
       "<path style=\"fill:none;stroke-width:0.75;stroke-linecap:round;stroke-linejoin:round;stroke:rgb(0%,0%,0%);stroke-opacity:1;stroke-miterlimit:10;\" d=\"M 188.671875 143.34375 C 188.671875 146.945312 183.273438 146.945312 183.273438 143.34375 C 183.273438 139.746094 188.671875 139.746094 188.671875 143.34375 \"/>\n",
       "<path style=\"fill:none;stroke-width:0.75;stroke-linecap:round;stroke-linejoin:round;stroke:rgb(0%,0%,0%);stroke-opacity:1;stroke-miterlimit:10;\" d=\"M 260.601562 156.4375 C 260.601562 160.035156 255.203125 160.035156 255.203125 156.4375 C 255.203125 152.835938 260.601562 152.835938 260.601562 156.4375 \"/>\n",
       "<path style=\"fill:none;stroke-width:0.75;stroke-linecap:round;stroke-linejoin:round;stroke:rgb(0%,0%,0%);stroke-opacity:1;stroke-miterlimit:10;\" d=\"M 74.433594 130.253906 C 74.433594 133.855469 69.035156 133.855469 69.035156 130.253906 C 69.035156 126.65625 74.433594 126.65625 74.433594 130.253906 \"/>\n",
       "<path style=\"fill:none;stroke-width:0.75;stroke-linecap:round;stroke-linejoin:round;stroke:rgb(0%,0%,0%);stroke-opacity:1;stroke-miterlimit:10;\" d=\"M 74.433594 208.800781 C 74.433594 212.398438 69.035156 212.398438 69.035156 208.800781 C 69.035156 205.199219 74.433594 205.199219 74.433594 208.800781 \"/>\n",
       "<path style=\"fill:none;stroke-width:0.75;stroke-linecap:round;stroke-linejoin:round;stroke:rgb(0%,0%,0%);stroke-opacity:1;stroke-miterlimit:10;\" d=\"M 218.292969 117.164062 C 218.292969 120.761719 212.890625 120.761719 212.890625 117.164062 C 212.890625 113.5625 218.292969 113.5625 218.292969 117.164062 \"/>\n",
       "<path style=\"fill:none;stroke-width:0.75;stroke-linecap:round;stroke-linejoin:round;stroke:rgb(0%,0%,0%);stroke-opacity:1;stroke-miterlimit:10;\" d=\"M 269.0625 208.800781 C 269.0625 212.398438 263.664062 212.398438 263.664062 208.800781 C 263.664062 205.199219 269.0625 205.199219 269.0625 208.800781 \"/>\n",
       "<path style=\"fill:none;stroke-width:0.75;stroke-linecap:round;stroke-linejoin:round;stroke:rgb(0%,0%,0%);stroke-opacity:1;stroke-miterlimit:10;\" d=\"M 260.601562 208.800781 C 260.601562 212.398438 255.203125 212.398438 255.203125 208.800781 C 255.203125 205.199219 260.601562 205.199219 260.601562 208.800781 \"/>\n",
       "<path style=\"fill:none;stroke-width:0.75;stroke-linecap:round;stroke-linejoin:round;stroke:rgb(0%,0%,0%);stroke-opacity:1;stroke-miterlimit:10;\" d=\"M 252.140625 182.617188 C 252.140625 186.21875 246.738281 186.21875 246.738281 182.617188 C 246.738281 179.019531 252.140625 179.019531 252.140625 182.617188 \"/>\n",
       "<path style=\"fill:none;stroke-width:0.75;stroke-linecap:round;stroke-linejoin:round;stroke:rgb(0%,0%,0%);stroke-opacity:1;stroke-miterlimit:10;\" d=\"M 87.125 104.074219 C 87.125 107.671875 81.726562 107.671875 81.726562 104.074219 C 81.726562 100.472656 87.125 100.472656 87.125 104.074219 \"/>\n",
       "<path style=\"fill:none;stroke-width:0.75;stroke-linecap:round;stroke-linejoin:round;stroke:rgb(0%,0%,0%);stroke-opacity:1;stroke-miterlimit:10;\" d=\"M 209.828125 182.617188 C 209.828125 186.21875 204.429688 186.21875 204.429688 182.617188 C 204.429688 179.019531 209.828125 179.019531 209.828125 182.617188 \"/>\n",
       "<path style=\"fill:none;stroke-width:0.75;stroke-linecap:round;stroke-linejoin:round;stroke:rgb(0%,0%,0%);stroke-opacity:1;stroke-miterlimit:10;\" d=\"M 163.285156 182.617188 C 163.285156 186.21875 157.886719 186.21875 157.886719 182.617188 C 157.886719 179.019531 163.285156 179.019531 163.285156 182.617188 \"/>\n",
       "<path style=\"fill:none;stroke-width:0.75;stroke-linecap:round;stroke-linejoin:round;stroke:rgb(0%,0%,0%);stroke-opacity:1;stroke-miterlimit:10;\" d=\"M 252.140625 208.800781 C 252.140625 212.398438 246.738281 212.398438 246.738281 208.800781 C 246.738281 205.199219 252.140625 205.199219 252.140625 208.800781 \"/>\n",
       "<path style=\"fill:none;stroke-width:0.75;stroke-linecap:round;stroke-linejoin:round;stroke:rgb(0%,0%,0%);stroke-opacity:1;stroke-miterlimit:10;\" d=\"M 218.292969 195.710938 C 218.292969 199.308594 212.890625 199.308594 212.890625 195.710938 C 212.890625 192.109375 218.292969 192.109375 218.292969 195.710938 \"/>\n",
       "<path style=\"fill:none;stroke-width:0.75;stroke-linecap:round;stroke-linejoin:round;stroke:rgb(0%,0%,0%);stroke-opacity:1;stroke-miterlimit:10;\" d=\"M 239.445312 130.253906 C 239.445312 133.855469 234.046875 133.855469 234.046875 130.253906 C 234.046875 126.65625 239.445312 126.65625 239.445312 130.253906 \"/>\n",
       "<path style=\"fill:none;stroke-width:0.75;stroke-linecap:round;stroke-linejoin:round;stroke:rgb(0%,0%,0%);stroke-opacity:1;stroke-miterlimit:10;\" d=\"M 349.457031 117.164062 C 349.457031 120.761719 344.054688 120.761719 344.054688 117.164062 C 344.054688 113.5625 349.457031 113.5625 349.457031 117.164062 \"/>\n",
       "<path style=\"fill:none;stroke-width:0.75;stroke-linecap:round;stroke-linejoin:round;stroke:rgb(0%,0%,0%);stroke-opacity:1;stroke-miterlimit:10;\" d=\"M 340.992188 208.800781 C 340.992188 212.398438 335.59375 212.398438 335.59375 208.800781 C 335.59375 205.199219 340.992188 205.199219 340.992188 208.800781 \"/>\n",
       "<path style=\"fill:none;stroke-width:0.75;stroke-linecap:round;stroke-linejoin:round;stroke:rgb(0%,0%,0%);stroke-opacity:1;stroke-miterlimit:10;\" d=\"M 264.832031 169.527344 C 264.832031 173.128906 259.433594 173.128906 259.433594 169.527344 C 259.433594 165.925781 264.832031 165.925781 264.832031 169.527344 \"/>\n",
       "<path style=\"fill:none;stroke-width:0.75;stroke-linecap:round;stroke-linejoin:round;stroke:rgb(0%,0%,0%);stroke-opacity:1;stroke-miterlimit:10;\" d=\"M 328.300781 208.800781 C 328.300781 212.398438 322.898438 212.398438 322.898438 208.800781 C 322.898438 205.199219 328.300781 205.199219 328.300781 208.800781 \"/>\n",
       "<path style=\"fill:none;stroke-width:0.75;stroke-linecap:round;stroke-linejoin:round;stroke:rgb(0%,0%,0%);stroke-opacity:1;stroke-miterlimit:10;\" d=\"M 311.375 156.4375 C 311.375 160.035156 305.976562 160.035156 305.976562 156.4375 C 305.976562 152.835938 311.375 152.835938 311.375 156.4375 \"/>\n",
       "<path style=\"fill:none;stroke-width:0.75;stroke-linecap:round;stroke-linejoin:round;stroke:rgb(0%,0%,0%);stroke-opacity:1;stroke-miterlimit:10;\" d=\"M 290.21875 208.800781 C 290.21875 212.398438 284.820312 212.398438 284.820312 208.800781 C 284.820312 205.199219 290.21875 205.199219 290.21875 208.800781 \"/>\n",
       "<path style=\"fill:none;stroke-width:0.75;stroke-linecap:round;stroke-linejoin:round;stroke:rgb(0%,0%,0%);stroke-opacity:1;stroke-miterlimit:10;\" d=\"M 281.757812 208.800781 C 281.757812 212.398438 276.359375 212.398438 276.359375 208.800781 C 276.359375 205.199219 281.757812 205.199219 281.757812 208.800781 \"/>\n",
       "<path style=\"fill:none;stroke-width:0.75;stroke-linecap:round;stroke-linejoin:round;stroke:rgb(0%,0%,0%);stroke-opacity:1;stroke-miterlimit:10;\" d=\"M 175.980469 169.527344 C 175.980469 173.128906 170.578125 173.128906 170.578125 169.527344 C 170.578125 165.925781 175.980469 165.925781 175.980469 169.527344 \"/>\n",
       "<path style=\"fill:none;stroke-width:0.75;stroke-linecap:round;stroke-linejoin:round;stroke:rgb(0%,0%,0%);stroke-opacity:1;stroke-miterlimit:10;\" d=\"M 285.988281 182.617188 C 285.988281 186.21875 280.589844 186.21875 280.589844 182.617188 C 280.589844 179.019531 285.988281 179.019531 285.988281 182.617188 \"/>\n",
       "<path style=\"fill:none;stroke-width:0.75;stroke-linecap:round;stroke-linejoin:round;stroke:rgb(0%,0%,0%);stroke-opacity:1;stroke-miterlimit:10;\" d=\"M 235.214844 208.800781 C 235.214844 212.398438 229.816406 212.398438 229.816406 208.800781 C 229.816406 205.199219 235.214844 205.199219 235.214844 208.800781 \"/>\n",
       "<path style=\"fill:none;stroke-width:0.75;stroke-linecap:round;stroke-linejoin:round;stroke:rgb(0%,0%,0%);stroke-opacity:1;stroke-miterlimit:10;\" d=\"M 349.457031 182.617188 C 349.457031 186.21875 344.054688 186.21875 344.054688 182.617188 C 344.054688 179.019531 349.457031 179.019531 349.457031 182.617188 \"/>\n",
       "<path style=\"fill:none;stroke-width:0.75;stroke-linecap:round;stroke-linejoin:round;stroke:rgb(0%,0%,0%);stroke-opacity:1;stroke-miterlimit:10;\" d=\"M 302.914062 143.34375 C 302.914062 146.945312 297.511719 146.945312 297.511719 143.34375 C 297.511719 139.746094 302.914062 139.746094 302.914062 143.34375 \"/>\n",
       "<path style=\"fill:none;stroke-width:0.75;stroke-linecap:round;stroke-linejoin:round;stroke:rgb(0%,0%,0%);stroke-opacity:1;stroke-miterlimit:10;\" d=\"M 95.589844 156.4375 C 95.589844 160.035156 90.1875 160.035156 90.1875 156.4375 C 90.1875 152.835938 95.589844 152.835938 95.589844 156.4375 \"/>\n",
       "<path style=\"fill:none;stroke-width:0.75;stroke-linecap:round;stroke-linejoin:round;stroke:rgb(0%,0%,0%);stroke-opacity:1;stroke-miterlimit:10;\" d=\"M 180.210938 208.800781 C 180.210938 212.398438 174.8125 212.398438 174.8125 208.800781 C 174.8125 205.199219 180.210938 205.199219 180.210938 208.800781 \"/>\n",
       "<path style=\"fill:none;stroke-width:0.75;stroke-linecap:round;stroke-linejoin:round;stroke:rgb(0%,0%,0%);stroke-opacity:1;stroke-miterlimit:10;\" d=\"M 260.601562 117.164062 C 260.601562 120.761719 255.203125 120.761719 255.203125 117.164062 C 255.203125 113.5625 260.601562 113.5625 260.601562 117.164062 \"/>\n",
       "<path style=\"fill:none;stroke-width:0.75;stroke-linecap:round;stroke-linejoin:round;stroke:rgb(0%,0%,0%);stroke-opacity:1;stroke-miterlimit:10;\" d=\"M 252.140625 208.800781 C 252.140625 212.398438 246.738281 212.398438 246.738281 208.800781 C 246.738281 205.199219 252.140625 205.199219 252.140625 208.800781 \"/>\n",
       "<path style=\"fill:none;stroke-width:0.75;stroke-linecap:round;stroke-linejoin:round;stroke:rgb(0%,0%,0%);stroke-opacity:1;stroke-miterlimit:10;\" d=\"M 78.664062 182.617188 C 78.664062 186.21875 73.265625 186.21875 73.265625 182.617188 C 73.265625 179.019531 78.664062 179.019531 78.664062 182.617188 \"/>\n",
       "<path style=\"fill:none;stroke-width:0.75;stroke-linecap:round;stroke-linejoin:round;stroke:rgb(0%,0%,0%);stroke-opacity:1;stroke-miterlimit:10;\" d=\"M 281.757812 195.710938 C 281.757812 199.308594 276.359375 199.308594 276.359375 195.710938 C 276.359375 192.109375 281.757812 192.109375 281.757812 195.710938 \"/>\n",
       "<path style=\"fill:none;stroke-width:0.75;stroke-linecap:round;stroke-linejoin:round;stroke:rgb(0%,0%,0%);stroke-opacity:1;stroke-miterlimit:10;\" d=\"M 264.832031 195.710938 C 264.832031 199.308594 259.433594 199.308594 259.433594 195.710938 C 259.433594 192.109375 264.832031 192.109375 264.832031 195.710938 \"/>\n",
       "<path style=\"fill:none;stroke-width:0.75;stroke-linecap:round;stroke-linejoin:round;stroke:rgb(0%,0%,0%);stroke-opacity:1;stroke-miterlimit:10;\" d=\"M 324.070312 208.800781 C 324.070312 212.398438 318.667969 212.398438 318.667969 208.800781 C 318.667969 205.199219 324.070312 205.199219 324.070312 208.800781 \"/>\n",
       "<path style=\"fill:none;stroke-width:0.75;stroke-linecap:round;stroke-linejoin:round;stroke:rgb(0%,0%,0%);stroke-opacity:1;stroke-miterlimit:10;\" d=\"M 252.140625 143.34375 C 252.140625 146.945312 246.738281 146.945312 246.738281 143.34375 C 246.738281 139.746094 252.140625 139.746094 252.140625 143.34375 \"/>\n",
       "<path style=\"fill:none;stroke-width:0.75;stroke-linecap:round;stroke-linejoin:round;stroke:rgb(0%,0%,0%);stroke-opacity:1;stroke-miterlimit:10;\" d=\"M 340.992188 208.800781 C 340.992188 212.398438 335.59375 212.398438 335.59375 208.800781 C 335.59375 205.199219 340.992188 205.199219 340.992188 208.800781 \"/>\n",
       "<path style=\"fill:none;stroke-width:0.75;stroke-linecap:round;stroke-linejoin:round;stroke:rgb(0%,0%,0%);stroke-opacity:1;stroke-miterlimit:10;\" d=\"M 269.0625 195.710938 C 269.0625 199.308594 263.664062 199.308594 263.664062 195.710938 C 263.664062 192.109375 269.0625 192.109375 269.0625 195.710938 \"/>\n",
       "<path style=\"fill:none;stroke-width:0.75;stroke-linecap:round;stroke-linejoin:round;stroke:rgb(0%,0%,0%);stroke-opacity:1;stroke-miterlimit:10;\" d=\"M 209.828125 130.253906 C 209.828125 133.855469 204.429688 133.855469 204.429688 130.253906 C 204.429688 126.65625 209.828125 126.65625 209.828125 130.253906 \"/>\n",
       "<path style=\"fill:none;stroke-width:0.75;stroke-linecap:round;stroke-linejoin:round;stroke:rgb(0%,0%,0%);stroke-opacity:1;stroke-miterlimit:10;\" d=\"M 315.605469 182.617188 C 315.605469 186.21875 310.207031 186.21875 310.207031 182.617188 C 310.207031 179.019531 315.605469 179.019531 315.605469 182.617188 \"/>\n",
       "<path style=\"fill:none;stroke-width:0.75;stroke-linecap:round;stroke-linejoin:round;stroke:rgb(0%,0%,0%);stroke-opacity:1;stroke-miterlimit:10;\" d=\"M 269.0625 117.164062 C 269.0625 120.761719 263.664062 120.761719 263.664062 117.164062 C 263.664062 113.5625 269.0625 113.5625 269.0625 117.164062 \"/>\n",
       "<path style=\"fill:none;stroke-width:0.75;stroke-linecap:round;stroke-linejoin:round;stroke:rgb(0%,0%,0%);stroke-opacity:1;stroke-miterlimit:10;\" d=\"M 235.214844 143.34375 C 235.214844 146.945312 229.816406 146.945312 229.816406 143.34375 C 229.816406 139.746094 235.214844 139.746094 235.214844 143.34375 \"/>\n",
       "<path style=\"fill:none;stroke-width:0.75;stroke-linecap:round;stroke-linejoin:round;stroke:rgb(0%,0%,0%);stroke-opacity:1;stroke-miterlimit:10;\" d=\"M 230.984375 130.253906 C 230.984375 133.855469 225.585938 133.855469 225.585938 130.253906 C 225.585938 126.65625 230.984375 126.65625 230.984375 130.253906 \"/>\n",
       "<path style=\"fill:none;stroke-width:0.75;stroke-linecap:round;stroke-linejoin:round;stroke:rgb(0%,0%,0%);stroke-opacity:1;stroke-miterlimit:10;\" d=\"M 222.523438 208.800781 C 222.523438 212.398438 217.121094 212.398438 217.121094 208.800781 C 217.121094 205.199219 222.523438 205.199219 222.523438 208.800781 \"/>\n",
       "<path style=\"fill:none;stroke-width:0.75;stroke-linecap:round;stroke-linejoin:round;stroke:rgb(0%,0%,0%);stroke-opacity:1;stroke-miterlimit:10;\" d=\"M 205.597656 182.617188 C 205.597656 186.21875 200.199219 186.21875 200.199219 182.617188 C 200.199219 179.019531 205.597656 179.019531 205.597656 182.617188 \"/>\n",
       "<path style=\"fill:none;stroke-width:0.75;stroke-linecap:round;stroke-linejoin:round;stroke:rgb(0%,0%,0%);stroke-opacity:1;stroke-miterlimit:10;\" d=\"M 163.285156 156.4375 C 163.285156 160.035156 157.886719 160.035156 157.886719 156.4375 C 157.886719 152.835938 163.285156 152.835938 163.285156 156.4375 \"/>\n",
       "<path style=\"fill:none;stroke-width:0.75;stroke-linecap:round;stroke-linejoin:round;stroke:rgb(0%,0%,0%);stroke-opacity:1;stroke-miterlimit:10;\" d=\"M 298.683594 169.527344 C 298.683594 173.128906 293.28125 173.128906 293.28125 169.527344 C 293.28125 165.925781 298.683594 165.925781 298.683594 169.527344 \"/>\n",
       "<path style=\"fill:none;stroke-width:0.75;stroke-linecap:round;stroke-linejoin:round;stroke:rgb(0%,0%,0%);stroke-opacity:1;stroke-miterlimit:10;\" d=\"M 205.597656 169.527344 C 205.597656 173.128906 200.199219 173.128906 200.199219 169.527344 C 200.199219 165.925781 205.597656 165.925781 205.597656 169.527344 \"/>\n",
       "<path style=\"fill:none;stroke-width:0.75;stroke-linecap:round;stroke-linejoin:round;stroke:rgb(0%,0%,0%);stroke-opacity:1;stroke-miterlimit:10;\" d=\"M 235.214844 182.617188 C 235.214844 186.21875 229.816406 186.21875 229.816406 182.617188 C 229.816406 179.019531 235.214844 179.019531 235.214844 182.617188 \"/>\n",
       "<path style=\"fill:none;stroke-width:0.75;stroke-linecap:round;stroke-linejoin:round;stroke:rgb(0%,0%,0%);stroke-opacity:1;stroke-miterlimit:10;\" d=\"M 298.683594 156.4375 C 298.683594 160.035156 293.28125 160.035156 293.28125 156.4375 C 293.28125 152.835938 298.683594 152.835938 298.683594 156.4375 \"/>\n",
       "<path style=\"fill:none;stroke-width:0.75;stroke-linecap:round;stroke-linejoin:round;stroke:rgb(0%,0%,0%);stroke-opacity:1;stroke-miterlimit:10;\" d=\"M 154.824219 156.4375 C 154.824219 160.035156 149.425781 160.035156 149.425781 156.4375 C 149.425781 152.835938 154.824219 152.835938 154.824219 156.4375 \"/>\n",
       "<path style=\"fill:none;stroke-width:0.75;stroke-linecap:round;stroke-linejoin:round;stroke:rgb(0%,0%,0%);stroke-opacity:1;stroke-miterlimit:10;\" d=\"M 159.054688 143.34375 C 159.054688 146.945312 153.65625 146.945312 153.65625 143.34375 C 153.65625 139.746094 159.054688 139.746094 159.054688 143.34375 \"/>\n",
       "<path style=\"fill:none;stroke-width:0.75;stroke-linecap:round;stroke-linejoin:round;stroke:rgb(0%,0%,0%);stroke-opacity:1;stroke-miterlimit:10;\" d=\"M 180.210938 104.074219 C 180.210938 107.671875 174.8125 107.671875 174.8125 104.074219 C 174.8125 100.472656 180.210938 100.472656 180.210938 104.074219 \"/>\n",
       "<path style=\"fill:none;stroke-width:0.75;stroke-linecap:round;stroke-linejoin:round;stroke:rgb(0%,0%,0%);stroke-opacity:1;stroke-miterlimit:10;\" d=\"M 125.207031 143.34375 C 125.207031 146.945312 119.808594 146.945312 119.808594 143.34375 C 119.808594 139.746094 125.207031 139.746094 125.207031 143.34375 \"/>\n",
       "<path style=\"fill:none;stroke-width:0.75;stroke-linecap:round;stroke-linejoin:round;stroke:rgb(0%,0%,0%);stroke-opacity:1;stroke-miterlimit:10;\" d=\"M 171.75 182.617188 C 171.75 186.21875 166.347656 186.21875 166.347656 182.617188 C 166.347656 179.019531 171.75 179.019531 171.75 182.617188 \"/>\n",
       "<path style=\"fill:none;stroke-width:0.75;stroke-linecap:round;stroke-linejoin:round;stroke:rgb(0%,0%,0%);stroke-opacity:1;stroke-miterlimit:10;\" d=\"M 218.292969 143.34375 C 218.292969 146.945312 212.890625 146.945312 212.890625 143.34375 C 212.890625 139.746094 218.292969 139.746094 218.292969 143.34375 \"/>\n",
       "<path style=\"fill:none;stroke-width:0.75;stroke-linecap:round;stroke-linejoin:round;stroke:rgb(0%,0%,0%);stroke-opacity:1;stroke-miterlimit:10;\" d=\"M 171.75 208.800781 C 171.75 212.398438 166.347656 212.398438 166.347656 208.800781 C 166.347656 205.199219 171.75 205.199219 171.75 208.800781 \"/>\n",
       "<path style=\"fill:none;stroke-width:0.75;stroke-linecap:round;stroke-linejoin:round;stroke:rgb(0%,0%,0%);stroke-opacity:1;stroke-miterlimit:10;\" d=\"M 150.59375 90.980469 C 150.59375 94.582031 145.191406 94.582031 145.191406 90.980469 C 145.191406 87.382812 150.59375 87.382812 150.59375 90.980469 \"/>\n",
       "<path style=\"fill:none;stroke-width:0.75;stroke-linecap:round;stroke-linejoin:round;stroke:rgb(0%,0%,0%);stroke-opacity:1;stroke-miterlimit:10;\" d=\"M 226.753906 143.34375 C 226.753906 146.945312 221.351562 146.945312 221.351562 143.34375 C 221.351562 139.746094 226.753906 139.746094 226.753906 143.34375 \"/>\n",
       "<path style=\"fill:none;stroke-width:0.75;stroke-linecap:round;stroke-linejoin:round;stroke:rgb(0%,0%,0%);stroke-opacity:1;stroke-miterlimit:10;\" d=\"M 218.292969 169.527344 C 218.292969 173.128906 212.890625 173.128906 212.890625 169.527344 C 212.890625 165.925781 218.292969 165.925781 218.292969 169.527344 \"/>\n",
       "<path style=\"fill:none;stroke-width:0.75;stroke-linecap:round;stroke-linejoin:round;stroke:rgb(0%,0%,0%);stroke-opacity:1;stroke-miterlimit:10;\" d=\"M 91.359375 169.527344 C 91.359375 173.128906 85.957031 173.128906 85.957031 169.527344 C 85.957031 165.925781 91.359375 165.925781 91.359375 169.527344 \"/>\n",
       "<path style=\"fill:none;stroke-width:0.75;stroke-linecap:round;stroke-linejoin:round;stroke:rgb(0%,0%,0%);stroke-opacity:1;stroke-miterlimit:10;\" d=\"M 336.761719 143.34375 C 336.761719 146.945312 331.363281 146.945312 331.363281 143.34375 C 331.363281 139.746094 336.761719 139.746094 336.761719 143.34375 \"/>\n",
       "<path style=\"fill:none;stroke-width:0.75;stroke-linecap:round;stroke-linejoin:round;stroke:rgb(0%,0%,0%);stroke-opacity:1;stroke-miterlimit:10;\" d=\"M 285.988281 156.4375 C 285.988281 160.035156 280.589844 160.035156 280.589844 156.4375 C 280.589844 152.835938 285.988281 152.835938 285.988281 156.4375 \"/>\n",
       "<path style=\"fill:none;stroke-width:0.75;stroke-linecap:round;stroke-linejoin:round;stroke:rgb(0%,0%,0%);stroke-opacity:1;stroke-miterlimit:10;\" d=\"M 222.523438 208.800781 C 222.523438 212.398438 217.121094 212.398438 217.121094 208.800781 C 217.121094 205.199219 222.523438 205.199219 222.523438 208.800781 \"/>\n",
       "<path style=\"fill:none;stroke-width:0.75;stroke-linecap:round;stroke-linejoin:round;stroke:rgb(0%,0%,0%);stroke-opacity:1;stroke-miterlimit:10;\" d=\"M 336.761719 208.800781 C 336.761719 212.398438 331.363281 212.398438 331.363281 208.800781 C 331.363281 205.199219 336.761719 205.199219 336.761719 208.800781 \"/>\n",
       "<path style=\"fill:none;stroke-width:0.75;stroke-linecap:round;stroke-linejoin:round;stroke:rgb(0%,0%,0%);stroke-opacity:1;stroke-miterlimit:10;\" d=\"M 222.523438 143.34375 C 222.523438 146.945312 217.121094 146.945312 217.121094 143.34375 C 217.121094 139.746094 222.523438 139.746094 222.523438 143.34375 \"/>\n",
       "<path style=\"fill:none;stroke-width:0.75;stroke-linecap:round;stroke-linejoin:round;stroke:rgb(0%,0%,0%);stroke-opacity:1;stroke-miterlimit:10;\" d=\"M 230.984375 130.253906 C 230.984375 133.855469 225.585938 133.855469 225.585938 130.253906 C 225.585938 126.65625 230.984375 126.65625 230.984375 130.253906 \"/>\n",
       "<path style=\"fill:none;stroke-width:0.75;stroke-linecap:round;stroke-linejoin:round;stroke:rgb(0%,0%,0%);stroke-opacity:1;stroke-miterlimit:10;\" d=\"M 269.0625 77.890625 C 269.0625 81.492188 263.664062 81.492188 263.664062 77.890625 C 263.664062 74.289062 269.0625 74.289062 269.0625 77.890625 \"/>\n",
       "<path style=\"fill:none;stroke-width:0.75;stroke-linecap:round;stroke-linejoin:round;stroke:rgb(0%,0%,0%);stroke-opacity:1;stroke-miterlimit:10;\" d=\"M 201.367188 130.253906 C 201.367188 133.855469 195.964844 133.855469 195.964844 130.253906 C 195.964844 126.65625 201.367188 126.65625 201.367188 130.253906 \"/>\n",
       "<path style=\"fill:none;stroke-width:0.75;stroke-linecap:round;stroke-linejoin:round;stroke:rgb(0%,0%,0%);stroke-opacity:1;stroke-miterlimit:10;\" d=\"M 192.90625 195.710938 C 192.90625 199.308594 187.503906 199.308594 187.503906 195.710938 C 187.503906 192.109375 192.90625 192.109375 192.90625 195.710938 \"/>\n",
       "<path style=\"fill:none;stroke-width:0.75;stroke-linecap:round;stroke-linejoin:round;stroke:rgb(0%,0%,0%);stroke-opacity:1;stroke-miterlimit:10;\" d=\"M 133.667969 169.527344 C 133.667969 173.128906 128.269531 173.128906 128.269531 169.527344 C 128.269531 165.925781 133.667969 165.925781 133.667969 169.527344 \"/>\n",
       "<path style=\"fill:none;stroke-width:0.75;stroke-linecap:round;stroke-linejoin:round;stroke:rgb(0%,0%,0%);stroke-opacity:1;stroke-miterlimit:10;\" d=\"M 260.601562 117.164062 C 260.601562 120.761719 255.203125 120.761719 255.203125 117.164062 C 255.203125 113.5625 260.601562 113.5625 260.601562 117.164062 \"/>\n",
       "<path style=\"fill:none;stroke-width:0.75;stroke-linecap:round;stroke-linejoin:round;stroke:rgb(0%,0%,0%);stroke-opacity:1;stroke-miterlimit:10;\" d=\"M 256.371094 195.710938 C 256.371094 199.308594 250.972656 199.308594 250.972656 195.710938 C 250.972656 192.109375 256.371094 192.109375 256.371094 195.710938 \"/>\n",
       "<path style=\"fill:none;stroke-width:0.75;stroke-linecap:round;stroke-linejoin:round;stroke:rgb(0%,0%,0%);stroke-opacity:1;stroke-miterlimit:10;\" d=\"M 116.746094 130.253906 C 116.746094 133.855469 111.34375 133.855469 111.34375 130.253906 C 111.34375 126.65625 116.746094 126.65625 116.746094 130.253906 \"/>\n",
       "<path style=\"fill:none;stroke-width:0.75;stroke-linecap:round;stroke-linejoin:round;stroke:rgb(0%,0%,0%);stroke-opacity:1;stroke-miterlimit:10;\" d=\"M 192.90625 156.4375 C 192.90625 160.035156 187.503906 160.035156 187.503906 156.4375 C 187.503906 152.835938 192.90625 152.835938 192.90625 156.4375 \"/>\n",
       "<path style=\"fill:none;stroke-width:0.75;stroke-linecap:round;stroke-linejoin:round;stroke:rgb(0%,0%,0%);stroke-opacity:1;stroke-miterlimit:10;\" d=\"M 222.523438 156.4375 C 222.523438 160.035156 217.121094 160.035156 217.121094 156.4375 C 217.121094 152.835938 222.523438 152.835938 222.523438 156.4375 \"/>\n",
       "<path style=\"fill:none;stroke-width:0.75;stroke-linecap:round;stroke-linejoin:round;stroke:rgb(0%,0%,0%);stroke-opacity:1;stroke-miterlimit:10;\" d=\"M 192.90625 156.4375 C 192.90625 160.035156 187.503906 160.035156 187.503906 156.4375 C 187.503906 152.835938 192.90625 152.835938 192.90625 156.4375 \"/>\n",
       "<path style=\"fill:none;stroke-width:0.75;stroke-linecap:round;stroke-linejoin:round;stroke:rgb(0%,0%,0%);stroke-opacity:1;stroke-miterlimit:10;\" d=\"M 324.070312 156.4375 C 324.070312 160.035156 318.667969 160.035156 318.667969 156.4375 C 318.667969 152.835938 324.070312 152.835938 324.070312 156.4375 \"/>\n",
       "<path style=\"fill:none;stroke-width:0.75;stroke-linecap:round;stroke-linejoin:round;stroke:rgb(0%,0%,0%);stroke-opacity:1;stroke-miterlimit:10;\" d=\"M 277.527344 169.527344 C 277.527344 173.128906 272.125 173.128906 272.125 169.527344 C 272.125 165.925781 277.527344 165.925781 277.527344 169.527344 \"/>\n",
       "<path style=\"fill:none;stroke-width:0.75;stroke-linecap:round;stroke-linejoin:round;stroke:rgb(0%,0%,0%);stroke-opacity:1;stroke-miterlimit:10;\" d=\"M 188.671875 169.527344 C 188.671875 173.128906 183.273438 173.128906 183.273438 169.527344 C 183.273438 165.925781 188.671875 165.925781 188.671875 169.527344 \"/>\n",
       "<path style=\"fill:none;stroke-width:0.75;stroke-linecap:round;stroke-linejoin:round;stroke:rgb(0%,0%,0%);stroke-opacity:1;stroke-miterlimit:10;\" d=\"M 298.683594 156.4375 C 298.683594 160.035156 293.28125 160.035156 293.28125 156.4375 C 293.28125 152.835938 298.683594 152.835938 298.683594 156.4375 \"/>\n",
       "<path style=\"fill:none;stroke-width:0.75;stroke-linecap:round;stroke-linejoin:round;stroke:rgb(0%,0%,0%);stroke-opacity:1;stroke-miterlimit:10;\" d=\"M 188.671875 156.4375 C 188.671875 160.035156 183.273438 160.035156 183.273438 156.4375 C 183.273438 152.835938 188.671875 152.835938 188.671875 156.4375 \"/>\n",
       "<path style=\"fill:none;stroke-width:0.75;stroke-linecap:round;stroke-linejoin:round;stroke:rgb(0%,0%,0%);stroke-opacity:1;stroke-miterlimit:10;\" d=\"M 260.601562 156.4375 C 260.601562 160.035156 255.203125 160.035156 255.203125 156.4375 C 255.203125 152.835938 260.601562 152.835938 260.601562 156.4375 \"/>\n",
       "<path style=\"fill:none;stroke-width:0.75;stroke-linecap:round;stroke-linejoin:round;stroke:rgb(0%,0%,0%);stroke-opacity:1;stroke-miterlimit:10;\" d=\"M 273.296875 130.253906 C 273.296875 133.855469 267.894531 133.855469 267.894531 130.253906 C 267.894531 126.65625 273.296875 126.65625 273.296875 130.253906 \"/>\n",
       "<path style=\"fill:none;stroke-width:0.75;stroke-linecap:round;stroke-linejoin:round;stroke:rgb(0%,0%,0%);stroke-opacity:1;stroke-miterlimit:10;\" d=\"M 167.519531 156.4375 C 167.519531 160.035156 162.117188 160.035156 162.117188 156.4375 C 162.117188 152.835938 167.519531 152.835938 167.519531 156.4375 \"/>\n",
       "<path style=\"fill:none;stroke-width:0.75;stroke-linecap:round;stroke-linejoin:round;stroke:rgb(0%,0%,0%);stroke-opacity:1;stroke-miterlimit:10;\" d=\"M 302.914062 156.4375 C 302.914062 160.035156 297.511719 160.035156 297.511719 156.4375 C 297.511719 152.835938 302.914062 152.835938 302.914062 156.4375 \"/>\n",
       "<path style=\"fill:none;stroke-width:0.75;stroke-linecap:round;stroke-linejoin:round;stroke:rgb(0%,0%,0%);stroke-opacity:1;stroke-miterlimit:10;\" d=\"M 146.363281 156.4375 C 146.363281 160.035156 140.960938 160.035156 140.960938 156.4375 C 140.960938 152.835938 146.363281 152.835938 146.363281 156.4375 \"/>\n",
       "<path style=\"fill:none;stroke-width:0.75;stroke-linecap:round;stroke-linejoin:round;stroke:rgb(0%,0%,0%);stroke-opacity:1;stroke-miterlimit:10;\" d=\"M 349.457031 182.617188 C 349.457031 186.21875 344.054688 186.21875 344.054688 182.617188 C 344.054688 179.019531 349.457031 179.019531 349.457031 182.617188 \"/>\n",
       "<path style=\"fill:none;stroke-width:0.75;stroke-linecap:round;stroke-linejoin:round;stroke:rgb(0%,0%,0%);stroke-opacity:1;stroke-miterlimit:10;\" d=\"M 247.910156 156.4375 C 247.910156 160.035156 242.507812 160.035156 242.507812 156.4375 C 242.507812 152.835938 247.910156 152.835938 247.910156 156.4375 \"/>\n",
       "<path style=\"fill:none;stroke-width:0.75;stroke-linecap:round;stroke-linejoin:round;stroke:rgb(0%,0%,0%);stroke-opacity:1;stroke-miterlimit:10;\" d=\"M 175.980469 77.890625 C 175.980469 81.492188 170.578125 81.492188 170.578125 77.890625 C 170.578125 74.289062 175.980469 74.289062 175.980469 77.890625 \"/>\n",
       "<path style=\"fill:none;stroke-width:0.75;stroke-linecap:round;stroke-linejoin:round;stroke:rgb(0%,0%,0%);stroke-opacity:1;stroke-miterlimit:10;\" d=\"M 230.984375 195.710938 C 230.984375 199.308594 225.585938 199.308594 225.585938 195.710938 C 225.585938 192.109375 230.984375 192.109375 230.984375 195.710938 \"/>\n",
       "<path style=\"fill:none;stroke-width:0.75;stroke-linecap:round;stroke-linejoin:round;stroke:rgb(0%,0%,0%);stroke-opacity:1;stroke-miterlimit:10;\" d=\"M 243.679688 156.4375 C 243.679688 160.035156 238.277344 160.035156 238.277344 156.4375 C 238.277344 152.835938 243.679688 152.835938 243.679688 156.4375 \"/>\n",
       "<path style=\"fill:none;stroke-width:0.75;stroke-linecap:round;stroke-linejoin:round;stroke:rgb(0%,0%,0%);stroke-opacity:1;stroke-miterlimit:10;\" d=\"M 180.210938 156.4375 C 180.210938 160.035156 174.8125 160.035156 174.8125 156.4375 C 174.8125 152.835938 180.210938 152.835938 180.210938 156.4375 \"/>\n",
       "<path style=\"fill:none;stroke-width:0.75;stroke-linecap:round;stroke-linejoin:round;stroke:rgb(0%,0%,0%);stroke-opacity:1;stroke-miterlimit:10;\" d=\"M 243.679688 208.800781 C 243.679688 212.398438 238.277344 212.398438 238.277344 208.800781 C 238.277344 205.199219 243.679688 205.199219 243.679688 208.800781 \"/>\n",
       "<path style=\"fill:none;stroke-width:0.75;stroke-linecap:round;stroke-linejoin:round;stroke:rgb(0%,0%,0%);stroke-opacity:1;stroke-miterlimit:10;\" d=\"M 222.523438 143.34375 C 222.523438 146.945312 217.121094 146.945312 217.121094 143.34375 C 217.121094 139.746094 222.523438 139.746094 222.523438 143.34375 \"/>\n",
       "<path style=\"fill:none;stroke-width:0.75;stroke-linecap:round;stroke-linejoin:round;stroke:rgb(0%,0%,0%);stroke-opacity:1;stroke-miterlimit:10;\" d=\"M 247.910156 143.34375 C 247.910156 146.945312 242.507812 146.945312 242.507812 143.34375 C 242.507812 139.746094 247.910156 139.746094 247.910156 143.34375 \"/>\n",
       "<path style=\"fill:none;stroke-width:0.75;stroke-linecap:round;stroke-linejoin:round;stroke:rgb(0%,0%,0%);stroke-opacity:1;stroke-miterlimit:10;\" d=\"M 260.601562 182.617188 C 260.601562 186.21875 255.203125 186.21875 255.203125 182.617188 C 255.203125 179.019531 260.601562 179.019531 260.601562 182.617188 \"/>\n",
       "<path style=\"fill:none;stroke-width:0.75;stroke-linecap:round;stroke-linejoin:round;stroke:rgb(0%,0%,0%);stroke-opacity:1;stroke-miterlimit:10;\" d=\"M 201.367188 117.164062 C 201.367188 120.761719 195.964844 120.761719 195.964844 117.164062 C 195.964844 113.5625 201.367188 113.5625 201.367188 117.164062 \"/>\n",
       "<path style=\"fill:none;stroke-width:0.75;stroke-linecap:round;stroke-linejoin:round;stroke:rgb(0%,0%,0%);stroke-opacity:1;stroke-miterlimit:10;\" d=\"M 281.757812 156.4375 C 281.757812 160.035156 276.359375 160.035156 276.359375 156.4375 C 276.359375 152.835938 281.757812 152.835938 281.757812 156.4375 \"/>\n",
       "<path style=\"fill:none;stroke-width:0.75;stroke-linecap:round;stroke-linejoin:round;stroke:rgb(0%,0%,0%);stroke-opacity:1;stroke-miterlimit:10;\" d=\"M 247.910156 130.253906 C 247.910156 133.855469 242.507812 133.855469 242.507812 130.253906 C 242.507812 126.65625 247.910156 126.65625 247.910156 130.253906 \"/>\n",
       "<path style=\"fill:none;stroke-width:0.75;stroke-linecap:round;stroke-linejoin:round;stroke:rgb(0%,0%,0%);stroke-opacity:1;stroke-miterlimit:10;\" d=\"M 294.449219 169.527344 C 294.449219 173.128906 289.050781 173.128906 289.050781 169.527344 C 289.050781 165.925781 294.449219 165.925781 294.449219 169.527344 \"/>\n",
       "<path style=\"fill:none;stroke-width:0.75;stroke-linecap:round;stroke-linejoin:round;stroke:rgb(0%,0%,0%);stroke-opacity:1;stroke-miterlimit:10;\" d=\"M 175.980469 156.4375 C 175.980469 160.035156 170.578125 160.035156 170.578125 156.4375 C 170.578125 152.835938 175.980469 152.835938 175.980469 156.4375 \"/>\n",
       "<path style=\"fill:none;stroke-width:0.75;stroke-linecap:round;stroke-linejoin:round;stroke:rgb(0%,0%,0%);stroke-opacity:1;stroke-miterlimit:10;\" d=\"M 239.445312 195.710938 C 239.445312 199.308594 234.046875 199.308594 234.046875 195.710938 C 234.046875 192.109375 239.445312 192.109375 239.445312 195.710938 \"/>\n",
       "<path style=\"fill:none;stroke-width:0.75;stroke-linecap:round;stroke-linejoin:round;stroke:rgb(0%,0%,0%);stroke-opacity:1;stroke-miterlimit:10;\" d=\"M 302.914062 169.527344 C 302.914062 173.128906 297.511719 173.128906 297.511719 169.527344 C 297.511719 165.925781 302.914062 165.925781 302.914062 169.527344 \"/>\n",
       "<path style=\"fill:none;stroke-width:0.75;stroke-linecap:round;stroke-linejoin:round;stroke:rgb(0%,0%,0%);stroke-opacity:1;stroke-miterlimit:10;\" d=\"M 281.757812 195.710938 C 281.757812 199.308594 276.359375 199.308594 276.359375 195.710938 C 276.359375 192.109375 281.757812 192.109375 281.757812 195.710938 \"/>\n",
       "<path style=\"fill:none;stroke-width:0.75;stroke-linecap:round;stroke-linejoin:round;stroke:rgb(0%,0%,0%);stroke-opacity:1;stroke-miterlimit:10;\" d=\"M 87.125 182.617188 C 87.125 186.21875 81.726562 186.21875 81.726562 182.617188 C 81.726562 179.019531 87.125 179.019531 87.125 182.617188 \"/>\n",
       "<path style=\"fill:none;stroke-width:0.75;stroke-linecap:round;stroke-linejoin:round;stroke:rgb(0%,0%,0%);stroke-opacity:1;stroke-miterlimit:10;\" d=\"M 290.21875 156.4375 C 290.21875 160.035156 284.820312 160.035156 284.820312 156.4375 C 284.820312 152.835938 290.21875 152.835938 290.21875 156.4375 \"/>\n",
       "<path style=\"fill:none;stroke-width:0.75;stroke-linecap:round;stroke-linejoin:round;stroke:rgb(0%,0%,0%);stroke-opacity:1;stroke-miterlimit:10;\" d=\"M 345.222656 117.164062 C 345.222656 120.761719 339.824219 120.761719 339.824219 117.164062 C 339.824219 113.5625 345.222656 113.5625 345.222656 117.164062 \"/>\n",
       "<path style=\"fill:none;stroke-width:0.75;stroke-linecap:round;stroke-linejoin:round;stroke:rgb(0%,0%,0%);stroke-opacity:1;stroke-miterlimit:10;\" d=\"M 269.0625 208.800781 C 269.0625 212.398438 263.664062 212.398438 263.664062 208.800781 C 263.664062 205.199219 269.0625 205.199219 269.0625 208.800781 \"/>\n",
       "<path style=\"fill:none;stroke-width:0.75;stroke-linecap:round;stroke-linejoin:round;stroke:rgb(0%,0%,0%);stroke-opacity:1;stroke-miterlimit:10;\" d=\"M 205.597656 143.34375 C 205.597656 146.945312 200.199219 146.945312 200.199219 143.34375 C 200.199219 139.746094 205.597656 139.746094 205.597656 143.34375 \"/>\n",
       "<path style=\"fill:none;stroke-width:0.75;stroke-linecap:round;stroke-linejoin:round;stroke:rgb(0%,0%,0%);stroke-opacity:1;stroke-miterlimit:10;\" d=\"M 273.296875 182.617188 C 273.296875 186.21875 267.894531 186.21875 267.894531 182.617188 C 267.894531 179.019531 273.296875 179.019531 273.296875 182.617188 \"/>\n",
       "<path style=\"fill:none;stroke-width:0.75;stroke-linecap:round;stroke-linejoin:round;stroke:rgb(0%,0%,0%);stroke-opacity:1;stroke-miterlimit:10;\" d=\"M 307.144531 156.4375 C 307.144531 160.035156 301.746094 160.035156 301.746094 156.4375 C 301.746094 152.835938 307.144531 152.835938 307.144531 156.4375 \"/>\n",
       "<path style=\"fill:none;stroke-width:0.75;stroke-linecap:round;stroke-linejoin:round;stroke:rgb(0%,0%,0%);stroke-opacity:1;stroke-miterlimit:10;\" d=\"M 197.136719 182.617188 C 197.136719 186.21875 191.734375 186.21875 191.734375 182.617188 C 191.734375 179.019531 197.136719 179.019531 197.136719 182.617188 \"/>\n",
       "<path style=\"fill:none;stroke-width:0.75;stroke-linecap:round;stroke-linejoin:round;stroke:rgb(0%,0%,0%);stroke-opacity:1;stroke-miterlimit:10;\" d=\"M 142.132812 143.34375 C 142.132812 146.945312 136.730469 146.945312 136.730469 143.34375 C 136.730469 139.746094 142.132812 139.746094 142.132812 143.34375 \"/>\n",
       "<path style=\"fill:none;stroke-width:0.75;stroke-linecap:round;stroke-linejoin:round;stroke:rgb(0%,0%,0%);stroke-opacity:1;stroke-miterlimit:10;\" d=\"M 290.21875 195.710938 C 290.21875 199.308594 284.820312 199.308594 284.820312 195.710938 C 284.820312 192.109375 290.21875 192.109375 290.21875 195.710938 \"/>\n",
       "<path style=\"fill:none;stroke-width:0.75;stroke-linecap:round;stroke-linejoin:round;stroke:rgb(0%,0%,0%);stroke-opacity:1;stroke-miterlimit:10;\" d=\"M 78.664062 195.710938 C 78.664062 199.308594 73.265625 199.308594 73.265625 195.710938 C 73.265625 192.109375 78.664062 192.109375 78.664062 195.710938 \"/>\n",
       "<path style=\"fill:none;stroke-width:0.75;stroke-linecap:round;stroke-linejoin:round;stroke:rgb(0%,0%,0%);stroke-opacity:1;stroke-miterlimit:10;\" d=\"M 235.214844 143.34375 C 235.214844 146.945312 229.816406 146.945312 229.816406 143.34375 C 229.816406 139.746094 235.214844 139.746094 235.214844 143.34375 \"/>\n",
       "<path style=\"fill:none;stroke-width:0.75;stroke-linecap:round;stroke-linejoin:round;stroke:rgb(0%,0%,0%);stroke-opacity:1;stroke-miterlimit:10;\" d=\"M 82.894531 156.4375 C 82.894531 160.035156 77.496094 160.035156 77.496094 156.4375 C 77.496094 152.835938 82.894531 152.835938 82.894531 156.4375 \"/>\n",
       "<path style=\"fill:none;stroke-width:0.75;stroke-linecap:round;stroke-linejoin:round;stroke:rgb(0%,0%,0%);stroke-opacity:1;stroke-miterlimit:10;\" d=\"M 230.984375 130.253906 C 230.984375 133.855469 225.585938 133.855469 225.585938 130.253906 C 225.585938 126.65625 230.984375 126.65625 230.984375 130.253906 \"/>\n",
       "<path style=\"fill:none;stroke-width:0.75;stroke-linecap:round;stroke-linejoin:round;stroke:rgb(0%,0%,0%);stroke-opacity:1;stroke-miterlimit:10;\" d=\"M 273.296875 208.800781 C 273.296875 212.398438 267.894531 212.398438 267.894531 208.800781 C 267.894531 205.199219 273.296875 205.199219 273.296875 208.800781 \"/>\n",
       "<path style=\"fill:none;stroke-width:0.75;stroke-linecap:round;stroke-linejoin:round;stroke:rgb(0%,0%,0%);stroke-opacity:1;stroke-miterlimit:10;\" d=\"M 180.210938 117.164062 C 180.210938 120.761719 174.8125 120.761719 174.8125 117.164062 C 174.8125 113.5625 180.210938 113.5625 180.210938 117.164062 \"/>\n",
       "<path style=\"fill:none;stroke-width:0.75;stroke-linecap:round;stroke-linejoin:round;stroke:rgb(0%,0%,0%);stroke-opacity:1;stroke-miterlimit:10;\" d=\"M 184.441406 182.617188 C 184.441406 186.21875 179.042969 186.21875 179.042969 182.617188 C 179.042969 179.019531 184.441406 179.019531 184.441406 182.617188 \"/>\n",
       "<path style=\"fill:none;stroke-width:0.75;stroke-linecap:round;stroke-linejoin:round;stroke:rgb(0%,0%,0%);stroke-opacity:1;stroke-miterlimit:10;\" d=\"M 252.140625 169.527344 C 252.140625 173.128906 246.738281 173.128906 246.738281 169.527344 C 246.738281 165.925781 252.140625 165.925781 252.140625 169.527344 \"/>\n",
       "<path style=\"fill:none;stroke-width:0.75;stroke-linecap:round;stroke-linejoin:round;stroke:rgb(0%,0%,0%);stroke-opacity:1;stroke-miterlimit:10;\" d=\"M 218.292969 195.710938 C 218.292969 199.308594 212.890625 199.308594 212.890625 195.710938 C 212.890625 192.109375 218.292969 192.109375 218.292969 195.710938 \"/>\n",
       "<path style=\"fill:none;stroke-width:0.75;stroke-linecap:round;stroke-linejoin:round;stroke:rgb(0%,0%,0%);stroke-opacity:1;stroke-miterlimit:10;\" d=\"M 188.671875 156.4375 C 188.671875 160.035156 183.273438 160.035156 183.273438 156.4375 C 183.273438 152.835938 188.671875 152.835938 188.671875 156.4375 \"/>\n",
       "<path style=\"fill:none;stroke-width:0.75;stroke-linecap:round;stroke-linejoin:round;stroke:rgb(0%,0%,0%);stroke-opacity:1;stroke-miterlimit:10;\" d=\"M 307.144531 143.34375 C 307.144531 146.945312 301.746094 146.945312 301.746094 143.34375 C 301.746094 139.746094 307.144531 139.746094 307.144531 143.34375 \"/>\n",
       "<path style=\"fill:none;stroke-width:0.75;stroke-linecap:round;stroke-linejoin:round;stroke:rgb(0%,0%,0%);stroke-opacity:1;stroke-miterlimit:10;\" d=\"M 260.601562 208.800781 C 260.601562 212.398438 255.203125 212.398438 255.203125 208.800781 C 255.203125 205.199219 260.601562 205.199219 260.601562 208.800781 \"/>\n",
       "<path style=\"fill:none;stroke-width:0.75;stroke-linecap:round;stroke-linejoin:round;stroke:rgb(0%,0%,0%);stroke-opacity:1;stroke-miterlimit:10;\" d=\"M 188.671875 156.4375 C 188.671875 160.035156 183.273438 160.035156 183.273438 156.4375 C 183.273438 152.835938 188.671875 152.835938 188.671875 156.4375 \"/>\n",
       "<path style=\"fill:none;stroke-width:0.75;stroke-linecap:round;stroke-linejoin:round;stroke:rgb(0%,0%,0%);stroke-opacity:1;stroke-miterlimit:10;\" d=\"M 163.285156 104.074219 C 163.285156 107.671875 157.886719 107.671875 157.886719 104.074219 C 157.886719 100.472656 163.285156 100.472656 163.285156 104.074219 \"/>\n",
       "<path style=\"fill:none;stroke-width:0.75;stroke-linecap:round;stroke-linejoin:round;stroke:rgb(0%,0%,0%);stroke-opacity:1;stroke-miterlimit:10;\" d=\"M 277.527344 195.710938 C 277.527344 199.308594 272.125 199.308594 272.125 195.710938 C 272.125 192.109375 277.527344 192.109375 277.527344 195.710938 \"/>\n",
       "<path style=\"fill:none;stroke-width:0.75;stroke-linecap:round;stroke-linejoin:round;stroke:rgb(0%,0%,0%);stroke-opacity:1;stroke-miterlimit:10;\" d=\"M 260.601562 117.164062 C 260.601562 120.761719 255.203125 120.761719 255.203125 117.164062 C 255.203125 113.5625 260.601562 113.5625 260.601562 117.164062 \"/>\n",
       "<path style=\"fill:none;stroke-width:0.75;stroke-linecap:round;stroke-linejoin:round;stroke:rgb(0%,0%,0%);stroke-opacity:1;stroke-miterlimit:10;\" d=\"M 146.363281 156.4375 C 146.363281 160.035156 140.960938 160.035156 140.960938 156.4375 C 140.960938 152.835938 146.363281 152.835938 146.363281 156.4375 \"/>\n",
       "<path style=\"fill:none;stroke-width:0.75;stroke-linecap:round;stroke-linejoin:round;stroke:rgb(0%,0%,0%);stroke-opacity:1;stroke-miterlimit:10;\" d=\"M 243.679688 195.710938 C 243.679688 199.308594 238.277344 199.308594 238.277344 195.710938 C 238.277344 192.109375 243.679688 192.109375 243.679688 195.710938 \"/>\n",
       "<path style=\"fill:none;stroke-width:0.75;stroke-linecap:round;stroke-linejoin:round;stroke:rgb(0%,0%,0%);stroke-opacity:1;stroke-miterlimit:10;\" d=\"M 95.589844 208.800781 C 95.589844 212.398438 90.1875 212.398438 90.1875 208.800781 C 90.1875 205.199219 95.589844 205.199219 95.589844 208.800781 \"/>\n",
       "<path style=\"fill:none;stroke-width:0.75;stroke-linecap:round;stroke-linejoin:round;stroke:rgb(0%,0%,0%);stroke-opacity:1;stroke-miterlimit:10;\" d=\"M 167.519531 156.4375 C 167.519531 160.035156 162.117188 160.035156 162.117188 156.4375 C 162.117188 152.835938 167.519531 152.835938 167.519531 156.4375 \"/>\n",
       "<path style=\"fill:none;stroke-width:0.75;stroke-linecap:round;stroke-linejoin:round;stroke:rgb(0%,0%,0%);stroke-opacity:1;stroke-miterlimit:10;\" d=\"M 290.21875 208.800781 C 290.21875 212.398438 284.820312 212.398438 284.820312 208.800781 C 284.820312 205.199219 290.21875 205.199219 290.21875 208.800781 \"/>\n",
       "<path style=\"fill:none;stroke-width:0.75;stroke-linecap:round;stroke-linejoin:round;stroke:rgb(0%,0%,0%);stroke-opacity:1;stroke-miterlimit:10;\" d=\"M 184.441406 90.980469 C 184.441406 94.582031 179.042969 94.582031 179.042969 90.980469 C 179.042969 87.382812 184.441406 87.382812 184.441406 90.980469 \"/>\n",
       "<path style=\"fill:none;stroke-width:0.75;stroke-linecap:round;stroke-linejoin:round;stroke:rgb(0%,0%,0%);stroke-opacity:1;stroke-miterlimit:10;\" d=\"M 239.445312 208.800781 C 239.445312 212.398438 234.046875 212.398438 234.046875 208.800781 C 234.046875 205.199219 239.445312 205.199219 239.445312 208.800781 \"/>\n",
       "<path style=\"fill:none;stroke-width:0.75;stroke-linecap:round;stroke-linejoin:round;stroke:rgb(0%,0%,0%);stroke-opacity:1;stroke-miterlimit:10;\" d=\"M 171.75 195.710938 C 171.75 199.308594 166.347656 199.308594 166.347656 195.710938 C 166.347656 192.109375 171.75 192.109375 171.75 195.710938 \"/>\n",
       "<path style=\"fill:none;stroke-width:0.75;stroke-linecap:round;stroke-linejoin:round;stroke:rgb(0%,0%,0%);stroke-opacity:1;stroke-miterlimit:10;\" d=\"M 307.144531 208.800781 C 307.144531 212.398438 301.746094 212.398438 301.746094 208.800781 C 301.746094 205.199219 307.144531 205.199219 307.144531 208.800781 \"/>\n",
       "<path style=\"fill:none;stroke-width:0.75;stroke-linecap:round;stroke-linejoin:round;stroke:rgb(0%,0%,0%);stroke-opacity:1;stroke-miterlimit:10;\" d=\"M 167.519531 143.34375 C 167.519531 146.945312 162.117188 146.945312 162.117188 143.34375 C 162.117188 139.746094 167.519531 139.746094 167.519531 143.34375 \"/>\n",
       "<path style=\"fill:none;stroke-width:0.75;stroke-linecap:round;stroke-linejoin:round;stroke:rgb(0%,0%,0%);stroke-opacity:1;stroke-miterlimit:10;\" d=\"M 247.910156 208.800781 C 247.910156 212.398438 242.507812 212.398438 242.507812 208.800781 C 242.507812 205.199219 247.910156 205.199219 247.910156 208.800781 \"/>\n",
       "<path style=\"fill:none;stroke-width:0.75;stroke-linecap:round;stroke-linejoin:round;stroke:rgb(0%,0%,0%);stroke-opacity:1;stroke-miterlimit:10;\" d=\"M 95.589844 130.253906 C 95.589844 133.855469 90.1875 133.855469 90.1875 130.253906 C 90.1875 126.65625 95.589844 126.65625 95.589844 130.253906 \"/>\n",
       "<path style=\"fill:none;stroke-width:0.75;stroke-linecap:round;stroke-linejoin:round;stroke:rgb(0%,0%,0%);stroke-opacity:1;stroke-miterlimit:10;\" d=\"M 226.753906 104.074219 C 226.753906 107.671875 221.351562 107.671875 221.351562 104.074219 C 221.351562 100.472656 226.753906 100.472656 226.753906 104.074219 \"/>\n",
       "<path style=\"fill:none;stroke-width:0.75;stroke-linecap:round;stroke-linejoin:round;stroke:rgb(0%,0%,0%);stroke-opacity:1;stroke-miterlimit:10;\" d=\"M 230.984375 117.164062 C 230.984375 120.761719 225.585938 120.761719 225.585938 117.164062 C 225.585938 113.5625 230.984375 113.5625 230.984375 117.164062 \"/>\n",
       "<path style=\"fill:none;stroke-width:0.75;stroke-linecap:round;stroke-linejoin:round;stroke:rgb(0%,0%,0%);stroke-opacity:1;stroke-miterlimit:10;\" d=\"M 273.296875 208.800781 C 273.296875 212.398438 267.894531 212.398438 267.894531 208.800781 C 267.894531 205.199219 273.296875 205.199219 273.296875 208.800781 \"/>\n",
       "<path style=\"fill:none;stroke-width:0.75;stroke-linecap:round;stroke-linejoin:round;stroke:rgb(0%,0%,0%);stroke-opacity:1;stroke-miterlimit:10;\" d=\"M 218.292969 117.164062 C 218.292969 120.761719 212.890625 120.761719 212.890625 117.164062 C 212.890625 113.5625 218.292969 113.5625 218.292969 117.164062 \"/>\n",
       "<path style=\"fill:none;stroke-width:0.75;stroke-linecap:round;stroke-linejoin:round;stroke:rgb(0%,0%,0%);stroke-opacity:1;stroke-miterlimit:10;\" d=\"M 239.445312 143.34375 C 239.445312 146.945312 234.046875 146.945312 234.046875 143.34375 C 234.046875 139.746094 239.445312 139.746094 239.445312 143.34375 \"/>\n",
       "<path style=\"fill:none;stroke-width:0.75;stroke-linecap:round;stroke-linejoin:round;stroke:rgb(0%,0%,0%);stroke-opacity:1;stroke-miterlimit:10;\" d=\"M 184.441406 143.34375 C 184.441406 146.945312 179.042969 146.945312 179.042969 143.34375 C 179.042969 139.746094 184.441406 139.746094 184.441406 143.34375 \"/>\n",
       "<path style=\"fill:none;stroke-width:0.75;stroke-linecap:round;stroke-linejoin:round;stroke:rgb(0%,0%,0%);stroke-opacity:1;stroke-miterlimit:10;\" d=\"M 252.140625 143.34375 C 252.140625 146.945312 246.738281 146.945312 246.738281 143.34375 C 246.738281 139.746094 252.140625 139.746094 252.140625 143.34375 \"/>\n",
       "<path style=\"fill:none;stroke-width:0.75;stroke-linecap:round;stroke-linejoin:round;stroke:rgb(0%,0%,0%);stroke-opacity:1;stroke-miterlimit:10;\" d=\"M 243.679688 169.527344 C 243.679688 173.128906 238.277344 173.128906 238.277344 169.527344 C 238.277344 165.925781 243.679688 165.925781 243.679688 169.527344 \"/>\n",
       "<path style=\"fill:none;stroke-width:0.75;stroke-linecap:round;stroke-linejoin:round;stroke:rgb(0%,0%,0%);stroke-opacity:1;stroke-miterlimit:10;\" d=\"M 285.988281 169.527344 C 285.988281 173.128906 280.589844 173.128906 280.589844 169.527344 C 280.589844 165.925781 285.988281 165.925781 285.988281 169.527344 \"/>\n",
       "<path style=\"fill:none;stroke-width:0.75;stroke-linecap:round;stroke-linejoin:round;stroke:rgb(0%,0%,0%);stroke-opacity:1;stroke-miterlimit:10;\" d=\"M 209.828125 130.253906 C 209.828125 133.855469 204.429688 133.855469 204.429688 130.253906 C 204.429688 126.65625 209.828125 126.65625 209.828125 130.253906 \"/>\n",
       "<path style=\"fill:none;stroke-width:0.75;stroke-linecap:round;stroke-linejoin:round;stroke:rgb(0%,0%,0%);stroke-opacity:1;stroke-miterlimit:10;\" d=\"M 277.527344 117.164062 C 277.527344 120.761719 272.125 120.761719 272.125 117.164062 C 272.125 113.5625 277.527344 113.5625 277.527344 117.164062 \"/>\n",
       "<path style=\"fill:none;stroke-width:0.75;stroke-linecap:round;stroke-linejoin:round;stroke:rgb(0%,0%,0%);stroke-opacity:1;stroke-miterlimit:10;\" d=\"M 146.363281 117.164062 C 146.363281 120.761719 140.960938 120.761719 140.960938 117.164062 C 140.960938 113.5625 146.363281 113.5625 146.363281 117.164062 \"/>\n",
       "<path style=\"fill:none;stroke-width:0.75;stroke-linecap:round;stroke-linejoin:round;stroke:rgb(0%,0%,0%);stroke-opacity:1;stroke-miterlimit:10;\" d=\"M 285.988281 208.800781 C 285.988281 212.398438 280.589844 212.398438 280.589844 208.800781 C 280.589844 205.199219 285.988281 205.199219 285.988281 208.800781 \"/>\n",
       "<path style=\"fill:none;stroke-width:0.75;stroke-linecap:round;stroke-linejoin:round;stroke:rgb(0%,0%,0%);stroke-opacity:1;stroke-miterlimit:10;\" d=\"M 239.445312 169.527344 C 239.445312 173.128906 234.046875 173.128906 234.046875 169.527344 C 234.046875 165.925781 239.445312 165.925781 239.445312 169.527344 \"/>\n",
       "<path style=\"fill:none;stroke-width:0.75;stroke-linecap:round;stroke-linejoin:round;stroke:rgb(0%,0%,0%);stroke-opacity:1;stroke-miterlimit:10;\" d=\"M 222.523438 169.527344 C 222.523438 173.128906 217.121094 173.128906 217.121094 169.527344 C 217.121094 165.925781 222.523438 165.925781 222.523438 169.527344 \"/>\n",
       "<path style=\"fill:none;stroke-width:0.75;stroke-linecap:round;stroke-linejoin:round;stroke:rgb(0%,0%,0%);stroke-opacity:1;stroke-miterlimit:10;\" d=\"M 201.367188 104.074219 C 201.367188 107.671875 195.964844 107.671875 195.964844 104.074219 C 195.964844 100.472656 201.367188 100.472656 201.367188 104.074219 \"/>\n",
       "<path style=\"fill:none;stroke-width:0.75;stroke-linecap:round;stroke-linejoin:round;stroke:rgb(0%,0%,0%);stroke-opacity:1;stroke-miterlimit:10;\" d=\"M 277.527344 130.253906 C 277.527344 133.855469 272.125 133.855469 272.125 130.253906 C 272.125 126.65625 277.527344 126.65625 277.527344 130.253906 \"/>\n",
       "<path style=\"fill:none;stroke-width:0.75;stroke-linecap:round;stroke-linejoin:round;stroke:rgb(0%,0%,0%);stroke-opacity:1;stroke-miterlimit:10;\" d=\"M 125.207031 104.074219 C 125.207031 107.671875 119.808594 107.671875 119.808594 104.074219 C 119.808594 100.472656 125.207031 100.472656 125.207031 104.074219 \"/>\n",
       "<path style=\"fill:none;stroke-width:0.75;stroke-linecap:round;stroke-linejoin:round;stroke:rgb(0%,0%,0%);stroke-opacity:1;stroke-miterlimit:10;\" d=\"M 239.445312 195.710938 C 239.445312 199.308594 234.046875 199.308594 234.046875 195.710938 C 234.046875 192.109375 239.445312 192.109375 239.445312 195.710938 \"/>\n",
       "<path style=\"fill:none;stroke-width:0.75;stroke-linecap:round;stroke-linejoin:round;stroke:rgb(0%,0%,0%);stroke-opacity:1;stroke-miterlimit:10;\" d=\"M 311.375 143.34375 C 311.375 146.945312 305.976562 146.945312 305.976562 143.34375 C 305.976562 139.746094 311.375 139.746094 311.375 143.34375 \"/>\n",
       "<path style=\"fill:none;stroke-width:0.75;stroke-linecap:round;stroke-linejoin:round;stroke:rgb(0%,0%,0%);stroke-opacity:1;stroke-miterlimit:10;\" d=\"M 383.304688 182.617188 C 383.304688 186.21875 377.90625 186.21875 377.90625 182.617188 C 377.90625 179.019531 383.304688 179.019531 383.304688 182.617188 \"/>\n",
       "<path style=\"fill:none;stroke-width:0.75;stroke-linecap:round;stroke-linejoin:round;stroke:rgb(0%,0%,0%);stroke-opacity:1;stroke-miterlimit:10;\" d=\"M 340.992188 143.34375 C 340.992188 146.945312 335.59375 146.945312 335.59375 143.34375 C 335.59375 139.746094 340.992188 139.746094 340.992188 143.34375 \"/>\n",
       "<path style=\"fill:none;stroke-width:0.75;stroke-linecap:round;stroke-linejoin:round;stroke:rgb(0%,0%,0%);stroke-opacity:1;stroke-miterlimit:10;\" d=\"M 116.746094 130.253906 C 116.746094 133.855469 111.34375 133.855469 111.34375 130.253906 C 111.34375 126.65625 116.746094 126.65625 116.746094 130.253906 \"/>\n",
       "<path style=\"fill:none;stroke-width:0.75;stroke-linecap:round;stroke-linejoin:round;stroke:rgb(0%,0%,0%);stroke-opacity:1;stroke-miterlimit:10;\" d=\"M 222.523438 156.4375 C 222.523438 160.035156 217.121094 160.035156 217.121094 156.4375 C 217.121094 152.835938 222.523438 152.835938 222.523438 156.4375 \"/>\n",
       "<path style=\"fill:none;stroke-width:0.75;stroke-linecap:round;stroke-linejoin:round;stroke:rgb(0%,0%,0%);stroke-opacity:1;stroke-miterlimit:10;\" d=\"M 171.75 156.4375 C 171.75 160.035156 166.347656 160.035156 166.347656 156.4375 C 166.347656 152.835938 171.75 152.835938 171.75 156.4375 \"/>\n",
       "<path style=\"fill:none;stroke-width:0.75;stroke-linecap:round;stroke-linejoin:round;stroke:rgb(0%,0%,0%);stroke-opacity:1;stroke-miterlimit:10;\" d=\"M 281.757812 143.34375 C 281.757812 146.945312 276.359375 146.945312 276.359375 143.34375 C 276.359375 139.746094 281.757812 139.746094 281.757812 143.34375 \"/>\n",
       "<path style=\"fill:none;stroke-width:0.75;stroke-linecap:round;stroke-linejoin:round;stroke:rgb(0%,0%,0%);stroke-opacity:1;stroke-miterlimit:10;\" d=\"M 137.898438 130.253906 C 137.898438 133.855469 132.5 133.855469 132.5 130.253906 C 132.5 126.65625 137.898438 126.65625 137.898438 130.253906 \"/>\n",
       "<path style=\"fill:none;stroke-width:0.75;stroke-linecap:round;stroke-linejoin:round;stroke:rgb(0%,0%,0%);stroke-opacity:1;stroke-miterlimit:10;\" d=\"M 154.824219 182.617188 C 154.824219 186.21875 149.425781 186.21875 149.425781 182.617188 C 149.425781 179.019531 154.824219 179.019531 154.824219 182.617188 \"/>\n",
       "<path style=\"fill:none;stroke-width:0.75;stroke-linecap:round;stroke-linejoin:round;stroke:rgb(0%,0%,0%);stroke-opacity:1;stroke-miterlimit:10;\" d=\"M 264.832031 169.527344 C 264.832031 173.128906 259.433594 173.128906 259.433594 169.527344 C 259.433594 165.925781 264.832031 165.925781 264.832031 169.527344 \"/>\n",
       "<path style=\"fill:none;stroke-width:0.75;stroke-linecap:round;stroke-linejoin:round;stroke:rgb(0%,0%,0%);stroke-opacity:1;stroke-miterlimit:10;\" d=\"M 277.527344 117.164062 C 277.527344 120.761719 272.125 120.761719 272.125 117.164062 C 272.125 113.5625 277.527344 113.5625 277.527344 117.164062 \"/>\n",
       "<path style=\"fill:none;stroke-width:0.75;stroke-linecap:round;stroke-linejoin:round;stroke:rgb(0%,0%,0%);stroke-opacity:1;stroke-miterlimit:10;\" d=\"M 290.21875 195.710938 C 290.21875 199.308594 284.820312 199.308594 284.820312 195.710938 C 284.820312 192.109375 290.21875 192.109375 290.21875 195.710938 \"/>\n",
       "<path style=\"fill:none;stroke-width:0.75;stroke-linecap:round;stroke-linejoin:round;stroke:rgb(0%,0%,0%);stroke-opacity:1;stroke-miterlimit:10;\" d=\"M 209.828125 143.34375 C 209.828125 146.945312 204.429688 146.945312 204.429688 143.34375 C 204.429688 139.746094 209.828125 139.746094 209.828125 143.34375 \"/>\n",
       "<path style=\"fill:none;stroke-width:0.75;stroke-linecap:round;stroke-linejoin:round;stroke:rgb(0%,0%,0%);stroke-opacity:1;stroke-miterlimit:10;\" d=\"M 269.0625 169.527344 C 269.0625 173.128906 263.664062 173.128906 263.664062 169.527344 C 263.664062 165.925781 269.0625 165.925781 269.0625 169.527344 \"/>\n",
       "<path style=\"fill:none;stroke-width:0.75;stroke-linecap:round;stroke-linejoin:round;stroke:rgb(0%,0%,0%);stroke-opacity:1;stroke-miterlimit:10;\" d=\"M 108.28125 130.253906 C 108.28125 133.855469 102.882812 133.855469 102.882812 130.253906 C 102.882812 126.65625 108.28125 126.65625 108.28125 130.253906 \"/>\n",
       "<path style=\"fill:none;stroke-width:0.75;stroke-linecap:round;stroke-linejoin:round;stroke:rgb(0%,0%,0%);stroke-opacity:1;stroke-miterlimit:10;\" d=\"M 239.445312 104.074219 C 239.445312 107.671875 234.046875 107.671875 234.046875 104.074219 C 234.046875 100.472656 239.445312 100.472656 239.445312 104.074219 \"/>\n",
       "<path style=\"fill:none;stroke-width:0.75;stroke-linecap:round;stroke-linejoin:round;stroke:rgb(0%,0%,0%);stroke-opacity:1;stroke-miterlimit:10;\" d=\"M 180.210938 104.074219 C 180.210938 107.671875 174.8125 107.671875 174.8125 104.074219 C 174.8125 100.472656 180.210938 100.472656 180.210938 104.074219 \"/>\n",
       "<path style=\"fill:none;stroke-width:0.75;stroke-linecap:round;stroke-linejoin:round;stroke:rgb(0%,0%,0%);stroke-opacity:1;stroke-miterlimit:10;\" d=\"M 230.984375 169.527344 C 230.984375 173.128906 225.585938 173.128906 225.585938 169.527344 C 225.585938 165.925781 230.984375 165.925781 230.984375 169.527344 \"/>\n",
       "<path style=\"fill:none;stroke-width:0.75;stroke-linecap:round;stroke-linejoin:round;stroke:rgb(0%,0%,0%);stroke-opacity:1;stroke-miterlimit:10;\" d=\"M 226.753906 208.800781 C 226.753906 212.398438 221.351562 212.398438 221.351562 208.800781 C 221.351562 205.199219 226.753906 205.199219 226.753906 208.800781 \"/>\n",
       "<path style=\"fill:none;stroke-width:0.75;stroke-linecap:round;stroke-linejoin:round;stroke:rgb(0%,0%,0%);stroke-opacity:1;stroke-miterlimit:10;\" d=\"M 349.457031 156.4375 C 349.457031 160.035156 344.054688 160.035156 344.054688 156.4375 C 344.054688 152.835938 349.457031 152.835938 349.457031 156.4375 \"/>\n",
       "<path style=\"fill:none;stroke-width:0.75;stroke-linecap:round;stroke-linejoin:round;stroke:rgb(0%,0%,0%);stroke-opacity:1;stroke-miterlimit:10;\" d=\"M 324.070312 208.800781 C 324.070312 212.398438 318.667969 212.398438 318.667969 208.800781 C 318.667969 205.199219 324.070312 205.199219 324.070312 208.800781 \"/>\n",
       "<path style=\"fill:none;stroke-width:0.75;stroke-linecap:round;stroke-linejoin:round;stroke:rgb(0%,0%,0%);stroke-opacity:1;stroke-miterlimit:10;\" d=\"M 226.753906 156.4375 C 226.753906 160.035156 221.351562 160.035156 221.351562 156.4375 C 221.351562 152.835938 226.753906 152.835938 226.753906 156.4375 \"/>\n",
       "<path style=\"fill:none;stroke-width:0.75;stroke-linecap:round;stroke-linejoin:round;stroke:rgb(0%,0%,0%);stroke-opacity:1;stroke-miterlimit:10;\" d=\"M 269.0625 208.800781 C 269.0625 212.398438 263.664062 212.398438 263.664062 208.800781 C 263.664062 205.199219 269.0625 205.199219 269.0625 208.800781 \"/>\n",
       "<path style=\"fill:none;stroke-width:0.75;stroke-linecap:round;stroke-linejoin:round;stroke:rgb(0%,0%,0%);stroke-opacity:1;stroke-miterlimit:10;\" d=\"M 222.523438 208.800781 C 222.523438 212.398438 217.121094 212.398438 217.121094 208.800781 C 217.121094 205.199219 222.523438 205.199219 222.523438 208.800781 \"/>\n",
       "<path style=\"fill:none;stroke-width:0.75;stroke-linecap:round;stroke-linejoin:round;stroke:rgb(0%,0%,0%);stroke-opacity:1;stroke-miterlimit:10;\" d=\"M 95.589844 130.253906 C 95.589844 133.855469 90.1875 133.855469 90.1875 130.253906 C 90.1875 126.65625 95.589844 126.65625 95.589844 130.253906 \"/>\n",
       "<path style=\"fill:none;stroke-width:0.75;stroke-linecap:round;stroke-linejoin:round;stroke:rgb(0%,0%,0%);stroke-opacity:1;stroke-miterlimit:10;\" d=\"M 247.910156 117.164062 C 247.910156 120.761719 242.507812 120.761719 242.507812 117.164062 C 242.507812 113.5625 247.910156 113.5625 247.910156 117.164062 \"/>\n",
       "<path style=\"fill:none;stroke-width:0.75;stroke-linecap:round;stroke-linejoin:round;stroke:rgb(0%,0%,0%);stroke-opacity:1;stroke-miterlimit:10;\" d=\"M 269.0625 143.34375 C 269.0625 146.945312 263.664062 146.945312 263.664062 143.34375 C 263.664062 139.746094 269.0625 139.746094 269.0625 143.34375 \"/>\n",
       "<path style=\"fill:none;stroke-width:0.75;stroke-linecap:round;stroke-linejoin:round;stroke:rgb(0%,0%,0%);stroke-opacity:1;stroke-miterlimit:10;\" d=\"M 154.824219 104.074219 C 154.824219 107.671875 149.425781 107.671875 149.425781 104.074219 C 149.425781 100.472656 154.824219 100.472656 154.824219 104.074219 \"/>\n",
       "<path style=\"fill:none;stroke-width:0.75;stroke-linecap:round;stroke-linejoin:round;stroke:rgb(0%,0%,0%);stroke-opacity:1;stroke-miterlimit:10;\" d=\"M 391.765625 169.527344 C 391.765625 173.128906 386.367188 173.128906 386.367188 169.527344 C 386.367188 165.925781 391.765625 165.925781 391.765625 169.527344 \"/>\n",
       "<path style=\"fill:none;stroke-width:0.75;stroke-linecap:round;stroke-linejoin:round;stroke:rgb(0%,0%,0%);stroke-opacity:1;stroke-miterlimit:10;\" d=\"M 197.136719 156.4375 C 197.136719 160.035156 191.734375 160.035156 191.734375 156.4375 C 191.734375 152.835938 197.136719 152.835938 197.136719 156.4375 \"/>\n",
       "<path style=\"fill:none;stroke-width:0.75;stroke-linecap:round;stroke-linejoin:round;stroke:rgb(0%,0%,0%);stroke-opacity:1;stroke-miterlimit:10;\" d=\"M 74.433594 130.253906 C 74.433594 133.855469 69.035156 133.855469 69.035156 130.253906 C 69.035156 126.65625 74.433594 126.65625 74.433594 130.253906 \"/>\n",
       "<path style=\"fill:none;stroke-width:0.75;stroke-linecap:round;stroke-linejoin:round;stroke:rgb(0%,0%,0%);stroke-opacity:1;stroke-miterlimit:10;\" d=\"M 175.980469 169.527344 C 175.980469 173.128906 170.578125 173.128906 170.578125 169.527344 C 170.578125 165.925781 175.980469 165.925781 175.980469 169.527344 \"/>\n",
       "<path style=\"fill:none;stroke-width:0.75;stroke-linecap:round;stroke-linejoin:round;stroke:rgb(0%,0%,0%);stroke-opacity:1;stroke-miterlimit:10;\" d=\"M 87.125 195.710938 C 87.125 199.308594 81.726562 199.308594 81.726562 195.710938 C 81.726562 192.109375 87.125 192.109375 87.125 195.710938 \"/>\n",
       "<path style=\"fill:none;stroke-width:0.75;stroke-linecap:round;stroke-linejoin:round;stroke:rgb(0%,0%,0%);stroke-opacity:1;stroke-miterlimit:10;\" d=\"M 336.761719 208.800781 C 336.761719 212.398438 331.363281 212.398438 331.363281 208.800781 C 331.363281 205.199219 336.761719 205.199219 336.761719 208.800781 \"/>\n",
       "<path style=\"fill:none;stroke-width:0.75;stroke-linecap:round;stroke-linejoin:round;stroke:rgb(0%,0%,0%);stroke-opacity:1;stroke-miterlimit:10;\" d=\"M 319.835938 195.710938 C 319.835938 199.308594 314.4375 199.308594 314.4375 195.710938 C 314.4375 192.109375 319.835938 192.109375 319.835938 195.710938 \"/>\n",
       "<path style=\"fill:none;stroke-width:0.75;stroke-linecap:round;stroke-linejoin:round;stroke:rgb(0%,0%,0%);stroke-opacity:1;stroke-miterlimit:10;\" d=\"M 125.207031 169.527344 C 125.207031 173.128906 119.808594 173.128906 119.808594 169.527344 C 119.808594 165.925781 125.207031 165.925781 125.207031 169.527344 \"/>\n",
       "<path style=\"fill:none;stroke-width:0.75;stroke-linecap:round;stroke-linejoin:round;stroke:rgb(0%,0%,0%);stroke-opacity:1;stroke-miterlimit:10;\" d=\"M 311.375 169.527344 C 311.375 173.128906 305.976562 173.128906 305.976562 169.527344 C 305.976562 165.925781 311.375 165.925781 311.375 169.527344 \"/>\n",
       "<path style=\"fill:none;stroke-width:0.75;stroke-linecap:round;stroke-linejoin:round;stroke:rgb(0%,0%,0%);stroke-opacity:1;stroke-miterlimit:10;\" d=\"M 302.914062 143.34375 C 302.914062 146.945312 297.511719 146.945312 297.511719 143.34375 C 297.511719 139.746094 302.914062 139.746094 302.914062 143.34375 \"/>\n",
       "<path style=\"fill:none;stroke-width:0.75;stroke-linecap:round;stroke-linejoin:round;stroke:rgb(0%,0%,0%);stroke-opacity:1;stroke-miterlimit:10;\" d=\"M 201.367188 130.253906 C 201.367188 133.855469 195.964844 133.855469 195.964844 130.253906 C 195.964844 126.65625 201.367188 126.65625 201.367188 130.253906 \"/>\n",
       "<path style=\"fill:none;stroke-width:0.75;stroke-linecap:round;stroke-linejoin:round;stroke:rgb(0%,0%,0%);stroke-opacity:1;stroke-miterlimit:10;\" d=\"M 230.984375 182.617188 C 230.984375 186.21875 225.585938 186.21875 225.585938 182.617188 C 225.585938 179.019531 230.984375 179.019531 230.984375 182.617188 \"/>\n",
       "<path style=\"fill:none;stroke-width:0.75;stroke-linecap:round;stroke-linejoin:round;stroke:rgb(0%,0%,0%);stroke-opacity:1;stroke-miterlimit:10;\" d=\"M 260.601562 182.617188 C 260.601562 186.21875 255.203125 186.21875 255.203125 182.617188 C 255.203125 179.019531 260.601562 179.019531 260.601562 182.617188 \"/>\n",
       "<path style=\"fill:none;stroke-width:0.75;stroke-linecap:round;stroke-linejoin:round;stroke:rgb(0%,0%,0%);stroke-opacity:1;stroke-miterlimit:10;\" d=\"M 260.601562 195.710938 C 260.601562 199.308594 255.203125 199.308594 255.203125 195.710938 C 255.203125 192.109375 260.601562 192.109375 260.601562 195.710938 \"/>\n",
       "<path style=\"fill:none;stroke-width:0.75;stroke-linecap:round;stroke-linejoin:round;stroke:rgb(0%,0%,0%);stroke-opacity:1;stroke-miterlimit:10;\" d=\"M 298.683594 169.527344 C 298.683594 173.128906 293.28125 173.128906 293.28125 169.527344 C 293.28125 165.925781 298.683594 165.925781 298.683594 169.527344 \"/>\n",
       "<path style=\"fill:none;stroke-width:0.75;stroke-linecap:round;stroke-linejoin:round;stroke:rgb(0%,0%,0%);stroke-opacity:1;stroke-miterlimit:10;\" d=\"M 273.296875 169.527344 C 273.296875 173.128906 267.894531 173.128906 267.894531 169.527344 C 267.894531 165.925781 273.296875 165.925781 273.296875 169.527344 \"/>\n",
       "<path style=\"fill:none;stroke-width:0.75;stroke-linecap:round;stroke-linejoin:round;stroke:rgb(0%,0%,0%);stroke-opacity:1;stroke-miterlimit:10;\" d=\"M 230.984375 117.164062 C 230.984375 120.761719 225.585938 120.761719 225.585938 117.164062 C 225.585938 113.5625 230.984375 113.5625 230.984375 117.164062 \"/>\n",
       "<path style=\"fill:none;stroke-width:0.75;stroke-linecap:round;stroke-linejoin:round;stroke:rgb(0%,0%,0%);stroke-opacity:1;stroke-miterlimit:10;\" d=\"M 209.828125 182.617188 C 209.828125 186.21875 204.429688 186.21875 204.429688 182.617188 C 204.429688 179.019531 209.828125 179.019531 209.828125 182.617188 \"/>\n",
       "<path style=\"fill:none;stroke-width:0.75;stroke-linecap:round;stroke-linejoin:round;stroke:rgb(0%,0%,0%);stroke-opacity:1;stroke-miterlimit:10;\" d=\"M 260.601562 156.4375 C 260.601562 160.035156 255.203125 160.035156 255.203125 156.4375 C 255.203125 152.835938 260.601562 152.835938 260.601562 156.4375 \"/>\n",
       "<path style=\"fill:none;stroke-width:0.75;stroke-linecap:round;stroke-linejoin:round;stroke:rgb(0%,0%,0%);stroke-opacity:1;stroke-miterlimit:10;\" d=\"M 264.832031 117.164062 C 264.832031 120.761719 259.433594 120.761719 259.433594 117.164062 C 259.433594 113.5625 264.832031 113.5625 264.832031 117.164062 \"/>\n",
       "<path style=\"fill:none;stroke-width:0.75;stroke-linecap:round;stroke-linejoin:round;stroke:rgb(0%,0%,0%);stroke-opacity:1;stroke-miterlimit:10;\" d=\"M 201.367188 104.074219 C 201.367188 107.671875 195.964844 107.671875 195.964844 104.074219 C 195.964844 100.472656 201.367188 100.472656 201.367188 104.074219 \"/>\n",
       "<path style=\"fill:none;stroke-width:0.75;stroke-linecap:round;stroke-linejoin:round;stroke:rgb(0%,0%,0%);stroke-opacity:1;stroke-miterlimit:10;\" d=\"M 256.371094 143.34375 C 256.371094 146.945312 250.972656 146.945312 250.972656 143.34375 C 250.972656 139.746094 256.371094 139.746094 256.371094 143.34375 \"/>\n",
       "<path style=\"fill:none;stroke-width:0.75;stroke-linecap:round;stroke-linejoin:round;stroke:rgb(0%,0%,0%);stroke-opacity:1;stroke-miterlimit:10;\" d=\"M 197.136719 156.4375 C 197.136719 160.035156 191.734375 160.035156 191.734375 156.4375 C 191.734375 152.835938 197.136719 152.835938 197.136719 156.4375 \"/>\n",
       "<path style=\"fill:none;stroke-width:0.75;stroke-linecap:round;stroke-linejoin:round;stroke:rgb(0%,0%,0%);stroke-opacity:1;stroke-miterlimit:10;\" d=\"M 235.214844 195.710938 C 235.214844 199.308594 229.816406 199.308594 229.816406 195.710938 C 229.816406 192.109375 235.214844 192.109375 235.214844 195.710938 \"/>\n",
       "<path style=\"fill:none;stroke-width:0.75;stroke-linecap:round;stroke-linejoin:round;stroke:rgb(0%,0%,0%);stroke-opacity:1;stroke-miterlimit:10;\" d=\"M 91.359375 182.617188 C 91.359375 186.21875 85.957031 186.21875 85.957031 182.617188 C 85.957031 179.019531 91.359375 179.019531 91.359375 182.617188 \"/>\n",
       "<path style=\"fill:none;stroke-width:0.75;stroke-linecap:round;stroke-linejoin:round;stroke:rgb(0%,0%,0%);stroke-opacity:1;stroke-miterlimit:10;\" d=\"M 269.0625 182.617188 C 269.0625 186.21875 263.664062 186.21875 263.664062 182.617188 C 263.664062 179.019531 269.0625 179.019531 269.0625 182.617188 \"/>\n",
       "<path style=\"fill:none;stroke-width:0.75;stroke-linecap:round;stroke-linejoin:round;stroke:rgb(0%,0%,0%);stroke-opacity:1;stroke-miterlimit:10;\" d=\"M 281.757812 208.800781 C 281.757812 212.398438 276.359375 212.398438 276.359375 208.800781 C 276.359375 205.199219 281.757812 205.199219 281.757812 208.800781 \"/>\n",
       "<path style=\"fill:none;stroke-width:0.75;stroke-linecap:round;stroke-linejoin:round;stroke:rgb(0%,0%,0%);stroke-opacity:1;stroke-miterlimit:10;\" d=\"M 209.828125 143.34375 C 209.828125 146.945312 204.429688 146.945312 204.429688 143.34375 C 204.429688 139.746094 209.828125 139.746094 209.828125 143.34375 \"/>\n",
       "<path style=\"fill:none;stroke-width:0.75;stroke-linecap:round;stroke-linejoin:round;stroke:rgb(0%,0%,0%);stroke-opacity:1;stroke-miterlimit:10;\" d=\"M 349.457031 182.617188 C 349.457031 186.21875 344.054688 186.21875 344.054688 182.617188 C 344.054688 179.019531 349.457031 179.019531 349.457031 182.617188 \"/>\n",
       "<path style=\"fill:none;stroke-width:0.75;stroke-linecap:round;stroke-linejoin:round;stroke:rgb(0%,0%,0%);stroke-opacity:1;stroke-miterlimit:10;\" d=\"M 78.664062 169.527344 C 78.664062 173.128906 73.265625 173.128906 73.265625 169.527344 C 73.265625 165.925781 78.664062 165.925781 78.664062 169.527344 \"/>\n",
       "<path style=\"fill:none;stroke-width:0.75;stroke-linecap:round;stroke-linejoin:round;stroke:rgb(0%,0%,0%);stroke-opacity:1;stroke-miterlimit:10;\" d=\"M 281.757812 169.527344 C 281.757812 173.128906 276.359375 173.128906 276.359375 169.527344 C 276.359375 165.925781 281.757812 165.925781 281.757812 169.527344 \"/>\n",
       "<path style=\"fill:none;stroke-width:0.75;stroke-linecap:round;stroke-linejoin:round;stroke:rgb(0%,0%,0%);stroke-opacity:1;stroke-miterlimit:10;\" d=\"M 285.988281 64.800781 C 285.988281 68.398438 280.589844 68.398438 280.589844 64.800781 C 280.589844 61.199219 285.988281 61.199219 285.988281 64.800781 \"/>\n",
       "<path style=\"fill:none;stroke-width:0.75;stroke-linecap:round;stroke-linejoin:round;stroke:rgb(0%,0%,0%);stroke-opacity:1;stroke-miterlimit:10;\" d=\"M 307.144531 117.164062 C 307.144531 120.761719 301.746094 120.761719 301.746094 117.164062 C 301.746094 113.5625 307.144531 113.5625 307.144531 117.164062 \"/>\n",
       "<path style=\"fill:none;stroke-width:0.75;stroke-linecap:round;stroke-linejoin:round;stroke:rgb(0%,0%,0%);stroke-opacity:1;stroke-miterlimit:10;\" d=\"M 269.0625 156.4375 C 269.0625 160.035156 263.664062 160.035156 263.664062 156.4375 C 263.664062 152.835938 269.0625 152.835938 269.0625 156.4375 \"/>\n",
       "<path style=\"fill:none;stroke-width:0.75;stroke-linecap:round;stroke-linejoin:round;stroke:rgb(0%,0%,0%);stroke-opacity:1;stroke-miterlimit:10;\" d=\"M 82.894531 90.980469 C 82.894531 94.582031 77.496094 94.582031 77.496094 90.980469 C 77.496094 87.382812 82.894531 87.382812 82.894531 90.980469 \"/>\n",
       "<path style=\"fill:none;stroke-width:0.75;stroke-linecap:round;stroke-linejoin:round;stroke:rgb(0%,0%,0%);stroke-opacity:1;stroke-miterlimit:10;\" d=\"M 218.292969 182.617188 C 218.292969 186.21875 212.890625 186.21875 212.890625 182.617188 C 212.890625 179.019531 218.292969 179.019531 218.292969 182.617188 \"/>\n",
       "<path style=\"fill:none;stroke-width:0.75;stroke-linecap:round;stroke-linejoin:round;stroke:rgb(0%,0%,0%);stroke-opacity:1;stroke-miterlimit:10;\" d=\"M 269.0625 195.710938 C 269.0625 199.308594 263.664062 199.308594 263.664062 195.710938 C 263.664062 192.109375 269.0625 192.109375 269.0625 195.710938 \"/>\n",
       "<path style=\"fill:none;stroke-width:0.75;stroke-linecap:round;stroke-linejoin:round;stroke:rgb(0%,0%,0%);stroke-opacity:1;stroke-miterlimit:10;\" d=\"M 230.984375 195.710938 C 230.984375 199.308594 225.585938 199.308594 225.585938 195.710938 C 225.585938 192.109375 230.984375 192.109375 230.984375 195.710938 \"/>\n",
       "<path style=\"fill:none;stroke-width:0.75;stroke-linecap:round;stroke-linejoin:round;stroke:rgb(0%,0%,0%);stroke-opacity:1;stroke-miterlimit:10;\" d=\"M 277.527344 117.164062 C 277.527344 120.761719 272.125 120.761719 272.125 117.164062 C 272.125 113.5625 277.527344 113.5625 277.527344 117.164062 \"/>\n",
       "<path style=\"fill:none;stroke-width:0.75;stroke-linecap:round;stroke-linejoin:round;stroke:rgb(0%,0%,0%);stroke-opacity:1;stroke-miterlimit:10;\" d=\"M 269.0625 143.34375 C 269.0625 146.945312 263.664062 146.945312 263.664062 143.34375 C 263.664062 139.746094 269.0625 139.746094 269.0625 143.34375 \"/>\n",
       "<path style=\"fill:none;stroke-width:0.75;stroke-linecap:round;stroke-linejoin:round;stroke:rgb(0%,0%,0%);stroke-opacity:1;stroke-miterlimit:10;\" d=\"M 277.527344 156.4375 C 277.527344 160.035156 272.125 160.035156 272.125 156.4375 C 272.125 152.835938 277.527344 152.835938 277.527344 156.4375 \"/>\n",
       "<path style=\"fill:none;stroke-width:0.75;stroke-linecap:round;stroke-linejoin:round;stroke:rgb(0%,0%,0%);stroke-opacity:1;stroke-miterlimit:10;\" d=\"M 302.914062 182.617188 C 302.914062 186.21875 297.511719 186.21875 297.511719 182.617188 C 297.511719 179.019531 302.914062 179.019531 302.914062 182.617188 \"/>\n",
       "<path style=\"fill:none;stroke-width:0.75;stroke-linecap:round;stroke-linejoin:round;stroke:rgb(0%,0%,0%);stroke-opacity:1;stroke-miterlimit:10;\" d=\"M 273.296875 117.164062 C 273.296875 120.761719 267.894531 120.761719 267.894531 117.164062 C 267.894531 113.5625 273.296875 113.5625 273.296875 117.164062 \"/>\n",
       "<path style=\"fill:none;stroke-width:0.75;stroke-linecap:round;stroke-linejoin:round;stroke:rgb(0%,0%,0%);stroke-opacity:1;stroke-miterlimit:10;\" d=\"M 239.445312 195.710938 C 239.445312 199.308594 234.046875 199.308594 234.046875 195.710938 C 234.046875 192.109375 239.445312 192.109375 239.445312 195.710938 \"/>\n",
       "<path style=\"fill:none;stroke-width:0.75;stroke-linecap:round;stroke-linejoin:round;stroke:rgb(0%,0%,0%);stroke-opacity:1;stroke-miterlimit:10;\" d=\"M 294.449219 208.800781 C 294.449219 212.398438 289.050781 212.398438 289.050781 208.800781 C 289.050781 205.199219 294.449219 205.199219 294.449219 208.800781 \"/>\n",
       "<path style=\"fill:none;stroke-width:0.75;stroke-linecap:round;stroke-linejoin:round;stroke:rgb(0%,0%,0%);stroke-opacity:1;stroke-miterlimit:10;\" d=\"M 290.21875 208.800781 C 290.21875 212.398438 284.820312 212.398438 284.820312 208.800781 C 284.820312 205.199219 290.21875 205.199219 290.21875 208.800781 \"/>\n",
       "<path style=\"fill:none;stroke-width:0.75;stroke-linecap:round;stroke-linejoin:round;stroke:rgb(0%,0%,0%);stroke-opacity:1;stroke-miterlimit:10;\" d=\"M 235.214844 143.34375 C 235.214844 146.945312 229.816406 146.945312 229.816406 143.34375 C 229.816406 139.746094 235.214844 139.746094 235.214844 143.34375 \"/>\n",
       "<path style=\"fill:none;stroke-width:0.75;stroke-linecap:round;stroke-linejoin:round;stroke:rgb(0%,0%,0%);stroke-opacity:1;stroke-miterlimit:10;\" d=\"M 307.144531 156.4375 C 307.144531 160.035156 301.746094 160.035156 301.746094 156.4375 C 301.746094 152.835938 307.144531 152.835938 307.144531 156.4375 \"/>\n",
       "<path style=\"fill:none;stroke-width:0.75;stroke-linecap:round;stroke-linejoin:round;stroke:rgb(0%,0%,0%);stroke-opacity:1;stroke-miterlimit:10;\" d=\"M 256.371094 182.617188 C 256.371094 186.21875 250.972656 186.21875 250.972656 182.617188 C 250.972656 179.019531 256.371094 179.019531 256.371094 182.617188 \"/>\n",
       "<path style=\"fill:none;stroke-width:0.75;stroke-linecap:round;stroke-linejoin:round;stroke:rgb(0%,0%,0%);stroke-opacity:1;stroke-miterlimit:10;\" d=\"M 252.140625 156.4375 C 252.140625 160.035156 246.738281 160.035156 246.738281 156.4375 C 246.738281 152.835938 252.140625 152.835938 252.140625 156.4375 \"/>\n",
       "<path style=\"fill:none;stroke-width:0.75;stroke-linecap:round;stroke-linejoin:round;stroke:rgb(0%,0%,0%);stroke-opacity:1;stroke-miterlimit:10;\" d=\"M 214.058594 156.4375 C 214.058594 160.035156 208.660156 160.035156 208.660156 156.4375 C 208.660156 152.835938 214.058594 152.835938 214.058594 156.4375 \"/>\n",
       "<path style=\"fill:none;stroke-width:0.75;stroke-linecap:round;stroke-linejoin:round;stroke:rgb(0%,0%,0%);stroke-opacity:1;stroke-miterlimit:10;\" d=\"M 197.136719 169.527344 C 197.136719 173.128906 191.734375 173.128906 191.734375 169.527344 C 191.734375 165.925781 197.136719 165.925781 197.136719 169.527344 \"/>\n",
       "<path style=\"fill:none;stroke-width:0.75;stroke-linecap:round;stroke-linejoin:round;stroke:rgb(0%,0%,0%);stroke-opacity:1;stroke-miterlimit:10;\" d=\"M 290.21875 195.710938 C 290.21875 199.308594 284.820312 199.308594 284.820312 195.710938 C 284.820312 192.109375 290.21875 192.109375 290.21875 195.710938 \"/>\n",
       "<path style=\"fill:none;stroke-width:0.75;stroke-linecap:round;stroke-linejoin:round;stroke:rgb(0%,0%,0%);stroke-opacity:1;stroke-miterlimit:10;\" d=\"M 112.511719 117.164062 C 112.511719 120.761719 107.113281 120.761719 107.113281 117.164062 C 107.113281 113.5625 112.511719 113.5625 112.511719 117.164062 \"/>\n",
       "<path style=\"fill:none;stroke-width:0.75;stroke-linecap:round;stroke-linejoin:round;stroke:rgb(0%,0%,0%);stroke-opacity:1;stroke-miterlimit:10;\" d=\"M 116.746094 143.34375 C 116.746094 146.945312 111.34375 146.945312 111.34375 143.34375 C 111.34375 139.746094 116.746094 139.746094 116.746094 143.34375 \"/>\n",
       "<path style=\"fill:none;stroke-width:0.75;stroke-linecap:round;stroke-linejoin:round;stroke:rgb(0%,0%,0%);stroke-opacity:1;stroke-miterlimit:10;\" d=\"M 252.140625 208.800781 C 252.140625 212.398438 246.738281 212.398438 246.738281 208.800781 C 246.738281 205.199219 252.140625 205.199219 252.140625 208.800781 \"/>\n",
       "<path style=\"fill:none;stroke-width:0.75;stroke-linecap:round;stroke-linejoin:round;stroke:rgb(0%,0%,0%);stroke-opacity:1;stroke-miterlimit:10;\" d=\"M 192.90625 156.4375 C 192.90625 160.035156 187.503906 160.035156 187.503906 156.4375 C 187.503906 152.835938 192.90625 152.835938 192.90625 156.4375 \"/>\n",
       "<path style=\"fill:none;stroke-width:0.75;stroke-linecap:round;stroke-linejoin:round;stroke:rgb(0%,0%,0%);stroke-opacity:1;stroke-miterlimit:10;\" d=\"M 302.914062 208.800781 C 302.914062 212.398438 297.511719 212.398438 297.511719 208.800781 C 297.511719 205.199219 302.914062 205.199219 302.914062 208.800781 \"/>\n",
       "<path style=\"fill:none;stroke-width:0.75;stroke-linecap:round;stroke-linejoin:round;stroke:rgb(0%,0%,0%);stroke-opacity:1;stroke-miterlimit:10;\" d=\"M 82.894531 182.617188 C 82.894531 186.21875 77.496094 186.21875 77.496094 182.617188 C 77.496094 179.019531 82.894531 179.019531 82.894531 182.617188 \"/>\n",
       "<path style=\"fill:none;stroke-width:0.75;stroke-linecap:round;stroke-linejoin:round;stroke:rgb(0%,0%,0%);stroke-opacity:1;stroke-miterlimit:10;\" d=\"M 184.441406 169.527344 C 184.441406 173.128906 179.042969 173.128906 179.042969 169.527344 C 179.042969 165.925781 184.441406 165.925781 184.441406 169.527344 \"/>\n",
       "<path style=\"fill:none;stroke-width:0.75;stroke-linecap:round;stroke-linejoin:round;stroke:rgb(0%,0%,0%);stroke-opacity:1;stroke-miterlimit:10;\" d=\"M 319.835938 182.617188 C 319.835938 186.21875 314.4375 186.21875 314.4375 182.617188 C 314.4375 179.019531 319.835938 179.019531 319.835938 182.617188 \"/>\n",
       "<path style=\"fill:none;stroke-width:0.75;stroke-linecap:round;stroke-linejoin:round;stroke:rgb(0%,0%,0%);stroke-opacity:1;stroke-miterlimit:10;\" d=\"M 324.070312 208.800781 C 324.070312 212.398438 318.667969 212.398438 318.667969 208.800781 C 318.667969 205.199219 324.070312 205.199219 324.070312 208.800781 \"/>\n",
       "<path style=\"fill:none;stroke-width:0.75;stroke-linecap:round;stroke-linejoin:round;stroke:rgb(0%,0%,0%);stroke-opacity:1;stroke-miterlimit:10;\" d=\"M 74.433594 195.710938 C 74.433594 199.308594 69.035156 199.308594 69.035156 195.710938 C 69.035156 192.109375 74.433594 192.109375 74.433594 195.710938 \"/>\n",
       "<path style=\"fill:none;stroke-width:0.75;stroke-linecap:round;stroke-linejoin:round;stroke:rgb(0%,0%,0%);stroke-opacity:1;stroke-miterlimit:10;\" d=\"M 340.992188 208.800781 C 340.992188 212.398438 335.59375 212.398438 335.59375 208.800781 C 335.59375 205.199219 340.992188 205.199219 340.992188 208.800781 \"/>\n",
       "<path style=\"fill:none;stroke-width:0.75;stroke-linecap:round;stroke-linejoin:round;stroke:rgb(0%,0%,0%);stroke-opacity:1;stroke-miterlimit:10;\" d=\"M 163.285156 182.617188 C 163.285156 186.21875 157.886719 186.21875 157.886719 182.617188 C 157.886719 179.019531 163.285156 179.019531 163.285156 182.617188 \"/>\n",
       "<path style=\"fill:none;stroke-width:0.75;stroke-linecap:round;stroke-linejoin:round;stroke:rgb(0%,0%,0%);stroke-opacity:1;stroke-miterlimit:10;\" d=\"M 205.597656 77.890625 C 205.597656 81.492188 200.199219 81.492188 200.199219 77.890625 C 200.199219 74.289062 205.597656 74.289062 205.597656 77.890625 \"/>\n",
       "<path style=\"fill:none;stroke-width:0.75;stroke-linecap:round;stroke-linejoin:round;stroke:rgb(0%,0%,0%);stroke-opacity:1;stroke-miterlimit:10;\" d=\"M 281.757812 208.800781 C 281.757812 212.398438 276.359375 212.398438 276.359375 208.800781 C 276.359375 205.199219 281.757812 205.199219 281.757812 208.800781 \"/>\n",
       "<path style=\"fill:none;stroke-width:0.75;stroke-linecap:round;stroke-linejoin:round;stroke:rgb(0%,0%,0%);stroke-opacity:1;stroke-miterlimit:10;\" d=\"M 129.4375 169.527344 C 129.4375 173.128906 124.039062 173.128906 124.039062 169.527344 C 124.039062 165.925781 129.4375 165.925781 129.4375 169.527344 \"/>\n",
       "<path style=\"fill:none;stroke-width:0.75;stroke-linecap:round;stroke-linejoin:round;stroke:rgb(0%,0%,0%);stroke-opacity:1;stroke-miterlimit:10;\" d=\"M 230.984375 195.710938 C 230.984375 199.308594 225.585938 199.308594 225.585938 195.710938 C 225.585938 192.109375 230.984375 192.109375 230.984375 195.710938 \"/>\n",
       "<path style=\"fill:none;stroke-width:0.75;stroke-linecap:round;stroke-linejoin:round;stroke:rgb(0%,0%,0%);stroke-opacity:1;stroke-miterlimit:10;\" d=\"M 129.4375 195.710938 C 129.4375 199.308594 124.039062 199.308594 124.039062 195.710938 C 124.039062 192.109375 129.4375 192.109375 129.4375 195.710938 \"/>\n",
       "<path style=\"fill:none;stroke-width:0.75;stroke-linecap:round;stroke-linejoin:round;stroke:rgb(0%,0%,0%);stroke-opacity:1;stroke-miterlimit:10;\" d=\"M 82.894531 169.527344 C 82.894531 173.128906 77.496094 173.128906 77.496094 169.527344 C 77.496094 165.925781 82.894531 165.925781 82.894531 169.527344 \"/>\n",
       "<path style=\"fill:none;stroke-width:0.75;stroke-linecap:round;stroke-linejoin:round;stroke:rgb(0%,0%,0%);stroke-opacity:1;stroke-miterlimit:10;\" d=\"M 184.441406 143.34375 C 184.441406 146.945312 179.042969 146.945312 179.042969 143.34375 C 179.042969 139.746094 184.441406 139.746094 184.441406 143.34375 \"/>\n",
       "<path style=\"fill:none;stroke-width:0.75;stroke-linecap:round;stroke-linejoin:round;stroke:rgb(0%,0%,0%);stroke-opacity:1;stroke-miterlimit:10;\" d=\"M 243.679688 90.980469 C 243.679688 94.582031 238.277344 94.582031 238.277344 90.980469 C 238.277344 87.382812 243.679688 87.382812 243.679688 90.980469 \"/>\n",
       "<path style=\"fill:none;stroke-width:0.75;stroke-linecap:round;stroke-linejoin:round;stroke:rgb(0%,0%,0%);stroke-opacity:1;stroke-miterlimit:10;\" d=\"M 95.589844 156.4375 C 95.589844 160.035156 90.1875 160.035156 90.1875 156.4375 C 90.1875 152.835938 95.589844 152.835938 95.589844 156.4375 \"/>\n",
       "<path style=\"fill:none;stroke-width:0.75;stroke-linecap:round;stroke-linejoin:round;stroke:rgb(0%,0%,0%);stroke-opacity:1;stroke-miterlimit:10;\" d=\"M 281.757812 182.617188 C 281.757812 186.21875 276.359375 186.21875 276.359375 182.617188 C 276.359375 179.019531 281.757812 179.019531 281.757812 182.617188 \"/>\n",
       "<path style=\"fill:none;stroke-width:0.75;stroke-linecap:round;stroke-linejoin:round;stroke:rgb(0%,0%,0%);stroke-opacity:1;stroke-miterlimit:10;\" d=\"M 91.359375 143.34375 C 91.359375 146.945312 85.957031 146.945312 85.957031 143.34375 C 85.957031 139.746094 91.359375 139.746094 91.359375 143.34375 \"/>\n",
       "<path style=\"fill:none;stroke-width:0.75;stroke-linecap:round;stroke-linejoin:round;stroke:rgb(0%,0%,0%);stroke-opacity:1;stroke-miterlimit:10;\" d=\"M 214.058594 130.253906 C 214.058594 133.855469 208.660156 133.855469 208.660156 130.253906 C 208.660156 126.65625 214.058594 126.65625 214.058594 130.253906 \"/>\n",
       "<path style=\"fill:none;stroke-width:0.75;stroke-linecap:round;stroke-linejoin:round;stroke:rgb(0%,0%,0%);stroke-opacity:1;stroke-miterlimit:10;\" d=\"M 243.679688 117.164062 C 243.679688 120.761719 238.277344 120.761719 238.277344 117.164062 C 238.277344 113.5625 243.679688 113.5625 243.679688 117.164062 \"/>\n",
       "<path style=\"fill:none;stroke-width:0.75;stroke-linecap:round;stroke-linejoin:round;stroke:rgb(0%,0%,0%);stroke-opacity:1;stroke-miterlimit:10;\" d=\"M 214.058594 208.800781 C 214.058594 212.398438 208.660156 212.398438 208.660156 208.800781 C 208.660156 205.199219 214.058594 205.199219 214.058594 208.800781 \"/>\n",
       "<path style=\"fill:none;stroke-width:0.75;stroke-linecap:round;stroke-linejoin:round;stroke:rgb(0%,0%,0%);stroke-opacity:1;stroke-miterlimit:10;\" d=\"M 74.433594 130.253906 C 74.433594 133.855469 69.035156 133.855469 69.035156 130.253906 C 69.035156 126.65625 74.433594 126.65625 74.433594 130.253906 \"/>\n",
       "<path style=\"fill:none;stroke-width:0.75;stroke-linecap:round;stroke-linejoin:round;stroke:rgb(0%,0%,0%);stroke-opacity:1;stroke-miterlimit:10;\" d=\"M 252.140625 208.800781 C 252.140625 212.398438 246.738281 212.398438 246.738281 208.800781 C 246.738281 205.199219 252.140625 205.199219 252.140625 208.800781 \"/>\n",
       "<path style=\"fill:none;stroke-width:0.75;stroke-linecap:round;stroke-linejoin:round;stroke:rgb(0%,0%,0%);stroke-opacity:1;stroke-miterlimit:10;\" d=\"M 277.527344 169.527344 C 277.527344 173.128906 272.125 173.128906 272.125 169.527344 C 272.125 165.925781 277.527344 165.925781 277.527344 169.527344 \"/>\n",
       "<path style=\"fill:none;stroke-width:0.75;stroke-linecap:round;stroke-linejoin:round;stroke:rgb(0%,0%,0%);stroke-opacity:1;stroke-miterlimit:10;\" d=\"M 171.75 182.617188 C 171.75 186.21875 166.347656 186.21875 166.347656 182.617188 C 166.347656 179.019531 171.75 179.019531 171.75 182.617188 \"/>\n",
       "<path style=\"fill:none;stroke-width:0.75;stroke-linecap:round;stroke-linejoin:round;stroke:rgb(0%,0%,0%);stroke-opacity:1;stroke-miterlimit:10;\" d=\"M 252.140625 195.710938 C 252.140625 199.308594 246.738281 199.308594 246.738281 195.710938 C 246.738281 192.109375 252.140625 192.109375 252.140625 195.710938 \"/>\n",
       "<path style=\"fill:none;stroke-width:0.75;stroke-linecap:round;stroke-linejoin:round;stroke:rgb(0%,0%,0%);stroke-opacity:1;stroke-miterlimit:10;\" d=\"M 214.058594 182.617188 C 214.058594 186.21875 208.660156 186.21875 208.660156 182.617188 C 208.660156 179.019531 214.058594 179.019531 214.058594 182.617188 \"/>\n",
       "<path style=\"fill:none;stroke-width:0.75;stroke-linecap:round;stroke-linejoin:round;stroke:rgb(0%,0%,0%);stroke-opacity:1;stroke-miterlimit:10;\" d=\"M 260.601562 104.074219 C 260.601562 107.671875 255.203125 107.671875 255.203125 104.074219 C 255.203125 100.472656 260.601562 100.472656 260.601562 104.074219 \"/>\n",
       "<path style=\"fill:none;stroke-width:0.75;stroke-linecap:round;stroke-linejoin:round;stroke:rgb(0%,0%,0%);stroke-opacity:1;stroke-miterlimit:10;\" d=\"M 222.523438 182.617188 C 222.523438 186.21875 217.121094 186.21875 217.121094 182.617188 C 217.121094 179.019531 222.523438 179.019531 222.523438 182.617188 \"/>\n",
       "<path style=\"fill:none;stroke-width:0.75;stroke-linecap:round;stroke-linejoin:round;stroke:rgb(0%,0%,0%);stroke-opacity:1;stroke-miterlimit:10;\" d=\"M 294.449219 156.4375 C 294.449219 160.035156 289.050781 160.035156 289.050781 156.4375 C 289.050781 152.835938 294.449219 152.835938 294.449219 156.4375 \"/>\n",
       "<path style=\"fill:none;stroke-width:0.75;stroke-linecap:round;stroke-linejoin:round;stroke:rgb(0%,0%,0%);stroke-opacity:1;stroke-miterlimit:10;\" d=\"M 218.292969 195.710938 C 218.292969 199.308594 212.890625 199.308594 212.890625 195.710938 C 212.890625 192.109375 218.292969 192.109375 218.292969 195.710938 \"/>\n",
       "<path style=\"fill:none;stroke-width:0.75;stroke-linecap:round;stroke-linejoin:round;stroke:rgb(0%,0%,0%);stroke-opacity:1;stroke-miterlimit:10;\" d=\"M 243.679688 130.253906 C 243.679688 133.855469 238.277344 133.855469 238.277344 130.253906 C 238.277344 126.65625 243.679688 126.65625 243.679688 130.253906 \"/>\n",
       "<path style=\"fill:none;stroke-width:0.75;stroke-linecap:round;stroke-linejoin:round;stroke:rgb(0%,0%,0%);stroke-opacity:1;stroke-miterlimit:10;\" d=\"M 99.820312 156.4375 C 99.820312 160.035156 94.421875 160.035156 94.421875 156.4375 C 94.421875 152.835938 99.820312 152.835938 99.820312 156.4375 \"/>\n",
       "<path style=\"fill:none;stroke-width:0.75;stroke-linecap:round;stroke-linejoin:round;stroke:rgb(0%,0%,0%);stroke-opacity:1;stroke-miterlimit:10;\" d=\"M 146.363281 130.253906 C 146.363281 133.855469 140.960938 133.855469 140.960938 130.253906 C 140.960938 126.65625 146.363281 126.65625 146.363281 130.253906 \"/>\n",
       "<path style=\"fill:none;stroke-width:0.75;stroke-linecap:round;stroke-linejoin:round;stroke:rgb(0%,0%,0%);stroke-opacity:1;stroke-miterlimit:10;\" d=\"M 243.679688 182.617188 C 243.679688 186.21875 238.277344 186.21875 238.277344 182.617188 C 238.277344 179.019531 243.679688 179.019531 243.679688 182.617188 \"/>\n",
       "<path style=\"fill:none;stroke-width:0.75;stroke-linecap:round;stroke-linejoin:round;stroke:rgb(0%,0%,0%);stroke-opacity:1;stroke-miterlimit:10;\" d=\"M 260.601562 104.074219 C 260.601562 107.671875 255.203125 107.671875 255.203125 104.074219 C 255.203125 100.472656 260.601562 100.472656 260.601562 104.074219 \"/>\n",
       "<path style=\"fill:none;stroke-width:0.75;stroke-linecap:round;stroke-linejoin:round;stroke:rgb(0%,0%,0%);stroke-opacity:1;stroke-miterlimit:10;\" d=\"M 370.609375 195.710938 C 370.609375 199.308594 365.210938 199.308594 365.210938 195.710938 C 365.210938 192.109375 370.609375 192.109375 370.609375 195.710938 \"/>\n",
       "<path style=\"fill:none;stroke-width:0.75;stroke-linecap:round;stroke-linejoin:round;stroke:rgb(0%,0%,0%);stroke-opacity:1;stroke-miterlimit:10;\" d=\"M 252.140625 143.34375 C 252.140625 146.945312 246.738281 146.945312 246.738281 143.34375 C 246.738281 139.746094 252.140625 139.746094 252.140625 143.34375 \"/>\n",
       "<path style=\"fill:none;stroke-width:0.75;stroke-linecap:round;stroke-linejoin:round;stroke:rgb(0%,0%,0%);stroke-opacity:1;stroke-miterlimit:10;\" d=\"M 277.527344 156.4375 C 277.527344 160.035156 272.125 160.035156 272.125 156.4375 C 272.125 152.835938 277.527344 152.835938 277.527344 156.4375 \"/>\n",
       "<path style=\"fill:none;stroke-width:0.75;stroke-linecap:round;stroke-linejoin:round;stroke:rgb(0%,0%,0%);stroke-opacity:1;stroke-miterlimit:10;\" d=\"M 264.832031 182.617188 C 264.832031 186.21875 259.433594 186.21875 259.433594 182.617188 C 259.433594 179.019531 264.832031 179.019531 264.832031 182.617188 \"/>\n",
       "<path style=\"fill:none;stroke-width:0.75;stroke-linecap:round;stroke-linejoin:round;stroke:rgb(0%,0%,0%);stroke-opacity:1;stroke-miterlimit:10;\" d=\"M 137.898438 182.617188 C 137.898438 186.21875 132.5 186.21875 132.5 182.617188 C 132.5 179.019531 137.898438 179.019531 137.898438 182.617188 \"/>\n",
       "<path style=\"fill:none;stroke-width:0.75;stroke-linecap:round;stroke-linejoin:round;stroke:rgb(0%,0%,0%);stroke-opacity:1;stroke-miterlimit:10;\" d=\"M 324.070312 156.4375 C 324.070312 160.035156 318.667969 160.035156 318.667969 156.4375 C 318.667969 152.835938 324.070312 152.835938 324.070312 156.4375 \"/>\n",
       "<path style=\"fill:none;stroke-width:0.75;stroke-linecap:round;stroke-linejoin:round;stroke:rgb(0%,0%,0%);stroke-opacity:1;stroke-miterlimit:10;\" d=\"M 209.828125 130.253906 C 209.828125 133.855469 204.429688 133.855469 204.429688 130.253906 C 204.429688 126.65625 209.828125 126.65625 209.828125 130.253906 \"/>\n",
       "<path style=\"fill:none;stroke-width:0.75;stroke-linecap:round;stroke-linejoin:round;stroke:rgb(0%,0%,0%);stroke-opacity:1;stroke-miterlimit:10;\" d=\"M 247.910156 182.617188 C 247.910156 186.21875 242.507812 186.21875 242.507812 182.617188 C 242.507812 179.019531 247.910156 179.019531 247.910156 182.617188 \"/>\n",
       "<path style=\"fill:none;stroke-width:0.75;stroke-linecap:round;stroke-linejoin:round;stroke:rgb(0%,0%,0%);stroke-opacity:1;stroke-miterlimit:10;\" d=\"M 243.679688 90.980469 C 243.679688 94.582031 238.277344 94.582031 238.277344 90.980469 C 238.277344 87.382812 243.679688 87.382812 243.679688 90.980469 \"/>\n",
       "<path style=\"fill:none;stroke-width:0.75;stroke-linecap:round;stroke-linejoin:round;stroke:rgb(0%,0%,0%);stroke-opacity:1;stroke-miterlimit:10;\" d=\"M 150.59375 64.800781 C 150.59375 68.398438 145.191406 68.398438 145.191406 64.800781 C 145.191406 61.199219 150.59375 61.199219 150.59375 64.800781 \"/>\n",
       "<path style=\"fill:none;stroke-width:0.75;stroke-linecap:round;stroke-linejoin:round;stroke:rgb(0%,0%,0%);stroke-opacity:1;stroke-miterlimit:10;\" d=\"M 205.597656 130.253906 C 205.597656 133.855469 200.199219 133.855469 200.199219 130.253906 C 200.199219 126.65625 205.597656 126.65625 205.597656 130.253906 \"/>\n",
       "<path style=\"fill:none;stroke-width:0.75;stroke-linecap:round;stroke-linejoin:round;stroke:rgb(0%,0%,0%);stroke-opacity:1;stroke-miterlimit:10;\" d=\"M 340.992188 169.527344 C 340.992188 173.128906 335.59375 173.128906 335.59375 169.527344 C 335.59375 165.925781 340.992188 165.925781 340.992188 169.527344 \"/>\n",
       "<path style=\"fill:none;stroke-width:0.75;stroke-linecap:round;stroke-linejoin:round;stroke:rgb(0%,0%,0%);stroke-opacity:1;stroke-miterlimit:10;\" d=\"M 74.433594 156.4375 C 74.433594 160.035156 69.035156 160.035156 69.035156 156.4375 C 69.035156 152.835938 74.433594 152.835938 74.433594 156.4375 \"/>\n",
       "<path style=\"fill:none;stroke-width:0.75;stroke-linecap:round;stroke-linejoin:round;stroke:rgb(0%,0%,0%);stroke-opacity:1;stroke-miterlimit:10;\" d=\"M 260.601562 143.34375 C 260.601562 146.945312 255.203125 146.945312 255.203125 143.34375 C 255.203125 139.746094 260.601562 139.746094 260.601562 143.34375 \"/>\n",
       "<path style=\"fill:none;stroke-width:0.75;stroke-linecap:round;stroke-linejoin:round;stroke:rgb(0%,0%,0%);stroke-opacity:1;stroke-miterlimit:10;\" d=\"M 324.070312 182.617188 C 324.070312 186.21875 318.667969 186.21875 318.667969 182.617188 C 318.667969 179.019531 324.070312 179.019531 324.070312 182.617188 \"/>\n",
       "<path style=\"fill:none;stroke-width:0.75;stroke-linecap:round;stroke-linejoin:round;stroke:rgb(0%,0%,0%);stroke-opacity:1;stroke-miterlimit:10;\" d=\"M 243.679688 156.4375 C 243.679688 160.035156 238.277344 160.035156 238.277344 156.4375 C 238.277344 152.835938 243.679688 152.835938 243.679688 156.4375 \"/>\n",
       "<path style=\"fill:none;stroke-width:0.75;stroke-linecap:round;stroke-linejoin:round;stroke:rgb(0%,0%,0%);stroke-opacity:1;stroke-miterlimit:10;\" d=\"M 260.601562 143.34375 C 260.601562 146.945312 255.203125 146.945312 255.203125 143.34375 C 255.203125 139.746094 260.601562 139.746094 260.601562 143.34375 \"/>\n",
       "<path style=\"fill:none;stroke-width:0.75;stroke-linecap:round;stroke-linejoin:round;stroke:rgb(0%,0%,0%);stroke-opacity:1;stroke-miterlimit:10;\" d=\"M 290.21875 117.164062 C 290.21875 120.761719 284.820312 120.761719 284.820312 117.164062 C 284.820312 113.5625 290.21875 113.5625 290.21875 117.164062 \"/>\n",
       "<path style=\"fill:none;stroke-width:0.75;stroke-linecap:round;stroke-linejoin:round;stroke:rgb(0%,0%,0%);stroke-opacity:1;stroke-miterlimit:10;\" d=\"M 269.0625 182.617188 C 269.0625 186.21875 263.664062 186.21875 263.664062 182.617188 C 263.664062 179.019531 269.0625 179.019531 269.0625 182.617188 \"/>\n",
       "<path style=\"fill:none;stroke-width:0.75;stroke-linecap:round;stroke-linejoin:round;stroke:rgb(0%,0%,0%);stroke-opacity:1;stroke-miterlimit:10;\" d=\"M 222.523438 169.527344 C 222.523438 173.128906 217.121094 173.128906 217.121094 169.527344 C 217.121094 165.925781 222.523438 165.925781 222.523438 169.527344 \"/>\n",
       "<path style=\"fill:none;stroke-width:0.75;stroke-linecap:round;stroke-linejoin:round;stroke:rgb(0%,0%,0%);stroke-opacity:1;stroke-miterlimit:10;\" d=\"M 180.210938 195.710938 C 180.210938 199.308594 174.8125 199.308594 174.8125 195.710938 C 174.8125 192.109375 180.210938 192.109375 180.210938 195.710938 \"/>\n",
       "<path style=\"fill:none;stroke-width:0.75;stroke-linecap:round;stroke-linejoin:round;stroke:rgb(0%,0%,0%);stroke-opacity:1;stroke-miterlimit:10;\" d=\"M 171.75 169.527344 C 171.75 173.128906 166.347656 173.128906 166.347656 169.527344 C 166.347656 165.925781 171.75 165.925781 171.75 169.527344 \"/>\n",
       "<path style=\"fill:none;stroke-width:0.75;stroke-linecap:round;stroke-linejoin:round;stroke:rgb(0%,0%,0%);stroke-opacity:1;stroke-miterlimit:10;\" d=\"M 171.75 156.4375 C 171.75 160.035156 166.347656 160.035156 166.347656 156.4375 C 166.347656 152.835938 171.75 152.835938 171.75 156.4375 \"/>\n",
       "<path style=\"fill:none;stroke-width:0.75;stroke-linecap:round;stroke-linejoin:round;stroke:rgb(0%,0%,0%);stroke-opacity:1;stroke-miterlimit:10;\" d=\"M 243.679688 156.4375 C 243.679688 160.035156 238.277344 160.035156 238.277344 156.4375 C 238.277344 152.835938 243.679688 152.835938 243.679688 156.4375 \"/>\n",
       "<path style=\"fill:none;stroke-width:0.75;stroke-linecap:round;stroke-linejoin:round;stroke:rgb(0%,0%,0%);stroke-opacity:1;stroke-miterlimit:10;\" d=\"M 281.757812 195.710938 C 281.757812 199.308594 276.359375 199.308594 276.359375 195.710938 C 276.359375 192.109375 281.757812 192.109375 281.757812 195.710938 \"/>\n",
       "<path style=\"fill:none;stroke-width:0.75;stroke-linecap:round;stroke-linejoin:round;stroke:rgb(0%,0%,0%);stroke-opacity:1;stroke-miterlimit:10;\" d=\"M 230.984375 156.4375 C 230.984375 160.035156 225.585938 160.035156 225.585938 156.4375 C 225.585938 152.835938 230.984375 152.835938 230.984375 156.4375 \"/>\n",
       "<path style=\"fill:none;stroke-width:0.75;stroke-linecap:round;stroke-linejoin:round;stroke:rgb(0%,0%,0%);stroke-opacity:1;stroke-miterlimit:10;\" d=\"M 188.671875 156.4375 C 188.671875 160.035156 183.273438 160.035156 183.273438 156.4375 C 183.273438 152.835938 188.671875 152.835938 188.671875 156.4375 \"/>\n",
       "<path style=\"fill:none;stroke-width:0.75;stroke-linecap:round;stroke-linejoin:round;stroke:rgb(0%,0%,0%);stroke-opacity:1;stroke-miterlimit:10;\" d=\"M 247.910156 143.34375 C 247.910156 146.945312 242.507812 146.945312 242.507812 143.34375 C 242.507812 139.746094 247.910156 139.746094 247.910156 143.34375 \"/>\n",
       "<path style=\"fill:none;stroke-width:0.75;stroke-linecap:round;stroke-linejoin:round;stroke:rgb(0%,0%,0%);stroke-opacity:1;stroke-miterlimit:10;\" d=\"M 247.910156 195.710938 C 247.910156 199.308594 242.507812 199.308594 242.507812 195.710938 C 242.507812 192.109375 247.910156 192.109375 247.910156 195.710938 \"/>\n",
       "<path style=\"fill:none;stroke-width:0.75;stroke-linecap:round;stroke-linejoin:round;stroke:rgb(0%,0%,0%);stroke-opacity:1;stroke-miterlimit:10;\" d=\"M 137.898438 169.527344 C 137.898438 173.128906 132.5 173.128906 132.5 169.527344 C 132.5 165.925781 137.898438 165.925781 137.898438 169.527344 \"/>\n",
       "<path style=\"fill:none;stroke-width:0.75;stroke-linecap:round;stroke-linejoin:round;stroke:rgb(0%,0%,0%);stroke-opacity:1;stroke-miterlimit:10;\" d=\"M 302.914062 208.800781 C 302.914062 212.398438 297.511719 212.398438 297.511719 208.800781 C 297.511719 205.199219 302.914062 205.199219 302.914062 208.800781 \"/>\n",
       "<path style=\"fill:none;stroke-width:0.75;stroke-linecap:round;stroke-linejoin:round;stroke:rgb(0%,0%,0%);stroke-opacity:1;stroke-miterlimit:10;\" d=\"M 205.597656 208.800781 C 205.597656 212.398438 200.199219 212.398438 200.199219 208.800781 C 200.199219 205.199219 205.597656 205.199219 205.597656 208.800781 \"/>\n",
       "<path style=\"fill:none;stroke-width:0.75;stroke-linecap:round;stroke-linejoin:round;stroke:rgb(0%,0%,0%);stroke-opacity:1;stroke-miterlimit:10;\" d=\"M 209.828125 195.710938 C 209.828125 199.308594 204.429688 199.308594 204.429688 195.710938 C 204.429688 192.109375 209.828125 192.109375 209.828125 195.710938 \"/>\n",
       "<path style=\"fill:none;stroke-width:0.75;stroke-linecap:round;stroke-linejoin:round;stroke:rgb(0%,0%,0%);stroke-opacity:1;stroke-miterlimit:10;\" d=\"M 324.070312 90.980469 C 324.070312 94.582031 318.667969 94.582031 318.667969 90.980469 C 318.667969 87.382812 324.070312 87.382812 324.070312 90.980469 \"/>\n",
       "<path style=\"fill:none;stroke-width:0.75;stroke-linecap:round;stroke-linejoin:round;stroke:rgb(0%,0%,0%);stroke-opacity:1;stroke-miterlimit:10;\" d=\"M 163.285156 208.800781 C 163.285156 212.398438 157.886719 212.398438 157.886719 208.800781 C 157.886719 205.199219 163.285156 205.199219 163.285156 208.800781 \"/>\n",
       "<path style=\"fill:none;stroke-width:0.75;stroke-linecap:round;stroke-linejoin:round;stroke:rgb(0%,0%,0%);stroke-opacity:1;stroke-miterlimit:10;\" d=\"M 188.671875 143.34375 C 188.671875 146.945312 183.273438 146.945312 183.273438 143.34375 C 183.273438 139.746094 188.671875 139.746094 188.671875 143.34375 \"/>\n",
       "<path style=\"fill:none;stroke-width:0.75;stroke-linecap:round;stroke-linejoin:round;stroke:rgb(0%,0%,0%);stroke-opacity:1;stroke-miterlimit:10;\" d=\"M 239.445312 169.527344 C 239.445312 173.128906 234.046875 173.128906 234.046875 169.527344 C 234.046875 165.925781 239.445312 165.925781 239.445312 169.527344 \"/>\n",
       "<path style=\"fill:none;stroke-width:0.75;stroke-linecap:round;stroke-linejoin:round;stroke:rgb(0%,0%,0%);stroke-opacity:1;stroke-miterlimit:10;\" d=\"M 142.132812 169.527344 C 142.132812 173.128906 136.730469 173.128906 136.730469 169.527344 C 136.730469 165.925781 142.132812 165.925781 142.132812 169.527344 \"/>\n",
       "<path style=\"fill:none;stroke-width:0.75;stroke-linecap:round;stroke-linejoin:round;stroke:rgb(0%,0%,0%);stroke-opacity:1;stroke-miterlimit:10;\" d=\"M 273.296875 195.710938 C 273.296875 199.308594 267.894531 199.308594 267.894531 195.710938 C 267.894531 192.109375 273.296875 192.109375 273.296875 195.710938 \"/>\n",
       "<path style=\"fill:none;stroke-width:0.75;stroke-linecap:round;stroke-linejoin:round;stroke:rgb(0%,0%,0%);stroke-opacity:1;stroke-miterlimit:10;\" d=\"M 78.664062 117.164062 C 78.664062 120.761719 73.265625 120.761719 73.265625 117.164062 C 73.265625 113.5625 78.664062 113.5625 78.664062 117.164062 \"/>\n",
       "<path style=\"fill:none;stroke-width:0.75;stroke-linecap:round;stroke-linejoin:round;stroke:rgb(0%,0%,0%);stroke-opacity:1;stroke-miterlimit:10;\" d=\"M 95.589844 208.800781 C 95.589844 212.398438 90.1875 212.398438 90.1875 208.800781 C 90.1875 205.199219 95.589844 205.199219 95.589844 208.800781 \"/>\n",
       "<path style=\"fill:none;stroke-width:0.75;stroke-linecap:round;stroke-linejoin:round;stroke:rgb(0%,0%,0%);stroke-opacity:1;stroke-miterlimit:10;\" d=\"M 137.898438 117.164062 C 137.898438 120.761719 132.5 120.761719 132.5 117.164062 C 132.5 113.5625 137.898438 113.5625 137.898438 117.164062 \"/>\n",
       "<path style=\"fill:none;stroke-width:0.75;stroke-linecap:round;stroke-linejoin:round;stroke:rgb(0%,0%,0%);stroke-opacity:1;stroke-miterlimit:10;\" d=\"M 226.753906 156.4375 C 226.753906 160.035156 221.351562 160.035156 221.351562 156.4375 C 221.351562 152.835938 226.753906 152.835938 226.753906 156.4375 \"/>\n",
       "<path style=\"fill:none;stroke-width:0.75;stroke-linecap:round;stroke-linejoin:round;stroke:rgb(0%,0%,0%);stroke-opacity:1;stroke-miterlimit:10;\" d=\"M 146.363281 156.4375 C 146.363281 160.035156 140.960938 160.035156 140.960938 156.4375 C 140.960938 152.835938 146.363281 152.835938 146.363281 156.4375 \"/>\n",
       "<path style=\"fill:none;stroke-width:0.75;stroke-linecap:round;stroke-linejoin:round;stroke:rgb(0%,0%,0%);stroke-opacity:1;stroke-miterlimit:10;\" d=\"M 247.910156 104.074219 C 247.910156 107.671875 242.507812 107.671875 242.507812 104.074219 C 242.507812 100.472656 247.910156 100.472656 247.910156 104.074219 \"/>\n",
       "<path style=\"fill:none;stroke-width:0.75;stroke-linecap:round;stroke-linejoin:round;stroke:rgb(0%,0%,0%);stroke-opacity:1;stroke-miterlimit:10;\" d=\"M 163.285156 130.253906 C 163.285156 133.855469 157.886719 133.855469 157.886719 130.253906 C 157.886719 126.65625 163.285156 126.65625 163.285156 130.253906 \"/>\n",
       "<path style=\"fill:none;stroke-width:0.75;stroke-linecap:round;stroke-linejoin:round;stroke:rgb(0%,0%,0%);stroke-opacity:1;stroke-miterlimit:10;\" d=\"M 120.976562 143.34375 C 120.976562 146.945312 115.574219 146.945312 115.574219 143.34375 C 115.574219 139.746094 120.976562 139.746094 120.976562 143.34375 \"/>\n",
       "<path style=\"fill:none;stroke-width:0.75;stroke-linecap:round;stroke-linejoin:round;stroke:rgb(0%,0%,0%);stroke-opacity:1;stroke-miterlimit:10;\" d=\"M 142.132812 130.253906 C 142.132812 133.855469 136.730469 133.855469 136.730469 130.253906 C 136.730469 126.65625 142.132812 126.65625 142.132812 130.253906 \"/>\n",
       "<path style=\"fill:none;stroke-width:0.75;stroke-linecap:round;stroke-linejoin:round;stroke:rgb(0%,0%,0%);stroke-opacity:1;stroke-miterlimit:10;\" d=\"M 332.53125 182.617188 C 332.53125 186.21875 327.132812 186.21875 327.132812 182.617188 C 327.132812 179.019531 332.53125 179.019531 332.53125 182.617188 \"/>\n",
       "<path style=\"fill:none;stroke-width:0.75;stroke-linecap:round;stroke-linejoin:round;stroke:rgb(0%,0%,0%);stroke-opacity:1;stroke-miterlimit:10;\" d=\"M 150.59375 104.074219 C 150.59375 107.671875 145.191406 107.671875 145.191406 104.074219 C 145.191406 100.472656 150.59375 100.472656 150.59375 104.074219 \"/>\n",
       "<path style=\"fill:none;stroke-width:0.75;stroke-linecap:round;stroke-linejoin:round;stroke:rgb(0%,0%,0%);stroke-opacity:1;stroke-miterlimit:10;\" d=\"M 209.828125 130.253906 C 209.828125 133.855469 204.429688 133.855469 204.429688 130.253906 C 204.429688 126.65625 209.828125 126.65625 209.828125 130.253906 \"/>\n",
       "<path style=\"fill:none;stroke-width:0.75;stroke-linecap:round;stroke-linejoin:round;stroke:rgb(0%,0%,0%);stroke-opacity:1;stroke-miterlimit:10;\" d=\"M 256.371094 156.4375 C 256.371094 160.035156 250.972656 160.035156 250.972656 156.4375 C 250.972656 152.835938 256.371094 152.835938 256.371094 156.4375 \"/>\n",
       "<path style=\"fill:none;stroke-width:0.75;stroke-linecap:round;stroke-linejoin:round;stroke:rgb(0%,0%,0%);stroke-opacity:1;stroke-miterlimit:10;\" d=\"M 239.445312 169.527344 C 239.445312 173.128906 234.046875 173.128906 234.046875 169.527344 C 234.046875 165.925781 239.445312 165.925781 239.445312 169.527344 \"/>\n",
       "<path style=\"fill:none;stroke-width:0.75;stroke-linecap:round;stroke-linejoin:round;stroke:rgb(0%,0%,0%);stroke-opacity:1;stroke-miterlimit:10;\" d=\"M 82.894531 195.710938 C 82.894531 199.308594 77.496094 199.308594 77.496094 195.710938 C 77.496094 192.109375 82.894531 192.109375 82.894531 195.710938 \"/>\n",
       "<path style=\"fill:none;stroke-width:0.75;stroke-linecap:round;stroke-linejoin:round;stroke:rgb(0%,0%,0%);stroke-opacity:1;stroke-miterlimit:10;\" d=\"M 129.4375 130.253906 C 129.4375 133.855469 124.039062 133.855469 124.039062 130.253906 C 124.039062 126.65625 129.4375 126.65625 129.4375 130.253906 \"/>\n",
       "<path style=\"fill:none;stroke-width:0.75;stroke-linecap:round;stroke-linejoin:round;stroke:rgb(0%,0%,0%);stroke-opacity:1;stroke-miterlimit:10;\" d=\"M 222.523438 156.4375 C 222.523438 160.035156 217.121094 160.035156 217.121094 156.4375 C 217.121094 152.835938 222.523438 152.835938 222.523438 156.4375 \"/>\n",
       "<path style=\"fill:none;stroke-width:0.75;stroke-linecap:round;stroke-linejoin:round;stroke:rgb(0%,0%,0%);stroke-opacity:1;stroke-miterlimit:10;\" d=\"M 307.144531 143.34375 C 307.144531 146.945312 301.746094 146.945312 301.746094 143.34375 C 301.746094 139.746094 307.144531 139.746094 307.144531 143.34375 \"/>\n",
       "<path style=\"fill:none;stroke-width:0.75;stroke-linecap:round;stroke-linejoin:round;stroke:rgb(0%,0%,0%);stroke-opacity:1;stroke-miterlimit:10;\" d=\"M 230.984375 169.527344 C 230.984375 173.128906 225.585938 173.128906 225.585938 169.527344 C 225.585938 165.925781 230.984375 165.925781 230.984375 169.527344 \"/>\n",
       "<path style=\"fill:none;stroke-width:0.75;stroke-linecap:round;stroke-linejoin:round;stroke:rgb(0%,0%,0%);stroke-opacity:1;stroke-miterlimit:10;\" d=\"M 311.375 169.527344 C 311.375 173.128906 305.976562 173.128906 305.976562 169.527344 C 305.976562 165.925781 311.375 165.925781 311.375 169.527344 \"/>\n",
       "<path style=\"fill:none;stroke-width:0.75;stroke-linecap:round;stroke-linejoin:round;stroke:rgb(0%,0%,0%);stroke-opacity:1;stroke-miterlimit:10;\" d=\"M 180.210938 130.253906 C 180.210938 133.855469 174.8125 133.855469 174.8125 130.253906 C 174.8125 126.65625 180.210938 126.65625 180.210938 130.253906 \"/>\n",
       "<path style=\"fill:none;stroke-width:0.75;stroke-linecap:round;stroke-linejoin:round;stroke:rgb(0%,0%,0%);stroke-opacity:1;stroke-miterlimit:10;\" d=\"M 125.207031 143.34375 C 125.207031 146.945312 119.808594 146.945312 119.808594 143.34375 C 119.808594 139.746094 125.207031 139.746094 125.207031 143.34375 \"/>\n",
       "<path style=\"fill:none;stroke-width:0.75;stroke-linecap:round;stroke-linejoin:round;stroke:rgb(0%,0%,0%);stroke-opacity:1;stroke-miterlimit:10;\" d=\"M 319.835938 182.617188 C 319.835938 186.21875 314.4375 186.21875 314.4375 182.617188 C 314.4375 179.019531 319.835938 179.019531 319.835938 182.617188 \"/>\n",
       "<path style=\"fill:none;stroke-width:0.75;stroke-linecap:round;stroke-linejoin:round;stroke:rgb(0%,0%,0%);stroke-opacity:1;stroke-miterlimit:10;\" d=\"M 120.976562 182.617188 C 120.976562 186.21875 115.574219 186.21875 115.574219 182.617188 C 115.574219 179.019531 120.976562 179.019531 120.976562 182.617188 \"/>\n",
       "<path style=\"fill:none;stroke-width:0.75;stroke-linecap:round;stroke-linejoin:round;stroke:rgb(0%,0%,0%);stroke-opacity:1;stroke-miterlimit:10;\" d=\"M 142.132812 104.074219 C 142.132812 107.671875 136.730469 107.671875 136.730469 104.074219 C 136.730469 100.472656 142.132812 100.472656 142.132812 104.074219 \"/>\n",
       "<path style=\"fill:none;stroke-width:0.75;stroke-linecap:round;stroke-linejoin:round;stroke:rgb(0%,0%,0%);stroke-opacity:1;stroke-miterlimit:10;\" d=\"M 247.910156 182.617188 C 247.910156 186.21875 242.507812 186.21875 242.507812 182.617188 C 242.507812 179.019531 247.910156 179.019531 247.910156 182.617188 \"/>\n",
       "<path style=\"fill:none;stroke-width:0.75;stroke-linecap:round;stroke-linejoin:round;stroke:rgb(0%,0%,0%);stroke-opacity:1;stroke-miterlimit:10;\" d=\"M 315.605469 117.164062 C 315.605469 120.761719 310.207031 120.761719 310.207031 117.164062 C 310.207031 113.5625 315.605469 113.5625 315.605469 117.164062 \"/>\n",
       "<path style=\"fill:none;stroke-width:0.75;stroke-linecap:round;stroke-linejoin:round;stroke:rgb(0%,0%,0%);stroke-opacity:1;stroke-miterlimit:10;\" d=\"M 252.140625 195.710938 C 252.140625 199.308594 246.738281 199.308594 246.738281 195.710938 C 246.738281 192.109375 252.140625 192.109375 252.140625 195.710938 \"/>\n",
       "<path style=\"fill:none;stroke-width:0.75;stroke-linecap:round;stroke-linejoin:round;stroke:rgb(0%,0%,0%);stroke-opacity:1;stroke-miterlimit:10;\" d=\"M 112.511719 130.253906 C 112.511719 133.855469 107.113281 133.855469 107.113281 130.253906 C 107.113281 126.65625 112.511719 126.65625 112.511719 130.253906 \"/>\n",
       "<path style=\"fill:none;stroke-width:0.75;stroke-linecap:round;stroke-linejoin:round;stroke:rgb(0%,0%,0%);stroke-opacity:1;stroke-miterlimit:10;\" d=\"M 209.828125 169.527344 C 209.828125 173.128906 204.429688 173.128906 204.429688 169.527344 C 204.429688 165.925781 209.828125 165.925781 209.828125 169.527344 \"/>\n",
       "<path style=\"fill:none;stroke-width:0.75;stroke-linecap:round;stroke-linejoin:round;stroke:rgb(0%,0%,0%);stroke-opacity:1;stroke-miterlimit:10;\" d=\"M 99.820312 195.710938 C 99.820312 199.308594 94.421875 199.308594 94.421875 195.710938 C 94.421875 192.109375 99.820312 192.109375 99.820312 195.710938 \"/>\n",
       "<path style=\"fill:none;stroke-width:0.75;stroke-linecap:round;stroke-linejoin:round;stroke:rgb(0%,0%,0%);stroke-opacity:1;stroke-miterlimit:10;\" d=\"M 137.898438 156.4375 C 137.898438 160.035156 132.5 160.035156 132.5 156.4375 C 132.5 152.835938 137.898438 152.835938 137.898438 156.4375 \"/>\n",
       "<path style=\"fill:none;stroke-width:0.75;stroke-linecap:round;stroke-linejoin:round;stroke:rgb(0%,0%,0%);stroke-opacity:1;stroke-miterlimit:10;\" d=\"M 184.441406 143.34375 C 184.441406 146.945312 179.042969 146.945312 179.042969 143.34375 C 179.042969 139.746094 184.441406 139.746094 184.441406 143.34375 \"/>\n",
       "<path style=\"fill:none;stroke-width:0.75;stroke-linecap:round;stroke-linejoin:round;stroke:rgb(0%,0%,0%);stroke-opacity:1;stroke-miterlimit:10;\" d=\"M 167.519531 143.34375 C 167.519531 146.945312 162.117188 146.945312 162.117188 143.34375 C 162.117188 139.746094 167.519531 139.746094 167.519531 143.34375 \"/>\n",
       "<path style=\"fill:none;stroke-width:0.75;stroke-linecap:round;stroke-linejoin:round;stroke:rgb(0%,0%,0%);stroke-opacity:1;stroke-miterlimit:10;\" d=\"M 163.285156 156.4375 C 163.285156 160.035156 157.886719 160.035156 157.886719 156.4375 C 157.886719 152.835938 163.285156 152.835938 163.285156 156.4375 \"/>\n",
       "<path style=\"fill:none;stroke-width:0.75;stroke-linecap:round;stroke-linejoin:round;stroke:rgb(0%,0%,0%);stroke-opacity:1;stroke-miterlimit:10;\" d=\"M 87.125 143.34375 C 87.125 146.945312 81.726562 146.945312 81.726562 143.34375 C 81.726562 139.746094 87.125 139.746094 87.125 143.34375 \"/>\n",
       "<path style=\"fill:none;stroke-width:0.75;stroke-linecap:round;stroke-linejoin:round;stroke:rgb(0%,0%,0%);stroke-opacity:1;stroke-miterlimit:10;\" d=\"M 256.371094 195.710938 C 256.371094 199.308594 250.972656 199.308594 250.972656 195.710938 C 250.972656 192.109375 256.371094 192.109375 256.371094 195.710938 \"/>\n",
       "<path style=\"fill:none;stroke-width:0.75;stroke-linecap:round;stroke-linejoin:round;stroke:rgb(0%,0%,0%);stroke-opacity:1;stroke-miterlimit:10;\" d=\"M 129.4375 104.074219 C 129.4375 107.671875 124.039062 107.671875 124.039062 104.074219 C 124.039062 100.472656 129.4375 100.472656 129.4375 104.074219 \"/>\n",
       "<path style=\"fill:none;stroke-width:0.75;stroke-linecap:round;stroke-linejoin:round;stroke:rgb(0%,0%,0%);stroke-opacity:1;stroke-miterlimit:10;\" d=\"M 235.214844 195.710938 C 235.214844 199.308594 229.816406 199.308594 229.816406 195.710938 C 229.816406 192.109375 235.214844 192.109375 235.214844 195.710938 \"/>\n",
       "<path style=\"fill:none;stroke-width:0.75;stroke-linecap:round;stroke-linejoin:round;stroke:rgb(0%,0%,0%);stroke-opacity:1;stroke-miterlimit:10;\" d=\"M 125.207031 195.710938 C 125.207031 199.308594 119.808594 199.308594 119.808594 195.710938 C 119.808594 192.109375 125.207031 192.109375 125.207031 195.710938 \"/>\n",
       "<path style=\"fill:none;stroke-width:0.75;stroke-linecap:round;stroke-linejoin:round;stroke:rgb(0%,0%,0%);stroke-opacity:1;stroke-miterlimit:10;\" d=\"M 95.589844 130.253906 C 95.589844 133.855469 90.1875 133.855469 90.1875 130.253906 C 90.1875 126.65625 95.589844 126.65625 95.589844 130.253906 \"/>\n",
       "<path style=\"fill:none;stroke-width:0.75;stroke-linecap:round;stroke-linejoin:round;stroke:rgb(0%,0%,0%);stroke-opacity:1;stroke-miterlimit:10;\" d=\"M 222.523438 195.710938 C 222.523438 199.308594 217.121094 199.308594 217.121094 195.710938 C 217.121094 192.109375 222.523438 192.109375 222.523438 195.710938 \"/>\n",
       "<path style=\"fill:none;stroke-width:0.75;stroke-linecap:round;stroke-linejoin:round;stroke:rgb(0%,0%,0%);stroke-opacity:1;stroke-miterlimit:10;\" d=\"M 112.511719 169.527344 C 112.511719 173.128906 107.113281 173.128906 107.113281 169.527344 C 107.113281 165.925781 112.511719 165.925781 112.511719 169.527344 \"/>\n",
       "<path style=\"fill:none;stroke-width:0.75;stroke-linecap:round;stroke-linejoin:round;stroke:rgb(0%,0%,0%);stroke-opacity:1;stroke-miterlimit:10;\" d=\"M 201.367188 195.710938 C 201.367188 199.308594 195.964844 199.308594 195.964844 195.710938 C 195.964844 192.109375 201.367188 192.109375 201.367188 195.710938 \"/>\n",
       "<path style=\"fill:none;stroke-width:0.75;stroke-linecap:round;stroke-linejoin:round;stroke:rgb(0%,0%,0%);stroke-opacity:1;stroke-miterlimit:10;\" d=\"M 209.828125 182.617188 C 209.828125 186.21875 204.429688 186.21875 204.429688 182.617188 C 204.429688 179.019531 209.828125 179.019531 209.828125 182.617188 \"/>\n",
       "<path style=\"fill:none;stroke-width:0.75;stroke-linecap:round;stroke-linejoin:round;stroke:rgb(0%,0%,0%);stroke-opacity:1;stroke-miterlimit:10;\" d=\"M 239.445312 169.527344 C 239.445312 173.128906 234.046875 173.128906 234.046875 169.527344 C 234.046875 165.925781 239.445312 165.925781 239.445312 169.527344 \"/>\n",
       "<path style=\"fill:none;stroke-width:0.75;stroke-linecap:round;stroke-linejoin:round;stroke:rgb(0%,0%,0%);stroke-opacity:1;stroke-miterlimit:10;\" d=\"M 205.597656 195.710938 C 205.597656 199.308594 200.199219 199.308594 200.199219 195.710938 C 200.199219 192.109375 205.597656 192.109375 205.597656 195.710938 \"/>\n",
       "<path style=\"fill:none;stroke-width:0.75;stroke-linecap:round;stroke-linejoin:round;stroke:rgb(0%,0%,0%);stroke-opacity:1;stroke-miterlimit:10;\" d=\"M 294.449219 143.34375 C 294.449219 146.945312 289.050781 146.945312 289.050781 143.34375 C 289.050781 139.746094 294.449219 139.746094 294.449219 143.34375 \"/>\n",
       "<path style=\"fill:none;stroke-width:0.75;stroke-linecap:round;stroke-linejoin:round;stroke:rgb(0%,0%,0%);stroke-opacity:1;stroke-miterlimit:10;\" d=\"M 125.207031 130.253906 C 125.207031 133.855469 119.808594 133.855469 119.808594 130.253906 C 119.808594 126.65625 125.207031 126.65625 125.207031 130.253906 \"/>\n",
       "<path style=\"fill:none;stroke-width:0.75;stroke-linecap:round;stroke-linejoin:round;stroke:rgb(0%,0%,0%);stroke-opacity:1;stroke-miterlimit:10;\" d=\"M 214.058594 77.890625 C 214.058594 81.492188 208.660156 81.492188 208.660156 77.890625 C 208.660156 74.289062 214.058594 74.289062 214.058594 77.890625 \"/>\n",
       "<path style=\"fill:none;stroke-width:0.75;stroke-linecap:round;stroke-linejoin:round;stroke:rgb(0%,0%,0%);stroke-opacity:1;stroke-miterlimit:10;\" d=\"M 197.136719 208.800781 C 197.136719 212.398438 191.734375 212.398438 191.734375 208.800781 C 191.734375 205.199219 197.136719 205.199219 197.136719 208.800781 \"/>\n",
       "<path style=\"fill:none;stroke-width:0.75;stroke-linecap:round;stroke-linejoin:round;stroke:rgb(0%,0%,0%);stroke-opacity:1;stroke-miterlimit:10;\" d=\"M 112.511719 169.527344 C 112.511719 173.128906 107.113281 173.128906 107.113281 169.527344 C 107.113281 165.925781 112.511719 165.925781 112.511719 169.527344 \"/>\n",
       "<path style=\"fill:none;stroke-width:0.75;stroke-linecap:round;stroke-linejoin:round;stroke:rgb(0%,0%,0%);stroke-opacity:1;stroke-miterlimit:10;\" d=\"M 205.597656 195.710938 C 205.597656 199.308594 200.199219 199.308594 200.199219 195.710938 C 200.199219 192.109375 205.597656 192.109375 205.597656 195.710938 \"/>\n",
       "<path style=\"fill:none;stroke-width:0.75;stroke-linecap:round;stroke-linejoin:round;stroke:rgb(0%,0%,0%);stroke-opacity:1;stroke-miterlimit:10;\" d=\"M 74.433594 130.253906 C 74.433594 133.855469 69.035156 133.855469 69.035156 130.253906 C 69.035156 126.65625 74.433594 126.65625 74.433594 130.253906 \"/>\n",
       "<path style=\"fill:none;stroke-width:0.75;stroke-linecap:round;stroke-linejoin:round;stroke:rgb(0%,0%,0%);stroke-opacity:1;stroke-miterlimit:10;\" d=\"M 99.820312 104.074219 C 99.820312 107.671875 94.421875 107.671875 94.421875 104.074219 C 94.421875 100.472656 99.820312 100.472656 99.820312 104.074219 \"/>\n",
       "<path style=\"fill:none;stroke-width:0.75;stroke-linecap:round;stroke-linejoin:round;stroke:rgb(0%,0%,0%);stroke-opacity:1;stroke-miterlimit:10;\" d=\"M 95.589844 104.074219 C 95.589844 107.671875 90.1875 107.671875 90.1875 104.074219 C 90.1875 100.472656 95.589844 100.472656 95.589844 104.074219 \"/>\n",
       "<path style=\"fill:none;stroke-width:0.75;stroke-linecap:round;stroke-linejoin:round;stroke:rgb(0%,0%,0%);stroke-opacity:1;stroke-miterlimit:10;\" d=\"M 82.894531 208.800781 C 82.894531 212.398438 77.496094 212.398438 77.496094 208.800781 C 77.496094 205.199219 82.894531 205.199219 82.894531 208.800781 \"/>\n",
       "<path style=\"fill:none;stroke-width:0.75;stroke-linecap:round;stroke-linejoin:round;stroke:rgb(0%,0%,0%);stroke-opacity:1;stroke-miterlimit:10;\" d=\"M 104.050781 182.617188 C 104.050781 186.21875 98.652344 186.21875 98.652344 182.617188 C 98.652344 179.019531 104.050781 179.019531 104.050781 182.617188 \"/>\n",
       "<path style=\"fill:none;stroke-width:0.75;stroke-linecap:round;stroke-linejoin:round;stroke:rgb(0%,0%,0%);stroke-opacity:1;stroke-miterlimit:10;\" d=\"M 269.0625 90.980469 C 269.0625 94.582031 263.664062 94.582031 263.664062 90.980469 C 263.664062 87.382812 269.0625 87.382812 269.0625 90.980469 \"/>\n",
       "<path style=\"fill:none;stroke-width:0.75;stroke-linecap:round;stroke-linejoin:round;stroke:rgb(0%,0%,0%);stroke-opacity:1;stroke-miterlimit:10;\" d=\"M 87.125 130.253906 C 87.125 133.855469 81.726562 133.855469 81.726562 130.253906 C 81.726562 126.65625 87.125 126.65625 87.125 130.253906 \"/>\n",
       "<path style=\"fill:none;stroke-width:0.75;stroke-linecap:round;stroke-linejoin:round;stroke:rgb(0%,0%,0%);stroke-opacity:1;stroke-miterlimit:10;\" d=\"M 184.441406 117.164062 C 184.441406 120.761719 179.042969 120.761719 179.042969 117.164062 C 179.042969 113.5625 184.441406 113.5625 184.441406 117.164062 \"/>\n",
       "<path style=\"fill:none;stroke-width:0.75;stroke-linecap:round;stroke-linejoin:round;stroke:rgb(0%,0%,0%);stroke-opacity:1;stroke-miterlimit:10;\" d=\"M 120.976562 169.527344 C 120.976562 173.128906 115.574219 173.128906 115.574219 169.527344 C 115.574219 165.925781 120.976562 165.925781 120.976562 169.527344 \"/>\n",
       "<path style=\"fill:none;stroke-width:0.75;stroke-linecap:round;stroke-linejoin:round;stroke:rgb(0%,0%,0%);stroke-opacity:1;stroke-miterlimit:10;\" d=\"M 252.140625 117.164062 C 252.140625 120.761719 246.738281 120.761719 246.738281 117.164062 C 246.738281 113.5625 252.140625 113.5625 252.140625 117.164062 \"/>\n",
       "<path style=\"fill:none;stroke-width:0.75;stroke-linecap:round;stroke-linejoin:round;stroke:rgb(0%,0%,0%);stroke-opacity:1;stroke-miterlimit:10;\" d=\"M 91.359375 169.527344 C 91.359375 173.128906 85.957031 173.128906 85.957031 169.527344 C 85.957031 165.925781 91.359375 165.925781 91.359375 169.527344 \"/>\n",
       "<path style=\"fill:none;stroke-width:0.75;stroke-linecap:round;stroke-linejoin:round;stroke:rgb(0%,0%,0%);stroke-opacity:1;stroke-miterlimit:10;\" d=\"M 150.59375 77.890625 C 150.59375 81.492188 145.191406 81.492188 145.191406 77.890625 C 145.191406 74.289062 150.59375 74.289062 150.59375 77.890625 \"/>\n",
       "<path style=\"fill:none;stroke-width:0.75;stroke-linecap:round;stroke-linejoin:round;stroke:rgb(0%,0%,0%);stroke-opacity:1;stroke-miterlimit:10;\" d=\"M 205.597656 169.527344 C 205.597656 173.128906 200.199219 173.128906 200.199219 169.527344 C 200.199219 165.925781 205.597656 165.925781 205.597656 169.527344 \"/>\n",
       "<path style=\"fill:none;stroke-width:0.75;stroke-linecap:round;stroke-linejoin:round;stroke:rgb(0%,0%,0%);stroke-opacity:1;stroke-miterlimit:10;\" d=\"M 235.214844 90.980469 C 235.214844 94.582031 229.816406 94.582031 229.816406 90.980469 C 229.816406 87.382812 235.214844 87.382812 235.214844 90.980469 \"/>\n",
       "<path style=\"fill:none;stroke-width:0.75;stroke-linecap:round;stroke-linejoin:round;stroke:rgb(0%,0%,0%);stroke-opacity:1;stroke-miterlimit:10;\" d=\"M 74.433594 195.710938 C 74.433594 199.308594 69.035156 199.308594 69.035156 195.710938 C 69.035156 192.109375 74.433594 192.109375 74.433594 195.710938 \"/>\n",
       "<path style=\"fill:none;stroke-width:0.75;stroke-linecap:round;stroke-linejoin:round;stroke:rgb(0%,0%,0%);stroke-opacity:1;stroke-miterlimit:10;\" d=\"M 214.058594 104.074219 C 214.058594 107.671875 208.660156 107.671875 208.660156 104.074219 C 208.660156 100.472656 214.058594 100.472656 214.058594 104.074219 \"/>\n",
       "<path style=\"fill:none;stroke-width:0.75;stroke-linecap:round;stroke-linejoin:round;stroke:rgb(0%,0%,0%);stroke-opacity:1;stroke-miterlimit:10;\" d=\"M 222.523438 208.800781 C 222.523438 212.398438 217.121094 212.398438 217.121094 208.800781 C 217.121094 205.199219 222.523438 205.199219 222.523438 208.800781 \"/>\n",
       "<path style=\"fill:none;stroke-width:0.75;stroke-linecap:round;stroke-linejoin:round;stroke:rgb(0%,0%,0%);stroke-opacity:1;stroke-miterlimit:10;\" d=\"M 180.210938 130.253906 C 180.210938 133.855469 174.8125 133.855469 174.8125 130.253906 C 174.8125 126.65625 180.210938 126.65625 180.210938 130.253906 \"/>\n",
       "<path style=\"fill:none;stroke-width:0.75;stroke-linecap:round;stroke-linejoin:round;stroke:rgb(0%,0%,0%);stroke-opacity:1;stroke-miterlimit:10;\" d=\"M 315.605469 208.800781 C 315.605469 212.398438 310.207031 212.398438 310.207031 208.800781 C 310.207031 205.199219 315.605469 205.199219 315.605469 208.800781 \"/>\n",
       "<path style=\"fill:none;stroke-width:0.75;stroke-linecap:round;stroke-linejoin:round;stroke:rgb(0%,0%,0%);stroke-opacity:1;stroke-miterlimit:10;\" d=\"M 235.214844 195.710938 C 235.214844 199.308594 229.816406 199.308594 229.816406 195.710938 C 229.816406 192.109375 235.214844 192.109375 235.214844 195.710938 \"/>\n",
       "<path style=\"fill:none;stroke-width:0.75;stroke-linecap:round;stroke-linejoin:round;stroke:rgb(0%,0%,0%);stroke-opacity:1;stroke-miterlimit:10;\" d=\"M 99.820312 130.253906 C 99.820312 133.855469 94.421875 133.855469 94.421875 130.253906 C 94.421875 126.65625 99.820312 126.65625 99.820312 130.253906 \"/>\n",
       "<path style=\"fill:none;stroke-width:0.75;stroke-linecap:round;stroke-linejoin:round;stroke:rgb(0%,0%,0%);stroke-opacity:1;stroke-miterlimit:10;\" d=\"M 167.519531 182.617188 C 167.519531 186.21875 162.117188 186.21875 162.117188 182.617188 C 162.117188 179.019531 167.519531 179.019531 167.519531 182.617188 \"/>\n",
       "<path style=\"fill:none;stroke-width:0.75;stroke-linecap:round;stroke-linejoin:round;stroke:rgb(0%,0%,0%);stroke-opacity:1;stroke-miterlimit:10;\" d=\"M 91.359375 156.4375 C 91.359375 160.035156 85.957031 160.035156 85.957031 156.4375 C 85.957031 152.835938 91.359375 152.835938 91.359375 156.4375 \"/>\n",
       "<path style=\"fill:none;stroke-width:0.75;stroke-linecap:round;stroke-linejoin:round;stroke:rgb(0%,0%,0%);stroke-opacity:1;stroke-miterlimit:10;\" d=\"M 74.433594 77.890625 C 74.433594 81.492188 69.035156 81.492188 69.035156 77.890625 C 69.035156 74.289062 74.433594 74.289062 74.433594 77.890625 \"/>\n",
       "<path style=\"fill:none;stroke-width:0.75;stroke-linecap:round;stroke-linejoin:round;stroke:rgb(0%,0%,0%);stroke-opacity:1;stroke-miterlimit:10;\" d=\"M 142.132812 156.4375 C 142.132812 160.035156 136.730469 160.035156 136.730469 156.4375 C 136.730469 152.835938 142.132812 152.835938 142.132812 156.4375 \"/>\n",
       "<path style=\"fill:none;stroke-width:0.75;stroke-linecap:round;stroke-linejoin:round;stroke:rgb(0%,0%,0%);stroke-opacity:1;stroke-miterlimit:10;\" d=\"M 137.898438 117.164062 C 137.898438 120.761719 132.5 120.761719 132.5 117.164062 C 132.5 113.5625 137.898438 113.5625 137.898438 117.164062 \"/>\n",
       "<path style=\"fill:none;stroke-width:0.75;stroke-linecap:round;stroke-linejoin:round;stroke:rgb(0%,0%,0%);stroke-opacity:1;stroke-miterlimit:10;\" d=\"M 91.359375 117.164062 C 91.359375 120.761719 85.957031 120.761719 85.957031 117.164062 C 85.957031 113.5625 91.359375 113.5625 91.359375 117.164062 \"/>\n",
       "<path style=\"fill:none;stroke-width:0.75;stroke-linecap:round;stroke-linejoin:round;stroke:rgb(0%,0%,0%);stroke-opacity:1;stroke-miterlimit:10;\" d=\"M 256.371094 208.800781 C 256.371094 212.398438 250.972656 212.398438 250.972656 208.800781 C 250.972656 205.199219 256.371094 205.199219 256.371094 208.800781 \"/>\n",
       "<path style=\"fill:none;stroke-width:0.75;stroke-linecap:round;stroke-linejoin:round;stroke:rgb(0%,0%,0%);stroke-opacity:1;stroke-miterlimit:10;\" d=\"M 243.679688 143.34375 C 243.679688 146.945312 238.277344 146.945312 238.277344 143.34375 C 238.277344 139.746094 243.679688 139.746094 243.679688 143.34375 \"/>\n",
       "<path style=\"fill:none;stroke-width:0.75;stroke-linecap:round;stroke-linejoin:round;stroke:rgb(0%,0%,0%);stroke-opacity:1;stroke-miterlimit:10;\" d=\"M 243.679688 182.617188 C 243.679688 186.21875 238.277344 186.21875 238.277344 182.617188 C 238.277344 179.019531 243.679688 179.019531 243.679688 182.617188 \"/>\n",
       "<path style=\"fill:none;stroke-width:0.75;stroke-linecap:round;stroke-linejoin:round;stroke:rgb(0%,0%,0%);stroke-opacity:1;stroke-miterlimit:10;\" d=\"M 108.28125 143.34375 C 108.28125 146.945312 102.882812 146.945312 102.882812 143.34375 C 102.882812 139.746094 108.28125 139.746094 108.28125 143.34375 \"/>\n",
       "<path style=\"fill:none;stroke-width:0.75;stroke-linecap:round;stroke-linejoin:round;stroke:rgb(0%,0%,0%);stroke-opacity:1;stroke-miterlimit:10;\" d=\"M 184.441406 117.164062 C 184.441406 120.761719 179.042969 120.761719 179.042969 117.164062 C 179.042969 113.5625 184.441406 113.5625 184.441406 117.164062 \"/>\n",
       "<path style=\"fill:none;stroke-width:0.75;stroke-linecap:round;stroke-linejoin:round;stroke:rgb(0%,0%,0%);stroke-opacity:1;stroke-miterlimit:10;\" d=\"M 269.0625 208.800781 C 269.0625 212.398438 263.664062 212.398438 263.664062 208.800781 C 263.664062 205.199219 269.0625 205.199219 269.0625 208.800781 \"/>\n",
       "<path style=\"fill:none;stroke-width:0.75;stroke-linecap:round;stroke-linejoin:round;stroke:rgb(0%,0%,0%);stroke-opacity:1;stroke-miterlimit:10;\" d=\"M 133.667969 77.890625 C 133.667969 81.492188 128.269531 81.492188 128.269531 77.890625 C 128.269531 74.289062 133.667969 74.289062 133.667969 77.890625 \"/>\n",
       "<path style=\"fill:none;stroke-width:0.75;stroke-linecap:round;stroke-linejoin:round;stroke:rgb(0%,0%,0%);stroke-opacity:1;stroke-miterlimit:10;\" d=\"M 87.125 90.980469 C 87.125 94.582031 81.726562 94.582031 81.726562 90.980469 C 81.726562 87.382812 87.125 87.382812 87.125 90.980469 \"/>\n",
       "<path style=\"fill:none;stroke-width:0.75;stroke-linecap:round;stroke-linejoin:round;stroke:rgb(0%,0%,0%);stroke-opacity:1;stroke-miterlimit:10;\" d=\"M 332.53125 143.34375 C 332.53125 146.945312 327.132812 146.945312 327.132812 143.34375 C 327.132812 139.746094 332.53125 139.746094 332.53125 143.34375 \"/>\n",
       "<path style=\"fill:none;stroke-width:0.75;stroke-linecap:round;stroke-linejoin:round;stroke:rgb(0%,0%,0%);stroke-opacity:1;stroke-miterlimit:10;\" d=\"M 298.683594 143.34375 C 298.683594 146.945312 293.28125 146.945312 293.28125 143.34375 C 293.28125 139.746094 298.683594 139.746094 298.683594 143.34375 \"/>\n",
       "<path style=\"fill:none;stroke-width:0.75;stroke-linecap:round;stroke-linejoin:round;stroke:rgb(0%,0%,0%);stroke-opacity:1;stroke-miterlimit:10;\" d=\"M 197.136719 182.617188 C 197.136719 186.21875 191.734375 186.21875 191.734375 182.617188 C 191.734375 179.019531 197.136719 179.019531 197.136719 182.617188 \"/>\n",
       "<path style=\"fill:none;stroke-width:0.75;stroke-linecap:round;stroke-linejoin:round;stroke:rgb(0%,0%,0%);stroke-opacity:1;stroke-miterlimit:10;\" d=\"M 332.53125 182.617188 C 332.53125 186.21875 327.132812 186.21875 327.132812 182.617188 C 327.132812 179.019531 332.53125 179.019531 332.53125 182.617188 \"/>\n",
       "<path style=\"fill:none;stroke-width:0.75;stroke-linecap:round;stroke-linejoin:round;stroke:rgb(0%,0%,0%);stroke-opacity:1;stroke-miterlimit:10;\" d=\"M 235.214844 130.253906 C 235.214844 133.855469 229.816406 133.855469 229.816406 130.253906 C 229.816406 126.65625 235.214844 126.65625 235.214844 130.253906 \"/>\n",
       "<path style=\"fill:none;stroke-width:0.75;stroke-linecap:round;stroke-linejoin:round;stroke:rgb(0%,0%,0%);stroke-opacity:1;stroke-miterlimit:10;\" d=\"M 247.910156 130.253906 C 247.910156 133.855469 242.507812 133.855469 242.507812 130.253906 C 242.507812 126.65625 247.910156 126.65625 247.910156 130.253906 \"/>\n",
       "<path style=\"fill:none;stroke-width:0.75;stroke-linecap:round;stroke-linejoin:round;stroke:rgb(0%,0%,0%);stroke-opacity:1;stroke-miterlimit:10;\" d=\"M 247.910156 208.800781 C 247.910156 212.398438 242.507812 212.398438 242.507812 208.800781 C 242.507812 205.199219 247.910156 205.199219 247.910156 208.800781 \"/>\n",
       "<path style=\"fill:none;stroke-width:0.75;stroke-linecap:round;stroke-linejoin:round;stroke:rgb(0%,0%,0%);stroke-opacity:1;stroke-miterlimit:10;\" d=\"M 222.523438 182.617188 C 222.523438 186.21875 217.121094 186.21875 217.121094 182.617188 C 217.121094 179.019531 222.523438 179.019531 222.523438 182.617188 \"/>\n",
       "<path style=\"fill:none;stroke-width:0.75;stroke-linecap:round;stroke-linejoin:round;stroke:rgb(0%,0%,0%);stroke-opacity:1;stroke-miterlimit:10;\" d=\"M 230.984375 208.800781 C 230.984375 212.398438 225.585938 212.398438 225.585938 208.800781 C 225.585938 205.199219 230.984375 205.199219 230.984375 208.800781 \"/>\n",
       "<path style=\"fill:none;stroke-width:0.75;stroke-linecap:round;stroke-linejoin:round;stroke:rgb(0%,0%,0%);stroke-opacity:1;stroke-miterlimit:10;\" d=\"M 294.449219 143.34375 C 294.449219 146.945312 289.050781 146.945312 289.050781 143.34375 C 289.050781 139.746094 294.449219 139.746094 294.449219 143.34375 \"/>\n",
       "<path style=\"fill:none;stroke-width:0.75;stroke-linecap:round;stroke-linejoin:round;stroke:rgb(0%,0%,0%);stroke-opacity:1;stroke-miterlimit:10;\" d=\"M 197.136719 182.617188 C 197.136719 186.21875 191.734375 186.21875 191.734375 182.617188 C 191.734375 179.019531 197.136719 179.019531 197.136719 182.617188 \"/>\n",
       "<path style=\"fill:none;stroke-width:0.75;stroke-linecap:round;stroke-linejoin:round;stroke:rgb(0%,0%,0%);stroke-opacity:1;stroke-miterlimit:10;\" d=\"M 222.523438 143.34375 C 222.523438 146.945312 217.121094 146.945312 217.121094 143.34375 C 217.121094 139.746094 222.523438 139.746094 222.523438 143.34375 \"/>\n",
       "<path style=\"fill:none;stroke-width:0.75;stroke-linecap:round;stroke-linejoin:round;stroke:rgb(0%,0%,0%);stroke-opacity:1;stroke-miterlimit:10;\" d=\"M 99.820312 117.164062 C 99.820312 120.761719 94.421875 120.761719 94.421875 117.164062 C 94.421875 113.5625 99.820312 113.5625 99.820312 117.164062 \"/>\n",
       "<path style=\"fill:none;stroke-width:0.75;stroke-linecap:round;stroke-linejoin:round;stroke:rgb(0%,0%,0%);stroke-opacity:1;stroke-miterlimit:10;\" d=\"M 273.296875 182.617188 C 273.296875 186.21875 267.894531 186.21875 267.894531 182.617188 C 267.894531 179.019531 273.296875 179.019531 273.296875 182.617188 \"/>\n",
       "<path style=\"fill:none;stroke-width:0.75;stroke-linecap:round;stroke-linejoin:round;stroke:rgb(0%,0%,0%);stroke-opacity:1;stroke-miterlimit:10;\" d=\"M 230.984375 169.527344 C 230.984375 173.128906 225.585938 173.128906 225.585938 169.527344 C 225.585938 165.925781 230.984375 165.925781 230.984375 169.527344 \"/>\n",
       "<path style=\"fill:none;stroke-width:0.75;stroke-linecap:round;stroke-linejoin:round;stroke:rgb(0%,0%,0%);stroke-opacity:1;stroke-miterlimit:10;\" d=\"M 146.363281 143.34375 C 146.363281 146.945312 140.960938 146.945312 140.960938 143.34375 C 140.960938 139.746094 146.363281 139.746094 146.363281 143.34375 \"/>\n",
       "<path style=\"fill:none;stroke-width:0.75;stroke-linecap:round;stroke-linejoin:round;stroke:rgb(0%,0%,0%);stroke-opacity:1;stroke-miterlimit:10;\" d=\"M 133.667969 156.4375 C 133.667969 160.035156 128.269531 160.035156 128.269531 156.4375 C 128.269531 152.835938 133.667969 152.835938 133.667969 156.4375 \"/>\n",
       "<path style=\"fill:none;stroke-width:0.75;stroke-linecap:round;stroke-linejoin:round;stroke:rgb(0%,0%,0%);stroke-opacity:1;stroke-miterlimit:10;\" d=\"M 87.125 143.34375 C 87.125 146.945312 81.726562 146.945312 81.726562 143.34375 C 81.726562 139.746094 87.125 139.746094 87.125 143.34375 \"/>\n",
       "<path style=\"fill:none;stroke-width:0.75;stroke-linecap:round;stroke-linejoin:round;stroke:rgb(0%,0%,0%);stroke-opacity:1;stroke-miterlimit:10;\" d=\"M 247.910156 195.710938 C 247.910156 199.308594 242.507812 199.308594 242.507812 195.710938 C 242.507812 192.109375 247.910156 192.109375 247.910156 195.710938 \"/>\n",
       "<path style=\"fill:none;stroke-width:0.75;stroke-linecap:round;stroke-linejoin:round;stroke:rgb(0%,0%,0%);stroke-opacity:1;stroke-miterlimit:10;\" d=\"M 129.4375 156.4375 C 129.4375 160.035156 124.039062 160.035156 124.039062 156.4375 C 124.039062 152.835938 129.4375 152.835938 129.4375 156.4375 \"/>\n",
       "<path style=\"fill:none;stroke-width:0.75;stroke-linecap:round;stroke-linejoin:round;stroke:rgb(0%,0%,0%);stroke-opacity:1;stroke-miterlimit:10;\" d=\"M 252.140625 195.710938 C 252.140625 199.308594 246.738281 199.308594 246.738281 195.710938 C 246.738281 192.109375 252.140625 192.109375 252.140625 195.710938 \"/>\n",
       "<path style=\"fill:none;stroke-width:0.75;stroke-linecap:round;stroke-linejoin:round;stroke:rgb(0%,0%,0%);stroke-opacity:1;stroke-miterlimit:10;\" d=\"M 95.589844 117.164062 C 95.589844 120.761719 90.1875 120.761719 90.1875 117.164062 C 90.1875 113.5625 95.589844 113.5625 95.589844 117.164062 \"/>\n",
       "<path style=\"fill:none;stroke-width:0.75;stroke-linecap:round;stroke-linejoin:round;stroke:rgb(0%,0%,0%);stroke-opacity:1;stroke-miterlimit:10;\" d=\"M 129.4375 143.34375 C 129.4375 146.945312 124.039062 146.945312 124.039062 143.34375 C 124.039062 139.746094 129.4375 139.746094 129.4375 143.34375 \"/>\n",
       "<path style=\"fill:none;stroke-width:0.75;stroke-linecap:round;stroke-linejoin:round;stroke:rgb(0%,0%,0%);stroke-opacity:1;stroke-miterlimit:10;\" d=\"M 108.28125 169.527344 C 108.28125 173.128906 102.882812 173.128906 102.882812 169.527344 C 102.882812 165.925781 108.28125 165.925781 108.28125 169.527344 \"/>\n",
       "<path style=\"fill:none;stroke-width:0.75;stroke-linecap:round;stroke-linejoin:round;stroke:rgb(0%,0%,0%);stroke-opacity:1;stroke-miterlimit:10;\" d=\"M 180.210938 169.527344 C 180.210938 173.128906 174.8125 173.128906 174.8125 169.527344 C 174.8125 165.925781 180.210938 165.925781 180.210938 169.527344 \"/>\n",
       "<path style=\"fill:none;stroke-width:0.75;stroke-linecap:round;stroke-linejoin:round;stroke:rgb(0%,0%,0%);stroke-opacity:1;stroke-miterlimit:10;\" d=\"M 125.207031 169.527344 C 125.207031 173.128906 119.808594 173.128906 119.808594 169.527344 C 119.808594 165.925781 125.207031 165.925781 125.207031 169.527344 \"/>\n",
       "<path style=\"fill:none;stroke-width:0.75;stroke-linecap:round;stroke-linejoin:round;stroke:rgb(0%,0%,0%);stroke-opacity:1;stroke-miterlimit:10;\" d=\"M 222.523438 208.800781 C 222.523438 212.398438 217.121094 212.398438 217.121094 208.800781 C 217.121094 205.199219 222.523438 205.199219 222.523438 208.800781 \"/>\n",
       "<path style=\"fill:none;stroke-width:0.75;stroke-linecap:round;stroke-linejoin:round;stroke:rgb(0%,0%,0%);stroke-opacity:1;stroke-miterlimit:10;\" d=\"M 125.207031 169.527344 C 125.207031 173.128906 119.808594 173.128906 119.808594 169.527344 C 119.808594 165.925781 125.207031 165.925781 125.207031 169.527344 \"/>\n",
       "<path style=\"fill:none;stroke-width:0.75;stroke-linecap:round;stroke-linejoin:round;stroke:rgb(0%,0%,0%);stroke-opacity:1;stroke-miterlimit:10;\" d=\"M 154.824219 208.800781 C 154.824219 212.398438 149.425781 212.398438 149.425781 208.800781 C 149.425781 205.199219 154.824219 205.199219 154.824219 208.800781 \"/>\n",
       "<path style=\"fill:none;stroke-width:0.75;stroke-linecap:round;stroke-linejoin:round;stroke:rgb(0%,0%,0%);stroke-opacity:1;stroke-miterlimit:10;\" d=\"M 260.601562 169.527344 C 260.601562 173.128906 255.203125 173.128906 255.203125 169.527344 C 255.203125 165.925781 260.601562 165.925781 260.601562 169.527344 \"/>\n",
       "<path style=\"fill:none;stroke-width:0.75;stroke-linecap:round;stroke-linejoin:round;stroke:rgb(0%,0%,0%);stroke-opacity:1;stroke-miterlimit:10;\" d=\"M 74.433594 143.34375 C 74.433594 146.945312 69.035156 146.945312 69.035156 143.34375 C 69.035156 139.746094 74.433594 139.746094 74.433594 143.34375 \"/>\n",
       "<path style=\"fill:none;stroke-width:0.75;stroke-linecap:round;stroke-linejoin:round;stroke:rgb(0%,0%,0%);stroke-opacity:1;stroke-miterlimit:10;\" d=\"M 78.664062 169.527344 C 78.664062 173.128906 73.265625 173.128906 73.265625 169.527344 C 73.265625 165.925781 78.664062 165.925781 78.664062 169.527344 \"/>\n",
       "<path style=\"fill:none;stroke-width:0.75;stroke-linecap:round;stroke-linejoin:round;stroke:rgb(0%,0%,0%);stroke-opacity:1;stroke-miterlimit:10;\" d=\"M 222.523438 182.617188 C 222.523438 186.21875 217.121094 186.21875 217.121094 182.617188 C 217.121094 179.019531 222.523438 179.019531 222.523438 182.617188 \"/>\n",
       "<path style=\"fill:none;stroke-width:0.75;stroke-linecap:round;stroke-linejoin:round;stroke:rgb(0%,0%,0%);stroke-opacity:1;stroke-miterlimit:10;\" d=\"M 252.140625 195.710938 C 252.140625 199.308594 246.738281 199.308594 246.738281 195.710938 C 246.738281 192.109375 252.140625 192.109375 252.140625 195.710938 \"/>\n",
       "<path style=\"fill:none;stroke-width:0.75;stroke-linecap:round;stroke-linejoin:round;stroke:rgb(0%,0%,0%);stroke-opacity:1;stroke-miterlimit:10;\" d=\"M 269.0625 104.074219 C 269.0625 107.671875 263.664062 107.671875 263.664062 104.074219 C 263.664062 100.472656 269.0625 100.472656 269.0625 104.074219 \"/>\n",
       "<path style=\"fill:none;stroke-width:0.75;stroke-linecap:round;stroke-linejoin:round;stroke:rgb(0%,0%,0%);stroke-opacity:1;stroke-miterlimit:10;\" d=\"M 328.300781 182.617188 C 328.300781 186.21875 322.898438 186.21875 322.898438 182.617188 C 322.898438 179.019531 328.300781 179.019531 328.300781 182.617188 \"/>\n",
       "<path style=\"fill:none;stroke-width:0.75;stroke-linecap:round;stroke-linejoin:round;stroke:rgb(0%,0%,0%);stroke-opacity:1;stroke-miterlimit:10;\" d=\"M 218.292969 208.800781 C 218.292969 212.398438 212.890625 212.398438 212.890625 208.800781 C 212.890625 205.199219 218.292969 205.199219 218.292969 208.800781 \"/>\n",
       "<path style=\"fill:none;stroke-width:0.75;stroke-linecap:round;stroke-linejoin:round;stroke:rgb(0%,0%,0%);stroke-opacity:1;stroke-miterlimit:10;\" d=\"M 154.824219 169.527344 C 154.824219 173.128906 149.425781 173.128906 149.425781 169.527344 C 149.425781 165.925781 154.824219 165.925781 154.824219 169.527344 \"/>\n",
       "<path style=\"fill:none;stroke-width:0.75;stroke-linecap:round;stroke-linejoin:round;stroke:rgb(0%,0%,0%);stroke-opacity:1;stroke-miterlimit:10;\" d=\"M 201.367188 130.253906 C 201.367188 133.855469 195.964844 133.855469 195.964844 130.253906 C 195.964844 126.65625 201.367188 126.65625 201.367188 130.253906 \"/>\n",
       "<path style=\"fill:none;stroke-width:0.75;stroke-linecap:round;stroke-linejoin:round;stroke:rgb(0%,0%,0%);stroke-opacity:1;stroke-miterlimit:10;\" d=\"M 146.363281 169.527344 C 146.363281 173.128906 140.960938 173.128906 140.960938 169.527344 C 140.960938 165.925781 146.363281 165.925781 146.363281 169.527344 \"/>\n",
       "<path style=\"fill:none;stroke-width:0.75;stroke-linecap:round;stroke-linejoin:round;stroke:rgb(0%,0%,0%);stroke-opacity:1;stroke-miterlimit:10;\" d=\"M 163.285156 156.4375 C 163.285156 160.035156 157.886719 160.035156 157.886719 156.4375 C 157.886719 152.835938 163.285156 152.835938 163.285156 156.4375 \"/>\n",
       "<path style=\"fill:none;stroke-width:0.75;stroke-linecap:round;stroke-linejoin:round;stroke:rgb(0%,0%,0%);stroke-opacity:1;stroke-miterlimit:10;\" d=\"M 133.667969 182.617188 C 133.667969 186.21875 128.269531 186.21875 128.269531 182.617188 C 128.269531 179.019531 133.667969 179.019531 133.667969 182.617188 \"/>\n",
       "<path style=\"fill:none;stroke-width:0.75;stroke-linecap:round;stroke-linejoin:round;stroke:rgb(0%,0%,0%);stroke-opacity:1;stroke-miterlimit:10;\" d=\"M 78.664062 104.074219 C 78.664062 107.671875 73.265625 107.671875 73.265625 104.074219 C 73.265625 100.472656 78.664062 100.472656 78.664062 104.074219 \"/>\n",
       "<path style=\"fill:none;stroke-width:0.75;stroke-linecap:round;stroke-linejoin:round;stroke:rgb(0%,0%,0%);stroke-opacity:1;stroke-miterlimit:10;\" d=\"M 252.140625 195.710938 C 252.140625 199.308594 246.738281 199.308594 246.738281 195.710938 C 246.738281 192.109375 252.140625 192.109375 252.140625 195.710938 \"/>\n",
       "<path style=\"fill:none;stroke-width:0.75;stroke-linecap:round;stroke-linejoin:round;stroke:rgb(0%,0%,0%);stroke-opacity:1;stroke-miterlimit:10;\" d=\"M 167.519531 182.617188 C 167.519531 186.21875 162.117188 186.21875 162.117188 182.617188 C 162.117188 179.019531 167.519531 179.019531 167.519531 182.617188 \"/>\n",
       "<path style=\"fill:none;stroke-width:0.75;stroke-linecap:round;stroke-linejoin:round;stroke:rgb(0%,0%,0%);stroke-opacity:1;stroke-miterlimit:10;\" d=\"M 154.824219 156.4375 C 154.824219 160.035156 149.425781 160.035156 149.425781 156.4375 C 149.425781 152.835938 154.824219 152.835938 154.824219 156.4375 \"/>\n",
       "<path style=\"fill:none;stroke-width:0.75;stroke-linecap:round;stroke-linejoin:round;stroke:rgb(0%,0%,0%);stroke-opacity:1;stroke-miterlimit:10;\" d=\"M 387.535156 208.800781 C 387.535156 212.398438 382.136719 212.398438 382.136719 208.800781 C 382.136719 205.199219 387.535156 205.199219 387.535156 208.800781 \"/>\n",
       "<path style=\"fill:none;stroke-width:0.75;stroke-linecap:round;stroke-linejoin:round;stroke:rgb(0%,0%,0%);stroke-opacity:1;stroke-miterlimit:10;\" d=\"M 82.894531 169.527344 C 82.894531 173.128906 77.496094 173.128906 77.496094 169.527344 C 77.496094 165.925781 82.894531 165.925781 82.894531 169.527344 \"/>\n",
       "<path style=\"fill:none;stroke-width:0.75;stroke-linecap:round;stroke-linejoin:round;stroke:rgb(0%,0%,0%);stroke-opacity:1;stroke-miterlimit:10;\" d=\"M 222.523438 195.710938 C 222.523438 199.308594 217.121094 199.308594 217.121094 195.710938 C 217.121094 192.109375 222.523438 192.109375 222.523438 195.710938 \"/>\n",
       "<path style=\"fill:none;stroke-width:0.75;stroke-linecap:round;stroke-linejoin:round;stroke:rgb(0%,0%,0%);stroke-opacity:1;stroke-miterlimit:10;\" d=\"M 116.746094 182.617188 C 116.746094 186.21875 111.34375 186.21875 111.34375 182.617188 C 111.34375 179.019531 116.746094 179.019531 116.746094 182.617188 \"/>\n",
       "<path style=\"fill:none;stroke-width:0.75;stroke-linecap:round;stroke-linejoin:round;stroke:rgb(0%,0%,0%);stroke-opacity:1;stroke-miterlimit:10;\" d=\"M 91.359375 104.074219 C 91.359375 107.671875 85.957031 107.671875 85.957031 104.074219 C 85.957031 100.472656 91.359375 100.472656 91.359375 104.074219 \"/>\n",
       "<path style=\"fill:none;stroke-width:0.75;stroke-linecap:round;stroke-linejoin:round;stroke:rgb(0%,0%,0%);stroke-opacity:1;stroke-miterlimit:10;\" d=\"M 180.210938 208.800781 C 180.210938 212.398438 174.8125 212.398438 174.8125 208.800781 C 174.8125 205.199219 180.210938 205.199219 180.210938 208.800781 \"/>\n",
       "<path style=\"fill:none;stroke-width:0.75;stroke-linecap:round;stroke-linejoin:round;stroke:rgb(0%,0%,0%);stroke-opacity:1;stroke-miterlimit:10;\" d=\"M 269.0625 90.980469 C 269.0625 94.582031 263.664062 94.582031 263.664062 90.980469 C 263.664062 87.382812 269.0625 87.382812 269.0625 90.980469 \"/>\n",
       "<path style=\"fill:none;stroke-width:0.75;stroke-linecap:round;stroke-linejoin:round;stroke:rgb(0%,0%,0%);stroke-opacity:1;stroke-miterlimit:10;\" d=\"M 252.140625 143.34375 C 252.140625 146.945312 246.738281 146.945312 246.738281 143.34375 C 246.738281 139.746094 252.140625 139.746094 252.140625 143.34375 \"/>\n",
       "<path style=\"fill:none;stroke-width:0.75;stroke-linecap:round;stroke-linejoin:round;stroke:rgb(0%,0%,0%);stroke-opacity:1;stroke-miterlimit:10;\" d=\"M 116.746094 156.4375 C 116.746094 160.035156 111.34375 160.035156 111.34375 156.4375 C 111.34375 152.835938 116.746094 152.835938 116.746094 156.4375 \"/>\n",
       "<path style=\"fill:none;stroke-width:0.75;stroke-linecap:round;stroke-linejoin:round;stroke:rgb(0%,0%,0%);stroke-opacity:1;stroke-miterlimit:10;\" d=\"M 104.050781 156.4375 C 104.050781 160.035156 98.652344 160.035156 98.652344 156.4375 C 98.652344 152.835938 104.050781 152.835938 104.050781 156.4375 \"/>\n",
       "<path style=\"fill:none;stroke-width:0.75;stroke-linecap:round;stroke-linejoin:round;stroke:rgb(0%,0%,0%);stroke-opacity:1;stroke-miterlimit:10;\" d=\"M 209.828125 104.074219 C 209.828125 107.671875 204.429688 107.671875 204.429688 104.074219 C 204.429688 100.472656 209.828125 100.472656 209.828125 104.074219 \"/>\n",
       "<path style=\"fill:none;stroke-width:0.75;stroke-linecap:round;stroke-linejoin:round;stroke:rgb(0%,0%,0%);stroke-opacity:1;stroke-miterlimit:10;\" d=\"M 277.527344 104.074219 C 277.527344 107.671875 272.125 107.671875 272.125 104.074219 C 272.125 100.472656 277.527344 100.472656 277.527344 104.074219 \"/>\n",
       "<path style=\"fill:none;stroke-width:0.75;stroke-linecap:round;stroke-linejoin:round;stroke:rgb(0%,0%,0%);stroke-opacity:1;stroke-miterlimit:10;\" d=\"M 154.824219 182.617188 C 154.824219 186.21875 149.425781 186.21875 149.425781 182.617188 C 149.425781 179.019531 154.824219 179.019531 154.824219 182.617188 \"/>\n",
       "<path style=\"fill:none;stroke-width:0.75;stroke-linecap:round;stroke-linejoin:round;stroke:rgb(0%,0%,0%);stroke-opacity:1;stroke-miterlimit:10;\" d=\"M 82.894531 104.074219 C 82.894531 107.671875 77.496094 107.671875 77.496094 104.074219 C 77.496094 100.472656 82.894531 100.472656 82.894531 104.074219 \"/>\n",
       "<path style=\"fill:none;stroke-width:0.75;stroke-linecap:round;stroke-linejoin:round;stroke:rgb(0%,0%,0%);stroke-opacity:1;stroke-miterlimit:10;\" d=\"M 294.449219 169.527344 C 294.449219 173.128906 289.050781 173.128906 289.050781 169.527344 C 289.050781 165.925781 294.449219 165.925781 294.449219 169.527344 \"/>\n",
       "<path style=\"fill:none;stroke-width:0.75;stroke-linecap:round;stroke-linejoin:round;stroke:rgb(0%,0%,0%);stroke-opacity:1;stroke-miterlimit:10;\" d=\"M 273.296875 208.800781 C 273.296875 212.398438 267.894531 212.398438 267.894531 208.800781 C 267.894531 205.199219 273.296875 205.199219 273.296875 208.800781 \"/>\n",
       "<path style=\"fill:none;stroke-width:0.75;stroke-linecap:round;stroke-linejoin:round;stroke:rgb(0%,0%,0%);stroke-opacity:1;stroke-miterlimit:10;\" d=\"M 129.4375 104.074219 C 129.4375 107.671875 124.039062 107.671875 124.039062 104.074219 C 124.039062 100.472656 129.4375 100.472656 129.4375 104.074219 \"/>\n",
       "<path style=\"fill:none;stroke-width:0.75;stroke-linecap:round;stroke-linejoin:round;stroke:rgb(0%,0%,0%);stroke-opacity:1;stroke-miterlimit:10;\" d=\"M 252.140625 208.800781 C 252.140625 212.398438 246.738281 212.398438 246.738281 208.800781 C 246.738281 205.199219 252.140625 205.199219 252.140625 208.800781 \"/>\n",
       "<path style=\"fill:none;stroke-width:0.75;stroke-linecap:round;stroke-linejoin:round;stroke:rgb(0%,0%,0%);stroke-opacity:1;stroke-miterlimit:10;\" d=\"M 116.746094 143.34375 C 116.746094 146.945312 111.34375 146.945312 111.34375 143.34375 C 111.34375 139.746094 116.746094 139.746094 116.746094 143.34375 \"/>\n",
       "<path style=\"fill:none;stroke-width:0.75;stroke-linecap:round;stroke-linejoin:round;stroke:rgb(0%,0%,0%);stroke-opacity:1;stroke-miterlimit:10;\" d=\"M 214.058594 182.617188 C 214.058594 186.21875 208.660156 186.21875 208.660156 182.617188 C 208.660156 179.019531 214.058594 179.019531 214.058594 182.617188 \"/>\n",
       "<path style=\"fill:none;stroke-width:0.75;stroke-linecap:round;stroke-linejoin:round;stroke:rgb(0%,0%,0%);stroke-opacity:1;stroke-miterlimit:10;\" d=\"M 239.445312 169.527344 C 239.445312 173.128906 234.046875 173.128906 234.046875 169.527344 C 234.046875 165.925781 239.445312 165.925781 239.445312 169.527344 \"/>\n",
       "<path style=\"fill:none;stroke-width:0.75;stroke-linecap:round;stroke-linejoin:round;stroke:rgb(0%,0%,0%);stroke-opacity:1;stroke-miterlimit:10;\" d=\"M 184.441406 169.527344 C 184.441406 173.128906 179.042969 173.128906 179.042969 169.527344 C 179.042969 165.925781 184.441406 165.925781 184.441406 169.527344 \"/>\n",
       "<path style=\"fill:none;stroke-width:0.75;stroke-linecap:round;stroke-linejoin:round;stroke:rgb(0%,0%,0%);stroke-opacity:1;stroke-miterlimit:10;\" d=\"M 108.28125 182.617188 C 108.28125 186.21875 102.882812 186.21875 102.882812 182.617188 C 102.882812 179.019531 108.28125 179.019531 108.28125 182.617188 \"/>\n",
       "<path style=\"fill:none;stroke-width:0.75;stroke-linecap:round;stroke-linejoin:round;stroke:rgb(0%,0%,0%);stroke-opacity:1;stroke-miterlimit:10;\" d=\"M 243.679688 130.253906 C 243.679688 133.855469 238.277344 133.855469 238.277344 130.253906 C 238.277344 126.65625 243.679688 126.65625 243.679688 130.253906 \"/>\n",
       "<path style=\"fill:none;stroke-width:0.75;stroke-linecap:round;stroke-linejoin:round;stroke:rgb(0%,0%,0%);stroke-opacity:1;stroke-miterlimit:10;\" d=\"M 125.207031 130.253906 C 125.207031 133.855469 119.808594 133.855469 119.808594 130.253906 C 119.808594 126.65625 125.207031 126.65625 125.207031 130.253906 \"/>\n",
       "<path style=\"fill:none;stroke-width:0.75;stroke-linecap:round;stroke-linejoin:round;stroke:rgb(0%,0%,0%);stroke-opacity:1;stroke-miterlimit:10;\" d=\"M 260.601562 156.4375 C 260.601562 160.035156 255.203125 160.035156 255.203125 156.4375 C 255.203125 152.835938 260.601562 152.835938 260.601562 156.4375 \"/>\n",
       "<path style=\"fill:none;stroke-width:0.75;stroke-linecap:round;stroke-linejoin:round;stroke:rgb(0%,0%,0%);stroke-opacity:1;stroke-miterlimit:10;\" d=\"M 269.0625 64.800781 C 269.0625 68.398438 263.664062 68.398438 263.664062 64.800781 C 263.664062 61.199219 269.0625 61.199219 269.0625 64.800781 \"/>\n",
       "<path style=\"fill:none;stroke-width:0.75;stroke-linecap:round;stroke-linejoin:round;stroke:rgb(0%,0%,0%);stroke-opacity:1;stroke-miterlimit:10;\" d=\"M 108.28125 130.253906 C 108.28125 133.855469 102.882812 133.855469 102.882812 130.253906 C 102.882812 126.65625 108.28125 126.65625 108.28125 130.253906 \"/>\n",
       "<path style=\"fill:none;stroke-width:0.75;stroke-linecap:round;stroke-linejoin:round;stroke:rgb(0%,0%,0%);stroke-opacity:1;stroke-miterlimit:10;\" d=\"M 120.976562 117.164062 C 120.976562 120.761719 115.574219 120.761719 115.574219 117.164062 C 115.574219 113.5625 120.976562 113.5625 120.976562 117.164062 \"/>\n",
       "<path style=\"fill:none;stroke-width:0.75;stroke-linecap:round;stroke-linejoin:round;stroke:rgb(0%,0%,0%);stroke-opacity:1;stroke-miterlimit:10;\" d=\"M 175.980469 156.4375 C 175.980469 160.035156 170.578125 160.035156 170.578125 156.4375 C 170.578125 152.835938 175.980469 152.835938 175.980469 156.4375 \"/>\n",
       "<path style=\"fill:none;stroke-width:0.75;stroke-linecap:round;stroke-linejoin:round;stroke:rgb(0%,0%,0%);stroke-opacity:1;stroke-miterlimit:10;\" d=\"M 95.589844 156.4375 C 95.589844 160.035156 90.1875 160.035156 90.1875 156.4375 C 90.1875 152.835938 95.589844 152.835938 95.589844 156.4375 \"/>\n",
       "<path style=\"fill:none;stroke-width:0.75;stroke-linecap:round;stroke-linejoin:round;stroke:rgb(0%,0%,0%);stroke-opacity:1;stroke-miterlimit:10;\" d=\"M 260.601562 182.617188 C 260.601562 186.21875 255.203125 186.21875 255.203125 182.617188 C 255.203125 179.019531 260.601562 179.019531 260.601562 182.617188 \"/>\n",
       "<path style=\"fill:none;stroke-width:0.75;stroke-linecap:round;stroke-linejoin:round;stroke:rgb(0%,0%,0%);stroke-opacity:1;stroke-miterlimit:10;\" d=\"M 159.054688 156.4375 C 159.054688 160.035156 153.65625 160.035156 153.65625 156.4375 C 153.65625 152.835938 159.054688 152.835938 159.054688 156.4375 \"/>\n",
       "<path style=\"fill:none;stroke-width:0.75;stroke-linecap:round;stroke-linejoin:round;stroke:rgb(0%,0%,0%);stroke-opacity:1;stroke-miterlimit:10;\" d=\"M 302.914062 182.617188 C 302.914062 186.21875 297.511719 186.21875 297.511719 182.617188 C 297.511719 179.019531 302.914062 179.019531 302.914062 182.617188 \"/>\n",
       "<path style=\"fill:none;stroke-width:0.75;stroke-linecap:round;stroke-linejoin:round;stroke:rgb(0%,0%,0%);stroke-opacity:1;stroke-miterlimit:10;\" d=\"M 298.683594 117.164062 C 298.683594 120.761719 293.28125 120.761719 293.28125 117.164062 C 293.28125 113.5625 298.683594 113.5625 298.683594 117.164062 \"/>\n",
       "<path style=\"fill:none;stroke-width:0.75;stroke-linecap:round;stroke-linejoin:round;stroke:rgb(0%,0%,0%);stroke-opacity:1;stroke-miterlimit:10;\" d=\"M 239.445312 182.617188 C 239.445312 186.21875 234.046875 186.21875 234.046875 182.617188 C 234.046875 179.019531 239.445312 179.019531 239.445312 182.617188 \"/>\n",
       "<path style=\"fill:none;stroke-width:0.75;stroke-linecap:round;stroke-linejoin:round;stroke:rgb(0%,0%,0%);stroke-opacity:1;stroke-miterlimit:10;\" d=\"M 133.667969 208.800781 C 133.667969 212.398438 128.269531 212.398438 128.269531 208.800781 C 128.269531 205.199219 133.667969 205.199219 133.667969 208.800781 \"/>\n",
       "<path style=\"fill:none;stroke-width:0.75;stroke-linecap:round;stroke-linejoin:round;stroke:rgb(0%,0%,0%);stroke-opacity:1;stroke-miterlimit:10;\" d=\"M 302.914062 182.617188 C 302.914062 186.21875 297.511719 186.21875 297.511719 182.617188 C 297.511719 179.019531 302.914062 179.019531 302.914062 182.617188 \"/>\n",
       "<path style=\"fill:none;stroke-width:0.75;stroke-linecap:round;stroke-linejoin:round;stroke:rgb(0%,0%,0%);stroke-opacity:1;stroke-miterlimit:10;\" d=\"M 218.292969 208.800781 C 218.292969 212.398438 212.890625 212.398438 212.890625 208.800781 C 212.890625 205.199219 218.292969 205.199219 218.292969 208.800781 \"/>\n",
       "<path style=\"fill:none;stroke-width:0.75;stroke-linecap:round;stroke-linejoin:round;stroke:rgb(0%,0%,0%);stroke-opacity:1;stroke-miterlimit:10;\" d=\"M 209.828125 195.710938 C 209.828125 199.308594 204.429688 199.308594 204.429688 195.710938 C 204.429688 192.109375 209.828125 192.109375 209.828125 195.710938 \"/>\n",
       "<path style=\"fill:none;stroke-width:0.75;stroke-linecap:round;stroke-linejoin:round;stroke:rgb(0%,0%,0%);stroke-opacity:1;stroke-miterlimit:10;\" d=\"M 201.367188 182.617188 C 201.367188 186.21875 195.964844 186.21875 195.964844 182.617188 C 195.964844 179.019531 201.367188 179.019531 201.367188 182.617188 \"/>\n",
       "<path style=\"fill:none;stroke-width:0.75;stroke-linecap:round;stroke-linejoin:round;stroke:rgb(0%,0%,0%);stroke-opacity:1;stroke-miterlimit:10;\" d=\"M 218.292969 195.710938 C 218.292969 199.308594 212.890625 199.308594 212.890625 195.710938 C 212.890625 192.109375 218.292969 192.109375 218.292969 195.710938 \"/>\n",
       "<path style=\"fill:none;stroke-width:0.75;stroke-linecap:round;stroke-linejoin:round;stroke:rgb(0%,0%,0%);stroke-opacity:1;stroke-miterlimit:10;\" d=\"M 112.511719 104.074219 C 112.511719 107.671875 107.113281 107.671875 107.113281 104.074219 C 107.113281 100.472656 112.511719 100.472656 112.511719 104.074219 \"/>\n",
       "<path style=\"fill:none;stroke-width:0.75;stroke-linecap:round;stroke-linejoin:round;stroke:rgb(0%,0%,0%);stroke-opacity:1;stroke-miterlimit:10;\" d=\"M 112.511719 156.4375 C 112.511719 160.035156 107.113281 160.035156 107.113281 156.4375 C 107.113281 152.835938 112.511719 152.835938 112.511719 156.4375 \"/>\n",
       "<path style=\"fill:none;stroke-width:0.75;stroke-linecap:round;stroke-linejoin:round;stroke:rgb(0%,0%,0%);stroke-opacity:1;stroke-miterlimit:10;\" d=\"M 205.597656 156.4375 C 205.597656 160.035156 200.199219 160.035156 200.199219 156.4375 C 200.199219 152.835938 205.597656 152.835938 205.597656 156.4375 \"/>\n",
       "<path style=\"fill:none;stroke-width:0.75;stroke-linecap:round;stroke-linejoin:round;stroke:rgb(0%,0%,0%);stroke-opacity:1;stroke-miterlimit:10;\" d=\"M 142.132812 117.164062 C 142.132812 120.761719 136.730469 120.761719 136.730469 117.164062 C 136.730469 113.5625 142.132812 113.5625 142.132812 117.164062 \"/>\n",
       "<path style=\"fill:none;stroke-width:0.75;stroke-linecap:round;stroke-linejoin:round;stroke:rgb(0%,0%,0%);stroke-opacity:1;stroke-miterlimit:10;\" d=\"M 108.28125 182.617188 C 108.28125 186.21875 102.882812 186.21875 102.882812 182.617188 C 102.882812 179.019531 108.28125 179.019531 108.28125 182.617188 \"/>\n",
       "<path style=\"fill:none;stroke-width:0.75;stroke-linecap:round;stroke-linejoin:round;stroke:rgb(0%,0%,0%);stroke-opacity:1;stroke-miterlimit:10;\" d=\"M 154.824219 182.617188 C 154.824219 186.21875 149.425781 186.21875 149.425781 182.617188 C 149.425781 179.019531 154.824219 179.019531 154.824219 182.617188 \"/>\n",
       "<path style=\"fill:none;stroke-width:0.75;stroke-linecap:round;stroke-linejoin:round;stroke:rgb(0%,0%,0%);stroke-opacity:1;stroke-miterlimit:10;\" d=\"M 159.054688 169.527344 C 159.054688 173.128906 153.65625 173.128906 153.65625 169.527344 C 153.65625 165.925781 159.054688 165.925781 159.054688 169.527344 \"/>\n",
       "<path style=\"fill:none;stroke-width:0.75;stroke-linecap:round;stroke-linejoin:round;stroke:rgb(0%,0%,0%);stroke-opacity:1;stroke-miterlimit:10;\" d=\"M 180.210938 77.890625 C 180.210938 81.492188 174.8125 81.492188 174.8125 77.890625 C 174.8125 74.289062 180.210938 74.289062 180.210938 77.890625 \"/>\n",
       "<path style=\"fill:none;stroke-width:0.75;stroke-linecap:round;stroke-linejoin:round;stroke:rgb(0%,0%,0%);stroke-opacity:1;stroke-miterlimit:10;\" d=\"M 252.140625 169.527344 C 252.140625 173.128906 246.738281 173.128906 246.738281 169.527344 C 246.738281 165.925781 252.140625 165.925781 252.140625 169.527344 \"/>\n",
       "<path style=\"fill:none;stroke-width:0.75;stroke-linecap:round;stroke-linejoin:round;stroke:rgb(0%,0%,0%);stroke-opacity:1;stroke-miterlimit:10;\" d=\"M 273.296875 143.34375 C 273.296875 146.945312 267.894531 146.945312 267.894531 143.34375 C 267.894531 139.746094 273.296875 139.746094 273.296875 143.34375 \"/>\n",
       "<path style=\"fill:none;stroke-width:0.75;stroke-linecap:round;stroke-linejoin:round;stroke:rgb(0%,0%,0%);stroke-opacity:1;stroke-miterlimit:10;\" d=\"M 205.597656 130.253906 C 205.597656 133.855469 200.199219 133.855469 200.199219 130.253906 C 200.199219 126.65625 205.597656 126.65625 205.597656 130.253906 \"/>\n",
       "<path style=\"fill:none;stroke-width:0.75;stroke-linecap:round;stroke-linejoin:round;stroke:rgb(0%,0%,0%);stroke-opacity:1;stroke-miterlimit:10;\" d=\"M 264.832031 156.4375 C 264.832031 160.035156 259.433594 160.035156 259.433594 156.4375 C 259.433594 152.835938 264.832031 152.835938 264.832031 156.4375 \"/>\n",
       "<path style=\"fill:none;stroke-width:0.75;stroke-linecap:round;stroke-linejoin:round;stroke:rgb(0%,0%,0%);stroke-opacity:1;stroke-miterlimit:10;\" d=\"M 91.359375 143.34375 C 91.359375 146.945312 85.957031 146.945312 85.957031 143.34375 C 85.957031 139.746094 91.359375 139.746094 91.359375 143.34375 \"/>\n",
       "<path style=\"fill:none;stroke-width:0.75;stroke-linecap:round;stroke-linejoin:round;stroke:rgb(0%,0%,0%);stroke-opacity:1;stroke-miterlimit:10;\" d=\"M 235.214844 156.4375 C 235.214844 160.035156 229.816406 160.035156 229.816406 156.4375 C 229.816406 152.835938 235.214844 152.835938 235.214844 156.4375 \"/>\n",
       "<path style=\"fill:none;stroke-width:0.75;stroke-linecap:round;stroke-linejoin:round;stroke:rgb(0%,0%,0%);stroke-opacity:1;stroke-miterlimit:10;\" d=\"M 298.683594 169.527344 C 298.683594 173.128906 293.28125 173.128906 293.28125 169.527344 C 293.28125 165.925781 298.683594 165.925781 298.683594 169.527344 \"/>\n",
       "<path style=\"fill:none;stroke-width:0.75;stroke-linecap:round;stroke-linejoin:round;stroke:rgb(0%,0%,0%);stroke-opacity:1;stroke-miterlimit:10;\" d=\"M 239.445312 156.4375 C 239.445312 160.035156 234.046875 160.035156 234.046875 156.4375 C 234.046875 152.835938 239.445312 152.835938 239.445312 156.4375 \"/>\n",
       "<path style=\"fill:none;stroke-width:0.75;stroke-linecap:round;stroke-linejoin:round;stroke:rgb(0%,0%,0%);stroke-opacity:1;stroke-miterlimit:10;\" d=\"M 281.757812 169.527344 C 281.757812 173.128906 276.359375 173.128906 276.359375 169.527344 C 276.359375 165.925781 281.757812 165.925781 281.757812 169.527344 \"/>\n",
       "<path style=\"fill:none;stroke-width:0.75;stroke-linecap:round;stroke-linejoin:round;stroke:rgb(0%,0%,0%);stroke-opacity:1;stroke-miterlimit:10;\" d=\"M 137.898438 169.527344 C 137.898438 173.128906 132.5 173.128906 132.5 169.527344 C 132.5 165.925781 137.898438 165.925781 137.898438 169.527344 \"/>\n",
       "<path style=\"fill:none;stroke-width:0.75;stroke-linecap:round;stroke-linejoin:round;stroke:rgb(0%,0%,0%);stroke-opacity:1;stroke-miterlimit:10;\" d=\"M 252.140625 90.980469 C 252.140625 94.582031 246.738281 94.582031 246.738281 90.980469 C 246.738281 87.382812 252.140625 87.382812 252.140625 90.980469 \"/>\n",
       "<path style=\"fill:none;stroke-width:0.75;stroke-linecap:round;stroke-linejoin:round;stroke:rgb(0%,0%,0%);stroke-opacity:1;stroke-miterlimit:10;\" d=\"M 112.511719 130.253906 C 112.511719 133.855469 107.113281 133.855469 107.113281 130.253906 C 107.113281 126.65625 112.511719 126.65625 112.511719 130.253906 \"/>\n",
       "<path style=\"fill:none;stroke-width:0.75;stroke-linecap:round;stroke-linejoin:round;stroke:rgb(0%,0%,0%);stroke-opacity:1;stroke-miterlimit:10;\" d=\"M 252.140625 208.800781 C 252.140625 212.398438 246.738281 212.398438 246.738281 208.800781 C 246.738281 205.199219 252.140625 205.199219 252.140625 208.800781 \"/>\n",
       "<path style=\"fill:none;stroke-width:0.75;stroke-linecap:round;stroke-linejoin:round;stroke:rgb(0%,0%,0%);stroke-opacity:1;stroke-miterlimit:10;\" d=\"M 260.601562 169.527344 C 260.601562 173.128906 255.203125 173.128906 255.203125 169.527344 C 255.203125 165.925781 260.601562 165.925781 260.601562 169.527344 \"/>\n",
       "<path style=\"fill:none;stroke-width:0.75;stroke-linecap:round;stroke-linejoin:round;stroke:rgb(0%,0%,0%);stroke-opacity:1;stroke-miterlimit:10;\" d=\"M 239.445312 117.164062 C 239.445312 120.761719 234.046875 120.761719 234.046875 117.164062 C 234.046875 113.5625 239.445312 113.5625 239.445312 117.164062 \"/>\n",
       "<path style=\"fill:none;stroke-width:0.75;stroke-linecap:round;stroke-linejoin:round;stroke:rgb(0%,0%,0%);stroke-opacity:1;stroke-miterlimit:10;\" d=\"M 239.445312 195.710938 C 239.445312 199.308594 234.046875 199.308594 234.046875 195.710938 C 234.046875 192.109375 239.445312 192.109375 239.445312 195.710938 \"/>\n",
       "<path style=\"fill:none;stroke-width:0.75;stroke-linecap:round;stroke-linejoin:round;stroke:rgb(0%,0%,0%);stroke-opacity:1;stroke-miterlimit:10;\" d=\"M 175.980469 117.164062 C 175.980469 120.761719 170.578125 120.761719 170.578125 117.164062 C 170.578125 113.5625 175.980469 113.5625 175.980469 117.164062 \"/>\n",
       "<path style=\"fill:none;stroke-width:0.75;stroke-linecap:round;stroke-linejoin:round;stroke:rgb(0%,0%,0%);stroke-opacity:1;stroke-miterlimit:10;\" d=\"M 150.59375 143.34375 C 150.59375 146.945312 145.191406 146.945312 145.191406 143.34375 C 145.191406 139.746094 150.59375 139.746094 150.59375 143.34375 \"/>\n",
       "<path style=\"fill:none;stroke-width:0.75;stroke-linecap:round;stroke-linejoin:round;stroke:rgb(0%,0%,0%);stroke-opacity:1;stroke-miterlimit:10;\" d=\"M 332.53125 182.617188 C 332.53125 186.21875 327.132812 186.21875 327.132812 182.617188 C 327.132812 179.019531 332.53125 179.019531 332.53125 182.617188 \"/>\n",
       "<path style=\"fill:none;stroke-width:0.75;stroke-linecap:round;stroke-linejoin:round;stroke:rgb(0%,0%,0%);stroke-opacity:1;stroke-miterlimit:10;\" d=\"M 108.28125 130.253906 C 108.28125 133.855469 102.882812 133.855469 102.882812 130.253906 C 102.882812 126.65625 108.28125 126.65625 108.28125 130.253906 \"/>\n",
       "<path style=\"fill:none;stroke-width:0.75;stroke-linecap:round;stroke-linejoin:round;stroke:rgb(0%,0%,0%);stroke-opacity:1;stroke-miterlimit:10;\" d=\"M 78.664062 117.164062 C 78.664062 120.761719 73.265625 120.761719 73.265625 117.164062 C 73.265625 113.5625 78.664062 113.5625 78.664062 117.164062 \"/>\n",
       "<path style=\"fill:none;stroke-width:0.75;stroke-linecap:round;stroke-linejoin:round;stroke:rgb(0%,0%,0%);stroke-opacity:1;stroke-miterlimit:10;\" d=\"M 269.0625 117.164062 C 269.0625 120.761719 263.664062 120.761719 263.664062 117.164062 C 263.664062 113.5625 269.0625 113.5625 269.0625 117.164062 \"/>\n",
       "<path style=\"fill:none;stroke-width:0.75;stroke-linecap:round;stroke-linejoin:round;stroke:rgb(0%,0%,0%);stroke-opacity:1;stroke-miterlimit:10;\" d=\"M 91.359375 156.4375 C 91.359375 160.035156 85.957031 160.035156 85.957031 156.4375 C 85.957031 152.835938 91.359375 152.835938 91.359375 156.4375 \"/>\n",
       "<path style=\"fill:none;stroke-width:0.75;stroke-linecap:round;stroke-linejoin:round;stroke:rgb(0%,0%,0%);stroke-opacity:1;stroke-miterlimit:10;\" d=\"M 137.898438 195.710938 C 137.898438 199.308594 132.5 199.308594 132.5 195.710938 C 132.5 192.109375 137.898438 192.109375 137.898438 195.710938 \"/>\n",
       "<path style=\"fill:none;stroke-width:0.75;stroke-linecap:round;stroke-linejoin:round;stroke:rgb(0%,0%,0%);stroke-opacity:1;stroke-miterlimit:10;\" d=\"M 116.746094 104.074219 C 116.746094 107.671875 111.34375 107.671875 111.34375 104.074219 C 111.34375 100.472656 116.746094 100.472656 116.746094 104.074219 \"/>\n",
       "<path style=\"fill:none;stroke-width:0.75;stroke-linecap:round;stroke-linejoin:round;stroke:rgb(0%,0%,0%);stroke-opacity:1;stroke-miterlimit:10;\" d=\"M 298.683594 156.4375 C 298.683594 160.035156 293.28125 160.035156 293.28125 156.4375 C 293.28125 152.835938 298.683594 152.835938 298.683594 156.4375 \"/>\n",
       "<path style=\"fill:none;stroke-width:0.75;stroke-linecap:round;stroke-linejoin:round;stroke:rgb(0%,0%,0%);stroke-opacity:1;stroke-miterlimit:10;\" d=\"M 285.988281 195.710938 C 285.988281 199.308594 280.589844 199.308594 280.589844 195.710938 C 280.589844 192.109375 285.988281 192.109375 285.988281 195.710938 \"/>\n",
       "<path style=\"fill:none;stroke-width:0.75;stroke-linecap:round;stroke-linejoin:round;stroke:rgb(0%,0%,0%);stroke-opacity:1;stroke-miterlimit:10;\" d=\"M 252.140625 169.527344 C 252.140625 173.128906 246.738281 173.128906 246.738281 169.527344 C 246.738281 165.925781 252.140625 165.925781 252.140625 169.527344 \"/>\n",
       "<path style=\"fill:none;stroke-width:0.75;stroke-linecap:round;stroke-linejoin:round;stroke:rgb(0%,0%,0%);stroke-opacity:1;stroke-miterlimit:10;\" d=\"M 307.144531 169.527344 C 307.144531 173.128906 301.746094 173.128906 301.746094 169.527344 C 301.746094 165.925781 307.144531 165.925781 307.144531 169.527344 \"/>\n",
       "<path style=\"fill:none;stroke-width:0.75;stroke-linecap:round;stroke-linejoin:round;stroke:rgb(0%,0%,0%);stroke-opacity:1;stroke-miterlimit:10;\" d=\"M 95.589844 117.164062 C 95.589844 120.761719 90.1875 120.761719 90.1875 117.164062 C 90.1875 113.5625 95.589844 113.5625 95.589844 117.164062 \"/>\n",
       "<path style=\"fill:none;stroke-width:0.75;stroke-linecap:round;stroke-linejoin:round;stroke:rgb(0%,0%,0%);stroke-opacity:1;stroke-miterlimit:10;\" d=\"M 256.371094 169.527344 C 256.371094 173.128906 250.972656 173.128906 250.972656 169.527344 C 250.972656 165.925781 256.371094 165.925781 256.371094 169.527344 \"/>\n",
       "<path style=\"fill:none;stroke-width:0.75;stroke-linecap:round;stroke-linejoin:round;stroke:rgb(0%,0%,0%);stroke-opacity:1;stroke-miterlimit:10;\" d=\"M 235.214844 64.800781 C 235.214844 68.398438 229.816406 68.398438 229.816406 64.800781 C 229.816406 61.199219 235.214844 61.199219 235.214844 64.800781 \"/>\n",
       "<path style=\"fill:none;stroke-width:0.75;stroke-linecap:round;stroke-linejoin:round;stroke:rgb(0%,0%,0%);stroke-opacity:1;stroke-miterlimit:10;\" d=\"M 235.214844 130.253906 C 235.214844 133.855469 229.816406 133.855469 229.816406 130.253906 C 229.816406 126.65625 235.214844 126.65625 235.214844 130.253906 \"/>\n",
       "<path style=\"fill:none;stroke-width:0.75;stroke-linecap:round;stroke-linejoin:round;stroke:rgb(0%,0%,0%);stroke-opacity:1;stroke-miterlimit:10;\" d=\"M 269.0625 169.527344 C 269.0625 173.128906 263.664062 173.128906 263.664062 169.527344 C 263.664062 165.925781 269.0625 165.925781 269.0625 169.527344 \"/>\n",
       "<path style=\"fill:none;stroke-width:0.75;stroke-linecap:round;stroke-linejoin:round;stroke:rgb(0%,0%,0%);stroke-opacity:1;stroke-miterlimit:10;\" d=\"M 146.363281 169.527344 C 146.363281 173.128906 140.960938 173.128906 140.960938 169.527344 C 140.960938 165.925781 146.363281 165.925781 146.363281 169.527344 \"/>\n",
       "<path style=\"fill:none;stroke-width:0.75;stroke-linecap:round;stroke-linejoin:round;stroke:rgb(0%,0%,0%);stroke-opacity:1;stroke-miterlimit:10;\" d=\"M 146.363281 182.617188 C 146.363281 186.21875 140.960938 186.21875 140.960938 182.617188 C 140.960938 179.019531 146.363281 179.019531 146.363281 182.617188 \"/>\n",
       "<path style=\"fill:none;stroke-width:0.75;stroke-linecap:round;stroke-linejoin:round;stroke:rgb(0%,0%,0%);stroke-opacity:1;stroke-miterlimit:10;\" d=\"M 95.589844 143.34375 C 95.589844 146.945312 90.1875 146.945312 90.1875 143.34375 C 90.1875 139.746094 95.589844 139.746094 95.589844 143.34375 \"/>\n",
       "<path style=\"fill:none;stroke-width:0.75;stroke-linecap:round;stroke-linejoin:round;stroke:rgb(0%,0%,0%);stroke-opacity:1;stroke-miterlimit:10;\" d=\"M 112.511719 143.34375 C 112.511719 146.945312 107.113281 146.945312 107.113281 143.34375 C 107.113281 139.746094 112.511719 139.746094 112.511719 143.34375 \"/>\n",
       "<path style=\"fill:none;stroke-width:0.75;stroke-linecap:round;stroke-linejoin:round;stroke:rgb(0%,0%,0%);stroke-opacity:1;stroke-miterlimit:10;\" d=\"M 87.125 156.4375 C 87.125 160.035156 81.726562 160.035156 81.726562 156.4375 C 81.726562 152.835938 87.125 152.835938 87.125 156.4375 \"/>\n",
       "<path style=\"fill:none;stroke-width:0.75;stroke-linecap:round;stroke-linejoin:round;stroke:rgb(0%,0%,0%);stroke-opacity:1;stroke-miterlimit:10;\" d=\"M 87.125 143.34375 C 87.125 146.945312 81.726562 146.945312 81.726562 143.34375 C 81.726562 139.746094 87.125 139.746094 87.125 143.34375 \"/>\n",
       "<path style=\"fill:none;stroke-width:0.75;stroke-linecap:round;stroke-linejoin:round;stroke:rgb(0%,0%,0%);stroke-opacity:1;stroke-miterlimit:10;\" d=\"M 218.292969 182.617188 C 218.292969 186.21875 212.890625 186.21875 212.890625 182.617188 C 212.890625 179.019531 218.292969 179.019531 218.292969 182.617188 \"/>\n",
       "<path style=\"fill:none;stroke-width:0.75;stroke-linecap:round;stroke-linejoin:round;stroke:rgb(0%,0%,0%);stroke-opacity:1;stroke-miterlimit:10;\" d=\"M 256.371094 156.4375 C 256.371094 160.035156 250.972656 160.035156 250.972656 156.4375 C 250.972656 152.835938 256.371094 152.835938 256.371094 156.4375 \"/>\n",
       "<path style=\"fill:none;stroke-width:0.75;stroke-linecap:round;stroke-linejoin:round;stroke:rgb(0%,0%,0%);stroke-opacity:1;stroke-miterlimit:10;\" d=\"M 120.976562 182.617188 C 120.976562 186.21875 115.574219 186.21875 115.574219 182.617188 C 115.574219 179.019531 120.976562 179.019531 120.976562 182.617188 \"/>\n",
       "<path style=\"fill:none;stroke-width:0.75;stroke-linecap:round;stroke-linejoin:round;stroke:rgb(0%,0%,0%);stroke-opacity:1;stroke-miterlimit:10;\" d=\"M 133.667969 104.074219 C 133.667969 107.671875 128.269531 107.671875 128.269531 104.074219 C 128.269531 100.472656 133.667969 100.472656 133.667969 104.074219 \"/>\n",
       "<path style=\"fill:none;stroke-width:0.75;stroke-linecap:round;stroke-linejoin:round;stroke:rgb(0%,0%,0%);stroke-opacity:1;stroke-miterlimit:10;\" d=\"M 108.28125 169.527344 C 108.28125 173.128906 102.882812 173.128906 102.882812 169.527344 C 102.882812 165.925781 108.28125 165.925781 108.28125 169.527344 \"/>\n",
       "<path style=\"fill:none;stroke-width:0.75;stroke-linecap:round;stroke-linejoin:round;stroke:rgb(0%,0%,0%);stroke-opacity:1;stroke-miterlimit:10;\" d=\"M 290.21875 143.34375 C 290.21875 146.945312 284.820312 146.945312 284.820312 143.34375 C 284.820312 139.746094 290.21875 139.746094 290.21875 143.34375 \"/>\n",
       "<path style=\"fill:none;stroke-width:0.75;stroke-linecap:round;stroke-linejoin:round;stroke:rgb(0%,0%,0%);stroke-opacity:1;stroke-miterlimit:10;\" d=\"M 99.820312 77.890625 C 99.820312 81.492188 94.421875 81.492188 94.421875 77.890625 C 94.421875 74.289062 99.820312 74.289062 99.820312 77.890625 \"/>\n",
       "<path style=\"fill:none;stroke-width:0.75;stroke-linecap:round;stroke-linejoin:round;stroke:rgb(0%,0%,0%);stroke-opacity:1;stroke-miterlimit:10;\" d=\"M 125.207031 104.074219 C 125.207031 107.671875 119.808594 107.671875 119.808594 104.074219 C 119.808594 100.472656 125.207031 100.472656 125.207031 104.074219 \"/>\n",
       "<path style=\"fill:none;stroke-width:0.75;stroke-linecap:round;stroke-linejoin:round;stroke:rgb(0%,0%,0%);stroke-opacity:1;stroke-miterlimit:10;\" d=\"M 188.671875 156.4375 C 188.671875 160.035156 183.273438 160.035156 183.273438 156.4375 C 183.273438 152.835938 188.671875 152.835938 188.671875 156.4375 \"/>\n",
       "<path style=\"fill:none;stroke-width:0.75;stroke-linecap:round;stroke-linejoin:round;stroke:rgb(0%,0%,0%);stroke-opacity:1;stroke-miterlimit:10;\" d=\"M 87.125 130.253906 C 87.125 133.855469 81.726562 133.855469 81.726562 130.253906 C 81.726562 126.65625 87.125 126.65625 87.125 130.253906 \"/>\n",
       "<path style=\"fill:none;stroke-width:0.75;stroke-linecap:round;stroke-linejoin:round;stroke:rgb(0%,0%,0%);stroke-opacity:1;stroke-miterlimit:10;\" d=\"M 205.597656 208.800781 C 205.597656 212.398438 200.199219 212.398438 200.199219 208.800781 C 200.199219 205.199219 205.597656 205.199219 205.597656 208.800781 \"/>\n",
       "<path style=\"fill:none;stroke-width:0.75;stroke-linecap:round;stroke-linejoin:round;stroke:rgb(0%,0%,0%);stroke-opacity:1;stroke-miterlimit:10;\" d=\"M 235.214844 90.980469 C 235.214844 94.582031 229.816406 94.582031 229.816406 90.980469 C 229.816406 87.382812 235.214844 87.382812 235.214844 90.980469 \"/>\n",
       "<path style=\"fill:none;stroke-width:0.75;stroke-linecap:round;stroke-linejoin:round;stroke:rgb(0%,0%,0%);stroke-opacity:1;stroke-miterlimit:10;\" d=\"M 154.824219 208.800781 C 154.824219 212.398438 149.425781 212.398438 149.425781 208.800781 C 149.425781 205.199219 154.824219 205.199219 154.824219 208.800781 \"/>\n",
       "<path style=\"fill:none;stroke-width:0.75;stroke-linecap:round;stroke-linejoin:round;stroke:rgb(0%,0%,0%);stroke-opacity:1;stroke-miterlimit:10;\" d=\"M 235.214844 156.4375 C 235.214844 160.035156 229.816406 160.035156 229.816406 156.4375 C 229.816406 152.835938 235.214844 152.835938 235.214844 156.4375 \"/>\n",
       "<path style=\"fill:none;stroke-width:0.75;stroke-linecap:round;stroke-linejoin:round;stroke:rgb(0%,0%,0%);stroke-opacity:1;stroke-miterlimit:10;\" d=\"M 74.433594 130.253906 C 74.433594 133.855469 69.035156 133.855469 69.035156 130.253906 C 69.035156 126.65625 74.433594 126.65625 74.433594 130.253906 \"/>\n",
       "<path style=\"fill:none;stroke-width:0.75;stroke-linecap:round;stroke-linejoin:round;stroke:rgb(0%,0%,0%);stroke-opacity:1;stroke-miterlimit:10;\" d=\"M 260.601562 208.800781 C 260.601562 212.398438 255.203125 212.398438 255.203125 208.800781 C 255.203125 205.199219 260.601562 205.199219 260.601562 208.800781 \"/>\n",
       "<path style=\"fill:none;stroke-width:0.75;stroke-linecap:round;stroke-linejoin:round;stroke:rgb(0%,0%,0%);stroke-opacity:1;stroke-miterlimit:10;\" d=\"M 159.054688 195.710938 C 159.054688 199.308594 153.65625 199.308594 153.65625 195.710938 C 153.65625 192.109375 159.054688 192.109375 159.054688 195.710938 \"/>\n",
       "<path style=\"fill:none;stroke-width:0.75;stroke-linecap:round;stroke-linejoin:round;stroke:rgb(0%,0%,0%);stroke-opacity:1;stroke-miterlimit:10;\" d=\"M 239.445312 208.800781 C 239.445312 212.398438 234.046875 212.398438 234.046875 208.800781 C 234.046875 205.199219 239.445312 205.199219 239.445312 208.800781 \"/>\n",
       "<path style=\"fill:none;stroke-width:0.75;stroke-linecap:round;stroke-linejoin:round;stroke:rgb(0%,0%,0%);stroke-opacity:1;stroke-miterlimit:10;\" d=\"M 239.445312 182.617188 C 239.445312 186.21875 234.046875 186.21875 234.046875 182.617188 C 234.046875 179.019531 239.445312 179.019531 239.445312 182.617188 \"/>\n",
       "<path style=\"fill:none;stroke-width:0.75;stroke-linecap:round;stroke-linejoin:round;stroke:rgb(0%,0%,0%);stroke-opacity:1;stroke-miterlimit:10;\" d=\"M 95.589844 117.164062 C 95.589844 120.761719 90.1875 120.761719 90.1875 117.164062 C 90.1875 113.5625 95.589844 113.5625 95.589844 117.164062 \"/>\n",
       "<path style=\"fill:none;stroke-width:0.75;stroke-linecap:round;stroke-linejoin:round;stroke:rgb(0%,0%,0%);stroke-opacity:1;stroke-miterlimit:10;\" d=\"M 188.671875 208.800781 C 188.671875 212.398438 183.273438 212.398438 183.273438 208.800781 C 183.273438 205.199219 188.671875 205.199219 188.671875 208.800781 \"/>\n",
       "<path style=\"fill:none;stroke-width:0.75;stroke-linecap:round;stroke-linejoin:round;stroke:rgb(0%,0%,0%);stroke-opacity:1;stroke-miterlimit:10;\" d=\"M 112.511719 143.34375 C 112.511719 146.945312 107.113281 146.945312 107.113281 143.34375 C 107.113281 139.746094 112.511719 139.746094 112.511719 143.34375 \"/>\n",
       "<path style=\"fill:none;stroke-width:0.75;stroke-linecap:round;stroke-linejoin:round;stroke:rgb(0%,0%,0%);stroke-opacity:1;stroke-miterlimit:10;\" d=\"M 104.050781 143.34375 C 104.050781 146.945312 98.652344 146.945312 98.652344 143.34375 C 98.652344 139.746094 104.050781 139.746094 104.050781 143.34375 \"/>\n",
       "<path style=\"fill:none;stroke-width:0.75;stroke-linecap:round;stroke-linejoin:round;stroke:rgb(0%,0%,0%);stroke-opacity:1;stroke-miterlimit:10;\" d=\"M 180.210938 156.4375 C 180.210938 160.035156 174.8125 160.035156 174.8125 156.4375 C 174.8125 152.835938 180.210938 152.835938 180.210938 156.4375 \"/>\n",
       "<path style=\"fill:none;stroke-width:0.75;stroke-linecap:round;stroke-linejoin:round;stroke:rgb(0%,0%,0%);stroke-opacity:1;stroke-miterlimit:10;\" d=\"M 87.125 104.074219 C 87.125 107.671875 81.726562 107.671875 81.726562 104.074219 C 81.726562 100.472656 87.125 100.472656 87.125 104.074219 \"/>\n",
       "<path style=\"fill:none;stroke-width:0.75;stroke-linecap:round;stroke-linejoin:round;stroke:rgb(0%,0%,0%);stroke-opacity:1;stroke-miterlimit:10;\" d=\"M 116.746094 208.800781 C 116.746094 212.398438 111.34375 212.398438 111.34375 208.800781 C 111.34375 205.199219 116.746094 205.199219 116.746094 208.800781 \"/>\n",
       "<path style=\"fill:none;stroke-width:0.75;stroke-linecap:round;stroke-linejoin:round;stroke:rgb(0%,0%,0%);stroke-opacity:1;stroke-miterlimit:10;\" d=\"M 226.753906 169.527344 C 226.753906 173.128906 221.351562 173.128906 221.351562 169.527344 C 221.351562 165.925781 226.753906 165.925781 226.753906 169.527344 \"/>\n",
       "<path style=\"fill:none;stroke-width:0.75;stroke-linecap:round;stroke-linejoin:round;stroke:rgb(0%,0%,0%);stroke-opacity:1;stroke-miterlimit:10;\" d=\"M 137.898438 117.164062 C 137.898438 120.761719 132.5 120.761719 132.5 117.164062 C 132.5 113.5625 137.898438 113.5625 137.898438 117.164062 \"/>\n",
       "<path style=\"fill:none;stroke-width:0.75;stroke-linecap:round;stroke-linejoin:round;stroke:rgb(0%,0%,0%);stroke-opacity:1;stroke-miterlimit:10;\" d=\"M 260.601562 130.253906 C 260.601562 133.855469 255.203125 133.855469 255.203125 130.253906 C 255.203125 126.65625 260.601562 126.65625 260.601562 130.253906 \"/>\n",
       "<path style=\"fill:none;stroke-width:0.75;stroke-linecap:round;stroke-linejoin:round;stroke:rgb(0%,0%,0%);stroke-opacity:1;stroke-miterlimit:10;\" d=\"M 192.90625 117.164062 C 192.90625 120.761719 187.503906 120.761719 187.503906 117.164062 C 187.503906 113.5625 192.90625 113.5625 192.90625 117.164062 \"/>\n",
       "<path style=\"fill:none;stroke-width:0.75;stroke-linecap:round;stroke-linejoin:round;stroke:rgb(0%,0%,0%);stroke-opacity:1;stroke-miterlimit:10;\" d=\"M 150.59375 208.800781 C 150.59375 212.398438 145.191406 212.398438 145.191406 208.800781 C 145.191406 205.199219 150.59375 205.199219 150.59375 208.800781 \"/>\n",
       "<path style=\"fill:none;stroke-width:0.75;stroke-linecap:round;stroke-linejoin:round;stroke:rgb(0%,0%,0%);stroke-opacity:1;stroke-miterlimit:10;\" d=\"M 201.367188 208.800781 C 201.367188 212.398438 195.964844 212.398438 195.964844 208.800781 C 195.964844 205.199219 201.367188 205.199219 201.367188 208.800781 \"/>\n",
       "<path style=\"fill:none;stroke-width:0.75;stroke-linecap:round;stroke-linejoin:round;stroke:rgb(0%,0%,0%);stroke-opacity:1;stroke-miterlimit:10;\" d=\"M 201.367188 143.34375 C 201.367188 146.945312 195.964844 146.945312 195.964844 143.34375 C 195.964844 139.746094 201.367188 139.746094 201.367188 143.34375 \"/>\n",
       "<path style=\"fill:none;stroke-width:0.75;stroke-linecap:round;stroke-linejoin:round;stroke:rgb(0%,0%,0%);stroke-opacity:1;stroke-miterlimit:10;\" d=\"M 324.070312 156.4375 C 324.070312 160.035156 318.667969 160.035156 318.667969 156.4375 C 318.667969 152.835938 324.070312 152.835938 324.070312 156.4375 \"/>\n",
       "<path style=\"fill:none;stroke-width:0.75;stroke-linecap:round;stroke-linejoin:round;stroke:rgb(0%,0%,0%);stroke-opacity:1;stroke-miterlimit:10;\" d=\"M 99.820312 208.800781 C 99.820312 212.398438 94.421875 212.398438 94.421875 208.800781 C 94.421875 205.199219 99.820312 205.199219 99.820312 208.800781 \"/>\n",
       "<path style=\"fill:none;stroke-width:0.75;stroke-linecap:round;stroke-linejoin:round;stroke:rgb(0%,0%,0%);stroke-opacity:1;stroke-miterlimit:10;\" d=\"M 87.125 208.800781 C 87.125 212.398438 81.726562 212.398438 81.726562 208.800781 C 81.726562 205.199219 87.125 205.199219 87.125 208.800781 \"/>\n",
       "<path style=\"fill:none;stroke-width:0.75;stroke-linecap:round;stroke-linejoin:round;stroke:rgb(0%,0%,0%);stroke-opacity:1;stroke-miterlimit:10;\" d=\"M 125.207031 90.980469 C 125.207031 94.582031 119.808594 94.582031 119.808594 90.980469 C 119.808594 87.382812 125.207031 87.382812 125.207031 90.980469 \"/>\n",
       "<path style=\"fill:none;stroke-width:0.75;stroke-linecap:round;stroke-linejoin:round;stroke:rgb(0%,0%,0%);stroke-opacity:1;stroke-miterlimit:10;\" d=\"M 82.894531 182.617188 C 82.894531 186.21875 77.496094 186.21875 77.496094 182.617188 C 77.496094 179.019531 82.894531 179.019531 82.894531 182.617188 \"/>\n",
       "<path style=\"fill:none;stroke-width:0.75;stroke-linecap:round;stroke-linejoin:round;stroke:rgb(0%,0%,0%);stroke-opacity:1;stroke-miterlimit:10;\" d=\"M 125.207031 169.527344 C 125.207031 173.128906 119.808594 173.128906 119.808594 169.527344 C 119.808594 165.925781 125.207031 165.925781 125.207031 169.527344 \"/>\n",
       "<path style=\"fill:none;stroke-width:0.75;stroke-linecap:round;stroke-linejoin:round;stroke:rgb(0%,0%,0%);stroke-opacity:1;stroke-miterlimit:10;\" d=\"M 82.894531 169.527344 C 82.894531 173.128906 77.496094 173.128906 77.496094 169.527344 C 77.496094 165.925781 82.894531 165.925781 82.894531 169.527344 \"/>\n",
       "<path style=\"fill:none;stroke-width:0.75;stroke-linecap:round;stroke-linejoin:round;stroke:rgb(0%,0%,0%);stroke-opacity:1;stroke-miterlimit:10;\" d=\"M 95.589844 117.164062 C 95.589844 120.761719 90.1875 120.761719 90.1875 117.164062 C 90.1875 113.5625 95.589844 113.5625 95.589844 117.164062 \"/>\n",
       "<path style=\"fill:none;stroke-width:0.75;stroke-linecap:round;stroke-linejoin:round;stroke:rgb(0%,0%,0%);stroke-opacity:1;stroke-miterlimit:10;\" d=\"M 108.28125 104.074219 C 108.28125 107.671875 102.882812 107.671875 102.882812 104.074219 C 102.882812 100.472656 108.28125 100.472656 108.28125 104.074219 \"/>\n",
       "<path style=\"fill:none;stroke-width:0.75;stroke-linecap:round;stroke-linejoin:round;stroke:rgb(0%,0%,0%);stroke-opacity:1;stroke-miterlimit:10;\" d=\"M 82.894531 169.527344 C 82.894531 173.128906 77.496094 173.128906 77.496094 169.527344 C 77.496094 165.925781 82.894531 165.925781 82.894531 169.527344 \"/>\n",
       "<path style=\"fill:none;stroke-width:0.75;stroke-linecap:round;stroke-linejoin:round;stroke:rgb(0%,0%,0%);stroke-opacity:1;stroke-miterlimit:10;\" d=\"M 214.058594 195.710938 C 214.058594 199.308594 208.660156 199.308594 208.660156 195.710938 C 208.660156 192.109375 214.058594 192.109375 214.058594 195.710938 \"/>\n",
       "<path style=\"fill:none;stroke-width:0.75;stroke-linecap:round;stroke-linejoin:round;stroke:rgb(0%,0%,0%);stroke-opacity:1;stroke-miterlimit:10;\" d=\"M 91.359375 117.164062 C 91.359375 120.761719 85.957031 120.761719 85.957031 117.164062 C 85.957031 113.5625 91.359375 113.5625 91.359375 117.164062 \"/>\n",
       "<path style=\"fill:none;stroke-width:0.75;stroke-linecap:round;stroke-linejoin:round;stroke:rgb(0%,0%,0%);stroke-opacity:1;stroke-miterlimit:10;\" d=\"M 116.746094 195.710938 C 116.746094 199.308594 111.34375 199.308594 111.34375 195.710938 C 111.34375 192.109375 116.746094 192.109375 116.746094 195.710938 \"/>\n",
       "<path style=\"fill:none;stroke-width:0.75;stroke-linecap:round;stroke-linejoin:round;stroke:rgb(0%,0%,0%);stroke-opacity:1;stroke-miterlimit:10;\" d=\"M 78.664062 169.527344 C 78.664062 173.128906 73.265625 173.128906 73.265625 169.527344 C 73.265625 165.925781 78.664062 165.925781 78.664062 169.527344 \"/>\n",
       "<path style=\"fill:none;stroke-width:0.75;stroke-linecap:round;stroke-linejoin:round;stroke:rgb(0%,0%,0%);stroke-opacity:1;stroke-miterlimit:10;\" d=\"M 239.445312 77.890625 C 239.445312 81.492188 234.046875 81.492188 234.046875 77.890625 C 234.046875 74.289062 239.445312 74.289062 239.445312 77.890625 \"/>\n",
       "<path style=\"fill:none;stroke-width:0.75;stroke-linecap:round;stroke-linejoin:round;stroke:rgb(0%,0%,0%);stroke-opacity:1;stroke-miterlimit:10;\" d=\"M 285.988281 182.617188 C 285.988281 186.21875 280.589844 186.21875 280.589844 182.617188 C 280.589844 179.019531 285.988281 179.019531 285.988281 182.617188 \"/>\n",
       "<path style=\"fill:none;stroke-width:0.75;stroke-linecap:round;stroke-linejoin:round;stroke:rgb(0%,0%,0%);stroke-opacity:1;stroke-miterlimit:10;\" d=\"M 99.820312 117.164062 C 99.820312 120.761719 94.421875 120.761719 94.421875 117.164062 C 94.421875 113.5625 99.820312 113.5625 99.820312 117.164062 \"/>\n",
       "<path style=\"fill:none;stroke-width:0.75;stroke-linecap:round;stroke-linejoin:round;stroke:rgb(0%,0%,0%);stroke-opacity:1;stroke-miterlimit:10;\" d=\"M 112.511719 169.527344 C 112.511719 173.128906 107.113281 173.128906 107.113281 169.527344 C 107.113281 165.925781 112.511719 165.925781 112.511719 169.527344 \"/>\n",
       "<path style=\"fill:none;stroke-width:0.75;stroke-linecap:round;stroke-linejoin:round;stroke:rgb(0%,0%,0%);stroke-opacity:1;stroke-miterlimit:10;\" d=\"M 120.976562 117.164062 C 120.976562 120.761719 115.574219 120.761719 115.574219 117.164062 C 115.574219 113.5625 120.976562 113.5625 120.976562 117.164062 \"/>\n",
       "<path style=\"fill:none;stroke-width:0.75;stroke-linecap:round;stroke-linejoin:round;stroke:rgb(0%,0%,0%);stroke-opacity:1;stroke-miterlimit:10;\" d=\"M 116.746094 143.34375 C 116.746094 146.945312 111.34375 146.945312 111.34375 143.34375 C 111.34375 139.746094 116.746094 139.746094 116.746094 143.34375 \"/>\n",
       "<path style=\"fill:none;stroke-width:0.75;stroke-linecap:round;stroke-linejoin:round;stroke:rgb(0%,0%,0%);stroke-opacity:1;stroke-miterlimit:10;\" d=\"M 222.523438 169.527344 C 222.523438 173.128906 217.121094 173.128906 217.121094 169.527344 C 217.121094 165.925781 222.523438 165.925781 222.523438 169.527344 \"/>\n",
       "<path style=\"fill:none;stroke-width:0.75;stroke-linecap:round;stroke-linejoin:round;stroke:rgb(0%,0%,0%);stroke-opacity:1;stroke-miterlimit:10;\" d=\"M 252.140625 195.710938 C 252.140625 199.308594 246.738281 199.308594 246.738281 195.710938 C 246.738281 192.109375 252.140625 192.109375 252.140625 195.710938 \"/>\n",
       "<path style=\"fill:none;stroke-width:0.75;stroke-linecap:round;stroke-linejoin:round;stroke:rgb(0%,0%,0%);stroke-opacity:1;stroke-miterlimit:10;\" d=\"M 74.433594 143.34375 C 74.433594 146.945312 69.035156 146.945312 69.035156 143.34375 C 69.035156 139.746094 74.433594 139.746094 74.433594 143.34375 \"/>\n",
       "<path style=\"fill:none;stroke-width:0.75;stroke-linecap:round;stroke-linejoin:round;stroke:rgb(0%,0%,0%);stroke-opacity:1;stroke-miterlimit:10;\" d=\"M 230.984375 130.253906 C 230.984375 133.855469 225.585938 133.855469 225.585938 130.253906 C 225.585938 126.65625 230.984375 126.65625 230.984375 130.253906 \"/>\n",
       "<path style=\"fill:none;stroke-width:0.75;stroke-linecap:round;stroke-linejoin:round;stroke:rgb(0%,0%,0%);stroke-opacity:1;stroke-miterlimit:10;\" d=\"M 120.976562 130.253906 C 120.976562 133.855469 115.574219 133.855469 115.574219 130.253906 C 115.574219 126.65625 120.976562 126.65625 120.976562 130.253906 \"/>\n",
       "<path style=\"fill:none;stroke-width:0.75;stroke-linecap:round;stroke-linejoin:round;stroke:rgb(0%,0%,0%);stroke-opacity:1;stroke-miterlimit:10;\" d=\"M 209.828125 182.617188 C 209.828125 186.21875 204.429688 186.21875 204.429688 182.617188 C 204.429688 179.019531 209.828125 179.019531 209.828125 182.617188 \"/>\n",
       "<path style=\"fill:none;stroke-width:0.75;stroke-linecap:round;stroke-linejoin:round;stroke:rgb(0%,0%,0%);stroke-opacity:1;stroke-miterlimit:10;\" d=\"M 137.898438 130.253906 C 137.898438 133.855469 132.5 133.855469 132.5 130.253906 C 132.5 126.65625 137.898438 126.65625 137.898438 130.253906 \"/>\n",
       "<path style=\"fill:none;stroke-width:0.75;stroke-linecap:round;stroke-linejoin:round;stroke:rgb(0%,0%,0%);stroke-opacity:1;stroke-miterlimit:10;\" d=\"M 82.894531 182.617188 C 82.894531 186.21875 77.496094 186.21875 77.496094 182.617188 C 77.496094 179.019531 82.894531 179.019531 82.894531 182.617188 \"/>\n",
       "<path style=\"fill:none;stroke-width:0.75;stroke-linecap:round;stroke-linejoin:round;stroke:rgb(0%,0%,0%);stroke-opacity:1;stroke-miterlimit:10;\" d=\"M 260.601562 182.617188 C 260.601562 186.21875 255.203125 186.21875 255.203125 182.617188 C 255.203125 179.019531 260.601562 179.019531 260.601562 182.617188 \"/>\n",
       "<path style=\"fill:none;stroke-width:0.75;stroke-linecap:round;stroke-linejoin:round;stroke:rgb(0%,0%,0%);stroke-opacity:1;stroke-miterlimit:10;\" d=\"M 137.898438 169.527344 C 137.898438 173.128906 132.5 173.128906 132.5 169.527344 C 132.5 165.925781 137.898438 165.925781 137.898438 169.527344 \"/>\n",
       "<path style=\"fill:none;stroke-width:0.75;stroke-linecap:round;stroke-linejoin:round;stroke:rgb(0%,0%,0%);stroke-opacity:1;stroke-miterlimit:10;\" d=\"M 205.597656 182.617188 C 205.597656 186.21875 200.199219 186.21875 200.199219 182.617188 C 200.199219 179.019531 205.597656 179.019531 205.597656 182.617188 \"/>\n",
       "<path style=\"fill:none;stroke-width:0.75;stroke-linecap:round;stroke-linejoin:round;stroke:rgb(0%,0%,0%);stroke-opacity:1;stroke-miterlimit:10;\" d=\"M 222.523438 143.34375 C 222.523438 146.945312 217.121094 146.945312 217.121094 143.34375 C 217.121094 139.746094 222.523438 139.746094 222.523438 143.34375 \"/>\n",
       "<path style=\"fill:none;stroke-width:0.75;stroke-linecap:round;stroke-linejoin:round;stroke:rgb(0%,0%,0%);stroke-opacity:1;stroke-miterlimit:10;\" d=\"M 137.898438 182.617188 C 137.898438 186.21875 132.5 186.21875 132.5 182.617188 C 132.5 179.019531 137.898438 179.019531 137.898438 182.617188 \"/>\n",
       "<path style=\"fill:none;stroke-width:0.75;stroke-linecap:round;stroke-linejoin:round;stroke:rgb(0%,0%,0%);stroke-opacity:1;stroke-miterlimit:10;\" d=\"M 269.0625 208.800781 C 269.0625 212.398438 263.664062 212.398438 263.664062 208.800781 C 263.664062 205.199219 269.0625 205.199219 269.0625 208.800781 \"/>\n",
       "<path style=\"fill:none;stroke-width:0.75;stroke-linecap:round;stroke-linejoin:round;stroke:rgb(0%,0%,0%);stroke-opacity:1;stroke-miterlimit:10;\" d=\"M 120.976562 143.34375 C 120.976562 146.945312 115.574219 146.945312 115.574219 143.34375 C 115.574219 139.746094 120.976562 139.746094 120.976562 143.34375 \"/>\n",
       "<path style=\"fill:none;stroke-width:0.75;stroke-linecap:round;stroke-linejoin:round;stroke:rgb(0%,0%,0%);stroke-opacity:1;stroke-miterlimit:10;\" d=\"M 137.898438 117.164062 C 137.898438 120.761719 132.5 120.761719 132.5 117.164062 C 132.5 113.5625 137.898438 113.5625 137.898438 117.164062 \"/>\n",
       "<path style=\"fill:none;stroke-width:0.75;stroke-linecap:round;stroke-linejoin:round;stroke:rgb(0%,0%,0%);stroke-opacity:1;stroke-miterlimit:10;\" d=\"M 95.589844 143.34375 C 95.589844 146.945312 90.1875 146.945312 90.1875 143.34375 C 90.1875 139.746094 95.589844 139.746094 95.589844 143.34375 \"/>\n",
       "<path style=\"fill:none;stroke-width:0.75;stroke-linecap:round;stroke-linejoin:round;stroke:rgb(0%,0%,0%);stroke-opacity:1;stroke-miterlimit:10;\" d=\"M 116.746094 117.164062 C 116.746094 120.761719 111.34375 120.761719 111.34375 117.164062 C 111.34375 113.5625 116.746094 113.5625 116.746094 117.164062 \"/>\n",
       "<path style=\"fill:none;stroke-width:0.75;stroke-linecap:round;stroke-linejoin:round;stroke:rgb(0%,0%,0%);stroke-opacity:1;stroke-miterlimit:10;\" d=\"M 159.054688 156.4375 C 159.054688 160.035156 153.65625 160.035156 153.65625 156.4375 C 153.65625 152.835938 159.054688 152.835938 159.054688 156.4375 \"/>\n",
       "<path style=\"fill:none;stroke-width:0.75;stroke-linecap:round;stroke-linejoin:round;stroke:rgb(0%,0%,0%);stroke-opacity:1;stroke-miterlimit:10;\" d=\"M 201.367188 208.800781 C 201.367188 212.398438 195.964844 212.398438 195.964844 208.800781 C 195.964844 205.199219 201.367188 205.199219 201.367188 208.800781 \"/>\n",
       "<path style=\"fill:none;stroke-width:0.75;stroke-linecap:round;stroke-linejoin:round;stroke:rgb(0%,0%,0%);stroke-opacity:1;stroke-miterlimit:10;\" d=\"M 209.828125 117.164062 C 209.828125 120.761719 204.429688 120.761719 204.429688 117.164062 C 204.429688 113.5625 209.828125 113.5625 209.828125 117.164062 \"/>\n",
       "<path style=\"fill:none;stroke-width:0.75;stroke-linecap:round;stroke-linejoin:round;stroke:rgb(0%,0%,0%);stroke-opacity:1;stroke-miterlimit:10;\" d=\"M 302.914062 208.800781 C 302.914062 212.398438 297.511719 212.398438 297.511719 208.800781 C 297.511719 205.199219 302.914062 205.199219 302.914062 208.800781 \"/>\n",
       "<path style=\"fill:none;stroke-width:0.75;stroke-linecap:round;stroke-linejoin:round;stroke:rgb(0%,0%,0%);stroke-opacity:1;stroke-miterlimit:10;\" d=\"M 120.976562 182.617188 C 120.976562 186.21875 115.574219 186.21875 115.574219 182.617188 C 115.574219 179.019531 120.976562 179.019531 120.976562 182.617188 \"/>\n",
       "<path style=\"fill:none;stroke-width:0.75;stroke-linecap:round;stroke-linejoin:round;stroke:rgb(0%,0%,0%);stroke-opacity:1;stroke-miterlimit:10;\" d=\"M 247.910156 195.710938 C 247.910156 199.308594 242.507812 199.308594 242.507812 195.710938 C 242.507812 192.109375 247.910156 192.109375 247.910156 195.710938 \"/>\n",
       "<path style=\"fill:none;stroke-width:0.75;stroke-linecap:round;stroke-linejoin:round;stroke:rgb(0%,0%,0%);stroke-opacity:1;stroke-miterlimit:10;\" d=\"M 252.140625 156.4375 C 252.140625 160.035156 246.738281 160.035156 246.738281 156.4375 C 246.738281 152.835938 252.140625 152.835938 252.140625 156.4375 \"/>\n",
       "<path style=\"fill:none;stroke-width:0.75;stroke-linecap:round;stroke-linejoin:round;stroke:rgb(0%,0%,0%);stroke-opacity:1;stroke-miterlimit:10;\" d=\"M 192.90625 208.800781 C 192.90625 212.398438 187.503906 212.398438 187.503906 208.800781 C 187.503906 205.199219 192.90625 205.199219 192.90625 208.800781 \"/>\n",
       "<path style=\"fill:none;stroke-width:0.75;stroke-linecap:round;stroke-linejoin:round;stroke:rgb(0%,0%,0%);stroke-opacity:1;stroke-miterlimit:10;\" d=\"M 167.519531 156.4375 C 167.519531 160.035156 162.117188 160.035156 162.117188 156.4375 C 162.117188 152.835938 167.519531 152.835938 167.519531 156.4375 \"/>\n",
       "<path style=\"fill:none;stroke-width:0.75;stroke-linecap:round;stroke-linejoin:round;stroke:rgb(0%,0%,0%);stroke-opacity:1;stroke-miterlimit:10;\" d=\"M 91.359375 117.164062 C 91.359375 120.761719 85.957031 120.761719 85.957031 117.164062 C 85.957031 113.5625 91.359375 113.5625 91.359375 117.164062 \"/>\n",
       "<path style=\"fill:none;stroke-width:0.75;stroke-linecap:round;stroke-linejoin:round;stroke:rgb(0%,0%,0%);stroke-opacity:1;stroke-miterlimit:10;\" d=\"M 78.664062 143.34375 C 78.664062 146.945312 73.265625 146.945312 73.265625 143.34375 C 73.265625 139.746094 78.664062 139.746094 78.664062 143.34375 \"/>\n",
       "<path style=\"fill:none;stroke-width:0.75;stroke-linecap:round;stroke-linejoin:round;stroke:rgb(0%,0%,0%);stroke-opacity:1;stroke-miterlimit:10;\" d=\"M 175.980469 143.34375 C 175.980469 146.945312 170.578125 146.945312 170.578125 143.34375 C 170.578125 139.746094 175.980469 139.746094 175.980469 143.34375 \"/>\n",
       "<path style=\"fill:none;stroke-width:0.75;stroke-linecap:round;stroke-linejoin:round;stroke:rgb(0%,0%,0%);stroke-opacity:1;stroke-miterlimit:10;\" d=\"M 247.910156 104.074219 C 247.910156 107.671875 242.507812 107.671875 242.507812 104.074219 C 242.507812 100.472656 247.910156 100.472656 247.910156 104.074219 \"/>\n",
       "<path style=\"fill:none;stroke-width:0.75;stroke-linecap:round;stroke-linejoin:round;stroke:rgb(0%,0%,0%);stroke-opacity:1;stroke-miterlimit:10;\" d=\"M 104.050781 156.4375 C 104.050781 160.035156 98.652344 160.035156 98.652344 156.4375 C 98.652344 152.835938 104.050781 152.835938 104.050781 156.4375 \"/>\n",
       "<path style=\"fill:none;stroke-width:0.75;stroke-linecap:round;stroke-linejoin:round;stroke:rgb(0%,0%,0%);stroke-opacity:1;stroke-miterlimit:10;\" d=\"M 129.4375 208.800781 C 129.4375 212.398438 124.039062 212.398438 124.039062 208.800781 C 124.039062 205.199219 129.4375 205.199219 129.4375 208.800781 \"/>\n",
       "<path style=\"fill:none;stroke-width:0.75;stroke-linecap:round;stroke-linejoin:round;stroke:rgb(0%,0%,0%);stroke-opacity:1;stroke-miterlimit:10;\" d=\"M 99.820312 117.164062 C 99.820312 120.761719 94.421875 120.761719 94.421875 117.164062 C 94.421875 113.5625 99.820312 113.5625 99.820312 117.164062 \"/>\n",
       "<path style=\"fill:none;stroke-width:0.75;stroke-linecap:round;stroke-linejoin:round;stroke:rgb(0%,0%,0%);stroke-opacity:1;stroke-miterlimit:10;\" d=\"M 116.746094 169.527344 C 116.746094 173.128906 111.34375 173.128906 111.34375 169.527344 C 111.34375 165.925781 116.746094 165.925781 116.746094 169.527344 \"/>\n",
       "<path style=\"fill:none;stroke-width:0.75;stroke-linecap:round;stroke-linejoin:round;stroke:rgb(0%,0%,0%);stroke-opacity:1;stroke-miterlimit:10;\" d=\"M 218.292969 169.527344 C 218.292969 173.128906 212.890625 173.128906 212.890625 169.527344 C 212.890625 165.925781 218.292969 165.925781 218.292969 169.527344 \"/>\n",
       "<path style=\"fill:none;stroke-width:0.75;stroke-linecap:round;stroke-linejoin:round;stroke:rgb(0%,0%,0%);stroke-opacity:1;stroke-miterlimit:10;\" d=\"M 167.519531 143.34375 C 167.519531 146.945312 162.117188 146.945312 162.117188 143.34375 C 162.117188 139.746094 167.519531 139.746094 167.519531 143.34375 \"/>\n",
       "<path style=\"fill:none;stroke-width:0.75;stroke-linecap:round;stroke-linejoin:round;stroke:rgb(0%,0%,0%);stroke-opacity:1;stroke-miterlimit:10;\" d=\"M 137.898438 182.617188 C 137.898438 186.21875 132.5 186.21875 132.5 182.617188 C 132.5 179.019531 137.898438 179.019531 137.898438 182.617188 \"/>\n",
       "<path style=\"fill:none;stroke-width:0.75;stroke-linecap:round;stroke-linejoin:round;stroke:rgb(0%,0%,0%);stroke-opacity:1;stroke-miterlimit:10;\" d=\"M 150.59375 182.617188 C 150.59375 186.21875 145.191406 186.21875 145.191406 182.617188 C 145.191406 179.019531 150.59375 179.019531 150.59375 182.617188 \"/>\n",
       "<path style=\"fill:none;stroke-width:0.75;stroke-linecap:round;stroke-linejoin:round;stroke:rgb(0%,0%,0%);stroke-opacity:1;stroke-miterlimit:10;\" d=\"M 247.910156 117.164062 C 247.910156 120.761719 242.507812 120.761719 242.507812 117.164062 C 242.507812 113.5625 247.910156 113.5625 247.910156 117.164062 \"/>\n",
       "<path style=\"fill:none;stroke-width:0.75;stroke-linecap:round;stroke-linejoin:round;stroke:rgb(0%,0%,0%);stroke-opacity:1;stroke-miterlimit:10;\" d=\"M 273.296875 195.710938 C 273.296875 199.308594 267.894531 199.308594 267.894531 195.710938 C 267.894531 192.109375 273.296875 192.109375 273.296875 195.710938 \"/>\n",
       "<path style=\"fill:none;stroke-width:0.75;stroke-linecap:round;stroke-linejoin:round;stroke:rgb(0%,0%,0%);stroke-opacity:1;stroke-miterlimit:10;\" d=\"M 239.445312 143.34375 C 239.445312 146.945312 234.046875 146.945312 234.046875 143.34375 C 234.046875 139.746094 239.445312 139.746094 239.445312 143.34375 \"/>\n",
       "<path style=\"fill:none;stroke-width:0.75;stroke-linecap:round;stroke-linejoin:round;stroke:rgb(0%,0%,0%);stroke-opacity:1;stroke-miterlimit:10;\" d=\"M 163.285156 156.4375 C 163.285156 160.035156 157.886719 160.035156 157.886719 156.4375 C 157.886719 152.835938 163.285156 152.835938 163.285156 156.4375 \"/>\n",
       "<path style=\"fill:none;stroke-width:0.75;stroke-linecap:round;stroke-linejoin:round;stroke:rgb(0%,0%,0%);stroke-opacity:1;stroke-miterlimit:10;\" d=\"M 99.820312 130.253906 C 99.820312 133.855469 94.421875 133.855469 94.421875 130.253906 C 94.421875 126.65625 99.820312 126.65625 99.820312 130.253906 \"/>\n",
       "<path style=\"fill:none;stroke-width:0.75;stroke-linecap:round;stroke-linejoin:round;stroke:rgb(0%,0%,0%);stroke-opacity:1;stroke-miterlimit:10;\" d=\"M 226.753906 64.800781 C 226.753906 68.398438 221.351562 68.398438 221.351562 64.800781 C 221.351562 61.199219 226.753906 61.199219 226.753906 64.800781 \"/>\n",
       "<path style=\"fill:none;stroke-width:0.75;stroke-linecap:round;stroke-linejoin:round;stroke:rgb(0%,0%,0%);stroke-opacity:1;stroke-miterlimit:10;\" d=\"M 201.367188 143.34375 C 201.367188 146.945312 195.964844 146.945312 195.964844 143.34375 C 195.964844 139.746094 201.367188 139.746094 201.367188 143.34375 \"/>\n",
       "<path style=\"fill:none;stroke-width:0.75;stroke-linecap:round;stroke-linejoin:round;stroke:rgb(0%,0%,0%);stroke-opacity:1;stroke-miterlimit:10;\" d=\"M 150.59375 143.34375 C 150.59375 146.945312 145.191406 146.945312 145.191406 143.34375 C 145.191406 139.746094 150.59375 139.746094 150.59375 143.34375 \"/>\n",
       "<path style=\"fill:none;stroke-width:0.75;stroke-linecap:round;stroke-linejoin:round;stroke:rgb(0%,0%,0%);stroke-opacity:1;stroke-miterlimit:10;\" d=\"M 129.4375 117.164062 C 129.4375 120.761719 124.039062 120.761719 124.039062 117.164062 C 124.039062 113.5625 129.4375 113.5625 129.4375 117.164062 \"/>\n",
       "<path style=\"fill:none;stroke-width:0.75;stroke-linecap:round;stroke-linejoin:round;stroke:rgb(0%,0%,0%);stroke-opacity:1;stroke-miterlimit:10;\" d=\"M 256.371094 130.253906 C 256.371094 133.855469 250.972656 133.855469 250.972656 130.253906 C 250.972656 126.65625 256.371094 126.65625 256.371094 130.253906 \"/>\n",
       "<path style=\"fill:none;stroke-width:0.75;stroke-linecap:round;stroke-linejoin:round;stroke:rgb(0%,0%,0%);stroke-opacity:1;stroke-miterlimit:10;\" d=\"M 298.683594 195.710938 C 298.683594 199.308594 293.28125 199.308594 293.28125 195.710938 C 293.28125 192.109375 298.683594 192.109375 298.683594 195.710938 \"/>\n",
       "<path style=\"fill:none;stroke-width:0.75;stroke-linecap:round;stroke-linejoin:round;stroke:rgb(0%,0%,0%);stroke-opacity:1;stroke-miterlimit:10;\" d=\"M 184.441406 195.710938 C 184.441406 199.308594 179.042969 199.308594 179.042969 195.710938 C 179.042969 192.109375 184.441406 192.109375 184.441406 195.710938 \"/>\n",
       "<path style=\"fill:none;stroke-width:0.75;stroke-linecap:round;stroke-linejoin:round;stroke:rgb(0%,0%,0%);stroke-opacity:1;stroke-miterlimit:10;\" d=\"M 218.292969 208.800781 C 218.292969 212.398438 212.890625 212.398438 212.890625 208.800781 C 212.890625 205.199219 218.292969 205.199219 218.292969 208.800781 \"/>\n",
       "<path style=\"fill:none;stroke-width:0.75;stroke-linecap:round;stroke-linejoin:round;stroke:rgb(0%,0%,0%);stroke-opacity:1;stroke-miterlimit:10;\" d=\"M 137.898438 169.527344 C 137.898438 173.128906 132.5 173.128906 132.5 169.527344 C 132.5 165.925781 137.898438 165.925781 137.898438 169.527344 \"/>\n",
       "<path style=\"fill:none;stroke-width:0.75;stroke-linecap:round;stroke-linejoin:round;stroke:rgb(0%,0%,0%);stroke-opacity:1;stroke-miterlimit:10;\" d=\"M 209.828125 208.800781 C 209.828125 212.398438 204.429688 212.398438 204.429688 208.800781 C 204.429688 205.199219 209.828125 205.199219 209.828125 208.800781 \"/>\n",
       "<path style=\"fill:none;stroke-width:0.75;stroke-linecap:round;stroke-linejoin:round;stroke:rgb(0%,0%,0%);stroke-opacity:1;stroke-miterlimit:10;\" d=\"M 108.28125 104.074219 C 108.28125 107.671875 102.882812 107.671875 102.882812 104.074219 C 102.882812 100.472656 108.28125 100.472656 108.28125 104.074219 \"/>\n",
       "<path style=\"fill:none;stroke-width:0.75;stroke-linecap:round;stroke-linejoin:round;stroke:rgb(0%,0%,0%);stroke-opacity:1;stroke-miterlimit:10;\" d=\"M 78.664062 104.074219 C 78.664062 107.671875 73.265625 107.671875 73.265625 104.074219 C 73.265625 100.472656 78.664062 100.472656 78.664062 104.074219 \"/>\n",
       "<path style=\"fill:none;stroke-width:0.75;stroke-linecap:round;stroke-linejoin:round;stroke:rgb(0%,0%,0%);stroke-opacity:1;stroke-miterlimit:10;\" d=\"M 180.210938 156.4375 C 180.210938 160.035156 174.8125 160.035156 174.8125 156.4375 C 174.8125 152.835938 180.210938 152.835938 180.210938 156.4375 \"/>\n",
       "<path style=\"fill:none;stroke-width:0.75;stroke-linecap:round;stroke-linejoin:round;stroke:rgb(0%,0%,0%);stroke-opacity:1;stroke-miterlimit:10;\" d=\"M 311.375 195.710938 C 311.375 199.308594 305.976562 199.308594 305.976562 195.710938 C 305.976562 192.109375 311.375 192.109375 311.375 195.710938 \"/>\n",
       "<path style=\"fill:none;stroke-width:0.75;stroke-linecap:round;stroke-linejoin:round;stroke:rgb(0%,0%,0%);stroke-opacity:1;stroke-miterlimit:10;\" d=\"M 252.140625 182.617188 C 252.140625 186.21875 246.738281 186.21875 246.738281 182.617188 C 246.738281 179.019531 252.140625 179.019531 252.140625 182.617188 \"/>\n",
       "<path style=\"fill:none;stroke-width:0.75;stroke-linecap:round;stroke-linejoin:round;stroke:rgb(0%,0%,0%);stroke-opacity:1;stroke-miterlimit:10;\" d=\"M 142.132812 169.527344 C 142.132812 173.128906 136.730469 173.128906 136.730469 169.527344 C 136.730469 165.925781 142.132812 165.925781 142.132812 169.527344 \"/>\n",
       "<path style=\"fill:none;stroke-width:0.75;stroke-linecap:round;stroke-linejoin:round;stroke:rgb(0%,0%,0%);stroke-opacity:1;stroke-miterlimit:10;\" d=\"M 209.828125 143.34375 C 209.828125 146.945312 204.429688 146.945312 204.429688 143.34375 C 204.429688 139.746094 209.828125 139.746094 209.828125 143.34375 \"/>\n",
       "<path style=\"fill:none;stroke-width:0.75;stroke-linecap:round;stroke-linejoin:round;stroke:rgb(0%,0%,0%);stroke-opacity:1;stroke-miterlimit:10;\" d=\"M 222.523438 104.074219 C 222.523438 107.671875 217.121094 107.671875 217.121094 104.074219 C 217.121094 100.472656 222.523438 100.472656 222.523438 104.074219 \"/>\n",
       "<path style=\"fill:none;stroke-width:0.75;stroke-linecap:round;stroke-linejoin:round;stroke:rgb(0%,0%,0%);stroke-opacity:1;stroke-miterlimit:10;\" d=\"M 273.296875 169.527344 C 273.296875 173.128906 267.894531 173.128906 267.894531 169.527344 C 267.894531 165.925781 273.296875 165.925781 273.296875 169.527344 \"/>\n",
       "<path style=\"fill:none;stroke-width:0.75;stroke-linecap:round;stroke-linejoin:round;stroke:rgb(0%,0%,0%);stroke-opacity:1;stroke-miterlimit:10;\" d=\"M 230.984375 130.253906 C 230.984375 133.855469 225.585938 133.855469 225.585938 130.253906 C 225.585938 126.65625 230.984375 126.65625 230.984375 130.253906 \"/>\n",
       "<path style=\"fill:none;stroke-width:0.75;stroke-linecap:round;stroke-linejoin:round;stroke:rgb(0%,0%,0%);stroke-opacity:1;stroke-miterlimit:10;\" d=\"M 78.664062 104.074219 C 78.664062 107.671875 73.265625 107.671875 73.265625 104.074219 C 73.265625 100.472656 78.664062 100.472656 78.664062 104.074219 \"/>\n",
       "<path style=\"fill:none;stroke-width:0.75;stroke-linecap:round;stroke-linejoin:round;stroke:rgb(0%,0%,0%);stroke-opacity:1;stroke-miterlimit:10;\" d=\"M 192.90625 182.617188 C 192.90625 186.21875 187.503906 186.21875 187.503906 182.617188 C 187.503906 179.019531 192.90625 179.019531 192.90625 182.617188 \"/>\n",
       "<path style=\"fill:none;stroke-width:0.75;stroke-linecap:round;stroke-linejoin:round;stroke:rgb(0%,0%,0%);stroke-opacity:1;stroke-miterlimit:10;\" d=\"M 91.359375 195.710938 C 91.359375 199.308594 85.957031 199.308594 85.957031 195.710938 C 85.957031 192.109375 91.359375 192.109375 91.359375 195.710938 \"/>\n",
       "<path style=\"fill:none;stroke-width:0.75;stroke-linecap:round;stroke-linejoin:round;stroke:rgb(0%,0%,0%);stroke-opacity:1;stroke-miterlimit:10;\" d=\"M 163.285156 169.527344 C 163.285156 173.128906 157.886719 173.128906 157.886719 169.527344 C 157.886719 165.925781 163.285156 165.925781 163.285156 169.527344 \"/>\n",
       "<path style=\"fill:none;stroke-width:0.75;stroke-linecap:round;stroke-linejoin:round;stroke:rgb(0%,0%,0%);stroke-opacity:1;stroke-miterlimit:10;\" d=\"M 230.984375 117.164062 C 230.984375 120.761719 225.585938 120.761719 225.585938 117.164062 C 225.585938 113.5625 230.984375 113.5625 230.984375 117.164062 \"/>\n",
       "<path style=\"fill:none;stroke-width:0.75;stroke-linecap:round;stroke-linejoin:round;stroke:rgb(0%,0%,0%);stroke-opacity:1;stroke-miterlimit:10;\" d=\"M 277.527344 195.710938 C 277.527344 199.308594 272.125 199.308594 272.125 195.710938 C 272.125 192.109375 277.527344 192.109375 277.527344 195.710938 \"/>\n",
       "<path style=\"fill:none;stroke-width:0.75;stroke-linecap:round;stroke-linejoin:round;stroke:rgb(0%,0%,0%);stroke-opacity:1;stroke-miterlimit:10;\" d=\"M 87.125 156.4375 C 87.125 160.035156 81.726562 160.035156 81.726562 156.4375 C 81.726562 152.835938 87.125 152.835938 87.125 156.4375 \"/>\n",
       "<path style=\"fill:none;stroke-width:0.75;stroke-linecap:round;stroke-linejoin:round;stroke:rgb(0%,0%,0%);stroke-opacity:1;stroke-miterlimit:10;\" d=\"M 226.753906 64.800781 C 226.753906 68.398438 221.351562 68.398438 221.351562 64.800781 C 221.351562 61.199219 226.753906 61.199219 226.753906 64.800781 \"/>\n",
       "<path style=\"fill:none;stroke-width:0.75;stroke-linecap:round;stroke-linejoin:round;stroke:rgb(0%,0%,0%);stroke-opacity:1;stroke-miterlimit:10;\" d=\"M 214.058594 156.4375 C 214.058594 160.035156 208.660156 160.035156 208.660156 156.4375 C 208.660156 152.835938 214.058594 152.835938 214.058594 156.4375 \"/>\n",
       "<path style=\"fill:none;stroke-width:0.75;stroke-linecap:round;stroke-linejoin:round;stroke:rgb(0%,0%,0%);stroke-opacity:1;stroke-miterlimit:10;\" d=\"M 87.125 77.890625 C 87.125 81.492188 81.726562 81.492188 81.726562 77.890625 C 81.726562 74.289062 87.125 74.289062 87.125 77.890625 \"/>\n",
       "<path style=\"fill:none;stroke-width:0.75;stroke-linecap:round;stroke-linejoin:round;stroke:rgb(0%,0%,0%);stroke-opacity:1;stroke-miterlimit:10;\" d=\"M 116.746094 130.253906 C 116.746094 133.855469 111.34375 133.855469 111.34375 130.253906 C 111.34375 126.65625 116.746094 126.65625 116.746094 130.253906 \"/>\n",
       "<path style=\"fill:none;stroke-width:0.75;stroke-linecap:round;stroke-linejoin:round;stroke:rgb(0%,0%,0%);stroke-opacity:1;stroke-miterlimit:10;\" d=\"M 315.605469 208.800781 C 315.605469 212.398438 310.207031 212.398438 310.207031 208.800781 C 310.207031 205.199219 315.605469 205.199219 315.605469 208.800781 \"/>\n",
       "<path style=\"fill:none;stroke-width:0.75;stroke-linecap:round;stroke-linejoin:round;stroke:rgb(0%,0%,0%);stroke-opacity:1;stroke-miterlimit:10;\" d=\"M 294.449219 208.800781 C 294.449219 212.398438 289.050781 212.398438 289.050781 208.800781 C 289.050781 205.199219 294.449219 205.199219 294.449219 208.800781 \"/>\n",
       "<path style=\"fill:none;stroke-width:0.75;stroke-linecap:round;stroke-linejoin:round;stroke:rgb(0%,0%,0%);stroke-opacity:1;stroke-miterlimit:10;\" d=\"M 222.523438 143.34375 C 222.523438 146.945312 217.121094 146.945312 217.121094 143.34375 C 217.121094 139.746094 222.523438 139.746094 222.523438 143.34375 \"/>\n",
       "<path style=\"fill:none;stroke-width:0.75;stroke-linecap:round;stroke-linejoin:round;stroke:rgb(0%,0%,0%);stroke-opacity:1;stroke-miterlimit:10;\" d=\"M 209.828125 182.617188 C 209.828125 186.21875 204.429688 186.21875 204.429688 182.617188 C 204.429688 179.019531 209.828125 179.019531 209.828125 182.617188 \"/>\n",
       "<path style=\"fill:none;stroke-width:0.75;stroke-linecap:round;stroke-linejoin:round;stroke:rgb(0%,0%,0%);stroke-opacity:1;stroke-miterlimit:10;\" d=\"M 146.363281 182.617188 C 146.363281 186.21875 140.960938 186.21875 140.960938 182.617188 C 140.960938 179.019531 146.363281 179.019531 146.363281 182.617188 \"/>\n",
       "<path style=\"fill:none;stroke-width:0.75;stroke-linecap:round;stroke-linejoin:round;stroke:rgb(0%,0%,0%);stroke-opacity:1;stroke-miterlimit:10;\" d=\"M 247.910156 208.800781 C 247.910156 212.398438 242.507812 212.398438 242.507812 208.800781 C 242.507812 205.199219 247.910156 205.199219 247.910156 208.800781 \"/>\n",
       "<path style=\"fill:none;stroke-width:0.75;stroke-linecap:round;stroke-linejoin:round;stroke:rgb(0%,0%,0%);stroke-opacity:1;stroke-miterlimit:10;\" d=\"M 129.4375 143.34375 C 129.4375 146.945312 124.039062 146.945312 124.039062 143.34375 C 124.039062 139.746094 129.4375 139.746094 129.4375 143.34375 \"/>\n",
       "<path style=\"fill:none;stroke-width:0.75;stroke-linecap:round;stroke-linejoin:round;stroke:rgb(0%,0%,0%);stroke-opacity:1;stroke-miterlimit:10;\" d=\"M 252.140625 169.527344 C 252.140625 173.128906 246.738281 173.128906 246.738281 169.527344 C 246.738281 165.925781 252.140625 165.925781 252.140625 169.527344 \"/>\n",
       "<path style=\"fill:none;stroke-width:0.75;stroke-linecap:round;stroke-linejoin:round;stroke:rgb(0%,0%,0%);stroke-opacity:1;stroke-miterlimit:10;\" d=\"M 95.589844 117.164062 C 95.589844 120.761719 90.1875 120.761719 90.1875 117.164062 C 90.1875 113.5625 95.589844 113.5625 95.589844 117.164062 \"/>\n",
       "<path style=\"fill:none;stroke-width:0.75;stroke-linecap:round;stroke-linejoin:round;stroke:rgb(0%,0%,0%);stroke-opacity:1;stroke-miterlimit:10;\" d=\"M 247.910156 182.617188 C 247.910156 186.21875 242.507812 186.21875 242.507812 182.617188 C 242.507812 179.019531 247.910156 179.019531 247.910156 182.617188 \"/>\n",
       "<path style=\"fill:none;stroke-width:0.75;stroke-linecap:round;stroke-linejoin:round;stroke:rgb(0%,0%,0%);stroke-opacity:1;stroke-miterlimit:10;\" d=\"M 273.296875 156.4375 C 273.296875 160.035156 267.894531 160.035156 267.894531 156.4375 C 267.894531 152.835938 273.296875 152.835938 273.296875 156.4375 \"/>\n",
       "<path style=\"fill:none;stroke-width:0.75;stroke-linecap:round;stroke-linejoin:round;stroke:rgb(0%,0%,0%);stroke-opacity:1;stroke-miterlimit:10;\" d=\"M 285.988281 156.4375 C 285.988281 160.035156 280.589844 160.035156 280.589844 156.4375 C 280.589844 152.835938 285.988281 152.835938 285.988281 156.4375 \"/>\n",
       "<path style=\"fill:none;stroke-width:0.75;stroke-linecap:round;stroke-linejoin:round;stroke:rgb(0%,0%,0%);stroke-opacity:1;stroke-miterlimit:10;\" d=\"M 78.664062 104.074219 C 78.664062 107.671875 73.265625 107.671875 73.265625 104.074219 C 73.265625 100.472656 78.664062 100.472656 78.664062 104.074219 \"/>\n",
       "<path style=\"fill:none;stroke-width:0.75;stroke-linecap:round;stroke-linejoin:round;stroke:rgb(0%,0%,0%);stroke-opacity:1;stroke-miterlimit:10;\" d=\"M 205.597656 143.34375 C 205.597656 146.945312 200.199219 146.945312 200.199219 143.34375 C 200.199219 139.746094 205.597656 139.746094 205.597656 143.34375 \"/>\n",
       "<path style=\"fill:none;stroke-width:0.75;stroke-linecap:round;stroke-linejoin:round;stroke:rgb(0%,0%,0%);stroke-opacity:1;stroke-miterlimit:10;\" d=\"M 235.214844 169.527344 C 235.214844 173.128906 229.816406 173.128906 229.816406 169.527344 C 229.816406 165.925781 235.214844 165.925781 235.214844 169.527344 \"/>\n",
       "<path style=\"fill:none;stroke-width:0.75;stroke-linecap:round;stroke-linejoin:round;stroke:rgb(0%,0%,0%);stroke-opacity:1;stroke-miterlimit:10;\" d=\"M 252.140625 143.34375 C 252.140625 146.945312 246.738281 146.945312 246.738281 143.34375 C 246.738281 139.746094 252.140625 139.746094 252.140625 143.34375 \"/>\n",
       "<path style=\"fill:none;stroke-width:0.75;stroke-linecap:round;stroke-linejoin:round;stroke:rgb(0%,0%,0%);stroke-opacity:1;stroke-miterlimit:10;\" d=\"M 260.601562 169.527344 C 260.601562 173.128906 255.203125 173.128906 255.203125 169.527344 C 255.203125 165.925781 260.601562 165.925781 260.601562 169.527344 \"/>\n",
       "<path style=\"fill:none;stroke-width:0.75;stroke-linecap:round;stroke-linejoin:round;stroke:rgb(0%,0%,0%);stroke-opacity:1;stroke-miterlimit:10;\" d=\"M 167.519531 182.617188 C 167.519531 186.21875 162.117188 186.21875 162.117188 182.617188 C 162.117188 179.019531 167.519531 179.019531 167.519531 182.617188 \"/>\n",
       "<path style=\"fill:none;stroke-width:0.75;stroke-linecap:round;stroke-linejoin:round;stroke:rgb(0%,0%,0%);stroke-opacity:1;stroke-miterlimit:10;\" d=\"M 146.363281 156.4375 C 146.363281 160.035156 140.960938 160.035156 140.960938 156.4375 C 140.960938 152.835938 146.363281 152.835938 146.363281 156.4375 \"/>\n",
       "<path style=\"fill:none;stroke-width:0.75;stroke-linecap:round;stroke-linejoin:round;stroke:rgb(0%,0%,0%);stroke-opacity:1;stroke-miterlimit:10;\" d=\"M 222.523438 90.980469 C 222.523438 94.582031 217.121094 94.582031 217.121094 90.980469 C 217.121094 87.382812 222.523438 87.382812 222.523438 90.980469 \"/>\n",
       "<path style=\"fill:none;stroke-width:0.75;stroke-linecap:round;stroke-linejoin:round;stroke:rgb(0%,0%,0%);stroke-opacity:1;stroke-miterlimit:10;\" d=\"M 201.367188 130.253906 C 201.367188 133.855469 195.964844 133.855469 195.964844 130.253906 C 195.964844 126.65625 201.367188 126.65625 201.367188 130.253906 \"/>\n",
       "<path style=\"fill:none;stroke-width:0.75;stroke-linecap:round;stroke-linejoin:round;stroke:rgb(0%,0%,0%);stroke-opacity:1;stroke-miterlimit:10;\" d=\"M 125.207031 143.34375 C 125.207031 146.945312 119.808594 146.945312 119.808594 143.34375 C 119.808594 139.746094 125.207031 139.746094 125.207031 143.34375 \"/>\n",
       "<path style=\"fill:none;stroke-width:0.75;stroke-linecap:round;stroke-linejoin:round;stroke:rgb(0%,0%,0%);stroke-opacity:1;stroke-miterlimit:10;\" d=\"M 91.359375 77.890625 C 91.359375 81.492188 85.957031 81.492188 85.957031 77.890625 C 85.957031 74.289062 91.359375 74.289062 91.359375 77.890625 \"/>\n",
       "<path style=\"fill:none;stroke-width:0.75;stroke-linecap:round;stroke-linejoin:round;stroke:rgb(0%,0%,0%);stroke-opacity:1;stroke-miterlimit:10;\" d=\"M 230.984375 169.527344 C 230.984375 173.128906 225.585938 173.128906 225.585938 169.527344 C 225.585938 165.925781 230.984375 165.925781 230.984375 169.527344 \"/>\n",
       "<path style=\"fill:none;stroke-width:0.75;stroke-linecap:round;stroke-linejoin:round;stroke:rgb(0%,0%,0%);stroke-opacity:1;stroke-miterlimit:10;\" d=\"M 273.296875 208.800781 C 273.296875 212.398438 267.894531 212.398438 267.894531 208.800781 C 267.894531 205.199219 273.296875 205.199219 273.296875 208.800781 \"/>\n",
       "<path style=\"fill:none;stroke-width:0.75;stroke-linecap:round;stroke-linejoin:round;stroke:rgb(0%,0%,0%);stroke-opacity:1;stroke-miterlimit:10;\" d=\"M 163.285156 156.4375 C 163.285156 160.035156 157.886719 160.035156 157.886719 156.4375 C 157.886719 152.835938 163.285156 152.835938 163.285156 156.4375 \"/>\n",
       "<path style=\"fill:none;stroke-width:0.75;stroke-linecap:round;stroke-linejoin:round;stroke:rgb(0%,0%,0%);stroke-opacity:1;stroke-miterlimit:10;\" d=\"M 209.828125 195.710938 C 209.828125 199.308594 204.429688 199.308594 204.429688 195.710938 C 204.429688 192.109375 209.828125 192.109375 209.828125 195.710938 \"/>\n",
       "<path style=\"fill:none;stroke-width:0.75;stroke-linecap:round;stroke-linejoin:round;stroke:rgb(0%,0%,0%);stroke-opacity:1;stroke-miterlimit:10;\" d=\"M 95.589844 169.527344 C 95.589844 173.128906 90.1875 173.128906 90.1875 169.527344 C 90.1875 165.925781 95.589844 165.925781 95.589844 169.527344 \"/>\n",
       "<path style=\"fill:none;stroke-width:0.75;stroke-linecap:round;stroke-linejoin:round;stroke:rgb(0%,0%,0%);stroke-opacity:1;stroke-miterlimit:10;\" d=\"M 116.746094 104.074219 C 116.746094 107.671875 111.34375 107.671875 111.34375 104.074219 C 111.34375 100.472656 116.746094 100.472656 116.746094 104.074219 \"/>\n",
       "<path style=\"fill:none;stroke-width:0.75;stroke-linecap:round;stroke-linejoin:round;stroke:rgb(0%,0%,0%);stroke-opacity:1;stroke-miterlimit:10;\" d=\"M 247.910156 64.800781 C 247.910156 68.398438 242.507812 68.398438 242.507812 64.800781 C 242.507812 61.199219 247.910156 61.199219 247.910156 64.800781 \"/>\n",
       "<path style=\"fill:none;stroke-width:0.75;stroke-linecap:round;stroke-linejoin:round;stroke:rgb(0%,0%,0%);stroke-opacity:1;stroke-miterlimit:10;\" d=\"M 120.976562 143.34375 C 120.976562 146.945312 115.574219 146.945312 115.574219 143.34375 C 115.574219 139.746094 120.976562 139.746094 120.976562 143.34375 \"/>\n",
       "<path style=\"fill:none;stroke-width:0.75;stroke-linecap:round;stroke-linejoin:round;stroke:rgb(0%,0%,0%);stroke-opacity:1;stroke-miterlimit:10;\" d=\"M 104.050781 156.4375 C 104.050781 160.035156 98.652344 160.035156 98.652344 156.4375 C 98.652344 152.835938 104.050781 152.835938 104.050781 156.4375 \"/>\n",
       "<path style=\"fill:none;stroke-width:0.75;stroke-linecap:round;stroke-linejoin:round;stroke:rgb(0%,0%,0%);stroke-opacity:1;stroke-miterlimit:10;\" d=\"M 311.375 169.527344 C 311.375 173.128906 305.976562 173.128906 305.976562 169.527344 C 305.976562 165.925781 311.375 165.925781 311.375 169.527344 \"/>\n",
       "<path style=\"fill:none;stroke-width:0.75;stroke-linecap:round;stroke-linejoin:round;stroke:rgb(0%,0%,0%);stroke-opacity:1;stroke-miterlimit:10;\" d=\"M 95.589844 169.527344 C 95.589844 173.128906 90.1875 173.128906 90.1875 169.527344 C 90.1875 165.925781 95.589844 165.925781 95.589844 169.527344 \"/>\n",
       "<path style=\"fill:none;stroke-width:0.75;stroke-linecap:round;stroke-linejoin:round;stroke:rgb(0%,0%,0%);stroke-opacity:1;stroke-miterlimit:10;\" d=\"M 137.898438 143.34375 C 137.898438 146.945312 132.5 146.945312 132.5 143.34375 C 132.5 139.746094 137.898438 139.746094 137.898438 143.34375 \"/>\n",
       "<path style=\"fill:none;stroke-width:0.75;stroke-linecap:round;stroke-linejoin:round;stroke:rgb(0%,0%,0%);stroke-opacity:1;stroke-miterlimit:10;\" d=\"M 214.058594 77.890625 C 214.058594 81.492188 208.660156 81.492188 208.660156 77.890625 C 208.660156 74.289062 214.058594 74.289062 214.058594 77.890625 \"/>\n",
       "<path style=\"fill:none;stroke-width:0.75;stroke-linecap:round;stroke-linejoin:round;stroke:rgb(0%,0%,0%);stroke-opacity:1;stroke-miterlimit:10;\" d=\"M 78.664062 182.617188 C 78.664062 186.21875 73.265625 186.21875 73.265625 182.617188 C 73.265625 179.019531 78.664062 179.019531 78.664062 182.617188 \"/>\n",
       "<path style=\"fill:none;stroke-width:0.75;stroke-linecap:round;stroke-linejoin:round;stroke:rgb(0%,0%,0%);stroke-opacity:1;stroke-miterlimit:10;\" d=\"M 91.359375 143.34375 C 91.359375 146.945312 85.957031 146.945312 85.957031 143.34375 C 85.957031 139.746094 91.359375 139.746094 91.359375 143.34375 \"/>\n",
       "<path style=\"fill:none;stroke-width:0.75;stroke-linecap:round;stroke-linejoin:round;stroke:rgb(0%,0%,0%);stroke-opacity:1;stroke-miterlimit:10;\" d=\"M 180.210938 208.800781 C 180.210938 212.398438 174.8125 212.398438 174.8125 208.800781 C 174.8125 205.199219 180.210938 205.199219 180.210938 208.800781 \"/>\n",
       "<path style=\"fill:none;stroke-width:0.75;stroke-linecap:round;stroke-linejoin:round;stroke:rgb(0%,0%,0%);stroke-opacity:1;stroke-miterlimit:10;\" d=\"M 78.664062 130.253906 C 78.664062 133.855469 73.265625 133.855469 73.265625 130.253906 C 73.265625 126.65625 78.664062 126.65625 78.664062 130.253906 \"/>\n",
       "<path style=\"fill:none;stroke-width:0.75;stroke-linecap:round;stroke-linejoin:round;stroke:rgb(0%,0%,0%);stroke-opacity:1;stroke-miterlimit:10;\" d=\"M 108.28125 195.710938 C 108.28125 199.308594 102.882812 199.308594 102.882812 195.710938 C 102.882812 192.109375 108.28125 192.109375 108.28125 195.710938 \"/>\n",
       "<path style=\"fill:none;stroke-width:0.75;stroke-linecap:round;stroke-linejoin:round;stroke:rgb(0%,0%,0%);stroke-opacity:1;stroke-miterlimit:10;\" d=\"M 78.664062 156.4375 C 78.664062 160.035156 73.265625 160.035156 73.265625 156.4375 C 73.265625 152.835938 78.664062 152.835938 78.664062 156.4375 \"/>\n",
       "<path style=\"fill:none;stroke-width:0.75;stroke-linecap:round;stroke-linejoin:round;stroke:rgb(0%,0%,0%);stroke-opacity:1;stroke-miterlimit:10;\" d=\"M 108.28125 117.164062 C 108.28125 120.761719 102.882812 120.761719 102.882812 117.164062 C 102.882812 113.5625 108.28125 113.5625 108.28125 117.164062 \"/>\n",
       "<path style=\"fill:none;stroke-width:0.75;stroke-linecap:round;stroke-linejoin:round;stroke:rgb(0%,0%,0%);stroke-opacity:1;stroke-miterlimit:10;\" d=\"M 188.671875 182.617188 C 188.671875 186.21875 183.273438 186.21875 183.273438 182.617188 C 183.273438 179.019531 188.671875 179.019531 188.671875 182.617188 \"/>\n",
       "<path style=\"fill:none;stroke-width:0.75;stroke-linecap:round;stroke-linejoin:round;stroke:rgb(0%,0%,0%);stroke-opacity:1;stroke-miterlimit:10;\" d=\"M 108.28125 90.980469 C 108.28125 94.582031 102.882812 94.582031 102.882812 90.980469 C 102.882812 87.382812 108.28125 87.382812 108.28125 90.980469 \"/>\n",
       "<path style=\"fill:none;stroke-width:0.75;stroke-linecap:round;stroke-linejoin:round;stroke:rgb(0%,0%,0%);stroke-opacity:1;stroke-miterlimit:10;\" d=\"M 150.59375 130.253906 C 150.59375 133.855469 145.191406 133.855469 145.191406 130.253906 C 145.191406 126.65625 150.59375 126.65625 150.59375 130.253906 \"/>\n",
       "<path style=\"fill:none;stroke-width:0.75;stroke-linecap:round;stroke-linejoin:round;stroke:rgb(0%,0%,0%);stroke-opacity:1;stroke-miterlimit:10;\" d=\"M 112.511719 130.253906 C 112.511719 133.855469 107.113281 133.855469 107.113281 130.253906 C 107.113281 126.65625 112.511719 126.65625 112.511719 130.253906 \"/>\n",
       "<path style=\"fill:none;stroke-width:0.75;stroke-linecap:round;stroke-linejoin:round;stroke:rgb(0%,0%,0%);stroke-opacity:1;stroke-miterlimit:10;\" d=\"M 154.824219 182.617188 C 154.824219 186.21875 149.425781 186.21875 149.425781 182.617188 C 149.425781 179.019531 154.824219 179.019531 154.824219 182.617188 \"/>\n",
       "<path style=\"fill:none;stroke-width:0.75;stroke-linecap:round;stroke-linejoin:round;stroke:rgb(0%,0%,0%);stroke-opacity:1;stroke-miterlimit:10;\" d=\"M 264.832031 208.800781 C 264.832031 212.398438 259.433594 212.398438 259.433594 208.800781 C 259.433594 205.199219 264.832031 205.199219 264.832031 208.800781 \"/>\n",
       "<path style=\"fill:none;stroke-width:0.75;stroke-linecap:round;stroke-linejoin:round;stroke:rgb(0%,0%,0%);stroke-opacity:1;stroke-miterlimit:10;\" d=\"M 74.433594 117.164062 C 74.433594 120.761719 69.035156 120.761719 69.035156 117.164062 C 69.035156 113.5625 74.433594 113.5625 74.433594 117.164062 \"/>\n",
       "<path style=\"fill:none;stroke-width:0.75;stroke-linecap:round;stroke-linejoin:round;stroke:rgb(0%,0%,0%);stroke-opacity:1;stroke-miterlimit:10;\" d=\"M 230.984375 169.527344 C 230.984375 173.128906 225.585938 173.128906 225.585938 169.527344 C 225.585938 165.925781 230.984375 165.925781 230.984375 169.527344 \"/>\n",
       "<path style=\"fill:none;stroke-width:0.75;stroke-linecap:round;stroke-linejoin:round;stroke:rgb(0%,0%,0%);stroke-opacity:1;stroke-miterlimit:10;\" d=\"M 125.207031 143.34375 C 125.207031 146.945312 119.808594 146.945312 119.808594 143.34375 C 119.808594 139.746094 125.207031 139.746094 125.207031 143.34375 \"/>\n",
       "<path style=\"fill:none;stroke-width:0.75;stroke-linecap:round;stroke-linejoin:round;stroke:rgb(0%,0%,0%);stroke-opacity:1;stroke-miterlimit:10;\" d=\"M 120.976562 117.164062 C 120.976562 120.761719 115.574219 120.761719 115.574219 117.164062 C 115.574219 113.5625 120.976562 113.5625 120.976562 117.164062 \"/>\n",
       "<path style=\"fill:none;stroke-width:0.75;stroke-linecap:round;stroke-linejoin:round;stroke:rgb(0%,0%,0%);stroke-opacity:1;stroke-miterlimit:10;\" d=\"M 239.445312 117.164062 C 239.445312 120.761719 234.046875 120.761719 234.046875 117.164062 C 234.046875 113.5625 239.445312 113.5625 239.445312 117.164062 \"/>\n",
       "<path style=\"fill:none;stroke-width:0.75;stroke-linecap:round;stroke-linejoin:round;stroke:rgb(0%,0%,0%);stroke-opacity:1;stroke-miterlimit:10;\" d=\"M 91.359375 130.253906 C 91.359375 133.855469 85.957031 133.855469 85.957031 130.253906 C 85.957031 126.65625 91.359375 126.65625 91.359375 130.253906 \"/>\n",
       "<path style=\"fill:none;stroke-width:0.75;stroke-linecap:round;stroke-linejoin:round;stroke:rgb(0%,0%,0%);stroke-opacity:1;stroke-miterlimit:10;\" d=\"M 108.28125 169.527344 C 108.28125 173.128906 102.882812 173.128906 102.882812 169.527344 C 102.882812 165.925781 108.28125 165.925781 108.28125 169.527344 \"/>\n",
       "<path style=\"fill:none;stroke-width:0.75;stroke-linecap:round;stroke-linejoin:round;stroke:rgb(0%,0%,0%);stroke-opacity:1;stroke-miterlimit:10;\" d=\"M 80.195312 214.558594 L 334.0625 214.558594 \"/>\n",
       "<path style=\"fill:none;stroke-width:0.75;stroke-linecap:round;stroke-linejoin:round;stroke:rgb(0%,0%,0%);stroke-opacity:1;stroke-miterlimit:10;\" d=\"M 80.195312 214.558594 L 80.195312 221.761719 \"/>\n",
       "<path style=\"fill:none;stroke-width:0.75;stroke-linecap:round;stroke-linejoin:round;stroke:rgb(0%,0%,0%);stroke-opacity:1;stroke-miterlimit:10;\" d=\"M 164.816406 214.558594 L 164.816406 221.761719 \"/>\n",
       "<path style=\"fill:none;stroke-width:0.75;stroke-linecap:round;stroke-linejoin:round;stroke:rgb(0%,0%,0%);stroke-opacity:1;stroke-miterlimit:10;\" d=\"M 249.441406 214.558594 L 249.441406 221.761719 \"/>\n",
       "<path style=\"fill:none;stroke-width:0.75;stroke-linecap:round;stroke-linejoin:round;stroke:rgb(0%,0%,0%);stroke-opacity:1;stroke-miterlimit:10;\" d=\"M 334.0625 214.558594 L 334.0625 221.761719 \"/>\n",
       "<g style=\"fill:rgb(0%,0%,0%);fill-opacity:1;\">\n",
       "  <use xlink:href=\"#glyph0-1\" x=\"73.195312\" y=\"240.256836\"/>\n",
       "  <use xlink:href=\"#glyph0-2\" x=\"79.867188\" y=\"240.256836\"/>\n",
       "</g>\n",
       "<g style=\"fill:rgb(0%,0%,0%);fill-opacity:1;\">\n",
       "  <use xlink:href=\"#glyph0-3\" x=\"157.816406\" y=\"240.256836\"/>\n",
       "  <use xlink:href=\"#glyph0-2\" x=\"164.488281\" y=\"240.256836\"/>\n",
       "</g>\n",
       "<g style=\"fill:rgb(0%,0%,0%);fill-opacity:1;\">\n",
       "  <use xlink:href=\"#glyph0-4\" x=\"242.441406\" y=\"240.256836\"/>\n",
       "  <use xlink:href=\"#glyph0-2\" x=\"249.113281\" y=\"240.256836\"/>\n",
       "</g>\n",
       "<g style=\"fill:rgb(0%,0%,0%);fill-opacity:1;\">\n",
       "  <use xlink:href=\"#glyph0-5\" x=\"327.0625\" y=\"240.256836\"/>\n",
       "  <use xlink:href=\"#glyph0-2\" x=\"333.734375\" y=\"240.256836\"/>\n",
       "</g>\n",
       "<path style=\"fill:none;stroke-width:0.75;stroke-linecap:round;stroke-linejoin:round;stroke:rgb(0%,0%,0%);stroke-opacity:1;stroke-miterlimit:10;\" d=\"M 59.039062 208.800781 L 59.039062 77.890625 \"/>\n",
       "<path style=\"fill:none;stroke-width:0.75;stroke-linecap:round;stroke-linejoin:round;stroke:rgb(0%,0%,0%);stroke-opacity:1;stroke-miterlimit:10;\" d=\"M 59.039062 208.800781 L 51.839844 208.800781 \"/>\n",
       "<path style=\"fill:none;stroke-width:0.75;stroke-linecap:round;stroke-linejoin:round;stroke:rgb(0%,0%,0%);stroke-opacity:1;stroke-miterlimit:10;\" d=\"M 59.039062 182.617188 L 51.839844 182.617188 \"/>\n",
       "<path style=\"fill:none;stroke-width:0.75;stroke-linecap:round;stroke-linejoin:round;stroke:rgb(0%,0%,0%);stroke-opacity:1;stroke-miterlimit:10;\" d=\"M 59.039062 156.4375 L 51.839844 156.4375 \"/>\n",
       "<path style=\"fill:none;stroke-width:0.75;stroke-linecap:round;stroke-linejoin:round;stroke:rgb(0%,0%,0%);stroke-opacity:1;stroke-miterlimit:10;\" d=\"M 59.039062 130.253906 L 51.839844 130.253906 \"/>\n",
       "<path style=\"fill:none;stroke-width:0.75;stroke-linecap:round;stroke-linejoin:round;stroke:rgb(0%,0%,0%);stroke-opacity:1;stroke-miterlimit:10;\" d=\"M 59.039062 104.074219 L 51.839844 104.074219 \"/>\n",
       "<path style=\"fill:none;stroke-width:0.75;stroke-linecap:round;stroke-linejoin:round;stroke:rgb(0%,0%,0%);stroke-opacity:1;stroke-miterlimit:10;\" d=\"M 59.039062 77.890625 L 51.839844 77.890625 \"/>\n",
       "<g style=\"fill:rgb(0%,0%,0%);fill-opacity:1;\">\n",
       "  <use xlink:href=\"#glyph1-1\" x=\"41.538086\" y=\"212.300781\"/>\n",
       "</g>\n",
       "<g style=\"fill:rgb(0%,0%,0%);fill-opacity:1;\">\n",
       "  <use xlink:href=\"#glyph1-2\" x=\"41.538086\" y=\"186.117188\"/>\n",
       "</g>\n",
       "<g style=\"fill:rgb(0%,0%,0%);fill-opacity:1;\">\n",
       "  <use xlink:href=\"#glyph1-3\" x=\"41.538086\" y=\"159.9375\"/>\n",
       "</g>\n",
       "<g style=\"fill:rgb(0%,0%,0%);fill-opacity:1;\">\n",
       "  <use xlink:href=\"#glyph1-4\" x=\"41.538086\" y=\"133.753906\"/>\n",
       "</g>\n",
       "<g style=\"fill:rgb(0%,0%,0%);fill-opacity:1;\">\n",
       "  <use xlink:href=\"#glyph1-5\" x=\"41.538086\" y=\"107.574219\"/>\n",
       "</g>\n",
       "<g style=\"fill:rgb(0%,0%,0%);fill-opacity:1;\">\n",
       "  <use xlink:href=\"#glyph1-6\" x=\"41.538086\" y=\"84.890625\"/>\n",
       "  <use xlink:href=\"#glyph1-1\" x=\"41.538086\" y=\"78.21875\"/>\n",
       "</g>\n",
       "<path style=\"fill:none;stroke-width:0.75;stroke-linecap:round;stroke-linejoin:round;stroke:rgb(0%,0%,0%);stroke-opacity:1;stroke-miterlimit:10;\" d=\"M 59.039062 214.558594 L 401.761719 214.558594 L 401.761719 59.039062 L 59.039062 59.039062 L 59.039062 214.558594 \"/>\n",
       "<g style=\"fill:rgb(0%,0%,0%);fill-opacity:1;\">\n",
       "  <use xlink:href=\"#glyph0-6\" x=\"198.898438\" y=\"269.057617\"/>\n",
       "  <use xlink:href=\"#glyph0-7\" x=\"201.5625\" y=\"269.057617\"/>\n",
       "  <use xlink:href=\"#glyph0-8\" x=\"204.226562\" y=\"269.057617\"/>\n",
       "  <use xlink:href=\"#glyph0-7\" x=\"214.222656\" y=\"269.057617\"/>\n",
       "  <use xlink:href=\"#glyph0-9\" x=\"216.886719\" y=\"269.057617\"/>\n",
       "  <use xlink:href=\"#glyph0-10\" x=\"220.042969\" y=\"269.057617\"/>\n",
       "  <use xlink:href=\"#glyph0-11\" x=\"226.714844\" y=\"269.057617\"/>\n",
       "  <use xlink:href=\"#glyph0-12\" x=\"233.386719\" y=\"269.057617\"/>\n",
       "  <use xlink:href=\"#glyph0-13\" x=\"240.058594\" y=\"269.057617\"/>\n",
       "  <use xlink:href=\"#glyph0-14\" x=\"247.943359\" y=\"269.057617\"/>\n",
       "  <use xlink:href=\"#glyph0-10\" x=\"254.615234\" y=\"269.057617\"/>\n",
       "</g>\n",
       "<g style=\"fill:rgb(0%,0%,0%);fill-opacity:1;\">\n",
       "  <use xlink:href=\"#glyph1-7\" x=\"12.737305\" y=\"199.300781\"/>\n",
       "  <use xlink:href=\"#glyph1-8\" x=\"12.737305\" y=\"196.636719\"/>\n",
       "  <use xlink:href=\"#glyph1-9\" x=\"12.737305\" y=\"193.972656\"/>\n",
       "  <use xlink:href=\"#glyph1-8\" x=\"12.737305\" y=\"183.976562\"/>\n",
       "  <use xlink:href=\"#glyph1-10\" x=\"12.737305\" y=\"181.3125\"/>\n",
       "  <use xlink:href=\"#glyph1-11\" x=\"12.737305\" y=\"178.15625\"/>\n",
       "  <use xlink:href=\"#glyph1-12\" x=\"12.737305\" y=\"171.484375\"/>\n",
       "  <use xlink:href=\"#glyph1-13\" x=\"12.737305\" y=\"164.8125\"/>\n",
       "  <use xlink:href=\"#glyph1-14\" x=\"12.737305\" y=\"158.140625\"/>\n",
       "  <use xlink:href=\"#glyph1-15\" x=\"12.737305\" y=\"154.804688\"/>\n",
       "  <use xlink:href=\"#glyph1-16\" x=\"12.737305\" y=\"148.132812\"/>\n",
       "  <use xlink:href=\"#glyph1-17\" x=\"12.737305\" y=\"144.916016\"/>\n",
       "  <use xlink:href=\"#glyph1-18\" x=\"12.737305\" y=\"138.244141\"/>\n",
       "  <use xlink:href=\"#glyph1-19\" x=\"12.737305\" y=\"134.908203\"/>\n",
       "  <use xlink:href=\"#glyph1-15\" x=\"12.737305\" y=\"125.572266\"/>\n",
       "  <use xlink:href=\"#glyph1-18\" x=\"12.737305\" y=\"118.900391\"/>\n",
       "  <use xlink:href=\"#glyph1-14\" x=\"12.737305\" y=\"115.564453\"/>\n",
       "  <use xlink:href=\"#glyph1-15\" x=\"12.737305\" y=\"112.228516\"/>\n",
       "  <use xlink:href=\"#glyph1-10\" x=\"12.737305\" y=\"105.556641\"/>\n",
       "  <use xlink:href=\"#glyph1-11\" x=\"12.737305\" y=\"102.400391\"/>\n",
       "  <use xlink:href=\"#glyph1-20\" x=\"12.737305\" y=\"95.728516\"/>\n",
       "  <use xlink:href=\"#glyph1-15\" x=\"12.737305\" y=\"91.732422\"/>\n",
       "  <use xlink:href=\"#glyph1-11\" x=\"12.737305\" y=\"85.060547\"/>\n",
       "  <use xlink:href=\"#glyph1-10\" x=\"12.737305\" y=\"78.507812\"/>\n",
       "</g>\n",
       "</g>\n",
       "</svg>\n"
      ],
      "text/plain": [
       "plot without title"
      ]
     },
     "metadata": {
      "image/svg+xml": {
       "isolated": true
      }
     },
     "output_type": "display_data"
    }
   ],
   "source": [
    "plot(limited$Age, limited$Info.On.Internet)"
   ]
  },
  {
   "cell_type": "code",
   "execution_count": null,
   "metadata": {
    "collapsed": true
   },
   "outputs": [],
   "source": []
  }
 ],
 "metadata": {
  "kernelspec": {
   "display_name": "R",
   "language": "R",
   "name": "ir"
  },
  "language_info": {
   "codemirror_mode": "r",
   "file_extension": ".r",
   "mimetype": "text/x-r-source",
   "name": "R",
   "pygments_lexer": "r",
   "version": "3.2.4"
  }
 },
 "nbformat": 4,
 "nbformat_minor": 0
}
