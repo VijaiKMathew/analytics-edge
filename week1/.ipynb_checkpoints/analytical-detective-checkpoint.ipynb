{
 "cells": [
  {
   "cell_type": "code",
   "execution_count": 34,
   "metadata": {
    "collapsed": false
   },
   "outputs": [
    {
     "data": {
      "text/html": [
       "'LC_CTYPE=C;LC_NUMERIC=C;LC_TIME=C;LC_COLLATE=C;LC_MONETARY=C;LC_MESSAGES=en_US.UTF-8;LC_PAPER=en_US.UTF-8;LC_NAME=C;LC_ADDRESS=C;LC_TELEPHONE=C;LC_MEASUREMENT=en_US.UTF-8;LC_IDENTIFICATION=C'"
      ],
      "text/latex": [
       "'LC_CTYPE=C;LC_NUMERIC=C;LC_TIME=C;LC_COLLATE=C;LC_MONETARY=C;LC_MESSAGES=en_US.UTF-8;LC_PAPER=en_US.UTF-8;LC_NAME=C;LC_ADDRESS=C;LC_TELEPHONE=C;LC_MEASUREMENT=en_US.UTF-8;LC_IDENTIFICATION=C'"
      ],
      "text/markdown": [
       "'LC_CTYPE=C;LC_NUMERIC=C;LC_TIME=C;LC_COLLATE=C;LC_MONETARY=C;LC_MESSAGES=en_US.UTF-8;LC_PAPER=en_US.UTF-8;LC_NAME=C;LC_ADDRESS=C;LC_TELEPHONE=C;LC_MEASUREMENT=en_US.UTF-8;LC_IDENTIFICATION=C'"
      ],
      "text/plain": [
       "[1] \"LC_CTYPE=C;LC_NUMERIC=C;LC_TIME=C;LC_COLLATE=C;LC_MONETARY=C;LC_MESSAGES=en_US.UTF-8;LC_PAPER=en_US.UTF-8;LC_NAME=C;LC_ADDRESS=C;LC_TELEPHONE=C;LC_MEASUREMENT=en_US.UTF-8;LC_IDENTIFICATION=C\""
      ]
     },
     "execution_count": 34,
     "metadata": {},
     "output_type": "execute_result"
    }
   ],
   "source": [
    "options(device=pdf) # turn off flashy window on each block execution\n",
    "# options(repr.plot.width=6, repr.plot.height=4)\n",
    "Sys.setlocale(\"LC_ALL\", \"C\")\n",
    "initialWidth = getOption('width')\n",
    "options(width=80) # for old folks like me who can't see shit and set font large"
   ]
  },
  {
   "cell_type": "code",
   "execution_count": 7,
   "metadata": {
    "collapsed": false
   },
   "outputs": [
    {
     "data": {
      "text/html": [
       "<table>\n",
       "<thead><tr><th></th><th scope=col>ID</th><th scope=col>Date</th><th scope=col>LocationDescription</th><th scope=col>Arrest</th><th scope=col>Domestic</th><th scope=col>Beat</th><th scope=col>District</th><th scope=col>CommunityArea</th><th scope=col>Year</th><th scope=col>Latitude</th><th scope=col>Longitude</th></tr></thead>\n",
       "<tbody>\n",
       "\t<tr><th scope=row>1</th><td>8951354</td><td>12/31/12 23:15</td><td>STREET</td><td>FALSE</td><td>FALSE</td><td>623</td><td>6</td><td>69</td><td>2012</td><td>41.75628</td><td>-87.62164</td></tr>\n",
       "\t<tr><th scope=row>2</th><td>8951141</td><td>12/31/12 22:00</td><td>STREET</td><td>FALSE</td><td>FALSE</td><td>1213</td><td>12</td><td>24</td><td>2012</td><td>41.89879</td><td>-87.6613</td></tr>\n",
       "\t<tr><th scope=row>3</th><td>8952745</td><td>12/31/12 22:00</td><td>RESIDENTIAL YARD (FRONT/BACK)</td><td>FALSE</td><td>FALSE</td><td>1622</td><td>16</td><td>11</td><td>2012</td><td>41.96919</td><td>-87.76767</td></tr>\n",
       "\t<tr><th scope=row>4</th><td>8952223</td><td>12/31/12 22:00</td><td>STREET</td><td>FALSE</td><td>FALSE</td><td>724</td><td>7</td><td>67</td><td>2012</td><td>41.76933</td><td>-87.65773</td></tr>\n",
       "\t<tr><th scope=row>5</th><td>8951608</td><td>12/31/12 21:30</td><td>STREET</td><td>FALSE</td><td>FALSE</td><td>211</td><td>2</td><td>35</td><td>2012</td><td>41.83757</td><td>-87.62176</td></tr>\n",
       "\t<tr><th scope=row>6</th><td>8950793</td><td>12/31/12 20:30</td><td>STREET</td><td>TRUE</td><td>FALSE</td><td>2521</td><td>25</td><td>19</td><td>2012</td><td>41.92856</td><td>-87.754</td></tr>\n",
       "</tbody>\n",
       "</table>\n"
      ],
      "text/latex": [
       "\\begin{tabular}{r|lllllllllll}\n",
       "  & ID & Date & LocationDescription & Arrest & Domestic & Beat & District & CommunityArea & Year & Latitude & Longitude\\\\\n",
       "\\hline\n",
       "\t1 & 8951354 & 12/31/12 23:15 & STREET & FALSE & FALSE & 623 & 6 & 69 & 2012 & 41.75628 & -87.62164\\\\\n",
       "\t2 & 8951141 & 12/31/12 22:00 & STREET & FALSE & FALSE & 1213 & 12 & 24 & 2012 & 41.89879 & -87.6613\\\\\n",
       "\t3 & 8952745 & 12/31/12 22:00 & RESIDENTIAL YARD (FRONT/BACK) & FALSE & FALSE & 1622 & 16 & 11 & 2012 & 41.96919 & -87.76767\\\\\n",
       "\t4 & 8952223 & 12/31/12 22:00 & STREET & FALSE & FALSE & 724 & 7 & 67 & 2012 & 41.76933 & -87.65773\\\\\n",
       "\t5 & 8951608 & 12/31/12 21:30 & STREET & FALSE & FALSE & 211 & 2 & 35 & 2012 & 41.83757 & -87.62176\\\\\n",
       "\t6 & 8950793 & 12/31/12 20:30 & STREET & TRUE & FALSE & 2521 & 25 & 19 & 2012 & 41.92856 & -87.754\\\\\n",
       "\\end{tabular}\n"
      ],
      "text/plain": [
       "       ID           Date           LocationDescription Arrest Domestic Beat District CommunityArea\n",
       "1 8951354 12/31/12 23:15                        STREET  FALSE    FALSE  623        6            69\n",
       "2 8951141 12/31/12 22:00                        STREET  FALSE    FALSE 1213       12            24\n",
       "3 8952745 12/31/12 22:00 RESIDENTIAL YARD (FRONT/BACK)  FALSE    FALSE 1622       16            11\n",
       "4 8952223 12/31/12 22:00                        STREET  FALSE    FALSE  724        7            67\n",
       "5 8951608 12/31/12 21:30                        STREET  FALSE    FALSE  211        2            35\n",
       "6 8950793 12/31/12 20:30                        STREET   TRUE    FALSE 2521       25            19\n",
       "  Year Latitude Longitude\n",
       "1 2012 41.75628 -87.62164\n",
       "2 2012 41.89879 -87.66130\n",
       "3 2012 41.96919 -87.76767\n",
       "4 2012 41.76933 -87.65773\n",
       "5 2012 41.83757 -87.62176\n",
       "6 2012 41.92856 -87.75400"
      ]
     },
     "execution_count": 7,
     "metadata": {},
     "output_type": "execute_result"
    }
   ],
   "source": [
    "mvt = read.csv('data/mvtWeek1.csv')\n",
    "head(mvt)"
   ]
  },
  {
   "cell_type": "code",
   "execution_count": 31,
   "metadata": {
    "collapsed": false
   },
   "outputs": [
    {
     "name": "stdout",
     "output_type": "stream",
     "text": [
      "'data.frame':\t191641 obs. of  11 variables:\n",
      " $ ID                 : int  8951354 8951141 8952745 8952223 8951608 8950793 8950760 8951611 8951802 8950706 ...\n",
      " $ Date               : Factor w/ 131680 levels \"1/1/01 0:01\",..: 42823 42822 42822 42822 42821 42820 42819 42818 42816 42815 ...\n",
      " $ LocationDescription: Factor w/ 78 levels \"ABANDONED BUILDING\",..: 72 72 62 72 72 72 72 72 72 72 ...\n",
      " $ Arrest             : logi  FALSE FALSE FALSE FALSE FALSE TRUE ...\n",
      " $ Domestic           : logi  FALSE FALSE FALSE FALSE FALSE FALSE ...\n",
      " $ Beat               : int  623 1213 1622 724 211 2521 423 231 1021 1215 ...\n",
      " $ District           : int  6 12 16 7 2 25 4 2 10 12 ...\n",
      " $ CommunityArea      : int  69 24 11 67 35 19 48 40 29 24 ...\n",
      " $ Year               : int  2012 2012 2012 2012 2012 2012 2012 2012 2012 2012 ...\n",
      " $ Latitude           : num  41.8 41.9 42 41.8 41.8 ...\n",
      " $ Longitude          : num  -87.6 -87.7 -87.8 -87.7 -87.6 ...\n"
     ]
    }
   ],
   "source": [
    "str(mvt)"
   ]
  },
  {
   "cell_type": "code",
   "execution_count": 11,
   "metadata": {
    "collapsed": false
   },
   "outputs": [
    {
     "data": {
      "text/html": [
       "9181151"
      ],
      "text/latex": [
       "9181151"
      ],
      "text/markdown": [
       "9181151"
      ],
      "text/plain": [
       "[1] 9181151"
      ]
     },
     "execution_count": 11,
     "metadata": {},
     "output_type": "execute_result"
    }
   ],
   "source": [
    "max(mvt$ID)"
   ]
  },
  {
   "cell_type": "code",
   "execution_count": 12,
   "metadata": {
    "collapsed": false
   },
   "outputs": [
    {
     "data": {
      "text/html": [
       "111"
      ],
      "text/latex": [
       "111"
      ],
      "text/markdown": [
       "111"
      ],
      "text/plain": [
       "[1] 111"
      ]
     },
     "execution_count": 12,
     "metadata": {},
     "output_type": "execute_result"
    }
   ],
   "source": [
    "min(mvt$Beat)"
   ]
  },
  {
   "cell_type": "code",
   "execution_count": 32,
   "metadata": {
    "collapsed": false
   },
   "outputs": [
    {
     "name": "stdout",
     "output_type": "stream",
     "text": [
      "'data.frame':\t15536 obs. of  11 variables:\n",
      " $ ID                 : int  8950793 8951802 8950570 8949895 8949557 8949844 8949258 8950331 8949392 8949625 ...\n",
      " $ Date               : Factor w/ 131680 levels \"1/1/01 0:01\",..: 42820 42816 42812 42454 42449 42467 42466 42463 42445 42443 ...\n",
      " $ LocationDescription: Factor w/ 78 levels \"ABANDONED BUILDING\",..: 72 72 40 10 72 72 72 72 72 72 ...\n",
      " $ Arrest             : logi  TRUE TRUE TRUE TRUE TRUE TRUE ...\n",
      " $ Domestic           : logi  FALSE FALSE FALSE FALSE FALSE FALSE ...\n",
      " $ Beat               : int  2521 1021 825 2512 2535 414 813 1933 313 1123 ...\n",
      " $ District           : int  25 10 8 25 25 4 8 19 3 11 ...\n",
      " $ CommunityArea      : int  19 29 66 18 23 46 62 6 42 23 ...\n",
      " $ Year               : int  2012 2012 2012 2012 2012 2012 2012 2012 2012 2012 ...\n",
      " $ Latitude           : num  41.9 41.9 41.8 41.9 41.9 ...\n",
      " $ Longitude          : num  -87.8 -87.7 -87.7 -87.8 -87.7 ...\n"
     ]
    }
   ],
   "source": [
    "str(subset(mvt, Arrest==T))"
   ]
  },
  {
   "cell_type": "code",
   "execution_count": 35,
   "metadata": {
    "collapsed": false
   },
   "outputs": [
    {
     "data": {
      "text/plain": [
       "       ID                      Date       \n",
       " Min.   :1310022   5/16/08 0:00  :    11  \n",
       " 1st Qu.:2832144   10/17/01 22:00:    10  \n",
       " Median :4762956   4/13/04 21:00 :    10  \n",
       " Mean   :4968629   9/17/05 22:00 :    10  \n",
       " 3rd Qu.:7201878   10/12/01 22:00:     9  \n",
       " Max.   :9181151   10/13/01 22:00:     9  \n",
       "                   (Other)       :191582  \n",
       "                     LocationDescription   Arrest         Domestic      \n",
       " STREET                        :156564   Mode :logical   Mode :logical  \n",
       " PARKING LOT/GARAGE(NON.RESID.): 14852   FALSE:176105    FALSE:191226   \n",
       " OTHER                         :  4573   TRUE :15536     TRUE :415      \n",
       " ALLEY                         :  2308   NA's :0         NA's :0        \n",
       " GAS STATION                   :  2111                                  \n",
       " DRIVEWAY - RESIDENTIAL        :  1675                                  \n",
       " (Other)                       :  9558                                  \n",
       "      Beat         District     CommunityArea        Year         Latitude    \n",
       " Min.   : 111   Min.   : 1.00   Min.   : 0      Min.   :2001   Min.   :41.64  \n",
       " 1st Qu.: 722   1st Qu.: 6.00   1st Qu.:22      1st Qu.:2003   1st Qu.:41.77  \n",
       " Median :1121   Median :10.00   Median :32      Median :2006   Median :41.85  \n",
       " Mean   :1259   Mean   :11.82   Mean   :38      Mean   :2006   Mean   :41.84  \n",
       " 3rd Qu.:1733   3rd Qu.:17.00   3rd Qu.:60      3rd Qu.:2009   3rd Qu.:41.92  \n",
       " Max.   :2535   Max.   :31.00   Max.   :77      Max.   :2012   Max.   :42.02  \n",
       "                NA's   :43056   NA's   :24616                  NA's   :2276   \n",
       "   Longitude     \n",
       " Min.   :-87.93  \n",
       " 1st Qu.:-87.72  \n",
       " Median :-87.68  \n",
       " Mean   :-87.68  \n",
       " 3rd Qu.:-87.64  \n",
       " Max.   :-87.52  \n",
       " NA's   :2276    "
      ]
     },
     "execution_count": 35,
     "metadata": {},
     "output_type": "execute_result"
    }
   ],
   "source": [
    "summary(mvt)"
   ]
  },
  {
   "cell_type": "code",
   "execution_count": 23,
   "metadata": {
    "collapsed": false
   },
   "outputs": [
    {
     "data": {
      "text/html": [
       "80"
      ],
      "text/latex": [
       "80"
      ],
      "text/markdown": [
       "80"
      ],
      "text/plain": [
       "[1] 80"
      ]
     },
     "execution_count": 23,
     "metadata": {},
     "output_type": "execute_result"
    }
   ],
   "source": [
    "getOption('width')"
   ]
  },
  {
   "cell_type": "code",
   "execution_count": 22,
   "metadata": {
    "collapsed": false
   },
   "outputs": [],
   "source": [
    "options(width=80)"
   ]
  },
  {
   "cell_type": "code",
   "execution_count": 36,
   "metadata": {
    "collapsed": false
   },
   "outputs": [
    {
     "data": {
      "text/html": [
       "12/31/12 23:15"
      ],
      "text/latex": [
       "12/31/12 23:15"
      ],
      "text/markdown": [
       "12/31/12 23:15"
      ],
      "text/plain": [
       "[1] 12/31/12 23:15\n",
       "131680 Levels: 1/1/01 0:01 1/1/01 0:05 1/1/01 0:30 1/1/01 10:00 ... 9/9/12 9:50"
      ]
     },
     "execution_count": 36,
     "metadata": {},
     "output_type": "execute_result"
    }
   ],
   "source": [
    "mvt$Date[1]"
   ]
  },
  {
   "cell_type": "code",
   "execution_count": 44,
   "metadata": {
    "collapsed": false
   },
   "outputs": [],
   "source": [
    "DateConvert = as.Date(strptime(mvt$Date, '%m/%d/%y %H:%M'))"
   ]
  },
  {
   "cell_type": "code",
   "execution_count": null,
   "metadata": {
    "collapsed": true
   },
   "outputs": [],
   "source": []
  }
 ],
 "metadata": {
  "kernelspec": {
   "display_name": "R",
   "language": "R",
   "name": "ir"
  },
  "language_info": {
   "codemirror_mode": "r",
   "file_extension": ".r",
   "mimetype": "text/x-r-source",
   "name": "R",
   "pygments_lexer": "r",
   "version": "3.2.4"
  }
 },
 "nbformat": 4,
 "nbformat_minor": 0
}
