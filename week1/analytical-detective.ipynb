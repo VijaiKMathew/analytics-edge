{
 "cells": [
  {
   "cell_type": "code",
   "execution_count": 34,
   "metadata": {
    "collapsed": false
   },
   "outputs": [
    {
     "data": {
      "text/html": [
       "'LC_CTYPE=C;LC_NUMERIC=C;LC_TIME=C;LC_COLLATE=C;LC_MONETARY=C;LC_MESSAGES=en_US.UTF-8;LC_PAPER=en_US.UTF-8;LC_NAME=C;LC_ADDRESS=C;LC_TELEPHONE=C;LC_MEASUREMENT=en_US.UTF-8;LC_IDENTIFICATION=C'"
      ],
      "text/latex": [
       "'LC_CTYPE=C;LC_NUMERIC=C;LC_TIME=C;LC_COLLATE=C;LC_MONETARY=C;LC_MESSAGES=en_US.UTF-8;LC_PAPER=en_US.UTF-8;LC_NAME=C;LC_ADDRESS=C;LC_TELEPHONE=C;LC_MEASUREMENT=en_US.UTF-8;LC_IDENTIFICATION=C'"
      ],
      "text/markdown": [
       "'LC_CTYPE=C;LC_NUMERIC=C;LC_TIME=C;LC_COLLATE=C;LC_MONETARY=C;LC_MESSAGES=en_US.UTF-8;LC_PAPER=en_US.UTF-8;LC_NAME=C;LC_ADDRESS=C;LC_TELEPHONE=C;LC_MEASUREMENT=en_US.UTF-8;LC_IDENTIFICATION=C'"
      ],
      "text/plain": [
       "[1] \"LC_CTYPE=C;LC_NUMERIC=C;LC_TIME=C;LC_COLLATE=C;LC_MONETARY=C;LC_MESSAGES=en_US.UTF-8;LC_PAPER=en_US.UTF-8;LC_NAME=C;LC_ADDRESS=C;LC_TELEPHONE=C;LC_MEASUREMENT=en_US.UTF-8;LC_IDENTIFICATION=C\""
      ]
     },
     "execution_count": 34,
     "metadata": {},
     "output_type": "execute_result"
    }
   ],
   "source": [
    "options(device=pdf) # turn off flashy window on each block execution\n",
    "# options(repr.plot.width=6, repr.plot.height=4)\n",
    "Sys.setlocale(\"LC_ALL\", \"C\")\n",
    "initialWidth = getOption('width')\n",
    "options(width=80) # for old folks like me who can't see shit and set font large"
   ]
  },
  {
   "cell_type": "code",
   "execution_count": 111,
   "metadata": {
    "collapsed": true
   },
   "outputs": [],
   "source": [
    "# https://courses.edx.org/courses/course-v1:MITx+15.071x_3+1T2016/courseware/e0d9ca1c350d42e5a8d6fd6a8162c1ab/a5915d0492804dada5feb1926ba5be7a/?activate_block_id=block-v1%3AMITx%2B15.071x_3%2B1T2016%2Btype%40sequential%2Bblock%40a5915d0492804dada5feb1926ba5be7a&child=first"
   ]
  },
  {
   "cell_type": "code",
   "execution_count": 7,
   "metadata": {
    "collapsed": false
   },
   "outputs": [
    {
     "data": {
      "text/html": [
       "<table>\n",
       "<thead><tr><th></th><th scope=col>ID</th><th scope=col>Date</th><th scope=col>LocationDescription</th><th scope=col>Arrest</th><th scope=col>Domestic</th><th scope=col>Beat</th><th scope=col>District</th><th scope=col>CommunityArea</th><th scope=col>Year</th><th scope=col>Latitude</th><th scope=col>Longitude</th></tr></thead>\n",
       "<tbody>\n",
       "\t<tr><th scope=row>1</th><td>8951354</td><td>12/31/12 23:15</td><td>STREET</td><td>FALSE</td><td>FALSE</td><td>623</td><td>6</td><td>69</td><td>2012</td><td>41.75628</td><td>-87.62164</td></tr>\n",
       "\t<tr><th scope=row>2</th><td>8951141</td><td>12/31/12 22:00</td><td>STREET</td><td>FALSE</td><td>FALSE</td><td>1213</td><td>12</td><td>24</td><td>2012</td><td>41.89879</td><td>-87.6613</td></tr>\n",
       "\t<tr><th scope=row>3</th><td>8952745</td><td>12/31/12 22:00</td><td>RESIDENTIAL YARD (FRONT/BACK)</td><td>FALSE</td><td>FALSE</td><td>1622</td><td>16</td><td>11</td><td>2012</td><td>41.96919</td><td>-87.76767</td></tr>\n",
       "\t<tr><th scope=row>4</th><td>8952223</td><td>12/31/12 22:00</td><td>STREET</td><td>FALSE</td><td>FALSE</td><td>724</td><td>7</td><td>67</td><td>2012</td><td>41.76933</td><td>-87.65773</td></tr>\n",
       "\t<tr><th scope=row>5</th><td>8951608</td><td>12/31/12 21:30</td><td>STREET</td><td>FALSE</td><td>FALSE</td><td>211</td><td>2</td><td>35</td><td>2012</td><td>41.83757</td><td>-87.62176</td></tr>\n",
       "\t<tr><th scope=row>6</th><td>8950793</td><td>12/31/12 20:30</td><td>STREET</td><td>TRUE</td><td>FALSE</td><td>2521</td><td>25</td><td>19</td><td>2012</td><td>41.92856</td><td>-87.754</td></tr>\n",
       "</tbody>\n",
       "</table>\n"
      ],
      "text/latex": [
       "\\begin{tabular}{r|lllllllllll}\n",
       "  & ID & Date & LocationDescription & Arrest & Domestic & Beat & District & CommunityArea & Year & Latitude & Longitude\\\\\n",
       "\\hline\n",
       "\t1 & 8951354 & 12/31/12 23:15 & STREET & FALSE & FALSE & 623 & 6 & 69 & 2012 & 41.75628 & -87.62164\\\\\n",
       "\t2 & 8951141 & 12/31/12 22:00 & STREET & FALSE & FALSE & 1213 & 12 & 24 & 2012 & 41.89879 & -87.6613\\\\\n",
       "\t3 & 8952745 & 12/31/12 22:00 & RESIDENTIAL YARD (FRONT/BACK) & FALSE & FALSE & 1622 & 16 & 11 & 2012 & 41.96919 & -87.76767\\\\\n",
       "\t4 & 8952223 & 12/31/12 22:00 & STREET & FALSE & FALSE & 724 & 7 & 67 & 2012 & 41.76933 & -87.65773\\\\\n",
       "\t5 & 8951608 & 12/31/12 21:30 & STREET & FALSE & FALSE & 211 & 2 & 35 & 2012 & 41.83757 & -87.62176\\\\\n",
       "\t6 & 8950793 & 12/31/12 20:30 & STREET & TRUE & FALSE & 2521 & 25 & 19 & 2012 & 41.92856 & -87.754\\\\\n",
       "\\end{tabular}\n"
      ],
      "text/plain": [
       "       ID           Date           LocationDescription Arrest Domestic Beat District CommunityArea\n",
       "1 8951354 12/31/12 23:15                        STREET  FALSE    FALSE  623        6            69\n",
       "2 8951141 12/31/12 22:00                        STREET  FALSE    FALSE 1213       12            24\n",
       "3 8952745 12/31/12 22:00 RESIDENTIAL YARD (FRONT/BACK)  FALSE    FALSE 1622       16            11\n",
       "4 8952223 12/31/12 22:00                        STREET  FALSE    FALSE  724        7            67\n",
       "5 8951608 12/31/12 21:30                        STREET  FALSE    FALSE  211        2            35\n",
       "6 8950793 12/31/12 20:30                        STREET   TRUE    FALSE 2521       25            19\n",
       "  Year Latitude Longitude\n",
       "1 2012 41.75628 -87.62164\n",
       "2 2012 41.89879 -87.66130\n",
       "3 2012 41.96919 -87.76767\n",
       "4 2012 41.76933 -87.65773\n",
       "5 2012 41.83757 -87.62176\n",
       "6 2012 41.92856 -87.75400"
      ]
     },
     "execution_count": 7,
     "metadata": {},
     "output_type": "execute_result"
    }
   ],
   "source": [
    "mvt = read.csv('data/mvtWeek1.csv')\n",
    "head(mvt)"
   ]
  },
  {
   "cell_type": "code",
   "execution_count": 31,
   "metadata": {
    "collapsed": false
   },
   "outputs": [
    {
     "name": "stdout",
     "output_type": "stream",
     "text": [
      "'data.frame':\t191641 obs. of  11 variables:\n",
      " $ ID                 : int  8951354 8951141 8952745 8952223 8951608 8950793 8950760 8951611 8951802 8950706 ...\n",
      " $ Date               : Factor w/ 131680 levels \"1/1/01 0:01\",..: 42823 42822 42822 42822 42821 42820 42819 42818 42816 42815 ...\n",
      " $ LocationDescription: Factor w/ 78 levels \"ABANDONED BUILDING\",..: 72 72 62 72 72 72 72 72 72 72 ...\n",
      " $ Arrest             : logi  FALSE FALSE FALSE FALSE FALSE TRUE ...\n",
      " $ Domestic           : logi  FALSE FALSE FALSE FALSE FALSE FALSE ...\n",
      " $ Beat               : int  623 1213 1622 724 211 2521 423 231 1021 1215 ...\n",
      " $ District           : int  6 12 16 7 2 25 4 2 10 12 ...\n",
      " $ CommunityArea      : int  69 24 11 67 35 19 48 40 29 24 ...\n",
      " $ Year               : int  2012 2012 2012 2012 2012 2012 2012 2012 2012 2012 ...\n",
      " $ Latitude           : num  41.8 41.9 42 41.8 41.8 ...\n",
      " $ Longitude          : num  -87.6 -87.7 -87.8 -87.7 -87.6 ...\n"
     ]
    }
   ],
   "source": [
    "str(mvt)"
   ]
  },
  {
   "cell_type": "code",
   "execution_count": 11,
   "metadata": {
    "collapsed": false
   },
   "outputs": [
    {
     "data": {
      "text/html": [
       "9181151"
      ],
      "text/latex": [
       "9181151"
      ],
      "text/markdown": [
       "9181151"
      ],
      "text/plain": [
       "[1] 9181151"
      ]
     },
     "execution_count": 11,
     "metadata": {},
     "output_type": "execute_result"
    }
   ],
   "source": [
    "max(mvt$ID)"
   ]
  },
  {
   "cell_type": "code",
   "execution_count": 12,
   "metadata": {
    "collapsed": false
   },
   "outputs": [
    {
     "data": {
      "text/html": [
       "111"
      ],
      "text/latex": [
       "111"
      ],
      "text/markdown": [
       "111"
      ],
      "text/plain": [
       "[1] 111"
      ]
     },
     "execution_count": 12,
     "metadata": {},
     "output_type": "execute_result"
    }
   ],
   "source": [
    "min(mvt$Beat)"
   ]
  },
  {
   "cell_type": "code",
   "execution_count": 32,
   "metadata": {
    "collapsed": false
   },
   "outputs": [
    {
     "name": "stdout",
     "output_type": "stream",
     "text": [
      "'data.frame':\t15536 obs. of  11 variables:\n",
      " $ ID                 : int  8950793 8951802 8950570 8949895 8949557 8949844 8949258 8950331 8949392 8949625 ...\n",
      " $ Date               : Factor w/ 131680 levels \"1/1/01 0:01\",..: 42820 42816 42812 42454 42449 42467 42466 42463 42445 42443 ...\n",
      " $ LocationDescription: Factor w/ 78 levels \"ABANDONED BUILDING\",..: 72 72 40 10 72 72 72 72 72 72 ...\n",
      " $ Arrest             : logi  TRUE TRUE TRUE TRUE TRUE TRUE ...\n",
      " $ Domestic           : logi  FALSE FALSE FALSE FALSE FALSE FALSE ...\n",
      " $ Beat               : int  2521 1021 825 2512 2535 414 813 1933 313 1123 ...\n",
      " $ District           : int  25 10 8 25 25 4 8 19 3 11 ...\n",
      " $ CommunityArea      : int  19 29 66 18 23 46 62 6 42 23 ...\n",
      " $ Year               : int  2012 2012 2012 2012 2012 2012 2012 2012 2012 2012 ...\n",
      " $ Latitude           : num  41.9 41.9 41.8 41.9 41.9 ...\n",
      " $ Longitude          : num  -87.8 -87.7 -87.7 -87.8 -87.7 ...\n"
     ]
    }
   ],
   "source": [
    "str(subset(mvt, Arrest==T))"
   ]
  },
  {
   "cell_type": "code",
   "execution_count": 35,
   "metadata": {
    "collapsed": false
   },
   "outputs": [
    {
     "data": {
      "text/plain": [
       "       ID                      Date       \n",
       " Min.   :1310022   5/16/08 0:00  :    11  \n",
       " 1st Qu.:2832144   10/17/01 22:00:    10  \n",
       " Median :4762956   4/13/04 21:00 :    10  \n",
       " Mean   :4968629   9/17/05 22:00 :    10  \n",
       " 3rd Qu.:7201878   10/12/01 22:00:     9  \n",
       " Max.   :9181151   10/13/01 22:00:     9  \n",
       "                   (Other)       :191582  \n",
       "                     LocationDescription   Arrest         Domestic      \n",
       " STREET                        :156564   Mode :logical   Mode :logical  \n",
       " PARKING LOT/GARAGE(NON.RESID.): 14852   FALSE:176105    FALSE:191226   \n",
       " OTHER                         :  4573   TRUE :15536     TRUE :415      \n",
       " ALLEY                         :  2308   NA's :0         NA's :0        \n",
       " GAS STATION                   :  2111                                  \n",
       " DRIVEWAY - RESIDENTIAL        :  1675                                  \n",
       " (Other)                       :  9558                                  \n",
       "      Beat         District     CommunityArea        Year         Latitude    \n",
       " Min.   : 111   Min.   : 1.00   Min.   : 0      Min.   :2001   Min.   :41.64  \n",
       " 1st Qu.: 722   1st Qu.: 6.00   1st Qu.:22      1st Qu.:2003   1st Qu.:41.77  \n",
       " Median :1121   Median :10.00   Median :32      Median :2006   Median :41.85  \n",
       " Mean   :1259   Mean   :11.82   Mean   :38      Mean   :2006   Mean   :41.84  \n",
       " 3rd Qu.:1733   3rd Qu.:17.00   3rd Qu.:60      3rd Qu.:2009   3rd Qu.:41.92  \n",
       " Max.   :2535   Max.   :31.00   Max.   :77      Max.   :2012   Max.   :42.02  \n",
       "                NA's   :43056   NA's   :24616                  NA's   :2276   \n",
       "   Longitude     \n",
       " Min.   :-87.93  \n",
       " 1st Qu.:-87.72  \n",
       " Median :-87.68  \n",
       " Mean   :-87.68  \n",
       " 3rd Qu.:-87.64  \n",
       " Max.   :-87.52  \n",
       " NA's   :2276    "
      ]
     },
     "execution_count": 35,
     "metadata": {},
     "output_type": "execute_result"
    }
   ],
   "source": [
    "summary(mvt)"
   ]
  },
  {
   "cell_type": "code",
   "execution_count": 23,
   "metadata": {
    "collapsed": false
   },
   "outputs": [
    {
     "data": {
      "text/html": [
       "80"
      ],
      "text/latex": [
       "80"
      ],
      "text/markdown": [
       "80"
      ],
      "text/plain": [
       "[1] 80"
      ]
     },
     "execution_count": 23,
     "metadata": {},
     "output_type": "execute_result"
    }
   ],
   "source": [
    "getOption('width')"
   ]
  },
  {
   "cell_type": "code",
   "execution_count": 22,
   "metadata": {
    "collapsed": false
   },
   "outputs": [],
   "source": [
    "options(width=80)"
   ]
  },
  {
   "cell_type": "code",
   "execution_count": 36,
   "metadata": {
    "collapsed": false
   },
   "outputs": [
    {
     "data": {
      "text/html": [
       "12/31/12 23:15"
      ],
      "text/latex": [
       "12/31/12 23:15"
      ],
      "text/markdown": [
       "12/31/12 23:15"
      ],
      "text/plain": [
       "[1] 12/31/12 23:15\n",
       "131680 Levels: 1/1/01 0:01 1/1/01 0:05 1/1/01 0:30 1/1/01 10:00 ... 9/9/12 9:50"
      ]
     },
     "execution_count": 36,
     "metadata": {},
     "output_type": "execute_result"
    }
   ],
   "source": [
    "mvt$Date[1]"
   ]
  },
  {
   "cell_type": "code",
   "execution_count": 45,
   "metadata": {
    "collapsed": false
   },
   "outputs": [],
   "source": [
    "DateConvert = as.Date(strptime(mvt$Date, '%m/%d/%y %H:%M'))"
   ]
  },
  {
   "cell_type": "code",
   "execution_count": 46,
   "metadata": {
    "collapsed": false
   },
   "outputs": [
    {
     "data": {
      "text/plain": [
       "        Min.      1st Qu.       Median         Mean      3rd Qu.         Max. \n",
       "\"2001-01-01\" \"2003-07-10\" \"2006-05-21\" \"2006-08-23\" \"2009-10-24\" \"2012-12-31\" "
      ]
     },
     "execution_count": 46,
     "metadata": {},
     "output_type": "execute_result"
    }
   ],
   "source": [
    "summary(DateConvert)"
   ]
  },
  {
   "cell_type": "code",
   "execution_count": 48,
   "metadata": {
    "collapsed": false
   },
   "outputs": [],
   "source": [
    "mvt$Month = months(DateConvert)\n",
    "mvt$Weekday = weekdays(DateConvert)\n",
    "mvt$Date = DateConvert"
   ]
  },
  {
   "cell_type": "code",
   "execution_count": 51,
   "metadata": {
    "collapsed": false
   },
   "outputs": [
    {
     "data": {
      "text/html": [
       "<dl class=dl-horizontal>\n",
       "\t<dt>February</dt>\n",
       "\t\t<dd>13511</dd>\n",
       "\t<dt>April</dt>\n",
       "\t\t<dd>15280</dd>\n",
       "\t<dt>March</dt>\n",
       "\t\t<dd>15758</dd>\n",
       "\t<dt>June</dt>\n",
       "\t\t<dd>16002</dd>\n",
       "\t<dt>May</dt>\n",
       "\t\t<dd>16035</dd>\n",
       "\t<dt>January</dt>\n",
       "\t\t<dd>16047</dd>\n",
       "\t<dt>September</dt>\n",
       "\t\t<dd>16060</dd>\n",
       "\t<dt>November</dt>\n",
       "\t\t<dd>16063</dd>\n",
       "\t<dt>December</dt>\n",
       "\t\t<dd>16426</dd>\n",
       "\t<dt>August</dt>\n",
       "\t\t<dd>16572</dd>\n",
       "\t<dt>July</dt>\n",
       "\t\t<dd>16801</dd>\n",
       "\t<dt>October</dt>\n",
       "\t\t<dd>17086</dd>\n",
       "</dl>\n"
      ],
      "text/latex": [
       "\\begin{description*}\n",
       "\\item[February] 13511\n",
       "\\item[April] 15280\n",
       "\\item[March] 15758\n",
       "\\item[June] 16002\n",
       "\\item[May] 16035\n",
       "\\item[January] 16047\n",
       "\\item[September] 16060\n",
       "\\item[November] 16063\n",
       "\\item[December] 16426\n",
       "\\item[August] 16572\n",
       "\\item[July] 16801\n",
       "\\item[October] 17086\n",
       "\\end{description*}\n"
      ],
      "text/markdown": [
       "February\n",
       ":   13511April\n",
       ":   15280March\n",
       ":   15758June\n",
       ":   16002May\n",
       ":   16035January\n",
       ":   16047September\n",
       ":   16060November\n",
       ":   16063December\n",
       ":   16426August\n",
       ":   16572July\n",
       ":   16801October\n",
       ":   17086\n",
       "\n"
      ],
      "text/plain": [
       "\n",
       " February     April     March      June       May   January September  November \n",
       "    13511     15280     15758     16002     16035     16047     16060     16063 \n",
       " December    August      July   October \n",
       "    16426     16572     16801     17086 "
      ]
     },
     "execution_count": 51,
     "metadata": {},
     "output_type": "execute_result"
    }
   ],
   "source": [
    "sort(table(mvt$Month))"
   ]
  },
  {
   "cell_type": "code",
   "execution_count": 52,
   "metadata": {
    "collapsed": false
   },
   "outputs": [
    {
     "data": {
      "text/html": [
       "<dl class=dl-horizontal>\n",
       "\t<dt>Sunday</dt>\n",
       "\t\t<dd>26316</dd>\n",
       "\t<dt>Tuesday</dt>\n",
       "\t\t<dd>26791</dd>\n",
       "\t<dt>Saturday</dt>\n",
       "\t\t<dd>27118</dd>\n",
       "\t<dt>Thursday</dt>\n",
       "\t\t<dd>27319</dd>\n",
       "\t<dt>Monday</dt>\n",
       "\t\t<dd>27397</dd>\n",
       "\t<dt>Wednesday</dt>\n",
       "\t\t<dd>27416</dd>\n",
       "\t<dt>Friday</dt>\n",
       "\t\t<dd>29284</dd>\n",
       "</dl>\n"
      ],
      "text/latex": [
       "\\begin{description*}\n",
       "\\item[Sunday] 26316\n",
       "\\item[Tuesday] 26791\n",
       "\\item[Saturday] 27118\n",
       "\\item[Thursday] 27319\n",
       "\\item[Monday] 27397\n",
       "\\item[Wednesday] 27416\n",
       "\\item[Friday] 29284\n",
       "\\end{description*}\n"
      ],
      "text/markdown": [
       "Sunday\n",
       ":   26316Tuesday\n",
       ":   26791Saturday\n",
       ":   27118Thursday\n",
       ":   27319Monday\n",
       ":   27397Wednesday\n",
       ":   27416Friday\n",
       ":   29284\n",
       "\n"
      ],
      "text/plain": [
       "\n",
       "   Sunday   Tuesday  Saturday  Thursday    Monday Wednesday    Friday \n",
       "    26316     26791     27118     27319     27397     27416     29284 "
      ]
     },
     "execution_count": 52,
     "metadata": {},
     "output_type": "execute_result"
    }
   ],
   "source": [
    "sort(table(mvt$Weekday))"
   ]
  },
  {
   "cell_type": "code",
   "execution_count": 56,
   "metadata": {
    "collapsed": false
   },
   "outputs": [
    {
     "data": {
      "text/plain": [
       "           \n",
       "            FALSE  TRUE\n",
       "  April     14028  1252\n",
       "  August    15243  1329\n",
       "  December  15029  1397\n",
       "  February  12273  1238\n",
       "  January   14612  1435\n",
       "  July      15477  1324\n",
       "  June      14772  1230\n",
       "  March     14460  1298\n",
       "  May       14848  1187\n",
       "  November  14807  1256\n",
       "  October   15744  1342\n",
       "  September 14812  1248"
      ]
     },
     "execution_count": 56,
     "metadata": {},
     "output_type": "execute_result"
    }
   ],
   "source": [
    "table(mvt$Month, mvt$Arrest)"
   ]
  },
  {
   "cell_type": "code",
   "execution_count": 59,
   "metadata": {
    "collapsed": false
   },
   "outputs": [
    {
     "data": {
      "image/png": "[encoded data removed]",
      "image/svg+xml": [
       "<?xml version=\"1.0\" encoding=\"UTF-8\"?>\n",
       "<svg xmlns=\"http://www.w3.org/2000/svg\" xmlns:xlink=\"http://www.w3.org/1999/xlink\" width=\"504pt\" height=\"288pt\" viewBox=\"0 0 504 288\" version=\"1.1\">\n",
       "<defs>\n",
       "<g>\n",
       "<symbol overflow=\"visible\" id=\"glyph0-0\">\n",
       "<path style=\"stroke:none;\" d=\"\"/>\n",
       "</symbol>\n",
       "<symbol overflow=\"visible\" id=\"glyph0-1\">\n",
       "<path style=\"stroke:none;\" d=\"M 9.46875 0 L 9.46875 -10.5 L 7.296875 -10.5 L 7.296875 -6.5625 L 3.140625 -6.5625 L 3.140625 -10.5 L 0.984375 -10.5 L 0.984375 0 L 3.140625 0 L 3.140625 -4.765625 L 7.296875 -4.765625 L 7.296875 0 Z M 9.46875 0 \"/>\n",
       "</symbol>\n",
       "<symbol overflow=\"visible\" id=\"glyph0-2\">\n",
       "<path style=\"stroke:none;\" d=\"M 2.984375 0 L 2.984375 -7.78125 L 0.96875 -7.78125 L 0.96875 0 Z M 3.015625 -8.71875 L 3.015625 -10.734375 L 1 -10.734375 L 1 -8.71875 Z M 3.015625 -8.71875 \"/>\n",
       "</symbol>\n",
       "<symbol overflow=\"visible\" id=\"glyph0-3\">\n",
       "<path style=\"stroke:none;\" d=\"M 7.484375 -2.3125 L 7.484375 -2.40625 C 7.484375 -3.296875 6.984375 -3.96875 5.96875 -4.265625 L 3.421875 -5 C 2.859375 -5.15625 2.703125 -5.28125 2.703125 -5.609375 C 2.703125 -6.03125 3.171875 -6.328125 3.875 -6.328125 C 4.84375 -6.328125 5.3125 -5.984375 5.328125 -5.265625 L 7.28125 -5.265625 C 7.25 -6.921875 5.984375 -7.90625 3.890625 -7.90625 C 1.921875 -7.90625 0.6875 -6.921875 0.6875 -5.3125 C 0.6875 -4.359375 0.953125 -3.84375 2.390625 -3.40625 L 4.796875 -2.65625 C 5.296875 -2.5 5.46875 -2.328125 5.46875 -2.125 C 5.46875 -1.640625 4.90625 -1.453125 3.96875 -1.453125 C 3.046875 -1.453125 2.5625 -1.625 2.390625 -2.46875 L 0.421875 -2.46875 C 0.46875 -0.765625 1.734375 0.125 4.09375 0.125 C 6.28125 0.125 7.484375 -0.734375 7.484375 -2.3125 Z M 7.484375 -2.3125 \"/>\n",
       "</symbol>\n",
       "<symbol overflow=\"visible\" id=\"glyph0-4\">\n",
       "<path style=\"stroke:none;\" d=\"M 4.34375 0 L 4.34375 -1.40625 C 4.140625 -1.390625 4.015625 -1.375 3.875 -1.375 C 3.34375 -1.375 3.21875 -1.53125 3.21875 -2.21875 L 3.21875 -6.28125 L 4.34375 -6.28125 L 4.34375 -7.625 L 3.21875 -7.625 L 3.21875 -9.703125 L 1.203125 -9.703125 L 1.203125 -7.625 L 0.203125 -7.625 L 0.203125 -6.28125 L 1.203125 -6.28125 L 1.203125 -1.671875 C 1.203125 -0.453125 1.84375 0.0625 3.171875 0.0625 C 3.609375 0.0625 3.96875 0.015625 4.34375 0 Z M 4.34375 0 \"/>\n",
       "</symbol>\n",
       "<symbol overflow=\"visible\" id=\"glyph0-5\">\n",
       "<path style=\"stroke:none;\" d=\"M 8.203125 -3.828125 C 8.203125 -6.46875 6.765625 -7.90625 4.34375 -7.90625 C 1.953125 -7.90625 0.5 -6.4375 0.5 -3.890625 C 0.5 -1.328125 1.953125 0.125 4.34375 0.125 C 6.71875 0.125 8.203125 -1.34375 8.203125 -3.828125 Z M 6.1875 -3.859375 C 6.1875 -2.40625 5.4375 -1.5 4.34375 -1.5 C 3.25 -1.5 2.515625 -2.40625 2.515625 -3.890625 C 2.515625 -5.375 3.25 -6.28125 4.34375 -6.28125 C 5.453125 -6.28125 6.1875 -5.390625 6.1875 -3.859375 Z M 6.1875 -3.859375 \"/>\n",
       "</symbol>\n",
       "<symbol overflow=\"visible\" id=\"glyph0-6\">\n",
       "<path style=\"stroke:none;\" d=\"M 7.796875 0.265625 L 7.796875 -7.78125 L 5.875 -7.78125 L 5.875 -6.578125 C 5.265625 -7.5 4.609375 -7.90625 3.71875 -7.90625 C 1.875 -7.90625 0.484375 -6.203125 0.484375 -3.796875 C 0.484375 -1.390625 1.75 0.125 3.671875 0.125 C 4.578125 0.125 5.125 -0.140625 5.875 -0.890625 L 5.875 0.265625 C 5.875 1.203125 5.171875 1.84375 4.15625 1.84375 C 3.40625 1.84375 2.890625 1.53125 2.734375 0.9375 L 0.640625 0.9375 C 0.671875 2.203125 1.953125 3.140625 4.09375 3.140625 C 6.4375 3.140625 7.796875 2.09375 7.796875 0.265625 Z M 5.90625 -3.828125 C 5.90625 -2.421875 5.171875 -1.5625 4.125 -1.5625 C 3.171875 -1.5625 2.5 -2.421875 2.5 -3.828125 C 2.5 -5.296875 3.171875 -6.21875 4.15625 -6.21875 C 5.15625 -6.21875 5.90625 -5.265625 5.90625 -3.828125 Z M 5.90625 -3.828125 \"/>\n",
       "</symbol>\n",
       "<symbol overflow=\"visible\" id=\"glyph0-7\">\n",
       "<path style=\"stroke:none;\" d=\"M 5.328125 -5.84375 L 5.328125 -7.890625 C 5.21875 -7.90625 5.140625 -7.90625 5.078125 -7.90625 C 4.15625 -7.90625 3.359375 -7.296875 2.921875 -6.25 L 2.921875 -7.78125 L 0.90625 -7.78125 L 0.90625 0 L 2.921875 0 L 2.921875 -4.140625 C 2.921875 -5.3125 3.515625 -5.90625 4.703125 -5.90625 C 4.90625 -5.90625 5.0625 -5.890625 5.328125 -5.84375 Z M 5.328125 -5.84375 \"/>\n",
       "</symbol>\n",
       "<symbol overflow=\"visible\" id=\"glyph0-8\">\n",
       "<path style=\"stroke:none;\" d=\"M 7.546875 0 L 7.546875 -0.25 C 7.1875 -0.578125 7.09375 -0.796875 7.09375 -1.203125 L 7.09375 -5.515625 C 7.09375 -7.109375 6 -7.90625 3.90625 -7.90625 C 1.796875 -7.90625 0.703125 -7.015625 0.578125 -5.21875 L 2.515625 -5.21875 C 2.625 -6.015625 2.953125 -6.28125 3.953125 -6.28125 C 4.71875 -6.28125 5.109375 -6.015625 5.109375 -5.5 C 5.109375 -4.6875 4.515625 -4.765625 3.5 -4.59375 L 2.6875 -4.453125 C 1.15625 -4.171875 0.40625 -3.515625 0.40625 -2.109375 C 0.40625 -0.59375 1.46875 0.125 2.765625 0.125 C 3.625 0.125 4.421875 -0.25 5.125 -0.984375 C 5.125 -0.578125 5.171875 -0.234375 5.359375 0 Z M 5.109375 -3.328125 C 5.109375 -2.15625 4.53125 -1.5 3.515625 -1.5 C 2.84375 -1.5 2.421875 -1.75 2.421875 -2.328125 C 2.421875 -2.921875 2.734375 -3.140625 3.578125 -3.296875 L 4.265625 -3.421875 C 4.796875 -3.53125 4.890625 -3.5625 5.109375 -3.671875 Z M 5.109375 -3.328125 \"/>\n",
       "</symbol>\n",
       "<symbol overflow=\"visible\" id=\"glyph0-9\">\n",
       "<path style=\"stroke:none;\" d=\"M 11.875 0 L 11.875 -5.5 C 11.875 -7.015625 10.953125 -7.90625 9.390625 -7.90625 C 8.40625 -7.90625 7.71875 -7.5625 7.109375 -6.75 C 6.734375 -7.484375 5.96875 -7.90625 5 -7.90625 C 4.109375 -7.90625 3.53125 -7.609375 2.859375 -6.8125 L 2.859375 -7.78125 L 0.859375 -7.78125 L 0.859375 0 L 2.875 0 L 2.875 -4.671875 C 2.875 -5.625 3.40625 -6.1875 4.265625 -6.1875 C 4.9375 -6.1875 5.359375 -5.8125 5.359375 -5.1875 L 5.359375 0 L 7.375 0 L 7.375 -4.671875 C 7.375 -5.625 7.890625 -6.1875 8.765625 -6.1875 C 9.4375 -6.1875 9.859375 -5.8125 9.859375 -5.1875 L 9.859375 0 Z M 11.875 0 \"/>\n",
       "</symbol>\n",
       "<symbol overflow=\"visible\" id=\"glyph0-10\">\n",
       "<path style=\"stroke:none;\" d=\"\"/>\n",
       "</symbol>\n",
       "<symbol overflow=\"visible\" id=\"glyph0-11\">\n",
       "<path style=\"stroke:none;\" d=\"M 4.515625 -6.28125 L 4.515625 -7.625 L 3.3125 -7.625 L 3.3125 -8.390625 C 3.3125 -8.78125 3.484375 -8.984375 3.859375 -8.984375 C 4.03125 -8.984375 4.265625 -8.96875 4.4375 -8.953125 L 4.4375 -10.453125 C 4.0625 -10.484375 3.5625 -10.5 3.28125 -10.5 C 1.9375 -10.5 1.296875 -9.875 1.296875 -8.5625 L 1.296875 -7.625 L 0.203125 -7.625 L 0.203125 -6.28125 L 1.296875 -6.28125 L 1.296875 0 L 3.3125 0 L 3.3125 -6.28125 Z M 4.515625 -6.28125 \"/>\n",
       "</symbol>\n",
       "<symbol overflow=\"visible\" id=\"glyph0-12\">\n",
       "<path style=\"stroke:none;\" d=\"M 7.71875 -7.78125 L 5.59375 -7.78125 L 4.015625 -2.09375 L 2.328125 -7.78125 L 0.203125 -7.78125 L 2.921875 0 L 5.046875 0 Z M 7.71875 -7.78125 \"/>\n",
       "</symbol>\n",
       "<symbol overflow=\"visible\" id=\"glyph0-13\">\n",
       "<path style=\"stroke:none;\" d=\"M 7.59375 -2.8125 C 7.59375 -4.390625 6.71875 -5.25 4.484375 -5.859375 L 4.484375 -8.765625 C 5.21875 -8.65625 5.609375 -8.046875 5.609375 -7.171875 L 7.453125 -7.171875 C 7.453125 -8.96875 6.296875 -10.109375 4.484375 -10.21875 L 4.484375 -10.984375 L 3.5 -10.984375 L 3.5 -10.21875 C 1.640625 -10.046875 0.5625 -8.984375 0.5625 -7.375 C 0.5625 -5.78125 1.5625 -4.75 3.5 -4.3125 L 3.5 -1.234375 C 2.6875 -1.390625 2.25 -1.96875 2.203125 -2.984375 L 0.3125 -2.984375 L 0.3125 -2.859375 C 0.3125 -1.796875 0.75 -0.9375 1.5625 -0.359375 C 2.109375 0.03125 2.640625 0.21875 3.5 0.296875 L 3.5 1.8125 L 4.484375 1.8125 L 4.484375 0.296875 C 5.265625 0.21875 5.875 0.015625 6.359375 -0.28125 C 7.125 -0.796875 7.59375 -1.734375 7.59375 -2.8125 Z M 3.5 -6.15625 C 2.6875 -6.40625 2.328125 -6.796875 2.328125 -7.4375 C 2.328125 -8.171875 2.703125 -8.59375 3.5 -8.765625 Z M 5.6875 -2.640625 C 5.6875 -1.921875 5.28125 -1.4375 4.484375 -1.234375 L 4.484375 -4.0625 C 5.28125 -3.8125 5.6875 -3.328125 5.6875 -2.640625 Z M 5.6875 -2.640625 \"/>\n",
       "</symbol>\n",
       "<symbol overflow=\"visible\" id=\"glyph0-14\">\n",
       "<path style=\"stroke:none;\" d=\"M 9.8125 -5.265625 C 9.8125 -6.875 9.359375 -8.296875 8.53125 -9.296875 C 7.828125 -10.140625 6.828125 -10.5 5.21875 -10.5 L 1.109375 -10.5 L 1.109375 0 L 5.21875 0 C 6.8125 0 7.8125 -0.375 8.53125 -1.21875 C 9.34375 -2.203125 9.8125 -3.625 9.8125 -5.265625 Z M 7.65625 -5.25 C 7.65625 -2.9375 6.84375 -1.796875 5.21875 -1.796875 L 3.265625 -1.796875 L 3.265625 -8.703125 L 5.21875 -8.703125 C 6.84375 -8.703125 7.65625 -7.5625 7.65625 -5.25 Z M 7.65625 -5.25 \"/>\n",
       "</symbol>\n",
       "<symbol overflow=\"visible\" id=\"glyph0-15\">\n",
       "<path style=\"stroke:none;\" d=\"M 7.5625 -3.59375 C 7.5625 -6.28125 6.203125 -7.90625 3.921875 -7.90625 C 1.6875 -7.90625 0.3125 -6.390625 0.3125 -3.78125 C 0.3125 -1.296875 1.671875 0.125 3.875 0.125 C 5.625 0.125 7.03125 -0.65625 7.484375 -2.1875 L 5.484375 -2.1875 C 5.3125 -1.625 4.6875 -1.40625 3.953125 -1.40625 C 3 -1.40625 2.390625 -1.84375 2.328125 -3.359375 L 7.546875 -3.359375 Z M 5.453125 -4.703125 L 2.359375 -4.703125 C 2.5 -5.78125 3 -6.375 3.890625 -6.375 C 4.75 -6.375 5.359375 -5.8125 5.453125 -4.703125 Z M 5.453125 -4.703125 \"/>\n",
       "</symbol>\n",
       "<symbol overflow=\"visible\" id=\"glyph1-0\">\n",
       "<path style=\"stroke:none;\" d=\"\"/>\n",
       "</symbol>\n",
       "<symbol overflow=\"visible\" id=\"glyph1-1\">\n",
       "<path style=\"stroke:none;\" d=\"M 9.125 0 L 9.125 -4.71875 C 9.125 -5.84375 8.5 -6.46875 7.3125 -6.46875 C 6.484375 -6.46875 5.96875 -6.21875 5.390625 -5.515625 C 5.015625 -6.1875 4.515625 -6.46875 3.703125 -6.46875 C 2.859375 -6.46875 2.296875 -6.15625 1.765625 -5.40625 L 1.765625 -6.28125 L 0.859375 -6.28125 L 0.859375 0 L 1.84375 0 L 1.84375 -3.953125 C 1.84375 -4.859375 2.515625 -5.59375 3.328125 -5.59375 C 4.0625 -5.59375 4.484375 -5.140625 4.484375 -4.328125 L 4.484375 0 L 5.484375 0 L 5.484375 -3.953125 C 5.484375 -4.859375 6.15625 -5.59375 6.96875 -5.59375 C 7.703125 -5.59375 8.125 -5.125 8.125 -4.328125 L 8.125 0 Z M 9.125 0 \"/>\n",
       "</symbol>\n",
       "<symbol overflow=\"visible\" id=\"glyph1-2\">\n",
       "<path style=\"stroke:none;\" d=\"M 5.828125 -6.28125 L 4.703125 -6.28125 L 2.921875 -1.1875 L 1.25 -6.28125 L 0.125 -6.28125 L 2.328125 0 L 3.421875 0 Z M 5.828125 -6.28125 \"/>\n",
       "</symbol>\n",
       "<symbol overflow=\"visible\" id=\"glyph1-3\">\n",
       "<path style=\"stroke:none;\" d=\"M 3.046875 0 L 3.046875 -0.84375 C 2.921875 -0.796875 2.765625 -0.796875 2.5625 -0.796875 C 2.140625 -0.796875 2.015625 -0.90625 2.015625 -1.359375 L 2.015625 -5.46875 L 3.046875 -5.46875 L 3.046875 -6.28125 L 2.015625 -6.28125 L 2.015625 -8.015625 L 1.015625 -8.015625 L 1.015625 -6.28125 L 0.171875 -6.28125 L 0.171875 -5.46875 L 1.015625 -5.46875 L 1.015625 -0.90625 C 1.015625 -0.28125 1.453125 0.078125 2.234375 0.078125 C 2.46875 0.078125 2.71875 0.0625 3.046875 0 Z M 3.046875 0 \"/>\n",
       "</symbol>\n",
       "<symbol overflow=\"visible\" id=\"glyph1-4\">\n",
       "<path style=\"stroke:none;\" d=\"M 6.21875 -2.34375 C 6.21875 -3.1875 5.890625 -3.796875 5.203125 -4.1875 C 4.890625 -4.375 4.734375 -4.421875 3.625 -4.765625 L 3.625 -7.75 C 4.421875 -7.71875 4.984375 -7.109375 5 -6.234375 L 5.953125 -6.234375 C 5.953125 -7.59375 5.078125 -8.484375 3.625 -8.59375 L 3.625 -9.234375 L 2.921875 -9.234375 L 2.921875 -8.59375 C 1.375 -8.40625 0.546875 -7.5625 0.546875 -6.1875 C 0.546875 -5.4375 0.84375 -4.84375 1.40625 -4.4375 C 1.71875 -4.21875 2.046875 -4.078125 2.921875 -3.8125 L 2.921875 -0.546875 C 2.390625 -0.625 1.90625 -0.859375 1.640625 -1.234375 C 1.453125 -1.5 1.421875 -1.71875 1.34375 -2.5 L 0.390625 -2.5 C 0.390625 -2.421875 0.390625 -2.359375 0.390625 -2.296875 C 0.390625 -0.75 1.296875 0.1875 2.921875 0.28125 L 2.921875 1.515625 L 3.625 1.515625 L 3.625 0.28125 C 5.3125 0.15625 6.21875 -0.828125 6.21875 -2.34375 Z M 2.921875 -4.859375 C 1.96875 -5.109375 1.53125 -5.578125 1.53125 -6.3125 C 1.53125 -7.109375 2.03125 -7.625 2.921875 -7.734375 Z M 5.234375 -2.203125 C 5.234375 -1.34375 4.6875 -0.671875 3.625 -0.546875 L 3.625 -3.703125 C 4.84375 -3.34375 5.234375 -2.984375 5.234375 -2.203125 Z M 5.234375 -2.203125 \"/>\n",
       "</symbol>\n",
       "<symbol overflow=\"visible\" id=\"glyph1-5\">\n",
       "<path style=\"stroke:none;\" d=\"M 8 -4.375 C 8 -7.09375 6.65625 -8.75 4.4375 -8.75 L 1.0625 -8.75 L 1.0625 0 L 4.4375 0 C 6.640625 0 8 -1.65625 8 -4.375 Z M 6.890625 -4.375 C 6.890625 -2.15625 5.96875 -0.984375 4.25 -0.984375 L 2.1875 -0.984375 L 2.1875 -7.765625 L 4.25 -7.765625 C 5.96875 -7.765625 6.890625 -6.59375 6.890625 -4.375 Z M 6.890625 -4.375 \"/>\n",
       "</symbol>\n",
       "<symbol overflow=\"visible\" id=\"glyph1-6\">\n",
       "<path style=\"stroke:none;\" d=\"M 6.421875 -0.03125 L 6.421875 -0.78125 C 6.3125 -0.75 6.265625 -0.75 6.203125 -0.75 C 5.859375 -0.75 5.65625 -0.9375 5.65625 -1.25 L 5.65625 -4.75 C 5.65625 -5.875 4.84375 -6.46875 3.296875 -6.46875 C 1.78125 -6.46875 0.84375 -5.875 0.78125 -4.421875 L 1.78125 -4.421875 C 1.875 -5.203125 2.328125 -5.546875 3.265625 -5.546875 C 4.15625 -5.546875 4.671875 -5.203125 4.671875 -4.609375 L 4.671875 -4.34375 C 4.671875 -3.921875 4.421875 -3.75 3.625 -3.640625 C 2.203125 -3.46875 1.984375 -3.421875 1.609375 -3.265625 C 0.875 -2.96875 0.5 -2.40625 0.5 -1.625 C 0.5 -0.484375 1.296875 0.1875 2.5625 0.1875 C 3.375 0.1875 4.15625 -0.15625 4.703125 -0.75 C 4.8125 -0.265625 5.25 0.078125 5.734375 0.078125 C 5.9375 0.078125 6.09375 0.0625 6.421875 -0.03125 Z M 4.671875 -2.171875 C 4.671875 -1.265625 3.75 -0.703125 2.78125 -0.703125 C 2 -0.703125 1.546875 -0.96875 1.546875 -1.65625 C 1.546875 -2.3125 1.984375 -2.609375 3.0625 -2.765625 C 4.109375 -2.90625 4.328125 -2.953125 4.671875 -3.109375 Z M 4.671875 -2.171875 \"/>\n",
       "</symbol>\n",
       "<symbol overflow=\"visible\" id=\"glyph1-7\">\n",
       "<path style=\"stroke:none;\" d=\"M 6.15625 -2.859375 C 6.15625 -3.765625 6.078125 -4.34375 5.90625 -4.8125 C 5.5 -5.84375 4.53125 -6.46875 3.359375 -6.46875 C 1.609375 -6.46875 0.484375 -5.171875 0.484375 -3.109375 C 0.484375 -1.046875 1.578125 0.1875 3.34375 0.1875 C 4.78125 0.1875 5.765625 -0.640625 6.03125 -1.90625 L 5.015625 -1.90625 C 4.734375 -1.078125 4.171875 -0.75 3.375 -0.75 C 2.328125 -0.75 1.546875 -1.421875 1.53125 -2.859375 Z M 5.09375 -3.75 C 5.09375 -3.75 5.09375 -3.703125 5.078125 -3.671875 L 1.546875 -3.671875 C 1.625 -4.78125 2.34375 -5.546875 3.34375 -5.546875 C 4.328125 -5.546875 5.09375 -4.734375 5.09375 -3.75 Z M 5.09375 -3.75 \"/>\n",
       "</symbol>\n",
       "<symbol overflow=\"visible\" id=\"glyph1-8\">\n",
       "<path style=\"stroke:none;\" d=\"M 6.125 -6.015625 C 6.125 -7.453125 5.015625 -8.515625 3.40625 -8.515625 C 1.671875 -8.515625 0.65625 -7.625 0.59375 -5.5625 L 1.65625 -5.5625 C 1.734375 -6.984375 2.328125 -7.578125 3.375 -7.578125 C 4.328125 -7.578125 5.046875 -6.90625 5.046875 -5.984375 C 5.046875 -5.3125 4.65625 -4.734375 3.90625 -4.3125 L 2.796875 -3.6875 C 1.015625 -2.671875 0.5 -1.875 0.40625 0 L 6.078125 0 L 6.078125 -1.046875 L 1.59375 -1.046875 C 1.703125 -1.734375 2.09375 -2.1875 3.125 -2.796875 L 4.328125 -3.4375 C 5.515625 -4.078125 6.125 -4.96875 6.125 -6.015625 Z M 6.125 -6.015625 \"/>\n",
       "</symbol>\n",
       "<symbol overflow=\"visible\" id=\"glyph1-9\">\n",
       "<path style=\"stroke:none;\" d=\"M 6.078125 -4.09375 C 6.078125 -7.046875 5.140625 -8.515625 3.296875 -8.515625 C 1.46875 -8.515625 0.515625 -7.015625 0.515625 -4.15625 C 0.515625 -1.296875 1.46875 0.1875 3.296875 0.1875 C 5.09375 0.1875 6.078125 -1.296875 6.078125 -4.09375 Z M 5 -4.1875 C 5 -1.78125 4.453125 -0.703125 3.28125 -0.703125 C 2.15625 -0.703125 1.59375 -1.828125 1.59375 -4.15625 C 1.59375 -6.484375 2.15625 -7.578125 3.296875 -7.578125 C 4.4375 -7.578125 5 -6.46875 5 -4.1875 Z M 5 -4.1875 \"/>\n",
       "</symbol>\n",
       "<symbol overflow=\"visible\" id=\"glyph1-10\">\n",
       "<path style=\"stroke:none;\" d=\"M 6.078125 -2.46875 C 6.078125 -3.5 5.65625 -4.109375 4.625 -4.453125 C 5.421875 -4.765625 5.8125 -5.3125 5.8125 -6.171875 C 5.8125 -7.625 4.84375 -8.515625 3.234375 -8.515625 C 1.515625 -8.515625 0.59375 -7.578125 0.5625 -5.765625 L 1.625 -5.765625 C 1.640625 -7.015625 2.15625 -7.578125 3.234375 -7.578125 C 4.171875 -7.578125 4.734375 -7.03125 4.734375 -6.125 C 4.734375 -5.21875 4.34375 -4.84375 2.65625 -4.84375 L 2.65625 -3.953125 L 3.234375 -3.953125 C 4.390625 -3.953125 4.984375 -3.40625 4.984375 -2.453125 C 4.984375 -1.390625 4.328125 -0.75 3.234375 -0.75 C 2.078125 -0.75 1.515625 -1.328125 1.4375 -2.5625 L 0.390625 -2.5625 C 0.515625 -0.671875 1.453125 0.1875 3.1875 0.1875 C 4.9375 0.1875 6.078125 -0.859375 6.078125 -2.46875 Z M 6.078125 -2.46875 \"/>\n",
       "</symbol>\n",
       "<symbol overflow=\"visible\" id=\"glyph1-11\">\n",
       "<path style=\"stroke:none;\" d=\"M 6.234375 -2.046875 L 6.234375 -2.984375 L 4.984375 -2.984375 L 4.984375 -8.515625 L 4.203125 -8.515625 L 0.34375 -3.15625 L 0.34375 -2.046875 L 3.921875 -2.046875 L 3.921875 0 L 4.984375 0 L 4.984375 -2.046875 Z M 3.921875 -2.984375 L 1.265625 -2.984375 L 3.921875 -6.703125 Z M 3.921875 -2.984375 \"/>\n",
       "</symbol>\n",
       "<symbol overflow=\"visible\" id=\"glyph1-12\">\n",
       "<path style=\"stroke:none;\" d=\"M 6.15625 -2.8125 C 6.15625 -4.5 5.046875 -5.609375 3.40625 -5.609375 C 2.8125 -5.609375 2.328125 -5.453125 1.84375 -5.09375 L 2.171875 -7.28125 L 5.71875 -7.28125 L 5.71875 -8.328125 L 1.3125 -8.328125 L 0.6875 -3.875 L 1.65625 -3.875 C 2.140625 -4.46875 2.5625 -4.671875 3.21875 -4.671875 C 4.359375 -4.671875 5.078125 -3.9375 5.078125 -2.671875 C 5.078125 -1.453125 4.375 -0.75 3.21875 -0.75 C 2.296875 -0.75 1.734375 -1.21875 1.46875 -2.1875 L 0.421875 -2.1875 C 0.765625 -0.484375 1.734375 0.1875 3.234375 0.1875 C 4.953125 0.1875 6.15625 -1.015625 6.15625 -2.8125 Z M 6.15625 -2.8125 \"/>\n",
       "</symbol>\n",
       "<symbol overflow=\"visible\" id=\"glyph1-13\">\n",
       "<path style=\"stroke:none;\" d=\"M 6.234375 -7.4375 L 6.234375 -8.328125 L 0.546875 -8.328125 L 0.546875 -7.28125 L 5.140625 -7.28125 C 3.453125 -5.140625 2.25 -2.65625 1.65625 0 L 2.78125 0 C 3.25 -2.75 4.453125 -5.3125 6.234375 -7.4375 Z M 6.234375 -7.4375 \"/>\n",
       "</symbol>\n",
       "<symbol overflow=\"visible\" id=\"glyph1-14\">\n",
       "<path style=\"stroke:none;\" d=\"M 6.15625 -2.40625 C 6.15625 -3.34375 5.671875 -4.015625 4.6875 -4.46875 C 5.5625 -5 5.859375 -5.4375 5.859375 -6.234375 C 5.859375 -7.578125 4.8125 -8.515625 3.296875 -8.515625 C 1.796875 -8.515625 0.75 -7.578125 0.75 -6.234375 C 0.75 -5.453125 1.03125 -5.015625 1.890625 -4.46875 C 0.921875 -4.015625 0.4375 -3.34375 0.4375 -2.40625 C 0.4375 -0.859375 1.625 0.1875 3.296875 0.1875 C 4.984375 0.1875 6.15625 -0.859375 6.15625 -2.40625 Z M 4.78125 -6.21875 C 4.78125 -5.421875 4.1875 -4.890625 3.296875 -4.890625 C 2.40625 -4.890625 1.828125 -5.421875 1.828125 -6.234375 C 1.828125 -7.046875 2.40625 -7.578125 3.296875 -7.578125 C 4.203125 -7.578125 4.78125 -7.046875 4.78125 -6.21875 Z M 5.078125 -2.390625 C 5.078125 -1.375 4.359375 -0.75 3.28125 -0.75 C 2.25 -0.75 1.53125 -1.390625 1.53125 -2.390625 C 1.53125 -3.390625 2.25 -4.015625 3.296875 -4.015625 C 4.359375 -4.015625 5.078125 -3.390625 5.078125 -2.390625 Z M 5.078125 -2.390625 \"/>\n",
       "</symbol>\n",
       "<symbol overflow=\"visible\" id=\"glyph1-15\">\n",
       "<path style=\"stroke:none;\" d=\"M 6.109375 -4.453125 C 6.109375 -7.109375 5.1875 -8.515625 3.234375 -8.515625 C 1.625 -8.515625 0.453125 -7.359375 0.453125 -5.6875 C 0.453125 -4.109375 1.53125 -3.03125 3.078125 -3.03125 C 3.875 -3.03125 4.46875 -3.328125 5.015625 -3.984375 C 5 -1.90625 4.328125 -0.75 3.125 -0.75 C 2.375 -0.75 1.859375 -1.21875 1.6875 -2.046875 L 0.640625 -2.046875 C 0.84375 -0.640625 1.75 0.1875 3.046875 0.1875 C 5.046875 0.1875 6.109375 -1.515625 6.109375 -4.453125 Z M 4.953125 -5.71875 C 4.953125 -4.671875 4.21875 -3.96875 3.1875 -3.96875 C 2.171875 -3.96875 1.53125 -4.625 1.53125 -5.765625 C 1.53125 -6.859375 2.25 -7.578125 3.234375 -7.578125 C 4.21875 -7.578125 4.953125 -6.8125 4.953125 -5.71875 Z M 4.953125 -5.71875 \"/>\n",
       "</symbol>\n",
       "<symbol overflow=\"visible\" id=\"glyph1-16\">\n",
       "<path style=\"stroke:none;\" d=\"M 4.15625 0 L 4.15625 -8.515625 L 3.46875 -8.515625 C 3.09375 -7.203125 2.859375 -7.015625 1.21875 -6.8125 L 1.21875 -6.0625 L 3.109375 -6.0625 L 3.109375 0 Z M 4.15625 0 \"/>\n",
       "</symbol>\n",
       "<symbol overflow=\"visible\" id=\"glyph2-0\">\n",
       "<path style=\"stroke:none;\" d=\"\"/>\n",
       "</symbol>\n",
       "<symbol overflow=\"visible\" id=\"glyph2-1\">\n",
       "<path style=\"stroke:none;\" d=\"M -4.375 -8 C -7.09375 -8 -8.75 -6.65625 -8.75 -4.4375 L -8.75 -1.0625 L 0 -1.0625 L 0 -4.4375 C 0 -6.640625 -1.65625 -8 -4.375 -8 Z M -4.375 -6.890625 C -2.15625 -6.890625 -0.984375 -5.96875 -0.984375 -4.25 L -0.984375 -2.1875 L -7.765625 -2.1875 L -7.765625 -4.25 C -7.765625 -5.96875 -6.59375 -6.890625 -4.375 -6.890625 Z M -4.375 -6.890625 \"/>\n",
       "</symbol>\n",
       "<symbol overflow=\"visible\" id=\"glyph2-2\">\n",
       "<path style=\"stroke:none;\" d=\"M -2.859375 -6.15625 C -3.765625 -6.15625 -4.34375 -6.078125 -4.8125 -5.90625 C -5.84375 -5.5 -6.46875 -4.53125 -6.46875 -3.359375 C -6.46875 -1.609375 -5.171875 -0.484375 -3.109375 -0.484375 C -1.046875 -0.484375 0.1875 -1.578125 0.1875 -3.34375 C 0.1875 -4.78125 -0.640625 -5.765625 -1.90625 -6.03125 L -1.90625 -5.015625 C -1.078125 -4.734375 -0.75 -4.171875 -0.75 -3.375 C -0.75 -2.328125 -1.421875 -1.546875 -2.859375 -1.53125 Z M -3.75 -5.09375 C -3.75 -5.09375 -3.703125 -5.09375 -3.671875 -5.078125 L -3.671875 -1.546875 C -4.78125 -1.625 -5.546875 -2.34375 -5.546875 -3.34375 C -5.546875 -4.328125 -4.734375 -5.09375 -3.75 -5.09375 Z M -3.75 -5.09375 \"/>\n",
       "</symbol>\n",
       "<symbol overflow=\"visible\" id=\"glyph2-3\">\n",
       "<path style=\"stroke:none;\" d=\"M 0 -5.84375 L -4.75 -5.84375 C -5.796875 -5.84375 -6.46875 -5.0625 -6.46875 -3.859375 C -6.46875 -2.921875 -6.109375 -2.3125 -5.234375 -1.765625 L -6.28125 -1.765625 L -6.28125 -0.84375 L 0 -0.84375 L 0 -1.84375 L -3.46875 -1.84375 C -4.75 -1.84375 -5.59375 -2.53125 -5.59375 -3.546875 C -5.59375 -4.34375 -5.109375 -4.84375 -4.359375 -4.84375 L 0 -4.84375 Z M 0 -5.84375 \"/>\n",
       "</symbol>\n",
       "<symbol overflow=\"visible\" id=\"glyph2-4\">\n",
       "<path style=\"stroke:none;\" d=\"M -1.765625 -5.515625 C -2.703125 -5.515625 -3.171875 -4.984375 -3.46875 -3.734375 L -3.703125 -2.765625 C -3.890625 -1.953125 -4.15625 -1.609375 -4.59375 -1.609375 C -5.171875 -1.609375 -5.546875 -2.125 -5.546875 -2.9375 C -5.546875 -3.75 -5.203125 -4.171875 -4.53125 -4.203125 L -4.53125 -5.25 C -5.765625 -5.25 -6.46875 -4.421875 -6.46875 -2.96875 C -6.46875 -1.515625 -5.71875 -0.5625 -4.546875 -0.5625 C -3.5625 -0.5625 -3.09375 -1.0625 -2.734375 -2.5625 L -2.515625 -3.484375 C -2.34375 -4.1875 -2.140625 -4.46875 -1.6875 -4.46875 C -1.09375 -4.46875 -0.75 -3.875 -0.75 -3 C -0.75 -2.09375 -0.953125 -1.59375 -1.921875 -1.46875 L -1.921875 -0.40625 C -0.46875 -0.453125 0.1875 -1.265625 0.1875 -2.921875 C 0.1875 -4.5 -0.546875 -5.515625 -1.765625 -5.515625 Z M -1.765625 -5.515625 \"/>\n",
       "</symbol>\n",
       "<symbol overflow=\"visible\" id=\"glyph2-5\">\n",
       "<path style=\"stroke:none;\" d=\"M 0 -1.84375 L -6.28125 -1.84375 L -6.28125 -0.84375 L 0 -0.84375 Z M -7.234375 -1.96875 L -8.484375 -1.96875 L -8.484375 -0.71875 L -7.234375 -0.71875 Z M -7.234375 -1.96875 \"/>\n",
       "</symbol>\n",
       "<symbol overflow=\"visible\" id=\"glyph2-6\">\n",
       "<path style=\"stroke:none;\" d=\"M 0 -3.046875 L -0.84375 -3.046875 C -0.796875 -2.921875 -0.796875 -2.765625 -0.796875 -2.5625 C -0.796875 -2.140625 -0.90625 -2.015625 -1.359375 -2.015625 L -5.46875 -2.015625 L -5.46875 -3.046875 L -6.28125 -3.046875 L -6.28125 -2.015625 L -8.015625 -2.015625 L -8.015625 -1.015625 L -6.28125 -1.015625 L -6.28125 -0.171875 L -5.46875 -0.171875 L -5.46875 -1.015625 L -0.90625 -1.015625 C -0.28125 -1.015625 0.078125 -1.453125 0.078125 -2.234375 C 0.078125 -2.46875 0.0625 -2.71875 0 -3.046875 Z M 0 -3.046875 \"/>\n",
       "</symbol>\n",
       "<symbol overflow=\"visible\" id=\"glyph2-7\">\n",
       "<path style=\"stroke:none;\" d=\"M -6.28125 -5.734375 L -6.28125 -4.65625 L -1.390625 -2.921875 L -6.28125 -1.3125 L -6.28125 -0.234375 L 0.03125 -2.359375 L 1.015625 -1.984375 C 1.46875 -1.8125 1.625 -1.609375 1.625 -1.171875 C 1.625 -1.03125 1.609375 -0.859375 1.5625 -0.640625 L 2.453125 -0.640625 C 2.5625 -0.859375 2.609375 -1.0625 2.609375 -1.3125 C 2.609375 -2.03125 2.21875 -2.609375 1.3125 -2.9375 Z M -6.28125 -5.734375 \"/>\n",
       "</symbol>\n",
       "<symbol overflow=\"visible\" id=\"glyph2-8\">\n",
       "<path style=\"stroke:none;\" d=\"M -4.09375 -6.078125 C -7.046875 -6.078125 -8.515625 -5.140625 -8.515625 -3.296875 C -8.515625 -1.46875 -7.015625 -0.515625 -4.15625 -0.515625 C -1.296875 -0.515625 0.1875 -1.46875 0.1875 -3.296875 C 0.1875 -5.09375 -1.296875 -6.078125 -4.09375 -6.078125 Z M -4.1875 -5 C -1.78125 -5 -0.703125 -4.453125 -0.703125 -3.28125 C -0.703125 -2.15625 -1.828125 -1.59375 -4.15625 -1.59375 C -6.484375 -1.59375 -7.578125 -2.15625 -7.578125 -3.296875 C -7.578125 -4.4375 -6.46875 -5 -4.1875 -5 Z M -4.1875 -5 \"/>\n",
       "</symbol>\n",
       "<symbol overflow=\"visible\" id=\"glyph2-9\">\n",
       "<path style=\"stroke:none;\" d=\"M 0 -2.296875 L -1.25 -2.296875 L -1.25 -1.046875 L 0 -1.046875 Z M 0 -2.296875 \"/>\n",
       "</symbol>\n",
       "<symbol overflow=\"visible\" id=\"glyph2-10\">\n",
       "<path style=\"stroke:none;\" d=\"M 0 -4.15625 L -8.515625 -4.15625 L -8.515625 -3.46875 C -7.203125 -3.09375 -7.015625 -2.859375 -6.8125 -1.21875 L -6.0625 -1.21875 L -6.0625 -3.109375 L 0 -3.109375 Z M 0 -4.15625 \"/>\n",
       "</symbol>\n",
       "<symbol overflow=\"visible\" id=\"glyph2-11\">\n",
       "<path style=\"stroke:none;\" d=\"M -2.8125 -6.15625 C -4.5 -6.15625 -5.609375 -5.046875 -5.609375 -3.40625 C -5.609375 -2.8125 -5.453125 -2.328125 -5.09375 -1.84375 L -7.28125 -2.171875 L -7.28125 -5.71875 L -8.328125 -5.71875 L -8.328125 -1.3125 L -3.875 -0.6875 L -3.875 -1.65625 C -4.46875 -2.140625 -4.671875 -2.5625 -4.671875 -3.21875 C -4.671875 -4.359375 -3.9375 -5.078125 -2.671875 -5.078125 C -1.453125 -5.078125 -0.75 -4.375 -0.75 -3.21875 C -0.75 -2.296875 -1.21875 -1.734375 -2.1875 -1.46875 L -2.1875 -0.421875 C -0.484375 -0.765625 0.1875 -1.734375 0.1875 -3.234375 C 0.1875 -4.953125 -1.015625 -6.15625 -2.8125 -6.15625 Z M -2.8125 -6.15625 \"/>\n",
       "</symbol>\n",
       "<symbol overflow=\"visible\" id=\"glyph2-12\">\n",
       "<path style=\"stroke:none;\" d=\"M -2.46875 -6.078125 C -3.5 -6.078125 -4.109375 -5.65625 -4.453125 -4.625 C -4.765625 -5.421875 -5.3125 -5.8125 -6.171875 -5.8125 C -7.625 -5.8125 -8.515625 -4.84375 -8.515625 -3.234375 C -8.515625 -1.515625 -7.578125 -0.59375 -5.765625 -0.5625 L -5.765625 -1.625 C -7.015625 -1.640625 -7.578125 -2.15625 -7.578125 -3.234375 C -7.578125 -4.171875 -7.03125 -4.734375 -6.125 -4.734375 C -5.21875 -4.734375 -4.84375 -4.34375 -4.84375 -2.65625 L -3.953125 -2.65625 L -3.953125 -3.234375 C -3.953125 -4.390625 -3.40625 -4.984375 -2.453125 -4.984375 C -1.390625 -4.984375 -0.75 -4.328125 -0.75 -3.234375 C -0.75 -2.078125 -1.328125 -1.515625 -2.5625 -1.4375 L -2.5625 -0.390625 C -0.671875 -0.515625 0.1875 -1.453125 0.1875 -3.1875 C 0.1875 -4.9375 -0.859375 -6.078125 -2.46875 -6.078125 Z M -2.46875 -6.078125 \"/>\n",
       "</symbol>\n",
       "</g>\n",
       "</defs>\n",
       "<g id=\"surface111\">\n",
       "<rect x=\"0\" y=\"0\" width=\"504\" height=\"288\" style=\"fill:rgb(100%,100%,100%);fill-opacity:1;stroke:none;\"/>\n",
       "<g style=\"fill:rgb(0%,0%,0%);fill-opacity:1;\">\n",
       "  <use xlink:href=\"#glyph0-1\" x=\"187.398438\" y=\"34.21875\"/>\n",
       "  <use xlink:href=\"#glyph0-2\" x=\"197.799805\" y=\"34.21875\"/>\n",
       "  <use xlink:href=\"#glyph0-3\" x=\"201.804688\" y=\"34.21875\"/>\n",
       "  <use xlink:href=\"#glyph0-4\" x=\"209.814453\" y=\"34.21875\"/>\n",
       "  <use xlink:href=\"#glyph0-5\" x=\"214.467773\" y=\"34.21875\"/>\n",
       "  <use xlink:href=\"#glyph0-6\" x=\"223.269531\" y=\"34.21875\"/>\n",
       "  <use xlink:href=\"#glyph0-7\" x=\"232.071289\" y=\"34.21875\"/>\n",
       "  <use xlink:href=\"#glyph0-8\" x=\"237.74707\" y=\"34.21875\"/>\n",
       "  <use xlink:href=\"#glyph0-9\" x=\"245.756836\" y=\"34.21875\"/>\n",
       "  <use xlink:href=\"#glyph0-10\" x=\"258.563477\" y=\"34.21875\"/>\n",
       "  <use xlink:href=\"#glyph0-5\" x=\"262.568359\" y=\"34.21875\"/>\n",
       "  <use xlink:href=\"#glyph0-11\" x=\"271.370117\" y=\"34.21875\"/>\n",
       "  <use xlink:href=\"#glyph0-10\" x=\"276.166992\" y=\"34.21875\"/>\n",
       "  <use xlink:href=\"#glyph0-9\" x=\"280.171875\" y=\"34.21875\"/>\n",
       "  <use xlink:href=\"#glyph0-12\" x=\"292.69043\" y=\"34.21875\"/>\n",
       "  <use xlink:href=\"#glyph0-4\" x=\"300.700195\" y=\"34.21875\"/>\n",
       "  <use xlink:href=\"#glyph0-13\" x=\"305.49707\" y=\"34.21875\"/>\n",
       "  <use xlink:href=\"#glyph0-14\" x=\"313.506836\" y=\"34.21875\"/>\n",
       "  <use xlink:href=\"#glyph0-8\" x=\"323.908203\" y=\"34.21875\"/>\n",
       "  <use xlink:href=\"#glyph0-4\" x=\"331.917969\" y=\"34.21875\"/>\n",
       "  <use xlink:href=\"#glyph0-15\" x=\"336.643555\" y=\"34.21875\"/>\n",
       "</g>\n",
       "<g style=\"fill:rgb(0%,0%,0%);fill-opacity:1;\">\n",
       "  <use xlink:href=\"#glyph1-1\" x=\"240.898438\" y=\"269.057617\"/>\n",
       "  <use xlink:href=\"#glyph1-2\" x=\"250.714844\" y=\"269.057617\"/>\n",
       "  <use xlink:href=\"#glyph1-3\" x=\"256.714844\" y=\"269.057617\"/>\n",
       "  <use xlink:href=\"#glyph1-4\" x=\"260.050781\" y=\"269.057617\"/>\n",
       "  <use xlink:href=\"#glyph1-5\" x=\"266.722656\" y=\"269.057617\"/>\n",
       "  <use xlink:href=\"#glyph1-6\" x=\"275.386719\" y=\"269.057617\"/>\n",
       "  <use xlink:href=\"#glyph1-3\" x=\"282.058594\" y=\"269.057617\"/>\n",
       "  <use xlink:href=\"#glyph1-7\" x=\"285.214844\" y=\"269.057617\"/>\n",
       "</g>\n",
       "<g style=\"fill:rgb(0%,0%,0%);fill-opacity:1;\">\n",
       "  <use xlink:href=\"#glyph2-1\" x=\"12.737305\" y=\"157.300781\"/>\n",
       "  <use xlink:href=\"#glyph2-2\" x=\"12.737305\" y=\"148.636719\"/>\n",
       "  <use xlink:href=\"#glyph2-3\" x=\"12.737305\" y=\"141.964844\"/>\n",
       "  <use xlink:href=\"#glyph2-4\" x=\"12.737305\" y=\"135.292969\"/>\n",
       "  <use xlink:href=\"#glyph2-5\" x=\"12.737305\" y=\"129.292969\"/>\n",
       "  <use xlink:href=\"#glyph2-6\" x=\"12.737305\" y=\"126.628906\"/>\n",
       "  <use xlink:href=\"#glyph2-7\" x=\"12.737305\" y=\"123.292969\"/>\n",
       "</g>\n",
       "<path style=\"fill:none;stroke-width:0.75;stroke-linecap:round;stroke-linejoin:round;stroke:rgb(0%,0%,0%);stroke-opacity:1;stroke-miterlimit:10;\" d=\"M 74.398438 208.800781 L 78.714844 208.800781 L 78.714844 151.34375 L 74.398438 151.34375 Z M 74.398438 208.800781 \"/>\n",
       "<path style=\"fill:none;stroke-width:0.75;stroke-linecap:round;stroke-linejoin:round;stroke:rgb(0%,0%,0%);stroke-opacity:1;stroke-miterlimit:10;\" d=\"M 78.714844 208.800781 L 83.03125 208.800781 L 83.03125 110.523438 L 78.714844 110.523438 Z M 78.714844 208.800781 \"/>\n",
       "<path style=\"fill:none;stroke-width:0.75;stroke-linecap:round;stroke-linejoin:round;stroke:rgb(0%,0%,0%);stroke-opacity:1;stroke-miterlimit:10;\" d=\"M 83.027344 208.800781 L 87.34375 208.800781 L 87.34375 104.277344 L 83.027344 104.277344 Z M 83.027344 208.800781 \"/>\n",
       "<path style=\"fill:none;stroke-width:0.75;stroke-linecap:round;stroke-linejoin:round;stroke:rgb(0%,0%,0%);stroke-opacity:1;stroke-miterlimit:10;\" d=\"M 87.34375 208.800781 L 91.660156 208.800781 L 91.660156 98.078125 L 87.34375 98.078125 Z M 87.34375 208.800781 \"/>\n",
       "<path style=\"fill:none;stroke-width:0.75;stroke-linecap:round;stroke-linejoin:round;stroke:rgb(0%,0%,0%);stroke-opacity:1;stroke-miterlimit:10;\" d=\"M 91.660156 208.800781 L 95.976562 208.800781 L 95.976562 80.976562 L 91.660156 80.976562 Z M 91.660156 208.800781 \"/>\n",
       "<path style=\"fill:none;stroke-width:0.75;stroke-linecap:round;stroke-linejoin:round;stroke:rgb(0%,0%,0%);stroke-opacity:1;stroke-miterlimit:10;\" d=\"M 95.972656 208.800781 L 100.289062 208.800781 L 100.289062 76.535156 L 95.972656 76.535156 Z M 95.972656 208.800781 \"/>\n",
       "<path style=\"fill:none;stroke-width:0.75;stroke-linecap:round;stroke-linejoin:round;stroke:rgb(0%,0%,0%);stroke-opacity:1;stroke-miterlimit:10;\" d=\"M 100.289062 208.800781 L 104.605469 208.800781 L 104.605469 64.800781 L 100.289062 64.800781 Z M 100.289062 208.800781 \"/>\n",
       "<path style=\"fill:none;stroke-width:0.75;stroke-linecap:round;stroke-linejoin:round;stroke:rgb(0%,0%,0%);stroke-opacity:1;stroke-miterlimit:10;\" d=\"M 104.601562 208.800781 L 108.917969 208.800781 L 108.917969 88.648438 L 104.601562 88.648438 Z M 104.601562 208.800781 \"/>\n",
       "<path style=\"fill:none;stroke-width:0.75;stroke-linecap:round;stroke-linejoin:round;stroke:rgb(0%,0%,0%);stroke-opacity:1;stroke-miterlimit:10;\" d=\"M 108.917969 208.800781 L 113.234375 208.800781 L 113.234375 100.632812 L 108.917969 100.632812 Z M 108.917969 208.800781 \"/>\n",
       "<path style=\"fill:none;stroke-width:0.75;stroke-linecap:round;stroke-linejoin:round;stroke:rgb(0%,0%,0%);stroke-opacity:1;stroke-miterlimit:10;\" d=\"M 113.230469 208.800781 L 117.546875 208.800781 L 117.546875 99.332031 L 113.230469 99.332031 Z M 113.230469 208.800781 \"/>\n",
       "<path style=\"fill:none;stroke-width:0.75;stroke-linecap:round;stroke-linejoin:round;stroke:rgb(0%,0%,0%);stroke-opacity:1;stroke-miterlimit:10;\" d=\"M 117.546875 208.800781 L 121.863281 208.800781 L 121.863281 107.085938 L 117.546875 107.085938 Z M 117.546875 208.800781 \"/>\n",
       "<path style=\"fill:none;stroke-width:0.75;stroke-linecap:round;stroke-linejoin:round;stroke:rgb(0%,0%,0%);stroke-opacity:1;stroke-miterlimit:10;\" d=\"M 121.859375 208.800781 L 126.175781 208.800781 L 126.175781 97.195312 L 121.859375 97.195312 Z M 121.859375 208.800781 \"/>\n",
       "<path style=\"fill:none;stroke-width:0.75;stroke-linecap:round;stroke-linejoin:round;stroke:rgb(0%,0%,0%);stroke-opacity:1;stroke-miterlimit:10;\" d=\"M 126.175781 208.800781 L 130.492188 208.800781 L 130.492188 96.734375 L 126.175781 96.734375 Z M 126.175781 208.800781 \"/>\n",
       "<path style=\"fill:none;stroke-width:0.75;stroke-linecap:round;stroke-linejoin:round;stroke:rgb(0%,0%,0%);stroke-opacity:1;stroke-miterlimit:10;\" d=\"M 130.488281 208.800781 L 134.804688 208.800781 L 134.804688 93.300781 L 130.488281 93.300781 Z M 130.488281 208.800781 \"/>\n",
       "<path style=\"fill:none;stroke-width:0.75;stroke-linecap:round;stroke-linejoin:round;stroke:rgb(0%,0%,0%);stroke-opacity:1;stroke-miterlimit:10;\" d=\"M 134.804688 208.800781 L 139.121094 208.800781 L 139.121094 114.628906 L 134.804688 114.628906 Z M 134.804688 208.800781 \"/>\n",
       "<path style=\"fill:none;stroke-width:0.75;stroke-linecap:round;stroke-linejoin:round;stroke:rgb(0%,0%,0%);stroke-opacity:1;stroke-miterlimit:10;\" d=\"M 139.117188 208.800781 L 143.433594 208.800781 L 143.433594 120.625 L 139.117188 120.625 Z M 139.117188 208.800781 \"/>\n",
       "<path style=\"fill:none;stroke-width:0.75;stroke-linecap:round;stroke-linejoin:round;stroke:rgb(0%,0%,0%);stroke-opacity:1;stroke-miterlimit:10;\" d=\"M 143.433594 208.800781 L 147.75 208.800781 L 147.75 117.816406 L 143.433594 117.816406 Z M 143.433594 208.800781 \"/>\n",
       "<path style=\"fill:none;stroke-width:0.75;stroke-linecap:round;stroke-linejoin:round;stroke:rgb(0%,0%,0%);stroke-opacity:1;stroke-miterlimit:10;\" d=\"M 147.75 208.800781 L 152.066406 208.800781 L 152.066406 111.402344 L 147.75 111.402344 Z M 147.75 208.800781 \"/>\n",
       "<path style=\"fill:none;stroke-width:0.75;stroke-linecap:round;stroke-linejoin:round;stroke:rgb(0%,0%,0%);stroke-opacity:1;stroke-miterlimit:10;\" d=\"M 152.0625 208.800781 L 156.378906 208.800781 L 156.378906 111.152344 L 152.0625 111.152344 Z M 152.0625 208.800781 \"/>\n",
       "<path style=\"fill:none;stroke-width:0.75;stroke-linecap:round;stroke-linejoin:round;stroke:rgb(0%,0%,0%);stroke-opacity:1;stroke-miterlimit:10;\" d=\"M 156.378906 208.800781 L 160.695312 208.800781 L 160.695312 111.949219 L 156.378906 111.949219 Z M 156.378906 208.800781 \"/>\n",
       "<path style=\"fill:none;stroke-width:0.75;stroke-linecap:round;stroke-linejoin:round;stroke:rgb(0%,0%,0%);stroke-opacity:1;stroke-miterlimit:10;\" d=\"M 160.691406 208.800781 L 165.007812 208.800781 L 165.007812 108.847656 L 160.691406 108.847656 Z M 160.691406 208.800781 \"/>\n",
       "<path style=\"fill:none;stroke-width:0.75;stroke-linecap:round;stroke-linejoin:round;stroke:rgb(0%,0%,0%);stroke-opacity:1;stroke-miterlimit:10;\" d=\"M 165.007812 208.800781 L 169.324219 208.800781 L 169.324219 108.597656 L 165.007812 108.597656 Z M 165.007812 208.800781 \"/>\n",
       "<path style=\"fill:none;stroke-width:0.75;stroke-linecap:round;stroke-linejoin:round;stroke:rgb(0%,0%,0%);stroke-opacity:1;stroke-miterlimit:10;\" d=\"M 169.320312 208.800781 L 173.636719 208.800781 L 173.636719 118.402344 L 169.320312 118.402344 Z M 169.320312 208.800781 \"/>\n",
       "<path style=\"fill:none;stroke-width:0.75;stroke-linecap:round;stroke-linejoin:round;stroke:rgb(0%,0%,0%);stroke-opacity:1;stroke-miterlimit:10;\" d=\"M 173.636719 208.800781 L 177.953125 208.800781 L 177.953125 113.707031 L 173.636719 113.707031 Z M 173.636719 208.800781 \"/>\n",
       "<path style=\"fill:none;stroke-width:0.75;stroke-linecap:round;stroke-linejoin:round;stroke:rgb(0%,0%,0%);stroke-opacity:1;stroke-miterlimit:10;\" d=\"M 177.949219 208.800781 L 182.265625 208.800781 L 182.265625 111.445312 L 177.949219 111.445312 Z M 177.949219 208.800781 \"/>\n",
       "<path style=\"fill:none;stroke-width:0.75;stroke-linecap:round;stroke-linejoin:round;stroke:rgb(0%,0%,0%);stroke-opacity:1;stroke-miterlimit:10;\" d=\"M 182.265625 208.800781 L 186.582031 208.800781 L 186.582031 108.007812 L 182.265625 108.007812 Z M 182.265625 208.800781 \"/>\n",
       "<path style=\"fill:none;stroke-width:0.75;stroke-linecap:round;stroke-linejoin:round;stroke:rgb(0%,0%,0%);stroke-opacity:1;stroke-miterlimit:10;\" d=\"M 186.578125 208.800781 L 190.894531 208.800781 L 190.894531 107.882812 L 186.578125 107.882812 Z M 186.578125 208.800781 \"/>\n",
       "<path style=\"fill:none;stroke-width:0.75;stroke-linecap:round;stroke-linejoin:round;stroke:rgb(0%,0%,0%);stroke-opacity:1;stroke-miterlimit:10;\" d=\"M 190.894531 208.800781 L 195.210938 208.800781 L 195.210938 115.09375 L 190.894531 115.09375 Z M 190.894531 208.800781 \"/>\n",
       "<path style=\"fill:none;stroke-width:0.75;stroke-linecap:round;stroke-linejoin:round;stroke:rgb(0%,0%,0%);stroke-opacity:1;stroke-miterlimit:10;\" d=\"M 195.210938 208.800781 L 199.527344 208.800781 L 199.527344 113.582031 L 195.210938 113.582031 Z M 195.210938 208.800781 \"/>\n",
       "<path style=\"fill:none;stroke-width:0.75;stroke-linecap:round;stroke-linejoin:round;stroke:rgb(0%,0%,0%);stroke-opacity:1;stroke-miterlimit:10;\" d=\"M 199.523438 208.800781 L 203.839844 208.800781 L 203.839844 114.796875 L 199.523438 114.796875 Z M 199.523438 208.800781 \"/>\n",
       "<path style=\"fill:none;stroke-width:0.75;stroke-linecap:round;stroke-linejoin:round;stroke:rgb(0%,0%,0%);stroke-opacity:1;stroke-miterlimit:10;\" d=\"M 203.839844 208.800781 L 208.15625 208.800781 L 208.15625 119.242188 L 203.839844 119.242188 Z M 203.839844 208.800781 \"/>\n",
       "<path style=\"fill:none;stroke-width:0.75;stroke-linecap:round;stroke-linejoin:round;stroke:rgb(0%,0%,0%);stroke-opacity:1;stroke-miterlimit:10;\" d=\"M 208.152344 208.800781 L 212.46875 208.800781 L 212.46875 115.09375 L 208.152344 115.09375 Z M 208.152344 208.800781 \"/>\n",
       "<path style=\"fill:none;stroke-width:0.75;stroke-linecap:round;stroke-linejoin:round;stroke:rgb(0%,0%,0%);stroke-opacity:1;stroke-miterlimit:10;\" d=\"M 212.46875 208.800781 L 216.785156 208.800781 L 216.785156 114.714844 L 212.46875 114.714844 Z M 212.46875 208.800781 \"/>\n",
       "<path style=\"fill:none;stroke-width:0.75;stroke-linecap:round;stroke-linejoin:round;stroke:rgb(0%,0%,0%);stroke-opacity:1;stroke-miterlimit:10;\" d=\"M 216.78125 208.800781 L 221.097656 208.800781 L 221.097656 120.539062 L 216.78125 120.539062 Z M 216.78125 208.800781 \"/>\n",
       "<path style=\"fill:none;stroke-width:0.75;stroke-linecap:round;stroke-linejoin:round;stroke:rgb(0%,0%,0%);stroke-opacity:1;stroke-miterlimit:10;\" d=\"M 221.097656 208.800781 L 225.414062 208.800781 L 225.414062 115.847656 L 221.097656 115.847656 Z M 221.097656 208.800781 \"/>\n",
       "<path style=\"fill:none;stroke-width:0.75;stroke-linecap:round;stroke-linejoin:round;stroke:rgb(0%,0%,0%);stroke-opacity:1;stroke-miterlimit:10;\" d=\"M 225.410156 208.800781 L 229.726562 208.800781 L 229.726562 106.585938 L 225.410156 106.585938 Z M 225.410156 208.800781 \"/>\n",
       "<path style=\"fill:none;stroke-width:0.75;stroke-linecap:round;stroke-linejoin:round;stroke:rgb(0%,0%,0%);stroke-opacity:1;stroke-miterlimit:10;\" d=\"M 229.726562 208.800781 L 234.042969 208.800781 L 234.042969 105.285156 L 229.726562 105.285156 Z M 229.726562 208.800781 \"/>\n",
       "<path style=\"fill:none;stroke-width:0.75;stroke-linecap:round;stroke-linejoin:round;stroke:rgb(0%,0%,0%);stroke-opacity:1;stroke-miterlimit:10;\" d=\"M 234.039062 208.800781 L 238.355469 208.800781 L 238.355469 107.507812 L 234.039062 107.507812 Z M 234.039062 208.800781 \"/>\n",
       "<path style=\"fill:none;stroke-width:0.75;stroke-linecap:round;stroke-linejoin:round;stroke:rgb(0%,0%,0%);stroke-opacity:1;stroke-miterlimit:10;\" d=\"M 238.355469 208.800781 L 242.671875 208.800781 L 242.671875 116.808594 L 238.355469 116.808594 Z M 238.355469 208.800781 \"/>\n",
       "<path style=\"fill:none;stroke-width:0.75;stroke-linecap:round;stroke-linejoin:round;stroke:rgb(0%,0%,0%);stroke-opacity:1;stroke-miterlimit:10;\" d=\"M 242.667969 208.800781 L 246.984375 208.800781 L 246.984375 114.628906 L 242.667969 114.628906 Z M 242.667969 208.800781 \"/>\n",
       "<path style=\"fill:none;stroke-width:0.75;stroke-linecap:round;stroke-linejoin:round;stroke:rgb(0%,0%,0%);stroke-opacity:1;stroke-miterlimit:10;\" d=\"M 246.984375 208.800781 L 251.300781 208.800781 L 251.300781 110.019531 L 246.984375 110.019531 Z M 246.984375 208.800781 \"/>\n",
       "<path style=\"fill:none;stroke-width:0.75;stroke-linecap:round;stroke-linejoin:round;stroke:rgb(0%,0%,0%);stroke-opacity:1;stroke-miterlimit:10;\" d=\"M 251.300781 208.800781 L 255.617188 208.800781 L 255.617188 116.726562 L 251.300781 116.726562 Z M 251.300781 208.800781 \"/>\n",
       "<path style=\"fill:none;stroke-width:0.75;stroke-linecap:round;stroke-linejoin:round;stroke:rgb(0%,0%,0%);stroke-opacity:1;stroke-miterlimit:10;\" d=\"M 255.613281 208.800781 L 259.929688 208.800781 L 259.929688 121.167969 L 255.613281 121.167969 Z M 255.613281 208.800781 \"/>\n",
       "<path style=\"fill:none;stroke-width:0.75;stroke-linecap:round;stroke-linejoin:round;stroke:rgb(0%,0%,0%);stroke-opacity:1;stroke-miterlimit:10;\" d=\"M 259.929688 208.800781 L 264.246094 208.800781 L 264.246094 125.109375 L 259.929688 125.109375 Z M 259.929688 208.800781 \"/>\n",
       "<path style=\"fill:none;stroke-width:0.75;stroke-linecap:round;stroke-linejoin:round;stroke:rgb(0%,0%,0%);stroke-opacity:1;stroke-miterlimit:10;\" d=\"M 264.242188 208.800781 L 268.558594 208.800781 L 268.558594 124.355469 L 264.242188 124.355469 Z M 264.242188 208.800781 \"/>\n",
       "<path style=\"fill:none;stroke-width:0.75;stroke-linecap:round;stroke-linejoin:round;stroke:rgb(0%,0%,0%);stroke-opacity:1;stroke-miterlimit:10;\" d=\"M 268.558594 208.800781 L 272.875 208.800781 L 272.875 130.765625 L 268.558594 130.765625 Z M 268.558594 208.800781 \"/>\n",
       "<path style=\"fill:none;stroke-width:0.75;stroke-linecap:round;stroke-linejoin:round;stroke:rgb(0%,0%,0%);stroke-opacity:1;stroke-miterlimit:10;\" d=\"M 272.871094 208.800781 L 277.1875 208.800781 L 277.1875 128.628906 L 272.871094 128.628906 Z M 272.871094 208.800781 \"/>\n",
       "<path style=\"fill:none;stroke-width:0.75;stroke-linecap:round;stroke-linejoin:round;stroke:rgb(0%,0%,0%);stroke-opacity:1;stroke-miterlimit:10;\" d=\"M 277.1875 208.800781 L 281.503906 208.800781 L 281.503906 125.109375 L 277.1875 125.109375 Z M 277.1875 208.800781 \"/>\n",
       "<path style=\"fill:none;stroke-width:0.75;stroke-linecap:round;stroke-linejoin:round;stroke:rgb(0%,0%,0%);stroke-opacity:1;stroke-miterlimit:10;\" d=\"M 281.5 208.800781 L 285.816406 208.800781 L 285.816406 125.191406 L 281.5 125.191406 Z M 281.5 208.800781 \"/>\n",
       "<path style=\"fill:none;stroke-width:0.75;stroke-linecap:round;stroke-linejoin:round;stroke:rgb(0%,0%,0%);stroke-opacity:1;stroke-miterlimit:10;\" d=\"M 285.816406 208.800781 L 290.132812 208.800781 L 290.132812 128 L 285.816406 128 Z M 285.816406 208.800781 \"/>\n",
       "<path style=\"fill:none;stroke-width:0.75;stroke-linecap:round;stroke-linejoin:round;stroke:rgb(0%,0%,0%);stroke-opacity:1;stroke-miterlimit:10;\" d=\"M 290.128906 208.800781 L 294.445312 208.800781 L 294.445312 124.898438 L 290.128906 124.898438 Z M 290.128906 208.800781 \"/>\n",
       "<path style=\"fill:none;stroke-width:0.75;stroke-linecap:round;stroke-linejoin:round;stroke:rgb(0%,0%,0%);stroke-opacity:1;stroke-miterlimit:10;\" d=\"M 294.445312 208.800781 L 298.761719 208.800781 L 298.761719 128.964844 L 294.445312 128.964844 Z M 294.445312 208.800781 \"/>\n",
       "<path style=\"fill:none;stroke-width:0.75;stroke-linecap:round;stroke-linejoin:round;stroke:rgb(0%,0%,0%);stroke-opacity:1;stroke-miterlimit:10;\" d=\"M 298.757812 208.800781 L 303.074219 208.800781 L 303.074219 134.453125 L 298.757812 134.453125 Z M 298.757812 208.800781 \"/>\n",
       "<path style=\"fill:none;stroke-width:0.75;stroke-linecap:round;stroke-linejoin:round;stroke:rgb(0%,0%,0%);stroke-opacity:1;stroke-miterlimit:10;\" d=\"M 303.074219 208.800781 L 307.390625 208.800781 L 307.390625 126.660156 L 303.074219 126.660156 Z M 303.074219 208.800781 \"/>\n",
       "<path style=\"fill:none;stroke-width:0.75;stroke-linecap:round;stroke-linejoin:round;stroke:rgb(0%,0%,0%);stroke-opacity:1;stroke-miterlimit:10;\" d=\"M 307.390625 208.800781 L 311.707031 208.800781 L 311.707031 127.203125 L 307.390625 127.203125 Z M 307.390625 208.800781 \"/>\n",
       "<path style=\"fill:none;stroke-width:0.75;stroke-linecap:round;stroke-linejoin:round;stroke:rgb(0%,0%,0%);stroke-opacity:1;stroke-miterlimit:10;\" d=\"M 311.703125 208.800781 L 316.019531 208.800781 L 316.019531 109.097656 L 311.703125 109.097656 Z M 311.703125 208.800781 \"/>\n",
       "<path style=\"fill:none;stroke-width:0.75;stroke-linecap:round;stroke-linejoin:round;stroke:rgb(0%,0%,0%);stroke-opacity:1;stroke-miterlimit:10;\" d=\"M 316.019531 208.800781 L 320.335938 208.800781 L 320.335938 114.628906 L 316.019531 114.628906 Z M 316.019531 208.800781 \"/>\n",
       "<path style=\"fill:none;stroke-width:0.75;stroke-linecap:round;stroke-linejoin:round;stroke:rgb(0%,0%,0%);stroke-opacity:1;stroke-miterlimit:10;\" d=\"M 320.332031 208.800781 L 324.648438 208.800781 L 324.648438 132.988281 L 320.332031 132.988281 Z M 320.332031 208.800781 \"/>\n",
       "<path style=\"fill:none;stroke-width:0.75;stroke-linecap:round;stroke-linejoin:round;stroke:rgb(0%,0%,0%);stroke-opacity:1;stroke-miterlimit:10;\" d=\"M 324.648438 208.800781 L 328.964844 208.800781 L 328.964844 136.757812 L 324.648438 136.757812 Z M 324.648438 208.800781 \"/>\n",
       "<path style=\"fill:none;stroke-width:0.75;stroke-linecap:round;stroke-linejoin:round;stroke:rgb(0%,0%,0%);stroke-opacity:1;stroke-miterlimit:10;\" d=\"M 328.960938 208.800781 L 333.277344 208.800781 L 333.277344 141.367188 L 328.960938 141.367188 Z M 328.960938 208.800781 \"/>\n",
       "<path style=\"fill:none;stroke-width:0.75;stroke-linecap:round;stroke-linejoin:round;stroke:rgb(0%,0%,0%);stroke-opacity:1;stroke-miterlimit:10;\" d=\"M 333.277344 208.800781 L 337.59375 208.800781 L 337.59375 143.589844 L 333.277344 143.589844 Z M 333.277344 208.800781 \"/>\n",
       "<path style=\"fill:none;stroke-width:0.75;stroke-linecap:round;stroke-linejoin:round;stroke:rgb(0%,0%,0%);stroke-opacity:1;stroke-miterlimit:10;\" d=\"M 337.589844 208.800781 L 341.90625 208.800781 L 341.90625 149.289062 L 337.589844 149.289062 Z M 337.589844 208.800781 \"/>\n",
       "<path style=\"fill:none;stroke-width:0.75;stroke-linecap:round;stroke-linejoin:round;stroke:rgb(0%,0%,0%);stroke-opacity:1;stroke-miterlimit:10;\" d=\"M 341.90625 208.800781 L 346.222656 208.800781 L 346.222656 143.757812 L 341.90625 143.757812 Z M 341.90625 208.800781 \"/>\n",
       "<path style=\"fill:none;stroke-width:0.75;stroke-linecap:round;stroke-linejoin:round;stroke:rgb(0%,0%,0%);stroke-opacity:1;stroke-miterlimit:10;\" d=\"M 346.21875 208.800781 L 350.535156 208.800781 L 350.535156 140.027344 L 346.21875 140.027344 Z M 346.21875 208.800781 \"/>\n",
       "<path style=\"fill:none;stroke-width:0.75;stroke-linecap:round;stroke-linejoin:round;stroke:rgb(0%,0%,0%);stroke-opacity:1;stroke-miterlimit:10;\" d=\"M 350.535156 208.800781 L 354.851562 208.800781 L 354.851562 130.347656 L 350.535156 130.347656 Z M 350.535156 208.800781 \"/>\n",
       "<path style=\"fill:none;stroke-width:0.75;stroke-linecap:round;stroke-linejoin:round;stroke:rgb(0%,0%,0%);stroke-opacity:1;stroke-miterlimit:10;\" d=\"M 354.847656 208.800781 L 359.164062 208.800781 L 359.164062 126.742188 L 354.847656 126.742188 Z M 354.847656 208.800781 \"/>\n",
       "<path style=\"fill:none;stroke-width:0.75;stroke-linecap:round;stroke-linejoin:round;stroke:rgb(0%,0%,0%);stroke-opacity:1;stroke-miterlimit:10;\" d=\"M 359.164062 208.800781 L 363.480469 208.800781 L 363.480469 126.953125 L 359.164062 126.953125 Z M 359.164062 208.800781 \"/>\n",
       "<path style=\"fill:none;stroke-width:0.75;stroke-linecap:round;stroke-linejoin:round;stroke:rgb(0%,0%,0%);stroke-opacity:1;stroke-miterlimit:10;\" d=\"M 363.480469 208.800781 L 367.796875 208.800781 L 367.796875 136.882812 L 363.480469 136.882812 Z M 363.480469 208.800781 \"/>\n",
       "<path style=\"fill:none;stroke-width:0.75;stroke-linecap:round;stroke-linejoin:round;stroke:rgb(0%,0%,0%);stroke-opacity:1;stroke-miterlimit:10;\" d=\"M 367.792969 208.800781 L 372.109375 208.800781 L 372.109375 123.472656 L 367.792969 123.472656 Z M 367.792969 208.800781 \"/>\n",
       "<path style=\"fill:none;stroke-width:0.75;stroke-linecap:round;stroke-linejoin:round;stroke:rgb(0%,0%,0%);stroke-opacity:1;stroke-miterlimit:10;\" d=\"M 372.109375 208.800781 L 376.425781 208.800781 L 376.425781 122.089844 L 372.109375 122.089844 Z M 372.109375 208.800781 \"/>\n",
       "<path style=\"fill:none;stroke-width:0.75;stroke-linecap:round;stroke-linejoin:round;stroke:rgb(0%,0%,0%);stroke-opacity:1;stroke-miterlimit:10;\" d=\"M 376.421875 208.800781 L 380.738281 208.800781 L 380.738281 122.300781 L 376.421875 122.300781 Z M 376.421875 208.800781 \"/>\n",
       "<path style=\"fill:none;stroke-width:0.75;stroke-linecap:round;stroke-linejoin:round;stroke:rgb(0%,0%,0%);stroke-opacity:1;stroke-miterlimit:10;\" d=\"M 380.738281 208.800781 L 385.054688 208.800781 L 385.054688 110.648438 L 380.738281 110.648438 Z M 380.738281 208.800781 \"/>\n",
       "<path style=\"fill:none;stroke-width:0.75;stroke-linecap:round;stroke-linejoin:round;stroke:rgb(0%,0%,0%);stroke-opacity:1;stroke-miterlimit:10;\" d=\"M 385.050781 208.800781 L 389.367188 208.800781 L 389.367188 105.074219 L 385.050781 105.074219 Z M 385.050781 208.800781 \"/>\n",
       "<path style=\"fill:none;stroke-width:0.75;stroke-linecap:round;stroke-linejoin:round;stroke:rgb(0%,0%,0%);stroke-opacity:1;stroke-miterlimit:10;\" d=\"M 389.367188 208.800781 L 393.683594 208.800781 L 393.683594 103.859375 L 389.367188 103.859375 Z M 389.367188 208.800781 \"/>\n",
       "<path style=\"fill:none;stroke-width:0.75;stroke-linecap:round;stroke-linejoin:round;stroke:rgb(0%,0%,0%);stroke-opacity:1;stroke-miterlimit:10;\" d=\"M 393.679688 208.800781 L 397.996094 208.800781 L 397.996094 127.453125 L 393.679688 127.453125 Z M 393.679688 208.800781 \"/>\n",
       "<path style=\"fill:none;stroke-width:0.75;stroke-linecap:round;stroke-linejoin:round;stroke:rgb(0%,0%,0%);stroke-opacity:1;stroke-miterlimit:10;\" d=\"M 397.996094 208.800781 L 402.3125 208.800781 L 402.3125 112.703125 L 397.996094 112.703125 Z M 397.996094 208.800781 \"/>\n",
       "<path style=\"fill:none;stroke-width:0.75;stroke-linecap:round;stroke-linejoin:round;stroke:rgb(0%,0%,0%);stroke-opacity:1;stroke-miterlimit:10;\" d=\"M 402.308594 208.800781 L 406.625 208.800781 L 406.625 108.007812 L 402.308594 108.007812 Z M 402.308594 208.800781 \"/>\n",
       "<path style=\"fill:none;stroke-width:0.75;stroke-linecap:round;stroke-linejoin:round;stroke:rgb(0%,0%,0%);stroke-opacity:1;stroke-miterlimit:10;\" d=\"M 406.625 208.800781 L 410.941406 208.800781 L 410.941406 118.320312 L 406.625 118.320312 Z M 406.625 208.800781 \"/>\n",
       "<path style=\"fill:none;stroke-width:0.75;stroke-linecap:round;stroke-linejoin:round;stroke:rgb(0%,0%,0%);stroke-opacity:1;stroke-miterlimit:10;\" d=\"M 410.9375 208.800781 L 415.253906 208.800781 L 415.253906 127.582031 L 410.9375 127.582031 Z M 410.9375 208.800781 \"/>\n",
       "<path style=\"fill:none;stroke-width:0.75;stroke-linecap:round;stroke-linejoin:round;stroke:rgb(0%,0%,0%);stroke-opacity:1;stroke-miterlimit:10;\" d=\"M 415.253906 208.800781 L 419.570312 208.800781 L 419.570312 124.101562 L 415.253906 124.101562 Z M 415.253906 208.800781 \"/>\n",
       "<path style=\"fill:none;stroke-width:0.75;stroke-linecap:round;stroke-linejoin:round;stroke:rgb(0%,0%,0%);stroke-opacity:1;stroke-miterlimit:10;\" d=\"M 419.570312 208.800781 L 423.886719 208.800781 L 423.886719 123.054688 L 419.570312 123.054688 Z M 419.570312 208.800781 \"/>\n",
       "<path style=\"fill:none;stroke-width:0.75;stroke-linecap:round;stroke-linejoin:round;stroke:rgb(0%,0%,0%);stroke-opacity:1;stroke-miterlimit:10;\" d=\"M 423.882812 208.800781 L 428.199219 208.800781 L 428.199219 132.023438 L 423.882812 132.023438 Z M 423.882812 208.800781 \"/>\n",
       "<path style=\"fill:none;stroke-width:0.75;stroke-linecap:round;stroke-linejoin:round;stroke:rgb(0%,0%,0%);stroke-opacity:1;stroke-miterlimit:10;\" d=\"M 428.199219 208.800781 L 432.515625 208.800781 L 432.515625 128.378906 L 428.199219 128.378906 Z M 428.199219 208.800781 \"/>\n",
       "<path style=\"fill:none;stroke-width:0.75;stroke-linecap:round;stroke-linejoin:round;stroke:rgb(0%,0%,0%);stroke-opacity:1;stroke-miterlimit:10;\" d=\"M 432.511719 208.800781 L 436.828125 208.800781 L 436.828125 126.070312 L 432.511719 126.070312 Z M 432.511719 208.800781 \"/>\n",
       "<path style=\"fill:none;stroke-width:0.75;stroke-linecap:round;stroke-linejoin:round;stroke:rgb(0%,0%,0%);stroke-opacity:1;stroke-miterlimit:10;\" d=\"M 436.828125 208.800781 L 441.144531 208.800781 L 441.144531 127.789062 L 436.828125 127.789062 Z M 436.828125 208.800781 \"/>\n",
       "<path style=\"fill:none;stroke-width:0.75;stroke-linecap:round;stroke-linejoin:round;stroke:rgb(0%,0%,0%);stroke-opacity:1;stroke-miterlimit:10;\" d=\"M 441.140625 208.800781 L 445.457031 208.800781 L 445.457031 131.015625 L 441.140625 131.015625 Z M 441.140625 208.800781 \"/>\n",
       "<path style=\"fill:none;stroke-width:0.75;stroke-linecap:round;stroke-linejoin:round;stroke:rgb(0%,0%,0%);stroke-opacity:1;stroke-miterlimit:10;\" d=\"M 445.457031 208.800781 L 449.773438 208.800781 L 449.773438 130.347656 L 445.457031 130.347656 Z M 445.457031 208.800781 \"/>\n",
       "<path style=\"fill:none;stroke-width:0.75;stroke-linecap:round;stroke-linejoin:round;stroke:rgb(0%,0%,0%);stroke-opacity:1;stroke-miterlimit:10;\" d=\"M 449.769531 208.800781 L 454.085938 208.800781 L 454.085938 124.898438 L 449.769531 124.898438 Z M 449.769531 208.800781 \"/>\n",
       "<path style=\"fill:none;stroke-width:0.75;stroke-linecap:round;stroke-linejoin:round;stroke:rgb(0%,0%,0%);stroke-opacity:1;stroke-miterlimit:10;\" d=\"M 454.085938 208.800781 L 458.402344 208.800781 L 458.402344 199.203125 L 454.085938 199.203125 Z M 454.085938 208.800781 \"/>\n",
       "<path style=\"fill:none;stroke-width:0.75;stroke-linecap:round;stroke-linejoin:round;stroke:rgb(0%,0%,0%);stroke-opacity:1;stroke-miterlimit:10;\" d=\"M 59.039062 208.800781 L 59.039062 68.25 \"/>\n",
       "<path style=\"fill:none;stroke-width:0.75;stroke-linecap:round;stroke-linejoin:round;stroke:rgb(0%,0%,0%);stroke-opacity:1;stroke-miterlimit:10;\" d=\"M 59.039062 208.800781 L 51.839844 208.800781 \"/>\n",
       "<path style=\"fill:none;stroke-width:0.75;stroke-linecap:round;stroke-linejoin:round;stroke:rgb(0%,0%,0%);stroke-opacity:1;stroke-miterlimit:10;\" d=\"M 59.039062 188.722656 L 51.839844 188.722656 \"/>\n",
       "<path style=\"fill:none;stroke-width:0.75;stroke-linecap:round;stroke-linejoin:round;stroke:rgb(0%,0%,0%);stroke-opacity:1;stroke-miterlimit:10;\" d=\"M 59.039062 168.640625 L 51.839844 168.640625 \"/>\n",
       "<path style=\"fill:none;stroke-width:0.75;stroke-linecap:round;stroke-linejoin:round;stroke:rgb(0%,0%,0%);stroke-opacity:1;stroke-miterlimit:10;\" d=\"M 59.039062 148.5625 L 51.839844 148.5625 \"/>\n",
       "<path style=\"fill:none;stroke-width:0.75;stroke-linecap:round;stroke-linejoin:round;stroke:rgb(0%,0%,0%);stroke-opacity:1;stroke-miterlimit:10;\" d=\"M 59.039062 128.484375 L 51.839844 128.484375 \"/>\n",
       "<path style=\"fill:none;stroke-width:0.75;stroke-linecap:round;stroke-linejoin:round;stroke:rgb(0%,0%,0%);stroke-opacity:1;stroke-miterlimit:10;\" d=\"M 59.039062 108.40625 L 51.839844 108.40625 \"/>\n",
       "<path style=\"fill:none;stroke-width:0.75;stroke-linecap:round;stroke-linejoin:round;stroke:rgb(0%,0%,0%);stroke-opacity:1;stroke-miterlimit:10;\" d=\"M 59.039062 88.328125 L 51.839844 88.328125 \"/>\n",
       "<path style=\"fill:none;stroke-width:0.75;stroke-linecap:round;stroke-linejoin:round;stroke:rgb(0%,0%,0%);stroke-opacity:1;stroke-miterlimit:10;\" d=\"M 59.039062 68.25 L 51.839844 68.25 \"/>\n",
       "<g style=\"fill:rgb(0%,0%,0%);fill-opacity:1;\">\n",
       "  <use xlink:href=\"#glyph2-8\" x=\"41.538086\" y=\"230.800781\"/>\n",
       "  <use xlink:href=\"#glyph2-9\" x=\"41.538086\" y=\"224.128906\"/>\n",
       "  <use xlink:href=\"#glyph2-8\" x=\"41.538086\" y=\"220.792969\"/>\n",
       "  <use xlink:href=\"#glyph2-8\" x=\"41.538086\" y=\"214.121094\"/>\n",
       "  <use xlink:href=\"#glyph2-8\" x=\"41.538086\" y=\"207.449219\"/>\n",
       "  <use xlink:href=\"#glyph2-8\" x=\"41.538086\" y=\"200.777344\"/>\n",
       "  <use xlink:href=\"#glyph2-8\" x=\"41.538086\" y=\"194.105469\"/>\n",
       "</g>\n",
       "<g style=\"fill:rgb(0%,0%,0%);fill-opacity:1;\">\n",
       "  <use xlink:href=\"#glyph2-8\" x=\"41.538086\" y=\"170.5625\"/>\n",
       "  <use xlink:href=\"#glyph2-9\" x=\"41.538086\" y=\"163.890625\"/>\n",
       "  <use xlink:href=\"#glyph2-8\" x=\"41.538086\" y=\"160.554688\"/>\n",
       "  <use xlink:href=\"#glyph2-8\" x=\"41.538086\" y=\"153.882812\"/>\n",
       "  <use xlink:href=\"#glyph2-8\" x=\"41.538086\" y=\"147.210938\"/>\n",
       "  <use xlink:href=\"#glyph2-10\" x=\"41.538086\" y=\"140.539062\"/>\n",
       "  <use xlink:href=\"#glyph2-11\" x=\"41.538086\" y=\"133.867188\"/>\n",
       "</g>\n",
       "<g style=\"fill:rgb(0%,0%,0%);fill-opacity:1;\">\n",
       "  <use xlink:href=\"#glyph2-8\" x=\"41.538086\" y=\"110.328125\"/>\n",
       "  <use xlink:href=\"#glyph2-9\" x=\"41.538086\" y=\"103.65625\"/>\n",
       "  <use xlink:href=\"#glyph2-8\" x=\"41.538086\" y=\"100.320312\"/>\n",
       "  <use xlink:href=\"#glyph2-8\" x=\"41.538086\" y=\"93.648438\"/>\n",
       "  <use xlink:href=\"#glyph2-8\" x=\"41.538086\" y=\"86.976562\"/>\n",
       "  <use xlink:href=\"#glyph2-12\" x=\"41.538086\" y=\"80.304688\"/>\n",
       "  <use xlink:href=\"#glyph2-8\" x=\"41.538086\" y=\"73.632812\"/>\n",
       "</g>\n",
       "<path style=\"fill:none;stroke-width:0.75;stroke-linecap:round;stroke-linejoin:round;stroke:rgb(0%,0%,0%);stroke-opacity:1;stroke-miterlimit:10;\" d=\"M 74.398438 214.558594 L 458.398438 214.558594 \"/>\n",
       "<path style=\"fill:none;stroke-width:0.75;stroke-linecap:round;stroke-linejoin:round;stroke:rgb(0%,0%,0%);stroke-opacity:1;stroke-miterlimit:10;\" d=\"M 74.398438 214.558594 L 74.398438 221.761719 \"/>\n",
       "<path style=\"fill:none;stroke-width:0.75;stroke-linecap:round;stroke-linejoin:round;stroke:rgb(0%,0%,0%);stroke-opacity:1;stroke-miterlimit:10;\" d=\"M 78.714844 214.558594 L 78.714844 221.761719 \"/>\n",
       "<path style=\"fill:none;stroke-width:0.75;stroke-linecap:round;stroke-linejoin:round;stroke:rgb(0%,0%,0%);stroke-opacity:1;stroke-miterlimit:10;\" d=\"M 83.027344 214.558594 L 83.027344 221.761719 \"/>\n",
       "<path style=\"fill:none;stroke-width:0.75;stroke-linecap:round;stroke-linejoin:round;stroke:rgb(0%,0%,0%);stroke-opacity:1;stroke-miterlimit:10;\" d=\"M 87.34375 214.558594 L 87.34375 221.761719 \"/>\n",
       "<path style=\"fill:none;stroke-width:0.75;stroke-linecap:round;stroke-linejoin:round;stroke:rgb(0%,0%,0%);stroke-opacity:1;stroke-miterlimit:10;\" d=\"M 91.660156 214.558594 L 91.660156 221.761719 \"/>\n",
       "<path style=\"fill:none;stroke-width:0.75;stroke-linecap:round;stroke-linejoin:round;stroke:rgb(0%,0%,0%);stroke-opacity:1;stroke-miterlimit:10;\" d=\"M 95.972656 214.558594 L 95.972656 221.761719 \"/>\n",
       "<path style=\"fill:none;stroke-width:0.75;stroke-linecap:round;stroke-linejoin:round;stroke:rgb(0%,0%,0%);stroke-opacity:1;stroke-miterlimit:10;\" d=\"M 100.289062 214.558594 L 100.289062 221.761719 \"/>\n",
       "<path style=\"fill:none;stroke-width:0.75;stroke-linecap:round;stroke-linejoin:round;stroke:rgb(0%,0%,0%);stroke-opacity:1;stroke-miterlimit:10;\" d=\"M 104.601562 214.558594 L 104.601562 221.761719 \"/>\n",
       "<path style=\"fill:none;stroke-width:0.75;stroke-linecap:round;stroke-linejoin:round;stroke:rgb(0%,0%,0%);stroke-opacity:1;stroke-miterlimit:10;\" d=\"M 108.917969 214.558594 L 108.917969 221.761719 \"/>\n",
       "<path style=\"fill:none;stroke-width:0.75;stroke-linecap:round;stroke-linejoin:round;stroke:rgb(0%,0%,0%);stroke-opacity:1;stroke-miterlimit:10;\" d=\"M 113.230469 214.558594 L 113.230469 221.761719 \"/>\n",
       "<path style=\"fill:none;stroke-width:0.75;stroke-linecap:round;stroke-linejoin:round;stroke:rgb(0%,0%,0%);stroke-opacity:1;stroke-miterlimit:10;\" d=\"M 117.546875 214.558594 L 117.546875 221.761719 \"/>\n",
       "<path style=\"fill:none;stroke-width:0.75;stroke-linecap:round;stroke-linejoin:round;stroke:rgb(0%,0%,0%);stroke-opacity:1;stroke-miterlimit:10;\" d=\"M 121.859375 214.558594 L 121.859375 221.761719 \"/>\n",
       "<path style=\"fill:none;stroke-width:0.75;stroke-linecap:round;stroke-linejoin:round;stroke:rgb(0%,0%,0%);stroke-opacity:1;stroke-miterlimit:10;\" d=\"M 126.175781 214.558594 L 126.175781 221.761719 \"/>\n",
       "<path style=\"fill:none;stroke-width:0.75;stroke-linecap:round;stroke-linejoin:round;stroke:rgb(0%,0%,0%);stroke-opacity:1;stroke-miterlimit:10;\" d=\"M 130.488281 214.558594 L 130.488281 221.761719 \"/>\n",
       "<path style=\"fill:none;stroke-width:0.75;stroke-linecap:round;stroke-linejoin:round;stroke:rgb(0%,0%,0%);stroke-opacity:1;stroke-miterlimit:10;\" d=\"M 134.804688 214.558594 L 134.804688 221.761719 \"/>\n",
       "<path style=\"fill:none;stroke-width:0.75;stroke-linecap:round;stroke-linejoin:round;stroke:rgb(0%,0%,0%);stroke-opacity:1;stroke-miterlimit:10;\" d=\"M 139.117188 214.558594 L 139.117188 221.761719 \"/>\n",
       "<path style=\"fill:none;stroke-width:0.75;stroke-linecap:round;stroke-linejoin:round;stroke:rgb(0%,0%,0%);stroke-opacity:1;stroke-miterlimit:10;\" d=\"M 143.433594 214.558594 L 143.433594 221.761719 \"/>\n",
       "<path style=\"fill:none;stroke-width:0.75;stroke-linecap:round;stroke-linejoin:round;stroke:rgb(0%,0%,0%);stroke-opacity:1;stroke-miterlimit:10;\" d=\"M 147.75 214.558594 L 147.75 221.761719 \"/>\n",
       "<path style=\"fill:none;stroke-width:0.75;stroke-linecap:round;stroke-linejoin:round;stroke:rgb(0%,0%,0%);stroke-opacity:1;stroke-miterlimit:10;\" d=\"M 152.0625 214.558594 L 152.0625 221.761719 \"/>\n",
       "<path style=\"fill:none;stroke-width:0.75;stroke-linecap:round;stroke-linejoin:round;stroke:rgb(0%,0%,0%);stroke-opacity:1;stroke-miterlimit:10;\" d=\"M 156.378906 214.558594 L 156.378906 221.761719 \"/>\n",
       "<path style=\"fill:none;stroke-width:0.75;stroke-linecap:round;stroke-linejoin:round;stroke:rgb(0%,0%,0%);stroke-opacity:1;stroke-miterlimit:10;\" d=\"M 160.691406 214.558594 L 160.691406 221.761719 \"/>\n",
       "<path style=\"fill:none;stroke-width:0.75;stroke-linecap:round;stroke-linejoin:round;stroke:rgb(0%,0%,0%);stroke-opacity:1;stroke-miterlimit:10;\" d=\"M 165.007812 214.558594 L 165.007812 221.761719 \"/>\n",
       "<path style=\"fill:none;stroke-width:0.75;stroke-linecap:round;stroke-linejoin:round;stroke:rgb(0%,0%,0%);stroke-opacity:1;stroke-miterlimit:10;\" d=\"M 169.320312 214.558594 L 169.320312 221.761719 \"/>\n",
       "<path style=\"fill:none;stroke-width:0.75;stroke-linecap:round;stroke-linejoin:round;stroke:rgb(0%,0%,0%);stroke-opacity:1;stroke-miterlimit:10;\" d=\"M 173.636719 214.558594 L 173.636719 221.761719 \"/>\n",
       "<path style=\"fill:none;stroke-width:0.75;stroke-linecap:round;stroke-linejoin:round;stroke:rgb(0%,0%,0%);stroke-opacity:1;stroke-miterlimit:10;\" d=\"M 177.949219 214.558594 L 177.949219 221.761719 \"/>\n",
       "<path style=\"fill:none;stroke-width:0.75;stroke-linecap:round;stroke-linejoin:round;stroke:rgb(0%,0%,0%);stroke-opacity:1;stroke-miterlimit:10;\" d=\"M 182.265625 214.558594 L 182.265625 221.761719 \"/>\n",
       "<path style=\"fill:none;stroke-width:0.75;stroke-linecap:round;stroke-linejoin:round;stroke:rgb(0%,0%,0%);stroke-opacity:1;stroke-miterlimit:10;\" d=\"M 186.578125 214.558594 L 186.578125 221.761719 \"/>\n",
       "<path style=\"fill:none;stroke-width:0.75;stroke-linecap:round;stroke-linejoin:round;stroke:rgb(0%,0%,0%);stroke-opacity:1;stroke-miterlimit:10;\" d=\"M 190.894531 214.558594 L 190.894531 221.761719 \"/>\n",
       "<path style=\"fill:none;stroke-width:0.75;stroke-linecap:round;stroke-linejoin:round;stroke:rgb(0%,0%,0%);stroke-opacity:1;stroke-miterlimit:10;\" d=\"M 195.210938 214.558594 L 195.210938 221.761719 \"/>\n",
       "<path style=\"fill:none;stroke-width:0.75;stroke-linecap:round;stroke-linejoin:round;stroke:rgb(0%,0%,0%);stroke-opacity:1;stroke-miterlimit:10;\" d=\"M 199.523438 214.558594 L 199.523438 221.761719 \"/>\n",
       "<path style=\"fill:none;stroke-width:0.75;stroke-linecap:round;stroke-linejoin:round;stroke:rgb(0%,0%,0%);stroke-opacity:1;stroke-miterlimit:10;\" d=\"M 203.839844 214.558594 L 203.839844 221.761719 \"/>\n",
       "<path style=\"fill:none;stroke-width:0.75;stroke-linecap:round;stroke-linejoin:round;stroke:rgb(0%,0%,0%);stroke-opacity:1;stroke-miterlimit:10;\" d=\"M 208.152344 214.558594 L 208.152344 221.761719 \"/>\n",
       "<path style=\"fill:none;stroke-width:0.75;stroke-linecap:round;stroke-linejoin:round;stroke:rgb(0%,0%,0%);stroke-opacity:1;stroke-miterlimit:10;\" d=\"M 212.46875 214.558594 L 212.46875 221.761719 \"/>\n",
       "<path style=\"fill:none;stroke-width:0.75;stroke-linecap:round;stroke-linejoin:round;stroke:rgb(0%,0%,0%);stroke-opacity:1;stroke-miterlimit:10;\" d=\"M 216.78125 214.558594 L 216.78125 221.761719 \"/>\n",
       "<path style=\"fill:none;stroke-width:0.75;stroke-linecap:round;stroke-linejoin:round;stroke:rgb(0%,0%,0%);stroke-opacity:1;stroke-miterlimit:10;\" d=\"M 221.097656 214.558594 L 221.097656 221.761719 \"/>\n",
       "<path style=\"fill:none;stroke-width:0.75;stroke-linecap:round;stroke-linejoin:round;stroke:rgb(0%,0%,0%);stroke-opacity:1;stroke-miterlimit:10;\" d=\"M 225.410156 214.558594 L 225.410156 221.761719 \"/>\n",
       "<path style=\"fill:none;stroke-width:0.75;stroke-linecap:round;stroke-linejoin:round;stroke:rgb(0%,0%,0%);stroke-opacity:1;stroke-miterlimit:10;\" d=\"M 229.726562 214.558594 L 229.726562 221.761719 \"/>\n",
       "<path style=\"fill:none;stroke-width:0.75;stroke-linecap:round;stroke-linejoin:round;stroke:rgb(0%,0%,0%);stroke-opacity:1;stroke-miterlimit:10;\" d=\"M 234.039062 214.558594 L 234.039062 221.761719 \"/>\n",
       "<path style=\"fill:none;stroke-width:0.75;stroke-linecap:round;stroke-linejoin:round;stroke:rgb(0%,0%,0%);stroke-opacity:1;stroke-miterlimit:10;\" d=\"M 238.355469 214.558594 L 238.355469 221.761719 \"/>\n",
       "<path style=\"fill:none;stroke-width:0.75;stroke-linecap:round;stroke-linejoin:round;stroke:rgb(0%,0%,0%);stroke-opacity:1;stroke-miterlimit:10;\" d=\"M 242.667969 214.558594 L 242.667969 221.761719 \"/>\n",
       "<path style=\"fill:none;stroke-width:0.75;stroke-linecap:round;stroke-linejoin:round;stroke:rgb(0%,0%,0%);stroke-opacity:1;stroke-miterlimit:10;\" d=\"M 246.984375 214.558594 L 246.984375 221.761719 \"/>\n",
       "<path style=\"fill:none;stroke-width:0.75;stroke-linecap:round;stroke-linejoin:round;stroke:rgb(0%,0%,0%);stroke-opacity:1;stroke-miterlimit:10;\" d=\"M 251.300781 214.558594 L 251.300781 221.761719 \"/>\n",
       "<path style=\"fill:none;stroke-width:0.75;stroke-linecap:round;stroke-linejoin:round;stroke:rgb(0%,0%,0%);stroke-opacity:1;stroke-miterlimit:10;\" d=\"M 255.613281 214.558594 L 255.613281 221.761719 \"/>\n",
       "<path style=\"fill:none;stroke-width:0.75;stroke-linecap:round;stroke-linejoin:round;stroke:rgb(0%,0%,0%);stroke-opacity:1;stroke-miterlimit:10;\" d=\"M 259.929688 214.558594 L 259.929688 221.761719 \"/>\n",
       "<path style=\"fill:none;stroke-width:0.75;stroke-linecap:round;stroke-linejoin:round;stroke:rgb(0%,0%,0%);stroke-opacity:1;stroke-miterlimit:10;\" d=\"M 264.242188 214.558594 L 264.242188 221.761719 \"/>\n",
       "<path style=\"fill:none;stroke-width:0.75;stroke-linecap:round;stroke-linejoin:round;stroke:rgb(0%,0%,0%);stroke-opacity:1;stroke-miterlimit:10;\" d=\"M 268.558594 214.558594 L 268.558594 221.761719 \"/>\n",
       "<path style=\"fill:none;stroke-width:0.75;stroke-linecap:round;stroke-linejoin:round;stroke:rgb(0%,0%,0%);stroke-opacity:1;stroke-miterlimit:10;\" d=\"M 272.871094 214.558594 L 272.871094 221.761719 \"/>\n",
       "<path style=\"fill:none;stroke-width:0.75;stroke-linecap:round;stroke-linejoin:round;stroke:rgb(0%,0%,0%);stroke-opacity:1;stroke-miterlimit:10;\" d=\"M 277.1875 214.558594 L 277.1875 221.761719 \"/>\n",
       "<path style=\"fill:none;stroke-width:0.75;stroke-linecap:round;stroke-linejoin:round;stroke:rgb(0%,0%,0%);stroke-opacity:1;stroke-miterlimit:10;\" d=\"M 281.5 214.558594 L 281.5 221.761719 \"/>\n",
       "<path style=\"fill:none;stroke-width:0.75;stroke-linecap:round;stroke-linejoin:round;stroke:rgb(0%,0%,0%);stroke-opacity:1;stroke-miterlimit:10;\" d=\"M 285.816406 214.558594 L 285.816406 221.761719 \"/>\n",
       "<path style=\"fill:none;stroke-width:0.75;stroke-linecap:round;stroke-linejoin:round;stroke:rgb(0%,0%,0%);stroke-opacity:1;stroke-miterlimit:10;\" d=\"M 290.128906 214.558594 L 290.128906 221.761719 \"/>\n",
       "<path style=\"fill:none;stroke-width:0.75;stroke-linecap:round;stroke-linejoin:round;stroke:rgb(0%,0%,0%);stroke-opacity:1;stroke-miterlimit:10;\" d=\"M 294.445312 214.558594 L 294.445312 221.761719 \"/>\n",
       "<path style=\"fill:none;stroke-width:0.75;stroke-linecap:round;stroke-linejoin:round;stroke:rgb(0%,0%,0%);stroke-opacity:1;stroke-miterlimit:10;\" d=\"M 298.757812 214.558594 L 298.757812 221.761719 \"/>\n",
       "<path style=\"fill:none;stroke-width:0.75;stroke-linecap:round;stroke-linejoin:round;stroke:rgb(0%,0%,0%);stroke-opacity:1;stroke-miterlimit:10;\" d=\"M 303.074219 214.558594 L 303.074219 221.761719 \"/>\n",
       "<path style=\"fill:none;stroke-width:0.75;stroke-linecap:round;stroke-linejoin:round;stroke:rgb(0%,0%,0%);stroke-opacity:1;stroke-miterlimit:10;\" d=\"M 307.390625 214.558594 L 307.390625 221.761719 \"/>\n",
       "<path style=\"fill:none;stroke-width:0.75;stroke-linecap:round;stroke-linejoin:round;stroke:rgb(0%,0%,0%);stroke-opacity:1;stroke-miterlimit:10;\" d=\"M 311.703125 214.558594 L 311.703125 221.761719 \"/>\n",
       "<path style=\"fill:none;stroke-width:0.75;stroke-linecap:round;stroke-linejoin:round;stroke:rgb(0%,0%,0%);stroke-opacity:1;stroke-miterlimit:10;\" d=\"M 316.019531 214.558594 L 316.019531 221.761719 \"/>\n",
       "<path style=\"fill:none;stroke-width:0.75;stroke-linecap:round;stroke-linejoin:round;stroke:rgb(0%,0%,0%);stroke-opacity:1;stroke-miterlimit:10;\" d=\"M 320.332031 214.558594 L 320.332031 221.761719 \"/>\n",
       "<path style=\"fill:none;stroke-width:0.75;stroke-linecap:round;stroke-linejoin:round;stroke:rgb(0%,0%,0%);stroke-opacity:1;stroke-miterlimit:10;\" d=\"M 324.648438 214.558594 L 324.648438 221.761719 \"/>\n",
       "<path style=\"fill:none;stroke-width:0.75;stroke-linecap:round;stroke-linejoin:round;stroke:rgb(0%,0%,0%);stroke-opacity:1;stroke-miterlimit:10;\" d=\"M 328.960938 214.558594 L 328.960938 221.761719 \"/>\n",
       "<path style=\"fill:none;stroke-width:0.75;stroke-linecap:round;stroke-linejoin:round;stroke:rgb(0%,0%,0%);stroke-opacity:1;stroke-miterlimit:10;\" d=\"M 333.277344 214.558594 L 333.277344 221.761719 \"/>\n",
       "<path style=\"fill:none;stroke-width:0.75;stroke-linecap:round;stroke-linejoin:round;stroke:rgb(0%,0%,0%);stroke-opacity:1;stroke-miterlimit:10;\" d=\"M 337.589844 214.558594 L 337.589844 221.761719 \"/>\n",
       "<path style=\"fill:none;stroke-width:0.75;stroke-linecap:round;stroke-linejoin:round;stroke:rgb(0%,0%,0%);stroke-opacity:1;stroke-miterlimit:10;\" d=\"M 341.90625 214.558594 L 341.90625 221.761719 \"/>\n",
       "<path style=\"fill:none;stroke-width:0.75;stroke-linecap:round;stroke-linejoin:round;stroke:rgb(0%,0%,0%);stroke-opacity:1;stroke-miterlimit:10;\" d=\"M 346.21875 214.558594 L 346.21875 221.761719 \"/>\n",
       "<path style=\"fill:none;stroke-width:0.75;stroke-linecap:round;stroke-linejoin:round;stroke:rgb(0%,0%,0%);stroke-opacity:1;stroke-miterlimit:10;\" d=\"M 350.535156 214.558594 L 350.535156 221.761719 \"/>\n",
       "<path style=\"fill:none;stroke-width:0.75;stroke-linecap:round;stroke-linejoin:round;stroke:rgb(0%,0%,0%);stroke-opacity:1;stroke-miterlimit:10;\" d=\"M 354.847656 214.558594 L 354.847656 221.761719 \"/>\n",
       "<path style=\"fill:none;stroke-width:0.75;stroke-linecap:round;stroke-linejoin:round;stroke:rgb(0%,0%,0%);stroke-opacity:1;stroke-miterlimit:10;\" d=\"M 359.164062 214.558594 L 359.164062 221.761719 \"/>\n",
       "<path style=\"fill:none;stroke-width:0.75;stroke-linecap:round;stroke-linejoin:round;stroke:rgb(0%,0%,0%);stroke-opacity:1;stroke-miterlimit:10;\" d=\"M 363.480469 214.558594 L 363.480469 221.761719 \"/>\n",
       "<path style=\"fill:none;stroke-width:0.75;stroke-linecap:round;stroke-linejoin:round;stroke:rgb(0%,0%,0%);stroke-opacity:1;stroke-miterlimit:10;\" d=\"M 367.792969 214.558594 L 367.792969 221.761719 \"/>\n",
       "<path style=\"fill:none;stroke-width:0.75;stroke-linecap:round;stroke-linejoin:round;stroke:rgb(0%,0%,0%);stroke-opacity:1;stroke-miterlimit:10;\" d=\"M 372.109375 214.558594 L 372.109375 221.761719 \"/>\n",
       "<path style=\"fill:none;stroke-width:0.75;stroke-linecap:round;stroke-linejoin:round;stroke:rgb(0%,0%,0%);stroke-opacity:1;stroke-miterlimit:10;\" d=\"M 376.421875 214.558594 L 376.421875 221.761719 \"/>\n",
       "<path style=\"fill:none;stroke-width:0.75;stroke-linecap:round;stroke-linejoin:round;stroke:rgb(0%,0%,0%);stroke-opacity:1;stroke-miterlimit:10;\" d=\"M 380.738281 214.558594 L 380.738281 221.761719 \"/>\n",
       "<path style=\"fill:none;stroke-width:0.75;stroke-linecap:round;stroke-linejoin:round;stroke:rgb(0%,0%,0%);stroke-opacity:1;stroke-miterlimit:10;\" d=\"M 385.050781 214.558594 L 385.050781 221.761719 \"/>\n",
       "<path style=\"fill:none;stroke-width:0.75;stroke-linecap:round;stroke-linejoin:round;stroke:rgb(0%,0%,0%);stroke-opacity:1;stroke-miterlimit:10;\" d=\"M 389.367188 214.558594 L 389.367188 221.761719 \"/>\n",
       "<path style=\"fill:none;stroke-width:0.75;stroke-linecap:round;stroke-linejoin:round;stroke:rgb(0%,0%,0%);stroke-opacity:1;stroke-miterlimit:10;\" d=\"M 393.679688 214.558594 L 393.679688 221.761719 \"/>\n",
       "<path style=\"fill:none;stroke-width:0.75;stroke-linecap:round;stroke-linejoin:round;stroke:rgb(0%,0%,0%);stroke-opacity:1;stroke-miterlimit:10;\" d=\"M 397.996094 214.558594 L 397.996094 221.761719 \"/>\n",
       "<path style=\"fill:none;stroke-width:0.75;stroke-linecap:round;stroke-linejoin:round;stroke:rgb(0%,0%,0%);stroke-opacity:1;stroke-miterlimit:10;\" d=\"M 402.308594 214.558594 L 402.308594 221.761719 \"/>\n",
       "<path style=\"fill:none;stroke-width:0.75;stroke-linecap:round;stroke-linejoin:round;stroke:rgb(0%,0%,0%);stroke-opacity:1;stroke-miterlimit:10;\" d=\"M 406.625 214.558594 L 406.625 221.761719 \"/>\n",
       "<path style=\"fill:none;stroke-width:0.75;stroke-linecap:round;stroke-linejoin:round;stroke:rgb(0%,0%,0%);stroke-opacity:1;stroke-miterlimit:10;\" d=\"M 410.9375 214.558594 L 410.9375 221.761719 \"/>\n",
       "<path style=\"fill:none;stroke-width:0.75;stroke-linecap:round;stroke-linejoin:round;stroke:rgb(0%,0%,0%);stroke-opacity:1;stroke-miterlimit:10;\" d=\"M 415.253906 214.558594 L 415.253906 221.761719 \"/>\n",
       "<path style=\"fill:none;stroke-width:0.75;stroke-linecap:round;stroke-linejoin:round;stroke:rgb(0%,0%,0%);stroke-opacity:1;stroke-miterlimit:10;\" d=\"M 419.570312 214.558594 L 419.570312 221.761719 \"/>\n",
       "<path style=\"fill:none;stroke-width:0.75;stroke-linecap:round;stroke-linejoin:round;stroke:rgb(0%,0%,0%);stroke-opacity:1;stroke-miterlimit:10;\" d=\"M 423.882812 214.558594 L 423.882812 221.761719 \"/>\n",
       "<path style=\"fill:none;stroke-width:0.75;stroke-linecap:round;stroke-linejoin:round;stroke:rgb(0%,0%,0%);stroke-opacity:1;stroke-miterlimit:10;\" d=\"M 428.199219 214.558594 L 428.199219 221.761719 \"/>\n",
       "<path style=\"fill:none;stroke-width:0.75;stroke-linecap:round;stroke-linejoin:round;stroke:rgb(0%,0%,0%);stroke-opacity:1;stroke-miterlimit:10;\" d=\"M 432.511719 214.558594 L 432.511719 221.761719 \"/>\n",
       "<path style=\"fill:none;stroke-width:0.75;stroke-linecap:round;stroke-linejoin:round;stroke:rgb(0%,0%,0%);stroke-opacity:1;stroke-miterlimit:10;\" d=\"M 436.828125 214.558594 L 436.828125 221.761719 \"/>\n",
       "<path style=\"fill:none;stroke-width:0.75;stroke-linecap:round;stroke-linejoin:round;stroke:rgb(0%,0%,0%);stroke-opacity:1;stroke-miterlimit:10;\" d=\"M 441.140625 214.558594 L 441.140625 221.761719 \"/>\n",
       "<path style=\"fill:none;stroke-width:0.75;stroke-linecap:round;stroke-linejoin:round;stroke:rgb(0%,0%,0%);stroke-opacity:1;stroke-miterlimit:10;\" d=\"M 445.457031 214.558594 L 445.457031 221.761719 \"/>\n",
       "<path style=\"fill:none;stroke-width:0.75;stroke-linecap:round;stroke-linejoin:round;stroke:rgb(0%,0%,0%);stroke-opacity:1;stroke-miterlimit:10;\" d=\"M 449.769531 214.558594 L 449.769531 221.761719 \"/>\n",
       "<path style=\"fill:none;stroke-width:0.75;stroke-linecap:round;stroke-linejoin:round;stroke:rgb(0%,0%,0%);stroke-opacity:1;stroke-miterlimit:10;\" d=\"M 454.085938 214.558594 L 454.085938 221.761719 \"/>\n",
       "<path style=\"fill:none;stroke-width:0.75;stroke-linecap:round;stroke-linejoin:round;stroke:rgb(0%,0%,0%);stroke-opacity:1;stroke-miterlimit:10;\" d=\"M 458.398438 214.558594 L 458.398438 221.761719 \"/>\n",
       "<g style=\"fill:rgb(0%,0%,0%);fill-opacity:1;\">\n",
       "  <use xlink:href=\"#glyph1-8\" x=\"60.898438\" y=\"240.256836\"/>\n",
       "  <use xlink:href=\"#glyph1-9\" x=\"67.570312\" y=\"240.256836\"/>\n",
       "  <use xlink:href=\"#glyph1-9\" x=\"74.242188\" y=\"240.256836\"/>\n",
       "  <use xlink:href=\"#glyph1-9\" x=\"80.914062\" y=\"240.256836\"/>\n",
       "</g>\n",
       "<g style=\"fill:rgb(0%,0%,0%);fill-opacity:1;\">\n",
       "  <use xlink:href=\"#glyph1-8\" x=\"99.730469\" y=\"240.256836\"/>\n",
       "  <use xlink:href=\"#glyph1-9\" x=\"106.402344\" y=\"240.256836\"/>\n",
       "  <use xlink:href=\"#glyph1-9\" x=\"113.074219\" y=\"240.256836\"/>\n",
       "  <use xlink:href=\"#glyph1-8\" x=\"119.746094\" y=\"240.256836\"/>\n",
       "</g>\n",
       "<g style=\"fill:rgb(0%,0%,0%);fill-opacity:1;\">\n",
       "  <use xlink:href=\"#glyph1-8\" x=\"138.5625\" y=\"240.256836\"/>\n",
       "  <use xlink:href=\"#glyph1-9\" x=\"145.234375\" y=\"240.256836\"/>\n",
       "  <use xlink:href=\"#glyph1-9\" x=\"151.90625\" y=\"240.256836\"/>\n",
       "  <use xlink:href=\"#glyph1-10\" x=\"158.578125\" y=\"240.256836\"/>\n",
       "</g>\n",
       "<g style=\"fill:rgb(0%,0%,0%);fill-opacity:1;\">\n",
       "  <use xlink:href=\"#glyph1-8\" x=\"177.394531\" y=\"240.256836\"/>\n",
       "  <use xlink:href=\"#glyph1-9\" x=\"184.066406\" y=\"240.256836\"/>\n",
       "  <use xlink:href=\"#glyph1-9\" x=\"190.738281\" y=\"240.256836\"/>\n",
       "  <use xlink:href=\"#glyph1-11\" x=\"197.410156\" y=\"240.256836\"/>\n",
       "</g>\n",
       "<g style=\"fill:rgb(0%,0%,0%);fill-opacity:1;\">\n",
       "  <use xlink:href=\"#glyph1-8\" x=\"216.226562\" y=\"240.256836\"/>\n",
       "  <use xlink:href=\"#glyph1-9\" x=\"222.898438\" y=\"240.256836\"/>\n",
       "  <use xlink:href=\"#glyph1-9\" x=\"229.570312\" y=\"240.256836\"/>\n",
       "  <use xlink:href=\"#glyph1-12\" x=\"236.242188\" y=\"240.256836\"/>\n",
       "</g>\n",
       "<g style=\"fill:rgb(0%,0%,0%);fill-opacity:1;\">\n",
       "  <use xlink:href=\"#glyph1-8\" x=\"255.058594\" y=\"240.256836\"/>\n",
       "  <use xlink:href=\"#glyph1-9\" x=\"261.730469\" y=\"240.256836\"/>\n",
       "  <use xlink:href=\"#glyph1-9\" x=\"268.402344\" y=\"240.256836\"/>\n",
       "  <use xlink:href=\"#glyph1-13\" x=\"275.074219\" y=\"240.256836\"/>\n",
       "</g>\n",
       "<g style=\"fill:rgb(0%,0%,0%);fill-opacity:1;\">\n",
       "  <use xlink:href=\"#glyph1-8\" x=\"293.890625\" y=\"240.256836\"/>\n",
       "  <use xlink:href=\"#glyph1-9\" x=\"300.5625\" y=\"240.256836\"/>\n",
       "  <use xlink:href=\"#glyph1-9\" x=\"307.234375\" y=\"240.256836\"/>\n",
       "  <use xlink:href=\"#glyph1-14\" x=\"313.90625\" y=\"240.256836\"/>\n",
       "</g>\n",
       "<g style=\"fill:rgb(0%,0%,0%);fill-opacity:1;\">\n",
       "  <use xlink:href=\"#glyph1-8\" x=\"332.71875\" y=\"240.256836\"/>\n",
       "  <use xlink:href=\"#glyph1-9\" x=\"339.390625\" y=\"240.256836\"/>\n",
       "  <use xlink:href=\"#glyph1-9\" x=\"346.0625\" y=\"240.256836\"/>\n",
       "  <use xlink:href=\"#glyph1-15\" x=\"352.734375\" y=\"240.256836\"/>\n",
       "</g>\n",
       "<g style=\"fill:rgb(0%,0%,0%);fill-opacity:1;\">\n",
       "  <use xlink:href=\"#glyph1-8\" x=\"371.550781\" y=\"240.256836\"/>\n",
       "  <use xlink:href=\"#glyph1-9\" x=\"378.222656\" y=\"240.256836\"/>\n",
       "  <use xlink:href=\"#glyph1-16\" x=\"384.894531\" y=\"240.256836\"/>\n",
       "  <use xlink:href=\"#glyph1-9\" x=\"391.566406\" y=\"240.256836\"/>\n",
       "</g>\n",
       "<g style=\"fill:rgb(0%,0%,0%);fill-opacity:1;\">\n",
       "  <use xlink:href=\"#glyph1-8\" x=\"410.382812\" y=\"240.256836\"/>\n",
       "  <use xlink:href=\"#glyph1-9\" x=\"417.054688\" y=\"240.256836\"/>\n",
       "  <use xlink:href=\"#glyph1-16\" x=\"423.726562\" y=\"240.256836\"/>\n",
       "  <use xlink:href=\"#glyph1-8\" x=\"430.398438\" y=\"240.256836\"/>\n",
       "</g>\n",
       "</g>\n",
       "</svg>\n"
      ],
      "text/plain": [
       "Plot with title \"Histogram of mvt$Date\""
      ]
     },
     "metadata": {
      "image/svg+xml": {
       "isolated": true
      }
     },
     "output_type": "display_data"
    }
   ],
   "source": [
    "options(repr.plot.width=7, repr.plot.height=4)\n",
    "hist(mvt$Date, breaks=100)"
   ]
  },
  {
   "cell_type": "code",
   "execution_count": 61,
   "metadata": {
    "collapsed": false
   },
   "outputs": [
    {
     "data": {
      "image/png": "[encoded data removed]",
      "image/svg+xml": [
       "<?xml version=\"1.0\" encoding=\"UTF-8\"?>\n",
       "<svg xmlns=\"http://www.w3.org/2000/svg\" xmlns:xlink=\"http://www.w3.org/1999/xlink\" width=\"504pt\" height=\"288pt\" viewBox=\"0 0 504 288\" version=\"1.1\">\n",
       "<defs>\n",
       "<g>\n",
       "<symbol overflow=\"visible\" id=\"glyph0-0\">\n",
       "<path style=\"stroke:none;\" d=\"\"/>\n",
       "</symbol>\n",
       "<symbol overflow=\"visible\" id=\"glyph0-1\">\n",
       "<path style=\"stroke:none;\" d=\"M 6.953125 -7.765625 L 6.953125 -8.75 L 1.078125 -8.75 L 1.078125 0 L 2.203125 0 L 2.203125 -3.984375 L 6.375 -3.984375 L 6.375 -4.96875 L 2.203125 -4.96875 L 2.203125 -7.765625 Z M 6.953125 -7.765625 \"/>\n",
       "</symbol>\n",
       "<symbol overflow=\"visible\" id=\"glyph0-2\">\n",
       "<path style=\"stroke:none;\" d=\"M 7.84375 0 L 4.765625 -8.75 L 3.328125 -8.75 L 0.203125 0 L 1.390625 0 L 2.3125 -2.625 L 5.6875 -2.625 L 6.59375 0 Z M 5.375 -3.5625 L 2.59375 -3.5625 L 4.03125 -7.546875 Z M 5.375 -3.5625 \"/>\n",
       "</symbol>\n",
       "<symbol overflow=\"visible\" id=\"glyph0-3\">\n",
       "<path style=\"stroke:none;\" d=\"M 6.390625 0 L 6.390625 -0.984375 L 2.078125 -0.984375 L 2.078125 -8.75 L 0.953125 -8.75 L 0.953125 0 Z M 6.390625 0 \"/>\n",
       "</symbol>\n",
       "<symbol overflow=\"visible\" id=\"glyph0-4\">\n",
       "<path style=\"stroke:none;\" d=\"M 7.453125 -2.40625 C 7.453125 -3.484375 6.78125 -4.265625 5.59375 -4.59375 L 3.390625 -5.1875 C 2.34375 -5.453125 1.953125 -5.8125 1.953125 -6.484375 C 1.953125 -7.375 2.734375 -8.03125 3.90625 -8.03125 C 5.296875 -8.03125 6.09375 -7.390625 6.09375 -6.25 L 7.15625 -6.25 C 7.15625 -7.96875 5.96875 -8.96875 3.953125 -8.96875 C 2.03125 -8.96875 0.84375 -7.90625 0.84375 -6.328125 C 0.84375 -5.25 1.40625 -4.578125 2.5625 -4.28125 L 4.734375 -3.703125 C 5.828125 -3.421875 6.34375 -2.96875 6.34375 -2.296875 C 6.34375 -1.328125 5.609375 -0.765625 4.109375 -0.765625 C 2.453125 -0.765625 1.625 -1.59375 1.625 -2.84375 L 0.578125 -2.84375 C 0.578125 -0.78125 1.96875 0.21875 4.03125 0.21875 C 6.25 0.21875 7.453125 -0.84375 7.453125 -2.40625 Z M 7.453125 -2.40625 \"/>\n",
       "</symbol>\n",
       "<symbol overflow=\"visible\" id=\"glyph0-5\">\n",
       "<path style=\"stroke:none;\" d=\"M 7.359375 0 L 7.359375 -0.984375 L 2.203125 -0.984375 L 2.203125 -3.984375 L 6.953125 -3.984375 L 6.953125 -4.96875 L 2.203125 -4.96875 L 2.203125 -7.765625 L 7.140625 -7.765625 L 7.140625 -8.75 L 1.078125 -8.75 L 1.078125 0 Z M 7.359375 0 \"/>\n",
       "</symbol>\n",
       "<symbol overflow=\"visible\" id=\"glyph0-6\">\n",
       "<path style=\"stroke:none;\" d=\"M 7.109375 -7.765625 L 7.109375 -8.75 L 0.25 -8.75 L 0.25 -7.765625 L 3.125 -7.765625 L 3.125 0 L 4.25 0 L 4.25 -7.765625 Z M 7.109375 -7.765625 \"/>\n",
       "</symbol>\n",
       "<symbol overflow=\"visible\" id=\"glyph0-7\">\n",
       "<path style=\"stroke:none;\" d=\"M 8.140625 0 L 8.140625 -0.28125 C 7.734375 -0.5625 7.625 -0.875 7.625 -2.046875 C 7.59375 -3.484375 7.375 -3.90625 6.4375 -4.3125 C 7.421875 -4.796875 7.8125 -5.40625 7.8125 -6.40625 C 7.8125 -7.921875 6.859375 -8.75 5.140625 -8.75 L 1.109375 -8.75 L 1.109375 0 L 2.234375 0 L 2.234375 -3.765625 L 5.109375 -3.765625 C 6.09375 -3.765625 6.5625 -3.28125 6.546875 -2.203125 L 6.546875 -1.421875 C 6.53125 -0.890625 6.640625 -0.359375 6.796875 0 Z M 6.640625 -6.25 C 6.640625 -5.21875 6.125 -4.75 4.9375 -4.75 L 2.234375 -4.75 L 2.234375 -7.765625 L 4.9375 -7.765625 C 6.1875 -7.765625 6.640625 -7.234375 6.640625 -6.25 Z M 6.640625 -6.25 \"/>\n",
       "</symbol>\n",
       "<symbol overflow=\"visible\" id=\"glyph0-8\">\n",
       "<path style=\"stroke:none;\" d=\"M 7.734375 -2.65625 L 7.734375 -8.75 L 6.625 -8.75 L 6.625 -2.65625 C 6.625 -1.484375 5.765625 -0.765625 4.375 -0.765625 C 3.0625 -0.765625 2.140625 -1.390625 2.140625 -2.65625 L 2.140625 -8.75 L 1.015625 -8.75 L 1.015625 -2.65625 C 1.015625 -0.890625 2.296875 0.21875 4.375 0.21875 C 6.421875 0.21875 7.734375 -0.90625 7.734375 -2.65625 Z M 7.734375 -2.65625 \"/>\n",
       "</symbol>\n",
       "<symbol overflow=\"visible\" id=\"glyph1-0\">\n",
       "<path style=\"stroke:none;\" d=\"\"/>\n",
       "</symbol>\n",
       "<symbol overflow=\"visible\" id=\"glyph1-1\">\n",
       "<path style=\"stroke:none;\" d=\"M -6.015625 -6.125 C -7.453125 -6.125 -8.515625 -5.015625 -8.515625 -3.40625 C -8.515625 -1.671875 -7.625 -0.65625 -5.5625 -0.59375 L -5.5625 -1.65625 C -6.984375 -1.734375 -7.578125 -2.328125 -7.578125 -3.375 C -7.578125 -4.328125 -6.90625 -5.046875 -5.984375 -5.046875 C -5.3125 -5.046875 -4.734375 -4.65625 -4.3125 -3.90625 L -3.6875 -2.796875 C -2.671875 -1.015625 -1.875 -0.5 0 -0.40625 L 0 -6.078125 L -1.046875 -6.078125 L -1.046875 -1.59375 C -1.734375 -1.703125 -2.1875 -2.09375 -2.796875 -3.125 L -3.4375 -4.328125 C -4.078125 -5.515625 -4.96875 -6.125 -6.015625 -6.125 Z M -6.015625 -6.125 \"/>\n",
       "</symbol>\n",
       "<symbol overflow=\"visible\" id=\"glyph1-2\">\n",
       "<path style=\"stroke:none;\" d=\"M -4.09375 -6.078125 C -7.046875 -6.078125 -8.515625 -5.140625 -8.515625 -3.296875 C -8.515625 -1.46875 -7.015625 -0.515625 -4.15625 -0.515625 C -1.296875 -0.515625 0.1875 -1.46875 0.1875 -3.296875 C 0.1875 -5.09375 -1.296875 -6.078125 -4.09375 -6.078125 Z M -4.1875 -5 C -1.78125 -5 -0.703125 -4.453125 -0.703125 -3.28125 C -0.703125 -2.15625 -1.828125 -1.59375 -4.15625 -1.59375 C -6.484375 -1.59375 -7.578125 -2.15625 -7.578125 -3.296875 C -7.578125 -4.4375 -6.46875 -5 -4.1875 -5 Z M -4.1875 -5 \"/>\n",
       "</symbol>\n",
       "<symbol overflow=\"visible\" id=\"glyph1-3\">\n",
       "<path style=\"stroke:none;\" d=\"M -2.640625 -6.15625 C -4.21875 -6.15625 -5.296875 -5.078125 -5.296875 -3.546875 C -5.296875 -2.71875 -4.96875 -2.046875 -4.34375 -1.59375 C -6.421875 -1.609375 -7.578125 -2.28125 -7.578125 -3.484375 C -7.578125 -4.234375 -7.109375 -4.75 -6.28125 -4.921875 L -6.28125 -5.96875 C -7.6875 -5.765625 -8.515625 -4.859375 -8.515625 -3.5625 C -8.515625 -1.578125 -6.84375 -0.515625 -3.875 -0.515625 C -1.21875 -0.515625 0.1875 -1.421875 0.1875 -3.375 C 0.1875 -4.984375 -0.96875 -6.15625 -2.640625 -6.15625 Z M -2.5625 -5.078125 C -1.484375 -5.078125 -0.75 -4.359375 -0.75 -3.390625 C -0.75 -2.40625 -1.53125 -1.65625 -2.609375 -1.65625 C -3.671875 -1.65625 -4.359375 -2.375 -4.359375 -3.421875 C -4.359375 -4.4375 -3.703125 -5.078125 -2.5625 -5.078125 Z M -2.5625 -5.078125 \"/>\n",
       "</symbol>\n",
       "<symbol overflow=\"visible\" id=\"glyph1-4\">\n",
       "<path style=\"stroke:none;\" d=\"M 0 -4.15625 L -8.515625 -4.15625 L -8.515625 -3.46875 C -7.203125 -3.09375 -7.015625 -2.859375 -6.8125 -1.21875 L -6.0625 -1.21875 L -6.0625 -3.109375 L 0 -3.109375 Z M 0 -4.15625 \"/>\n",
       "</symbol>\n",
       "</g>\n",
       "</defs>\n",
       "<g id=\"surface140\">\n",
       "<rect x=\"0\" y=\"0\" width=\"504\" height=\"288\" style=\"fill:rgb(100%,100%,100%);fill-opacity:1;stroke:none;\"/>\n",
       "<path style=\"fill:none;stroke-width:2.25;stroke-linecap:butt;stroke-linejoin:round;stroke:rgb(0%,0%,0%);stroke-opacity:1;stroke-miterlimit:10;\" d=\"M 93.601562 142.683594 L 247.199219 142.683594 \"/>\n",
       "<path style=\"fill:none;stroke-width:0.75;stroke-linecap:round;stroke-linejoin:round;stroke:rgb(0%,0%,0%);stroke-opacity:1;stroke-dasharray:3,3;stroke-miterlimit:10;\" d=\"M 170.398438 208.800781 L 170.398438 177.515625 \"/>\n",
       "<path style=\"fill:none;stroke-width:0.75;stroke-linecap:round;stroke-linejoin:round;stroke:rgb(0%,0%,0%);stroke-opacity:1;stroke-dasharray:3,3;stroke-miterlimit:10;\" d=\"M 170.398438 64.800781 L 170.398438 101.40625 \"/>\n",
       "<path style=\"fill:none;stroke-width:0.75;stroke-linecap:round;stroke-linejoin:round;stroke:rgb(0%,0%,0%);stroke-opacity:1;stroke-miterlimit:10;\" d=\"M 132 208.800781 L 208.800781 208.800781 \"/>\n",
       "<path style=\"fill:none;stroke-width:0.75;stroke-linecap:round;stroke-linejoin:round;stroke:rgb(0%,0%,0%);stroke-opacity:1;stroke-miterlimit:10;\" d=\"M 132 64.800781 L 208.800781 64.800781 \"/>\n",
       "<path style=\"fill:none;stroke-width:0.75;stroke-linecap:round;stroke-linejoin:round;stroke:rgb(0%,0%,0%);stroke-opacity:1;stroke-miterlimit:10;\" d=\"M 93.601562 177.515625 L 247.199219 177.515625 L 247.199219 101.40625 L 93.601562 101.40625 L 93.601562 177.515625 \"/>\n",
       "<path style=\"fill:none;stroke-width:2.25;stroke-linecap:butt;stroke-linejoin:round;stroke:rgb(0%,0%,0%);stroke-opacity:1;stroke-miterlimit:10;\" d=\"M 285.601562 160.707031 L 439.199219 160.707031 \"/>\n",
       "<path style=\"fill:none;stroke-width:0.75;stroke-linecap:round;stroke-linejoin:round;stroke:rgb(0%,0%,0%);stroke-opacity:1;stroke-dasharray:3,3;stroke-miterlimit:10;\" d=\"M 362.398438 208.800781 L 362.398438 187.109375 \"/>\n",
       "<path style=\"fill:none;stroke-width:0.75;stroke-linecap:round;stroke-linejoin:round;stroke:rgb(0%,0%,0%);stroke-opacity:1;stroke-dasharray:3,3;stroke-miterlimit:10;\" d=\"M 362.398438 64.800781 L 362.398438 126.433594 \"/>\n",
       "<path style=\"fill:none;stroke-width:0.75;stroke-linecap:round;stroke-linejoin:round;stroke:rgb(0%,0%,0%);stroke-opacity:1;stroke-miterlimit:10;\" d=\"M 324 208.800781 L 400.800781 208.800781 \"/>\n",
       "<path style=\"fill:none;stroke-width:0.75;stroke-linecap:round;stroke-linejoin:round;stroke:rgb(0%,0%,0%);stroke-opacity:1;stroke-miterlimit:10;\" d=\"M 324 64.800781 L 400.800781 64.800781 \"/>\n",
       "<path style=\"fill:none;stroke-width:0.75;stroke-linecap:round;stroke-linejoin:round;stroke:rgb(0%,0%,0%);stroke-opacity:1;stroke-miterlimit:10;\" d=\"M 285.601562 187.109375 L 439.199219 187.109375 L 439.199219 126.433594 L 285.601562 126.433594 L 285.601562 187.109375 \"/>\n",
       "<path style=\"fill:none;stroke-width:0.75;stroke-linecap:round;stroke-linejoin:round;stroke:rgb(0%,0%,0%);stroke-opacity:1;stroke-miterlimit:10;\" d=\"M 170.398438 214.558594 L 362.398438 214.558594 \"/>\n",
       "<path style=\"fill:none;stroke-width:0.75;stroke-linecap:round;stroke-linejoin:round;stroke:rgb(0%,0%,0%);stroke-opacity:1;stroke-miterlimit:10;\" d=\"M 170.398438 214.558594 L 170.398438 221.761719 \"/>\n",
       "<path style=\"fill:none;stroke-width:0.75;stroke-linecap:round;stroke-linejoin:round;stroke:rgb(0%,0%,0%);stroke-opacity:1;stroke-miterlimit:10;\" d=\"M 362.398438 214.558594 L 362.398438 221.761719 \"/>\n",
       "<g style=\"fill:rgb(0%,0%,0%);fill-opacity:1;\">\n",
       "  <use xlink:href=\"#glyph0-1\" x=\"151.898438\" y=\"240.256836\"/>\n",
       "  <use xlink:href=\"#glyph0-2\" x=\"158.390625\" y=\"240.256836\"/>\n",
       "  <use xlink:href=\"#glyph0-3\" x=\"166.394531\" y=\"240.256836\"/>\n",
       "  <use xlink:href=\"#glyph0-4\" x=\"172.827148\" y=\"240.256836\"/>\n",
       "  <use xlink:href=\"#glyph0-5\" x=\"180.831055\" y=\"240.256836\"/>\n",
       "</g>\n",
       "<g style=\"fill:rgb(0%,0%,0%);fill-opacity:1;\">\n",
       "  <use xlink:href=\"#glyph0-6\" x=\"345.898438\" y=\"240.256836\"/>\n",
       "  <use xlink:href=\"#glyph0-7\" x=\"353.230469\" y=\"240.256836\"/>\n",
       "  <use xlink:href=\"#glyph0-8\" x=\"361.714844\" y=\"240.256836\"/>\n",
       "  <use xlink:href=\"#glyph0-5\" x=\"370.378906\" y=\"240.256836\"/>\n",
       "</g>\n",
       "<path style=\"fill:none;stroke-width:0.75;stroke-linecap:round;stroke-linejoin:round;stroke:rgb(0%,0%,0%);stroke-opacity:1;stroke-miterlimit:10;\" d=\"M 59.039062 196.804688 L 59.039062 76.792969 \"/>\n",
       "<path style=\"fill:none;stroke-width:0.75;stroke-linecap:round;stroke-linejoin:round;stroke:rgb(0%,0%,0%);stroke-opacity:1;stroke-miterlimit:10;\" d=\"M 59.039062 196.804688 L 51.839844 196.804688 \"/>\n",
       "<path style=\"fill:none;stroke-width:0.75;stroke-linecap:round;stroke-linejoin:round;stroke:rgb(0%,0%,0%);stroke-opacity:1;stroke-miterlimit:10;\" d=\"M 59.039062 172.816406 L 51.839844 172.816406 \"/>\n",
       "<path style=\"fill:none;stroke-width:0.75;stroke-linecap:round;stroke-linejoin:round;stroke:rgb(0%,0%,0%);stroke-opacity:1;stroke-miterlimit:10;\" d=\"M 59.039062 148.792969 L 51.839844 148.792969 \"/>\n",
       "<path style=\"fill:none;stroke-width:0.75;stroke-linecap:round;stroke-linejoin:round;stroke:rgb(0%,0%,0%);stroke-opacity:1;stroke-miterlimit:10;\" d=\"M 59.039062 124.804688 L 51.839844 124.804688 \"/>\n",
       "<path style=\"fill:none;stroke-width:0.75;stroke-linecap:round;stroke-linejoin:round;stroke:rgb(0%,0%,0%);stroke-opacity:1;stroke-miterlimit:10;\" d=\"M 59.039062 100.785156 L 51.839844 100.785156 \"/>\n",
       "<path style=\"fill:none;stroke-width:0.75;stroke-linecap:round;stroke-linejoin:round;stroke:rgb(0%,0%,0%);stroke-opacity:1;stroke-miterlimit:10;\" d=\"M 59.039062 76.792969 L 51.839844 76.792969 \"/>\n",
       "<g style=\"fill:rgb(0%,0%,0%);fill-opacity:1;\">\n",
       "  <use xlink:href=\"#glyph1-1\" x=\"41.538086\" y=\"210.304688\"/>\n",
       "  <use xlink:href=\"#glyph1-2\" x=\"41.538086\" y=\"203.632812\"/>\n",
       "  <use xlink:href=\"#glyph1-2\" x=\"41.538086\" y=\"196.960938\"/>\n",
       "  <use xlink:href=\"#glyph1-1\" x=\"41.538086\" y=\"190.289062\"/>\n",
       "</g>\n",
       "<g style=\"fill:rgb(0%,0%,0%);fill-opacity:1;\">\n",
       "  <use xlink:href=\"#glyph1-1\" x=\"41.538086\" y=\"162.292969\"/>\n",
       "  <use xlink:href=\"#glyph1-2\" x=\"41.538086\" y=\"155.621094\"/>\n",
       "  <use xlink:href=\"#glyph1-2\" x=\"41.538086\" y=\"148.949219\"/>\n",
       "  <use xlink:href=\"#glyph1-3\" x=\"41.538086\" y=\"142.277344\"/>\n",
       "</g>\n",
       "<g style=\"fill:rgb(0%,0%,0%);fill-opacity:1;\">\n",
       "  <use xlink:href=\"#glyph1-1\" x=\"41.538086\" y=\"114.285156\"/>\n",
       "  <use xlink:href=\"#glyph1-2\" x=\"41.538086\" y=\"107.613281\"/>\n",
       "  <use xlink:href=\"#glyph1-4\" x=\"41.538086\" y=\"100.941406\"/>\n",
       "  <use xlink:href=\"#glyph1-2\" x=\"41.538086\" y=\"94.269531\"/>\n",
       "</g>\n",
       "<path style=\"fill:none;stroke-width:0.75;stroke-linecap:round;stroke-linejoin:round;stroke:rgb(0%,0%,0%);stroke-opacity:1;stroke-miterlimit:10;\" d=\"M 59.039062 214.558594 L 473.761719 214.558594 L 473.761719 59.039062 L 59.039062 59.039062 L 59.039062 214.558594 \"/>\n",
       "</g>\n",
       "</svg>\n"
      ],
      "text/plain": [
       "plot without title"
      ]
     },
     "metadata": {
      "image/svg+xml": {
       "isolated": true
      }
     },
     "output_type": "display_data"
    }
   ],
   "source": [
    "boxplot(mvt$Date ~ mvt$Arrest)"
   ]
  },
  {
   "cell_type": "code",
   "execution_count": 64,
   "metadata": {
    "collapsed": false
   },
   "outputs": [
    {
     "data": {
      "text/plain": [
       "\n",
       "FALSE  TRUE \n",
       "18517  2152 "
      ]
     },
     "execution_count": 64,
     "metadata": {},
     "output_type": "execute_result"
    }
   ],
   "source": [
    "Year2001 = subset(mvt, Year == 2001)\n",
    "table(Year2001$Arrest)"
   ]
  },
  {
   "cell_type": "code",
   "execution_count": 65,
   "metadata": {
    "collapsed": false
   },
   "outputs": [
    {
     "data": {
      "text/html": [
       "0.10411727708162"
      ],
      "text/latex": [
       "0.10411727708162"
      ],
      "text/markdown": [
       "0.10411727708162"
      ],
      "text/plain": [
       "[1] 0.1041173"
      ]
     },
     "execution_count": 65,
     "metadata": {},
     "output_type": "execute_result"
    }
   ],
   "source": [
    "2152 / (2152 + 18517)"
   ]
  },
  {
   "cell_type": "code",
   "execution_count": 66,
   "metadata": {
    "collapsed": false
   },
   "outputs": [
    {
     "data": {
      "text/plain": [
       "       \n",
       "         2001  2002  2003  2004  2005  2006  2007  2008  2009  2010  2011  2012\n",
       "  FALSE 18517 16638 14859 15169 14956 14796 13068 13425 11327 14796 15012 13542\n",
       "  TRUE   2152  2115  1798  1693  1528  1302  1212  1020   840   701   625   550"
      ]
     },
     "execution_count": 66,
     "metadata": {},
     "output_type": "execute_result"
    }
   ],
   "source": [
    "table(mvt$Arrest, mvt$Year)"
   ]
  },
  {
   "cell_type": "code",
   "execution_count": 67,
   "metadata": {
    "collapsed": false
   },
   "outputs": [
    {
     "data": {
      "text/html": [
       "0.0848739495798319"
      ],
      "text/latex": [
       "0.0848739495798319"
      ],
      "text/markdown": [
       "0.0848739495798319"
      ],
      "text/plain": [
       "[1] 0.08487395"
      ]
     },
     "execution_count": 67,
     "metadata": {},
     "output_type": "execute_result"
    }
   ],
   "source": [
    "1212 / (1212 + 13068)"
   ]
  },
  {
   "cell_type": "code",
   "execution_count": 69,
   "metadata": {
    "collapsed": false
   },
   "outputs": [
    {
     "data": {
      "text/plain": [
       "\n",
       "FALSE  TRUE \n",
       "13068  1212 "
      ]
     },
     "execution_count": 69,
     "metadata": {},
     "output_type": "execute_result"
    }
   ],
   "source": [
    "table(subset(mvt, Year == 2007)$Arrest)"
   ]
  },
  {
   "cell_type": "code",
   "execution_count": 70,
   "metadata": {
    "collapsed": false
   },
   "outputs": [
    {
     "data": {
      "text/html": [
       "0.0390292364462106"
      ],
      "text/latex": [
       "0.0390292364462106"
      ],
      "text/markdown": [
       "0.0390292364462106"
      ],
      "text/plain": [
       "[1] 0.03902924"
      ]
     },
     "execution_count": 70,
     "metadata": {},
     "output_type": "execute_result"
    }
   ],
   "source": [
    "550 / (550 + 13542)"
   ]
  },
  {
   "cell_type": "code",
   "execution_count": 107,
   "metadata": {
    "collapsed": false
   },
   "outputs": [
    {
     "name": "stdout",
     "output_type": "stream",
     "text": [
      "'data.frame':\t177510 obs. of  13 variables:\n",
      " $ ID                 : int  8951354 8951141 8952223 8951608 8950793 8950760 8951611 8951802 8950706 8951585 ...\n",
      " $ Date               : Date, format: \"2012-12-31\" \"2012-12-31\" ...\n",
      " $ LocationDescription: Factor w/ 78 levels \"ABANDONED BUILDING\",..: 72 72 72 72 72 72 72 72 72 72 ...\n",
      " $ Arrest             : logi  FALSE FALSE FALSE FALSE TRUE FALSE ...\n",
      " $ Domestic           : logi  FALSE FALSE FALSE FALSE FALSE FALSE ...\n",
      " $ Beat               : int  623 1213 724 211 2521 423 231 1021 1215 1011 ...\n",
      " $ District           : int  6 12 7 2 25 4 2 10 12 10 ...\n",
      " $ CommunityArea      : int  69 24 67 35 19 48 40 29 24 29 ...\n",
      " $ Year               : int  2012 2012 2012 2012 2012 2012 2012 2012 2012 2012 ...\n",
      " $ Latitude           : num  41.8 41.9 41.8 41.8 41.9 ...\n",
      " $ Longitude          : num  -87.6 -87.7 -87.7 -87.6 -87.8 ...\n",
      " $ Month              : chr  \"December\" \"December\" \"December\" \"December\" ...\n",
      " $ Weekday            : chr  \"Monday\" \"Monday\" \"Monday\" \"Monday\" ...\n"
     ]
    }
   ],
   "source": [
    "#options(width=80)\n",
    "sortedLocations = sort(table(mvt$LocationDescription), decreasing=T)\n",
    "Top5Locations = as.list(names(sortedLocations)[1:6])[-3] # Exclude Other\n",
    "Top5 = subset(mvt, LocationDescription %in% Top5Locations)\n",
    "str(Top5)"
   ]
  },
  {
   "cell_type": "code",
   "execution_count": 110,
   "metadata": {
    "collapsed": false
   },
   "outputs": [
    {
     "data": {
      "text/plain": [
       "                                \n",
       "                                  FALSE   TRUE\n",
       "  ALLEY                            2059    249\n",
       "  DRIVEWAY - RESIDENTIAL           1543    132\n",
       "  GAS STATION                      1672    439\n",
       "  PARKING LOT/GARAGE(NON.RESID.)  13249   1603\n",
       "  STREET                         144969  11595"
      ]
     },
     "execution_count": 110,
     "metadata": {},
     "output_type": "execute_result"
    }
   ],
   "source": [
    "Top5$LocationDescription = factor(Top5$LocationDescription)\n",
    "table(Top5$LocationDescription, Top5$Arrest)"
   ]
  },
  {
   "cell_type": "code",
   "execution_count": 116,
   "metadata": {
    "collapsed": false
   },
   "outputs": [
    {
     "data": {
      "text/html": [
       "<dl class=dl-horizontal>\n",
       "\t<dt>Tuesday</dt>\n",
       "\t\t<dd>270</dd>\n",
       "\t<dt>Wednesday</dt>\n",
       "\t\t<dd>273</dd>\n",
       "\t<dt>Monday</dt>\n",
       "\t\t<dd>280</dd>\n",
       "\t<dt>Thursday</dt>\n",
       "\t\t<dd>282</dd>\n",
       "\t<dt>Friday</dt>\n",
       "\t\t<dd>332</dd>\n",
       "\t<dt>Sunday</dt>\n",
       "\t\t<dd>336</dd>\n",
       "\t<dt>Saturday</dt>\n",
       "\t\t<dd>338</dd>\n",
       "</dl>\n"
      ],
      "text/latex": [
       "\\begin{description*}\n",
       "\\item[Tuesday] 270\n",
       "\\item[Wednesday] 273\n",
       "\\item[Monday] 280\n",
       "\\item[Thursday] 282\n",
       "\\item[Friday] 332\n",
       "\\item[Sunday] 336\n",
       "\\item[Saturday] 338\n",
       "\\end{description*}\n"
      ],
      "text/markdown": [
       "Tuesday\n",
       ":   270Wednesday\n",
       ":   273Monday\n",
       ":   280Thursday\n",
       ":   282Friday\n",
       ":   332Sunday\n",
       ":   336Saturday\n",
       ":   338\n",
       "\n"
      ],
      "text/plain": [
       "\n",
       "  Tuesday Wednesday    Monday  Thursday    Friday    Sunday  Saturday \n",
       "      270       273       280       282       332       336       338 "
      ]
     },
     "execution_count": 116,
     "metadata": {},
     "output_type": "execute_result"
    }
   ],
   "source": [
    "gas = subset(Top5, LocationDescription == 'GAS STATION')\n",
    "sort(table(gas$Weekday))"
   ]
  },
  {
   "cell_type": "code",
   "execution_count": 117,
   "metadata": {
    "collapsed": false
   },
   "outputs": [
    {
     "data": {
      "text/plain": [
       "                                \n",
       "                                 Friday Monday Saturday Sunday Thursday Tuesday\n",
       "  ALLEY                             385    320      341    307      315     323\n",
       "  DRIVEWAY - RESIDENTIAL            257    255      202    221      263     243\n",
       "  GAS STATION                       332    280      338    336      282     270\n",
       "  PARKING LOT/GARAGE(NON.RESID.)   2331   2128     2199   1936     2082    2073\n",
       "  STREET                          23773  22305    22175  21756    22296   21888\n",
       "                                \n",
       "                                 Wednesday\n",
       "  ALLEY                                317\n",
       "  DRIVEWAY - RESIDENTIAL               234\n",
       "  GAS STATION                          273\n",
       "  PARKING LOT/GARAGE(NON.RESID.)      2103\n",
       "  STREET                             22371"
      ]
     },
     "execution_count": 117,
     "metadata": {},
     "output_type": "execute_result"
    }
   ],
   "source": [
    "table(Top5$LocationDescription, Top5$Weekday)"
   ]
  },
  {
   "cell_type": "code",
   "execution_count": null,
   "metadata": {
    "collapsed": true
   },
   "outputs": [],
   "source": []
  }
 ],
 "metadata": {
  "kernelspec": {
   "display_name": "R",
   "language": "R",
   "name": "ir"
  },
  "language_info": {
   "codemirror_mode": "r",
   "file_extension": ".r",
   "mimetype": "text/x-r-source",
   "name": "R",
   "pygments_lexer": "r",
   "version": "3.2.4"
  }
 },
 "nbformat": 4,
 "nbformat_minor": 0
}
