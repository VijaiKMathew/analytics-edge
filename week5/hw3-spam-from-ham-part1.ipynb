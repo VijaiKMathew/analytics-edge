{
 "cells": [
  {
   "cell_type": "code",
   "execution_count": 1,
   "metadata": {
    "collapsed": false
   },
   "outputs": [
    {
     "data": {
      "text/html": [
       "'LC_CTYPE=C;LC_NUMERIC=C;LC_TIME=C;LC_COLLATE=C;LC_MONETARY=C;LC_MESSAGES=en_US.UTF-8;LC_PAPER=en_US.UTF-8;LC_NAME=C;LC_ADDRESS=C;LC_TELEPHONE=C;LC_MEASUREMENT=en_US.UTF-8;LC_IDENTIFICATION=C'"
      ],
      "text/latex": [
       "'LC\\_CTYPE=C;LC\\_NUMERIC=C;LC\\_TIME=C;LC\\_COLLATE=C;LC\\_MONETARY=C;LC\\_MESSAGES=en\\_US.UTF-8;LC\\_PAPER=en\\_US.UTF-8;LC\\_NAME=C;LC\\_ADDRESS=C;LC\\_TELEPHONE=C;LC\\_MEASUREMENT=en\\_US.UTF-8;LC\\_IDENTIFICATION=C'"
      ],
      "text/markdown": [
       "'LC_CTYPE=C;LC_NUMERIC=C;LC_TIME=C;LC_COLLATE=C;LC_MONETARY=C;LC_MESSAGES=en_US.UTF-8;LC_PAPER=en_US.UTF-8;LC_NAME=C;LC_ADDRESS=C;LC_TELEPHONE=C;LC_MEASUREMENT=en_US.UTF-8;LC_IDENTIFICATION=C'"
      ],
      "text/plain": [
       "[1] \"LC_CTYPE=C;LC_NUMERIC=C;LC_TIME=C;LC_COLLATE=C;LC_MONETARY=C;LC_MESSAGES=en_US.UTF-8;LC_PAPER=en_US.UTF-8;LC_NAME=C;LC_ADDRESS=C;LC_TELEPHONE=C;LC_MEASUREMENT=en_US.UTF-8;LC_IDENTIFICATION=C\""
      ]
     },
     "metadata": {},
     "output_type": "display_data"
    }
   ],
   "source": [
    "options(device=pdf) # turn off flashy window on each block execution\n",
    "# options(repr.plot.width=6, repr.plot.height=4)\n",
    "Sys.setlocale(\"LC_ALL\", \"C\")\n",
    "initialWidth = getOption('width')\n",
    "options(width=80) # for old folks like me who can't see shit and set font large"
   ]
  },
  {
   "cell_type": "code",
   "execution_count": 4,
   "metadata": {
    "collapsed": false
   },
   "outputs": [
    {
     "name": "stdout",
     "output_type": "stream",
     "text": [
      "'data.frame':\t5728 obs. of  2 variables:\n",
      " $ text: chr  \"Subject: naturally irresistible your corporate identity  lt is really hard to recollect a company : the  market is full of suqg\"| __truncated__ \"Subject: the stock trading gunslinger  fanny is merrill but muzo not colza attainder and penultimate like esmark perspicuous ra\"| __truncated__ \"Subject: unbelievable new homes made easy  im wanting to show you this  homeowner  you have been pre - approved for a $ 454 , 1\"| __truncated__ \"Subject: 4 color printing special  request additional information now ! click here  click here for a printable version of our o\"| __truncated__ ...\n",
      " $ spam: int  1 1 1 1 1 1 1 1 1 1 ...\n"
     ]
    }
   ],
   "source": [
    "data = read.csv('data/emails.csv.xz',\n",
    "                stringsAsFactors=F)\n",
    "str(data)"
   ]
  },
  {
   "cell_type": "code",
   "execution_count": 5,
   "metadata": {
    "collapsed": false
   },
   "outputs": [
    {
     "data": {
      "text/plain": [
       "\n",
       "   0    1 \n",
       "4360 1368 "
      ]
     },
     "metadata": {},
     "output_type": "display_data"
    }
   ],
   "source": [
    "table(data$spam)"
   ]
  },
  {
   "cell_type": "code",
   "execution_count": 7,
   "metadata": {
    "collapsed": false
   },
   "outputs": [
    {
     "data": {
      "text/html": [
       "\"Subject: naturally irresistible your corporate identity  lt is really hard to recollect a company : the  market is full of suqgestions and the information isoverwhelminq ; but a good  catchy logo , stylish statlonery and outstanding website  will make the task much easier .  we do not promise that havinq ordered a iogo your  company will automaticaily become a world ieader : it isguite ciear that  without good products , effective business organization and practicable aim it  will be hotat nowadays market ; but we do promise that your marketing efforts  will become much more effective . here is the list of clear  benefits : creativeness : hand - made , original logos , specially done  to reflect your distinctive company image . convenience : logo and stationery  are provided in all formats ; easy - to - use content management system letsyou  change your website content and even its structure . promptness : you  will see logo drafts within three business days . affordability : your  marketing break - through shouldn ' t make gaps in your budget . 100 % satisfaction  guaranteed : we provide unlimited amount of changes with no extra fees for you to  be surethat you will love the result of this collaboration . have a look at our  portfolio _ _ _ _ _ _ _ _ _ _ _ _ _ _ _ _ _ _ _ _ _ _ _ _ _ _ _ _ _ _ _ _ _ _ _ _ _ _ _ _ _ _ _ _ _ _ _ _ _ _ _ _ not interested . . . _ _ _ _ _ _ _ _ _ _ _ _ _ _ _ _ _ _ _ _ _ _ _ _ _ _ _ _ _ _ _ _ _ _ _ _ _ _ _ _ _ _ _ _ _ _ _ _ _ _ _ _\""
      ],
      "text/latex": [
       "\"Subject: naturally irresistible your corporate identity  lt is really hard to recollect a company : the  market is full of suqgestions and the information isoverwhelminq ; but a good  catchy logo , stylish statlonery and outstanding website  will make the task much easier .  we do not promise that havinq ordered a iogo your  company will automaticaily become a world ieader : it isguite ciear that  without good products , effective business organization and practicable aim it  will be hotat nowadays market ; but we do promise that your marketing efforts  will become much more effective . here is the list of clear  benefits : creativeness : hand - made , original logos , specially done  to reflect your distinctive company image . convenience : logo and stationery  are provided in all formats ; easy - to - use content management system letsyou  change your website content and even its structure . promptness : you  will see logo drafts within three business days . affordability : your  marketing break - through shouldn ' t make gaps in your budget . 100 \\% satisfaction  guaranteed : we provide unlimited amount of changes with no extra fees for you to  be surethat you will love the result of this collaboration . have a look at our  portfolio \\_ \\_ \\_ \\_ \\_ \\_ \\_ \\_ \\_ \\_ \\_ \\_ \\_ \\_ \\_ \\_ \\_ \\_ \\_ \\_ \\_ \\_ \\_ \\_ \\_ \\_ \\_ \\_ \\_ \\_ \\_ \\_ \\_ \\_ \\_ \\_ \\_ \\_ \\_ \\_ \\_ \\_ \\_ \\_ \\_ \\_ \\_ \\_ \\_ \\_ \\_ \\_ not interested . . . \\_ \\_ \\_ \\_ \\_ \\_ \\_ \\_ \\_ \\_ \\_ \\_ \\_ \\_ \\_ \\_ \\_ \\_ \\_ \\_ \\_ \\_ \\_ \\_ \\_ \\_ \\_ \\_ \\_ \\_ \\_ \\_ \\_ \\_ \\_ \\_ \\_ \\_ \\_ \\_ \\_ \\_ \\_ \\_ \\_ \\_ \\_ \\_ \\_ \\_ \\_ \\_\""
      ],
      "text/markdown": [
       "\"Subject: naturally irresistible your corporate identity  lt is really hard to recollect a company : the  market is full of suqgestions and the information isoverwhelminq ; but a good  catchy logo , stylish statlonery and outstanding website  will make the task much easier .  we do not promise that havinq ordered a iogo your  company will automaticaily become a world ieader : it isguite ciear that  without good products , effective business organization and practicable aim it  will be hotat nowadays market ; but we do promise that your marketing efforts  will become much more effective . here is the list of clear  benefits : creativeness : hand - made , original logos , specially done  to reflect your distinctive company image . convenience : logo and stationery  are provided in all formats ; easy - to - use content management system letsyou  change your website content and even its structure . promptness : you  will see logo drafts within three business days . affordability : your  marketing break - through shouldn ' t make gaps in your budget . 100 % satisfaction  guaranteed : we provide unlimited amount of changes with no extra fees for you to  be surethat you will love the result of this collaboration . have a look at our  portfolio _ _ _ _ _ _ _ _ _ _ _ _ _ _ _ _ _ _ _ _ _ _ _ _ _ _ _ _ _ _ _ _ _ _ _ _ _ _ _ _ _ _ _ _ _ _ _ _ _ _ _ _ not interested . . . _ _ _ _ _ _ _ _ _ _ _ _ _ _ _ _ _ _ _ _ _ _ _ _ _ _ _ _ _ _ _ _ _ _ _ _ _ _ _ _ _ _ _ _ _ _ _ _ _ _ _ _\""
      ],
      "text/plain": [
       "[1] \"Subject: naturally irresistible your corporate identity  lt is really hard to recollect a company : the  market is full of suqgestions and the information isoverwhelminq ; but a good  catchy logo , stylish statlonery and outstanding website  will make the task much easier .  we do not promise that havinq ordered a iogo your  company will automaticaily become a world ieader : it isguite ciear that  without good products , effective business organization and practicable aim it  will be hotat nowadays market ; but we do promise that your marketing efforts  will become much more effective . here is the list of clear  benefits : creativeness : hand - made , original logos , specially done  to reflect your distinctive company image . convenience : logo and stationery  are provided in all formats ; easy - to - use content management system letsyou  change your website content and even its structure . promptness : you  will see logo drafts within three business days . affordability : your  marketing break - through shouldn ' t make gaps in your budget . 100 % satisfaction  guaranteed : we provide unlimited amount of changes with no extra fees for you to  be surethat you will love the result of this collaboration . have a look at our  portfolio _ _ _ _ _ _ _ _ _ _ _ _ _ _ _ _ _ _ _ _ _ _ _ _ _ _ _ _ _ _ _ _ _ _ _ _ _ _ _ _ _ _ _ _ _ _ _ _ _ _ _ _ not interested . . . _ _ _ _ _ _ _ _ _ _ _ _ _ _ _ _ _ _ _ _ _ _ _ _ _ _ _ _ _ _ _ _ _ _ _ _ _ _ _ _ _ _ _ _ _ _ _ _ _ _ _ _\""
      ]
     },
     "metadata": {},
     "output_type": "display_data"
    }
   ],
   "source": [
    "data$text[1]"
   ]
  },
  {
   "cell_type": "code",
   "execution_count": 8,
   "metadata": {
    "collapsed": false
   },
   "outputs": [
    {
     "data": {
      "text/html": [
       "43952"
      ],
      "text/latex": [
       "43952"
      ],
      "text/markdown": [
       "43952"
      ],
      "text/plain": [
       "[1] 43952"
      ]
     },
     "metadata": {},
     "output_type": "display_data"
    }
   ],
   "source": [
    "max(nchar(data$text))"
   ]
  },
  {
   "cell_type": "code",
   "execution_count": 10,
   "metadata": {
    "collapsed": false
   },
   "outputs": [
    {
     "data": {
      "text/html": [
       "1992"
      ],
      "text/latex": [
       "1992"
      ],
      "text/markdown": [
       "1992"
      ],
      "text/plain": [
       "[1] 1992"
      ]
     },
     "metadata": {},
     "output_type": "display_data"
    }
   ],
   "source": [
    "which.min(nchar(data$text))"
   ]
  },
  {
   "cell_type": "code",
   "execution_count": 12,
   "metadata": {
    "collapsed": false
   },
   "outputs": [],
   "source": [
    "library(tm)"
   ]
  },
  {
   "cell_type": "code",
   "execution_count": 17,
   "metadata": {
    "collapsed": false
   },
   "outputs": [],
   "source": [
    "corpus = Corpus(VectorSource(data$text))\n",
    "corpus = tm_map(corpus, tolower)\n",
    "corpus = tm_map(corpus, PlainTextDocument)\n",
    "corpus = tm_map(corpus, removePunctuation)\n",
    "corpus = tm_map(corpus, removeWords,\n",
    "                stopwords('english'))\n",
    "corpus = tm_map(corpus, stemDocument)\n",
    "dtm = DocumentTermMatrix(corpus)"
   ]
  },
  {
   "cell_type": "code",
   "execution_count": 16,
   "metadata": {
    "collapsed": false
   },
   "outputs": [
    {
     "data": {
      "text/plain": [
       "<<DocumentTermMatrix (documents: 5728, terms: 28687)>>\n",
       "Non-/sparse entries: 481719/163837417\n",
       "Sparsity           : 100%\n",
       "Maximal term length: 24\n",
       "Weighting          : term frequency (tf)"
      ]
     },
     "metadata": {},
     "output_type": "display_data"
    }
   ],
   "source": [
    "dtm"
   ]
  },
  {
   "cell_type": "code",
   "execution_count": 19,
   "metadata": {
    "collapsed": false
   },
   "outputs": [
    {
     "data": {
      "text/html": [
       "<ol class=list-inline>\n",
       "\t<li>5728</li>\n",
       "\t<li>330</li>\n",
       "</ol>\n"
      ],
      "text/latex": [
       "\\begin{enumerate*}\n",
       "\\item 5728\n",
       "\\item 330\n",
       "\\end{enumerate*}\n"
      ],
      "text/markdown": [
       "1. 5728\n",
       "2. 330\n",
       "\n",
       "\n"
      ],
      "text/plain": [
       "[1] 5728  330"
      ]
     },
     "metadata": {},
     "output_type": "display_data"
    }
   ],
   "source": [
    "spdtm = removeSparseTerms(dtm, 0.95)\n",
    "#spdtm = as.data.frame(as.matrix(spdtm))\n",
    "dim(spdtm)"
   ]
  },
  {
   "cell_type": "code",
   "execution_count": 20,
   "metadata": {
    "collapsed": true
   },
   "outputs": [],
   "source": [
    "emailsSparse = as.data.frame(as.matrix(spdtm))\n",
    "colnames(emailsSparse) = make.names(\n",
    "    colnames(emailsSparse))"
   ]
  },
  {
   "cell_type": "code",
   "execution_count": 21,
   "metadata": {
    "collapsed": false
   },
   "outputs": [
    {
     "data": {
      "text/html": [
       "<dl class=dl-horizontal>\n",
       "\t<dt>hou</dt>\n",
       "\t\t<dd>5577</dd>\n",
       "\t<dt>will</dt>\n",
       "\t\t<dd>8252</dd>\n",
       "\t<dt>vinc</dt>\n",
       "\t\t<dd>8532</dd>\n",
       "\t<dt>subject</dt>\n",
       "\t\t<dd>10202</dd>\n",
       "\t<dt>ect</dt>\n",
       "\t\t<dd>11427</dd>\n",
       "\t<dt>enron</dt>\n",
       "\t\t<dd>13388</dd>\n",
       "</dl>\n"
      ],
      "text/latex": [
       "\\begin{description*}\n",
       "\\item[hou] 5577\n",
       "\\item[will] 8252\n",
       "\\item[vinc] 8532\n",
       "\\item[subject] 10202\n",
       "\\item[ect] 11427\n",
       "\\item[enron] 13388\n",
       "\\end{description*}\n"
      ],
      "text/markdown": [
       "hou\n",
       ":   5577will\n",
       ":   8252vinc\n",
       ":   8532subject\n",
       ":   10202ect\n",
       ":   11427enron\n",
       ":   13388\n",
       "\n"
      ],
      "text/plain": [
       "    hou    will    vinc subject     ect   enron \n",
       "   5577    8252    8532   10202   11427   13388 "
      ]
     },
     "metadata": {},
     "output_type": "display_data"
    }
   ],
   "source": [
    "tail(sort(colSums(emailsSparse)))"
   ]
  },
  {
   "cell_type": "code",
   "execution_count": 22,
   "metadata": {
    "collapsed": true
   },
   "outputs": [],
   "source": [
    "emailsSparse$spam = data$spam"
   ]
  },
  {
   "cell_type": "code",
   "execution_count": 27,
   "metadata": {
    "collapsed": false
   },
   "outputs": [
    {
     "data": {
      "text/html": [
       "<dl class=dl-horizontal>\n",
       "\t<dt>ect</dt>\n",
       "\t\t<dd>11417</dd>\n",
       "\t<dt>enron</dt>\n",
       "\t\t<dd>13388</dd>\n",
       "\t<dt>hou</dt>\n",
       "\t\t<dd>5569</dd>\n",
       "\t<dt>subject</dt>\n",
       "\t\t<dd>8625</dd>\n",
       "\t<dt>vinc</dt>\n",
       "\t\t<dd>8531</dd>\n",
       "\t<dt>will</dt>\n",
       "\t\t<dd>6802</dd>\n",
       "</dl>\n"
      ],
      "text/latex": [
       "\\begin{description*}\n",
       "\\item[ect] 11417\n",
       "\\item[enron] 13388\n",
       "\\item[hou] 5569\n",
       "\\item[subject] 8625\n",
       "\\item[vinc] 8531\n",
       "\\item[will] 6802\n",
       "\\end{description*}\n"
      ],
      "text/markdown": [
       "ect\n",
       ":   11417enron\n",
       ":   13388hou\n",
       ":   5569subject\n",
       ":   8625vinc\n",
       ":   8531will\n",
       ":   6802\n",
       "\n"
      ],
      "text/plain": [
       "    ect   enron     hou subject    vinc    will \n",
       "  11417   13388    5569    8625    8531    6802 "
      ]
     },
     "metadata": {},
     "output_type": "display_data"
    }
   ],
   "source": [
    "t = colSums(subset(emailsSparse, spam==F))\n",
    "t[t>=5000]"
   ]
  },
  {
   "cell_type": "code",
   "execution_count": 33,
   "metadata": {
    "collapsed": false
   },
   "outputs": [
    {
     "data": {
      "text/html": [
       "<dl class=dl-horizontal>\n",
       "\t<dt>compani</dt>\n",
       "\t\t<dd>1065</dd>\n",
       "\t<dt>subject</dt>\n",
       "\t\t<dd>1577</dd>\n",
       "\t<dt>will</dt>\n",
       "\t\t<dd>1450</dd>\n",
       "\t<dt>spam</dt>\n",
       "\t\t<dd>1368</dd>\n",
       "</dl>\n"
      ],
      "text/latex": [
       "\\begin{description*}\n",
       "\\item[compani] 1065\n",
       "\\item[subject] 1577\n",
       "\\item[will] 1450\n",
       "\\item[spam] 1368\n",
       "\\end{description*}\n"
      ],
      "text/markdown": [
       "compani\n",
       ":   1065subject\n",
       ":   1577will\n",
       ":   1450spam\n",
       ":   1368\n",
       "\n"
      ],
      "text/plain": [
       "compani subject    will    spam \n",
       "   1065    1577    1450    1368 "
      ]
     },
     "metadata": {},
     "output_type": "display_data"
    }
   ],
   "source": [
    "t = colSums(subset(emailsSparse, spam==T))\n",
    "t[t>=1000]"
   ]
  },
  {
   "cell_type": "code",
   "execution_count": 34,
   "metadata": {
    "collapsed": true
   },
   "outputs": [],
   "source": [
    "emailsSparse$spam = as.factor(data$spam)\n",
    "library(caTools)\n",
    "set.seed(123)\n",
    "spl = sample.split(emailsSparse$spam, 0.7)\n",
    "train = subset(emailsSparse, spl==T)\n",
    "test = subset(emailsSparse, spl==F)"
   ]
  },
  {
   "cell_type": "code",
   "execution_count": 50,
   "metadata": {
    "collapsed": false
   },
   "outputs": [
    {
     "name": "stderr",
     "output_type": "stream",
     "text": [
      "Warning message:\n",
      ": glm.fit: algorithm did not convergeWarning message:\n",
      ": glm.fit: fitted probabilities numerically 0 or 1 occurred"
     ]
    }
   ],
   "source": [
    "spamLog = glm(spam ~ ., data=train,\n",
    "              family='binomial')\n",
    "library(rpart)\n",
    "library(rpart.plot)\n",
    "spamCART = rpart(spam ~ ., data=train,\n",
    "                 method='class')\n",
    "library(randomForest)\n",
    "set.seed(123)\n",
    "spamRF = randomForest(spam ~ ., data=train)"
   ]
  },
  {
   "cell_type": "code",
   "execution_count": 51,
   "metadata": {
    "collapsed": false
   },
   "outputs": [],
   "source": [
    "predLog = predict(spamLog, type='response')\n",
    "predCART = predict(spamCART)[,2]\n",
    "predRF = predict(spamRF, type='prob')[,2]"
   ]
  },
  {
   "cell_type": "code",
   "execution_count": 52,
   "metadata": {
    "collapsed": false
   },
   "outputs": [
    {
     "data": {
      "text/html": [
       "3046"
      ],
      "text/latex": [
       "3046"
      ],
      "text/markdown": [
       "3046"
      ],
      "text/plain": [
       "[1] 3046"
      ]
     },
     "metadata": {},
     "output_type": "display_data"
    },
    {
     "data": {
      "text/html": [
       "954"
      ],
      "text/latex": [
       "954"
      ],
      "text/markdown": [
       "954"
      ],
      "text/plain": [
       "[1] 954"
      ]
     },
     "metadata": {},
     "output_type": "display_data"
    },
    {
     "data": {
      "text/html": [
       "10"
      ],
      "text/latex": [
       "10"
      ],
      "text/markdown": [
       "10"
      ],
      "text/plain": [
       "[1] 10"
      ]
     },
     "metadata": {},
     "output_type": "display_data"
    }
   ],
   "source": [
    "sum(predLog < 0.00001)\n",
    "sum(predLog > 0.99999)\n",
    "sum((predLog <= 0.99999) & (predLog >= 0.00001))"
   ]
  },
  {
   "cell_type": "code",
   "execution_count": 48,
   "metadata": {
    "collapsed": false
   },
   "outputs": [
    {
     "data": {
      "text/plain": [
       "\n",
       "Call:\n",
       "glm(formula = spam ~ ., family = \"binomial\", data = train)\n",
       "\n",
       "Deviance Residuals: \n",
       "   Min      1Q  Median      3Q     Max  \n",
       "-1.011   0.000   0.000   0.000   1.354  \n",
       "\n",
       "Coefficients:\n",
       "              Estimate Std. Error z value Pr(>|z|)\n",
       "(Intercept) -3.082e+01  1.055e+04  -0.003    0.998\n",
       "X000         1.474e+01  1.058e+04   0.001    0.999\n",
       "X2000       -3.631e+01  1.556e+04  -0.002    0.998\n",
       "X2001       -3.215e+01  1.318e+04  -0.002    0.998\n",
       "X713        -2.427e+01  2.914e+04  -0.001    0.999\n",
       "X853        -1.212e+00  5.942e+04   0.000    1.000\n",
       "abl         -2.049e+00  2.088e+04   0.000    1.000\n",
       "access      -1.480e+01  1.335e+04  -0.001    0.999\n",
       "account      2.488e+01  8.165e+03   0.003    0.998\n",
       "addit        1.463e+00  2.703e+04   0.000    1.000\n",
       "address     -4.613e+00  1.113e+04   0.000    1.000\n",
       "allow        1.899e+01  6.436e+03   0.003    0.998\n",
       "alreadi     -2.407e+01  3.319e+04  -0.001    0.999\n",
       "also         2.990e+01  1.378e+04   0.002    0.998\n",
       "analysi     -2.405e+01  3.860e+04  -0.001    1.000\n",
       "anoth       -8.744e+00  2.032e+04   0.000    1.000\n",
       "applic      -2.649e+00  1.674e+04   0.000    1.000\n",
       "appreci     -2.145e+01  2.762e+04  -0.001    0.999\n",
       "approv      -1.302e+00  1.589e+04   0.000    1.000\n",
       "april       -2.620e+01  2.208e+04  -0.001    0.999\n",
       "area         2.041e+01  2.266e+04   0.001    0.999\n",
       "arrang       1.069e+01  2.135e+04   0.001    1.000\n",
       "ask         -7.746e+00  1.976e+04   0.000    1.000\n",
       "assist      -1.128e+01  2.490e+04   0.000    1.000\n",
       "associ       9.049e+00  1.909e+04   0.000    1.000\n",
       "attach      -1.037e+01  1.534e+04  -0.001    0.999\n",
       "attend      -3.451e+01  3.257e+04  -0.001    0.999\n",
       "avail        8.651e+00  1.709e+04   0.001    1.000\n",
       "back        -1.323e+01  2.272e+04  -0.001    1.000\n",
       "base        -1.354e+01  2.122e+04  -0.001    0.999\n",
       "begin        2.228e+01  2.973e+04   0.001    0.999\n",
       "believ       3.233e+01  2.136e+04   0.002    0.999\n",
       "best        -8.201e+00  1.333e+03  -0.006    0.995\n",
       "better       4.263e+01  2.360e+04   0.002    0.999\n",
       "book         4.301e+00  2.024e+04   0.000    1.000\n",
       "bring        1.607e+01  6.767e+04   0.000    1.000\n",
       "busi        -4.803e+00  1.000e+04   0.000    1.000\n",
       "buy          4.170e+01  3.892e+04   0.001    0.999\n",
       "call        -1.145e+00  1.111e+04   0.000    1.000\n",
       "can          3.762e+00  7.674e+03   0.000    1.000\n",
       "case        -3.372e+01  2.880e+04  -0.001    0.999\n",
       "chang       -2.717e+01  2.215e+04  -0.001    0.999\n",
       "check        1.425e+00  1.963e+04   0.000    1.000\n",
       "click        1.376e+01  7.077e+03   0.002    0.998\n",
       "com          1.936e+00  4.039e+03   0.000    1.000\n",
       "come        -1.166e+00  1.511e+04   0.000    1.000\n",
       "comment     -3.251e+00  3.387e+04   0.000    1.000\n",
       "communic     1.580e+01  8.958e+03   0.002    0.999\n",
       "compani      4.781e+00  9.186e+03   0.001    1.000\n",
       "complet     -1.363e+01  2.024e+04  -0.001    0.999\n",
       "confer      -7.503e-01  8.557e+03   0.000    1.000\n",
       "confirm     -1.300e+01  1.514e+04  -0.001    0.999\n",
       "contact      1.530e+00  1.262e+04   0.000    1.000\n",
       "continu      1.487e+01  1.535e+04   0.001    0.999\n",
       "contract    -1.295e+01  1.498e+04  -0.001    0.999\n",
       "copi        -4.274e+01  3.070e+04  -0.001    0.999\n",
       "corp         1.606e+01  2.708e+04   0.001    1.000\n",
       "corpor      -8.286e-01  2.818e+04   0.000    1.000\n",
       "cost        -1.938e+00  1.833e+04   0.000    1.000\n",
       "cours        1.665e+01  1.834e+04   0.001    0.999\n",
       "creat        1.338e+01  3.946e+04   0.000    1.000\n",
       "credit       2.617e+01  1.314e+04   0.002    0.998\n",
       "crenshaw     9.994e+01  6.769e+04   0.001    0.999\n",
       "current      3.629e+00  1.707e+04   0.000    1.000\n",
       "custom       1.829e+01  1.008e+04   0.002    0.999\n",
       "data        -2.609e+01  2.271e+04  -0.001    0.999\n",
       "date        -2.786e+00  1.699e+04   0.000    1.000\n",
       "day         -6.100e+00  5.866e+03  -0.001    0.999\n",
       "deal        -1.129e+01  1.448e+04  -0.001    0.999\n",
       "dear        -2.313e+00  2.306e+04   0.000    1.000\n",
       "depart      -4.068e+01  2.509e+04  -0.002    0.999\n",
       "deriv       -4.971e+01  3.587e+04  -0.001    0.999\n",
       "design      -7.923e+00  2.939e+04   0.000    1.000\n",
       "detail       1.197e+01  2.301e+04   0.001    1.000\n",
       "develop      5.976e+00  9.455e+03   0.001    0.999\n",
       "differ      -2.293e+00  1.075e+04   0.000    1.000\n",
       "direct      -2.051e+01  3.194e+04  -0.001    0.999\n",
       "director    -1.770e+01  1.793e+04  -0.001    0.999\n",
       "discuss     -1.051e+01  1.915e+04  -0.001    1.000\n",
       "doc         -2.597e+01  2.603e+04  -0.001    0.999\n",
       "don          2.129e+01  1.456e+04   0.001    0.999\n",
       "done         6.828e+00  1.882e+04   0.000    1.000\n",
       "due         -4.163e+00  3.532e+04   0.000    1.000\n",
       "ect          8.685e-01  5.342e+03   0.000    1.000\n",
       "edu         -2.122e-01  6.917e+02   0.000    1.000\n",
       "effect       1.948e+01  2.100e+04   0.001    0.999\n",
       "effort       1.606e+01  5.670e+04   0.000    1.000\n",
       "either      -2.744e+01  4.000e+04  -0.001    0.999\n",
       "email        3.833e+00  1.186e+04   0.000    1.000\n",
       "end         -1.311e+01  2.938e+04   0.000    1.000\n",
       "energi      -1.620e+01  1.646e+04  -0.001    0.999\n",
       "engin        2.664e+01  2.394e+04   0.001    0.999\n",
       "enron       -8.789e+00  5.719e+03  -0.002    0.999\n",
       "etc          9.470e-01  1.569e+04   0.000    1.000\n",
       "even        -1.654e+01  2.289e+04  -0.001    0.999\n",
       "event        1.694e+01  1.851e+04   0.001    0.999\n",
       "expect      -1.179e+01  1.914e+04  -0.001    1.000\n",
       "experi       2.460e+00  2.240e+04   0.000    1.000\n",
       "fax          3.537e+00  3.386e+04   0.000    1.000\n",
       "feel         2.596e+00  2.348e+04   0.000    1.000\n",
       "file        -2.943e+01  2.165e+04  -0.001    0.999\n",
       "final        8.075e+00  5.008e+04   0.000    1.000\n",
       "financ      -9.122e+00  7.524e+03  -0.001    0.999\n",
       "financi     -9.747e+00  1.727e+04  -0.001    1.000\n",
       "find        -2.623e+00  9.727e+03   0.000    1.000\n",
       "first       -4.666e-01  2.043e+04   0.000    1.000\n",
       "follow       1.766e+01  3.080e+03   0.006    0.995\n",
       "form         8.483e+00  1.674e+04   0.001    1.000\n",
       "forward     -3.484e+00  1.864e+04   0.000    1.000\n",
       "free         6.113e+00  8.121e+03   0.001    0.999\n",
       "friday      -1.146e+01  1.996e+04  -0.001    1.000\n",
       "full         2.125e+01  2.190e+04   0.001    0.999\n",
       "futur        4.146e+01  1.439e+04   0.003    0.998\n",
       "gas         -3.901e+00  4.160e+03  -0.001    0.999\n",
       "get          5.154e+00  9.737e+03   0.001    1.000\n",
       "gibner       2.901e+01  2.460e+04   0.001    0.999\n",
       "give        -2.518e+01  2.130e+04  -0.001    0.999\n",
       "given       -2.186e+01  5.426e+04   0.000    1.000\n",
       "good         5.399e+00  1.619e+04   0.000    1.000\n",
       "great        1.222e+01  1.090e+04   0.001    0.999\n",
       "group        5.264e-01  1.037e+04   0.000    1.000\n",
       "happi        1.939e-02  1.202e+04   0.000    1.000\n",
       "hear         2.887e+01  2.281e+04   0.001    0.999\n",
       "hello        2.166e+01  1.361e+04   0.002    0.999\n",
       "help         1.731e+01  2.791e+03   0.006    0.995\n",
       "high        -1.982e+00  2.554e+04   0.000    1.000\n",
       "home         5.973e+00  8.965e+03   0.001    0.999\n",
       "hope        -1.435e+01  2.179e+04  -0.001    0.999\n",
       "hou          6.852e+00  6.437e+03   0.001    0.999\n",
       "hour         2.478e+00  1.333e+04   0.000    1.000\n",
       "houston     -1.855e+01  7.305e+03  -0.003    0.998\n",
       "howev       -3.449e+01  3.562e+04  -0.001    0.999\n",
       "http         2.528e+01  2.107e+04   0.001    0.999\n",
       "idea        -1.845e+01  3.892e+04   0.000    1.000\n",
       "immedi       6.285e+01  3.346e+04   0.002    0.999\n",
       "import      -1.859e+00  2.236e+04   0.000    1.000\n",
       "includ      -3.454e+00  1.799e+04   0.000    1.000\n",
       "increas      6.476e+00  2.329e+04   0.000    1.000\n",
       "industri    -3.160e+01  2.373e+04  -0.001    0.999\n",
       "info        -1.255e+00  4.857e+03   0.000    1.000\n",
       "inform       2.078e+01  8.549e+03   0.002    0.998\n",
       "interest     2.698e+01  1.159e+04   0.002    0.998\n",
       "intern      -7.991e+00  3.351e+04   0.000    1.000\n",
       "internet     8.749e+00  1.100e+04   0.001    0.999\n",
       "interview   -1.640e+01  1.873e+04  -0.001    0.999\n",
       "invest       3.201e+01  2.393e+04   0.001    0.999\n",
       "invit        4.304e+00  2.215e+04   0.000    1.000\n",
       "involv       3.815e+01  3.315e+04   0.001    0.999\n",
       "issu        -3.708e+01  3.396e+04  -0.001    0.999\n",
       "john        -5.326e-01  2.856e+04   0.000    1.000\n",
       "join        -3.824e+01  2.334e+04  -0.002    0.999\n",
       "juli        -1.358e+01  3.009e+04   0.000    1.000\n",
       "just        -1.021e+01  1.114e+04  -0.001    0.999\n",
       "kaminski    -1.812e+01  6.029e+03  -0.003    0.998\n",
       "keep         1.867e+01  2.782e+04   0.001    0.999\n",
       "kevin       -3.779e+01  4.738e+04  -0.001    0.999\n",
       "know         1.277e+01  1.526e+04   0.001    0.999\n",
       "last         1.046e+00  1.372e+04   0.000    1.000\n",
       "let         -2.763e+01  1.462e+04  -0.002    0.998\n",
       "life         5.812e+01  3.864e+04   0.002    0.999\n",
       "like         5.649e+00  7.660e+03   0.001    0.999\n",
       "line         8.743e+00  1.236e+04   0.001    0.999\n",
       "link        -6.929e+00  1.345e+04  -0.001    1.000\n",
       "list        -8.692e+00  2.149e+03  -0.004    0.997\n",
       "locat        2.073e+01  1.597e+04   0.001    0.999\n",
       "london       6.745e+00  1.642e+04   0.000    1.000\n",
       "long        -1.489e+01  1.934e+04  -0.001    0.999\n",
       "look        -7.031e+00  1.563e+04   0.000    1.000\n",
       "lot         -1.964e+01  1.321e+04  -0.001    0.999\n",
       "made         2.820e+00  2.743e+04   0.000    1.000\n",
       "mail         7.584e+00  1.021e+04   0.001    0.999\n",
       "make         2.901e+01  1.528e+04   0.002    0.998\n",
       "manag        6.014e+00  1.445e+04   0.000    1.000\n",
       "mani         1.885e+01  1.442e+04   0.001    0.999\n",
       "mark        -3.350e+01  3.208e+04  -0.001    0.999\n",
       "market       7.895e+00  8.012e+03   0.001    0.999\n",
       "may         -9.434e+00  1.397e+04  -0.001    0.999\n",
       "mean         6.078e-01  2.952e+04   0.000    1.000\n",
       "meet        -1.063e+00  1.263e+04   0.000    1.000\n",
       "member       1.381e+01  2.343e+04   0.001    1.000\n",
       "mention     -2.279e+01  2.714e+04  -0.001    0.999\n",
       "messag       1.716e+01  2.562e+03   0.007    0.995\n",
       "might        1.244e+01  1.753e+04   0.001    0.999\n",
       "model       -2.292e+01  1.049e+04  -0.002    0.998\n",
       "monday      -1.034e+00  3.233e+04   0.000    1.000\n",
       "money        3.264e+01  1.321e+04   0.002    0.998\n",
       "month       -3.727e+00  1.112e+04   0.000    1.000\n",
       "morn        -2.645e+01  3.403e+04  -0.001    0.999\n",
       "move        -3.834e+01  3.011e+04  -0.001    0.999\n",
       "much         3.775e-01  1.392e+04   0.000    1.000\n",
       "name         1.672e+01  1.322e+04   0.001    0.999\n",
       "need         8.437e-01  1.221e+04   0.000    1.000\n",
       "net          1.256e+01  2.197e+04   0.001    1.000\n",
       "new          1.003e+00  1.009e+04   0.000    1.000\n",
       "next.        1.492e+01  1.724e+04   0.001    0.999\n",
       "note         1.446e+01  2.294e+04   0.001    0.999\n",
       "now          3.790e+01  1.219e+04   0.003    0.998\n",
       "number      -9.622e+00  1.591e+04  -0.001    1.000\n",
       "offer        1.174e+01  1.084e+04   0.001    0.999\n",
       "offic       -1.344e+01  2.311e+04  -0.001    1.000\n",
       "one          1.241e+01  6.652e+03   0.002    0.999\n",
       "onlin        3.589e+01  1.665e+04   0.002    0.998\n",
       "open         2.114e+01  2.961e+04   0.001    0.999\n",
       "oper        -1.696e+01  2.757e+04  -0.001    1.000\n",
       "opportun    -4.131e+00  1.918e+04   0.000    1.000\n",
       "option      -1.085e+00  9.325e+03   0.000    1.000\n",
       "order        6.533e+00  1.242e+04   0.001    1.000\n",
       "origin       3.226e+01  3.818e+04   0.001    0.999\n",
       "part         4.594e+00  3.483e+04   0.000    1.000\n",
       "particip    -1.154e+01  1.738e+04  -0.001    0.999\n",
       "peopl       -1.864e+01  1.439e+04  -0.001    0.999\n",
       "per          1.367e+01  1.273e+04   0.001    0.999\n",
       "person       1.870e+01  9.575e+03   0.002    0.998\n",
       "phone       -6.957e+00  1.172e+04  -0.001    1.000\n",
       "place        9.005e+00  3.661e+04   0.000    1.000\n",
       "plan        -1.830e+01  6.320e+03  -0.003    0.998\n",
       "pleas       -7.961e+00  9.484e+03  -0.001    0.999\n",
       "point        5.498e+00  3.403e+04   0.000    1.000\n",
       "posit       -1.543e+01  2.316e+04  -0.001    0.999\n",
       "possibl     -1.366e+01  2.492e+04  -0.001    1.000\n",
       "power       -5.643e+00  1.173e+04   0.000    1.000\n",
       "present     -6.163e+00  1.278e+04   0.000    1.000\n",
       "price        3.428e+00  7.850e+03   0.000    1.000\n",
       "problem      1.262e+01  9.763e+03   0.001    0.999\n",
       "process     -2.957e-01  1.191e+04   0.000    1.000\n",
       "product      1.016e+01  1.345e+04   0.001    0.999\n",
       "program      1.444e+00  1.183e+04   0.000    1.000\n",
       "project      2.173e+00  1.497e+04   0.000    1.000\n",
       "provid       2.422e-01  1.859e+04   0.000    1.000\n",
       "public      -5.250e+01  2.341e+04  -0.002    0.998\n",
       "put         -1.052e+01  2.681e+04   0.000    1.000\n",
       "question    -3.467e+01  1.859e+04  -0.002    0.999\n",
       "rate        -3.112e+00  1.319e+04   0.000    1.000\n",
       "read        -1.527e+01  2.145e+04  -0.001    0.999\n",
       "real         2.046e+01  2.358e+04   0.001    0.999\n",
       "realli      -2.667e+01  4.640e+04  -0.001    1.000\n",
       "receiv       5.765e-01  1.585e+04   0.000    1.000\n",
       "recent      -2.067e+00  1.780e+04   0.000    1.000\n",
       "regard      -3.668e+00  1.511e+04   0.000    1.000\n",
       "relat       -5.114e+01  1.793e+04  -0.003    0.998\n",
       "remov        2.325e+01  2.484e+04   0.001    0.999\n",
       "repli        1.538e+01  2.916e+04   0.001    1.000\n",
       "report      -1.482e+01  1.477e+04  -0.001    0.999\n",
       "request     -1.232e+01  1.167e+04  -0.001    0.999\n",
       "requir       5.004e-01  2.937e+04   0.000    1.000\n",
       "research    -2.826e+01  1.553e+04  -0.002    0.999\n",
       "resourc     -2.735e+01  3.522e+04  -0.001    0.999\n",
       "respond      2.974e+01  3.888e+04   0.001    0.999\n",
       "respons     -1.960e+01  3.667e+04  -0.001    1.000\n",
       "result      -5.002e-01  3.140e+04   0.000    1.000\n",
       "resum       -9.219e+00  2.100e+04   0.000    1.000\n",
       "return       1.745e+01  1.844e+04   0.001    0.999\n",
       "review      -4.825e+00  1.013e+04   0.000    1.000\n",
       "right        2.312e+01  1.590e+04   0.001    0.999\n",
       "risk        -4.001e+00  1.718e+04   0.000    1.000\n",
       "robert      -2.096e+01  2.907e+04  -0.001    0.999\n",
       "run         -5.162e+01  4.434e+04  -0.001    0.999\n",
       "say          7.366e+00  2.217e+04   0.000    1.000\n",
       "schedul      1.919e+00  3.580e+04   0.000    1.000\n",
       "school      -3.870e+00  2.882e+04   0.000    1.000\n",
       "secur       -1.604e+01  2.201e+03  -0.007    0.994\n",
       "see         -1.120e+01  1.293e+04  -0.001    0.999\n",
       "send        -2.427e+01  1.222e+04  -0.002    0.998\n",
       "sent        -1.488e+01  2.195e+04  -0.001    0.999\n",
       "servic      -7.164e+00  1.235e+04  -0.001    1.000\n",
       "set         -9.353e+00  2.627e+04   0.000    1.000\n",
       "sever        2.041e+01  3.093e+04   0.001    0.999\n",
       "shall        1.930e+01  3.075e+04   0.001    0.999\n",
       "shirley     -7.133e+01  6.329e+04  -0.001    0.999\n",
       "short       -8.974e+00  1.721e+04  -0.001    1.000\n",
       "sinc        -3.438e+00  3.546e+04   0.000    1.000\n",
       "sincer      -2.073e+01  3.515e+04  -0.001    1.000\n",
       "site         8.689e+00  1.496e+04   0.001    1.000\n",
       "softwar      2.575e+01  1.059e+04   0.002    0.998\n",
       "soon         2.350e+01  3.731e+04   0.001    0.999\n",
       "sorri        6.036e+00  2.299e+04   0.000    1.000\n",
       "special      1.777e+01  2.755e+04   0.001    0.999\n",
       "specif      -2.337e+01  3.083e+04  -0.001    0.999\n",
       "start        1.437e+01  1.897e+04   0.001    0.999\n",
       "state        1.221e+01  1.677e+04   0.001    0.999\n",
       "still        3.878e+00  2.622e+04   0.000    1.000\n",
       "stinson     -4.345e+01  2.697e+04  -0.002    0.999\n",
       "student     -1.815e+01  2.186e+04  -0.001    0.999\n",
       "subject      3.041e+01  1.055e+04   0.003    0.998\n",
       "success      4.344e+00  2.783e+04   0.000    1.000\n",
       "suggest     -3.842e+01  4.475e+04  -0.001    0.999\n",
       "support     -1.539e+01  1.976e+04  -0.001    0.999\n",
       "sure        -5.503e+00  2.078e+04   0.000    1.000\n",
       "system       3.778e+00  9.149e+03   0.000    1.000\n",
       "take         5.731e+00  1.716e+04   0.000    1.000\n",
       "talk        -1.011e+01  2.021e+04  -0.001    1.000\n",
       "team         7.940e+00  2.570e+04   0.000    1.000\n",
       "term         2.013e+01  2.303e+04   0.001    0.999\n",
       "thank       -3.890e+01  1.059e+04  -0.004    0.997\n",
       "thing        2.579e+01  1.341e+04   0.002    0.998\n",
       "think       -1.218e+01  2.077e+04  -0.001    1.000\n",
       "thought      1.243e+01  3.023e+04   0.000    1.000\n",
       "thursday    -1.491e+01  3.262e+04   0.000    1.000\n",
       "time        -5.921e+00  8.335e+03  -0.001    0.999\n",
       "today       -1.762e+01  1.965e+04  -0.001    0.999\n",
       "togeth      -2.355e+01  1.869e+04  -0.001    0.999\n",
       "trade       -1.755e+01  1.483e+04  -0.001    0.999\n",
       "tri          9.278e-01  1.282e+04   0.000    1.000\n",
       "tuesday     -2.808e+01  3.959e+04  -0.001    0.999\n",
       "two         -2.573e+01  1.844e+04  -0.001    0.999\n",
       "type        -1.447e+01  2.755e+04  -0.001    1.000\n",
       "understand   9.307e+00  2.342e+04   0.000    1.000\n",
       "unit        -4.020e+00  3.008e+04   0.000    1.000\n",
       "univers      1.228e+01  2.197e+04   0.001    1.000\n",
       "updat       -1.510e+01  1.448e+04  -0.001    0.999\n",
       "use         -1.385e+01  9.382e+03  -0.001    0.999\n",
       "valu         9.024e-01  1.360e+04   0.000    1.000\n",
       "version     -3.606e+01  2.939e+04  -0.001    0.999\n",
       "vinc        -3.735e+01  8.647e+03  -0.004    0.997\n",
       "visit        2.585e+01  1.170e+04   0.002    0.998\n",
       "vkamin      -6.649e+01  5.703e+04  -0.001    0.999\n",
       "want        -2.555e+00  1.106e+04   0.000    1.000\n",
       "way          1.339e+01  1.138e+04   0.001    0.999\n",
       "web          2.791e+00  1.686e+04   0.000    1.000\n",
       "websit      -2.563e+01  1.848e+04  -0.001    0.999\n",
       "wednesday   -1.526e+01  2.642e+04  -0.001    1.000\n",
       "week        -6.795e+00  1.046e+04  -0.001    0.999\n",
       "well        -2.222e+01  9.713e+03  -0.002    0.998\n",
       "will        -1.119e+01  5.980e+03  -0.002    0.999\n",
       "wish         1.173e+01  3.175e+04   0.000    1.000\n",
       "within       2.900e+01  2.163e+04   0.001    0.999\n",
       "without      1.942e+01  1.763e+04   0.001    0.999\n",
       "work        -1.099e+01  1.160e+04  -0.001    0.999\n",
       "write        4.406e+01  2.825e+04   0.002    0.999\n",
       "www         -7.867e+00  2.224e+04   0.000    1.000\n",
       "year        -1.010e+01  1.039e+04  -0.001    0.999\n",
       "\n",
       "(Dispersion parameter for binomial family taken to be 1)\n",
       "\n",
       "    Null deviance: 4409.49  on 4009  degrees of freedom\n",
       "Residual deviance:   13.46  on 3679  degrees of freedom\n",
       "AIC: 675.46\n",
       "\n",
       "Number of Fisher Scoring iterations: 25\n"
      ]
     },
     "metadata": {},
     "output_type": "display_data"
    }
   ],
   "source": [
    "summary(spamLog)"
   ]
  },
  {
   "cell_type": "code",
   "execution_count": 53,
   "metadata": {
    "collapsed": false
   },
   "outputs": [
    {
     "data": {
      "image/png": "[encoded data removed]",
      "image/svg+xml": [
       "<?xml version=\"1.0\" encoding=\"UTF-8\"?>\n",
       "<svg xmlns=\"http://www.w3.org/2000/svg\" xmlns:xlink=\"http://www.w3.org/1999/xlink\" width=\"504pt\" height=\"504pt\" viewBox=\"0 0 504 504\" version=\"1.1\">\n",
       "<defs>\n",
       "<g>\n",
       "<symbol overflow=\"visible\" id=\"glyph0-0\">\n",
       "<path style=\"stroke:none;\" d=\"\"/>\n",
       "</symbol>\n",
       "<symbol overflow=\"visible\" id=\"glyph0-1\">\n",
       "<path style=\"stroke:none;\" d=\"M 6.4375 -6.484375 L 4.65625 -6.484375 L 3.34375 -1.734375 L 1.9375 -6.484375 L 0.171875 -6.484375 L 2.4375 0 L 4.203125 0 Z M 6.4375 -6.484375 \"/>\n",
       "</symbol>\n",
       "<symbol overflow=\"visible\" id=\"glyph0-2\">\n",
       "<path style=\"stroke:none;\" d=\"M 2.484375 0 L 2.484375 -6.484375 L 0.796875 -6.484375 L 0.796875 0 Z M 2.515625 -7.265625 L 2.515625 -8.9375 L 0.828125 -8.9375 L 0.828125 -7.265625 Z M 2.515625 -7.265625 \"/>\n",
       "</symbol>\n",
       "<symbol overflow=\"visible\" id=\"glyph0-3\">\n",
       "<path style=\"stroke:none;\" d=\"M 6.546875 0 L 6.546875 -4.34375 C 6.546875 -5.765625 5.765625 -6.59375 4.375 -6.59375 C 3.5 -6.59375 2.921875 -6.265625 2.4375 -5.546875 L 2.4375 -6.484375 L 0.75 -6.484375 L 0.75 0 L 2.4375 0 L 2.4375 -3.890625 C 2.4375 -4.65625 2.96875 -5.15625 3.796875 -5.15625 C 4.515625 -5.15625 4.875 -4.765625 4.875 -4 L 4.875 0 Z M 6.546875 0 \"/>\n",
       "</symbol>\n",
       "<symbol overflow=\"visible\" id=\"glyph0-4\">\n",
       "<path style=\"stroke:none;\" d=\"M 6.265625 -2.25 L 4.65625 -2.25 C 4.4375 -1.578125 4.109375 -1.25 3.453125 -1.25 C 2.609375 -1.25 2.09375 -1.9375 2.09375 -3.1875 C 2.09375 -4.375 2.40625 -5.234375 3.453125 -5.234375 C 4.140625 -5.234375 4.46875 -4.90625 4.65625 -4.0625 L 6.265625 -4.0625 C 6.140625 -5.640625 5.09375 -6.59375 3.46875 -6.59375 C 1.53125 -6.59375 0.40625 -5.40625 0.40625 -3.1875 C 0.40625 -1.0625 1.53125 0.109375 3.4375 0.109375 C 5.015625 0.109375 6.109375 -0.859375 6.265625 -2.25 Z M 6.265625 -2.25 \"/>\n",
       "</symbol>\n",
       "<symbol overflow=\"visible\" id=\"glyph0-5\">\n",
       "<path style=\"stroke:none;\" d=\"\"/>\n",
       "</symbol>\n",
       "<symbol overflow=\"visible\" id=\"glyph0-6\">\n",
       "<path style=\"stroke:none;\" d=\"M 5.5625 -2.546875 L 5.5625 -3.453125 L 1.0625 -7.265625 L 1.0625 -5.703125 L 4.25 -3 L 1.0625 -0.296875 L 1.0625 1.265625 Z M 5.5625 -2.546875 \"/>\n",
       "</symbol>\n",
       "<symbol overflow=\"visible\" id=\"glyph0-7\">\n",
       "<path style=\"stroke:none;\" d=\"M 6.28125 -3.484375 L 6.28125 -4.6875 L 0.71875 -4.6875 L 0.71875 -3.484375 Z M 6.28125 -1.3125 L 6.28125 -2.515625 L 0.71875 -2.515625 L 0.71875 -1.3125 Z M 6.28125 -1.3125 \"/>\n",
       "</symbol>\n",
       "<symbol overflow=\"visible\" id=\"glyph0-8\">\n",
       "<path style=\"stroke:none;\" d=\"M 6.203125 -4.234375 C 6.203125 -6.640625 5.765625 -8.6875 3.28125 -8.6875 C 0.84375 -8.6875 0.34375 -6.734375 0.34375 -4.28125 C 0.34375 -1.90625 0.8125 0.109375 3.28125 0.109375 C 5 0.109375 6.203125 -0.875 6.203125 -4.234375 Z M 4.53125 -4.265625 C 4.53125 -1.890625 4.171875 -1.328125 3.28125 -1.328125 C 2.421875 -1.328125 2.03125 -1.765625 2.03125 -4.296875 C 2.03125 -6.765625 2.375 -7.328125 3.28125 -7.328125 C 4.109375 -7.328125 4.53125 -6.90625 4.53125 -4.265625 Z M 4.53125 -4.265625 \"/>\n",
       "</symbol>\n",
       "<symbol overflow=\"visible\" id=\"glyph0-9\">\n",
       "<path style=\"stroke:none;\" d=\"M 2.5625 0 L 2.5625 -1.75 L 0.765625 -1.75 L 0.765625 0 Z M 2.5625 0 \"/>\n",
       "</symbol>\n",
       "<symbol overflow=\"visible\" id=\"glyph0-10\">\n",
       "<path style=\"stroke:none;\" d=\"M 6.203125 -2.890625 C 6.203125 -4.625 5.125 -5.75 3.546875 -5.75 C 2.984375 -5.75 2.5625 -5.609375 2.078125 -5.234375 L 2.359375 -7.015625 L 5.875 -7.015625 L 5.875 -8.515625 L 1.3125 -8.515625 L 0.5625 -3.765625 L 2.078125 -3.765625 C 2.25 -4.1875 2.640625 -4.421875 3.15625 -4.421875 C 4.015625 -4.421875 4.53125 -3.890625 4.53125 -2.859375 C 4.53125 -1.859375 4 -1.328125 3.15625 -1.328125 C 2.421875 -1.328125 1.984375 -1.703125 1.984375 -2.390625 L 0.328125 -2.390625 C 0.328125 -0.90625 1.46875 0.109375 3.125 0.109375 C 4.953125 0.109375 6.203125 -1.0625 6.203125 -2.890625 Z M 6.203125 -2.890625 \"/>\n",
       "</symbol>\n",
       "<symbol overflow=\"visible\" id=\"glyph0-11\">\n",
       "<path style=\"stroke:none;\" d=\"M 6.296875 -3 C 6.296875 -5.234375 5.171875 -6.59375 3.265625 -6.59375 C 1.40625 -6.59375 0.265625 -5.328125 0.265625 -3.15625 C 0.265625 -1.078125 1.390625 0.109375 3.234375 0.109375 C 4.6875 0.109375 5.859375 -0.546875 6.234375 -1.828125 L 4.578125 -1.828125 C 4.421875 -1.359375 3.90625 -1.171875 3.28125 -1.171875 C 2.5 -1.171875 1.984375 -1.53125 1.9375 -2.796875 L 6.28125 -2.796875 Z M 4.546875 -3.90625 L 1.96875 -3.90625 C 2.078125 -4.8125 2.5 -5.296875 3.234375 -5.296875 C 3.953125 -5.296875 4.46875 -4.84375 4.546875 -3.90625 Z M 4.546875 -3.90625 \"/>\n",
       "</symbol>\n",
       "<symbol overflow=\"visible\" id=\"glyph0-12\">\n",
       "<path style=\"stroke:none;\" d=\"M 4.4375 -4.875 L 4.4375 -6.578125 C 4.34375 -6.59375 4.28125 -6.59375 4.234375 -6.59375 C 3.46875 -6.59375 2.796875 -6.078125 2.4375 -5.203125 L 2.4375 -6.484375 L 0.75 -6.484375 L 0.75 0 L 2.4375 0 L 2.4375 -3.4375 C 2.4375 -4.421875 2.921875 -4.921875 3.90625 -4.921875 C 4.09375 -4.921875 4.21875 -4.90625 4.4375 -4.875 Z M 4.4375 -4.875 \"/>\n",
       "</symbol>\n",
       "<symbol overflow=\"visible\" id=\"glyph0-13\">\n",
       "<path style=\"stroke:none;\" d=\"M 6.828125 -3.1875 C 6.828125 -5.390625 5.640625 -6.59375 3.609375 -6.59375 C 1.625 -6.59375 0.421875 -5.359375 0.421875 -3.234375 C 0.421875 -1.109375 1.625 0.109375 3.625 0.109375 C 5.59375 0.109375 6.828125 -1.109375 6.828125 -3.1875 Z M 5.140625 -3.21875 C 5.140625 -2 4.53125 -1.25 3.625 -1.25 C 2.71875 -1.25 2.09375 -2 2.09375 -3.234375 C 2.09375 -4.46875 2.71875 -5.234375 3.625 -5.234375 C 4.546875 -5.234375 5.140625 -4.484375 5.140625 -3.21875 Z M 5.140625 -3.21875 \"/>\n",
       "</symbol>\n",
       "<symbol overflow=\"visible\" id=\"glyph0-14\">\n",
       "<path style=\"stroke:none;\" d=\"M 6.28125 0 L 6.28125 -0.203125 C 5.984375 -0.484375 5.90625 -0.65625 5.90625 -1 L 5.90625 -4.59375 C 5.90625 -5.921875 5 -6.59375 3.25 -6.59375 C 1.5 -6.59375 0.59375 -5.84375 0.484375 -4.34375 L 2.09375 -4.34375 C 2.1875 -5.015625 2.453125 -5.234375 3.28125 -5.234375 C 3.9375 -5.234375 4.265625 -5.015625 4.265625 -4.578125 C 4.265625 -3.90625 3.75 -3.96875 2.921875 -3.828125 L 2.25 -3.703125 C 0.953125 -3.484375 0.34375 -2.921875 0.34375 -1.75 C 0.34375 -0.484375 1.21875 0.109375 2.296875 0.109375 C 3.03125 0.109375 3.6875 -0.203125 4.265625 -0.8125 C 4.265625 -0.484375 4.3125 -0.1875 4.46875 0 Z M 4.265625 -2.765625 C 4.265625 -1.796875 3.78125 -1.25 2.921875 -1.25 C 2.359375 -1.25 2.015625 -1.46875 2.015625 -1.9375 C 2.015625 -2.4375 2.28125 -2.609375 2.96875 -2.75 L 3.546875 -2.859375 C 4 -2.9375 4.0625 -2.96875 4.265625 -3.0625 Z M 4.265625 -2.765625 \"/>\n",
       "</symbol>\n",
       "<symbol overflow=\"visible\" id=\"glyph0-15\">\n",
       "<path style=\"stroke:none;\" d=\"M 3.609375 0 L 3.609375 -1.171875 C 3.4375 -1.15625 3.34375 -1.140625 3.234375 -1.140625 C 2.78125 -1.140625 2.671875 -1.265625 2.671875 -1.84375 L 2.671875 -5.234375 L 3.609375 -5.234375 L 3.609375 -6.34375 L 2.671875 -6.34375 L 2.671875 -8.09375 L 1 -8.09375 L 1 -6.34375 L 0.171875 -6.34375 L 0.171875 -5.234375 L 1 -5.234375 L 1 -1.390625 C 1 -0.375 1.53125 0.046875 2.640625 0.046875 C 3.015625 0.046875 3.3125 0.015625 3.609375 0 Z M 3.609375 0 \"/>\n",
       "</symbol>\n",
       "<symbol overflow=\"visible\" id=\"glyph0-16\">\n",
       "<path style=\"stroke:none;\" d=\"M 6.484375 0 L 6.484375 -4.34375 C 6.484375 -5.859375 5.609375 -6.59375 4.375 -6.59375 C 3.546875 -6.59375 2.953125 -6.25 2.484375 -5.546875 L 2.484375 -8.75 L 0.796875 -8.75 L 0.796875 0 L 2.484375 0 L 2.484375 -3.890625 C 2.484375 -4.625 3.03125 -5.15625 3.78125 -5.15625 C 4.375 -5.15625 4.8125 -4.84375 4.8125 -3.953125 L 4.8125 0 Z M 6.484375 0 \"/>\n",
       "</symbol>\n",
       "<symbol overflow=\"visible\" id=\"glyph0-17\">\n",
       "<path style=\"stroke:none;\" d=\"M 7.84375 0 L 5.03125 -4.46875 L 7.734375 -8.75 L 5.640625 -8.75 L 4.03125 -5.875 L 2.5 -8.75 L 0.359375 -8.75 L 3.03125 -4.40625 L 0.265625 0 L 2.359375 0 L 4.015625 -3.03125 L 5.703125 0 Z M 7.84375 0 \"/>\n",
       "</symbol>\n",
       "<symbol overflow=\"visible\" id=\"glyph0-18\">\n",
       "<path style=\"stroke:none;\" d=\"M 6.1875 -5.984375 C 6.1875 -7.625 5.046875 -8.6875 3.265625 -8.6875 C 1.5 -8.6875 0.46875 -7.640625 0.46875 -5.84375 C 0.46875 -5.765625 0.46875 -5.671875 0.484375 -5.546875 L 2.09375 -5.546875 L 2.09375 -5.8125 C 2.09375 -6.765625 2.53125 -7.3125 3.296875 -7.3125 C 4.046875 -7.3125 4.5 -6.796875 4.5 -5.953125 C 4.5 -5.015625 4.203125 -4.640625 2.328125 -3.3125 C 0.890625 -2.328125 0.4375 -1.578125 0.359375 0 L 6.140625 0 L 6.140625 -1.5 L 2.546875 -1.5 C 2.765625 -1.953125 3.03125 -2.203125 4.265625 -3.109375 C 5.75 -4.1875 6.1875 -4.84375 6.1875 -5.984375 Z M 6.1875 -5.984375 \"/>\n",
       "</symbol>\n",
       "<symbol overflow=\"visible\" id=\"glyph0-19\">\n",
       "<path style=\"stroke:none;\" d=\"M 9.890625 0 L 9.890625 -4.578125 C 9.890625 -5.84375 9.125 -6.59375 7.828125 -6.59375 C 7.015625 -6.59375 6.4375 -6.296875 5.921875 -5.625 C 5.609375 -6.234375 4.96875 -6.59375 4.15625 -6.59375 C 3.421875 -6.59375 2.9375 -6.34375 2.390625 -5.671875 L 2.390625 -6.484375 L 0.71875 -6.484375 L 0.71875 0 L 2.40625 0 L 2.40625 -3.890625 C 2.40625 -4.6875 2.828125 -5.15625 3.546875 -5.15625 C 4.109375 -5.15625 4.46875 -4.84375 4.46875 -4.3125 L 4.46875 0 L 6.140625 0 L 6.140625 -3.890625 C 6.140625 -4.6875 6.578125 -5.15625 7.296875 -5.15625 C 7.859375 -5.15625 8.203125 -4.84375 8.203125 -4.3125 L 8.203125 0 Z M 9.890625 0 \"/>\n",
       "</symbol>\n",
       "<symbol overflow=\"visible\" id=\"glyph0-20\">\n",
       "<path style=\"stroke:none;\" d=\"M 6.453125 -6.484375 L 4.734375 -6.484375 L 3.390625 -1.765625 L 1.953125 -6.484375 L 0.109375 -6.484375 L 2.515625 0.28125 L 2.515625 0.3125 C 2.515625 0.921875 2.0625 1.390625 1.46875 1.390625 C 1.34375 1.390625 1.25 1.375 1.03125 1.3125 L 1.03125 2.578125 C 1.28125 2.609375 1.421875 2.625 1.625 2.625 C 2.765625 2.625 3.34375 2.421875 3.796875 1.1875 Z M 6.453125 -6.484375 \"/>\n",
       "</symbol>\n",
       "<symbol overflow=\"visible\" id=\"glyph0-21\">\n",
       "<path style=\"stroke:none;\" d=\"M 5.5625 1.265625 L 5.5625 -0.296875 L 2.375 -3 L 5.5625 -5.703125 L 5.5625 -7.265625 L 1.0625 -3.453125 L 1.0625 -2.546875 Z M 5.5625 1.265625 \"/>\n",
       "</symbol>\n",
       "<symbol overflow=\"visible\" id=\"glyph0-22\">\n",
       "<path style=\"stroke:none;\" d=\"M 6.578125 0 L 4.21875 -4.03125 L 6.421875 -6.484375 L 4.515625 -6.484375 L 2.390625 -3.953125 L 2.390625 -8.75 L 0.703125 -8.75 L 0.703125 0 L 2.390625 0 L 2.390625 -2.125 L 3.0625 -2.859375 L 4.609375 0 Z M 6.578125 0 \"/>\n",
       "</symbol>\n",
       "<symbol overflow=\"visible\" id=\"glyph0-23\">\n",
       "<path style=\"stroke:none;\" d=\"M 6.484375 0 L 6.484375 -6.484375 L 4.8125 -6.484375 L 4.8125 -2.59375 C 4.8125 -1.828125 4.265625 -1.3125 3.453125 -1.3125 C 2.734375 -1.3125 2.375 -1.703125 2.375 -2.484375 L 2.375 -6.484375 L 0.703125 -6.484375 L 0.703125 -2.140625 C 0.703125 -0.703125 1.484375 0.109375 2.875 0.109375 C 3.75 0.109375 4.328125 -0.21875 4.8125 -0.859375 L 4.8125 0 Z M 6.484375 0 \"/>\n",
       "</symbol>\n",
       "<symbol overflow=\"visible\" id=\"glyph0-24\">\n",
       "<path style=\"stroke:none;\" d=\"M 6.546875 0 L 6.546875 -8.75 L 4.859375 -8.75 L 4.859375 -5.640625 C 4.4375 -6.28125 3.875 -6.59375 3.078125 -6.59375 C 1.53125 -6.59375 0.34375 -5.1875 0.34375 -3.234375 C 0.34375 -1.390625 1.359375 0.109375 3.078125 0.109375 C 3.875 0.109375 4.4375 -0.1875 4.859375 -0.75 L 4.859375 0 Z M 4.859375 -3.203125 C 4.859375 -2.03125 4.28125 -1.296875 3.4375 -1.296875 C 2.609375 -1.296875 2.03125 -2.046875 2.03125 -3.234375 C 2.03125 -4.421875 2.609375 -5.1875 3.4375 -5.1875 C 4.296875 -5.1875 4.859375 -4.4375 4.859375 -3.203125 Z M 4.859375 -3.203125 \"/>\n",
       "</symbol>\n",
       "<symbol overflow=\"visible\" id=\"glyph0-25\">\n",
       "<path style=\"stroke:none;\" d=\"M 2.484375 0 L 2.484375 -8.75 L 0.796875 -8.75 L 0.796875 0 Z M 2.484375 0 \"/>\n",
       "</symbol>\n",
       "<symbol overflow=\"visible\" id=\"glyph0-26\">\n",
       "<path style=\"stroke:none;\" d=\"M 6.484375 0.21875 L 6.484375 -6.484375 L 4.890625 -6.484375 L 4.890625 -5.484375 C 4.390625 -6.25 3.84375 -6.59375 3.09375 -6.59375 C 1.5625 -6.59375 0.40625 -5.171875 0.40625 -3.171875 C 0.40625 -1.15625 1.46875 0.109375 3.0625 0.109375 C 3.8125 0.109375 4.265625 -0.125 4.890625 -0.75 L 4.890625 0.21875 C 4.890625 1 4.3125 1.53125 3.46875 1.53125 C 2.828125 1.53125 2.40625 1.265625 2.28125 0.78125 L 0.546875 0.78125 C 0.5625 1.84375 1.625 2.609375 3.40625 2.609375 C 5.359375 2.609375 6.484375 1.734375 6.484375 0.21875 Z M 4.921875 -3.1875 C 4.921875 -2.015625 4.3125 -1.296875 3.4375 -1.296875 C 2.640625 -1.296875 2.09375 -2.015625 2.09375 -3.1875 C 2.09375 -4.421875 2.640625 -5.1875 3.453125 -5.1875 C 4.296875 -5.1875 4.921875 -4.390625 4.921875 -3.1875 Z M 4.921875 -3.1875 \"/>\n",
       "</symbol>\n",
       "<symbol overflow=\"visible\" id=\"glyph0-27\">\n",
       "<path style=\"stroke:none;\" d=\"M 6.34375 -7.1875 L 6.34375 -8.515625 L 0.34375 -8.515625 L 0.34375 -7.015625 L 4.578125 -7.015625 C 4.0625 -6.453125 3.0625 -4.90625 2.71875 -4.15625 C 2.140625 -2.921875 1.8125 -1.8125 1.59375 0 L 3.28125 0 C 3.4375 -2.6875 4.3125 -4.75 6.34375 -7.1875 Z M 6.34375 -7.1875 \"/>\n",
       "</symbol>\n",
       "<symbol overflow=\"visible\" id=\"glyph0-28\">\n",
       "<path style=\"stroke:none;\" d=\"M 4.53125 0 L 4.53125 -8.515625 L 3.421875 -8.515625 C 3.15625 -7.5 2.28125 -6.984375 0.8125 -6.984375 L 0.8125 -5.875 L 2.859375 -5.875 L 2.859375 0 Z M 4.53125 0 \"/>\n",
       "</symbol>\n",
       "<symbol overflow=\"visible\" id=\"glyph0-29\">\n",
       "<path style=\"stroke:none;\" d=\"M 6.1875 -2.609375 C 6.1875 -3.609375 5.765625 -4.171875 4.796875 -4.640625 C 5.59375 -5.140625 5.921875 -5.59375 5.921875 -6.375 C 5.921875 -7.78125 4.859375 -8.6875 3.21875 -8.6875 C 1.578125 -8.6875 0.453125 -7.828125 0.453125 -5.96875 L 0.453125 -5.828125 L 2.015625 -5.828125 C 2.015625 -6.890625 2.359375 -7.328125 3.1875 -7.328125 C 3.859375 -7.328125 4.234375 -6.921875 4.234375 -6.21875 C 4.234375 -5.359375 3.75 -5.015625 2.75 -5.015625 L 2.609375 -5.015625 L 2.609375 -3.890625 C 3.859375 -3.890625 4.515625 -3.53125 4.515625 -2.609375 C 4.515625 -1.875 3.984375 -1.328125 3.25 -1.328125 C 2.453125 -1.328125 1.984375 -1.78125 1.984375 -2.65625 L 0.34375 -2.65625 C 0.34375 -0.953125 1.46875 0.109375 3.21875 0.109375 C 5.03125 0.109375 6.1875 -0.953125 6.1875 -2.609375 Z M 6.1875 -2.609375 \"/>\n",
       "</symbol>\n",
       "<symbol overflow=\"visible\" id=\"glyph1-0\">\n",
       "<path style=\"stroke:none;\" d=\"\"/>\n",
       "</symbol>\n",
       "<symbol overflow=\"visible\" id=\"glyph1-1\">\n",
       "<path style=\"stroke:none;\" d=\"M 6.078125 -4.09375 C 6.078125 -7.046875 5.140625 -8.515625 3.296875 -8.515625 C 1.46875 -8.515625 0.515625 -7.015625 0.515625 -4.15625 C 0.515625 -1.296875 1.46875 0.1875 3.296875 0.1875 C 5.09375 0.1875 6.078125 -1.296875 6.078125 -4.09375 Z M 5 -4.1875 C 5 -1.78125 4.453125 -0.703125 3.28125 -0.703125 C 2.15625 -0.703125 1.59375 -1.828125 1.59375 -4.15625 C 1.59375 -6.484375 2.15625 -7.578125 3.296875 -7.578125 C 4.4375 -7.578125 5 -6.46875 5 -4.1875 Z M 5 -4.1875 \"/>\n",
       "</symbol>\n",
       "<symbol overflow=\"visible\" id=\"glyph1-2\">\n",
       "<path style=\"stroke:none;\" d=\"M 4.15625 0 L 4.15625 -8.515625 L 3.46875 -8.515625 C 3.09375 -7.203125 2.859375 -7.015625 1.21875 -6.8125 L 1.21875 -6.0625 L 3.109375 -6.0625 L 3.109375 0 Z M 4.15625 0 \"/>\n",
       "</symbol>\n",
       "<symbol overflow=\"visible\" id=\"glyph2-0\">\n",
       "<path style=\"stroke:none;\" d=\"\"/>\n",
       "</symbol>\n",
       "<symbol overflow=\"visible\" id=\"glyph2-1\">\n",
       "<path style=\"stroke:none;\" d=\"M 5.1875 -5.03125 L 4.328125 -5.03125 L 2.09375 -1.125 L 1.65625 -5.03125 L 0.78125 -5.03125 L 1.4375 0.03125 L 0.9375 0.8125 C 0.6875 1.21875 0.53125 1.3125 0.171875 1.3125 C 0.078125 1.3125 0.015625 1.3125 -0.25 1.28125 L -0.40625 2 C -0.234375 2.078125 -0.109375 2.09375 0.0625 2.09375 C 0.75 2.09375 1.234375 1.765625 1.65625 1.0625 Z M 5.1875 -5.03125 \"/>\n",
       "</symbol>\n",
       "<symbol overflow=\"visible\" id=\"glyph2-2\">\n",
       "<path style=\"stroke:none;\" d=\"M 4.9375 -2.28125 L 4.953125 -2.40625 C 5.03125 -2.875 5.078125 -3.265625 5.078125 -3.53125 C 5.078125 -4.453125 4.28125 -5.171875 3.25 -5.171875 C 2.421875 -5.171875 1.609375 -4.78125 1.125 -4.140625 C 0.6875 -3.53125 0.328125 -2.46875 0.328125 -1.703125 C 0.328125 -0.703125 1.078125 0.140625 2.25 0.140625 C 3.390625 0.140625 4.359375 -0.484375 4.65625 -1.53125 L 3.859375 -1.53125 C 3.53125 -0.9375 3.015625 -0.59375 2.375 -0.59375 C 1.625 -0.59375 1.1875 -1.03125 1.1875 -1.84375 C 1.171875 -2 1.1875 -2.09375 1.234375 -2.28125 Z M 4.21875 -2.96875 L 1.40625 -2.96875 C 1.640625 -3.8125 2.34375 -4.4375 3.125 -4.4375 C 3.8125 -4.4375 4.234375 -3.96875 4.234375 -3.25 C 4.234375 -3.15625 4.234375 -3.09375 4.21875 -2.96875 Z M 4.21875 -2.96875 \"/>\n",
       "</symbol>\n",
       "<symbol overflow=\"visible\" id=\"glyph2-3\">\n",
       "<path style=\"stroke:none;\" d=\"M 4.265625 -1.734375 C 4.265625 -2.328125 3.953125 -2.625 3.109375 -2.84375 L 2.375 -3.015625 C 1.84375 -3.15625 1.5625 -3.34375 1.5625 -3.59375 C 1.5625 -4.09375 2.046875 -4.4375 2.765625 -4.4375 C 3.34375 -4.4375 3.65625 -4.21875 3.65625 -3.84375 C 3.65625 -3.765625 3.65625 -3.703125 3.640625 -3.625 L 4.453125 -3.625 C 4.5 -3.828125 4.515625 -3.921875 4.515625 -4.03125 C 4.515625 -4.703125 3.859375 -5.171875 2.9375 -5.171875 C 1.609375 -5.171875 0.71875 -4.40625 0.71875 -3.390625 C 0.71875 -2.796875 1.0625 -2.515625 2.046875 -2.265625 L 2.75 -2.078125 C 3.359375 -1.921875 3.421875 -1.71875 3.421875 -1.515625 C 3.421875 -0.96875 2.796875 -0.59375 2.046875 -0.59375 C 1.390625 -0.59375 1.015625 -0.859375 1.015625 -1.328125 C 1.015625 -1.390625 1.03125 -1.484375 1.03125 -1.578125 L 0.1875 -1.578125 C 0.140625 -1.359375 0.125 -1.234375 0.125 -1.078125 C 0.125 -0.3125 0.796875 0.140625 1.90625 0.140625 C 3.34375 0.140625 4.265625 -0.59375 4.265625 -1.734375 Z M 4.265625 -1.734375 \"/>\n",
       "</symbol>\n",
       "<symbol overflow=\"visible\" id=\"glyph2-4\">\n",
       "<path style=\"stroke:none;\" d=\"M 4.984375 -3.609375 C 5.015625 -3.734375 5.03125 -3.84375 5.03125 -3.96875 C 5.03125 -4.703125 4.515625 -5.171875 3.71875 -5.171875 C 3 -5.171875 2.359375 -4.90625 1.859375 -4.40625 L 1.984375 -5.03125 L 1.25 -5.03125 L 0.1875 0 L 1 0 L 1.578125 -2.765625 C 1.796875 -3.828125 2.484375 -4.484375 3.34375 -4.484375 C 3.828125 -4.484375 4.1875 -4.140625 4.1875 -3.703125 C 4.1875 -3.640625 4.15625 -3.5 4.125 -3.34375 L 3.421875 0 L 4.21875 0 Z M 4.984375 -3.609375 \"/>\n",
       "</symbol>\n",
       "<symbol overflow=\"visible\" id=\"glyph2-5\">\n",
       "<path style=\"stroke:none;\" d=\"M 5.046875 -3.375 C 5.046875 -4.390625 4.359375 -5.171875 3.203125 -5.171875 C 1.40625 -5.171875 0.296875 -3.515625 0.296875 -1.609375 C 0.296875 -0.546875 1.046875 0.140625 2.125 0.140625 C 3.859375 0.140625 5.046875 -1.375 5.046875 -3.375 Z M 4.203125 -3.1875 C 4.203125 -1.765625 3.390625 -0.59375 2.25 -0.59375 C 1.578125 -0.59375 1.140625 -1.03125 1.140625 -1.796875 C 1.140625 -3.1875 1.953125 -4.4375 3.078125 -4.4375 C 3.796875 -4.4375 4.203125 -3.96875 4.203125 -3.1875 Z M 4.203125 -3.1875 \"/>\n",
       "</symbol>\n",
       "</g>\n",
       "</defs>\n",
       "<g id=\"surface65\">\n",
       "<rect x=\"0\" y=\"0\" width=\"504\" height=\"504\" style=\"fill:rgb(100%,100%,100%);fill-opacity:1;stroke:none;\"/>\n",
       "<path style=\"fill:none;stroke-width:0.75;stroke-linecap:butt;stroke-linejoin:round;stroke:rgb(0%,0%,0%);stroke-opacity:1;stroke-miterlimit:10;\" d=\"M 41.183594 86.195312 L 70.980469 46.441406 L 78.429688 46.441406 \"/>\n",
       "<path style=\"fill:none;stroke-width:0.75;stroke-linecap:butt;stroke-linejoin:round;stroke:rgb(0%,0%,0%);stroke-opacity:1;stroke-miterlimit:10;\" d=\"M 115.675781 97.691406 L 85.878906 46.441406 L 78.429688 46.441406 \"/>\n",
       "<path style=\"fill:none;stroke-width:0.75;stroke-linecap:butt;stroke-linejoin:round;stroke:rgb(0%,0%,0%);stroke-opacity:1;stroke-miterlimit:10;\" d=\"M 77.960938 138.875 L 108.132812 99.121094 L 115.675781 99.121094 \"/>\n",
       "<path style=\"fill:none;stroke-width:0.75;stroke-linecap:butt;stroke-linejoin:round;stroke:rgb(0%,0%,0%);stroke-opacity:1;stroke-miterlimit:10;\" d=\"M 153.386719 150.371094 L 123.21875 99.121094 L 115.675781 99.121094 \"/>\n",
       "<path style=\"fill:none;stroke-width:0.75;stroke-linecap:butt;stroke-linejoin:round;stroke:rgb(0%,0%,0%);stroke-opacity:1;stroke-miterlimit:10;\" d=\"M 111 191.554688 L 144.910156 151.800781 L 153.386719 151.800781 \"/>\n",
       "<path style=\"fill:none;stroke-width:0.75;stroke-linecap:butt;stroke-linejoin:round;stroke:rgb(0%,0%,0%);stroke-opacity:1;stroke-miterlimit:10;\" d=\"M 195.773438 203.046875 L 161.867188 151.800781 L 153.386719 151.800781 \"/>\n",
       "<path style=\"fill:none;stroke-width:0.75;stroke-linecap:butt;stroke-linejoin:round;stroke:rgb(0%,0%,0%);stroke-opacity:1;stroke-miterlimit:10;\" d=\"M 106.648438 255.726562 L 177.949219 204.480469 L 195.773438 204.480469 \"/>\n",
       "<path style=\"fill:none;stroke-width:0.75;stroke-linecap:butt;stroke-linejoin:round;stroke:rgb(0%,0%,0%);stroke-opacity:1;stroke-miterlimit:10;\" d=\"M 73.175781 296.914062 L 99.953125 257.15625 L 106.648438 257.15625 \"/>\n",
       "<path style=\"fill:none;stroke-width:0.75;stroke-linecap:butt;stroke-linejoin:round;stroke:rgb(0%,0%,0%);stroke-opacity:1;stroke-miterlimit:10;\" d=\"M 140.125 296.914062 L 113.34375 257.15625 L 106.648438 257.15625 \"/>\n",
       "<path style=\"fill:none;stroke-width:0.75;stroke-linecap:butt;stroke-linejoin:round;stroke:rgb(0%,0%,0%);stroke-opacity:1;stroke-miterlimit:10;\" d=\"M 284.898438 255.726562 L 213.601562 204.480469 L 195.773438 204.480469 \"/>\n",
       "<path style=\"fill:none;stroke-width:0.75;stroke-linecap:butt;stroke-linejoin:round;stroke:rgb(0%,0%,0%);stroke-opacity:1;stroke-miterlimit:10;\" d=\"M 214.4375 308.40625 L 270.808594 257.15625 L 284.898438 257.15625 \"/>\n",
       "<path style=\"fill:none;stroke-width:0.75;stroke-linecap:butt;stroke-linejoin:round;stroke:rgb(0%,0%,0%);stroke-opacity:1;stroke-miterlimit:10;\" d=\"M 177.613281 361.085938 L 207.074219 309.835938 L 214.4375 309.835938 \"/>\n",
       "<path style=\"fill:none;stroke-width:0.75;stroke-linecap:butt;stroke-linejoin:round;stroke:rgb(0%,0%,0%);stroke-opacity:1;stroke-miterlimit:10;\" d=\"M 144.140625 402.269531 L 170.921875 362.515625 L 177.613281 362.515625 \"/>\n",
       "<path style=\"fill:none;stroke-width:0.75;stroke-linecap:butt;stroke-linejoin:round;stroke:rgb(0%,0%,0%);stroke-opacity:1;stroke-miterlimit:10;\" d=\"M 211.089844 402.269531 L 184.308594 362.515625 L 177.613281 362.515625 \"/>\n",
       "<path style=\"fill:none;stroke-width:0.75;stroke-linecap:butt;stroke-linejoin:round;stroke:rgb(0%,0%,0%);stroke-opacity:1;stroke-miterlimit:10;\" d=\"M 251.257812 349.589844 L 221.800781 309.835938 L 214.4375 309.835938 \"/>\n",
       "<path style=\"fill:none;stroke-width:0.75;stroke-linecap:butt;stroke-linejoin:round;stroke:rgb(0%,0%,0%);stroke-opacity:1;stroke-miterlimit:10;\" d=\"M 355.363281 308.40625 L 298.992188 257.15625 L 284.898438 257.15625 \"/>\n",
       "<path style=\"fill:none;stroke-width:0.75;stroke-linecap:butt;stroke-linejoin:round;stroke:rgb(0%,0%,0%);stroke-opacity:1;stroke-miterlimit:10;\" d=\"M 318.207031 349.589844 L 347.933594 309.835938 L 355.363281 309.835938 \"/>\n",
       "<path style=\"fill:none;stroke-width:0.75;stroke-linecap:butt;stroke-linejoin:round;stroke:rgb(0%,0%,0%);stroke-opacity:1;stroke-miterlimit:10;\" d=\"M 392.519531 361.085938 L 362.796875 309.835938 L 355.363281 309.835938 \"/>\n",
       "<path style=\"fill:none;stroke-width:0.75;stroke-linecap:butt;stroke-linejoin:round;stroke:rgb(0%,0%,0%);stroke-opacity:1;stroke-miterlimit:10;\" d=\"M 355.699219 402.269531 L 385.15625 362.515625 L 392.519531 362.515625 \"/>\n",
       "<path style=\"fill:none;stroke-width:0.75;stroke-linecap:butt;stroke-linejoin:round;stroke:rgb(0%,0%,0%);stroke-opacity:1;stroke-miterlimit:10;\" d=\"M 429.34375 413.765625 L 399.882812 362.515625 L 392.519531 362.515625 \"/>\n",
       "<path style=\"fill:none;stroke-width:0.75;stroke-linecap:butt;stroke-linejoin:round;stroke:rgb(0%,0%,0%);stroke-opacity:1;stroke-miterlimit:10;\" d=\"M 395.867188 454.949219 L 422.648438 415.195312 L 429.34375 415.195312 \"/>\n",
       "<path style=\"fill:none;stroke-width:0.75;stroke-linecap:butt;stroke-linejoin:round;stroke:rgb(0%,0%,0%);stroke-opacity:1;stroke-miterlimit:10;\" d=\"M 462.816406 454.949219 L 436.035156 415.195312 L 429.34375 415.195312 \"/>\n",
       "<path style=\" stroke:none;fill-rule:nonzero;fill:rgb(100%,100%,100%);fill-opacity:1;\" d=\"M 42.742188 50.75 L 42.742188 33.519531 L 114.117188 33.519531 L 114.117188 50.75 Z M 42.742188 50.75 \"/>\n",
       "<path style=\" stroke:none;fill-rule:nonzero;fill:rgb(100%,100%,100%);fill-opacity:1;\" d=\"M 75.445312 103.429688 L 75.445312 86.195312 L 155.90625 86.195312 L 155.90625 103.429688 Z M 75.445312 103.429688 \"/>\n",
       "<path style=\" stroke:none;fill-rule:nonzero;fill:rgb(100%,100%,100%);fill-opacity:1;\" d=\"M 112.097656 156.109375 L 112.097656 138.875 L 194.679688 138.875 L 194.679688 156.109375 Z M 112.097656 156.109375 \"/>\n",
       "<path style=\" stroke:none;fill-rule:nonzero;fill:rgb(100%,100%,100%);fill-opacity:1;\" d=\"M 154.746094 208.785156 L 154.746094 191.554688 L 236.804688 191.554688 L 236.804688 208.785156 Z M 154.746094 208.785156 \"/>\n",
       "<path style=\" stroke:none;fill-rule:nonzero;fill:rgb(100%,100%,100%);fill-opacity:1;\" d=\"M 67.222656 261.464844 L 67.222656 244.234375 L 146.074219 244.234375 L 146.074219 261.464844 Z M 67.222656 261.464844 \"/>\n",
       "<path style=\" stroke:none;fill-rule:nonzero;fill:rgb(100%,100%,100%);fill-opacity:1;\" d=\"M 245.214844 261.464844 L 245.214844 244.234375 L 324.585938 244.234375 L 324.585938 261.464844 Z M 245.214844 261.464844 \"/>\n",
       "<path style=\" stroke:none;fill-rule:nonzero;fill:rgb(100%,100%,100%);fill-opacity:1;\" d=\"M 171.253906 314.144531 L 171.253906 296.914062 L 257.617188 296.914062 L 257.617188 314.144531 Z M 171.253906 314.144531 \"/>\n",
       "<path style=\" stroke:none;fill-rule:nonzero;fill:rgb(100%,100%,100%);fill-opacity:1;\" d=\"M 145.101562 366.824219 L 145.101562 349.589844 L 210.128906 349.589844 L 210.128906 366.824219 Z M 145.101562 366.824219 \"/>\n",
       "<path style=\" stroke:none;fill-rule:nonzero;fill:rgb(100%,100%,100%);fill-opacity:1;\" d=\"M 314.011719 314.144531 L 314.011719 296.914062 L 396.714844 296.914062 L 396.714844 314.144531 Z M 314.011719 314.144531 \"/>\n",
       "<path style=\" stroke:none;fill-rule:nonzero;fill:rgb(100%,100%,100%);fill-opacity:1;\" d=\"M 350.921875 366.824219 L 350.921875 349.589844 L 434.117188 349.589844 L 434.117188 366.824219 Z M 350.921875 366.824219 \"/>\n",
       "<path style=\" stroke:none;fill-rule:nonzero;fill:rgb(100%,100%,100%);fill-opacity:1;\" d=\"M 391.648438 419.503906 L 391.648438 402.269531 L 467.035156 402.269531 L 467.035156 419.503906 Z M 391.648438 419.503906 \"/>\n",
       "<g style=\"fill:rgb(0%,0%,0%);fill-opacity:1;\">\n",
       "  <use xlink:href=\"#glyph0-1\" x=\"47.429688\" y=\"45.132812\"/>\n",
       "  <use xlink:href=\"#glyph0-2\" x=\"54.101562\" y=\"45.132812\"/>\n",
       "  <use xlink:href=\"#glyph0-3\" x=\"57.4375\" y=\"45.132812\"/>\n",
       "  <use xlink:href=\"#glyph0-4\" x=\"64.769531\" y=\"45.132812\"/>\n",
       "  <use xlink:href=\"#glyph0-5\" x=\"71.441406\" y=\"45.132812\"/>\n",
       "  <use xlink:href=\"#glyph0-6\" x=\"74.777344\" y=\"45.132812\"/>\n",
       "  <use xlink:href=\"#glyph0-7\" x=\"81.785156\" y=\"45.132812\"/>\n",
       "  <use xlink:href=\"#glyph0-5\" x=\"88.792969\" y=\"45.132812\"/>\n",
       "  <use xlink:href=\"#glyph0-8\" x=\"92.128906\" y=\"45.132812\"/>\n",
       "  <use xlink:href=\"#glyph0-9\" x=\"98.800781\" y=\"45.132812\"/>\n",
       "  <use xlink:href=\"#glyph0-10\" x=\"102.136719\" y=\"45.132812\"/>\n",
       "</g>\n",
       "<g style=\"fill:rgb(0%,0%,0%);fill-opacity:1;\">\n",
       "  <use xlink:href=\"#glyph0-11\" x=\"80.175781\" y=\"97.8125\"/>\n",
       "  <use xlink:href=\"#glyph0-3\" x=\"86.847656\" y=\"97.8125\"/>\n",
       "  <use xlink:href=\"#glyph0-12\" x=\"94.179688\" y=\"97.8125\"/>\n",
       "  <use xlink:href=\"#glyph0-13\" x=\"98.847656\" y=\"97.8125\"/>\n",
       "  <use xlink:href=\"#glyph0-3\" x=\"106.179688\" y=\"97.8125\"/>\n",
       "  <use xlink:href=\"#glyph0-5\" x=\"113.511719\" y=\"97.8125\"/>\n",
       "  <use xlink:href=\"#glyph0-6\" x=\"116.847656\" y=\"97.8125\"/>\n",
       "  <use xlink:href=\"#glyph0-7\" x=\"123.855469\" y=\"97.8125\"/>\n",
       "  <use xlink:href=\"#glyph0-5\" x=\"130.863281\" y=\"97.8125\"/>\n",
       "  <use xlink:href=\"#glyph0-8\" x=\"134.199219\" y=\"97.8125\"/>\n",
       "  <use xlink:href=\"#glyph0-9\" x=\"140.871094\" y=\"97.8125\"/>\n",
       "  <use xlink:href=\"#glyph0-10\" x=\"144.207031\" y=\"97.8125\"/>\n",
       "</g>\n",
       "<g style=\"fill:rgb(0%,0%,0%);fill-opacity:1;\">\n",
       "  <use xlink:href=\"#glyph0-14\" x=\"116.886719\" y=\"150.492188\"/>\n",
       "  <use xlink:href=\"#glyph0-15\" x=\"123.558594\" y=\"150.492188\"/>\n",
       "  <use xlink:href=\"#glyph0-15\" x=\"127.554688\" y=\"150.492188\"/>\n",
       "  <use xlink:href=\"#glyph0-14\" x=\"131.610352\" y=\"150.492188\"/>\n",
       "  <use xlink:href=\"#glyph0-4\" x=\"138.282227\" y=\"150.492188\"/>\n",
       "  <use xlink:href=\"#glyph0-16\" x=\"144.954102\" y=\"150.492188\"/>\n",
       "  <use xlink:href=\"#glyph0-5\" x=\"152.286133\" y=\"150.492188\"/>\n",
       "  <use xlink:href=\"#glyph0-6\" x=\"155.62207\" y=\"150.492188\"/>\n",
       "  <use xlink:href=\"#glyph0-7\" x=\"162.629883\" y=\"150.492188\"/>\n",
       "  <use xlink:href=\"#glyph0-5\" x=\"169.637695\" y=\"150.492188\"/>\n",
       "  <use xlink:href=\"#glyph0-8\" x=\"172.973633\" y=\"150.492188\"/>\n",
       "  <use xlink:href=\"#glyph0-9\" x=\"179.645508\" y=\"150.492188\"/>\n",
       "  <use xlink:href=\"#glyph0-10\" x=\"182.981445\" y=\"150.492188\"/>\n",
       "</g>\n",
       "<g style=\"fill:rgb(0%,0%,0%);fill-opacity:1;\">\n",
       "  <use xlink:href=\"#glyph0-17\" x=\"159.273438\" y=\"203.171875\"/>\n",
       "  <use xlink:href=\"#glyph0-18\" x=\"167.277344\" y=\"203.171875\"/>\n",
       "  <use xlink:href=\"#glyph0-8\" x=\"173.949219\" y=\"203.171875\"/>\n",
       "  <use xlink:href=\"#glyph0-8\" x=\"180.621094\" y=\"203.171875\"/>\n",
       "  <use xlink:href=\"#glyph0-8\" x=\"187.292969\" y=\"203.171875\"/>\n",
       "  <use xlink:href=\"#glyph0-5\" x=\"193.964844\" y=\"203.171875\"/>\n",
       "  <use xlink:href=\"#glyph0-6\" x=\"197.300781\" y=\"203.171875\"/>\n",
       "  <use xlink:href=\"#glyph0-7\" x=\"204.308594\" y=\"203.171875\"/>\n",
       "  <use xlink:href=\"#glyph0-5\" x=\"211.316406\" y=\"203.171875\"/>\n",
       "  <use xlink:href=\"#glyph0-8\" x=\"214.652344\" y=\"203.171875\"/>\n",
       "  <use xlink:href=\"#glyph0-9\" x=\"221.324219\" y=\"203.171875\"/>\n",
       "  <use xlink:href=\"#glyph0-10\" x=\"224.660156\" y=\"203.171875\"/>\n",
       "</g>\n",
       "<g style=\"fill:rgb(0%,0%,0%);fill-opacity:1;\">\n",
       "  <use xlink:href=\"#glyph0-19\" x=\"72.148438\" y=\"255.351562\"/>\n",
       "  <use xlink:href=\"#glyph0-13\" x=\"82.816406\" y=\"255.351562\"/>\n",
       "  <use xlink:href=\"#glyph0-3\" x=\"90.148438\" y=\"255.351562\"/>\n",
       "  <use xlink:href=\"#glyph0-11\" x=\"97.480469\" y=\"255.351562\"/>\n",
       "  <use xlink:href=\"#glyph0-20\" x=\"103.972656\" y=\"255.351562\"/>\n",
       "  <use xlink:href=\"#glyph0-5\" x=\"110.644531\" y=\"255.351562\"/>\n",
       "  <use xlink:href=\"#glyph0-21\" x=\"113.980469\" y=\"255.351562\"/>\n",
       "  <use xlink:href=\"#glyph0-5\" x=\"120.988281\" y=\"255.351562\"/>\n",
       "  <use xlink:href=\"#glyph0-8\" x=\"124.324219\" y=\"255.351562\"/>\n",
       "  <use xlink:href=\"#glyph0-9\" x=\"130.996094\" y=\"255.351562\"/>\n",
       "  <use xlink:href=\"#glyph0-10\" x=\"134.332031\" y=\"255.351562\"/>\n",
       "</g>\n",
       "<g style=\"fill:rgb(0%,0%,0%);fill-opacity:1;\">\n",
       "  <use xlink:href=\"#glyph0-15\" x=\"249.898438\" y=\"255.851562\"/>\n",
       "  <use xlink:href=\"#glyph0-16\" x=\"253.894531\" y=\"255.851562\"/>\n",
       "  <use xlink:href=\"#glyph0-14\" x=\"261.226562\" y=\"255.851562\"/>\n",
       "  <use xlink:href=\"#glyph0-3\" x=\"267.898438\" y=\"255.851562\"/>\n",
       "  <use xlink:href=\"#glyph0-22\" x=\"275.230469\" y=\"255.851562\"/>\n",
       "  <use xlink:href=\"#glyph0-5\" x=\"281.902344\" y=\"255.851562\"/>\n",
       "  <use xlink:href=\"#glyph0-6\" x=\"285.238281\" y=\"255.851562\"/>\n",
       "  <use xlink:href=\"#glyph0-7\" x=\"292.246094\" y=\"255.851562\"/>\n",
       "  <use xlink:href=\"#glyph0-5\" x=\"299.253906\" y=\"255.851562\"/>\n",
       "  <use xlink:href=\"#glyph0-8\" x=\"302.589844\" y=\"255.851562\"/>\n",
       "  <use xlink:href=\"#glyph0-9\" x=\"309.261719\" y=\"255.851562\"/>\n",
       "  <use xlink:href=\"#glyph0-10\" x=\"312.597656\" y=\"255.851562\"/>\n",
       "</g>\n",
       "<g style=\"fill:rgb(0%,0%,0%);fill-opacity:1;\">\n",
       "  <use xlink:href=\"#glyph0-14\" x=\"175.9375\" y=\"308.527344\"/>\n",
       "  <use xlink:href=\"#glyph0-4\" x=\"182.609375\" y=\"308.527344\"/>\n",
       "  <use xlink:href=\"#glyph0-4\" x=\"189.28125\" y=\"308.527344\"/>\n",
       "  <use xlink:href=\"#glyph0-13\" x=\"195.953125\" y=\"308.527344\"/>\n",
       "  <use xlink:href=\"#glyph0-23\" x=\"203.285156\" y=\"308.527344\"/>\n",
       "  <use xlink:href=\"#glyph0-3\" x=\"210.617188\" y=\"308.527344\"/>\n",
       "  <use xlink:href=\"#glyph0-15\" x=\"217.949219\" y=\"308.527344\"/>\n",
       "  <use xlink:href=\"#glyph0-5\" x=\"221.945312\" y=\"308.527344\"/>\n",
       "  <use xlink:href=\"#glyph0-21\" x=\"225.28125\" y=\"308.527344\"/>\n",
       "  <use xlink:href=\"#glyph0-5\" x=\"232.289062\" y=\"308.527344\"/>\n",
       "  <use xlink:href=\"#glyph0-8\" x=\"235.625\" y=\"308.527344\"/>\n",
       "  <use xlink:href=\"#glyph0-9\" x=\"242.296875\" y=\"308.527344\"/>\n",
       "  <use xlink:href=\"#glyph0-10\" x=\"245.632812\" y=\"308.527344\"/>\n",
       "</g>\n",
       "<g style=\"fill:rgb(0%,0%,0%);fill-opacity:1;\">\n",
       "  <use xlink:href=\"#glyph0-4\" x=\"149.613281\" y=\"361.207031\"/>\n",
       "  <use xlink:href=\"#glyph0-13\" x=\"156.285156\" y=\"361.207031\"/>\n",
       "  <use xlink:href=\"#glyph0-19\" x=\"163.617188\" y=\"361.207031\"/>\n",
       "  <use xlink:href=\"#glyph0-5\" x=\"174.285156\" y=\"361.207031\"/>\n",
       "  <use xlink:href=\"#glyph0-21\" x=\"177.621094\" y=\"361.207031\"/>\n",
       "  <use xlink:href=\"#glyph0-5\" x=\"184.628906\" y=\"361.207031\"/>\n",
       "  <use xlink:href=\"#glyph0-8\" x=\"187.964844\" y=\"361.207031\"/>\n",
       "  <use xlink:href=\"#glyph0-9\" x=\"194.636719\" y=\"361.207031\"/>\n",
       "  <use xlink:href=\"#glyph0-10\" x=\"197.972656\" y=\"361.207031\"/>\n",
       "</g>\n",
       "<g style=\"fill:rgb(0%,0%,0%);fill-opacity:1;\">\n",
       "  <use xlink:href=\"#glyph0-19\" x=\"318.863281\" y=\"308.527344\"/>\n",
       "  <use xlink:href=\"#glyph0-13\" x=\"329.53125\" y=\"308.527344\"/>\n",
       "  <use xlink:href=\"#glyph0-24\" x=\"336.863281\" y=\"308.527344\"/>\n",
       "  <use xlink:href=\"#glyph0-11\" x=\"344.195312\" y=\"308.527344\"/>\n",
       "  <use xlink:href=\"#glyph0-25\" x=\"350.867188\" y=\"308.527344\"/>\n",
       "  <use xlink:href=\"#glyph0-5\" x=\"354.203125\" y=\"308.527344\"/>\n",
       "  <use xlink:href=\"#glyph0-6\" x=\"357.539062\" y=\"308.527344\"/>\n",
       "  <use xlink:href=\"#glyph0-7\" x=\"364.546875\" y=\"308.527344\"/>\n",
       "  <use xlink:href=\"#glyph0-5\" x=\"371.554688\" y=\"308.527344\"/>\n",
       "  <use xlink:href=\"#glyph0-8\" x=\"374.890625\" y=\"308.527344\"/>\n",
       "  <use xlink:href=\"#glyph0-9\" x=\"381.5625\" y=\"308.527344\"/>\n",
       "  <use xlink:href=\"#glyph0-10\" x=\"384.898438\" y=\"308.527344\"/>\n",
       "</g>\n",
       "<g style=\"fill:rgb(0%,0%,0%);fill-opacity:1;\">\n",
       "  <use xlink:href=\"#glyph0-11\" x=\"355.519531\" y=\"360.707031\"/>\n",
       "  <use xlink:href=\"#glyph0-3\" x=\"362.191406\" y=\"360.707031\"/>\n",
       "  <use xlink:href=\"#glyph0-11\" x=\"369.523438\" y=\"360.707031\"/>\n",
       "  <use xlink:href=\"#glyph0-12\" x=\"376.195312\" y=\"360.707031\"/>\n",
       "  <use xlink:href=\"#glyph0-26\" x=\"380.863281\" y=\"360.707031\"/>\n",
       "  <use xlink:href=\"#glyph0-2\" x=\"388.195312\" y=\"360.707031\"/>\n",
       "  <use xlink:href=\"#glyph0-5\" x=\"391.53125\" y=\"360.707031\"/>\n",
       "  <use xlink:href=\"#glyph0-6\" x=\"394.867188\" y=\"360.707031\"/>\n",
       "  <use xlink:href=\"#glyph0-7\" x=\"401.875\" y=\"360.707031\"/>\n",
       "  <use xlink:href=\"#glyph0-5\" x=\"408.882812\" y=\"360.707031\"/>\n",
       "  <use xlink:href=\"#glyph0-8\" x=\"412.21875\" y=\"360.707031\"/>\n",
       "  <use xlink:href=\"#glyph0-9\" x=\"418.890625\" y=\"360.707031\"/>\n",
       "  <use xlink:href=\"#glyph0-10\" x=\"422.226562\" y=\"360.707031\"/>\n",
       "</g>\n",
       "<g style=\"fill:rgb(0%,0%,0%);fill-opacity:1;\">\n",
       "  <use xlink:href=\"#glyph0-17\" x=\"396.34375\" y=\"413.886719\"/>\n",
       "  <use xlink:href=\"#glyph0-27\" x=\"404.347656\" y=\"413.886719\"/>\n",
       "  <use xlink:href=\"#glyph0-28\" x=\"411.019531\" y=\"413.886719\"/>\n",
       "  <use xlink:href=\"#glyph0-29\" x=\"417.691406\" y=\"413.886719\"/>\n",
       "  <use xlink:href=\"#glyph0-5\" x=\"424.363281\" y=\"413.886719\"/>\n",
       "  <use xlink:href=\"#glyph0-6\" x=\"427.699219\" y=\"413.886719\"/>\n",
       "  <use xlink:href=\"#glyph0-7\" x=\"434.707031\" y=\"413.886719\"/>\n",
       "  <use xlink:href=\"#glyph0-5\" x=\"441.714844\" y=\"413.886719\"/>\n",
       "  <use xlink:href=\"#glyph0-8\" x=\"445.050781\" y=\"413.886719\"/>\n",
       "  <use xlink:href=\"#glyph0-9\" x=\"451.722656\" y=\"413.886719\"/>\n",
       "  <use xlink:href=\"#glyph0-10\" x=\"455.058594\" y=\"413.886719\"/>\n",
       "</g>\n",
       "<path style=\"fill-rule:nonzero;fill:rgb(100%,100%,100%);fill-opacity:1;stroke-width:0.75;stroke-linecap:round;stroke-linejoin:round;stroke:rgb(0%,0%,0%);stroke-opacity:1;stroke-miterlimit:10;\" d=\"M 32.847656 94.53125 L 33.132812 92.375 L 33.964844 90.363281 L 35.289062 88.636719 L 37.015625 87.3125 L 39.027344 86.480469 L 41.183594 86.195312 L 43.339844 86.480469 L 45.351562 87.3125 L 47.078125 88.636719 L 48.402344 90.363281 L 49.234375 92.375 L 49.515625 94.53125 L 49.515625 95.09375 L 49.234375 97.25 L 48.402344 99.261719 L 47.078125 100.988281 L 45.351562 102.3125 L 43.339844 103.144531 L 41.183594 103.429688 L 39.027344 103.144531 L 37.015625 102.3125 L 35.289062 100.988281 L 33.964844 99.261719 L 33.132812 97.25 L 32.847656 95.09375 Z M 32.847656 94.53125 \"/>\n",
       "<path style=\"fill-rule:nonzero;fill:rgb(100%,100%,100%);fill-opacity:1;stroke-width:0.75;stroke-linecap:round;stroke-linejoin:round;stroke:rgb(0%,0%,0%);stroke-opacity:1;stroke-miterlimit:10;\" d=\"M 69.628906 147.210938 L 69.910156 145.054688 L 70.746094 143.042969 L 72.070312 141.316406 L 73.792969 139.992188 L 75.804688 139.160156 L 77.960938 138.875 L 80.117188 139.160156 L 82.128906 139.992188 L 83.855469 141.316406 L 85.179688 143.042969 L 86.011719 145.054688 L 86.296875 147.210938 L 86.296875 147.773438 L 86.011719 149.929688 L 85.179688 151.941406 L 83.855469 153.667969 L 82.128906 154.992188 L 80.117188 155.824219 L 77.960938 156.109375 L 75.804688 155.824219 L 73.792969 154.992188 L 72.070312 153.667969 L 70.746094 151.941406 L 69.910156 149.929688 L 69.628906 147.773438 Z M 69.628906 147.210938 \"/>\n",
       "<path style=\"fill-rule:nonzero;fill:rgb(100%,100%,100%);fill-opacity:1;stroke-width:0.75;stroke-linecap:round;stroke-linejoin:round;stroke:rgb(0%,0%,0%);stroke-opacity:1;stroke-miterlimit:10;\" d=\"M 102.667969 199.890625 L 102.949219 197.730469 L 103.785156 195.722656 L 105.109375 193.996094 L 106.832031 192.671875 L 108.84375 191.839844 L 111 191.554688 L 113.15625 191.839844 L 115.167969 192.671875 L 116.894531 193.996094 L 118.21875 195.722656 L 119.050781 197.730469 L 119.335938 199.890625 L 119.335938 200.453125 L 119.050781 202.609375 L 118.21875 204.621094 L 116.894531 206.347656 L 115.167969 207.671875 L 113.15625 208.503906 L 111 208.785156 L 108.84375 208.503906 L 106.832031 207.671875 L 105.109375 206.347656 L 103.785156 204.621094 L 102.949219 202.609375 L 102.667969 200.453125 Z M 102.667969 199.890625 \"/>\n",
       "<path style=\"fill-rule:nonzero;fill:rgb(100%,100%,100%);fill-opacity:1;stroke-width:0.75;stroke-linecap:round;stroke-linejoin:round;stroke:rgb(0%,0%,0%);stroke-opacity:1;stroke-miterlimit:10;\" d=\"M 64.839844 305.246094 L 65.125 303.089844 L 65.957031 301.078125 L 67.28125 299.355469 L 69.007812 298.03125 L 71.019531 297.195312 L 73.175781 296.914062 L 75.332031 297.195312 L 77.34375 298.03125 L 79.066406 299.355469 L 80.390625 301.078125 L 81.226562 303.089844 L 81.507812 305.246094 L 81.507812 305.8125 L 81.226562 307.96875 L 80.390625 309.976562 L 79.066406 311.703125 L 77.34375 313.027344 L 75.332031 313.859375 L 73.175781 314.144531 L 71.019531 313.859375 L 69.007812 313.027344 L 67.28125 311.703125 L 65.957031 309.976562 L 65.125 307.96875 L 64.839844 305.8125 Z M 64.839844 305.246094 \"/>\n",
       "<path style=\"fill-rule:nonzero;fill:rgb(100%,100%,100%);fill-opacity:1;stroke-width:0.75;stroke-linecap:round;stroke-linejoin:round;stroke:rgb(0%,0%,0%);stroke-opacity:1;stroke-miterlimit:10;\" d=\"M 131.789062 305.246094 L 132.074219 303.089844 L 132.90625 301.078125 L 134.230469 299.355469 L 135.957031 298.03125 L 137.964844 297.195312 L 140.125 296.914062 L 142.28125 297.195312 L 144.289062 298.03125 L 146.015625 299.355469 L 147.339844 301.078125 L 148.171875 303.089844 L 148.457031 305.246094 L 148.457031 305.8125 L 148.171875 307.96875 L 147.339844 309.976562 L 146.015625 311.703125 L 144.289062 313.027344 L 142.28125 313.859375 L 140.125 314.144531 L 137.964844 313.859375 L 135.957031 313.027344 L 134.230469 311.703125 L 132.90625 309.976562 L 132.074219 307.96875 L 131.789062 305.8125 Z M 131.789062 305.246094 \"/>\n",
       "<path style=\"fill-rule:nonzero;fill:rgb(100%,100%,100%);fill-opacity:1;stroke-width:0.75;stroke-linecap:round;stroke-linejoin:round;stroke:rgb(0%,0%,0%);stroke-opacity:1;stroke-miterlimit:10;\" d=\"M 135.804688 410.605469 L 136.089844 408.449219 L 136.921875 406.4375 L 138.246094 404.710938 L 139.972656 403.386719 L 141.984375 402.554688 L 144.140625 402.269531 L 146.296875 402.554688 L 148.308594 403.386719 L 150.035156 404.710938 L 151.359375 406.4375 L 152.191406 408.449219 L 152.472656 410.605469 L 152.472656 411.167969 L 152.191406 413.324219 L 151.359375 415.335938 L 150.035156 417.0625 L 148.308594 418.386719 L 146.296875 419.21875 L 144.140625 419.503906 L 141.984375 419.21875 L 139.972656 418.386719 L 138.246094 417.0625 L 136.921875 415.335938 L 136.089844 413.324219 L 135.804688 411.167969 Z M 135.804688 410.605469 \"/>\n",
       "<path style=\"fill-rule:nonzero;fill:rgb(100%,100%,100%);fill-opacity:1;stroke-width:0.75;stroke-linecap:round;stroke-linejoin:round;stroke:rgb(0%,0%,0%);stroke-opacity:1;stroke-miterlimit:10;\" d=\"M 202.753906 410.605469 L 203.039062 408.449219 L 203.871094 406.4375 L 205.195312 404.710938 L 206.921875 403.386719 L 208.933594 402.554688 L 211.089844 402.269531 L 213.246094 402.554688 L 215.257812 403.386719 L 216.980469 404.710938 L 218.308594 406.4375 L 219.140625 408.449219 L 219.421875 410.605469 L 219.421875 411.167969 L 219.140625 413.324219 L 218.308594 415.335938 L 216.980469 417.0625 L 215.257812 418.386719 L 213.246094 419.21875 L 211.089844 419.503906 L 208.933594 419.21875 L 206.921875 418.386719 L 205.195312 417.0625 L 203.871094 415.335938 L 203.039062 413.324219 L 202.753906 411.167969 Z M 202.753906 410.605469 \"/>\n",
       "<path style=\"fill-rule:nonzero;fill:rgb(100%,100%,100%);fill-opacity:1;stroke-width:0.75;stroke-linecap:round;stroke-linejoin:round;stroke:rgb(0%,0%,0%);stroke-opacity:1;stroke-miterlimit:10;\" d=\"M 242.925781 357.925781 L 243.207031 355.769531 L 244.042969 353.757812 L 245.367188 352.03125 L 247.089844 350.707031 L 249.101562 349.875 L 251.257812 349.589844 L 253.414062 349.875 L 255.425781 350.707031 L 257.152344 352.03125 L 258.476562 353.757812 L 259.308594 355.769531 L 259.59375 357.925781 L 259.59375 358.488281 L 259.308594 360.648438 L 258.476562 362.65625 L 257.152344 364.382812 L 255.425781 365.707031 L 253.414062 366.539062 L 251.257812 366.824219 L 249.101562 366.539062 L 247.089844 365.707031 L 245.367188 364.382812 L 244.042969 362.65625 L 243.207031 360.648438 L 242.925781 358.488281 Z M 242.925781 357.925781 \"/>\n",
       "<path style=\"fill-rule:nonzero;fill:rgb(100%,100%,100%);fill-opacity:1;stroke-width:0.75;stroke-linecap:round;stroke-linejoin:round;stroke:rgb(0%,0%,0%);stroke-opacity:1;stroke-miterlimit:10;\" d=\"M 309.875 357.925781 L 310.15625 355.769531 L 310.988281 353.757812 L 312.3125 352.03125 L 314.039062 350.707031 L 316.050781 349.875 L 318.207031 349.589844 L 320.363281 349.875 L 322.375 350.707031 L 324.101562 352.03125 L 325.425781 353.757812 L 326.257812 355.769531 L 326.542969 357.925781 L 326.542969 358.488281 L 326.257812 360.648438 L 325.425781 362.65625 L 324.101562 364.382812 L 322.375 365.707031 L 320.363281 366.539062 L 318.207031 366.824219 L 316.050781 366.539062 L 314.039062 365.707031 L 312.3125 364.382812 L 310.988281 362.65625 L 310.15625 360.648438 L 309.875 358.488281 Z M 309.875 357.925781 \"/>\n",
       "<path style=\"fill-rule:nonzero;fill:rgb(100%,100%,100%);fill-opacity:1;stroke-width:0.75;stroke-linecap:round;stroke-linejoin:round;stroke:rgb(0%,0%,0%);stroke-opacity:1;stroke-miterlimit:10;\" d=\"M 347.363281 410.605469 L 347.648438 408.449219 L 348.480469 406.4375 L 349.804688 404.710938 L 351.53125 403.386719 L 353.542969 402.554688 L 355.699219 402.269531 L 357.855469 402.554688 L 359.867188 403.386719 L 361.589844 404.710938 L 362.917969 406.4375 L 363.75 408.449219 L 364.03125 410.605469 L 364.03125 411.167969 L 363.75 413.324219 L 362.917969 415.335938 L 361.589844 417.0625 L 359.867188 418.386719 L 357.855469 419.21875 L 355.699219 419.503906 L 353.542969 419.21875 L 351.53125 418.386719 L 349.804688 417.0625 L 348.480469 415.335938 L 347.648438 413.324219 L 347.363281 411.167969 Z M 347.363281 410.605469 \"/>\n",
       "<path style=\"fill-rule:nonzero;fill:rgb(100%,100%,100%);fill-opacity:1;stroke-width:0.75;stroke-linecap:round;stroke-linejoin:round;stroke:rgb(0%,0%,0%);stroke-opacity:1;stroke-miterlimit:10;\" d=\"M 387.535156 463.285156 L 387.816406 461.125 L 388.648438 459.117188 L 389.976562 457.390625 L 391.699219 456.066406 L 393.710938 455.234375 L 395.867188 454.949219 L 398.023438 455.234375 L 400.035156 456.066406 L 401.761719 457.390625 L 403.085938 459.117188 L 403.917969 461.125 L 404.203125 463.285156 L 404.203125 463.847656 L 403.917969 466.003906 L 403.085938 468.015625 L 401.761719 469.742188 L 400.035156 471.066406 L 398.023438 471.898438 L 395.867188 472.183594 L 393.710938 471.898438 L 391.699219 471.066406 L 389.976562 469.742188 L 388.648438 468.015625 L 387.816406 466.003906 L 387.535156 463.847656 Z M 387.535156 463.285156 \"/>\n",
       "<path style=\"fill-rule:nonzero;fill:rgb(100%,100%,100%);fill-opacity:1;stroke-width:0.75;stroke-linecap:round;stroke-linejoin:round;stroke:rgb(0%,0%,0%);stroke-opacity:1;stroke-miterlimit:10;\" d=\"M 454.484375 463.285156 L 454.765625 461.125 L 455.597656 459.117188 L 456.921875 457.390625 L 458.648438 456.066406 L 460.660156 455.234375 L 462.816406 454.949219 L 464.972656 455.234375 L 466.984375 456.066406 L 468.710938 457.390625 L 470.035156 459.117188 L 470.867188 461.125 L 471.152344 463.285156 L 471.152344 463.847656 L 470.867188 466.003906 L 470.035156 468.015625 L 468.710938 469.742188 L 466.984375 471.066406 L 464.972656 471.898438 L 462.816406 472.183594 L 460.660156 471.898438 L 458.648438 471.066406 L 456.921875 469.742188 L 455.597656 468.015625 L 454.765625 466.003906 L 454.484375 463.847656 Z M 454.484375 463.285156 \"/>\n",
       "<g style=\"fill:rgb(0%,0%,0%);fill-opacity:1;\">\n",
       "  <use xlink:href=\"#glyph1-1\" x=\"37.683594\" y=\"98.588867\"/>\n",
       "</g>\n",
       "<g style=\"fill:rgb(0%,0%,0%);fill-opacity:1;\">\n",
       "  <use xlink:href=\"#glyph1-1\" x=\"74.460938\" y=\"151.268555\"/>\n",
       "</g>\n",
       "<g style=\"fill:rgb(0%,0%,0%);fill-opacity:1;\">\n",
       "  <use xlink:href=\"#glyph1-1\" x=\"107.5\" y=\"203.948242\"/>\n",
       "</g>\n",
       "<g style=\"fill:rgb(0%,0%,0%);fill-opacity:1;\">\n",
       "  <use xlink:href=\"#glyph1-1\" x=\"69.675781\" y=\"309.303711\"/>\n",
       "</g>\n",
       "<g style=\"fill:rgb(0%,0%,0%);fill-opacity:1;\">\n",
       "  <use xlink:href=\"#glyph1-2\" x=\"136.625\" y=\"309.803711\"/>\n",
       "</g>\n",
       "<g style=\"fill:rgb(0%,0%,0%);fill-opacity:1;\">\n",
       "  <use xlink:href=\"#glyph1-1\" x=\"140.640625\" y=\"414.663086\"/>\n",
       "</g>\n",
       "<g style=\"fill:rgb(0%,0%,0%);fill-opacity:1;\">\n",
       "  <use xlink:href=\"#glyph1-2\" x=\"207.589844\" y=\"415.163086\"/>\n",
       "</g>\n",
       "<g style=\"fill:rgb(0%,0%,0%);fill-opacity:1;\">\n",
       "  <use xlink:href=\"#glyph1-2\" x=\"247.757812\" y=\"362.483398\"/>\n",
       "</g>\n",
       "<g style=\"fill:rgb(0%,0%,0%);fill-opacity:1;\">\n",
       "  <use xlink:href=\"#glyph1-1\" x=\"314.707031\" y=\"361.983398\"/>\n",
       "</g>\n",
       "<g style=\"fill:rgb(0%,0%,0%);fill-opacity:1;\">\n",
       "  <use xlink:href=\"#glyph1-1\" x=\"352.199219\" y=\"414.663086\"/>\n",
       "</g>\n",
       "<g style=\"fill:rgb(0%,0%,0%);fill-opacity:1;\">\n",
       "  <use xlink:href=\"#glyph1-1\" x=\"392.367188\" y=\"467.342773\"/>\n",
       "</g>\n",
       "<g style=\"fill:rgb(0%,0%,0%);fill-opacity:1;\">\n",
       "  <use xlink:href=\"#glyph1-2\" x=\"459.316406\" y=\"467.842773\"/>\n",
       "</g>\n",
       "<path style=\"fill-rule:nonzero;fill:rgb(100%,100%,100%);fill-opacity:1;stroke-width:0.75;stroke-linecap:round;stroke-linejoin:round;stroke:rgb(0%,0%,0%);stroke-opacity:1;stroke-miterlimit:10;\" d=\"M 15.09375 41.59375 L 15.148438 41.175781 L 15.308594 40.789062 L 15.566406 40.453125 L 15.902344 40.195312 L 16.289062 40.035156 L 16.707031 39.980469 L 36.519531 39.980469 L 36.9375 40.035156 L 37.324219 40.195312 L 37.660156 40.453125 L 37.917969 40.789062 L 38.078125 41.175781 L 38.132812 41.59375 L 38.132812 51.289062 L 38.078125 51.707031 L 37.917969 52.097656 L 37.660156 52.429688 L 37.324219 52.6875 L 36.9375 52.847656 L 36.519531 52.902344 L 16.707031 52.902344 L 16.289062 52.847656 L 15.902344 52.6875 L 15.566406 52.429688 L 15.308594 52.097656 L 15.148438 51.707031 L 15.09375 51.289062 Z M 15.09375 41.59375 \"/>\n",
       "<path style=\"fill-rule:nonzero;fill:rgb(100%,100%,100%);fill-opacity:1;stroke-width:0.75;stroke-linecap:round;stroke-linejoin:round;stroke:rgb(0%,0%,0%);stroke-opacity:1;stroke-miterlimit:10;\" d=\"M 118.726562 41.59375 L 118.78125 41.175781 L 118.941406 40.789062 L 119.199219 40.453125 L 119.53125 40.195312 L 119.921875 40.035156 L 120.339844 39.980469 L 140.148438 39.980469 L 140.566406 40.035156 L 140.957031 40.195312 L 141.292969 40.453125 L 141.546875 40.789062 L 141.710938 41.175781 L 141.765625 41.59375 L 141.765625 51.289062 L 141.710938 51.707031 L 141.546875 52.097656 L 141.292969 52.429688 L 140.957031 52.6875 L 140.566406 52.847656 L 140.148438 52.902344 L 120.339844 52.902344 L 119.921875 52.847656 L 119.53125 52.6875 L 119.199219 52.429688 L 118.941406 52.097656 L 118.78125 51.707031 L 118.726562 51.289062 Z M 118.726562 41.59375 \"/>\n",
       "<g style=\"fill:rgb(0%,0%,0%);fill-opacity:1;\">\n",
       "  <use xlink:href=\"#glyph2-1\" x=\"19.113281\" y=\"48.827148\"/>\n",
       "  <use xlink:href=\"#glyph2-2\" x=\"23.575195\" y=\"48.827148\"/>\n",
       "  <use xlink:href=\"#glyph2-3\" x=\"28.90918\" y=\"48.827148\"/>\n",
       "</g>\n",
       "<g style=\"fill:rgb(0%,0%,0%);fill-opacity:1;\">\n",
       "  <use xlink:href=\"#glyph2-4\" x=\"124.746094\" y=\"48.749023\"/>\n",
       "  <use xlink:href=\"#glyph2-5\" x=\"130.080078\" y=\"48.749023\"/>\n",
       "</g>\n",
       "</g>\n",
       "</svg>\n"
      ],
      "text/plain": [
       "plot without title"
      ]
     },
     "metadata": {
      "image/svg+xml": {
       "isolated": true
      }
     },
     "output_type": "display_data"
    }
   ],
   "source": [
    "prp(spamCART)"
   ]
  },
  {
   "cell_type": "code",
   "execution_count": 55,
   "metadata": {
    "collapsed": false
   },
   "outputs": [
    {
     "data": {
      "text/plain": [
       "   \n",
       "    FALSE TRUE\n",
       "  0  3052    0\n",
       "  1     4  954"
      ]
     },
     "metadata": {},
     "output_type": "display_data"
    },
    {
     "data": {
      "text/html": [
       "0.999002493765586"
      ],
      "text/latex": [
       "0.999002493765586"
      ],
      "text/markdown": [
       "0.999002493765586"
      ],
      "text/plain": [
       "[1] 0.9990025"
      ]
     },
     "metadata": {},
     "output_type": "display_data"
    }
   ],
   "source": [
    "t = table(train$spam, predLog >= 0.5)\n",
    "t\n",
    "sum(diag(t))/sum(t)"
   ]
  },
  {
   "cell_type": "code",
   "execution_count": 56,
   "metadata": {
    "collapsed": false
   },
   "outputs": [
    {
     "name": "stderr",
     "output_type": "stream",
     "text": [
      "Loading required package: gplots\n",
      "\n",
      "Attaching package: 'gplots'\n",
      "\n",
      "The following object is masked from 'package:stats':\n",
      "\n",
      "    lowess\n",
      "\n"
     ]
    },
    {
     "data": {
      "text/html": [
       "0.999995895774563"
      ],
      "text/latex": [
       "0.999995895774563"
      ],
      "text/markdown": [
       "0.999995895774563"
      ],
      "text/plain": [
       "[1] 0.9999959"
      ]
     },
     "metadata": {},
     "output_type": "display_data"
    }
   ],
   "source": [
    "library(ROCR)\n",
    "pred = prediction(predLog, train$spam)\n",
    "# AUC\n",
    "as.numeric(performance(pred, 'auc')@y.values)"
   ]
  },
  {
   "cell_type": "code",
   "execution_count": 58,
   "metadata": {
    "collapsed": false
   },
   "outputs": [
    {
     "data": {
      "text/plain": [
       "   \n",
       "    FALSE TRUE\n",
       "  0  2885  167\n",
       "  1    64  894"
      ]
     },
     "metadata": {},
     "output_type": "display_data"
    },
    {
     "data": {
      "text/html": [
       "0.942394014962594"
      ],
      "text/latex": [
       "0.942394014962594"
      ],
      "text/markdown": [
       "0.942394014962594"
      ],
      "text/plain": [
       "[1] 0.942394"
      ]
     },
     "metadata": {},
     "output_type": "display_data"
    }
   ],
   "source": [
    "t = table(train$spam, predCART >= 0.5)\n",
    "t\n",
    "sum(diag(t))/sum(t)"
   ]
  },
  {
   "cell_type": "code",
   "execution_count": 59,
   "metadata": {
    "collapsed": false
   },
   "outputs": [
    {
     "data": {
      "text/html": [
       "0.969604448433144"
      ],
      "text/latex": [
       "0.969604448433144"
      ],
      "text/markdown": [
       "0.969604448433144"
      ],
      "text/plain": [
       "[1] 0.9696044"
      ]
     },
     "metadata": {},
     "output_type": "display_data"
    }
   ],
   "source": [
    "pred = prediction(predCART, train$spam)\n",
    "# AUC\n",
    "as.numeric(performance(pred, 'auc')@y.values)"
   ]
  },
  {
   "cell_type": "code",
   "execution_count": 60,
   "metadata": {
    "collapsed": false
   },
   "outputs": [
    {
     "data": {
      "text/plain": [
       "   \n",
       "    FALSE TRUE\n",
       "  0  3013   39\n",
       "  1    44  914"
      ]
     },
     "metadata": {},
     "output_type": "display_data"
    },
    {
     "data": {
      "text/html": [
       "0.97930174563591"
      ],
      "text/latex": [
       "0.97930174563591"
      ],
      "text/markdown": [
       "0.97930174563591"
      ],
      "text/plain": [
       "[1] 0.9793017"
      ]
     },
     "metadata": {},
     "output_type": "display_data"
    }
   ],
   "source": [
    "t = table(train$spam, predRF >= 0.5)\n",
    "t\n",
    "sum(diag(t))/sum(t)"
   ]
  },
  {
   "cell_type": "code",
   "execution_count": 61,
   "metadata": {
    "collapsed": false
   },
   "outputs": [
    {
     "data": {
      "text/html": [
       "0.997911633290193"
      ],
      "text/latex": [
       "0.997911633290193"
      ],
      "text/markdown": [
       "0.997911633290193"
      ],
      "text/plain": [
       "[1] 0.9979116"
      ]
     },
     "metadata": {},
     "output_type": "display_data"
    }
   ],
   "source": [
    "pred = prediction(predRF, train$spam)\n",
    "# AUC\n",
    "as.numeric(performance(pred, 'auc')@y.values)"
   ]
  },
  {
   "cell_type": "code",
   "execution_count": 62,
   "metadata": {
    "collapsed": true
   },
   "outputs": [],
   "source": [
    "predTestLog = predict(spamLog, newdata=test,\n",
    "                      type='response')\n",
    "predTestCART = predict(spamCART, newdata=test)[,2]\n",
    "predTestRF = predict(spamRF, newdata=test,\n",
    "                     type='prob')[,2]"
   ]
  },
  {
   "cell_type": "code",
   "execution_count": 69,
   "metadata": {
    "collapsed": false
   },
   "outputs": [
    {
     "data": {
      "text/plain": [
       "   \n",
       "    FALSE TRUE\n",
       "  0  1257   51\n",
       "  1    34  376"
      ]
     },
     "metadata": {},
     "output_type": "display_data"
    },
    {
     "data": {
      "text/html": [
       "0.950523864959255"
      ],
      "text/latex": [
       "0.950523864959255"
      ],
      "text/markdown": [
       "0.950523864959255"
      ],
      "text/plain": [
       "[1] 0.9505239"
      ]
     },
     "metadata": {},
     "output_type": "display_data"
    },
    {
     "data": {
      "text/html": [
       "0.962751734168718"
      ],
      "text/latex": [
       "0.962751734168718"
      ],
      "text/markdown": [
       "0.962751734168718"
      ],
      "text/plain": [
       "[1] 0.9627517"
      ]
     },
     "metadata": {},
     "output_type": "display_data"
    },
    {
     "data": {
      "text/plain": [
       "   \n",
       "    FALSE TRUE\n",
       "  0  1228   80\n",
       "  1    24  386"
      ]
     },
     "metadata": {},
     "output_type": "display_data"
    },
    {
     "data": {
      "text/html": [
       "0.939464493597206"
      ],
      "text/latex": [
       "0.939464493597206"
      ],
      "text/markdown": [
       "0.939464493597206"
      ],
      "text/plain": [
       "[1] 0.9394645"
      ]
     },
     "metadata": {},
     "output_type": "display_data"
    },
    {
     "data": {
      "text/html": [
       "0.963175952860446"
      ],
      "text/latex": [
       "0.963175952860446"
      ],
      "text/markdown": [
       "0.963175952860446"
      ],
      "text/plain": [
       "[1] 0.963176"
      ]
     },
     "metadata": {},
     "output_type": "display_data"
    },
    {
     "data": {
      "text/plain": [
       "   \n",
       "    FALSE TRUE\n",
       "  0  1290   18\n",
       "  1    24  386"
      ]
     },
     "metadata": {},
     "output_type": "display_data"
    },
    {
     "data": {
      "text/html": [
       "0.975552968568102"
      ],
      "text/latex": [
       "0.975552968568102"
      ],
      "text/markdown": [
       "0.975552968568102"
      ],
      "text/plain": [
       "[1] 0.975553"
      ]
     },
     "metadata": {},
     "output_type": "display_data"
    },
    {
     "data": {
      "text/html": [
       "0.997565637353621"
      ],
      "text/latex": [
       "0.997565637353621"
      ],
      "text/markdown": [
       "0.997565637353621"
      ],
      "text/plain": [
       "[1] 0.9975656"
      ]
     },
     "metadata": {},
     "output_type": "display_data"
    }
   ],
   "source": [
    "t = table(test$spam, predTestLog >= 0.5)\n",
    "t\n",
    "sum(diag(t))/sum(t)\n",
    "\n",
    "pred = prediction(predTestLog, test$spam)\n",
    "# AUC\n",
    "as.numeric(performance(pred, 'auc')@y.values)\n",
    "\n",
    "t = table(test$spam, predTestCART >= 0.5)\n",
    "t\n",
    "sum(diag(t))/sum(t)\n",
    "\n",
    "pred = prediction(predTestCART, test$spam)\n",
    "# AUC\n",
    "as.numeric(performance(pred, 'auc')@y.values)\n",
    "\n",
    "t = table(test$spam, predTestRF >= 0.5)\n",
    "t\n",
    "sum(diag(t))/sum(t)\n",
    "\n",
    "pred = prediction(predTestRF, test$spam)\n",
    "# AUC\n",
    "as.numeric(performance(pred, 'auc')@y.values)"
   ]
  },
  {
   "cell_type": "code",
   "execution_count": 72,
   "metadata": {
    "collapsed": true
   },
   "outputs": [],
   "source": [
    "# End of part 1"
   ]
  },
  {
   "cell_type": "markdown",
   "metadata": {},
   "source": [
    "IMPORTANT NOTE: If you received an error message when running the command above, it might be because your computer ran out of memory when trying to convert dtm to a matrix. If this happened to you, try running the following lines of code instead to create wordCount (if you didn't get an error, you don't need to run these lines). This code is a little more cryptic, but is more memory efficient.\n",
    "\n",
    "library(slam)\n",
    "\n",
    "wordCount = rollup(dtm, 2, FUN=sum)$v\n",
    "\n",
    "When you have successfully created wordCount, answer the following question."
   ]
  },
  {
   "cell_type": "code",
   "execution_count": 71,
   "metadata": {
    "collapsed": true
   },
   "outputs": [],
   "source": [
    "wordCount = rowSums(as.matrix(dtm))"
   ]
  },
  {
   "cell_type": "code",
   "execution_count": 75,
   "metadata": {
    "collapsed": false
   },
   "outputs": [
    {
     "data": {
      "image/png": "[encoded data removed]",
      "image/svg+xml": [
       "<?xml version=\"1.0\" encoding=\"UTF-8\"?>\n",
       "<svg xmlns=\"http://www.w3.org/2000/svg\" xmlns:xlink=\"http://www.w3.org/1999/xlink\" width=\"432pt\" height=\"288pt\" viewBox=\"0 0 432 288\" version=\"1.1\">\n",
       "<defs>\n",
       "<g>\n",
       "<symbol overflow=\"visible\" id=\"glyph0-0\">\n",
       "<path style=\"stroke:none;\" d=\"\"/>\n",
       "</symbol>\n",
       "<symbol overflow=\"visible\" id=\"glyph0-1\">\n",
       "<path style=\"stroke:none;\" d=\"M 9.46875 0 L 9.46875 -10.5 L 7.296875 -10.5 L 7.296875 -6.5625 L 3.140625 -6.5625 L 3.140625 -10.5 L 0.984375 -10.5 L 0.984375 0 L 3.140625 0 L 3.140625 -4.765625 L 7.296875 -4.765625 L 7.296875 0 Z M 9.46875 0 \"/>\n",
       "</symbol>\n",
       "<symbol overflow=\"visible\" id=\"glyph0-2\">\n",
       "<path style=\"stroke:none;\" d=\"M 2.984375 0 L 2.984375 -7.78125 L 0.96875 -7.78125 L 0.96875 0 Z M 3.015625 -8.71875 L 3.015625 -10.734375 L 1 -10.734375 L 1 -8.71875 Z M 3.015625 -8.71875 \"/>\n",
       "</symbol>\n",
       "<symbol overflow=\"visible\" id=\"glyph0-3\">\n",
       "<path style=\"stroke:none;\" d=\"M 7.484375 -2.3125 L 7.484375 -2.40625 C 7.484375 -3.296875 6.984375 -3.96875 5.96875 -4.265625 L 3.421875 -5 C 2.859375 -5.15625 2.703125 -5.28125 2.703125 -5.609375 C 2.703125 -6.03125 3.171875 -6.328125 3.875 -6.328125 C 4.84375 -6.328125 5.3125 -5.984375 5.328125 -5.265625 L 7.28125 -5.265625 C 7.25 -6.921875 5.984375 -7.90625 3.890625 -7.90625 C 1.921875 -7.90625 0.6875 -6.921875 0.6875 -5.3125 C 0.6875 -4.359375 0.953125 -3.84375 2.390625 -3.40625 L 4.796875 -2.65625 C 5.296875 -2.5 5.46875 -2.328125 5.46875 -2.125 C 5.46875 -1.640625 4.90625 -1.453125 3.96875 -1.453125 C 3.046875 -1.453125 2.5625 -1.625 2.390625 -2.46875 L 0.421875 -2.46875 C 0.46875 -0.765625 1.734375 0.125 4.09375 0.125 C 6.28125 0.125 7.484375 -0.734375 7.484375 -2.3125 Z M 7.484375 -2.3125 \"/>\n",
       "</symbol>\n",
       "<symbol overflow=\"visible\" id=\"glyph0-4\">\n",
       "<path style=\"stroke:none;\" d=\"M 4.34375 0 L 4.34375 -1.40625 C 4.140625 -1.390625 4.015625 -1.375 3.875 -1.375 C 3.34375 -1.375 3.21875 -1.53125 3.21875 -2.21875 L 3.21875 -6.28125 L 4.34375 -6.28125 L 4.34375 -7.625 L 3.21875 -7.625 L 3.21875 -9.703125 L 1.203125 -9.703125 L 1.203125 -7.625 L 0.203125 -7.625 L 0.203125 -6.28125 L 1.203125 -6.28125 L 1.203125 -1.671875 C 1.203125 -0.453125 1.84375 0.0625 3.171875 0.0625 C 3.609375 0.0625 3.96875 0.015625 4.34375 0 Z M 4.34375 0 \"/>\n",
       "</symbol>\n",
       "<symbol overflow=\"visible\" id=\"glyph0-5\">\n",
       "<path style=\"stroke:none;\" d=\"M 8.203125 -3.828125 C 8.203125 -6.46875 6.765625 -7.90625 4.34375 -7.90625 C 1.953125 -7.90625 0.5 -6.4375 0.5 -3.890625 C 0.5 -1.328125 1.953125 0.125 4.34375 0.125 C 6.71875 0.125 8.203125 -1.34375 8.203125 -3.828125 Z M 6.1875 -3.859375 C 6.1875 -2.40625 5.4375 -1.5 4.34375 -1.5 C 3.25 -1.5 2.515625 -2.40625 2.515625 -3.890625 C 2.515625 -5.375 3.25 -6.28125 4.34375 -6.28125 C 5.453125 -6.28125 6.1875 -5.390625 6.1875 -3.859375 Z M 6.1875 -3.859375 \"/>\n",
       "</symbol>\n",
       "<symbol overflow=\"visible\" id=\"glyph0-6\">\n",
       "<path style=\"stroke:none;\" d=\"M 7.796875 0.265625 L 7.796875 -7.78125 L 5.875 -7.78125 L 5.875 -6.578125 C 5.265625 -7.5 4.609375 -7.90625 3.71875 -7.90625 C 1.875 -7.90625 0.484375 -6.203125 0.484375 -3.796875 C 0.484375 -1.390625 1.75 0.125 3.671875 0.125 C 4.578125 0.125 5.125 -0.140625 5.875 -0.890625 L 5.875 0.265625 C 5.875 1.203125 5.171875 1.84375 4.15625 1.84375 C 3.40625 1.84375 2.890625 1.53125 2.734375 0.9375 L 0.640625 0.9375 C 0.671875 2.203125 1.953125 3.140625 4.09375 3.140625 C 6.4375 3.140625 7.796875 2.09375 7.796875 0.265625 Z M 5.90625 -3.828125 C 5.90625 -2.421875 5.171875 -1.5625 4.125 -1.5625 C 3.171875 -1.5625 2.5 -2.421875 2.5 -3.828125 C 2.5 -5.296875 3.171875 -6.21875 4.15625 -6.21875 C 5.15625 -6.21875 5.90625 -5.265625 5.90625 -3.828125 Z M 5.90625 -3.828125 \"/>\n",
       "</symbol>\n",
       "<symbol overflow=\"visible\" id=\"glyph0-7\">\n",
       "<path style=\"stroke:none;\" d=\"M 5.328125 -5.84375 L 5.328125 -7.890625 C 5.21875 -7.90625 5.140625 -7.90625 5.078125 -7.90625 C 4.15625 -7.90625 3.359375 -7.296875 2.921875 -6.25 L 2.921875 -7.78125 L 0.90625 -7.78125 L 0.90625 0 L 2.921875 0 L 2.921875 -4.140625 C 2.921875 -5.3125 3.515625 -5.90625 4.703125 -5.90625 C 4.90625 -5.90625 5.0625 -5.890625 5.328125 -5.84375 Z M 5.328125 -5.84375 \"/>\n",
       "</symbol>\n",
       "<symbol overflow=\"visible\" id=\"glyph0-8\">\n",
       "<path style=\"stroke:none;\" d=\"M 7.546875 0 L 7.546875 -0.25 C 7.1875 -0.578125 7.09375 -0.796875 7.09375 -1.203125 L 7.09375 -5.515625 C 7.09375 -7.109375 6 -7.90625 3.90625 -7.90625 C 1.796875 -7.90625 0.703125 -7.015625 0.578125 -5.21875 L 2.515625 -5.21875 C 2.625 -6.015625 2.953125 -6.28125 3.953125 -6.28125 C 4.71875 -6.28125 5.109375 -6.015625 5.109375 -5.5 C 5.109375 -4.6875 4.515625 -4.765625 3.5 -4.59375 L 2.6875 -4.453125 C 1.15625 -4.171875 0.40625 -3.515625 0.40625 -2.109375 C 0.40625 -0.59375 1.46875 0.125 2.765625 0.125 C 3.625 0.125 4.421875 -0.25 5.125 -0.984375 C 5.125 -0.578125 5.171875 -0.234375 5.359375 0 Z M 5.109375 -3.328125 C 5.109375 -2.15625 4.53125 -1.5 3.515625 -1.5 C 2.84375 -1.5 2.421875 -1.75 2.421875 -2.328125 C 2.421875 -2.921875 2.734375 -3.140625 3.578125 -3.296875 L 4.265625 -3.421875 C 4.796875 -3.53125 4.890625 -3.5625 5.109375 -3.671875 Z M 5.109375 -3.328125 \"/>\n",
       "</symbol>\n",
       "<symbol overflow=\"visible\" id=\"glyph0-9\">\n",
       "<path style=\"stroke:none;\" d=\"M 11.875 0 L 11.875 -5.5 C 11.875 -7.015625 10.953125 -7.90625 9.390625 -7.90625 C 8.40625 -7.90625 7.71875 -7.5625 7.109375 -6.75 C 6.734375 -7.484375 5.96875 -7.90625 5 -7.90625 C 4.109375 -7.90625 3.53125 -7.609375 2.859375 -6.8125 L 2.859375 -7.78125 L 0.859375 -7.78125 L 0.859375 0 L 2.875 0 L 2.875 -4.671875 C 2.875 -5.625 3.40625 -6.1875 4.265625 -6.1875 C 4.9375 -6.1875 5.359375 -5.8125 5.359375 -5.1875 L 5.359375 0 L 7.375 0 L 7.375 -4.671875 C 7.375 -5.625 7.890625 -6.1875 8.765625 -6.1875 C 9.4375 -6.1875 9.859375 -5.8125 9.859375 -5.1875 L 9.859375 0 Z M 11.875 0 \"/>\n",
       "</symbol>\n",
       "<symbol overflow=\"visible\" id=\"glyph0-10\">\n",
       "<path style=\"stroke:none;\" d=\"\"/>\n",
       "</symbol>\n",
       "<symbol overflow=\"visible\" id=\"glyph0-11\">\n",
       "<path style=\"stroke:none;\" d=\"M 4.515625 -6.28125 L 4.515625 -7.625 L 3.3125 -7.625 L 3.3125 -8.390625 C 3.3125 -8.78125 3.484375 -8.984375 3.859375 -8.984375 C 4.03125 -8.984375 4.265625 -8.96875 4.4375 -8.953125 L 4.4375 -10.453125 C 4.0625 -10.484375 3.5625 -10.5 3.28125 -10.5 C 1.9375 -10.5 1.296875 -9.875 1.296875 -8.5625 L 1.296875 -7.625 L 0.203125 -7.625 L 0.203125 -6.28125 L 1.296875 -6.28125 L 1.296875 0 L 3.3125 0 L 3.3125 -6.28125 Z M 4.515625 -6.28125 \"/>\n",
       "</symbol>\n",
       "<symbol overflow=\"visible\" id=\"glyph0-12\">\n",
       "<path style=\"stroke:none;\" d=\"M 11.03125 -7.78125 L 8.953125 -7.78125 L 7.765625 -2.328125 L 6.59375 -7.78125 L 4.578125 -7.78125 L 3.40625 -2.328125 L 2.15625 -7.78125 L 0.078125 -7.78125 L 2.265625 0 L 4.34375 0 L 5.578125 -5.484375 L 6.734375 0 L 8.828125 0 Z M 11.03125 -7.78125 \"/>\n",
       "</symbol>\n",
       "<symbol overflow=\"visible\" id=\"glyph0-13\">\n",
       "<path style=\"stroke:none;\" d=\"M 7.84375 0 L 7.84375 -10.5 L 5.828125 -10.5 L 5.828125 -6.765625 C 5.328125 -7.546875 4.65625 -7.90625 3.6875 -7.90625 C 1.828125 -7.90625 0.421875 -6.21875 0.421875 -3.875 C 0.421875 -1.671875 1.625 0.125 3.6875 0.125 C 4.65625 0.125 5.328125 -0.234375 5.828125 -0.890625 L 5.828125 0 Z M 5.828125 -3.84375 C 5.828125 -2.4375 5.140625 -1.5625 4.140625 -1.5625 C 3.125 -1.5625 2.4375 -2.453125 2.4375 -3.875 C 2.4375 -5.3125 3.125 -6.21875 4.140625 -6.21875 C 5.15625 -6.21875 5.828125 -5.328125 5.828125 -3.84375 Z M 5.828125 -3.84375 \"/>\n",
       "</symbol>\n",
       "<symbol overflow=\"visible\" id=\"glyph0-14\">\n",
       "<path style=\"stroke:none;\" d=\"M 9.875 -3.59375 L 7.765625 -3.59375 C 7.640625 -2.25 6.78125 -1.640625 5.453125 -1.640625 C 3.78125 -1.640625 2.796875 -2.921875 2.796875 -5.21875 C 2.796875 -7.53125 3.8125 -8.828125 5.515625 -8.828125 C 6.6875 -8.828125 7.453125 -8.296875 7.765625 -6.9375 L 9.828125 -6.9375 C 9.640625 -9.359375 7.8125 -10.671875 5.453125 -10.671875 C 2.484375 -10.671875 0.640625 -8.640625 0.640625 -5.25 C 0.640625 -1.875 2.46875 0.171875 5.390625 0.171875 C 8 0.171875 9.734375 -1.1875 9.875 -3.59375 Z M 9.875 -3.59375 \"/>\n",
       "</symbol>\n",
       "<symbol overflow=\"visible\" id=\"glyph0-15\">\n",
       "<path style=\"stroke:none;\" d=\"M 7.796875 0 L 7.796875 -7.78125 L 5.78125 -7.78125 L 5.78125 -3.109375 C 5.78125 -2.1875 5.125 -1.578125 4.15625 -1.578125 C 3.28125 -1.578125 2.859375 -2.046875 2.859375 -2.984375 L 2.859375 -7.78125 L 0.828125 -7.78125 L 0.828125 -2.5625 C 0.828125 -0.84375 1.78125 0.125 3.4375 0.125 C 4.5 0.125 5.203125 -0.265625 5.78125 -1.015625 L 5.78125 0 Z M 7.796875 0 \"/>\n",
       "</symbol>\n",
       "<symbol overflow=\"visible\" id=\"glyph0-16\">\n",
       "<path style=\"stroke:none;\" d=\"M 7.859375 0 L 7.859375 -5.21875 C 7.859375 -6.921875 6.921875 -7.90625 5.265625 -7.90625 C 4.203125 -7.90625 3.5 -7.515625 2.921875 -6.65625 L 2.921875 -7.78125 L 0.90625 -7.78125 L 0.90625 0 L 2.921875 0 L 2.921875 -4.671875 C 2.921875 -5.59375 3.578125 -6.1875 4.546875 -6.1875 C 5.421875 -6.1875 5.84375 -5.71875 5.84375 -4.796875 L 5.84375 0 Z M 7.859375 0 \"/>\n",
       "</symbol>\n",
       "<symbol overflow=\"visible\" id=\"glyph1-0\">\n",
       "<path style=\"stroke:none;\" d=\"\"/>\n",
       "</symbol>\n",
       "<symbol overflow=\"visible\" id=\"glyph1-1\">\n",
       "<path style=\"stroke:none;\" d=\"M 8.5 -6.28125 L 7.375 -6.28125 L 6.125 -1.390625 L 4.890625 -6.28125 L 3.65625 -6.28125 L 2.453125 -1.390625 L 1.171875 -6.28125 L 0.078125 -6.28125 L 1.890625 0 L 3.03125 0 L 4.234375 -4.9375 L 5.515625 0 L 6.640625 0 Z M 8.5 -6.28125 \"/>\n",
       "</symbol>\n",
       "<symbol overflow=\"visible\" id=\"glyph1-2\">\n",
       "<path style=\"stroke:none;\" d=\"M 6.125 -3.09375 C 6.125 -5.265625 5.078125 -6.46875 3.265625 -6.46875 C 1.5 -6.46875 0.4375 -5.25 0.4375 -3.140625 C 0.4375 -1.03125 1.484375 0.1875 3.28125 0.1875 C 5.046875 0.1875 6.125 -1.03125 6.125 -3.09375 Z M 5.078125 -3.109375 C 5.078125 -1.625 4.375 -0.75 3.28125 -0.75 C 2.15625 -0.75 1.46875 -1.625 1.46875 -3.140625 C 1.46875 -4.65625 2.15625 -5.546875 3.28125 -5.546875 C 4.40625 -5.546875 5.078125 -4.671875 5.078125 -3.109375 Z M 5.078125 -3.109375 \"/>\n",
       "</symbol>\n",
       "<symbol overflow=\"visible\" id=\"glyph1-3\">\n",
       "<path style=\"stroke:none;\" d=\"M 3.859375 -5.40625 L 3.859375 -6.4375 C 3.6875 -6.453125 3.59375 -6.46875 3.46875 -6.46875 C 2.8125 -6.46875 2.328125 -6.078125 1.75 -5.140625 L 1.75 -6.28125 L 0.84375 -6.28125 L 0.84375 0 L 1.84375 0 L 1.84375 -3.265625 C 1.84375 -4.6875 2.296875 -5.390625 3.859375 -5.40625 Z M 3.859375 -5.40625 \"/>\n",
       "</symbol>\n",
       "<symbol overflow=\"visible\" id=\"glyph1-4\">\n",
       "<path style=\"stroke:none;\" d=\"M 5.9375 0 L 5.9375 -8.75 L 4.9375 -8.75 L 4.9375 -5.5 C 4.53125 -6.125 3.859375 -6.46875 3.015625 -6.46875 C 1.375 -6.46875 0.3125 -5.203125 0.3125 -3.203125 C 0.3125 -1.078125 1.359375 0.1875 3.046875 0.1875 C 3.90625 0.1875 4.515625 -0.140625 5.046875 -0.921875 L 5.046875 0 Z M 4.9375 -3.125 C 4.9375 -1.671875 4.25 -0.75 3.1875 -0.75 C 2.09375 -0.75 1.359375 -1.6875 1.359375 -3.140625 C 1.359375 -4.609375 2.09375 -5.53125 3.1875 -5.53125 C 4.265625 -5.53125 4.9375 -4.578125 4.9375 -3.125 Z M 4.9375 -3.125 \"/>\n",
       "</symbol>\n",
       "<symbol overflow=\"visible\" id=\"glyph1-5\">\n",
       "<path style=\"stroke:none;\" d=\"M 8.125 -3.1875 L 6.96875 -3.1875 C 6.703125 -1.53125 6.015625 -0.765625 4.53125 -0.765625 C 2.796875 -0.765625 1.6875 -2.09375 1.6875 -4.28125 C 1.6875 -6.53125 2.75 -7.984375 4.4375 -7.984375 C 5.8125 -7.984375 6.53125 -7.375 6.796875 -6.03125 L 7.9375 -6.03125 C 7.59375 -7.953125 6.484375 -8.96875 4.578125 -8.96875 C 1.921875 -8.96875 0.578125 -6.828125 0.578125 -4.265625 C 0.578125 -1.71875 1.953125 0.21875 4.53125 0.21875 C 6.65625 0.21875 7.859375 -0.90625 8.125 -3.1875 Z M 8.125 -3.1875 \"/>\n",
       "</symbol>\n",
       "<symbol overflow=\"visible\" id=\"glyph1-6\">\n",
       "<path style=\"stroke:none;\" d=\"M 5.78125 0 L 5.78125 -6.28125 L 4.78125 -6.28125 L 4.78125 -2.8125 C 4.78125 -1.53125 4.109375 -0.703125 3.078125 -0.703125 C 2.28125 -0.703125 1.78125 -1.171875 1.78125 -1.9375 L 1.78125 -6.28125 L 0.78125 -6.28125 L 0.78125 -1.53125 C 0.78125 -0.484375 1.5625 0.1875 2.78125 0.1875 C 3.703125 0.1875 4.296875 -0.140625 4.890625 -0.96875 L 4.890625 0 Z M 5.78125 0 \"/>\n",
       "</symbol>\n",
       "<symbol overflow=\"visible\" id=\"glyph1-7\">\n",
       "<path style=\"stroke:none;\" d=\"M 5.84375 0 L 5.84375 -4.75 C 5.84375 -5.796875 5.0625 -6.46875 3.859375 -6.46875 C 2.921875 -6.46875 2.3125 -6.109375 1.765625 -5.234375 L 1.765625 -6.28125 L 0.84375 -6.28125 L 0.84375 0 L 1.84375 0 L 1.84375 -3.46875 C 1.84375 -4.75 2.53125 -5.59375 3.546875 -5.59375 C 4.34375 -5.59375 4.84375 -5.109375 4.84375 -4.359375 L 4.84375 0 Z M 5.84375 0 \"/>\n",
       "</symbol>\n",
       "<symbol overflow=\"visible\" id=\"glyph1-8\">\n",
       "<path style=\"stroke:none;\" d=\"M 3.046875 0 L 3.046875 -0.84375 C 2.921875 -0.796875 2.765625 -0.796875 2.5625 -0.796875 C 2.140625 -0.796875 2.015625 -0.90625 2.015625 -1.359375 L 2.015625 -5.46875 L 3.046875 -5.46875 L 3.046875 -6.28125 L 2.015625 -6.28125 L 2.015625 -8.015625 L 1.015625 -8.015625 L 1.015625 -6.28125 L 0.171875 -6.28125 L 0.171875 -5.46875 L 1.015625 -5.46875 L 1.015625 -0.90625 C 1.015625 -0.28125 1.453125 0.078125 2.234375 0.078125 C 2.46875 0.078125 2.71875 0.0625 3.046875 0 Z M 3.046875 0 \"/>\n",
       "</symbol>\n",
       "<symbol overflow=\"visible\" id=\"glyph1-9\">\n",
       "<path style=\"stroke:none;\" d=\"M 6.078125 -4.09375 C 6.078125 -7.046875 5.140625 -8.515625 3.296875 -8.515625 C 1.46875 -8.515625 0.515625 -7.015625 0.515625 -4.15625 C 0.515625 -1.296875 1.46875 0.1875 3.296875 0.1875 C 5.09375 0.1875 6.078125 -1.296875 6.078125 -4.09375 Z M 5 -4.1875 C 5 -1.78125 4.453125 -0.703125 3.28125 -0.703125 C 2.15625 -0.703125 1.59375 -1.828125 1.59375 -4.15625 C 1.59375 -6.484375 2.15625 -7.578125 3.296875 -7.578125 C 4.4375 -7.578125 5 -6.46875 5 -4.1875 Z M 5 -4.1875 \"/>\n",
       "</symbol>\n",
       "<symbol overflow=\"visible\" id=\"glyph1-10\">\n",
       "<path style=\"stroke:none;\" d=\"M 4.15625 0 L 4.15625 -8.515625 L 3.46875 -8.515625 C 3.09375 -7.203125 2.859375 -7.015625 1.21875 -6.8125 L 1.21875 -6.0625 L 3.109375 -6.0625 L 3.109375 0 Z M 4.15625 0 \"/>\n",
       "</symbol>\n",
       "<symbol overflow=\"visible\" id=\"glyph1-11\">\n",
       "<path style=\"stroke:none;\" d=\"M 6.125 -6.015625 C 6.125 -7.453125 5.015625 -8.515625 3.40625 -8.515625 C 1.671875 -8.515625 0.65625 -7.625 0.59375 -5.5625 L 1.65625 -5.5625 C 1.734375 -6.984375 2.328125 -7.578125 3.375 -7.578125 C 4.328125 -7.578125 5.046875 -6.90625 5.046875 -5.984375 C 5.046875 -5.3125 4.65625 -4.734375 3.90625 -4.3125 L 2.796875 -3.6875 C 1.015625 -2.671875 0.5 -1.875 0.40625 0 L 6.078125 0 L 6.078125 -1.046875 L 1.59375 -1.046875 C 1.703125 -1.734375 2.09375 -2.1875 3.125 -2.796875 L 4.328125 -3.4375 C 5.515625 -4.078125 6.125 -4.96875 6.125 -6.015625 Z M 6.125 -6.015625 \"/>\n",
       "</symbol>\n",
       "<symbol overflow=\"visible\" id=\"glyph1-12\">\n",
       "<path style=\"stroke:none;\" d=\"M 6.078125 -2.46875 C 6.078125 -3.5 5.65625 -4.109375 4.625 -4.453125 C 5.421875 -4.765625 5.8125 -5.3125 5.8125 -6.171875 C 5.8125 -7.625 4.84375 -8.515625 3.234375 -8.515625 C 1.515625 -8.515625 0.59375 -7.578125 0.5625 -5.765625 L 1.625 -5.765625 C 1.640625 -7.015625 2.15625 -7.578125 3.234375 -7.578125 C 4.171875 -7.578125 4.734375 -7.03125 4.734375 -6.125 C 4.734375 -5.21875 4.34375 -4.84375 2.65625 -4.84375 L 2.65625 -3.953125 L 3.234375 -3.953125 C 4.390625 -3.953125 4.984375 -3.40625 4.984375 -2.453125 C 4.984375 -1.390625 4.328125 -0.75 3.234375 -0.75 C 2.078125 -0.75 1.515625 -1.328125 1.4375 -2.5625 L 0.390625 -2.5625 C 0.515625 -0.671875 1.453125 0.1875 3.1875 0.1875 C 4.9375 0.1875 6.078125 -0.859375 6.078125 -2.46875 Z M 6.078125 -2.46875 \"/>\n",
       "</symbol>\n",
       "<symbol overflow=\"visible\" id=\"glyph1-13\">\n",
       "<path style=\"stroke:none;\" d=\"M 6.234375 -2.046875 L 6.234375 -2.984375 L 4.984375 -2.984375 L 4.984375 -8.515625 L 4.203125 -8.515625 L 0.34375 -3.15625 L 0.34375 -2.046875 L 3.921875 -2.046875 L 3.921875 0 L 4.984375 0 L 4.984375 -2.046875 Z M 3.921875 -2.984375 L 1.265625 -2.984375 L 3.921875 -6.703125 Z M 3.921875 -2.984375 \"/>\n",
       "</symbol>\n",
       "<symbol overflow=\"visible\" id=\"glyph2-0\">\n",
       "<path style=\"stroke:none;\" d=\"\"/>\n",
       "</symbol>\n",
       "<symbol overflow=\"visible\" id=\"glyph2-1\">\n",
       "<path style=\"stroke:none;\" d=\"M -7.765625 -6.953125 L -8.75 -6.953125 L -8.75 -1.078125 L 0 -1.078125 L 0 -2.203125 L -3.984375 -2.203125 L -3.984375 -6.375 L -4.96875 -6.375 L -4.96875 -2.203125 L -7.765625 -2.203125 Z M -7.765625 -6.953125 \"/>\n",
       "</symbol>\n",
       "<symbol overflow=\"visible\" id=\"glyph2-2\">\n",
       "<path style=\"stroke:none;\" d=\"M -5.40625 -3.859375 L -6.4375 -3.859375 C -6.453125 -3.6875 -6.46875 -3.59375 -6.46875 -3.46875 C -6.46875 -2.8125 -6.078125 -2.328125 -5.140625 -1.75 L -6.28125 -1.75 L -6.28125 -0.84375 L 0 -0.84375 L 0 -1.84375 L -3.265625 -1.84375 C -4.6875 -1.84375 -5.390625 -2.296875 -5.40625 -3.859375 Z M -5.40625 -3.859375 \"/>\n",
       "</symbol>\n",
       "<symbol overflow=\"visible\" id=\"glyph2-3\">\n",
       "<path style=\"stroke:none;\" d=\"M -2.859375 -6.15625 C -3.765625 -6.15625 -4.34375 -6.078125 -4.8125 -5.90625 C -5.84375 -5.5 -6.46875 -4.53125 -6.46875 -3.359375 C -6.46875 -1.609375 -5.171875 -0.484375 -3.109375 -0.484375 C -1.046875 -0.484375 0.1875 -1.578125 0.1875 -3.34375 C 0.1875 -4.78125 -0.640625 -5.765625 -1.90625 -6.03125 L -1.90625 -5.015625 C -1.078125 -4.734375 -0.75 -4.171875 -0.75 -3.375 C -0.75 -2.328125 -1.421875 -1.546875 -2.859375 -1.53125 Z M -3.75 -5.09375 C -3.75 -5.09375 -3.703125 -5.09375 -3.671875 -5.078125 L -3.671875 -1.546875 C -4.78125 -1.625 -5.546875 -2.34375 -5.546875 -3.34375 C -5.546875 -4.328125 -4.734375 -5.09375 -3.75 -5.09375 Z M -3.75 -5.09375 \"/>\n",
       "</symbol>\n",
       "<symbol overflow=\"visible\" id=\"glyph2-4\">\n",
       "<path style=\"stroke:none;\" d=\"M 2.609375 -5.9375 L -6.28125 -5.9375 L -6.28125 -5.046875 L -5.453125 -5.046875 C -6.109375 -4.578125 -6.46875 -3.875 -6.46875 -3.046875 C -6.46875 -1.390625 -5.15625 -0.3125 -3.078125 -0.3125 C -1.03125 -0.3125 0.1875 -1.34375 0.1875 -3 C 0.1875 -3.875 -0.125 -4.46875 -0.8125 -4.9375 L 2.609375 -4.9375 Z M -3.109375 -4.9375 C -1.671875 -4.9375 -0.75 -4.25 -0.75 -3.1875 C -0.75 -2.09375 -1.6875 -1.359375 -3.140625 -1.359375 C -4.59375 -1.359375 -5.53125 -2.09375 -5.53125 -3.1875 C -5.53125 -4.265625 -4.578125 -4.9375 -3.109375 -4.9375 Z M -3.109375 -4.9375 \"/>\n",
       "</symbol>\n",
       "<symbol overflow=\"visible\" id=\"glyph2-5\">\n",
       "<path style=\"stroke:none;\" d=\"M 0 -5.78125 L -6.28125 -5.78125 L -6.28125 -4.78125 L -2.8125 -4.78125 C -1.53125 -4.78125 -0.703125 -4.109375 -0.703125 -3.078125 C -0.703125 -2.28125 -1.171875 -1.78125 -1.9375 -1.78125 L -6.28125 -1.78125 L -6.28125 -0.78125 L -1.53125 -0.78125 C -0.484375 -0.78125 0.1875 -1.5625 0.1875 -2.78125 C 0.1875 -3.703125 -0.140625 -4.296875 -0.96875 -4.890625 L 0 -4.890625 Z M 0 -5.78125 \"/>\n",
       "</symbol>\n",
       "<symbol overflow=\"visible\" id=\"glyph2-6\">\n",
       "<path style=\"stroke:none;\" d=\"M 0 -5.84375 L -4.75 -5.84375 C -5.796875 -5.84375 -6.46875 -5.0625 -6.46875 -3.859375 C -6.46875 -2.921875 -6.109375 -2.3125 -5.234375 -1.765625 L -6.28125 -1.765625 L -6.28125 -0.84375 L 0 -0.84375 L 0 -1.84375 L -3.46875 -1.84375 C -4.75 -1.84375 -5.59375 -2.53125 -5.59375 -3.546875 C -5.59375 -4.34375 -5.109375 -4.84375 -4.359375 -4.84375 L 0 -4.84375 Z M 0 -5.84375 \"/>\n",
       "</symbol>\n",
       "<symbol overflow=\"visible\" id=\"glyph2-7\">\n",
       "<path style=\"stroke:none;\" d=\"M -2.15625 -5.71875 L -2.15625 -4.71875 C -1.15625 -4.546875 -0.75 -4.03125 -0.75 -3.1875 C -0.75 -2.078125 -1.59375 -1.421875 -3.078125 -1.421875 C -4.65625 -1.421875 -5.546875 -2.0625 -5.546875 -3.15625 C -5.546875 -4 -5.046875 -4.53125 -4.171875 -4.640625 L -4.171875 -5.65625 C -5.71875 -5.53125 -6.46875 -4.578125 -6.46875 -3.171875 C -6.46875 -1.46875 -5.171875 -0.375 -3.078125 -0.375 C -1.0625 -0.375 0.1875 -1.453125 0.1875 -3.15625 C 0.1875 -4.65625 -0.71875 -5.609375 -2.15625 -5.71875 Z M -2.15625 -5.71875 \"/>\n",
       "</symbol>\n",
       "<symbol overflow=\"visible\" id=\"glyph2-8\">\n",
       "<path style=\"stroke:none;\" d=\"M -6.28125 -5.734375 L -6.28125 -4.65625 L -1.390625 -2.921875 L -6.28125 -1.3125 L -6.28125 -0.234375 L 0.03125 -2.359375 L 1.015625 -1.984375 C 1.46875 -1.8125 1.625 -1.609375 1.625 -1.171875 C 1.625 -1.03125 1.609375 -0.859375 1.5625 -0.640625 L 2.453125 -0.640625 C 2.5625 -0.859375 2.609375 -1.0625 2.609375 -1.3125 C 2.609375 -2.03125 2.21875 -2.609375 1.3125 -2.9375 Z M -6.28125 -5.734375 \"/>\n",
       "</symbol>\n",
       "<symbol overflow=\"visible\" id=\"glyph2-9\">\n",
       "<path style=\"stroke:none;\" d=\"M -4.09375 -6.078125 C -7.046875 -6.078125 -8.515625 -5.140625 -8.515625 -3.296875 C -8.515625 -1.46875 -7.015625 -0.515625 -4.15625 -0.515625 C -1.296875 -0.515625 0.1875 -1.46875 0.1875 -3.296875 C 0.1875 -5.09375 -1.296875 -6.078125 -4.09375 -6.078125 Z M -4.1875 -5 C -1.78125 -5 -0.703125 -4.453125 -0.703125 -3.28125 C -0.703125 -2.15625 -1.828125 -1.59375 -4.15625 -1.59375 C -6.484375 -1.59375 -7.578125 -2.15625 -7.578125 -3.296875 C -7.578125 -4.4375 -6.46875 -5 -4.1875 -5 Z M -4.1875 -5 \"/>\n",
       "</symbol>\n",
       "<symbol overflow=\"visible\" id=\"glyph2-10\">\n",
       "<path style=\"stroke:none;\" d=\"M -6.015625 -6.125 C -7.453125 -6.125 -8.515625 -5.015625 -8.515625 -3.40625 C -8.515625 -1.671875 -7.625 -0.65625 -5.5625 -0.59375 L -5.5625 -1.65625 C -6.984375 -1.734375 -7.578125 -2.328125 -7.578125 -3.375 C -7.578125 -4.328125 -6.90625 -5.046875 -5.984375 -5.046875 C -5.3125 -5.046875 -4.734375 -4.65625 -4.3125 -3.90625 L -3.6875 -2.796875 C -2.671875 -1.015625 -1.875 -0.5 0 -0.40625 L 0 -6.078125 L -1.046875 -6.078125 L -1.046875 -1.59375 C -1.734375 -1.703125 -2.1875 -2.09375 -2.796875 -3.125 L -3.4375 -4.328125 C -4.078125 -5.515625 -4.96875 -6.125 -6.015625 -6.125 Z M -6.015625 -6.125 \"/>\n",
       "</symbol>\n",
       "<symbol overflow=\"visible\" id=\"glyph2-11\">\n",
       "<path style=\"stroke:none;\" d=\"M -2.046875 -6.234375 L -2.984375 -6.234375 L -2.984375 -4.984375 L -8.515625 -4.984375 L -8.515625 -4.203125 L -3.15625 -0.34375 L -2.046875 -0.34375 L -2.046875 -3.921875 L 0 -3.921875 L 0 -4.984375 L -2.046875 -4.984375 Z M -2.984375 -3.921875 L -2.984375 -1.265625 L -6.703125 -3.921875 Z M -2.984375 -3.921875 \"/>\n",
       "</symbol>\n",
       "</g>\n",
       "</defs>\n",
       "<g id=\"surface143\">\n",
       "<rect x=\"0\" y=\"0\" width=\"432\" height=\"288\" style=\"fill:rgb(100%,100%,100%);fill-opacity:1;stroke:none;\"/>\n",
       "<g style=\"fill:rgb(0%,0%,0%);fill-opacity:1;\">\n",
       "  <use xlink:href=\"#glyph0-1\" x=\"145.898438\" y=\"34.21875\"/>\n",
       "  <use xlink:href=\"#glyph0-2\" x=\"156.299805\" y=\"34.21875\"/>\n",
       "  <use xlink:href=\"#glyph0-3\" x=\"160.304688\" y=\"34.21875\"/>\n",
       "  <use xlink:href=\"#glyph0-4\" x=\"168.314453\" y=\"34.21875\"/>\n",
       "  <use xlink:href=\"#glyph0-5\" x=\"172.967773\" y=\"34.21875\"/>\n",
       "  <use xlink:href=\"#glyph0-6\" x=\"181.769531\" y=\"34.21875\"/>\n",
       "  <use xlink:href=\"#glyph0-7\" x=\"190.571289\" y=\"34.21875\"/>\n",
       "  <use xlink:href=\"#glyph0-8\" x=\"196.24707\" y=\"34.21875\"/>\n",
       "  <use xlink:href=\"#glyph0-9\" x=\"204.256836\" y=\"34.21875\"/>\n",
       "  <use xlink:href=\"#glyph0-10\" x=\"217.063477\" y=\"34.21875\"/>\n",
       "  <use xlink:href=\"#glyph0-5\" x=\"221.068359\" y=\"34.21875\"/>\n",
       "  <use xlink:href=\"#glyph0-11\" x=\"229.870117\" y=\"34.21875\"/>\n",
       "  <use xlink:href=\"#glyph0-10\" x=\"234.666992\" y=\"34.21875\"/>\n",
       "  <use xlink:href=\"#glyph0-12\" x=\"238.671875\" y=\"34.21875\"/>\n",
       "  <use xlink:href=\"#glyph0-5\" x=\"249.736328\" y=\"34.21875\"/>\n",
       "  <use xlink:href=\"#glyph0-7\" x=\"258.538086\" y=\"34.21875\"/>\n",
       "  <use xlink:href=\"#glyph0-13\" x=\"264.142578\" y=\"34.21875\"/>\n",
       "  <use xlink:href=\"#glyph0-14\" x=\"272.944336\" y=\"34.21875\"/>\n",
       "  <use xlink:href=\"#glyph0-5\" x=\"283.345703\" y=\"34.21875\"/>\n",
       "  <use xlink:href=\"#glyph0-15\" x=\"292.147461\" y=\"34.21875\"/>\n",
       "  <use xlink:href=\"#glyph0-16\" x=\"300.949219\" y=\"34.21875\"/>\n",
       "  <use xlink:href=\"#glyph0-4\" x=\"309.750977\" y=\"34.21875\"/>\n",
       "</g>\n",
       "<g style=\"fill:rgb(0%,0%,0%);fill-opacity:1;\">\n",
       "  <use xlink:href=\"#glyph1-1\" x=\"201.398438\" y=\"269.057617\"/>\n",
       "  <use xlink:href=\"#glyph1-2\" x=\"209.943359\" y=\"269.057617\"/>\n",
       "  <use xlink:href=\"#glyph1-3\" x=\"216.615234\" y=\"269.057617\"/>\n",
       "  <use xlink:href=\"#glyph1-4\" x=\"220.611328\" y=\"269.057617\"/>\n",
       "  <use xlink:href=\"#glyph1-5\" x=\"227.283203\" y=\"269.057617\"/>\n",
       "  <use xlink:href=\"#glyph1-2\" x=\"235.947266\" y=\"269.057617\"/>\n",
       "  <use xlink:href=\"#glyph1-6\" x=\"242.619141\" y=\"269.057617\"/>\n",
       "  <use xlink:href=\"#glyph1-7\" x=\"249.291016\" y=\"269.057617\"/>\n",
       "  <use xlink:href=\"#glyph1-8\" x=\"255.962891\" y=\"269.057617\"/>\n",
       "</g>\n",
       "<g style=\"fill:rgb(0%,0%,0%);fill-opacity:1;\">\n",
       "  <use xlink:href=\"#glyph2-1\" x=\"12.737305\" y=\"165.300781\"/>\n",
       "  <use xlink:href=\"#glyph2-2\" x=\"12.737305\" y=\"158.388672\"/>\n",
       "  <use xlink:href=\"#glyph2-3\" x=\"12.737305\" y=\"154.511719\"/>\n",
       "  <use xlink:href=\"#glyph2-4\" x=\"12.737305\" y=\"147.839844\"/>\n",
       "  <use xlink:href=\"#glyph2-5\" x=\"12.737305\" y=\"141.108398\"/>\n",
       "  <use xlink:href=\"#glyph2-3\" x=\"12.737305\" y=\"134.436523\"/>\n",
       "  <use xlink:href=\"#glyph2-6\" x=\"12.737305\" y=\"127.764648\"/>\n",
       "  <use xlink:href=\"#glyph2-7\" x=\"12.737305\" y=\"121.092773\"/>\n",
       "  <use xlink:href=\"#glyph2-8\" x=\"12.737305\" y=\"115.092773\"/>\n",
       "</g>\n",
       "<path style=\"fill:none;stroke-width:0.75;stroke-linecap:round;stroke-linejoin:round;stroke:rgb(0%,0%,0%);stroke-opacity:1;stroke-miterlimit:10;\" d=\"M 71.734375 214.558594 L 353.808594 214.558594 \"/>\n",
       "<path style=\"fill:none;stroke-width:0.75;stroke-linecap:round;stroke-linejoin:round;stroke:rgb(0%,0%,0%);stroke-opacity:1;stroke-miterlimit:10;\" d=\"M 71.734375 214.558594 L 71.734375 221.761719 \"/>\n",
       "<path style=\"fill:none;stroke-width:0.75;stroke-linecap:round;stroke-linejoin:round;stroke:rgb(0%,0%,0%);stroke-opacity:1;stroke-miterlimit:10;\" d=\"M 142.25 214.558594 L 142.25 221.761719 \"/>\n",
       "<path style=\"fill:none;stroke-width:0.75;stroke-linecap:round;stroke-linejoin:round;stroke:rgb(0%,0%,0%);stroke-opacity:1;stroke-miterlimit:10;\" d=\"M 212.769531 214.558594 L 212.769531 221.761719 \"/>\n",
       "<path style=\"fill:none;stroke-width:0.75;stroke-linecap:round;stroke-linejoin:round;stroke:rgb(0%,0%,0%);stroke-opacity:1;stroke-miterlimit:10;\" d=\"M 283.289062 214.558594 L 283.289062 221.761719 \"/>\n",
       "<path style=\"fill:none;stroke-width:0.75;stroke-linecap:round;stroke-linejoin:round;stroke:rgb(0%,0%,0%);stroke-opacity:1;stroke-miterlimit:10;\" d=\"M 353.808594 214.558594 L 353.808594 221.761719 \"/>\n",
       "<g style=\"fill:rgb(0%,0%,0%);fill-opacity:1;\">\n",
       "  <use xlink:href=\"#glyph1-9\" x=\"68.234375\" y=\"240.256836\"/>\n",
       "</g>\n",
       "<g style=\"fill:rgb(0%,0%,0%);fill-opacity:1;\">\n",
       "  <use xlink:href=\"#glyph1-10\" x=\"128.75\" y=\"240.256836\"/>\n",
       "  <use xlink:href=\"#glyph1-9\" x=\"135.421875\" y=\"240.256836\"/>\n",
       "  <use xlink:href=\"#glyph1-9\" x=\"142.09375\" y=\"240.256836\"/>\n",
       "  <use xlink:href=\"#glyph1-9\" x=\"148.765625\" y=\"240.256836\"/>\n",
       "</g>\n",
       "<g style=\"fill:rgb(0%,0%,0%);fill-opacity:1;\">\n",
       "  <use xlink:href=\"#glyph1-11\" x=\"199.269531\" y=\"240.256836\"/>\n",
       "  <use xlink:href=\"#glyph1-9\" x=\"205.941406\" y=\"240.256836\"/>\n",
       "  <use xlink:href=\"#glyph1-9\" x=\"212.613281\" y=\"240.256836\"/>\n",
       "  <use xlink:href=\"#glyph1-9\" x=\"219.285156\" y=\"240.256836\"/>\n",
       "</g>\n",
       "<g style=\"fill:rgb(0%,0%,0%);fill-opacity:1;\">\n",
       "  <use xlink:href=\"#glyph1-12\" x=\"269.789062\" y=\"240.256836\"/>\n",
       "  <use xlink:href=\"#glyph1-9\" x=\"276.460938\" y=\"240.256836\"/>\n",
       "  <use xlink:href=\"#glyph1-9\" x=\"283.132812\" y=\"240.256836\"/>\n",
       "  <use xlink:href=\"#glyph1-9\" x=\"289.804688\" y=\"240.256836\"/>\n",
       "</g>\n",
       "<g style=\"fill:rgb(0%,0%,0%);fill-opacity:1;\">\n",
       "  <use xlink:href=\"#glyph1-13\" x=\"340.308594\" y=\"240.256836\"/>\n",
       "  <use xlink:href=\"#glyph1-9\" x=\"346.980469\" y=\"240.256836\"/>\n",
       "  <use xlink:href=\"#glyph1-9\" x=\"353.652344\" y=\"240.256836\"/>\n",
       "  <use xlink:href=\"#glyph1-9\" x=\"360.324219\" y=\"240.256836\"/>\n",
       "</g>\n",
       "<path style=\"fill:none;stroke-width:0.75;stroke-linecap:round;stroke-linejoin:round;stroke:rgb(0%,0%,0%);stroke-opacity:1;stroke-miterlimit:10;\" d=\"M 59.039062 208.800781 L 59.039062 78.695312 \"/>\n",
       "<path style=\"fill:none;stroke-width:0.75;stroke-linecap:round;stroke-linejoin:round;stroke:rgb(0%,0%,0%);stroke-opacity:1;stroke-miterlimit:10;\" d=\"M 59.039062 208.800781 L 51.839844 208.800781 \"/>\n",
       "<path style=\"fill:none;stroke-width:0.75;stroke-linecap:round;stroke-linejoin:round;stroke:rgb(0%,0%,0%);stroke-opacity:1;stroke-miterlimit:10;\" d=\"M 59.039062 182.777344 L 51.839844 182.777344 \"/>\n",
       "<path style=\"fill:none;stroke-width:0.75;stroke-linecap:round;stroke-linejoin:round;stroke:rgb(0%,0%,0%);stroke-opacity:1;stroke-miterlimit:10;\" d=\"M 59.039062 156.757812 L 51.839844 156.757812 \"/>\n",
       "<path style=\"fill:none;stroke-width:0.75;stroke-linecap:round;stroke-linejoin:round;stroke:rgb(0%,0%,0%);stroke-opacity:1;stroke-miterlimit:10;\" d=\"M 59.039062 130.738281 L 51.839844 130.738281 \"/>\n",
       "<path style=\"fill:none;stroke-width:0.75;stroke-linecap:round;stroke-linejoin:round;stroke:rgb(0%,0%,0%);stroke-opacity:1;stroke-miterlimit:10;\" d=\"M 59.039062 104.714844 L 51.839844 104.714844 \"/>\n",
       "<path style=\"fill:none;stroke-width:0.75;stroke-linecap:round;stroke-linejoin:round;stroke:rgb(0%,0%,0%);stroke-opacity:1;stroke-miterlimit:10;\" d=\"M 59.039062 78.695312 L 51.839844 78.695312 \"/>\n",
       "<g style=\"fill:rgb(0%,0%,0%);fill-opacity:1;\">\n",
       "  <use xlink:href=\"#glyph2-9\" x=\"41.538086\" y=\"212.300781\"/>\n",
       "</g>\n",
       "<g style=\"fill:rgb(0%,0%,0%);fill-opacity:1;\">\n",
       "  <use xlink:href=\"#glyph2-10\" x=\"41.538086\" y=\"170.257812\"/>\n",
       "  <use xlink:href=\"#glyph2-9\" x=\"41.538086\" y=\"163.585938\"/>\n",
       "  <use xlink:href=\"#glyph2-9\" x=\"41.538086\" y=\"156.914062\"/>\n",
       "  <use xlink:href=\"#glyph2-9\" x=\"41.538086\" y=\"150.242188\"/>\n",
       "</g>\n",
       "<g style=\"fill:rgb(0%,0%,0%);fill-opacity:1;\">\n",
       "  <use xlink:href=\"#glyph2-11\" x=\"41.538086\" y=\"118.214844\"/>\n",
       "  <use xlink:href=\"#glyph2-9\" x=\"41.538086\" y=\"111.542969\"/>\n",
       "  <use xlink:href=\"#glyph2-9\" x=\"41.538086\" y=\"104.871094\"/>\n",
       "  <use xlink:href=\"#glyph2-9\" x=\"41.538086\" y=\"98.199219\"/>\n",
       "</g>\n",
       "<path style=\"fill:none;stroke-width:0.75;stroke-linecap:round;stroke-linejoin:round;stroke:rgb(0%,0%,0%);stroke-opacity:1;stroke-miterlimit:10;\" d=\"M 71.734375 208.800781 L 106.992188 208.800781 L 106.992188 64.800781 L 71.734375 64.800781 Z M 71.734375 208.800781 \"/>\n",
       "<path style=\"fill:none;stroke-width:0.75;stroke-linecap:round;stroke-linejoin:round;stroke:rgb(0%,0%,0%);stroke-opacity:1;stroke-miterlimit:10;\" d=\"M 106.992188 208.800781 L 142.25 208.800781 L 142.25 204.613281 L 106.992188 204.613281 Z M 106.992188 208.800781 \"/>\n",
       "<path style=\"fill:none;stroke-width:0.75;stroke-linecap:round;stroke-linejoin:round;stroke:rgb(0%,0%,0%);stroke-opacity:1;stroke-miterlimit:10;\" d=\"M 142.25 208.800781 L 177.507812 208.800781 L 177.507812 208.253906 L 142.25 208.253906 Z M 142.25 208.800781 \"/>\n",
       "<path style=\"fill:none;stroke-width:0.75;stroke-linecap:round;stroke-linejoin:round;stroke:rgb(0%,0%,0%);stroke-opacity:1;stroke-miterlimit:10;\" d=\"M 177.511719 208.800781 L 212.769531 208.800781 L 212.769531 208.644531 L 177.511719 208.644531 Z M 177.511719 208.800781 \"/>\n",
       "<path style=\"fill:none;stroke-width:0.75;stroke-linecap:round;stroke-linejoin:round;stroke:rgb(0%,0%,0%);stroke-opacity:1;stroke-miterlimit:10;\" d=\"M 212.769531 208.800781 L 248.027344 208.800781 L 248.027344 208.722656 L 212.769531 208.722656 Z M 212.769531 208.800781 \"/>\n",
       "<path style=\"fill:none;stroke-width:0.75;stroke-linecap:round;stroke-linejoin:round;stroke:rgb(0%,0%,0%);stroke-opacity:1;stroke-miterlimit:10;\" d=\"M 248.03125 208.800781 L 283.289062 208.800781 L 283.289062 208.773438 L 248.03125 208.773438 Z M 248.03125 208.800781 \"/>\n",
       "<path style=\"fill:none;stroke-width:0.75;stroke-linecap:round;stroke-linejoin:round;stroke:rgb(0%,0%,0%);stroke-opacity:1;stroke-miterlimit:10;\" d=\"M 283.289062 208.800781 L 318.546875 208.800781 Z M 283.289062 208.800781 \"/>\n",
       "<path style=\"fill:none;stroke-width:0.75;stroke-linecap:round;stroke-linejoin:round;stroke:rgb(0%,0%,0%);stroke-opacity:1;stroke-miterlimit:10;\" d=\"M 318.546875 208.800781 L 353.804688 208.800781 L 353.804688 208.773438 L 318.546875 208.773438 Z M 318.546875 208.800781 \"/>\n",
       "<path style=\"fill:none;stroke-width:0.75;stroke-linecap:round;stroke-linejoin:round;stroke:rgb(0%,0%,0%);stroke-opacity:1;stroke-miterlimit:10;\" d=\"M 353.808594 208.800781 L 389.066406 208.800781 L 389.066406 208.773438 L 353.808594 208.773438 Z M 353.808594 208.800781 \"/>\n",
       "</g>\n",
       "</svg>\n"
      ],
      "text/plain": [
       "Plot with title \"Histogram of wordCount\""
      ]
     },
     "metadata": {
      "image/svg+xml": {
       "isolated": true
      }
     },
     "output_type": "display_data"
    }
   ],
   "source": [
    "options(repr.plot.width=6, repr.plot.height=4)\n",
    "hist(wordCount)"
   ]
  },
  {
   "cell_type": "code",
   "execution_count": 76,
   "metadata": {
    "collapsed": false
   },
   "outputs": [
    {
     "data": {
      "image/png": "[encoded data removed]",
      "image/svg+xml": [
       "<?xml version=\"1.0\" encoding=\"UTF-8\"?>\n",
       "<svg xmlns=\"http://www.w3.org/2000/svg\" xmlns:xlink=\"http://www.w3.org/1999/xlink\" width=\"432pt\" height=\"288pt\" viewBox=\"0 0 432 288\" version=\"1.1\">\n",
       "<defs>\n",
       "<g>\n",
       "<symbol overflow=\"visible\" id=\"glyph0-0\">\n",
       "<path style=\"stroke:none;\" d=\"\"/>\n",
       "</symbol>\n",
       "<symbol overflow=\"visible\" id=\"glyph0-1\">\n",
       "<path style=\"stroke:none;\" d=\"M 9.46875 0 L 9.46875 -10.5 L 7.296875 -10.5 L 7.296875 -6.5625 L 3.140625 -6.5625 L 3.140625 -10.5 L 0.984375 -10.5 L 0.984375 0 L 3.140625 0 L 3.140625 -4.765625 L 7.296875 -4.765625 L 7.296875 0 Z M 9.46875 0 \"/>\n",
       "</symbol>\n",
       "<symbol overflow=\"visible\" id=\"glyph0-2\">\n",
       "<path style=\"stroke:none;\" d=\"M 2.984375 0 L 2.984375 -7.78125 L 0.96875 -7.78125 L 0.96875 0 Z M 3.015625 -8.71875 L 3.015625 -10.734375 L 1 -10.734375 L 1 -8.71875 Z M 3.015625 -8.71875 \"/>\n",
       "</symbol>\n",
       "<symbol overflow=\"visible\" id=\"glyph0-3\">\n",
       "<path style=\"stroke:none;\" d=\"M 7.484375 -2.3125 L 7.484375 -2.40625 C 7.484375 -3.296875 6.984375 -3.96875 5.96875 -4.265625 L 3.421875 -5 C 2.859375 -5.15625 2.703125 -5.28125 2.703125 -5.609375 C 2.703125 -6.03125 3.171875 -6.328125 3.875 -6.328125 C 4.84375 -6.328125 5.3125 -5.984375 5.328125 -5.265625 L 7.28125 -5.265625 C 7.25 -6.921875 5.984375 -7.90625 3.890625 -7.90625 C 1.921875 -7.90625 0.6875 -6.921875 0.6875 -5.3125 C 0.6875 -4.359375 0.953125 -3.84375 2.390625 -3.40625 L 4.796875 -2.65625 C 5.296875 -2.5 5.46875 -2.328125 5.46875 -2.125 C 5.46875 -1.640625 4.90625 -1.453125 3.96875 -1.453125 C 3.046875 -1.453125 2.5625 -1.625 2.390625 -2.46875 L 0.421875 -2.46875 C 0.46875 -0.765625 1.734375 0.125 4.09375 0.125 C 6.28125 0.125 7.484375 -0.734375 7.484375 -2.3125 Z M 7.484375 -2.3125 \"/>\n",
       "</symbol>\n",
       "<symbol overflow=\"visible\" id=\"glyph0-4\">\n",
       "<path style=\"stroke:none;\" d=\"M 4.34375 0 L 4.34375 -1.40625 C 4.140625 -1.390625 4.015625 -1.375 3.875 -1.375 C 3.34375 -1.375 3.21875 -1.53125 3.21875 -2.21875 L 3.21875 -6.28125 L 4.34375 -6.28125 L 4.34375 -7.625 L 3.21875 -7.625 L 3.21875 -9.703125 L 1.203125 -9.703125 L 1.203125 -7.625 L 0.203125 -7.625 L 0.203125 -6.28125 L 1.203125 -6.28125 L 1.203125 -1.671875 C 1.203125 -0.453125 1.84375 0.0625 3.171875 0.0625 C 3.609375 0.0625 3.96875 0.015625 4.34375 0 Z M 4.34375 0 \"/>\n",
       "</symbol>\n",
       "<symbol overflow=\"visible\" id=\"glyph0-5\">\n",
       "<path style=\"stroke:none;\" d=\"M 8.203125 -3.828125 C 8.203125 -6.46875 6.765625 -7.90625 4.34375 -7.90625 C 1.953125 -7.90625 0.5 -6.4375 0.5 -3.890625 C 0.5 -1.328125 1.953125 0.125 4.34375 0.125 C 6.71875 0.125 8.203125 -1.34375 8.203125 -3.828125 Z M 6.1875 -3.859375 C 6.1875 -2.40625 5.4375 -1.5 4.34375 -1.5 C 3.25 -1.5 2.515625 -2.40625 2.515625 -3.890625 C 2.515625 -5.375 3.25 -6.28125 4.34375 -6.28125 C 5.453125 -6.28125 6.1875 -5.390625 6.1875 -3.859375 Z M 6.1875 -3.859375 \"/>\n",
       "</symbol>\n",
       "<symbol overflow=\"visible\" id=\"glyph0-6\">\n",
       "<path style=\"stroke:none;\" d=\"M 7.796875 0.265625 L 7.796875 -7.78125 L 5.875 -7.78125 L 5.875 -6.578125 C 5.265625 -7.5 4.609375 -7.90625 3.71875 -7.90625 C 1.875 -7.90625 0.484375 -6.203125 0.484375 -3.796875 C 0.484375 -1.390625 1.75 0.125 3.671875 0.125 C 4.578125 0.125 5.125 -0.140625 5.875 -0.890625 L 5.875 0.265625 C 5.875 1.203125 5.171875 1.84375 4.15625 1.84375 C 3.40625 1.84375 2.890625 1.53125 2.734375 0.9375 L 0.640625 0.9375 C 0.671875 2.203125 1.953125 3.140625 4.09375 3.140625 C 6.4375 3.140625 7.796875 2.09375 7.796875 0.265625 Z M 5.90625 -3.828125 C 5.90625 -2.421875 5.171875 -1.5625 4.125 -1.5625 C 3.171875 -1.5625 2.5 -2.421875 2.5 -3.828125 C 2.5 -5.296875 3.171875 -6.21875 4.15625 -6.21875 C 5.15625 -6.21875 5.90625 -5.265625 5.90625 -3.828125 Z M 5.90625 -3.828125 \"/>\n",
       "</symbol>\n",
       "<symbol overflow=\"visible\" id=\"glyph0-7\">\n",
       "<path style=\"stroke:none;\" d=\"M 5.328125 -5.84375 L 5.328125 -7.890625 C 5.21875 -7.90625 5.140625 -7.90625 5.078125 -7.90625 C 4.15625 -7.90625 3.359375 -7.296875 2.921875 -6.25 L 2.921875 -7.78125 L 0.90625 -7.78125 L 0.90625 0 L 2.921875 0 L 2.921875 -4.140625 C 2.921875 -5.3125 3.515625 -5.90625 4.703125 -5.90625 C 4.90625 -5.90625 5.0625 -5.890625 5.328125 -5.84375 Z M 5.328125 -5.84375 \"/>\n",
       "</symbol>\n",
       "<symbol overflow=\"visible\" id=\"glyph0-8\">\n",
       "<path style=\"stroke:none;\" d=\"M 7.546875 0 L 7.546875 -0.25 C 7.1875 -0.578125 7.09375 -0.796875 7.09375 -1.203125 L 7.09375 -5.515625 C 7.09375 -7.109375 6 -7.90625 3.90625 -7.90625 C 1.796875 -7.90625 0.703125 -7.015625 0.578125 -5.21875 L 2.515625 -5.21875 C 2.625 -6.015625 2.953125 -6.28125 3.953125 -6.28125 C 4.71875 -6.28125 5.109375 -6.015625 5.109375 -5.5 C 5.109375 -4.6875 4.515625 -4.765625 3.5 -4.59375 L 2.6875 -4.453125 C 1.15625 -4.171875 0.40625 -3.515625 0.40625 -2.109375 C 0.40625 -0.59375 1.46875 0.125 2.765625 0.125 C 3.625 0.125 4.421875 -0.25 5.125 -0.984375 C 5.125 -0.578125 5.171875 -0.234375 5.359375 0 Z M 5.109375 -3.328125 C 5.109375 -2.15625 4.53125 -1.5 3.515625 -1.5 C 2.84375 -1.5 2.421875 -1.75 2.421875 -2.328125 C 2.421875 -2.921875 2.734375 -3.140625 3.578125 -3.296875 L 4.265625 -3.421875 C 4.796875 -3.53125 4.890625 -3.5625 5.109375 -3.671875 Z M 5.109375 -3.328125 \"/>\n",
       "</symbol>\n",
       "<symbol overflow=\"visible\" id=\"glyph0-9\">\n",
       "<path style=\"stroke:none;\" d=\"M 11.875 0 L 11.875 -5.5 C 11.875 -7.015625 10.953125 -7.90625 9.390625 -7.90625 C 8.40625 -7.90625 7.71875 -7.5625 7.109375 -6.75 C 6.734375 -7.484375 5.96875 -7.90625 5 -7.90625 C 4.109375 -7.90625 3.53125 -7.609375 2.859375 -6.8125 L 2.859375 -7.78125 L 0.859375 -7.78125 L 0.859375 0 L 2.875 0 L 2.875 -4.671875 C 2.875 -5.625 3.40625 -6.1875 4.265625 -6.1875 C 4.9375 -6.1875 5.359375 -5.8125 5.359375 -5.1875 L 5.359375 0 L 7.375 0 L 7.375 -4.671875 C 7.375 -5.625 7.890625 -6.1875 8.765625 -6.1875 C 9.4375 -6.1875 9.859375 -5.8125 9.859375 -5.1875 L 9.859375 0 Z M 11.875 0 \"/>\n",
       "</symbol>\n",
       "<symbol overflow=\"visible\" id=\"glyph0-10\">\n",
       "<path style=\"stroke:none;\" d=\"\"/>\n",
       "</symbol>\n",
       "<symbol overflow=\"visible\" id=\"glyph0-11\">\n",
       "<path style=\"stroke:none;\" d=\"M 4.515625 -6.28125 L 4.515625 -7.625 L 3.3125 -7.625 L 3.3125 -8.390625 C 3.3125 -8.78125 3.484375 -8.984375 3.859375 -8.984375 C 4.03125 -8.984375 4.265625 -8.96875 4.4375 -8.953125 L 4.4375 -10.453125 C 4.0625 -10.484375 3.5625 -10.5 3.28125 -10.5 C 1.9375 -10.5 1.296875 -9.875 1.296875 -8.5625 L 1.296875 -7.625 L 0.203125 -7.625 L 0.203125 -6.28125 L 1.296875 -6.28125 L 1.296875 0 L 3.3125 0 L 3.3125 -6.28125 Z M 4.515625 -6.28125 \"/>\n",
       "</symbol>\n",
       "<symbol overflow=\"visible\" id=\"glyph0-12\">\n",
       "<path style=\"stroke:none;\" d=\"M 2.984375 0 L 2.984375 -10.5 L 0.96875 -10.5 L 0.96875 0 Z M 2.984375 0 \"/>\n",
       "</symbol>\n",
       "<symbol overflow=\"visible\" id=\"glyph0-13\">\n",
       "<path style=\"stroke:none;\" d=\"M 4.359375 2.875 C 2.84375 -0.09375 2.34375 -1.703125 2.34375 -3.8125 C 2.34375 -5.921875 2.84375 -7.5625 4.359375 -10.5 L 2.921875 -10.5 C 1.265625 -8.015625 0.578125 -6.015625 0.578125 -3.8125 C 0.578125 -1.59375 1.265625 0.390625 2.921875 2.875 Z M 4.359375 2.875 \"/>\n",
       "</symbol>\n",
       "<symbol overflow=\"visible\" id=\"glyph0-14\">\n",
       "<path style=\"stroke:none;\" d=\"M 11.03125 -7.78125 L 8.953125 -7.78125 L 7.765625 -2.328125 L 6.59375 -7.78125 L 4.578125 -7.78125 L 3.40625 -2.328125 L 2.15625 -7.78125 L 0.078125 -7.78125 L 2.265625 0 L 4.34375 0 L 5.578125 -5.484375 L 6.734375 0 L 8.828125 0 Z M 11.03125 -7.78125 \"/>\n",
       "</symbol>\n",
       "<symbol overflow=\"visible\" id=\"glyph0-15\">\n",
       "<path style=\"stroke:none;\" d=\"M 7.84375 0 L 7.84375 -10.5 L 5.828125 -10.5 L 5.828125 -6.765625 C 5.328125 -7.546875 4.65625 -7.90625 3.6875 -7.90625 C 1.828125 -7.90625 0.421875 -6.21875 0.421875 -3.875 C 0.421875 -1.671875 1.625 0.125 3.6875 0.125 C 4.65625 0.125 5.328125 -0.234375 5.828125 -0.890625 L 5.828125 0 Z M 5.828125 -3.84375 C 5.828125 -2.4375 5.140625 -1.5625 4.140625 -1.5625 C 3.125 -1.5625 2.4375 -2.453125 2.4375 -3.875 C 2.4375 -5.3125 3.125 -6.21875 4.140625 -6.21875 C 5.15625 -6.21875 5.828125 -5.328125 5.828125 -3.84375 Z M 5.828125 -3.84375 \"/>\n",
       "</symbol>\n",
       "<symbol overflow=\"visible\" id=\"glyph0-16\">\n",
       "<path style=\"stroke:none;\" d=\"M 9.875 -3.59375 L 7.765625 -3.59375 C 7.640625 -2.25 6.78125 -1.640625 5.453125 -1.640625 C 3.78125 -1.640625 2.796875 -2.921875 2.796875 -5.21875 C 2.796875 -7.53125 3.8125 -8.828125 5.515625 -8.828125 C 6.6875 -8.828125 7.453125 -8.296875 7.765625 -6.9375 L 9.828125 -6.9375 C 9.640625 -9.359375 7.8125 -10.671875 5.453125 -10.671875 C 2.484375 -10.671875 0.640625 -8.640625 0.640625 -5.25 C 0.640625 -1.875 2.46875 0.171875 5.390625 0.171875 C 8 0.171875 9.734375 -1.1875 9.875 -3.59375 Z M 9.875 -3.59375 \"/>\n",
       "</symbol>\n",
       "<symbol overflow=\"visible\" id=\"glyph0-17\">\n",
       "<path style=\"stroke:none;\" d=\"M 7.796875 0 L 7.796875 -7.78125 L 5.78125 -7.78125 L 5.78125 -3.109375 C 5.78125 -2.1875 5.125 -1.578125 4.15625 -1.578125 C 3.28125 -1.578125 2.859375 -2.046875 2.859375 -2.984375 L 2.859375 -7.78125 L 0.828125 -7.78125 L 0.828125 -2.5625 C 0.828125 -0.84375 1.78125 0.125 3.4375 0.125 C 4.5 0.125 5.203125 -0.265625 5.78125 -1.015625 L 5.78125 0 Z M 7.796875 0 \"/>\n",
       "</symbol>\n",
       "<symbol overflow=\"visible\" id=\"glyph0-18\">\n",
       "<path style=\"stroke:none;\" d=\"M 7.859375 0 L 7.859375 -5.21875 C 7.859375 -6.921875 6.921875 -7.90625 5.265625 -7.90625 C 4.203125 -7.90625 3.5 -7.515625 2.921875 -6.65625 L 2.921875 -7.78125 L 0.90625 -7.78125 L 0.90625 0 L 2.921875 0 L 2.921875 -4.671875 C 2.921875 -5.59375 3.578125 -6.1875 4.546875 -6.1875 C 5.421875 -6.1875 5.84375 -5.71875 5.84375 -4.796875 L 5.84375 0 Z M 7.859375 0 \"/>\n",
       "</symbol>\n",
       "<symbol overflow=\"visible\" id=\"glyph0-19\">\n",
       "<path style=\"stroke:none;\" d=\"M 4.109375 -3.796875 C 4.109375 -6.015625 3.421875 -8.015625 1.75 -10.5 L 0.3125 -10.5 C 1.84375 -7.53125 2.328125 -5.921875 2.328125 -3.796875 C 2.328125 -1.703125 1.84375 -0.0625 0.3125 2.875 L 1.75 2.875 C 3.421875 0.390625 4.109375 -1.59375 4.109375 -3.796875 Z M 4.109375 -3.796875 \"/>\n",
       "</symbol>\n",
       "<symbol overflow=\"visible\" id=\"glyph1-0\">\n",
       "<path style=\"stroke:none;\" d=\"\"/>\n",
       "</symbol>\n",
       "<symbol overflow=\"visible\" id=\"glyph1-1\">\n",
       "<path style=\"stroke:none;\" d=\"M 1.8125 0 L 1.8125 -8.75 L 0.8125 -8.75 L 0.8125 0 Z M 1.8125 0 \"/>\n",
       "</symbol>\n",
       "<symbol overflow=\"visible\" id=\"glyph1-2\">\n",
       "<path style=\"stroke:none;\" d=\"M 6.125 -3.09375 C 6.125 -5.265625 5.078125 -6.46875 3.265625 -6.46875 C 1.5 -6.46875 0.4375 -5.25 0.4375 -3.140625 C 0.4375 -1.03125 1.484375 0.1875 3.28125 0.1875 C 5.046875 0.1875 6.125 -1.03125 6.125 -3.09375 Z M 5.078125 -3.109375 C 5.078125 -1.625 4.375 -0.75 3.28125 -0.75 C 2.15625 -0.75 1.46875 -1.625 1.46875 -3.140625 C 1.46875 -4.65625 2.15625 -5.546875 3.28125 -5.546875 C 4.40625 -5.546875 5.078125 -4.671875 5.078125 -3.109375 Z M 5.078125 -3.109375 \"/>\n",
       "</symbol>\n",
       "<symbol overflow=\"visible\" id=\"glyph1-3\">\n",
       "<path style=\"stroke:none;\" d=\"M 5.875 -1.03125 L 5.875 -6.28125 L 4.9375 -6.28125 L 4.9375 -5.375 C 4.4375 -6.125 3.828125 -6.46875 3.03125 -6.46875 C 1.421875 -6.46875 0.34375 -5.125 0.34375 -3.078125 C 0.34375 -1.109375 1.46875 0.1875 2.9375 0.1875 C 3.734375 0.1875 4.28125 -0.15625 4.9375 -0.953125 L 4.9375 -0.53125 C 4.9375 1.140625 4.265625 1.78125 3.09375 1.78125 C 2.296875 1.78125 1.6875 1.484375 1.578125 0.71875 L 0.546875 0.71875 C 0.65625 1.90625 1.578125 2.609375 3.0625 2.609375 C 5.03125 2.609375 5.875 1.734375 5.875 -1.03125 Z M 4.84375 -3.109375 C 4.84375 -1.609375 4.203125 -0.75 3.140625 -0.75 C 2.046875 -0.75 1.390625 -1.625 1.390625 -3.140625 C 1.390625 -4.65625 2.0625 -5.546875 3.125 -5.546875 C 4.21875 -5.546875 4.84375 -4.625 4.84375 -3.109375 Z M 4.84375 -3.109375 \"/>\n",
       "</symbol>\n",
       "<symbol overflow=\"visible\" id=\"glyph1-4\">\n",
       "<path style=\"stroke:none;\" d=\"M 3.484375 2.546875 C 2.4375 0.828125 1.84375 -1.1875 1.84375 -3.109375 C 1.84375 -5.015625 2.4375 -7.046875 3.484375 -8.75 L 2.828125 -8.75 C 1.625 -7.171875 0.875 -4.984375 0.875 -3.109375 C 0.875 -1.21875 1.625 0.96875 2.828125 2.546875 Z M 3.484375 2.546875 \"/>\n",
       "</symbol>\n",
       "<symbol overflow=\"visible\" id=\"glyph1-5\">\n",
       "<path style=\"stroke:none;\" d=\"M 8.5 -6.28125 L 7.375 -6.28125 L 6.125 -1.390625 L 4.890625 -6.28125 L 3.65625 -6.28125 L 2.453125 -1.390625 L 1.171875 -6.28125 L 0.078125 -6.28125 L 1.890625 0 L 3.03125 0 L 4.234375 -4.9375 L 5.515625 0 L 6.640625 0 Z M 8.5 -6.28125 \"/>\n",
       "</symbol>\n",
       "<symbol overflow=\"visible\" id=\"glyph1-6\">\n",
       "<path style=\"stroke:none;\" d=\"M 3.859375 -5.40625 L 3.859375 -6.4375 C 3.6875 -6.453125 3.59375 -6.46875 3.46875 -6.46875 C 2.8125 -6.46875 2.328125 -6.078125 1.75 -5.140625 L 1.75 -6.28125 L 0.84375 -6.28125 L 0.84375 0 L 1.84375 0 L 1.84375 -3.265625 C 1.84375 -4.6875 2.296875 -5.390625 3.859375 -5.40625 Z M 3.859375 -5.40625 \"/>\n",
       "</symbol>\n",
       "<symbol overflow=\"visible\" id=\"glyph1-7\">\n",
       "<path style=\"stroke:none;\" d=\"M 5.9375 0 L 5.9375 -8.75 L 4.9375 -8.75 L 4.9375 -5.5 C 4.53125 -6.125 3.859375 -6.46875 3.015625 -6.46875 C 1.375 -6.46875 0.3125 -5.203125 0.3125 -3.203125 C 0.3125 -1.078125 1.359375 0.1875 3.046875 0.1875 C 3.90625 0.1875 4.515625 -0.140625 5.046875 -0.921875 L 5.046875 0 Z M 4.9375 -3.125 C 4.9375 -1.671875 4.25 -0.75 3.1875 -0.75 C 2.09375 -0.75 1.359375 -1.6875 1.359375 -3.140625 C 1.359375 -4.609375 2.09375 -5.53125 3.1875 -5.53125 C 4.265625 -5.53125 4.9375 -4.578125 4.9375 -3.125 Z M 4.9375 -3.125 \"/>\n",
       "</symbol>\n",
       "<symbol overflow=\"visible\" id=\"glyph1-8\">\n",
       "<path style=\"stroke:none;\" d=\"M 8.125 -3.1875 L 6.96875 -3.1875 C 6.703125 -1.53125 6.015625 -0.765625 4.53125 -0.765625 C 2.796875 -0.765625 1.6875 -2.09375 1.6875 -4.28125 C 1.6875 -6.53125 2.75 -7.984375 4.4375 -7.984375 C 5.8125 -7.984375 6.53125 -7.375 6.796875 -6.03125 L 7.9375 -6.03125 C 7.59375 -7.953125 6.484375 -8.96875 4.578125 -8.96875 C 1.921875 -8.96875 0.578125 -6.828125 0.578125 -4.265625 C 0.578125 -1.71875 1.953125 0.21875 4.53125 0.21875 C 6.65625 0.21875 7.859375 -0.90625 8.125 -3.1875 Z M 8.125 -3.1875 \"/>\n",
       "</symbol>\n",
       "<symbol overflow=\"visible\" id=\"glyph1-9\">\n",
       "<path style=\"stroke:none;\" d=\"M 5.78125 0 L 5.78125 -6.28125 L 4.78125 -6.28125 L 4.78125 -2.8125 C 4.78125 -1.53125 4.109375 -0.703125 3.078125 -0.703125 C 2.28125 -0.703125 1.78125 -1.171875 1.78125 -1.9375 L 1.78125 -6.28125 L 0.78125 -6.28125 L 0.78125 -1.53125 C 0.78125 -0.484375 1.5625 0.1875 2.78125 0.1875 C 3.703125 0.1875 4.296875 -0.140625 4.890625 -0.96875 L 4.890625 0 Z M 5.78125 0 \"/>\n",
       "</symbol>\n",
       "<symbol overflow=\"visible\" id=\"glyph1-10\">\n",
       "<path style=\"stroke:none;\" d=\"M 5.84375 0 L 5.84375 -4.75 C 5.84375 -5.796875 5.0625 -6.46875 3.859375 -6.46875 C 2.921875 -6.46875 2.3125 -6.109375 1.765625 -5.234375 L 1.765625 -6.28125 L 0.84375 -6.28125 L 0.84375 0 L 1.84375 0 L 1.84375 -3.46875 C 1.84375 -4.75 2.53125 -5.59375 3.546875 -5.59375 C 4.34375 -5.59375 4.84375 -5.109375 4.84375 -4.359375 L 4.84375 0 Z M 5.84375 0 \"/>\n",
       "</symbol>\n",
       "<symbol overflow=\"visible\" id=\"glyph1-11\">\n",
       "<path style=\"stroke:none;\" d=\"M 3.046875 0 L 3.046875 -0.84375 C 2.921875 -0.796875 2.765625 -0.796875 2.5625 -0.796875 C 2.140625 -0.796875 2.015625 -0.90625 2.015625 -1.359375 L 2.015625 -5.46875 L 3.046875 -5.46875 L 3.046875 -6.28125 L 2.015625 -6.28125 L 2.015625 -8.015625 L 1.015625 -8.015625 L 1.015625 -6.28125 L 0.171875 -6.28125 L 0.171875 -5.46875 L 1.015625 -5.46875 L 1.015625 -0.90625 C 1.015625 -0.28125 1.453125 0.078125 2.234375 0.078125 C 2.46875 0.078125 2.71875 0.0625 3.046875 0 Z M 3.046875 0 \"/>\n",
       "</symbol>\n",
       "<symbol overflow=\"visible\" id=\"glyph1-12\">\n",
       "<path style=\"stroke:none;\" d=\"M 3.078125 -3.09375 C 3.078125 -4.984375 2.3125 -7.171875 1.109375 -8.75 L 0.453125 -8.75 C 1.515625 -7.03125 2.09375 -5.015625 2.09375 -3.09375 C 2.09375 -1.1875 1.515625 0.84375 0.453125 2.546875 L 1.109375 2.546875 C 2.3125 0.96875 3.078125 -1.21875 3.078125 -3.09375 Z M 3.078125 -3.09375 \"/>\n",
       "</symbol>\n",
       "<symbol overflow=\"visible\" id=\"glyph1-13\">\n",
       "<path style=\"stroke:none;\" d=\"M 6.125 -6.015625 C 6.125 -7.453125 5.015625 -8.515625 3.40625 -8.515625 C 1.671875 -8.515625 0.65625 -7.625 0.59375 -5.5625 L 1.65625 -5.5625 C 1.734375 -6.984375 2.328125 -7.578125 3.375 -7.578125 C 4.328125 -7.578125 5.046875 -6.90625 5.046875 -5.984375 C 5.046875 -5.3125 4.65625 -4.734375 3.90625 -4.3125 L 2.796875 -3.6875 C 1.015625 -2.671875 0.5 -1.875 0.40625 0 L 6.078125 0 L 6.078125 -1.046875 L 1.59375 -1.046875 C 1.703125 -1.734375 2.09375 -2.1875 3.125 -2.796875 L 4.328125 -3.4375 C 5.515625 -4.078125 6.125 -4.96875 6.125 -6.015625 Z M 6.125 -6.015625 \"/>\n",
       "</symbol>\n",
       "<symbol overflow=\"visible\" id=\"glyph1-14\">\n",
       "<path style=\"stroke:none;\" d=\"M 6.234375 -2.046875 L 6.234375 -2.984375 L 4.984375 -2.984375 L 4.984375 -8.515625 L 4.203125 -8.515625 L 0.34375 -3.15625 L 0.34375 -2.046875 L 3.921875 -2.046875 L 3.921875 0 L 4.984375 0 L 4.984375 -2.046875 Z M 3.921875 -2.984375 L 1.265625 -2.984375 L 3.921875 -6.703125 Z M 3.921875 -2.984375 \"/>\n",
       "</symbol>\n",
       "<symbol overflow=\"visible\" id=\"glyph1-15\">\n",
       "<path style=\"stroke:none;\" d=\"M 6.15625 -2.640625 C 6.15625 -4.21875 5.078125 -5.296875 3.546875 -5.296875 C 2.71875 -5.296875 2.046875 -4.96875 1.59375 -4.34375 C 1.609375 -6.421875 2.28125 -7.578125 3.484375 -7.578125 C 4.234375 -7.578125 4.75 -7.109375 4.921875 -6.28125 L 5.96875 -6.28125 C 5.765625 -7.6875 4.859375 -8.515625 3.5625 -8.515625 C 1.578125 -8.515625 0.515625 -6.84375 0.515625 -3.875 C 0.515625 -1.21875 1.421875 0.1875 3.375 0.1875 C 4.984375 0.1875 6.15625 -0.96875 6.15625 -2.640625 Z M 5.078125 -2.5625 C 5.078125 -1.484375 4.359375 -0.75 3.390625 -0.75 C 2.40625 -0.75 1.65625 -1.53125 1.65625 -2.609375 C 1.65625 -3.671875 2.375 -4.359375 3.421875 -4.359375 C 4.4375 -4.359375 5.078125 -3.703125 5.078125 -2.5625 Z M 5.078125 -2.5625 \"/>\n",
       "</symbol>\n",
       "<symbol overflow=\"visible\" id=\"glyph1-16\">\n",
       "<path style=\"stroke:none;\" d=\"M 6.15625 -2.40625 C 6.15625 -3.34375 5.671875 -4.015625 4.6875 -4.46875 C 5.5625 -5 5.859375 -5.4375 5.859375 -6.234375 C 5.859375 -7.578125 4.8125 -8.515625 3.296875 -8.515625 C 1.796875 -8.515625 0.75 -7.578125 0.75 -6.234375 C 0.75 -5.453125 1.03125 -5.015625 1.890625 -4.46875 C 0.921875 -4.015625 0.4375 -3.34375 0.4375 -2.40625 C 0.4375 -0.859375 1.625 0.1875 3.296875 0.1875 C 4.984375 0.1875 6.15625 -0.859375 6.15625 -2.40625 Z M 4.78125 -6.21875 C 4.78125 -5.421875 4.1875 -4.890625 3.296875 -4.890625 C 2.40625 -4.890625 1.828125 -5.421875 1.828125 -6.234375 C 1.828125 -7.046875 2.40625 -7.578125 3.296875 -7.578125 C 4.203125 -7.578125 4.78125 -7.046875 4.78125 -6.21875 Z M 5.078125 -2.390625 C 5.078125 -1.375 4.359375 -0.75 3.28125 -0.75 C 2.25 -0.75 1.53125 -1.390625 1.53125 -2.390625 C 1.53125 -3.390625 2.25 -4.015625 3.296875 -4.015625 C 4.359375 -4.015625 5.078125 -3.390625 5.078125 -2.390625 Z M 5.078125 -2.390625 \"/>\n",
       "</symbol>\n",
       "<symbol overflow=\"visible\" id=\"glyph2-0\">\n",
       "<path style=\"stroke:none;\" d=\"\"/>\n",
       "</symbol>\n",
       "<symbol overflow=\"visible\" id=\"glyph2-1\">\n",
       "<path style=\"stroke:none;\" d=\"M -7.765625 -6.953125 L -8.75 -6.953125 L -8.75 -1.078125 L 0 -1.078125 L 0 -2.203125 L -3.984375 -2.203125 L -3.984375 -6.375 L -4.96875 -6.375 L -4.96875 -2.203125 L -7.765625 -2.203125 Z M -7.765625 -6.953125 \"/>\n",
       "</symbol>\n",
       "<symbol overflow=\"visible\" id=\"glyph2-2\">\n",
       "<path style=\"stroke:none;\" d=\"M -5.40625 -3.859375 L -6.4375 -3.859375 C -6.453125 -3.6875 -6.46875 -3.59375 -6.46875 -3.46875 C -6.46875 -2.8125 -6.078125 -2.328125 -5.140625 -1.75 L -6.28125 -1.75 L -6.28125 -0.84375 L 0 -0.84375 L 0 -1.84375 L -3.265625 -1.84375 C -4.6875 -1.84375 -5.390625 -2.296875 -5.40625 -3.859375 Z M -5.40625 -3.859375 \"/>\n",
       "</symbol>\n",
       "<symbol overflow=\"visible\" id=\"glyph2-3\">\n",
       "<path style=\"stroke:none;\" d=\"M -2.859375 -6.15625 C -3.765625 -6.15625 -4.34375 -6.078125 -4.8125 -5.90625 C -5.84375 -5.5 -6.46875 -4.53125 -6.46875 -3.359375 C -6.46875 -1.609375 -5.171875 -0.484375 -3.109375 -0.484375 C -1.046875 -0.484375 0.1875 -1.578125 0.1875 -3.34375 C 0.1875 -4.78125 -0.640625 -5.765625 -1.90625 -6.03125 L -1.90625 -5.015625 C -1.078125 -4.734375 -0.75 -4.171875 -0.75 -3.375 C -0.75 -2.328125 -1.421875 -1.546875 -2.859375 -1.53125 Z M -3.75 -5.09375 C -3.75 -5.09375 -3.703125 -5.09375 -3.671875 -5.078125 L -3.671875 -1.546875 C -4.78125 -1.625 -5.546875 -2.34375 -5.546875 -3.34375 C -5.546875 -4.328125 -4.734375 -5.09375 -3.75 -5.09375 Z M -3.75 -5.09375 \"/>\n",
       "</symbol>\n",
       "<symbol overflow=\"visible\" id=\"glyph2-4\">\n",
       "<path style=\"stroke:none;\" d=\"M 2.609375 -5.9375 L -6.28125 -5.9375 L -6.28125 -5.046875 L -5.453125 -5.046875 C -6.109375 -4.578125 -6.46875 -3.875 -6.46875 -3.046875 C -6.46875 -1.390625 -5.15625 -0.3125 -3.078125 -0.3125 C -1.03125 -0.3125 0.1875 -1.34375 0.1875 -3 C 0.1875 -3.875 -0.125 -4.46875 -0.8125 -4.9375 L 2.609375 -4.9375 Z M -3.109375 -4.9375 C -1.671875 -4.9375 -0.75 -4.25 -0.75 -3.1875 C -0.75 -2.09375 -1.6875 -1.359375 -3.140625 -1.359375 C -4.59375 -1.359375 -5.53125 -2.09375 -5.53125 -3.1875 C -5.53125 -4.265625 -4.578125 -4.9375 -3.109375 -4.9375 Z M -3.109375 -4.9375 \"/>\n",
       "</symbol>\n",
       "<symbol overflow=\"visible\" id=\"glyph2-5\">\n",
       "<path style=\"stroke:none;\" d=\"M 0 -5.78125 L -6.28125 -5.78125 L -6.28125 -4.78125 L -2.8125 -4.78125 C -1.53125 -4.78125 -0.703125 -4.109375 -0.703125 -3.078125 C -0.703125 -2.28125 -1.171875 -1.78125 -1.9375 -1.78125 L -6.28125 -1.78125 L -6.28125 -0.78125 L -1.53125 -0.78125 C -0.484375 -0.78125 0.1875 -1.5625 0.1875 -2.78125 C 0.1875 -3.703125 -0.140625 -4.296875 -0.96875 -4.890625 L 0 -4.890625 Z M 0 -5.78125 \"/>\n",
       "</symbol>\n",
       "<symbol overflow=\"visible\" id=\"glyph2-6\">\n",
       "<path style=\"stroke:none;\" d=\"M 0 -5.84375 L -4.75 -5.84375 C -5.796875 -5.84375 -6.46875 -5.0625 -6.46875 -3.859375 C -6.46875 -2.921875 -6.109375 -2.3125 -5.234375 -1.765625 L -6.28125 -1.765625 L -6.28125 -0.84375 L 0 -0.84375 L 0 -1.84375 L -3.46875 -1.84375 C -4.75 -1.84375 -5.59375 -2.53125 -5.59375 -3.546875 C -5.59375 -4.34375 -5.109375 -4.84375 -4.359375 -4.84375 L 0 -4.84375 Z M 0 -5.84375 \"/>\n",
       "</symbol>\n",
       "<symbol overflow=\"visible\" id=\"glyph2-7\">\n",
       "<path style=\"stroke:none;\" d=\"M -2.15625 -5.71875 L -2.15625 -4.71875 C -1.15625 -4.546875 -0.75 -4.03125 -0.75 -3.1875 C -0.75 -2.078125 -1.59375 -1.421875 -3.078125 -1.421875 C -4.65625 -1.421875 -5.546875 -2.0625 -5.546875 -3.15625 C -5.546875 -4 -5.046875 -4.53125 -4.171875 -4.640625 L -4.171875 -5.65625 C -5.71875 -5.53125 -6.46875 -4.578125 -6.46875 -3.171875 C -6.46875 -1.46875 -5.171875 -0.375 -3.078125 -0.375 C -1.0625 -0.375 0.1875 -1.453125 0.1875 -3.15625 C 0.1875 -4.65625 -0.71875 -5.609375 -2.15625 -5.71875 Z M -2.15625 -5.71875 \"/>\n",
       "</symbol>\n",
       "<symbol overflow=\"visible\" id=\"glyph2-8\">\n",
       "<path style=\"stroke:none;\" d=\"M -6.28125 -5.734375 L -6.28125 -4.65625 L -1.390625 -2.921875 L -6.28125 -1.3125 L -6.28125 -0.234375 L 0.03125 -2.359375 L 1.015625 -1.984375 C 1.46875 -1.8125 1.625 -1.609375 1.625 -1.171875 C 1.625 -1.03125 1.609375 -0.859375 1.5625 -0.640625 L 2.453125 -0.640625 C 2.5625 -0.859375 2.609375 -1.0625 2.609375 -1.3125 C 2.609375 -2.03125 2.21875 -2.609375 1.3125 -2.9375 Z M -6.28125 -5.734375 \"/>\n",
       "</symbol>\n",
       "<symbol overflow=\"visible\" id=\"glyph2-9\">\n",
       "<path style=\"stroke:none;\" d=\"M -4.09375 -6.078125 C -7.046875 -6.078125 -8.515625 -5.140625 -8.515625 -3.296875 C -8.515625 -1.46875 -7.015625 -0.515625 -4.15625 -0.515625 C -1.296875 -0.515625 0.1875 -1.46875 0.1875 -3.296875 C 0.1875 -5.09375 -1.296875 -6.078125 -4.09375 -6.078125 Z M -4.1875 -5 C -1.78125 -5 -0.703125 -4.453125 -0.703125 -3.28125 C -0.703125 -2.15625 -1.828125 -1.59375 -4.15625 -1.59375 C -6.484375 -1.59375 -7.578125 -2.15625 -7.578125 -3.296875 C -7.578125 -4.4375 -6.46875 -5 -4.1875 -5 Z M -4.1875 -5 \"/>\n",
       "</symbol>\n",
       "<symbol overflow=\"visible\" id=\"glyph2-10\">\n",
       "<path style=\"stroke:none;\" d=\"M -6.015625 -6.125 C -7.453125 -6.125 -8.515625 -5.015625 -8.515625 -3.40625 C -8.515625 -1.671875 -7.625 -0.65625 -5.5625 -0.59375 L -5.5625 -1.65625 C -6.984375 -1.734375 -7.578125 -2.328125 -7.578125 -3.375 C -7.578125 -4.328125 -6.90625 -5.046875 -5.984375 -5.046875 C -5.3125 -5.046875 -4.734375 -4.65625 -4.3125 -3.90625 L -3.6875 -2.796875 C -2.671875 -1.015625 -1.875 -0.5 0 -0.40625 L 0 -6.078125 L -1.046875 -6.078125 L -1.046875 -1.59375 C -1.734375 -1.703125 -2.1875 -2.09375 -2.796875 -3.125 L -3.4375 -4.328125 C -4.078125 -5.515625 -4.96875 -6.125 -6.015625 -6.125 Z M -6.015625 -6.125 \"/>\n",
       "</symbol>\n",
       "<symbol overflow=\"visible\" id=\"glyph2-11\">\n",
       "<path style=\"stroke:none;\" d=\"M -2.640625 -6.15625 C -4.21875 -6.15625 -5.296875 -5.078125 -5.296875 -3.546875 C -5.296875 -2.71875 -4.96875 -2.046875 -4.34375 -1.59375 C -6.421875 -1.609375 -7.578125 -2.28125 -7.578125 -3.484375 C -7.578125 -4.234375 -7.109375 -4.75 -6.28125 -4.921875 L -6.28125 -5.96875 C -7.6875 -5.765625 -8.515625 -4.859375 -8.515625 -3.5625 C -8.515625 -1.578125 -6.84375 -0.515625 -3.875 -0.515625 C -1.21875 -0.515625 0.1875 -1.421875 0.1875 -3.375 C 0.1875 -4.984375 -0.96875 -6.15625 -2.640625 -6.15625 Z M -2.5625 -5.078125 C -1.484375 -5.078125 -0.75 -4.359375 -0.75 -3.390625 C -0.75 -2.40625 -1.53125 -1.65625 -2.609375 -1.65625 C -3.671875 -1.65625 -4.359375 -2.375 -4.359375 -3.421875 C -4.359375 -4.4375 -3.703125 -5.078125 -2.5625 -5.078125 Z M -2.5625 -5.078125 \"/>\n",
       "</symbol>\n",
       "<symbol overflow=\"visible\" id=\"glyph2-12\">\n",
       "<path style=\"stroke:none;\" d=\"M 0 -4.15625 L -8.515625 -4.15625 L -8.515625 -3.46875 C -7.203125 -3.09375 -7.015625 -2.859375 -6.8125 -1.21875 L -6.0625 -1.21875 L -6.0625 -3.109375 L 0 -3.109375 Z M 0 -4.15625 \"/>\n",
       "</symbol>\n",
       "</g>\n",
       "</defs>\n",
       "<g id=\"surface170\">\n",
       "<rect x=\"0\" y=\"0\" width=\"432\" height=\"288\" style=\"fill:rgb(100%,100%,100%);fill-opacity:1;stroke:none;\"/>\n",
       "<g style=\"fill:rgb(0%,0%,0%);fill-opacity:1;\">\n",
       "  <use xlink:href=\"#glyph0-1\" x=\"130.398438\" y=\"34.21875\"/>\n",
       "  <use xlink:href=\"#glyph0-2\" x=\"140.799805\" y=\"34.21875\"/>\n",
       "  <use xlink:href=\"#glyph0-3\" x=\"144.804688\" y=\"34.21875\"/>\n",
       "  <use xlink:href=\"#glyph0-4\" x=\"152.814453\" y=\"34.21875\"/>\n",
       "  <use xlink:href=\"#glyph0-5\" x=\"157.467773\" y=\"34.21875\"/>\n",
       "  <use xlink:href=\"#glyph0-6\" x=\"166.269531\" y=\"34.21875\"/>\n",
       "  <use xlink:href=\"#glyph0-7\" x=\"175.071289\" y=\"34.21875\"/>\n",
       "  <use xlink:href=\"#glyph0-8\" x=\"180.74707\" y=\"34.21875\"/>\n",
       "  <use xlink:href=\"#glyph0-9\" x=\"188.756836\" y=\"34.21875\"/>\n",
       "  <use xlink:href=\"#glyph0-10\" x=\"201.563477\" y=\"34.21875\"/>\n",
       "  <use xlink:href=\"#glyph0-5\" x=\"205.568359\" y=\"34.21875\"/>\n",
       "  <use xlink:href=\"#glyph0-11\" x=\"214.370117\" y=\"34.21875\"/>\n",
       "  <use xlink:href=\"#glyph0-10\" x=\"219.166992\" y=\"34.21875\"/>\n",
       "  <use xlink:href=\"#glyph0-12\" x=\"223.171875\" y=\"34.21875\"/>\n",
       "  <use xlink:href=\"#glyph0-5\" x=\"227.176758\" y=\"34.21875\"/>\n",
       "  <use xlink:href=\"#glyph0-6\" x=\"235.978516\" y=\"34.21875\"/>\n",
       "  <use xlink:href=\"#glyph0-13\" x=\"244.780273\" y=\"34.21875\"/>\n",
       "  <use xlink:href=\"#glyph0-14\" x=\"249.577148\" y=\"34.21875\"/>\n",
       "  <use xlink:href=\"#glyph0-5\" x=\"260.641602\" y=\"34.21875\"/>\n",
       "  <use xlink:href=\"#glyph0-7\" x=\"269.443359\" y=\"34.21875\"/>\n",
       "  <use xlink:href=\"#glyph0-15\" x=\"275.047852\" y=\"34.21875\"/>\n",
       "  <use xlink:href=\"#glyph0-16\" x=\"283.849609\" y=\"34.21875\"/>\n",
       "  <use xlink:href=\"#glyph0-5\" x=\"294.250977\" y=\"34.21875\"/>\n",
       "  <use xlink:href=\"#glyph0-17\" x=\"303.052734\" y=\"34.21875\"/>\n",
       "  <use xlink:href=\"#glyph0-18\" x=\"311.854492\" y=\"34.21875\"/>\n",
       "  <use xlink:href=\"#glyph0-4\" x=\"320.65625\" y=\"34.21875\"/>\n",
       "  <use xlink:href=\"#glyph0-19\" x=\"325.453125\" y=\"34.21875\"/>\n",
       "</g>\n",
       "<g style=\"fill:rgb(0%,0%,0%);fill-opacity:1;\">\n",
       "  <use xlink:href=\"#glyph1-1\" x=\"189.398438\" y=\"269.057617\"/>\n",
       "  <use xlink:href=\"#glyph1-2\" x=\"192.0625\" y=\"269.057617\"/>\n",
       "  <use xlink:href=\"#glyph1-3\" x=\"198.734375\" y=\"269.057617\"/>\n",
       "  <use xlink:href=\"#glyph1-4\" x=\"205.40625\" y=\"269.057617\"/>\n",
       "  <use xlink:href=\"#glyph1-5\" x=\"209.402344\" y=\"269.057617\"/>\n",
       "  <use xlink:href=\"#glyph1-2\" x=\"217.947266\" y=\"269.057617\"/>\n",
       "  <use xlink:href=\"#glyph1-6\" x=\"224.619141\" y=\"269.057617\"/>\n",
       "  <use xlink:href=\"#glyph1-7\" x=\"228.615234\" y=\"269.057617\"/>\n",
       "  <use xlink:href=\"#glyph1-8\" x=\"235.287109\" y=\"269.057617\"/>\n",
       "  <use xlink:href=\"#glyph1-2\" x=\"243.951172\" y=\"269.057617\"/>\n",
       "  <use xlink:href=\"#glyph1-9\" x=\"250.623047\" y=\"269.057617\"/>\n",
       "  <use xlink:href=\"#glyph1-10\" x=\"257.294922\" y=\"269.057617\"/>\n",
       "  <use xlink:href=\"#glyph1-11\" x=\"263.966797\" y=\"269.057617\"/>\n",
       "  <use xlink:href=\"#glyph1-12\" x=\"267.302734\" y=\"269.057617\"/>\n",
       "</g>\n",
       "<g style=\"fill:rgb(0%,0%,0%);fill-opacity:1;\">\n",
       "  <use xlink:href=\"#glyph2-1\" x=\"12.737305\" y=\"165.300781\"/>\n",
       "  <use xlink:href=\"#glyph2-2\" x=\"12.737305\" y=\"158.388672\"/>\n",
       "  <use xlink:href=\"#glyph2-3\" x=\"12.737305\" y=\"154.511719\"/>\n",
       "  <use xlink:href=\"#glyph2-4\" x=\"12.737305\" y=\"147.839844\"/>\n",
       "  <use xlink:href=\"#glyph2-5\" x=\"12.737305\" y=\"141.108398\"/>\n",
       "  <use xlink:href=\"#glyph2-3\" x=\"12.737305\" y=\"134.436523\"/>\n",
       "  <use xlink:href=\"#glyph2-6\" x=\"12.737305\" y=\"127.764648\"/>\n",
       "  <use xlink:href=\"#glyph2-7\" x=\"12.737305\" y=\"121.092773\"/>\n",
       "  <use xlink:href=\"#glyph2-8\" x=\"12.737305\" y=\"115.092773\"/>\n",
       "</g>\n",
       "<path style=\"fill:none;stroke-width:0.75;stroke-linecap:round;stroke-linejoin:round;stroke:rgb(0%,0%,0%);stroke-opacity:1;stroke-miterlimit:10;\" d=\"M 131.234375 214.558594 L 369.234375 214.558594 \"/>\n",
       "<path style=\"fill:none;stroke-width:0.75;stroke-linecap:round;stroke-linejoin:round;stroke:rgb(0%,0%,0%);stroke-opacity:1;stroke-miterlimit:10;\" d=\"M 131.234375 214.558594 L 131.234375 221.761719 \"/>\n",
       "<path style=\"fill:none;stroke-width:0.75;stroke-linecap:round;stroke-linejoin:round;stroke:rgb(0%,0%,0%);stroke-opacity:1;stroke-miterlimit:10;\" d=\"M 210.566406 214.558594 L 210.566406 221.761719 \"/>\n",
       "<path style=\"fill:none;stroke-width:0.75;stroke-linecap:round;stroke-linejoin:round;stroke:rgb(0%,0%,0%);stroke-opacity:1;stroke-miterlimit:10;\" d=\"M 289.898438 214.558594 L 289.898438 221.761719 \"/>\n",
       "<path style=\"fill:none;stroke-width:0.75;stroke-linecap:round;stroke-linejoin:round;stroke:rgb(0%,0%,0%);stroke-opacity:1;stroke-miterlimit:10;\" d=\"M 369.234375 214.558594 L 369.234375 221.761719 \"/>\n",
       "<g style=\"fill:rgb(0%,0%,0%);fill-opacity:1;\">\n",
       "  <use xlink:href=\"#glyph1-13\" x=\"127.734375\" y=\"240.256836\"/>\n",
       "</g>\n",
       "<g style=\"fill:rgb(0%,0%,0%);fill-opacity:1;\">\n",
       "  <use xlink:href=\"#glyph1-14\" x=\"207.066406\" y=\"240.256836\"/>\n",
       "</g>\n",
       "<g style=\"fill:rgb(0%,0%,0%);fill-opacity:1;\">\n",
       "  <use xlink:href=\"#glyph1-15\" x=\"286.398438\" y=\"240.256836\"/>\n",
       "</g>\n",
       "<g style=\"fill:rgb(0%,0%,0%);fill-opacity:1;\">\n",
       "  <use xlink:href=\"#glyph1-16\" x=\"365.734375\" y=\"240.256836\"/>\n",
       "</g>\n",
       "<path style=\"fill:none;stroke-width:0.75;stroke-linecap:round;stroke-linejoin:round;stroke:rgb(0%,0%,0%);stroke-opacity:1;stroke-miterlimit:10;\" d=\"M 59.039062 208.800781 L 59.039062 59.449219 \"/>\n",
       "<path style=\"fill:none;stroke-width:0.75;stroke-linecap:round;stroke-linejoin:round;stroke:rgb(0%,0%,0%);stroke-opacity:1;stroke-miterlimit:10;\" d=\"M 59.039062 208.800781 L 51.839844 208.800781 \"/>\n",
       "<path style=\"fill:none;stroke-width:0.75;stroke-linecap:round;stroke-linejoin:round;stroke:rgb(0%,0%,0%);stroke-opacity:1;stroke-miterlimit:10;\" d=\"M 59.039062 183.90625 L 51.839844 183.90625 \"/>\n",
       "<path style=\"fill:none;stroke-width:0.75;stroke-linecap:round;stroke-linejoin:round;stroke:rgb(0%,0%,0%);stroke-opacity:1;stroke-miterlimit:10;\" d=\"M 59.039062 159.015625 L 51.839844 159.015625 \"/>\n",
       "<path style=\"fill:none;stroke-width:0.75;stroke-linecap:round;stroke-linejoin:round;stroke:rgb(0%,0%,0%);stroke-opacity:1;stroke-miterlimit:10;\" d=\"M 59.039062 134.125 L 51.839844 134.125 \"/>\n",
       "<path style=\"fill:none;stroke-width:0.75;stroke-linecap:round;stroke-linejoin:round;stroke:rgb(0%,0%,0%);stroke-opacity:1;stroke-miterlimit:10;\" d=\"M 59.039062 109.230469 L 51.839844 109.230469 \"/>\n",
       "<path style=\"fill:none;stroke-width:0.75;stroke-linecap:round;stroke-linejoin:round;stroke:rgb(0%,0%,0%);stroke-opacity:1;stroke-miterlimit:10;\" d=\"M 59.039062 84.339844 L 51.839844 84.339844 \"/>\n",
       "<path style=\"fill:none;stroke-width:0.75;stroke-linecap:round;stroke-linejoin:round;stroke:rgb(0%,0%,0%);stroke-opacity:1;stroke-miterlimit:10;\" d=\"M 59.039062 59.449219 L 51.839844 59.449219 \"/>\n",
       "<g style=\"fill:rgb(0%,0%,0%);fill-opacity:1;\">\n",
       "  <use xlink:href=\"#glyph2-9\" x=\"41.538086\" y=\"212.300781\"/>\n",
       "</g>\n",
       "<g style=\"fill:rgb(0%,0%,0%);fill-opacity:1;\">\n",
       "  <use xlink:href=\"#glyph2-10\" x=\"41.538086\" y=\"194.40625\"/>\n",
       "  <use xlink:href=\"#glyph2-9\" x=\"41.538086\" y=\"187.734375\"/>\n",
       "  <use xlink:href=\"#glyph2-9\" x=\"41.538086\" y=\"181.0625\"/>\n",
       "</g>\n",
       "<g style=\"fill:rgb(0%,0%,0%);fill-opacity:1;\">\n",
       "  <use xlink:href=\"#glyph2-11\" x=\"41.538086\" y=\"144.625\"/>\n",
       "  <use xlink:href=\"#glyph2-9\" x=\"41.538086\" y=\"137.953125\"/>\n",
       "  <use xlink:href=\"#glyph2-9\" x=\"41.538086\" y=\"131.28125\"/>\n",
       "</g>\n",
       "<g style=\"fill:rgb(0%,0%,0%);fill-opacity:1;\">\n",
       "  <use xlink:href=\"#glyph2-12\" x=\"41.538086\" y=\"97.839844\"/>\n",
       "  <use xlink:href=\"#glyph2-9\" x=\"41.538086\" y=\"91.167969\"/>\n",
       "  <use xlink:href=\"#glyph2-9\" x=\"41.538086\" y=\"84.496094\"/>\n",
       "  <use xlink:href=\"#glyph2-9\" x=\"41.538086\" y=\"77.824219\"/>\n",
       "</g>\n",
       "<path style=\"fill:none;stroke-width:0.75;stroke-linecap:round;stroke-linejoin:round;stroke:rgb(0%,0%,0%);stroke-opacity:1;stroke-miterlimit:10;\" d=\"M 71.734375 208.800781 L 91.566406 208.800781 L 91.566406 208.550781 L 71.734375 208.550781 Z M 71.734375 208.800781 \"/>\n",
       "<path style=\"fill:none;stroke-width:0.75;stroke-linecap:round;stroke-linejoin:round;stroke:rgb(0%,0%,0%);stroke-opacity:1;stroke-miterlimit:10;\" d=\"M 91.566406 208.800781 L 111.398438 208.800781 L 111.398438 207.554688 L 91.566406 207.554688 Z M 91.566406 208.800781 \"/>\n",
       "<path style=\"fill:none;stroke-width:0.75;stroke-linecap:round;stroke-linejoin:round;stroke:rgb(0%,0%,0%);stroke-opacity:1;stroke-miterlimit:10;\" d=\"M 111.398438 208.800781 L 131.230469 208.800781 L 131.230469 205.441406 L 111.398438 205.441406 Z M 111.398438 208.800781 \"/>\n",
       "<path style=\"fill:none;stroke-width:0.75;stroke-linecap:round;stroke-linejoin:round;stroke:rgb(0%,0%,0%);stroke-opacity:1;stroke-miterlimit:10;\" d=\"M 131.234375 208.800781 L 151.066406 208.800781 L 151.066406 198.222656 L 131.234375 198.222656 Z M 131.234375 208.800781 \"/>\n",
       "<path style=\"fill:none;stroke-width:0.75;stroke-linecap:round;stroke-linejoin:round;stroke:rgb(0%,0%,0%);stroke-opacity:1;stroke-miterlimit:10;\" d=\"M 151.066406 208.800781 L 170.898438 208.800781 L 170.898438 181.667969 L 151.066406 181.667969 Z M 151.066406 208.800781 \"/>\n",
       "<path style=\"fill:none;stroke-width:0.75;stroke-linecap:round;stroke-linejoin:round;stroke:rgb(0%,0%,0%);stroke-opacity:1;stroke-miterlimit:10;\" d=\"M 170.898438 208.800781 L 190.730469 208.800781 L 190.730469 143.582031 L 170.898438 143.582031 Z M 170.898438 208.800781 \"/>\n",
       "<path style=\"fill:none;stroke-width:0.75;stroke-linecap:round;stroke-linejoin:round;stroke:rgb(0%,0%,0%);stroke-opacity:1;stroke-miterlimit:10;\" d=\"M 190.734375 208.800781 L 210.566406 208.800781 L 210.566406 93.425781 L 190.734375 93.425781 Z M 190.734375 208.800781 \"/>\n",
       "<path style=\"fill:none;stroke-width:0.75;stroke-linecap:round;stroke-linejoin:round;stroke:rgb(0%,0%,0%);stroke-opacity:1;stroke-miterlimit:10;\" d=\"M 210.566406 208.800781 L 230.398438 208.800781 L 230.398438 68.785156 L 210.566406 68.785156 Z M 210.566406 208.800781 \"/>\n",
       "<path style=\"fill:none;stroke-width:0.75;stroke-linecap:round;stroke-linejoin:round;stroke:rgb(0%,0%,0%);stroke-opacity:1;stroke-miterlimit:10;\" d=\"M 230.398438 208.800781 L 250.230469 208.800781 L 250.230469 64.800781 L 230.398438 64.800781 Z M 230.398438 208.800781 \"/>\n",
       "<path style=\"fill:none;stroke-width:0.75;stroke-linecap:round;stroke-linejoin:round;stroke:rgb(0%,0%,0%);stroke-opacity:1;stroke-miterlimit:10;\" d=\"M 250.234375 208.800781 L 270.066406 208.800781 L 270.066406 98.03125 L 250.234375 98.03125 Z M 250.234375 208.800781 \"/>\n",
       "<path style=\"fill:none;stroke-width:0.75;stroke-linecap:round;stroke-linejoin:round;stroke:rgb(0%,0%,0%);stroke-opacity:1;stroke-miterlimit:10;\" d=\"M 270.066406 208.800781 L 289.898438 208.800781 L 289.898438 150.054688 L 270.066406 150.054688 Z M 270.066406 208.800781 \"/>\n",
       "<path style=\"fill:none;stroke-width:0.75;stroke-linecap:round;stroke-linejoin:round;stroke:rgb(0%,0%,0%);stroke-opacity:1;stroke-miterlimit:10;\" d=\"M 289.898438 208.800781 L 309.730469 208.800781 L 309.730469 185.277344 L 289.898438 185.277344 Z M 289.898438 208.800781 \"/>\n",
       "<path style=\"fill:none;stroke-width:0.75;stroke-linecap:round;stroke-linejoin:round;stroke:rgb(0%,0%,0%);stroke-opacity:1;stroke-miterlimit:10;\" d=\"M 309.734375 208.800781 L 329.566406 208.800781 L 329.566406 199.464844 L 309.734375 199.464844 Z M 309.734375 208.800781 \"/>\n",
       "<path style=\"fill:none;stroke-width:0.75;stroke-linecap:round;stroke-linejoin:round;stroke:rgb(0%,0%,0%);stroke-opacity:1;stroke-miterlimit:10;\" d=\"M 329.566406 208.800781 L 349.398438 208.800781 L 349.398438 206.1875 L 329.566406 206.1875 Z M 329.566406 208.800781 \"/>\n",
       "<path style=\"fill:none;stroke-width:0.75;stroke-linecap:round;stroke-linejoin:round;stroke:rgb(0%,0%,0%);stroke-opacity:1;stroke-miterlimit:10;\" d=\"M 349.398438 208.800781 L 369.230469 208.800781 L 369.230469 208.304688 L 349.398438 208.304688 Z M 349.398438 208.800781 \"/>\n",
       "<path style=\"fill:none;stroke-width:0.75;stroke-linecap:round;stroke-linejoin:round;stroke:rgb(0%,0%,0%);stroke-opacity:1;stroke-miterlimit:10;\" d=\"M 369.234375 208.800781 L 389.066406 208.800781 L 389.066406 208.550781 L 369.234375 208.550781 Z M 369.234375 208.800781 \"/>\n",
       "</g>\n",
       "</svg>\n"
      ],
      "text/plain": [
       "Plot with title \"Histogram of log(wordCount)\""
      ]
     },
     "metadata": {
      "image/svg+xml": {
       "isolated": true
      }
     },
     "output_type": "display_data"
    }
   ],
   "source": [
    "options(repr.plot.width=6, repr.plot.height=4)\n",
    "hist(log(wordCount))"
   ]
  },
  {
   "cell_type": "code",
   "execution_count": 80,
   "metadata": {
    "collapsed": false
   },
   "outputs": [
    {
     "data": {
      "image/png": "[encoded data removed]",
      "image/svg+xml": [
       "<?xml version=\"1.0\" encoding=\"UTF-8\"?>\n",
       "<svg xmlns=\"http://www.w3.org/2000/svg\" xmlns:xlink=\"http://www.w3.org/1999/xlink\" width=\"432pt\" height=\"288pt\" viewBox=\"0 0 432 288\" version=\"1.1\">\n",
       "<defs>\n",
       "<g>\n",
       "<symbol overflow=\"visible\" id=\"glyph0-0\">\n",
       "<path style=\"stroke:none;\" d=\"\"/>\n",
       "</symbol>\n",
       "<symbol overflow=\"visible\" id=\"glyph0-1\">\n",
       "<path style=\"stroke:none;\" d=\"M 6.078125 -4.09375 C 6.078125 -7.046875 5.140625 -8.515625 3.296875 -8.515625 C 1.46875 -8.515625 0.515625 -7.015625 0.515625 -4.15625 C 0.515625 -1.296875 1.46875 0.1875 3.296875 0.1875 C 5.09375 0.1875 6.078125 -1.296875 6.078125 -4.09375 Z M 5 -4.1875 C 5 -1.78125 4.453125 -0.703125 3.28125 -0.703125 C 2.15625 -0.703125 1.59375 -1.828125 1.59375 -4.15625 C 1.59375 -6.484375 2.15625 -7.578125 3.296875 -7.578125 C 4.4375 -7.578125 5 -6.46875 5 -4.1875 Z M 5 -4.1875 \"/>\n",
       "</symbol>\n",
       "<symbol overflow=\"visible\" id=\"glyph0-2\">\n",
       "<path style=\"stroke:none;\" d=\"M 4.15625 0 L 4.15625 -8.515625 L 3.46875 -8.515625 C 3.09375 -7.203125 2.859375 -7.015625 1.21875 -6.8125 L 1.21875 -6.0625 L 3.109375 -6.0625 L 3.109375 0 Z M 4.15625 0 \"/>\n",
       "</symbol>\n",
       "<symbol overflow=\"visible\" id=\"glyph1-0\">\n",
       "<path style=\"stroke:none;\" d=\"\"/>\n",
       "</symbol>\n",
       "<symbol overflow=\"visible\" id=\"glyph1-1\">\n",
       "<path style=\"stroke:none;\" d=\"M -6.015625 -6.125 C -7.453125 -6.125 -8.515625 -5.015625 -8.515625 -3.40625 C -8.515625 -1.671875 -7.625 -0.65625 -5.5625 -0.59375 L -5.5625 -1.65625 C -6.984375 -1.734375 -7.578125 -2.328125 -7.578125 -3.375 C -7.578125 -4.328125 -6.90625 -5.046875 -5.984375 -5.046875 C -5.3125 -5.046875 -4.734375 -4.65625 -4.3125 -3.90625 L -3.6875 -2.796875 C -2.671875 -1.015625 -1.875 -0.5 0 -0.40625 L 0 -6.078125 L -1.046875 -6.078125 L -1.046875 -1.59375 C -1.734375 -1.703125 -2.1875 -2.09375 -2.796875 -3.125 L -3.4375 -4.328125 C -4.078125 -5.515625 -4.96875 -6.125 -6.015625 -6.125 Z M -6.015625 -6.125 \"/>\n",
       "</symbol>\n",
       "<symbol overflow=\"visible\" id=\"glyph1-2\">\n",
       "<path style=\"stroke:none;\" d=\"M -2.046875 -6.234375 L -2.984375 -6.234375 L -2.984375 -4.984375 L -8.515625 -4.984375 L -8.515625 -4.203125 L -3.15625 -0.34375 L -2.046875 -0.34375 L -2.046875 -3.921875 L 0 -3.921875 L 0 -4.984375 L -2.046875 -4.984375 Z M -2.984375 -3.921875 L -2.984375 -1.265625 L -6.703125 -3.921875 Z M -2.984375 -3.921875 \"/>\n",
       "</symbol>\n",
       "<symbol overflow=\"visible\" id=\"glyph1-3\">\n",
       "<path style=\"stroke:none;\" d=\"M -2.640625 -6.15625 C -4.21875 -6.15625 -5.296875 -5.078125 -5.296875 -3.546875 C -5.296875 -2.71875 -4.96875 -2.046875 -4.34375 -1.59375 C -6.421875 -1.609375 -7.578125 -2.28125 -7.578125 -3.484375 C -7.578125 -4.234375 -7.109375 -4.75 -6.28125 -4.921875 L -6.28125 -5.96875 C -7.6875 -5.765625 -8.515625 -4.859375 -8.515625 -3.5625 C -8.515625 -1.578125 -6.84375 -0.515625 -3.875 -0.515625 C -1.21875 -0.515625 0.1875 -1.421875 0.1875 -3.375 C 0.1875 -4.984375 -0.96875 -6.15625 -2.640625 -6.15625 Z M -2.5625 -5.078125 C -1.484375 -5.078125 -0.75 -4.359375 -0.75 -3.390625 C -0.75 -2.40625 -1.53125 -1.65625 -2.609375 -1.65625 C -3.671875 -1.65625 -4.359375 -2.375 -4.359375 -3.421875 C -4.359375 -4.4375 -3.703125 -5.078125 -2.5625 -5.078125 Z M -2.5625 -5.078125 \"/>\n",
       "</symbol>\n",
       "<symbol overflow=\"visible\" id=\"glyph1-4\">\n",
       "<path style=\"stroke:none;\" d=\"M -2.40625 -6.15625 C -3.34375 -6.15625 -4.015625 -5.671875 -4.46875 -4.6875 C -5 -5.5625 -5.4375 -5.859375 -6.234375 -5.859375 C -7.578125 -5.859375 -8.515625 -4.8125 -8.515625 -3.296875 C -8.515625 -1.796875 -7.578125 -0.75 -6.234375 -0.75 C -5.453125 -0.75 -5.015625 -1.03125 -4.46875 -1.890625 C -4.015625 -0.921875 -3.34375 -0.4375 -2.40625 -0.4375 C -0.859375 -0.4375 0.1875 -1.625 0.1875 -3.296875 C 0.1875 -4.984375 -0.859375 -6.15625 -2.40625 -6.15625 Z M -6.21875 -4.78125 C -5.421875 -4.78125 -4.890625 -4.1875 -4.890625 -3.296875 C -4.890625 -2.40625 -5.421875 -1.828125 -6.234375 -1.828125 C -7.046875 -1.828125 -7.578125 -2.40625 -7.578125 -3.296875 C -7.578125 -4.203125 -7.046875 -4.78125 -6.21875 -4.78125 Z M -2.390625 -5.078125 C -1.375 -5.078125 -0.75 -4.359375 -0.75 -3.28125 C -0.75 -2.25 -1.390625 -1.53125 -2.390625 -1.53125 C -3.390625 -1.53125 -4.015625 -2.25 -4.015625 -3.296875 C -4.015625 -4.359375 -3.390625 -5.078125 -2.390625 -5.078125 Z M -2.390625 -5.078125 \"/>\n",
       "</symbol>\n",
       "</g>\n",
       "</defs>\n",
       "<g id=\"surface207\">\n",
       "<rect x=\"0\" y=\"0\" width=\"432\" height=\"288\" style=\"fill:rgb(100%,100%,100%);fill-opacity:1;stroke:none;\"/>\n",
       "<path style=\"fill:none;stroke-width:2.25;stroke-linecap:butt;stroke-linejoin:round;stroke:rgb(0%,0%,0%);stroke-opacity:1;stroke-miterlimit:10;\" d=\"M 87.601562 134.78125 L 214.535156 134.78125 \"/>\n",
       "<path style=\"fill:none;stroke-width:0.75;stroke-linecap:round;stroke-linejoin:round;stroke:rgb(0%,0%,0%);stroke-opacity:1;stroke-dasharray:3,3;stroke-miterlimit:10;\" d=\"M 151.066406 180.34375 L 151.066406 147.15625 \"/>\n",
       "<path style=\"fill:none;stroke-width:0.75;stroke-linecap:round;stroke-linejoin:round;stroke:rgb(0%,0%,0%);stroke-opacity:1;stroke-dasharray:3,3;stroke-miterlimit:10;\" d=\"M 151.066406 89.363281 L 151.066406 123.765625 \"/>\n",
       "<path style=\"fill:none;stroke-width:0.75;stroke-linecap:round;stroke-linejoin:round;stroke:rgb(0%,0%,0%);stroke-opacity:1;stroke-miterlimit:10;\" d=\"M 119.332031 180.34375 L 182.800781 180.34375 \"/>\n",
       "<path style=\"fill:none;stroke-width:0.75;stroke-linecap:round;stroke-linejoin:round;stroke:rgb(0%,0%,0%);stroke-opacity:1;stroke-miterlimit:10;\" d=\"M 119.332031 89.363281 L 182.800781 89.363281 \"/>\n",
       "<path style=\"fill:none;stroke-width:0.75;stroke-linecap:round;stroke-linejoin:round;stroke:rgb(0%,0%,0%);stroke-opacity:1;stroke-miterlimit:10;\" d=\"M 87.601562 147.15625 L 214.535156 147.15625 L 214.535156 123.765625 L 87.601562 123.765625 L 87.601562 147.15625 \"/>\n",
       "<path style=\"fill:none;stroke-width:0.75;stroke-linecap:round;stroke-linejoin:round;stroke:rgb(0%,0%,0%);stroke-opacity:1;stroke-miterlimit:10;\" d=\"M 153.765625 65.117188 C 153.765625 68.714844 148.367188 68.714844 148.367188 65.117188 C 148.367188 61.515625 153.765625 61.515625 153.765625 65.117188 \"/>\n",
       "<path style=\"fill:none;stroke-width:0.75;stroke-linecap:round;stroke-linejoin:round;stroke:rgb(0%,0%,0%);stroke-opacity:1;stroke-miterlimit:10;\" d=\"M 153.765625 188.015625 C 153.765625 191.613281 148.367188 191.613281 148.367188 188.015625 C 148.367188 184.414062 153.765625 184.414062 153.765625 188.015625 \"/>\n",
       "<path style=\"fill:none;stroke-width:0.75;stroke-linecap:round;stroke-linejoin:round;stroke:rgb(0%,0%,0%);stroke-opacity:1;stroke-miterlimit:10;\" d=\"M 153.765625 82.148438 C 153.765625 85.75 148.367188 85.75 148.367188 82.148438 C 148.367188 78.546875 153.765625 78.546875 153.765625 82.148438 \"/>\n",
       "<path style=\"fill:none;stroke-width:0.75;stroke-linecap:round;stroke-linejoin:round;stroke:rgb(0%,0%,0%);stroke-opacity:1;stroke-miterlimit:10;\" d=\"M 153.765625 182.570312 C 153.765625 186.171875 148.367188 186.171875 148.367188 182.570312 C 148.367188 178.972656 153.765625 178.972656 153.765625 182.570312 \"/>\n",
       "<path style=\"fill:none;stroke-width:0.75;stroke-linecap:round;stroke-linejoin:round;stroke:rgb(0%,0%,0%);stroke-opacity:1;stroke-miterlimit:10;\" d=\"M 153.765625 182.570312 C 153.765625 186.171875 148.367188 186.171875 148.367188 182.570312 C 148.367188 178.972656 153.765625 178.972656 153.765625 182.570312 \"/>\n",
       "<path style=\"fill:none;stroke-width:0.75;stroke-linecap:round;stroke-linejoin:round;stroke:rgb(0%,0%,0%);stroke-opacity:1;stroke-miterlimit:10;\" d=\"M 153.765625 185.097656 C 153.765625 188.699219 148.367188 188.699219 148.367188 185.097656 C 148.367188 181.496094 153.765625 181.496094 153.765625 185.097656 \"/>\n",
       "<path style=\"fill:none;stroke-width:0.75;stroke-linecap:round;stroke-linejoin:round;stroke:rgb(0%,0%,0%);stroke-opacity:1;stroke-miterlimit:10;\" d=\"M 153.765625 88.394531 C 153.765625 91.992188 148.367188 91.992188 148.367188 88.394531 C 148.367188 84.792969 153.765625 84.792969 153.765625 88.394531 \"/>\n",
       "<path style=\"fill:none;stroke-width:0.75;stroke-linecap:round;stroke-linejoin:round;stroke:rgb(0%,0%,0%);stroke-opacity:1;stroke-miterlimit:10;\" d=\"M 153.765625 188.015625 C 153.765625 191.613281 148.367188 191.613281 148.367188 188.015625 C 148.367188 184.414062 153.765625 184.414062 153.765625 188.015625 \"/>\n",
       "<path style=\"fill:none;stroke-width:0.75;stroke-linecap:round;stroke-linejoin:round;stroke:rgb(0%,0%,0%);stroke-opacity:1;stroke-miterlimit:10;\" d=\"M 153.765625 208.800781 C 153.765625 212.398438 148.367188 212.398438 148.367188 208.800781 C 148.367188 205.199219 153.765625 205.199219 153.765625 208.800781 \"/>\n",
       "<path style=\"fill:none;stroke-width:0.75;stroke-linecap:round;stroke-linejoin:round;stroke:rgb(0%,0%,0%);stroke-opacity:1;stroke-miterlimit:10;\" d=\"M 153.765625 195.683594 C 153.765625 199.285156 148.367188 199.285156 148.367188 195.683594 C 148.367188 192.085938 153.765625 192.085938 153.765625 195.683594 \"/>\n",
       "<path style=\"fill:none;stroke-width:0.75;stroke-linecap:round;stroke-linejoin:round;stroke:rgb(0%,0%,0%);stroke-opacity:1;stroke-miterlimit:10;\" d=\"M 153.765625 88.277344 C 153.765625 91.878906 148.367188 91.878906 148.367188 88.277344 C 148.367188 84.679688 153.765625 84.679688 153.765625 88.277344 \"/>\n",
       "<path style=\"fill:none;stroke-width:0.75;stroke-linecap:round;stroke-linejoin:round;stroke:rgb(0%,0%,0%);stroke-opacity:1;stroke-miterlimit:10;\" d=\"M 153.765625 201.128906 C 153.765625 204.726562 148.367188 204.726562 148.367188 201.128906 C 148.367188 197.527344 153.765625 197.527344 153.765625 201.128906 \"/>\n",
       "<path style=\"fill:none;stroke-width:0.75;stroke-linecap:round;stroke-linejoin:round;stroke:rgb(0%,0%,0%);stroke-opacity:1;stroke-miterlimit:10;\" d=\"M 153.765625 201.128906 C 153.765625 204.726562 148.367188 204.726562 148.367188 201.128906 C 148.367188 197.527344 153.765625 197.527344 153.765625 201.128906 \"/>\n",
       "<path style=\"fill:none;stroke-width:0.75;stroke-linecap:round;stroke-linejoin:round;stroke:rgb(0%,0%,0%);stroke-opacity:1;stroke-miterlimit:10;\" d=\"M 153.765625 72.496094 C 153.765625 76.09375 148.367188 76.09375 148.367188 72.496094 C 148.367188 68.894531 153.765625 68.894531 153.765625 72.496094 \"/>\n",
       "<path style=\"fill:none;stroke-width:0.75;stroke-linecap:round;stroke-linejoin:round;stroke:rgb(0%,0%,0%);stroke-opacity:1;stroke-miterlimit:10;\" d=\"M 153.765625 182.570312 C 153.765625 186.171875 148.367188 186.171875 148.367188 182.570312 C 148.367188 178.972656 153.765625 178.972656 153.765625 182.570312 \"/>\n",
       "<path style=\"fill:none;stroke-width:0.75;stroke-linecap:round;stroke-linejoin:round;stroke:rgb(0%,0%,0%);stroke-opacity:1;stroke-miterlimit:10;\" d=\"M 153.765625 74.363281 C 153.765625 77.964844 148.367188 77.964844 148.367188 74.363281 C 148.367188 70.765625 153.765625 70.765625 153.765625 74.363281 \"/>\n",
       "<path style=\"fill:none;stroke-width:0.75;stroke-linecap:round;stroke-linejoin:round;stroke:rgb(0%,0%,0%);stroke-opacity:1;stroke-miterlimit:10;\" d=\"M 153.765625 201.128906 C 153.765625 204.726562 148.367188 204.726562 148.367188 201.128906 C 148.367188 197.527344 153.765625 197.527344 153.765625 201.128906 \"/>\n",
       "<path style=\"fill:none;stroke-width:0.75;stroke-linecap:round;stroke-linejoin:round;stroke:rgb(0%,0%,0%);stroke-opacity:1;stroke-miterlimit:10;\" d=\"M 153.765625 85.636719 C 153.765625 89.238281 148.367188 89.238281 148.367188 85.636719 C 148.367188 82.039062 153.765625 82.039062 153.765625 85.636719 \"/>\n",
       "<path style=\"fill:none;stroke-width:0.75;stroke-linecap:round;stroke-linejoin:round;stroke:rgb(0%,0%,0%);stroke-opacity:1;stroke-miterlimit:10;\" d=\"M 153.765625 64.800781 C 153.765625 68.398438 148.367188 68.398438 148.367188 64.800781 C 148.367188 61.199219 153.765625 61.199219 153.765625 64.800781 \"/>\n",
       "<path style=\"fill:none;stroke-width:0.75;stroke-linecap:round;stroke-linejoin:round;stroke:rgb(0%,0%,0%);stroke-opacity:1;stroke-miterlimit:10;\" d=\"M 153.765625 182.570312 C 153.765625 186.171875 148.367188 186.171875 148.367188 182.570312 C 148.367188 178.972656 153.765625 178.972656 153.765625 182.570312 \"/>\n",
       "<path style=\"fill:none;stroke-width:0.75;stroke-linecap:round;stroke-linejoin:round;stroke:rgb(0%,0%,0%);stroke-opacity:1;stroke-miterlimit:10;\" d=\"M 153.765625 195.683594 C 153.765625 199.285156 148.367188 199.285156 148.367188 195.683594 C 148.367188 192.085938 153.765625 192.085938 153.765625 195.683594 \"/>\n",
       "<path style=\"fill:none;stroke-width:0.75;stroke-linecap:round;stroke-linejoin:round;stroke:rgb(0%,0%,0%);stroke-opacity:1;stroke-miterlimit:10;\" d=\"M 153.765625 188.015625 C 153.765625 191.613281 148.367188 191.613281 148.367188 188.015625 C 148.367188 184.414062 153.765625 184.414062 153.765625 188.015625 \"/>\n",
       "<path style=\"fill:none;stroke-width:0.75;stroke-linecap:round;stroke-linejoin:round;stroke:rgb(0%,0%,0%);stroke-opacity:1;stroke-miterlimit:10;\" d=\"M 153.765625 195.683594 C 153.765625 199.285156 148.367188 199.285156 148.367188 195.683594 C 148.367188 192.085938 153.765625 192.085938 153.765625 195.683594 \"/>\n",
       "<path style=\"fill:none;stroke-width:0.75;stroke-linecap:round;stroke-linejoin:round;stroke:rgb(0%,0%,0%);stroke-opacity:1;stroke-miterlimit:10;\" d=\"M 153.765625 191.464844 C 153.765625 195.0625 148.367188 195.0625 148.367188 191.464844 C 148.367188 187.863281 153.765625 187.863281 153.765625 191.464844 \"/>\n",
       "<path style=\"fill:none;stroke-width:0.75;stroke-linecap:round;stroke-linejoin:round;stroke:rgb(0%,0%,0%);stroke-opacity:1;stroke-miterlimit:10;\" d=\"M 153.765625 191.464844 C 153.765625 195.0625 148.367188 195.0625 148.367188 191.464844 C 148.367188 187.863281 153.765625 187.863281 153.765625 191.464844 \"/>\n",
       "<path style=\"fill:none;stroke-width:0.75;stroke-linecap:round;stroke-linejoin:round;stroke:rgb(0%,0%,0%);stroke-opacity:1;stroke-miterlimit:10;\" d=\"M 153.765625 85.609375 C 153.765625 89.210938 148.367188 89.210938 148.367188 85.609375 C 148.367188 82.007812 153.765625 82.007812 153.765625 85.609375 \"/>\n",
       "<path style=\"fill:none;stroke-width:0.75;stroke-linecap:round;stroke-linejoin:round;stroke:rgb(0%,0%,0%);stroke-opacity:1;stroke-miterlimit:10;\" d=\"M 153.765625 195.683594 C 153.765625 199.285156 148.367188 199.285156 148.367188 195.683594 C 148.367188 192.085938 153.765625 192.085938 153.765625 195.683594 \"/>\n",
       "<path style=\"fill:none;stroke-width:0.75;stroke-linecap:round;stroke-linejoin:round;stroke:rgb(0%,0%,0%);stroke-opacity:1;stroke-miterlimit:10;\" d=\"M 153.765625 182.570312 C 153.765625 186.171875 148.367188 186.171875 148.367188 182.570312 C 148.367188 178.972656 153.765625 178.972656 153.765625 182.570312 \"/>\n",
       "<path style=\"fill:none;stroke-width:0.75;stroke-linecap:round;stroke-linejoin:round;stroke:rgb(0%,0%,0%);stroke-opacity:1;stroke-miterlimit:10;\" d=\"M 153.765625 85.332031 C 153.765625 88.929688 148.367188 88.929688 148.367188 85.332031 C 148.367188 81.730469 153.765625 81.730469 153.765625 85.332031 \"/>\n",
       "<path style=\"fill:none;stroke-width:0.75;stroke-linecap:round;stroke-linejoin:round;stroke:rgb(0%,0%,0%);stroke-opacity:1;stroke-miterlimit:10;\" d=\"M 153.765625 191.464844 C 153.765625 195.0625 148.367188 195.0625 148.367188 191.464844 C 148.367188 187.863281 153.765625 187.863281 153.765625 191.464844 \"/>\n",
       "<path style=\"fill:none;stroke-width:0.75;stroke-linecap:round;stroke-linejoin:round;stroke:rgb(0%,0%,0%);stroke-opacity:1;stroke-miterlimit:10;\" d=\"M 153.765625 182.570312 C 153.765625 186.171875 148.367188 186.171875 148.367188 182.570312 C 148.367188 178.972656 153.765625 178.972656 153.765625 182.570312 \"/>\n",
       "<path style=\"fill:none;stroke-width:0.75;stroke-linecap:round;stroke-linejoin:round;stroke:rgb(0%,0%,0%);stroke-opacity:1;stroke-miterlimit:10;\" d=\"M 153.765625 191.464844 C 153.765625 195.0625 148.367188 195.0625 148.367188 191.464844 C 148.367188 187.863281 153.765625 187.863281 153.765625 191.464844 \"/>\n",
       "<path style=\"fill:none;stroke-width:0.75;stroke-linecap:round;stroke-linejoin:round;stroke:rgb(0%,0%,0%);stroke-opacity:1;stroke-miterlimit:10;\" d=\"M 153.765625 191.464844 C 153.765625 195.0625 148.367188 195.0625 148.367188 191.464844 C 148.367188 187.863281 153.765625 187.863281 153.765625 191.464844 \"/>\n",
       "<path style=\"fill:none;stroke-width:0.75;stroke-linecap:round;stroke-linejoin:round;stroke:rgb(0%,0%,0%);stroke-opacity:1;stroke-miterlimit:10;\" d=\"M 153.765625 191.464844 C 153.765625 195.0625 148.367188 195.0625 148.367188 191.464844 C 148.367188 187.863281 153.765625 187.863281 153.765625 191.464844 \"/>\n",
       "<path style=\"fill:none;stroke-width:0.75;stroke-linecap:round;stroke-linejoin:round;stroke:rgb(0%,0%,0%);stroke-opacity:1;stroke-miterlimit:10;\" d=\"M 153.765625 188.015625 C 153.765625 191.613281 148.367188 191.613281 148.367188 188.015625 C 148.367188 184.414062 153.765625 184.414062 153.765625 188.015625 \"/>\n",
       "<path style=\"fill:none;stroke-width:0.75;stroke-linecap:round;stroke-linejoin:round;stroke:rgb(0%,0%,0%);stroke-opacity:1;stroke-miterlimit:10;\" d=\"M 153.765625 188.015625 C 153.765625 191.613281 148.367188 191.613281 148.367188 188.015625 C 148.367188 184.414062 153.765625 184.414062 153.765625 188.015625 \"/>\n",
       "<path style=\"fill:none;stroke-width:0.75;stroke-linecap:round;stroke-linejoin:round;stroke:rgb(0%,0%,0%);stroke-opacity:1;stroke-miterlimit:10;\" d=\"M 153.765625 201.128906 C 153.765625 204.726562 148.367188 204.726562 148.367188 201.128906 C 148.367188 197.527344 153.765625 197.527344 153.765625 201.128906 \"/>\n",
       "<path style=\"fill:none;stroke-width:0.75;stroke-linecap:round;stroke-linejoin:round;stroke:rgb(0%,0%,0%);stroke-opacity:1;stroke-miterlimit:10;\" d=\"M 153.765625 182.570312 C 153.765625 186.171875 148.367188 186.171875 148.367188 182.570312 C 148.367188 178.972656 153.765625 178.972656 153.765625 182.570312 \"/>\n",
       "<path style=\"fill:none;stroke-width:0.75;stroke-linecap:round;stroke-linejoin:round;stroke:rgb(0%,0%,0%);stroke-opacity:1;stroke-miterlimit:10;\" d=\"M 153.765625 188.015625 C 153.765625 191.613281 148.367188 191.613281 148.367188 188.015625 C 148.367188 184.414062 153.765625 184.414062 153.765625 188.015625 \"/>\n",
       "<path style=\"fill:none;stroke-width:0.75;stroke-linecap:round;stroke-linejoin:round;stroke:rgb(0%,0%,0%);stroke-opacity:1;stroke-miterlimit:10;\" d=\"M 153.765625 188.015625 C 153.765625 191.613281 148.367188 191.613281 148.367188 188.015625 C 148.367188 184.414062 153.765625 184.414062 153.765625 188.015625 \"/>\n",
       "<path style=\"fill:none;stroke-width:0.75;stroke-linecap:round;stroke-linejoin:round;stroke:rgb(0%,0%,0%);stroke-opacity:1;stroke-miterlimit:10;\" d=\"M 153.765625 188.015625 C 153.765625 191.613281 148.367188 191.613281 148.367188 188.015625 C 148.367188 184.414062 153.765625 184.414062 153.765625 188.015625 \"/>\n",
       "<path style=\"fill:none;stroke-width:0.75;stroke-linecap:round;stroke-linejoin:round;stroke:rgb(0%,0%,0%);stroke-opacity:1;stroke-miterlimit:10;\" d=\"M 153.765625 182.570312 C 153.765625 186.171875 148.367188 186.171875 148.367188 182.570312 C 148.367188 178.972656 153.765625 178.972656 153.765625 182.570312 \"/>\n",
       "<path style=\"fill:none;stroke-width:0.75;stroke-linecap:round;stroke-linejoin:round;stroke:rgb(0%,0%,0%);stroke-opacity:1;stroke-miterlimit:10;\" d=\"M 153.765625 195.683594 C 153.765625 199.285156 148.367188 199.285156 148.367188 195.683594 C 148.367188 192.085938 153.765625 192.085938 153.765625 195.683594 \"/>\n",
       "<path style=\"fill:none;stroke-width:0.75;stroke-linecap:round;stroke-linejoin:round;stroke:rgb(0%,0%,0%);stroke-opacity:1;stroke-miterlimit:10;\" d=\"M 153.765625 185.097656 C 153.765625 188.699219 148.367188 188.699219 148.367188 185.097656 C 148.367188 181.496094 153.765625 181.496094 153.765625 185.097656 \"/>\n",
       "<path style=\"fill:none;stroke-width:0.75;stroke-linecap:round;stroke-linejoin:round;stroke:rgb(0%,0%,0%);stroke-opacity:1;stroke-miterlimit:10;\" d=\"M 153.765625 191.464844 C 153.765625 195.0625 148.367188 195.0625 148.367188 191.464844 C 148.367188 187.863281 153.765625 187.863281 153.765625 191.464844 \"/>\n",
       "<path style=\"fill:none;stroke-width:0.75;stroke-linecap:round;stroke-linejoin:round;stroke:rgb(0%,0%,0%);stroke-opacity:1;stroke-miterlimit:10;\" d=\"M 153.765625 88.476562 C 153.765625 92.074219 148.367188 92.074219 148.367188 88.476562 C 148.367188 84.875 153.765625 84.875 153.765625 88.476562 \"/>\n",
       "<path style=\"fill:none;stroke-width:0.75;stroke-linecap:round;stroke-linejoin:round;stroke:rgb(0%,0%,0%);stroke-opacity:1;stroke-miterlimit:10;\" d=\"M 153.765625 195.683594 C 153.765625 199.285156 148.367188 199.285156 148.367188 195.683594 C 148.367188 192.085938 153.765625 192.085938 153.765625 195.683594 \"/>\n",
       "<path style=\"fill:none;stroke-width:0.75;stroke-linecap:round;stroke-linejoin:round;stroke:rgb(0%,0%,0%);stroke-opacity:1;stroke-miterlimit:10;\" d=\"M 153.765625 188.015625 C 153.765625 191.613281 148.367188 191.613281 148.367188 188.015625 C 148.367188 184.414062 153.765625 184.414062 153.765625 188.015625 \"/>\n",
       "<path style=\"fill:none;stroke-width:0.75;stroke-linecap:round;stroke-linejoin:round;stroke:rgb(0%,0%,0%);stroke-opacity:1;stroke-miterlimit:10;\" d=\"M 153.765625 185.097656 C 153.765625 188.699219 148.367188 188.699219 148.367188 185.097656 C 148.367188 181.496094 153.765625 181.496094 153.765625 185.097656 \"/>\n",
       "<path style=\"fill:none;stroke-width:0.75;stroke-linecap:round;stroke-linejoin:round;stroke:rgb(0%,0%,0%);stroke-opacity:1;stroke-miterlimit:10;\" d=\"M 153.765625 185.097656 C 153.765625 188.699219 148.367188 188.699219 148.367188 185.097656 C 148.367188 181.496094 153.765625 181.496094 153.765625 185.097656 \"/>\n",
       "<path style=\"fill:none;stroke-width:2.25;stroke-linecap:butt;stroke-linejoin:round;stroke:rgb(0%,0%,0%);stroke-opacity:1;stroke-miterlimit:10;\" d=\"M 246.265625 144.449219 L 373.199219 144.449219 \"/>\n",
       "<path style=\"fill:none;stroke-width:0.75;stroke-linecap:round;stroke-linejoin:round;stroke:rgb(0%,0%,0%);stroke-opacity:1;stroke-dasharray:3,3;stroke-miterlimit:10;\" d=\"M 309.734375 182.570312 L 309.734375 153.089844 \"/>\n",
       "<path style=\"fill:none;stroke-width:0.75;stroke-linecap:round;stroke-linejoin:round;stroke:rgb(0%,0%,0%);stroke-opacity:1;stroke-dasharray:3,3;stroke-miterlimit:10;\" d=\"M 309.734375 101.953125 L 309.734375 132.554688 \"/>\n",
       "<path style=\"fill:none;stroke-width:0.75;stroke-linecap:round;stroke-linejoin:round;stroke:rgb(0%,0%,0%);stroke-opacity:1;stroke-miterlimit:10;\" d=\"M 278 182.570312 L 341.464844 182.570312 \"/>\n",
       "<path style=\"fill:none;stroke-width:0.75;stroke-linecap:round;stroke-linejoin:round;stroke:rgb(0%,0%,0%);stroke-opacity:1;stroke-miterlimit:10;\" d=\"M 278 101.953125 L 341.464844 101.953125 \"/>\n",
       "<path style=\"fill:none;stroke-width:0.75;stroke-linecap:round;stroke-linejoin:round;stroke:rgb(0%,0%,0%);stroke-opacity:1;stroke-miterlimit:10;\" d=\"M 246.265625 153.089844 L 373.199219 153.089844 L 373.199219 132.554688 L 246.265625 132.554688 L 246.265625 153.089844 \"/>\n",
       "<path style=\"fill:none;stroke-width:0.75;stroke-linecap:round;stroke-linejoin:round;stroke:rgb(0%,0%,0%);stroke-opacity:1;stroke-miterlimit:10;\" d=\"M 312.433594 95.132812 C 312.433594 98.734375 307.035156 98.734375 307.035156 95.132812 C 307.035156 91.535156 312.433594 91.535156 312.433594 95.132812 \"/>\n",
       "<path style=\"fill:none;stroke-width:0.75;stroke-linecap:round;stroke-linejoin:round;stroke:rgb(0%,0%,0%);stroke-opacity:1;stroke-miterlimit:10;\" d=\"M 312.433594 97.121094 C 312.433594 100.71875 307.035156 100.71875 307.035156 97.121094 C 307.035156 93.519531 312.433594 93.519531 312.433594 97.121094 \"/>\n",
       "<path style=\"fill:none;stroke-width:0.75;stroke-linecap:round;stroke-linejoin:round;stroke:rgb(0%,0%,0%);stroke-opacity:1;stroke-miterlimit:10;\" d=\"M 312.433594 95.019531 C 312.433594 98.617188 307.035156 98.617188 307.035156 95.019531 C 307.035156 91.417969 312.433594 91.417969 312.433594 95.019531 \"/>\n",
       "<path style=\"fill:none;stroke-width:0.75;stroke-linecap:round;stroke-linejoin:round;stroke:rgb(0%,0%,0%);stroke-opacity:1;stroke-miterlimit:10;\" d=\"M 312.433594 80.585938 C 312.433594 84.1875 307.035156 84.1875 307.035156 80.585938 C 307.035156 76.984375 312.433594 76.984375 312.433594 80.585938 \"/>\n",
       "<path style=\"fill:none;stroke-width:0.75;stroke-linecap:round;stroke-linejoin:round;stroke:rgb(0%,0%,0%);stroke-opacity:1;stroke-miterlimit:10;\" d=\"M 312.433594 94.902344 C 312.433594 98.503906 307.035156 98.503906 307.035156 94.902344 C 307.035156 91.304688 312.433594 91.304688 312.433594 94.902344 \"/>\n",
       "<path style=\"fill:none;stroke-width:0.75;stroke-linecap:round;stroke-linejoin:round;stroke:rgb(0%,0%,0%);stroke-opacity:1;stroke-miterlimit:10;\" d=\"M 312.433594 91.792969 C 312.433594 95.394531 307.035156 95.394531 307.035156 91.792969 C 307.035156 88.195312 312.433594 88.195312 312.433594 91.792969 \"/>\n",
       "<path style=\"fill:none;stroke-width:0.75;stroke-linecap:round;stroke-linejoin:round;stroke:rgb(0%,0%,0%);stroke-opacity:1;stroke-miterlimit:10;\" d=\"M 312.433594 188.015625 C 312.433594 191.613281 307.035156 191.613281 307.035156 188.015625 C 307.035156 184.414062 312.433594 184.414062 312.433594 188.015625 \"/>\n",
       "<path style=\"fill:none;stroke-width:0.75;stroke-linecap:round;stroke-linejoin:round;stroke:rgb(0%,0%,0%);stroke-opacity:1;stroke-miterlimit:10;\" d=\"M 312.433594 80.542969 C 312.433594 84.144531 307.035156 84.144531 307.035156 80.542969 C 307.035156 76.941406 312.433594 76.941406 312.433594 80.542969 \"/>\n",
       "<path style=\"fill:none;stroke-width:0.75;stroke-linecap:round;stroke-linejoin:round;stroke:rgb(0%,0%,0%);stroke-opacity:1;stroke-miterlimit:10;\" d=\"M 312.433594 76.691406 C 312.433594 80.289062 307.035156 80.289062 307.035156 76.691406 C 307.035156 73.089844 312.433594 73.089844 312.433594 76.691406 \"/>\n",
       "<path style=\"fill:none;stroke-width:0.75;stroke-linecap:round;stroke-linejoin:round;stroke:rgb(0%,0%,0%);stroke-opacity:1;stroke-miterlimit:10;\" d=\"M 312.433594 86.445312 C 312.433594 90.042969 307.035156 90.042969 307.035156 86.445312 C 307.035156 82.84375 312.433594 82.84375 312.433594 86.445312 \"/>\n",
       "<path style=\"fill:none;stroke-width:0.75;stroke-linecap:round;stroke-linejoin:round;stroke:rgb(0%,0%,0%);stroke-opacity:1;stroke-miterlimit:10;\" d=\"M 312.433594 100.695312 C 312.433594 104.292969 307.035156 104.292969 307.035156 100.695312 C 307.035156 97.09375 312.433594 97.09375 312.433594 100.695312 \"/>\n",
       "<path style=\"fill:none;stroke-width:0.75;stroke-linecap:round;stroke-linejoin:round;stroke:rgb(0%,0%,0%);stroke-opacity:1;stroke-miterlimit:10;\" d=\"M 312.433594 98.992188 C 312.433594 102.59375 307.035156 102.59375 307.035156 98.992188 C 307.035156 95.394531 312.433594 95.394531 312.433594 98.992188 \"/>\n",
       "<path style=\"fill:none;stroke-width:0.75;stroke-linecap:round;stroke-linejoin:round;stroke:rgb(0%,0%,0%);stroke-opacity:1;stroke-miterlimit:10;\" d=\"M 312.433594 185.097656 C 312.433594 188.699219 307.035156 188.699219 307.035156 185.097656 C 307.035156 181.496094 312.433594 181.496094 312.433594 185.097656 \"/>\n",
       "<path style=\"fill:none;stroke-width:0.75;stroke-linecap:round;stroke-linejoin:round;stroke:rgb(0%,0%,0%);stroke-opacity:1;stroke-miterlimit:10;\" d=\"M 312.433594 95.179688 C 312.433594 98.78125 307.035156 98.78125 307.035156 95.179688 C 307.035156 91.582031 312.433594 91.582031 312.433594 95.179688 \"/>\n",
       "<path style=\"fill:none;stroke-width:0.75;stroke-linecap:round;stroke-linejoin:round;stroke:rgb(0%,0%,0%);stroke-opacity:1;stroke-miterlimit:10;\" d=\"M 312.433594 99.898438 C 312.433594 103.5 307.035156 103.5 307.035156 99.898438 C 307.035156 96.300781 312.433594 96.300781 312.433594 99.898438 \"/>\n",
       "<path style=\"fill:none;stroke-width:0.75;stroke-linecap:round;stroke-linejoin:round;stroke:rgb(0%,0%,0%);stroke-opacity:1;stroke-miterlimit:10;\" d=\"M 312.433594 101.621094 C 312.433594 105.222656 307.035156 105.222656 307.035156 101.621094 C 307.035156 98.023438 312.433594 98.023438 312.433594 101.621094 \"/>\n",
       "<path style=\"fill:none;stroke-width:0.75;stroke-linecap:round;stroke-linejoin:round;stroke:rgb(0%,0%,0%);stroke-opacity:1;stroke-miterlimit:10;\" d=\"M 312.433594 82.730469 C 312.433594 86.332031 307.035156 86.332031 307.035156 82.730469 C 307.035156 79.132812 312.433594 79.132812 312.433594 82.730469 \"/>\n",
       "<path style=\"fill:none;stroke-width:0.75;stroke-linecap:round;stroke-linejoin:round;stroke:rgb(0%,0%,0%);stroke-opacity:1;stroke-miterlimit:10;\" d=\"M 312.433594 93.210938 C 312.433594 96.8125 307.035156 96.8125 307.035156 93.210938 C 307.035156 89.609375 312.433594 89.609375 312.433594 93.210938 \"/>\n",
       "<path style=\"fill:none;stroke-width:0.75;stroke-linecap:round;stroke-linejoin:round;stroke:rgb(0%,0%,0%);stroke-opacity:1;stroke-miterlimit:10;\" d=\"M 312.433594 74.859375 C 312.433594 78.460938 307.035156 78.460938 307.035156 74.859375 C 307.035156 71.257812 312.433594 71.257812 312.433594 74.859375 \"/>\n",
       "<path style=\"fill:none;stroke-width:0.75;stroke-linecap:round;stroke-linejoin:round;stroke:rgb(0%,0%,0%);stroke-opacity:1;stroke-miterlimit:10;\" d=\"M 312.433594 208.800781 C 312.433594 212.398438 307.035156 212.398438 307.035156 208.800781 C 307.035156 205.199219 312.433594 205.199219 312.433594 208.800781 \"/>\n",
       "<path style=\"fill:none;stroke-width:0.75;stroke-linecap:round;stroke-linejoin:round;stroke:rgb(0%,0%,0%);stroke-opacity:1;stroke-miterlimit:10;\" d=\"M 312.433594 188.015625 C 312.433594 191.613281 307.035156 191.613281 307.035156 188.015625 C 307.035156 184.414062 312.433594 184.414062 312.433594 188.015625 \"/>\n",
       "<path style=\"fill:none;stroke-width:0.75;stroke-linecap:round;stroke-linejoin:round;stroke:rgb(0%,0%,0%);stroke-opacity:1;stroke-miterlimit:10;\" d=\"M 312.433594 87.238281 C 312.433594 90.839844 307.035156 90.839844 307.035156 87.238281 C 307.035156 83.640625 312.433594 83.640625 312.433594 87.238281 \"/>\n",
       "<path style=\"fill:none;stroke-width:0.75;stroke-linecap:round;stroke-linejoin:round;stroke:rgb(0%,0%,0%);stroke-opacity:1;stroke-miterlimit:10;\" d=\"M 312.433594 101.136719 C 312.433594 104.738281 307.035156 104.738281 307.035156 101.136719 C 307.035156 97.535156 312.433594 97.535156 312.433594 101.136719 \"/>\n",
       "<path style=\"fill:none;stroke-width:0.75;stroke-linecap:round;stroke-linejoin:round;stroke:rgb(0%,0%,0%);stroke-opacity:1;stroke-miterlimit:10;\" d=\"M 312.433594 87.285156 C 312.433594 90.886719 307.035156 90.886719 307.035156 87.285156 C 307.035156 83.683594 312.433594 83.683594 312.433594 87.285156 \"/>\n",
       "<path style=\"fill:none;stroke-width:0.75;stroke-linecap:round;stroke-linejoin:round;stroke:rgb(0%,0%,0%);stroke-opacity:1;stroke-miterlimit:10;\" d=\"M 312.433594 100.507812 C 312.433594 104.109375 307.035156 104.109375 307.035156 100.507812 C 307.035156 96.90625 312.433594 96.90625 312.433594 100.507812 \"/>\n",
       "<path style=\"fill:none;stroke-width:0.75;stroke-linecap:round;stroke-linejoin:round;stroke:rgb(0%,0%,0%);stroke-opacity:1;stroke-miterlimit:10;\" d=\"M 312.433594 95.226562 C 312.433594 98.828125 307.035156 98.828125 307.035156 95.226562 C 307.035156 91.628906 312.433594 91.628906 312.433594 95.226562 \"/>\n",
       "<path style=\"fill:none;stroke-width:0.75;stroke-linecap:round;stroke-linejoin:round;stroke:rgb(0%,0%,0%);stroke-opacity:1;stroke-miterlimit:10;\" d=\"M 312.433594 101.6875 C 312.433594 105.289062 307.035156 105.289062 307.035156 101.6875 C 307.035156 98.085938 312.433594 98.085938 312.433594 101.6875 \"/>\n",
       "<path style=\"fill:none;stroke-width:0.75;stroke-linecap:round;stroke-linejoin:round;stroke:rgb(0%,0%,0%);stroke-opacity:1;stroke-miterlimit:10;\" d=\"M 312.433594 95.042969 C 312.433594 98.640625 307.035156 98.640625 307.035156 95.042969 C 307.035156 91.441406 312.433594 91.441406 312.433594 95.042969 \"/>\n",
       "<path style=\"fill:none;stroke-width:0.75;stroke-linecap:round;stroke-linejoin:round;stroke:rgb(0%,0%,0%);stroke-opacity:1;stroke-miterlimit:10;\" d=\"M 312.433594 93.105469 C 312.433594 96.707031 307.035156 96.707031 307.035156 93.105469 C 307.035156 89.507812 312.433594 89.507812 312.433594 93.105469 \"/>\n",
       "<path style=\"fill:none;stroke-width:0.75;stroke-linecap:round;stroke-linejoin:round;stroke:rgb(0%,0%,0%);stroke-opacity:1;stroke-miterlimit:10;\" d=\"M 312.433594 87.332031 C 312.433594 90.929688 307.035156 90.929688 307.035156 87.332031 C 307.035156 83.730469 312.433594 83.730469 312.433594 87.332031 \"/>\n",
       "<path style=\"fill:none;stroke-width:0.75;stroke-linecap:round;stroke-linejoin:round;stroke:rgb(0%,0%,0%);stroke-opacity:1;stroke-miterlimit:10;\" d=\"M 312.433594 188.015625 C 312.433594 191.613281 307.035156 191.613281 307.035156 188.015625 C 307.035156 184.414062 312.433594 184.414062 312.433594 188.015625 \"/>\n",
       "<path style=\"fill:none;stroke-width:0.75;stroke-linecap:round;stroke-linejoin:round;stroke:rgb(0%,0%,0%);stroke-opacity:1;stroke-miterlimit:10;\" d=\"M 312.433594 82.621094 C 312.433594 86.222656 307.035156 86.222656 307.035156 82.621094 C 307.035156 79.023438 312.433594 79.023438 312.433594 82.621094 \"/>\n",
       "<path style=\"fill:none;stroke-width:0.75;stroke-linecap:round;stroke-linejoin:round;stroke:rgb(0%,0%,0%);stroke-opacity:1;stroke-miterlimit:10;\" d=\"M 312.433594 191.464844 C 312.433594 195.0625 307.035156 195.0625 307.035156 191.464844 C 307.035156 187.863281 312.433594 187.863281 312.433594 191.464844 \"/>\n",
       "<path style=\"fill:none;stroke-width:0.75;stroke-linecap:round;stroke-linejoin:round;stroke:rgb(0%,0%,0%);stroke-opacity:1;stroke-miterlimit:10;\" d=\"M 312.433594 94.605469 C 312.433594 98.207031 307.035156 98.207031 307.035156 94.605469 C 307.035156 91.007812 312.433594 91.007812 312.433594 94.605469 \"/>\n",
       "<path style=\"fill:none;stroke-width:0.75;stroke-linecap:round;stroke-linejoin:round;stroke:rgb(0%,0%,0%);stroke-opacity:1;stroke-miterlimit:10;\" d=\"M 312.433594 101.457031 C 312.433594 105.058594 307.035156 105.058594 307.035156 101.457031 C 307.035156 97.859375 312.433594 97.859375 312.433594 101.457031 \"/>\n",
       "<path style=\"fill:none;stroke-width:0.75;stroke-linecap:round;stroke-linejoin:round;stroke:rgb(0%,0%,0%);stroke-opacity:1;stroke-miterlimit:10;\" d=\"M 312.433594 96.890625 C 312.433594 100.488281 307.035156 100.488281 307.035156 96.890625 C 307.035156 93.289062 312.433594 93.289062 312.433594 96.890625 \"/>\n",
       "<path style=\"fill:none;stroke-width:0.75;stroke-linecap:round;stroke-linejoin:round;stroke:rgb(0%,0%,0%);stroke-opacity:1;stroke-miterlimit:10;\" d=\"M 312.433594 97.199219 C 312.433594 100.796875 307.035156 100.796875 307.035156 97.199219 C 307.035156 93.597656 312.433594 93.597656 312.433594 97.199219 \"/>\n",
       "<path style=\"fill:none;stroke-width:0.75;stroke-linecap:round;stroke-linejoin:round;stroke:rgb(0%,0%,0%);stroke-opacity:1;stroke-miterlimit:10;\" d=\"M 312.433594 185.097656 C 312.433594 188.699219 307.035156 188.699219 307.035156 185.097656 C 307.035156 181.496094 312.433594 181.496094 312.433594 185.097656 \"/>\n",
       "<path style=\"fill:none;stroke-width:0.75;stroke-linecap:round;stroke-linejoin:round;stroke:rgb(0%,0%,0%);stroke-opacity:1;stroke-miterlimit:10;\" d=\"M 312.433594 92.550781 C 312.433594 96.148438 307.035156 96.148438 307.035156 92.550781 C 307.035156 88.949219 312.433594 88.949219 312.433594 92.550781 \"/>\n",
       "<path style=\"fill:none;stroke-width:0.75;stroke-linecap:round;stroke-linejoin:round;stroke:rgb(0%,0%,0%);stroke-opacity:1;stroke-miterlimit:10;\" d=\"M 312.433594 86.996094 C 312.433594 90.59375 307.035156 90.59375 307.035156 86.996094 C 307.035156 83.394531 312.433594 83.394531 312.433594 86.996094 \"/>\n",
       "<path style=\"fill:none;stroke-width:0.75;stroke-linecap:round;stroke-linejoin:round;stroke:rgb(0%,0%,0%);stroke-opacity:1;stroke-miterlimit:10;\" d=\"M 312.433594 89.761719 C 312.433594 93.359375 307.035156 93.359375 307.035156 89.761719 C 307.035156 86.160156 312.433594 86.160156 312.433594 89.761719 \"/>\n",
       "<path style=\"fill:none;stroke-width:0.75;stroke-linecap:round;stroke-linejoin:round;stroke:rgb(0%,0%,0%);stroke-opacity:1;stroke-miterlimit:10;\" d=\"M 312.433594 84.292969 C 312.433594 87.890625 307.035156 87.890625 307.035156 84.292969 C 307.035156 80.691406 312.433594 80.691406 312.433594 84.292969 \"/>\n",
       "<path style=\"fill:none;stroke-width:0.75;stroke-linecap:round;stroke-linejoin:round;stroke:rgb(0%,0%,0%);stroke-opacity:1;stroke-miterlimit:10;\" d=\"M 312.433594 100.019531 C 312.433594 103.621094 307.035156 103.621094 307.035156 100.019531 C 307.035156 96.417969 312.433594 96.417969 312.433594 100.019531 \"/>\n",
       "<path style=\"fill:none;stroke-width:0.75;stroke-linecap:round;stroke-linejoin:round;stroke:rgb(0%,0%,0%);stroke-opacity:1;stroke-miterlimit:10;\" d=\"M 312.433594 88.230469 C 312.433594 91.832031 307.035156 91.832031 307.035156 88.230469 C 307.035156 84.628906 312.433594 84.628906 312.433594 88.230469 \"/>\n",
       "<path style=\"fill:none;stroke-width:0.75;stroke-linecap:round;stroke-linejoin:round;stroke:rgb(0%,0%,0%);stroke-opacity:1;stroke-miterlimit:10;\" d=\"M 312.433594 97.25 C 312.433594 100.851562 307.035156 100.851562 307.035156 97.25 C 307.035156 93.648438 312.433594 93.648438 312.433594 97.25 \"/>\n",
       "<path style=\"fill:none;stroke-width:0.75;stroke-linecap:round;stroke-linejoin:round;stroke:rgb(0%,0%,0%);stroke-opacity:1;stroke-miterlimit:10;\" d=\"M 312.433594 101.71875 C 312.433594 105.320312 307.035156 105.320312 307.035156 101.71875 C 307.035156 98.121094 312.433594 98.121094 312.433594 101.71875 \"/>\n",
       "<path style=\"fill:none;stroke-width:0.75;stroke-linecap:round;stroke-linejoin:round;stroke:rgb(0%,0%,0%);stroke-opacity:1;stroke-miterlimit:10;\" d=\"M 312.433594 87.878906 C 312.433594 91.480469 307.035156 91.480469 307.035156 87.878906 C 307.035156 84.277344 312.433594 84.277344 312.433594 87.878906 \"/>\n",
       "<path style=\"fill:none;stroke-width:0.75;stroke-linecap:round;stroke-linejoin:round;stroke:rgb(0%,0%,0%);stroke-opacity:1;stroke-miterlimit:10;\" d=\"M 312.433594 185.097656 C 312.433594 188.699219 307.035156 188.699219 307.035156 185.097656 C 307.035156 181.496094 312.433594 181.496094 312.433594 185.097656 \"/>\n",
       "<path style=\"fill:none;stroke-width:0.75;stroke-linecap:round;stroke-linejoin:round;stroke:rgb(0%,0%,0%);stroke-opacity:1;stroke-miterlimit:10;\" d=\"M 312.433594 96.839844 C 312.433594 100.4375 307.035156 100.4375 307.035156 96.839844 C 307.035156 93.238281 312.433594 93.238281 312.433594 96.839844 \"/>\n",
       "<path style=\"fill:none;stroke-width:0.75;stroke-linecap:round;stroke-linejoin:round;stroke:rgb(0%,0%,0%);stroke-opacity:1;stroke-miterlimit:10;\" d=\"M 312.433594 95.042969 C 312.433594 98.640625 307.035156 98.640625 307.035156 95.042969 C 307.035156 91.441406 312.433594 91.441406 312.433594 95.042969 \"/>\n",
       "<path style=\"fill:none;stroke-width:0.75;stroke-linecap:round;stroke-linejoin:round;stroke:rgb(0%,0%,0%);stroke-opacity:1;stroke-miterlimit:10;\" d=\"M 312.433594 82.265625 C 312.433594 85.867188 307.035156 85.867188 307.035156 82.265625 C 307.035156 78.664062 312.433594 78.664062 312.433594 82.265625 \"/>\n",
       "<path style=\"fill:none;stroke-width:0.75;stroke-linecap:round;stroke-linejoin:round;stroke:rgb(0%,0%,0%);stroke-opacity:1;stroke-miterlimit:10;\" d=\"M 312.433594 94.382812 C 312.433594 97.980469 307.035156 97.980469 307.035156 94.382812 C 307.035156 90.78125 312.433594 90.78125 312.433594 94.382812 \"/>\n",
       "<path style=\"fill:none;stroke-width:0.75;stroke-linecap:round;stroke-linejoin:round;stroke:rgb(0%,0%,0%);stroke-opacity:1;stroke-miterlimit:10;\" d=\"M 151.066406 214.558594 L 309.734375 214.558594 \"/>\n",
       "<path style=\"fill:none;stroke-width:0.75;stroke-linecap:round;stroke-linejoin:round;stroke:rgb(0%,0%,0%);stroke-opacity:1;stroke-miterlimit:10;\" d=\"M 151.066406 214.558594 L 151.066406 221.761719 \"/>\n",
       "<path style=\"fill:none;stroke-width:0.75;stroke-linecap:round;stroke-linejoin:round;stroke:rgb(0%,0%,0%);stroke-opacity:1;stroke-miterlimit:10;\" d=\"M 309.734375 214.558594 L 309.734375 221.761719 \"/>\n",
       "<g style=\"fill:rgb(0%,0%,0%);fill-opacity:1;\">\n",
       "  <use xlink:href=\"#glyph0-1\" x=\"147.566406\" y=\"240.256836\"/>\n",
       "</g>\n",
       "<g style=\"fill:rgb(0%,0%,0%);fill-opacity:1;\">\n",
       "  <use xlink:href=\"#glyph0-2\" x=\"306.234375\" y=\"240.256836\"/>\n",
       "</g>\n",
       "<path style=\"fill:none;stroke-width:0.75;stroke-linecap:round;stroke-linejoin:round;stroke:rgb(0%,0%,0%);stroke-opacity:1;stroke-miterlimit:10;\" d=\"M 59.039062 184.074219 L 59.039062 70.550781 \"/>\n",
       "<path style=\"fill:none;stroke-width:0.75;stroke-linecap:round;stroke-linejoin:round;stroke:rgb(0%,0%,0%);stroke-opacity:1;stroke-miterlimit:10;\" d=\"M 59.039062 184.074219 L 51.839844 184.074219 \"/>\n",
       "<path style=\"fill:none;stroke-width:0.75;stroke-linecap:round;stroke-linejoin:round;stroke:rgb(0%,0%,0%);stroke-opacity:1;stroke-miterlimit:10;\" d=\"M 59.039062 146.234375 L 51.839844 146.234375 \"/>\n",
       "<path style=\"fill:none;stroke-width:0.75;stroke-linecap:round;stroke-linejoin:round;stroke:rgb(0%,0%,0%);stroke-opacity:1;stroke-miterlimit:10;\" d=\"M 59.039062 108.390625 L 51.839844 108.390625 \"/>\n",
       "<path style=\"fill:none;stroke-width:0.75;stroke-linecap:round;stroke-linejoin:round;stroke:rgb(0%,0%,0%);stroke-opacity:1;stroke-miterlimit:10;\" d=\"M 59.039062 70.550781 L 51.839844 70.550781 \"/>\n",
       "<g style=\"fill:rgb(0%,0%,0%);fill-opacity:1;\">\n",
       "  <use xlink:href=\"#glyph1-1\" x=\"41.538086\" y=\"187.574219\"/>\n",
       "</g>\n",
       "<g style=\"fill:rgb(0%,0%,0%);fill-opacity:1;\">\n",
       "  <use xlink:href=\"#glyph1-2\" x=\"41.538086\" y=\"149.734375\"/>\n",
       "</g>\n",
       "<g style=\"fill:rgb(0%,0%,0%);fill-opacity:1;\">\n",
       "  <use xlink:href=\"#glyph1-3\" x=\"41.538086\" y=\"111.890625\"/>\n",
       "</g>\n",
       "<g style=\"fill:rgb(0%,0%,0%);fill-opacity:1;\">\n",
       "  <use xlink:href=\"#glyph1-4\" x=\"41.538086\" y=\"74.050781\"/>\n",
       "</g>\n",
       "<path style=\"fill:none;stroke-width:0.75;stroke-linecap:round;stroke-linejoin:round;stroke:rgb(0%,0%,0%);stroke-opacity:1;stroke-miterlimit:10;\" d=\"M 59.039062 214.558594 L 401.761719 214.558594 L 401.761719 59.039062 L 59.039062 59.039062 L 59.039062 214.558594 \"/>\n",
       "</g>\n",
       "</svg>\n"
      ],
      "text/plain": [
       "plot without title"
      ]
     },
     "metadata": {
      "image/svg+xml": {
       "isolated": true
      }
     },
     "output_type": "display_data"
    }
   ],
   "source": [
    "emailsSparse$logWordCount = log(wordCount)\n",
    "#boxplot(logWordCount ~ spam, data = emailsSparse)\n",
    "boxplot(emailsSparse$logWordCount ~ emailsSparse$spam)"
   ]
  },
  {
   "cell_type": "code",
   "execution_count": 81,
   "metadata": {
    "collapsed": true
   },
   "outputs": [],
   "source": [
    "train2 = subset(emailsSparse, spl==T)\n",
    "test2 = subset(emailsSparse, spl==F)"
   ]
  },
  {
   "cell_type": "code",
   "execution_count": 82,
   "metadata": {
    "collapsed": true
   },
   "outputs": [],
   "source": [
    "spam2CART = rpart(spam ~ ., data=train2,\n",
    "                  method='class')\n",
    "set.seed(123)\n",
    "spam2RF = randomForest(spam ~ ., data=train2)"
   ]
  },
  {
   "cell_type": "code",
   "execution_count": 83,
   "metadata": {
    "collapsed": false
   },
   "outputs": [
    {
     "data": {
      "image/png": "[encoded data removed]",
      "image/svg+xml": [
       "<?xml version=\"1.0\" encoding=\"UTF-8\"?>\n",
       "<svg xmlns=\"http://www.w3.org/2000/svg\" xmlns:xlink=\"http://www.w3.org/1999/xlink\" width=\"432pt\" height=\"288pt\" viewBox=\"0 0 432 288\" version=\"1.1\">\n",
       "<defs>\n",
       "<g>\n",
       "<symbol overflow=\"visible\" id=\"glyph0-0\">\n",
       "<path style=\"stroke:none;\" d=\"\"/>\n",
       "</symbol>\n",
       "<symbol overflow=\"visible\" id=\"glyph0-1\">\n",
       "<path style=\"stroke:none;\" d=\"M 6.4375 -6.484375 L 4.65625 -6.484375 L 3.34375 -1.734375 L 1.9375 -6.484375 L 0.171875 -6.484375 L 2.4375 0 L 4.203125 0 Z M 6.4375 -6.484375 \"/>\n",
       "</symbol>\n",
       "<symbol overflow=\"visible\" id=\"glyph0-2\">\n",
       "<path style=\"stroke:none;\" d=\"M 2.484375 0 L 2.484375 -6.484375 L 0.796875 -6.484375 L 0.796875 0 Z M 2.515625 -7.265625 L 2.515625 -8.9375 L 0.828125 -8.9375 L 0.828125 -7.265625 Z M 2.515625 -7.265625 \"/>\n",
       "</symbol>\n",
       "<symbol overflow=\"visible\" id=\"glyph0-3\">\n",
       "<path style=\"stroke:none;\" d=\"M 6.546875 0 L 6.546875 -4.34375 C 6.546875 -5.765625 5.765625 -6.59375 4.375 -6.59375 C 3.5 -6.59375 2.921875 -6.265625 2.4375 -5.546875 L 2.4375 -6.484375 L 0.75 -6.484375 L 0.75 0 L 2.4375 0 L 2.4375 -3.890625 C 2.4375 -4.65625 2.96875 -5.15625 3.796875 -5.15625 C 4.515625 -5.15625 4.875 -4.765625 4.875 -4 L 4.875 0 Z M 6.546875 0 \"/>\n",
       "</symbol>\n",
       "<symbol overflow=\"visible\" id=\"glyph0-4\">\n",
       "<path style=\"stroke:none;\" d=\"M 6.265625 -2.25 L 4.65625 -2.25 C 4.4375 -1.578125 4.109375 -1.25 3.453125 -1.25 C 2.609375 -1.25 2.09375 -1.9375 2.09375 -3.1875 C 2.09375 -4.375 2.40625 -5.234375 3.453125 -5.234375 C 4.140625 -5.234375 4.46875 -4.90625 4.65625 -4.0625 L 6.265625 -4.0625 C 6.140625 -5.640625 5.09375 -6.59375 3.46875 -6.59375 C 1.53125 -6.59375 0.40625 -5.40625 0.40625 -3.1875 C 0.40625 -1.0625 1.53125 0.109375 3.4375 0.109375 C 5.015625 0.109375 6.109375 -0.859375 6.265625 -2.25 Z M 6.265625 -2.25 \"/>\n",
       "</symbol>\n",
       "<symbol overflow=\"visible\" id=\"glyph0-5\">\n",
       "<path style=\"stroke:none;\" d=\"\"/>\n",
       "</symbol>\n",
       "<symbol overflow=\"visible\" id=\"glyph0-6\">\n",
       "<path style=\"stroke:none;\" d=\"M 5.5625 -2.546875 L 5.5625 -3.453125 L 1.0625 -7.265625 L 1.0625 -5.703125 L 4.25 -3 L 1.0625 -0.296875 L 1.0625 1.265625 Z M 5.5625 -2.546875 \"/>\n",
       "</symbol>\n",
       "<symbol overflow=\"visible\" id=\"glyph0-7\">\n",
       "<path style=\"stroke:none;\" d=\"M 6.28125 -3.484375 L 6.28125 -4.6875 L 0.71875 -4.6875 L 0.71875 -3.484375 Z M 6.28125 -1.3125 L 6.28125 -2.515625 L 0.71875 -2.515625 L 0.71875 -1.3125 Z M 6.28125 -1.3125 \"/>\n",
       "</symbol>\n",
       "<symbol overflow=\"visible\" id=\"glyph0-8\">\n",
       "<path style=\"stroke:none;\" d=\"M 6.203125 -4.234375 C 6.203125 -6.640625 5.765625 -8.6875 3.28125 -8.6875 C 0.84375 -8.6875 0.34375 -6.734375 0.34375 -4.28125 C 0.34375 -1.90625 0.8125 0.109375 3.28125 0.109375 C 5 0.109375 6.203125 -0.875 6.203125 -4.234375 Z M 4.53125 -4.265625 C 4.53125 -1.890625 4.171875 -1.328125 3.28125 -1.328125 C 2.421875 -1.328125 2.03125 -1.765625 2.03125 -4.296875 C 2.03125 -6.765625 2.375 -7.328125 3.28125 -7.328125 C 4.109375 -7.328125 4.53125 -6.90625 4.53125 -4.265625 Z M 4.53125 -4.265625 \"/>\n",
       "</symbol>\n",
       "<symbol overflow=\"visible\" id=\"glyph0-9\">\n",
       "<path style=\"stroke:none;\" d=\"M 2.5625 0 L 2.5625 -1.75 L 0.765625 -1.75 L 0.765625 0 Z M 2.5625 0 \"/>\n",
       "</symbol>\n",
       "<symbol overflow=\"visible\" id=\"glyph0-10\">\n",
       "<path style=\"stroke:none;\" d=\"M 6.203125 -2.890625 C 6.203125 -4.625 5.125 -5.75 3.546875 -5.75 C 2.984375 -5.75 2.5625 -5.609375 2.078125 -5.234375 L 2.359375 -7.015625 L 5.875 -7.015625 L 5.875 -8.515625 L 1.3125 -8.515625 L 0.5625 -3.765625 L 2.078125 -3.765625 C 2.25 -4.1875 2.640625 -4.421875 3.15625 -4.421875 C 4.015625 -4.421875 4.53125 -3.890625 4.53125 -2.859375 C 4.53125 -1.859375 4 -1.328125 3.15625 -1.328125 C 2.421875 -1.328125 1.984375 -1.703125 1.984375 -2.390625 L 0.328125 -2.390625 C 0.328125 -0.90625 1.46875 0.109375 3.125 0.109375 C 4.953125 0.109375 6.203125 -1.0625 6.203125 -2.890625 Z M 6.203125 -2.890625 \"/>\n",
       "</symbol>\n",
       "<symbol overflow=\"visible\" id=\"glyph0-11\">\n",
       "<path style=\"stroke:none;\" d=\"M 6.296875 -3 C 6.296875 -5.234375 5.171875 -6.59375 3.265625 -6.59375 C 1.40625 -6.59375 0.265625 -5.328125 0.265625 -3.15625 C 0.265625 -1.078125 1.390625 0.109375 3.234375 0.109375 C 4.6875 0.109375 5.859375 -0.546875 6.234375 -1.828125 L 4.578125 -1.828125 C 4.421875 -1.359375 3.90625 -1.171875 3.28125 -1.171875 C 2.5 -1.171875 1.984375 -1.53125 1.9375 -2.796875 L 6.28125 -2.796875 Z M 4.546875 -3.90625 L 1.96875 -3.90625 C 2.078125 -4.8125 2.5 -5.296875 3.234375 -5.296875 C 3.953125 -5.296875 4.46875 -4.84375 4.546875 -3.90625 Z M 4.546875 -3.90625 \"/>\n",
       "</symbol>\n",
       "<symbol overflow=\"visible\" id=\"glyph0-12\">\n",
       "<path style=\"stroke:none;\" d=\"M 4.4375 -4.875 L 4.4375 -6.578125 C 4.34375 -6.59375 4.28125 -6.59375 4.234375 -6.59375 C 3.46875 -6.59375 2.796875 -6.078125 2.4375 -5.203125 L 2.4375 -6.484375 L 0.75 -6.484375 L 0.75 0 L 2.4375 0 L 2.4375 -3.4375 C 2.4375 -4.421875 2.921875 -4.921875 3.90625 -4.921875 C 4.09375 -4.921875 4.21875 -4.90625 4.4375 -4.875 Z M 4.4375 -4.875 \"/>\n",
       "</symbol>\n",
       "<symbol overflow=\"visible\" id=\"glyph0-13\">\n",
       "<path style=\"stroke:none;\" d=\"M 6.828125 -3.1875 C 6.828125 -5.390625 5.640625 -6.59375 3.609375 -6.59375 C 1.625 -6.59375 0.421875 -5.359375 0.421875 -3.234375 C 0.421875 -1.109375 1.625 0.109375 3.625 0.109375 C 5.59375 0.109375 6.828125 -1.109375 6.828125 -3.1875 Z M 5.140625 -3.21875 C 5.140625 -2 4.53125 -1.25 3.625 -1.25 C 2.71875 -1.25 2.09375 -2 2.09375 -3.234375 C 2.09375 -4.46875 2.71875 -5.234375 3.625 -5.234375 C 4.546875 -5.234375 5.140625 -4.484375 5.140625 -3.21875 Z M 5.140625 -3.21875 \"/>\n",
       "</symbol>\n",
       "<symbol overflow=\"visible\" id=\"glyph0-14\">\n",
       "<path style=\"stroke:none;\" d=\"M 6.28125 0 L 6.28125 -0.203125 C 5.984375 -0.484375 5.90625 -0.65625 5.90625 -1 L 5.90625 -4.59375 C 5.90625 -5.921875 5 -6.59375 3.25 -6.59375 C 1.5 -6.59375 0.59375 -5.84375 0.484375 -4.34375 L 2.09375 -4.34375 C 2.1875 -5.015625 2.453125 -5.234375 3.28125 -5.234375 C 3.9375 -5.234375 4.265625 -5.015625 4.265625 -4.578125 C 4.265625 -3.90625 3.75 -3.96875 2.921875 -3.828125 L 2.25 -3.703125 C 0.953125 -3.484375 0.34375 -2.921875 0.34375 -1.75 C 0.34375 -0.484375 1.21875 0.109375 2.296875 0.109375 C 3.03125 0.109375 3.6875 -0.203125 4.265625 -0.8125 C 4.265625 -0.484375 4.3125 -0.1875 4.46875 0 Z M 4.265625 -2.765625 C 4.265625 -1.796875 3.78125 -1.25 2.921875 -1.25 C 2.359375 -1.25 2.015625 -1.46875 2.015625 -1.9375 C 2.015625 -2.4375 2.28125 -2.609375 2.96875 -2.75 L 3.546875 -2.859375 C 4 -2.9375 4.0625 -2.96875 4.265625 -3.0625 Z M 4.265625 -2.765625 \"/>\n",
       "</symbol>\n",
       "<symbol overflow=\"visible\" id=\"glyph0-15\">\n",
       "<path style=\"stroke:none;\" d=\"M 3.609375 0 L 3.609375 -1.171875 C 3.4375 -1.15625 3.34375 -1.140625 3.234375 -1.140625 C 2.78125 -1.140625 2.671875 -1.265625 2.671875 -1.84375 L 2.671875 -5.234375 L 3.609375 -5.234375 L 3.609375 -6.34375 L 2.671875 -6.34375 L 2.671875 -8.09375 L 1 -8.09375 L 1 -6.34375 L 0.171875 -6.34375 L 0.171875 -5.234375 L 1 -5.234375 L 1 -1.390625 C 1 -0.375 1.53125 0.046875 2.640625 0.046875 C 3.015625 0.046875 3.3125 0.015625 3.609375 0 Z M 3.609375 0 \"/>\n",
       "</symbol>\n",
       "<symbol overflow=\"visible\" id=\"glyph0-16\">\n",
       "<path style=\"stroke:none;\" d=\"M 6.484375 0 L 6.484375 -4.34375 C 6.484375 -5.859375 5.609375 -6.59375 4.375 -6.59375 C 3.546875 -6.59375 2.953125 -6.25 2.484375 -5.546875 L 2.484375 -8.75 L 0.796875 -8.75 L 0.796875 0 L 2.484375 0 L 2.484375 -3.890625 C 2.484375 -4.625 3.03125 -5.15625 3.78125 -5.15625 C 4.375 -5.15625 4.8125 -4.84375 4.8125 -3.953125 L 4.8125 0 Z M 6.484375 0 \"/>\n",
       "</symbol>\n",
       "<symbol overflow=\"visible\" id=\"glyph0-17\">\n",
       "<path style=\"stroke:none;\" d=\"M 7.84375 0 L 5.03125 -4.46875 L 7.734375 -8.75 L 5.640625 -8.75 L 4.03125 -5.875 L 2.5 -8.75 L 0.359375 -8.75 L 3.03125 -4.40625 L 0.265625 0 L 2.359375 0 L 4.015625 -3.03125 L 5.703125 0 Z M 7.84375 0 \"/>\n",
       "</symbol>\n",
       "<symbol overflow=\"visible\" id=\"glyph0-18\">\n",
       "<path style=\"stroke:none;\" d=\"M 6.1875 -5.984375 C 6.1875 -7.625 5.046875 -8.6875 3.265625 -8.6875 C 1.5 -8.6875 0.46875 -7.640625 0.46875 -5.84375 C 0.46875 -5.765625 0.46875 -5.671875 0.484375 -5.546875 L 2.09375 -5.546875 L 2.09375 -5.8125 C 2.09375 -6.765625 2.53125 -7.3125 3.296875 -7.3125 C 4.046875 -7.3125 4.5 -6.796875 4.5 -5.953125 C 4.5 -5.015625 4.203125 -4.640625 2.328125 -3.3125 C 0.890625 -2.328125 0.4375 -1.578125 0.359375 0 L 6.140625 0 L 6.140625 -1.5 L 2.546875 -1.5 C 2.765625 -1.953125 3.03125 -2.203125 4.265625 -3.109375 C 5.75 -4.1875 6.1875 -4.84375 6.1875 -5.984375 Z M 6.1875 -5.984375 \"/>\n",
       "</symbol>\n",
       "<symbol overflow=\"visible\" id=\"glyph0-19\">\n",
       "<path style=\"stroke:none;\" d=\"M 9.890625 0 L 9.890625 -4.578125 C 9.890625 -5.84375 9.125 -6.59375 7.828125 -6.59375 C 7.015625 -6.59375 6.4375 -6.296875 5.921875 -5.625 C 5.609375 -6.234375 4.96875 -6.59375 4.15625 -6.59375 C 3.421875 -6.59375 2.9375 -6.34375 2.390625 -5.671875 L 2.390625 -6.484375 L 0.71875 -6.484375 L 0.71875 0 L 2.40625 0 L 2.40625 -3.890625 C 2.40625 -4.6875 2.828125 -5.15625 3.546875 -5.15625 C 4.109375 -5.15625 4.46875 -4.84375 4.46875 -4.3125 L 4.46875 0 L 6.140625 0 L 6.140625 -3.890625 C 6.140625 -4.6875 6.578125 -5.15625 7.296875 -5.15625 C 7.859375 -5.15625 8.203125 -4.84375 8.203125 -4.3125 L 8.203125 0 Z M 9.890625 0 \"/>\n",
       "</symbol>\n",
       "<symbol overflow=\"visible\" id=\"glyph0-20\">\n",
       "<path style=\"stroke:none;\" d=\"M 6.453125 -6.484375 L 4.734375 -6.484375 L 3.390625 -1.765625 L 1.953125 -6.484375 L 0.109375 -6.484375 L 2.515625 0.28125 L 2.515625 0.3125 C 2.515625 0.921875 2.0625 1.390625 1.46875 1.390625 C 1.34375 1.390625 1.25 1.375 1.03125 1.3125 L 1.03125 2.578125 C 1.28125 2.609375 1.421875 2.625 1.625 2.625 C 2.765625 2.625 3.34375 2.421875 3.796875 1.1875 Z M 6.453125 -6.484375 \"/>\n",
       "</symbol>\n",
       "<symbol overflow=\"visible\" id=\"glyph0-21\">\n",
       "<path style=\"stroke:none;\" d=\"M 5.5625 1.265625 L 5.5625 -0.296875 L 2.375 -3 L 5.5625 -5.703125 L 5.5625 -7.265625 L 1.0625 -3.453125 L 1.0625 -2.546875 Z M 5.5625 1.265625 \"/>\n",
       "</symbol>\n",
       "<symbol overflow=\"visible\" id=\"glyph0-22\">\n",
       "<path style=\"stroke:none;\" d=\"M 6.578125 0 L 4.21875 -4.03125 L 6.421875 -6.484375 L 4.515625 -6.484375 L 2.390625 -3.953125 L 2.390625 -8.75 L 0.703125 -8.75 L 0.703125 0 L 2.390625 0 L 2.390625 -2.125 L 3.0625 -2.859375 L 4.609375 0 Z M 6.578125 0 \"/>\n",
       "</symbol>\n",
       "<symbol overflow=\"visible\" id=\"glyph0-23\">\n",
       "<path style=\"stroke:none;\" d=\"M 2.484375 0 L 2.484375 -8.75 L 0.796875 -8.75 L 0.796875 0 Z M 2.484375 0 \"/>\n",
       "</symbol>\n",
       "<symbol overflow=\"visible\" id=\"glyph0-24\">\n",
       "<path style=\"stroke:none;\" d=\"M 6.484375 0.21875 L 6.484375 -6.484375 L 4.890625 -6.484375 L 4.890625 -5.484375 C 4.390625 -6.25 3.84375 -6.59375 3.09375 -6.59375 C 1.5625 -6.59375 0.40625 -5.171875 0.40625 -3.171875 C 0.40625 -1.15625 1.46875 0.109375 3.0625 0.109375 C 3.8125 0.109375 4.265625 -0.125 4.890625 -0.75 L 4.890625 0.21875 C 4.890625 1 4.3125 1.53125 3.46875 1.53125 C 2.828125 1.53125 2.40625 1.265625 2.28125 0.78125 L 0.546875 0.78125 C 0.5625 1.84375 1.625 2.609375 3.40625 2.609375 C 5.359375 2.609375 6.484375 1.734375 6.484375 0.21875 Z M 4.921875 -3.1875 C 4.921875 -2.015625 4.3125 -1.296875 3.4375 -1.296875 C 2.640625 -1.296875 2.09375 -2.015625 2.09375 -3.1875 C 2.09375 -4.421875 2.640625 -5.1875 3.453125 -5.1875 C 4.296875 -5.1875 4.921875 -4.390625 4.921875 -3.1875 Z M 4.921875 -3.1875 \"/>\n",
       "</symbol>\n",
       "<symbol overflow=\"visible\" id=\"glyph0-25\">\n",
       "<path style=\"stroke:none;\" d=\"M 11.1875 -8.75 L 9.28125 -8.75 L 7.96875 -2.1875 L 6.546875 -8.75 L 4.78125 -8.75 L 3.421875 -2.203125 L 2.0625 -8.75 L 0.15625 -8.75 L 2.625 0 L 4.25 0 L 5.671875 -6.828125 L 7.140625 0 L 8.765625 0 Z M 11.1875 -8.75 \"/>\n",
       "</symbol>\n",
       "<symbol overflow=\"visible\" id=\"glyph0-26\">\n",
       "<path style=\"stroke:none;\" d=\"M 6.546875 0 L 6.546875 -8.75 L 4.859375 -8.75 L 4.859375 -5.640625 C 4.4375 -6.28125 3.875 -6.59375 3.078125 -6.59375 C 1.53125 -6.59375 0.34375 -5.1875 0.34375 -3.234375 C 0.34375 -1.390625 1.359375 0.109375 3.078125 0.109375 C 3.875 0.109375 4.4375 -0.1875 4.859375 -0.75 L 4.859375 0 Z M 4.859375 -3.203125 C 4.859375 -2.03125 4.28125 -1.296875 3.4375 -1.296875 C 2.609375 -1.296875 2.03125 -2.046875 2.03125 -3.234375 C 2.03125 -4.421875 2.609375 -5.1875 3.4375 -5.1875 C 4.296875 -5.1875 4.859375 -4.4375 4.859375 -3.203125 Z M 4.859375 -3.203125 \"/>\n",
       "</symbol>\n",
       "<symbol overflow=\"visible\" id=\"glyph0-27\">\n",
       "<path style=\"stroke:none;\" d=\"M 8.21875 -2.984375 L 6.46875 -2.984375 C 6.359375 -1.875 5.65625 -1.375 4.53125 -1.375 C 3.140625 -1.375 2.328125 -2.4375 2.328125 -4.34375 C 2.328125 -6.28125 3.1875 -7.359375 4.59375 -7.359375 C 5.5625 -7.359375 6.203125 -6.90625 6.46875 -5.78125 L 8.1875 -5.78125 C 8.03125 -7.796875 6.5 -8.890625 4.53125 -8.890625 C 2.0625 -8.890625 0.53125 -7.203125 0.53125 -4.375 C 0.53125 -1.5625 2.046875 0.140625 4.484375 0.140625 C 6.65625 0.140625 8.109375 -0.984375 8.21875 -2.984375 Z M 8.21875 -2.984375 \"/>\n",
       "</symbol>\n",
       "<symbol overflow=\"visible\" id=\"glyph0-28\">\n",
       "<path style=\"stroke:none;\" d=\"M 6.265625 -1.890625 L 6.265625 -3.28125 L 5.375 -3.28125 L 5.375 -8.515625 L 3.390625 -8.515625 L 0.28125 -3.296875 L 0.28125 -1.890625 L 3.703125 -1.890625 L 3.703125 0 L 5.375 0 L 5.375 -1.890625 Z M 3.703125 -3.28125 L 1.46875 -3.28125 L 3.703125 -6.90625 Z M 3.703125 -3.28125 \"/>\n",
       "</symbol>\n",
       "<symbol overflow=\"visible\" id=\"glyph0-29\">\n",
       "<path style=\"stroke:none;\" d=\"M 6.1875 -2.609375 C 6.1875 -3.609375 5.765625 -4.171875 4.796875 -4.640625 C 5.59375 -5.140625 5.921875 -5.59375 5.921875 -6.375 C 5.921875 -7.78125 4.859375 -8.6875 3.21875 -8.6875 C 1.578125 -8.6875 0.453125 -7.828125 0.453125 -5.96875 L 0.453125 -5.828125 L 2.015625 -5.828125 C 2.015625 -6.890625 2.359375 -7.328125 3.1875 -7.328125 C 3.859375 -7.328125 4.234375 -6.921875 4.234375 -6.21875 C 4.234375 -5.359375 3.75 -5.015625 2.75 -5.015625 L 2.609375 -5.015625 L 2.609375 -3.890625 C 3.859375 -3.890625 4.515625 -3.53125 4.515625 -2.609375 C 4.515625 -1.875 3.984375 -1.328125 3.25 -1.328125 C 2.453125 -1.328125 1.984375 -1.78125 1.984375 -2.65625 L 0.34375 -2.65625 C 0.34375 -0.953125 1.46875 0.109375 3.21875 0.109375 C 5.03125 0.109375 6.1875 -0.953125 6.1875 -2.609375 Z M 6.1875 -2.609375 \"/>\n",
       "</symbol>\n",
       "<symbol overflow=\"visible\" id=\"glyph0-30\">\n",
       "<path style=\"stroke:none;\" d=\"M 6.234375 -1.921875 L 6.234375 -2 C 6.234375 -2.75 5.8125 -3.296875 4.96875 -3.546875 L 2.84375 -4.15625 C 2.375 -4.296875 2.25 -4.40625 2.25 -4.671875 C 2.25 -5.03125 2.640625 -5.265625 3.234375 -5.265625 C 4.03125 -5.265625 4.421875 -4.984375 4.4375 -4.390625 L 6.0625 -4.390625 C 6.03125 -5.765625 4.984375 -6.59375 3.234375 -6.59375 C 1.59375 -6.59375 0.578125 -5.765625 0.578125 -4.421875 C 0.578125 -3.640625 0.796875 -3.203125 1.984375 -2.828125 L 4 -2.203125 C 4.421875 -2.078125 4.5625 -1.9375 4.5625 -1.765625 C 4.5625 -1.375 4.09375 -1.21875 3.3125 -1.21875 C 2.546875 -1.21875 2.140625 -1.359375 1.984375 -2.046875 L 0.34375 -2.046875 C 0.390625 -0.640625 1.4375 0.109375 3.40625 0.109375 C 5.234375 0.109375 6.234375 -0.609375 6.234375 -1.921875 Z M 6.234375 -1.921875 \"/>\n",
       "</symbol>\n",
       "<symbol overflow=\"visible\" id=\"glyph1-0\">\n",
       "<path style=\"stroke:none;\" d=\"\"/>\n",
       "</symbol>\n",
       "<symbol overflow=\"visible\" id=\"glyph1-1\">\n",
       "<path style=\"stroke:none;\" d=\"M 6.078125 -4.09375 C 6.078125 -7.046875 5.140625 -8.515625 3.296875 -8.515625 C 1.46875 -8.515625 0.515625 -7.015625 0.515625 -4.15625 C 0.515625 -1.296875 1.46875 0.1875 3.296875 0.1875 C 5.09375 0.1875 6.078125 -1.296875 6.078125 -4.09375 Z M 5 -4.1875 C 5 -1.78125 4.453125 -0.703125 3.28125 -0.703125 C 2.15625 -0.703125 1.59375 -1.828125 1.59375 -4.15625 C 1.59375 -6.484375 2.15625 -7.578125 3.296875 -7.578125 C 4.4375 -7.578125 5 -6.46875 5 -4.1875 Z M 5 -4.1875 \"/>\n",
       "</symbol>\n",
       "<symbol overflow=\"visible\" id=\"glyph1-2\">\n",
       "<path style=\"stroke:none;\" d=\"M 4.15625 0 L 4.15625 -8.515625 L 3.46875 -8.515625 C 3.09375 -7.203125 2.859375 -7.015625 1.21875 -6.8125 L 1.21875 -6.0625 L 3.109375 -6.0625 L 3.109375 0 Z M 4.15625 0 \"/>\n",
       "</symbol>\n",
       "<symbol overflow=\"visible\" id=\"glyph2-0\">\n",
       "<path style=\"stroke:none;\" d=\"\"/>\n",
       "</symbol>\n",
       "<symbol overflow=\"visible\" id=\"glyph2-1\">\n",
       "<path style=\"stroke:none;\" d=\"M 5.1875 -5.03125 L 4.328125 -5.03125 L 2.09375 -1.125 L 1.65625 -5.03125 L 0.78125 -5.03125 L 1.4375 0.03125 L 0.9375 0.8125 C 0.6875 1.21875 0.53125 1.3125 0.171875 1.3125 C 0.078125 1.3125 0.015625 1.3125 -0.25 1.28125 L -0.40625 2 C -0.234375 2.078125 -0.109375 2.09375 0.0625 2.09375 C 0.75 2.09375 1.234375 1.765625 1.65625 1.0625 Z M 5.1875 -5.03125 \"/>\n",
       "</symbol>\n",
       "<symbol overflow=\"visible\" id=\"glyph2-2\">\n",
       "<path style=\"stroke:none;\" d=\"M 4.9375 -2.28125 L 4.953125 -2.40625 C 5.03125 -2.875 5.078125 -3.265625 5.078125 -3.53125 C 5.078125 -4.453125 4.28125 -5.171875 3.25 -5.171875 C 2.421875 -5.171875 1.609375 -4.78125 1.125 -4.140625 C 0.6875 -3.53125 0.328125 -2.46875 0.328125 -1.703125 C 0.328125 -0.703125 1.078125 0.140625 2.25 0.140625 C 3.390625 0.140625 4.359375 -0.484375 4.65625 -1.53125 L 3.859375 -1.53125 C 3.53125 -0.9375 3.015625 -0.59375 2.375 -0.59375 C 1.625 -0.59375 1.1875 -1.03125 1.1875 -1.84375 C 1.171875 -2 1.1875 -2.09375 1.234375 -2.28125 Z M 4.21875 -2.96875 L 1.40625 -2.96875 C 1.640625 -3.8125 2.34375 -4.4375 3.125 -4.4375 C 3.8125 -4.4375 4.234375 -3.96875 4.234375 -3.25 C 4.234375 -3.15625 4.234375 -3.09375 4.21875 -2.96875 Z M 4.21875 -2.96875 \"/>\n",
       "</symbol>\n",
       "<symbol overflow=\"visible\" id=\"glyph2-3\">\n",
       "<path style=\"stroke:none;\" d=\"M 4.265625 -1.734375 C 4.265625 -2.328125 3.953125 -2.625 3.109375 -2.84375 L 2.375 -3.015625 C 1.84375 -3.15625 1.5625 -3.34375 1.5625 -3.59375 C 1.5625 -4.09375 2.046875 -4.4375 2.765625 -4.4375 C 3.34375 -4.4375 3.65625 -4.21875 3.65625 -3.84375 C 3.65625 -3.765625 3.65625 -3.703125 3.640625 -3.625 L 4.453125 -3.625 C 4.5 -3.828125 4.515625 -3.921875 4.515625 -4.03125 C 4.515625 -4.703125 3.859375 -5.171875 2.9375 -5.171875 C 1.609375 -5.171875 0.71875 -4.40625 0.71875 -3.390625 C 0.71875 -2.796875 1.0625 -2.515625 2.046875 -2.265625 L 2.75 -2.078125 C 3.359375 -1.921875 3.421875 -1.71875 3.421875 -1.515625 C 3.421875 -0.96875 2.796875 -0.59375 2.046875 -0.59375 C 1.390625 -0.59375 1.015625 -0.859375 1.015625 -1.328125 C 1.015625 -1.390625 1.03125 -1.484375 1.03125 -1.578125 L 0.1875 -1.578125 C 0.140625 -1.359375 0.125 -1.234375 0.125 -1.078125 C 0.125 -0.3125 0.796875 0.140625 1.90625 0.140625 C 3.34375 0.140625 4.265625 -0.59375 4.265625 -1.734375 Z M 4.265625 -1.734375 \"/>\n",
       "</symbol>\n",
       "<symbol overflow=\"visible\" id=\"glyph2-4\">\n",
       "<path style=\"stroke:none;\" d=\"M 4.984375 -3.609375 C 5.015625 -3.734375 5.03125 -3.84375 5.03125 -3.96875 C 5.03125 -4.703125 4.515625 -5.171875 3.71875 -5.171875 C 3 -5.171875 2.359375 -4.90625 1.859375 -4.40625 L 1.984375 -5.03125 L 1.25 -5.03125 L 0.1875 0 L 1 0 L 1.578125 -2.765625 C 1.796875 -3.828125 2.484375 -4.484375 3.34375 -4.484375 C 3.828125 -4.484375 4.1875 -4.140625 4.1875 -3.703125 C 4.1875 -3.640625 4.15625 -3.5 4.125 -3.34375 L 3.421875 0 L 4.21875 0 Z M 4.984375 -3.609375 \"/>\n",
       "</symbol>\n",
       "<symbol overflow=\"visible\" id=\"glyph2-5\">\n",
       "<path style=\"stroke:none;\" d=\"M 5.046875 -3.375 C 5.046875 -4.390625 4.359375 -5.171875 3.203125 -5.171875 C 1.40625 -5.171875 0.296875 -3.515625 0.296875 -1.609375 C 0.296875 -0.546875 1.046875 0.140625 2.125 0.140625 C 3.859375 0.140625 5.046875 -1.375 5.046875 -3.375 Z M 4.203125 -3.1875 C 4.203125 -1.765625 3.390625 -0.59375 2.25 -0.59375 C 1.578125 -0.59375 1.140625 -1.03125 1.140625 -1.796875 C 1.140625 -3.1875 1.953125 -4.4375 3.078125 -4.4375 C 3.796875 -4.4375 4.203125 -3.96875 4.203125 -3.1875 Z M 4.203125 -3.1875 \"/>\n",
       "</symbol>\n",
       "</g>\n",
       "</defs>\n",
       "<g id=\"surface240\">\n",
       "<rect x=\"0\" y=\"0\" width=\"432\" height=\"288\" style=\"fill:rgb(100%,100%,100%);fill-opacity:1;stroke:none;\"/>\n",
       "<path style=\"fill:none;stroke-width:0.75;stroke-linecap:butt;stroke-linejoin:round;stroke:rgb(0%,0%,0%);stroke-opacity:1;stroke-miterlimit:10;\" d=\"M 37.125 64.875 L 64.5 42.070312 L 71.34375 42.070312 \"/>\n",
       "<path style=\"fill:none;stroke-width:0.75;stroke-linecap:butt;stroke-linejoin:round;stroke:rgb(0%,0%,0%);stroke-opacity:1;stroke-miterlimit:10;\" d=\"M 105.5625 71.144531 L 78.1875 42.070312 L 71.34375 42.070312 \"/>\n",
       "<path style=\"fill:none;stroke-width:0.75;stroke-linecap:butt;stroke-linejoin:round;stroke:rgb(0%,0%,0%);stroke-opacity:1;stroke-miterlimit:10;\" d=\"M 70.902344 94.726562 L 98.628906 71.921875 L 105.5625 71.921875 \"/>\n",
       "<path style=\"fill:none;stroke-width:0.75;stroke-linecap:butt;stroke-linejoin:round;stroke:rgb(0%,0%,0%);stroke-opacity:1;stroke-miterlimit:10;\" d=\"M 140.21875 100.996094 L 112.492188 71.921875 L 105.5625 71.921875 \"/>\n",
       "<path style=\"fill:none;stroke-width:0.75;stroke-linecap:butt;stroke-linejoin:round;stroke:rgb(0%,0%,0%);stroke-opacity:1;stroke-miterlimit:10;\" d=\"M 101.136719 124.582031 L 132.402344 101.777344 L 140.21875 101.777344 \"/>\n",
       "<path style=\"fill:none;stroke-width:0.75;stroke-linecap:butt;stroke-linejoin:round;stroke:rgb(0%,0%,0%);stroke-opacity:1;stroke-miterlimit:10;\" d=\"M 179.304688 130.851562 L 148.039062 101.777344 L 140.21875 101.777344 \"/>\n",
       "<path style=\"fill:none;stroke-width:0.75;stroke-linecap:butt;stroke-linejoin:round;stroke:rgb(0%,0%,0%);stroke-opacity:1;stroke-miterlimit:10;\" d=\"M 95.96875 160.703125 L 162.636719 131.628906 L 179.304688 131.628906 \"/>\n",
       "<path style=\"fill:none;stroke-width:0.75;stroke-linecap:butt;stroke-linejoin:round;stroke:rgb(0%,0%,0%);stroke-opacity:1;stroke-miterlimit:10;\" d=\"M 65.21875 184.289062 L 89.820312 161.484375 L 95.96875 161.484375 \"/>\n",
       "<path style=\"fill:none;stroke-width:0.75;stroke-linecap:butt;stroke-linejoin:round;stroke:rgb(0%,0%,0%);stroke-opacity:1;stroke-miterlimit:10;\" d=\"M 126.722656 184.289062 L 102.121094 161.484375 L 95.96875 161.484375 \"/>\n",
       "<path style=\"fill:none;stroke-width:0.75;stroke-linecap:butt;stroke-linejoin:round;stroke:rgb(0%,0%,0%);stroke-opacity:1;stroke-miterlimit:10;\" d=\"M 262.644531 160.703125 L 195.972656 131.628906 L 179.304688 131.628906 \"/>\n",
       "<path style=\"fill:none;stroke-width:0.75;stroke-linecap:butt;stroke-linejoin:round;stroke:rgb(0%,0%,0%);stroke-opacity:1;stroke-miterlimit:10;\" d=\"M 194.988281 190.558594 L 249.113281 161.484375 L 262.644531 161.484375 \"/>\n",
       "<path style=\"fill:none;stroke-width:0.75;stroke-linecap:butt;stroke-linejoin:round;stroke:rgb(0%,0%,0%);stroke-opacity:1;stroke-miterlimit:10;\" d=\"M 161.164062 214.140625 L 188.222656 191.335938 L 194.988281 191.335938 \"/>\n",
       "<path style=\"fill:none;stroke-width:0.75;stroke-linecap:butt;stroke-linejoin:round;stroke:rgb(0%,0%,0%);stroke-opacity:1;stroke-miterlimit:10;\" d=\"M 228.816406 220.410156 L 201.753906 191.335938 L 194.988281 191.335938 \"/>\n",
       "<path style=\"fill:none;stroke-width:0.75;stroke-linecap:butt;stroke-linejoin:round;stroke:rgb(0%,0%,0%);stroke-opacity:1;stroke-miterlimit:10;\" d=\"M 198.0625 243.996094 L 222.664062 221.191406 L 228.816406 221.191406 \"/>\n",
       "<path style=\"fill:none;stroke-width:0.75;stroke-linecap:butt;stroke-linejoin:round;stroke:rgb(0%,0%,0%);stroke-opacity:1;stroke-miterlimit:10;\" d=\"M 259.566406 243.996094 L 234.964844 221.191406 L 228.816406 221.191406 \"/>\n",
       "<path style=\"fill:none;stroke-width:0.75;stroke-linecap:butt;stroke-linejoin:round;stroke:rgb(0%,0%,0%);stroke-opacity:1;stroke-miterlimit:10;\" d=\"M 330.296875 190.558594 L 276.171875 161.484375 L 262.644531 161.484375 \"/>\n",
       "<path style=\"fill:none;stroke-width:0.75;stroke-linecap:butt;stroke-linejoin:round;stroke:rgb(0%,0%,0%);stroke-opacity:1;stroke-miterlimit:10;\" d=\"M 296.46875 214.140625 L 323.53125 191.335938 L 330.296875 191.335938 \"/>\n",
       "<path style=\"fill:none;stroke-width:0.75;stroke-linecap:butt;stroke-linejoin:round;stroke:rgb(0%,0%,0%);stroke-opacity:1;stroke-miterlimit:10;\" d=\"M 364.125 220.410156 L 337.0625 191.335938 L 330.296875 191.335938 \"/>\n",
       "<path style=\"fill:none;stroke-width:0.75;stroke-linecap:butt;stroke-linejoin:round;stroke:rgb(0%,0%,0%);stroke-opacity:1;stroke-miterlimit:10;\" d=\"M 333.371094 243.996094 L 357.972656 221.191406 L 364.125 221.191406 \"/>\n",
       "<path style=\"fill:none;stroke-width:0.75;stroke-linecap:butt;stroke-linejoin:round;stroke:rgb(0%,0%,0%);stroke-opacity:1;stroke-miterlimit:10;\" d=\"M 394.875 243.996094 L 370.273438 221.191406 L 364.125 221.191406 \"/>\n",
       "<path style=\" stroke:none;fill-rule:nonzero;fill:rgb(100%,100%,100%);fill-opacity:1;\" d=\"M 41.0625 44.421875 L 41.0625 35.019531 L 101.625 35.019531 L 101.625 44.421875 Z M 41.0625 44.421875 \"/>\n",
       "<path style=\" stroke:none;fill-rule:nonzero;fill:rgb(100%,100%,100%);fill-opacity:1;\" d=\"M 71.425781 74.273438 L 71.425781 64.875 L 139.695312 64.875 L 139.695312 74.273438 Z M 71.425781 74.273438 \"/>\n",
       "<path style=\" stroke:none;fill-rule:nonzero;fill:rgb(100%,100%,100%);fill-opacity:1;\" d=\"M 105.183594 104.128906 L 105.183594 94.726562 L 175.257812 94.726562 L 175.257812 104.128906 Z M 105.183594 104.128906 \"/>\n",
       "<path style=\" stroke:none;fill-rule:nonzero;fill:rgb(100%,100%,100%);fill-opacity:1;\" d=\"M 144.496094 133.980469 L 144.496094 124.582031 L 214.117188 124.582031 L 214.117188 133.980469 Z M 144.496094 133.980469 \"/>\n",
       "<path style=\" stroke:none;fill-rule:nonzero;fill:rgb(100%,100%,100%);fill-opacity:1;\" d=\"M 62.515625 163.835938 L 62.515625 154.433594 L 129.421875 154.433594 L 129.421875 163.835938 Z M 62.515625 163.835938 \"/>\n",
       "<path style=\" stroke:none;fill-rule:nonzero;fill:rgb(100%,100%,100%);fill-opacity:1;\" d=\"M 228.972656 163.835938 L 228.972656 154.433594 L 296.3125 154.433594 L 296.3125 163.835938 Z M 228.972656 163.835938 \"/>\n",
       "<path style=\" stroke:none;fill-rule:nonzero;fill:rgb(100%,100%,100%);fill-opacity:1;\" d=\"M 153.957031 193.6875 L 153.957031 184.289062 L 236.023438 184.289062 L 236.023438 193.6875 Z M 153.957031 193.6875 \"/>\n",
       "<path style=\" stroke:none;fill-rule:nonzero;fill:rgb(100%,100%,100%);fill-opacity:1;\" d=\"M 187.652344 223.542969 L 187.652344 214.140625 L 269.980469 214.140625 L 269.980469 223.542969 Z M 187.652344 223.542969 \"/>\n",
       "<path style=\" stroke:none;fill-rule:nonzero;fill:rgb(100%,100%,100%);fill-opacity:1;\" d=\"M 295.210938 193.6875 L 295.210938 184.289062 L 365.382812 184.289062 L 365.382812 193.6875 Z M 295.210938 193.6875 \"/>\n",
       "<path style=\" stroke:none;fill-rule:nonzero;fill:rgb(100%,100%,100%);fill-opacity:1;\" d=\"M 328.828125 223.542969 L 328.828125 214.140625 L 399.417969 214.140625 L 399.417969 223.542969 Z M 328.828125 223.542969 \"/>\n",
       "<g style=\"fill:rgb(0%,0%,0%);fill-opacity:1;\">\n",
       "  <use xlink:href=\"#glyph0-1\" x=\"40.34375\" y=\"42.71875\"/>\n",
       "  <use xlink:href=\"#glyph0-2\" x=\"47.015625\" y=\"42.71875\"/>\n",
       "  <use xlink:href=\"#glyph0-3\" x=\"50.351562\" y=\"42.71875\"/>\n",
       "  <use xlink:href=\"#glyph0-4\" x=\"57.683594\" y=\"42.71875\"/>\n",
       "  <use xlink:href=\"#glyph0-5\" x=\"64.355469\" y=\"42.71875\"/>\n",
       "  <use xlink:href=\"#glyph0-6\" x=\"67.691406\" y=\"42.71875\"/>\n",
       "  <use xlink:href=\"#glyph0-7\" x=\"74.699219\" y=\"42.71875\"/>\n",
       "  <use xlink:href=\"#glyph0-5\" x=\"81.707031\" y=\"42.71875\"/>\n",
       "  <use xlink:href=\"#glyph0-8\" x=\"85.042969\" y=\"42.71875\"/>\n",
       "  <use xlink:href=\"#glyph0-9\" x=\"91.714844\" y=\"42.71875\"/>\n",
       "  <use xlink:href=\"#glyph0-10\" x=\"95.050781\" y=\"42.71875\"/>\n",
       "</g>\n",
       "<g style=\"fill:rgb(0%,0%,0%);fill-opacity:1;\">\n",
       "  <use xlink:href=\"#glyph0-11\" x=\"70.0625\" y=\"72.574219\"/>\n",
       "  <use xlink:href=\"#glyph0-3\" x=\"76.734375\" y=\"72.574219\"/>\n",
       "  <use xlink:href=\"#glyph0-12\" x=\"84.066406\" y=\"72.574219\"/>\n",
       "  <use xlink:href=\"#glyph0-13\" x=\"88.734375\" y=\"72.574219\"/>\n",
       "  <use xlink:href=\"#glyph0-3\" x=\"96.066406\" y=\"72.574219\"/>\n",
       "  <use xlink:href=\"#glyph0-5\" x=\"103.398438\" y=\"72.574219\"/>\n",
       "  <use xlink:href=\"#glyph0-6\" x=\"106.734375\" y=\"72.574219\"/>\n",
       "  <use xlink:href=\"#glyph0-7\" x=\"113.742188\" y=\"72.574219\"/>\n",
       "  <use xlink:href=\"#glyph0-5\" x=\"120.75\" y=\"72.574219\"/>\n",
       "  <use xlink:href=\"#glyph0-8\" x=\"124.085938\" y=\"72.574219\"/>\n",
       "  <use xlink:href=\"#glyph0-9\" x=\"130.757812\" y=\"72.574219\"/>\n",
       "  <use xlink:href=\"#glyph0-10\" x=\"134.09375\" y=\"72.574219\"/>\n",
       "</g>\n",
       "<g style=\"fill:rgb(0%,0%,0%);fill-opacity:1;\">\n",
       "  <use xlink:href=\"#glyph0-14\" x=\"103.71875\" y=\"102.425781\"/>\n",
       "  <use xlink:href=\"#glyph0-15\" x=\"110.390625\" y=\"102.425781\"/>\n",
       "  <use xlink:href=\"#glyph0-15\" x=\"114.386719\" y=\"102.425781\"/>\n",
       "  <use xlink:href=\"#glyph0-14\" x=\"118.442383\" y=\"102.425781\"/>\n",
       "  <use xlink:href=\"#glyph0-4\" x=\"125.114258\" y=\"102.425781\"/>\n",
       "  <use xlink:href=\"#glyph0-16\" x=\"131.786133\" y=\"102.425781\"/>\n",
       "  <use xlink:href=\"#glyph0-5\" x=\"139.118164\" y=\"102.425781\"/>\n",
       "  <use xlink:href=\"#glyph0-6\" x=\"142.454102\" y=\"102.425781\"/>\n",
       "  <use xlink:href=\"#glyph0-7\" x=\"149.461914\" y=\"102.425781\"/>\n",
       "  <use xlink:href=\"#glyph0-5\" x=\"156.469727\" y=\"102.425781\"/>\n",
       "  <use xlink:href=\"#glyph0-8\" x=\"159.805664\" y=\"102.425781\"/>\n",
       "  <use xlink:href=\"#glyph0-9\" x=\"166.477539\" y=\"102.425781\"/>\n",
       "  <use xlink:href=\"#glyph0-10\" x=\"169.813477\" y=\"102.425781\"/>\n",
       "</g>\n",
       "<g style=\"fill:rgb(0%,0%,0%);fill-opacity:1;\">\n",
       "  <use xlink:href=\"#glyph0-17\" x=\"142.804688\" y=\"132.28125\"/>\n",
       "  <use xlink:href=\"#glyph0-18\" x=\"150.808594\" y=\"132.28125\"/>\n",
       "  <use xlink:href=\"#glyph0-8\" x=\"157.480469\" y=\"132.28125\"/>\n",
       "  <use xlink:href=\"#glyph0-8\" x=\"164.152344\" y=\"132.28125\"/>\n",
       "  <use xlink:href=\"#glyph0-8\" x=\"170.824219\" y=\"132.28125\"/>\n",
       "  <use xlink:href=\"#glyph0-5\" x=\"177.496094\" y=\"132.28125\"/>\n",
       "  <use xlink:href=\"#glyph0-6\" x=\"180.832031\" y=\"132.28125\"/>\n",
       "  <use xlink:href=\"#glyph0-7\" x=\"187.839844\" y=\"132.28125\"/>\n",
       "  <use xlink:href=\"#glyph0-5\" x=\"194.847656\" y=\"132.28125\"/>\n",
       "  <use xlink:href=\"#glyph0-8\" x=\"198.183594\" y=\"132.28125\"/>\n",
       "  <use xlink:href=\"#glyph0-9\" x=\"204.855469\" y=\"132.28125\"/>\n",
       "  <use xlink:href=\"#glyph0-10\" x=\"208.191406\" y=\"132.28125\"/>\n",
       "</g>\n",
       "<g style=\"fill:rgb(0%,0%,0%);fill-opacity:1;\">\n",
       "  <use xlink:href=\"#glyph0-19\" x=\"61.46875\" y=\"161.632812\"/>\n",
       "  <use xlink:href=\"#glyph0-13\" x=\"72.136719\" y=\"161.632812\"/>\n",
       "  <use xlink:href=\"#glyph0-3\" x=\"79.46875\" y=\"161.632812\"/>\n",
       "  <use xlink:href=\"#glyph0-11\" x=\"86.800781\" y=\"161.632812\"/>\n",
       "  <use xlink:href=\"#glyph0-20\" x=\"93.292969\" y=\"161.632812\"/>\n",
       "  <use xlink:href=\"#glyph0-5\" x=\"99.964844\" y=\"161.632812\"/>\n",
       "  <use xlink:href=\"#glyph0-21\" x=\"103.300781\" y=\"161.632812\"/>\n",
       "  <use xlink:href=\"#glyph0-5\" x=\"110.308594\" y=\"161.632812\"/>\n",
       "  <use xlink:href=\"#glyph0-8\" x=\"113.644531\" y=\"161.632812\"/>\n",
       "  <use xlink:href=\"#glyph0-9\" x=\"120.316406\" y=\"161.632812\"/>\n",
       "  <use xlink:href=\"#glyph0-10\" x=\"123.652344\" y=\"161.632812\"/>\n",
       "</g>\n",
       "<g style=\"fill:rgb(0%,0%,0%);fill-opacity:1;\">\n",
       "  <use xlink:href=\"#glyph0-15\" x=\"227.644531\" y=\"162.132812\"/>\n",
       "  <use xlink:href=\"#glyph0-16\" x=\"231.640625\" y=\"162.132812\"/>\n",
       "  <use xlink:href=\"#glyph0-14\" x=\"238.972656\" y=\"162.132812\"/>\n",
       "  <use xlink:href=\"#glyph0-3\" x=\"245.644531\" y=\"162.132812\"/>\n",
       "  <use xlink:href=\"#glyph0-22\" x=\"252.976562\" y=\"162.132812\"/>\n",
       "  <use xlink:href=\"#glyph0-5\" x=\"259.648438\" y=\"162.132812\"/>\n",
       "  <use xlink:href=\"#glyph0-6\" x=\"262.984375\" y=\"162.132812\"/>\n",
       "  <use xlink:href=\"#glyph0-7\" x=\"269.992188\" y=\"162.132812\"/>\n",
       "  <use xlink:href=\"#glyph0-5\" x=\"277\" y=\"162.132812\"/>\n",
       "  <use xlink:href=\"#glyph0-8\" x=\"280.335938\" y=\"162.132812\"/>\n",
       "  <use xlink:href=\"#glyph0-9\" x=\"287.007812\" y=\"162.132812\"/>\n",
       "  <use xlink:href=\"#glyph0-10\" x=\"290.34375\" y=\"162.132812\"/>\n",
       "</g>\n",
       "<g style=\"fill:rgb(0%,0%,0%);fill-opacity:1;\">\n",
       "  <use xlink:href=\"#glyph0-23\" x=\"150.988281\" y=\"191.488281\"/>\n",
       "  <use xlink:href=\"#glyph0-13\" x=\"154.324219\" y=\"191.488281\"/>\n",
       "  <use xlink:href=\"#glyph0-24\" x=\"161.65625\" y=\"191.488281\"/>\n",
       "  <use xlink:href=\"#glyph0-25\" x=\"168.988281\" y=\"191.488281\"/>\n",
       "  <use xlink:href=\"#glyph0-13\" x=\"179.957031\" y=\"191.488281\"/>\n",
       "  <use xlink:href=\"#glyph0-12\" x=\"187.289062\" y=\"191.488281\"/>\n",
       "  <use xlink:href=\"#glyph0-26\" x=\"191.957031\" y=\"191.488281\"/>\n",
       "  <use xlink:href=\"#glyph0-27\" x=\"199.289062\" y=\"191.488281\"/>\n",
       "  <use xlink:href=\"#glyph0-5\" x=\"207.953125\" y=\"191.488281\"/>\n",
       "  <use xlink:href=\"#glyph0-21\" x=\"211.289062\" y=\"191.488281\"/>\n",
       "  <use xlink:href=\"#glyph0-5\" x=\"218.296875\" y=\"191.488281\"/>\n",
       "  <use xlink:href=\"#glyph0-28\" x=\"221.632812\" y=\"191.488281\"/>\n",
       "  <use xlink:href=\"#glyph0-9\" x=\"228.304688\" y=\"191.488281\"/>\n",
       "  <use xlink:href=\"#glyph0-29\" x=\"231.640625\" y=\"191.488281\"/>\n",
       "</g>\n",
       "<g style=\"fill:rgb(0%,0%,0%);fill-opacity:1;\">\n",
       "  <use xlink:href=\"#glyph0-12\" x=\"184.816406\" y=\"221.839844\"/>\n",
       "  <use xlink:href=\"#glyph0-11\" x=\"189.543945\" y=\"221.839844\"/>\n",
       "  <use xlink:href=\"#glyph0-30\" x=\"196.21582\" y=\"221.839844\"/>\n",
       "  <use xlink:href=\"#glyph0-11\" x=\"202.887695\" y=\"221.839844\"/>\n",
       "  <use xlink:href=\"#glyph0-14\" x=\"209.55957\" y=\"221.839844\"/>\n",
       "  <use xlink:href=\"#glyph0-12\" x=\"216.231445\" y=\"221.839844\"/>\n",
       "  <use xlink:href=\"#glyph0-4\" x=\"220.899414\" y=\"221.839844\"/>\n",
       "  <use xlink:href=\"#glyph0-16\" x=\"227.571289\" y=\"221.839844\"/>\n",
       "  <use xlink:href=\"#glyph0-5\" x=\"234.90332\" y=\"221.839844\"/>\n",
       "  <use xlink:href=\"#glyph0-6\" x=\"238.239258\" y=\"221.839844\"/>\n",
       "  <use xlink:href=\"#glyph0-7\" x=\"245.24707\" y=\"221.839844\"/>\n",
       "  <use xlink:href=\"#glyph0-5\" x=\"252.254883\" y=\"221.839844\"/>\n",
       "  <use xlink:href=\"#glyph0-8\" x=\"255.59082\" y=\"221.839844\"/>\n",
       "  <use xlink:href=\"#glyph0-9\" x=\"262.262695\" y=\"221.839844\"/>\n",
       "  <use xlink:href=\"#glyph0-10\" x=\"265.598633\" y=\"221.839844\"/>\n",
       "</g>\n",
       "<g style=\"fill:rgb(0%,0%,0%);fill-opacity:1;\">\n",
       "  <use xlink:href=\"#glyph0-19\" x=\"293.796875\" y=\"191.988281\"/>\n",
       "  <use xlink:href=\"#glyph0-13\" x=\"304.464844\" y=\"191.988281\"/>\n",
       "  <use xlink:href=\"#glyph0-26\" x=\"311.796875\" y=\"191.988281\"/>\n",
       "  <use xlink:href=\"#glyph0-11\" x=\"319.128906\" y=\"191.988281\"/>\n",
       "  <use xlink:href=\"#glyph0-23\" x=\"325.800781\" y=\"191.988281\"/>\n",
       "  <use xlink:href=\"#glyph0-5\" x=\"329.136719\" y=\"191.988281\"/>\n",
       "  <use xlink:href=\"#glyph0-6\" x=\"332.472656\" y=\"191.988281\"/>\n",
       "  <use xlink:href=\"#glyph0-7\" x=\"339.480469\" y=\"191.988281\"/>\n",
       "  <use xlink:href=\"#glyph0-5\" x=\"346.488281\" y=\"191.988281\"/>\n",
       "  <use xlink:href=\"#glyph0-8\" x=\"349.824219\" y=\"191.988281\"/>\n",
       "  <use xlink:href=\"#glyph0-9\" x=\"356.496094\" y=\"191.988281\"/>\n",
       "  <use xlink:href=\"#glyph0-10\" x=\"359.832031\" y=\"191.988281\"/>\n",
       "</g>\n",
       "<g style=\"fill:rgb(0%,0%,0%);fill-opacity:1;\">\n",
       "  <use xlink:href=\"#glyph0-11\" x=\"327.125\" y=\"221.339844\"/>\n",
       "  <use xlink:href=\"#glyph0-3\" x=\"333.796875\" y=\"221.339844\"/>\n",
       "  <use xlink:href=\"#glyph0-11\" x=\"341.128906\" y=\"221.339844\"/>\n",
       "  <use xlink:href=\"#glyph0-12\" x=\"347.800781\" y=\"221.339844\"/>\n",
       "  <use xlink:href=\"#glyph0-24\" x=\"352.46875\" y=\"221.339844\"/>\n",
       "  <use xlink:href=\"#glyph0-2\" x=\"359.800781\" y=\"221.339844\"/>\n",
       "  <use xlink:href=\"#glyph0-5\" x=\"363.136719\" y=\"221.339844\"/>\n",
       "  <use xlink:href=\"#glyph0-6\" x=\"366.472656\" y=\"221.339844\"/>\n",
       "  <use xlink:href=\"#glyph0-7\" x=\"373.480469\" y=\"221.339844\"/>\n",
       "  <use xlink:href=\"#glyph0-5\" x=\"380.488281\" y=\"221.339844\"/>\n",
       "  <use xlink:href=\"#glyph0-8\" x=\"383.824219\" y=\"221.339844\"/>\n",
       "  <use xlink:href=\"#glyph0-9\" x=\"390.496094\" y=\"221.339844\"/>\n",
       "  <use xlink:href=\"#glyph0-10\" x=\"393.832031\" y=\"221.339844\"/>\n",
       "</g>\n",
       "<path style=\"fill-rule:nonzero;fill:rgb(100%,100%,100%);fill-opacity:1;stroke-width:0.75;stroke-linecap:round;stroke-linejoin:round;stroke:rgb(0%,0%,0%);stroke-opacity:1;stroke-miterlimit:10;\" d=\"M 30.054688 69.007812 L 30.296875 67.9375 L 31 66.941406 L 32.125 66.085938 L 33.589844 65.429688 L 35.296875 65.015625 L 37.125 64.875 L 38.957031 65.015625 L 40.660156 65.429688 L 42.125 66.085938 L 43.25 66.941406 L 43.957031 67.9375 L 44.195312 69.007812 L 44.195312 70.140625 L 43.957031 71.210938 L 43.25 72.207031 L 42.125 73.0625 L 40.660156 73.71875 L 38.957031 74.132812 L 37.125 74.273438 L 35.296875 74.132812 L 33.589844 73.71875 L 32.125 73.0625 L 31 72.207031 L 30.296875 71.210938 L 30.054688 70.140625 Z M 30.054688 69.007812 \"/>\n",
       "<path style=\"fill-rule:nonzero;fill:rgb(100%,100%,100%);fill-opacity:1;stroke-width:0.75;stroke-linecap:round;stroke-linejoin:round;stroke:rgb(0%,0%,0%);stroke-opacity:1;stroke-miterlimit:10;\" d=\"M 63.828125 98.859375 L 64.070312 97.789062 L 64.777344 96.792969 L 65.898438 95.9375 L 67.363281 95.28125 L 69.070312 94.867188 L 70.902344 94.726562 L 72.730469 94.867188 L 74.4375 95.28125 L 75.902344 95.9375 L 77.023438 96.792969 L 77.730469 97.789062 L 77.972656 98.859375 L 77.972656 99.996094 L 77.730469 101.0625 L 77.023438 102.0625 L 75.902344 102.917969 L 74.4375 103.574219 L 72.730469 103.984375 L 70.902344 104.128906 L 69.070312 103.984375 L 67.363281 103.574219 L 65.898438 102.917969 L 64.777344 102.0625 L 64.070312 101.0625 L 63.828125 99.996094 Z M 63.828125 98.859375 \"/>\n",
       "<path style=\"fill-rule:nonzero;fill:rgb(100%,100%,100%);fill-opacity:1;stroke-width:0.75;stroke-linecap:round;stroke-linejoin:round;stroke:rgb(0%,0%,0%);stroke-opacity:1;stroke-miterlimit:10;\" d=\"M 94.0625 128.714844 L 94.304688 127.644531 L 95.011719 126.648438 L 96.136719 125.792969 L 97.601562 125.136719 L 99.304688 124.722656 L 101.136719 124.582031 L 102.964844 124.722656 L 104.671875 125.136719 L 106.136719 125.792969 L 107.257812 126.648438 L 107.964844 127.644531 L 108.207031 128.714844 L 108.207031 129.847656 L 107.964844 130.917969 L 107.257812 131.914062 L 106.136719 132.769531 L 104.671875 133.425781 L 102.964844 133.839844 L 101.136719 133.980469 L 99.304688 133.839844 L 97.601562 133.425781 L 96.136719 132.769531 L 95.011719 131.914062 L 94.304688 130.917969 L 94.0625 129.847656 Z M 94.0625 128.714844 \"/>\n",
       "<path style=\"fill-rule:nonzero;fill:rgb(100%,100%,100%);fill-opacity:1;stroke-width:0.75;stroke-linecap:round;stroke-linejoin:round;stroke:rgb(0%,0%,0%);stroke-opacity:1;stroke-miterlimit:10;\" d=\"M 58.144531 188.421875 L 58.386719 187.351562 L 59.09375 186.355469 L 60.21875 185.5 L 61.683594 184.84375 L 63.386719 184.429688 L 65.21875 184.289062 L 67.046875 184.429688 L 68.753906 184.84375 L 70.21875 185.5 L 71.339844 186.355469 L 72.046875 187.351562 L 72.289062 188.421875 L 72.289062 189.554688 L 72.046875 190.625 L 71.339844 191.621094 L 70.21875 192.476562 L 68.753906 193.132812 L 67.046875 193.546875 L 65.21875 193.6875 L 63.386719 193.546875 L 61.683594 193.132812 L 60.21875 192.476562 L 59.09375 191.621094 L 58.386719 190.625 L 58.144531 189.554688 Z M 58.144531 188.421875 \"/>\n",
       "<path style=\"fill-rule:nonzero;fill:rgb(100%,100%,100%);fill-opacity:1;stroke-width:0.75;stroke-linecap:round;stroke-linejoin:round;stroke:rgb(0%,0%,0%);stroke-opacity:1;stroke-miterlimit:10;\" d=\"M 119.648438 188.421875 L 119.890625 187.351562 L 120.597656 186.355469 L 121.71875 185.5 L 123.183594 184.84375 L 124.890625 184.429688 L 126.722656 184.289062 L 128.550781 184.429688 L 130.257812 184.84375 L 131.722656 185.5 L 132.84375 186.355469 L 133.550781 187.351562 L 133.792969 188.421875 L 133.792969 189.554688 L 133.550781 190.625 L 132.84375 191.621094 L 131.722656 192.476562 L 130.257812 193.132812 L 128.550781 193.546875 L 126.722656 193.6875 L 124.890625 193.546875 L 123.183594 193.132812 L 121.71875 192.476562 L 120.597656 191.621094 L 119.890625 190.625 L 119.648438 189.554688 Z M 119.648438 188.421875 \"/>\n",
       "<path style=\"fill-rule:nonzero;fill:rgb(100%,100%,100%);fill-opacity:1;stroke-width:0.75;stroke-linecap:round;stroke-linejoin:round;stroke:rgb(0%,0%,0%);stroke-opacity:1;stroke-miterlimit:10;\" d=\"M 154.089844 218.273438 L 154.332031 217.203125 L 155.039062 216.207031 L 156.164062 215.351562 L 157.625 214.695312 L 159.332031 214.28125 L 161.164062 214.140625 L 162.992188 214.28125 L 164.699219 214.695312 L 166.164062 215.351562 L 167.285156 216.207031 L 167.992188 217.203125 L 168.234375 218.273438 L 168.234375 219.410156 L 167.992188 220.476562 L 167.285156 221.476562 L 166.164062 222.332031 L 164.699219 222.988281 L 162.992188 223.398438 L 161.164062 223.542969 L 159.332031 223.398438 L 157.625 222.988281 L 156.164062 222.332031 L 155.039062 221.476562 L 154.332031 220.476562 L 154.089844 219.410156 Z M 154.089844 218.273438 \"/>\n",
       "<path style=\"fill-rule:nonzero;fill:rgb(100%,100%,100%);fill-opacity:1;stroke-width:0.75;stroke-linecap:round;stroke-linejoin:round;stroke:rgb(0%,0%,0%);stroke-opacity:1;stroke-miterlimit:10;\" d=\"M 190.992188 248.128906 L 191.234375 247.058594 L 191.941406 246.0625 L 193.0625 245.207031 L 194.527344 244.550781 L 196.234375 244.136719 L 198.0625 243.996094 L 199.894531 244.136719 L 201.601562 244.550781 L 203.066406 245.207031 L 204.1875 246.0625 L 204.894531 247.058594 L 205.136719 248.128906 L 205.136719 249.261719 L 204.894531 250.332031 L 204.1875 251.328125 L 203.066406 252.183594 L 201.601562 252.839844 L 199.894531 253.253906 L 198.0625 253.394531 L 196.234375 253.253906 L 194.527344 252.839844 L 193.0625 252.183594 L 191.941406 251.328125 L 191.234375 250.332031 L 190.992188 249.261719 Z M 190.992188 248.128906 \"/>\n",
       "<path style=\"fill-rule:nonzero;fill:rgb(100%,100%,100%);fill-opacity:1;stroke-width:0.75;stroke-linecap:round;stroke-linejoin:round;stroke:rgb(0%,0%,0%);stroke-opacity:1;stroke-miterlimit:10;\" d=\"M 252.496094 248.128906 L 252.738281 247.058594 L 253.445312 246.0625 L 254.566406 245.207031 L 256.03125 244.550781 L 257.738281 244.136719 L 259.566406 243.996094 L 261.398438 244.136719 L 263.101562 244.550781 L 264.566406 245.207031 L 265.691406 246.0625 L 266.398438 247.058594 L 266.640625 248.128906 L 266.640625 249.261719 L 266.398438 250.332031 L 265.691406 251.328125 L 264.566406 252.183594 L 263.101562 252.839844 L 261.398438 253.253906 L 259.566406 253.394531 L 257.738281 253.253906 L 256.03125 252.839844 L 254.566406 252.183594 L 253.445312 251.328125 L 252.738281 250.332031 L 252.496094 249.261719 Z M 252.496094 248.128906 \"/>\n",
       "<path style=\"fill-rule:nonzero;fill:rgb(100%,100%,100%);fill-opacity:1;stroke-width:0.75;stroke-linecap:round;stroke-linejoin:round;stroke:rgb(0%,0%,0%);stroke-opacity:1;stroke-miterlimit:10;\" d=\"M 289.398438 218.273438 L 289.640625 217.203125 L 290.34375 216.207031 L 291.46875 215.351562 L 292.933594 214.695312 L 294.640625 214.28125 L 296.46875 214.140625 L 298.300781 214.28125 L 300.003906 214.695312 L 301.46875 215.351562 L 302.59375 216.207031 L 303.300781 217.203125 L 303.539062 218.273438 L 303.539062 219.410156 L 303.300781 220.476562 L 302.59375 221.476562 L 301.46875 222.332031 L 300.003906 222.988281 L 298.300781 223.398438 L 296.46875 223.542969 L 294.640625 223.398438 L 292.933594 222.988281 L 291.46875 222.332031 L 290.34375 221.476562 L 289.640625 220.476562 L 289.398438 219.410156 Z M 289.398438 218.273438 \"/>\n",
       "<path style=\"fill-rule:nonzero;fill:rgb(100%,100%,100%);fill-opacity:1;stroke-width:0.75;stroke-linecap:round;stroke-linejoin:round;stroke:rgb(0%,0%,0%);stroke-opacity:1;stroke-miterlimit:10;\" d=\"M 326.300781 248.128906 L 326.542969 247.058594 L 327.246094 246.0625 L 328.371094 245.207031 L 329.835938 244.550781 L 331.542969 244.136719 L 333.371094 243.996094 L 335.203125 244.136719 L 336.90625 244.550781 L 338.371094 245.207031 L 339.496094 246.0625 L 340.203125 247.058594 L 340.441406 248.128906 L 340.441406 249.261719 L 340.203125 250.332031 L 339.496094 251.328125 L 338.371094 252.183594 L 336.90625 252.839844 L 335.203125 253.253906 L 333.371094 253.394531 L 331.542969 253.253906 L 329.835938 252.839844 L 328.371094 252.183594 L 327.246094 251.328125 L 326.542969 250.332031 L 326.300781 249.261719 Z M 326.300781 248.128906 \"/>\n",
       "<path style=\"fill-rule:nonzero;fill:rgb(100%,100%,100%);fill-opacity:1;stroke-width:0.75;stroke-linecap:round;stroke-linejoin:round;stroke:rgb(0%,0%,0%);stroke-opacity:1;stroke-miterlimit:10;\" d=\"M 387.804688 248.128906 L 388.042969 247.058594 L 388.75 246.0625 L 389.875 245.207031 L 391.339844 244.550781 L 393.042969 244.136719 L 394.875 243.996094 L 396.703125 244.136719 L 398.410156 244.550781 L 399.875 245.207031 L 401 246.0625 L 401.703125 247.058594 L 401.945312 248.128906 L 401.945312 249.261719 L 401.703125 250.332031 L 401 251.328125 L 399.875 252.183594 L 398.410156 252.839844 L 396.703125 253.253906 L 394.875 253.394531 L 393.042969 253.253906 L 391.339844 252.839844 L 389.875 252.183594 L 388.75 251.328125 L 388.042969 250.332031 L 387.804688 249.261719 Z M 387.804688 248.128906 \"/>\n",
       "<g style=\"fill:rgb(0%,0%,0%);fill-opacity:1;\">\n",
       "  <use xlink:href=\"#glyph1-1\" x=\"33.625\" y=\"73.350586\"/>\n",
       "</g>\n",
       "<g style=\"fill:rgb(0%,0%,0%);fill-opacity:1;\">\n",
       "  <use xlink:href=\"#glyph1-1\" x=\"67.402344\" y=\"103.202148\"/>\n",
       "</g>\n",
       "<g style=\"fill:rgb(0%,0%,0%);fill-opacity:1;\">\n",
       "  <use xlink:href=\"#glyph1-1\" x=\"97.636719\" y=\"133.057617\"/>\n",
       "</g>\n",
       "<g style=\"fill:rgb(0%,0%,0%);fill-opacity:1;\">\n",
       "  <use xlink:href=\"#glyph1-1\" x=\"61.71875\" y=\"192.764648\"/>\n",
       "</g>\n",
       "<g style=\"fill:rgb(0%,0%,0%);fill-opacity:1;\">\n",
       "  <use xlink:href=\"#glyph1-2\" x=\"123.222656\" y=\"193.264648\"/>\n",
       "</g>\n",
       "<g style=\"fill:rgb(0%,0%,0%);fill-opacity:1;\">\n",
       "  <use xlink:href=\"#glyph1-1\" x=\"157.664062\" y=\"222.616211\"/>\n",
       "</g>\n",
       "<g style=\"fill:rgb(0%,0%,0%);fill-opacity:1;\">\n",
       "  <use xlink:href=\"#glyph1-1\" x=\"194.5625\" y=\"252.47168\"/>\n",
       "</g>\n",
       "<g style=\"fill:rgb(0%,0%,0%);fill-opacity:1;\">\n",
       "  <use xlink:href=\"#glyph1-2\" x=\"256.066406\" y=\"252.97168\"/>\n",
       "</g>\n",
       "<g style=\"fill:rgb(0%,0%,0%);fill-opacity:1;\">\n",
       "  <use xlink:href=\"#glyph1-1\" x=\"292.96875\" y=\"222.616211\"/>\n",
       "</g>\n",
       "<g style=\"fill:rgb(0%,0%,0%);fill-opacity:1;\">\n",
       "  <use xlink:href=\"#glyph1-1\" x=\"329.871094\" y=\"252.47168\"/>\n",
       "</g>\n",
       "<g style=\"fill:rgb(0%,0%,0%);fill-opacity:1;\">\n",
       "  <use xlink:href=\"#glyph1-2\" x=\"391.375\" y=\"252.97168\"/>\n",
       "</g>\n",
       "<path style=\"fill-rule:nonzero;fill:rgb(100%,100%,100%);fill-opacity:1;stroke-width:0.75;stroke-linecap:round;stroke-linejoin:round;stroke:rgb(0%,0%,0%);stroke-opacity:1;stroke-miterlimit:10;\" d=\"M 17.601562 39.425781 L 17.648438 39.199219 L 17.785156 38.984375 L 18.003906 38.804688 L 18.289062 38.664062 L 18.621094 38.574219 L 18.972656 38.546875 L 35.78125 38.546875 L 36.136719 38.574219 L 36.46875 38.664062 L 36.75 38.804688 L 36.96875 38.984375 L 37.105469 39.199219 L 37.152344 39.425781 L 37.152344 44.714844 L 37.105469 44.941406 L 36.96875 45.15625 L 36.75 45.335938 L 36.46875 45.476562 L 36.136719 45.566406 L 35.78125 45.59375 L 18.972656 45.59375 L 18.621094 45.566406 L 18.289062 45.476562 L 18.003906 45.335938 L 17.785156 45.15625 L 17.648438 44.941406 L 17.601562 44.714844 Z M 17.601562 39.425781 \"/>\n",
       "<path style=\"fill-rule:nonzero;fill:rgb(100%,100%,100%);fill-opacity:1;stroke-width:0.75;stroke-linecap:round;stroke-linejoin:round;stroke:rgb(0%,0%,0%);stroke-opacity:1;stroke-miterlimit:10;\" d=\"M 105.535156 39.425781 L 105.582031 39.199219 L 105.71875 38.984375 L 105.933594 38.804688 L 106.21875 38.664062 L 106.550781 38.574219 L 106.902344 38.546875 L 123.710938 38.546875 L 124.066406 38.574219 L 124.398438 38.664062 L 124.679688 38.804688 L 124.898438 38.984375 L 125.035156 39.199219 L 125.082031 39.425781 L 125.082031 44.714844 L 125.035156 44.941406 L 124.898438 45.15625 L 124.679688 45.335938 L 124.398438 45.476562 L 124.066406 45.566406 L 123.710938 45.59375 L 106.902344 45.59375 L 106.550781 45.566406 L 106.21875 45.476562 L 105.933594 45.335938 L 105.71875 45.15625 L 105.582031 44.941406 L 105.535156 44.714844 Z M 105.535156 39.425781 \"/>\n",
       "<g style=\"fill:rgb(0%,0%,0%);fill-opacity:1;\">\n",
       "  <use xlink:href=\"#glyph2-1\" x=\"19.878906\" y=\"43.963867\"/>\n",
       "  <use xlink:href=\"#glyph2-2\" x=\"24.34082\" y=\"43.963867\"/>\n",
       "  <use xlink:href=\"#glyph2-3\" x=\"29.674805\" y=\"43.963867\"/>\n",
       "</g>\n",
       "<g style=\"fill:rgb(0%,0%,0%);fill-opacity:1;\">\n",
       "  <use xlink:href=\"#glyph2-4\" x=\"109.808594\" y=\"44.37793\"/>\n",
       "  <use xlink:href=\"#glyph2-5\" x=\"115.142578\" y=\"44.37793\"/>\n",
       "</g>\n",
       "</g>\n",
       "</svg>\n"
      ],
      "text/plain": [
       "plot without title"
      ]
     },
     "metadata": {
      "image/svg+xml": {
       "isolated": true
      }
     },
     "output_type": "display_data"
    }
   ],
   "source": [
    "prp(spam2CART)"
   ]
  },
  {
   "cell_type": "code",
   "execution_count": 84,
   "metadata": {
    "collapsed": false
   },
   "outputs": [
    {
     "data": {
      "text/plain": [
       "   \n",
       "    FALSE TRUE\n",
       "  0  1214   94\n",
       "  1    26  384"
      ]
     },
     "metadata": {},
     "output_type": "display_data"
    },
    {
     "data": {
      "text/html": [
       "0.930151338766007"
      ],
      "text/latex": [
       "0.930151338766007"
      ],
      "text/markdown": [
       "0.930151338766007"
      ],
      "text/plain": [
       "[1] 0.9301513"
      ]
     },
     "metadata": {},
     "output_type": "display_data"
    },
    {
     "data": {
      "text/html": [
       "0.958243827851122"
      ],
      "text/latex": [
       "0.958243827851122"
      ],
      "text/markdown": [
       "0.958243827851122"
      ],
      "text/plain": [
       "[1] 0.9582438"
      ]
     },
     "metadata": {},
     "output_type": "display_data"
    },
    {
     "data": {
      "text/plain": [
       "   \n",
       "    FALSE TRUE\n",
       "  0  1296   12\n",
       "  1    27  383"
      ]
     },
     "metadata": {},
     "output_type": "display_data"
    },
    {
     "data": {
      "text/html": [
       "0.977299185098952"
      ],
      "text/latex": [
       "0.977299185098952"
      ],
      "text/markdown": [
       "0.977299185098952"
      ],
      "text/plain": [
       "[1] 0.9772992"
      ]
     },
     "metadata": {},
     "output_type": "display_data"
    },
    {
     "data": {
      "text/html": [
       "0.998090549712837"
      ],
      "text/latex": [
       "0.998090549712837"
      ],
      "text/markdown": [
       "0.998090549712837"
      ],
      "text/plain": [
       "[1] 0.9980905"
      ]
     },
     "metadata": {},
     "output_type": "display_data"
    }
   ],
   "source": [
    "predTest2CART = predict(spam2CART,\n",
    "                        newdata=test2)[,2]\n",
    "predTest2RF = predict(spam2RF, newdata=test2,\n",
    "                     type='prob')[,2]\n",
    "\n",
    "t = table(test2$spam, predTest2CART >= 0.5)\n",
    "t\n",
    "sum(diag(t))/sum(t)\n",
    "\n",
    "pred = prediction(predTest2CART, test2$spam)\n",
    "# AUC\n",
    "as.numeric(performance(pred, 'auc')@y.values)\n",
    "\n",
    "t = table(test2$spam, predTest2RF >= 0.5)\n",
    "t\n",
    "sum(diag(t))/sum(t)\n",
    "\n",
    "pred = prediction(predTest2RF, test2$spam)\n",
    "# AUC\n",
    "as.numeric(performance(pred, 'auc')@y.values)"
   ]
  },
  {
   "cell_type": "markdown",
   "metadata": {},
   "source": [
    "USING N-GRAMS\n",
    "\n",
    "Another source of information that might be extracted from text is the frequency of various n-grams. An n-gram is a sequence of n consecutive words in the document. For instance, for the document \"Text analytics rocks!\", which we would preprocess to \"text analyt rock\", the 1-grams are \"text\", \"analyt\", and \"rock\", the 2-grams are \"text analyt\" and \"analyt rock\", and the only 3-gram is \"text analyt rock\". n-grams are order-specific, meaning the 2-grams \"text analyt\" and \"analyt text\" are considered two separate n-grams. We can see that so far our analysis has been extracting only 1-grams.\n",
    "\n",
    "We do not have exercises in this class covering n-grams, but if you are interested in learning more, the \"RTextTools\", \"tau\", \"RWeka\", and \"textcat\" packages in R are all good resources."
   ]
  },
  {
   "cell_type": "code",
   "execution_count": null,
   "metadata": {
    "collapsed": true
   },
   "outputs": [],
   "source": []
  }
 ],
 "metadata": {
  "kernelspec": {
   "display_name": "R",
   "language": "R",
   "name": "ir"
  },
  "language_info": {
   "codemirror_mode": "r",
   "file_extension": ".r",
   "mimetype": "text/x-r-source",
   "name": "R",
   "pygments_lexer": "r",
   "version": "3.3.0"
  }
 },
 "nbformat": 4,
 "nbformat_minor": 0
}
