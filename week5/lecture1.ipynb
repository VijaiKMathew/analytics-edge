{
 "cells": [
  {
   "cell_type": "code",
   "execution_count": 1,
   "metadata": {
    "collapsed": false
   },
   "outputs": [
    {
     "data": {
      "text/html": [
       "'LC_CTYPE=C;LC_NUMERIC=C;LC_TIME=C;LC_COLLATE=C;LC_MONETARY=C;LC_MESSAGES=en_US.UTF-8;LC_PAPER=en_US.UTF-8;LC_NAME=C;LC_ADDRESS=C;LC_TELEPHONE=C;LC_MEASUREMENT=en_US.UTF-8;LC_IDENTIFICATION=C'"
      ],
      "text/latex": [
       "'LC\\_CTYPE=C;LC\\_NUMERIC=C;LC\\_TIME=C;LC\\_COLLATE=C;LC\\_MONETARY=C;LC\\_MESSAGES=en\\_US.UTF-8;LC\\_PAPER=en\\_US.UTF-8;LC\\_NAME=C;LC\\_ADDRESS=C;LC\\_TELEPHONE=C;LC\\_MEASUREMENT=en\\_US.UTF-8;LC\\_IDENTIFICATION=C'"
      ],
      "text/markdown": [
       "'LC_CTYPE=C;LC_NUMERIC=C;LC_TIME=C;LC_COLLATE=C;LC_MONETARY=C;LC_MESSAGES=en_US.UTF-8;LC_PAPER=en_US.UTF-8;LC_NAME=C;LC_ADDRESS=C;LC_TELEPHONE=C;LC_MEASUREMENT=en_US.UTF-8;LC_IDENTIFICATION=C'"
      ],
      "text/plain": [
       "[1] \"LC_CTYPE=C;LC_NUMERIC=C;LC_TIME=C;LC_COLLATE=C;LC_MONETARY=C;LC_MESSAGES=en_US.UTF-8;LC_PAPER=en_US.UTF-8;LC_NAME=C;LC_ADDRESS=C;LC_TELEPHONE=C;LC_MEASUREMENT=en_US.UTF-8;LC_IDENTIFICATION=C\""
      ]
     },
     "metadata": {},
     "output_type": "display_data"
    }
   ],
   "source": [
    "options(device=pdf) # turn off flashy window on each block execution\n",
    "# options(repr.plot.width=6, repr.plot.height=4)\n",
    "Sys.setlocale(\"LC_ALL\", \"C\")\n",
    "initialWidth = getOption('width')\n",
    "options(width=80) # for old folks like me who can't see shit and set font large"
   ]
  },
  {
   "cell_type": "markdown",
   "metadata": {},
   "source": [
    "In the following video, we ask you to install the \"tm\" package to perform the pre-processing steps. Due to function changes that occurred after this video was recorded, you will need to run the following command immediately after converting all of the words to lowercase letters (it converts all documents in the corpus to the PlainTextDocument type):\n",
    "\n",
    "corpus = tm_map(corpus, PlainTextDocument)\n",
    "\n",
    "Then you can continue with the R commands as they are in the video."
   ]
  },
  {
   "cell_type": "markdown",
   "metadata": {},
   "source": [
    "If the code length(stopwords(\"english\")) does not return 174 for you, then please run the line of code in this file, which will store the standard stop words in a variable called sw. When removing stop words, use tm_map(corpus, removeWords, sw) instead of tm_map(corpus, removeWords, stopwords(\"english\")). "
   ]
  },
  {
   "cell_type": "code",
   "execution_count": 3,
   "metadata": {
    "collapsed": true
   },
   "outputs": [],
   "source": [
    "tweets = read.csv('data/tweets.csv.xz', stringsAsFactors=F)"
   ]
  },
  {
   "cell_type": "code",
   "execution_count": 4,
   "metadata": {
    "collapsed": false
   },
   "outputs": [
    {
     "name": "stdout",
     "output_type": "stream",
     "text": [
      "'data.frame':\t1181 obs. of  2 variables:\n",
      " $ Tweet: chr  \"I have to say, Apple has by far the best customer care service I have ever received! @Apple @AppStore\" \"iOS 7 is so fricking smooth & beautiful!! #ThanxApple @Apple\" \"LOVE U @APPLE\" \"Thank you @apple, loving my new iPhone 5S!!!!!  #apple #iphone5S pic.twitter.com/XmHJCU4pcb\" ...\n",
      " $ Avg  : num  2 2 1.8 1.8 1.8 1.8 1.8 1.6 1.6 1.6 ...\n"
     ]
    }
   ],
   "source": [
    "str(tweets)"
   ]
  },
  {
   "cell_type": "code",
   "execution_count": 5,
   "metadata": {
    "collapsed": true
   },
   "outputs": [],
   "source": [
    "tweets$Negative = as.factor(tweets$Avg <= -1)"
   ]
  },
  {
   "cell_type": "code",
   "execution_count": 6,
   "metadata": {
    "collapsed": false
   },
   "outputs": [
    {
     "data": {
      "text/plain": [
       "\n",
       "FALSE  TRUE \n",
       "  999   182 "
      ]
     },
     "metadata": {},
     "output_type": "display_data"
    }
   ],
   "source": [
    "table(tweets$Negative)"
   ]
  },
  {
   "cell_type": "code",
   "execution_count": 8,
   "metadata": {
    "collapsed": false
   },
   "outputs": [],
   "source": [
    "library(tm)\n",
    "library(SnowballC)"
   ]
  },
  {
   "cell_type": "code",
   "execution_count": 9,
   "metadata": {
    "collapsed": false
   },
   "outputs": [
    {
     "data": {
      "text/plain": [
       "<<VCorpus>>\n",
       "Metadata:  corpus specific: 0, document level (indexed): 0\n",
       "Content:  documents: 1181"
      ]
     },
     "metadata": {},
     "output_type": "display_data"
    }
   ],
   "source": [
    "corpus = Corpus(VectorSource(tweets$Tweet))\n",
    "corpus"
   ]
  },
  {
   "cell_type": "code",
   "execution_count": 11,
   "metadata": {
    "collapsed": false
   },
   "outputs": [
    {
     "data": {
      "text/html": [
       "'I have to say, Apple has by far the best customer care service I have ever received! @Apple @AppStore'"
      ],
      "text/latex": [
       "'I have to say, Apple has by far the best customer care service I have ever received! @Apple @AppStore'"
      ],
      "text/markdown": [
       "'I have to say, Apple has by far the best customer care service I have ever received! @Apple @AppStore'"
      ],
      "text/plain": [
       "[1] \"I have to say, Apple has by far the best customer care service I have ever received! @Apple @AppStore\""
      ]
     },
     "metadata": {},
     "output_type": "display_data"
    }
   ],
   "source": [
    "corpus[[1]]$content"
   ]
  },
  {
   "cell_type": "code",
   "execution_count": 12,
   "metadata": {
    "collapsed": true
   },
   "outputs": [],
   "source": [
    "corpus = tm_map(corpus, tolower)\n",
    "corpus = tm_map(corpus, PlainTextDocument)"
   ]
  },
  {
   "cell_type": "code",
   "execution_count": 13,
   "metadata": {
    "collapsed": false
   },
   "outputs": [
    {
     "data": {
      "text/html": [
       "'i have to say, apple has by far the best customer care service i have ever received! @apple @appstore'"
      ],
      "text/latex": [
       "'i have to say, apple has by far the best customer care service i have ever received! @apple @appstore'"
      ],
      "text/markdown": [
       "'i have to say, apple has by far the best customer care service i have ever received! @apple @appstore'"
      ],
      "text/plain": [
       "[1] \"i have to say, apple has by far the best customer care service i have ever received! @apple @appstore\""
      ]
     },
     "metadata": {},
     "output_type": "display_data"
    }
   ],
   "source": [
    "corpus[[1]]$content"
   ]
  },
  {
   "cell_type": "code",
   "execution_count": 14,
   "metadata": {
    "collapsed": true
   },
   "outputs": [],
   "source": [
    "corpus = tm_map(corpus, removePunctuation)"
   ]
  },
  {
   "cell_type": "code",
   "execution_count": 15,
   "metadata": {
    "collapsed": false
   },
   "outputs": [
    {
     "data": {
      "text/html": [
       "'i have to say apple has by far the best customer care service i have ever received apple appstore'"
      ],
      "text/latex": [
       "'i have to say apple has by far the best customer care service i have ever received apple appstore'"
      ],
      "text/markdown": [
       "'i have to say apple has by far the best customer care service i have ever received apple appstore'"
      ],
      "text/plain": [
       "[1] \"i have to say apple has by far the best customer care service i have ever received apple appstore\""
      ]
     },
     "metadata": {},
     "output_type": "display_data"
    }
   ],
   "source": [
    "corpus[[1]]$content"
   ]
  },
  {
   "cell_type": "code",
   "execution_count": 16,
   "metadata": {
    "collapsed": false
   },
   "outputs": [
    {
     "data": {
      "text/html": [
       "<ol class=list-inline>\n",
       "\t<li>'i'</li>\n",
       "\t<li>'me'</li>\n",
       "\t<li>'my'</li>\n",
       "\t<li>'myself'</li>\n",
       "\t<li>'we'</li>\n",
       "\t<li>'our'</li>\n",
       "\t<li>'ours'</li>\n",
       "\t<li>'ourselves'</li>\n",
       "\t<li>'you'</li>\n",
       "\t<li>'your'</li>\n",
       "</ol>\n"
      ],
      "text/latex": [
       "\\begin{enumerate*}\n",
       "\\item 'i'\n",
       "\\item 'me'\n",
       "\\item 'my'\n",
       "\\item 'myself'\n",
       "\\item 'we'\n",
       "\\item 'our'\n",
       "\\item 'ours'\n",
       "\\item 'ourselves'\n",
       "\\item 'you'\n",
       "\\item 'your'\n",
       "\\end{enumerate*}\n"
      ],
      "text/markdown": [
       "1. 'i'\n",
       "2. 'me'\n",
       "3. 'my'\n",
       "4. 'myself'\n",
       "5. 'we'\n",
       "6. 'our'\n",
       "7. 'ours'\n",
       "8. 'ourselves'\n",
       "9. 'you'\n",
       "10. 'your'\n",
       "\n",
       "\n"
      ],
      "text/plain": [
       " [1] \"i\"         \"me\"        \"my\"        \"myself\"    \"we\"        \"our\"      \n",
       " [7] \"ours\"      \"ourselves\" \"you\"       \"your\"     "
      ]
     },
     "metadata": {},
     "output_type": "display_data"
    }
   ],
   "source": [
    "stopwords('english')[1:10]"
   ]
  },
  {
   "cell_type": "code",
   "execution_count": 17,
   "metadata": {
    "collapsed": true
   },
   "outputs": [],
   "source": [
    "corpus = tm_map(corpus, removeWords, c('apple', stopwords('english')))"
   ]
  },
  {
   "cell_type": "code",
   "execution_count": 18,
   "metadata": {
    "collapsed": false
   },
   "outputs": [
    {
     "data": {
      "text/html": [
       "'   say    far  best customer care service   ever received  appstore'"
      ],
      "text/latex": [
       "'   say    far  best customer care service   ever received  appstore'"
      ],
      "text/markdown": [
       "'   say    far  best customer care service   ever received  appstore'"
      ],
      "text/plain": [
       "[1] \"   say    far  best customer care service   ever received  appstore\""
      ]
     },
     "metadata": {},
     "output_type": "display_data"
    }
   ],
   "source": [
    "corpus[[1]]$content"
   ]
  },
  {
   "cell_type": "code",
   "execution_count": 20,
   "metadata": {
    "collapsed": false
   },
   "outputs": [
    {
     "data": {
      "text/html": [
       "'   say    far  best custom care servic   ever receiv  appstor'"
      ],
      "text/latex": [
       "'   say    far  best custom care servic   ever receiv  appstor'"
      ],
      "text/markdown": [
       "'   say    far  best custom care servic   ever receiv  appstor'"
      ],
      "text/plain": [
       "[1] \"   say    far  best custom care servic   ever receiv  appstor\""
      ]
     },
     "metadata": {},
     "output_type": "display_data"
    }
   ],
   "source": [
    "corpus = tm_map(corpus, stemDocument)\n",
    "corpus[[1]]$content"
   ]
  },
  {
   "cell_type": "code",
   "execution_count": 21,
   "metadata": {
    "collapsed": false
   },
   "outputs": [
    {
     "data": {
      "text/plain": [
       "<<DocumentTermMatrix (documents: 1181, terms: 3289)>>\n",
       "Non-/sparse entries: 8980/3875329\n",
       "Sparsity           : 100%\n",
       "Maximal term length: 115\n",
       "Weighting          : term frequency (tf)"
      ]
     },
     "metadata": {},
     "output_type": "display_data"
    }
   ],
   "source": [
    "freq = DocumentTermMatrix(corpus)\n",
    "freq"
   ]
  },
  {
   "cell_type": "code",
   "execution_count": 22,
   "metadata": {
    "collapsed": false
   },
   "outputs": [
    {
     "name": "stdout",
     "output_type": "stream",
     "text": [
      "<<DocumentTermMatrix (documents: 6, terms: 11)>>\n",
      "Non-/sparse entries: 1/65\n",
      "Sparsity           : 98%\n",
      "Maximal term length: 9\n",
      "Weighting          : term frequency (tf)\n",
      "\n",
      "              Terms\n",
      "Docs           cheapen cheaper check cheep cheer cheerio cherylcol chief\n",
      "  character(0)       0       0     0     0     0       0         0     0\n",
      "  character(0)       0       0     0     0     0       0         0     0\n",
      "  character(0)       0       0     0     0     0       0         0     0\n",
      "  character(0)       0       0     0     0     0       0         0     0\n",
      "  character(0)       0       0     0     0     0       0         0     0\n",
      "  character(0)       0       0     0     0     1       0         0     0\n",
      "              Terms\n",
      "Docs           chiiiiqu child children\n",
      "  character(0)        0     0        0\n",
      "  character(0)        0     0        0\n",
      "  character(0)        0     0        0\n",
      "  character(0)        0     0        0\n",
      "  character(0)        0     0        0\n",
      "  character(0)        0     0        0\n"
     ]
    }
   ],
   "source": [
    "inspect(freq[1000:1005,505:515])"
   ]
  },
  {
   "cell_type": "code",
   "execution_count": 23,
   "metadata": {
    "collapsed": false
   },
   "outputs": [
    {
     "data": {
      "text/html": [
       "<ol class=list-inline>\n",
       "\t<li>'android'</li>\n",
       "\t<li>'anyon'</li>\n",
       "\t<li>'app'</li>\n",
       "\t<li>'appl'</li>\n",
       "\t<li>'back'</li>\n",
       "\t<li>'batteri'</li>\n",
       "\t<li>'better'</li>\n",
       "\t<li>'buy'</li>\n",
       "\t<li>'can'</li>\n",
       "\t<li>'cant'</li>\n",
       "\t<li>'come'</li>\n",
       "\t<li>'dont'</li>\n",
       "\t<li>'fingerprint'</li>\n",
       "\t<li>'freak'</li>\n",
       "\t<li>'get'</li>\n",
       "\t<li>'googl'</li>\n",
       "\t<li>'ios7'</li>\n",
       "\t<li>'ipad'</li>\n",
       "\t<li>'iphon'</li>\n",
       "\t<li>'iphone5'</li>\n",
       "\t<li>'iphone5c'</li>\n",
       "\t<li>'ipod'</li>\n",
       "\t<li>'ipodplayerpromo'</li>\n",
       "\t<li>'itun'</li>\n",
       "\t<li>'just'</li>\n",
       "\t<li>'like'</li>\n",
       "\t<li>'lol'</li>\n",
       "\t<li>'look'</li>\n",
       "\t<li>'love'</li>\n",
       "\t<li>'make'</li>\n",
       "\t<li>'market'</li>\n",
       "\t<li>'microsoft'</li>\n",
       "\t<li>'need'</li>\n",
       "\t<li>'new'</li>\n",
       "\t<li>'now'</li>\n",
       "\t<li>'one'</li>\n",
       "\t<li>'phone'</li>\n",
       "\t<li>'pleas'</li>\n",
       "\t<li>'promo'</li>\n",
       "\t<li>'promoipodplayerpromo'</li>\n",
       "\t<li>'realli'</li>\n",
       "\t<li>'releas'</li>\n",
       "\t<li>'samsung'</li>\n",
       "\t<li>'say'</li>\n",
       "\t<li>'store'</li>\n",
       "\t<li>'thank'</li>\n",
       "\t<li>'think'</li>\n",
       "\t<li>'time'</li>\n",
       "\t<li>'twitter'</li>\n",
       "\t<li>'updat'</li>\n",
       "\t<li>'use'</li>\n",
       "\t<li>'via'</li>\n",
       "\t<li>'want'</li>\n",
       "\t<li>'well'</li>\n",
       "\t<li>'will'</li>\n",
       "\t<li>'work'</li>\n",
       "</ol>\n"
      ],
      "text/latex": [
       "\\begin{enumerate*}\n",
       "\\item 'android'\n",
       "\\item 'anyon'\n",
       "\\item 'app'\n",
       "\\item 'appl'\n",
       "\\item 'back'\n",
       "\\item 'batteri'\n",
       "\\item 'better'\n",
       "\\item 'buy'\n",
       "\\item 'can'\n",
       "\\item 'cant'\n",
       "\\item 'come'\n",
       "\\item 'dont'\n",
       "\\item 'fingerprint'\n",
       "\\item 'freak'\n",
       "\\item 'get'\n",
       "\\item 'googl'\n",
       "\\item 'ios7'\n",
       "\\item 'ipad'\n",
       "\\item 'iphon'\n",
       "\\item 'iphone5'\n",
       "\\item 'iphone5c'\n",
       "\\item 'ipod'\n",
       "\\item 'ipodplayerpromo'\n",
       "\\item 'itun'\n",
       "\\item 'just'\n",
       "\\item 'like'\n",
       "\\item 'lol'\n",
       "\\item 'look'\n",
       "\\item 'love'\n",
       "\\item 'make'\n",
       "\\item 'market'\n",
       "\\item 'microsoft'\n",
       "\\item 'need'\n",
       "\\item 'new'\n",
       "\\item 'now'\n",
       "\\item 'one'\n",
       "\\item 'phone'\n",
       "\\item 'pleas'\n",
       "\\item 'promo'\n",
       "\\item 'promoipodplayerpromo'\n",
       "\\item 'realli'\n",
       "\\item 'releas'\n",
       "\\item 'samsung'\n",
       "\\item 'say'\n",
       "\\item 'store'\n",
       "\\item 'thank'\n",
       "\\item 'think'\n",
       "\\item 'time'\n",
       "\\item 'twitter'\n",
       "\\item 'updat'\n",
       "\\item 'use'\n",
       "\\item 'via'\n",
       "\\item 'want'\n",
       "\\item 'well'\n",
       "\\item 'will'\n",
       "\\item 'work'\n",
       "\\end{enumerate*}\n"
      ],
      "text/markdown": [
       "1. 'android'\n",
       "2. 'anyon'\n",
       "3. 'app'\n",
       "4. 'appl'\n",
       "5. 'back'\n",
       "6. 'batteri'\n",
       "7. 'better'\n",
       "8. 'buy'\n",
       "9. 'can'\n",
       "10. 'cant'\n",
       "11. 'come'\n",
       "12. 'dont'\n",
       "13. 'fingerprint'\n",
       "14. 'freak'\n",
       "15. 'get'\n",
       "16. 'googl'\n",
       "17. 'ios7'\n",
       "18. 'ipad'\n",
       "19. 'iphon'\n",
       "20. 'iphone5'\n",
       "21. 'iphone5c'\n",
       "22. 'ipod'\n",
       "23. 'ipodplayerpromo'\n",
       "24. 'itun'\n",
       "25. 'just'\n",
       "26. 'like'\n",
       "27. 'lol'\n",
       "28. 'look'\n",
       "29. 'love'\n",
       "30. 'make'\n",
       "31. 'market'\n",
       "32. 'microsoft'\n",
       "33. 'need'\n",
       "34. 'new'\n",
       "35. 'now'\n",
       "36. 'one'\n",
       "37. 'phone'\n",
       "38. 'pleas'\n",
       "39. 'promo'\n",
       "40. 'promoipodplayerpromo'\n",
       "41. 'realli'\n",
       "42. 'releas'\n",
       "43. 'samsung'\n",
       "44. 'say'\n",
       "45. 'store'\n",
       "46. 'thank'\n",
       "47. 'think'\n",
       "48. 'time'\n",
       "49. 'twitter'\n",
       "50. 'updat'\n",
       "51. 'use'\n",
       "52. 'via'\n",
       "53. 'want'\n",
       "54. 'well'\n",
       "55. 'will'\n",
       "56. 'work'\n",
       "\n",
       "\n"
      ],
      "text/plain": [
       " [1] \"android\"              \"anyon\"                \"app\"                 \n",
       " [4] \"appl\"                 \"back\"                 \"batteri\"             \n",
       " [7] \"better\"               \"buy\"                  \"can\"                 \n",
       "[10] \"cant\"                 \"come\"                 \"dont\"                \n",
       "[13] \"fingerprint\"          \"freak\"                \"get\"                 \n",
       "[16] \"googl\"                \"ios7\"                 \"ipad\"                \n",
       "[19] \"iphon\"                \"iphone5\"              \"iphone5c\"            \n",
       "[22] \"ipod\"                 \"ipodplayerpromo\"      \"itun\"                \n",
       "[25] \"just\"                 \"like\"                 \"lol\"                 \n",
       "[28] \"look\"                 \"love\"                 \"make\"                \n",
       "[31] \"market\"               \"microsoft\"            \"need\"                \n",
       "[34] \"new\"                  \"now\"                  \"one\"                 \n",
       "[37] \"phone\"                \"pleas\"                \"promo\"               \n",
       "[40] \"promoipodplayerpromo\" \"realli\"               \"releas\"              \n",
       "[43] \"samsung\"              \"say\"                  \"store\"               \n",
       "[46] \"thank\"                \"think\"                \"time\"                \n",
       "[49] \"twitter\"              \"updat\"                \"use\"                 \n",
       "[52] \"via\"                  \"want\"                 \"well\"                \n",
       "[55] \"will\"                 \"work\"                "
      ]
     },
     "metadata": {},
     "output_type": "display_data"
    }
   ],
   "source": [
    "findFreqTerms(freq, lowfreq = 20)"
   ]
  },
  {
   "cell_type": "code",
   "execution_count": 24,
   "metadata": {
    "collapsed": false
   },
   "outputs": [
    {
     "data": {
      "text/plain": [
       "<<DocumentTermMatrix (documents: 1181, terms: 309)>>\n",
       "Non-/sparse entries: 4669/360260\n",
       "Sparsity           : 99%\n",
       "Maximal term length: 20\n",
       "Weighting          : term frequency (tf)"
      ]
     },
     "metadata": {},
     "output_type": "display_data"
    }
   ],
   "source": [
    "sparse = removeSparseTerms(freq, 0.995)\n",
    "sparse"
   ]
  },
  {
   "cell_type": "code",
   "execution_count": 25,
   "metadata": {
    "collapsed": true
   },
   "outputs": [],
   "source": [
    "tweetsSparse = as.data.frame(as.matrix(sparse))"
   ]
  },
  {
   "cell_type": "code",
   "execution_count": 26,
   "metadata": {
    "collapsed": true
   },
   "outputs": [],
   "source": [
    "colnames(tweetsSparse) = make.names(\n",
    "    colnames(tweetsSparse))"
   ]
  },
  {
   "cell_type": "code",
   "execution_count": 27,
   "metadata": {
    "collapsed": true
   },
   "outputs": [],
   "source": [
    "tweetsSparse$Negative = tweets$Negative"
   ]
  },
  {
   "cell_type": "code",
   "execution_count": 28,
   "metadata": {
    "collapsed": true
   },
   "outputs": [],
   "source": [
    "library(caTools)\n",
    "set.seed(123)\n",
    "split = sample.split(tweetsSparse$Negative,\n",
    "                     SplitRatio=0.7)\n",
    "trainSparse = subset(tweetsSparse, split==T)\n",
    "testSparse = subset(tweetsSparse, split==F)"
   ]
  },
  {
   "cell_type": "code",
   "execution_count": 29,
   "metadata": {
    "collapsed": false
   },
   "outputs": [
    {
     "data": {
      "text/html": [
       "<ol class=list-inline>\n",
       "\t<li>'iphon'</li>\n",
       "\t<li>'itun'</li>\n",
       "\t<li>'new'</li>\n",
       "</ol>\n"
      ],
      "text/latex": [
       "\\begin{enumerate*}\n",
       "\\item 'iphon'\n",
       "\\item 'itun'\n",
       "\\item 'new'\n",
       "\\end{enumerate*}\n"
      ],
      "text/markdown": [
       "1. 'iphon'\n",
       "2. 'itun'\n",
       "3. 'new'\n",
       "\n",
       "\n"
      ],
      "text/plain": [
       "[1] \"iphon\" \"itun\"  \"new\"  "
      ]
     },
     "metadata": {},
     "output_type": "display_data"
    }
   ],
   "source": [
    "findFreqTerms(freq, lowfreq = 100)"
   ]
  },
  {
   "cell_type": "code",
   "execution_count": 30,
   "metadata": {
    "collapsed": true
   },
   "outputs": [],
   "source": [
    "library(rpart)\n",
    "library(rpart.plot)"
   ]
  },
  {
   "cell_type": "code",
   "execution_count": 31,
   "metadata": {
    "collapsed": false
   },
   "outputs": [
    {
     "data": {
      "image/png": "[encoded data removed]",
      "image/svg+xml": [
       "<?xml version=\"1.0\" encoding=\"UTF-8\"?>\n",
       "<svg xmlns=\"http://www.w3.org/2000/svg\" xmlns:xlink=\"http://www.w3.org/1999/xlink\" width=\"504pt\" height=\"504pt\" viewBox=\"0 0 504 504\" version=\"1.1\">\n",
       "<defs>\n",
       "<g>\n",
       "<symbol overflow=\"visible\" id=\"glyph0-0\">\n",
       "<path style=\"stroke:none;\" d=\"\"/>\n",
       "</symbol>\n",
       "<symbol overflow=\"visible\" id=\"glyph0-1\">\n",
       "<path style=\"stroke:none;\" d=\"M 3.75 -5.234375 L 3.75 -6.34375 L 2.765625 -6.34375 L 2.765625 -6.984375 C 2.765625 -7.3125 2.90625 -7.484375 3.21875 -7.484375 C 3.359375 -7.484375 3.546875 -7.46875 3.703125 -7.453125 L 3.703125 -8.71875 C 3.390625 -8.734375 2.96875 -8.75 2.734375 -8.75 C 1.625 -8.75 1.078125 -8.21875 1.078125 -7.125 L 1.078125 -6.34375 L 0.171875 -6.34375 L 0.171875 -5.234375 L 1.078125 -5.234375 L 1.078125 0 L 2.765625 0 L 2.765625 -5.234375 Z M 3.75 -5.234375 \"/>\n",
       "</symbol>\n",
       "<symbol overflow=\"visible\" id=\"glyph0-2\">\n",
       "<path style=\"stroke:none;\" d=\"M 4.4375 -4.875 L 4.4375 -6.578125 C 4.34375 -6.59375 4.28125 -6.59375 4.234375 -6.59375 C 3.46875 -6.59375 2.796875 -6.078125 2.4375 -5.203125 L 2.4375 -6.484375 L 0.75 -6.484375 L 0.75 0 L 2.4375 0 L 2.4375 -3.4375 C 2.4375 -4.421875 2.921875 -4.921875 3.90625 -4.921875 C 4.09375 -4.921875 4.21875 -4.90625 4.4375 -4.875 Z M 4.4375 -4.875 \"/>\n",
       "</symbol>\n",
       "<symbol overflow=\"visible\" id=\"glyph0-3\">\n",
       "<path style=\"stroke:none;\" d=\"M 6.296875 -3 C 6.296875 -5.234375 5.171875 -6.59375 3.265625 -6.59375 C 1.40625 -6.59375 0.265625 -5.328125 0.265625 -3.15625 C 0.265625 -1.078125 1.390625 0.109375 3.234375 0.109375 C 4.6875 0.109375 5.859375 -0.546875 6.234375 -1.828125 L 4.578125 -1.828125 C 4.421875 -1.359375 3.90625 -1.171875 3.28125 -1.171875 C 2.5 -1.171875 1.984375 -1.53125 1.9375 -2.796875 L 6.28125 -2.796875 Z M 4.546875 -3.90625 L 1.96875 -3.90625 C 2.078125 -4.8125 2.5 -5.296875 3.234375 -5.296875 C 3.953125 -5.296875 4.46875 -4.84375 4.546875 -3.90625 Z M 4.546875 -3.90625 \"/>\n",
       "</symbol>\n",
       "<symbol overflow=\"visible\" id=\"glyph0-4\">\n",
       "<path style=\"stroke:none;\" d=\"M 6.28125 0 L 6.28125 -0.203125 C 5.984375 -0.484375 5.90625 -0.65625 5.90625 -1 L 5.90625 -4.59375 C 5.90625 -5.921875 5 -6.59375 3.25 -6.59375 C 1.5 -6.59375 0.59375 -5.84375 0.484375 -4.34375 L 2.09375 -4.34375 C 2.1875 -5.015625 2.453125 -5.234375 3.28125 -5.234375 C 3.9375 -5.234375 4.265625 -5.015625 4.265625 -4.578125 C 4.265625 -3.90625 3.75 -3.96875 2.921875 -3.828125 L 2.25 -3.703125 C 0.953125 -3.484375 0.34375 -2.921875 0.34375 -1.75 C 0.34375 -0.484375 1.21875 0.109375 2.296875 0.109375 C 3.03125 0.109375 3.6875 -0.203125 4.265625 -0.8125 C 4.265625 -0.484375 4.3125 -0.1875 4.46875 0 Z M 4.265625 -2.765625 C 4.265625 -1.796875 3.78125 -1.25 2.921875 -1.25 C 2.359375 -1.25 2.015625 -1.46875 2.015625 -1.9375 C 2.015625 -2.4375 2.28125 -2.609375 2.96875 -2.75 L 3.546875 -2.859375 C 4 -2.9375 4.0625 -2.96875 4.265625 -3.0625 Z M 4.265625 -2.765625 \"/>\n",
       "</symbol>\n",
       "<symbol overflow=\"visible\" id=\"glyph0-5\">\n",
       "<path style=\"stroke:none;\" d=\"M 6.578125 0 L 4.21875 -4.03125 L 6.421875 -6.484375 L 4.515625 -6.484375 L 2.390625 -3.953125 L 2.390625 -8.75 L 0.703125 -8.75 L 0.703125 0 L 2.390625 0 L 2.390625 -2.125 L 3.0625 -2.859375 L 4.609375 0 Z M 6.578125 0 \"/>\n",
       "</symbol>\n",
       "<symbol overflow=\"visible\" id=\"glyph0-6\">\n",
       "<path style=\"stroke:none;\" d=\"\"/>\n",
       "</symbol>\n",
       "<symbol overflow=\"visible\" id=\"glyph0-7\">\n",
       "<path style=\"stroke:none;\" d=\"M 5.5625 1.265625 L 5.5625 -0.296875 L 2.375 -3 L 5.5625 -5.703125 L 5.5625 -7.265625 L 1.0625 -3.453125 L 1.0625 -2.546875 Z M 5.5625 1.265625 \"/>\n",
       "</symbol>\n",
       "<symbol overflow=\"visible\" id=\"glyph0-8\">\n",
       "<path style=\"stroke:none;\" d=\"M 6.203125 -4.234375 C 6.203125 -6.640625 5.765625 -8.6875 3.28125 -8.6875 C 0.84375 -8.6875 0.34375 -6.734375 0.34375 -4.28125 C 0.34375 -1.90625 0.8125 0.109375 3.28125 0.109375 C 5 0.109375 6.203125 -0.875 6.203125 -4.234375 Z M 4.53125 -4.265625 C 4.53125 -1.890625 4.171875 -1.328125 3.28125 -1.328125 C 2.421875 -1.328125 2.03125 -1.765625 2.03125 -4.296875 C 2.03125 -6.765625 2.375 -7.328125 3.28125 -7.328125 C 4.109375 -7.328125 4.53125 -6.90625 4.53125 -4.265625 Z M 4.53125 -4.265625 \"/>\n",
       "</symbol>\n",
       "<symbol overflow=\"visible\" id=\"glyph0-9\">\n",
       "<path style=\"stroke:none;\" d=\"M 2.5625 0 L 2.5625 -1.75 L 0.765625 -1.75 L 0.765625 0 Z M 2.5625 0 \"/>\n",
       "</symbol>\n",
       "<symbol overflow=\"visible\" id=\"glyph0-10\">\n",
       "<path style=\"stroke:none;\" d=\"M 6.203125 -2.890625 C 6.203125 -4.625 5.125 -5.75 3.546875 -5.75 C 2.984375 -5.75 2.5625 -5.609375 2.078125 -5.234375 L 2.359375 -7.015625 L 5.875 -7.015625 L 5.875 -8.515625 L 1.3125 -8.515625 L 0.5625 -3.765625 L 2.078125 -3.765625 C 2.25 -4.1875 2.640625 -4.421875 3.15625 -4.421875 C 4.015625 -4.421875 4.53125 -3.890625 4.53125 -2.859375 C 4.53125 -1.859375 4 -1.328125 3.15625 -1.328125 C 2.421875 -1.328125 1.984375 -1.703125 1.984375 -2.390625 L 0.328125 -2.390625 C 0.328125 -0.90625 1.46875 0.109375 3.125 0.109375 C 4.953125 0.109375 6.203125 -1.0625 6.203125 -2.890625 Z M 6.203125 -2.890625 \"/>\n",
       "</symbol>\n",
       "<symbol overflow=\"visible\" id=\"glyph0-11\">\n",
       "<path style=\"stroke:none;\" d=\"M 6.484375 0 L 6.484375 -4.34375 C 6.484375 -5.859375 5.609375 -6.59375 4.375 -6.59375 C 3.546875 -6.59375 2.953125 -6.25 2.484375 -5.546875 L 2.484375 -8.75 L 0.796875 -8.75 L 0.796875 0 L 2.484375 0 L 2.484375 -3.890625 C 2.484375 -4.625 3.03125 -5.15625 3.78125 -5.15625 C 4.375 -5.15625 4.8125 -4.84375 4.8125 -3.953125 L 4.8125 0 Z M 6.484375 0 \"/>\n",
       "</symbol>\n",
       "<symbol overflow=\"visible\" id=\"glyph0-12\">\n",
       "<path style=\"stroke:none;\" d=\"M 3.609375 0 L 3.609375 -1.171875 C 3.4375 -1.15625 3.34375 -1.140625 3.234375 -1.140625 C 2.78125 -1.140625 2.671875 -1.265625 2.671875 -1.84375 L 2.671875 -5.234375 L 3.609375 -5.234375 L 3.609375 -6.34375 L 2.671875 -6.34375 L 2.671875 -8.09375 L 1 -8.09375 L 1 -6.34375 L 0.171875 -6.34375 L 0.171875 -5.234375 L 1 -5.234375 L 1 -1.390625 C 1 -0.375 1.53125 0.046875 2.640625 0.046875 C 3.015625 0.046875 3.3125 0.015625 3.609375 0 Z M 3.609375 0 \"/>\n",
       "</symbol>\n",
       "<symbol overflow=\"visible\" id=\"glyph0-13\">\n",
       "<path style=\"stroke:none;\" d=\"M 9.1875 -6.484375 L 7.453125 -6.484375 L 6.46875 -1.9375 L 5.5 -6.484375 L 3.8125 -6.484375 L 2.828125 -1.9375 L 1.796875 -6.484375 L 0.0625 -6.484375 L 1.890625 0 L 3.609375 0 L 4.640625 -4.578125 L 5.609375 0 L 7.359375 0 Z M 9.1875 -6.484375 \"/>\n",
       "</symbol>\n",
       "<symbol overflow=\"visible\" id=\"glyph1-0\">\n",
       "<path style=\"stroke:none;\" d=\"\"/>\n",
       "</symbol>\n",
       "<symbol overflow=\"visible\" id=\"glyph1-1\">\n",
       "<path style=\"stroke:none;\" d=\"M 6.953125 -7.765625 L 6.953125 -8.75 L 1.078125 -8.75 L 1.078125 0 L 2.203125 0 L 2.203125 -3.984375 L 6.375 -3.984375 L 6.375 -4.96875 L 2.203125 -4.96875 L 2.203125 -7.765625 Z M 6.953125 -7.765625 \"/>\n",
       "</symbol>\n",
       "<symbol overflow=\"visible\" id=\"glyph1-2\">\n",
       "<path style=\"stroke:none;\" d=\"M 7.84375 0 L 4.765625 -8.75 L 3.328125 -8.75 L 0.203125 0 L 1.390625 0 L 2.3125 -2.625 L 5.6875 -2.625 L 6.59375 0 Z M 5.375 -3.5625 L 2.59375 -3.5625 L 4.03125 -7.546875 Z M 5.375 -3.5625 \"/>\n",
       "</symbol>\n",
       "<symbol overflow=\"visible\" id=\"glyph1-3\">\n",
       "<path style=\"stroke:none;\" d=\"M 6.390625 0 L 6.390625 -0.984375 L 2.078125 -0.984375 L 2.078125 -8.75 L 0.953125 -8.75 L 0.953125 0 Z M 6.390625 0 \"/>\n",
       "</symbol>\n",
       "<symbol overflow=\"visible\" id=\"glyph1-4\">\n",
       "<path style=\"stroke:none;\" d=\"M 7.453125 -2.40625 C 7.453125 -3.484375 6.78125 -4.265625 5.59375 -4.59375 L 3.390625 -5.1875 C 2.34375 -5.453125 1.953125 -5.8125 1.953125 -6.484375 C 1.953125 -7.375 2.734375 -8.03125 3.90625 -8.03125 C 5.296875 -8.03125 6.09375 -7.390625 6.09375 -6.25 L 7.15625 -6.25 C 7.15625 -7.96875 5.96875 -8.96875 3.953125 -8.96875 C 2.03125 -8.96875 0.84375 -7.90625 0.84375 -6.328125 C 0.84375 -5.25 1.40625 -4.578125 2.5625 -4.28125 L 4.734375 -3.703125 C 5.828125 -3.421875 6.34375 -2.96875 6.34375 -2.296875 C 6.34375 -1.328125 5.609375 -0.765625 4.109375 -0.765625 C 2.453125 -0.765625 1.625 -1.59375 1.625 -2.84375 L 0.578125 -2.84375 C 0.578125 -0.78125 1.96875 0.21875 4.03125 0.21875 C 6.25 0.21875 7.453125 -0.84375 7.453125 -2.40625 Z M 7.453125 -2.40625 \"/>\n",
       "</symbol>\n",
       "<symbol overflow=\"visible\" id=\"glyph1-5\">\n",
       "<path style=\"stroke:none;\" d=\"M 7.359375 0 L 7.359375 -0.984375 L 2.203125 -0.984375 L 2.203125 -3.984375 L 6.953125 -3.984375 L 6.953125 -4.96875 L 2.203125 -4.96875 L 2.203125 -7.765625 L 7.140625 -7.765625 L 7.140625 -8.75 L 1.078125 -8.75 L 1.078125 0 Z M 7.359375 0 \"/>\n",
       "</symbol>\n",
       "<symbol overflow=\"visible\" id=\"glyph1-6\">\n",
       "<path style=\"stroke:none;\" d=\"M 7.109375 -7.765625 L 7.109375 -8.75 L 0.25 -8.75 L 0.25 -7.765625 L 3.125 -7.765625 L 3.125 0 L 4.25 0 L 4.25 -7.765625 Z M 7.109375 -7.765625 \"/>\n",
       "</symbol>\n",
       "<symbol overflow=\"visible\" id=\"glyph1-7\">\n",
       "<path style=\"stroke:none;\" d=\"M 8.140625 0 L 8.140625 -0.28125 C 7.734375 -0.5625 7.625 -0.875 7.625 -2.046875 C 7.59375 -3.484375 7.375 -3.90625 6.4375 -4.3125 C 7.421875 -4.796875 7.8125 -5.40625 7.8125 -6.40625 C 7.8125 -7.921875 6.859375 -8.75 5.140625 -8.75 L 1.109375 -8.75 L 1.109375 0 L 2.234375 0 L 2.234375 -3.765625 L 5.109375 -3.765625 C 6.09375 -3.765625 6.5625 -3.28125 6.546875 -2.203125 L 6.546875 -1.421875 C 6.53125 -0.890625 6.640625 -0.359375 6.796875 0 Z M 6.640625 -6.25 C 6.640625 -5.21875 6.125 -4.75 4.9375 -4.75 L 2.234375 -4.75 L 2.234375 -7.765625 L 4.9375 -7.765625 C 6.1875 -7.765625 6.640625 -7.234375 6.640625 -6.25 Z M 6.640625 -6.25 \"/>\n",
       "</symbol>\n",
       "<symbol overflow=\"visible\" id=\"glyph1-8\">\n",
       "<path style=\"stroke:none;\" d=\"M 7.734375 -2.65625 L 7.734375 -8.75 L 6.625 -8.75 L 6.625 -2.65625 C 6.625 -1.484375 5.765625 -0.765625 4.375 -0.765625 C 3.0625 -0.765625 2.140625 -1.390625 2.140625 -2.65625 L 2.140625 -8.75 L 1.015625 -8.75 L 1.015625 -2.65625 C 1.015625 -0.890625 2.296875 0.21875 4.375 0.21875 C 6.421875 0.21875 7.734375 -0.90625 7.734375 -2.65625 Z M 7.734375 -2.65625 \"/>\n",
       "</symbol>\n",
       "<symbol overflow=\"visible\" id=\"glyph2-0\">\n",
       "<path style=\"stroke:none;\" d=\"\"/>\n",
       "</symbol>\n",
       "<symbol overflow=\"visible\" id=\"glyph2-1\">\n",
       "<path style=\"stroke:none;\" d=\"M 5.1875 -5.03125 L 4.328125 -5.03125 L 2.09375 -1.125 L 1.65625 -5.03125 L 0.78125 -5.03125 L 1.4375 0.03125 L 0.9375 0.8125 C 0.6875 1.21875 0.53125 1.3125 0.171875 1.3125 C 0.078125 1.3125 0.015625 1.3125 -0.25 1.28125 L -0.40625 2 C -0.234375 2.078125 -0.109375 2.09375 0.0625 2.09375 C 0.75 2.09375 1.234375 1.765625 1.65625 1.0625 Z M 5.1875 -5.03125 \"/>\n",
       "</symbol>\n",
       "<symbol overflow=\"visible\" id=\"glyph2-2\">\n",
       "<path style=\"stroke:none;\" d=\"M 4.9375 -2.28125 L 4.953125 -2.40625 C 5.03125 -2.875 5.078125 -3.265625 5.078125 -3.53125 C 5.078125 -4.453125 4.28125 -5.171875 3.25 -5.171875 C 2.421875 -5.171875 1.609375 -4.78125 1.125 -4.140625 C 0.6875 -3.53125 0.328125 -2.46875 0.328125 -1.703125 C 0.328125 -0.703125 1.078125 0.140625 2.25 0.140625 C 3.390625 0.140625 4.359375 -0.484375 4.65625 -1.53125 L 3.859375 -1.53125 C 3.53125 -0.9375 3.015625 -0.59375 2.375 -0.59375 C 1.625 -0.59375 1.1875 -1.03125 1.1875 -1.84375 C 1.171875 -2 1.1875 -2.09375 1.234375 -2.28125 Z M 4.21875 -2.96875 L 1.40625 -2.96875 C 1.640625 -3.8125 2.34375 -4.4375 3.125 -4.4375 C 3.8125 -4.4375 4.234375 -3.96875 4.234375 -3.25 C 4.234375 -3.15625 4.234375 -3.09375 4.21875 -2.96875 Z M 4.21875 -2.96875 \"/>\n",
       "</symbol>\n",
       "<symbol overflow=\"visible\" id=\"glyph2-3\">\n",
       "<path style=\"stroke:none;\" d=\"M 4.265625 -1.734375 C 4.265625 -2.328125 3.953125 -2.625 3.109375 -2.84375 L 2.375 -3.015625 C 1.84375 -3.15625 1.5625 -3.34375 1.5625 -3.59375 C 1.5625 -4.09375 2.046875 -4.4375 2.765625 -4.4375 C 3.34375 -4.4375 3.65625 -4.21875 3.65625 -3.84375 C 3.65625 -3.765625 3.65625 -3.703125 3.640625 -3.625 L 4.453125 -3.625 C 4.5 -3.828125 4.515625 -3.921875 4.515625 -4.03125 C 4.515625 -4.703125 3.859375 -5.171875 2.9375 -5.171875 C 1.609375 -5.171875 0.71875 -4.40625 0.71875 -3.390625 C 0.71875 -2.796875 1.0625 -2.515625 2.046875 -2.265625 L 2.75 -2.078125 C 3.359375 -1.921875 3.421875 -1.71875 3.421875 -1.515625 C 3.421875 -0.96875 2.796875 -0.59375 2.046875 -0.59375 C 1.390625 -0.59375 1.015625 -0.859375 1.015625 -1.328125 C 1.015625 -1.390625 1.03125 -1.484375 1.03125 -1.578125 L 0.1875 -1.578125 C 0.140625 -1.359375 0.125 -1.234375 0.125 -1.078125 C 0.125 -0.3125 0.796875 0.140625 1.90625 0.140625 C 3.34375 0.140625 4.265625 -0.59375 4.265625 -1.734375 Z M 4.265625 -1.734375 \"/>\n",
       "</symbol>\n",
       "<symbol overflow=\"visible\" id=\"glyph2-4\">\n",
       "<path style=\"stroke:none;\" d=\"M 4.984375 -3.609375 C 5.015625 -3.734375 5.03125 -3.84375 5.03125 -3.96875 C 5.03125 -4.703125 4.515625 -5.171875 3.71875 -5.171875 C 3 -5.171875 2.359375 -4.90625 1.859375 -4.40625 L 1.984375 -5.03125 L 1.25 -5.03125 L 0.1875 0 L 1 0 L 1.578125 -2.765625 C 1.796875 -3.828125 2.484375 -4.484375 3.34375 -4.484375 C 3.828125 -4.484375 4.1875 -4.140625 4.1875 -3.703125 C 4.1875 -3.640625 4.15625 -3.5 4.125 -3.34375 L 3.421875 0 L 4.21875 0 Z M 4.984375 -3.609375 \"/>\n",
       "</symbol>\n",
       "<symbol overflow=\"visible\" id=\"glyph2-5\">\n",
       "<path style=\"stroke:none;\" d=\"M 5.046875 -3.375 C 5.046875 -4.390625 4.359375 -5.171875 3.203125 -5.171875 C 1.40625 -5.171875 0.296875 -3.515625 0.296875 -1.609375 C 0.296875 -0.546875 1.046875 0.140625 2.125 0.140625 C 3.859375 0.140625 5.046875 -1.375 5.046875 -3.375 Z M 4.203125 -3.1875 C 4.203125 -1.765625 3.390625 -0.59375 2.25 -0.59375 C 1.578125 -0.59375 1.140625 -1.03125 1.140625 -1.796875 C 1.140625 -3.1875 1.953125 -4.4375 3.078125 -4.4375 C 3.796875 -4.4375 4.203125 -3.96875 4.203125 -3.1875 Z M 4.203125 -3.1875 \"/>\n",
       "</symbol>\n",
       "</g>\n",
       "</defs>\n",
       "<g id=\"surface39\">\n",
       "<rect x=\"0\" y=\"0\" width=\"504\" height=\"504\" style=\"fill:rgb(100%,100%,100%);fill-opacity:1;stroke:none;\"/>\n",
       "<path style=\"fill:none;stroke-width:0.75;stroke-linecap:butt;stroke-linejoin:round;stroke:rgb(0%,0%,0%);stroke-opacity:1;stroke-miterlimit:10;\" d=\"M 250.078125 223.453125 L 285.597656 166.351562 L 294.480469 166.351562 \"/>\n",
       "<path style=\"fill:none;stroke-width:0.75;stroke-linecap:butt;stroke-linejoin:round;stroke:rgb(0%,0%,0%);stroke-opacity:1;stroke-miterlimit:10;\" d=\"M 206.078125 281.984375 L 241.277344 224.882812 L 250.078125 224.882812 \"/>\n",
       "<path style=\"fill:none;stroke-width:0.75;stroke-linecap:butt;stroke-linejoin:round;stroke:rgb(0%,0%,0%);stroke-opacity:1;stroke-miterlimit:10;\" d=\"M 166.078125 329.023438 L 198.078125 283.414062 L 206.078125 283.414062 \"/>\n",
       "<path style=\"fill:none;stroke-width:0.75;stroke-linecap:butt;stroke-linejoin:round;stroke:rgb(0%,0%,0%);stroke-opacity:1;stroke-miterlimit:10;\" d=\"M 246.078125 329.023438 L 214.078125 283.414062 L 206.078125 283.414062 \"/>\n",
       "<path style=\"fill:none;stroke-width:0.75;stroke-linecap:butt;stroke-linejoin:round;stroke:rgb(0%,0%,0%);stroke-opacity:1;stroke-miterlimit:10;\" d=\"M 294.078125 270.492188 L 258.878906 224.882812 L 250.078125 224.882812 \"/>\n",
       "<path style=\"fill:none;stroke-width:0.75;stroke-linecap:butt;stroke-linejoin:round;stroke:rgb(0%,0%,0%);stroke-opacity:1;stroke-miterlimit:10;\" d=\"M 338.878906 211.957031 L 303.359375 166.351562 L 294.480469 166.351562 \"/>\n",
       "<path style=\" stroke:none;fill-rule:nonzero;fill:rgb(100%,100%,100%);fill-opacity:1;\" d=\"M 259.960938 170.660156 L 259.960938 153.425781 L 328.996094 153.425781 L 328.996094 170.660156 Z M 259.960938 170.660156 \"/>\n",
       "<path style=\" stroke:none;fill-rule:nonzero;fill:rgb(100%,100%,100%);fill-opacity:1;\" d=\"M 217.5625 229.191406 L 217.5625 211.957031 L 282.59375 211.957031 L 282.59375 229.191406 Z M 217.5625 229.191406 \"/>\n",
       "<path style=\" stroke:none;fill-rule:nonzero;fill:rgb(100%,100%,100%);fill-opacity:1;\" d=\"M 177.234375 287.722656 L 177.234375 270.492188 L 234.921875 270.492188 L 234.921875 287.722656 Z M 177.234375 287.722656 \"/>\n",
       "<g style=\"fill:rgb(0%,0%,0%);fill-opacity:1;\">\n",
       "  <use xlink:href=\"#glyph0-1\" x=\"264.480469\" y=\"165.042969\"/>\n",
       "  <use xlink:href=\"#glyph0-2\" x=\"268.476562\" y=\"165.042969\"/>\n",
       "  <use xlink:href=\"#glyph0-3\" x=\"273.204102\" y=\"165.042969\"/>\n",
       "  <use xlink:href=\"#glyph0-4\" x=\"279.875977\" y=\"165.042969\"/>\n",
       "  <use xlink:href=\"#glyph0-5\" x=\"286.547852\" y=\"165.042969\"/>\n",
       "  <use xlink:href=\"#glyph0-6\" x=\"293.219727\" y=\"165.042969\"/>\n",
       "  <use xlink:href=\"#glyph0-7\" x=\"296.555664\" y=\"165.042969\"/>\n",
       "  <use xlink:href=\"#glyph0-6\" x=\"303.563477\" y=\"165.042969\"/>\n",
       "  <use xlink:href=\"#glyph0-8\" x=\"306.899414\" y=\"165.042969\"/>\n",
       "  <use xlink:href=\"#glyph0-9\" x=\"313.571289\" y=\"165.042969\"/>\n",
       "  <use xlink:href=\"#glyph0-10\" x=\"316.907227\" y=\"165.042969\"/>\n",
       "</g>\n",
       "<g style=\"fill:rgb(0%,0%,0%);fill-opacity:1;\">\n",
       "  <use xlink:href=\"#glyph0-11\" x=\"222.578125\" y=\"223.574219\"/>\n",
       "  <use xlink:href=\"#glyph0-4\" x=\"229.910156\" y=\"223.574219\"/>\n",
       "  <use xlink:href=\"#glyph0-12\" x=\"236.582031\" y=\"223.574219\"/>\n",
       "  <use xlink:href=\"#glyph0-3\" x=\"240.518555\" y=\"223.574219\"/>\n",
       "  <use xlink:href=\"#glyph0-6\" x=\"247.19043\" y=\"223.574219\"/>\n",
       "  <use xlink:href=\"#glyph0-7\" x=\"250.526367\" y=\"223.574219\"/>\n",
       "  <use xlink:href=\"#glyph0-6\" x=\"257.53418\" y=\"223.574219\"/>\n",
       "  <use xlink:href=\"#glyph0-8\" x=\"260.870117\" y=\"223.574219\"/>\n",
       "  <use xlink:href=\"#glyph0-9\" x=\"267.541992\" y=\"223.574219\"/>\n",
       "  <use xlink:href=\"#glyph0-10\" x=\"270.87793\" y=\"223.574219\"/>\n",
       "</g>\n",
       "<g style=\"fill:rgb(0%,0%,0%);fill-opacity:1;\">\n",
       "  <use xlink:href=\"#glyph0-13\" x=\"182.078125\" y=\"282.105469\"/>\n",
       "  <use xlink:href=\"#glyph0-12\" x=\"191.414062\" y=\"282.105469\"/>\n",
       "  <use xlink:href=\"#glyph0-1\" x=\"195.410156\" y=\"282.105469\"/>\n",
       "  <use xlink:href=\"#glyph0-6\" x=\"199.40625\" y=\"282.105469\"/>\n",
       "  <use xlink:href=\"#glyph0-7\" x=\"202.742188\" y=\"282.105469\"/>\n",
       "  <use xlink:href=\"#glyph0-6\" x=\"209.75\" y=\"282.105469\"/>\n",
       "  <use xlink:href=\"#glyph0-8\" x=\"213.085938\" y=\"282.105469\"/>\n",
       "  <use xlink:href=\"#glyph0-9\" x=\"219.757812\" y=\"282.105469\"/>\n",
       "  <use xlink:href=\"#glyph0-10\" x=\"223.09375\" y=\"282.105469\"/>\n",
       "</g>\n",
       "<path style=\"fill-rule:nonzero;fill:rgb(100%,100%,100%);fill-opacity:1;stroke-width:0.75;stroke-linecap:round;stroke-linejoin:round;stroke:rgb(0%,0%,0%);stroke-opacity:1;stroke-miterlimit:10;\" d=\"M 142.550781 337.640625 L 142.84375 335.410156 L 143.707031 333.332031 L 145.074219 331.546875 L 146.859375 330.179688 L 148.9375 329.316406 L 151.167969 329.023438 L 180.988281 329.023438 L 183.21875 329.316406 L 185.296875 330.179688 L 187.082031 331.546875 L 188.449219 333.332031 L 189.308594 335.410156 L 189.605469 337.640625 L 189.308594 339.871094 L 188.449219 341.949219 L 187.082031 343.730469 L 185.296875 345.101562 L 183.21875 345.960938 L 180.988281 346.253906 L 151.167969 346.253906 L 148.9375 345.960938 L 146.859375 345.101562 L 145.074219 343.730469 L 143.707031 341.949219 L 142.84375 339.871094 Z M 142.550781 337.640625 \"/>\n",
       "<path style=\"fill-rule:nonzero;fill:rgb(100%,100%,100%);fill-opacity:1;stroke-width:0.75;stroke-linecap:round;stroke-linejoin:round;stroke:rgb(0%,0%,0%);stroke-opacity:1;stroke-miterlimit:10;\" d=\"M 224.988281 337.640625 L 225.28125 335.410156 L 226.144531 333.332031 L 227.511719 331.546875 L 229.296875 330.179688 L 231.375 329.316406 L 233.605469 329.023438 L 258.550781 329.023438 L 260.78125 329.316406 L 262.859375 330.179688 L 264.644531 331.546875 L 266.015625 333.332031 L 266.875 335.410156 L 267.167969 337.640625 L 266.875 339.871094 L 266.015625 341.949219 L 264.644531 343.730469 L 262.859375 345.101562 L 260.78125 345.960938 L 258.550781 346.253906 L 233.605469 346.253906 L 231.375 345.960938 L 229.296875 345.101562 L 227.511719 343.730469 L 226.144531 341.949219 L 225.28125 339.871094 Z M 224.988281 337.640625 \"/>\n",
       "<path style=\"fill-rule:nonzero;fill:rgb(100%,100%,100%);fill-opacity:1;stroke-width:0.75;stroke-linecap:round;stroke-linejoin:round;stroke:rgb(0%,0%,0%);stroke-opacity:1;stroke-miterlimit:10;\" d=\"M 272.988281 279.105469 L 273.28125 276.878906 L 274.144531 274.800781 L 275.511719 273.015625 L 277.296875 271.644531 L 279.375 270.785156 L 281.605469 270.492188 L 306.550781 270.492188 L 308.78125 270.785156 L 310.859375 271.644531 L 312.644531 273.015625 L 314.015625 274.800781 L 314.875 276.878906 L 315.167969 279.105469 L 314.875 281.335938 L 314.015625 283.414062 L 312.644531 285.199219 L 310.859375 286.570312 L 308.78125 287.429688 L 306.550781 287.722656 L 281.605469 287.722656 L 279.375 287.429688 L 277.296875 286.570312 L 275.511719 285.199219 L 274.144531 283.414062 L 273.28125 281.335938 Z M 272.988281 279.105469 \"/>\n",
       "<path style=\"fill-rule:nonzero;fill:rgb(100%,100%,100%);fill-opacity:1;stroke-width:0.75;stroke-linecap:round;stroke-linejoin:round;stroke:rgb(0%,0%,0%);stroke-opacity:1;stroke-miterlimit:10;\" d=\"M 317.789062 220.574219 L 318.082031 218.34375 L 318.941406 216.265625 L 320.3125 214.484375 L 322.097656 213.113281 L 324.175781 212.253906 L 326.40625 211.957031 L 351.351562 211.957031 L 353.582031 212.253906 L 355.660156 213.113281 L 357.445312 214.484375 L 358.816406 216.265625 L 359.675781 218.34375 L 359.96875 220.574219 L 359.675781 222.804688 L 358.816406 224.882812 L 357.445312 226.667969 L 355.660156 228.035156 L 353.582031 228.898438 L 351.351562 229.191406 L 326.40625 229.191406 L 324.175781 228.898438 L 322.097656 228.035156 L 320.3125 226.667969 L 318.941406 224.882812 L 318.082031 222.804688 Z M 317.789062 220.574219 \"/>\n",
       "<g style=\"fill:rgb(0%,0%,0%);fill-opacity:1;\">\n",
       "  <use xlink:href=\"#glyph1-1\" x=\"147.578125\" y=\"341.416992\"/>\n",
       "  <use xlink:href=\"#glyph1-2\" x=\"154.070312\" y=\"341.416992\"/>\n",
       "  <use xlink:href=\"#glyph1-3\" x=\"162.074219\" y=\"341.416992\"/>\n",
       "  <use xlink:href=\"#glyph1-4\" x=\"168.506836\" y=\"341.416992\"/>\n",
       "  <use xlink:href=\"#glyph1-5\" x=\"176.510742\" y=\"341.416992\"/>\n",
       "</g>\n",
       "<g style=\"fill:rgb(0%,0%,0%);fill-opacity:1;\">\n",
       "  <use xlink:href=\"#glyph1-6\" x=\"229.578125\" y=\"341.416992\"/>\n",
       "  <use xlink:href=\"#glyph1-7\" x=\"236.910156\" y=\"341.416992\"/>\n",
       "  <use xlink:href=\"#glyph1-8\" x=\"245.394531\" y=\"341.416992\"/>\n",
       "  <use xlink:href=\"#glyph1-5\" x=\"254.058594\" y=\"341.416992\"/>\n",
       "</g>\n",
       "<g style=\"fill:rgb(0%,0%,0%);fill-opacity:1;\">\n",
       "  <use xlink:href=\"#glyph1-6\" x=\"277.578125\" y=\"282.881836\"/>\n",
       "  <use xlink:href=\"#glyph1-7\" x=\"284.910156\" y=\"282.881836\"/>\n",
       "  <use xlink:href=\"#glyph1-8\" x=\"293.394531\" y=\"282.881836\"/>\n",
       "  <use xlink:href=\"#glyph1-5\" x=\"302.058594\" y=\"282.881836\"/>\n",
       "</g>\n",
       "<g style=\"fill:rgb(0%,0%,0%);fill-opacity:1;\">\n",
       "  <use xlink:href=\"#glyph1-6\" x=\"322.378906\" y=\"224.350586\"/>\n",
       "  <use xlink:href=\"#glyph1-7\" x=\"329.710938\" y=\"224.350586\"/>\n",
       "  <use xlink:href=\"#glyph1-8\" x=\"338.195312\" y=\"224.350586\"/>\n",
       "  <use xlink:href=\"#glyph1-5\" x=\"346.859375\" y=\"224.350586\"/>\n",
       "</g>\n",
       "<path style=\"fill-rule:nonzero;fill:rgb(100%,100%,100%);fill-opacity:1;stroke-width:0.75;stroke-linecap:round;stroke-linejoin:round;stroke:rgb(0%,0%,0%);stroke-opacity:1;stroke-miterlimit:10;\" d=\"M 232.3125 161.503906 L 232.367188 161.085938 L 232.527344 160.695312 L 232.785156 160.363281 L 233.121094 160.105469 L 233.511719 159.945312 L 233.929688 159.890625 L 253.738281 159.890625 L 254.15625 159.945312 L 254.542969 160.105469 L 254.878906 160.363281 L 255.136719 160.695312 L 255.296875 161.085938 L 255.351562 161.503906 L 255.351562 171.195312 L 255.296875 171.617188 L 255.136719 172.003906 L 254.878906 172.339844 L 254.542969 172.597656 L 254.15625 172.757812 L 253.738281 172.8125 L 233.929688 172.8125 L 233.511719 172.757812 L 233.121094 172.597656 L 232.785156 172.339844 L 232.527344 172.003906 L 232.367188 171.617188 L 232.3125 171.195312 Z M 232.3125 161.503906 \"/>\n",
       "<path style=\"fill-rule:nonzero;fill:rgb(100%,100%,100%);fill-opacity:1;stroke-width:0.75;stroke-linecap:round;stroke-linejoin:round;stroke:rgb(0%,0%,0%);stroke-opacity:1;stroke-miterlimit:10;\" d=\"M 333.605469 161.503906 L 333.660156 161.085938 L 333.820312 160.695312 L 334.078125 160.363281 L 334.414062 160.105469 L 334.800781 159.945312 L 335.21875 159.890625 L 355.027344 159.890625 L 355.445312 159.945312 L 355.835938 160.105469 L 356.171875 160.363281 L 356.429688 160.695312 L 356.589844 161.085938 L 356.644531 161.503906 L 356.644531 171.195312 L 356.589844 171.617188 L 356.429688 172.003906 L 356.171875 172.339844 L 355.835938 172.597656 L 355.445312 172.757812 L 355.027344 172.8125 L 335.21875 172.8125 L 334.800781 172.757812 L 334.414062 172.597656 L 334.078125 172.339844 L 333.820312 172.003906 L 333.660156 171.617188 L 333.605469 171.195312 Z M 333.605469 161.503906 \"/>\n",
       "<g style=\"fill:rgb(0%,0%,0%);fill-opacity:1;\">\n",
       "  <use xlink:href=\"#glyph2-1\" x=\"236.332031\" y=\"168.733398\"/>\n",
       "  <use xlink:href=\"#glyph2-2\" x=\"240.793945\" y=\"168.733398\"/>\n",
       "  <use xlink:href=\"#glyph2-3\" x=\"246.12793\" y=\"168.733398\"/>\n",
       "</g>\n",
       "<g style=\"fill:rgb(0%,0%,0%);fill-opacity:1;\">\n",
       "  <use xlink:href=\"#glyph2-4\" x=\"339.625\" y=\"168.65918\"/>\n",
       "  <use xlink:href=\"#glyph2-5\" x=\"344.958984\" y=\"168.65918\"/>\n",
       "</g>\n",
       "</g>\n",
       "</svg>\n"
      ],
      "text/plain": [
       "plot without title"
      ]
     },
     "metadata": {
      "image/svg+xml": {
       "isolated": true
      }
     },
     "output_type": "display_data"
    }
   ],
   "source": [
    "tweetCART = rpart(Negative ~ .,\n",
    "                  data=trainSparse,\n",
    "                  method='class')\n",
    "prp(tweetCART)"
   ]
  },
  {
   "cell_type": "code",
   "execution_count": 32,
   "metadata": {
    "collapsed": false
   },
   "outputs": [
    {
     "data": {
      "text/plain": [
       "       predictCART\n",
       "        FALSE TRUE\n",
       "  FALSE   294    6\n",
       "  TRUE     37   18"
      ]
     },
     "metadata": {},
     "output_type": "display_data"
    }
   ],
   "source": [
    "predictCART = predict(tweetCART,\n",
    "                      newdata=testSparse,\n",
    "                      type='class')\n",
    "table(testSparse$Negative, predictCART)"
   ]
  },
  {
   "cell_type": "code",
   "execution_count": 33,
   "metadata": {
    "collapsed": false
   },
   "outputs": [
    {
     "data": {
      "text/html": [
       "0.87887323943662"
      ],
      "text/latex": [
       "0.87887323943662"
      ],
      "text/markdown": [
       "0.87887323943662"
      ],
      "text/plain": [
       "[1] 0.8788732"
      ]
     },
     "metadata": {},
     "output_type": "display_data"
    }
   ],
   "source": [
    "(294+18)/(294+6+37+18)"
   ]
  },
  {
   "cell_type": "code",
   "execution_count": 34,
   "metadata": {
    "collapsed": false
   },
   "outputs": [
    {
     "data": {
      "text/plain": [
       "\n",
       "FALSE  TRUE \n",
       "  300    55 "
      ]
     },
     "metadata": {},
     "output_type": "display_data"
    }
   ],
   "source": [
    "table(testSparse$Negative)"
   ]
  },
  {
   "cell_type": "code",
   "execution_count": 35,
   "metadata": {
    "collapsed": false
   },
   "outputs": [
    {
     "data": {
      "text/html": [
       "0.845070422535211"
      ],
      "text/latex": [
       "0.845070422535211"
      ],
      "text/markdown": [
       "0.845070422535211"
      ],
      "text/plain": [
       "[1] 0.8450704"
      ]
     },
     "metadata": {},
     "output_type": "display_data"
    }
   ],
   "source": [
    "300/355"
   ]
  },
  {
   "cell_type": "code",
   "execution_count": 38,
   "metadata": {
    "collapsed": false
   },
   "outputs": [],
   "source": [
    "library(randomForest)\n",
    "set.seed(123)"
   ]
  },
  {
   "cell_type": "code",
   "execution_count": 39,
   "metadata": {
    "collapsed": true
   },
   "outputs": [],
   "source": [
    "tweetRF = randomForest(Negative ~ .,\n",
    "                       data=trainSparse)"
   ]
  },
  {
   "cell_type": "code",
   "execution_count": 40,
   "metadata": {
    "collapsed": false
   },
   "outputs": [
    {
     "data": {
      "text/plain": [
       "       predictRF\n",
       "        FALSE TRUE\n",
       "  FALSE   293    7\n",
       "  TRUE     34   21"
      ]
     },
     "metadata": {},
     "output_type": "display_data"
    }
   ],
   "source": [
    "predictRF = predict(tweetRF, newdata=testSparse)\n",
    "table(testSparse$Negative, predictRF)"
   ]
  },
  {
   "cell_type": "code",
   "execution_count": 41,
   "metadata": {
    "collapsed": false
   },
   "outputs": [
    {
     "data": {
      "text/html": [
       "0.884507042253521"
      ],
      "text/latex": [
       "0.884507042253521"
      ],
      "text/markdown": [
       "0.884507042253521"
      ],
      "text/plain": [
       "[1] 0.884507"
      ]
     },
     "metadata": {},
     "output_type": "display_data"
    }
   ],
   "source": [
    "(293+21)/(293+7+34+21)"
   ]
  },
  {
   "cell_type": "code",
   "execution_count": 51,
   "metadata": {
    "collapsed": false
   },
   "outputs": [
    {
     "name": "stderr",
     "output_type": "stream",
     "text": [
      "Warning message:\n",
      ": glm.fit: algorithm did not convergeWarning message:\n",
      ": glm.fit: fitted probabilities numerically 0 or 1 occurredWarning message:\n",
      "In predict.lm(object, newdata, se.fit, scale = 1, type = ifelse(type == : prediction from a rank-deficient fit may be misleading"
     ]
    }
   ],
   "source": [
    "tweetLog = glm(Negative ~ ., data=trainSparse,\n",
    "               family='binomial')\n",
    "predictLog = predict(tweetLog, newdata=testSparse,\n",
    "                     type='response')"
   ]
  },
  {
   "cell_type": "code",
   "execution_count": 52,
   "metadata": {
    "collapsed": false
   },
   "outputs": [
    {
     "data": {
      "text/plain": [
       "       \n",
       "        FALSE TRUE\n",
       "  FALSE   246   54\n",
       "  TRUE     23   32"
      ]
     },
     "metadata": {},
     "output_type": "display_data"
    },
    {
     "data": {
      "text/html": [
       "0.783098591549296"
      ],
      "text/latex": [
       "0.783098591549296"
      ],
      "text/markdown": [
       "0.783098591549296"
      ],
      "text/plain": [
       "[1] 0.7830986"
      ]
     },
     "metadata": {},
     "output_type": "display_data"
    }
   ],
   "source": [
    "t = table(testSparse$Negative, predictLog > 0.5)\n",
    "t\n",
    "sum(diag(t)) / sum(t)"
   ]
  },
  {
   "cell_type": "code",
   "execution_count": null,
   "metadata": {
    "collapsed": true
   },
   "outputs": [],
   "source": []
  }
 ],
 "metadata": {
  "kernelspec": {
   "display_name": "R",
   "language": "R",
   "name": "ir"
  },
  "language_info": {
   "codemirror_mode": "r",
   "file_extension": ".r",
   "mimetype": "text/x-r-source",
   "name": "R",
   "pygments_lexer": "r",
   "version": "3.3.0"
  }
 },
 "nbformat": 4,
 "nbformat_minor": 0
}
