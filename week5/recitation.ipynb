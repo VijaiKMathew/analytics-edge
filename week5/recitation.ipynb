{
 "cells": [
  {
   "cell_type": "code",
   "execution_count": 2,
   "metadata": {
    "collapsed": false
   },
   "outputs": [
    {
     "data": {
      "text/html": [
       "'LC_CTYPE=C;LC_NUMERIC=C;LC_TIME=C;LC_COLLATE=C;LC_MONETARY=C;LC_MESSAGES=en_US.UTF-8;LC_PAPER=en_US.UTF-8;LC_NAME=C;LC_ADDRESS=C;LC_TELEPHONE=C;LC_MEASUREMENT=en_US.UTF-8;LC_IDENTIFICATION=C'"
      ],
      "text/latex": [
       "'LC\\_CTYPE=C;LC\\_NUMERIC=C;LC\\_TIME=C;LC\\_COLLATE=C;LC\\_MONETARY=C;LC\\_MESSAGES=en\\_US.UTF-8;LC\\_PAPER=en\\_US.UTF-8;LC\\_NAME=C;LC\\_ADDRESS=C;LC\\_TELEPHONE=C;LC\\_MEASUREMENT=en\\_US.UTF-8;LC\\_IDENTIFICATION=C'"
      ],
      "text/markdown": [
       "'LC_CTYPE=C;LC_NUMERIC=C;LC_TIME=C;LC_COLLATE=C;LC_MONETARY=C;LC_MESSAGES=en_US.UTF-8;LC_PAPER=en_US.UTF-8;LC_NAME=C;LC_ADDRESS=C;LC_TELEPHONE=C;LC_MEASUREMENT=en_US.UTF-8;LC_IDENTIFICATION=C'"
      ],
      "text/plain": [
       "[1] \"LC_CTYPE=C;LC_NUMERIC=C;LC_TIME=C;LC_COLLATE=C;LC_MONETARY=C;LC_MESSAGES=en_US.UTF-8;LC_PAPER=en_US.UTF-8;LC_NAME=C;LC_ADDRESS=C;LC_TELEPHONE=C;LC_MEASUREMENT=en_US.UTF-8;LC_IDENTIFICATION=C\""
      ]
     },
     "metadata": {},
     "output_type": "display_data"
    }
   ],
   "source": [
    "options(device=pdf) # turn off flashy window on each block execution\n",
    "# options(repr.plot.width=6, repr.plot.height=4)\n",
    "Sys.setlocale(\"LC_ALL\", \"C\")\n",
    "initialWidth = getOption('width')\n",
    "options(width=80) # for old folks like me who can't see shit and set font large"
   ]
  },
  {
   "cell_type": "code",
   "execution_count": 3,
   "metadata": {
    "collapsed": true
   },
   "outputs": [],
   "source": [
    "emails = read.csv('data/energy_bids.csv.xz',\n",
    "                  stringsAsFactors=F)"
   ]
  },
  {
   "cell_type": "code",
   "execution_count": 4,
   "metadata": {
    "collapsed": false
   },
   "outputs": [
    {
     "name": "stdout",
     "output_type": "stream",
     "text": [
      "'data.frame':\t855 obs. of  2 variables:\n",
      " $ email     : chr  \"North America's integrated electricity market requires cooperation on environmental policies Commission for Environmental Coope\"| __truncated__ \"FYI -----Original Message----- From: \\t\\\"Ginny Feliciano\\\" <gfeliciano@earthlink.net>@ENRON [mailto:IMCEANOTES-+22Ginny+20Felic\"| __truncated__ \"14:13:53 Synchronizing Mailbox 'Kean, Steven J.' 14:13:53 Synchronizing Hierarchy 14:13:53 Synchronizing Favorites 14:13:53 Syn\"| __truncated__ \"^ ----- Forwarded by Steven J Kean/NA/Enron on 03/02/2001 12:27 PM ----- Suzanne_Nimocks@mckinsey.com Sent by: Carol_Benter@mck\"| __truncated__ ...\n",
      " $ responsive: int  0 1 0 1 0 0 1 0 0 0 ...\n"
     ]
    }
   ],
   "source": [
    "str(emails)"
   ]
  },
  {
   "cell_type": "code",
   "execution_count": 5,
   "metadata": {
    "collapsed": false
   },
   "outputs": [
    {
     "data": {
      "text/html": [
       "\"North America's integrated electricity market requires cooperation on environmental policies Commission for Environmental Cooperation releases working paper on North America's electricity market Montreal, 27 November 2001 -- The North American Commission for Environmental Cooperation (CEC) is releasing a working paper highlighting the trend towards increasing trade, competition and cross-border investment in electricity between Canada, Mexico and the United States. It is hoped that the working paper, Environmental Challenges and Opportunities in the Evolving North American Electricity Market, will stimulate public discussion around a CEC symposium of the same title about the need to coordinate environmental policies trinationally as a North America-wide electricity market develops. The CEC symposium will take place in San Diego on 29-30 November, and will bring together leading experts from industry, academia, NGOs and the governments of Canada, Mexico and the United States to consider the impact of the evolving continental electricity market on human health and the environment. \\\"Our goal [with the working paper and the symposium] is to highlight key environmental issues that must be addressed as the electricity markets in North America become more and more integrated,\\\" said Janine Ferretti, executive director of the CEC. \\\"We want to stimulate discussion around the important policy questions being raised so that countries can cooperate in their approach to energy and the environment.\\\" The CEC, an international organization created under an environmental side agreement to NAFTA known as the North American Agreement on Environmental Cooperation, was established to address regional environmental concerns, help prevent potential trade and environmental conflicts, and promote the effective enforcement of environmental law. The CEC Secretariat believes that greater North American cooperation on environmental policies regarding the continental electricity market is necessary to: *  protect air quality and mitigate climate change, *  minimize the possibility of environment-based trade disputes, *  ensure a dependable supply of reasonably priced electricity across North America *  avoid creation of pollution havens, and *  ensure local and national environmental measures remain effective. The Changing Market The working paper profiles the rapid changing North American electricity market. For example, in 2001, the US is projected to export 13.1 thousand gigawatt-hours (GWh) of electricity to Canada and Mexico. By 2007, this number is projected to grow to 16.9 thousand GWh of electricity. \\\"Over the past few decades, the North American electricity market has developed into a complex array of cross-border transactions and relationships,\\\" said Phil Sharp, former US congressman and chairman of the CEC's Electricity Advisory Board. \\\"We need to achieve this new level of cooperation in our environmental approaches as well.\\\" The Environmental Profile of the Electricity Sector The electricity sector is the single largest source of nationally reported toxins in the United States and Canada and a large source in Mexico. In the US, the electricity sector emits approximately 25 percent of all NOx emissions, roughly 35 percent of all CO2 emissions, 25 percent of all mercury emissions and almost 70 percent of SO2 emissions. These emissions have a large impact on airsheds, watersheds and migratory species corridors that are often shared between the three North American countries. \\\"We want to discuss the possible outcomes from greater efforts to coordinate federal, state or provincial environmental laws and policies that relate to the electricity sector,\\\" said Ferretti. \\\"How can we develop more compatible environmental approaches to help make domestic environmental policies more effective?\\\" The Effects of an Integrated Electricity Market One key issue raised in the paper is the effect of market integration on the competitiveness of particular fuels such as coal, natural gas or renewables. Fuel choice largely determines environmental impacts from a specific facility, along with pollution control technologies, performance standards and regulations. The paper highlights other impacts of a highly competitive market as well. For example, concerns about so called \\\"pollution havens\\\" arise when significant differences in environmental laws or enforcement practices induce power companies to locate their operations in jurisdictions with lower standards. \\\"The CEC Secretariat is exploring what additional environmental policies will work in this restructured market and how these policies can be adapted to ensure that they enhance competitiveness and benefit the entire region,\\\" said Sharp. Because trade rules and policy measures directly influence the variables that drive a successfully integrated North American electricity market, the working paper also addresses fuel choice, technology, pollution control strategies and subsidies. The CEC will use the information gathered during the discussion period to develop a final report that will be submitted to the Council in early 2002. For more information or to view the live video webcast of the symposium, please go to: http://www.cec.org/electricity. You may download the working paper and other supporting documents from: http://www.cec.org/programs_projects/other_initiatives/electricity/docs.cfm?varlan=english. Commission for Environmental Cooperation 393, rue St-Jacques Ouest, Bureau 200 Montr<c3><a9>al (Qu<c3><a9>bec) Canada H2Y 1N9 Tel: (514) 350-4300; Fax: (514) 350-4314 E-mail: info@ccemtl.org ***********\""
      ],
      "text/latex": [
       "\"North America's integrated electricity market requires cooperation on environmental policies Commission for Environmental Cooperation releases working paper on North America's electricity market Montreal, 27 November 2001 -- The North American Commission for Environmental Cooperation (CEC) is releasing a working paper highlighting the trend towards increasing trade, competition and cross-border investment in electricity between Canada, Mexico and the United States. It is hoped that the working paper, Environmental Challenges and Opportunities in the Evolving North American Electricity Market, will stimulate public discussion around a CEC symposium of the same title about the need to coordinate environmental policies trinationally as a North America-wide electricity market develops. The CEC symposium will take place in San Diego on 29-30 November, and will bring together leading experts from industry, academia, NGOs and the governments of Canada, Mexico and the United States to consider the impact of the evolving continental electricity market on human health and the environment. \\textbackslash{}\"Our goal {[}with the working paper and the symposium{]} is to highlight key environmental issues that must be addressed as the electricity markets in North America become more and more integrated,\\textbackslash{}\" said Janine Ferretti, executive director of the CEC. \\textbackslash{}\"We want to stimulate discussion around the important policy questions being raised so that countries can cooperate in their approach to energy and the environment.\\textbackslash{}\" The CEC, an international organization created under an environmental side agreement to NAFTA known as the North American Agreement on Environmental Cooperation, was established to address regional environmental concerns, help prevent potential trade and environmental conflicts, and promote the effective enforcement of environmental law. The CEC Secretariat believes that greater North American cooperation on environmental policies regarding the continental electricity market is necessary to: *  protect air quality and mitigate climate change, *  minimize the possibility of environment-based trade disputes, *  ensure a dependable supply of reasonably priced electricity across North America *  avoid creation of pollution havens, and *  ensure local and national environmental measures remain effective. The Changing Market The working paper profiles the rapid changing North American electricity market. For example, in 2001, the US is projected to export 13.1 thousand gigawatt-hours (GWh) of electricity to Canada and Mexico. By 2007, this number is projected to grow to 16.9 thousand GWh of electricity. \\textbackslash{}\"Over the past few decades, the North American electricity market has developed into a complex array of cross-border transactions and relationships,\\textbackslash{}\" said Phil Sharp, former US congressman and chairman of the CEC's Electricity Advisory Board. \\textbackslash{}\"We need to achieve this new level of cooperation in our environmental approaches as well.\\textbackslash{}\" The Environmental Profile of the Electricity Sector The electricity sector is the single largest source of nationally reported toxins in the United States and Canada and a large source in Mexico. In the US, the electricity sector emits approximately 25 percent of all NOx emissions, roughly 35 percent of all CO2 emissions, 25 percent of all mercury emissions and almost 70 percent of SO2 emissions. These emissions have a large impact on airsheds, watersheds and migratory species corridors that are often shared between the three North American countries. \\textbackslash{}\"We want to discuss the possible outcomes from greater efforts to coordinate federal, state or provincial environmental laws and policies that relate to the electricity sector,\\textbackslash{}\" said Ferretti. \\textbackslash{}\"How can we develop more compatible environmental approaches to help make domestic environmental policies more effective?\\textbackslash{}\" The Effects of an Integrated Electricity Market One key issue raised in the paper is the effect of market integration on the competitiveness of particular fuels such as coal, natural gas or renewables. Fuel choice largely determines environmental impacts from a specific facility, along with pollution control technologies, performance standards and regulations. The paper highlights other impacts of a highly competitive market as well. For example, concerns about so called \\textbackslash{}\"pollution havens\\textbackslash{}\" arise when significant differences in environmental laws or enforcement practices induce power companies to locate their operations in jurisdictions with lower standards. \\textbackslash{}\"The CEC Secretariat is exploring what additional environmental policies will work in this restructured market and how these policies can be adapted to ensure that they enhance competitiveness and benefit the entire region,\\textbackslash{}\" said Sharp. Because trade rules and policy measures directly influence the variables that drive a successfully integrated North American electricity market, the working paper also addresses fuel choice, technology, pollution control strategies and subsidies. The CEC will use the information gathered during the discussion period to develop a final report that will be submitted to the Council in early 2002. For more information or to view the live video webcast of the symposium, please go to: http://www.cec.org/electricity. You may download the working paper and other supporting documents from: http://www.cec.org/programs\\_projects/other\\_initiatives/electricity/docs.cfm?varlan=english. Commission for Environmental Cooperation 393, rue St-Jacques Ouest, Bureau 200 Montr<c3><a9>al (Qu<c3><a9>bec) Canada H2Y 1N9 Tel: (514) 350-4300; Fax: (514) 350-4314 E-mail: info@ccemtl.org ***********\""
      ],
      "text/markdown": [
       "\"North America's integrated electricity market requires cooperation on environmental policies Commission for Environmental Cooperation releases working paper on North America's electricity market Montreal, 27 November 2001 -- The North American Commission for Environmental Cooperation (CEC) is releasing a working paper highlighting the trend towards increasing trade, competition and cross-border investment in electricity between Canada, Mexico and the United States. It is hoped that the working paper, Environmental Challenges and Opportunities in the Evolving North American Electricity Market, will stimulate public discussion around a CEC symposium of the same title about the need to coordinate environmental policies trinationally as a North America-wide electricity market develops. The CEC symposium will take place in San Diego on 29-30 November, and will bring together leading experts from industry, academia, NGOs and the governments of Canada, Mexico and the United States to consider the impact of the evolving continental electricity market on human health and the environment. \\\"Our goal [with the working paper and the symposium] is to highlight key environmental issues that must be addressed as the electricity markets in North America become more and more integrated,\\\" said Janine Ferretti, executive director of the CEC. \\\"We want to stimulate discussion around the important policy questions being raised so that countries can cooperate in their approach to energy and the environment.\\\" The CEC, an international organization created under an environmental side agreement to NAFTA known as the North American Agreement on Environmental Cooperation, was established to address regional environmental concerns, help prevent potential trade and environmental conflicts, and promote the effective enforcement of environmental law. The CEC Secretariat believes that greater North American cooperation on environmental policies regarding the continental electricity market is necessary to: *  protect air quality and mitigate climate change, *  minimize the possibility of environment-based trade disputes, *  ensure a dependable supply of reasonably priced electricity across North America *  avoid creation of pollution havens, and *  ensure local and national environmental measures remain effective. The Changing Market The working paper profiles the rapid changing North American electricity market. For example, in 2001, the US is projected to export 13.1 thousand gigawatt-hours (GWh) of electricity to Canada and Mexico. By 2007, this number is projected to grow to 16.9 thousand GWh of electricity. \\\"Over the past few decades, the North American electricity market has developed into a complex array of cross-border transactions and relationships,\\\" said Phil Sharp, former US congressman and chairman of the CEC's Electricity Advisory Board. \\\"We need to achieve this new level of cooperation in our environmental approaches as well.\\\" The Environmental Profile of the Electricity Sector The electricity sector is the single largest source of nationally reported toxins in the United States and Canada and a large source in Mexico. In the US, the electricity sector emits approximately 25 percent of all NOx emissions, roughly 35 percent of all CO2 emissions, 25 percent of all mercury emissions and almost 70 percent of SO2 emissions. These emissions have a large impact on airsheds, watersheds and migratory species corridors that are often shared between the three North American countries. \\\"We want to discuss the possible outcomes from greater efforts to coordinate federal, state or provincial environmental laws and policies that relate to the electricity sector,\\\" said Ferretti. \\\"How can we develop more compatible environmental approaches to help make domestic environmental policies more effective?\\\" The Effects of an Integrated Electricity Market One key issue raised in the paper is the effect of market integration on the competitiveness of particular fuels such as coal, natural gas or renewables. Fuel choice largely determines environmental impacts from a specific facility, along with pollution control technologies, performance standards and regulations. The paper highlights other impacts of a highly competitive market as well. For example, concerns about so called \\\"pollution havens\\\" arise when significant differences in environmental laws or enforcement practices induce power companies to locate their operations in jurisdictions with lower standards. \\\"The CEC Secretariat is exploring what additional environmental policies will work in this restructured market and how these policies can be adapted to ensure that they enhance competitiveness and benefit the entire region,\\\" said Sharp. Because trade rules and policy measures directly influence the variables that drive a successfully integrated North American electricity market, the working paper also addresses fuel choice, technology, pollution control strategies and subsidies. The CEC will use the information gathered during the discussion period to develop a final report that will be submitted to the Council in early 2002. For more information or to view the live video webcast of the symposium, please go to: http://www.cec.org/electricity. You may download the working paper and other supporting documents from: http://www.cec.org/programs_projects/other_initiatives/electricity/docs.cfm?varlan=english. Commission for Environmental Cooperation 393, rue St-Jacques Ouest, Bureau 200 Montr<c3><a9>al (Qu<c3><a9>bec) Canada H2Y 1N9 Tel: (514) 350-4300; Fax: (514) 350-4314 E-mail: info@ccemtl.org ***********\""
      ],
      "text/plain": [
       "[1] \"North America's integrated electricity market requires cooperation on environmental policies Commission for Environmental Cooperation releases working paper on North America's electricity market Montreal, 27 November 2001 -- The North American Commission for Environmental Cooperation (CEC) is releasing a working paper highlighting the trend towards increasing trade, competition and cross-border investment in electricity between Canada, Mexico and the United States. It is hoped that the working paper, Environmental Challenges and Opportunities in the Evolving North American Electricity Market, will stimulate public discussion around a CEC symposium of the same title about the need to coordinate environmental policies trinationally as a North America-wide electricity market develops. The CEC symposium will take place in San Diego on 29-30 November, and will bring together leading experts from industry, academia, NGOs and the governments of Canada, Mexico and the United States to consider the impact of the evolving continental electricity market on human health and the environment. \\\"Our goal [with the working paper and the symposium] is to highlight key environmental issues that must be addressed as the electricity markets in North America become more and more integrated,\\\" said Janine Ferretti, executive director of the CEC. \\\"We want to stimulate discussion around the important policy questions being raised so that countries can cooperate in their approach to energy and the environment.\\\" The CEC, an international organization created under an environmental side agreement to NAFTA known as the North American Agreement on Environmental Cooperation, was established to address regional environmental concerns, help prevent potential trade and environmental conflicts, and promote the effective enforcement of environmental law. The CEC Secretariat believes that greater North American cooperation on environmental policies regarding the continental electricity market is necessary to: *  protect air quality and mitigate climate change, *  minimize the possibility of environment-based trade disputes, *  ensure a dependable supply of reasonably priced electricity across North America *  avoid creation of pollution havens, and *  ensure local and national environmental measures remain effective. The Changing Market The working paper profiles the rapid changing North American electricity market. For example, in 2001, the US is projected to export 13.1 thousand gigawatt-hours (GWh) of electricity to Canada and Mexico. By 2007, this number is projected to grow to 16.9 thousand GWh of electricity. \\\"Over the past few decades, the North American electricity market has developed into a complex array of cross-border transactions and relationships,\\\" said Phil Sharp, former US congressman and chairman of the CEC's Electricity Advisory Board. \\\"We need to achieve this new level of cooperation in our environmental approaches as well.\\\" The Environmental Profile of the Electricity Sector The electricity sector is the single largest source of nationally reported toxins in the United States and Canada and a large source in Mexico. In the US, the electricity sector emits approximately 25 percent of all NOx emissions, roughly 35 percent of all CO2 emissions, 25 percent of all mercury emissions and almost 70 percent of SO2 emissions. These emissions have a large impact on airsheds, watersheds and migratory species corridors that are often shared between the three North American countries. \\\"We want to discuss the possible outcomes from greater efforts to coordinate federal, state or provincial environmental laws and policies that relate to the electricity sector,\\\" said Ferretti. \\\"How can we develop more compatible environmental approaches to help make domestic environmental policies more effective?\\\" The Effects of an Integrated Electricity Market One key issue raised in the paper is the effect of market integration on the competitiveness of particular fuels such as coal, natural gas or renewables. Fuel choice largely determines environmental impacts from a specific facility, along with pollution control technologies, performance standards and regulations. The paper highlights other impacts of a highly competitive market as well. For example, concerns about so called \\\"pollution havens\\\" arise when significant differences in environmental laws or enforcement practices induce power companies to locate their operations in jurisdictions with lower standards. \\\"The CEC Secretariat is exploring what additional environmental policies will work in this restructured market and how these policies can be adapted to ensure that they enhance competitiveness and benefit the entire region,\\\" said Sharp. Because trade rules and policy measures directly influence the variables that drive a successfully integrated North American electricity market, the working paper also addresses fuel choice, technology, pollution control strategies and subsidies. The CEC will use the information gathered during the discussion period to develop a final report that will be submitted to the Council in early 2002. For more information or to view the live video webcast of the symposium, please go to: http://www.cec.org/electricity. You may download the working paper and other supporting documents from: http://www.cec.org/programs_projects/other_initiatives/electricity/docs.cfm?varlan=english. Commission for Environmental Cooperation 393, rue St-Jacques Ouest, Bureau 200 Montr\\303\\251al (Qu\\303\\251bec) Canada H2Y 1N9 Tel: (514) 350-4300; Fax: (514) 350-4314 E-mail: info@ccemtl.org ***********\""
      ]
     },
     "metadata": {},
     "output_type": "display_data"
    }
   ],
   "source": [
    "emails$email[1]"
   ]
  },
  {
   "cell_type": "code",
   "execution_count": 6,
   "metadata": {
    "collapsed": false
   },
   "outputs": [
    {
     "data": {
      "text/html": [
       "<ol class=list-inline>\n",
       "\t<li>\"North America's integrated electricity market requires cooperation on\"</li>\n",
       "\t<li>\"environmental policies Commission for Environmental Cooperation\"</li>\n",
       "\t<li>\"releases working paper on North America's electricity market Montreal,\"</li>\n",
       "\t<li>\"27 November 2001 -- The North American Commission for Environmental\"</li>\n",
       "\t<li>\"Cooperation (CEC) is releasing a working paper highlighting the trend\"</li>\n",
       "\t<li>\"towards increasing trade, competition and cross-border investment in\"</li>\n",
       "\t<li>\"electricity between Canada, Mexico and the United States. It is hoped\"</li>\n",
       "\t<li>\"that the working paper, Environmental Challenges and Opportunities in\"</li>\n",
       "\t<li>\"the Evolving North American Electricity Market, will stimulate public\"</li>\n",
       "\t<li>\"discussion around a CEC symposium of the same title about the need to\"</li>\n",
       "\t<li>\"coordinate environmental policies trinationally as a North America-wide\"</li>\n",
       "\t<li>\"electricity market develops. The CEC symposium will take place in San\"</li>\n",
       "\t<li>\"Diego on 29-30 November, and will bring together leading experts from\"</li>\n",
       "\t<li>\"industry, academia, NGOs and the governments of Canada, Mexico and the\"</li>\n",
       "\t<li>\"United States to consider the impact of the evolving continental\"</li>\n",
       "\t<li>\"electricity market on human health and the environment. \\\"Our goal [with\"</li>\n",
       "\t<li>\"the working paper and the symposium] is to highlight key environmental\"</li>\n",
       "\t<li>\"issues that must be addressed as the electricity markets in North\"</li>\n",
       "\t<li>\"America become more and more integrated,\\\" said Janine Ferretti,\"</li>\n",
       "\t<li>\"executive director of the CEC. \\\"We want to stimulate discussion around\"</li>\n",
       "\t<li>\"the important policy questions being raised so that countries can\"</li>\n",
       "\t<li>\"cooperate in their approach to energy and the environment.\\\" The CEC, an\"</li>\n",
       "\t<li>\"international organization created under an environmental side\"</li>\n",
       "\t<li>\"agreement to NAFTA known as the North American Agreement on\"</li>\n",
       "\t<li>\"Environmental Cooperation, was established to address regional\"</li>\n",
       "\t<li>\"environmental concerns, help prevent potential trade and environmental\"</li>\n",
       "\t<li>\"conflicts, and promote the effective enforcement of environmental law.\"</li>\n",
       "\t<li>\"The CEC Secretariat believes that greater North American cooperation on\"</li>\n",
       "\t<li>\"environmental policies regarding the continental electricity market is\"</li>\n",
       "\t<li>\"necessary to: * protect air quality and mitigate climate change, *\"</li>\n",
       "\t<li>\"minimize the possibility of environment-based trade disputes, * ensure\"</li>\n",
       "\t<li>\"a dependable supply of reasonably priced electricity across North\"</li>\n",
       "\t<li>\"America * avoid creation of pollution havens, and * ensure local and\"</li>\n",
       "\t<li>\"national environmental measures remain effective. The Changing Market\"</li>\n",
       "\t<li>\"The working paper profiles the rapid changing North American\"</li>\n",
       "\t<li>\"electricity market. For example, in 2001, the US is projected to export\"</li>\n",
       "\t<li>\"13.1 thousand gigawatt-hours (GWh) of electricity to Canada and Mexico.\"</li>\n",
       "\t<li>\"By 2007, this number is projected to grow to 16.9 thousand GWh of\"</li>\n",
       "\t<li>\"electricity. \\\"Over the past few decades, the North American electricity\"</li>\n",
       "\t<li>\"market has developed into a complex array of cross-border transactions\"</li>\n",
       "\t<li>\"and relationships,\\\" said Phil Sharp, former US congressman and chairman\"</li>\n",
       "\t<li>\"of the CEC's Electricity Advisory Board. \\\"We need to achieve this new\"</li>\n",
       "\t<li>\"level of cooperation in our environmental approaches as well.\\\" The\"</li>\n",
       "\t<li>\"Environmental Profile of the Electricity Sector The electricity sector\"</li>\n",
       "\t<li>\"is the single largest source of nationally reported toxins in the\"</li>\n",
       "\t<li>\"United States and Canada and a large source in Mexico. In the US, the\"</li>\n",
       "\t<li>\"electricity sector emits approximately 25 percent of all NOx emissions,\"</li>\n",
       "\t<li>\"roughly 35 percent of all CO2 emissions, 25 percent of all mercury\"</li>\n",
       "\t<li>\"emissions and almost 70 percent of SO2 emissions. These emissions have\"</li>\n",
       "\t<li>\"a large impact on airsheds, watersheds and migratory species corridors\"</li>\n",
       "\t<li>\"that are often shared between the three North American countries. \\\"We\"</li>\n",
       "\t<li>\"want to discuss the possible outcomes from greater efforts to\"</li>\n",
       "\t<li>\"coordinate federal, state or provincial environmental laws and policies\"</li>\n",
       "\t<li>\"that relate to the electricity sector,\\\" said Ferretti. \\\"How can we\"</li>\n",
       "\t<li>\"develop more compatible environmental approaches to help make domestic\"</li>\n",
       "\t<li>\"environmental policies more effective?\\\" The Effects of an Integrated\"</li>\n",
       "\t<li>\"Electricity Market One key issue raised in the paper is the effect of\"</li>\n",
       "\t<li>\"market integration on the competitiveness of particular fuels such as\"</li>\n",
       "\t<li>\"coal, natural gas or renewables. Fuel choice largely determines\"</li>\n",
       "\t<li>\"environmental impacts from a specific facility, along with pollution\"</li>\n",
       "\t<li>\"control technologies, performance standards and regulations. The paper\"</li>\n",
       "\t<li>\"highlights other impacts of a highly competitive market as well. For\"</li>\n",
       "\t<li>\"example, concerns about so called \\\"pollution havens\\\" arise when\"</li>\n",
       "\t<li>\"significant differences in environmental laws or enforcement practices\"</li>\n",
       "\t<li>\"induce power companies to locate their operations in jurisdictions with\"</li>\n",
       "\t<li>\"lower standards. \\\"The CEC Secretariat is exploring what additional\"</li>\n",
       "\t<li>\"environmental policies will work in this restructured market and how\"</li>\n",
       "\t<li>\"these policies can be adapted to ensure that they enhance\"</li>\n",
       "\t<li>\"competitiveness and benefit the entire region,\\\" said Sharp. Because\"</li>\n",
       "\t<li>\"trade rules and policy measures directly influence the variables that\"</li>\n",
       "\t<li>\"drive a successfully integrated North American electricity market, the\"</li>\n",
       "\t<li>\"working paper also addresses fuel choice, technology, pollution control\"</li>\n",
       "\t<li>\"strategies and subsidies. The CEC will use the information gathered\"</li>\n",
       "\t<li>\"during the discussion period to develop a final report that will be\"</li>\n",
       "\t<li>\"submitted to the Council in early 2002. For more information or to view\"</li>\n",
       "\t<li>\"the live video webcast of the symposium, please go to:\"</li>\n",
       "\t<li>\"http://www.cec.org/electricity. You may download the working paper and\"</li>\n",
       "\t<li>\"other supporting documents from:\"</li>\n",
       "\t<li>\"http://www.cec.org/programs_projects/other_initiatives/electricity/docs.cfm?varlan=english.\"</li>\n",
       "\t<li>\"Commission for Environmental Cooperation 393, rue St-Jacques Ouest,\"</li>\n",
       "\t<li>\"Bureau 200 Montr<c3><a9>al (Qu<c3><a9>bec) Canada H2Y 1N9 Tel: (514) 350-4300; Fax:\"</li>\n",
       "\t<li>\"(514) 350-4314 E-mail: info@ccemtl.org ***********\"</li>\n",
       "</ol>\n"
      ],
      "text/latex": [
       "\\begin{enumerate*}\n",
       "\\item \"North America's integrated electricity market requires cooperation on\"\n",
       "\\item \"environmental policies Commission for Environmental Cooperation\"\n",
       "\\item \"releases working paper on North America's electricity market Montreal,\"\n",
       "\\item \"27 November 2001 -- The North American Commission for Environmental\"\n",
       "\\item \"Cooperation (CEC) is releasing a working paper highlighting the trend\"\n",
       "\\item \"towards increasing trade, competition and cross-border investment in\"\n",
       "\\item \"electricity between Canada, Mexico and the United States. It is hoped\"\n",
       "\\item \"that the working paper, Environmental Challenges and Opportunities in\"\n",
       "\\item \"the Evolving North American Electricity Market, will stimulate public\"\n",
       "\\item \"discussion around a CEC symposium of the same title about the need to\"\n",
       "\\item \"coordinate environmental policies trinationally as a North America-wide\"\n",
       "\\item \"electricity market develops. The CEC symposium will take place in San\"\n",
       "\\item \"Diego on 29-30 November, and will bring together leading experts from\"\n",
       "\\item \"industry, academia, NGOs and the governments of Canada, Mexico and the\"\n",
       "\\item \"United States to consider the impact of the evolving continental\"\n",
       "\\item \"electricity market on human health and the environment. \\textbackslash{}\"Our goal {[}with\"\n",
       "\\item \"the working paper and the symposium{]} is to highlight key environmental\"\n",
       "\\item \"issues that must be addressed as the electricity markets in North\"\n",
       "\\item \"America become more and more integrated,\\textbackslash{}\" said Janine Ferretti,\"\n",
       "\\item \"executive director of the CEC. \\textbackslash{}\"We want to stimulate discussion around\"\n",
       "\\item \"the important policy questions being raised so that countries can\"\n",
       "\\item \"cooperate in their approach to energy and the environment.\\textbackslash{}\" The CEC, an\"\n",
       "\\item \"international organization created under an environmental side\"\n",
       "\\item \"agreement to NAFTA known as the North American Agreement on\"\n",
       "\\item \"Environmental Cooperation, was established to address regional\"\n",
       "\\item \"environmental concerns, help prevent potential trade and environmental\"\n",
       "\\item \"conflicts, and promote the effective enforcement of environmental law.\"\n",
       "\\item \"The CEC Secretariat believes that greater North American cooperation on\"\n",
       "\\item \"environmental policies regarding the continental electricity market is\"\n",
       "\\item \"necessary to: * protect air quality and mitigate climate change, *\"\n",
       "\\item \"minimize the possibility of environment-based trade disputes, * ensure\"\n",
       "\\item \"a dependable supply of reasonably priced electricity across North\"\n",
       "\\item \"America * avoid creation of pollution havens, and * ensure local and\"\n",
       "\\item \"national environmental measures remain effective. The Changing Market\"\n",
       "\\item \"The working paper profiles the rapid changing North American\"\n",
       "\\item \"electricity market. For example, in 2001, the US is projected to export\"\n",
       "\\item \"13.1 thousand gigawatt-hours (GWh) of electricity to Canada and Mexico.\"\n",
       "\\item \"By 2007, this number is projected to grow to 16.9 thousand GWh of\"\n",
       "\\item \"electricity. \\textbackslash{}\"Over the past few decades, the North American electricity\"\n",
       "\\item \"market has developed into a complex array of cross-border transactions\"\n",
       "\\item \"and relationships,\\textbackslash{}\" said Phil Sharp, former US congressman and chairman\"\n",
       "\\item \"of the CEC's Electricity Advisory Board. \\textbackslash{}\"We need to achieve this new\"\n",
       "\\item \"level of cooperation in our environmental approaches as well.\\textbackslash{}\" The\"\n",
       "\\item \"Environmental Profile of the Electricity Sector The electricity sector\"\n",
       "\\item \"is the single largest source of nationally reported toxins in the\"\n",
       "\\item \"United States and Canada and a large source in Mexico. In the US, the\"\n",
       "\\item \"electricity sector emits approximately 25 percent of all NOx emissions,\"\n",
       "\\item \"roughly 35 percent of all CO2 emissions, 25 percent of all mercury\"\n",
       "\\item \"emissions and almost 70 percent of SO2 emissions. These emissions have\"\n",
       "\\item \"a large impact on airsheds, watersheds and migratory species corridors\"\n",
       "\\item \"that are often shared between the three North American countries. \\textbackslash{}\"We\"\n",
       "\\item \"want to discuss the possible outcomes from greater efforts to\"\n",
       "\\item \"coordinate federal, state or provincial environmental laws and policies\"\n",
       "\\item \"that relate to the electricity sector,\\textbackslash{}\" said Ferretti. \\textbackslash{}\"How can we\"\n",
       "\\item \"develop more compatible environmental approaches to help make domestic\"\n",
       "\\item \"environmental policies more effective?\\textbackslash{}\" The Effects of an Integrated\"\n",
       "\\item \"Electricity Market One key issue raised in the paper is the effect of\"\n",
       "\\item \"market integration on the competitiveness of particular fuels such as\"\n",
       "\\item \"coal, natural gas or renewables. Fuel choice largely determines\"\n",
       "\\item \"environmental impacts from a specific facility, along with pollution\"\n",
       "\\item \"control technologies, performance standards and regulations. The paper\"\n",
       "\\item \"highlights other impacts of a highly competitive market as well. For\"\n",
       "\\item \"example, concerns about so called \\textbackslash{}\"pollution havens\\textbackslash{}\" arise when\"\n",
       "\\item \"significant differences in environmental laws or enforcement practices\"\n",
       "\\item \"induce power companies to locate their operations in jurisdictions with\"\n",
       "\\item \"lower standards. \\textbackslash{}\"The CEC Secretariat is exploring what additional\"\n",
       "\\item \"environmental policies will work in this restructured market and how\"\n",
       "\\item \"these policies can be adapted to ensure that they enhance\"\n",
       "\\item \"competitiveness and benefit the entire region,\\textbackslash{}\" said Sharp. Because\"\n",
       "\\item \"trade rules and policy measures directly influence the variables that\"\n",
       "\\item \"drive a successfully integrated North American electricity market, the\"\n",
       "\\item \"working paper also addresses fuel choice, technology, pollution control\"\n",
       "\\item \"strategies and subsidies. The CEC will use the information gathered\"\n",
       "\\item \"during the discussion period to develop a final report that will be\"\n",
       "\\item \"submitted to the Council in early 2002. For more information or to view\"\n",
       "\\item \"the live video webcast of the symposium, please go to:\"\n",
       "\\item \"http://www.cec.org/electricity. You may download the working paper and\"\n",
       "\\item \"other supporting documents from:\"\n",
       "\\item \"http://www.cec.org/programs\\_projects/other\\_initiatives/electricity/docs.cfm?varlan=english.\"\n",
       "\\item \"Commission for Environmental Cooperation 393, rue St-Jacques Ouest,\"\n",
       "\\item \"Bureau 200 Montr<c3><a9>al (Qu<c3><a9>bec) Canada H2Y 1N9 Tel: (514) 350-4300; Fax:\"\n",
       "\\item \"(514) 350-4314 E-mail: info@ccemtl.org ***********\"\n",
       "\\end{enumerate*}\n"
      ],
      "text/markdown": [
       "1. \"North America's integrated electricity market requires cooperation on\"\n",
       "2. \"environmental policies Commission for Environmental Cooperation\"\n",
       "3. \"releases working paper on North America's electricity market Montreal,\"\n",
       "4. \"27 November 2001 -- The North American Commission for Environmental\"\n",
       "5. \"Cooperation (CEC) is releasing a working paper highlighting the trend\"\n",
       "6. \"towards increasing trade, competition and cross-border investment in\"\n",
       "7. \"electricity between Canada, Mexico and the United States. It is hoped\"\n",
       "8. \"that the working paper, Environmental Challenges and Opportunities in\"\n",
       "9. \"the Evolving North American Electricity Market, will stimulate public\"\n",
       "10. \"discussion around a CEC symposium of the same title about the need to\"\n",
       "11. \"coordinate environmental policies trinationally as a North America-wide\"\n",
       "12. \"electricity market develops. The CEC symposium will take place in San\"\n",
       "13. \"Diego on 29-30 November, and will bring together leading experts from\"\n",
       "14. \"industry, academia, NGOs and the governments of Canada, Mexico and the\"\n",
       "15. \"United States to consider the impact of the evolving continental\"\n",
       "16. \"electricity market on human health and the environment. \\\"Our goal [with\"\n",
       "17. \"the working paper and the symposium] is to highlight key environmental\"\n",
       "18. \"issues that must be addressed as the electricity markets in North\"\n",
       "19. \"America become more and more integrated,\\\" said Janine Ferretti,\"\n",
       "20. \"executive director of the CEC. \\\"We want to stimulate discussion around\"\n",
       "21. \"the important policy questions being raised so that countries can\"\n",
       "22. \"cooperate in their approach to energy and the environment.\\\" The CEC, an\"\n",
       "23. \"international organization created under an environmental side\"\n",
       "24. \"agreement to NAFTA known as the North American Agreement on\"\n",
       "25. \"Environmental Cooperation, was established to address regional\"\n",
       "26. \"environmental concerns, help prevent potential trade and environmental\"\n",
       "27. \"conflicts, and promote the effective enforcement of environmental law.\"\n",
       "28. \"The CEC Secretariat believes that greater North American cooperation on\"\n",
       "29. \"environmental policies regarding the continental electricity market is\"\n",
       "30. \"necessary to: * protect air quality and mitigate climate change, *\"\n",
       "31. \"minimize the possibility of environment-based trade disputes, * ensure\"\n",
       "32. \"a dependable supply of reasonably priced electricity across North\"\n",
       "33. \"America * avoid creation of pollution havens, and * ensure local and\"\n",
       "34. \"national environmental measures remain effective. The Changing Market\"\n",
       "35. \"The working paper profiles the rapid changing North American\"\n",
       "36. \"electricity market. For example, in 2001, the US is projected to export\"\n",
       "37. \"13.1 thousand gigawatt-hours (GWh) of electricity to Canada and Mexico.\"\n",
       "38. \"By 2007, this number is projected to grow to 16.9 thousand GWh of\"\n",
       "39. \"electricity. \\\"Over the past few decades, the North American electricity\"\n",
       "40. \"market has developed into a complex array of cross-border transactions\"\n",
       "41. \"and relationships,\\\" said Phil Sharp, former US congressman and chairman\"\n",
       "42. \"of the CEC's Electricity Advisory Board. \\\"We need to achieve this new\"\n",
       "43. \"level of cooperation in our environmental approaches as well.\\\" The\"\n",
       "44. \"Environmental Profile of the Electricity Sector The electricity sector\"\n",
       "45. \"is the single largest source of nationally reported toxins in the\"\n",
       "46. \"United States and Canada and a large source in Mexico. In the US, the\"\n",
       "47. \"electricity sector emits approximately 25 percent of all NOx emissions,\"\n",
       "48. \"roughly 35 percent of all CO2 emissions, 25 percent of all mercury\"\n",
       "49. \"emissions and almost 70 percent of SO2 emissions. These emissions have\"\n",
       "50. \"a large impact on airsheds, watersheds and migratory species corridors\"\n",
       "51. \"that are often shared between the three North American countries. \\\"We\"\n",
       "52. \"want to discuss the possible outcomes from greater efforts to\"\n",
       "53. \"coordinate federal, state or provincial environmental laws and policies\"\n",
       "54. \"that relate to the electricity sector,\\\" said Ferretti. \\\"How can we\"\n",
       "55. \"develop more compatible environmental approaches to help make domestic\"\n",
       "56. \"environmental policies more effective?\\\" The Effects of an Integrated\"\n",
       "57. \"Electricity Market One key issue raised in the paper is the effect of\"\n",
       "58. \"market integration on the competitiveness of particular fuels such as\"\n",
       "59. \"coal, natural gas or renewables. Fuel choice largely determines\"\n",
       "60. \"environmental impacts from a specific facility, along with pollution\"\n",
       "61. \"control technologies, performance standards and regulations. The paper\"\n",
       "62. \"highlights other impacts of a highly competitive market as well. For\"\n",
       "63. \"example, concerns about so called \\\"pollution havens\\\" arise when\"\n",
       "64. \"significant differences in environmental laws or enforcement practices\"\n",
       "65. \"induce power companies to locate their operations in jurisdictions with\"\n",
       "66. \"lower standards. \\\"The CEC Secretariat is exploring what additional\"\n",
       "67. \"environmental policies will work in this restructured market and how\"\n",
       "68. \"these policies can be adapted to ensure that they enhance\"\n",
       "69. \"competitiveness and benefit the entire region,\\\" said Sharp. Because\"\n",
       "70. \"trade rules and policy measures directly influence the variables that\"\n",
       "71. \"drive a successfully integrated North American electricity market, the\"\n",
       "72. \"working paper also addresses fuel choice, technology, pollution control\"\n",
       "73. \"strategies and subsidies. The CEC will use the information gathered\"\n",
       "74. \"during the discussion period to develop a final report that will be\"\n",
       "75. \"submitted to the Council in early 2002. For more information or to view\"\n",
       "76. \"the live video webcast of the symposium, please go to:\"\n",
       "77. \"http://www.cec.org/electricity. You may download the working paper and\"\n",
       "78. \"other supporting documents from:\"\n",
       "79. \"http://www.cec.org/programs_projects/other_initiatives/electricity/docs.cfm?varlan=english.\"\n",
       "80. \"Commission for Environmental Cooperation 393, rue St-Jacques Ouest,\"\n",
       "81. \"Bureau 200 Montr<c3><a9>al (Qu<c3><a9>bec) Canada H2Y 1N9 Tel: (514) 350-4300; Fax:\"\n",
       "82. \"(514) 350-4314 E-mail: info@ccemtl.org ***********\"\n",
       "\n",
       "\n"
      ],
      "text/plain": [
       " [1] \"North America's integrated electricity market requires cooperation on\"                      \n",
       " [2] \"environmental policies Commission for Environmental Cooperation\"                            \n",
       " [3] \"releases working paper on North America's electricity market Montreal,\"                     \n",
       " [4] \"27 November 2001 -- The North American Commission for Environmental\"                        \n",
       " [5] \"Cooperation (CEC) is releasing a working paper highlighting the trend\"                      \n",
       " [6] \"towards increasing trade, competition and cross-border investment in\"                       \n",
       " [7] \"electricity between Canada, Mexico and the United States. It is hoped\"                      \n",
       " [8] \"that the working paper, Environmental Challenges and Opportunities in\"                      \n",
       " [9] \"the Evolving North American Electricity Market, will stimulate public\"                      \n",
       "[10] \"discussion around a CEC symposium of the same title about the need to\"                      \n",
       "[11] \"coordinate environmental policies trinationally as a North America-wide\"                    \n",
       "[12] \"electricity market develops. The CEC symposium will take place in San\"                      \n",
       "[13] \"Diego on 29-30 November, and will bring together leading experts from\"                      \n",
       "[14] \"industry, academia, NGOs and the governments of Canada, Mexico and the\"                     \n",
       "[15] \"United States to consider the impact of the evolving continental\"                           \n",
       "[16] \"electricity market on human health and the environment. \\\"Our goal [with\"                   \n",
       "[17] \"the working paper and the symposium] is to highlight key environmental\"                     \n",
       "[18] \"issues that must be addressed as the electricity markets in North\"                          \n",
       "[19] \"America become more and more integrated,\\\" said Janine Ferretti,\"                           \n",
       "[20] \"executive director of the CEC. \\\"We want to stimulate discussion around\"                    \n",
       "[21] \"the important policy questions being raised so that countries can\"                          \n",
       "[22] \"cooperate in their approach to energy and the environment.\\\" The CEC, an\"                   \n",
       "[23] \"international organization created under an environmental side\"                             \n",
       "[24] \"agreement to NAFTA known as the North American Agreement on\"                                \n",
       "[25] \"Environmental Cooperation, was established to address regional\"                             \n",
       "[26] \"environmental concerns, help prevent potential trade and environmental\"                     \n",
       "[27] \"conflicts, and promote the effective enforcement of environmental law.\"                     \n",
       "[28] \"The CEC Secretariat believes that greater North American cooperation on\"                    \n",
       "[29] \"environmental policies regarding the continental electricity market is\"                     \n",
       "[30] \"necessary to: * protect air quality and mitigate climate change, *\"                         \n",
       "[31] \"minimize the possibility of environment-based trade disputes, * ensure\"                     \n",
       "[32] \"a dependable supply of reasonably priced electricity across North\"                          \n",
       "[33] \"America * avoid creation of pollution havens, and * ensure local and\"                       \n",
       "[34] \"national environmental measures remain effective. The Changing Market\"                      \n",
       "[35] \"The working paper profiles the rapid changing North American\"                               \n",
       "[36] \"electricity market. For example, in 2001, the US is projected to export\"                    \n",
       "[37] \"13.1 thousand gigawatt-hours (GWh) of electricity to Canada and Mexico.\"                    \n",
       "[38] \"By 2007, this number is projected to grow to 16.9 thousand GWh of\"                          \n",
       "[39] \"electricity. \\\"Over the past few decades, the North American electricity\"                   \n",
       "[40] \"market has developed into a complex array of cross-border transactions\"                     \n",
       "[41] \"and relationships,\\\" said Phil Sharp, former US congressman and chairman\"                   \n",
       "[42] \"of the CEC's Electricity Advisory Board. \\\"We need to achieve this new\"                     \n",
       "[43] \"level of cooperation in our environmental approaches as well.\\\" The\"                        \n",
       "[44] \"Environmental Profile of the Electricity Sector The electricity sector\"                     \n",
       "[45] \"is the single largest source of nationally reported toxins in the\"                          \n",
       "[46] \"United States and Canada and a large source in Mexico. In the US, the\"                      \n",
       "[47] \"electricity sector emits approximately 25 percent of all NOx emissions,\"                    \n",
       "[48] \"roughly 35 percent of all CO2 emissions, 25 percent of all mercury\"                         \n",
       "[49] \"emissions and almost 70 percent of SO2 emissions. These emissions have\"                     \n",
       "[50] \"a large impact on airsheds, watersheds and migratory species corridors\"                     \n",
       "[51] \"that are often shared between the three North American countries. \\\"We\"                     \n",
       "[52] \"want to discuss the possible outcomes from greater efforts to\"                              \n",
       "[53] \"coordinate federal, state or provincial environmental laws and policies\"                    \n",
       "[54] \"that relate to the electricity sector,\\\" said Ferretti. \\\"How can we\"                       \n",
       "[55] \"develop more compatible environmental approaches to help make domestic\"                     \n",
       "[56] \"environmental policies more effective?\\\" The Effects of an Integrated\"                      \n",
       "[57] \"Electricity Market One key issue raised in the paper is the effect of\"                      \n",
       "[58] \"market integration on the competitiveness of particular fuels such as\"                      \n",
       "[59] \"coal, natural gas or renewables. Fuel choice largely determines\"                            \n",
       "[60] \"environmental impacts from a specific facility, along with pollution\"                       \n",
       "[61] \"control technologies, performance standards and regulations. The paper\"                     \n",
       "[62] \"highlights other impacts of a highly competitive market as well. For\"                       \n",
       "[63] \"example, concerns about so called \\\"pollution havens\\\" arise when\"                          \n",
       "[64] \"significant differences in environmental laws or enforcement practices\"                     \n",
       "[65] \"induce power companies to locate their operations in jurisdictions with\"                    \n",
       "[66] \"lower standards. \\\"The CEC Secretariat is exploring what additional\"                        \n",
       "[67] \"environmental policies will work in this restructured market and how\"                       \n",
       "[68] \"these policies can be adapted to ensure that they enhance\"                                  \n",
       "[69] \"competitiveness and benefit the entire region,\\\" said Sharp. Because\"                       \n",
       "[70] \"trade rules and policy measures directly influence the variables that\"                      \n",
       "[71] \"drive a successfully integrated North American electricity market, the\"                     \n",
       "[72] \"working paper also addresses fuel choice, technology, pollution control\"                    \n",
       "[73] \"strategies and subsidies. The CEC will use the information gathered\"                        \n",
       "[74] \"during the discussion period to develop a final report that will be\"                        \n",
       "[75] \"submitted to the Council in early 2002. For more information or to view\"                    \n",
       "[76] \"the live video webcast of the symposium, please go to:\"                                     \n",
       "[77] \"http://www.cec.org/electricity. You may download the working paper and\"                     \n",
       "[78] \"other supporting documents from:\"                                                           \n",
       "[79] \"http://www.cec.org/programs_projects/other_initiatives/electricity/docs.cfm?varlan=english.\"\n",
       "[80] \"Commission for Environmental Cooperation 393, rue St-Jacques Ouest,\"                        \n",
       "[81] \"Bureau 200 Montr\\303\\251al (Qu\\303\\251bec) Canada H2Y 1N9 Tel: (514) 350-4300; Fax:\"        \n",
       "[82] \"(514) 350-4314 E-mail: info@ccemtl.org ***********\"                                         "
      ]
     },
     "metadata": {},
     "output_type": "display_data"
    }
   ],
   "source": [
    "strwrap(emails$email[1])"
   ]
  },
  {
   "cell_type": "code",
   "execution_count": 7,
   "metadata": {
    "collapsed": false
   },
   "outputs": [
    {
     "data": {
      "text/html": [
       "0"
      ],
      "text/latex": [
       "0"
      ],
      "text/markdown": [
       "0"
      ],
      "text/plain": [
       "[1] 0"
      ]
     },
     "metadata": {},
     "output_type": "display_data"
    }
   ],
   "source": [
    "emails$responsive[1]"
   ]
  },
  {
   "cell_type": "code",
   "execution_count": 13,
   "metadata": {
    "collapsed": false
   },
   "outputs": [],
   "source": [
    "#strwrap(emails$email[2])"
   ]
  },
  {
   "cell_type": "code",
   "execution_count": 9,
   "metadata": {
    "collapsed": false
   },
   "outputs": [
    {
     "data": {
      "text/html": [
       "1"
      ],
      "text/latex": [
       "1"
      ],
      "text/markdown": [
       "1"
      ],
      "text/plain": [
       "[1] 1"
      ]
     },
     "metadata": {},
     "output_type": "display_data"
    }
   ],
   "source": [
    "emails$responsive[2]"
   ]
  },
  {
   "cell_type": "code",
   "execution_count": 10,
   "metadata": {
    "collapsed": false
   },
   "outputs": [
    {
     "data": {
      "text/plain": [
       "\n",
       "  0   1 \n",
       "716 139 "
      ]
     },
     "metadata": {},
     "output_type": "display_data"
    }
   ],
   "source": [
    "table(emails$responsive)"
   ]
  },
  {
   "cell_type": "code",
   "execution_count": 12,
   "metadata": {
    "collapsed": false,
    "scrolled": false
   },
   "outputs": [],
   "source": [
    "# corpus = tm_map(corpus, PlainTextDocument)\n",
    "library(tm)\n",
    "corpus = Corpus(VectorSource(emails$email))\n",
    "#strwrap(corpus[[1]])"
   ]
  },
  {
   "cell_type": "code",
   "execution_count": 14,
   "metadata": {
    "collapsed": true
   },
   "outputs": [],
   "source": [
    "corpus = tm_map(corpus, tolower)\n",
    "corpus = tm_map(corpus, PlainTextDocument)\n",
    "corpus = tm_map(corpus, removePunctuation)\n",
    "corpus = tm_map(corpus, removeWords,\n",
    "                stopwords('english'))\n",
    "corpus = tm_map(corpus, stemDocument)"
   ]
  },
  {
   "cell_type": "code",
   "execution_count": 16,
   "metadata": {
    "collapsed": false
   },
   "outputs": [
    {
     "data": {
      "text/html": [
       "'north america integr electr market requir cooper  environment polici commiss  environment cooper releas work paper  north america electr market montreal 27 novemb 2001   north american commiss  environment cooper cec  releas  work paper highlight  trend toward increas trade competit  crossbord invest  electr  canada mexico   unit state   hope   work paper environment challeng  opportun   evolv north american electr market will stimul public discuss around  cec symposium    titl   need  coordin environment polici trinat   north americawid electr market develop  cec symposium will take place  san diego  2930 novemb  will bring togeth lead expert  industri academia ngos   govern  canada mexico   unit state  consid  impact   evolv continent electr market  human health   environ  goal   work paper   symposium   highlight key environment issu  must  address   electr market  north america becom    integr said janin ferretti execut director   cec  want  stimul discuss around  import polici question  rais   countri can cooper   approach  energi   environ  cec  intern organ creat   environment side agreement  nafta known   north american agreement  environment cooper  establish  address region environment concern help prevent potenti trade  environment conflict  promot  effect enforc  environment law  cec secretariat believ  greater north american cooper  environment polici regard  continent electr market  necessari    protect air qualiti  mitig climat chang   minim  possibl  environmentbas trade disput   ensur  depend suppli  reason price electr across north america   avoid creation  pollut haven    ensur local  nation environment measur remain effect  chang market  work paper profil  rapid chang north american electr market  exampl  2001  us  project  export 131 thousand gigawatthour gwh  electr  canada  mexico  2007  number  project  grow  169 thousand gwh  electr   past  decad  north american electr market  develop   complex array  crossbord transact  relationship said phil sharp former us congressman  chairman   cec electr advisori board  need  achiev  new level  cooper   environment approach  well  environment profil   electr sector  electr sector   singl largest sourc  nation report toxin   unit state  canada   larg sourc  mexico   us  electr sector emit approxim 25 percent   nox emiss rough 35 percent   co2 emiss 25 percent   mercuri emiss  almost 70 percent  so2 emiss  emiss   larg impact  airsh watersh  migratori speci corridor   often share   three north american countri  want  discuss  possibl outcom  greater effort  coordin feder state  provinci environment law  polici  relat   electr sector said ferretti  can  develop  compat environment approach  help make domest environment polici  effect  effect   integr electr market one key issu rais   paper   effect  market integr   competit  particular fuel   coal natur gas  renew fuel choic larg determin environment impact   specif facil along  pollut control technolog perform standard  regul  paper highlight  impact   high competit market  well  exampl concern   call pollut haven aris  signific differ  environment law  enforc practic induc power compani  locat  oper  jurisdict  lower standard  cec secretariat  explor  addit environment polici will work   restructur market    polici can  adapt  ensur   enhanc competit  benefit  entir region said sharp  trade rule  polici measur direct influenc  variabl  drive  success integr north american electr market  work paper also address fuel choic technolog pollut control strategi  subsidi  cec will use  inform gather   discuss period  develop  final report  will  submit   council  earli 2002   inform   view  live video webcast   symposium pleas go  httpwwwcecorgelectr  may download  work paper   support document  httpwwwcecorgprogramsprojectsotherinitiativeselectricitydocscfmvarlanenglish commiss  environment cooper 393 rue stjacqu ouest bureau 200 montr&lt;c3&gt;&lt;a9&gt; qu&lt;c3&gt;&lt;a9&gt;bec canada h2i 1n9 tel 514 3504300 fax 514 3504314 email infoccemtlorg'"
      ],
      "text/latex": [
       "'north america integr electr market requir cooper  environment polici commiss  environment cooper releas work paper  north america electr market montreal 27 novemb 2001   north american commiss  environment cooper cec  releas  work paper highlight  trend toward increas trade competit  crossbord invest  electr  canada mexico   unit state   hope   work paper environment challeng  opportun   evolv north american electr market will stimul public discuss around  cec symposium    titl   need  coordin environment polici trinat   north americawid electr market develop  cec symposium will take place  san diego  2930 novemb  will bring togeth lead expert  industri academia ngos   govern  canada mexico   unit state  consid  impact   evolv continent electr market  human health   environ  goal   work paper   symposium   highlight key environment issu  must  address   electr market  north america becom    integr said janin ferretti execut director   cec  want  stimul discuss around  import polici question  rais   countri can cooper   approach  energi   environ  cec  intern organ creat   environment side agreement  nafta known   north american agreement  environment cooper  establish  address region environment concern help prevent potenti trade  environment conflict  promot  effect enforc  environment law  cec secretariat believ  greater north american cooper  environment polici regard  continent electr market  necessari    protect air qualiti  mitig climat chang   minim  possibl  environmentbas trade disput   ensur  depend suppli  reason price electr across north america   avoid creation  pollut haven    ensur local  nation environment measur remain effect  chang market  work paper profil  rapid chang north american electr market  exampl  2001  us  project  export 131 thousand gigawatthour gwh  electr  canada  mexico  2007  number  project  grow  169 thousand gwh  electr   past  decad  north american electr market  develop   complex array  crossbord transact  relationship said phil sharp former us congressman  chairman   cec electr advisori board  need  achiev  new level  cooper   environment approach  well  environment profil   electr sector  electr sector   singl largest sourc  nation report toxin   unit state  canada   larg sourc  mexico   us  electr sector emit approxim 25 percent   nox emiss rough 35 percent   co2 emiss 25 percent   mercuri emiss  almost 70 percent  so2 emiss  emiss   larg impact  airsh watersh  migratori speci corridor   often share   three north american countri  want  discuss  possibl outcom  greater effort  coordin feder state  provinci environment law  polici  relat   electr sector said ferretti  can  develop  compat environment approach  help make domest environment polici  effect  effect   integr electr market one key issu rais   paper   effect  market integr   competit  particular fuel   coal natur gas  renew fuel choic larg determin environment impact   specif facil along  pollut control technolog perform standard  regul  paper highlight  impact   high competit market  well  exampl concern   call pollut haven aris  signific differ  environment law  enforc practic induc power compani  locat  oper  jurisdict  lower standard  cec secretariat  explor  addit environment polici will work   restructur market    polici can  adapt  ensur   enhanc competit  benefit  entir region said sharp  trade rule  polici measur direct influenc  variabl  drive  success integr north american electr market  work paper also address fuel choic technolog pollut control strategi  subsidi  cec will use  inform gather   discuss period  develop  final report  will  submit   council  earli 2002   inform   view  live video webcast   symposium pleas go  httpwwwcecorgelectr  may download  work paper   support document  httpwwwcecorgprogramsprojectsotherinitiativeselectricitydocscfmvarlanenglish commiss  environment cooper 393 rue stjacqu ouest bureau 200 montr<c3><a9> qu<c3><a9>bec canada h2i 1n9 tel 514 3504300 fax 514 3504314 email infoccemtlorg'"
      ],
      "text/markdown": [
       "'north america integr electr market requir cooper  environment polici commiss  environment cooper releas work paper  north america electr market montreal 27 novemb 2001   north american commiss  environment cooper cec  releas  work paper highlight  trend toward increas trade competit  crossbord invest  electr  canada mexico   unit state   hope   work paper environment challeng  opportun   evolv north american electr market will stimul public discuss around  cec symposium    titl   need  coordin environment polici trinat   north americawid electr market develop  cec symposium will take place  san diego  2930 novemb  will bring togeth lead expert  industri academia ngos   govern  canada mexico   unit state  consid  impact   evolv continent electr market  human health   environ  goal   work paper   symposium   highlight key environment issu  must  address   electr market  north america becom    integr said janin ferretti execut director   cec  want  stimul discuss around  import polici question  rais   countri can cooper   approach  energi   environ  cec  intern organ creat   environment side agreement  nafta known   north american agreement  environment cooper  establish  address region environment concern help prevent potenti trade  environment conflict  promot  effect enforc  environment law  cec secretariat believ  greater north american cooper  environment polici regard  continent electr market  necessari    protect air qualiti  mitig climat chang   minim  possibl  environmentbas trade disput   ensur  depend suppli  reason price electr across north america   avoid creation  pollut haven    ensur local  nation environment measur remain effect  chang market  work paper profil  rapid chang north american electr market  exampl  2001  us  project  export 131 thousand gigawatthour gwh  electr  canada  mexico  2007  number  project  grow  169 thousand gwh  electr   past  decad  north american electr market  develop   complex array  crossbord transact  relationship said phil sharp former us congressman  chairman   cec electr advisori board  need  achiev  new level  cooper   environment approach  well  environment profil   electr sector  electr sector   singl largest sourc  nation report toxin   unit state  canada   larg sourc  mexico   us  electr sector emit approxim 25 percent   nox emiss rough 35 percent   co2 emiss 25 percent   mercuri emiss  almost 70 percent  so2 emiss  emiss   larg impact  airsh watersh  migratori speci corridor   often share   three north american countri  want  discuss  possibl outcom  greater effort  coordin feder state  provinci environment law  polici  relat   electr sector said ferretti  can  develop  compat environment approach  help make domest environment polici  effect  effect   integr electr market one key issu rais   paper   effect  market integr   competit  particular fuel   coal natur gas  renew fuel choic larg determin environment impact   specif facil along  pollut control technolog perform standard  regul  paper highlight  impact   high competit market  well  exampl concern   call pollut haven aris  signific differ  environment law  enforc practic induc power compani  locat  oper  jurisdict  lower standard  cec secretariat  explor  addit environment polici will work   restructur market    polici can  adapt  ensur   enhanc competit  benefit  entir region said sharp  trade rule  polici measur direct influenc  variabl  drive  success integr north american electr market  work paper also address fuel choic technolog pollut control strategi  subsidi  cec will use  inform gather   discuss period  develop  final report  will  submit   council  earli 2002   inform   view  live video webcast   symposium pleas go  httpwwwcecorgelectr  may download  work paper   support document  httpwwwcecorgprogramsprojectsotherinitiativeselectricitydocscfmvarlanenglish commiss  environment cooper 393 rue stjacqu ouest bureau 200 montr&lt;c3&gt;&lt;a9&gt; qu&lt;c3&gt;&lt;a9&gt;bec canada h2i 1n9 tel 514 3504300 fax 514 3504314 email infoccemtlorg'"
      ],
      "text/plain": [
       "[1] \"north america integr electr market requir cooper  environment polici commiss  environment cooper releas work paper  north america electr market montreal 27 novemb 2001   north american commiss  environment cooper cec  releas  work paper highlight  trend toward increas trade competit  crossbord invest  electr  canada mexico   unit state   hope   work paper environment challeng  opportun   evolv north american electr market will stimul public discuss around  cec symposium    titl   need  coordin environment polici trinat   north americawid electr market develop  cec symposium will take place  san diego  2930 novemb  will bring togeth lead expert  industri academia ngos   govern  canada mexico   unit state  consid  impact   evolv continent electr market  human health   environ  goal   work paper   symposium   highlight key environment issu  must  address   electr market  north america becom    integr said janin ferretti execut director   cec  want  stimul discuss around  import polici question  rais   countri can cooper   approach  energi   environ  cec  intern organ creat   environment side agreement  nafta known   north american agreement  environment cooper  establish  address region environment concern help prevent potenti trade  environment conflict  promot  effect enforc  environment law  cec secretariat believ  greater north american cooper  environment polici regard  continent electr market  necessari    protect air qualiti  mitig climat chang   minim  possibl  environmentbas trade disput   ensur  depend suppli  reason price electr across north america   avoid creation  pollut haven    ensur local  nation environment measur remain effect  chang market  work paper profil  rapid chang north american electr market  exampl  2001  us  project  export 131 thousand gigawatthour gwh  electr  canada  mexico  2007  number  project  grow  169 thousand gwh  electr   past  decad  north american electr market  develop   complex array  crossbord transact  relationship said phil sharp former us congressman  chairman   cec electr advisori board  need  achiev  new level  cooper   environment approach  well  environment profil   electr sector  electr sector   singl largest sourc  nation report toxin   unit state  canada   larg sourc  mexico   us  electr sector emit approxim 25 percent   nox emiss rough 35 percent   co2 emiss 25 percent   mercuri emiss  almost 70 percent  so2 emiss  emiss   larg impact  airsh watersh  migratori speci corridor   often share   three north american countri  want  discuss  possibl outcom  greater effort  coordin feder state  provinci environment law  polici  relat   electr sector said ferretti  can  develop  compat environment approach  help make domest environment polici  effect  effect   integr electr market one key issu rais   paper   effect  market integr   competit  particular fuel   coal natur gas  renew fuel choic larg determin environment impact   specif facil along  pollut control technolog perform standard  regul  paper highlight  impact   high competit market  well  exampl concern   call pollut haven aris  signific differ  environment law  enforc practic induc power compani  locat  oper  jurisdict  lower standard  cec secretariat  explor  addit environment polici will work   restructur market    polici can  adapt  ensur   enhanc competit  benefit  entir region said sharp  trade rule  polici measur direct influenc  variabl  drive  success integr north american electr market  work paper also address fuel choic technolog pollut control strategi  subsidi  cec will use  inform gather   discuss period  develop  final report  will  submit   council  earli 2002   inform   view  live video webcast   symposium pleas go  httpwwwcecorgelectr  may download  work paper   support document  httpwwwcecorgprogramsprojectsotherinitiativeselectricitydocscfmvarlanenglish commiss  environment cooper 393 rue stjacqu ouest bureau 200 montr<c3><a9> qu<c3><a9>bec canada h2i 1n9 tel 514 3504300 fax 514 3504314 email infoccemtlorg\""
      ]
     },
     "metadata": {},
     "output_type": "display_data"
    }
   ],
   "source": [
    "corpus[[1]]$content"
   ]
  },
  {
   "cell_type": "code",
   "execution_count": 17,
   "metadata": {
    "collapsed": false
   },
   "outputs": [
    {
     "data": {
      "text/plain": [
       "<<DocumentTermMatrix (documents: 855, terms: 22167)>>\n",
       "Non-/sparse entries: 102891/18849894\n",
       "Sparsity           : 99%\n",
       "Maximal term length: 624\n",
       "Weighting          : term frequency (tf)"
      ]
     },
     "metadata": {},
     "output_type": "display_data"
    }
   ],
   "source": [
    "dtm = DocumentTermMatrix(corpus)\n",
    "dtm"
   ]
  },
  {
   "cell_type": "code",
   "execution_count": 18,
   "metadata": {
    "collapsed": false
   },
   "outputs": [
    {
     "data": {
      "text/plain": [
       "<<DocumentTermMatrix (documents: 855, terms: 788)>>\n",
       "Non-/sparse entries: 51612/622128\n",
       "Sparsity           : 92%\n",
       "Maximal term length: 19\n",
       "Weighting          : term frequency (tf)"
      ]
     },
     "metadata": {},
     "output_type": "display_data"
    }
   ],
   "source": [
    "dtm = removeSparseTerms(dtm, 0.97)\n",
    "dtm"
   ]
  },
  {
   "cell_type": "code",
   "execution_count": 19,
   "metadata": {
    "collapsed": false
   },
   "outputs": [
    {
     "name": "stdout",
     "output_type": "stream",
     "text": [
      "'data.frame':\t855 obs. of  789 variables:\n",
      " $ 100                : num  0 0 0 0 0 0 5 0 0 0 ...\n",
      " $ 1400               : num  0 0 0 0 0 0 0 0 0 0 ...\n",
      " $ 1999               : num  0 0 0 0 0 0 0 0 0 0 ...\n",
      " $ 2000               : num  0 0 1 0 1 0 6 0 1 0 ...\n",
      " $ 2001               : num  2 1 0 0 0 0 7 0 0 0 ...\n",
      " $ 713                : num  0 0 0 0 0 0 0 0 0 0 ...\n",
      " $ 77002              : num  0 0 0 0 0 0 0 0 0 0 ...\n",
      " $ abl                : num  0 0 0 0 0 0 2 0 0 0 ...\n",
      " $ accept             : num  0 0 0 0 0 0 1 0 0 0 ...\n",
      " $ access             : num  0 0 0 0 0 0 0 0 0 0 ...\n",
      " $ accord             : num  0 0 0 0 0 0 1 0 0 0 ...\n",
      " $ account            : num  0 0 0 0 0 0 3 0 0 0 ...\n",
      " $ act                : num  0 0 0 0 0 0 1 0 0 0 ...\n",
      " $ action             : num  0 0 0 0 1 0 0 0 0 0 ...\n",
      " $ activ              : num  0 0 1 0 1 0 1 0 0 0 ...\n",
      " $ actual             : num  0 0 0 0 0 0 0 0 0 0 ...\n",
      " $ add                : num  0 0 0 0 0 0 1 0 0 0 ...\n",
      " $ addit              : num  1 0 0 0 0 0 1 0 0 0 ...\n",
      " $ address            : num  3 0 0 0 2 0 0 0 0 1 ...\n",
      " $ administr          : num  0 0 0 0 0 0 1 0 0 0 ...\n",
      " $ advanc             : num  0 0 0 0 0 0 0 0 0 0 ...\n",
      " $ advis              : num  0 0 0 0 0 0 0 0 0 0 ...\n",
      " $ affect             : num  0 0 0 0 2 0 0 0 0 0 ...\n",
      " $ afternoon          : num  0 0 0 0 0 0 0 0 0 0 ...\n",
      " $ agenc              : num  0 0 0 0 1 0 0 0 0 0 ...\n",
      " $ ago                : num  0 0 0 0 0 0 1 0 0 0 ...\n",
      " $ agre               : num  0 0 0 0 0 0 0 0 0 0 ...\n",
      " $ agreement          : num  2 0 0 0 2 0 1 0 0 1 ...\n",
      " $ alan               : num  0 0 0 0 0 1 0 0 0 0 ...\n",
      " $ allow              : num  0 0 0 0 0 0 2 0 0 0 ...\n",
      " $ along              : num  1 0 0 0 1 0 1 0 0 0 ...\n",
      " $ alreadi            : num  0 0 0 0 0 0 0 0 0 0 ...\n",
      " $ also               : num  1 0 0 0 0 0 8 0 0 0 ...\n",
      " $ altern             : num  0 0 0 0 0 0 0 0 1 0 ...\n",
      " $ although           : num  0 0 0 0 0 0 6 0 0 0 ...\n",
      " $ amend              : num  0 0 0 0 0 0 0 0 0 0 ...\n",
      " $ america            : num  4 0 0 0 0 0 0 0 1 0 ...\n",
      " $ among              : num  0 0 0 0 0 0 3 0 0 0 ...\n",
      " $ amount             : num  0 0 0 0 0 0 1 0 0 0 ...\n",
      " $ analysi            : num  0 0 0 2 0 0 0 0 0 0 ...\n",
      " $ analyst            : num  0 0 0 0 0 0 6 0 0 0 ...\n",
      " $ andor              : num  0 0 0 0 0 0 0 0 0 0 ...\n",
      " $ andrew             : num  0 0 0 0 0 0 0 0 0 0 ...\n",
      " $ announc            : num  0 0 0 0 0 0 2 0 0 0 ...\n",
      " $ anoth              : num  0 0 0 0 0 0 6 0 0 0 ...\n",
      " $ answer             : num  0 0 0 0 0 0 2 0 0 0 ...\n",
      " $ anyon              : num  0 0 0 0 0 0 0 0 0 0 ...\n",
      " $ anyth              : num  0 0 0 0 0 0 0 0 0 0 ...\n",
      " $ appear             : num  0 0 0 0 0 0 3 0 0 0 ...\n",
      " $ appli              : num  0 0 0 0 0 0 0 0 0 0 ...\n",
      " $ applic             : num  0 0 0 0 0 0 0 0 0 0 ...\n",
      " $ appreci            : num  0 0 0 0 1 0 0 0 0 0 ...\n",
      " $ approach           : num  3 0 0 0 0 0 1 0 0 0 ...\n",
      " $ appropri           : num  0 0 0 0 0 0 0 1 0 0 ...\n",
      " $ approv             : num  0 0 0 0 0 0 1 0 0 0 ...\n",
      " $ approxim           : num  1 0 0 0 0 0 1 0 0 0 ...\n",
      " $ april              : num  0 0 0 0 0 0 3 0 0 0 ...\n",
      " $ area               : num  0 0 0 0 1 0 3 0 0 0 ...\n",
      " $ around             : num  2 0 0 0 0 0 1 0 0 0 ...\n",
      " $ arrang             : num  0 0 0 0 0 0 0 0 0 0 ...\n",
      " $ articl             : num  0 0 0 0 0 0 1 0 0 0 ...\n",
      " $ ask                : num  0 0 0 0 0 1 0 0 0 0 ...\n",
      " $ asset              : num  0 0 0 0 0 0 2 0 0 0 ...\n",
      " $ assist             : num  0 0 0 0 0 0 0 0 0 0 ...\n",
      " $ associ             : num  0 0 1 0 1 0 0 0 0 0 ...\n",
      " $ assum              : num  0 0 0 0 0 1 0 0 0 0 ...\n",
      " $ attach             : num  0 1 0 1 1 0 1 0 3 1 ...\n",
      " $ attend             : num  0 0 0 0 0 0 0 0 1 0 ...\n",
      " $ attent             : num  0 0 0 0 0 0 1 0 0 0 ...\n",
      " $ attorney           : num  0 0 0 0 0 0 0 0 0 0 ...\n",
      " $ august             : num  0 0 0 0 0 0 0 0 0 0 ...\n",
      " $ author             : num  0 0 1 0 0 0 0 0 0 0 ...\n",
      " $ avail              : num  0 0 0 0 0 0 0 0 0 0 ...\n",
      " $ averag             : num  0 0 0 0 0 0 5 0 0 0 ...\n",
      " $ avoid              : num  1 0 0 0 1 0 2 0 0 0 ...\n",
      " $ awar               : num  0 0 0 0 0 0 0 0 0 0 ...\n",
      " $ back               : num  0 0 0 0 1 1 1 0 0 0 ...\n",
      " $ balanc             : num  0 0 0 0 0 0 0 0 0 0 ...\n",
      " $ bank               : num  0 0 0 0 0 0 2 0 0 0 ...\n",
      " $ base               : num  0 0 0 0 1 0 9 0 0 0 ...\n",
      " $ basi               : num  0 0 0 0 0 0 1 0 0 0 ...\n",
      " $ becom              : num  1 0 0 0 0 0 4 0 0 0 ...\n",
      " $ begin              : num  0 0 0 0 0 0 0 0 0 0 ...\n",
      " $ believ             : num  1 0 0 0 0 0 0 0 0 0 ...\n",
      " $ benefit            : num  1 0 0 0 0 0 5 0 0 0 ...\n",
      " $ best               : num  0 0 0 0 0 0 0 0 0 1 ...\n",
      " $ better             : num  0 0 0 0 0 0 2 0 0 0 ...\n",
      " $ bid                : num  0 0 0 0 0 0 1 0 0 0 ...\n",
      " $ big                : num  0 0 0 0 0 1 6 0 0 0 ...\n",
      " $ bill               : num  0 0 0 0 0 0 0 0 0 0 ...\n",
      " $ billion            : num  0 0 0 0 0 0 2 0 0 0 ...\n",
      " $ bit                : num  0 0 0 0 0 1 2 0 0 0 ...\n",
      " $ board              : num  1 0 0 0 0 0 0 0 0 0 ...\n",
      " $ bob                : num  0 0 0 0 0 0 0 0 0 0 ...\n",
      " $ book               : num  0 0 0 0 0 0 0 0 0 0 ...\n",
      " $ brian              : num  0 1 0 0 0 0 0 0 0 0 ...\n",
      " $ brief              : num  0 0 0 0 0 0 0 0 0 0 ...\n",
      " $ bring              : num  1 0 0 0 0 0 2 0 0 0 ...\n",
      " $ build              : num  0 0 0 0 0 0 7 0 1 0 ...\n",
      "  [list output truncated]\n"
     ]
    }
   ],
   "source": [
    "labeledTerms = as.data.frame(as.matrix(dtm))\n",
    "labeledTerms$responsive = emails$responsive\n",
    "str(labeledTerms)"
   ]
  },
  {
   "cell_type": "code",
   "execution_count": 21,
   "metadata": {
    "collapsed": false
   },
   "outputs": [],
   "source": [
    "library(caTools)\n",
    "set.seed(144)\n",
    "spl = sample.split(labeledTerms$responsive, 0.7)\n",
    "train = subset(labeledTerms, spl==T)\n",
    "test = subset(labeledTerms, spl==F)"
   ]
  },
  {
   "cell_type": "code",
   "execution_count": 22,
   "metadata": {
    "collapsed": true
   },
   "outputs": [],
   "source": [
    "library(rpart)\n",
    "library(rpart.plot)"
   ]
  },
  {
   "cell_type": "code",
   "execution_count": 23,
   "metadata": {
    "collapsed": false
   },
   "outputs": [
    {
     "data": {
      "image/png": "[encoded data removed]",
      "image/svg+xml": [
       "<?xml version=\"1.0\" encoding=\"UTF-8\"?>\n",
       "<svg xmlns=\"http://www.w3.org/2000/svg\" xmlns:xlink=\"http://www.w3.org/1999/xlink\" width=\"504pt\" height=\"504pt\" viewBox=\"0 0 504 504\" version=\"1.1\">\n",
       "<defs>\n",
       "<g>\n",
       "<symbol overflow=\"visible\" id=\"glyph0-0\">\n",
       "<path style=\"stroke:none;\" d=\"\"/>\n",
       "</symbol>\n",
       "<symbol overflow=\"visible\" id=\"glyph0-1\">\n",
       "<path style=\"stroke:none;\" d=\"M 6.265625 -2.25 L 4.65625 -2.25 C 4.4375 -1.578125 4.109375 -1.25 3.453125 -1.25 C 2.609375 -1.25 2.09375 -1.9375 2.09375 -3.1875 C 2.09375 -4.375 2.40625 -5.234375 3.453125 -5.234375 C 4.140625 -5.234375 4.46875 -4.90625 4.65625 -4.0625 L 6.265625 -4.0625 C 6.140625 -5.640625 5.09375 -6.59375 3.46875 -6.59375 C 1.53125 -6.59375 0.40625 -5.40625 0.40625 -3.1875 C 0.40625 -1.0625 1.53125 0.109375 3.4375 0.109375 C 5.015625 0.109375 6.109375 -0.859375 6.265625 -2.25 Z M 6.265625 -2.25 \"/>\n",
       "</symbol>\n",
       "<symbol overflow=\"visible\" id=\"glyph0-2\">\n",
       "<path style=\"stroke:none;\" d=\"M 6.28125 0 L 6.28125 -0.203125 C 5.984375 -0.484375 5.90625 -0.65625 5.90625 -1 L 5.90625 -4.59375 C 5.90625 -5.921875 5 -6.59375 3.25 -6.59375 C 1.5 -6.59375 0.59375 -5.84375 0.484375 -4.34375 L 2.09375 -4.34375 C 2.1875 -5.015625 2.453125 -5.234375 3.28125 -5.234375 C 3.9375 -5.234375 4.265625 -5.015625 4.265625 -4.578125 C 4.265625 -3.90625 3.75 -3.96875 2.921875 -3.828125 L 2.25 -3.703125 C 0.953125 -3.484375 0.34375 -2.921875 0.34375 -1.75 C 0.34375 -0.484375 1.21875 0.109375 2.296875 0.109375 C 3.03125 0.109375 3.6875 -0.203125 4.265625 -0.8125 C 4.265625 -0.484375 4.3125 -0.1875 4.46875 0 Z M 4.265625 -2.765625 C 4.265625 -1.796875 3.78125 -1.25 2.921875 -1.25 C 2.359375 -1.25 2.015625 -1.46875 2.015625 -1.9375 C 2.015625 -2.4375 2.28125 -2.609375 2.96875 -2.75 L 3.546875 -2.859375 C 4 -2.9375 4.0625 -2.96875 4.265625 -3.0625 Z M 4.265625 -2.765625 \"/>\n",
       "</symbol>\n",
       "<symbol overflow=\"visible\" id=\"glyph0-3\">\n",
       "<path style=\"stroke:none;\" d=\"M 2.484375 0 L 2.484375 -8.75 L 0.796875 -8.75 L 0.796875 0 Z M 2.484375 0 \"/>\n",
       "</symbol>\n",
       "<symbol overflow=\"visible\" id=\"glyph0-4\">\n",
       "<path style=\"stroke:none;\" d=\"M 2.484375 0 L 2.484375 -6.484375 L 0.796875 -6.484375 L 0.796875 0 Z M 2.515625 -7.265625 L 2.515625 -8.9375 L 0.828125 -8.9375 L 0.828125 -7.265625 Z M 2.515625 -7.265625 \"/>\n",
       "</symbol>\n",
       "<symbol overflow=\"visible\" id=\"glyph0-5\">\n",
       "<path style=\"stroke:none;\" d=\"M 3.75 -5.234375 L 3.75 -6.34375 L 2.765625 -6.34375 L 2.765625 -6.984375 C 2.765625 -7.3125 2.90625 -7.484375 3.21875 -7.484375 C 3.359375 -7.484375 3.546875 -7.46875 3.703125 -7.453125 L 3.703125 -8.71875 C 3.390625 -8.734375 2.96875 -8.75 2.734375 -8.75 C 1.625 -8.75 1.078125 -8.21875 1.078125 -7.125 L 1.078125 -6.34375 L 0.171875 -6.34375 L 0.171875 -5.234375 L 1.078125 -5.234375 L 1.078125 0 L 2.765625 0 L 2.765625 -5.234375 Z M 3.75 -5.234375 \"/>\n",
       "</symbol>\n",
       "<symbol overflow=\"visible\" id=\"glyph0-6\">\n",
       "<path style=\"stroke:none;\" d=\"M 6.828125 -3.1875 C 6.828125 -5.390625 5.640625 -6.59375 3.609375 -6.59375 C 1.625 -6.59375 0.421875 -5.359375 0.421875 -3.234375 C 0.421875 -1.109375 1.625 0.109375 3.625 0.109375 C 5.59375 0.109375 6.828125 -1.109375 6.828125 -3.1875 Z M 5.140625 -3.21875 C 5.140625 -2 4.53125 -1.25 3.625 -1.25 C 2.71875 -1.25 2.09375 -2 2.09375 -3.234375 C 2.09375 -4.46875 2.71875 -5.234375 3.625 -5.234375 C 4.546875 -5.234375 5.140625 -4.484375 5.140625 -3.21875 Z M 5.140625 -3.21875 \"/>\n",
       "</symbol>\n",
       "<symbol overflow=\"visible\" id=\"glyph0-7\">\n",
       "<path style=\"stroke:none;\" d=\"M 4.4375 -4.875 L 4.4375 -6.578125 C 4.34375 -6.59375 4.28125 -6.59375 4.234375 -6.59375 C 3.46875 -6.59375 2.796875 -6.078125 2.4375 -5.203125 L 2.4375 -6.484375 L 0.75 -6.484375 L 0.75 0 L 2.4375 0 L 2.4375 -3.4375 C 2.4375 -4.421875 2.921875 -4.921875 3.90625 -4.921875 C 4.09375 -4.921875 4.21875 -4.90625 4.4375 -4.875 Z M 4.4375 -4.875 \"/>\n",
       "</symbol>\n",
       "<symbol overflow=\"visible\" id=\"glyph0-8\">\n",
       "<path style=\"stroke:none;\" d=\"M 6.546875 0 L 6.546875 -4.34375 C 6.546875 -5.765625 5.765625 -6.59375 4.375 -6.59375 C 3.5 -6.59375 2.921875 -6.265625 2.4375 -5.546875 L 2.4375 -6.484375 L 0.75 -6.484375 L 0.75 0 L 2.4375 0 L 2.4375 -3.890625 C 2.4375 -4.65625 2.96875 -5.15625 3.796875 -5.15625 C 4.515625 -5.15625 4.875 -4.765625 4.875 -4 L 4.875 0 Z M 6.546875 0 \"/>\n",
       "</symbol>\n",
       "<symbol overflow=\"visible\" id=\"glyph0-9\">\n",
       "<path style=\"stroke:none;\" d=\"\"/>\n",
       "</symbol>\n",
       "<symbol overflow=\"visible\" id=\"glyph0-10\">\n",
       "<path style=\"stroke:none;\" d=\"M 5.5625 1.265625 L 5.5625 -0.296875 L 2.375 -3 L 5.5625 -5.703125 L 5.5625 -7.265625 L 1.0625 -3.453125 L 1.0625 -2.546875 Z M 5.5625 1.265625 \"/>\n",
       "</symbol>\n",
       "<symbol overflow=\"visible\" id=\"glyph0-11\">\n",
       "<path style=\"stroke:none;\" d=\"M 4.53125 0 L 4.53125 -8.515625 L 3.421875 -8.515625 C 3.15625 -7.5 2.28125 -6.984375 0.8125 -6.984375 L 0.8125 -5.875 L 2.859375 -5.875 L 2.859375 0 Z M 4.53125 0 \"/>\n",
       "</symbol>\n",
       "<symbol overflow=\"visible\" id=\"glyph0-12\">\n",
       "<path style=\"stroke:none;\" d=\"M 2.5625 0 L 2.5625 -1.75 L 0.765625 -1.75 L 0.765625 0 Z M 2.5625 0 \"/>\n",
       "</symbol>\n",
       "<symbol overflow=\"visible\" id=\"glyph0-13\">\n",
       "<path style=\"stroke:none;\" d=\"M 6.203125 -2.890625 C 6.203125 -4.625 5.125 -5.75 3.546875 -5.75 C 2.984375 -5.75 2.5625 -5.609375 2.078125 -5.234375 L 2.359375 -7.015625 L 5.875 -7.015625 L 5.875 -8.515625 L 1.3125 -8.515625 L 0.5625 -3.765625 L 2.078125 -3.765625 C 2.25 -4.1875 2.640625 -4.421875 3.15625 -4.421875 C 4.015625 -4.421875 4.53125 -3.890625 4.53125 -2.859375 C 4.53125 -1.859375 4 -1.328125 3.15625 -1.328125 C 2.421875 -1.328125 1.984375 -1.703125 1.984375 -2.390625 L 0.328125 -2.390625 C 0.328125 -0.90625 1.46875 0.109375 3.125 0.109375 C 4.953125 0.109375 6.203125 -1.0625 6.203125 -2.890625 Z M 6.203125 -2.890625 \"/>\n",
       "</symbol>\n",
       "<symbol overflow=\"visible\" id=\"glyph0-14\">\n",
       "<path style=\"stroke:none;\" d=\"M 6.546875 0 L 6.546875 -8.75 L 4.859375 -8.75 L 4.859375 -5.640625 C 4.4375 -6.28125 3.875 -6.59375 3.078125 -6.59375 C 1.53125 -6.59375 0.34375 -5.1875 0.34375 -3.234375 C 0.34375 -1.390625 1.359375 0.109375 3.078125 0.109375 C 3.875 0.109375 4.4375 -0.1875 4.859375 -0.75 L 4.859375 0 Z M 4.859375 -3.203125 C 4.859375 -2.03125 4.28125 -1.296875 3.4375 -1.296875 C 2.609375 -1.296875 2.03125 -2.046875 2.03125 -3.234375 C 2.03125 -4.421875 2.609375 -5.1875 3.4375 -5.1875 C 4.296875 -5.1875 4.859375 -4.4375 4.859375 -3.203125 Z M 4.859375 -3.203125 \"/>\n",
       "</symbol>\n",
       "<symbol overflow=\"visible\" id=\"glyph0-15\">\n",
       "<path style=\"stroke:none;\" d=\"M 6.296875 -3 C 6.296875 -5.234375 5.171875 -6.59375 3.265625 -6.59375 C 1.40625 -6.59375 0.265625 -5.328125 0.265625 -3.15625 C 0.265625 -1.078125 1.390625 0.109375 3.234375 0.109375 C 4.6875 0.109375 5.859375 -0.546875 6.234375 -1.828125 L 4.578125 -1.828125 C 4.421875 -1.359375 3.90625 -1.171875 3.28125 -1.171875 C 2.5 -1.171875 1.984375 -1.53125 1.9375 -2.796875 L 6.28125 -2.796875 Z M 4.546875 -3.90625 L 1.96875 -3.90625 C 2.078125 -4.8125 2.5 -5.296875 3.234375 -5.296875 C 3.953125 -5.296875 4.46875 -4.84375 4.546875 -3.90625 Z M 4.546875 -3.90625 \"/>\n",
       "</symbol>\n",
       "<symbol overflow=\"visible\" id=\"glyph0-16\">\n",
       "<path style=\"stroke:none;\" d=\"M 9.890625 0 L 9.890625 -4.578125 C 9.890625 -5.84375 9.125 -6.59375 7.828125 -6.59375 C 7.015625 -6.59375 6.4375 -6.296875 5.921875 -5.625 C 5.609375 -6.234375 4.96875 -6.59375 4.15625 -6.59375 C 3.421875 -6.59375 2.9375 -6.34375 2.390625 -5.671875 L 2.390625 -6.484375 L 0.71875 -6.484375 L 0.71875 0 L 2.40625 0 L 2.40625 -3.890625 C 2.40625 -4.6875 2.828125 -5.15625 3.546875 -5.15625 C 4.109375 -5.15625 4.46875 -4.84375 4.46875 -4.3125 L 4.46875 0 L 6.140625 0 L 6.140625 -3.890625 C 6.140625 -4.6875 6.578125 -5.15625 7.296875 -5.15625 C 7.859375 -5.15625 8.203125 -4.84375 8.203125 -4.3125 L 8.203125 0 Z M 9.890625 0 \"/>\n",
       "</symbol>\n",
       "<symbol overflow=\"visible\" id=\"glyph0-17\">\n",
       "<path style=\"stroke:none;\" d=\"M 6.203125 -4.234375 C 6.203125 -6.640625 5.765625 -8.6875 3.28125 -8.6875 C 0.84375 -8.6875 0.34375 -6.734375 0.34375 -4.28125 C 0.34375 -1.90625 0.8125 0.109375 3.28125 0.109375 C 5 0.109375 6.203125 -0.875 6.203125 -4.234375 Z M 4.53125 -4.265625 C 4.53125 -1.890625 4.171875 -1.328125 3.28125 -1.328125 C 2.421875 -1.328125 2.03125 -1.765625 2.03125 -4.296875 C 2.03125 -6.765625 2.375 -7.328125 3.28125 -7.328125 C 4.109375 -7.328125 4.53125 -6.90625 4.53125 -4.265625 Z M 4.53125 -4.265625 \"/>\n",
       "</symbol>\n",
       "<symbol overflow=\"visible\" id=\"glyph0-18\">\n",
       "<path style=\"stroke:none;\" d=\"M 6.90625 -3.15625 C 6.90625 -4.984375 5.875 -6.59375 4.171875 -6.59375 C 3.375 -6.59375 2.796875 -6.28125 2.390625 -5.640625 L 2.390625 -8.75 L 0.703125 -8.75 L 0.703125 0 L 2.390625 0 L 2.390625 -0.75 C 2.796875 -0.1875 3.359375 0.109375 4.171875 0.109375 C 5.71875 0.109375 6.90625 -1.203125 6.90625 -3.15625 Z M 5.21875 -3.234375 C 5.21875 -2.046875 4.625 -1.296875 3.796875 -1.296875 C 2.953125 -1.296875 2.390625 -2.03125 2.390625 -3.265625 C 2.390625 -4.4375 2.96875 -5.1875 3.796875 -5.1875 C 4.625 -5.1875 5.21875 -4.421875 5.21875 -3.234375 Z M 5.21875 -3.234375 \"/>\n",
       "</symbol>\n",
       "<symbol overflow=\"visible\" id=\"glyph0-19\">\n",
       "<path style=\"stroke:none;\" d=\"M 6.484375 0.21875 L 6.484375 -6.484375 L 4.890625 -6.484375 L 4.890625 -5.484375 C 4.390625 -6.25 3.84375 -6.59375 3.09375 -6.59375 C 1.5625 -6.59375 0.40625 -5.171875 0.40625 -3.171875 C 0.40625 -1.15625 1.46875 0.109375 3.0625 0.109375 C 3.8125 0.109375 4.265625 -0.125 4.890625 -0.75 L 4.890625 0.21875 C 4.890625 1 4.3125 1.53125 3.46875 1.53125 C 2.828125 1.53125 2.40625 1.265625 2.28125 0.78125 L 0.546875 0.78125 C 0.5625 1.84375 1.625 2.609375 3.40625 2.609375 C 5.359375 2.609375 6.484375 1.734375 6.484375 0.21875 Z M 4.921875 -3.1875 C 4.921875 -2.015625 4.3125 -1.296875 3.4375 -1.296875 C 2.640625 -1.296875 2.09375 -2.015625 2.09375 -3.1875 C 2.09375 -4.421875 2.640625 -5.1875 3.453125 -5.1875 C 4.296875 -5.1875 4.921875 -4.390625 4.921875 -3.1875 Z M 4.921875 -3.1875 \"/>\n",
       "</symbol>\n",
       "<symbol overflow=\"visible\" id=\"glyph0-20\">\n",
       "<path style=\"stroke:none;\" d=\"M 6.234375 -1.921875 L 6.234375 -2 C 6.234375 -2.75 5.8125 -3.296875 4.96875 -3.546875 L 2.84375 -4.15625 C 2.375 -4.296875 2.25 -4.40625 2.25 -4.671875 C 2.25 -5.03125 2.640625 -5.265625 3.234375 -5.265625 C 4.03125 -5.265625 4.421875 -4.984375 4.4375 -4.390625 L 6.0625 -4.390625 C 6.03125 -5.765625 4.984375 -6.59375 3.234375 -6.59375 C 1.59375 -6.59375 0.578125 -5.765625 0.578125 -4.421875 C 0.578125 -3.640625 0.796875 -3.203125 1.984375 -2.828125 L 4 -2.203125 C 4.421875 -2.078125 4.5625 -1.9375 4.5625 -1.765625 C 4.5625 -1.375 4.09375 -1.21875 3.3125 -1.21875 C 2.546875 -1.21875 2.140625 -1.359375 1.984375 -2.046875 L 0.34375 -2.046875 C 0.390625 -0.640625 1.4375 0.109375 3.40625 0.109375 C 5.234375 0.109375 6.234375 -0.609375 6.234375 -1.921875 Z M 6.234375 -1.921875 \"/>\n",
       "</symbol>\n",
       "<symbol overflow=\"visible\" id=\"glyph0-21\">\n",
       "<path style=\"stroke:none;\" d=\"M 2.515625 1.125 L 2.515625 -6.484375 L 0.84375 -6.484375 L 0.84375 0.75 C 0.84375 1.125 0.703125 1.265625 0.34375 1.265625 C 0.234375 1.265625 0.171875 1.25 0.046875 1.21875 L 0.046875 2.5625 C 0.390625 2.59375 0.796875 2.609375 1.046875 2.609375 C 2.09375 2.609375 2.515625 2.1875 2.515625 1.125 Z M 2.515625 -7.265625 L 2.515625 -8.9375 L 0.84375 -8.9375 L 0.84375 -7.265625 Z M 2.515625 -7.265625 \"/>\n",
       "</symbol>\n",
       "<symbol overflow=\"visible\" id=\"glyph0-22\">\n",
       "<path style=\"stroke:none;\" d=\"M 7.46875 -5.234375 L 7.46875 -6.34375 L 6.484375 -6.34375 L 6.484375 -6.984375 C 6.484375 -7.3125 6.625 -7.484375 6.9375 -7.484375 C 7.078125 -7.484375 7.265625 -7.46875 7.421875 -7.453125 L 7.421875 -8.71875 C 7.109375 -8.734375 6.6875 -8.75 6.453125 -8.75 C 5.34375 -8.75 4.796875 -8.21875 4.796875 -7.125 L 4.796875 -6.34375 L 2.765625 -6.34375 L 2.765625 -6.984375 C 2.765625 -7.3125 2.90625 -7.484375 3.21875 -7.484375 C 3.359375 -7.484375 3.546875 -7.46875 3.703125 -7.453125 L 3.703125 -8.71875 C 3.390625 -8.734375 2.96875 -8.75 2.734375 -8.75 C 1.625 -8.75 1.078125 -8.21875 1.078125 -7.125 L 1.078125 -6.34375 L 0.171875 -6.34375 L 0.171875 -5.234375 L 1.078125 -5.234375 L 1.078125 0 L 2.765625 0 L 2.765625 -5.234375 L 4.796875 -5.234375 L 4.796875 0 L 6.484375 0 L 6.484375 -5.234375 Z M 7.46875 -5.234375 \"/>\n",
       "</symbol>\n",
       "<symbol overflow=\"visible\" id=\"glyph0-23\">\n",
       "<path style=\"stroke:none;\" d=\"M 6.453125 -6.484375 L 4.734375 -6.484375 L 3.390625 -1.765625 L 1.953125 -6.484375 L 0.109375 -6.484375 L 2.515625 0.28125 L 2.515625 0.3125 C 2.515625 0.921875 2.0625 1.390625 1.46875 1.390625 C 1.34375 1.390625 1.25 1.375 1.03125 1.3125 L 1.03125 2.578125 C 1.28125 2.609375 1.421875 2.625 1.625 2.625 C 2.765625 2.625 3.34375 2.421875 3.796875 1.1875 Z M 6.453125 -6.484375 \"/>\n",
       "</symbol>\n",
       "<symbol overflow=\"visible\" id=\"glyph0-24\">\n",
       "<path style=\"stroke:none;\" d=\"M 3.609375 0 L 3.609375 -1.171875 C 3.4375 -1.15625 3.34375 -1.140625 3.234375 -1.140625 C 2.78125 -1.140625 2.671875 -1.265625 2.671875 -1.84375 L 2.671875 -5.234375 L 3.609375 -5.234375 L 3.609375 -6.34375 L 2.671875 -6.34375 L 2.671875 -8.09375 L 1 -8.09375 L 1 -6.34375 L 0.171875 -6.34375 L 0.171875 -5.234375 L 1 -5.234375 L 1 -1.390625 C 1 -0.375 1.53125 0.046875 2.640625 0.046875 C 3.015625 0.046875 3.3125 0.015625 3.609375 0 Z M 3.609375 0 \"/>\n",
       "</symbol>\n",
       "<symbol overflow=\"visible\" id=\"glyph1-0\">\n",
       "<path style=\"stroke:none;\" d=\"\"/>\n",
       "</symbol>\n",
       "<symbol overflow=\"visible\" id=\"glyph1-1\">\n",
       "<path style=\"stroke:none;\" d=\"M 6.078125 -4.09375 C 6.078125 -7.046875 5.140625 -8.515625 3.296875 -8.515625 C 1.46875 -8.515625 0.515625 -7.015625 0.515625 -4.15625 C 0.515625 -1.296875 1.46875 0.1875 3.296875 0.1875 C 5.09375 0.1875 6.078125 -1.296875 6.078125 -4.09375 Z M 5 -4.1875 C 5 -1.78125 4.453125 -0.703125 3.28125 -0.703125 C 2.15625 -0.703125 1.59375 -1.828125 1.59375 -4.15625 C 1.59375 -6.484375 2.15625 -7.578125 3.296875 -7.578125 C 4.4375 -7.578125 5 -6.46875 5 -4.1875 Z M 5 -4.1875 \"/>\n",
       "</symbol>\n",
       "<symbol overflow=\"visible\" id=\"glyph1-2\">\n",
       "<path style=\"stroke:none;\" d=\"M 4.15625 0 L 4.15625 -8.515625 L 3.46875 -8.515625 C 3.09375 -7.203125 2.859375 -7.015625 1.21875 -6.8125 L 1.21875 -6.0625 L 3.109375 -6.0625 L 3.109375 0 Z M 4.15625 0 \"/>\n",
       "</symbol>\n",
       "<symbol overflow=\"visible\" id=\"glyph2-0\">\n",
       "<path style=\"stroke:none;\" d=\"\"/>\n",
       "</symbol>\n",
       "<symbol overflow=\"visible\" id=\"glyph2-1\">\n",
       "<path style=\"stroke:none;\" d=\"M 5.1875 -5.03125 L 4.328125 -5.03125 L 2.09375 -1.125 L 1.65625 -5.03125 L 0.78125 -5.03125 L 1.4375 0.03125 L 0.9375 0.8125 C 0.6875 1.21875 0.53125 1.3125 0.171875 1.3125 C 0.078125 1.3125 0.015625 1.3125 -0.25 1.28125 L -0.40625 2 C -0.234375 2.078125 -0.109375 2.09375 0.0625 2.09375 C 0.75 2.09375 1.234375 1.765625 1.65625 1.0625 Z M 5.1875 -5.03125 \"/>\n",
       "</symbol>\n",
       "<symbol overflow=\"visible\" id=\"glyph2-2\">\n",
       "<path style=\"stroke:none;\" d=\"M 4.9375 -2.28125 L 4.953125 -2.40625 C 5.03125 -2.875 5.078125 -3.265625 5.078125 -3.53125 C 5.078125 -4.453125 4.28125 -5.171875 3.25 -5.171875 C 2.421875 -5.171875 1.609375 -4.78125 1.125 -4.140625 C 0.6875 -3.53125 0.328125 -2.46875 0.328125 -1.703125 C 0.328125 -0.703125 1.078125 0.140625 2.25 0.140625 C 3.390625 0.140625 4.359375 -0.484375 4.65625 -1.53125 L 3.859375 -1.53125 C 3.53125 -0.9375 3.015625 -0.59375 2.375 -0.59375 C 1.625 -0.59375 1.1875 -1.03125 1.1875 -1.84375 C 1.171875 -2 1.1875 -2.09375 1.234375 -2.28125 Z M 4.21875 -2.96875 L 1.40625 -2.96875 C 1.640625 -3.8125 2.34375 -4.4375 3.125 -4.4375 C 3.8125 -4.4375 4.234375 -3.96875 4.234375 -3.25 C 4.234375 -3.15625 4.234375 -3.09375 4.21875 -2.96875 Z M 4.21875 -2.96875 \"/>\n",
       "</symbol>\n",
       "<symbol overflow=\"visible\" id=\"glyph2-3\">\n",
       "<path style=\"stroke:none;\" d=\"M 4.265625 -1.734375 C 4.265625 -2.328125 3.953125 -2.625 3.109375 -2.84375 L 2.375 -3.015625 C 1.84375 -3.15625 1.5625 -3.34375 1.5625 -3.59375 C 1.5625 -4.09375 2.046875 -4.4375 2.765625 -4.4375 C 3.34375 -4.4375 3.65625 -4.21875 3.65625 -3.84375 C 3.65625 -3.765625 3.65625 -3.703125 3.640625 -3.625 L 4.453125 -3.625 C 4.5 -3.828125 4.515625 -3.921875 4.515625 -4.03125 C 4.515625 -4.703125 3.859375 -5.171875 2.9375 -5.171875 C 1.609375 -5.171875 0.71875 -4.40625 0.71875 -3.390625 C 0.71875 -2.796875 1.0625 -2.515625 2.046875 -2.265625 L 2.75 -2.078125 C 3.359375 -1.921875 3.421875 -1.71875 3.421875 -1.515625 C 3.421875 -0.96875 2.796875 -0.59375 2.046875 -0.59375 C 1.390625 -0.59375 1.015625 -0.859375 1.015625 -1.328125 C 1.015625 -1.390625 1.03125 -1.484375 1.03125 -1.578125 L 0.1875 -1.578125 C 0.140625 -1.359375 0.125 -1.234375 0.125 -1.078125 C 0.125 -0.3125 0.796875 0.140625 1.90625 0.140625 C 3.34375 0.140625 4.265625 -0.59375 4.265625 -1.734375 Z M 4.265625 -1.734375 \"/>\n",
       "</symbol>\n",
       "<symbol overflow=\"visible\" id=\"glyph2-4\">\n",
       "<path style=\"stroke:none;\" d=\"M 4.984375 -3.609375 C 5.015625 -3.734375 5.03125 -3.84375 5.03125 -3.96875 C 5.03125 -4.703125 4.515625 -5.171875 3.71875 -5.171875 C 3 -5.171875 2.359375 -4.90625 1.859375 -4.40625 L 1.984375 -5.03125 L 1.25 -5.03125 L 0.1875 0 L 1 0 L 1.578125 -2.765625 C 1.796875 -3.828125 2.484375 -4.484375 3.34375 -4.484375 C 3.828125 -4.484375 4.1875 -4.140625 4.1875 -3.703125 C 4.1875 -3.640625 4.15625 -3.5 4.125 -3.34375 L 3.421875 0 L 4.21875 0 Z M 4.984375 -3.609375 \"/>\n",
       "</symbol>\n",
       "<symbol overflow=\"visible\" id=\"glyph2-5\">\n",
       "<path style=\"stroke:none;\" d=\"M 5.046875 -3.375 C 5.046875 -4.390625 4.359375 -5.171875 3.203125 -5.171875 C 1.40625 -5.171875 0.296875 -3.515625 0.296875 -1.609375 C 0.296875 -0.546875 1.046875 0.140625 2.125 0.140625 C 3.859375 0.140625 5.046875 -1.375 5.046875 -3.375 Z M 4.203125 -3.1875 C 4.203125 -1.765625 3.390625 -0.59375 2.25 -0.59375 C 1.578125 -0.59375 1.140625 -1.03125 1.140625 -1.796875 C 1.140625 -3.1875 1.953125 -4.4375 3.078125 -4.4375 C 3.796875 -4.4375 4.203125 -3.96875 4.203125 -3.1875 Z M 4.203125 -3.1875 \"/>\n",
       "</symbol>\n",
       "</g>\n",
       "</defs>\n",
       "<g id=\"surface50\">\n",
       "<rect x=\"0\" y=\"0\" width=\"504\" height=\"504\" style=\"fill:rgb(100%,100%,100%);fill-opacity:1;stroke:none;\"/>\n",
       "<path style=\"fill:none;stroke-width:0.75;stroke-linecap:butt;stroke-linejoin:round;stroke:rgb(0%,0%,0%);stroke-opacity:1;stroke-miterlimit:10;\" d=\"M 276.890625 169.722656 L 316.570312 114.960938 L 326.488281 114.960938 \"/>\n",
       "<path style=\"fill:none;stroke-width:0.75;stroke-linecap:butt;stroke-linejoin:round;stroke:rgb(0%,0%,0%);stroke-opacity:1;stroke-miterlimit:10;\" d=\"M 192.34375 225.914062 L 259.980469 171.152344 L 276.890625 171.152344 \"/>\n",
       "<path style=\"fill:none;stroke-width:0.75;stroke-linecap:butt;stroke-linejoin:round;stroke:rgb(0%,0%,0%);stroke-opacity:1;stroke-miterlimit:10;\" d=\"M 146.675781 282.105469 L 183.207031 227.34375 L 192.34375 227.34375 \"/>\n",
       "<path style=\"fill:none;stroke-width:0.75;stroke-linecap:butt;stroke-linejoin:round;stroke:rgb(0%,0%,0%);stroke-opacity:1;stroke-miterlimit:10;\" d=\"M 101.417969 326.800781 L 137.621094 283.535156 L 146.675781 283.535156 \"/>\n",
       "<path style=\"fill:none;stroke-width:0.75;stroke-linecap:butt;stroke-linejoin:round;stroke:rgb(0%,0%,0%);stroke-opacity:1;stroke-miterlimit:10;\" d=\"M 191.929688 338.292969 L 155.726562 283.535156 L 146.675781 283.535156 \"/>\n",
       "<path style=\"fill:none;stroke-width:0.75;stroke-linecap:butt;stroke-linejoin:round;stroke:rgb(0%,0%,0%);stroke-opacity:1;stroke-miterlimit:10;\" d=\"M 150.789062 382.992188 L 183.703125 339.726562 L 191.929688 339.726562 \"/>\n",
       "<path style=\"fill:none;stroke-width:0.75;stroke-linecap:butt;stroke-linejoin:round;stroke:rgb(0%,0%,0%);stroke-opacity:1;stroke-miterlimit:10;\" d=\"M 233.074219 382.992188 L 200.160156 339.726562 L 191.929688 339.726562 \"/>\n",
       "<path style=\"fill:none;stroke-width:0.75;stroke-linecap:butt;stroke-linejoin:round;stroke:rgb(0%,0%,0%);stroke-opacity:1;stroke-miterlimit:10;\" d=\"M 238.011719 270.609375 L 201.476562 227.34375 L 192.34375 227.34375 \"/>\n",
       "<path style=\"fill:none;stroke-width:0.75;stroke-linecap:butt;stroke-linejoin:round;stroke:rgb(0%,0%,0%);stroke-opacity:1;stroke-miterlimit:10;\" d=\"M 361.441406 225.914062 L 293.800781 171.152344 L 276.890625 171.152344 \"/>\n",
       "<path style=\"fill:none;stroke-width:0.75;stroke-linecap:butt;stroke-linejoin:round;stroke:rgb(0%,0%,0%);stroke-opacity:1;stroke-miterlimit:10;\" d=\"M 320.296875 270.609375 L 353.210938 227.34375 L 361.441406 227.34375 \"/>\n",
       "<path style=\"fill:none;stroke-width:0.75;stroke-linecap:butt;stroke-linejoin:round;stroke:rgb(0%,0%,0%);stroke-opacity:1;stroke-miterlimit:10;\" d=\"M 402.582031 270.609375 L 369.667969 227.34375 L 361.441406 227.34375 \"/>\n",
       "<path style=\"fill:none;stroke-width:0.75;stroke-linecap:butt;stroke-linejoin:round;stroke:rgb(0%,0%,0%);stroke-opacity:1;stroke-miterlimit:10;\" d=\"M 376.085938 158.226562 L 336.410156 114.960938 L 326.488281 114.960938 \"/>\n",
       "<path style=\" stroke:none;fill-rule:nonzero;fill:rgb(100%,100%,100%);fill-opacity:1;\" d=\"M 284.757812 119.269531 L 284.757812 102.039062 L 368.21875 102.039062 L 368.21875 119.269531 Z M 284.757812 119.269531 \"/>\n",
       "<path style=\" stroke:none;fill-rule:nonzero;fill:rgb(100%,100%,100%);fill-opacity:1;\" d=\"M 233.710938 175.460938 L 233.710938 158.226562 L 320.074219 158.226562 L 320.074219 175.460938 Z M 233.710938 175.460938 \"/>\n",
       "<path style=\" stroke:none;fill-rule:nonzero;fill:rgb(100%,100%,100%);fill-opacity:1;\" d=\"M 163.164062 231.652344 L 163.164062 214.417969 L 221.519531 214.417969 L 221.519531 231.652344 Z M 163.164062 231.652344 \"/>\n",
       "<path style=\" stroke:none;fill-rule:nonzero;fill:rgb(100%,100%,100%);fill-opacity:1;\" d=\"M 116.15625 287.84375 L 116.15625 270.609375 L 177.191406 270.609375 L 177.191406 287.84375 Z M 116.15625 287.84375 \"/>\n",
       "<path style=\" stroke:none;fill-rule:nonzero;fill:rgb(100%,100%,100%);fill-opacity:1;\" d=\"M 162.753906 344.03125 L 162.753906 326.800781 L 221.109375 326.800781 L 221.109375 344.03125 Z M 162.753906 344.03125 \"/>\n",
       "<path style=\" stroke:none;fill-rule:nonzero;fill:rgb(100%,100%,100%);fill-opacity:1;\" d=\"M 320.585938 231.652344 L 320.585938 214.417969 L 402.292969 214.417969 L 402.292969 231.652344 Z M 320.585938 231.652344 \"/>\n",
       "<g style=\"fill:rgb(0%,0%,0%);fill-opacity:1;\">\n",
       "  <use xlink:href=\"#glyph0-1\" x=\"289.488281\" y=\"113.652344\"/>\n",
       "  <use xlink:href=\"#glyph0-2\" x=\"296.160156\" y=\"113.652344\"/>\n",
       "  <use xlink:href=\"#glyph0-3\" x=\"302.832031\" y=\"113.652344\"/>\n",
       "  <use xlink:href=\"#glyph0-4\" x=\"306.167969\" y=\"113.652344\"/>\n",
       "  <use xlink:href=\"#glyph0-5\" x=\"309.503906\" y=\"113.652344\"/>\n",
       "  <use xlink:href=\"#glyph0-6\" x=\"313.380859\" y=\"113.652344\"/>\n",
       "  <use xlink:href=\"#glyph0-7\" x=\"320.712891\" y=\"113.652344\"/>\n",
       "  <use xlink:href=\"#glyph0-8\" x=\"325.380859\" y=\"113.652344\"/>\n",
       "  <use xlink:href=\"#glyph0-9\" x=\"332.712891\" y=\"113.652344\"/>\n",
       "  <use xlink:href=\"#glyph0-10\" x=\"336.048828\" y=\"113.652344\"/>\n",
       "  <use xlink:href=\"#glyph0-9\" x=\"343.056641\" y=\"113.652344\"/>\n",
       "  <use xlink:href=\"#glyph0-11\" x=\"346.392578\" y=\"113.652344\"/>\n",
       "  <use xlink:href=\"#glyph0-12\" x=\"353.064453\" y=\"113.652344\"/>\n",
       "  <use xlink:href=\"#glyph0-13\" x=\"356.400391\" y=\"113.652344\"/>\n",
       "</g>\n",
       "<g style=\"fill:rgb(0%,0%,0%);fill-opacity:1;\">\n",
       "  <use xlink:href=\"#glyph0-14\" x=\"238.390625\" y=\"169.84375\"/>\n",
       "  <use xlink:href=\"#glyph0-15\" x=\"245.722656\" y=\"169.84375\"/>\n",
       "  <use xlink:href=\"#glyph0-16\" x=\"252.394531\" y=\"169.84375\"/>\n",
       "  <use xlink:href=\"#glyph0-2\" x=\"263.0625\" y=\"169.84375\"/>\n",
       "  <use xlink:href=\"#glyph0-8\" x=\"269.734375\" y=\"169.84375\"/>\n",
       "  <use xlink:href=\"#glyph0-14\" x=\"277.066406\" y=\"169.84375\"/>\n",
       "  <use xlink:href=\"#glyph0-9\" x=\"284.398438\" y=\"169.84375\"/>\n",
       "  <use xlink:href=\"#glyph0-10\" x=\"287.734375\" y=\"169.84375\"/>\n",
       "  <use xlink:href=\"#glyph0-9\" x=\"294.742188\" y=\"169.84375\"/>\n",
       "  <use xlink:href=\"#glyph0-17\" x=\"298.078125\" y=\"169.84375\"/>\n",
       "  <use xlink:href=\"#glyph0-12\" x=\"304.75\" y=\"169.84375\"/>\n",
       "  <use xlink:href=\"#glyph0-13\" x=\"308.085938\" y=\"169.84375\"/>\n",
       "</g>\n",
       "<g style=\"fill:rgb(0%,0%,0%);fill-opacity:1;\">\n",
       "  <use xlink:href=\"#glyph0-18\" x=\"167.84375\" y=\"226.035156\"/>\n",
       "  <use xlink:href=\"#glyph0-4\" x=\"175.175781\" y=\"226.035156\"/>\n",
       "  <use xlink:href=\"#glyph0-14\" x=\"178.511719\" y=\"226.035156\"/>\n",
       "  <use xlink:href=\"#glyph0-9\" x=\"185.84375\" y=\"226.035156\"/>\n",
       "  <use xlink:href=\"#glyph0-10\" x=\"189.179688\" y=\"226.035156\"/>\n",
       "  <use xlink:href=\"#glyph0-9\" x=\"196.1875\" y=\"226.035156\"/>\n",
       "  <use xlink:href=\"#glyph0-17\" x=\"199.523438\" y=\"226.035156\"/>\n",
       "  <use xlink:href=\"#glyph0-12\" x=\"206.195312\" y=\"226.035156\"/>\n",
       "  <use xlink:href=\"#glyph0-13\" x=\"209.53125\" y=\"226.035156\"/>\n",
       "</g>\n",
       "<g style=\"fill:rgb(0%,0%,0%);fill-opacity:1;\">\n",
       "  <use xlink:href=\"#glyph0-19\" x=\"120.675781\" y=\"281.726562\"/>\n",
       "  <use xlink:href=\"#glyph0-2\" x=\"128.067383\" y=\"281.726562\"/>\n",
       "  <use xlink:href=\"#glyph0-20\" x=\"134.739258\" y=\"281.726562\"/>\n",
       "  <use xlink:href=\"#glyph0-9\" x=\"141.411133\" y=\"281.726562\"/>\n",
       "  <use xlink:href=\"#glyph0-10\" x=\"144.74707\" y=\"281.726562\"/>\n",
       "  <use xlink:href=\"#glyph0-9\" x=\"151.754883\" y=\"281.726562\"/>\n",
       "  <use xlink:href=\"#glyph0-11\" x=\"155.09082\" y=\"281.726562\"/>\n",
       "  <use xlink:href=\"#glyph0-12\" x=\"161.762695\" y=\"281.726562\"/>\n",
       "  <use xlink:href=\"#glyph0-13\" x=\"165.098633\" y=\"281.726562\"/>\n",
       "</g>\n",
       "<g style=\"fill:rgb(0%,0%,0%);fill-opacity:1;\">\n",
       "  <use xlink:href=\"#glyph0-21\" x=\"167.429688\" y=\"337.917969\"/>\n",
       "  <use xlink:href=\"#glyph0-15\" x=\"170.765625\" y=\"337.917969\"/>\n",
       "  <use xlink:href=\"#glyph0-22\" x=\"177.4375\" y=\"337.917969\"/>\n",
       "  <use xlink:href=\"#glyph0-9\" x=\"185.082031\" y=\"337.917969\"/>\n",
       "  <use xlink:href=\"#glyph0-10\" x=\"188.417969\" y=\"337.917969\"/>\n",
       "  <use xlink:href=\"#glyph0-9\" x=\"195.425781\" y=\"337.917969\"/>\n",
       "  <use xlink:href=\"#glyph0-17\" x=\"198.761719\" y=\"337.917969\"/>\n",
       "  <use xlink:href=\"#glyph0-12\" x=\"205.433594\" y=\"337.917969\"/>\n",
       "  <use xlink:href=\"#glyph0-13\" x=\"208.769531\" y=\"337.917969\"/>\n",
       "</g>\n",
       "<g style=\"fill:rgb(0%,0%,0%);fill-opacity:1;\">\n",
       "  <use xlink:href=\"#glyph0-20\" x=\"325.441406\" y=\"225.535156\"/>\n",
       "  <use xlink:href=\"#glyph0-23\" x=\"332.113281\" y=\"225.535156\"/>\n",
       "  <use xlink:href=\"#glyph0-20\" x=\"338.605469\" y=\"225.535156\"/>\n",
       "  <use xlink:href=\"#glyph0-24\" x=\"345.277344\" y=\"225.535156\"/>\n",
       "  <use xlink:href=\"#glyph0-15\" x=\"349.213867\" y=\"225.535156\"/>\n",
       "  <use xlink:href=\"#glyph0-16\" x=\"355.885742\" y=\"225.535156\"/>\n",
       "  <use xlink:href=\"#glyph0-9\" x=\"366.553711\" y=\"225.535156\"/>\n",
       "  <use xlink:href=\"#glyph0-10\" x=\"369.889648\" y=\"225.535156\"/>\n",
       "  <use xlink:href=\"#glyph0-9\" x=\"376.897461\" y=\"225.535156\"/>\n",
       "  <use xlink:href=\"#glyph0-17\" x=\"380.233398\" y=\"225.535156\"/>\n",
       "  <use xlink:href=\"#glyph0-12\" x=\"386.905273\" y=\"225.535156\"/>\n",
       "  <use xlink:href=\"#glyph0-13\" x=\"390.241211\" y=\"225.535156\"/>\n",
       "</g>\n",
       "<path style=\"fill-rule:nonzero;fill:rgb(100%,100%,100%);fill-opacity:1;stroke-width:0.75;stroke-linecap:round;stroke-linejoin:round;stroke:rgb(0%,0%,0%);stroke-opacity:1;stroke-miterlimit:10;\" d=\"M 93.082031 334.578125 L 93.367188 332.566406 L 94.199219 330.691406 L 95.523438 329.078125 L 97.25 327.84375 L 99.257812 327.066406 L 101.417969 326.800781 L 103.574219 327.066406 L 105.582031 327.84375 L 107.308594 329.078125 L 108.632812 330.691406 L 109.464844 332.566406 L 109.75 334.578125 L 109.75 336.253906 L 109.464844 338.269531 L 108.632812 340.144531 L 107.308594 341.753906 L 105.582031 342.992188 L 103.574219 343.769531 L 101.417969 344.03125 L 99.257812 343.769531 L 97.25 342.992188 L 95.523438 341.753906 L 94.199219 340.144531 L 93.367188 338.269531 L 93.082031 336.253906 Z M 93.082031 334.578125 \"/>\n",
       "<path style=\"fill-rule:nonzero;fill:rgb(100%,100%,100%);fill-opacity:1;stroke-width:0.75;stroke-linecap:round;stroke-linejoin:round;stroke:rgb(0%,0%,0%);stroke-opacity:1;stroke-miterlimit:10;\" d=\"M 142.453125 390.769531 L 142.738281 388.757812 L 143.570312 386.882812 L 144.894531 385.269531 L 146.621094 384.035156 L 148.632812 383.257812 L 150.789062 382.992188 L 152.945312 383.257812 L 154.957031 384.035156 L 156.679688 385.269531 L 158.003906 386.882812 L 158.839844 388.757812 L 159.121094 390.769531 L 159.121094 392.445312 L 158.839844 394.457031 L 158.003906 396.335938 L 156.679688 397.945312 L 154.957031 399.183594 L 152.945312 399.957031 L 150.789062 400.222656 L 148.632812 399.957031 L 146.621094 399.183594 L 144.894531 397.945312 L 143.570312 396.335938 L 142.738281 394.457031 L 142.453125 392.445312 Z M 142.453125 390.769531 \"/>\n",
       "<path style=\"fill-rule:nonzero;fill:rgb(100%,100%,100%);fill-opacity:1;stroke-width:0.75;stroke-linecap:round;stroke-linejoin:round;stroke:rgb(0%,0%,0%);stroke-opacity:1;stroke-miterlimit:10;\" d=\"M 224.742188 390.769531 L 225.023438 388.757812 L 225.855469 386.882812 L 227.179688 385.269531 L 228.90625 384.035156 L 230.917969 383.257812 L 233.074219 382.992188 L 235.230469 383.257812 L 237.242188 384.035156 L 238.96875 385.269531 L 240.292969 386.882812 L 241.125 388.757812 L 241.410156 390.769531 L 241.410156 392.445312 L 241.125 394.457031 L 240.292969 396.335938 L 238.96875 397.945312 L 237.242188 399.183594 L 235.230469 399.957031 L 233.074219 400.222656 L 230.917969 399.957031 L 228.90625 399.183594 L 227.179688 397.945312 L 225.855469 396.335938 L 225.023438 394.457031 L 224.742188 392.445312 Z M 224.742188 390.769531 \"/>\n",
       "<path style=\"fill-rule:nonzero;fill:rgb(100%,100%,100%);fill-opacity:1;stroke-width:0.75;stroke-linecap:round;stroke-linejoin:round;stroke:rgb(0%,0%,0%);stroke-opacity:1;stroke-miterlimit:10;\" d=\"M 229.675781 278.386719 L 229.960938 276.375 L 230.792969 274.5 L 232.117188 272.886719 L 233.84375 271.652344 L 235.855469 270.875 L 238.011719 270.609375 L 240.167969 270.875 L 242.179688 271.652344 L 243.90625 272.886719 L 245.230469 274.5 L 246.0625 276.375 L 246.34375 278.386719 L 246.34375 280.0625 L 246.0625 282.078125 L 245.230469 283.953125 L 243.90625 285.5625 L 242.179688 286.800781 L 240.167969 287.578125 L 238.011719 287.84375 L 235.855469 287.578125 L 233.84375 286.800781 L 232.117188 285.5625 L 230.792969 283.953125 L 229.960938 282.078125 L 229.675781 280.0625 Z M 229.675781 278.386719 \"/>\n",
       "<path style=\"fill-rule:nonzero;fill:rgb(100%,100%,100%);fill-opacity:1;stroke-width:0.75;stroke-linecap:round;stroke-linejoin:round;stroke:rgb(0%,0%,0%);stroke-opacity:1;stroke-miterlimit:10;\" d=\"M 311.964844 278.386719 L 312.246094 276.375 L 313.078125 274.5 L 314.402344 272.886719 L 316.128906 271.652344 L 318.140625 270.875 L 320.296875 270.609375 L 322.453125 270.875 L 324.464844 271.652344 L 326.191406 272.886719 L 327.515625 274.5 L 328.347656 276.375 L 328.632812 278.386719 L 328.632812 280.0625 L 328.347656 282.078125 L 327.515625 283.953125 L 326.191406 285.5625 L 324.464844 286.800781 L 322.453125 287.578125 L 320.296875 287.84375 L 318.140625 287.578125 L 316.128906 286.800781 L 314.402344 285.5625 L 313.078125 283.953125 L 312.246094 282.078125 L 311.964844 280.0625 Z M 311.964844 278.386719 \"/>\n",
       "<path style=\"fill-rule:nonzero;fill:rgb(100%,100%,100%);fill-opacity:1;stroke-width:0.75;stroke-linecap:round;stroke-linejoin:round;stroke:rgb(0%,0%,0%);stroke-opacity:1;stroke-miterlimit:10;\" d=\"M 394.25 278.386719 L 394.535156 276.375 L 395.367188 274.5 L 396.691406 272.886719 L 398.417969 271.652344 L 400.425781 270.875 L 402.582031 270.609375 L 404.742188 270.875 L 406.75 271.652344 L 408.476562 272.886719 L 409.800781 274.5 L 410.632812 276.375 L 410.917969 278.386719 L 410.917969 280.0625 L 410.632812 282.078125 L 409.800781 283.953125 L 408.476562 285.5625 L 406.75 286.800781 L 404.742188 287.578125 L 402.582031 287.84375 L 400.425781 287.578125 L 398.417969 286.800781 L 396.691406 285.5625 L 395.367188 283.953125 L 394.535156 282.078125 L 394.25 280.0625 Z M 394.25 278.386719 \"/>\n",
       "<path style=\"fill-rule:nonzero;fill:rgb(100%,100%,100%);fill-opacity:1;stroke-width:0.75;stroke-linecap:round;stroke-linejoin:round;stroke:rgb(0%,0%,0%);stroke-opacity:1;stroke-miterlimit:10;\" d=\"M 367.753906 166.007812 L 368.039062 163.992188 L 368.871094 162.117188 L 370.195312 160.507812 L 371.921875 159.269531 L 373.929688 158.492188 L 376.085938 158.226562 L 378.246094 158.492188 L 380.253906 159.269531 L 381.980469 160.507812 L 383.304688 162.117188 L 384.136719 163.992188 L 384.421875 166.007812 L 384.421875 167.683594 L 384.136719 169.695312 L 383.304688 171.570312 L 381.980469 173.183594 L 380.253906 174.417969 L 378.246094 175.195312 L 376.085938 175.460938 L 373.929688 175.195312 L 371.921875 174.417969 L 370.195312 173.183594 L 368.871094 171.570312 L 368.039062 169.695312 L 367.753906 167.683594 Z M 367.753906 166.007812 \"/>\n",
       "<g style=\"fill:rgb(0%,0%,0%);fill-opacity:1;\">\n",
       "  <use xlink:href=\"#glyph1-1\" x=\"97.917969\" y=\"339.194336\"/>\n",
       "</g>\n",
       "<g style=\"fill:rgb(0%,0%,0%);fill-opacity:1;\">\n",
       "  <use xlink:href=\"#glyph1-1\" x=\"147.289062\" y=\"395.385742\"/>\n",
       "</g>\n",
       "<g style=\"fill:rgb(0%,0%,0%);fill-opacity:1;\">\n",
       "  <use xlink:href=\"#glyph1-2\" x=\"229.574219\" y=\"395.885742\"/>\n",
       "</g>\n",
       "<g style=\"fill:rgb(0%,0%,0%);fill-opacity:1;\">\n",
       "  <use xlink:href=\"#glyph1-2\" x=\"234.511719\" y=\"283.50293\"/>\n",
       "</g>\n",
       "<g style=\"fill:rgb(0%,0%,0%);fill-opacity:1;\">\n",
       "  <use xlink:href=\"#glyph1-1\" x=\"316.796875\" y=\"283.00293\"/>\n",
       "</g>\n",
       "<g style=\"fill:rgb(0%,0%,0%);fill-opacity:1;\">\n",
       "  <use xlink:href=\"#glyph1-2\" x=\"399.082031\" y=\"283.50293\"/>\n",
       "</g>\n",
       "<g style=\"fill:rgb(0%,0%,0%);fill-opacity:1;\">\n",
       "  <use xlink:href=\"#glyph1-2\" x=\"372.585938\" y=\"171.120117\"/>\n",
       "</g>\n",
       "<path style=\"fill-rule:nonzero;fill:rgb(100%,100%,100%);fill-opacity:1;stroke-width:0.75;stroke-linecap:round;stroke-linejoin:round;stroke:rgb(0%,0%,0%);stroke-opacity:1;stroke-miterlimit:10;\" d=\"M 257.113281 110.113281 L 257.167969 109.695312 L 257.328125 109.308594 L 257.585938 108.972656 L 257.917969 108.714844 L 258.308594 108.554688 L 258.726562 108.5 L 278.535156 108.5 L 278.953125 108.554688 L 279.34375 108.714844 L 279.679688 108.972656 L 279.933594 109.308594 L 280.097656 109.695312 L 280.152344 110.113281 L 280.152344 119.808594 L 280.097656 120.226562 L 279.933594 120.617188 L 279.679688 120.949219 L 279.34375 121.207031 L 278.953125 121.367188 L 278.535156 121.421875 L 258.726562 121.421875 L 258.308594 121.367188 L 257.917969 121.207031 L 257.585938 120.949219 L 257.328125 120.617188 L 257.167969 120.226562 L 257.113281 119.808594 Z M 257.113281 110.113281 \"/>\n",
       "<path style=\"fill-rule:nonzero;fill:rgb(100%,100%,100%);fill-opacity:1;stroke-width:0.75;stroke-linecap:round;stroke-linejoin:round;stroke:rgb(0%,0%,0%);stroke-opacity:1;stroke-miterlimit:10;\" d=\"M 372.828125 110.113281 L 372.882812 109.695312 L 373.042969 109.308594 L 373.300781 108.972656 L 373.636719 108.714844 L 374.023438 108.554688 L 374.441406 108.5 L 394.25 108.5 L 394.671875 108.554688 L 395.058594 108.714844 L 395.394531 108.972656 L 395.652344 109.308594 L 395.8125 109.695312 L 395.867188 110.113281 L 395.867188 119.808594 L 395.8125 120.226562 L 395.652344 120.617188 L 395.394531 120.949219 L 395.058594 121.207031 L 394.671875 121.367188 L 394.25 121.421875 L 374.441406 121.421875 L 374.023438 121.367188 L 373.636719 121.207031 L 373.300781 120.949219 L 373.042969 120.617188 L 372.882812 120.226562 L 372.828125 119.808594 Z M 372.828125 110.113281 \"/>\n",
       "<g style=\"fill:rgb(0%,0%,0%);fill-opacity:1;\">\n",
       "  <use xlink:href=\"#glyph2-1\" x=\"261.132812\" y=\"117.34668\"/>\n",
       "  <use xlink:href=\"#glyph2-2\" x=\"265.594727\" y=\"117.34668\"/>\n",
       "  <use xlink:href=\"#glyph2-3\" x=\"270.928711\" y=\"117.34668\"/>\n",
       "</g>\n",
       "<g style=\"fill:rgb(0%,0%,0%);fill-opacity:1;\">\n",
       "  <use xlink:href=\"#glyph2-4\" x=\"378.847656\" y=\"117.268555\"/>\n",
       "  <use xlink:href=\"#glyph2-5\" x=\"384.181641\" y=\"117.268555\"/>\n",
       "</g>\n",
       "</g>\n",
       "</svg>\n"
      ],
      "text/plain": [
       "plot without title"
      ]
     },
     "metadata": {
      "image/svg+xml": {
       "isolated": true
      }
     },
     "output_type": "display_data"
    }
   ],
   "source": [
    "emailCART = rpart(responsive ~ ., data=train,\n",
    "                  method='class')\n",
    "prp(emailCART)"
   ]
  },
  {
   "cell_type": "code",
   "execution_count": 24,
   "metadata": {
    "collapsed": false
   },
   "outputs": [
    {
     "data": {
      "text/html": [
       "<table>\n",
       "<thead><tr><th></th><th scope=col>0</th><th scope=col>1</th></tr></thead>\n",
       "<tbody>\n",
       "\t<tr><th scope=row>character(0)</th><td>0.2156863</td><td>0.7843137</td></tr>\n",
       "\t<tr><th scope=row>character(0).1</th><td>0.95575221</td><td>0.04424779</td></tr>\n",
       "\t<tr><th scope=row>character(0).2</th><td>0.95575221</td><td>0.04424779</td></tr>\n",
       "\t<tr><th scope=row>character(0).3</th><td>0.8125</td><td>0.1875</td></tr>\n",
       "\t<tr><th scope=row>character(0).4</th><td>0.4</td><td>0.6</td></tr>\n",
       "\t<tr><th scope=row>character(0).5</th><td>0.95575221</td><td>0.04424779</td></tr>\n",
       "\t<tr><th scope=row>character(0).6</th><td>0.95575221</td><td>0.04424779</td></tr>\n",
       "\t<tr><th scope=row>character(0).7</th><td>0.95575221</td><td>0.04424779</td></tr>\n",
       "\t<tr><th scope=row>character(0).8</th><td>0.125</td><td>0.875</td></tr>\n",
       "\t<tr><th scope=row>character(0).9</th><td>0.125</td><td>0.875</td></tr>\n",
       "</tbody>\n",
       "</table>\n"
      ],
      "text/latex": [
       "\\begin{tabular}{r|ll}\n",
       "  & 0 & 1\\\\\n",
       "\\hline\n",
       "\tcharacter(0) & 0.2156863 & 0.7843137\\\\\n",
       "\tcharacter(0).1 & 0.95575221 & 0.04424779\\\\\n",
       "\tcharacter(0).2 & 0.95575221 & 0.04424779\\\\\n",
       "\tcharacter(0).3 & 0.8125 & 0.1875\\\\\n",
       "\tcharacter(0).4 & 0.4 & 0.6\\\\\n",
       "\tcharacter(0).5 & 0.95575221 & 0.04424779\\\\\n",
       "\tcharacter(0).6 & 0.95575221 & 0.04424779\\\\\n",
       "\tcharacter(0).7 & 0.95575221 & 0.04424779\\\\\n",
       "\tcharacter(0).8 & 0.125 & 0.875\\\\\n",
       "\tcharacter(0).9 & 0.125 & 0.875\\\\\n",
       "\\end{tabular}\n"
      ],
      "text/markdown": [
       "1. 0.215686274509804\n",
       "2. 0.955752212389381\n",
       "3. 0.955752212389381\n",
       "4. 0.8125\n",
       "5. 0.4\n",
       "6. 0.955752212389381\n",
       "7. 0.955752212389381\n",
       "8. 0.955752212389381\n",
       "9. 0.125\n",
       "10. 0.125\n",
       "11. 0.784313725490196\n",
       "12. 0.0442477876106195\n",
       "13. 0.0442477876106195\n",
       "14. 0.1875\n",
       "15. 0.6\n",
       "16. 0.0442477876106195\n",
       "17. 0.0442477876106195\n",
       "18. 0.0442477876106195\n",
       "19. 0.875\n",
       "20. 0.875\n",
       "\n",
       "\n"
      ],
      "text/plain": [
       "                       0          1\n",
       "character(0)   0.2156863 0.78431373\n",
       "character(0).1 0.9557522 0.04424779\n",
       "character(0).2 0.9557522 0.04424779\n",
       "character(0).3 0.8125000 0.18750000\n",
       "character(0).4 0.4000000 0.60000000\n",
       "character(0).5 0.9557522 0.04424779\n",
       "character(0).6 0.9557522 0.04424779\n",
       "character(0).7 0.9557522 0.04424779\n",
       "character(0).8 0.1250000 0.87500000\n",
       "character(0).9 0.1250000 0.87500000"
      ]
     },
     "metadata": {},
     "output_type": "display_data"
    }
   ],
   "source": [
    "pred = predict(emailCART, newdata=test)\n",
    "pred[1:10, ]"
   ]
  },
  {
   "cell_type": "code",
   "execution_count": 25,
   "metadata": {
    "collapsed": true
   },
   "outputs": [],
   "source": [
    "pred.prob = pred[,2]"
   ]
  },
  {
   "cell_type": "code",
   "execution_count": 26,
   "metadata": {
    "collapsed": false
   },
   "outputs": [
    {
     "data": {
      "text/plain": [
       "   \n",
       "    FALSE TRUE\n",
       "  0   195   20\n",
       "  1    17   25"
      ]
     },
     "metadata": {},
     "output_type": "display_data"
    }
   ],
   "source": [
    "table(test$responsive, pred.prob >= 0.5)"
   ]
  },
  {
   "cell_type": "code",
   "execution_count": 27,
   "metadata": {
    "collapsed": false
   },
   "outputs": [
    {
     "data": {
      "text/html": [
       "0.856031128404669"
      ],
      "text/latex": [
       "0.856031128404669"
      ],
      "text/markdown": [
       "0.856031128404669"
      ],
      "text/plain": [
       "[1] 0.8560311"
      ]
     },
     "metadata": {},
     "output_type": "display_data"
    }
   ],
   "source": [
    "# Accuracy\n",
    "(195+25)/(195+20+17+25)"
   ]
  },
  {
   "cell_type": "code",
   "execution_count": 28,
   "metadata": {
    "collapsed": false
   },
   "outputs": [
    {
     "data": {
      "text/plain": [
       "\n",
       "  0   1 \n",
       "215  42 "
      ]
     },
     "metadata": {},
     "output_type": "display_data"
    }
   ],
   "source": [
    "table(test$responsive)"
   ]
  },
  {
   "cell_type": "code",
   "execution_count": 30,
   "metadata": {
    "collapsed": false
   },
   "outputs": [
    {
     "data": {
      "text/html": [
       "0.836575875486381"
      ],
      "text/latex": [
       "0.836575875486381"
      ],
      "text/markdown": [
       "0.836575875486381"
      ],
      "text/plain": [
       "[1] 0.8365759"
      ]
     },
     "metadata": {},
     "output_type": "display_data"
    }
   ],
   "source": [
    "# Baseline model\n",
    "215/(215+42)"
   ]
  },
  {
   "cell_type": "code",
   "execution_count": null,
   "metadata": {
    "collapsed": true
   },
   "outputs": [],
   "source": []
  }
 ],
 "metadata": {
  "kernelspec": {
   "display_name": "R",
   "language": "R",
   "name": "ir"
  },
  "language_info": {
   "codemirror_mode": "r",
   "file_extension": ".r",
   "mimetype": "text/x-r-source",
   "name": "R",
   "pygments_lexer": "r",
   "version": "3.3.0"
  }
 },
 "nbformat": 4,
 "nbformat_minor": 0
}
