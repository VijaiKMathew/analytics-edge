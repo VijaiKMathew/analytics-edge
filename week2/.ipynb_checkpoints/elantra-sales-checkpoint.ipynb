{
 "cells": [
  {
   "cell_type": "code",
   "execution_count": 1,
   "metadata": {
    "collapsed": false
   },
   "outputs": [
    {
     "data": {
      "text/html": [
       "'LC_CTYPE=C;LC_NUMERIC=C;LC_TIME=C;LC_COLLATE=C;LC_MONETARY=C;LC_MESSAGES=en_US.UTF-8;LC_PAPER=en_US.UTF-8;LC_NAME=C;LC_ADDRESS=C;LC_TELEPHONE=C;LC_MEASUREMENT=en_US.UTF-8;LC_IDENTIFICATION=C'"
      ],
      "text/latex": [
       "'LC_CTYPE=C;LC_NUMERIC=C;LC_TIME=C;LC_COLLATE=C;LC_MONETARY=C;LC_MESSAGES=en_US.UTF-8;LC_PAPER=en_US.UTF-8;LC_NAME=C;LC_ADDRESS=C;LC_TELEPHONE=C;LC_MEASUREMENT=en_US.UTF-8;LC_IDENTIFICATION=C'"
      ],
      "text/markdown": [
       "'LC_CTYPE=C;LC_NUMERIC=C;LC_TIME=C;LC_COLLATE=C;LC_MONETARY=C;LC_MESSAGES=en_US.UTF-8;LC_PAPER=en_US.UTF-8;LC_NAME=C;LC_ADDRESS=C;LC_TELEPHONE=C;LC_MEASUREMENT=en_US.UTF-8;LC_IDENTIFICATION=C'"
      ],
      "text/plain": [
       "[1] \"LC_CTYPE=C;LC_NUMERIC=C;LC_TIME=C;LC_COLLATE=C;LC_MONETARY=C;LC_MESSAGES=en_US.UTF-8;LC_PAPER=en_US.UTF-8;LC_NAME=C;LC_ADDRESS=C;LC_TELEPHONE=C;LC_MEASUREMENT=en_US.UTF-8;LC_IDENTIFICATION=C\""
      ]
     },
     "execution_count": 1,
     "metadata": {},
     "output_type": "execute_result"
    }
   ],
   "source": [
    "options(device=pdf) # turn off flashy window on each block execution\n",
    "# options(repr.plot.width=6, repr.plot.height=4)\n",
    "Sys.setlocale(\"LC_ALL\", \"C\")\n",
    "initialWidth = getOption('width')\n",
    "options(width=80) # for old folks like me who can't see shit and set font large|"
   ]
  },
  {
   "cell_type": "code",
   "execution_count": 3,
   "metadata": {
    "collapsed": false
   },
   "outputs": [
    {
     "data": {
      "text/plain": [
       "     Month           Year       ElantraSales    Unemployment      Queries     \n",
       " Min.   : 1.0   Min.   :2010   Min.   : 7690   Min.   :6.600   Min.   :130.0  \n",
       " 1st Qu.: 3.0   1st Qu.:2011   1st Qu.:12560   1st Qu.:7.725   1st Qu.:224.8  \n",
       " Median : 6.0   Median :2012   Median :15624   Median :8.250   Median :262.5  \n",
       " Mean   : 6.3   Mean   :2012   Mean   :16005   Mean   :8.422   Mean   :263.5  \n",
       " 3rd Qu.: 9.0   3rd Qu.:2013   3rd Qu.:19197   3rd Qu.:9.100   3rd Qu.:311.0  \n",
       " Max.   :12.0   Max.   :2014   Max.   :26153   Max.   :9.900   Max.   :427.0  \n",
       "   CPI_energy       CPI_all     \n",
       " Min.   :204.2   Min.   :217.3  \n",
       " 1st Qu.:230.1   1st Qu.:221.3  \n",
       " Median :244.4   Median :227.9  \n",
       " Mean   :236.9   Mean   :226.7  \n",
       " 3rd Qu.:247.1   3rd Qu.:231.7  \n",
       " Max.   :256.4   Max.   :235.2  "
      ]
     },
     "execution_count": 3,
     "metadata": {},
     "output_type": "execute_result"
    },
    {
     "name": "stdout",
     "output_type": "stream",
     "text": [
      "'data.frame':\t50 obs. of  7 variables:\n",
      " $ Month       : int  1 1 1 1 1 2 2 2 2 2 ...\n",
      " $ Year        : int  2010 2011 2012 2013 2014 2010 2011 2012 2013 2014 ...\n",
      " $ ElantraSales: int  7690 9659 10900 12174 15326 7966 12289 13820 16219 16393 ...\n",
      " $ Unemployment: num  9.7 9.1 8.2 7.9 6.6 9.8 9 8.3 7.7 6.7 ...\n",
      " $ Queries     : int  153 259 354 230 232 130 266 296 239 240 ...\n",
      " $ CPI_energy  : num  213 229 244 243 248 ...\n",
      " $ CPI_all     : num  217 221 228 231 235 ...\n"
     ]
    }
   ],
   "source": [
    "data = read.csv('data/elantra.csv.xz')\n",
    "summary(data)\n",
    "str(data)"
   ]
  },
  {
   "cell_type": "code",
   "execution_count": 5,
   "metadata": {
    "collapsed": false
   },
   "outputs": [
    {
     "name": "stdout",
     "output_type": "stream",
     "text": [
      "'data.frame':\t36 obs. of  7 variables:\n",
      " $ Month       : int  1 1 1 2 2 2 3 3 3 4 ...\n",
      " $ Year        : int  2010 2011 2012 2010 2011 2012 2010 2011 2012 2010 ...\n",
      " $ ElantraSales: int  7690 9659 10900 7966 12289 13820 8225 19255 19681 9657 ...\n",
      " $ Unemployment: num  9.7 9.1 8.2 9.8 9 8.3 9.9 9 8.2 9.9 ...\n",
      " $ Queries     : int  153 259 354 130 266 296 138 281 303 132 ...\n",
      " $ CPI_energy  : num  213 229 244 210 232 ...\n",
      " $ CPI_all     : num  217 221 228 217 222 ...\n"
     ]
    }
   ],
   "source": [
    "train = subset(data, Year<=2012)\n",
    "test = subset(data, Year>2012)\n",
    "str(train)"
   ]
  },
  {
   "cell_type": "code",
   "execution_count": 8,
   "metadata": {
    "collapsed": false
   },
   "outputs": [
    {
     "data": {
      "text/plain": [
       "\n",
       "Call:\n",
       "lm(formula = ElantraSales ~ Unemployment + CPI_all + CPI_energy + \n",
       "    Queries, data = train)\n",
       "\n",
       "Residuals:\n",
       "    Min      1Q  Median      3Q     Max \n",
       "-6785.2 -2101.8  -562.5  2901.7  7021.0 \n",
       "\n",
       "Coefficients:\n",
       "              Estimate Std. Error t value Pr(>|t|)\n",
       "(Intercept)   95385.36  170663.81   0.559    0.580\n",
       "Unemployment  -3179.90    3610.26  -0.881    0.385\n",
       "CPI_all        -297.65     704.84  -0.422    0.676\n",
       "CPI_energy       38.51     109.60   0.351    0.728\n",
       "Queries          19.03      11.26   1.690    0.101\n",
       "\n",
       "Residual standard error: 3295 on 31 degrees of freedom\n",
       "Multiple R-squared:  0.4282,\tAdjusted R-squared:  0.3544 \n",
       "F-statistic: 5.803 on 4 and 31 DF,  p-value: 0.00132\n"
      ]
     },
     "execution_count": 8,
     "metadata": {},
     "output_type": "execute_result"
    }
   ],
   "source": [
    "model = lm(ElantraSales ~ Unemployment + CPI_all + CPI_energy + Queries, train)\n",
    "summary(model)"
   ]
  },
  {
   "cell_type": "code",
   "execution_count": 9,
   "metadata": {
    "collapsed": false
   },
   "outputs": [
    {
     "data": {
      "text/plain": [
       "\n",
       "Call:\n",
       "lm(formula = ElantraSales ~ Month + Unemployment + CPI_all + \n",
       "    CPI_energy + Queries, data = train)\n",
       "\n",
       "Residuals:\n",
       "    Min      1Q  Median      3Q     Max \n",
       "-6416.6 -2068.7  -597.1  2616.3  7183.2 \n",
       "\n",
       "Coefficients:\n",
       "              Estimate Std. Error t value Pr(>|t|)  \n",
       "(Intercept)  148330.49  195373.51   0.759   0.4536  \n",
       "Month           110.69     191.66   0.578   0.5679  \n",
       "Unemployment  -4137.28    4008.56  -1.032   0.3103  \n",
       "CPI_all        -517.99     808.26  -0.641   0.5265  \n",
       "CPI_energy       54.18     114.08   0.475   0.6382  \n",
       "Queries          21.19      11.98   1.769   0.0871 .\n",
       "---\n",
       "Signif. codes:  0 '***' 0.001 '**' 0.01 '*' 0.05 '.' 0.1 ' ' 1\n",
       "\n",
       "Residual standard error: 3331 on 30 degrees of freedom\n",
       "Multiple R-squared:  0.4344,\tAdjusted R-squared:  0.3402 \n",
       "F-statistic: 4.609 on 5 and 30 DF,  p-value: 0.003078\n"
      ]
     },
     "execution_count": 9,
     "metadata": {},
     "output_type": "execute_result"
    }
   ],
   "source": [
    "model = lm(ElantraSales ~ Month + Unemployment + CPI_all + CPI_energy + Queries, train)\n",
    "summary(model)"
   ]
  },
  {
   "cell_type": "code",
   "execution_count": 11,
   "metadata": {
    "collapsed": false
   },
   "outputs": [
    {
     "data": {
      "text/html": [
       "221.38"
      ],
      "text/latex": [
       "221.38"
      ],
      "text/markdown": [
       "221.38"
      ],
      "text/plain": [
       "[1] 221.38"
      ]
     },
     "execution_count": 11,
     "metadata": {},
     "output_type": "execute_result"
    },
    {
     "data": {
      "text/html": [
       "442.76"
      ],
      "text/latex": [
       "442.76"
      ],
      "text/markdown": [
       "442.76"
      ],
      "text/plain": [
       "[1] 442.76"
      ]
     },
     "execution_count": 11,
     "metadata": {},
     "output_type": "execute_result"
    }
   ],
   "source": [
    "110.69 * 2\n",
    "110.69 * 4"
   ]
  },
  {
   "cell_type": "code",
   "execution_count": 13,
   "metadata": {
    "collapsed": false
   },
   "outputs": [
    {
     "data": {
      "text/plain": [
       "\n",
       "Call:\n",
       "lm(formula = ElantraSales ~ MonthFactor + Unemployment + CPI_all + \n",
       "    CPI_energy + Queries, data = train)\n",
       "\n",
       "Residuals:\n",
       "    Min      1Q  Median      3Q     Max \n",
       "-3865.1 -1211.7   -77.1  1207.5  3562.2 \n",
       "\n",
       "Coefficients:\n",
       "                Estimate Std. Error t value Pr(>|t|)    \n",
       "(Intercept)   312509.280 144061.867   2.169 0.042288 *  \n",
       "MonthFactor2    2254.998   1943.249   1.160 0.259540    \n",
       "MonthFactor3    6696.557   1991.635   3.362 0.003099 ** \n",
       "MonthFactor4    7556.607   2038.022   3.708 0.001392 ** \n",
       "MonthFactor5    7420.249   1950.139   3.805 0.001110 ** \n",
       "MonthFactor6    9215.833   1995.230   4.619 0.000166 ***\n",
       "MonthFactor7    9929.464   2238.800   4.435 0.000254 ***\n",
       "MonthFactor8    7939.447   2064.629   3.845 0.001010 ** \n",
       "MonthFactor9    5013.287   2010.745   2.493 0.021542 *  \n",
       "MonthFactor10   2500.184   2084.057   1.200 0.244286    \n",
       "MonthFactor11   3238.932   2397.231   1.351 0.191747    \n",
       "MonthFactor12   5293.911   2228.310   2.376 0.027621 *  \n",
       "Unemployment   -7739.381   2968.747  -2.607 0.016871 *  \n",
       "CPI_all        -1343.307    592.919  -2.266 0.034732 *  \n",
       "CPI_energy       288.631     97.974   2.946 0.007988 ** \n",
       "Queries           -4.764     12.938  -0.368 0.716598    \n",
       "---\n",
       "Signif. codes:  0 '***' 0.001 '**' 0.01 '*' 0.05 '.' 0.1 ' ' 1\n",
       "\n",
       "Residual standard error: 2306 on 20 degrees of freedom\n",
       "Multiple R-squared:  0.8193,\tAdjusted R-squared:  0.6837 \n",
       "F-statistic: 6.044 on 15 and 20 DF,  p-value: 0.0001469\n"
      ]
     },
     "execution_count": 13,
     "metadata": {},
     "output_type": "execute_result"
    }
   ],
   "source": [
    "train$MonthFactor = as.factor(train$Month)\n",
    "test$MonthFactor = as.factor(test$Month)\n",
    "model = lm(ElantraSales ~ MonthFactor + Unemployment + CPI_all + CPI_energy + Queries,\n",
    "           train)\n",
    "summary(model)"
   ]
  },
  {
   "cell_type": "code",
   "execution_count": 21,
   "metadata": {
    "collapsed": false
   },
   "outputs": [
    {
     "data": {
      "text/html": [
       "<table>\n",
       "<thead><tr><th></th><th scope=col>Month</th><th scope=col>Year</th><th scope=col>ElantraSales</th><th scope=col>Unemployment</th><th scope=col>Queries</th><th scope=col>CPI_energy</th><th scope=col>CPI_all</th></tr></thead>\n",
       "<tbody>\n",
       "\t<tr><th scope=row>Month</th><td> 1.0000000</td><td> 0.0000000</td><td> 0.1097945</td><td>-0.2036029</td><td> 0.0158443</td><td> 0.1760198</td><td> 0.2667883</td></tr>\n",
       "\t<tr><th scope=row>Year</th><td> 0.0000000</td><td> 1.0000000</td><td> 0.5872737</td><td>-0.9587459</td><td> 0.7265310</td><td> 0.8316052</td><td> 0.9485847</td></tr>\n",
       "\t<tr><th scope=row>ElantraSales</th><td> 0.1097945</td><td> 0.5872737</td><td> 1.0000000</td><td>-0.5671458</td><td> 0.6100645</td><td> 0.5916491</td><td> 0.5936217</td></tr>\n",
       "\t<tr><th scope=row>Unemployment</th><td>-0.2036029</td><td>-0.9587459</td><td>-0.5671458</td><td> 1.0000000</td><td>-0.6411093</td><td>-0.8007188</td><td>-0.9562123</td></tr>\n",
       "\t<tr><th scope=row>Queries</th><td> 0.0158443</td><td> 0.7265310</td><td> 0.6100645</td><td>-0.6411093</td><td> 1.0000000</td><td> 0.8328381</td><td> 0.7536732</td></tr>\n",
       "\t<tr><th scope=row>CPI_energy</th><td> 0.1760198</td><td> 0.8316052</td><td> 0.5916491</td><td>-0.8007188</td><td> 0.8328381</td><td> 1.0000000</td><td> 0.9132259</td></tr>\n",
       "\t<tr><th scope=row>CPI_all</th><td> 0.2667883</td><td> 0.9485847</td><td> 0.5936217</td><td>-0.9562123</td><td> 0.7536732</td><td> 0.9132259</td><td> 1.0000000</td></tr>\n",
       "</tbody>\n",
       "</table>\n"
      ],
      "text/latex": [
       "\\begin{tabular}{r|lllllll}\n",
       "  & Month & Year & ElantraSales & Unemployment & Queries & CPI_energy & CPI_all\\\\\n",
       "\\hline\n",
       "\tMonth &  1.0000000 &  0.0000000 &  0.1097945 & -0.2036029 &  0.0158443 &  0.1760198 &  0.2667883\\\\\n",
       "\tYear &  0.0000000 &  1.0000000 &  0.5872737 & -0.9587459 &  0.7265310 &  0.8316052 &  0.9485847\\\\\n",
       "\tElantraSales &  0.1097945 &  0.5872737 &  1.0000000 & -0.5671458 &  0.6100645 &  0.5916491 &  0.5936217\\\\\n",
       "\tUnemployment & -0.2036029 & -0.9587459 & -0.5671458 &  1.0000000 & -0.6411093 & -0.8007188 & -0.9562123\\\\\n",
       "\tQueries &  0.0158443 &  0.7265310 &  0.6100645 & -0.6411093 &  1.0000000 &  0.8328381 &  0.7536732\\\\\n",
       "\tCPI_energy &  0.1760198 &  0.8316052 &  0.5916491 & -0.8007188 &  0.8328381 &  1.0000000 &  0.9132259\\\\\n",
       "\tCPI_all &  0.2667883 &  0.9485847 &  0.5936217 & -0.9562123 &  0.7536732 &  0.9132259 &  1.0000000\\\\\n",
       "\\end{tabular}\n"
      ],
      "text/markdown": [
       "1. 1\n",
       "2. 0\n",
       "3. 0.109794537466417\n",
       "4. -0.203602929854854\n",
       "5. 0.0158442958744591\n",
       "6. 0.176019820659522\n",
       "7. 0.266788276018981\n",
       "8. 0\n",
       "9. 1\n",
       "10. 0.587273725003621\n",
       "11. -0.958745903967607\n",
       "12. 0.726530964335972\n",
       "13. 0.831605207039199\n",
       "14. 0.948584719056229\n",
       "15. 0.109794537466417\n",
       "16. 0.587273725003621\n",
       "17. 1\n",
       "18. -0.567145839318754\n",
       "19. 0.610064527227816\n",
       "20. 0.591649091457123\n",
       "21. 0.59362171433468\n",
       "22. -0.203602929854854\n",
       "23. -0.958745903967607\n",
       "24. -0.567145839318754\n",
       "25. 1\n",
       "26. -0.64110929103393\n",
       "27. -0.800718807452179\n",
       "28. -0.956212267300234\n",
       "29. 0.0158442958744591\n",
       "30. 0.726530964335972\n",
       "31. 0.610064527227816\n",
       "32. -0.64110929103393\n",
       "33. 1\n",
       "34. 0.832838105860978\n",
       "35. 0.753673236250151\n",
       "36. 0.176019820659522\n",
       "37. 0.831605207039199\n",
       "38. 0.591649091457123\n",
       "39. -0.800718807452179\n",
       "40. 0.832838105860978\n",
       "41. 1\n",
       "42. 0.913225909008234\n",
       "43. 0.266788276018981\n",
       "44. 0.948584719056229\n",
       "45. 0.59362171433468\n",
       "46. -0.956212267300234\n",
       "47. 0.753673236250151\n",
       "48. 0.913225909008234\n",
       "49. 1\n",
       "\n",
       "\n"
      ],
      "text/plain": [
       "                  Month       Year ElantraSales Unemployment    Queries\n",
       "Month         1.0000000  0.0000000    0.1097945   -0.2036029  0.0158443\n",
       "Year          0.0000000  1.0000000    0.5872737   -0.9587459  0.7265310\n",
       "ElantraSales  0.1097945  0.5872737    1.0000000   -0.5671458  0.6100645\n",
       "Unemployment -0.2036029 -0.9587459   -0.5671458    1.0000000 -0.6411093\n",
       "Queries       0.0158443  0.7265310    0.6100645   -0.6411093  1.0000000\n",
       "CPI_energy    0.1760198  0.8316052    0.5916491   -0.8007188  0.8328381\n",
       "CPI_all       0.2667883  0.9485847    0.5936217   -0.9562123  0.7536732\n",
       "             CPI_energy    CPI_all\n",
       "Month         0.1760198  0.2667883\n",
       "Year          0.8316052  0.9485847\n",
       "ElantraSales  0.5916491  0.5936217\n",
       "Unemployment -0.8007188 -0.9562123\n",
       "Queries       0.8328381  0.7536732\n",
       "CPI_energy    1.0000000  0.9132259\n",
       "CPI_all       0.9132259  1.0000000"
      ]
     },
     "execution_count": 21,
     "metadata": {},
     "output_type": "execute_result"
    }
   ],
   "source": [
    "cor(subset(train, select=-MonthFactor))"
   ]
  },
  {
   "cell_type": "code",
   "execution_count": 23,
   "metadata": {
    "collapsed": false
   },
   "outputs": [
    {
     "data": {
      "text/plain": [
       "\n",
       "Call:\n",
       "lm(formula = ElantraSales ~ MonthFactor + Unemployment + CPI_all + \n",
       "    CPI_energy, data = train)\n",
       "\n",
       "Residuals:\n",
       "    Min      1Q  Median      3Q     Max \n",
       "-3866.0 -1283.3  -107.2  1098.3  3650.1 \n",
       "\n",
       "Coefficients:\n",
       "               Estimate Std. Error t value Pr(>|t|)    \n",
       "(Intercept)   325709.15  136627.85   2.384 0.026644 *  \n",
       "MonthFactor2    2410.91    1857.10   1.298 0.208292    \n",
       "MonthFactor3    6880.09    1888.15   3.644 0.001517 ** \n",
       "MonthFactor4    7697.36    1960.21   3.927 0.000774 ***\n",
       "MonthFactor5    7444.64    1908.48   3.901 0.000823 ***\n",
       "MonthFactor6    9223.13    1953.64   4.721 0.000116 ***\n",
       "MonthFactor7    9602.72    2012.66   4.771 0.000103 ***\n",
       "MonthFactor8    7919.50    2020.99   3.919 0.000789 ***\n",
       "MonthFactor9    5074.29    1962.23   2.586 0.017237 *  \n",
       "MonthFactor10   2724.24    1951.78   1.396 0.177366    \n",
       "MonthFactor11   3665.08    2055.66   1.783 0.089062 .  \n",
       "MonthFactor12   5643.19    1974.36   2.858 0.009413 ** \n",
       "Unemployment   -7971.34    2840.79  -2.806 0.010586 *  \n",
       "CPI_all        -1377.58     573.39  -2.403 0.025610 *  \n",
       "CPI_energy       268.03      78.75   3.403 0.002676 ** \n",
       "---\n",
       "Signif. codes:  0 '***' 0.001 '**' 0.01 '*' 0.05 '.' 0.1 ' ' 1\n",
       "\n",
       "Residual standard error: 2258 on 21 degrees of freedom\n",
       "Multiple R-squared:  0.818,\tAdjusted R-squared:  0.6967 \n",
       "F-statistic: 6.744 on 14 and 21 DF,  p-value: 5.73e-05\n"
      ]
     },
     "execution_count": 23,
     "metadata": {},
     "output_type": "execute_result"
    }
   ],
   "source": [
    "model = lm(ElantraSales ~ MonthFactor + Unemployment + CPI_all + CPI_energy,\n",
    "           train)\n",
    "summary(model)"
   ]
  },
  {
   "cell_type": "code",
   "execution_count": 29,
   "metadata": {
    "collapsed": false
   },
   "outputs": [
    {
     "data": {
      "text/html": [
       "190757747.444358"
      ],
      "text/latex": [
       "190757747.444358"
      ],
      "text/markdown": [
       "190757747.444358"
      ],
      "text/plain": [
       "[1] 190757747"
      ]
     },
     "execution_count": 29,
     "metadata": {},
     "output_type": "execute_result"
    },
    {
     "data": {
      "text/html": [
       "14462.25"
      ],
      "text/latex": [
       "14462.25"
      ],
      "text/markdown": [
       "14462.25"
      ],
      "text/plain": [
       "[1] 14462.25"
      ]
     },
     "execution_count": 29,
     "metadata": {},
     "output_type": "execute_result"
    },
    {
     "data": {
      "text/html": [
       "0.728023227629065"
      ],
      "text/latex": [
       "0.728023227629065"
      ],
      "text/markdown": [
       "0.728023227629065"
      ],
      "text/plain": [
       "[1] 0.7280232"
      ]
     },
     "execution_count": 29,
     "metadata": {},
     "output_type": "execute_result"
    },
    {
     "data": {
      "text/html": [
       "7491.48769271163"
      ],
      "text/latex": [
       "7491.48769271163"
      ],
      "text/markdown": [
       "7491.48769271163"
      ],
      "text/plain": [
       "[1] 7491.488"
      ]
     },
     "execution_count": 29,
     "metadata": {},
     "output_type": "execute_result"
    }
   ],
   "source": [
    "predictions = predict(model, newdata=test)\n",
    "SSE = sum((predictions - test$ElantraSales)^2)\n",
    "SSE\n",
    "baseline = mean(train$ElantraSales)\n",
    "baseline\n",
    "SST = sum((baseline - test$ElantraSales)^2)\n",
    "R2 = 1 - SSE/SST\n",
    "R2\n",
    "abs_errors = abs(predictions - test$ElantraSales)\n",
    "max(abs_errors)"
   ]
  },
  {
   "cell_type": "code",
   "execution_count": 34,
   "metadata": {
    "collapsed": false
   },
   "outputs": [
    {
     "data": {
      "text/html": [
       "<table>\n",
       "<thead><tr><th></th><th scope=col>abs_errors</th><th scope=col>Month</th><th scope=col>Year</th><th scope=col>ElantraSales</th><th scope=col>Unemployment</th><th scope=col>Queries</th><th scope=col>CPI_energy</th><th scope=col>CPI_all</th><th scope=col>MonthFactor</th></tr></thead>\n",
       "<tbody>\n",
       "\t<tr><th scope=row>14</th><td>7491.488</td><td>3</td><td>2013</td><td>26153</td><td>7.5</td><td>313</td><td>244.598</td><td>232.075</td><td>3</td></tr>\n",
       "\t<tr><th scope=row>22</th><td>6903.308</td><td>5</td><td>2013</td><td>25090</td><td>7.5</td><td>252</td><td>240.972</td><td>232.124</td><td>5</td></tr>\n",
       "\t<tr><th scope=row>18</th><td>5997.222</td><td>4</td><td>2013</td><td>24445</td><td>7.5</td><td>248</td><td>238.86</td><td>231.707</td><td>4</td></tr>\n",
       "\t<tr><th scope=row>34</th><td>4392.928</td><td>8</td><td>2013</td><td>24700</td><td>7.2</td><td>271</td><td>244.917</td><td>233.433</td><td>8</td></tr>\n",
       "\t<tr><th scope=row>4</th><td>3088.659</td><td>1</td><td>2013</td><td>12174</td><td>7.9</td><td>230</td><td>242.56</td><td>231.321</td><td>1</td></tr>\n",
       "\t<tr><th scope=row>38</th><td>2482.235</td><td>9</td><td>2013</td><td>19691</td><td>7.2</td><td>298</td><td>245.566</td><td>233.743</td><td>9</td></tr>\n",
       "\t<tr><th scope=row>30</th><td>2245.054</td><td>7</td><td>2013</td><td>23958</td><td>7.3</td><td>274</td><td>245.926</td><td>233.252</td><td>7</td></tr>\n",
       "\t<tr><th scope=row>9</th><td>2187.553</td><td>2</td><td>2013</td><td>16219</td><td>7.7</td><td>239</td><td>252.639</td><td>232.599</td><td>2</td></tr>\n",
       "\t<tr><th scope=row>26</th><td>2021.665</td><td>6</td><td>2013</td><td>22163</td><td>7.5</td><td>320</td><td>245.412</td><td>232.86</td><td>6</td></tr>\n",
       "\t<tr><th scope=row>50</th><td>934.0051</td><td>12</td><td>2013</td><td>21692</td><td>6.7</td><td>279</td><td>246.189</td><td>234.594</td><td>12</td></tr>\n",
       "\t<tr><th scope=row>42</th><td>658.5309</td><td>10</td><td>2013</td><td>14876</td><td>7.2</td><td>223</td><td>243.374</td><td>233.782</td><td>10</td></tr>\n",
       "\t<tr><th scope=row>46</th><td>631.7978</td><td>11</td><td>2013</td><td>16751</td><td>7</td><td>231</td><td>242.301</td><td>234.033</td><td>11</td></tr>\n",
       "\t<tr><th scope=row>5</th><td>490.4278</td><td>1</td><td>2014</td><td>15326</td><td>6.6</td><td>232</td><td>247.575</td><td>234.933</td><td>1</td></tr>\n",
       "\t<tr><th scope=row>10</th><td>394.2148</td><td>2</td><td>2014</td><td>16393</td><td>6.7</td><td>240</td><td>246.389</td><td>235.169</td><td>2</td></tr>\n",
       "</tbody>\n",
       "</table>\n"
      ],
      "text/latex": [
       "\\begin{tabular}{r|lllllllll}\n",
       "  & abs_errors & Month & Year & ElantraSales & Unemployment & Queries & CPI_energy & CPI_all & MonthFactor\\\\\n",
       "\\hline\n",
       "\t14 & 7491.488 & 3 & 2013 & 26153 & 7.5 & 313 & 244.598 & 232.075 & 3\\\\\n",
       "\t22 & 6903.308 & 5 & 2013 & 25090 & 7.5 & 252 & 240.972 & 232.124 & 5\\\\\n",
       "\t18 & 5997.222 & 4 & 2013 & 24445 & 7.5 & 248 & 238.86 & 231.707 & 4\\\\\n",
       "\t34 & 4392.928 & 8 & 2013 & 24700 & 7.2 & 271 & 244.917 & 233.433 & 8\\\\\n",
       "\t4 & 3088.659 & 1 & 2013 & 12174 & 7.9 & 230 & 242.56 & 231.321 & 1\\\\\n",
       "\t38 & 2482.235 & 9 & 2013 & 19691 & 7.2 & 298 & 245.566 & 233.743 & 9\\\\\n",
       "\t30 & 2245.054 & 7 & 2013 & 23958 & 7.3 & 274 & 245.926 & 233.252 & 7\\\\\n",
       "\t9 & 2187.553 & 2 & 2013 & 16219 & 7.7 & 239 & 252.639 & 232.599 & 2\\\\\n",
       "\t26 & 2021.665 & 6 & 2013 & 22163 & 7.5 & 320 & 245.412 & 232.86 & 6\\\\\n",
       "\t50 & 934.0051 & 12 & 2013 & 21692 & 6.7 & 279 & 246.189 & 234.594 & 12\\\\\n",
       "\t42 & 658.5309 & 10 & 2013 & 14876 & 7.2 & 223 & 243.374 & 233.782 & 10\\\\\n",
       "\t46 & 631.7978 & 11 & 2013 & 16751 & 7 & 231 & 242.301 & 234.033 & 11\\\\\n",
       "\t5 & 490.4278 & 1 & 2014 & 15326 & 6.6 & 232 & 247.575 & 234.933 & 1\\\\\n",
       "\t10 & 394.2148 & 2 & 2014 & 16393 & 6.7 & 240 & 246.389 & 235.169 & 2\\\\\n",
       "\\end{tabular}\n"
      ],
      "text/plain": [
       "   abs_errors Month Year ElantraSales Unemployment Queries CPI_energy CPI_all\n",
       "14  7491.4877     3 2013        26153          7.5     313    244.598 232.075\n",
       "22  6903.3078     5 2013        25090          7.5     252    240.972 232.124\n",
       "18  5997.2221     4 2013        24445          7.5     248    238.860 231.707\n",
       "34  4392.9279     8 2013        24700          7.2     271    244.917 233.433\n",
       "4   3088.6588     1 2013        12174          7.9     230    242.560 231.321\n",
       "38  2482.2349     9 2013        19691          7.2     298    245.566 233.743\n",
       "30  2245.0544     7 2013        23958          7.3     274    245.926 233.252\n",
       "9   2187.5530     2 2013        16219          7.7     239    252.639 232.599\n",
       "26  2021.6654     6 2013        22163          7.5     320    245.412 232.860\n",
       "50   934.0051    12 2013        21692          6.7     279    246.189 234.594\n",
       "42   658.5309    10 2013        14876          7.2     223    243.374 233.782\n",
       "46   631.7978    11 2013        16751          7.0     231    242.301 234.033\n",
       "5    490.4278     1 2014        15326          6.6     232    247.575 234.933\n",
       "10   394.2148     2 2014        16393          6.7     240    246.389 235.169\n",
       "   MonthFactor\n",
       "14           3\n",
       "22           5\n",
       "18           4\n",
       "34           8\n",
       "4            1\n",
       "38           9\n",
       "30           7\n",
       "9            2\n",
       "26           6\n",
       "50          12\n",
       "42          10\n",
       "46          11\n",
       "5            1\n",
       "10           2"
      ]
     },
     "execution_count": 34,
     "metadata": {},
     "output_type": "execute_result"
    }
   ],
   "source": [
    "t = cbind(abs_errors, test)\n",
    "#t\n",
    "t[with(t, order(-abs_errors)), ]"
   ]
  },
  {
   "cell_type": "code",
   "execution_count": null,
   "metadata": {
    "collapsed": true
   },
   "outputs": [],
   "source": []
  }
 ],
 "metadata": {
  "kernelspec": {
   "display_name": "R",
   "language": "R",
   "name": "ir"
  },
  "language_info": {
   "codemirror_mode": "r",
   "file_extension": ".r",
   "mimetype": "text/x-r-source",
   "name": "R",
   "pygments_lexer": "r",
   "version": "3.2.4"
  }
 },
 "nbformat": 4,
 "nbformat_minor": 0
}
